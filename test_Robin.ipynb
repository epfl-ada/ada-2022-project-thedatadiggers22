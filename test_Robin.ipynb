{
 "cells": [
  {
   "cell_type": "markdown",
   "metadata": {},
   "source": [
    "# Test Robin"
   ]
  },
  {
   "cell_type": "code",
   "execution_count": 17,
   "metadata": {},
   "outputs": [],
   "source": [
    "import pandas as pd\n",
    "import os\n",
    "import gzip\n",
    "import json\n",
    "import pickle\n",
    "import numpy as np\n",
    "import matplotlib.pyplot as plt\n",
    "import seaborn as sn\n",
    "import requests\n",
    "import datetime\n",
    "from scipy import stats\n",
    "from load_helper_CoronaWiki import *"
   ]
  },
  {
   "cell_type": "code",
   "execution_count": 18,
   "metadata": {},
   "outputs": [],
   "source": [
    "data_path = \"data/\""
   ]
  },
  {
   "cell_type": "code",
   "execution_count": 19,
   "metadata": {},
   "outputs": [],
   "source": [
    "df_topics = pd.read_csv(data_path + \"topics_linked.csv\")"
   ]
  },
  {
   "cell_type": "code",
   "execution_count": 20,
   "metadata": {},
   "outputs": [
    {
     "data": {
      "text/html": [
       "<div>\n",
       "<style scoped>\n",
       "    .dataframe tbody tr th:only-of-type {\n",
       "        vertical-align: middle;\n",
       "    }\n",
       "\n",
       "    .dataframe tbody tr th {\n",
       "        vertical-align: top;\n",
       "    }\n",
       "\n",
       "    .dataframe thead th {\n",
       "        text-align: right;\n",
       "    }\n",
       "</style>\n",
       "<table border=\"1\" class=\"dataframe\">\n",
       "  <thead>\n",
       "    <tr style=\"text-align: right;\">\n",
       "      <th></th>\n",
       "      <th>index</th>\n",
       "      <th>Geography.Regions.Asia.Central Asia</th>\n",
       "      <th>Geography.Regions.Europe.Eastern Europe</th>\n",
       "      <th>History and Society.Military and warfare</th>\n",
       "      <th>Culture.Media.Television</th>\n",
       "      <th>History and Society.Education</th>\n",
       "      <th>Culture.Media.Books</th>\n",
       "      <th>Geography.Regions.Africa.Africa*</th>\n",
       "      <th>Culture.Visual arts.Architecture</th>\n",
       "      <th>Culture.Biography.Women</th>\n",
       "      <th>...</th>\n",
       "      <th>Geography.Regions.Asia.West Asia</th>\n",
       "      <th>STEM.Chemistry</th>\n",
       "      <th>Geography.Regions.Europe.Northern Europe</th>\n",
       "      <th>Culture.Media.Video games</th>\n",
       "      <th>Geography.Regions.Asia.Southeast Asia</th>\n",
       "      <th>Culture.Media.Entertainment</th>\n",
       "      <th>Culture.Media.Music</th>\n",
       "      <th>Geography.Regions.Asia.Asia*</th>\n",
       "      <th>Geography.Regions.Asia.North Asia</th>\n",
       "      <th>qid</th>\n",
       "    </tr>\n",
       "  </thead>\n",
       "  <tbody>\n",
       "    <tr>\n",
       "      <th>0</th>\n",
       "      <td>Rosmalen</td>\n",
       "      <td>False</td>\n",
       "      <td>False</td>\n",
       "      <td>False</td>\n",
       "      <td>False</td>\n",
       "      <td>False</td>\n",
       "      <td>False</td>\n",
       "      <td>False</td>\n",
       "      <td>False</td>\n",
       "      <td>False</td>\n",
       "      <td>...</td>\n",
       "      <td>False</td>\n",
       "      <td>False</td>\n",
       "      <td>False</td>\n",
       "      <td>False</td>\n",
       "      <td>False</td>\n",
       "      <td>False</td>\n",
       "      <td>False</td>\n",
       "      <td>False</td>\n",
       "      <td>False</td>\n",
       "      <td>Q2001490</td>\n",
       "    </tr>\n",
       "    <tr>\n",
       "      <th>1</th>\n",
       "      <td>Commelinales</td>\n",
       "      <td>False</td>\n",
       "      <td>False</td>\n",
       "      <td>False</td>\n",
       "      <td>False</td>\n",
       "      <td>False</td>\n",
       "      <td>False</td>\n",
       "      <td>False</td>\n",
       "      <td>False</td>\n",
       "      <td>False</td>\n",
       "      <td>...</td>\n",
       "      <td>False</td>\n",
       "      <td>False</td>\n",
       "      <td>False</td>\n",
       "      <td>False</td>\n",
       "      <td>False</td>\n",
       "      <td>False</td>\n",
       "      <td>False</td>\n",
       "      <td>False</td>\n",
       "      <td>False</td>\n",
       "      <td>Q290349</td>\n",
       "    </tr>\n",
       "    <tr>\n",
       "      <th>2</th>\n",
       "      <td>Transport_in_Honduras</td>\n",
       "      <td>False</td>\n",
       "      <td>False</td>\n",
       "      <td>False</td>\n",
       "      <td>False</td>\n",
       "      <td>False</td>\n",
       "      <td>False</td>\n",
       "      <td>False</td>\n",
       "      <td>False</td>\n",
       "      <td>False</td>\n",
       "      <td>...</td>\n",
       "      <td>False</td>\n",
       "      <td>False</td>\n",
       "      <td>False</td>\n",
       "      <td>False</td>\n",
       "      <td>False</td>\n",
       "      <td>False</td>\n",
       "      <td>False</td>\n",
       "      <td>False</td>\n",
       "      <td>False</td>\n",
       "      <td>Q1130638</td>\n",
       "    </tr>\n",
       "    <tr>\n",
       "      <th>3</th>\n",
       "      <td>QuakeC</td>\n",
       "      <td>False</td>\n",
       "      <td>False</td>\n",
       "      <td>False</td>\n",
       "      <td>False</td>\n",
       "      <td>False</td>\n",
       "      <td>False</td>\n",
       "      <td>False</td>\n",
       "      <td>False</td>\n",
       "      <td>False</td>\n",
       "      <td>...</td>\n",
       "      <td>False</td>\n",
       "      <td>False</td>\n",
       "      <td>False</td>\n",
       "      <td>False</td>\n",
       "      <td>False</td>\n",
       "      <td>False</td>\n",
       "      <td>False</td>\n",
       "      <td>False</td>\n",
       "      <td>False</td>\n",
       "      <td>Q2122062</td>\n",
       "    </tr>\n",
       "    <tr>\n",
       "      <th>4</th>\n",
       "      <td>Food_writing</td>\n",
       "      <td>False</td>\n",
       "      <td>False</td>\n",
       "      <td>False</td>\n",
       "      <td>False</td>\n",
       "      <td>False</td>\n",
       "      <td>False</td>\n",
       "      <td>False</td>\n",
       "      <td>False</td>\n",
       "      <td>False</td>\n",
       "      <td>...</td>\n",
       "      <td>False</td>\n",
       "      <td>False</td>\n",
       "      <td>False</td>\n",
       "      <td>False</td>\n",
       "      <td>False</td>\n",
       "      <td>False</td>\n",
       "      <td>False</td>\n",
       "      <td>False</td>\n",
       "      <td>False</td>\n",
       "      <td>Q5465542</td>\n",
       "    </tr>\n",
       "  </tbody>\n",
       "</table>\n",
       "<p>5 rows × 66 columns</p>\n",
       "</div>"
      ],
      "text/plain": [
       "                   index  Geography.Regions.Asia.Central Asia  \\\n",
       "0               Rosmalen                                False   \n",
       "1           Commelinales                                False   \n",
       "2  Transport_in_Honduras                                False   \n",
       "3                 QuakeC                                False   \n",
       "4           Food_writing                                False   \n",
       "\n",
       "   Geography.Regions.Europe.Eastern Europe  \\\n",
       "0                                    False   \n",
       "1                                    False   \n",
       "2                                    False   \n",
       "3                                    False   \n",
       "4                                    False   \n",
       "\n",
       "   History and Society.Military and warfare  Culture.Media.Television  \\\n",
       "0                                     False                     False   \n",
       "1                                     False                     False   \n",
       "2                                     False                     False   \n",
       "3                                     False                     False   \n",
       "4                                     False                     False   \n",
       "\n",
       "   History and Society.Education  Culture.Media.Books  \\\n",
       "0                          False                False   \n",
       "1                          False                False   \n",
       "2                          False                False   \n",
       "3                          False                False   \n",
       "4                          False                False   \n",
       "\n",
       "   Geography.Regions.Africa.Africa*  Culture.Visual arts.Architecture  \\\n",
       "0                             False                             False   \n",
       "1                             False                             False   \n",
       "2                             False                             False   \n",
       "3                             False                             False   \n",
       "4                             False                             False   \n",
       "\n",
       "   Culture.Biography.Women  ...  Geography.Regions.Asia.West Asia  \\\n",
       "0                    False  ...                             False   \n",
       "1                    False  ...                             False   \n",
       "2                    False  ...                             False   \n",
       "3                    False  ...                             False   \n",
       "4                    False  ...                             False   \n",
       "\n",
       "   STEM.Chemistry  Geography.Regions.Europe.Northern Europe  \\\n",
       "0           False                                     False   \n",
       "1           False                                     False   \n",
       "2           False                                     False   \n",
       "3           False                                     False   \n",
       "4           False                                     False   \n",
       "\n",
       "   Culture.Media.Video games  Geography.Regions.Asia.Southeast Asia  \\\n",
       "0                      False                                  False   \n",
       "1                      False                                  False   \n",
       "2                      False                                  False   \n",
       "3                      False                                  False   \n",
       "4                      False                                  False   \n",
       "\n",
       "   Culture.Media.Entertainment  Culture.Media.Music  \\\n",
       "0                        False                False   \n",
       "1                        False                False   \n",
       "2                        False                False   \n",
       "3                        False                False   \n",
       "4                        False                False   \n",
       "\n",
       "   Geography.Regions.Asia.Asia*  Geography.Regions.Asia.North Asia       qid  \n",
       "0                         False                              False  Q2001490  \n",
       "1                         False                              False   Q290349  \n",
       "2                         False                              False  Q1130638  \n",
       "3                         False                              False  Q2122062  \n",
       "4                         False                              False  Q5465542  \n",
       "\n",
       "[5 rows x 66 columns]"
      ]
     },
     "execution_count": 20,
     "metadata": {},
     "output_type": "execute_result"
    }
   ],
   "source": [
    "df_topics.head()"
   ]
  },
  {
   "cell_type": "code",
   "execution_count": 9,
   "metadata": {},
   "outputs": [],
   "source": [
    "agg = load_aggregated(\"data/aggregated_timeseries.json.gz\")"
   ]
  },
  {
   "cell_type": "code",
   "execution_count": 21,
   "metadata": {},
   "outputs": [],
   "source": [
    "interventions = load_interventions(\"data/interventions.csv\")\n",
    "topics_df, topics = load_topics('data/topics_linked.csv.xz')\n",
    "agg = load_aggregated(\"data/aggregated_timeseries.json.gz\")\n",
    "codes_order = [\"sr\", \"it\", \"fr\", \"en\", \"nl\", \"ko\", \"de\", \"fi\", \"ja\", \"no\", \"sv\", \"da\"]\n",
    "dfs_pca_shift = load_pca(codes_order, pca_folder=\"data/pca/\")"
   ]
  },
  {
   "cell_type": "code",
   "execution_count": 64,
   "metadata": {},
   "outputs": [
    {
     "name": "stdout",
     "output_type": "stream",
     "text": [
      "             sum   percent\n",
      "2020-01-01    45  0.000008\n",
      "2020-01-02    74  0.000009\n",
      "2020-01-03    94  0.000011\n",
      "2020-01-04    89  0.000012\n",
      "2020-01-05   133  0.000016\n",
      "...          ...       ...\n",
      "2020-07-27  1100  0.000161\n",
      "2020-07-28  1094  0.000168\n",
      "2020-07-29   923  0.000149\n",
      "2020-07-30   950  0.000158\n",
      "2020-07-31   813  0.000148\n",
      "\n",
      "[213 rows x 2 columns]\n"
     ]
    }
   ],
   "source": [
    "df_agg = pd.DataFrame.from_dict(agg)\n",
    "fr_covid = pd.DataFrame.from_dict(df_agg['fr']['covid'])\n",
    "print(fr_covid.drop(fr_covid.loc[fr_covid.index < '2020-01-01'].index, axis = 0).drop('len', axis= 1).head(300))"
   ]
  },
  {
   "cell_type": "markdown",
   "metadata": {},
   "source": [
    "Let`s plot the number of covid related searches in france from 2020-01-01 to 2020-07-31 "
   ]
  },
  {
   "cell_type": "code",
   "execution_count": 68,
   "metadata": {},
   "outputs": [
    {
     "data": {
      "image/png": "[encoded data removed]",
      "text/plain": [
       "<Figure size 432x288 with 1 Axes>"
      ]
     },
     "metadata": {
      "needs_background": "light"
     },
     "output_type": "display_data"
    }
   ],
   "source": [
    "fr_covid_period = fr_covid.drop(fr_covid.loc[fr_covid.index < '2020-01-01'].index, axis = 0).drop(['percent', 'len'], axis= 1)\n",
    "fr_covid_period.plot();"
   ]
  },
  {
   "cell_type": "markdown",
   "metadata": {},
   "source": [
    "Let`s plot the number of covid related searches in france from 2020-07-01 to 2020-08-01 "
   ]
  },
  {
   "cell_type": "code",
   "execution_count": 77,
   "metadata": {},
   "outputs": [
    {
     "data": {
      "image/png": "[encoded data removed]",
      "text/plain": [
       "<Figure size 432x288 with 1 Axes>"
      ]
     },
     "metadata": {
      "needs_background": "light"
     },
     "output_type": "display_data"
    }
   ],
   "source": [
    "fr_covid_june = fr_covid.drop(fr_covid.loc[(fr_covid.index <= '2020-07-01') & (fr_covid.index > '2020-06-01') ].index, axis = 0).drop(['percent', 'len'], axis= 1)\n",
    "fr_covid_june.plot();"
   ]
  },
  {
   "cell_type": "code",
   "execution_count": 83,
   "metadata": {},
   "outputs": [
    {
     "data": {
      "image/png": "[encoded data removed]",
      "text/plain": [
       "<Figure size 432x288 with 1 Axes>"
      ]
     },
     "metadata": {
      "needs_background": "light"
     },
     "output_type": "display_data"
    }
   ],
   "source": [
    "#fr_covid[fr_covid.index.between( '2020-06-01', '2020-07-01')]\n",
    "#fr_covid_june= fr_covid.query(fr_covid.index>= '2020-06-01' and fr_covid.index <=  '2020-07-01')\n",
    "mask = (fr_covid.index>= '2020-06-01') & (fr_covid.index < '2020-07-01')\n",
    "fr_covid_june= fr_covid.loc[mask]\n",
    "\n",
    "fr_covid_june.plot();"
   ]
  },
  {
   "cell_type": "markdown",
   "metadata": {},
   "source": [
    "from the plot we can see that there is a downward plot with a period of 7 days, where 7,15,22 are mondays"
   ]
  },
  {
   "cell_type": "code",
   "execution_count": 85,
   "metadata": {},
   "outputs": [
    {
     "data": {
      "image/png": "[encoded data removed]",
      "text/plain": [
       "<Figure size 432x288 with 1 Axes>"
      ]
     },
     "metadata": {
      "needs_background": "light"
     },
     "output_type": "display_data"
    }
   ],
   "source": [
    "en_covid = pd.DataFrame.from_dict(df_agg['en']['covid'])\n",
    "mask = (en_covid.index>= '2020-06-01') & (en_covid.index < '2020-07-01')\n",
    "en_covid_june= en_covid.loc[mask]\n",
    "\n",
    "en_covid_june.plot();"
   ]
  }
 ],
 "metadata": {
  "kernelspec": {
   "display_name": "Python 3.9.7 64-bit",
   "language": "python",
   "name": "python3"
  },
  "language_info": {
   "codemirror_mode": {
    "name": "ipython",
    "version": 3
   },
   "file_extension": ".py",
   "mimetype": "text/x-python",
   "name": "python",
   "nbconvert_exporter": "python",
   "pygments_lexer": "ipython3",
   "version": "3.9.7"
  },
  "orig_nbformat": 4,
  "vscode": {
   "interpreter": {
    "hash": "aee8b7b246df8f9039afb4144a1f6fd8d2ca17a180786b69acc140d282b71a49"
   }
  }
 },
 "nbformat": 4,
 "nbformat_minor": 2
}
