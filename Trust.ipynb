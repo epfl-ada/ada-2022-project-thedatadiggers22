{
 "cells": [
  {
   "cell_type": "code",
   "execution_count": 1,
   "metadata": {},
   "outputs": [
    {
     "name": "stderr",
     "output_type": "stream",
     "text": [
      "/Users/arthurnussbaumer/opt/anaconda3/lib/python3.8/site-packages/pandas/core/computation/expressions.py:20: UserWarning: Pandas requires version '2.7.3' or newer of 'numexpr' (version '2.7.1' currently installed).\n",
      "  from pandas.core.computation.check import NUMEXPR_INSTALLED\n"
     ]
    }
   ],
   "source": [
    "import pandas as pd\n",
    "import numpy as np\n",
    "import matplotlib.pyplot as plt\n",
    "import seaborn as sn\n",
    "from scipy import stats\n",
    "from helper import *\n",
    "from scipy.stats.mstats import gmean\n",
    "#Importation of all the packages\n",
    "from datetime import datetime\n",
    "import math\n",
    "import json\n",
    "import zipfile  \n",
    "import ssl\n",
    "from scipy import stats\n",
    "from sklearn.cluster import KMeans\n",
    "from sklearn import preprocessing\n",
    "from sklearn import metrics\n",
    "\n",
    "#To dowload data\n",
    "import requests\n",
    "import io\n",
    "import gzip\n",
    "\n",
    "#To create the mapchart\n",
    "import iso3166\n",
    "import plotly\n",
    "from iso3166 import countries\n",
    "import plotly.graph_objects as go"
   ]
  },
  {
   "cell_type": "code",
   "execution_count": 53,
   "metadata": {},
   "outputs": [],
   "source": [
    "country_dict = get_country_dict()\n",
    "inv_country_dict = {v: k for k, v in country_dict.items()}"
   ]
  },
  {
   "cell_type": "code",
   "execution_count": 71,
   "metadata": {},
   "outputs": [],
   "source": [
    "# Dowload Trust dataset\n",
    "data_folder = 'data_2/'\n",
    "df_trust_gov = pd.read_csv(data_folder+'share-who-trust-government.csv.zip') \n",
    "df_trust_science = pd.read_csv(data_folder+'share-people-trust-science.csv.zip')\n",
    "df_trust_journalists = pd.read_csv(data_folder+'share-people-trust-journalists-country.csv.zip')"
   ]
  },
  {
   "cell_type": "code",
   "execution_count": 72,
   "metadata": {},
   "outputs": [
    {
     "data": {
      "text/html": [
       "<div>\n",
       "<style scoped>\n",
       "    .dataframe tbody tr th:only-of-type {\n",
       "        vertical-align: middle;\n",
       "    }\n",
       "\n",
       "    .dataframe tbody tr th {\n",
       "        vertical-align: top;\n",
       "    }\n",
       "\n",
       "    .dataframe thead th {\n",
       "        text-align: right;\n",
       "    }\n",
       "</style>\n",
       "<table border=\"1\" class=\"dataframe\">\n",
       "  <thead>\n",
       "    <tr style=\"text-align: right;\">\n",
       "      <th>Entity</th>\n",
       "      <th>it</th>\n",
       "      <th>ru</th>\n",
       "      <th>zh</th>\n",
       "      <th>sq</th>\n",
       "      <th>bn</th>\n",
       "      <th>km</th>\n",
       "      <th>hr</th>\n",
       "      <th>el</th>\n",
       "      <th>sv</th>\n",
       "      <th>fi</th>\n",
       "      <th>...</th>\n",
       "      <th>ja</th>\n",
       "      <th>kk</th>\n",
       "      <th>ko</th>\n",
       "      <th>ky</th>\n",
       "      <th>nl</th>\n",
       "      <th>pl</th>\n",
       "      <th>ro</th>\n",
       "      <th>tg</th>\n",
       "      <th>th</th>\n",
       "      <th>mn</th>\n",
       "    </tr>\n",
       "  </thead>\n",
       "  <tbody>\n",
       "    <tr>\n",
       "      <th>Trust science</th>\n",
       "      <td>93.4</td>\n",
       "      <td>75.9</td>\n",
       "      <td>95.9</td>\n",
       "      <td>64.7</td>\n",
       "      <td>73.5</td>\n",
       "      <td>81.4</td>\n",
       "      <td>89.5</td>\n",
       "      <td>83.0</td>\n",
       "      <td>97.0</td>\n",
       "      <td>94.1</td>\n",
       "      <td>...</td>\n",
       "      <td>86.2</td>\n",
       "      <td>77.8</td>\n",
       "      <td>90.4</td>\n",
       "      <td>82.9</td>\n",
       "      <td>90.3</td>\n",
       "      <td>87.2</td>\n",
       "      <td>79.5</td>\n",
       "      <td>88.5</td>\n",
       "      <td>86.1</td>\n",
       "      <td>86.0</td>\n",
       "    </tr>\n",
       "  </tbody>\n",
       "</table>\n",
       "<p>1 rows × 35 columns</p>\n",
       "</div>"
      ],
      "text/plain": [
       "Entity           it    ru    zh    sq    bn    km    hr    el    sv    fi  \\\n",
       "Trust science  93.4  75.9  95.9  64.7  73.5  81.4  89.5  83.0  97.0  94.1   \n",
       "\n",
       "Entity         ...    ja    kk    ko    ky    nl    pl    ro    tg    th    mn  \n",
       "Trust science  ...  86.2  77.8  90.4  82.9  90.3  87.2  79.5  88.5  86.1  86.0  \n",
       "\n",
       "[1 rows x 35 columns]"
      ]
     },
     "execution_count": 72,
     "metadata": {},
     "output_type": "execute_result"
    }
   ],
   "source": [
    "COUNTRY_OWN_LANG_TRUST_JOURN = {\"Italy\" : \"it\", \"Russia\": \"ru\", \"China\": \"zh\", \"Albania\": \"sq\", \n",
    "\"Bangladesh\": \"bn\", \"Cambodia\": \"km\", \"Croatia\": \"hr\", \"Greece\": \"el\", \"Sweden\": \"sv\", \"Finland\": \"fi\", \"Norway\": \"no\",\n",
    " \"Malaysia\": \"ms\", \"Israel\": \"he\", \"Lithuania\": \"lt\", \"Serbia\": \"sr\", \"Slovakia\": \"sk\", \"Slovenia\": \"sl\", \"Turkey\": \"tr\",\n",
    " \"Vietnam\": \"vi\", \"Bulgaria\": \"bg\", \"Czechia\": \"cs\", \"Denmark\": \"da\", \"Georgia\": \"ka\", \"Germany\": \"de\", \n",
    " \"Hungary\": \"hu\", \"Japan\": \"ja\", \"Kazakhstan\": \"kk\", \"South Korea\": \"ko\", \"Kyrgyzstan\": 'ky', \"Netherlands\": \"nl\", \"Poland\": \"pl\", \n",
    " \"Romania\": \"ro\", \"Tajikistan\": \"tg\", \"Thailand\": \"th\", \"Mongolia\": \"mn\"}\n",
    "\n",
    "COUNTRY_OWN_LANG_TRUST_GOV = {\"Italy\" : \"it\", \"Russia\": \"ru\", \"Albania\": \"sq\", \n",
    "\"Bangladesh\": \"bn\", \"Cambodia\": \"km\", \"Croatia\": \"hr\", \"Greece\": \"el\", \"Sweden\": \"sv\", \"Finland\": \"fi\", \"Norway\": \"no\",\n",
    " \"Malaysia\": \"ms\", \"Israel\": \"he\", \"Lithuania\": \"lt\", \"Serbia\": \"sr\", \"Slovakia\": \"sk\", \"Slovenia\": \"sl\", \"Turkey\": \"tr\", \"Bulgaria\": \"bg\", \"Czechia\": \"cs\", \"Denmark\": \"da\", \"Georgia\": \"ka\", \"Germany\": \"de\", \n",
    " \"Hungary\": \"hu\", \"Japan\": \"ja\", \"Kazakhstan\": \"kk\", \"South Korea\": \"ko\", \"Kyrgyzstan\": 'ky', \"Netherlands\": \"nl\", \"Poland\": \"pl\", \n",
    " \"Romania\": \"ro\", \"Thailand\": \"th\", \"Mongolia\": \"mn\"}\n",
    "\n",
    "COUNTRY_OWN_LANG_SCIENCE = {\"Italy\" : \"it\", \"Russia\": \"ru\", \"China\": \"zh\", \"Albania\": \"sq\", \n",
    "\"Bangladesh\": \"bn\", \"Cambodia\": \"km\", \"Croatia\": \"hr\", \"Greece\": \"el\", \"Sweden\": \"sv\", \"Finland\": \"fi\", \"Norway\": \"no\",\n",
    " \"Malaysia\": \"ms\", \"Israel\": \"he\", \"Lithuania\": \"lt\", \"Serbia\": \"sr\", \"Slovakia\": \"sk\", \"Slovenia\": \"sl\", \"Turkey\": \"tr\",\n",
    " \"Vietnam\": \"vi\", \"Bulgaria\": \"bg\", \"Czechia\": \"cs\", \"Denmark\": \"da\", \"Georgia\": \"ka\", \"Germany\": \"de\", \n",
    " \"Hungary\": \"hu\", \"Japan\": \"ja\", \"Kazakhstan\": \"kk\", \"South Korea\": \"ko\", \"Kyrgyzstan\": 'ky', \"Netherlands\": \"nl\", \"Poland\": \"pl\", \n",
    " \"Romania\": \"ro\", \"Tajikistan\": \"tg\", \"Thailand\": \"th\", \"Mongolia\": \"mn\"}\n",
    "\n",
    "\n",
    "df_trust_journalists = df_trust_journalists.set_index(\"Entity\")[[\"Trust journalists in this country\"]].transpose()[COUNTRY_OWN_LANG_TRUST_JOURN.keys()].rename(columns= COUNTRY_OWN_LANG_TRUST_JOURN)\n",
    "df_trust_gov = df_trust_gov.set_index(\"Entity\")[[\"Trust the national government in this country\"]].transpose()[COUNTRY_OWN_LANG_TRUST_GOV.keys()].rename(columns= COUNTRY_OWN_LANG_TRUST_GOV)\n",
    "df_trust_science = df_trust_science.set_index(\"Entity\")[[\"Trust science\"]].transpose()[COUNTRY_OWN_LANG_SCIENCE.keys()].rename(columns= COUNTRY_OWN_LANG_SCIENCE)"
   ]
  },
  {
   "cell_type": "code",
   "execution_count": 78,
   "metadata": {},
   "outputs": [],
   "source": [
    "# Divide trust interval into nbr_category and label the countries\n",
    "def trust_category(trust, nbr_category, country_dict):\n",
    "    min_trust = float(trust.min(axis=1))\n",
    "    max_trust = trust.max(axis=1)\n",
    "    \n",
    "    delta = float((max_trust-min_trust))/nbr_category\n",
    "    \n",
    "    for j in list(country_dict.keys()):\n",
    "        country_trust = float(trust[country_dict[j]])\n",
    "        for i in range(nbr_category):\n",
    "            print(i)\n",
    "            if (country_trust >= min_trust + i*delta) & (country_trust < min_trust + (i+1)*delta):\n",
    "                country_dict[j] = [country_dict[j], i]\n",
    "            elif (country_trust == (min_trust + (i+1)*delta)) & (i == (nbr_category-1)):\n",
    "                country_dict[j] = [country_dict[j], i]\n",
    "            "
   ]
  },
  {
   "cell_type": "code",
   "execution_count": null,
   "metadata": {},
   "outputs": [],
   "source": []
  }
 ],
 "metadata": {
  "kernelspec": {
   "display_name": "Python 3",
   "language": "python",
   "name": "python3"
  },
  "language_info": {
   "codemirror_mode": {
    "name": "ipython",
    "version": 3
   },
   "file_extension": ".py",
   "mimetype": "text/x-python",
   "name": "python",
   "nbconvert_exporter": "python",
   "pygments_lexer": "ipython3",
   "version": "3.8.5"
  }
 },
 "nbformat": 4,
 "nbformat_minor": 4
}
