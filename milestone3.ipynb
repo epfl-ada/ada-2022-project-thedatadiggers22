{
 "cells": [
  {
   "attachments": {},
   "cell_type": "markdown",
   "metadata": {},
   "source": [
    "# Milestone 3 research and data visualisation\n",
    "\n",
    "### Table of Contents\n",
    "\n",
    "* [Digital Propagation](#chapter1)\n",
    "    * [Geographic digital propagation of COVID-19 during the 1st wave](#section_1_1)\n",
    "    * [Overview of the data](#Section_1_2)\n",
    "    * [Time series analysis](#Section_1_3)\n",
    "    \n",
    "        * [Check for stationarity](#section_1_3_1)\n",
    "        * [Autocorrelation](#section_1_3_2)\n",
    "        * [Decomposition](#section_1_3_3)\n",
    "        \n",
    "    * [Google mobility data](#Section_1_4) \n",
    "    \n",
    "        * [Data processing](#section_1_4_1)\n",
    "        * [Analysis per country](#section_1_4_1)\n",
    "        \n",
    "        \n",
    "* [COVID-19 dataset](#chapter2)\n",
    "    * [Downloading the data](#section_2_1)\n",
    "    * [Overview of the data](#section_2_2)\n",
    "    * [Time series analysis](#Section_2_3)\n",
    "        * [Check for stationarity](#section_2_3_1)\n",
    "        * [Autocorrelation](#section_2_3_2)\n",
    "        * [Decomposition](#section_2_3_3)\n",
    "        \n",
    "        \n",
    "* [Pearson Correlation](#chapter3)      \n",
    "\n",
    "\n",
    "* [Trust dataset](#chapter4)  \n",
    "    * [Visualizing Government trust](#section_4_1)\n",
    "    * [Visualizing Trust in Journalists](#section_4_2)\n",
    "    * [Visualizing Trust in Science](#section_4_3)\n",
    "    * [Analysis](#section_4_4)\n",
    "\n",
    "\n",
    "* [Clustering](#chapter5) "
   ]
  },
  {
   "attachments": {},
   "cell_type": "markdown",
   "metadata": {},
   "source": [
    "We import all the librairies needed to compute and plot our results."
   ]
  },
  {
   "cell_type": "code",
   "execution_count": 1,
   "metadata": {},
   "outputs": [],
   "source": [
    "import pandas as pd\n",
    "import numpy as np\n",
    "import matplotlib.pyplot as plt\n",
    "import seaborn as sn\n",
    "from scipy import stats\n",
    "from helper import *\n",
    "from scipy.stats.mstats import gmean\n",
    "#Importation of all the packages\n",
    "import datetime\n",
    "import math\n",
    "import json\n",
    "import zipfile  \n",
    "import ssl\n",
    "from scipy import stats\n",
    "import statsmodels.formula.api as smf\n",
    "import statsmodels.api as sm\n",
    "import plotly.express as px\n",
    "import bar_chart_race as brc\n",
    "\n",
    "#To dowload data\n",
    "import requests\n",
    "import io\n",
    "import gzip\n",
    "\n",
    "#To create the mapchart\n",
    "import iso3166\n",
    "import plotly\n",
    "from iso3166 import countries\n",
    "import plotly.graph_objects as go"
   ]
  },
  {
   "attachments": {},
   "cell_type": "markdown",
   "metadata": {},
   "source": [
    "## Digital propagation <a class=\"anchor\" id=\"chapter1\"></a>\n",
    "### Geographic digital propagation of COVID-19 during the 1st wave <a class=\"anchor\" id=\"section_1_1\"></a>\n",
    "\n",
    "We first load the raw data for pageviews and population, and then clean it to obtain a dataframe of pageviews, cumulative pageviews, pageviews per 100,000 inhabitants, and cumulative pageviews per 100,000 inhabitants using the `get_pageviews_df` function.\n",
    "\n",
    "For cases and deaths due to COVID-19, we do the same, but we obtain the raw data using URLs with the `get_cases_deaths_df` function.\n",
    "\n",
    "For our initial analysis, we consider the data from the start of the COVID-19 pandemic, from **January 22, 2020** to **July 31, 2020**. We want to analyse the digital propagation of COVID-19 geographically. Due to the limitation of the librairie used to create the mapcharts, we will restrain our analysis only to the 1st wave."
   ]
  },
  {
   "cell_type": "code",
   "execution_count": 2,
   "metadata": {},
   "outputs": [],
   "source": [
    "#Loading raw df from csv file\n",
    "pageview_df = pd.read_csv(\"page_views_covid_related.csv.gz\")\n",
    "population_df = pd.read_csv(\"Population_countries.csv\")\n",
    "#get cleaned dfs, cumulative df and per 100k of population dfs for pageviews, covid cases and deaths data \n",
    "df_pageviews, df_pageviews_cumul, df_pageviews100k, df_pageviews_cumul100k = get_pageviews_df(pageview_df, population_df, get_country_dict('original'), '2020-01-22', '2020-09-01')\n",
    "deaths, cases, deaths_cumul, cases_cumul, deaths100k, deaths100k_cumul, cases100k, cases100k_cumul = get_cases_deaths_df(population_df, get_country_dict('original'), '2020-01-22', '2020-09-01')"
   ]
  },
  {
   "attachments": {},
   "cell_type": "markdown",
   "metadata": {},
   "source": [
    "Here, we create a dictionary `o_country_dict` that maps country names to their language codes using the `get_country_dict` function then we create a reversed version of the dictionary, `inv_o_country_dict`, that maps language codes to country names. We also defines a dictionary `other_country_name` that contains exceptions for country names that differ from their language codes to use them later for our mapchart plots."
   ]
  },
  {
   "cell_type": "code",
   "execution_count": 3,
   "metadata": {},
   "outputs": [],
   "source": [
    "# Get a dictionary mapping country names to their language codes\n",
    "o_country_dict = get_country_dict('original')\n",
    "\n",
    "# Reverse the dictionary to map language codes to country names\n",
    "inv_o_country_dict = {v: k for k, v in o_country_dict.items()}\n",
    "\n",
    "# Add exceptions for country names that differ from their language codes\n",
    "other_country_name = {\n",
    "    \"Russia\": \"Russian Federation\",\n",
    "    \"Turkey\":\"Türkiye\",\n",
    "    \"Vietnam\" : \"Viet Nam\",\n",
    "    \"South Korea\" : \"Korea, Democratic People's Republic of\"\n",
    "}"
   ]
  },
  {
   "attachments": {},
   "cell_type": "markdown",
   "metadata": {},
   "source": [
    "The following code creates map charts using the cumulative death data `deaths100k_cumul`, the cumulative pageviews df_pageviews_cumul100k and the country dictionary `o_country_dict`, and then creates a map chart using the `mapcharts` function with the map chart dataframe, the data column `'deaths'`, the hover column `'country'`,  The map charts visualizes the number of cumulative deaths due to COVID-19 per 100k inhabitants for each country, The number of cumulative pageviews per 100k inhabitants."
   ]
  },
  {
   "cell_type": "code",
   "execution_count": 4,
   "metadata": {},
   "outputs": [
    {
     "data": {
      "application/vnd.plotly.v1+json": {
       "config": {
        "plotlyServerURL": "https://plot.ly"
       },
       "data": [
        {
         "coloraxis": "coloraxis",
         "geo": "geo",
         "hovertemplate": "<b>%{hovertext}</b><br><br>date=2020-01-22<br>Country_code=%{location}<br>deaths=%{z}<extra></extra>",
         "hovertext": [
          "Italy",
          "Russia",
          "China",
          "Albania",
          "Bangladesh",
          "Botswana",
          "Cambodia",
          "Croatia",
          "Greece",
          "Sweden",
          "Finland",
          "Norway",
          "Malaysia",
          "Israel",
          "Lithuania",
          "Serbia",
          "Slovakia",
          "Slovenia",
          "Turkey",
          "Vietnam",
          "Bulgaria",
          "Czechia",
          "Denmark",
          "Georgia",
          "Germany",
          "Hungary",
          "Iceland",
          "Japan",
          "Kazakhstan",
          "South Korea",
          "Kyrgyzstan",
          "Netherlands",
          "Poland",
          "Romania",
          "Tajikistan",
          "Thailand",
          "Azerbaijan",
          "Mongolia"
         ],
         "locations": [
          "ITA",
          "RUS",
          "CHN",
          "ALB",
          "BGD",
          "BWA",
          "KHM",
          "HRV",
          "GRC",
          "SWE",
          "FIN",
          "NOR",
          "MYS",
          "ISR",
          "LTU",
          "SRB",
          "SVK",
          "SVN",
          "TUR",
          "VNM",
          "BGR",
          "CZE",
          "DNK",
          "GEO",
          "DEU",
          "HUN",
          "ISL",
          "JPN",
          "KAZ",
          "PRK",
          "KGZ",
          "NLD",
          "POL",
          "ROU",
          "TJK",
          "THA",
          "AZE",
          "MNG"
         ],
         "name": "",
         "type": "choropleth",
         "z": [
          0,
          0,
          0,
          0,
          0,
          0,
          0,
          0,
          0,
          0,
          0,
          0,
          0,
          0,
          0,
          0,
          0,
          0,
          0,
          0,
          0,
          0,
          0,
          0,
          0,
          0,
          0,
          0,
          0,
          0,
          0,
          0,
          0,
          0,
          0,
          0,
          0,
          0
         ]
        }
       ],
       "frames": [
        {
         "data": [
          {
           "coloraxis": "coloraxis",
           "geo": "geo",
           "hovertemplate": "<b>%{hovertext}</b><br><br>date=2020-01-22<br>Country_code=%{location}<br>deaths=%{z}<extra></extra>",
           "hovertext": [
            "Italy",
            "Russia",
            "China",
            "Albania",
            "Bangladesh",
            "Botswana",
            "Cambodia",
            "Croatia",
            "Greece",
            "Sweden",
            "Finland",
            "Norway",
            "Malaysia",
            "Israel",
            "Lithuania",
            "Serbia",
            "Slovakia",
            "Slovenia",
            "Turkey",
            "Vietnam",
            "Bulgaria",
            "Czechia",
            "Denmark",
            "Georgia",
            "Germany",
            "Hungary",
            "Iceland",
            "Japan",
            "Kazakhstan",
            "South Korea",
            "Kyrgyzstan",
            "Netherlands",
            "Poland",
            "Romania",
            "Tajikistan",
            "Thailand",
            "Azerbaijan",
            "Mongolia"
           ],
           "locations": [
            "ITA",
            "RUS",
            "CHN",
            "ALB",
            "BGD",
            "BWA",
            "KHM",
            "HRV",
            "GRC",
            "SWE",
            "FIN",
            "NOR",
            "MYS",
            "ISR",
            "LTU",
            "SRB",
            "SVK",
            "SVN",
            "TUR",
            "VNM",
            "BGR",
            "CZE",
            "DNK",
            "GEO",
            "DEU",
            "HUN",
            "ISL",
            "JPN",
            "KAZ",
            "PRK",
            "KGZ",
            "NLD",
            "POL",
            "ROU",
            "TJK",
            "THA",
            "AZE",
            "MNG"
           ],
           "name": "",
           "type": "choropleth",
           "z": [
            0,
            0,
            0,
            0,
            0,
            0,
            0,
            0,
            0,
            0,
            0,
            0,
            0,
            0,
            0,
            0,
            0,
            0,
            0,
            0,
            0,
            0,
            0,
            0,
            0,
            0,
            0,
            0,
            0,
            0,
            0,
            0,
            0,
            0,
            0,
            0,
            0,
            0
           ]
          }
         ],
         "name": "2020-01-22"
        },
        {
         "data": [
          {
           "coloraxis": "coloraxis",
           "geo": "geo",
           "hovertemplate": "<b>%{hovertext}</b><br><br>date=2020-01-27<br>Country_code=%{location}<br>deaths=%{z}<extra></extra>",
           "hovertext": [
            "Italy",
            "Russia",
            "China",
            "Albania",
            "Bangladesh",
            "Botswana",
            "Cambodia",
            "Croatia",
            "Greece",
            "Sweden",
            "Finland",
            "Norway",
            "Malaysia",
            "Israel",
            "Lithuania",
            "Serbia",
            "Slovakia",
            "Slovenia",
            "Turkey",
            "Vietnam",
            "Bulgaria",
            "Czechia",
            "Denmark",
            "Georgia",
            "Germany",
            "Hungary",
            "Iceland",
            "Japan",
            "Kazakhstan",
            "South Korea",
            "Kyrgyzstan",
            "Netherlands",
            "Poland",
            "Romania",
            "Tajikistan",
            "Thailand",
            "Azerbaijan",
            "Mongolia"
           ],
           "locations": [
            "ITA",
            "RUS",
            "CHN",
            "ALB",
            "BGD",
            "BWA",
            "KHM",
            "HRV",
            "GRC",
            "SWE",
            "FIN",
            "NOR",
            "MYS",
            "ISR",
            "LTU",
            "SRB",
            "SVK",
            "SVN",
            "TUR",
            "VNM",
            "BGR",
            "CZE",
            "DNK",
            "GEO",
            "DEU",
            "HUN",
            "ISL",
            "JPN",
            "KAZ",
            "PRK",
            "KGZ",
            "NLD",
            "POL",
            "ROU",
            "TJK",
            "THA",
            "AZE",
            "MNG"
           ],
           "name": "",
           "type": "choropleth",
           "z": [
            0,
            0,
            0.004606335482956559,
            0,
            0,
            0,
            0,
            0,
            0,
            0,
            0,
            0,
            0,
            0,
            0,
            0,
            0,
            0,
            0,
            0,
            0,
            0,
            0,
            0,
            0,
            0,
            0,
            0,
            0,
            0,
            0,
            0,
            0,
            0,
            0,
            0,
            0,
            0
           ]
          }
         ],
         "name": "2020-01-27"
        },
        {
         "data": [
          {
           "coloraxis": "coloraxis",
           "geo": "geo",
           "hovertemplate": "<b>%{hovertext}</b><br><br>date=2020-02-01<br>Country_code=%{location}<br>deaths=%{z}<extra></extra>",
           "hovertext": [
            "Italy",
            "Russia",
            "China",
            "Albania",
            "Bangladesh",
            "Botswana",
            "Cambodia",
            "Croatia",
            "Greece",
            "Sweden",
            "Finland",
            "Norway",
            "Malaysia",
            "Israel",
            "Lithuania",
            "Serbia",
            "Slovakia",
            "Slovenia",
            "Turkey",
            "Vietnam",
            "Bulgaria",
            "Czechia",
            "Denmark",
            "Georgia",
            "Germany",
            "Hungary",
            "Iceland",
            "Japan",
            "Kazakhstan",
            "South Korea",
            "Kyrgyzstan",
            "Netherlands",
            "Poland",
            "Romania",
            "Tajikistan",
            "Thailand",
            "Azerbaijan",
            "Mongolia"
           ],
           "locations": [
            "ITA",
            "RUS",
            "CHN",
            "ALB",
            "BGD",
            "BWA",
            "KHM",
            "HRV",
            "GRC",
            "SWE",
            "FIN",
            "NOR",
            "MYS",
            "ISR",
            "LTU",
            "SRB",
            "SVK",
            "SVN",
            "TUR",
            "VNM",
            "BGR",
            "CZE",
            "DNK",
            "GEO",
            "DEU",
            "HUN",
            "ISL",
            "JPN",
            "KAZ",
            "PRK",
            "KGZ",
            "NLD",
            "POL",
            "ROU",
            "TJK",
            "THA",
            "AZE",
            "MNG"
           ],
           "name": "",
           "type": "choropleth",
           "z": [
            0,
            0,
            0.017149741336545957,
            0,
            0,
            0,
            0,
            0,
            0,
            0,
            0,
            0,
            0,
            0,
            0,
            0,
            0,
            0,
            0,
            0,
            0,
            0,
            0,
            0,
            0,
            0,
            0,
            0,
            0,
            0,
            0,
            0,
            0,
            0,
            0,
            0,
            0,
            0
           ]
          }
         ],
         "name": "2020-02-01"
        },
        {
         "data": [
          {
           "coloraxis": "coloraxis",
           "geo": "geo",
           "hovertemplate": "<b>%{hovertext}</b><br><br>date=2020-02-06<br>Country_code=%{location}<br>deaths=%{z}<extra></extra>",
           "hovertext": [
            "Italy",
            "Russia",
            "China",
            "Albania",
            "Bangladesh",
            "Botswana",
            "Cambodia",
            "Croatia",
            "Greece",
            "Sweden",
            "Finland",
            "Norway",
            "Malaysia",
            "Israel",
            "Lithuania",
            "Serbia",
            "Slovakia",
            "Slovenia",
            "Turkey",
            "Vietnam",
            "Bulgaria",
            "Czechia",
            "Denmark",
            "Georgia",
            "Germany",
            "Hungary",
            "Iceland",
            "Japan",
            "Kazakhstan",
            "South Korea",
            "Kyrgyzstan",
            "Netherlands",
            "Poland",
            "Romania",
            "Tajikistan",
            "Thailand",
            "Azerbaijan",
            "Mongolia"
           ],
           "locations": [
            "ITA",
            "RUS",
            "CHN",
            "ALB",
            "BGD",
            "BWA",
            "KHM",
            "HRV",
            "GRC",
            "SWE",
            "FIN",
            "NOR",
            "MYS",
            "ISR",
            "LTU",
            "SRB",
            "SVK",
            "SVN",
            "TUR",
            "VNM",
            "BGR",
            "CZE",
            "DNK",
            "GEO",
            "DEU",
            "HUN",
            "ISL",
            "JPN",
            "KAZ",
            "PRK",
            "KGZ",
            "NLD",
            "POL",
            "ROU",
            "TJK",
            "THA",
            "AZE",
            "MNG"
           ],
           "name": "",
           "type": "choropleth",
           "z": [
            0,
            0,
            0.043583020338742826,
            0,
            0,
            0,
            0,
            0,
            0,
            0,
            0,
            0,
            0,
            0,
            0,
            0,
            0,
            0,
            0,
            0,
            0,
            0,
            0,
            0,
            0,
            0,
            0,
            0,
            0,
            0,
            0,
            0,
            0,
            0,
            0,
            0,
            0,
            0
           ]
          }
         ],
         "name": "2020-02-06"
        },
        {
         "data": [
          {
           "coloraxis": "coloraxis",
           "geo": "geo",
           "hovertemplate": "<b>%{hovertext}</b><br><br>date=2020-02-11<br>Country_code=%{location}<br>deaths=%{z}<extra></extra>",
           "hovertext": [
            "Italy",
            "Russia",
            "China",
            "Albania",
            "Bangladesh",
            "Botswana",
            "Cambodia",
            "Croatia",
            "Greece",
            "Sweden",
            "Finland",
            "Norway",
            "Malaysia",
            "Israel",
            "Lithuania",
            "Serbia",
            "Slovakia",
            "Slovenia",
            "Turkey",
            "Vietnam",
            "Bulgaria",
            "Czechia",
            "Denmark",
            "Georgia",
            "Germany",
            "Hungary",
            "Iceland",
            "Japan",
            "Kazakhstan",
            "South Korea",
            "Kyrgyzstan",
            "Netherlands",
            "Poland",
            "Romania",
            "Tajikistan",
            "Thailand",
            "Azerbaijan",
            "Mongolia"
           ],
           "locations": [
            "ITA",
            "RUS",
            "CHN",
            "ALB",
            "BGD",
            "BWA",
            "KHM",
            "HRV",
            "GRC",
            "SWE",
            "FIN",
            "NOR",
            "MYS",
            "ISR",
            "LTU",
            "SRB",
            "SVK",
            "SVN",
            "TUR",
            "VNM",
            "BGR",
            "CZE",
            "DNK",
            "GEO",
            "DEU",
            "HUN",
            "ISL",
            "JPN",
            "KAZ",
            "PRK",
            "KGZ",
            "NLD",
            "POL",
            "ROU",
            "TJK",
            "THA",
            "AZE",
            "MNG"
           ],
           "name": "",
           "type": "choropleth",
           "z": [
            0,
            0,
            0.07752816951314577,
            0,
            0,
            0,
            0,
            0,
            0,
            0,
            0,
            0,
            0,
            0,
            0,
            0,
            0,
            0,
            0,
            0,
            0,
            0,
            0,
            0,
            0,
            0,
            0,
            0,
            0,
            0,
            0,
            0,
            0,
            0,
            0,
            0,
            0,
            0
           ]
          }
         ],
         "name": "2020-02-11"
        },
        {
         "data": [
          {
           "coloraxis": "coloraxis",
           "geo": "geo",
           "hovertemplate": "<b>%{hovertext}</b><br><br>date=2020-02-16<br>Country_code=%{location}<br>deaths=%{z}<extra></extra>",
           "hovertext": [
            "Italy",
            "Russia",
            "China",
            "Albania",
            "Bangladesh",
            "Botswana",
            "Cambodia",
            "Croatia",
            "Greece",
            "Sweden",
            "Finland",
            "Norway",
            "Malaysia",
            "Israel",
            "Lithuania",
            "Serbia",
            "Slovakia",
            "Slovenia",
            "Turkey",
            "Vietnam",
            "Bulgaria",
            "Czechia",
            "Denmark",
            "Georgia",
            "Germany",
            "Hungary",
            "Iceland",
            "Japan",
            "Kazakhstan",
            "South Korea",
            "Kyrgyzstan",
            "Netherlands",
            "Poland",
            "Romania",
            "Tajikistan",
            "Thailand",
            "Azerbaijan",
            "Mongolia"
           ],
           "locations": [
            "ITA",
            "RUS",
            "CHN",
            "ALB",
            "BGD",
            "BWA",
            "KHM",
            "HRV",
            "GRC",
            "SWE",
            "FIN",
            "NOR",
            "MYS",
            "ISR",
            "LTU",
            "SRB",
            "SVK",
            "SVN",
            "TUR",
            "VNM",
            "BGR",
            "CZE",
            "DNK",
            "GEO",
            "DEU",
            "HUN",
            "ISL",
            "JPN",
            "KAZ",
            "PRK",
            "KGZ",
            "NLD",
            "POL",
            "ROU",
            "TJK",
            "THA",
            "AZE",
            "MNG"
           ],
           "name": "",
           "type": "choropleth",
           "z": [
            0,
            0,
            0.12387499114166255,
            0,
            0,
            0,
            0,
            0,
            0,
            0,
            0,
            0,
            0,
            0,
            0,
            0,
            0,
            0,
            0,
            0,
            0,
            0,
            0,
            0,
            0,
            0,
            0,
            0.0007920102010913901,
            0,
            0,
            0,
            0,
            0,
            0,
            0,
            0,
            0,
            0
           ]
          }
         ],
         "name": "2020-02-16"
        },
        {
         "data": [
          {
           "coloraxis": "coloraxis",
           "geo": "geo",
           "hovertemplate": "<b>%{hovertext}</b><br><br>date=2020-02-21<br>Country_code=%{location}<br>deaths=%{z}<extra></extra>",
           "hovertext": [
            "Italy",
            "Russia",
            "China",
            "Albania",
            "Bangladesh",
            "Botswana",
            "Cambodia",
            "Croatia",
            "Greece",
            "Sweden",
            "Finland",
            "Norway",
            "Malaysia",
            "Israel",
            "Lithuania",
            "Serbia",
            "Slovakia",
            "Slovenia",
            "Turkey",
            "Vietnam",
            "Bulgaria",
            "Czechia",
            "Denmark",
            "Georgia",
            "Germany",
            "Hungary",
            "Iceland",
            "Japan",
            "Kazakhstan",
            "South Korea",
            "Kyrgyzstan",
            "Netherlands",
            "Poland",
            "Romania",
            "Tajikistan",
            "Thailand",
            "Azerbaijan",
            "Mongolia"
           ],
           "locations": [
            "ITA",
            "RUS",
            "CHN",
            "ALB",
            "BGD",
            "BWA",
            "KHM",
            "HRV",
            "GRC",
            "SWE",
            "FIN",
            "NOR",
            "MYS",
            "ISR",
            "LTU",
            "SRB",
            "SVK",
            "SVN",
            "TUR",
            "VNM",
            "BGR",
            "CZE",
            "DNK",
            "GEO",
            "DEU",
            "HUN",
            "ISL",
            "JPN",
            "KAZ",
            "PRK",
            "KGZ",
            "NLD",
            "POL",
            "ROU",
            "TJK",
            "THA",
            "AZE",
            "MNG"
           ],
           "name": "",
           "type": "choropleth",
           "z": [
            0.0016820991696031493,
            0,
            0.15725320671816315,
            0,
            0,
            0,
            0,
            0,
            0,
            0,
            0,
            0,
            0,
            0,
            0,
            0,
            0,
            0,
            0,
            0,
            0,
            0,
            0,
            0,
            0,
            0,
            0,
            0.0015840204021827801,
            0,
            0.0038583046119530394,
            0,
            0,
            0,
            0,
            0,
            0,
            0,
            0
           ]
          }
         ],
         "name": "2020-02-21"
        },
        {
         "data": [
          {
           "coloraxis": "coloraxis",
           "geo": "geo",
           "hovertemplate": "<b>%{hovertext}</b><br><br>date=2020-02-26<br>Country_code=%{location}<br>deaths=%{z}<extra></extra>",
           "hovertext": [
            "Italy",
            "Russia",
            "China",
            "Albania",
            "Bangladesh",
            "Botswana",
            "Cambodia",
            "Croatia",
            "Greece",
            "Sweden",
            "Finland",
            "Norway",
            "Malaysia",
            "Israel",
            "Lithuania",
            "Serbia",
            "Slovakia",
            "Slovenia",
            "Turkey",
            "Vietnam",
            "Bulgaria",
            "Czechia",
            "Denmark",
            "Georgia",
            "Germany",
            "Hungary",
            "Iceland",
            "Japan",
            "Kazakhstan",
            "South Korea",
            "Kyrgyzstan",
            "Netherlands",
            "Poland",
            "Romania",
            "Tajikistan",
            "Thailand",
            "Azerbaijan",
            "Mongolia"
           ],
           "locations": [
            "ITA",
            "RUS",
            "CHN",
            "ALB",
            "BGD",
            "BWA",
            "KHM",
            "HRV",
            "GRC",
            "SWE",
            "FIN",
            "NOR",
            "MYS",
            "ISR",
            "LTU",
            "SRB",
            "SVK",
            "SVN",
            "TUR",
            "VNM",
            "BGR",
            "CZE",
            "DNK",
            "GEO",
            "DEU",
            "HUN",
            "ISL",
            "JPN",
            "KAZ",
            "PRK",
            "KGZ",
            "NLD",
            "POL",
            "ROU",
            "TJK",
            "THA",
            "AZE",
            "MNG"
           ],
           "name": "",
           "type": "choropleth",
           "z": [
            0.02018519003523779,
            0,
            0.1911983558925661,
            0,
            0,
            0,
            0,
            0,
            0,
            0,
            0,
            0,
            0,
            0,
            0,
            0,
            0,
            0,
            0,
            0,
            0,
            0,
            0,
            0,
            0,
            0,
            0,
            0.00237603060327417,
            0,
            0.023149827671718238,
            0,
            0,
            0,
            0,
            0,
            0,
            0,
            0
           ]
          }
         ],
         "name": "2020-02-26"
        },
        {
         "data": [
          {
           "coloraxis": "coloraxis",
           "geo": "geo",
           "hovertemplate": "<b>%{hovertext}</b><br><br>date=2020-03-02<br>Country_code=%{location}<br>deaths=%{z}<extra></extra>",
           "hovertext": [
            "Italy",
            "Russia",
            "China",
            "Albania",
            "Bangladesh",
            "Botswana",
            "Cambodia",
            "Croatia",
            "Greece",
            "Sweden",
            "Finland",
            "Norway",
            "Malaysia",
            "Israel",
            "Lithuania",
            "Serbia",
            "Slovakia",
            "Slovenia",
            "Turkey",
            "Vietnam",
            "Bulgaria",
            "Czechia",
            "Denmark",
            "Georgia",
            "Germany",
            "Hungary",
            "Iceland",
            "Japan",
            "Kazakhstan",
            "South Korea",
            "Kyrgyzstan",
            "Netherlands",
            "Poland",
            "Romania",
            "Tajikistan",
            "Thailand",
            "Azerbaijan",
            "Mongolia"
           ],
           "locations": [
            "ITA",
            "RUS",
            "CHN",
            "ALB",
            "BGD",
            "BWA",
            "KHM",
            "HRV",
            "GRC",
            "SWE",
            "FIN",
            "NOR",
            "MYS",
            "ISR",
            "LTU",
            "SRB",
            "SVK",
            "SVN",
            "TUR",
            "VNM",
            "BGR",
            "CZE",
            "DNK",
            "GEO",
            "DEU",
            "HUN",
            "ISL",
            "JPN",
            "KAZ",
            "PRK",
            "KGZ",
            "NLD",
            "POL",
            "ROU",
            "TJK",
            "THA",
            "AZE",
            "MNG"
           ],
           "name": "",
           "type": "choropleth",
           "z": [
            0.08746915681936376,
            0,
            0.20515909574091137,
            0,
            0,
            0,
            0,
            0,
            0,
            0,
            0,
            0,
            0,
            0,
            0,
            0,
            0,
            0,
            0,
            0,
            0,
            0,
            0,
            0,
            0,
            0,
            0,
            0.00475206120654834,
            0,
            0.05401626456734254,
            0,
            0,
            0,
            0,
            0,
            0.0014326652080033607,
            0,
            0
           ]
          }
         ],
         "name": "2020-03-02"
        },
        {
         "data": [
          {
           "coloraxis": "coloraxis",
           "geo": "geo",
           "hovertemplate": "<b>%{hovertext}</b><br><br>date=2020-03-07<br>Country_code=%{location}<br>deaths=%{z}<extra></extra>",
           "hovertext": [
            "Italy",
            "Russia",
            "China",
            "Albania",
            "Bangladesh",
            "Botswana",
            "Cambodia",
            "Croatia",
            "Greece",
            "Sweden",
            "Finland",
            "Norway",
            "Malaysia",
            "Israel",
            "Lithuania",
            "Serbia",
            "Slovakia",
            "Slovenia",
            "Turkey",
            "Vietnam",
            "Bulgaria",
            "Czechia",
            "Denmark",
            "Georgia",
            "Germany",
            "Hungary",
            "Iceland",
            "Japan",
            "Kazakhstan",
            "South Korea",
            "Kyrgyzstan",
            "Netherlands",
            "Poland",
            "Romania",
            "Tajikistan",
            "Thailand",
            "Azerbaijan",
            "Mongolia"
           ],
           "locations": [
            "ITA",
            "RUS",
            "CHN",
            "ALB",
            "BGD",
            "BWA",
            "KHM",
            "HRV",
            "GRC",
            "SWE",
            "FIN",
            "NOR",
            "MYS",
            "ISR",
            "LTU",
            "SRB",
            "SVK",
            "SVN",
            "TUR",
            "VNM",
            "BGR",
            "CZE",
            "DNK",
            "GEO",
            "DEU",
            "HUN",
            "ISL",
            "JPN",
            "KAZ",
            "PRK",
            "KGZ",
            "NLD",
            "POL",
            "ROU",
            "TJK",
            "THA",
            "AZE",
            "MNG"
           ],
           "name": "",
           "type": "choropleth",
           "z": [
            0.39192910651753377,
            0,
            0.2163560342994827,
            0,
            0,
            0,
            0,
            0,
            0,
            0,
            0.018084677160481438,
            0,
            0,
            0,
            0,
            0,
            0,
            0,
            0,
            0,
            0,
            0,
            0,
            0,
            0,
            0,
            0,
            0.00554407140763973,
            0,
            0.08488270146296686,
            0,
            0.005733451824671043,
            0,
            0,
            0,
            0.0014326652080033607,
            0,
            0
           ]
          }
         ],
         "name": "2020-03-07"
        },
        {
         "data": [
          {
           "coloraxis": "coloraxis",
           "geo": "geo",
           "hovertemplate": "<b>%{hovertext}</b><br><br>date=2020-03-12<br>Country_code=%{location}<br>deaths=%{z}<extra></extra>",
           "hovertext": [
            "Italy",
            "Russia",
            "China",
            "Albania",
            "Bangladesh",
            "Botswana",
            "Cambodia",
            "Croatia",
            "Greece",
            "Sweden",
            "Finland",
            "Norway",
            "Malaysia",
            "Israel",
            "Lithuania",
            "Serbia",
            "Slovakia",
            "Slovenia",
            "Turkey",
            "Vietnam",
            "Bulgaria",
            "Czechia",
            "Denmark",
            "Georgia",
            "Germany",
            "Hungary",
            "Iceland",
            "Japan",
            "Kazakhstan",
            "South Korea",
            "Kyrgyzstan",
            "Netherlands",
            "Poland",
            "Romania",
            "Tajikistan",
            "Thailand",
            "Azerbaijan",
            "Mongolia"
           ],
           "locations": [
            "ITA",
            "RUS",
            "CHN",
            "ALB",
            "BGD",
            "BWA",
            "KHM",
            "HRV",
            "GRC",
            "SWE",
            "FIN",
            "NOR",
            "MYS",
            "ISR",
            "LTU",
            "SRB",
            "SVK",
            "SVN",
            "TUR",
            "VNM",
            "BGR",
            "CZE",
            "DNK",
            "GEO",
            "DEU",
            "HUN",
            "ISL",
            "JPN",
            "KAZ",
            "PRK",
            "KGZ",
            "NLD",
            "POL",
            "ROU",
            "TJK",
            "THA",
            "AZE",
            "MNG"
           ],
           "name": "",
           "type": "choropleth",
           "z": [
            1.7090127563167996,
            0,
            0.22337183757352422,
            0.035237956635465806,
            0,
            0,
            0,
            0,
            0.00934530878582384,
            0.01931724734634144,
            0.018084677160481438,
            0,
            0,
            0,
            0,
            0,
            0,
            0,
            0,
            0,
            0.014421659024389188,
            0,
            0,
            0,
            0.006012443039467443,
            0,
            0,
            0.015048193820736412,
            0,
            0.1273240521944503,
            0,
            0.028667259123355215,
            0.0026385871737749766,
            0,
            0,
            0.0014326652080033607,
            0,
            0
           ]
          }
         ],
         "name": "2020-03-12"
        },
        {
         "data": [
          {
           "coloraxis": "coloraxis",
           "geo": "geo",
           "hovertemplate": "<b>%{hovertext}</b><br><br>date=2020-03-17<br>Country_code=%{location}<br>deaths=%{z}<extra></extra>",
           "hovertext": [
            "Italy",
            "Russia",
            "China",
            "Albania",
            "Bangladesh",
            "Botswana",
            "Cambodia",
            "Croatia",
            "Greece",
            "Sweden",
            "Finland",
            "Norway",
            "Malaysia",
            "Israel",
            "Lithuania",
            "Serbia",
            "Slovakia",
            "Slovenia",
            "Turkey",
            "Vietnam",
            "Bulgaria",
            "Czechia",
            "Denmark",
            "Georgia",
            "Germany",
            "Hungary",
            "Iceland",
            "Japan",
            "Kazakhstan",
            "South Korea",
            "Kyrgyzstan",
            "Netherlands",
            "Poland",
            "Romania",
            "Tajikistan",
            "Thailand",
            "Azerbaijan",
            "Mongolia"
           ],
           "locations": [
            "ITA",
            "RUS",
            "CHN",
            "ALB",
            "BGD",
            "BWA",
            "KHM",
            "HRV",
            "GRC",
            "SWE",
            "FIN",
            "NOR",
            "MYS",
            "ISR",
            "LTU",
            "SRB",
            "SVK",
            "SVN",
            "TUR",
            "VNM",
            "BGR",
            "CZE",
            "DNK",
            "GEO",
            "DEU",
            "HUN",
            "ISL",
            "JPN",
            "KAZ",
            "PRK",
            "KGZ",
            "NLD",
            "POL",
            "ROU",
            "TJK",
            "THA",
            "AZE",
            "MNG"
           ],
           "name": "",
           "type": "choropleth",
           "z": [
            4.2102942215166825,
            0,
            0.227552972858054,
            0.035237956635465806,
            0,
            0,
            0,
            0,
            0.0467265439291192,
            0.1352207314243901,
            0.07233870864192575,
            0.055767523782525245,
            0.006179324363796846,
            0,
            0,
            0,
            0,
            0.04756425812361855,
            0.0011856901381183172,
            0,
            0.028843318048778377,
            0,
            0.0685941155852004,
            0,
            0.014429863294721866,
            0.010256253519818005,
            0,
            0.0237603060327417,
            0,
            0.1562613367840981,
            0,
            0.24653842846085486,
            0.013192935868874881,
            0,
            0,
            0.0014326652080033607,
            0.009907738151558869,
            0
           ]
          }
         ],
         "name": "2020-03-17"
        },
        {
         "data": [
          {
           "coloraxis": "coloraxis",
           "geo": "geo",
           "hovertemplate": "<b>%{hovertext}</b><br><br>date=2020-03-22<br>Country_code=%{location}<br>deaths=%{z}<extra></extra>",
           "hovertext": [
            "Italy",
            "Russia",
            "China",
            "Albania",
            "Bangladesh",
            "Botswana",
            "Cambodia",
            "Croatia",
            "Greece",
            "Sweden",
            "Finland",
            "Norway",
            "Malaysia",
            "Israel",
            "Lithuania",
            "Serbia",
            "Slovakia",
            "Slovenia",
            "Turkey",
            "Vietnam",
            "Bulgaria",
            "Czechia",
            "Denmark",
            "Georgia",
            "Germany",
            "Hungary",
            "Iceland",
            "Japan",
            "Kazakhstan",
            "South Korea",
            "Kyrgyzstan",
            "Netherlands",
            "Poland",
            "Romania",
            "Tajikistan",
            "Thailand",
            "Azerbaijan",
            "Mongolia"
           ],
           "locations": [
            "ITA",
            "RUS",
            "CHN",
            "ALB",
            "BGD",
            "BWA",
            "KHM",
            "HRV",
            "GRC",
            "SWE",
            "FIN",
            "NOR",
            "MYS",
            "ISR",
            "LTU",
            "SRB",
            "SVK",
            "SVN",
            "TUR",
            "VNM",
            "BGR",
            "CZE",
            "DNK",
            "GEO",
            "DEU",
            "HUN",
            "ISL",
            "JPN",
            "KAZ",
            "PRK",
            "KGZ",
            "NLD",
            "POL",
            "ROU",
            "TJK",
            "THA",
            "AZE",
            "MNG"
           ],
           "name": "",
           "type": "choropleth",
           "z": [
            9.211175052746844,
            0.0006940919084160442,
            0.23074197434625468,
            0.07047591327093161,
            0.0012144073671099976,
            0,
            0,
            0.024705510317021107,
            0.1401796317873576,
            0.5795174203902432,
            0.18084677160481435,
            0.13012422215922556,
            0.033986284000882654,
            0.010851754186064178,
            0,
            0.02898917920907663,
            0,
            0.0951285162472371,
            0.035570704143549514,
            0,
            0.043264977073167565,
            0.00934766567288517,
            0.2229308756519013,
            0,
            0.06613687343414187,
            0.06153752111890803,
            0.27287884452182076,
            0.0316804080436556,
            0,
            0.21413590596339366,
            0,
            1.0262878766161168,
            0.018470110216424834,
            0.015578329919948156,
            0,
            0.0014326652080033607,
            0.009907738151558869,
            0
           ]
          }
         ],
         "name": "2020-03-22"
        },
        {
         "data": [
          {
           "coloraxis": "coloraxis",
           "geo": "geo",
           "hovertemplate": "<b>%{hovertext}</b><br><br>date=2020-03-27<br>Country_code=%{location}<br>deaths=%{z}<extra></extra>",
           "hovertext": [
            "Italy",
            "Russia",
            "China",
            "Albania",
            "Bangladesh",
            "Botswana",
            "Cambodia",
            "Croatia",
            "Greece",
            "Sweden",
            "Finland",
            "Norway",
            "Malaysia",
            "Israel",
            "Lithuania",
            "Serbia",
            "Slovakia",
            "Slovenia",
            "Turkey",
            "Vietnam",
            "Bulgaria",
            "Czechia",
            "Denmark",
            "Georgia",
            "Germany",
            "Hungary",
            "Iceland",
            "Japan",
            "Kazakhstan",
            "South Korea",
            "Kyrgyzstan",
            "Netherlands",
            "Poland",
            "Romania",
            "Tajikistan",
            "Thailand",
            "Azerbaijan",
            "Mongolia"
           ],
           "locations": [
            "ITA",
            "RUS",
            "CHN",
            "ALB",
            "BGD",
            "BWA",
            "KHM",
            "HRV",
            "GRC",
            "SWE",
            "FIN",
            "NOR",
            "MYS",
            "ISR",
            "LTU",
            "SRB",
            "SVK",
            "SVN",
            "TUR",
            "VNM",
            "BGR",
            "CZE",
            "DNK",
            "GEO",
            "DEU",
            "HUN",
            "ISL",
            "JPN",
            "KAZ",
            "PRK",
            "KGZ",
            "NLD",
            "POL",
            "ROU",
            "TJK",
            "THA",
            "AZE",
            "MNG"
           ],
           "name": "",
           "type": "choropleth",
           "z": [
            15.364293815155165,
            0.0027763676336641768,
            0.23265537523917512,
            0.28190365308372645,
            0.003036018417774994,
            0,
            0,
            0.07411653095106333,
            0.20559679328812447,
            1.9413833583073146,
            0.45211692901203593,
            0.35319431728932654,
            0.08651054109315585,
            0.13022105023277014,
            0.14311858985253417,
            0.06522565322042241,
            0,
            0.42807832311256694,
            0.10908349270688517,
            0,
            0.043264977073167565,
            0.08412899105596652,
            0.8917235026076052,
            0,
            0.30422961779705265,
            0.10256253519818005,
            0.5457576890436415,
            0.041976540657843675,
            0.005331722157986819,
            0.26815217053073626,
            0,
            3.1304646962703893,
            0.042217394780399625,
            0.13501219263955067,
            0,
            0.0071633260400168035,
            0.02972321445467661,
            0
           ]
          }
         ],
         "name": "2020-03-27"
        },
        {
         "data": [
          {
           "coloraxis": "coloraxis",
           "geo": "geo",
           "hovertemplate": "<b>%{hovertext}</b><br><br>date=2020-04-01<br>Country_code=%{location}<br>deaths=%{z}<extra></extra>",
           "hovertext": [
            "Italy",
            "Russia",
            "China",
            "Albania",
            "Bangladesh",
            "Botswana",
            "Cambodia",
            "Croatia",
            "Greece",
            "Sweden",
            "Finland",
            "Norway",
            "Malaysia",
            "Israel",
            "Lithuania",
            "Serbia",
            "Slovakia",
            "Slovenia",
            "Turkey",
            "Vietnam",
            "Bulgaria",
            "Czechia",
            "Denmark",
            "Georgia",
            "Germany",
            "Hungary",
            "Iceland",
            "Japan",
            "Kazakhstan",
            "South Korea",
            "Kyrgyzstan",
            "Netherlands",
            "Poland",
            "Romania",
            "Tajikistan",
            "Thailand",
            "Azerbaijan",
            "Mongolia"
           ],
           "locations": [
            "ITA",
            "RUS",
            "CHN",
            "ALB",
            "BGD",
            "BWA",
            "KHM",
            "HRV",
            "GRC",
            "SWE",
            "FIN",
            "NOR",
            "MYS",
            "ISR",
            "LTU",
            "SRB",
            "SVK",
            "SVN",
            "TUR",
            "VNM",
            "BGR",
            "CZE",
            "DNK",
            "GEO",
            "DEU",
            "HUN",
            "ISL",
            "JPN",
            "KAZ",
            "PRK",
            "KGZ",
            "NLD",
            "POL",
            "ROU",
            "TJK",
            "THA",
            "AZE",
            "MNG"
           ],
           "name": "",
           "type": "choropleth",
           "z": [
            22.128014576129427,
            0.01665820580198506,
            0.2346396428318333,
            0.5285693495319871,
            0.0036432221013299924,
            0.04252378674320948,
            0,
            0.14823306190212665,
            0.3551217338613059,
            4.394673771292677,
            1.0489112753079233,
            0.8179236821437036,
            0.15448310909492116,
            0.31470087139586117,
            0.2146778847788013,
            0.45657957254295684,
            0.01831895387049269,
            0.7134638718542783,
            0.3284361682587738,
            0,
            0.14421659024389188,
            0.36455896124252163,
            1.7834470052152105,
            0,
            0.8802216609780338,
            0.2051250703963601,
            0.5457576890436415,
            0.05702473447858008,
            0.015995166473960456,
            0.3183101304861257,
            0,
            6.731072442163805,
            0.11345924847232398,
            0.4777354508784101,
            0,
            0.01719198249604033,
            0.04953869075779434,
            0
           ]
          }
         ],
         "name": "2020-04-01"
        },
        {
         "data": [
          {
           "coloraxis": "coloraxis",
           "geo": "geo",
           "hovertemplate": "<b>%{hovertext}</b><br><br>date=2020-04-06<br>Country_code=%{location}<br>deaths=%{z}<extra></extra>",
           "hovertext": [
            "Italy",
            "Russia",
            "China",
            "Albania",
            "Bangladesh",
            "Botswana",
            "Cambodia",
            "Croatia",
            "Greece",
            "Sweden",
            "Finland",
            "Norway",
            "Malaysia",
            "Israel",
            "Lithuania",
            "Serbia",
            "Slovakia",
            "Slovenia",
            "Turkey",
            "Vietnam",
            "Bulgaria",
            "Czechia",
            "Denmark",
            "Georgia",
            "Germany",
            "Hungary",
            "Iceland",
            "Japan",
            "Kazakhstan",
            "South Korea",
            "Kyrgyzstan",
            "Netherlands",
            "Poland",
            "Romania",
            "Tajikistan",
            "Thailand",
            "Azerbaijan",
            "Mongolia"
           ],
           "locations": [
            "ITA",
            "RUS",
            "CHN",
            "ALB",
            "BGD",
            "BWA",
            "KHM",
            "HRV",
            "GRC",
            "SWE",
            "FIN",
            "NOR",
            "MYS",
            "ISR",
            "LTU",
            "SRB",
            "SVK",
            "SVN",
            "TUR",
            "VNM",
            "BGR",
            "CZE",
            "DNK",
            "GEO",
            "DEU",
            "HUN",
            "ISL",
            "JPN",
            "KAZ",
            "PRK",
            "KGZ",
            "NLD",
            "POL",
            "ROU",
            "TJK",
            "THA",
            "AZE",
            "MNG"
           ],
           "name": "",
           "type": "choropleth",
           "z": [
            27.793324579352834,
            0.032622319695554076,
            0.23669477712422932,
            0.7399970893447819,
            0.007286444202659985,
            0.04252378674320948,
            0,
            0.3952881650723377,
            0.7382793940800834,
            7.3212367442634045,
            1.5191128814804407,
            1.4127772691573062,
            0.19773837964149907,
            0.6945122679081074,
            0.35779647463133546,
            0.8914172606791063,
            0.03663790774098538,
            1.4269277437085566,
            0.7695128996387879,
            0,
            0.31727649853656215,
            0.7291179224850433,
            3.206774903608119,
            0.05372421640544162,
            1.7243686637192628,
            0.3897376337530842,
            1.6372730671309246,
            0.07603297930477344,
            0.03199033294792091,
            0.3588223289116326,
            0.06079119743461146,
            10.738755267608864,
            0.28232882759392247,
            0.9139286886369585,
            0,
            0.03724929540808738,
            0.06935416706091209,
            0
           ]
          }
         ],
         "name": "2020-04-06"
        },
        {
         "data": [
          {
           "coloraxis": "coloraxis",
           "geo": "geo",
           "hovertemplate": "<b>%{hovertext}</b><br><br>date=2020-04-11<br>Country_code=%{location}<br>deaths=%{z}<extra></extra>",
           "hovertext": [
            "Italy",
            "Russia",
            "China",
            "Albania",
            "Bangladesh",
            "Botswana",
            "Cambodia",
            "Croatia",
            "Greece",
            "Sweden",
            "Finland",
            "Norway",
            "Malaysia",
            "Israel",
            "Lithuania",
            "Serbia",
            "Slovakia",
            "Slovenia",
            "Turkey",
            "Vietnam",
            "Bulgaria",
            "Czechia",
            "Denmark",
            "Georgia",
            "Germany",
            "Hungary",
            "Iceland",
            "Japan",
            "Kazakhstan",
            "South Korea",
            "Kyrgyzstan",
            "Netherlands",
            "Poland",
            "Romania",
            "Tajikistan",
            "Thailand",
            "Azerbaijan",
            "Mongolia"
           ],
           "locations": [
            "ITA",
            "RUS",
            "CHN",
            "ALB",
            "BGD",
            "BWA",
            "KHM",
            "HRV",
            "GRC",
            "SWE",
            "FIN",
            "NOR",
            "MYS",
            "ISR",
            "LTU",
            "SRB",
            "SVK",
            "SVN",
            "TUR",
            "VNM",
            "BGR",
            "CZE",
            "DNK",
            "GEO",
            "DEU",
            "HUN",
            "ISL",
            "JPN",
            "KAZ",
            "PRK",
            "KGZ",
            "NLD",
            "POL",
            "ROU",
            "TJK",
            "THA",
            "AZE",
            "MNG"
           ],
           "name": "",
           "type": "choropleth",
           "z": [
            32.74710663383411,
            0.07357374229210067,
            0.2379703777195096,
            0.8104730026157135,
            0.018216110506649966,
            0.04252378674320948,
            0,
            0.5188157166574433,
            0.8691137170816171,
            11.2812724502634,
            2.405262062344031,
            2.212111776706835,
            0.22863500146048332,
            1.1177306811646104,
            0.4651354170207361,
            1.1233306943517194,
            0.03663790774098538,
            2.3782129061809276,
            1.3054448420682672,
            0,
            0.40380645268289733,
            1.205848871802187,
            4.458617513038027,
            0.08058632460816242,
            3.059131018481035,
            0.8717815491845304,
            2.183030756174566,
            0.10929740775061184,
            0.05331722157986818,
            0.40705113656104563,
            0.07598899679326433,
            15.205114239027605,
            0.5488261321451952,
            1.511098002234971,
            0,
            0.05014328228011762,
            0.10898511966714755,
            0
           ]
          }
         ],
         "name": "2020-04-11"
        },
        {
         "data": [
          {
           "coloraxis": "coloraxis",
           "geo": "geo",
           "hovertemplate": "<b>%{hovertext}</b><br><br>date=2020-04-16<br>Country_code=%{location}<br>deaths=%{z}<extra></extra>",
           "hovertext": [
            "Italy",
            "Russia",
            "China",
            "Albania",
            "Bangladesh",
            "Botswana",
            "Cambodia",
            "Croatia",
            "Greece",
            "Sweden",
            "Finland",
            "Norway",
            "Malaysia",
            "Israel",
            "Lithuania",
            "Serbia",
            "Slovakia",
            "Slovenia",
            "Turkey",
            "Vietnam",
            "Bulgaria",
            "Czechia",
            "Denmark",
            "Georgia",
            "Germany",
            "Hungary",
            "Iceland",
            "Japan",
            "Kazakhstan",
            "South Korea",
            "Kyrgyzstan",
            "Netherlands",
            "Poland",
            "Romania",
            "Tajikistan",
            "Thailand",
            "Azerbaijan",
            "Mongolia"
           ],
           "locations": [
            "ITA",
            "RUS",
            "CHN",
            "ALB",
            "BGD",
            "BWA",
            "KHM",
            "HRV",
            "GRC",
            "SWE",
            "FIN",
            "NOR",
            "MYS",
            "ISR",
            "LTU",
            "SRB",
            "SVK",
            "SVN",
            "TUR",
            "VNM",
            "BGR",
            "CZE",
            "DNK",
            "GEO",
            "DEU",
            "HUN",
            "ISL",
            "JPN",
            "KAZ",
            "PRK",
            "KGZ",
            "NLD",
            "POL",
            "ROU",
            "TJK",
            "THA",
            "AZE",
            "MNG"
           ],
           "name": "",
           "type": "choropleth",
           "z": [
            37.29213859010182,
            0.16102932275252224,
            0.23882077811636312,
            0.9161868725221108,
            0.03643222101329993,
            0.04252378674320948,
            0,
            0.8646928610957387,
            0.9812574225115032,
            15.589018608497542,
            3.3094959203681027,
            2.8255545383146123,
            0.26880060982516285,
            1.58435611116537,
            0.7155929492626709,
            1.5436737928833302,
            0.14655163096394153,
            2.9014197455407316,
            1.9480888969283952,
            0,
            0.5480230429267892,
            1.5797554987175937,
            5.504677775712333,
            0.08058632460816242,
            4.291681841571862,
            1.4563879998141567,
            2.183030756174566,
            0.16157008102264356,
            0.0853075545277891,
            0.441775878068623,
            0.07598899679326433,
            19.057993865206548,
            0.8285163725653426,
            2.0355684428732257,
            0,
            0.06590259956815459,
            0.14861607227338303,
            0
           ]
          }
         ],
         "name": "2020-04-16"
        },
        {
         "data": [
          {
           "coloraxis": "coloraxis",
           "geo": "geo",
           "hovertemplate": "<b>%{hovertext}</b><br><br>date=2020-04-21<br>Country_code=%{location}<br>deaths=%{z}<extra></extra>",
           "hovertext": [
            "Italy",
            "Russia",
            "China",
            "Albania",
            "Bangladesh",
            "Botswana",
            "Cambodia",
            "Croatia",
            "Greece",
            "Sweden",
            "Finland",
            "Norway",
            "Malaysia",
            "Israel",
            "Lithuania",
            "Serbia",
            "Slovakia",
            "Slovenia",
            "Turkey",
            "Vietnam",
            "Bulgaria",
            "Czechia",
            "Denmark",
            "Georgia",
            "Germany",
            "Hungary",
            "Iceland",
            "Japan",
            "Kazakhstan",
            "South Korea",
            "Kyrgyzstan",
            "Netherlands",
            "Poland",
            "Romania",
            "Tajikistan",
            "Thailand",
            "Azerbaijan",
            "Mongolia"
           ],
           "locations": [
            "ITA",
            "RUS",
            "CHN",
            "ALB",
            "BGD",
            "BWA",
            "KHM",
            "HRV",
            "GRC",
            "SWE",
            "FIN",
            "NOR",
            "MYS",
            "ISR",
            "LTU",
            "SRB",
            "SVK",
            "SVN",
            "TUR",
            "VNM",
            "BGR",
            "CZE",
            "DNK",
            "GEO",
            "DEU",
            "HUN",
            "ISL",
            "JPN",
            "KAZ",
            "PRK",
            "KGZ",
            "NLD",
            "POL",
            "ROU",
            "TJK",
            "THA",
            "AZE",
            "MNG"
           ],
           "name": "",
           "type": "choropleth",
           "z": [
            41.46038033237842,
            0.3165059102377161,
            0.23928141166465877,
            0.9161868725221108,
            0.06679240519104987,
            0.04252378674320948,
            0,
            1.1858644952170132,
            1.1307823630846845,
            19.761544035307292,
            4.123306392589767,
            3.3832297761398653,
            0.2842489207346549,
            2.0509815411661294,
            0.9302708340414721,
            1.9350277122058648,
            0.2564653541868977,
            3.6624478755186285,
            2.6784740220092784,
            0,
            0.6489746560975135,
            1.878880800249919,
            6.3449556916310375,
            0.10744843281088325,
            5.529042619094261,
            2.1845819997212352,
            2.728788445218208,
            0.2399790909306912,
            0.10130272100174956,
            0.45720909651643515,
            0.10638459551057006,
            22.509531863658516,
            1.0580734566837657,
            2.5860027667113936,
            0,
            0.07020059519216466,
            0.19815476303117735,
            0
           ]
          }
         ],
         "name": "2020-04-21"
        },
        {
         "data": [
          {
           "coloraxis": "coloraxis",
           "geo": "geo",
           "hovertemplate": "<b>%{hovertext}</b><br><br>date=2020-04-26<br>Country_code=%{location}<br>deaths=%{z}<extra></extra>",
           "hovertext": [
            "Italy",
            "Russia",
            "China",
            "Albania",
            "Bangladesh",
            "Botswana",
            "Cambodia",
            "Croatia",
            "Greece",
            "Sweden",
            "Finland",
            "Norway",
            "Malaysia",
            "Israel",
            "Lithuania",
            "Serbia",
            "Slovakia",
            "Slovenia",
            "Turkey",
            "Vietnam",
            "Bulgaria",
            "Czechia",
            "Denmark",
            "Georgia",
            "Germany",
            "Hungary",
            "Iceland",
            "Japan",
            "Kazakhstan",
            "South Korea",
            "Kyrgyzstan",
            "Netherlands",
            "Poland",
            "Romania",
            "Tajikistan",
            "Thailand",
            "Azerbaijan",
            "Mongolia"
           ],
           "locations": [
            "ITA",
            "RUS",
            "CHN",
            "ALB",
            "BGD",
            "BWA",
            "KHM",
            "HRV",
            "GRC",
            "SWE",
            "FIN",
            "NOR",
            "MYS",
            "ISR",
            "LTU",
            "SRB",
            "SVK",
            "SVN",
            "TUR",
            "VNM",
            "BGR",
            "CZE",
            "DNK",
            "GEO",
            "DEU",
            "HUN",
            "ISL",
            "JPN",
            "KAZ",
            "PRK",
            "KGZ",
            "NLD",
            "POL",
            "ROU",
            "TJK",
            "THA",
            "AZE",
            "MNG"
           ],
           "name": "",
           "type": "choropleth",
           "z": [
            44.817850274906306,
            0.518486655586785,
            0.23963574516334774,
            0.9866627857930426,
            0.08804453411547483,
            0.04252378674320948,
            0,
            1.3588030674361609,
            1.2522713773003944,
            23.90509359109753,
            4.466915258638914,
            3.7364240934291915,
            0.30278689382604546,
            2.213757853957092,
            1.1091690713571398,
            2.311887041923861,
            0.32974116966886846,
            3.9002691661367215,
            3.3258608374218794,
            0,
            0.8076129053657947,
            2.0564864480347373,
            7.236679194238643,
            0.13431054101360404,
            6.782035748519277,
            2.7897009573904974,
            2.728788445218208,
            0.31284402943109907,
            0.13329305394967048,
            0.4687840103522943,
            0.12158239486922293,
            25.73173178912364,
            1.4116441379696125,
            3.214328740149303,
            0,
            0.07306592560817139,
            0.20806250118273625,
            0
           ]
          }
         ],
         "name": "2020-04-26"
        },
        {
         "data": [
          {
           "coloraxis": "coloraxis",
           "geo": "geo",
           "hovertemplate": "<b>%{hovertext}</b><br><br>date=2020-05-01<br>Country_code=%{location}<br>deaths=%{z}<extra></extra>",
           "hovertext": [
            "Italy",
            "Russia",
            "China",
            "Albania",
            "Bangladesh",
            "Botswana",
            "Cambodia",
            "Croatia",
            "Greece",
            "Sweden",
            "Finland",
            "Norway",
            "Malaysia",
            "Israel",
            "Lithuania",
            "Serbia",
            "Slovakia",
            "Slovenia",
            "Turkey",
            "Vietnam",
            "Bulgaria",
            "Czechia",
            "Denmark",
            "Georgia",
            "Germany",
            "Hungary",
            "Iceland",
            "Japan",
            "Kazakhstan",
            "South Korea",
            "Kyrgyzstan",
            "Netherlands",
            "Poland",
            "Romania",
            "Tajikistan",
            "Thailand",
            "Azerbaijan",
            "Mongolia"
           ],
           "locations": [
            "ITA",
            "RUS",
            "CHN",
            "ALB",
            "BGD",
            "BWA",
            "KHM",
            "HRV",
            "GRC",
            "SWE",
            "FIN",
            "NOR",
            "MYS",
            "ISR",
            "LTU",
            "SRB",
            "SVK",
            "SVN",
            "TUR",
            "VNM",
            "BGR",
            "CZE",
            "DNK",
            "GEO",
            "DEU",
            "HUN",
            "ISL",
            "JPN",
            "KAZ",
            "PRK",
            "KGZ",
            "NLD",
            "POL",
            "ROU",
            "TJK",
            "THA",
            "AZE",
            "MNG"
           ],
           "name": "",
           "type": "choropleth",
           "z": [
            47.49575215291452,
            0.8113934409383556,
            0.23977747856282333,
            1.0923766556994399,
            0.1032246262043498,
            0.04252378674320948,
            0,
            1.8529132737765832,
            1.3083432300153375,
            28.338401857082893,
            4.702016061725173,
            3.903726664776767,
            0.31823520473553757,
            2.4850517086086965,
            1.1449487188202734,
            2.645262602828242,
            0.4213359390213319,
            4.375911747372907,
            3.862978469989477,
            0,
            0.9806728136584648,
            2.2434397614924406,
            7.888323292298048,
            0.16117264921632485,
            7.7933286677577005,
            3.312769886901216,
            2.728788445218208,
            0.40392520255660896,
            0.13329305394967048,
            0.4822880764941299,
            0.12158239486922293,
            28.128314651836135,
            1.71772025012751,
            3.8634258201471425,
            0,
            0.07736392123218147,
            0.24769345378897173,
            0
           ]
          }
         ],
         "name": "2020-05-01"
        },
        {
         "data": [
          {
           "coloraxis": "coloraxis",
           "geo": "geo",
           "hovertemplate": "<b>%{hovertext}</b><br><br>date=2020-05-06<br>Country_code=%{location}<br>deaths=%{z}<extra></extra>",
           "hovertext": [
            "Italy",
            "Russia",
            "China",
            "Albania",
            "Bangladesh",
            "Botswana",
            "Cambodia",
            "Croatia",
            "Greece",
            "Sweden",
            "Finland",
            "Norway",
            "Malaysia",
            "Israel",
            "Lithuania",
            "Serbia",
            "Slovakia",
            "Slovenia",
            "Turkey",
            "Vietnam",
            "Bulgaria",
            "Czechia",
            "Denmark",
            "Georgia",
            "Germany",
            "Hungary",
            "Iceland",
            "Japan",
            "Kazakhstan",
            "South Korea",
            "Kyrgyzstan",
            "Netherlands",
            "Poland",
            "Romania",
            "Tajikistan",
            "Thailand",
            "Azerbaijan",
            "Mongolia"
           ],
           "locations": [
            "ITA",
            "RUS",
            "CHN",
            "ALB",
            "BGD",
            "BWA",
            "KHM",
            "HRV",
            "GRC",
            "SWE",
            "FIN",
            "NOR",
            "MYS",
            "ISR",
            "LTU",
            "SRB",
            "SVK",
            "SVN",
            "TUR",
            "VNM",
            "BGR",
            "CZE",
            "DNK",
            "GEO",
            "DEU",
            "HUN",
            "ISL",
            "JPN",
            "KAZ",
            "PRK",
            "KGZ",
            "NLD",
            "POL",
            "ROU",
            "TJK",
            "THA",
            "AZE",
            "MNG"
           ],
           "name": "",
           "type": "choropleth",
           "z": [
            49.93143175049988,
            1.0668192632354598,
            0.2398483452625611,
            1.0923766556994399,
            0.11293988514122978,
            0.04252378674320948,
            0,
            2.0999683769467943,
            1.3737603915161045,
            31.12008547495606,
            5.045624927774321,
            4.015261712341817,
            0.3305938534631313,
            2.6152727588414666,
            1.2165080137465405,
            2.9931327533371617,
            0.4579738467623173,
            4.708861554238237,
            4.249513455016049,
            0,
            1.2114193580486918,
            2.4490884062959144,
            8.677155621527852,
            0.24175897382448727,
            8.412610300822847,
            3.825582562892116,
            2.728788445218208,
            0.479166171660291,
            0.15995166473960457,
            0.49386299032998904,
            0.1823735923038344,
            29.917151621133506,
            1.9340843983770577,
            4.486559016945069,
            0.07339340268800192,
            0.07879658644018483,
            0.27741666824364836,
            0
           ]
          }
         ],
         "name": "2020-05-06"
        },
        {
         "data": [
          {
           "coloraxis": "coloraxis",
           "geo": "geo",
           "hovertemplate": "<b>%{hovertext}</b><br><br>date=2020-05-11<br>Country_code=%{location}<br>deaths=%{z}<extra></extra>",
           "hovertext": [
            "Italy",
            "Russia",
            "China",
            "Albania",
            "Bangladesh",
            "Botswana",
            "Cambodia",
            "Croatia",
            "Greece",
            "Sweden",
            "Finland",
            "Norway",
            "Malaysia",
            "Israel",
            "Lithuania",
            "Serbia",
            "Slovakia",
            "Slovenia",
            "Turkey",
            "Vietnam",
            "Bulgaria",
            "Czechia",
            "Denmark",
            "Georgia",
            "Germany",
            "Hungary",
            "Iceland",
            "Japan",
            "Kazakhstan",
            "South Korea",
            "Kyrgyzstan",
            "Netherlands",
            "Poland",
            "Romania",
            "Tajikistan",
            "Thailand",
            "Azerbaijan",
            "Mongolia"
           ],
           "locations": [
            "ITA",
            "RUS",
            "CHN",
            "ALB",
            "BGD",
            "BWA",
            "KHM",
            "HRV",
            "GRC",
            "SWE",
            "FIN",
            "NOR",
            "MYS",
            "ISR",
            "LTU",
            "SRB",
            "SVK",
            "SVN",
            "TUR",
            "VNM",
            "BGR",
            "CZE",
            "DNK",
            "GEO",
            "DEU",
            "HUN",
            "ISL",
            "JPN",
            "KAZ",
            "PRK",
            "KGZ",
            "NLD",
            "POL",
            "ROU",
            "TJK",
            "THA",
            "AZE",
            "MNG"
           ],
           "name": "",
           "type": "choropleth",
           "z": [
            51.7060463744312,
            1.3944306440078327,
            0.2402026787612501,
            1.0923766556994399,
            0.1451216803696447,
            0.04252378674320948,
            0,
            2.248201438848921,
            1.4111416266593997,
            34.16255193200484,
            5.262641053700098,
            4.163975109095218,
            0.33986284000882655,
            2.8214560883766864,
            1.2880673086728076,
            3.210551597405237,
            0.47629280063281,
            4.851554328609092,
            4.554235820512456,
            0,
            1.3412142892681946,
            2.636041719753618,
            9.140165901727954,
            0.2686210820272081,
            8.918858004746006,
            4.31788273184338,
            2.728788445218208,
            0.5425269877476022,
            0.1706151090555782,
            0.4977212949419421,
            0.1823735923038344,
            31.36771493277528,
            2.139894197931506,
            5.0993066604630295,
            0.20969543625143408,
            0.0802292516481882,
            0.3170476208498838,
            0
           ]
          }
         ],
         "name": "2020-05-11"
        },
        {
         "data": [
          {
           "coloraxis": "coloraxis",
           "geo": "geo",
           "hovertemplate": "<b>%{hovertext}</b><br><br>date=2020-05-16<br>Country_code=%{location}<br>deaths=%{z}<extra></extra>",
           "hovertext": [
            "Italy",
            "Russia",
            "China",
            "Albania",
            "Bangladesh",
            "Botswana",
            "Cambodia",
            "Croatia",
            "Greece",
            "Sweden",
            "Finland",
            "Norway",
            "Malaysia",
            "Israel",
            "Lithuania",
            "Serbia",
            "Slovakia",
            "Slovenia",
            "Turkey",
            "Vietnam",
            "Bulgaria",
            "Czechia",
            "Denmark",
            "Georgia",
            "Germany",
            "Hungary",
            "Iceland",
            "Japan",
            "Kazakhstan",
            "South Korea",
            "Kyrgyzstan",
            "Netherlands",
            "Poland",
            "Romania",
            "Tajikistan",
            "Thailand",
            "Azerbaijan",
            "Mongolia"
           ],
           "locations": [
            "ITA",
            "RUS",
            "CHN",
            "ALB",
            "BGD",
            "BWA",
            "KHM",
            "HRV",
            "GRC",
            "SWE",
            "FIN",
            "NOR",
            "MYS",
            "ISR",
            "LTU",
            "SRB",
            "SVK",
            "SVN",
            "TUR",
            "VNM",
            "BGR",
            "CZE",
            "DNK",
            "GEO",
            "DEU",
            "HUN",
            "ISL",
            "JPN",
            "KAZ",
            "PRK",
            "KGZ",
            "NLD",
            "POL",
            "ROU",
            "TJK",
            "THA",
            "AZE",
            "MNG"
           ],
           "name": "",
           "type": "choropleth",
           "z": [
            53.42851592410483,
            1.760911171651504,
            0.2402735454609879,
            1.0923766556994399,
            0.1906619566362696,
            0.04252378674320948,
            0,
            2.3470234801170053,
            1.513940023303462,
            38.1998566273902,
            5.371149116662987,
            4.312688505848619,
            0.3491318265545218,
            2.940825384423392,
            1.502745193451609,
            3.3554974934506197,
            0.5129307083737954,
            4.899118586732711,
            4.856586805732627,
            0,
            1.5142741975608647,
            2.7669090391740103,
            9.500285008550257,
            0.3223452984326497,
            9.476812718808585,
            4.594801576878466,
            2.728788445218208,
            0.6161839364491015,
            0.18127855337155183,
            0.5054379041658482,
            0.2127691910211401,
            32.59467362325488,
            2.4143072640041034,
            5.680897644141094,
            0.37745178525258133,
            0.0802292516481882,
            0.3566785734561193,
            0
           ]
          }
         ],
         "name": "2020-05-16"
        },
        {
         "data": [
          {
           "coloraxis": "coloraxis",
           "geo": "geo",
           "hovertemplate": "<b>%{hovertext}</b><br><br>date=2020-05-21<br>Country_code=%{location}<br>deaths=%{z}<extra></extra>",
           "hovertext": [
            "Italy",
            "Russia",
            "China",
            "Albania",
            "Bangladesh",
            "Botswana",
            "Cambodia",
            "Croatia",
            "Greece",
            "Sweden",
            "Finland",
            "Norway",
            "Malaysia",
            "Israel",
            "Lithuania",
            "Serbia",
            "Slovakia",
            "Slovenia",
            "Turkey",
            "Vietnam",
            "Bulgaria",
            "Czechia",
            "Denmark",
            "Georgia",
            "Germany",
            "Hungary",
            "Iceland",
            "Japan",
            "Kazakhstan",
            "South Korea",
            "Kyrgyzstan",
            "Netherlands",
            "Poland",
            "Romania",
            "Tajikistan",
            "Thailand",
            "Azerbaijan",
            "Mongolia"
           ],
           "locations": [
            "ITA",
            "RUS",
            "CHN",
            "ALB",
            "BGD",
            "BWA",
            "KHM",
            "HRV",
            "GRC",
            "SWE",
            "FIN",
            "NOR",
            "MYS",
            "ISR",
            "LTU",
            "SRB",
            "SVK",
            "SVN",
            "TUR",
            "VNM",
            "BGR",
            "CZE",
            "DNK",
            "GEO",
            "DEU",
            "HUN",
            "ISL",
            "JPN",
            "KAZ",
            "PRK",
            "KGZ",
            "NLD",
            "POL",
            "ROU",
            "TJK",
            "THA",
            "AZE",
            "MNG"
           ],
           "name": "",
           "type": "choropleth",
           "z": [
            54.644673623727904,
            2.150990824181321,
            0.24034441216072566,
            1.0923766556994399,
            0.24773910289043952,
            0.04252378674320948,
            0,
            2.3964345007510475,
            1.5700118760184052,
            40.10260549100482,
            5.461572502465394,
            4.368456029631144,
            0.35531115091831866,
            3.0493429262840337,
            1.645863783304143,
            3.4859487998914647,
            0.5129307083737954,
            5.041811361103567,
            5.037997396864729,
            0,
            1.7305990829267026,
            2.9024501914308454,
            9.808958528683657,
            0.3223452984326497,
            9.796674688508253,
            4.851207914873917,
            2.728788445218208,
            0.6542004261014882,
            0.18661027552953863,
            0.5092962087778012,
            0.2127691910211401,
            33.19668606484534,
            2.564706732909277,
            6.002849795820023,
            0.46132995975315494,
            0.0802292516481882,
            0.4359404786685902,
            0
           ]
          }
         ],
         "name": "2020-05-21"
        },
        {
         "data": [
          {
           "coloraxis": "coloraxis",
           "geo": "geo",
           "hovertemplate": "<b>%{hovertext}</b><br><br>date=2020-05-26<br>Country_code=%{location}<br>deaths=%{z}<extra></extra>",
           "hovertext": [
            "Italy",
            "Russia",
            "China",
            "Albania",
            "Bangladesh",
            "Botswana",
            "Cambodia",
            "Croatia",
            "Greece",
            "Sweden",
            "Finland",
            "Norway",
            "Malaysia",
            "Israel",
            "Lithuania",
            "Serbia",
            "Slovakia",
            "Slovenia",
            "Turkey",
            "Vietnam",
            "Bulgaria",
            "Czechia",
            "Denmark",
            "Georgia",
            "Germany",
            "Hungary",
            "Iceland",
            "Japan",
            "Kazakhstan",
            "South Korea",
            "Kyrgyzstan",
            "Netherlands",
            "Poland",
            "Romania",
            "Tajikistan",
            "Thailand",
            "Azerbaijan",
            "Mongolia"
           ],
           "locations": [
            "ITA",
            "RUS",
            "CHN",
            "ALB",
            "BGD",
            "BWA",
            "KHM",
            "HRV",
            "GRC",
            "SWE",
            "FIN",
            "NOR",
            "MYS",
            "ISR",
            "LTU",
            "SRB",
            "SVK",
            "SVN",
            "TUR",
            "VNM",
            "BGR",
            "CZE",
            "DNK",
            "GEO",
            "DEU",
            "HUN",
            "ISL",
            "JPN",
            "KAZ",
            "PRK",
            "KGZ",
            "NLD",
            "POL",
            "ROU",
            "TJK",
            "THA",
            "AZE",
            "MNG"
           ],
           "name": "",
           "type": "choropleth",
           "z": [
            55.433578134271784,
            2.64240789533988,
            0.24041527886046346,
            1.1628525689703715,
            0.31696032281570935,
            0.04252378674320948,
            0,
            2.495256542019132,
            1.6167384199475243,
            42.55589590399019,
            5.497741856786356,
            4.368456029631144,
            0.35531115091831866,
            3.081898188842226,
            1.824762020619811,
            3.5149379791005413,
            0.5129307083737954,
            5.1369398773508035,
            5.21347953730624,
            0,
            1.8748156731705947,
            3.0052745138325823,
            9.843255586476259,
            0.3223452984326497,
            9.983060422731745,
            5.117870506389185,
            2.728788445218208,
            0.6835048035418696,
            0.19727371984551229,
            0.5189419703076837,
            0.24316478973844585,
            33.661095662643696,
            2.701913265945576,
            6.314416394218985,
            0.4822995033782983,
            0.08166191685619156,
            0.5152023838810612,
            0
           ]
          }
         ],
         "name": "2020-05-26"
        },
        {
         "data": [
          {
           "coloraxis": "coloraxis",
           "geo": "geo",
           "hovertemplate": "<b>%{hovertext}</b><br><br>date=2020-05-31<br>Country_code=%{location}<br>deaths=%{z}<extra></extra>",
           "hovertext": [
            "Italy",
            "Russia",
            "China",
            "Albania",
            "Bangladesh",
            "Botswana",
            "Cambodia",
            "Croatia",
            "Greece",
            "Sweden",
            "Finland",
            "Norway",
            "Malaysia",
            "Israel",
            "Lithuania",
            "Serbia",
            "Slovakia",
            "Slovenia",
            "Turkey",
            "Vietnam",
            "Bulgaria",
            "Czechia",
            "Denmark",
            "Georgia",
            "Germany",
            "Hungary",
            "Iceland",
            "Japan",
            "Kazakhstan",
            "South Korea",
            "Kyrgyzstan",
            "Netherlands",
            "Poland",
            "Romania",
            "Tajikistan",
            "Thailand",
            "Azerbaijan",
            "Mongolia"
           ],
           "locations": [
            "ITA",
            "RUS",
            "CHN",
            "ALB",
            "BGD",
            "BWA",
            "KHM",
            "HRV",
            "GRC",
            "SWE",
            "FIN",
            "NOR",
            "MYS",
            "ISR",
            "LTU",
            "SRB",
            "SVK",
            "SVN",
            "TUR",
            "VNM",
            "BGR",
            "CZE",
            "DNK",
            "GEO",
            "DEU",
            "HUN",
            "ISL",
            "JPN",
            "KAZ",
            "PRK",
            "KGZ",
            "NLD",
            "POL",
            "ROU",
            "TJK",
            "THA",
            "AZE",
            "MNG"
           ],
           "name": "",
           "type": "choropleth",
           "z": [
            56.20734375228923,
            3.257373326196495,
            0.24048614556020126,
            1.1628525689703715,
            0.3946823943107492,
            0.04252378674320948,
            0,
            2.5446675626531743,
            1.6354290375191718,
            45.163724295746285,
            5.5158265339468375,
            4.38704520422532,
            0.35531115091831866,
            3.114453451400419,
            1.9321009630092114,
            3.5729163375186945,
            0.5129307083737954,
            5.1369398773508035,
            5.38303322705716,
            0,
            2.0190322634144864,
            3.0333175108512376,
            10.03188940433556,
            0.3223452984326497,
            10.221153167094654,
            5.39478935142427,
            2.728788445218208,
            0.7112251605800682,
            0.21860060847745955,
            0.5228002749196368,
            0.24316478973844585,
            34.2344408451108,
            2.807456752896575,
            6.574055226218122,
            0.49278427519087004,
            0.08166191685619156,
            0.6241875035482087,
            0
           ]
          }
         ],
         "name": "2020-05-31"
        },
        {
         "data": [
          {
           "coloraxis": "coloraxis",
           "geo": "geo",
           "hovertemplate": "<b>%{hovertext}</b><br><br>date=2020-06-05<br>Country_code=%{location}<br>deaths=%{z}<extra></extra>",
           "hovertext": [
            "Italy",
            "Russia",
            "China",
            "Albania",
            "Bangladesh",
            "Botswana",
            "Cambodia",
            "Croatia",
            "Greece",
            "Sweden",
            "Finland",
            "Norway",
            "Malaysia",
            "Israel",
            "Lithuania",
            "Serbia",
            "Slovakia",
            "Slovenia",
            "Turkey",
            "Vietnam",
            "Bulgaria",
            "Czechia",
            "Denmark",
            "Georgia",
            "Germany",
            "Hungary",
            "Iceland",
            "Japan",
            "Kazakhstan",
            "South Korea",
            "Kyrgyzstan",
            "Netherlands",
            "Poland",
            "Romania",
            "Tajikistan",
            "Thailand",
            "Azerbaijan",
            "Mongolia"
           ],
           "locations": [
            "ITA",
            "RUS",
            "CHN",
            "ALB",
            "BGD",
            "BWA",
            "KHM",
            "HRV",
            "GRC",
            "SWE",
            "FIN",
            "NOR",
            "MYS",
            "ISR",
            "LTU",
            "SRB",
            "SVK",
            "SVN",
            "TUR",
            "VNM",
            "BGR",
            "CZE",
            "DNK",
            "GEO",
            "DEU",
            "HUN",
            "ISL",
            "JPN",
            "KAZ",
            "PRK",
            "KGZ",
            "NLD",
            "POL",
            "ROU",
            "TJK",
            "THA",
            "AZE",
            "MNG"
           ],
           "name": "",
           "type": "choropleth",
           "z": [
            56.81121735417676,
            3.8313873344565637,
            0.24048614556020126,
            1.1628525689703715,
            0.492442187363104,
            0.04252378674320948,
            0,
            2.5446675626531743,
            1.7008461990199388,
            47.520428471999935,
            5.5158265339468375,
            4.42422355341367,
            0.3614904752821155,
            3.190415730702868,
            1.967880610472345,
            3.6308946959368478,
            0.5129307083737954,
            5.184504135474422,
            5.511087761973938,
            0,
            2.293043784877881,
            3.0987511705614335,
            10.23767175109116,
            0.3492074066353705,
            10.357034379786619,
            5.558889407741359,
            2.728788445218208,
            0.7262733544008046,
            0.27724955221531455,
            0.5266585795315898,
            0.33435158589036307,
            34.51537998451968,
            3.0000736165821484,
            6.833694058217258,
            0.5032690470034417,
            0.08309458206419491,
            0.8124345284278273,
            0
           ]
          }
         ],
         "name": "2020-06-05"
        },
        {
         "data": [
          {
           "coloraxis": "coloraxis",
           "geo": "geo",
           "hovertemplate": "<b>%{hovertext}</b><br><br>date=2020-06-10<br>Country_code=%{location}<br>deaths=%{z}<extra></extra>",
           "hovertext": [
            "Italy",
            "Russia",
            "China",
            "Albania",
            "Bangladesh",
            "Botswana",
            "Cambodia",
            "Croatia",
            "Greece",
            "Sweden",
            "Finland",
            "Norway",
            "Malaysia",
            "Israel",
            "Lithuania",
            "Serbia",
            "Slovakia",
            "Slovenia",
            "Turkey",
            "Vietnam",
            "Bulgaria",
            "Czechia",
            "Denmark",
            "Georgia",
            "Germany",
            "Hungary",
            "Iceland",
            "Japan",
            "Kazakhstan",
            "South Korea",
            "Kyrgyzstan",
            "Netherlands",
            "Poland",
            "Romania",
            "Tajikistan",
            "Thailand",
            "Azerbaijan",
            "Mongolia"
           ],
           "locations": [
            "ITA",
            "RUS",
            "CHN",
            "ALB",
            "BGD",
            "BWA",
            "KHM",
            "HRV",
            "GRC",
            "SWE",
            "FIN",
            "NOR",
            "MYS",
            "ISR",
            "LTU",
            "SRB",
            "SVK",
            "SVN",
            "TUR",
            "VNM",
            "BGR",
            "CZE",
            "DNK",
            "GEO",
            "DEU",
            "HUN",
            "ISL",
            "JPN",
            "KAZ",
            "PRK",
            "KGZ",
            "NLD",
            "POL",
            "ROU",
            "TJK",
            "THA",
            "AZE",
            "MNG"
           ],
           "name": "",
           "type": "choropleth",
           "z": [
            57.38313107184184,
            4.40748361844188,
            0.24048614556020126,
            1.1980905256058374,
            0.6144901277576588,
            0.04252378674320948,
            0,
            2.6187840936042375,
            1.7101915078057628,
            49.027173765014574,
            5.5158265339468375,
            4.442812728007845,
            0.3645801374640139,
            3.277229764191381,
            2.075219552861746,
            3.6888730543550006,
            0.5129307083737954,
            5.184504135474422,
            5.627285395509533,
            0,
            2.408417057072995,
            3.126794167580089,
            10.35771145336526,
            0.3492074066353705,
            10.496523058302262,
            5.651195689419721,
            2.728788445218208,
            0.7326094360095358,
            0.3572253845851168,
            0.5324460364495194,
            0.39514278332497454,
            34.72751770203251,
            3.182136131572622,
            7.0621762303764966,
            0.5032690470034417,
            0.08309458206419491,
            1.0105892914590047,
            0
           ]
          }
         ],
         "name": "2020-06-10"
        },
        {
         "data": [
          {
           "coloraxis": "coloraxis",
           "geo": "geo",
           "hovertemplate": "<b>%{hovertext}</b><br><br>date=2020-06-15<br>Country_code=%{location}<br>deaths=%{z}<extra></extra>",
           "hovertext": [
            "Italy",
            "Russia",
            "China",
            "Albania",
            "Bangladesh",
            "Botswana",
            "Cambodia",
            "Croatia",
            "Greece",
            "Sweden",
            "Finland",
            "Norway",
            "Malaysia",
            "Israel",
            "Lithuania",
            "Serbia",
            "Slovakia",
            "Slovenia",
            "Turkey",
            "Vietnam",
            "Bulgaria",
            "Czechia",
            "Denmark",
            "Georgia",
            "Germany",
            "Hungary",
            "Iceland",
            "Japan",
            "Kazakhstan",
            "South Korea",
            "Kyrgyzstan",
            "Netherlands",
            "Poland",
            "Romania",
            "Tajikistan",
            "Thailand",
            "Azerbaijan",
            "Mongolia"
           ],
           "locations": [
            "ITA",
            "RUS",
            "CHN",
            "ALB",
            "BGD",
            "BWA",
            "KHM",
            "HRV",
            "GRC",
            "SWE",
            "FIN",
            "NOR",
            "MYS",
            "ISR",
            "LTU",
            "SRB",
            "SVK",
            "SVN",
            "TUR",
            "VNM",
            "BGR",
            "CZE",
            "DNK",
            "GEO",
            "DEU",
            "HUN",
            "ISL",
            "JPN",
            "KAZ",
            "PRK",
            "KGZ",
            "NLD",
            "POL",
            "ROU",
            "TJK",
            "THA",
            "AZE",
            "MNG"
           ],
           "name": "",
           "type": "choropleth",
           "z": [
            57.81543055842984,
            4.914864803494009,
            0.24048614556020126,
            1.268566438876769,
            0.7341092534179935,
            0.04252378674320948,
            0,
            2.6434896039212585,
            1.7195368165915865,
            49.95440163763896,
            5.5158265339468375,
            4.4985802517903695,
            0.3738491240097092,
            3.309785026749574,
            2.1467788477880125,
            3.746851412773154,
            0.5129307083737954,
            5.184504135474422,
            5.7209549164208795,
            0,
            2.538211988292497,
            3.178206328780958,
            10.443454097846763,
            0.3760695148380913,
            10.57107735199166,
            5.774270731657537,
            2.728788445218208,
            0.738945517618267,
            0.43186949479693226,
            0.5363043410614725,
            0.4255383820422802,
            34.85938709399994,
            3.3140654902613704,
            7.41009226525534,
            0.5242385906285851,
            0.08309458206419491,
            1.208744054490182,
            0
           ]
          }
         ],
         "name": "2020-06-15"
        },
        {
         "data": [
          {
           "coloraxis": "coloraxis",
           "geo": "geo",
           "hovertemplate": "<b>%{hovertext}</b><br><br>date=2020-06-20<br>Country_code=%{location}<br>deaths=%{z}<extra></extra>",
           "hovertext": [
            "Italy",
            "Russia",
            "China",
            "Albania",
            "Bangladesh",
            "Botswana",
            "Cambodia",
            "Croatia",
            "Greece",
            "Sweden",
            "Finland",
            "Norway",
            "Malaysia",
            "Israel",
            "Lithuania",
            "Serbia",
            "Slovakia",
            "Slovenia",
            "Turkey",
            "Vietnam",
            "Bulgaria",
            "Czechia",
            "Denmark",
            "Georgia",
            "Germany",
            "Hungary",
            "Iceland",
            "Japan",
            "Kazakhstan",
            "South Korea",
            "Kyrgyzstan",
            "Netherlands",
            "Poland",
            "Romania",
            "Tajikistan",
            "Thailand",
            "Azerbaijan",
            "Mongolia"
           ],
           "locations": [
            "ITA",
            "RUS",
            "CHN",
            "ALB",
            "BGD",
            "BWA",
            "KHM",
            "HRV",
            "GRC",
            "SWE",
            "FIN",
            "NOR",
            "MYS",
            "ISR",
            "LTU",
            "SRB",
            "SVK",
            "SVN",
            "TUR",
            "VNM",
            "BGR",
            "CZE",
            "DNK",
            "GEO",
            "DEU",
            "HUN",
            "ISL",
            "JPN",
            "KAZ",
            "PRK",
            "KGZ",
            "NLD",
            "POL",
            "ROU",
            "TJK",
            "THA",
            "AZE",
            "MNG"
           ],
           "name": "",
           "type": "choropleth",
           "z": [
            58.21745225996499,
            5.547182532061025,
            0.24055701225993908,
            1.5152321353250295,
            0.8652652490658733,
            0.04252378674320948,
            0,
            2.6434896039212585,
            1.7756086693065294,
            51.51909867269262,
            5.5158265339468375,
            4.53575860097872,
            0.3738491240097092,
            3.3423402893077667,
            2.1467788477880125,
            3.8193243607958456,
            0.5129307083737954,
            5.184504135474422,
            5.841895310508948,
            0,
            2.869910145853449,
            3.234292322818269,
            10.477751155639362,
            0.3760695148380913,
            10.68170630391786,
            5.846064506296263,
            2.728788445218208,
            0.7595377828466431,
            0.6291432146424446,
            0.5401626456734255,
            0.5319229775528503,
            34.99698993779205,
            3.5515383359011183,
            7.789164959974078,
            0.5347233624411568,
            0.08309458206419491,
            1.4663452464307125,
            0
           ]
          }
         ],
         "name": "2020-06-20"
        },
        {
         "data": [
          {
           "coloraxis": "coloraxis",
           "geo": "geo",
           "hovertemplate": "<b>%{hovertext}</b><br><br>date=2020-06-25<br>Country_code=%{location}<br>deaths=%{z}<extra></extra>",
           "hovertext": [
            "Italy",
            "Russia",
            "China",
            "Albania",
            "Bangladesh",
            "Botswana",
            "Cambodia",
            "Croatia",
            "Greece",
            "Sweden",
            "Finland",
            "Norway",
            "Malaysia",
            "Israel",
            "Lithuania",
            "Serbia",
            "Slovakia",
            "Slovenia",
            "Turkey",
            "Vietnam",
            "Bulgaria",
            "Czechia",
            "Denmark",
            "Georgia",
            "Germany",
            "Hungary",
            "Iceland",
            "Japan",
            "Kazakhstan",
            "South Korea",
            "Kyrgyzstan",
            "Netherlands",
            "Poland",
            "Romania",
            "Tajikistan",
            "Thailand",
            "Azerbaijan",
            "Mongolia"
           ],
           "locations": [
            "ITA",
            "RUS",
            "CHN",
            "ALB",
            "BGD",
            "BWA",
            "KHM",
            "HRV",
            "GRC",
            "SWE",
            "FIN",
            "NOR",
            "MYS",
            "ISR",
            "LTU",
            "SRB",
            "SVK",
            "SVN",
            "TUR",
            "VNM",
            "BGR",
            "CZE",
            "DNK",
            "GEO",
            "DEU",
            "HUN",
            "ISL",
            "JPN",
            "KAZ",
            "PRK",
            "KGZ",
            "NLD",
            "POL",
            "ROU",
            "TJK",
            "THA",
            "AZE",
            "MNG"
           ],
           "name": "",
           "type": "choropleth",
           "z": [
            58.42771465616539,
            5.965025860927484,
            0.24055701225993908,
            1.7266598751378244,
            0.984277171042653,
            0.04252378674320948,
            0,
            2.6434896039212585,
            1.7849539780923533,
            53.22867506284384,
            5.570080565428282,
            4.628704473949595,
            0.3738491240097092,
            3.4508578311684084,
            2.182558495251146,
            3.877302719213999,
            0.5129307083737954,
            5.184504135474422,
            5.982992436945028,
            0,
            3.0429700541461187,
            3.3184213138742353,
            10.529196742328264,
            0.3760695148380913,
            10.744235711528322,
            5.917858280934989,
            2.728788445218208,
            0.7690419052597397,
            0.7837631572240623,
            0.5440209502853786,
            0.6535053724220733,
            35.06005790786343,
            3.725685089370267,
            8.126695441572954,
            0.5452081342537285,
            0.08309458206419491,
            1.7833928672805963,
            0
           ]
          }
         ],
         "name": "2020-06-25"
        },
        {
         "data": [
          {
           "coloraxis": "coloraxis",
           "geo": "geo",
           "hovertemplate": "<b>%{hovertext}</b><br><br>date=2020-06-30<br>Country_code=%{location}<br>deaths=%{z}<extra></extra>",
           "hovertext": [
            "Italy",
            "Russia",
            "China",
            "Albania",
            "Bangladesh",
            "Botswana",
            "Cambodia",
            "Croatia",
            "Greece",
            "Sweden",
            "Finland",
            "Norway",
            "Malaysia",
            "Israel",
            "Lithuania",
            "Serbia",
            "Slovakia",
            "Slovenia",
            "Turkey",
            "Vietnam",
            "Bulgaria",
            "Czechia",
            "Denmark",
            "Georgia",
            "Germany",
            "Hungary",
            "Iceland",
            "Japan",
            "Kazakhstan",
            "South Korea",
            "Kyrgyzstan",
            "Netherlands",
            "Poland",
            "Romania",
            "Tajikistan",
            "Thailand",
            "Azerbaijan",
            "Mongolia"
           ],
           "locations": [
            "ITA",
            "RUS",
            "CHN",
            "ALB",
            "BGD",
            "BWA",
            "KHM",
            "HRV",
            "GRC",
            "SWE",
            "FIN",
            "NOR",
            "MYS",
            "ISR",
            "LTU",
            "SRB",
            "SVK",
            "SVN",
            "TUR",
            "VNM",
            "BGR",
            "CZE",
            "DNK",
            "GEO",
            "DEU",
            "HUN",
            "ISL",
            "JPN",
            "KAZ",
            "PRK",
            "KGZ",
            "NLD",
            "POL",
            "ROU",
            "TJK",
            "THA",
            "AZE",
            "MNG"
           ],
           "name": "",
           "type": "choropleth",
           "z": [
            58.57742148226007,
            6.459219299719708,
            0.24062787895967683,
            2.1847533113988797,
            1.1215052035260829,
            0.04252378674320948,
            0,
            2.6434896039212585,
            1.794299286878177,
            54.223513301180425,
            5.588165242588763,
            4.64729364854377,
            0.3738491240097092,
            3.548523618842986,
            2.182558495251146,
            4.065732384072997,
            0.5129307083737954,
            5.27963265172166,
            6.083776098685085,
            0,
            3.3169815756095136,
            3.365159642238661,
            10.563493800120863,
            0.4029316230408121,
            10.799550187491423,
            5.999908309093533,
            2.728788445218208,
            0.7714179358630139,
            1.0023637657015219,
            0.5440209502853786,
            0.9270657608778249,
            35.13459278158415,
            3.8602530352327906,
            8.573274232611467,
            0.5452081342537285,
            0.08309458206419491,
            2.110348226282039,
            0
           ]
          }
         ],
         "name": "2020-06-30"
        },
        {
         "data": [
          {
           "coloraxis": "coloraxis",
           "geo": "geo",
           "hovertemplate": "<b>%{hovertext}</b><br><br>date=2020-07-05<br>Country_code=%{location}<br>deaths=%{z}<extra></extra>",
           "hovertext": [
            "Italy",
            "Russia",
            "China",
            "Albania",
            "Bangladesh",
            "Botswana",
            "Cambodia",
            "Croatia",
            "Greece",
            "Sweden",
            "Finland",
            "Norway",
            "Malaysia",
            "Israel",
            "Lithuania",
            "Serbia",
            "Slovakia",
            "Slovenia",
            "Turkey",
            "Vietnam",
            "Bulgaria",
            "Czechia",
            "Denmark",
            "Georgia",
            "Germany",
            "Hungary",
            "Iceland",
            "Japan",
            "Kazakhstan",
            "South Korea",
            "Kyrgyzstan",
            "Netherlands",
            "Poland",
            "Romania",
            "Tajikistan",
            "Thailand",
            "Azerbaijan",
            "Mongolia"
           ],
           "locations": [
            "ITA",
            "RUS",
            "CHN",
            "ALB",
            "BGD",
            "BWA",
            "KHM",
            "HRV",
            "GRC",
            "SWE",
            "FIN",
            "NOR",
            "MYS",
            "ISR",
            "LTU",
            "SRB",
            "SVK",
            "SVN",
            "TUR",
            "VNM",
            "BGR",
            "CZE",
            "DNK",
            "GEO",
            "DEU",
            "HUN",
            "ISL",
            "JPN",
            "KAZ",
            "PRK",
            "KGZ",
            "NLD",
            "POL",
            "ROU",
            "TJK",
            "THA",
            "AZE",
            "MNG"
           ],
           "name": "",
           "type": "choropleth",
           "z": [
            58.73553880420277,
            7.041562410880768,
            0.24062787895967683,
            2.6780847042954012,
            1.2459819586548575,
            0.04252378674320948,
            0,
            2.7917226658233854,
            1.794299286878177,
            55.063813560746276,
            5.588165242588763,
            4.665882823137945,
            0.3738491240097092,
            3.7004481774478846,
            2.2183381427142796,
            4.558548430627299,
            0.5129307083737954,
            5.27963265172166,
            6.195230971668206,
            0,
            3.54772811999974,
            3.421245636275972,
            10.580642329017163,
            0.4029316230408121,
            10.846447243199268,
            6.040933323172805,
            2.728788445218208,
            0.7737939664662881,
            1.3862477610765727,
            0.5478792548973316,
            1.3374063435614523,
            35.21486110712955,
            4.002736742616639,
            9.087359119969758,
            0.5452081342537285,
            0.08309458206419491,
            2.476934537889717,
            0
           ]
          }
         ],
         "name": "2020-07-05"
        },
        {
         "data": [
          {
           "coloraxis": "coloraxis",
           "geo": "geo",
           "hovertemplate": "<b>%{hovertext}</b><br><br>date=2020-07-10<br>Country_code=%{location}<br>deaths=%{z}<extra></extra>",
           "hovertext": [
            "Italy",
            "Russia",
            "China",
            "Albania",
            "Bangladesh",
            "Botswana",
            "Cambodia",
            "Croatia",
            "Greece",
            "Sweden",
            "Finland",
            "Norway",
            "Malaysia",
            "Israel",
            "Lithuania",
            "Serbia",
            "Slovakia",
            "Slovenia",
            "Turkey",
            "Vietnam",
            "Bulgaria",
            "Czechia",
            "Denmark",
            "Georgia",
            "Germany",
            "Hungary",
            "Iceland",
            "Japan",
            "Kazakhstan",
            "South Korea",
            "Kyrgyzstan",
            "Netherlands",
            "Poland",
            "Romania",
            "Tajikistan",
            "Thailand",
            "Azerbaijan",
            "Mongolia"
           ],
           "locations": [
            "ITA",
            "RUS",
            "CHN",
            "ALB",
            "BGD",
            "BWA",
            "KHM",
            "HRV",
            "GRC",
            "SWE",
            "FIN",
            "NOR",
            "MYS",
            "ISR",
            "LTU",
            "SRB",
            "SVK",
            "SVN",
            "TUR",
            "VNM",
            "BGR",
            "CZE",
            "DNK",
            "GEO",
            "DEU",
            "HUN",
            "ISL",
            "JPN",
            "KAZ",
            "PRK",
            "KGZ",
            "NLD",
            "POL",
            "ROU",
            "TJK",
            "THA",
            "AZE",
            "MNG"
           ],
           "name": "",
           "type": "choropleth",
           "z": [
            58.865060440262205,
            7.635010992576486,
            0.24062787895967683,
            2.9952263140145936,
            1.3813883800876223,
            0.04252378674320948,
            0,
            2.8905447070914696,
            1.8036445956640008,
            56.08762767010237,
            5.588165242588763,
            4.68447199773212,
            0.3769387861916076,
            3.993445540471617,
            2.2183381427142796,
            5.41372921729506,
            0.5129307083737954,
            5.27963265172166,
            6.311428605203802,
            0,
            3.850582959511913,
            3.458636298967513,
            10.632087915706062,
            0.4029316230408121,
            10.896951764730794,
            6.081958337252077,
            2.728788445218208,
            0.777754017471745,
            1.7701317564516237,
            0.5555958641212376,
            1.8997249198316084,
            35.280795803113264,
            4.121473165436513,
            9.591058454048081,
            0.566177677878872,
            0.08309458206419491,
            2.8930595402551895,
            0
           ]
          }
         ],
         "name": "2020-07-10"
        },
        {
         "data": [
          {
           "coloraxis": "coloraxis",
           "geo": "geo",
           "hovertemplate": "<b>%{hovertext}</b><br><br>date=2020-07-15<br>Country_code=%{location}<br>deaths=%{z}<extra></extra>",
           "hovertext": [
            "Italy",
            "Russia",
            "China",
            "Albania",
            "Bangladesh",
            "Botswana",
            "Cambodia",
            "Croatia",
            "Greece",
            "Sweden",
            "Finland",
            "Norway",
            "Malaysia",
            "Israel",
            "Lithuania",
            "Serbia",
            "Slovakia",
            "Slovenia",
            "Turkey",
            "Vietnam",
            "Bulgaria",
            "Czechia",
            "Denmark",
            "Georgia",
            "Germany",
            "Hungary",
            "Iceland",
            "Japan",
            "Kazakhstan",
            "South Korea",
            "Kyrgyzstan",
            "Netherlands",
            "Poland",
            "Romania",
            "Tajikistan",
            "Thailand",
            "Azerbaijan",
            "Mongolia"
           ],
           "locations": [
            "ITA",
            "RUS",
            "CHN",
            "ALB",
            "BGD",
            "BWA",
            "KHM",
            "HRV",
            "GRC",
            "SWE",
            "FIN",
            "NOR",
            "MYS",
            "ISR",
            "LTU",
            "SRB",
            "SVK",
            "SVN",
            "TUR",
            "VNM",
            "BGR",
            "CZE",
            "DNK",
            "GEO",
            "DEU",
            "HUN",
            "ISL",
            "JPN",
            "KAZ",
            "PRK",
            "KGZ",
            "NLD",
            "POL",
            "ROU",
            "TJK",
            "THA",
            "AZE",
            "MNG"
           ],
           "name": "",
           "type": "choropleth",
           "z": [
            58.96430429126879,
            8.157662199613767,
            0.24062787895967683,
            3.559033620182046,
            1.4918994504946321,
            0.04252378674320948,
            0,
            2.9646612380425332,
            1.8036445956640008,
            56.53192435906822,
            5.588165242588763,
            4.703061172326295,
            0.3769387861916076,
            4.308146411867479,
            2.2183381427142796,
            6.26891000396282,
            0.5129307083737954,
            5.27963265172166,
            6.42525485846316,
            0,
            4.167859458048476,
            3.4866792959861685,
            10.649236444602364,
            0.4029316230408121,
            10.917394071064985,
            6.102470844291712,
            2.728788445218208,
            0.7801300480750193,
            1.999395809245057,
            0.5613833210391672,
            2.507636894177723,
            35.29512943267495,
            4.205907954997313,
            10.136300001246266,
            0.5871472215040153,
            0.08309458206419491,
            3.2299226374081913,
            0
           ]
          }
         ],
         "name": "2020-07-15"
        },
        {
         "data": [
          {
           "coloraxis": "coloraxis",
           "geo": "geo",
           "hovertemplate": "<b>%{hovertext}</b><br><br>date=2020-07-20<br>Country_code=%{location}<br>deaths=%{z}<extra></extra>",
           "hovertext": [
            "Italy",
            "Russia",
            "China",
            "Albania",
            "Bangladesh",
            "Botswana",
            "Cambodia",
            "Croatia",
            "Greece",
            "Sweden",
            "Finland",
            "Norway",
            "Malaysia",
            "Israel",
            "Lithuania",
            "Serbia",
            "Slovakia",
            "Slovenia",
            "Turkey",
            "Vietnam",
            "Bulgaria",
            "Czechia",
            "Denmark",
            "Georgia",
            "Germany",
            "Hungary",
            "Iceland",
            "Japan",
            "Kazakhstan",
            "South Korea",
            "Kyrgyzstan",
            "Netherlands",
            "Poland",
            "Romania",
            "Tajikistan",
            "Thailand",
            "Azerbaijan",
            "Mongolia"
           ],
           "locations": [
            "ITA",
            "RUS",
            "CHN",
            "ALB",
            "BGD",
            "BWA",
            "KHM",
            "HRV",
            "GRC",
            "SWE",
            "FIN",
            "NOR",
            "MYS",
            "ISR",
            "LTU",
            "SRB",
            "SVK",
            "SVN",
            "TUR",
            "VNM",
            "BGR",
            "CZE",
            "DNK",
            "GEO",
            "DEU",
            "HUN",
            "ISL",
            "JPN",
            "KAZ",
            "PRK",
            "KGZ",
            "NLD",
            "POL",
            "ROU",
            "TJK",
            "THA",
            "AZE",
            "MNG"
           ],
           "name": "",
           "type": "choropleth",
           "z": [
            59.06691234061458,
            8.612292399626277,
            0.24062787895967683,
            3.981889099807636,
            1.620019427724737,
            0.04252378674320948,
            0,
            3.014072258676575,
            1.822335213235649,
            56.985879671707245,
            5.588165242588763,
            4.7402395215146464,
            0.380028448373506,
            4.861585875356751,
            2.254117790177413,
            7.037123253003351,
            0.5129307083737954,
            5.374761167968897,
            6.53078128075569,
            0,
            4.44187097951187,
            3.5240699586777096,
            10.666384973498664,
            0.4029316230408121,
            10.935431400183386,
            6.112727097811531,
            2.728788445218208,
            0.7825060786782935,
            3.119057462422289,
            0.5710290825690498,
            15.760117934923024,
            35.309463062236624,
            4.292981331731887,
            10.582878792284781,
            0.597631993316587,
            0.08309458206419491,
            3.596508949015869,
            0
           ]
          }
         ],
         "name": "2020-07-20"
        },
        {
         "data": [
          {
           "coloraxis": "coloraxis",
           "geo": "geo",
           "hovertemplate": "<b>%{hovertext}</b><br><br>date=2020-07-25<br>Country_code=%{location}<br>deaths=%{z}<extra></extra>",
           "hovertext": [
            "Italy",
            "Russia",
            "China",
            "Albania",
            "Bangladesh",
            "Botswana",
            "Cambodia",
            "Croatia",
            "Greece",
            "Sweden",
            "Finland",
            "Norway",
            "Malaysia",
            "Israel",
            "Lithuania",
            "Serbia",
            "Slovakia",
            "Slovenia",
            "Turkey",
            "Vietnam",
            "Bulgaria",
            "Czechia",
            "Denmark",
            "Georgia",
            "Germany",
            "Hungary",
            "Iceland",
            "Japan",
            "Kazakhstan",
            "South Korea",
            "Kyrgyzstan",
            "Netherlands",
            "Poland",
            "Romania",
            "Tajikistan",
            "Thailand",
            "Azerbaijan",
            "Mongolia"
           ],
           "locations": [
            "ITA",
            "RUS",
            "CHN",
            "ALB",
            "BGD",
            "BWA",
            "KHM",
            "HRV",
            "GRC",
            "SWE",
            "FIN",
            "NOR",
            "MYS",
            "ISR",
            "LTU",
            "SRB",
            "SVK",
            "SVN",
            "TUR",
            "VNM",
            "BGR",
            "CZE",
            "DNK",
            "GEO",
            "DEU",
            "HUN",
            "ISL",
            "JPN",
            "KAZ",
            "PRK",
            "KGZ",
            "NLD",
            "POL",
            "ROU",
            "TJK",
            "THA",
            "AZE",
            "MNG"
           ],
           "name": "",
           "type": "choropleth",
           "z": [
            59.14092470407713,
            9.142578617656135,
            0.24062787895967683,
            4.721886189152419,
            1.7451033865370664,
            0.04252378674320948,
            0,
            3.2858328721638075,
            1.8784070659505918,
            57.73925231821456,
            5.606249919749245,
            4.7402395215146464,
            0.380028448373506,
            5.360766567915704,
            2.254117790177413,
            7.558928478766731,
            0.5129307083737954,
            5.517453942339752,
            6.635122012910102,
            0,
            4.874520750243546,
            3.6175466154065608,
            10.700682031291263,
            0.429793731243533,
            10.973911035635979,
            6.112727097811531,
            2.728788445218208,
            0.7904261806892072,
            3.119057462422289,
            0.5748873871810029,
            18.98205139895743,
            35.3323968695353,
            4.390609057161561,
            11.242361425562587,
            0.6081167651291588,
            0.08309458206419491,
            4.042357165836019,
            0
           ]
          }
         ],
         "name": "2020-07-25"
        },
        {
         "data": [
          {
           "coloraxis": "coloraxis",
           "geo": "geo",
           "hovertemplate": "<b>%{hovertext}</b><br><br>date=2020-07-30<br>Country_code=%{location}<br>deaths=%{z}<extra></extra>",
           "hovertext": [
            "Italy",
            "Russia",
            "China",
            "Albania",
            "Bangladesh",
            "Botswana",
            "Cambodia",
            "Croatia",
            "Greece",
            "Sweden",
            "Finland",
            "Norway",
            "Malaysia",
            "Israel",
            "Lithuania",
            "Serbia",
            "Slovakia",
            "Slovenia",
            "Turkey",
            "Vietnam",
            "Bulgaria",
            "Czechia",
            "Denmark",
            "Georgia",
            "Germany",
            "Hungary",
            "Iceland",
            "Japan",
            "Kazakhstan",
            "South Korea",
            "Kyrgyzstan",
            "Netherlands",
            "Poland",
            "Romania",
            "Tajikistan",
            "Thailand",
            "Azerbaijan",
            "Mongolia"
           ],
           "locations": [
            "ITA",
            "RUS",
            "CHN",
            "ALB",
            "BGD",
            "BWA",
            "KHM",
            "HRV",
            "GRC",
            "SWE",
            "FIN",
            "NOR",
            "MYS",
            "ISR",
            "LTU",
            "SRB",
            "SVK",
            "SVN",
            "TUR",
            "VNM",
            "BGR",
            "CZE",
            "DNK",
            "GEO",
            "DEU",
            "HUN",
            "ISL",
            "JPN",
            "KAZ",
            "PRK",
            "KGZ",
            "NLD",
            "POL",
            "ROU",
            "TJK",
            "THA",
            "AZE",
            "MNG"
           ],
           "name": "",
           "type": "choropleth",
           "z": [
            59.19138767916522,
            9.563198314156256,
            0.24062787895967683,
            5.426645321861733,
            1.8720089564000613,
            0.08504757348641896,
            0,
            3.5575934856510396,
            1.8970976835222393,
            58.14491451248773,
            5.642419274070208,
            4.7402395215146464,
            0.3862077727373029,
            5.968464802335298,
            2.254117790177413,
            8.240174190180031,
            0.5129307083737954,
            5.5650182004633715,
            6.727605843683332,
            0,
            5.393700475121556,
            3.7110232721354124,
            10.734979089083863,
            0.45665583944625376,
            10.993150853362273,
            6.112727097811531,
            2.728788445218208,
            0.7975542724990298,
            4.228055671283547,
            0.5806748440989323,
            20.72979832520251,
            35.5416678611358,
            4.509345479981435,
            11.964157378520184,
            0.6290863087543022,
            0.08309458206419491,
            4.3693125248374605,
            0
           ]
          }
         ],
         "name": "2020-07-30"
        },
        {
         "data": [
          {
           "coloraxis": "coloraxis",
           "geo": "geo",
           "hovertemplate": "<b>%{hovertext}</b><br><br>date=2020-08-04<br>Country_code=%{location}<br>deaths=%{z}<extra></extra>",
           "hovertext": [
            "Italy",
            "Russia",
            "China",
            "Albania",
            "Bangladesh",
            "Botswana",
            "Cambodia",
            "Croatia",
            "Greece",
            "Sweden",
            "Finland",
            "Norway",
            "Malaysia",
            "Israel",
            "Lithuania",
            "Serbia",
            "Slovakia",
            "Slovenia",
            "Turkey",
            "Vietnam",
            "Bulgaria",
            "Czechia",
            "Denmark",
            "Georgia",
            "Germany",
            "Hungary",
            "Iceland",
            "Japan",
            "Kazakhstan",
            "South Korea",
            "Kyrgyzstan",
            "Netherlands",
            "Poland",
            "Romania",
            "Tajikistan",
            "Thailand",
            "Azerbaijan",
            "Mongolia"
           ],
           "locations": [
            "ITA",
            "RUS",
            "CHN",
            "ALB",
            "BGD",
            "BWA",
            "KHM",
            "HRV",
            "GRC",
            "SWE",
            "FIN",
            "NOR",
            "MYS",
            "ISR",
            "LTU",
            "SRB",
            "SVK",
            "SVN",
            "TUR",
            "VNM",
            "BGR",
            "CZE",
            "DNK",
            "GEO",
            "DEU",
            "HUN",
            "ISL",
            "JPN",
            "KAZ",
            "PRK",
            "KGZ",
            "NLD",
            "POL",
            "ROU",
            "TJK",
            "THA",
            "AZE",
            "MNG"
           ],
           "name": "",
           "type": "choropleth",
           "z": [
            59.25698954677974,
            9.944254771876665,
            0.24062787895967683,
            6.201880367841982,
            1.9636967126168663,
            0.08504757348641896,
            0,
            3.8046485888212507,
            1.9531695362371826,
            58.2221835018731,
            5.66050395123069,
            4.7588286961088215,
            0.3862077727373029,
            6.67382882442947,
            2.254117790177413,
            8.819957774361564,
            0.5312496622442879,
            5.850403749205083,
            6.835503646252098,
            0.008218734805292985,
            5.984988495121513,
            3.809173761700707,
            10.752127617980163,
            0.45665583944625376,
            11.03644044324644,
            6.133239604851167,
            2.728788445218208,
            0.810226435716492,
            5.912879873207381,
            0.5826039964049089,
            21.68725968479764,
            35.564601668434484,
            4.585864508020909,
            12.878086067157142,
            0.639571080566874,
            0.08309458206419491,
            4.686360145687345,
            0
           ]
          }
         ],
         "name": "2020-08-04"
        },
        {
         "data": [
          {
           "coloraxis": "coloraxis",
           "geo": "geo",
           "hovertemplate": "<b>%{hovertext}</b><br><br>date=2020-08-09<br>Country_code=%{location}<br>deaths=%{z}<extra></extra>",
           "hovertext": [
            "Italy",
            "Russia",
            "China",
            "Albania",
            "Bangladesh",
            "Botswana",
            "Cambodia",
            "Croatia",
            "Greece",
            "Sweden",
            "Finland",
            "Norway",
            "Malaysia",
            "Israel",
            "Lithuania",
            "Serbia",
            "Slovakia",
            "Slovenia",
            "Turkey",
            "Vietnam",
            "Bulgaria",
            "Czechia",
            "Denmark",
            "Georgia",
            "Germany",
            "Hungary",
            "Iceland",
            "Japan",
            "Kazakhstan",
            "South Korea",
            "Kyrgyzstan",
            "Netherlands",
            "Poland",
            "Romania",
            "Tajikistan",
            "Thailand",
            "Azerbaijan",
            "Mongolia"
           ],
           "locations": [
            "ITA",
            "RUS",
            "CHN",
            "ALB",
            "BGD",
            "BWA",
            "KHM",
            "HRV",
            "GRC",
            "SWE",
            "FIN",
            "NOR",
            "MYS",
            "ISR",
            "LTU",
            "SRB",
            "SVK",
            "SVN",
            "TUR",
            "VNM",
            "BGR",
            "CZE",
            "DNK",
            "GEO",
            "DEU",
            "HUN",
            "ISL",
            "JPN",
            "KAZ",
            "PRK",
            "KGZ",
            "NLD",
            "POL",
            "ROU",
            "TJK",
            "THA",
            "AZE",
            "MNG"
           ],
           "name": "",
           "type": "choropleth",
           "z": [
            59.31418091854625,
            10.344051711124306,
            0.24062787895967683,
            7.012353370457696,
            2.063885320403441,
            0.08504757348641896,
            0,
            3.878765119772314,
            1.981205462594654,
            58.434673222682854,
            5.66050395123069,
            4.7588286961088215,
            0.3862077727373029,
            7.227268287918742,
            2.2898974376405468,
            9.341763000124942,
            0.5678875699852735,
            6.040660781699557,
            6.929173167163445,
            0.013355444058601099,
            6.446481583901967,
            3.8933027527566733,
            10.769276146876464,
            0.45665583944625376,
            11.084539987562179,
            6.174264618930438,
            2.728788445218208,
            0.8308187009448682,
            7.640357852395111,
            0.5883914533228385,
            22.31036945850241,
            35.61046928303185,
            4.767927023011382,
            14.02049692795334,
            0.6500558523794455,
            0.08309458206419491,
            4.854791694263846,
            0
           ]
          }
         ],
         "name": "2020-08-09"
        },
        {
         "data": [
          {
           "coloraxis": "coloraxis",
           "geo": "geo",
           "hovertemplate": "<b>%{hovertext}</b><br><br>date=2020-08-14<br>Country_code=%{location}<br>deaths=%{z}<extra></extra>",
           "hovertext": [
            "Italy",
            "Russia",
            "China",
            "Albania",
            "Bangladesh",
            "Botswana",
            "Cambodia",
            "Croatia",
            "Greece",
            "Sweden",
            "Finland",
            "Norway",
            "Malaysia",
            "Israel",
            "Lithuania",
            "Serbia",
            "Slovakia",
            "Slovenia",
            "Turkey",
            "Vietnam",
            "Bulgaria",
            "Czechia",
            "Denmark",
            "Georgia",
            "Germany",
            "Hungary",
            "Iceland",
            "Japan",
            "Kazakhstan",
            "South Korea",
            "Kyrgyzstan",
            "Netherlands",
            "Poland",
            "Romania",
            "Tajikistan",
            "Thailand",
            "Azerbaijan",
            "Mongolia"
           ],
           "locations": [
            "ITA",
            "RUS",
            "CHN",
            "ALB",
            "BGD",
            "BWA",
            "KHM",
            "HRV",
            "GRC",
            "SWE",
            "FIN",
            "NOR",
            "MYS",
            "ISR",
            "LTU",
            "SRB",
            "SVK",
            "SVN",
            "TUR",
            "VNM",
            "BGR",
            "CZE",
            "DNK",
            "GEO",
            "DEU",
            "HUN",
            "ISL",
            "JPN",
            "KAZ",
            "PRK",
            "KGZ",
            "NLD",
            "POL",
            "ROU",
            "TJK",
            "THA",
            "AZE",
            "MNG"
           ],
           "name": "",
           "type": "choropleth",
           "z": [
            59.362961794464745,
            10.735519547470954,
            0.24062787895967683,
            7.717112503167011,
            2.1804684276460007,
            0.12757136022962845,
            0,
            4.026998181674441,
            2.0840038592387162,
            58.62784569614627,
            5.66050395123069,
            4.851774569079696,
            0.3862077727373029,
            7.97603932675717,
            2.2898974376405468,
            9.689633150633863,
            0.5678875699852735,
            6.135789297946793,
            7.035885279594094,
            0.022601520714555706,
            7.09545623999948,
            3.9306934154482143,
            10.837870262461665,
            0.45665583944625376,
            11.11941215719109,
            6.225545886529529,
            2.728788445218208,
            0.8601230783852496,
            7.640357852395111,
            0.5883914533228385,
            22.659918843751424,
            35.66780380127856,
            4.902494968873906,
            15.079823362509813,
            0.6605406241920173,
            0.08309458206419491,
            4.99350002838567,
            0
           ]
          }
         ],
         "name": "2020-08-14"
        },
        {
         "data": [
          {
           "coloraxis": "coloraxis",
           "geo": "geo",
           "hovertemplate": "<b>%{hovertext}</b><br><br>date=2020-08-19<br>Country_code=%{location}<br>deaths=%{z}<extra></extra>",
           "hovertext": [
            "Italy",
            "Russia",
            "China",
            "Albania",
            "Bangladesh",
            "Botswana",
            "Cambodia",
            "Croatia",
            "Greece",
            "Sweden",
            "Finland",
            "Norway",
            "Malaysia",
            "Israel",
            "Lithuania",
            "Serbia",
            "Slovakia",
            "Slovenia",
            "Turkey",
            "Vietnam",
            "Bulgaria",
            "Czechia",
            "Denmark",
            "Georgia",
            "Germany",
            "Hungary",
            "Iceland",
            "Japan",
            "Kazakhstan",
            "South Korea",
            "Kyrgyzstan",
            "Netherlands",
            "Poland",
            "Romania",
            "Tajikistan",
            "Thailand",
            "Azerbaijan",
            "Mongolia"
           ],
           "locations": [
            "ITA",
            "RUS",
            "CHN",
            "ALB",
            "BGD",
            "BWA",
            "KHM",
            "HRV",
            "GRC",
            "SWE",
            "FIN",
            "NOR",
            "MYS",
            "ISR",
            "LTU",
            "SRB",
            "SVK",
            "SVN",
            "TUR",
            "VNM",
            "BGR",
            "CZE",
            "DNK",
            "GEO",
            "DEU",
            "HUN",
            "ISL",
            "JPN",
            "KAZ",
            "PRK",
            "KGZ",
            "NLD",
            "POL",
            "ROU",
            "TJK",
            "THA",
            "AZE",
            "MNG"
           ],
           "name": "",
           "type": "choropleth",
           "z": [
            59.6623754466541,
            11.07146003114432,
            0.24062787895967683,
            8.245681852698999,
            2.2958371275214504,
            0.12757136022962845,
            0,
            4.150525733259546,
            2.1961475646686024,
            58.81135954593651,
            5.6785886283911715,
            4.870363743673871,
            0.3862077727373029,
            8.616292823734957,
            2.2898974376405468,
            9.96503035312009,
            0.6045254777262588,
            6.135789297946793,
            7.160382744096516,
            0.027224559042533007,
            7.600214305853103,
            4.024170072177066,
            10.837870262461665,
            0.45665583944625376,
            11.141056952133173,
            6.246058393569165,
            2.728788445218208,
            0.9100197210540071,
            8.706702283992474,
            0.5922497579347916,
            22.766303439261996,
            35.748072126823956,
            5.04761726343153,
            16.128764243786325,
            0.6815101678171607,
            0.08309458206419491,
            5.052946457295023,
            0
           ]
          }
         ],
         "name": "2020-08-19"
        },
        {
         "data": [
          {
           "coloraxis": "coloraxis",
           "geo": "geo",
           "hovertemplate": "<b>%{hovertext}</b><br><br>date=2020-08-24<br>Country_code=%{location}<br>deaths=%{z}<extra></extra>",
           "hovertext": [
            "Italy",
            "Russia",
            "China",
            "Albania",
            "Bangladesh",
            "Botswana",
            "Cambodia",
            "Croatia",
            "Greece",
            "Sweden",
            "Finland",
            "Norway",
            "Malaysia",
            "Israel",
            "Lithuania",
            "Serbia",
            "Slovakia",
            "Slovenia",
            "Turkey",
            "Vietnam",
            "Bulgaria",
            "Czechia",
            "Denmark",
            "Georgia",
            "Germany",
            "Hungary",
            "Iceland",
            "Japan",
            "Kazakhstan",
            "South Korea",
            "Kyrgyzstan",
            "Netherlands",
            "Poland",
            "Romania",
            "Tajikistan",
            "Thailand",
            "Azerbaijan",
            "Mongolia"
           ],
           "locations": [
            "ITA",
            "RUS",
            "CHN",
            "ALB",
            "BGD",
            "BWA",
            "KHM",
            "HRV",
            "GRC",
            "SWE",
            "FIN",
            "NOR",
            "MYS",
            "ISR",
            "LTU",
            "SRB",
            "SVK",
            "SVN",
            "TUR",
            "VNM",
            "BGR",
            "CZE",
            "DNK",
            "GEO",
            "DEU",
            "HUN",
            "ISL",
            "JPN",
            "KAZ",
            "PRK",
            "KGZ",
            "NLD",
            "POL",
            "ROU",
            "TJK",
            "THA",
            "AZE",
            "MNG"
           ],
           "name": "",
           "type": "choropleth",
           "z": [
            59.71115632257259,
            11.38727184947362,
            0.24069874565941465,
            8.950440985408314,
            2.4184922715995603,
            0.12757136022962845,
            0,
            4.274053284844652,
            2.261564726169369,
            58.88862853532188,
            5.6785886283911715,
            4.907542092862222,
            0.3862077727373029,
            9.310805091643063,
            2.433016027493081,
            10.211438376397243,
            0.6045254777262588,
            6.326046330441269,
            7.278951757908349,
            0.029279242743856255,
            8.119394030731113,
            4.126994394578802,
            10.872167320254265,
            0.45665583944625376,
            11.175929121762085,
            6.287083407648437,
            2.728788445218208,
            0.9527882719129422,
            9.495797163374524,
            0.5980372148527211,
            22.7966990379793,
            35.86847461514204,
            5.171630860598954,
            17.182897901702816,
            0.6919949396297324,
            0.08309458206419491,
            5.142116100659052,
            0
           ]
          }
         ],
         "name": "2020-08-24"
        },
        {
         "data": [
          {
           "coloraxis": "coloraxis",
           "geo": "geo",
           "hovertemplate": "<b>%{hovertext}</b><br><br>date=2020-08-29<br>Country_code=%{location}<br>deaths=%{z}<extra></extra>",
           "hovertext": [
            "Italy",
            "Russia",
            "China",
            "Albania",
            "Bangladesh",
            "Botswana",
            "Cambodia",
            "Croatia",
            "Greece",
            "Sweden",
            "Finland",
            "Norway",
            "Malaysia",
            "Israel",
            "Lithuania",
            "Serbia",
            "Slovakia",
            "Slovenia",
            "Turkey",
            "Vietnam",
            "Bulgaria",
            "Czechia",
            "Denmark",
            "Georgia",
            "Germany",
            "Hungary",
            "Iceland",
            "Japan",
            "Kazakhstan",
            "South Korea",
            "Kyrgyzstan",
            "Netherlands",
            "Poland",
            "Romania",
            "Tajikistan",
            "Thailand",
            "Azerbaijan",
            "Mongolia"
           ],
           "locations": [
            "ITA",
            "RUS",
            "CHN",
            "ALB",
            "BGD",
            "BWA",
            "KHM",
            "HRV",
            "GRC",
            "SWE",
            "FIN",
            "NOR",
            "MYS",
            "ISR",
            "LTU",
            "SRB",
            "SVK",
            "SVN",
            "TUR",
            "VNM",
            "BGR",
            "CZE",
            "DNK",
            "GEO",
            "DEU",
            "HUN",
            "ISL",
            "JPN",
            "KAZ",
            "PRK",
            "KGZ",
            "NLD",
            "POL",
            "ROU",
            "TJK",
            "THA",
            "AZE",
            "MNG"
           ],
           "name": "",
           "type": "choropleth",
           "z": [
            59.76498349599989,
            11.783598329179181,
            0.24069874565941465,
            9.690438074753096,
            2.553898693032325,
            0.12757136022962845,
            0,
            4.521108388014863,
            2.429780284314198,
            58.994873395726756,
            5.6785886283911715,
            4.907542092862222,
            0.38929743491920127,
            9.940206834434786,
            2.4687956749562145,
            10.341889682838087,
            0.6045254777262588,
            6.326046330441269,
            7.450876827935505,
            0.03441595199716437,
            8.72510370975546,
            4.183080388616113,
            10.889315849150565,
            0.5103800558516953,
            11.196371428096274,
            6.297339661168255,
            2.728788445218208,
            1.0074369757882482,
            9.495797163374524,
            0.6231161948304159,
            22.7966990379793,
            35.99461055528481,
            5.361609137110752,
            18.37723652889884,
            0.7129644832548758,
            0.08309458206419491,
            5.2411934821746415,
            0
           ]
          }
         ],
         "name": "2020-08-29"
        }
       ],
       "layout": {
        "coloraxis": {
         "cmax": 58.43404695169628,
         "cmin": 0,
         "colorbar": {
          "title": {
           "text": "deaths"
          }
         },
         "colorscale": [
          [
           0,
           "rgb(255,245,240)"
          ],
          [
           0.125,
           "rgb(254,224,210)"
          ],
          [
           0.25,
           "rgb(252,187,161)"
          ],
          [
           0.375,
           "rgb(252,146,114)"
          ],
          [
           0.5,
           "rgb(251,106,74)"
          ],
          [
           0.625,
           "rgb(239,59,44)"
          ],
          [
           0.75,
           "rgb(203,24,29)"
          ],
          [
           0.875,
           "rgb(165,15,21)"
          ],
          [
           1,
           "rgb(103,0,13)"
          ]
         ]
        },
        "geo": {
         "center": {
          "lat": 35,
          "lon": 80
         },
         "domain": {
          "x": [
           0,
           1
          ],
          "y": [
           0,
           1
          ]
         },
         "lataxis": {
          "range": [
           -50,
           80
          ]
         },
         "lonaxis": {
          "range": [
           -10,
           230
          ]
         },
         "projection": {
          "type": "mercator"
         }
        },
        "height": 700,
        "legend": {
         "tracegroupgap": 0
        },
        "sliders": [
         {
          "active": 0,
          "currentvalue": {
           "prefix": "date="
          },
          "len": 0.9,
          "pad": {
           "b": 10,
           "t": 60
          },
          "steps": [
           {
            "args": [
             [
              "2020-01-22"
             ],
             {
              "frame": {
               "duration": 0,
               "redraw": true
              },
              "fromcurrent": true,
              "mode": "immediate",
              "transition": {
               "duration": 0,
               "easing": "linear"
              }
             }
            ],
            "label": "2020-01-22",
            "method": "animate"
           },
           {
            "args": [
             [
              "2020-01-27"
             ],
             {
              "frame": {
               "duration": 0,
               "redraw": true
              },
              "fromcurrent": true,
              "mode": "immediate",
              "transition": {
               "duration": 0,
               "easing": "linear"
              }
             }
            ],
            "label": "2020-01-27",
            "method": "animate"
           },
           {
            "args": [
             [
              "2020-02-01"
             ],
             {
              "frame": {
               "duration": 0,
               "redraw": true
              },
              "fromcurrent": true,
              "mode": "immediate",
              "transition": {
               "duration": 0,
               "easing": "linear"
              }
             }
            ],
            "label": "2020-02-01",
            "method": "animate"
           },
           {
            "args": [
             [
              "2020-02-06"
             ],
             {
              "frame": {
               "duration": 0,
               "redraw": true
              },
              "fromcurrent": true,
              "mode": "immediate",
              "transition": {
               "duration": 0,
               "easing": "linear"
              }
             }
            ],
            "label": "2020-02-06",
            "method": "animate"
           },
           {
            "args": [
             [
              "2020-02-11"
             ],
             {
              "frame": {
               "duration": 0,
               "redraw": true
              },
              "fromcurrent": true,
              "mode": "immediate",
              "transition": {
               "duration": 0,
               "easing": "linear"
              }
             }
            ],
            "label": "2020-02-11",
            "method": "animate"
           },
           {
            "args": [
             [
              "2020-02-16"
             ],
             {
              "frame": {
               "duration": 0,
               "redraw": true
              },
              "fromcurrent": true,
              "mode": "immediate",
              "transition": {
               "duration": 0,
               "easing": "linear"
              }
             }
            ],
            "label": "2020-02-16",
            "method": "animate"
           },
           {
            "args": [
             [
              "2020-02-21"
             ],
             {
              "frame": {
               "duration": 0,
               "redraw": true
              },
              "fromcurrent": true,
              "mode": "immediate",
              "transition": {
               "duration": 0,
               "easing": "linear"
              }
             }
            ],
            "label": "2020-02-21",
            "method": "animate"
           },
           {
            "args": [
             [
              "2020-02-26"
             ],
             {
              "frame": {
               "duration": 0,
               "redraw": true
              },
              "fromcurrent": true,
              "mode": "immediate",
              "transition": {
               "duration": 0,
               "easing": "linear"
              }
             }
            ],
            "label": "2020-02-26",
            "method": "animate"
           },
           {
            "args": [
             [
              "2020-03-02"
             ],
             {
              "frame": {
               "duration": 0,
               "redraw": true
              },
              "fromcurrent": true,
              "mode": "immediate",
              "transition": {
               "duration": 0,
               "easing": "linear"
              }
             }
            ],
            "label": "2020-03-02",
            "method": "animate"
           },
           {
            "args": [
             [
              "2020-03-07"
             ],
             {
              "frame": {
               "duration": 0,
               "redraw": true
              },
              "fromcurrent": true,
              "mode": "immediate",
              "transition": {
               "duration": 0,
               "easing": "linear"
              }
             }
            ],
            "label": "2020-03-07",
            "method": "animate"
           },
           {
            "args": [
             [
              "2020-03-12"
             ],
             {
              "frame": {
               "duration": 0,
               "redraw": true
              },
              "fromcurrent": true,
              "mode": "immediate",
              "transition": {
               "duration": 0,
               "easing": "linear"
              }
             }
            ],
            "label": "2020-03-12",
            "method": "animate"
           },
           {
            "args": [
             [
              "2020-03-17"
             ],
             {
              "frame": {
               "duration": 0,
               "redraw": true
              },
              "fromcurrent": true,
              "mode": "immediate",
              "transition": {
               "duration": 0,
               "easing": "linear"
              }
             }
            ],
            "label": "2020-03-17",
            "method": "animate"
           },
           {
            "args": [
             [
              "2020-03-22"
             ],
             {
              "frame": {
               "duration": 0,
               "redraw": true
              },
              "fromcurrent": true,
              "mode": "immediate",
              "transition": {
               "duration": 0,
               "easing": "linear"
              }
             }
            ],
            "label": "2020-03-22",
            "method": "animate"
           },
           {
            "args": [
             [
              "2020-03-27"
             ],
             {
              "frame": {
               "duration": 0,
               "redraw": true
              },
              "fromcurrent": true,
              "mode": "immediate",
              "transition": {
               "duration": 0,
               "easing": "linear"
              }
             }
            ],
            "label": "2020-03-27",
            "method": "animate"
           },
           {
            "args": [
             [
              "2020-04-01"
             ],
             {
              "frame": {
               "duration": 0,
               "redraw": true
              },
              "fromcurrent": true,
              "mode": "immediate",
              "transition": {
               "duration": 0,
               "easing": "linear"
              }
             }
            ],
            "label": "2020-04-01",
            "method": "animate"
           },
           {
            "args": [
             [
              "2020-04-06"
             ],
             {
              "frame": {
               "duration": 0,
               "redraw": true
              },
              "fromcurrent": true,
              "mode": "immediate",
              "transition": {
               "duration": 0,
               "easing": "linear"
              }
             }
            ],
            "label": "2020-04-06",
            "method": "animate"
           },
           {
            "args": [
             [
              "2020-04-11"
             ],
             {
              "frame": {
               "duration": 0,
               "redraw": true
              },
              "fromcurrent": true,
              "mode": "immediate",
              "transition": {
               "duration": 0,
               "easing": "linear"
              }
             }
            ],
            "label": "2020-04-11",
            "method": "animate"
           },
           {
            "args": [
             [
              "2020-04-16"
             ],
             {
              "frame": {
               "duration": 0,
               "redraw": true
              },
              "fromcurrent": true,
              "mode": "immediate",
              "transition": {
               "duration": 0,
               "easing": "linear"
              }
             }
            ],
            "label": "2020-04-16",
            "method": "animate"
           },
           {
            "args": [
             [
              "2020-04-21"
             ],
             {
              "frame": {
               "duration": 0,
               "redraw": true
              },
              "fromcurrent": true,
              "mode": "immediate",
              "transition": {
               "duration": 0,
               "easing": "linear"
              }
             }
            ],
            "label": "2020-04-21",
            "method": "animate"
           },
           {
            "args": [
             [
              "2020-04-26"
             ],
             {
              "frame": {
               "duration": 0,
               "redraw": true
              },
              "fromcurrent": true,
              "mode": "immediate",
              "transition": {
               "duration": 0,
               "easing": "linear"
              }
             }
            ],
            "label": "2020-04-26",
            "method": "animate"
           },
           {
            "args": [
             [
              "2020-05-01"
             ],
             {
              "frame": {
               "duration": 0,
               "redraw": true
              },
              "fromcurrent": true,
              "mode": "immediate",
              "transition": {
               "duration": 0,
               "easing": "linear"
              }
             }
            ],
            "label": "2020-05-01",
            "method": "animate"
           },
           {
            "args": [
             [
              "2020-05-06"
             ],
             {
              "frame": {
               "duration": 0,
               "redraw": true
              },
              "fromcurrent": true,
              "mode": "immediate",
              "transition": {
               "duration": 0,
               "easing": "linear"
              }
             }
            ],
            "label": "2020-05-06",
            "method": "animate"
           },
           {
            "args": [
             [
              "2020-05-11"
             ],
             {
              "frame": {
               "duration": 0,
               "redraw": true
              },
              "fromcurrent": true,
              "mode": "immediate",
              "transition": {
               "duration": 0,
               "easing": "linear"
              }
             }
            ],
            "label": "2020-05-11",
            "method": "animate"
           },
           {
            "args": [
             [
              "2020-05-16"
             ],
             {
              "frame": {
               "duration": 0,
               "redraw": true
              },
              "fromcurrent": true,
              "mode": "immediate",
              "transition": {
               "duration": 0,
               "easing": "linear"
              }
             }
            ],
            "label": "2020-05-16",
            "method": "animate"
           },
           {
            "args": [
             [
              "2020-05-21"
             ],
             {
              "frame": {
               "duration": 0,
               "redraw": true
              },
              "fromcurrent": true,
              "mode": "immediate",
              "transition": {
               "duration": 0,
               "easing": "linear"
              }
             }
            ],
            "label": "2020-05-21",
            "method": "animate"
           },
           {
            "args": [
             [
              "2020-05-26"
             ],
             {
              "frame": {
               "duration": 0,
               "redraw": true
              },
              "fromcurrent": true,
              "mode": "immediate",
              "transition": {
               "duration": 0,
               "easing": "linear"
              }
             }
            ],
            "label": "2020-05-26",
            "method": "animate"
           },
           {
            "args": [
             [
              "2020-05-31"
             ],
             {
              "frame": {
               "duration": 0,
               "redraw": true
              },
              "fromcurrent": true,
              "mode": "immediate",
              "transition": {
               "duration": 0,
               "easing": "linear"
              }
             }
            ],
            "label": "2020-05-31",
            "method": "animate"
           },
           {
            "args": [
             [
              "2020-06-05"
             ],
             {
              "frame": {
               "duration": 0,
               "redraw": true
              },
              "fromcurrent": true,
              "mode": "immediate",
              "transition": {
               "duration": 0,
               "easing": "linear"
              }
             }
            ],
            "label": "2020-06-05",
            "method": "animate"
           },
           {
            "args": [
             [
              "2020-06-10"
             ],
             {
              "frame": {
               "duration": 0,
               "redraw": true
              },
              "fromcurrent": true,
              "mode": "immediate",
              "transition": {
               "duration": 0,
               "easing": "linear"
              }
             }
            ],
            "label": "2020-06-10",
            "method": "animate"
           },
           {
            "args": [
             [
              "2020-06-15"
             ],
             {
              "frame": {
               "duration": 0,
               "redraw": true
              },
              "fromcurrent": true,
              "mode": "immediate",
              "transition": {
               "duration": 0,
               "easing": "linear"
              }
             }
            ],
            "label": "2020-06-15",
            "method": "animate"
           },
           {
            "args": [
             [
              "2020-06-20"
             ],
             {
              "frame": {
               "duration": 0,
               "redraw": true
              },
              "fromcurrent": true,
              "mode": "immediate",
              "transition": {
               "duration": 0,
               "easing": "linear"
              }
             }
            ],
            "label": "2020-06-20",
            "method": "animate"
           },
           {
            "args": [
             [
              "2020-06-25"
             ],
             {
              "frame": {
               "duration": 0,
               "redraw": true
              },
              "fromcurrent": true,
              "mode": "immediate",
              "transition": {
               "duration": 0,
               "easing": "linear"
              }
             }
            ],
            "label": "2020-06-25",
            "method": "animate"
           },
           {
            "args": [
             [
              "2020-06-30"
             ],
             {
              "frame": {
               "duration": 0,
               "redraw": true
              },
              "fromcurrent": true,
              "mode": "immediate",
              "transition": {
               "duration": 0,
               "easing": "linear"
              }
             }
            ],
            "label": "2020-06-30",
            "method": "animate"
           },
           {
            "args": [
             [
              "2020-07-05"
             ],
             {
              "frame": {
               "duration": 0,
               "redraw": true
              },
              "fromcurrent": true,
              "mode": "immediate",
              "transition": {
               "duration": 0,
               "easing": "linear"
              }
             }
            ],
            "label": "2020-07-05",
            "method": "animate"
           },
           {
            "args": [
             [
              "2020-07-10"
             ],
             {
              "frame": {
               "duration": 0,
               "redraw": true
              },
              "fromcurrent": true,
              "mode": "immediate",
              "transition": {
               "duration": 0,
               "easing": "linear"
              }
             }
            ],
            "label": "2020-07-10",
            "method": "animate"
           },
           {
            "args": [
             [
              "2020-07-15"
             ],
             {
              "frame": {
               "duration": 0,
               "redraw": true
              },
              "fromcurrent": true,
              "mode": "immediate",
              "transition": {
               "duration": 0,
               "easing": "linear"
              }
             }
            ],
            "label": "2020-07-15",
            "method": "animate"
           },
           {
            "args": [
             [
              "2020-07-20"
             ],
             {
              "frame": {
               "duration": 0,
               "redraw": true
              },
              "fromcurrent": true,
              "mode": "immediate",
              "transition": {
               "duration": 0,
               "easing": "linear"
              }
             }
            ],
            "label": "2020-07-20",
            "method": "animate"
           },
           {
            "args": [
             [
              "2020-07-25"
             ],
             {
              "frame": {
               "duration": 0,
               "redraw": true
              },
              "fromcurrent": true,
              "mode": "immediate",
              "transition": {
               "duration": 0,
               "easing": "linear"
              }
             }
            ],
            "label": "2020-07-25",
            "method": "animate"
           },
           {
            "args": [
             [
              "2020-07-30"
             ],
             {
              "frame": {
               "duration": 0,
               "redraw": true
              },
              "fromcurrent": true,
              "mode": "immediate",
              "transition": {
               "duration": 0,
               "easing": "linear"
              }
             }
            ],
            "label": "2020-07-30",
            "method": "animate"
           },
           {
            "args": [
             [
              "2020-08-04"
             ],
             {
              "frame": {
               "duration": 0,
               "redraw": true
              },
              "fromcurrent": true,
              "mode": "immediate",
              "transition": {
               "duration": 0,
               "easing": "linear"
              }
             }
            ],
            "label": "2020-08-04",
            "method": "animate"
           },
           {
            "args": [
             [
              "2020-08-09"
             ],
             {
              "frame": {
               "duration": 0,
               "redraw": true
              },
              "fromcurrent": true,
              "mode": "immediate",
              "transition": {
               "duration": 0,
               "easing": "linear"
              }
             }
            ],
            "label": "2020-08-09",
            "method": "animate"
           },
           {
            "args": [
             [
              "2020-08-14"
             ],
             {
              "frame": {
               "duration": 0,
               "redraw": true
              },
              "fromcurrent": true,
              "mode": "immediate",
              "transition": {
               "duration": 0,
               "easing": "linear"
              }
             }
            ],
            "label": "2020-08-14",
            "method": "animate"
           },
           {
            "args": [
             [
              "2020-08-19"
             ],
             {
              "frame": {
               "duration": 0,
               "redraw": true
              },
              "fromcurrent": true,
              "mode": "immediate",
              "transition": {
               "duration": 0,
               "easing": "linear"
              }
             }
            ],
            "label": "2020-08-19",
            "method": "animate"
           },
           {
            "args": [
             [
              "2020-08-24"
             ],
             {
              "frame": {
               "duration": 0,
               "redraw": true
              },
              "fromcurrent": true,
              "mode": "immediate",
              "transition": {
               "duration": 0,
               "easing": "linear"
              }
             }
            ],
            "label": "2020-08-24",
            "method": "animate"
           },
           {
            "args": [
             [
              "2020-08-29"
             ],
             {
              "frame": {
               "duration": 0,
               "redraw": true
              },
              "fromcurrent": true,
              "mode": "immediate",
              "transition": {
               "duration": 0,
               "easing": "linear"
              }
             }
            ],
            "label": "2020-08-29",
            "method": "animate"
           }
          ],
          "x": 0.1,
          "xanchor": "left",
          "y": 0,
          "yanchor": "top"
         }
        ],
        "template": {
         "data": {
          "bar": [
           {
            "error_x": {
             "color": "#2a3f5f"
            },
            "error_y": {
             "color": "#2a3f5f"
            },
            "marker": {
             "line": {
              "color": "#E5ECF6",
              "width": 0.5
             },
             "pattern": {
              "fillmode": "overlay",
              "size": 10,
              "solidity": 0.2
             }
            },
            "type": "bar"
           }
          ],
          "barpolar": [
           {
            "marker": {
             "line": {
              "color": "#E5ECF6",
              "width": 0.5
             },
             "pattern": {
              "fillmode": "overlay",
              "size": 10,
              "solidity": 0.2
             }
            },
            "type": "barpolar"
           }
          ],
          "carpet": [
           {
            "aaxis": {
             "endlinecolor": "#2a3f5f",
             "gridcolor": "white",
             "linecolor": "white",
             "minorgridcolor": "white",
             "startlinecolor": "#2a3f5f"
            },
            "baxis": {
             "endlinecolor": "#2a3f5f",
             "gridcolor": "white",
             "linecolor": "white",
             "minorgridcolor": "white",
             "startlinecolor": "#2a3f5f"
            },
            "type": "carpet"
           }
          ],
          "choropleth": [
           {
            "colorbar": {
             "outlinewidth": 0,
             "ticks": ""
            },
            "type": "choropleth"
           }
          ],
          "contour": [
           {
            "colorbar": {
             "outlinewidth": 0,
             "ticks": ""
            },
            "colorscale": [
             [
              0,
              "#0d0887"
             ],
             [
              0.1111111111111111,
              "#46039f"
             ],
             [
              0.2222222222222222,
              "#7201a8"
             ],
             [
              0.3333333333333333,
              "#9c179e"
             ],
             [
              0.4444444444444444,
              "#bd3786"
             ],
             [
              0.5555555555555556,
              "#d8576b"
             ],
             [
              0.6666666666666666,
              "#ed7953"
             ],
             [
              0.7777777777777778,
              "#fb9f3a"
             ],
             [
              0.8888888888888888,
              "#fdca26"
             ],
             [
              1,
              "#f0f921"
             ]
            ],
            "type": "contour"
           }
          ],
          "contourcarpet": [
           {
            "colorbar": {
             "outlinewidth": 0,
             "ticks": ""
            },
            "type": "contourcarpet"
           }
          ],
          "heatmap": [
           {
            "colorbar": {
             "outlinewidth": 0,
             "ticks": ""
            },
            "colorscale": [
             [
              0,
              "#0d0887"
             ],
             [
              0.1111111111111111,
              "#46039f"
             ],
             [
              0.2222222222222222,
              "#7201a8"
             ],
             [
              0.3333333333333333,
              "#9c179e"
             ],
             [
              0.4444444444444444,
              "#bd3786"
             ],
             [
              0.5555555555555556,
              "#d8576b"
             ],
             [
              0.6666666666666666,
              "#ed7953"
             ],
             [
              0.7777777777777778,
              "#fb9f3a"
             ],
             [
              0.8888888888888888,
              "#fdca26"
             ],
             [
              1,
              "#f0f921"
             ]
            ],
            "type": "heatmap"
           }
          ],
          "heatmapgl": [
           {
            "colorbar": {
             "outlinewidth": 0,
             "ticks": ""
            },
            "colorscale": [
             [
              0,
              "#0d0887"
             ],
             [
              0.1111111111111111,
              "#46039f"
             ],
             [
              0.2222222222222222,
              "#7201a8"
             ],
             [
              0.3333333333333333,
              "#9c179e"
             ],
             [
              0.4444444444444444,
              "#bd3786"
             ],
             [
              0.5555555555555556,
              "#d8576b"
             ],
             [
              0.6666666666666666,
              "#ed7953"
             ],
             [
              0.7777777777777778,
              "#fb9f3a"
             ],
             [
              0.8888888888888888,
              "#fdca26"
             ],
             [
              1,
              "#f0f921"
             ]
            ],
            "type": "heatmapgl"
           }
          ],
          "histogram": [
           {
            "marker": {
             "pattern": {
              "fillmode": "overlay",
              "size": 10,
              "solidity": 0.2
             }
            },
            "type": "histogram"
           }
          ],
          "histogram2d": [
           {
            "colorbar": {
             "outlinewidth": 0,
             "ticks": ""
            },
            "colorscale": [
             [
              0,
              "#0d0887"
             ],
             [
              0.1111111111111111,
              "#46039f"
             ],
             [
              0.2222222222222222,
              "#7201a8"
             ],
             [
              0.3333333333333333,
              "#9c179e"
             ],
             [
              0.4444444444444444,
              "#bd3786"
             ],
             [
              0.5555555555555556,
              "#d8576b"
             ],
             [
              0.6666666666666666,
              "#ed7953"
             ],
             [
              0.7777777777777778,
              "#fb9f3a"
             ],
             [
              0.8888888888888888,
              "#fdca26"
             ],
             [
              1,
              "#f0f921"
             ]
            ],
            "type": "histogram2d"
           }
          ],
          "histogram2dcontour": [
           {
            "colorbar": {
             "outlinewidth": 0,
             "ticks": ""
            },
            "colorscale": [
             [
              0,
              "#0d0887"
             ],
             [
              0.1111111111111111,
              "#46039f"
             ],
             [
              0.2222222222222222,
              "#7201a8"
             ],
             [
              0.3333333333333333,
              "#9c179e"
             ],
             [
              0.4444444444444444,
              "#bd3786"
             ],
             [
              0.5555555555555556,
              "#d8576b"
             ],
             [
              0.6666666666666666,
              "#ed7953"
             ],
             [
              0.7777777777777778,
              "#fb9f3a"
             ],
             [
              0.8888888888888888,
              "#fdca26"
             ],
             [
              1,
              "#f0f921"
             ]
            ],
            "type": "histogram2dcontour"
           }
          ],
          "mesh3d": [
           {
            "colorbar": {
             "outlinewidth": 0,
             "ticks": ""
            },
            "type": "mesh3d"
           }
          ],
          "parcoords": [
           {
            "line": {
             "colorbar": {
              "outlinewidth": 0,
              "ticks": ""
             }
            },
            "type": "parcoords"
           }
          ],
          "pie": [
           {
            "automargin": true,
            "type": "pie"
           }
          ],
          "scatter": [
           {
            "fillpattern": {
             "fillmode": "overlay",
             "size": 10,
             "solidity": 0.2
            },
            "type": "scatter"
           }
          ],
          "scatter3d": [
           {
            "line": {
             "colorbar": {
              "outlinewidth": 0,
              "ticks": ""
             }
            },
            "marker": {
             "colorbar": {
              "outlinewidth": 0,
              "ticks": ""
             }
            },
            "type": "scatter3d"
           }
          ],
          "scattercarpet": [
           {
            "marker": {
             "colorbar": {
              "outlinewidth": 0,
              "ticks": ""
             }
            },
            "type": "scattercarpet"
           }
          ],
          "scattergeo": [
           {
            "marker": {
             "colorbar": {
              "outlinewidth": 0,
              "ticks": ""
             }
            },
            "type": "scattergeo"
           }
          ],
          "scattergl": [
           {
            "marker": {
             "colorbar": {
              "outlinewidth": 0,
              "ticks": ""
             }
            },
            "type": "scattergl"
           }
          ],
          "scattermapbox": [
           {
            "marker": {
             "colorbar": {
              "outlinewidth": 0,
              "ticks": ""
             }
            },
            "type": "scattermapbox"
           }
          ],
          "scatterpolar": [
           {
            "marker": {
             "colorbar": {
              "outlinewidth": 0,
              "ticks": ""
             }
            },
            "type": "scatterpolar"
           }
          ],
          "scatterpolargl": [
           {
            "marker": {
             "colorbar": {
              "outlinewidth": 0,
              "ticks": ""
             }
            },
            "type": "scatterpolargl"
           }
          ],
          "scatterternary": [
           {
            "marker": {
             "colorbar": {
              "outlinewidth": 0,
              "ticks": ""
             }
            },
            "type": "scatterternary"
           }
          ],
          "surface": [
           {
            "colorbar": {
             "outlinewidth": 0,
             "ticks": ""
            },
            "colorscale": [
             [
              0,
              "#0d0887"
             ],
             [
              0.1111111111111111,
              "#46039f"
             ],
             [
              0.2222222222222222,
              "#7201a8"
             ],
             [
              0.3333333333333333,
              "#9c179e"
             ],
             [
              0.4444444444444444,
              "#bd3786"
             ],
             [
              0.5555555555555556,
              "#d8576b"
             ],
             [
              0.6666666666666666,
              "#ed7953"
             ],
             [
              0.7777777777777778,
              "#fb9f3a"
             ],
             [
              0.8888888888888888,
              "#fdca26"
             ],
             [
              1,
              "#f0f921"
             ]
            ],
            "type": "surface"
           }
          ],
          "table": [
           {
            "cells": {
             "fill": {
              "color": "#EBF0F8"
             },
             "line": {
              "color": "white"
             }
            },
            "header": {
             "fill": {
              "color": "#C8D4E3"
             },
             "line": {
              "color": "white"
             }
            },
            "type": "table"
           }
          ]
         },
         "layout": {
          "annotationdefaults": {
           "arrowcolor": "#2a3f5f",
           "arrowhead": 0,
           "arrowwidth": 1
          },
          "autotypenumbers": "strict",
          "coloraxis": {
           "colorbar": {
            "outlinewidth": 0,
            "ticks": ""
           }
          },
          "colorscale": {
           "diverging": [
            [
             0,
             "#8e0152"
            ],
            [
             0.1,
             "#c51b7d"
            ],
            [
             0.2,
             "#de77ae"
            ],
            [
             0.3,
             "#f1b6da"
            ],
            [
             0.4,
             "#fde0ef"
            ],
            [
             0.5,
             "#f7f7f7"
            ],
            [
             0.6,
             "#e6f5d0"
            ],
            [
             0.7,
             "#b8e186"
            ],
            [
             0.8,
             "#7fbc41"
            ],
            [
             0.9,
             "#4d9221"
            ],
            [
             1,
             "#276419"
            ]
           ],
           "sequential": [
            [
             0,
             "#0d0887"
            ],
            [
             0.1111111111111111,
             "#46039f"
            ],
            [
             0.2222222222222222,
             "#7201a8"
            ],
            [
             0.3333333333333333,
             "#9c179e"
            ],
            [
             0.4444444444444444,
             "#bd3786"
            ],
            [
             0.5555555555555556,
             "#d8576b"
            ],
            [
             0.6666666666666666,
             "#ed7953"
            ],
            [
             0.7777777777777778,
             "#fb9f3a"
            ],
            [
             0.8888888888888888,
             "#fdca26"
            ],
            [
             1,
             "#f0f921"
            ]
           ],
           "sequentialminus": [
            [
             0,
             "#0d0887"
            ],
            [
             0.1111111111111111,
             "#46039f"
            ],
            [
             0.2222222222222222,
             "#7201a8"
            ],
            [
             0.3333333333333333,
             "#9c179e"
            ],
            [
             0.4444444444444444,
             "#bd3786"
            ],
            [
             0.5555555555555556,
             "#d8576b"
            ],
            [
             0.6666666666666666,
             "#ed7953"
            ],
            [
             0.7777777777777778,
             "#fb9f3a"
            ],
            [
             0.8888888888888888,
             "#fdca26"
            ],
            [
             1,
             "#f0f921"
            ]
           ]
          },
          "colorway": [
           "#636efa",
           "#EF553B",
           "#00cc96",
           "#ab63fa",
           "#FFA15A",
           "#19d3f3",
           "#FF6692",
           "#B6E880",
           "#FF97FF",
           "#FECB52"
          ],
          "font": {
           "color": "#2a3f5f"
          },
          "geo": {
           "bgcolor": "white",
           "lakecolor": "white",
           "landcolor": "#E5ECF6",
           "showlakes": true,
           "showland": true,
           "subunitcolor": "white"
          },
          "hoverlabel": {
           "align": "left"
          },
          "hovermode": "closest",
          "mapbox": {
           "style": "light"
          },
          "paper_bgcolor": "white",
          "plot_bgcolor": "#E5ECF6",
          "polar": {
           "angularaxis": {
            "gridcolor": "white",
            "linecolor": "white",
            "ticks": ""
           },
           "bgcolor": "#E5ECF6",
           "radialaxis": {
            "gridcolor": "white",
            "linecolor": "white",
            "ticks": ""
           }
          },
          "scene": {
           "xaxis": {
            "backgroundcolor": "#E5ECF6",
            "gridcolor": "white",
            "gridwidth": 2,
            "linecolor": "white",
            "showbackground": true,
            "ticks": "",
            "zerolinecolor": "white"
           },
           "yaxis": {
            "backgroundcolor": "#E5ECF6",
            "gridcolor": "white",
            "gridwidth": 2,
            "linecolor": "white",
            "showbackground": true,
            "ticks": "",
            "zerolinecolor": "white"
           },
           "zaxis": {
            "backgroundcolor": "#E5ECF6",
            "gridcolor": "white",
            "gridwidth": 2,
            "linecolor": "white",
            "showbackground": true,
            "ticks": "",
            "zerolinecolor": "white"
           }
          },
          "shapedefaults": {
           "line": {
            "color": "#2a3f5f"
           }
          },
          "ternary": {
           "aaxis": {
            "gridcolor": "white",
            "linecolor": "white",
            "ticks": ""
           },
           "baxis": {
            "gridcolor": "white",
            "linecolor": "white",
            "ticks": ""
           },
           "bgcolor": "#E5ECF6",
           "caxis": {
            "gridcolor": "white",
            "linecolor": "white",
            "ticks": ""
           }
          },
          "title": {
           "x": 0.05
          },
          "xaxis": {
           "automargin": true,
           "gridcolor": "white",
           "linecolor": "white",
           "ticks": "",
           "title": {
            "standoff": 15
           },
           "zerolinecolor": "white",
           "zerolinewidth": 2
          },
          "yaxis": {
           "automargin": true,
           "gridcolor": "white",
           "linecolor": "white",
           "ticks": "",
           "title": {
            "standoff": 15
           },
           "zerolinecolor": "white",
           "zerolinewidth": 2
          }
         }
        },
        "title": {
         "text": "<span style=\"font-size: 15px;\"><b>Number of culmulative death of COVID-19 per 100k inhabitants</b></span><br><span style=\"font-size: 10px; line-height: 20%;\">The colour of the country corresponds to how much death per 100k inhabitants was recorded from 22-01-2020.</span>"
        },
        "transition": {
         "duration": 2
        },
        "updatemenus": [
         {
          "buttons": [
           {
            "args": [
             null,
             {
              "frame": {
               "duration": 0,
               "redraw": true
              },
              "fromcurrent": true,
              "mode": "immediate",
              "transition": {
               "duration": 0,
               "easing": "linear"
              },
              "visible": false
             }
            ],
            "label": "&#9654;",
            "method": "animate"
           },
           {
            "args": [
             [
              null
             ],
             {
              "frame": {
               "duration": 0,
               "redraw": true
              },
              "fromcurrent": true,
              "mode": "immediate",
              "transition": {
               "duration": 1,
               "easing": "linear"
              }
             }
            ],
            "label": "&#9724;",
            "method": "animate"
           }
          ],
          "direction": "left",
          "pad": {
           "r": 10,
           "t": 70
          },
          "showactive": false,
          "type": "buttons",
          "x": 0.1,
          "xanchor": "right",
          "y": 0,
          "yanchor": "top"
         }
        ],
        "width": 700
       }
      }
     },
     "metadata": {},
     "output_type": "display_data"
    }
   ],
   "source": [
    "# Create a df for the mapchart using the cumulative death data\n",
    "deaths_mapchart = mapcharts_df(deaths100k_cumul, o_country_dict, 'deaths')\n",
    "# Create map chart\n",
    "mapcharts(deaths_mapchart, 'deaths', 'country', \"\"\"Number of culmulative death of COVID-19 per 100k inhabitants\"\"\",\n",
    "'The colour of the country corresponds to how much death per 100k inhabitants was recorded from 22-01-2020.', 15, 10, 'Reds')"
   ]
  },
  {
   "cell_type": "code",
   "execution_count": 5,
   "metadata": {},
   "outputs": [
    {
     "data": {
      "application/vnd.plotly.v1+json": {
       "config": {
        "plotlyServerURL": "https://plot.ly"
       },
       "data": [
        {
         "coloraxis": "coloraxis",
         "geo": "geo",
         "hovertemplate": "<b>%{hovertext}</b><br><br>date=2020-01-22<br>Country_code=%{location}<br>pageviews=%{z}<extra></extra>",
         "hovertext": [
          "Italy",
          "Russia",
          "China",
          "Albania",
          "Bangladesh",
          "Botswana",
          "Cambodia",
          "Croatia",
          "Greece",
          "Sweden",
          "Finland",
          "Norway",
          "Malaysia",
          "Israel",
          "Lithuania",
          "Serbia",
          "Slovakia",
          "Slovenia",
          "Turkey",
          "Vietnam",
          "Bulgaria",
          "Czechia",
          "Denmark",
          "Georgia",
          "Germany",
          "Hungary",
          "Iceland",
          "Japan",
          "Kazakhstan",
          "South Korea",
          "Kyrgyzstan",
          "Netherlands",
          "Poland",
          "Romania",
          "Tajikistan",
          "Thailand",
          "Azerbaijan",
          "Mongolia"
         ],
         "locations": [
          "ITA",
          "RUS",
          "CHN",
          "ALB",
          "BGD",
          "BWA",
          "KHM",
          "HRV",
          "GRC",
          "SWE",
          "FIN",
          "NOR",
          "MYS",
          "ISR",
          "LTU",
          "SRB",
          "SVK",
          "SVN",
          "TUR",
          "VNM",
          "BGR",
          "CZE",
          "DNK",
          "GEO",
          "DEU",
          "HUN",
          "ISL",
          "JPN",
          "KAZ",
          "PRK",
          "KGZ",
          "NLD",
          "POL",
          "ROU",
          "TJK",
          "THA",
          "AZE",
          "MNG"
         ],
         "name": "",
         "type": "choropleth",
         "z": [
          40.38888316134122,
          19.77745483840676,
          5.067677698249593,
          0,
          0,
          0,
          0,
          8.301051466519093,
          2.971808193891981,
          70.7590770296487,
          47.038245294412214,
          25.299866622672287,
          0.8434777756582694,
          13.412768173975325,
          7.585285262184311,
          3.3482501986483504,
          0,
          10.606829561566938,
          0.5098467593908764,
          3.223798727376173,
          0,
          37.95152263191379,
          21.88152287167893,
          0.24175897382448727,
          38.5974793361652,
          17.086918364016796,
          0.27287884452182076,
          29.638605745242,
          0,
          17.62666461970746,
          0,
          32.674941948800274,
          25.41751024497435,
          2.217315625272621,
          0,
          2.151863142421048,
          0.009907738151558869,
          0
         ]
        }
       ],
       "frames": [
        {
         "data": [
          {
           "coloraxis": "coloraxis",
           "geo": "geo",
           "hovertemplate": "<b>%{hovertext}</b><br><br>date=2020-01-22<br>Country_code=%{location}<br>pageviews=%{z}<extra></extra>",
           "hovertext": [
            "Italy",
            "Russia",
            "China",
            "Albania",
            "Bangladesh",
            "Botswana",
            "Cambodia",
            "Croatia",
            "Greece",
            "Sweden",
            "Finland",
            "Norway",
            "Malaysia",
            "Israel",
            "Lithuania",
            "Serbia",
            "Slovakia",
            "Slovenia",
            "Turkey",
            "Vietnam",
            "Bulgaria",
            "Czechia",
            "Denmark",
            "Georgia",
            "Germany",
            "Hungary",
            "Iceland",
            "Japan",
            "Kazakhstan",
            "South Korea",
            "Kyrgyzstan",
            "Netherlands",
            "Poland",
            "Romania",
            "Tajikistan",
            "Thailand",
            "Azerbaijan",
            "Mongolia"
           ],
           "locations": [
            "ITA",
            "RUS",
            "CHN",
            "ALB",
            "BGD",
            "BWA",
            "KHM",
            "HRV",
            "GRC",
            "SWE",
            "FIN",
            "NOR",
            "MYS",
            "ISR",
            "LTU",
            "SRB",
            "SVK",
            "SVN",
            "TUR",
            "VNM",
            "BGR",
            "CZE",
            "DNK",
            "GEO",
            "DEU",
            "HUN",
            "ISL",
            "JPN",
            "KAZ",
            "PRK",
            "KGZ",
            "NLD",
            "POL",
            "ROU",
            "TJK",
            "THA",
            "AZE",
            "MNG"
           ],
           "name": "",
           "type": "choropleth",
           "z": [
            40.38888316134122,
            19.77745483840676,
            5.067677698249593,
            0,
            0,
            0,
            0,
            8.301051466519093,
            2.971808193891981,
            70.7590770296487,
            47.038245294412214,
            25.299866622672287,
            0.8434777756582694,
            13.412768173975325,
            7.585285262184311,
            3.3482501986483504,
            0,
            10.606829561566938,
            0.5098467593908764,
            3.223798727376173,
            0,
            37.95152263191379,
            21.88152287167893,
            0.24175897382448727,
            38.5974793361652,
            17.086918364016796,
            0.27287884452182076,
            29.638605745242,
            0,
            17.62666461970746,
            0,
            32.674941948800274,
            25.41751024497435,
            2.217315625272621,
            0,
            2.151863142421048,
            0.009907738151558869,
            0
           ]
          }
         ],
         "name": "2020-01-22"
        },
        {
         "data": [
          {
           "coloraxis": "coloraxis",
           "geo": "geo",
           "hovertemplate": "<b>%{hovertext}</b><br><br>date=2020-01-27<br>Country_code=%{location}<br>pageviews=%{z}<extra></extra>",
           "hovertext": [
            "Italy",
            "Russia",
            "China",
            "Albania",
            "Bangladesh",
            "Botswana",
            "Cambodia",
            "Croatia",
            "Greece",
            "Sweden",
            "Finland",
            "Norway",
            "Malaysia",
            "Israel",
            "Lithuania",
            "Serbia",
            "Slovakia",
            "Slovenia",
            "Turkey",
            "Vietnam",
            "Bulgaria",
            "Czechia",
            "Denmark",
            "Georgia",
            "Germany",
            "Hungary",
            "Iceland",
            "Japan",
            "Kazakhstan",
            "South Korea",
            "Kyrgyzstan",
            "Netherlands",
            "Poland",
            "Romania",
            "Tajikistan",
            "Thailand",
            "Azerbaijan",
            "Mongolia"
           ],
           "locations": [
            "ITA",
            "RUS",
            "CHN",
            "ALB",
            "BGD",
            "BWA",
            "KHM",
            "HRV",
            "GRC",
            "SWE",
            "FIN",
            "NOR",
            "MYS",
            "ISR",
            "LTU",
            "SRB",
            "SVK",
            "SVN",
            "TUR",
            "VNM",
            "BGR",
            "CZE",
            "DNK",
            "GEO",
            "DEU",
            "HUN",
            "ISL",
            "JPN",
            "KAZ",
            "PRK",
            "KGZ",
            "NLD",
            "POL",
            "ROU",
            "TJK",
            "THA",
            "AZE",
            "MNG"
           ],
           "name": "",
           "type": "choropleth",
           "z": [
            282.0913949407873,
            361.4289267342194,
            31.27234072709234,
            0.35237956635465806,
            0.04918349836795491,
            0,
            0,
            113.84299154083327,
            35.231814122555875,
            378.82087908542877,
            540.7499317755554,
            187.56477165522656,
            22.193043452576376,
            327.4408308103005,
            54.49240308635239,
            26.800496178791345,
            0,
            78.67128293646509,
            6.89004539260554,
            109.55368027085416,
            0,
            1462.7320721587444,
            262.64686857573236,
            6.043974345612182,
            361.7795200822271,
            237.5963690401039,
            60.57910348384421,
            354.61860748766446,
            1.3755843167605992,
            118.20687839640526,
            0,
            552.1199438121721,
            560.1140080746045,
            35.22260394900278,
            0,
            31.564479862730042,
            0.09907738151558868,
            0
           ]
          }
         ],
         "name": "2020-01-27"
        },
        {
         "data": [
          {
           "coloraxis": "coloraxis",
           "geo": "geo",
           "hovertemplate": "<b>%{hovertext}</b><br><br>date=2020-02-01<br>Country_code=%{location}<br>pageviews=%{z}<extra></extra>",
           "hovertext": [
            "Italy",
            "Russia",
            "China",
            "Albania",
            "Bangladesh",
            "Botswana",
            "Cambodia",
            "Croatia",
            "Greece",
            "Sweden",
            "Finland",
            "Norway",
            "Malaysia",
            "Israel",
            "Lithuania",
            "Serbia",
            "Slovakia",
            "Slovenia",
            "Turkey",
            "Vietnam",
            "Bulgaria",
            "Czechia",
            "Denmark",
            "Georgia",
            "Germany",
            "Hungary",
            "Iceland",
            "Japan",
            "Kazakhstan",
            "South Korea",
            "Kyrgyzstan",
            "Netherlands",
            "Poland",
            "Romania",
            "Tajikistan",
            "Thailand",
            "Azerbaijan",
            "Mongolia"
           ],
           "locations": [
            "ITA",
            "RUS",
            "CHN",
            "ALB",
            "BGD",
            "BWA",
            "KHM",
            "HRV",
            "GRC",
            "SWE",
            "FIN",
            "NOR",
            "MYS",
            "ISR",
            "LTU",
            "SRB",
            "SVK",
            "SVN",
            "TUR",
            "VNM",
            "BGR",
            "CZE",
            "DNK",
            "GEO",
            "DEU",
            "HUN",
            "ISL",
            "JPN",
            "KAZ",
            "PRK",
            "KGZ",
            "NLD",
            "POL",
            "ROU",
            "TJK",
            "THA",
            "AZE",
            "MNG"
           ],
           "name": "",
           "type": "choropleth",
           "z": [
            760.6502907920529,
            850.9795847510479,
            59.99270072992701,
            0.7047591327093161,
            0.31392430439793434,
            0,
            0,
            219.48375365641553,
            80.27620247022678,
            621.7932162077113,
            1579.8231427081769,
            320.328656606825,
            45.998890564103725,
            613.286887825417,
            109.77195841689372,
            38.28021114558569,
            32.86420324366389,
            154.3460176111422,
            15.842005935398834,
            288.61731015747375,
            0,
            2353.7796070951777,
            538.6352926327862,
            31.85846032842688,
            900.2767659804813,
            611.1701472459549,
            93.05168598194088,
            801.9633932885056,
            22.77711705891969,
            219.45457887097095,
            0,
            893.7534042370208,
            1131.1385741127685,
            93.22072624096975,
            0,
            54.87107746652871,
            2.427395847131923,
            0
           ]
          }
         ],
         "name": "2020-02-01"
        },
        {
         "data": [
          {
           "coloraxis": "coloraxis",
           "geo": "geo",
           "hovertemplate": "<b>%{hovertext}</b><br><br>date=2020-02-06<br>Country_code=%{location}<br>pageviews=%{z}<extra></extra>",
           "hovertext": [
            "Italy",
            "Russia",
            "China",
            "Albania",
            "Bangladesh",
            "Botswana",
            "Cambodia",
            "Croatia",
            "Greece",
            "Sweden",
            "Finland",
            "Norway",
            "Malaysia",
            "Israel",
            "Lithuania",
            "Serbia",
            "Slovakia",
            "Slovenia",
            "Turkey",
            "Vietnam",
            "Bulgaria",
            "Czechia",
            "Denmark",
            "Georgia",
            "Germany",
            "Hungary",
            "Iceland",
            "Japan",
            "Kazakhstan",
            "South Korea",
            "Kyrgyzstan",
            "Netherlands",
            "Poland",
            "Romania",
            "Tajikistan",
            "Thailand",
            "Azerbaijan",
            "Mongolia"
           ],
           "locations": [
            "ITA",
            "RUS",
            "CHN",
            "ALB",
            "BGD",
            "BWA",
            "KHM",
            "HRV",
            "GRC",
            "SWE",
            "FIN",
            "NOR",
            "MYS",
            "ISR",
            "LTU",
            "SRB",
            "SVK",
            "SVN",
            "TUR",
            "VNM",
            "BGR",
            "CZE",
            "DNK",
            "GEO",
            "DEU",
            "HUN",
            "ISL",
            "JPN",
            "KAZ",
            "PRK",
            "KGZ",
            "NLD",
            "POL",
            "ROU",
            "TJK",
            "THA",
            "AZE",
            "MNG"
           ],
           "name": "",
           "type": "choropleth",
           "z": [
            877.5645935753197,
            1184.1631353641847,
            90.57628800226773,
            0.9161868725221108,
            0.6126685167069938,
            0,
            0,
            265.75717448019606,
            116.45189278015086,
            690.3791029108967,
            1950.4505164350833,
            345.12661551545455,
            65.51319690497417,
            1069.6899653829041,
            170.8835962839258,
            53.876389560068915,
            52.6303544699255,
            198.77103469860194,
            21.87716873842107,
            499.5192913379477,
            3.3746682117070703,
            2828.650370943417,
            617.1241093911517,
            44.053857452462125,
            1246.0451502486067,
            709.1071121066971,
            133.983512660214,
            940.5707225509063,
            54.80477206194651,
            293.0054396886317,
            0.10638459551057006,
            1057.512255253275,
            1351.399915617982,
            135.58859084658877,
            0,
            63.95560755047803,
            6.321136940694559,
            0
           ]
          }
         ],
         "name": "2020-02-06"
        },
        {
         "data": [
          {
           "coloraxis": "coloraxis",
           "geo": "geo",
           "hovertemplate": "<b>%{hovertext}</b><br><br>date=2020-02-11<br>Country_code=%{location}<br>pageviews=%{z}<extra></extra>",
           "hovertext": [
            "Italy",
            "Russia",
            "China",
            "Albania",
            "Bangladesh",
            "Botswana",
            "Cambodia",
            "Croatia",
            "Greece",
            "Sweden",
            "Finland",
            "Norway",
            "Malaysia",
            "Israel",
            "Lithuania",
            "Serbia",
            "Slovakia",
            "Slovenia",
            "Turkey",
            "Vietnam",
            "Bulgaria",
            "Czechia",
            "Denmark",
            "Georgia",
            "Germany",
            "Hungary",
            "Iceland",
            "Japan",
            "Kazakhstan",
            "South Korea",
            "Kyrgyzstan",
            "Netherlands",
            "Poland",
            "Romania",
            "Tajikistan",
            "Thailand",
            "Azerbaijan",
            "Mongolia"
           ],
           "locations": [
            "ITA",
            "RUS",
            "CHN",
            "ALB",
            "BGD",
            "BWA",
            "KHM",
            "HRV",
            "GRC",
            "SWE",
            "FIN",
            "NOR",
            "MYS",
            "ISR",
            "LTU",
            "SRB",
            "SVK",
            "SVN",
            "TUR",
            "VNM",
            "BGR",
            "CZE",
            "DNK",
            "GEO",
            "DEU",
            "HUN",
            "ISL",
            "JPN",
            "KAZ",
            "PRK",
            "KGZ",
            "NLD",
            "POL",
            "ROU",
            "TJK",
            "THA",
            "AZE",
            "MNG"
           ],
           "name": "",
           "type": "choropleth",
           "z": [
            956.1875908617407,
            1412.7824340663528,
            119.66777691162923,
            0.9866627857930426,
            0.8986614516613983,
            0,
            0,
            297.0590560518618,
            135.8714444370928,
            732.2395779104186,
            2203.2019644299717,
            359.3473340799985,
            87.74949562809711,
            1424.3252921834815,
            242.22821332541412,
            62.9500026525099,
            66.93745744278029,
            230.9244731901681,
            24.638641070098632,
            612.084110573091,
            19.16638484341323,
            3120.3536259314715,
            660.6985213166504,
            52.54228364452191,
            1517.7594760882196,
            766.3267504937617,
            165.09170093570157,
            1034.4532357576766,
            70.39472765189997,
            322.3709960902063,
            0.14437909390720224,
            1153.3698363099504,
            1491.9653701264965,
            168.38616810471962,
            0,
            68.78225663624136,
            9.214196480949749,
            0
           ]
          }
         ],
         "name": "2020-02-11"
        },
        {
         "data": [
          {
           "coloraxis": "coloraxis",
           "geo": "geo",
           "hovertemplate": "<b>%{hovertext}</b><br><br>date=2020-02-16<br>Country_code=%{location}<br>pageviews=%{z}<extra></extra>",
           "hovertext": [
            "Italy",
            "Russia",
            "China",
            "Albania",
            "Bangladesh",
            "Botswana",
            "Cambodia",
            "Croatia",
            "Greece",
            "Sweden",
            "Finland",
            "Norway",
            "Malaysia",
            "Israel",
            "Lithuania",
            "Serbia",
            "Slovakia",
            "Slovenia",
            "Turkey",
            "Vietnam",
            "Bulgaria",
            "Czechia",
            "Denmark",
            "Georgia",
            "Germany",
            "Hungary",
            "Iceland",
            "Japan",
            "Kazakhstan",
            "South Korea",
            "Kyrgyzstan",
            "Netherlands",
            "Poland",
            "Romania",
            "Tajikistan",
            "Thailand",
            "Azerbaijan",
            "Mongolia"
           ],
           "locations": [
            "ITA",
            "RUS",
            "CHN",
            "ALB",
            "BGD",
            "BWA",
            "KHM",
            "HRV",
            "GRC",
            "SWE",
            "FIN",
            "NOR",
            "MYS",
            "ISR",
            "LTU",
            "SRB",
            "SVK",
            "SVN",
            "TUR",
            "VNM",
            "BGR",
            "CZE",
            "DNK",
            "GEO",
            "DEU",
            "HUN",
            "ISL",
            "JPN",
            "KAZ",
            "PRK",
            "KGZ",
            "NLD",
            "POL",
            "ROU",
            "TJK",
            "THA",
            "AZE",
            "MNG"
           ],
           "name": "",
           "type": "choropleth",
           "z": [
            1044.8375812981658,
            1606.4444878930553,
            147.65055630359294,
            1.2333284822413033,
            1.3036663085925824,
            0,
            0,
            316.30464858882124,
            158.95435713807768,
            763.1085391698722,
            2432.8231103366047,
            377.43460096013087,
            102.64475700702941,
            1597.5626960098102,
            266.59415324780804,
            69.51605174336575,
            95.16696535720952,
            249.09401979339037,
            26.902123543766496,
            692.492102540675,
            42.87559227950906,
            3377.7602955657107,
            708.0627581282312,
            64.46905968652995,
            1767.892738881968,
            800.5621247429142,
            185.2847354303163,
            1184.8187484654802,
            80.14644747885785,
            353.617475990108,
            0.21023622446136464,
            1255.178740360634,
            1632.9239741239035,
            199.4545507417362,
            0,
            81.31377921064674,
            10.631003036622667,
            0
           ]
          }
         ],
         "name": "2020-02-16"
        },
        {
         "data": [
          {
           "coloraxis": "coloraxis",
           "geo": "geo",
           "hovertemplate": "<b>%{hovertext}</b><br><br>date=2020-02-21<br>Country_code=%{location}<br>pageviews=%{z}<extra></extra>",
           "hovertext": [
            "Italy",
            "Russia",
            "China",
            "Albania",
            "Bangladesh",
            "Botswana",
            "Cambodia",
            "Croatia",
            "Greece",
            "Sweden",
            "Finland",
            "Norway",
            "Malaysia",
            "Israel",
            "Lithuania",
            "Serbia",
            "Slovakia",
            "Slovenia",
            "Turkey",
            "Vietnam",
            "Bulgaria",
            "Czechia",
            "Denmark",
            "Georgia",
            "Germany",
            "Hungary",
            "Iceland",
            "Japan",
            "Kazakhstan",
            "South Korea",
            "Kyrgyzstan",
            "Netherlands",
            "Poland",
            "Romania",
            "Tajikistan",
            "Thailand",
            "Azerbaijan",
            "Mongolia"
           ],
           "locations": [
            "ITA",
            "RUS",
            "CHN",
            "ALB",
            "BGD",
            "BWA",
            "KHM",
            "HRV",
            "GRC",
            "SWE",
            "FIN",
            "NOR",
            "MYS",
            "ISR",
            "LTU",
            "SRB",
            "SVK",
            "SVN",
            "TUR",
            "VNM",
            "BGR",
            "CZE",
            "DNK",
            "GEO",
            "DEU",
            "HUN",
            "ISL",
            "JPN",
            "KAZ",
            "PRK",
            "KGZ",
            "NLD",
            "POL",
            "ROU",
            "TJK",
            "THA",
            "AZE",
            "MNG"
           ],
           "name": "",
           "type": "choropleth",
           "z": [
            1190.327384774651,
            1801.7466808993452,
            179.08900857487066,
            2.1847533113988797,
            1.494328265228852,
            0,
            0,
            325.7421535299233,
            178.25241978080393,
            780.4457686632137,
            2517.9476857309905,
            402.1582031703838,
            115.8376145237357,
            1735.4342329437552,
            285.05645133878494,
            74.50219056732693,
            110.13355066940204,
            271.87729943460363,
            31.686383251073906,
            735.0055630047542,
            51.15362455950846,
            3548.747796054126,
            734.7801661486668,
            69.8414813270741,
            1957.9256210531994,
            823.5976701484253,
            201.9303449461474,
            1335.1319885000119,
            94.8886592456914,
            402.08742767776806,
            0.5395218772321768,
            1320.8955651750136,
            1713.2082660603544,
            214.6901574034455,
            0,
            94.8940127173106,
            12.54319649987353,
            5.643182486489916
           ]
          }
         ],
         "name": "2020-02-21"
        },
        {
         "data": [
          {
           "coloraxis": "coloraxis",
           "geo": "geo",
           "hovertemplate": "<b>%{hovertext}</b><br><br>date=2020-02-26<br>Country_code=%{location}<br>pageviews=%{z}<extra></extra>",
           "hovertext": [
            "Italy",
            "Russia",
            "China",
            "Albania",
            "Bangladesh",
            "Botswana",
            "Cambodia",
            "Croatia",
            "Greece",
            "Sweden",
            "Finland",
            "Norway",
            "Malaysia",
            "Israel",
            "Lithuania",
            "Serbia",
            "Slovakia",
            "Slovenia",
            "Turkey",
            "Vietnam",
            "Bulgaria",
            "Czechia",
            "Denmark",
            "Georgia",
            "Germany",
            "Hungary",
            "Iceland",
            "Japan",
            "Kazakhstan",
            "South Korea",
            "Kyrgyzstan",
            "Netherlands",
            "Poland",
            "Romania",
            "Tajikistan",
            "Thailand",
            "Azerbaijan",
            "Mongolia"
           ],
           "locations": [
            "ITA",
            "RUS",
            "CHN",
            "ALB",
            "BGD",
            "BWA",
            "KHM",
            "HRV",
            "GRC",
            "SWE",
            "FIN",
            "NOR",
            "MYS",
            "ISR",
            "LTU",
            "SRB",
            "SVK",
            "SVN",
            "TUR",
            "VNM",
            "BGR",
            "CZE",
            "DNK",
            "GEO",
            "DEU",
            "HUN",
            "ISL",
            "JPN",
            "KAZ",
            "PRK",
            "KGZ",
            "NLD",
            "POL",
            "ROU",
            "TJK",
            "THA",
            "AZE",
            "MNG"
           ],
           "name": "",
           "type": "choropleth",
           "z": [
            2112.639180459754,
            2118.083926803316,
            218.82290411735528,
            3.559033620182046,
            1.6588804634722567,
            0,
            0,
            447.6885524547395,
            265.5095679140411,
            843.6324847330965,
            2900.963063312827,
            553.6413869383165,
            127.76988987022739,
            2056.2120866838127,
            393.6834610368584,
            96.79486937910686,
            250.40178045576457,
            578.2386860088308,
            68.88266857398364,
            791.1251389389961,
            133.45803261169755,
            4636.348697094316,
            853.7566596311968,
            95.46793255246975,
            2675.1415338110155,
            974.7748470305429,
            234.94868513328765,
            1615.003049239274,
            103.64867875126374,
            486.21968889371004,
            1.1432122406453322,
            1669.575437892383,
            2091.7531749459818,
            340.7136536791861,
            0,
            115.37109653530263,
            22.213148935794983,
            10.00521003010104
           ]
          }
         ],
         "name": "2020-02-26"
        },
        {
         "data": [
          {
           "coloraxis": "coloraxis",
           "geo": "geo",
           "hovertemplate": "<b>%{hovertext}</b><br><br>date=2020-03-02<br>Country_code=%{location}<br>pageviews=%{z}<extra></extra>",
           "hovertext": [
            "Italy",
            "Russia",
            "China",
            "Albania",
            "Bangladesh",
            "Botswana",
            "Cambodia",
            "Croatia",
            "Greece",
            "Sweden",
            "Finland",
            "Norway",
            "Malaysia",
            "Israel",
            "Lithuania",
            "Serbia",
            "Slovakia",
            "Slovenia",
            "Turkey",
            "Vietnam",
            "Bulgaria",
            "Czechia",
            "Denmark",
            "Georgia",
            "Germany",
            "Hungary",
            "Iceland",
            "Japan",
            "Kazakhstan",
            "South Korea",
            "Kyrgyzstan",
            "Netherlands",
            "Poland",
            "Romania",
            "Tajikistan",
            "Thailand",
            "Azerbaijan",
            "Mongolia"
           ],
           "locations": [
            "ITA",
            "RUS",
            "CHN",
            "ALB",
            "BGD",
            "BWA",
            "KHM",
            "HRV",
            "GRC",
            "SWE",
            "FIN",
            "NOR",
            "MYS",
            "ISR",
            "LTU",
            "SRB",
            "SVK",
            "SVN",
            "TUR",
            "VNM",
            "BGR",
            "CZE",
            "DNK",
            "GEO",
            "DEU",
            "HUN",
            "ISL",
            "JPN",
            "KAZ",
            "PRK",
            "KGZ",
            "NLD",
            "POL",
            "ROU",
            "TJK",
            "THA",
            "AZE",
            "MNG"
           ],
           "name": "",
           "type": "choropleth",
           "z": [
            2426.539070697737,
            2618.8670741740416,
            259.66685564453263,
            4.263792752891362,
            1.8143246064623364,
            0,
            0,
            498.9771918728753,
            343.7204571426008,
            949.2688518465646,
            3339.136706234132,
            808.8521649417462,
            146.3851045161654,
            2285.0430272053477,
            636.4483690742195,
            110.26034312172297,
            579.8864847704461,
            695.7224035741687,
            96.98233915724963,
            848.3152050816273,
            211.06097982193577,
            5778.0912777118565,
            1006.2928241637863,
            129.09929202227622,
            3891.611476748482,
            1119.5521217162936,
            393.76417264498735,
            2013.197265980786,
            109.87613023179235,
            531.0666925507462,
            2.0213073147008314,
            2172.6858355072673,
            2572.6884591099465,
            435.81935784046965,
            0,
            136.99001452407333,
            31.239098391865117,
            13.238601076414183
           ]
          }
         ],
         "name": "2020-03-02"
        },
        {
         "data": [
          {
           "coloraxis": "coloraxis",
           "geo": "geo",
           "hovertemplate": "<b>%{hovertext}</b><br><br>date=2020-03-07<br>Country_code=%{location}<br>pageviews=%{z}<extra></extra>",
           "hovertext": [
            "Italy",
            "Russia",
            "China",
            "Albania",
            "Bangladesh",
            "Botswana",
            "Cambodia",
            "Croatia",
            "Greece",
            "Sweden",
            "Finland",
            "Norway",
            "Malaysia",
            "Israel",
            "Lithuania",
            "Serbia",
            "Slovakia",
            "Slovenia",
            "Turkey",
            "Vietnam",
            "Bulgaria",
            "Czechia",
            "Denmark",
            "Georgia",
            "Germany",
            "Hungary",
            "Iceland",
            "Japan",
            "Kazakhstan",
            "South Korea",
            "Kyrgyzstan",
            "Netherlands",
            "Poland",
            "Romania",
            "Tajikistan",
            "Thailand",
            "Azerbaijan",
            "Mongolia"
           ],
           "locations": [
            "ITA",
            "RUS",
            "CHN",
            "ALB",
            "BGD",
            "BWA",
            "KHM",
            "HRV",
            "GRC",
            "SWE",
            "FIN",
            "NOR",
            "MYS",
            "ISR",
            "LTU",
            "SRB",
            "SVK",
            "SVN",
            "TUR",
            "VNM",
            "BGR",
            "CZE",
            "DNK",
            "GEO",
            "DEU",
            "HUN",
            "ISL",
            "JPN",
            "KAZ",
            "PRK",
            "KGZ",
            "NLD",
            "POL",
            "ROU",
            "TJK",
            "THA",
            "AZE",
            "MNG"
           ],
           "name": "",
           "type": "choropleth",
           "z": [
            2862.436567409527,
            3088.5299167390253,
            301.08688257387854,
            4.651410275881486,
            2.036561154643466,
            0,
            0,
            554.1693019211004,
            399.1381382425362,
            1027.2236035127255,
            3688.0443826913,
            955.557930838976,
            191.73516602207044,
            2698.97233887858,
            709.4746295464751,
            123.81278440196628,
            941.7224616204178,
            890.2602192997684,
            118.22872074219175,
            931.0840286220316,
            266.9593302004683,
            6955.149339241557,
            1130.6025101330656,
            150.53525436804742,
            5189.232565878248,
            1257.3654002620883,
            601.1520944815711,
            2381.50972984532,
            123.47202173465875,
            564.446814901058,
            3.173807099398674,
            2606.3411977180863,
            2960.128045358369,
            499.48279944665774,
            0,
            159.27798716498162,
            37.18374128280043,
            15.831414651287927
           ]
          }
         ],
         "name": "2020-03-07"
        },
        {
         "data": [
          {
           "coloraxis": "coloraxis",
           "geo": "geo",
           "hovertemplate": "<b>%{hovertext}</b><br><br>date=2020-03-12<br>Country_code=%{location}<br>pageviews=%{z}<extra></extra>",
           "hovertext": [
            "Italy",
            "Russia",
            "China",
            "Albania",
            "Bangladesh",
            "Botswana",
            "Cambodia",
            "Croatia",
            "Greece",
            "Sweden",
            "Finland",
            "Norway",
            "Malaysia",
            "Israel",
            "Lithuania",
            "Serbia",
            "Slovakia",
            "Slovenia",
            "Turkey",
            "Vietnam",
            "Bulgaria",
            "Czechia",
            "Denmark",
            "Georgia",
            "Germany",
            "Hungary",
            "Iceland",
            "Japan",
            "Kazakhstan",
            "South Korea",
            "Kyrgyzstan",
            "Netherlands",
            "Poland",
            "Romania",
            "Tajikistan",
            "Thailand",
            "Azerbaijan",
            "Mongolia"
           ],
           "locations": [
            "ITA",
            "RUS",
            "CHN",
            "ALB",
            "BGD",
            "BWA",
            "KHM",
            "HRV",
            "GRC",
            "SWE",
            "FIN",
            "NOR",
            "MYS",
            "ISR",
            "LTU",
            "SRB",
            "SVK",
            "SVN",
            "TUR",
            "VNM",
            "BGR",
            "CZE",
            "DNK",
            "GEO",
            "DEU",
            "HUN",
            "ISL",
            "JPN",
            "KAZ",
            "PRK",
            "KGZ",
            "NLD",
            "POL",
            "ROU",
            "TJK",
            "THA",
            "AZE",
            "MNG"
           ],
           "name": "",
           "type": "choropleth",
           "z": [
            4077.495856274853,
            3836.3223279254016,
            353.82928212033164,
            5.074265755507076,
            2.141607391898481,
            0,
            0,
            776.9141829393628,
            653.2931559818014,
            1149.4438274730278,
            5051.122669631107,
            1364.7056636567695,
            248.09678354426148,
            3524.8667947173662,
            1089.8122820795845,
            196.85102141923485,
            1541.3018218016434,
            1333.4639764956462,
            193.480916738147,
            1139.3241670674413,
            539.0095060365459,
            10722.567078381486,
            1480.9984010711657,
            203.8028149340428,
            7602.623594454656,
            1517.3101457218756,
            794.0774375584984,
            2855.4747705150444,
            138.68342505139515,
            604.6927903083401,
            4.6007115947388595,
            3538.9960725855,
            4288.7754237768895,
            809.7148542491453,
            0,
            177.9456148252654,
            41.75120857066908,
            20.467975396944507
           ]
          }
         ],
         "name": "2020-03-12"
        },
        {
         "data": [
          {
           "coloraxis": "coloraxis",
           "geo": "geo",
           "hovertemplate": "<b>%{hovertext}</b><br><br>date=2020-03-17<br>Country_code=%{location}<br>pageviews=%{z}<extra></extra>",
           "hovertext": [
            "Italy",
            "Russia",
            "China",
            "Albania",
            "Bangladesh",
            "Botswana",
            "Cambodia",
            "Croatia",
            "Greece",
            "Sweden",
            "Finland",
            "Norway",
            "Malaysia",
            "Israel",
            "Lithuania",
            "Serbia",
            "Slovakia",
            "Slovenia",
            "Turkey",
            "Vietnam",
            "Bulgaria",
            "Czechia",
            "Denmark",
            "Georgia",
            "Germany",
            "Hungary",
            "Iceland",
            "Japan",
            "Kazakhstan",
            "South Korea",
            "Kyrgyzstan",
            "Netherlands",
            "Poland",
            "Romania",
            "Tajikistan",
            "Thailand",
            "Azerbaijan",
            "Mongolia"
           ],
           "locations": [
            "ITA",
            "RUS",
            "CHN",
            "ALB",
            "BGD",
            "BWA",
            "KHM",
            "HRV",
            "GRC",
            "SWE",
            "FIN",
            "NOR",
            "MYS",
            "ISR",
            "LTU",
            "SRB",
            "SVK",
            "SVN",
            "TUR",
            "VNM",
            "BGR",
            "CZE",
            "DNK",
            "GEO",
            "DEU",
            "HUN",
            "ISL",
            "JPN",
            "KAZ",
            "PRK",
            "KGZ",
            "NLD",
            "POL",
            "ROU",
            "TJK",
            "THA",
            "AZE",
            "MNG"
           ],
           "name": "",
           "type": "choropleth",
           "z": [
            5952.5553500198575,
            5381.048857414012,
            469.95804691375525,
            66.91687965074956,
            4.8873824489341855,
            0,
            0,
            1209.9029567554746,
            1341.1265732360075,
            1291.9954542653545,
            6833.566535245318,
            1793.1861380525054,
            381.3199271655396,
            5331.477683367517,
            1917.1450703696216,
            389.22321465066733,
            2181.750768067938,
            1630.4552042195205,
            318.91626213982187,
            1418.235151419864,
            810.3241772623797,
            16319.771677657342,
            1894.4494327609611,
            274.55760794000935,
            11184.113259227408,
            1819.7568057677888,
            1008.2873305081278,
            3314.472402404543,
            157.15784232881944,
            948.8805698268349,
            6.3020208007213885,
            5214.064157325918,
            5847.866451604222,
            1643.4255293516508,
            0,
            193.0659634305329,
            67.17446466756914,
            24.128418090883912
           ]
          }
         ],
         "name": "2020-03-17"
        },
        {
         "data": [
          {
           "coloraxis": "coloraxis",
           "geo": "geo",
           "hovertemplate": "<b>%{hovertext}</b><br><br>date=2020-03-22<br>Country_code=%{location}<br>pageviews=%{z}<extra></extra>",
           "hovertext": [
            "Italy",
            "Russia",
            "China",
            "Albania",
            "Bangladesh",
            "Botswana",
            "Cambodia",
            "Croatia",
            "Greece",
            "Sweden",
            "Finland",
            "Norway",
            "Malaysia",
            "Israel",
            "Lithuania",
            "Serbia",
            "Slovakia",
            "Slovenia",
            "Turkey",
            "Vietnam",
            "Bulgaria",
            "Czechia",
            "Denmark",
            "Georgia",
            "Germany",
            "Hungary",
            "Iceland",
            "Japan",
            "Kazakhstan",
            "South Korea",
            "Kyrgyzstan",
            "Netherlands",
            "Poland",
            "Romania",
            "Tajikistan",
            "Thailand",
            "Azerbaijan",
            "Mongolia"
           ],
           "locations": [
            "ITA",
            "RUS",
            "CHN",
            "ALB",
            "BGD",
            "BWA",
            "KHM",
            "HRV",
            "GRC",
            "SWE",
            "FIN",
            "NOR",
            "MYS",
            "ISR",
            "LTU",
            "SRB",
            "SVK",
            "SVN",
            "TUR",
            "VNM",
            "BGR",
            "CZE",
            "DNK",
            "GEO",
            "DEU",
            "HUN",
            "ISL",
            "JPN",
            "KAZ",
            "PRK",
            "KGZ",
            "NLD",
            "POL",
            "ROU",
            "TJK",
            "THA",
            "AZE",
            "MNG"
           ],
           "name": "",
           "type": "choropleth",
           "z": [
            7620.95045768825,
            7033.06047909458,
            585.0857487066827,
            128.86520741589845,
            17.446176235902225,
            0,
            1.0048465303277339,
            1858.9167127836192,
            2264.387009422688,
            1433.3783875932274,
            8071.9148038092835,
            2127.438086430367,
            586.1583505010412,
            7316.795259953772,
            2623.0775148172465,
            561.1000581812826,
            2812.307479244167,
            1975.3912041320023,
            521.858986180153,
            1764.4699019298441,
            1211.491466343814,
            20206.194548478772,
            2252.5278646446036,
            362.0474943562711,
            14429.407551539472,
            2066.112015313817,
            1160.8266045958255,
            3708.62103103888,
            167.56003225905175,
            1249.4367116410588,
            8.366388546938403,
            6992.695582375369,
            7059.977988905796,
            2917.8419651128497,
            0,
            212.44562569919435,
            114.55326850832364,
            26.812742733106145
           ]
          }
         ],
         "name": "2020-03-22"
        },
        {
         "data": [
          {
           "coloraxis": "coloraxis",
           "geo": "geo",
           "hovertemplate": "<b>%{hovertext}</b><br><br>date=2020-03-27<br>Country_code=%{location}<br>pageviews=%{z}<extra></extra>",
           "hovertext": [
            "Italy",
            "Russia",
            "China",
            "Albania",
            "Bangladesh",
            "Botswana",
            "Cambodia",
            "Croatia",
            "Greece",
            "Sweden",
            "Finland",
            "Norway",
            "Malaysia",
            "Israel",
            "Lithuania",
            "Serbia",
            "Slovakia",
            "Slovenia",
            "Turkey",
            "Vietnam",
            "Bulgaria",
            "Czechia",
            "Denmark",
            "Georgia",
            "Germany",
            "Hungary",
            "Iceland",
            "Japan",
            "Kazakhstan",
            "South Korea",
            "Kyrgyzstan",
            "Netherlands",
            "Poland",
            "Romania",
            "Tajikistan",
            "Thailand",
            "Azerbaijan",
            "Mongolia"
           ],
           "locations": [
            "ITA",
            "RUS",
            "CHN",
            "ALB",
            "BGD",
            "BWA",
            "KHM",
            "HRV",
            "GRC",
            "SWE",
            "FIN",
            "NOR",
            "MYS",
            "ISR",
            "LTU",
            "SRB",
            "SVK",
            "SVN",
            "TUR",
            "VNM",
            "BGR",
            "CZE",
            "DNK",
            "GEO",
            "DEU",
            "HUN",
            "ISL",
            "JPN",
            "KAZ",
            "PRK",
            "KGZ",
            "NLD",
            "POL",
            "ROU",
            "TJK",
            "THA",
            "AZE",
            "MNG"
           ],
           "name": "",
           "type": "choropleth",
           "z": [
            9319.877347384108,
            8705.175084718603,
            683.4046488555028,
            179.43167518779188,
            39.36258599013635,
            0,
            1.5730633183106784,
            2538.9358842596253,
            3109.5019735423098,
            1783.8222303268806,
            9216.00573501282,
            2445.5732204350797,
            737.5147214678813,
            9137.57853957092,
            3195.766552112162,
            702.0599420854178,
            3282.6466198690673,
            2286.4614522604675,
            949.9405536463902,
            2229.0749804730567,
            1507.4671745013532,
            22998.847058915904,
            2508.4696584218827,
            432.77542525403493,
            17026.470297551357,
            2671.1386667014012,
            1331.3758824219635,
            4145.540586562755,
            177.47170375074924,
            1505.9831018990403,
            9.095882916153741,
            8529.925751798872,
            8069.976387283381,
            4420.195331486089,
            1.593685315510899,
            249.75939104164186,
            186.4933552267926,
            30.534192805277872
           ]
          }
         ],
         "name": "2020-03-27"
        },
        {
         "data": [
          {
           "coloraxis": "coloraxis",
           "geo": "geo",
           "hovertemplate": "<b>%{hovertext}</b><br><br>date=2020-04-01<br>Country_code=%{location}<br>pageviews=%{z}<extra></extra>",
           "hovertext": [
            "Italy",
            "Russia",
            "China",
            "Albania",
            "Bangladesh",
            "Botswana",
            "Cambodia",
            "Croatia",
            "Greece",
            "Sweden",
            "Finland",
            "Norway",
            "Malaysia",
            "Israel",
            "Lithuania",
            "Serbia",
            "Slovakia",
            "Slovenia",
            "Turkey",
            "Vietnam",
            "Bulgaria",
            "Czechia",
            "Denmark",
            "Georgia",
            "Germany",
            "Hungary",
            "Iceland",
            "Japan",
            "Kazakhstan",
            "South Korea",
            "Kyrgyzstan",
            "Netherlands",
            "Poland",
            "Romania",
            "Tajikistan",
            "Thailand",
            "Azerbaijan",
            "Mongolia"
           ],
           "locations": [
            "ITA",
            "RUS",
            "CHN",
            "ALB",
            "BGD",
            "BWA",
            "KHM",
            "HRV",
            "GRC",
            "SWE",
            "FIN",
            "NOR",
            "MYS",
            "ISR",
            "LTU",
            "SRB",
            "SVK",
            "SVN",
            "TUR",
            "VNM",
            "BGR",
            "CZE",
            "DNK",
            "GEO",
            "DEU",
            "HUN",
            "ISL",
            "JPN",
            "KAZ",
            "PRK",
            "KGZ",
            "NLD",
            "POL",
            "ROU",
            "TJK",
            "THA",
            "AZE",
            "MNG"
           ],
           "name": "",
           "type": "choropleth",
           "z": [
            10686.478632538154,
            10524.86057099096,
            770.5611933952237,
            241.7323825192954,
            57.080789476271214,
            0,
            2.3027732986677227,
            3078.8995177484385,
            3907.3950923671628,
            2197.926061690402,
            10181.239209099196,
            2730.9170504556673,
            863.2917792307841,
            10920.076830419637,
            3834.5763779189483,
            838.1786330616371,
            3709.826305175086,
            2602.002740652553,
            1300.4886572909327,
            2647.9335537481575,
            1760.2355922218226,
            25284.454140258735,
            2697.0348821655984,
            521.8501760542572,
            19267.56755590018,
            3738.3018454384646,
            1461.539091258872,
            4677.261387126666,
            196.34600019002258,
            1712.3522406785726,
            9.855772884086385,
            10001.158157268583,
            8930.799621204425,
            5459.456877105671,
            3.3970660672732316,
            287.99579277804355,
            253.5984657273008,
            34.04211705363647
           ]
          }
         ],
         "name": "2020-04-01"
        },
        {
         "data": [
          {
           "coloraxis": "coloraxis",
           "geo": "geo",
           "hovertemplate": "<b>%{hovertext}</b><br><br>date=2020-04-06<br>Country_code=%{location}<br>pageviews=%{z}<extra></extra>",
           "hovertext": [
            "Italy",
            "Russia",
            "China",
            "Albania",
            "Bangladesh",
            "Botswana",
            "Cambodia",
            "Croatia",
            "Greece",
            "Sweden",
            "Finland",
            "Norway",
            "Malaysia",
            "Israel",
            "Lithuania",
            "Serbia",
            "Slovakia",
            "Slovenia",
            "Turkey",
            "Vietnam",
            "Bulgaria",
            "Czechia",
            "Denmark",
            "Georgia",
            "Germany",
            "Hungary",
            "Iceland",
            "Japan",
            "Kazakhstan",
            "South Korea",
            "Kyrgyzstan",
            "Netherlands",
            "Poland",
            "Romania",
            "Tajikistan",
            "Thailand",
            "Azerbaijan",
            "Mongolia"
           ],
           "locations": [
            "ITA",
            "RUS",
            "CHN",
            "ALB",
            "BGD",
            "BWA",
            "KHM",
            "HRV",
            "GRC",
            "SWE",
            "FIN",
            "NOR",
            "MYS",
            "ISR",
            "LTU",
            "SRB",
            "SVK",
            "SVN",
            "TUR",
            "VNM",
            "BGR",
            "CZE",
            "DNK",
            "GEO",
            "DEU",
            "HUN",
            "ISL",
            "JPN",
            "KAZ",
            "PRK",
            "KGZ",
            "NLD",
            "POL",
            "ROU",
            "TJK",
            "THA",
            "AZE",
            "MNG"
           ],
           "name": "",
           "type": "choropleth",
           "z": [
            11822.967069191316,
            11818.809611693128,
            844.6010204804762,
            312.17305783359154,
            73.46860969173709,
            0,
            2.85902762795629,
            3503.5625345877147,
            4547.670233210311,
            2546.380227947382,
            10824.85478456357,
            2969.93665738757,
            961.6388161427928,
            12362.31836876431,
            4291.589814965553,
            961.4841068274446,
            4031.818557356736,
            2818.943321954377,
            1516.7680240048185,
            2951.072340964733,
            2224.4255312398373,
            26797.4766537376,
            2844.357893913713,
            576.7831873288212,
            21236.962513295464,
            4501.551719876281,
            1600.9801808095224,
            5160.005068865287,
            234.0785979020953,
            1871.9992397596593,
            10.752443046246905,
            11098.064960009175,
            9700.409535115241,
            6138.479928879731,
            4.560875738468691,
            309.33534105125364,
            301.18533206923803,
            37.245004410833445
           ]
          }
         ],
         "name": "2020-04-06"
        },
        {
         "data": [
          {
           "coloraxis": "coloraxis",
           "geo": "geo",
           "hovertemplate": "<b>%{hovertext}</b><br><br>date=2020-04-11<br>Country_code=%{location}<br>pageviews=%{z}<extra></extra>",
           "hovertext": [
            "Italy",
            "Russia",
            "China",
            "Albania",
            "Bangladesh",
            "Botswana",
            "Cambodia",
            "Croatia",
            "Greece",
            "Sweden",
            "Finland",
            "Norway",
            "Malaysia",
            "Israel",
            "Lithuania",
            "Serbia",
            "Slovakia",
            "Slovenia",
            "Turkey",
            "Vietnam",
            "Bulgaria",
            "Czechia",
            "Denmark",
            "Georgia",
            "Germany",
            "Hungary",
            "Iceland",
            "Japan",
            "Kazakhstan",
            "South Korea",
            "Kyrgyzstan",
            "Netherlands",
            "Poland",
            "Romania",
            "Tajikistan",
            "Thailand",
            "Azerbaijan",
            "Mongolia"
           ],
           "locations": [
            "ITA",
            "RUS",
            "CHN",
            "ALB",
            "BGD",
            "BWA",
            "KHM",
            "HRV",
            "GRC",
            "SWE",
            "FIN",
            "NOR",
            "MYS",
            "ISR",
            "LTU",
            "SRB",
            "SVK",
            "SVN",
            "TUR",
            "VNM",
            "BGR",
            "CZE",
            "DNK",
            "GEO",
            "DEU",
            "HUN",
            "ISL",
            "JPN",
            "KAZ",
            "PRK",
            "KGZ",
            "NLD",
            "POL",
            "ROU",
            "TJK",
            "THA",
            "AZE",
            "MNG"
           ],
           "name": "",
           "type": "choropleth",
           "z": [
            12694.607309491294,
            12707.025145054971,
            902.8450853943732,
            377.9623228720062,
            95.10874176995368,
            0,
            3.158089095315735,
            3764.8727172108465,
            5048.41991388111,
            2810.7270992583913,
            11304.785947048425,
            3156.5347919639,
            1049.2925322432511,
            13462.32813534308,
            4601.5131212912165,
            1065.4972818296114,
            4254.998372360948,
            2995.549412367373,
            1695.7870781283364,
            3180.158272901918,
            2517.228474412011,
            27863.839658368994,
            2954.5028950146484,
            625.1887063101242,
            22702.34880055549,
            5138.40352593586,
            1679.296409187285,
            5663.219838271517,
            244.30484100111403,
            1987.1098287049722,
            11.223574826365143,
            11898.603904480693,
            10197.110377642513,
            6577.373410491071,
            6.144076282167018,
            330.03735330690216,
            337.9034096589152,
            40.234365944217295
           ]
          }
         ],
         "name": "2020-04-11"
        },
        {
         "data": [
          {
           "coloraxis": "coloraxis",
           "geo": "geo",
           "hovertemplate": "<b>%{hovertext}</b><br><br>date=2020-04-16<br>Country_code=%{location}<br>pageviews=%{z}<extra></extra>",
           "hovertext": [
            "Italy",
            "Russia",
            "China",
            "Albania",
            "Bangladesh",
            "Botswana",
            "Cambodia",
            "Croatia",
            "Greece",
            "Sweden",
            "Finland",
            "Norway",
            "Malaysia",
            "Israel",
            "Lithuania",
            "Serbia",
            "Slovakia",
            "Slovenia",
            "Turkey",
            "Vietnam",
            "Bulgaria",
            "Czechia",
            "Denmark",
            "Georgia",
            "Germany",
            "Hungary",
            "Iceland",
            "Japan",
            "Kazakhstan",
            "South Korea",
            "Kyrgyzstan",
            "Netherlands",
            "Poland",
            "Romania",
            "Tajikistan",
            "Thailand",
            "Azerbaijan",
            "Mongolia"
           ],
           "locations": [
            "ITA",
            "RUS",
            "CHN",
            "ALB",
            "BGD",
            "BWA",
            "KHM",
            "HRV",
            "GRC",
            "SWE",
            "FIN",
            "NOR",
            "MYS",
            "ISR",
            "LTU",
            "SRB",
            "SVK",
            "SVN",
            "TUR",
            "VNM",
            "BGR",
            "CZE",
            "DNK",
            "GEO",
            "DEU",
            "HUN",
            "ISL",
            "JPN",
            "KAZ",
            "PRK",
            "KGZ",
            "NLD",
            "POL",
            "ROU",
            "TJK",
            "THA",
            "AZE",
            "MNG"
           ],
           "name": "",
           "type": "choropleth",
           "z": [
            13496.467347839452,
            13510.567712417233,
            951.3801998440933,
            452.94869459227743,
            120.49107014991975,
            0.8079519481209801,
            3.5169628561470674,
            4009.333741797771,
            5480.1357985510285,
            3102.407875564474,
            11739.668178726524,
            3375.0319501438335,
            1127.8070276096537,
            14537.465681327385,
            4868.250393128877,
            1167.4957088767476,
            4433.699767367605,
            3162.7853439300156,
            1842.6217591427708,
            3396.80206768574,
            2808.9497931573555,
            28688.44398570256,
            3071.524456203,
            671.0423250121686,
            24070.031685935563,
            5710.917853665621,
            1769.3464278794859,
            6162.879273885048,
            253.70466716564476,
            2100.9568228898706,
            11.512333014179546,
            12659.083221053235,
            10645.606871092088,
            6888.633635068275,
            8.241030644681357,
            343.0387900695327,
            371.63925806497315,
            45.20646727015165
           ]
          }
         ],
         "name": "2020-04-16"
        },
        {
         "data": [
          {
           "coloraxis": "coloraxis",
           "geo": "geo",
           "hovertemplate": "<b>%{hovertext}</b><br><br>date=2020-04-21<br>Country_code=%{location}<br>pageviews=%{z}<extra></extra>",
           "hovertext": [
            "Italy",
            "Russia",
            "China",
            "Albania",
            "Bangladesh",
            "Botswana",
            "Cambodia",
            "Croatia",
            "Greece",
            "Sweden",
            "Finland",
            "Norway",
            "Malaysia",
            "Israel",
            "Lithuania",
            "Serbia",
            "Slovakia",
            "Slovenia",
            "Turkey",
            "Vietnam",
            "Bulgaria",
            "Czechia",
            "Denmark",
            "Georgia",
            "Germany",
            "Hungary",
            "Iceland",
            "Japan",
            "Kazakhstan",
            "South Korea",
            "Kyrgyzstan",
            "Netherlands",
            "Poland",
            "Romania",
            "Tajikistan",
            "Thailand",
            "Azerbaijan",
            "Mongolia"
           ],
           "locations": [
            "ITA",
            "RUS",
            "CHN",
            "ALB",
            "BGD",
            "BWA",
            "KHM",
            "HRV",
            "GRC",
            "SWE",
            "FIN",
            "NOR",
            "MYS",
            "ISR",
            "LTU",
            "SRB",
            "SVK",
            "SVN",
            "TUR",
            "VNM",
            "BGR",
            "CZE",
            "DNK",
            "GEO",
            "DEU",
            "HUN",
            "ISL",
            "JPN",
            "KAZ",
            "PRK",
            "KGZ",
            "NLD",
            "POL",
            "ROU",
            "TJK",
            "THA",
            "AZE",
            "MNG"
           ],
           "name": "",
           "type": "choropleth",
           "z": [
            14195.754660924384,
            14139.654443150574,
            994.2099071646234,
            517.9979625413473,
            149.3733205618968,
            5.5706160633604425,
            3.8220055528537014,
            4208.63309352518,
            5862.340237273652,
            3322.808009162557,
            12080.021802886786,
            3542.037094697903,
            1197.4511028518261,
            15350.294625126151,
            5057.166931734221,
            1251.057017946911,
            4583.292344674048,
            3291.0185838312914,
            1949.4192412633636,
            3569.719111279851,
            3053.5988168470935,
            29285.049399608783,
            3202.36773168177,
            711.5772462900742,
            25289.73872820548,
            6142.367670483805,
            1845.4796255010738,
            6639.358946943237,
            261.3770153509878,
            2200.2194256415864,
            11.679508807124728,
            13292.423243413697,
            11033.014794294424,
            7130.855894216908,
            8.93302558431109,
            352.970025291412,
            398.88553798176,
            48.40935462734863
           ]
          }
         ],
         "name": "2020-04-21"
        },
        {
         "data": [
          {
           "coloraxis": "coloraxis",
           "geo": "geo",
           "hovertemplate": "<b>%{hovertext}</b><br><br>date=2020-04-26<br>Country_code=%{location}<br>pageviews=%{z}<extra></extra>",
           "hovertext": [
            "Italy",
            "Russia",
            "China",
            "Albania",
            "Bangladesh",
            "Botswana",
            "Cambodia",
            "Croatia",
            "Greece",
            "Sweden",
            "Finland",
            "Norway",
            "Malaysia",
            "Israel",
            "Lithuania",
            "Serbia",
            "Slovakia",
            "Slovenia",
            "Turkey",
            "Vietnam",
            "Bulgaria",
            "Czechia",
            "Denmark",
            "Georgia",
            "Germany",
            "Hungary",
            "Iceland",
            "Japan",
            "Kazakhstan",
            "South Korea",
            "Kyrgyzstan",
            "Netherlands",
            "Poland",
            "Romania",
            "Tajikistan",
            "Thailand",
            "Azerbaijan",
            "Mongolia"
           ],
           "locations": [
            "ITA",
            "RUS",
            "CHN",
            "ALB",
            "BGD",
            "BWA",
            "KHM",
            "HRV",
            "GRC",
            "SWE",
            "FIN",
            "NOR",
            "MYS",
            "ISR",
            "LTU",
            "SRB",
            "SVK",
            "SVN",
            "TUR",
            "VNM",
            "BGR",
            "CZE",
            "DNK",
            "GEO",
            "DEU",
            "HUN",
            "ISL",
            "JPN",
            "KAZ",
            "PRK",
            "KGZ",
            "NLD",
            "POL",
            "ROU",
            "TJK",
            "THA",
            "AZE",
            "MNG"
           ],
           "name": "",
           "type": "choropleth",
           "z": [
            14771.567484464596,
            14675.662060781502,
            1028.089433775069,
            595.3100393995593,
            183.48298748559887,
            8.504757348641897,
            4.162935625643469,
            4366.896592616017,
            6135.008311717634,
            3502.4004577414935,
            12352.377040923635,
            3677.682301711598,
            1253.7663754412888,
            16030.732167854932,
            5193.988303633244,
            1320.4861021526494,
            4692.876326727335,
            3399.2748353206475,
            2043.4681830189088,
            3718.627175824,
            3223.2407919509833,
            29812.3979585446,
            3306.888015304719,
            747.5993333899229,
            26370.534286491544,
            6485.059869341483,
            1915.0637308541382,
            7099.5683544404055,
            267.80174055136195,
            2293.490081330939,
            11.801091201993952,
            13786.417452627353,
            11341.959050710215,
            7335.752474877347,
            10.212167745444837,
            364.54739283728713,
            429.01496970065057,
            51.39871616073248
           ]
          }
         ],
         "name": "2020-04-26"
        },
        {
         "data": [
          {
           "coloraxis": "coloraxis",
           "geo": "geo",
           "hovertemplate": "<b>%{hovertext}</b><br><br>date=2020-05-01<br>Country_code=%{location}<br>pageviews=%{z}<extra></extra>",
           "hovertext": [
            "Italy",
            "Russia",
            "China",
            "Albania",
            "Bangladesh",
            "Botswana",
            "Cambodia",
            "Croatia",
            "Greece",
            "Sweden",
            "Finland",
            "Norway",
            "Malaysia",
            "Israel",
            "Lithuania",
            "Serbia",
            "Slovakia",
            "Slovenia",
            "Turkey",
            "Vietnam",
            "Bulgaria",
            "Czechia",
            "Denmark",
            "Georgia",
            "Germany",
            "Hungary",
            "Iceland",
            "Japan",
            "Kazakhstan",
            "South Korea",
            "Kyrgyzstan",
            "Netherlands",
            "Poland",
            "Romania",
            "Tajikistan",
            "Thailand",
            "Azerbaijan",
            "Mongolia"
           ],
           "locations": [
            "ITA",
            "RUS",
            "CHN",
            "ALB",
            "BGD",
            "BWA",
            "KHM",
            "HRV",
            "GRC",
            "SWE",
            "FIN",
            "NOR",
            "MYS",
            "ISR",
            "LTU",
            "SRB",
            "SVK",
            "SVN",
            "TUR",
            "VNM",
            "BGR",
            "CZE",
            "DNK",
            "GEO",
            "DEU",
            "HUN",
            "ISL",
            "JPN",
            "KAZ",
            "PRK",
            "KGZ",
            "NLD",
            "POL",
            "ROU",
            "TJK",
            "THA",
            "AZE",
            "MNG"
           ],
           "name": "",
           "type": "choropleth",
           "z": [
            15328.303621322337,
            15130.541439789133,
            1056.6984621926156,
            663.8126270989048,
            209.06872909955587,
            11.56646999415298,
            4.575640450599502,
            4512.58498695549,
            6385.481277795285,
            3674.121128026795,
            12603.374275233955,
            3811.226931996152,
            1311.7253483115212,
            16654.393332682226,
            5333.2784712072225,
            1380.4647139362291,
            4798.430138929114,
            3495.830279311593,
            2132.357001293363,
            3829.9222005317256,
            3394.699896091947,
            30236.473507126382,
            3397.0892772992574,
            782.0365561058109,
            27417.811677321173,
            6794.6859068512695,
            1980.0088958503316,
            7462.893530068668,
            273.87990381146693,
            2371.358385009375,
            12.029058192373745,
            14270.859731101109,
            11610.145051052705,
            7530.38812889718,
            11.763913973705451,
            379.54739756508235,
            451.5352585191439,
            53.62548546621229
           ]
          }
         ],
         "name": "2020-05-01"
        },
        {
         "data": [
          {
           "coloraxis": "coloraxis",
           "geo": "geo",
           "hovertemplate": "<b>%{hovertext}</b><br><br>date=2020-05-06<br>Country_code=%{location}<br>pageviews=%{z}<extra></extra>",
           "hovertext": [
            "Italy",
            "Russia",
            "China",
            "Albania",
            "Bangladesh",
            "Botswana",
            "Cambodia",
            "Croatia",
            "Greece",
            "Sweden",
            "Finland",
            "Norway",
            "Malaysia",
            "Israel",
            "Lithuania",
            "Serbia",
            "Slovakia",
            "Slovenia",
            "Turkey",
            "Vietnam",
            "Bulgaria",
            "Czechia",
            "Denmark",
            "Georgia",
            "Germany",
            "Hungary",
            "Iceland",
            "Japan",
            "Kazakhstan",
            "South Korea",
            "Kyrgyzstan",
            "Netherlands",
            "Poland",
            "Romania",
            "Tajikistan",
            "Thailand",
            "Azerbaijan",
            "Mongolia"
           ],
           "locations": [
            "ITA",
            "RUS",
            "CHN",
            "ALB",
            "BGD",
            "BWA",
            "KHM",
            "HRV",
            "GRC",
            "SWE",
            "FIN",
            "NOR",
            "MYS",
            "ISR",
            "LTU",
            "SRB",
            "SVK",
            "SVN",
            "TUR",
            "VNM",
            "BGR",
            "CZE",
            "DNK",
            "GEO",
            "DEU",
            "HUN",
            "ISL",
            "JPN",
            "KAZ",
            "PRK",
            "KGZ",
            "NLD",
            "POL",
            "ROU",
            "TJK",
            "THA",
            "AZE",
            "MNG"
           ],
           "name": "",
           "type": "choropleth",
           "z": [
            15798.99197515903,
            15531.48016022612,
            1081.9682517185176,
            743.4504090950576,
            230.32025082029728,
            14.670706426407271,
            4.713208725584846,
            4638.385445489762,
            6612.824604628022,
            3845.8417983120976,
            12846.070642727616,
            3914.359672644636,
            1371.108655447609,
            17282.55797549674,
            5438.255956864057,
            1438.6170074296367,
            4883.888058734963,
            3592.67110885128,
            2220.6031755129566,
            3945.061538444627,
            3641.627541907538,
            30589.44136293452,
            3462.3565782785754,
            812.9279805389399,
            28362.386921127847,
            7088.691670250373,
            2061.053912673312,
            7816.254425356999,
            277.86803198564104,
            2439.9686867714304,
            12.819343759023694,
            14701.424762778432,
            11892.041150350127,
            7704.26306191036,
            13.756020618094073,
            392.5187483583448,
            469.61688064573883,
            56.736861756060776
           ]
          }
         ],
         "name": "2020-05-06"
        },
        {
         "data": [
          {
           "coloraxis": "coloraxis",
           "geo": "geo",
           "hovertemplate": "<b>%{hovertext}</b><br><br>date=2020-05-11<br>Country_code=%{location}<br>pageviews=%{z}<extra></extra>",
           "hovertext": [
            "Italy",
            "Russia",
            "China",
            "Albania",
            "Bangladesh",
            "Botswana",
            "Cambodia",
            "Croatia",
            "Greece",
            "Sweden",
            "Finland",
            "Norway",
            "Malaysia",
            "Israel",
            "Lithuania",
            "Serbia",
            "Slovakia",
            "Slovenia",
            "Turkey",
            "Vietnam",
            "Bulgaria",
            "Czechia",
            "Denmark",
            "Georgia",
            "Germany",
            "Hungary",
            "Iceland",
            "Japan",
            "Kazakhstan",
            "South Korea",
            "Kyrgyzstan",
            "Netherlands",
            "Poland",
            "Romania",
            "Tajikistan",
            "Thailand",
            "Azerbaijan",
            "Mongolia"
           ],
           "locations": [
            "ITA",
            "RUS",
            "CHN",
            "ALB",
            "BGD",
            "BWA",
            "KHM",
            "HRV",
            "GRC",
            "SWE",
            "FIN",
            "NOR",
            "MYS",
            "ISR",
            "LTU",
            "SRB",
            "SVK",
            "SVN",
            "TUR",
            "VNM",
            "BGR",
            "CZE",
            "DNK",
            "GEO",
            "DEU",
            "HUN",
            "ISL",
            "JPN",
            "KAZ",
            "PRK",
            "KGZ",
            "NLD",
            "POL",
            "ROU",
            "TJK",
            "THA",
            "AZE",
            "MNG"
           ],
           "name": "",
           "type": "choropleth",
           "z": [
            16211.173555678584,
            15859.891828968897,
            1103.8950464176883,
            822.8415253947621,
            244.38430253879815,
            19.305799181417104,
            5.837679842856358,
            4737.479247371334,
            6786.7875276761315,
            3994.797092599736,
            13056.250760686733,
            4007.788864154959,
            1417.4566778382673,
            17786.0902214843,
            5525.128940904545,
            1483.2748380012192,
            4956.907408862747,
            3669.29712868843,
            2291.639057377763,
            4045.232505593389,
            3851.3184641221574,
            30858.01849304786,
            3524.708629345523,
            839.7900887416607,
            29201.265821277895,
            7361.825957736646,
            2153.014083277166,
            8107.924062061919,
            280.6351957856362,
            2514.8545209848266,
            14.156750102585145,
            15065.378551156724,
            12119.624571262566,
            7822.4922004494865,
            16.26188108129871,
            404.8611591252937,
            491.64178255665416,
            58.47557203568199
           ]
          }
         ],
         "name": "2020-05-11"
        },
        {
         "data": [
          {
           "coloraxis": "coloraxis",
           "geo": "geo",
           "hovertemplate": "<b>%{hovertext}</b><br><br>date=2020-05-16<br>Country_code=%{location}<br>pageviews=%{z}<extra></extra>",
           "hovertext": [
            "Italy",
            "Russia",
            "China",
            "Albania",
            "Bangladesh",
            "Botswana",
            "Cambodia",
            "Croatia",
            "Greece",
            "Sweden",
            "Finland",
            "Norway",
            "Malaysia",
            "Israel",
            "Lithuania",
            "Serbia",
            "Slovakia",
            "Slovenia",
            "Turkey",
            "Vietnam",
            "Bulgaria",
            "Czechia",
            "Denmark",
            "Georgia",
            "Germany",
            "Hungary",
            "Iceland",
            "Japan",
            "Kazakhstan",
            "South Korea",
            "Kyrgyzstan",
            "Netherlands",
            "Poland",
            "Romania",
            "Tajikistan",
            "Thailand",
            "Azerbaijan",
            "Mongolia"
           ],
           "locations": [
            "ITA",
            "RUS",
            "CHN",
            "ALB",
            "BGD",
            "BWA",
            "KHM",
            "HRV",
            "GRC",
            "SWE",
            "FIN",
            "NOR",
            "MYS",
            "ISR",
            "LTU",
            "SRB",
            "SVK",
            "SVN",
            "TUR",
            "VNM",
            "BGR",
            "CZE",
            "DNK",
            "GEO",
            "DEU",
            "HUN",
            "ISL",
            "JPN",
            "KAZ",
            "PRK",
            "KGZ",
            "NLD",
            "POL",
            "ROU",
            "TJK",
            "THA",
            "AZE",
            "MNG"
           ],
           "name": "",
           "type": "choropleth",
           "z": [
            16586.99319844883,
            16155.502796395655,
            1124.0214017433207,
            906.0735789677323,
            258.1836134512691,
            23.303035135278797,
            6.746826703629069,
            4838.77183967112,
            6944.498958745696,
            4143.781362758395,
            13274.38813659646,
            4109.862021851575,
            1467.0333972090093,
            18226.11800197502,
            5606.885435357805,
            1524.4249778885037,
            5039.599166634151,
            3767.23193616496,
            2364.273249548753,
            4129.386185948484,
            4045.8089577250703,
            31123.866104784713,
            3586.151808380966,
            868.6937171677882,
            29987.7643176681,
            7605.61710390272,
            2223.962582852839,
            8353.23654968676,
            284.9272321228156,
            2588.4381773916894,
            16.72517819419748,
            15410.119542470544,
            12356.258346181054,
            7952.9607135290535,
            18.233018182062192,
            419.03021803244695,
            512.2597856500482,
            60.82435609762644
           ]
          }
         ],
         "name": "2020-05-16"
        },
        {
         "data": [
          {
           "coloraxis": "coloraxis",
           "geo": "geo",
           "hovertemplate": "<b>%{hovertext}</b><br><br>date=2020-05-21<br>Country_code=%{location}<br>pageviews=%{z}<extra></extra>",
           "hovertext": [
            "Italy",
            "Russia",
            "China",
            "Albania",
            "Bangladesh",
            "Botswana",
            "Cambodia",
            "Croatia",
            "Greece",
            "Sweden",
            "Finland",
            "Norway",
            "Malaysia",
            "Israel",
            "Lithuania",
            "Serbia",
            "Slovakia",
            "Slovenia",
            "Turkey",
            "Vietnam",
            "Bulgaria",
            "Czechia",
            "Denmark",
            "Georgia",
            "Germany",
            "Hungary",
            "Iceland",
            "Japan",
            "Kazakhstan",
            "South Korea",
            "Kyrgyzstan",
            "Netherlands",
            "Poland",
            "Romania",
            "Tajikistan",
            "Thailand",
            "Azerbaijan",
            "Mongolia"
           ],
           "locations": [
            "ITA",
            "RUS",
            "CHN",
            "ALB",
            "BGD",
            "BWA",
            "KHM",
            "HRV",
            "GRC",
            "SWE",
            "FIN",
            "NOR",
            "MYS",
            "ISR",
            "LTU",
            "SRB",
            "SVK",
            "SVN",
            "TUR",
            "VNM",
            "BGR",
            "CZE",
            "DNK",
            "GEO",
            "DEU",
            "HUN",
            "ISL",
            "JPN",
            "KAZ",
            "PRK",
            "KGZ",
            "NLD",
            "POL",
            "ROU",
            "TJK",
            "THA",
            "AZE",
            "MNG"
           ],
           "name": "",
           "type": "choropleth",
           "z": [
            16956.93222252214,
            16409.7361687941,
            1142.0479767557224,
            983.8085113055698,
            270.10059294471944,
            34.78445755594535,
            7.123644152501969,
            4932.2821962210455,
            7089.996071232186,
            4281.0690396488435,
            13468.9973475204,
            4200.651550569526,
            1510.5574683654122,
            18683.56284793437,
            5682.165813620239,
            1565.6475907238103,
            5117.124979414076,
            3849.280281428202,
            2423.218649075167,
            4204.88964792101,
            4200.510094079692,
            31379.038682323135,
            3640.8213185023706,
            897.973415108754,
            30657.117576365934,
            7843.285266717462,
            2340.7547283081785,
            8592.993877761146,
            290.2962763359083,
            2654.189475436287,
            21.527682791531785,
            15704.681363414844,
            12561.002156517297,
            8056.09964315239,
            21.73493196746114,
            431.38409012105996,
            531.669044688952,
            62.80709589017696
           ]
          }
         ],
         "name": "2020-05-21"
        },
        {
         "data": [
          {
           "coloraxis": "coloraxis",
           "geo": "geo",
           "hovertemplate": "<b>%{hovertext}</b><br><br>date=2020-05-26<br>Country_code=%{location}<br>pageviews=%{z}<extra></extra>",
           "hovertext": [
            "Italy",
            "Russia",
            "China",
            "Albania",
            "Bangladesh",
            "Botswana",
            "Cambodia",
            "Croatia",
            "Greece",
            "Sweden",
            "Finland",
            "Norway",
            "Malaysia",
            "Israel",
            "Lithuania",
            "Serbia",
            "Slovakia",
            "Slovenia",
            "Turkey",
            "Vietnam",
            "Bulgaria",
            "Czechia",
            "Denmark",
            "Georgia",
            "Germany",
            "Hungary",
            "Iceland",
            "Japan",
            "Kazakhstan",
            "South Korea",
            "Kyrgyzstan",
            "Netherlands",
            "Poland",
            "Romania",
            "Tajikistan",
            "Thailand",
            "Azerbaijan",
            "Mongolia"
           ],
           "locations": [
            "ITA",
            "RUS",
            "CHN",
            "ALB",
            "BGD",
            "BWA",
            "KHM",
            "HRV",
            "GRC",
            "SWE",
            "FIN",
            "NOR",
            "MYS",
            "ISR",
            "LTU",
            "SRB",
            "SVK",
            "SVN",
            "TUR",
            "VNM",
            "BGR",
            "CZE",
            "DNK",
            "GEO",
            "DEU",
            "HUN",
            "ISL",
            "JPN",
            "KAZ",
            "PRK",
            "KGZ",
            "NLD",
            "POL",
            "ROU",
            "TJK",
            "THA",
            "AZE",
            "MNG"
           ],
           "name": "",
           "type": "choropleth",
           "z": [
            17259.715119348217,
            16612.18542618135,
            1158.115370987173,
            1036.1368769092364,
            279.7678827905986,
            36.69802795938978,
            7.4346680785557915,
            5012.673926792631,
            7211.485085447896,
            4405.414160817243,
            13620.980974377086,
            4264.059225110257,
            1537.5951021192054,
            19057.536000694512,
            5740.0572832155885,
            1595.9847667661093,
            5177.3027428786445,
            3903.1705858822625,
            2474.2495669296413,
            4267.647906894227,
            4310.994423865538,
            31582.322367711367,
            3686.6250391843887,
            917.1529603654966,
            31254.394870395237,
            8036.861795650508,
            2390.6915568556715,
            8801.96735333951,
            292.6848878626864,
            2705.8270952103603,
            23.366616513928783,
            15968.649485422698,
            12736.644988913975,
            8148.302585171922,
            24.408548779666926,
            443.9456986648334,
            543.4889763037618,
            64.91185043919212
           ]
          }
         ],
         "name": "2020-05-26"
        },
        {
         "data": [
          {
           "coloraxis": "coloraxis",
           "geo": "geo",
           "hovertemplate": "<b>%{hovertext}</b><br><br>date=2020-05-31<br>Country_code=%{location}<br>pageviews=%{z}<extra></extra>",
           "hovertext": [
            "Italy",
            "Russia",
            "China",
            "Albania",
            "Bangladesh",
            "Botswana",
            "Cambodia",
            "Croatia",
            "Greece",
            "Sweden",
            "Finland",
            "Norway",
            "Malaysia",
            "Israel",
            "Lithuania",
            "Serbia",
            "Slovakia",
            "Slovenia",
            "Turkey",
            "Vietnam",
            "Bulgaria",
            "Czechia",
            "Denmark",
            "Georgia",
            "Germany",
            "Hungary",
            "Iceland",
            "Japan",
            "Kazakhstan",
            "South Korea",
            "Kyrgyzstan",
            "Netherlands",
            "Poland",
            "Romania",
            "Tajikistan",
            "Thailand",
            "Azerbaijan",
            "Mongolia"
           ],
           "locations": [
            "ITA",
            "RUS",
            "CHN",
            "ALB",
            "BGD",
            "BWA",
            "KHM",
            "HRV",
            "GRC",
            "SWE",
            "FIN",
            "NOR",
            "MYS",
            "ISR",
            "LTU",
            "SRB",
            "SVK",
            "SVN",
            "TUR",
            "VNM",
            "BGR",
            "CZE",
            "DNK",
            "GEO",
            "DEU",
            "HUN",
            "ISL",
            "JPN",
            "KAZ",
            "PRK",
            "KGZ",
            "NLD",
            "POL",
            "ROU",
            "TJK",
            "THA",
            "AZE",
            "MNG"
           ],
           "name": "",
           "type": "choropleth",
           "z": [
            17526.583516804094,
            16787.567875508008,
            1172.0230316774148,
            1080.0786088336624,
            290.08366617051445,
            39.249455163982354,
            7.709804628526481,
            5079.03292750415,
            7323.694208039283,
            4523.548786963795,
            13748.586456421444,
            4318.1909015284955,
            1567.20642447052,
            19421.590650128594,
            5791.472636620111,
            1621.5822120077237,
            5237.059170404191,
            3955.9193481413554,
            2524.1469650120744,
            4323.014441251934,
            4403.307463280654,
            31751.851632354817,
            3725.6550909523676,
            932.6792589066691,
            31738.727219439537,
            8205.884853657108,
            2430.5318681558574,
            9000.883091374217,
            294.9562015019888,
            2756.46927239455,
            24.749616255566195,
            16184.089671186539,
            12897.83627935989,
            8216.862815149614,
            25.949810236114967,
            454.03022906396905,
            555.6457710157244,
            65.9489758691416
           ]
          }
         ],
         "name": "2020-05-31"
        },
        {
         "data": [
          {
           "coloraxis": "coloraxis",
           "geo": "geo",
           "hovertemplate": "<b>%{hovertext}</b><br><br>date=2020-06-05<br>Country_code=%{location}<br>pageviews=%{z}<extra></extra>",
           "hovertext": [
            "Italy",
            "Russia",
            "China",
            "Albania",
            "Bangladesh",
            "Botswana",
            "Cambodia",
            "Croatia",
            "Greece",
            "Sweden",
            "Finland",
            "Norway",
            "Malaysia",
            "Israel",
            "Lithuania",
            "Serbia",
            "Slovakia",
            "Slovenia",
            "Turkey",
            "Vietnam",
            "Bulgaria",
            "Czechia",
            "Denmark",
            "Georgia",
            "Germany",
            "Hungary",
            "Iceland",
            "Japan",
            "Kazakhstan",
            "South Korea",
            "Kyrgyzstan",
            "Netherlands",
            "Poland",
            "Romania",
            "Tajikistan",
            "Thailand",
            "Azerbaijan",
            "Mongolia"
           ],
           "locations": [
            "ITA",
            "RUS",
            "CHN",
            "ALB",
            "BGD",
            "BWA",
            "KHM",
            "HRV",
            "GRC",
            "SWE",
            "FIN",
            "NOR",
            "MYS",
            "ISR",
            "LTU",
            "SRB",
            "SVK",
            "SVN",
            "TUR",
            "VNM",
            "BGR",
            "CZE",
            "DNK",
            "GEO",
            "DEU",
            "HUN",
            "ISL",
            "JPN",
            "KAZ",
            "PRK",
            "KGZ",
            "NLD",
            "POL",
            "ROU",
            "TJK",
            "THA",
            "AZE",
            "MNG"
           ],
           "name": "",
           "type": "choropleth",
           "z": [
            17781.199503908585,
            16950.52191512257,
            1185.4312947346043,
            1119.2632166123003,
            301.38311951778945,
            42.82145325041195,
            7.990922407844359,
            5149.493042928295,
            7442.856240367322,
            4634.043441784867,
            13873.352644151604,
            4376.412196357452,
            1599.9784712339167,
            19776.095755878938,
            5838.057737617111,
            1644.2952339180354,
            5303.0989991073175,
            4012.425686792214,
            2570.0960149345738,
            4373.164133691981,
            4502.398682437231,
            31921.109814693744,
            3761.032506065435,
            949.9784565892214,
            32233.84108134221,
            8387.061572084693,
            2484.561879371178,
            9179.950261759372,
            297.40879369466273,
            2800.2128009325675,
            26.74052797154972,
            16415.187913883554,
            13051.117085458824,
            8249.582500758146,
            27.071680820060138,
            464.46432977385757,
            571.7260300357045,
            66.8335828535103
           ]
          }
         ],
         "name": "2020-06-05"
        },
        {
         "data": [
          {
           "coloraxis": "coloraxis",
           "geo": "geo",
           "hovertemplate": "<b>%{hovertext}</b><br><br>date=2020-06-10<br>Country_code=%{location}<br>pageviews=%{z}<extra></extra>",
           "hovertext": [
            "Italy",
            "Russia",
            "China",
            "Albania",
            "Bangladesh",
            "Botswana",
            "Cambodia",
            "Croatia",
            "Greece",
            "Sweden",
            "Finland",
            "Norway",
            "Malaysia",
            "Israel",
            "Lithuania",
            "Serbia",
            "Slovakia",
            "Slovenia",
            "Turkey",
            "Vietnam",
            "Bulgaria",
            "Czechia",
            "Denmark",
            "Georgia",
            "Germany",
            "Hungary",
            "Iceland",
            "Japan",
            "Kazakhstan",
            "South Korea",
            "Kyrgyzstan",
            "Netherlands",
            "Poland",
            "Romania",
            "Tajikistan",
            "Thailand",
            "Azerbaijan",
            "Mongolia"
           ],
           "locations": [
            "ITA",
            "RUS",
            "CHN",
            "ALB",
            "BGD",
            "BWA",
            "KHM",
            "HRV",
            "GRC",
            "SWE",
            "FIN",
            "NOR",
            "MYS",
            "ISR",
            "LTU",
            "SRB",
            "SVK",
            "SVN",
            "TUR",
            "VNM",
            "BGR",
            "CZE",
            "DNK",
            "GEO",
            "DEU",
            "HUN",
            "ISL",
            "JPN",
            "KAZ",
            "PRK",
            "KGZ",
            "NLD",
            "POL",
            "ROU",
            "TJK",
            "THA",
            "AZE",
            "MNG"
           ],
           "name": "",
           "type": "choropleth",
           "z": [
            17985.0026392977,
            17086.883211449986,
            1198.1184891219616,
            1153.4792725053378,
            312.6133516451391,
            52.0065911869452,
            8.349796168675692,
            5205.17926318286,
            7568.494571683938,
            4735.24650063235,
            13973.632179006476,
            4424.22355341367,
            1633.8627963827967,
            20096.493798222484,
            5878.0236038334315,
            1665.1384537693614,
            5356.938404532695,
            4060.2277662064507,
            2613.5076879614994,
            4419.013373145159,
            4640.702392481124,
            32063.914103178413,
            3794.729365346664,
            967.6537237866116,
            32699.126010837477,
            8541.448956318513,
            2525.4937060494512,
            9326.025455207864,
            299.3495405601699,
            2838.1572976388197,
            28.305901305490963,
            16626.69495169567,
            13201.870125045285,
            8269.995305729917,
            27.805614846940152,
            473.4543039540786,
            587.1127473850754,
            67.84020459434363
           ]
          }
         ],
         "name": "2020-06-10"
        },
        {
         "data": [
          {
           "coloraxis": "coloraxis",
           "geo": "geo",
           "hovertemplate": "<b>%{hovertext}</b><br><br>date=2020-06-15<br>Country_code=%{location}<br>pageviews=%{z}<extra></extra>",
           "hovertext": [
            "Italy",
            "Russia",
            "China",
            "Albania",
            "Bangladesh",
            "Botswana",
            "Cambodia",
            "Croatia",
            "Greece",
            "Sweden",
            "Finland",
            "Norway",
            "Malaysia",
            "Israel",
            "Lithuania",
            "Serbia",
            "Slovakia",
            "Slovenia",
            "Turkey",
            "Vietnam",
            "Bulgaria",
            "Czechia",
            "Denmark",
            "Georgia",
            "Germany",
            "Hungary",
            "Iceland",
            "Japan",
            "Kazakhstan",
            "South Korea",
            "Kyrgyzstan",
            "Netherlands",
            "Poland",
            "Romania",
            "Tajikistan",
            "Thailand",
            "Azerbaijan",
            "Mongolia"
           ],
           "locations": [
            "ITA",
            "RUS",
            "CHN",
            "ALB",
            "BGD",
            "BWA",
            "KHM",
            "HRV",
            "GRC",
            "SWE",
            "FIN",
            "NOR",
            "MYS",
            "ISR",
            "LTU",
            "SRB",
            "SVK",
            "SVN",
            "TUR",
            "VNM",
            "BGR",
            "CZE",
            "DNK",
            "GEO",
            "DEU",
            "HUN",
            "ISL",
            "JPN",
            "KAZ",
            "PRK",
            "KGZ",
            "NLD",
            "POL",
            "ROU",
            "TJK",
            "THA",
            "AZE",
            "MNG"
           ],
           "name": "",
           "type": "choropleth",
           "z": [
            18159.587712110813,
            17209.35850505763,
            1210.4806179576217,
            1187.0610451789366,
            323.5284450607238,
            58.55525434539946,
            8.708669929507025,
            5253.849118507392,
            7650.985612336405,
            4820.686685645218,
            14068.395887327399,
            4458.799418158836,
            1671.874910206693,
            20367.874466907575,
            5913.910590238955,
            1681.981166889835,
            5403.834926441157,
            4098.46942973784,
            2651.4663720432195,
            4459.2862010329445,
            4751.619372037701,
            32185.424409260242,
            3821.892635118404,
            985.9736815808674,
            33115.12333727241,
            8684.677536722773,
            2559.6035616146787,
            9456.085410380085,
            301.26362881488717,
            2873.1019625092786,
            29.23296706636879,
            16810.647020038414,
            13325.063121601666,
            8288.055782883777,
            28.350822981193883,
            481.9743639460746,
            603.1731909287524,
            68.48078206578303
           ]
          }
         ],
         "name": "2020-06-15"
        },
        {
         "data": [
          {
           "coloraxis": "coloraxis",
           "geo": "geo",
           "hovertemplate": "<b>%{hovertext}</b><br><br>date=2020-06-20<br>Country_code=%{location}<br>pageviews=%{z}<extra></extra>",
           "hovertext": [
            "Italy",
            "Russia",
            "China",
            "Albania",
            "Bangladesh",
            "Botswana",
            "Cambodia",
            "Croatia",
            "Greece",
            "Sweden",
            "Finland",
            "Norway",
            "Malaysia",
            "Israel",
            "Lithuania",
            "Serbia",
            "Slovakia",
            "Slovenia",
            "Turkey",
            "Vietnam",
            "Bulgaria",
            "Czechia",
            "Denmark",
            "Georgia",
            "Germany",
            "Hungary",
            "Iceland",
            "Japan",
            "Kazakhstan",
            "South Korea",
            "Kyrgyzstan",
            "Netherlands",
            "Poland",
            "Romania",
            "Tajikistan",
            "Thailand",
            "Azerbaijan",
            "Mongolia"
           ],
           "locations": [
            "ITA",
            "RUS",
            "CHN",
            "ALB",
            "BGD",
            "BWA",
            "KHM",
            "HRV",
            "GRC",
            "SWE",
            "FIN",
            "NOR",
            "MYS",
            "ISR",
            "LTU",
            "SRB",
            "SVK",
            "SVN",
            "TUR",
            "VNM",
            "BGR",
            "CZE",
            "DNK",
            "GEO",
            "DEU",
            "HUN",
            "ISL",
            "JPN",
            "KAZ",
            "PRK",
            "KGZ",
            "NLD",
            "POL",
            "ROU",
            "TJK",
            "THA",
            "AZE",
            "MNG"
           ],
           "name": "",
           "type": "choropleth",
           "z": [
            18322.034757316065,
            17335.640198691028,
            1222.707320530083,
            1226.7742223071066,
            334.2565197417735,
            63.95577526178706,
            9.013712626213659,
            5307.237726302475,
            7724.878968905914,
            4901.442438176598,
            14148.565261179812,
            4494.304741633709,
            1710.4431632233307,
            20627.003505116605,
            5943.464579043502,
            1700.6501983004803,
            5449.687267978999,
            4156.355131874284,
            2687.456810495663,
            4499.818946408948,
            4834.587176405012,
            32316.32911934333,
            3853.0858091807736,
            998.9480798427813,
            33539.865160863934,
            8816.911413353786,
            2597.8065998477337,
            9595.33347589517,
            303.53494245418955,
            2888.606559592412,
            30.327208620191794,
            16992.666915116246,
            13447.348444170266,
            8303.982028838604,
            28.812152940947037,
            491.20502588124026,
            619.6398517366432,
            69.63992225219718
           ]
          }
         ],
         "name": "2020-06-20"
        },
        {
         "data": [
          {
           "coloraxis": "coloraxis",
           "geo": "geo",
           "hovertemplate": "<b>%{hovertext}</b><br><br>date=2020-06-25<br>Country_code=%{location}<br>pageviews=%{z}<extra></extra>",
           "hovertext": [
            "Italy",
            "Russia",
            "China",
            "Albania",
            "Bangladesh",
            "Botswana",
            "Cambodia",
            "Croatia",
            "Greece",
            "Sweden",
            "Finland",
            "Norway",
            "Malaysia",
            "Israel",
            "Lithuania",
            "Serbia",
            "Slovakia",
            "Slovenia",
            "Turkey",
            "Vietnam",
            "Bulgaria",
            "Czechia",
            "Denmark",
            "Georgia",
            "Germany",
            "Hungary",
            "Iceland",
            "Japan",
            "Kazakhstan",
            "South Korea",
            "Kyrgyzstan",
            "Netherlands",
            "Poland",
            "Romania",
            "Tajikistan",
            "Thailand",
            "Azerbaijan",
            "Mongolia"
           ],
           "locations": [
            "ITA",
            "RUS",
            "CHN",
            "ALB",
            "BGD",
            "BWA",
            "KHM",
            "HRV",
            "GRC",
            "SWE",
            "FIN",
            "NOR",
            "MYS",
            "ISR",
            "LTU",
            "SRB",
            "SVK",
            "SVN",
            "TUR",
            "VNM",
            "BGR",
            "CZE",
            "DNK",
            "GEO",
            "DEU",
            "HUN",
            "ISL",
            "JPN",
            "KAZ",
            "PRK",
            "KGZ",
            "NLD",
            "POL",
            "ROU",
            "TJK",
            "THA",
            "AZE",
            "MNG"
           ],
           "name": "",
           "type": "choropleth",
           "z": [
            18473.877849356144,
            17448.609903612913,
            1234.6250442916873,
            1255.0703014853857,
            343.325713959351,
            74.33157922713018,
            9.229036882712458,
            5374.980235591746,
            7787.408429991863,
            4982.062969976555,
            14238.301429250121,
            4527.058867268646,
            1757.8478500801984,
            20914.28199368428,
            5968.510332267697,
            1727.4217053000625,
            5487.9738815683295,
            4219.282645371831,
            2720.5257084477826,
            4538.637058236198,
            4937.240545340614,
            32447.09361444132,
            3875.2588570436897,
            1011.600132806263,
            33945.48501061274,
            8942.755644041952,
            2625.640241988959,
            9712.996095389708,
            305.67296303954225,
            2902.2630287664197,
            31.81659295733978,
            17162.31402115644,
            13566.166663192527,
            8318.049260756317,
            29.357361075200767,
            500.45287979890196,
            637.5827655291163,
            70.21949234540426
           ]
          }
         ],
         "name": "2020-06-25"
        },
        {
         "data": [
          {
           "coloraxis": "coloraxis",
           "geo": "geo",
           "hovertemplate": "<b>%{hovertext}</b><br><br>date=2020-06-30<br>Country_code=%{location}<br>pageviews=%{z}<extra></extra>",
           "hovertext": [
            "Italy",
            "Russia",
            "China",
            "Albania",
            "Bangladesh",
            "Botswana",
            "Cambodia",
            "Croatia",
            "Greece",
            "Sweden",
            "Finland",
            "Norway",
            "Malaysia",
            "Israel",
            "Lithuania",
            "Serbia",
            "Slovakia",
            "Slovenia",
            "Turkey",
            "Vietnam",
            "Bulgaria",
            "Czechia",
            "Denmark",
            "Georgia",
            "Germany",
            "Hungary",
            "Iceland",
            "Japan",
            "Kazakhstan",
            "South Korea",
            "Kyrgyzstan",
            "Netherlands",
            "Poland",
            "Romania",
            "Tajikistan",
            "Thailand",
            "Azerbaijan",
            "Mongolia"
           ],
           "locations": [
            "ITA",
            "RUS",
            "CHN",
            "ALB",
            "BGD",
            "BWA",
            "KHM",
            "HRV",
            "GRC",
            "SWE",
            "FIN",
            "NOR",
            "MYS",
            "ISR",
            "LTU",
            "SRB",
            "SVK",
            "SVN",
            "TUR",
            "VNM",
            "BGR",
            "CZE",
            "DNK",
            "GEO",
            "DEU",
            "HUN",
            "ISL",
            "JPN",
            "KAZ",
            "PRK",
            "KGZ",
            "NLD",
            "POL",
            "ROU",
            "TJK",
            "THA",
            "AZE",
            "MNG"
           ],
           "name": "",
           "type": "choropleth",
           "z": [
            18613.17584578932,
            17558.000870655007,
            1245.561902062221,
            1288.1235048094525,
            351.032343111031,
            84.23962153829798,
            9.665666625057248,
            5434.74286504862,
            7846.162386328337,
            5051.807891520521,
            14326.500399761788,
            4559.794403728988,
            1807.7180873582208,
            21194.452583260085,
            5994.23589879369,
            1763.571211773781,
            5519.097784194297,
            4286.776327649246,
            2749.2976653393616,
            4571.784243047795,
            5027.693190741584,
            32620.15629670912,
            3898.769490160517,
            1023.0165287924193,
            34338.79859194837,
            9061.358959745128,
            2667.6635840453196,
            9829.218048328463,
            307.6563636823134,
            2914.1350320573993,
            33.2299882976945,
            17332.803944614854,
            13664.551663141076,
            8331.083130122674,
            29.818691034953922,
            509.0818223467062,
            655.3671555111645,
            71.56165466651537
           ]
          }
         ],
         "name": "2020-06-30"
        },
        {
         "data": [
          {
           "coloraxis": "coloraxis",
           "geo": "geo",
           "hovertemplate": "<b>%{hovertext}</b><br><br>date=2020-07-05<br>Country_code=%{location}<br>pageviews=%{z}<extra></extra>",
           "hovertext": [
            "Italy",
            "Russia",
            "China",
            "Albania",
            "Bangladesh",
            "Botswana",
            "Cambodia",
            "Croatia",
            "Greece",
            "Sweden",
            "Finland",
            "Norway",
            "Malaysia",
            "Israel",
            "Lithuania",
            "Serbia",
            "Slovakia",
            "Slovenia",
            "Turkey",
            "Vietnam",
            "Bulgaria",
            "Czechia",
            "Denmark",
            "Georgia",
            "Germany",
            "Hungary",
            "Iceland",
            "Japan",
            "Kazakhstan",
            "South Korea",
            "Kyrgyzstan",
            "Netherlands",
            "Poland",
            "Romania",
            "Tajikistan",
            "Thailand",
            "Azerbaijan",
            "Mongolia"
           ],
           "locations": [
            "ITA",
            "RUS",
            "CHN",
            "ALB",
            "BGD",
            "BWA",
            "KHM",
            "HRV",
            "GRC",
            "SWE",
            "FIN",
            "NOR",
            "MYS",
            "ISR",
            "LTU",
            "SRB",
            "SVK",
            "SVN",
            "TUR",
            "VNM",
            "BGR",
            "CZE",
            "DNK",
            "GEO",
            "DEU",
            "HUN",
            "ISL",
            "JPN",
            "KAZ",
            "PRK",
            "KGZ",
            "NLD",
            "POL",
            "ROU",
            "TJK",
            "THA",
            "AZE",
            "MNG"
           ],
           "name": "",
           "type": "choropleth",
           "z": [
            18742.78999730309,
            17660.905548812956,
            1255.2524271844661,
            1323.4319373581893,
            358.5653120092144,
            94.91309201084357,
            10.060427761971715,
            5491.269072653965,
            7897.795217370012,
            5121.031247386135,
            14408.821850196298,
            4585.967961557587,
            1858.144463828985,
            21510.423109895717,
            6016.311941278443,
            1807.5767858131596,
            5547.070826754539,
            4354.0321886360425,
            2775.608129504207,
            4601.432301516039,
            5101.690723195725,
            32786.94669531041,
            3918.644635151329,
            1038.542827333592,
            34723.27267952737,
            9171.070103646622,
            2707.231016500984,
            9950.977736593248,
            309.44249060523896,
            2923.3795299076387,
            34.44581224638672,
            17496.820800963218,
            13758.535499683767,
            8343.026516394635,
            30.374383941020223,
            520.2881296037085,
            672.2697567977239,
            72.65978747469718
           ]
          }
         ],
         "name": "2020-07-05"
        },
        {
         "data": [
          {
           "coloraxis": "coloraxis",
           "geo": "geo",
           "hovertemplate": "<b>%{hovertext}</b><br><br>date=2020-07-10<br>Country_code=%{location}<br>pageviews=%{z}<extra></extra>",
           "hovertext": [
            "Italy",
            "Russia",
            "China",
            "Albania",
            "Bangladesh",
            "Botswana",
            "Cambodia",
            "Croatia",
            "Greece",
            "Sweden",
            "Finland",
            "Norway",
            "Malaysia",
            "Israel",
            "Lithuania",
            "Serbia",
            "Slovakia",
            "Slovenia",
            "Turkey",
            "Vietnam",
            "Bulgaria",
            "Czechia",
            "Denmark",
            "Georgia",
            "Germany",
            "Hungary",
            "Iceland",
            "Japan",
            "Kazakhstan",
            "South Korea",
            "Kyrgyzstan",
            "Netherlands",
            "Poland",
            "Romania",
            "Tajikistan",
            "Thailand",
            "Azerbaijan",
            "Mongolia"
           ],
           "locations": [
            "ITA",
            "RUS",
            "CHN",
            "ALB",
            "BGD",
            "BWA",
            "KHM",
            "HRV",
            "GRC",
            "SWE",
            "FIN",
            "NOR",
            "MYS",
            "ISR",
            "LTU",
            "SRB",
            "SVK",
            "SVN",
            "TUR",
            "VNM",
            "BGR",
            "CZE",
            "DNK",
            "GEO",
            "DEU",
            "HUN",
            "ISL",
            "JPN",
            "KAZ",
            "PRK",
            "KGZ",
            "NLD",
            "POL",
            "ROU",
            "TJK",
            "THA",
            "AZE",
            "MNG"
           ],
           "name": "",
           "type": "choropleth",
           "z": [
            18876.52529178239,
            17767.301509270234,
            1266.7195804691376,
            1359.9736983891673,
            365.95133761597737,
            114.3464625524903,
            10.431263981497427,
            5551.698750889399,
            7965.044059392802,
            5190.824462048467,
            14495.809147338216,
            4616.286905320687,
            1903.1608418192452,
            21876.528740870963,
            6045.29345572358,
            1851.0170708579608,
            5578.5244705501755,
            4420.955099815974,
            2804.9397321409783,
            4629.857823181996,
            5201.906831756205,
            32938.86495782614,
            3938.4340374976596,
            1054.0691258747647,
            35136.391248235006,
            9304.411655657776,
            2740.795114377168,
            10081.282422917608,
            311.91640968654485,
            2932.7417060485427,
            35.70722959315491,
            17662.053149098414,
            13859.419241685877,
            8357.685724849305,
            30.73086618264766,
            532.3984486069609,
            686.2892062821797,
            73.3613723243689
           ]
          }
         ],
         "name": "2020-07-10"
        },
        {
         "data": [
          {
           "coloraxis": "coloraxis",
           "geo": "geo",
           "hovertemplate": "<b>%{hovertext}</b><br><br>date=2020-07-15<br>Country_code=%{location}<br>pageviews=%{z}<extra></extra>",
           "hovertext": [
            "Italy",
            "Russia",
            "China",
            "Albania",
            "Bangladesh",
            "Botswana",
            "Cambodia",
            "Croatia",
            "Greece",
            "Sweden",
            "Finland",
            "Norway",
            "Malaysia",
            "Israel",
            "Lithuania",
            "Serbia",
            "Slovakia",
            "Slovenia",
            "Turkey",
            "Vietnam",
            "Bulgaria",
            "Czechia",
            "Denmark",
            "Georgia",
            "Germany",
            "Hungary",
            "Iceland",
            "Japan",
            "Kazakhstan",
            "South Korea",
            "Kyrgyzstan",
            "Netherlands",
            "Poland",
            "Romania",
            "Tajikistan",
            "Thailand",
            "Azerbaijan",
            "Mongolia"
           ],
           "locations": [
            "ITA",
            "RUS",
            "CHN",
            "ALB",
            "BGD",
            "BWA",
            "KHM",
            "HRV",
            "GRC",
            "SWE",
            "FIN",
            "NOR",
            "MYS",
            "ISR",
            "LTU",
            "SRB",
            "SVK",
            "SVN",
            "TUR",
            "VNM",
            "BGR",
            "CZE",
            "DNK",
            "GEO",
            "DEU",
            "HUN",
            "ISL",
            "JPN",
            "KAZ",
            "PRK",
            "KGZ",
            "NLD",
            "POL",
            "ROU",
            "TJK",
            "THA",
            "AZE",
            "MNG"
           ],
           "name": "",
           "type": "choropleth",
           "z": [
            18999.831571410148,
            17860.40352740562,
            1277.488129827794,
            1396.8678389865,
            372.85645790536483,
            128.42183596449263,
            10.748269136898438,
            5610.176693809787,
            8034.311488113329,
            5259.110931417783,
            14575.815759096186,
            4643.575813624935,
            1963.900510653186,
            22205.34774446289,
            6073.809834751699,
            1893.1238536591447,
            5604.244281784347,
            4470.802442329526,
            2831.9817671210426,
            4656.499879395204,
            5272.933502451321,
            33125.930443271915,
            3957.554647217034,
            1062.208344660189,
            35492.19319744739,
            9431.937911923193,
            2766.445725762219,
            10191.845462969564,
            314.0970840491615,
            2940.3869366371277,
            36.892657943129834,
            17803.480205257572,
            13939.719365145373,
            8372.511102156455,
            31.076863652462528,
            545.706475724104,
            696.7517777702259,
            73.78842397199517
           ]
          }
         ],
         "name": "2020-07-15"
        },
        {
         "data": [
          {
           "coloraxis": "coloraxis",
           "geo": "geo",
           "hovertemplate": "<b>%{hovertext}</b><br><br>date=2020-07-20<br>Country_code=%{location}<br>pageviews=%{z}<extra></extra>",
           "hovertext": [
            "Italy",
            "Russia",
            "China",
            "Albania",
            "Bangladesh",
            "Botswana",
            "Cambodia",
            "Croatia",
            "Greece",
            "Sweden",
            "Finland",
            "Norway",
            "Malaysia",
            "Israel",
            "Lithuania",
            "Serbia",
            "Slovakia",
            "Slovenia",
            "Turkey",
            "Vietnam",
            "Bulgaria",
            "Czechia",
            "Denmark",
            "Georgia",
            "Germany",
            "Hungary",
            "Iceland",
            "Japan",
            "Kazakhstan",
            "South Korea",
            "Kyrgyzstan",
            "Netherlands",
            "Poland",
            "Romania",
            "Tajikistan",
            "Thailand",
            "Azerbaijan",
            "Mongolia"
           ],
           "locations": [
            "ITA",
            "RUS",
            "CHN",
            "ALB",
            "BGD",
            "BWA",
            "KHM",
            "HRV",
            "GRC",
            "SWE",
            "FIN",
            "NOR",
            "MYS",
            "ISR",
            "LTU",
            "SRB",
            "SVK",
            "SVN",
            "TUR",
            "VNM",
            "BGR",
            "CZE",
            "DNK",
            "GEO",
            "DEU",
            "HUN",
            "ISL",
            "JPN",
            "KAZ",
            "PRK",
            "KGZ",
            "NLD",
            "POL",
            "ROU",
            "TJK",
            "THA",
            "AZE",
            "MNG"
           ],
           "name": "",
           "type": "choropleth",
           "z": [
            19120.79468689465,
            17939.591085052987,
            1289.631918361562,
            1442.0781373498025,
            377.1791409285928,
            145.13368415457396,
            11.26863609010387,
            5670.087556328564,
            8096.953092904704,
            5326.42187979611,
            14662.224346568966,
            4673.095422880486,
            2029.8987845207182,
            22550.563748629964,
            6100.2509942269535,
            1936.622117062364,
            5632.2722812062,
            4531.351742920892,
            2857.9566809768003,
            4684.6469914196305,
            5332.119991087415,
            33284.962279364714,
            3981.048131804965,
            1073.3023953479126,
            35816.49595757601,
            9578.151062101719,
            2833.301042670065,
            10303.803232985641,
            315.77124480676935,
            2947.0482995496645,
            38.47322907642973,
            17984.64581601353,
            14023.425904646208,
            8390.810447035756,
            31.52770884040311,
            559.0932994276875,
            707.1449950912112,
            75.06957891487396
           ]
          }
         ],
         "name": "2020-07-20"
        },
        {
         "data": [
          {
           "coloraxis": "coloraxis",
           "geo": "geo",
           "hovertemplate": "<b>%{hovertext}</b><br><br>date=2020-07-25<br>Country_code=%{location}<br>pageviews=%{z}<extra></extra>",
           "hovertext": [
            "Italy",
            "Russia",
            "China",
            "Albania",
            "Bangladesh",
            "Botswana",
            "Cambodia",
            "Croatia",
            "Greece",
            "Sweden",
            "Finland",
            "Norway",
            "Malaysia",
            "Israel",
            "Lithuania",
            "Serbia",
            "Slovakia",
            "Slovenia",
            "Turkey",
            "Vietnam",
            "Bulgaria",
            "Czechia",
            "Denmark",
            "Georgia",
            "Germany",
            "Hungary",
            "Iceland",
            "Japan",
            "Kazakhstan",
            "South Korea",
            "Kyrgyzstan",
            "Netherlands",
            "Poland",
            "Romania",
            "Tajikistan",
            "Thailand",
            "Azerbaijan",
            "Mongolia"
           ],
           "locations": [
            "ITA",
            "RUS",
            "CHN",
            "ALB",
            "BGD",
            "BWA",
            "KHM",
            "HRV",
            "GRC",
            "SWE",
            "FIN",
            "NOR",
            "MYS",
            "ISR",
            "LTU",
            "SRB",
            "SVK",
            "SVN",
            "TUR",
            "VNM",
            "BGR",
            "CZE",
            "DNK",
            "GEO",
            "DEU",
            "HUN",
            "ISL",
            "JPN",
            "KAZ",
            "PRK",
            "KGZ",
            "NLD",
            "POL",
            "ROU",
            "TJK",
            "THA",
            "AZE",
            "MNG"
           ],
           "name": "",
           "type": "choropleth",
           "z": [
            19230.703046636518,
            18012.161864537426,
            1300.8404790588902,
            1482.284645870869,
            380.1386516822399,
            162.48338914580344,
            11.824890419392437,
            5722.562060241916,
            8146.212215514783,
            5386.778619129754,
            14755.631704102854,
            4701.5368600095735,
            2085.213006563246,
            22762.943429805426,
            6127.049950176841,
            1969.6552867711068,
            5657.204377423941,
            4581.769856531928,
            2883.596044523471,
            4711.917780845443,
            5393.094765442532,
            33464.35333129305,
            4002.1579708763106,
            1088.0496927512063,
            36131.501075788394,
            9708.692656901962,
            2885.4209019737327,
            10416.501532539738,
            317.41341523142927,
            2953.1289876181027,
            39.94741561421906,
            18186.291316687213,
            14111.49666733247,
            8409.057864148654,
            31.999523571968833,
            571.8769710787014,
            716.8942094323451,
            76.10670434482347
           ]
          }
         ],
         "name": "2020-07-25"
        },
        {
         "data": [
          {
           "coloraxis": "coloraxis",
           "geo": "geo",
           "hovertemplate": "<b>%{hovertext}</b><br><br>date=2020-07-30<br>Country_code=%{location}<br>pageviews=%{z}<extra></extra>",
           "hovertext": [
            "Italy",
            "Russia",
            "China",
            "Albania",
            "Bangladesh",
            "Botswana",
            "Cambodia",
            "Croatia",
            "Greece",
            "Sweden",
            "Finland",
            "Norway",
            "Malaysia",
            "Israel",
            "Lithuania",
            "Serbia",
            "Slovakia",
            "Slovenia",
            "Turkey",
            "Vietnam",
            "Bulgaria",
            "Czechia",
            "Denmark",
            "Georgia",
            "Germany",
            "Hungary",
            "Iceland",
            "Japan",
            "Kazakhstan",
            "South Korea",
            "Kyrgyzstan",
            "Netherlands",
            "Poland",
            "Romania",
            "Tajikistan",
            "Thailand",
            "Azerbaijan",
            "Mongolia"
           ],
           "locations": [
            "ITA",
            "RUS",
            "CHN",
            "ALB",
            "BGD",
            "BWA",
            "KHM",
            "HRV",
            "GRC",
            "SWE",
            "FIN",
            "NOR",
            "MYS",
            "ISR",
            "LTU",
            "SRB",
            "SVK",
            "SVN",
            "TUR",
            "VNM",
            "BGR",
            "CZE",
            "DNK",
            "GEO",
            "DEU",
            "HUN",
            "ISL",
            "JPN",
            "KAZ",
            "PRK",
            "KGZ",
            "NLD",
            "POL",
            "ROU",
            "TJK",
            "THA",
            "AZE",
            "MNG"
           ],
           "name": "",
           "type": "choropleth",
           "z": [
            19348.929386772077,
            18085.625940307997,
            1312.4771454893346,
            1514.7740418887686,
            382.75812837309616,
            166.0128634454898,
            12.213670326959717,
            5763.3755632856355,
            8212.629325055634,
            5455.992316371695,
            14853.614484958342,
            4730.164188884603,
            2125.9193058097576,
            22929.66978112012,
            6158.285582412156,
            1995.557118394417,
            5681.861689333624,
            4616.2539436715515,
            2907.8943925239296,
            4771.135819801281,
            5451.935134262039,
            33627.470097284895,
            4022.1360070405,
            1098.391604409254,
            36482.253775336234,
            9837.275307279919,
            2922.259545984178,
            10530.120147947506,
            318.83698504761173,
            2958.6193550809116,
            40.85928357573823,
            18369.796175787633,
            14215.654896017239,
            8427.590883976753,
            32.324551498158556,
            583.6334217755771,
            725.2662481704123,
            76.8692965727275
           ]
          }
         ],
         "name": "2020-07-30"
        },
        {
         "data": [
          {
           "coloraxis": "coloraxis",
           "geo": "geo",
           "hovertemplate": "<b>%{hovertext}</b><br><br>date=2020-08-04<br>Country_code=%{location}<br>pageviews=%{z}<extra></extra>",
           "hovertext": [
            "Italy",
            "Russia",
            "China",
            "Albania",
            "Bangladesh",
            "Botswana",
            "Cambodia",
            "Croatia",
            "Greece",
            "Sweden",
            "Finland",
            "Norway",
            "Malaysia",
            "Israel",
            "Lithuania",
            "Serbia",
            "Slovakia",
            "Slovenia",
            "Turkey",
            "Vietnam",
            "Bulgaria",
            "Czechia",
            "Denmark",
            "Georgia",
            "Germany",
            "Hungary",
            "Iceland",
            "Japan",
            "Kazakhstan",
            "South Korea",
            "Kyrgyzstan",
            "Netherlands",
            "Poland",
            "Romania",
            "Tajikistan",
            "Thailand",
            "Azerbaijan",
            "Mongolia"
           ],
           "locations": [
            "ITA",
            "RUS",
            "CHN",
            "ALB",
            "BGD",
            "BWA",
            "KHM",
            "HRV",
            "GRC",
            "SWE",
            "FIN",
            "NOR",
            "MYS",
            "ISR",
            "LTU",
            "SRB",
            "SVK",
            "SVN",
            "TUR",
            "VNM",
            "BGR",
            "CZE",
            "DNK",
            "GEO",
            "DEU",
            "HUN",
            "ISL",
            "JPN",
            "KAZ",
            "PRK",
            "KGZ",
            "NLD",
            "POL",
            "ROU",
            "TJK",
            "THA",
            "AZE",
            "MNG"
           ],
           "name": "",
           "type": "choropleth",
           "z": [
            19456.78053922952,
            18150.42636087772,
            1323.3475302955142,
            1551.4567547462884,
            384.9203806902355,
            171.66852708233668,
            12.734037280165149,
            5800.236184678631,
            8330.333489213084,
            5516.706424781247,
            14954.581237545308,
            4763.048438741699,
            2160.6934536670246,
            23078.9573634578,
            6187.982689806558,
            2017.1685514947835,
            5704.485597363683,
            4651.5941874574,
            2934.37796744894,
            4876.460961014811,
            5498.358454661549,
            33758.34676437096,
            4042.662796129371,
            1108.1694117950442,
            36795.759390254585,
            9948.699245519223,
            2972.1963745316716,
            10641.304916007319,
            319.9779735894209,
            2964.0942893252727,
            41.54318454687761,
            18525.046584296077,
            14326.77899484077,
            8443.766383210299,
            32.61812510891057,
            595.4457464155648,
            734.2327511975731,
            77.7539035570962
           ]
          }
         ],
         "name": "2020-08-04"
        },
        {
         "data": [
          {
           "coloraxis": "coloraxis",
           "geo": "geo",
           "hovertemplate": "<b>%{hovertext}</b><br><br>date=2020-08-09<br>Country_code=%{location}<br>pageviews=%{z}<extra></extra>",
           "hovertext": [
            "Italy",
            "Russia",
            "China",
            "Albania",
            "Bangladesh",
            "Botswana",
            "Cambodia",
            "Croatia",
            "Greece",
            "Sweden",
            "Finland",
            "Norway",
            "Malaysia",
            "Israel",
            "Lithuania",
            "Serbia",
            "Slovakia",
            "Slovenia",
            "Turkey",
            "Vietnam",
            "Bulgaria",
            "Czechia",
            "Denmark",
            "Georgia",
            "Germany",
            "Hungary",
            "Iceland",
            "Japan",
            "Kazakhstan",
            "South Korea",
            "Kyrgyzstan",
            "Netherlands",
            "Poland",
            "Romania",
            "Tajikistan",
            "Thailand",
            "Azerbaijan",
            "Mongolia"
           ],
           "locations": [
            "ITA",
            "RUS",
            "CHN",
            "ALB",
            "BGD",
            "BWA",
            "KHM",
            "HRV",
            "GRC",
            "SWE",
            "FIN",
            "NOR",
            "MYS",
            "ISR",
            "LTU",
            "SRB",
            "SVK",
            "SVN",
            "TUR",
            "VNM",
            "BGR",
            "CZE",
            "DNK",
            "GEO",
            "DEU",
            "HUN",
            "ISL",
            "JPN",
            "KAZ",
            "PRK",
            "KGZ",
            "NLD",
            "POL",
            "ROU",
            "TJK",
            "THA",
            "AZE",
            "MNG"
           ],
           "name": "",
           "type": "choropleth",
           "z": [
            19558.823403254326,
            18209.859368719663,
            1333.2408759124087,
            1575.8766586946663,
            387.57264638000373,
            179.11018976239833,
            13.182629481204316,
            5834.650960550241,
            8447.738603489388,
            5572.204876407286,
            15083.561155053862,
            4798.98131323224,
            2196.6045972072297,
            23200.88767349242,
            6218.395390150221,
            2035.707131598988,
            5731.964028169422,
            4681.03646323592,
            2962.4017538633666,
            4945.444911603038,
            5539.993784264961,
            33870.59353377097,
            4065.6589733793094,
            1116.4160790132796,
            37062.90786685002,
            10069.44611820804,
            3014.7654742770756,
            10746.235971519314,
            321.2949089624437,
            2969.7177682971947,
            42.48544810711409,
            18653.326835421267,
            14440.818732491325,
            8456.711975373777,
            33.068970296851155,
            606.2050621276701,
            742.4958048159732,
            78.66901423058106
           ]
          }
         ],
         "name": "2020-08-09"
        },
        {
         "data": [
          {
           "coloraxis": "coloraxis",
           "geo": "geo",
           "hovertemplate": "<b>%{hovertext}</b><br><br>date=2020-08-14<br>Country_code=%{location}<br>pageviews=%{z}<extra></extra>",
           "hovertext": [
            "Italy",
            "Russia",
            "China",
            "Albania",
            "Bangladesh",
            "Botswana",
            "Cambodia",
            "Croatia",
            "Greece",
            "Sweden",
            "Finland",
            "Norway",
            "Malaysia",
            "Israel",
            "Lithuania",
            "Serbia",
            "Slovakia",
            "Slovenia",
            "Turkey",
            "Vietnam",
            "Bulgaria",
            "Czechia",
            "Denmark",
            "Georgia",
            "Germany",
            "Hungary",
            "Iceland",
            "Japan",
            "Kazakhstan",
            "South Korea",
            "Kyrgyzstan",
            "Netherlands",
            "Poland",
            "Romania",
            "Tajikistan",
            "Thailand",
            "Azerbaijan",
            "Mongolia"
           ],
           "locations": [
            "ITA",
            "RUS",
            "CHN",
            "ALB",
            "BGD",
            "BWA",
            "KHM",
            "HRV",
            "GRC",
            "SWE",
            "FIN",
            "NOR",
            "MYS",
            "ISR",
            "LTU",
            "SRB",
            "SVK",
            "SVN",
            "TUR",
            "VNM",
            "BGR",
            "CZE",
            "DNK",
            "GEO",
            "DEU",
            "HUN",
            "ISL",
            "JPN",
            "KAZ",
            "PRK",
            "KGZ",
            "NLD",
            "POL",
            "ROU",
            "TJK",
            "THA",
            "AZE",
            "MNG"
           ],
           "name": "",
           "type": "choropleth",
           "z": [
            19668.41552835231,
            18275.788382732466,
            1342.8662036708952,
            1603.397502826965,
            390.69670933189417,
            188.46542284590444,
            13.553465700730026,
            5879.985571981975,
            8562.639175011092,
            5630.716818619354,
            15230.69808843154,
            4843.8184023533895,
            2226.4692718574597,
            23340.48463934195,
            6244.836549625476,
            2052.216469158557,
            5762.629956948626,
            4716.995042377375,
            2990.103032560225,
            4993.906681382448,
            5583.662567790811,
            33997.076797990776,
            4092.7879460932563,
            1126.19388639907,
            37379.1154736703,
            10209.095266133882,
            3049.9668452203905,
            10845.214278359905,
            322.6971518899942,
            2976.2016491975814,
            42.94138208787368,
            18784.943955508414,
            14538.143020396015,
            8468.951349914216,
            33.34157436397802,
            616.4844349950941,
            749.9959625967032,
            79.09606587820731
           ]
          }
         ],
         "name": "2020-08-14"
        },
        {
         "data": [
          {
           "coloraxis": "coloraxis",
           "geo": "geo",
           "hovertemplate": "<b>%{hovertext}</b><br><br>date=2020-08-19<br>Country_code=%{location}<br>pageviews=%{z}<extra></extra>",
           "hovertext": [
            "Italy",
            "Russia",
            "China",
            "Albania",
            "Bangladesh",
            "Botswana",
            "Cambodia",
            "Croatia",
            "Greece",
            "Sweden",
            "Finland",
            "Norway",
            "Malaysia",
            "Israel",
            "Lithuania",
            "Serbia",
            "Slovakia",
            "Slovenia",
            "Turkey",
            "Vietnam",
            "Bulgaria",
            "Czechia",
            "Denmark",
            "Georgia",
            "Germany",
            "Hungary",
            "Iceland",
            "Japan",
            "Kazakhstan",
            "South Korea",
            "Kyrgyzstan",
            "Netherlands",
            "Poland",
            "Romania",
            "Tajikistan",
            "Thailand",
            "Azerbaijan",
            "Mongolia"
           ],
           "locations": [
            "ITA",
            "RUS",
            "CHN",
            "ALB",
            "BGD",
            "BWA",
            "KHM",
            "HRV",
            "GRC",
            "SWE",
            "FIN",
            "NOR",
            "MYS",
            "ISR",
            "LTU",
            "SRB",
            "SVK",
            "SVN",
            "TUR",
            "VNM",
            "BGR",
            "CZE",
            "DNK",
            "GEO",
            "DEU",
            "HUN",
            "ISL",
            "JPN",
            "KAZ",
            "PRK",
            "KGZ",
            "NLD",
            "POL",
            "ROU",
            "TJK",
            "THA",
            "AZE",
            "MNG"
           ],
           "name": "",
           "type": "choropleth",
           "z": [
            19796.97500368674,
            18331.607948099194,
            1351.6736588477074,
            1627.2535994691755,
            393.5408513856658,
            198.1608462233562,
            13.780752415923205,
            5927.074274646217,
            8671.203627176008,
            5682.9603140675345,
            15353.673893122812,
            4884.156911222749,
            2256.6243747527883,
            23456.555002116093,
            6270.955692273564,
            2067.9575934690856,
            5796.300194162593,
            4761.229802432341,
            3018.837047367384,
            5034.665441965597,
            5623.58171997032,
            34159.00641044217,
            4118.836561486736,
            1131.7812049052359,
            37692.52368701141,
            10338.30354797655,
            3075.071698916398,
            10941.867243250093,
            323.95010659712113,
            2982.5967890918937,
            43.5796896609371,
            18907.19261531405,
            14631.316810676357,
            8478.796854423623,
            33.59320888747974,
            626.4701114948775,
            755.5343882234247,
            79.49261383671741
           ]
          }
         ],
         "name": "2020-08-19"
        },
        {
         "data": [
          {
           "coloraxis": "coloraxis",
           "geo": "geo",
           "hovertemplate": "<b>%{hovertext}</b><br><br>date=2020-08-24<br>Country_code=%{location}<br>pageviews=%{z}<extra></extra>",
           "hovertext": [
            "Italy",
            "Russia",
            "China",
            "Albania",
            "Bangladesh",
            "Botswana",
            "Cambodia",
            "Croatia",
            "Greece",
            "Sweden",
            "Finland",
            "Norway",
            "Malaysia",
            "Israel",
            "Lithuania",
            "Serbia",
            "Slovakia",
            "Slovenia",
            "Turkey",
            "Vietnam",
            "Bulgaria",
            "Czechia",
            "Denmark",
            "Georgia",
            "Germany",
            "Hungary",
            "Iceland",
            "Japan",
            "Kazakhstan",
            "South Korea",
            "Kyrgyzstan",
            "Netherlands",
            "Poland",
            "Romania",
            "Tajikistan",
            "Thailand",
            "Azerbaijan",
            "Mongolia"
           ],
           "locations": [
            "ITA",
            "RUS",
            "CHN",
            "ALB",
            "BGD",
            "BWA",
            "KHM",
            "HRV",
            "GRC",
            "SWE",
            "FIN",
            "NOR",
            "MYS",
            "ISR",
            "LTU",
            "SRB",
            "SVK",
            "SVN",
            "TUR",
            "VNM",
            "BGR",
            "CZE",
            "DNK",
            "GEO",
            "DEU",
            "HUN",
            "ISL",
            "JPN",
            "KAZ",
            "PRK",
            "KGZ",
            "NLD",
            "POL",
            "ROU",
            "TJK",
            "THA",
            "AZE",
            "MNG"
           ],
           "name": "",
           "type": "choropleth",
           "z": [
            19939.43198236043,
            18383.96607711865,
            1361.1869463539083,
            1647.2687588381202,
            396.6934529106834,
            212.9591240099931,
            14.061870195241081,
            5979.598189580204,
            8774.431908024219,
            5736.787823798115,
            15479.253891325196,
            4919.476342951682,
            2287.4313963684976,
            23561.263578257425,
            6297.647309281061,
            2082.3217317671833,
            5832.663317595519,
            4804.46571306671,
            3046.682980261093,
            5068.137266802004,
            5657.732208540074,
            34312.72877243276,
            4145.125256284765,
            1137.1804886539826,
            37984.9989786663,
            10459.081189425926,
            3115.7306467501494,
            11040.55250631628,
            325.0591048059824,
            2990.031742079127,
            44.40037082630435,
            19028.242983688328,
            14722.815098101351,
            8488.27367179159,
            34.07550839085803,
            635.1076500339299,
            761.7267245681489,
            80.16369499727297
           ]
          }
         ],
         "name": "2020-08-24"
        },
        {
         "data": [
          {
           "coloraxis": "coloraxis",
           "geo": "geo",
           "hovertemplate": "<b>%{hovertext}</b><br><br>date=2020-08-29<br>Country_code=%{location}<br>pageviews=%{z}<extra></extra>",
           "hovertext": [
            "Italy",
            "Russia",
            "China",
            "Albania",
            "Bangladesh",
            "Botswana",
            "Cambodia",
            "Croatia",
            "Greece",
            "Sweden",
            "Finland",
            "Norway",
            "Malaysia",
            "Israel",
            "Lithuania",
            "Serbia",
            "Slovakia",
            "Slovenia",
            "Turkey",
            "Vietnam",
            "Bulgaria",
            "Czechia",
            "Denmark",
            "Georgia",
            "Germany",
            "Hungary",
            "Iceland",
            "Japan",
            "Kazakhstan",
            "South Korea",
            "Kyrgyzstan",
            "Netherlands",
            "Poland",
            "Romania",
            "Tajikistan",
            "Thailand",
            "Azerbaijan",
            "Mongolia"
           ],
           "locations": [
            "ITA",
            "RUS",
            "CHN",
            "ALB",
            "BGD",
            "BWA",
            "KHM",
            "HRV",
            "GRC",
            "SWE",
            "FIN",
            "NOR",
            "MYS",
            "ISR",
            "LTU",
            "SRB",
            "SVK",
            "SVN",
            "TUR",
            "VNM",
            "BGR",
            "CZE",
            "DNK",
            "GEO",
            "DEU",
            "HUN",
            "ISL",
            "JPN",
            "KAZ",
            "PRK",
            "KGZ",
            "NLD",
            "POL",
            "ROU",
            "TJK",
            "THA",
            "AZE",
            "MNG"
           ],
           "name": "",
           "type": "choropleth",
           "z": [
            20067.983047199014,
            18437.709613587307,
            1370.437318404082,
            1667.6362977734193,
            399.76226032737037,
            250.50762770424708,
            14.39681903868366,
            6028.119811842834,
            8863.642225693693,
            5791.0886060886805,
            15591.668244554749,
            4959.387300805376,
            2317.0859739903585,
            23667.95802541481,
            6325.805891834548,
            2097.4685779039255,
            5868.75165672039,
            4845.180718020528,
            3078.202181202692,
            5095.399837493012,
            5692.344190198608,
            34457.664328690844,
            4170.196405531155,
            1146.9851581479759,
            38267.366151083246,
            10643.939902867125,
            3150.386260004421,
            11110.806979193892,
            326.9092123948038,
            2997.509136417092,
            45.35783218589948,
            19150.84138405527,
            14811.769787490828,
            8498.202260727237,
            34.55780789423633,
            644.3483406255515,
            767.1066263844453,
            80.74326509048004
           ]
          }
         ],
         "name": "2020-08-29"
        }
       ],
       "layout": {
        "coloraxis": {
         "cmax": 33938.744777696986,
         "cmin": 0,
         "colorbar": {
          "title": {
           "text": "pageviews"
          }
         },
         "colorscale": [
          [
           0,
           "rgb(255,255,229)"
          ],
          [
           0.125,
           "rgb(255,247,188)"
          ],
          [
           0.25,
           "rgb(254,227,145)"
          ],
          [
           0.375,
           "rgb(254,196,79)"
          ],
          [
           0.5,
           "rgb(254,153,41)"
          ],
          [
           0.625,
           "rgb(236,112,20)"
          ],
          [
           0.75,
           "rgb(204,76,2)"
          ],
          [
           0.875,
           "rgb(153,52,4)"
          ],
          [
           1,
           "rgb(102,37,6)"
          ]
         ]
        },
        "geo": {
         "center": {
          "lat": 35,
          "lon": 80
         },
         "domain": {
          "x": [
           0,
           1
          ],
          "y": [
           0,
           1
          ]
         },
         "lataxis": {
          "range": [
           -50,
           80
          ]
         },
         "lonaxis": {
          "range": [
           -10,
           230
          ]
         },
         "projection": {
          "type": "mercator"
         }
        },
        "height": 700,
        "legend": {
         "tracegroupgap": 0
        },
        "sliders": [
         {
          "active": 0,
          "currentvalue": {
           "prefix": "date="
          },
          "len": 0.9,
          "pad": {
           "b": 10,
           "t": 60
          },
          "steps": [
           {
            "args": [
             [
              "2020-01-22"
             ],
             {
              "frame": {
               "duration": 0,
               "redraw": true
              },
              "fromcurrent": true,
              "mode": "immediate",
              "transition": {
               "duration": 0,
               "easing": "linear"
              }
             }
            ],
            "label": "2020-01-22",
            "method": "animate"
           },
           {
            "args": [
             [
              "2020-01-27"
             ],
             {
              "frame": {
               "duration": 0,
               "redraw": true
              },
              "fromcurrent": true,
              "mode": "immediate",
              "transition": {
               "duration": 0,
               "easing": "linear"
              }
             }
            ],
            "label": "2020-01-27",
            "method": "animate"
           },
           {
            "args": [
             [
              "2020-02-01"
             ],
             {
              "frame": {
               "duration": 0,
               "redraw": true
              },
              "fromcurrent": true,
              "mode": "immediate",
              "transition": {
               "duration": 0,
               "easing": "linear"
              }
             }
            ],
            "label": "2020-02-01",
            "method": "animate"
           },
           {
            "args": [
             [
              "2020-02-06"
             ],
             {
              "frame": {
               "duration": 0,
               "redraw": true
              },
              "fromcurrent": true,
              "mode": "immediate",
              "transition": {
               "duration": 0,
               "easing": "linear"
              }
             }
            ],
            "label": "2020-02-06",
            "method": "animate"
           },
           {
            "args": [
             [
              "2020-02-11"
             ],
             {
              "frame": {
               "duration": 0,
               "redraw": true
              },
              "fromcurrent": true,
              "mode": "immediate",
              "transition": {
               "duration": 0,
               "easing": "linear"
              }
             }
            ],
            "label": "2020-02-11",
            "method": "animate"
           },
           {
            "args": [
             [
              "2020-02-16"
             ],
             {
              "frame": {
               "duration": 0,
               "redraw": true
              },
              "fromcurrent": true,
              "mode": "immediate",
              "transition": {
               "duration": 0,
               "easing": "linear"
              }
             }
            ],
            "label": "2020-02-16",
            "method": "animate"
           },
           {
            "args": [
             [
              "2020-02-21"
             ],
             {
              "frame": {
               "duration": 0,
               "redraw": true
              },
              "fromcurrent": true,
              "mode": "immediate",
              "transition": {
               "duration": 0,
               "easing": "linear"
              }
             }
            ],
            "label": "2020-02-21",
            "method": "animate"
           },
           {
            "args": [
             [
              "2020-02-26"
             ],
             {
              "frame": {
               "duration": 0,
               "redraw": true
              },
              "fromcurrent": true,
              "mode": "immediate",
              "transition": {
               "duration": 0,
               "easing": "linear"
              }
             }
            ],
            "label": "2020-02-26",
            "method": "animate"
           },
           {
            "args": [
             [
              "2020-03-02"
             ],
             {
              "frame": {
               "duration": 0,
               "redraw": true
              },
              "fromcurrent": true,
              "mode": "immediate",
              "transition": {
               "duration": 0,
               "easing": "linear"
              }
             }
            ],
            "label": "2020-03-02",
            "method": "animate"
           },
           {
            "args": [
             [
              "2020-03-07"
             ],
             {
              "frame": {
               "duration": 0,
               "redraw": true
              },
              "fromcurrent": true,
              "mode": "immediate",
              "transition": {
               "duration": 0,
               "easing": "linear"
              }
             }
            ],
            "label": "2020-03-07",
            "method": "animate"
           },
           {
            "args": [
             [
              "2020-03-12"
             ],
             {
              "frame": {
               "duration": 0,
               "redraw": true
              },
              "fromcurrent": true,
              "mode": "immediate",
              "transition": {
               "duration": 0,
               "easing": "linear"
              }
             }
            ],
            "label": "2020-03-12",
            "method": "animate"
           },
           {
            "args": [
             [
              "2020-03-17"
             ],
             {
              "frame": {
               "duration": 0,
               "redraw": true
              },
              "fromcurrent": true,
              "mode": "immediate",
              "transition": {
               "duration": 0,
               "easing": "linear"
              }
             }
            ],
            "label": "2020-03-17",
            "method": "animate"
           },
           {
            "args": [
             [
              "2020-03-22"
             ],
             {
              "frame": {
               "duration": 0,
               "redraw": true
              },
              "fromcurrent": true,
              "mode": "immediate",
              "transition": {
               "duration": 0,
               "easing": "linear"
              }
             }
            ],
            "label": "2020-03-22",
            "method": "animate"
           },
           {
            "args": [
             [
              "2020-03-27"
             ],
             {
              "frame": {
               "duration": 0,
               "redraw": true
              },
              "fromcurrent": true,
              "mode": "immediate",
              "transition": {
               "duration": 0,
               "easing": "linear"
              }
             }
            ],
            "label": "2020-03-27",
            "method": "animate"
           },
           {
            "args": [
             [
              "2020-04-01"
             ],
             {
              "frame": {
               "duration": 0,
               "redraw": true
              },
              "fromcurrent": true,
              "mode": "immediate",
              "transition": {
               "duration": 0,
               "easing": "linear"
              }
             }
            ],
            "label": "2020-04-01",
            "method": "animate"
           },
           {
            "args": [
             [
              "2020-04-06"
             ],
             {
              "frame": {
               "duration": 0,
               "redraw": true
              },
              "fromcurrent": true,
              "mode": "immediate",
              "transition": {
               "duration": 0,
               "easing": "linear"
              }
             }
            ],
            "label": "2020-04-06",
            "method": "animate"
           },
           {
            "args": [
             [
              "2020-04-11"
             ],
             {
              "frame": {
               "duration": 0,
               "redraw": true
              },
              "fromcurrent": true,
              "mode": "immediate",
              "transition": {
               "duration": 0,
               "easing": "linear"
              }
             }
            ],
            "label": "2020-04-11",
            "method": "animate"
           },
           {
            "args": [
             [
              "2020-04-16"
             ],
             {
              "frame": {
               "duration": 0,
               "redraw": true
              },
              "fromcurrent": true,
              "mode": "immediate",
              "transition": {
               "duration": 0,
               "easing": "linear"
              }
             }
            ],
            "label": "2020-04-16",
            "method": "animate"
           },
           {
            "args": [
             [
              "2020-04-21"
             ],
             {
              "frame": {
               "duration": 0,
               "redraw": true
              },
              "fromcurrent": true,
              "mode": "immediate",
              "transition": {
               "duration": 0,
               "easing": "linear"
              }
             }
            ],
            "label": "2020-04-21",
            "method": "animate"
           },
           {
            "args": [
             [
              "2020-04-26"
             ],
             {
              "frame": {
               "duration": 0,
               "redraw": true
              },
              "fromcurrent": true,
              "mode": "immediate",
              "transition": {
               "duration": 0,
               "easing": "linear"
              }
             }
            ],
            "label": "2020-04-26",
            "method": "animate"
           },
           {
            "args": [
             [
              "2020-05-01"
             ],
             {
              "frame": {
               "duration": 0,
               "redraw": true
              },
              "fromcurrent": true,
              "mode": "immediate",
              "transition": {
               "duration": 0,
               "easing": "linear"
              }
             }
            ],
            "label": "2020-05-01",
            "method": "animate"
           },
           {
            "args": [
             [
              "2020-05-06"
             ],
             {
              "frame": {
               "duration": 0,
               "redraw": true
              },
              "fromcurrent": true,
              "mode": "immediate",
              "transition": {
               "duration": 0,
               "easing": "linear"
              }
             }
            ],
            "label": "2020-05-06",
            "method": "animate"
           },
           {
            "args": [
             [
              "2020-05-11"
             ],
             {
              "frame": {
               "duration": 0,
               "redraw": true
              },
              "fromcurrent": true,
              "mode": "immediate",
              "transition": {
               "duration": 0,
               "easing": "linear"
              }
             }
            ],
            "label": "2020-05-11",
            "method": "animate"
           },
           {
            "args": [
             [
              "2020-05-16"
             ],
             {
              "frame": {
               "duration": 0,
               "redraw": true
              },
              "fromcurrent": true,
              "mode": "immediate",
              "transition": {
               "duration": 0,
               "easing": "linear"
              }
             }
            ],
            "label": "2020-05-16",
            "method": "animate"
           },
           {
            "args": [
             [
              "2020-05-21"
             ],
             {
              "frame": {
               "duration": 0,
               "redraw": true
              },
              "fromcurrent": true,
              "mode": "immediate",
              "transition": {
               "duration": 0,
               "easing": "linear"
              }
             }
            ],
            "label": "2020-05-21",
            "method": "animate"
           },
           {
            "args": [
             [
              "2020-05-26"
             ],
             {
              "frame": {
               "duration": 0,
               "redraw": true
              },
              "fromcurrent": true,
              "mode": "immediate",
              "transition": {
               "duration": 0,
               "easing": "linear"
              }
             }
            ],
            "label": "2020-05-26",
            "method": "animate"
           },
           {
            "args": [
             [
              "2020-05-31"
             ],
             {
              "frame": {
               "duration": 0,
               "redraw": true
              },
              "fromcurrent": true,
              "mode": "immediate",
              "transition": {
               "duration": 0,
               "easing": "linear"
              }
             }
            ],
            "label": "2020-05-31",
            "method": "animate"
           },
           {
            "args": [
             [
              "2020-06-05"
             ],
             {
              "frame": {
               "duration": 0,
               "redraw": true
              },
              "fromcurrent": true,
              "mode": "immediate",
              "transition": {
               "duration": 0,
               "easing": "linear"
              }
             }
            ],
            "label": "2020-06-05",
            "method": "animate"
           },
           {
            "args": [
             [
              "2020-06-10"
             ],
             {
              "frame": {
               "duration": 0,
               "redraw": true
              },
              "fromcurrent": true,
              "mode": "immediate",
              "transition": {
               "duration": 0,
               "easing": "linear"
              }
             }
            ],
            "label": "2020-06-10",
            "method": "animate"
           },
           {
            "args": [
             [
              "2020-06-15"
             ],
             {
              "frame": {
               "duration": 0,
               "redraw": true
              },
              "fromcurrent": true,
              "mode": "immediate",
              "transition": {
               "duration": 0,
               "easing": "linear"
              }
             }
            ],
            "label": "2020-06-15",
            "method": "animate"
           },
           {
            "args": [
             [
              "2020-06-20"
             ],
             {
              "frame": {
               "duration": 0,
               "redraw": true
              },
              "fromcurrent": true,
              "mode": "immediate",
              "transition": {
               "duration": 0,
               "easing": "linear"
              }
             }
            ],
            "label": "2020-06-20",
            "method": "animate"
           },
           {
            "args": [
             [
              "2020-06-25"
             ],
             {
              "frame": {
               "duration": 0,
               "redraw": true
              },
              "fromcurrent": true,
              "mode": "immediate",
              "transition": {
               "duration": 0,
               "easing": "linear"
              }
             }
            ],
            "label": "2020-06-25",
            "method": "animate"
           },
           {
            "args": [
             [
              "2020-06-30"
             ],
             {
              "frame": {
               "duration": 0,
               "redraw": true
              },
              "fromcurrent": true,
              "mode": "immediate",
              "transition": {
               "duration": 0,
               "easing": "linear"
              }
             }
            ],
            "label": "2020-06-30",
            "method": "animate"
           },
           {
            "args": [
             [
              "2020-07-05"
             ],
             {
              "frame": {
               "duration": 0,
               "redraw": true
              },
              "fromcurrent": true,
              "mode": "immediate",
              "transition": {
               "duration": 0,
               "easing": "linear"
              }
             }
            ],
            "label": "2020-07-05",
            "method": "animate"
           },
           {
            "args": [
             [
              "2020-07-10"
             ],
             {
              "frame": {
               "duration": 0,
               "redraw": true
              },
              "fromcurrent": true,
              "mode": "immediate",
              "transition": {
               "duration": 0,
               "easing": "linear"
              }
             }
            ],
            "label": "2020-07-10",
            "method": "animate"
           },
           {
            "args": [
             [
              "2020-07-15"
             ],
             {
              "frame": {
               "duration": 0,
               "redraw": true
              },
              "fromcurrent": true,
              "mode": "immediate",
              "transition": {
               "duration": 0,
               "easing": "linear"
              }
             }
            ],
            "label": "2020-07-15",
            "method": "animate"
           },
           {
            "args": [
             [
              "2020-07-20"
             ],
             {
              "frame": {
               "duration": 0,
               "redraw": true
              },
              "fromcurrent": true,
              "mode": "immediate",
              "transition": {
               "duration": 0,
               "easing": "linear"
              }
             }
            ],
            "label": "2020-07-20",
            "method": "animate"
           },
           {
            "args": [
             [
              "2020-07-25"
             ],
             {
              "frame": {
               "duration": 0,
               "redraw": true
              },
              "fromcurrent": true,
              "mode": "immediate",
              "transition": {
               "duration": 0,
               "easing": "linear"
              }
             }
            ],
            "label": "2020-07-25",
            "method": "animate"
           },
           {
            "args": [
             [
              "2020-07-30"
             ],
             {
              "frame": {
               "duration": 0,
               "redraw": true
              },
              "fromcurrent": true,
              "mode": "immediate",
              "transition": {
               "duration": 0,
               "easing": "linear"
              }
             }
            ],
            "label": "2020-07-30",
            "method": "animate"
           },
           {
            "args": [
             [
              "2020-08-04"
             ],
             {
              "frame": {
               "duration": 0,
               "redraw": true
              },
              "fromcurrent": true,
              "mode": "immediate",
              "transition": {
               "duration": 0,
               "easing": "linear"
              }
             }
            ],
            "label": "2020-08-04",
            "method": "animate"
           },
           {
            "args": [
             [
              "2020-08-09"
             ],
             {
              "frame": {
               "duration": 0,
               "redraw": true
              },
              "fromcurrent": true,
              "mode": "immediate",
              "transition": {
               "duration": 0,
               "easing": "linear"
              }
             }
            ],
            "label": "2020-08-09",
            "method": "animate"
           },
           {
            "args": [
             [
              "2020-08-14"
             ],
             {
              "frame": {
               "duration": 0,
               "redraw": true
              },
              "fromcurrent": true,
              "mode": "immediate",
              "transition": {
               "duration": 0,
               "easing": "linear"
              }
             }
            ],
            "label": "2020-08-14",
            "method": "animate"
           },
           {
            "args": [
             [
              "2020-08-19"
             ],
             {
              "frame": {
               "duration": 0,
               "redraw": true
              },
              "fromcurrent": true,
              "mode": "immediate",
              "transition": {
               "duration": 0,
               "easing": "linear"
              }
             }
            ],
            "label": "2020-08-19",
            "method": "animate"
           },
           {
            "args": [
             [
              "2020-08-24"
             ],
             {
              "frame": {
               "duration": 0,
               "redraw": true
              },
              "fromcurrent": true,
              "mode": "immediate",
              "transition": {
               "duration": 0,
               "easing": "linear"
              }
             }
            ],
            "label": "2020-08-24",
            "method": "animate"
           },
           {
            "args": [
             [
              "2020-08-29"
             ],
             {
              "frame": {
               "duration": 0,
               "redraw": true
              },
              "fromcurrent": true,
              "mode": "immediate",
              "transition": {
               "duration": 0,
               "easing": "linear"
              }
             }
            ],
            "label": "2020-08-29",
            "method": "animate"
           }
          ],
          "x": 0.1,
          "xanchor": "left",
          "y": 0,
          "yanchor": "top"
         }
        ],
        "template": {
         "data": {
          "bar": [
           {
            "error_x": {
             "color": "#2a3f5f"
            },
            "error_y": {
             "color": "#2a3f5f"
            },
            "marker": {
             "line": {
              "color": "#E5ECF6",
              "width": 0.5
             },
             "pattern": {
              "fillmode": "overlay",
              "size": 10,
              "solidity": 0.2
             }
            },
            "type": "bar"
           }
          ],
          "barpolar": [
           {
            "marker": {
             "line": {
              "color": "#E5ECF6",
              "width": 0.5
             },
             "pattern": {
              "fillmode": "overlay",
              "size": 10,
              "solidity": 0.2
             }
            },
            "type": "barpolar"
           }
          ],
          "carpet": [
           {
            "aaxis": {
             "endlinecolor": "#2a3f5f",
             "gridcolor": "white",
             "linecolor": "white",
             "minorgridcolor": "white",
             "startlinecolor": "#2a3f5f"
            },
            "baxis": {
             "endlinecolor": "#2a3f5f",
             "gridcolor": "white",
             "linecolor": "white",
             "minorgridcolor": "white",
             "startlinecolor": "#2a3f5f"
            },
            "type": "carpet"
           }
          ],
          "choropleth": [
           {
            "colorbar": {
             "outlinewidth": 0,
             "ticks": ""
            },
            "type": "choropleth"
           }
          ],
          "contour": [
           {
            "colorbar": {
             "outlinewidth": 0,
             "ticks": ""
            },
            "colorscale": [
             [
              0,
              "#0d0887"
             ],
             [
              0.1111111111111111,
              "#46039f"
             ],
             [
              0.2222222222222222,
              "#7201a8"
             ],
             [
              0.3333333333333333,
              "#9c179e"
             ],
             [
              0.4444444444444444,
              "#bd3786"
             ],
             [
              0.5555555555555556,
              "#d8576b"
             ],
             [
              0.6666666666666666,
              "#ed7953"
             ],
             [
              0.7777777777777778,
              "#fb9f3a"
             ],
             [
              0.8888888888888888,
              "#fdca26"
             ],
             [
              1,
              "#f0f921"
             ]
            ],
            "type": "contour"
           }
          ],
          "contourcarpet": [
           {
            "colorbar": {
             "outlinewidth": 0,
             "ticks": ""
            },
            "type": "contourcarpet"
           }
          ],
          "heatmap": [
           {
            "colorbar": {
             "outlinewidth": 0,
             "ticks": ""
            },
            "colorscale": [
             [
              0,
              "#0d0887"
             ],
             [
              0.1111111111111111,
              "#46039f"
             ],
             [
              0.2222222222222222,
              "#7201a8"
             ],
             [
              0.3333333333333333,
              "#9c179e"
             ],
             [
              0.4444444444444444,
              "#bd3786"
             ],
             [
              0.5555555555555556,
              "#d8576b"
             ],
             [
              0.6666666666666666,
              "#ed7953"
             ],
             [
              0.7777777777777778,
              "#fb9f3a"
             ],
             [
              0.8888888888888888,
              "#fdca26"
             ],
             [
              1,
              "#f0f921"
             ]
            ],
            "type": "heatmap"
           }
          ],
          "heatmapgl": [
           {
            "colorbar": {
             "outlinewidth": 0,
             "ticks": ""
            },
            "colorscale": [
             [
              0,
              "#0d0887"
             ],
             [
              0.1111111111111111,
              "#46039f"
             ],
             [
              0.2222222222222222,
              "#7201a8"
             ],
             [
              0.3333333333333333,
              "#9c179e"
             ],
             [
              0.4444444444444444,
              "#bd3786"
             ],
             [
              0.5555555555555556,
              "#d8576b"
             ],
             [
              0.6666666666666666,
              "#ed7953"
             ],
             [
              0.7777777777777778,
              "#fb9f3a"
             ],
             [
              0.8888888888888888,
              "#fdca26"
             ],
             [
              1,
              "#f0f921"
             ]
            ],
            "type": "heatmapgl"
           }
          ],
          "histogram": [
           {
            "marker": {
             "pattern": {
              "fillmode": "overlay",
              "size": 10,
              "solidity": 0.2
             }
            },
            "type": "histogram"
           }
          ],
          "histogram2d": [
           {
            "colorbar": {
             "outlinewidth": 0,
             "ticks": ""
            },
            "colorscale": [
             [
              0,
              "#0d0887"
             ],
             [
              0.1111111111111111,
              "#46039f"
             ],
             [
              0.2222222222222222,
              "#7201a8"
             ],
             [
              0.3333333333333333,
              "#9c179e"
             ],
             [
              0.4444444444444444,
              "#bd3786"
             ],
             [
              0.5555555555555556,
              "#d8576b"
             ],
             [
              0.6666666666666666,
              "#ed7953"
             ],
             [
              0.7777777777777778,
              "#fb9f3a"
             ],
             [
              0.8888888888888888,
              "#fdca26"
             ],
             [
              1,
              "#f0f921"
             ]
            ],
            "type": "histogram2d"
           }
          ],
          "histogram2dcontour": [
           {
            "colorbar": {
             "outlinewidth": 0,
             "ticks": ""
            },
            "colorscale": [
             [
              0,
              "#0d0887"
             ],
             [
              0.1111111111111111,
              "#46039f"
             ],
             [
              0.2222222222222222,
              "#7201a8"
             ],
             [
              0.3333333333333333,
              "#9c179e"
             ],
             [
              0.4444444444444444,
              "#bd3786"
             ],
             [
              0.5555555555555556,
              "#d8576b"
             ],
             [
              0.6666666666666666,
              "#ed7953"
             ],
             [
              0.7777777777777778,
              "#fb9f3a"
             ],
             [
              0.8888888888888888,
              "#fdca26"
             ],
             [
              1,
              "#f0f921"
             ]
            ],
            "type": "histogram2dcontour"
           }
          ],
          "mesh3d": [
           {
            "colorbar": {
             "outlinewidth": 0,
             "ticks": ""
            },
            "type": "mesh3d"
           }
          ],
          "parcoords": [
           {
            "line": {
             "colorbar": {
              "outlinewidth": 0,
              "ticks": ""
             }
            },
            "type": "parcoords"
           }
          ],
          "pie": [
           {
            "automargin": true,
            "type": "pie"
           }
          ],
          "scatter": [
           {
            "fillpattern": {
             "fillmode": "overlay",
             "size": 10,
             "solidity": 0.2
            },
            "type": "scatter"
           }
          ],
          "scatter3d": [
           {
            "line": {
             "colorbar": {
              "outlinewidth": 0,
              "ticks": ""
             }
            },
            "marker": {
             "colorbar": {
              "outlinewidth": 0,
              "ticks": ""
             }
            },
            "type": "scatter3d"
           }
          ],
          "scattercarpet": [
           {
            "marker": {
             "colorbar": {
              "outlinewidth": 0,
              "ticks": ""
             }
            },
            "type": "scattercarpet"
           }
          ],
          "scattergeo": [
           {
            "marker": {
             "colorbar": {
              "outlinewidth": 0,
              "ticks": ""
             }
            },
            "type": "scattergeo"
           }
          ],
          "scattergl": [
           {
            "marker": {
             "colorbar": {
              "outlinewidth": 0,
              "ticks": ""
             }
            },
            "type": "scattergl"
           }
          ],
          "scattermapbox": [
           {
            "marker": {
             "colorbar": {
              "outlinewidth": 0,
              "ticks": ""
             }
            },
            "type": "scattermapbox"
           }
          ],
          "scatterpolar": [
           {
            "marker": {
             "colorbar": {
              "outlinewidth": 0,
              "ticks": ""
             }
            },
            "type": "scatterpolar"
           }
          ],
          "scatterpolargl": [
           {
            "marker": {
             "colorbar": {
              "outlinewidth": 0,
              "ticks": ""
             }
            },
            "type": "scatterpolargl"
           }
          ],
          "scatterternary": [
           {
            "marker": {
             "colorbar": {
              "outlinewidth": 0,
              "ticks": ""
             }
            },
            "type": "scatterternary"
           }
          ],
          "surface": [
           {
            "colorbar": {
             "outlinewidth": 0,
             "ticks": ""
            },
            "colorscale": [
             [
              0,
              "#0d0887"
             ],
             [
              0.1111111111111111,
              "#46039f"
             ],
             [
              0.2222222222222222,
              "#7201a8"
             ],
             [
              0.3333333333333333,
              "#9c179e"
             ],
             [
              0.4444444444444444,
              "#bd3786"
             ],
             [
              0.5555555555555556,
              "#d8576b"
             ],
             [
              0.6666666666666666,
              "#ed7953"
             ],
             [
              0.7777777777777778,
              "#fb9f3a"
             ],
             [
              0.8888888888888888,
              "#fdca26"
             ],
             [
              1,
              "#f0f921"
             ]
            ],
            "type": "surface"
           }
          ],
          "table": [
           {
            "cells": {
             "fill": {
              "color": "#EBF0F8"
             },
             "line": {
              "color": "white"
             }
            },
            "header": {
             "fill": {
              "color": "#C8D4E3"
             },
             "line": {
              "color": "white"
             }
            },
            "type": "table"
           }
          ]
         },
         "layout": {
          "annotationdefaults": {
           "arrowcolor": "#2a3f5f",
           "arrowhead": 0,
           "arrowwidth": 1
          },
          "autotypenumbers": "strict",
          "coloraxis": {
           "colorbar": {
            "outlinewidth": 0,
            "ticks": ""
           }
          },
          "colorscale": {
           "diverging": [
            [
             0,
             "#8e0152"
            ],
            [
             0.1,
             "#c51b7d"
            ],
            [
             0.2,
             "#de77ae"
            ],
            [
             0.3,
             "#f1b6da"
            ],
            [
             0.4,
             "#fde0ef"
            ],
            [
             0.5,
             "#f7f7f7"
            ],
            [
             0.6,
             "#e6f5d0"
            ],
            [
             0.7,
             "#b8e186"
            ],
            [
             0.8,
             "#7fbc41"
            ],
            [
             0.9,
             "#4d9221"
            ],
            [
             1,
             "#276419"
            ]
           ],
           "sequential": [
            [
             0,
             "#0d0887"
            ],
            [
             0.1111111111111111,
             "#46039f"
            ],
            [
             0.2222222222222222,
             "#7201a8"
            ],
            [
             0.3333333333333333,
             "#9c179e"
            ],
            [
             0.4444444444444444,
             "#bd3786"
            ],
            [
             0.5555555555555556,
             "#d8576b"
            ],
            [
             0.6666666666666666,
             "#ed7953"
            ],
            [
             0.7777777777777778,
             "#fb9f3a"
            ],
            [
             0.8888888888888888,
             "#fdca26"
            ],
            [
             1,
             "#f0f921"
            ]
           ],
           "sequentialminus": [
            [
             0,
             "#0d0887"
            ],
            [
             0.1111111111111111,
             "#46039f"
            ],
            [
             0.2222222222222222,
             "#7201a8"
            ],
            [
             0.3333333333333333,
             "#9c179e"
            ],
            [
             0.4444444444444444,
             "#bd3786"
            ],
            [
             0.5555555555555556,
             "#d8576b"
            ],
            [
             0.6666666666666666,
             "#ed7953"
            ],
            [
             0.7777777777777778,
             "#fb9f3a"
            ],
            [
             0.8888888888888888,
             "#fdca26"
            ],
            [
             1,
             "#f0f921"
            ]
           ]
          },
          "colorway": [
           "#636efa",
           "#EF553B",
           "#00cc96",
           "#ab63fa",
           "#FFA15A",
           "#19d3f3",
           "#FF6692",
           "#B6E880",
           "#FF97FF",
           "#FECB52"
          ],
          "font": {
           "color": "#2a3f5f"
          },
          "geo": {
           "bgcolor": "white",
           "lakecolor": "white",
           "landcolor": "#E5ECF6",
           "showlakes": true,
           "showland": true,
           "subunitcolor": "white"
          },
          "hoverlabel": {
           "align": "left"
          },
          "hovermode": "closest",
          "mapbox": {
           "style": "light"
          },
          "paper_bgcolor": "white",
          "plot_bgcolor": "#E5ECF6",
          "polar": {
           "angularaxis": {
            "gridcolor": "white",
            "linecolor": "white",
            "ticks": ""
           },
           "bgcolor": "#E5ECF6",
           "radialaxis": {
            "gridcolor": "white",
            "linecolor": "white",
            "ticks": ""
           }
          },
          "scene": {
           "xaxis": {
            "backgroundcolor": "#E5ECF6",
            "gridcolor": "white",
            "gridwidth": 2,
            "linecolor": "white",
            "showbackground": true,
            "ticks": "",
            "zerolinecolor": "white"
           },
           "yaxis": {
            "backgroundcolor": "#E5ECF6",
            "gridcolor": "white",
            "gridwidth": 2,
            "linecolor": "white",
            "showbackground": true,
            "ticks": "",
            "zerolinecolor": "white"
           },
           "zaxis": {
            "backgroundcolor": "#E5ECF6",
            "gridcolor": "white",
            "gridwidth": 2,
            "linecolor": "white",
            "showbackground": true,
            "ticks": "",
            "zerolinecolor": "white"
           }
          },
          "shapedefaults": {
           "line": {
            "color": "#2a3f5f"
           }
          },
          "ternary": {
           "aaxis": {
            "gridcolor": "white",
            "linecolor": "white",
            "ticks": ""
           },
           "baxis": {
            "gridcolor": "white",
            "linecolor": "white",
            "ticks": ""
           },
           "bgcolor": "#E5ECF6",
           "caxis": {
            "gridcolor": "white",
            "linecolor": "white",
            "ticks": ""
           }
          },
          "title": {
           "x": 0.05
          },
          "xaxis": {
           "automargin": true,
           "gridcolor": "white",
           "linecolor": "white",
           "ticks": "",
           "title": {
            "standoff": 15
           },
           "zerolinecolor": "white",
           "zerolinewidth": 2
          },
          "yaxis": {
           "automargin": true,
           "gridcolor": "white",
           "linecolor": "white",
           "ticks": "",
           "title": {
            "standoff": 15
           },
           "zerolinecolor": "white",
           "zerolinewidth": 2
          }
         }
        },
        "title": {
         "text": "<span style=\"font-size: 15px;\"><b>Number of cumulative pageviews per 100k inhabitants</b></span><br><span style=\"font-size: 10px; line-height: 20%;\">The colour of the country corresponds to how much pageviews per 100k inhabitants was recorded from 22-01-2020.</span>"
        },
        "transition": {
         "duration": 2
        },
        "updatemenus": [
         {
          "buttons": [
           {
            "args": [
             null,
             {
              "frame": {
               "duration": 0,
               "redraw": true
              },
              "fromcurrent": true,
              "mode": "immediate",
              "transition": {
               "duration": 0,
               "easing": "linear"
              },
              "visible": false
             }
            ],
            "label": "&#9654;",
            "method": "animate"
           },
           {
            "args": [
             [
              null
             ],
             {
              "frame": {
               "duration": 0,
               "redraw": true
              },
              "fromcurrent": true,
              "mode": "immediate",
              "transition": {
               "duration": 1,
               "easing": "linear"
              }
             }
            ],
            "label": "&#9724;",
            "method": "animate"
           }
          ],
          "direction": "left",
          "pad": {
           "r": 10,
           "t": 70
          },
          "showactive": false,
          "type": "buttons",
          "x": 0.1,
          "xanchor": "right",
          "y": 0,
          "yanchor": "top"
         }
        ],
        "width": 700
       }
      }
     },
     "metadata": {},
     "output_type": "display_data"
    }
   ],
   "source": [
    "# Create a df for the mapchart using the cumulative pageviews data\n",
    "pageviews_mapchart = mapcharts_df(df_pageviews_cumul100k, o_country_dict, 'pageviews')\n",
    "# Create map chart\n",
    "mapcharts(pageviews_mapchart, 'pageviews', 'country', \"\"\"Number of cumulative pageviews per 100k inhabitants\"\"\",\n",
    "'The colour of the country corresponds to how much pageviews per 100k inhabitants was recorded from 22-01-2020.', 15, 10, 'ylorbr')"
   ]
  },
  {
   "cell_type": "code",
   "execution_count": 6,
   "metadata": {},
   "outputs": [
    {
     "data": {
      "application/vnd.plotly.v1+json": {
       "config": {
        "plotlyServerURL": "https://plot.ly"
       },
       "data": [
        {
         "coloraxis": "coloraxis",
         "geo": "geo",
         "hovertemplate": "<b>%{hovertext}</b><br><br>date=2020-01-22<br>Country_code=%{location}<br>Cases=%{z}<extra></extra>",
         "hovertext": [
          "Italy",
          "Russia",
          "China",
          "Albania",
          "Bangladesh",
          "Botswana",
          "Cambodia",
          "Croatia",
          "Greece",
          "Sweden",
          "Finland",
          "Norway",
          "Malaysia",
          "Israel",
          "Lithuania",
          "Serbia",
          "Slovakia",
          "Slovenia",
          "Turkey",
          "Vietnam",
          "Bulgaria",
          "Czechia",
          "Denmark",
          "Georgia",
          "Germany",
          "Hungary",
          "Iceland",
          "Japan",
          "Kazakhstan",
          "South Korea",
          "Kyrgyzstan",
          "Netherlands",
          "Poland",
          "Romania",
          "Tajikistan",
          "Thailand",
          "Azerbaijan",
          "Mongolia"
         ],
         "locations": [
          "ITA",
          "RUS",
          "CHN",
          "ALB",
          "BGD",
          "BWA",
          "KHM",
          "HRV",
          "GRC",
          "SWE",
          "FIN",
          "NOR",
          "MYS",
          "ISR",
          "LTU",
          "SRB",
          "SVK",
          "SVN",
          "TUR",
          "VNM",
          "BGR",
          "CZE",
          "DNK",
          "GEO",
          "DEU",
          "HUN",
          "ISL",
          "JPN",
          "KAZ",
          "PRK",
          "KGZ",
          "NLD",
          "POL",
          "ROU",
          "TJK",
          "THA",
          "AZE",
          "MNG"
         ],
         "name": "",
         "type": "choropleth",
         "z": [
          0,
          0,
          0,
          0,
          0,
          0,
          0,
          0,
          0,
          0,
          0,
          0,
          0,
          0,
          0,
          0,
          0,
          0,
          0,
          0,
          0,
          0,
          0,
          0,
          0,
          0,
          0,
          0,
          0,
          0,
          0,
          0,
          0,
          0,
          0,
          0,
          0,
          0
         ]
        }
       ],
       "frames": [
        {
         "data": [
          {
           "coloraxis": "coloraxis",
           "geo": "geo",
           "hovertemplate": "<b>%{hovertext}</b><br><br>date=2020-01-22<br>Country_code=%{location}<br>Cases=%{z}<extra></extra>",
           "hovertext": [
            "Italy",
            "Russia",
            "China",
            "Albania",
            "Bangladesh",
            "Botswana",
            "Cambodia",
            "Croatia",
            "Greece",
            "Sweden",
            "Finland",
            "Norway",
            "Malaysia",
            "Israel",
            "Lithuania",
            "Serbia",
            "Slovakia",
            "Slovenia",
            "Turkey",
            "Vietnam",
            "Bulgaria",
            "Czechia",
            "Denmark",
            "Georgia",
            "Germany",
            "Hungary",
            "Iceland",
            "Japan",
            "Kazakhstan",
            "South Korea",
            "Kyrgyzstan",
            "Netherlands",
            "Poland",
            "Romania",
            "Tajikistan",
            "Thailand",
            "Azerbaijan",
            "Mongolia"
           ],
           "locations": [
            "ITA",
            "RUS",
            "CHN",
            "ALB",
            "BGD",
            "BWA",
            "KHM",
            "HRV",
            "GRC",
            "SWE",
            "FIN",
            "NOR",
            "MYS",
            "ISR",
            "LTU",
            "SRB",
            "SVK",
            "SVN",
            "TUR",
            "VNM",
            "BGR",
            "CZE",
            "DNK",
            "GEO",
            "DEU",
            "HUN",
            "ISL",
            "JPN",
            "KAZ",
            "PRK",
            "KGZ",
            "NLD",
            "POL",
            "ROU",
            "TJK",
            "THA",
            "AZE",
            "MNG"
           ],
           "name": "",
           "type": "choropleth",
           "z": [
            0,
            0,
            0,
            0,
            0,
            0,
            0,
            0,
            0,
            0,
            0,
            0,
            0,
            0,
            0,
            0,
            0,
            0,
            0,
            0,
            0,
            0,
            0,
            0,
            0,
            0,
            0,
            0,
            0,
            0,
            0,
            0,
            0,
            0,
            0,
            0,
            0,
            0
           ]
          }
         ],
         "name": "2020-01-22"
        },
        {
         "data": [
          {
           "coloraxis": "coloraxis",
           "geo": "geo",
           "hovertemplate": "<b>%{hovertext}</b><br><br>date=2020-01-27<br>Country_code=%{location}<br>Cases=%{z}<extra></extra>",
           "hovertext": [
            "Italy",
            "Russia",
            "China",
            "Albania",
            "Bangladesh",
            "Botswana",
            "Cambodia",
            "Croatia",
            "Greece",
            "Sweden",
            "Finland",
            "Norway",
            "Malaysia",
            "Israel",
            "Lithuania",
            "Serbia",
            "Slovakia",
            "Slovenia",
            "Turkey",
            "Vietnam",
            "Bulgaria",
            "Czechia",
            "Denmark",
            "Georgia",
            "Germany",
            "Hungary",
            "Iceland",
            "Japan",
            "Kazakhstan",
            "South Korea",
            "Kyrgyzstan",
            "Netherlands",
            "Poland",
            "Romania",
            "Tajikistan",
            "Thailand",
            "Azerbaijan",
            "Mongolia"
           ],
           "locations": [
            "ITA",
            "RUS",
            "CHN",
            "ALB",
            "BGD",
            "BWA",
            "KHM",
            "HRV",
            "GRC",
            "SWE",
            "FIN",
            "NOR",
            "MYS",
            "ISR",
            "LTU",
            "SRB",
            "SVK",
            "SVN",
            "TUR",
            "VNM",
            "BGR",
            "CZE",
            "DNK",
            "GEO",
            "DEU",
            "HUN",
            "ISL",
            "JPN",
            "KAZ",
            "PRK",
            "KGZ",
            "NLD",
            "POL",
            "ROU",
            "TJK",
            "THA",
            "AZE",
            "MNG"
           ],
           "name": "",
           "type": "choropleth",
           "z": [
            0,
            0,
            0.16412727659272908,
            0,
            0,
            0,
            0.005981229347188891,
            0,
            0,
            0,
            0,
            0,
            0.012358648727593692,
            0,
            0,
            0,
            0,
            0,
            0,
            0.0020546837013232463,
            0,
            0,
            0,
            0,
            0.0012024886078934888,
            0,
            0,
            0.0015840204021827801,
            0,
            0.0057874569179295595,
            0,
            0,
            0,
            0,
            0,
            0.005730660832013443,
            0,
            0
           ]
          }
         ],
         "name": "2020-01-27"
        },
        {
         "data": [
          {
           "coloraxis": "coloraxis",
           "geo": "geo",
           "hovertemplate": "<b>%{hovertext}</b><br><br>date=2020-02-01<br>Country_code=%{location}<br>Cases=%{z}<extra></extra>",
           "hovertext": [
            "Italy",
            "Russia",
            "China",
            "Albania",
            "Bangladesh",
            "Botswana",
            "Cambodia",
            "Croatia",
            "Greece",
            "Sweden",
            "Finland",
            "Norway",
            "Malaysia",
            "Israel",
            "Lithuania",
            "Serbia",
            "Slovakia",
            "Slovenia",
            "Turkey",
            "Vietnam",
            "Bulgaria",
            "Czechia",
            "Denmark",
            "Georgia",
            "Germany",
            "Hungary",
            "Iceland",
            "Japan",
            "Kazakhstan",
            "South Korea",
            "Kyrgyzstan",
            "Netherlands",
            "Poland",
            "Romania",
            "Tajikistan",
            "Thailand",
            "Azerbaijan",
            "Mongolia"
           ],
           "locations": [
            "ITA",
            "RUS",
            "CHN",
            "ALB",
            "BGD",
            "BWA",
            "KHM",
            "HRV",
            "GRC",
            "SWE",
            "FIN",
            "NOR",
            "MYS",
            "ISR",
            "LTU",
            "SRB",
            "SVK",
            "SVN",
            "TUR",
            "VNM",
            "BGR",
            "CZE",
            "DNK",
            "GEO",
            "DEU",
            "HUN",
            "ISL",
            "JPN",
            "KAZ",
            "PRK",
            "KGZ",
            "NLD",
            "POL",
            "ROU",
            "TJK",
            "THA",
            "AZE",
            "MNG"
           ],
           "name": "",
           "type": "choropleth",
           "z": [
            0.0033641983392062986,
            0.0013881838168320884,
            0.8024945078307703,
            0,
            0,
            0,
            0.005981229347188891,
            0,
            0,
            0.00965862367317072,
            0.018084677160481438,
            0,
            0.024717297455187383,
            0,
            0,
            0,
            0,
            0,
            0,
            0.006164051103969738,
            0,
            0,
            0,
            0,
            0.00961990886314791,
            0,
            0,
            0.01425618361964502,
            0,
            0.021220675365741716,
            0,
            0,
            0,
            0,
            0,
            0.02148997812005041,
            0,
            0
           ]
          }
         ],
         "name": "2020-02-01"
        },
        {
         "data": [
          {
           "coloraxis": "coloraxis",
           "geo": "geo",
           "hovertemplate": "<b>%{hovertext}</b><br><br>date=2020-02-06<br>Country_code=%{location}<br>Cases=%{z}<extra></extra>",
           "hovertext": [
            "Italy",
            "Russia",
            "China",
            "Albania",
            "Bangladesh",
            "Botswana",
            "Cambodia",
            "Croatia",
            "Greece",
            "Sweden",
            "Finland",
            "Norway",
            "Malaysia",
            "Israel",
            "Lithuania",
            "Serbia",
            "Slovakia",
            "Slovenia",
            "Turkey",
            "Vietnam",
            "Bulgaria",
            "Czechia",
            "Denmark",
            "Georgia",
            "Germany",
            "Hungary",
            "Iceland",
            "Japan",
            "Kazakhstan",
            "South Korea",
            "Kyrgyzstan",
            "Netherlands",
            "Poland",
            "Romania",
            "Tajikistan",
            "Thailand",
            "Azerbaijan",
            "Mongolia"
           ],
           "locations": [
            "ITA",
            "RUS",
            "CHN",
            "ALB",
            "BGD",
            "BWA",
            "KHM",
            "HRV",
            "GRC",
            "SWE",
            "FIN",
            "NOR",
            "MYS",
            "ISR",
            "LTU",
            "SRB",
            "SVK",
            "SVN",
            "TUR",
            "VNM",
            "BGR",
            "CZE",
            "DNK",
            "GEO",
            "DEU",
            "HUN",
            "ISL",
            "JPN",
            "KAZ",
            "PRK",
            "KGZ",
            "NLD",
            "POL",
            "ROU",
            "TJK",
            "THA",
            "AZE",
            "MNG"
           ],
           "name": "",
           "type": "choropleth",
           "z": [
            0.0033641983392062986,
            0.0013881838168320884,
            2.1264261923322234,
            0,
            0,
            0,
            0.005981229347188891,
            0,
            0,
            0.00965862367317072,
            0.018084677160481438,
            0,
            0.04325527054657793,
            0,
            0,
            0,
            0,
            0,
            0,
            0.010273418506616231,
            0,
            0,
            0,
            0,
            0.014429863294721866,
            0,
            0,
            0.01663221422291919,
            0,
            0.04244135073148343,
            0,
            0,
            0,
            0,
            0,
            0.030085969368070575,
            0,
            0
           ]
          }
         ],
         "name": "2020-02-06"
        },
        {
         "data": [
          {
           "coloraxis": "coloraxis",
           "geo": "geo",
           "hovertemplate": "<b>%{hovertext}</b><br><br>date=2020-02-11<br>Country_code=%{location}<br>Cases=%{z}<extra></extra>",
           "hovertext": [
            "Italy",
            "Russia",
            "China",
            "Albania",
            "Bangladesh",
            "Botswana",
            "Cambodia",
            "Croatia",
            "Greece",
            "Sweden",
            "Finland",
            "Norway",
            "Malaysia",
            "Israel",
            "Lithuania",
            "Serbia",
            "Slovakia",
            "Slovenia",
            "Turkey",
            "Vietnam",
            "Bulgaria",
            "Czechia",
            "Denmark",
            "Georgia",
            "Germany",
            "Hungary",
            "Iceland",
            "Japan",
            "Kazakhstan",
            "South Korea",
            "Kyrgyzstan",
            "Netherlands",
            "Poland",
            "Romania",
            "Tajikistan",
            "Thailand",
            "Azerbaijan",
            "Mongolia"
           ],
           "locations": [
            "ITA",
            "RUS",
            "CHN",
            "ALB",
            "BGD",
            "BWA",
            "KHM",
            "HRV",
            "GRC",
            "SWE",
            "FIN",
            "NOR",
            "MYS",
            "ISR",
            "LTU",
            "SRB",
            "SVK",
            "SVN",
            "TUR",
            "VNM",
            "BGR",
            "CZE",
            "DNK",
            "GEO",
            "DEU",
            "HUN",
            "ISL",
            "JPN",
            "KAZ",
            "PRK",
            "KGZ",
            "NLD",
            "POL",
            "ROU",
            "TJK",
            "THA",
            "AZE",
            "MNG"
           ],
           "name": "",
           "type": "choropleth",
           "z": [
            0.005046297508809448,
            0.0013881838168320884,
            3.102544114520587,
            0,
            0,
            0,
            0.005981229347188891,
            0,
            0,
            0.00965862367317072,
            0.036169354320962875,
            0,
            0.05561391927417162,
            0,
            0,
            0,
            0,
            0,
            0,
            0.015410127759924345,
            0,
            0,
            0,
            0,
            0.01923981772629582,
            0,
            0,
            0.01980025502728475,
            0,
            0.052087112261366024,
            0,
            0,
            0,
            0,
            0,
            0.04154729103209746,
            0,
            0
           ]
          }
         ],
         "name": "2020-02-11"
        },
        {
         "data": [
          {
           "coloraxis": "coloraxis",
           "geo": "geo",
           "hovertemplate": "<b>%{hovertext}</b><br><br>date=2020-02-16<br>Country_code=%{location}<br>Cases=%{z}<extra></extra>",
           "hovertext": [
            "Italy",
            "Russia",
            "China",
            "Albania",
            "Bangladesh",
            "Botswana",
            "Cambodia",
            "Croatia",
            "Greece",
            "Sweden",
            "Finland",
            "Norway",
            "Malaysia",
            "Israel",
            "Lithuania",
            "Serbia",
            "Slovakia",
            "Slovenia",
            "Turkey",
            "Vietnam",
            "Bulgaria",
            "Czechia",
            "Denmark",
            "Georgia",
            "Germany",
            "Hungary",
            "Iceland",
            "Japan",
            "Kazakhstan",
            "South Korea",
            "Kyrgyzstan",
            "Netherlands",
            "Poland",
            "Romania",
            "Tajikistan",
            "Thailand",
            "Azerbaijan",
            "Mongolia"
           ],
           "locations": [
            "ITA",
            "RUS",
            "CHN",
            "ALB",
            "BGD",
            "BWA",
            "KHM",
            "HRV",
            "GRC",
            "SWE",
            "FIN",
            "NOR",
            "MYS",
            "ISR",
            "LTU",
            "SRB",
            "SVK",
            "SVN",
            "TUR",
            "VNM",
            "BGR",
            "CZE",
            "DNK",
            "GEO",
            "DEU",
            "HUN",
            "ISL",
            "JPN",
            "KAZ",
            "PRK",
            "KGZ",
            "NLD",
            "POL",
            "ROU",
            "TJK",
            "THA",
            "AZE",
            "MNG"
           ],
           "name": "",
           "type": "choropleth",
           "z": [
            0.005046297508809448,
            0.0013881838168320884,
            4.953511444972008,
            0,
            0,
            0,
            0.005981229347188891,
            0,
            0,
            0.00965862367317072,
            0.036169354320962875,
            0,
            0.06797256800176531,
            0,
            0,
            0,
            0,
            0,
            0,
            0.01643746961058597,
            0,
            0,
            0,
            0,
            0.01923981772629582,
            0,
            0,
            0.04593659166330062,
            0,
            0.05401626456734254,
            0,
            0,
            0,
            0,
            0,
            0.04297995624010082,
            0,
            0
           ]
          }
         ],
         "name": "2020-02-16"
        },
        {
         "data": [
          {
           "coloraxis": "coloraxis",
           "geo": "geo",
           "hovertemplate": "<b>%{hovertext}</b><br><br>date=2020-02-21<br>Country_code=%{location}<br>Cases=%{z}<extra></extra>",
           "hovertext": [
            "Italy",
            "Russia",
            "China",
            "Albania",
            "Bangladesh",
            "Botswana",
            "Cambodia",
            "Croatia",
            "Greece",
            "Sweden",
            "Finland",
            "Norway",
            "Malaysia",
            "Israel",
            "Lithuania",
            "Serbia",
            "Slovakia",
            "Slovenia",
            "Turkey",
            "Vietnam",
            "Bulgaria",
            "Czechia",
            "Denmark",
            "Georgia",
            "Germany",
            "Hungary",
            "Iceland",
            "Japan",
            "Kazakhstan",
            "South Korea",
            "Kyrgyzstan",
            "Netherlands",
            "Poland",
            "Romania",
            "Tajikistan",
            "Thailand",
            "Azerbaijan",
            "Mongolia"
           ],
           "locations": [
            "ITA",
            "RUS",
            "CHN",
            "ALB",
            "BGD",
            "BWA",
            "KHM",
            "HRV",
            "GRC",
            "SWE",
            "FIN",
            "NOR",
            "MYS",
            "ISR",
            "LTU",
            "SRB",
            "SVK",
            "SVN",
            "TUR",
            "VNM",
            "BGR",
            "CZE",
            "DNK",
            "GEO",
            "DEU",
            "HUN",
            "ISL",
            "JPN",
            "KAZ",
            "PRK",
            "KGZ",
            "NLD",
            "POL",
            "ROU",
            "TJK",
            "THA",
            "AZE",
            "MNG"
           ],
           "name": "",
           "type": "choropleth",
           "z": [
            0.03364198339206299,
            0.0013881838168320884,
            5.3096874778541565,
            0,
            0,
            0,
            0.005981229347188891,
            0,
            0,
            0.00965862367317072,
            0.036169354320962875,
            0,
            0.06797256800176531,
            0.010851754186064178,
            0,
            0,
            0,
            0,
            0,
            0.01643746961058597,
            0,
            0,
            0,
            0,
            0.01923981772629582,
            0,
            0,
            0.08712112212005291,
            0,
            0.3916179181132335,
            0,
            0,
            0,
            0,
            0,
            0.04441262144810418,
            0,
            0
           ]
          }
         ],
         "name": "2020-02-21"
        },
        {
         "data": [
          {
           "coloraxis": "coloraxis",
           "geo": "geo",
           "hovertemplate": "<b>%{hovertext}</b><br><br>date=2020-02-26<br>Country_code=%{location}<br>Cases=%{z}<extra></extra>",
           "hovertext": [
            "Italy",
            "Russia",
            "China",
            "Albania",
            "Bangladesh",
            "Botswana",
            "Cambodia",
            "Croatia",
            "Greece",
            "Sweden",
            "Finland",
            "Norway",
            "Malaysia",
            "Israel",
            "Lithuania",
            "Serbia",
            "Slovakia",
            "Slovenia",
            "Turkey",
            "Vietnam",
            "Bulgaria",
            "Czechia",
            "Denmark",
            "Georgia",
            "Germany",
            "Hungary",
            "Iceland",
            "Japan",
            "Kazakhstan",
            "South Korea",
            "Kyrgyzstan",
            "Netherlands",
            "Poland",
            "Romania",
            "Tajikistan",
            "Thailand",
            "Azerbaijan",
            "Mongolia"
           ],
           "locations": [
            "ITA",
            "RUS",
            "CHN",
            "ALB",
            "BGD",
            "BWA",
            "KHM",
            "HRV",
            "GRC",
            "SWE",
            "FIN",
            "NOR",
            "MYS",
            "ISR",
            "LTU",
            "SRB",
            "SVK",
            "SVN",
            "TUR",
            "VNM",
            "BGR",
            "CZE",
            "DNK",
            "GEO",
            "DEU",
            "HUN",
            "ISL",
            "JPN",
            "KAZ",
            "PRK",
            "KGZ",
            "NLD",
            "POL",
            "ROU",
            "TJK",
            "THA",
            "AZE",
            "MNG"
           ],
           "name": "",
           "type": "choropleth",
           "z": [
            0.7619909238302266,
            0.0013881838168320884,
            5.493444830274254,
            0,
            0,
            0,
            0.005981229347188891,
            0.07411653095106333,
            0.00934530878582384,
            0.01931724734634144,
            0.07233870864192575,
            0.018589174594175084,
            0.06797256800176531,
            0.021703508372128356,
            0,
            0,
            0,
            0,
            0,
            0.01643746961058597,
            0,
            0,
            0,
            0.02686210820272081,
            0.025252260765763264,
            0,
            0,
            0.1504819382073641,
            0,
            2.430731905530415,
            0,
            0,
            0,
            0.005192776639982718,
            0,
            0.051575947488120985,
            0,
            0
           ]
          }
         ],
         "name": "2020-02-26"
        },
        {
         "data": [
          {
           "coloraxis": "coloraxis",
           "geo": "geo",
           "hovertemplate": "<b>%{hovertext}</b><br><br>date=2020-03-02<br>Country_code=%{location}<br>Cases=%{z}<extra></extra>",
           "hovertext": [
            "Italy",
            "Russia",
            "China",
            "Albania",
            "Bangladesh",
            "Botswana",
            "Cambodia",
            "Croatia",
            "Greece",
            "Sweden",
            "Finland",
            "Norway",
            "Malaysia",
            "Israel",
            "Lithuania",
            "Serbia",
            "Slovakia",
            "Slovenia",
            "Turkey",
            "Vietnam",
            "Bulgaria",
            "Czechia",
            "Denmark",
            "Georgia",
            "Germany",
            "Hungary",
            "Iceland",
            "Japan",
            "Kazakhstan",
            "South Korea",
            "Kyrgyzstan",
            "Netherlands",
            "Poland",
            "Romania",
            "Tajikistan",
            "Thailand",
            "Azerbaijan",
            "Mongolia"
           ],
           "locations": [
            "ITA",
            "RUS",
            "CHN",
            "ALB",
            "BGD",
            "BWA",
            "KHM",
            "HRV",
            "GRC",
            "SWE",
            "FIN",
            "NOR",
            "MYS",
            "ISR",
            "LTU",
            "SRB",
            "SVK",
            "SVN",
            "TUR",
            "VNM",
            "BGR",
            "CZE",
            "DNK",
            "GEO",
            "DEU",
            "HUN",
            "ISL",
            "JPN",
            "KAZ",
            "PRK",
            "KGZ",
            "NLD",
            "POL",
            "ROU",
            "TJK",
            "THA",
            "AZE",
            "MNG"
           ],
           "name": "",
           "type": "choropleth",
           "z": [
            3.424753909312012,
            0.0020822757252481326,
            5.632414428460066,
            0,
            0,
            0,
            0.005981229347188891,
            0.17293857221914774,
            0.06541716150076687,
            0.18351384979024368,
            0.18084677160481435,
            0.4647293648543771,
            0.08960020327505427,
            0.13022105023277014,
            0,
            0,
            0,
            0,
            0,
            0.01643746961058597,
            0,
            0.02804299701865551,
            0.0685941155852004,
            0.08058632460816242,
            0.18037329118402332,
            0,
            1.6372730671309246,
            0.21859481550122367,
            0,
            8.360946094102236,
            0,
            0.13760284379210505,
            0,
            0.015578329919948156,
            0,
            0.055873943112131064,
            0.02972321445467661,
            0
           ]
          }
         ],
         "name": "2020-03-02"
        },
        {
         "data": [
          {
           "coloraxis": "coloraxis",
           "geo": "geo",
           "hovertemplate": "<b>%{hovertext}</b><br><br>date=2020-03-07<br>Country_code=%{location}<br>Cases=%{z}<extra></extra>",
           "hovertext": [
            "Italy",
            "Russia",
            "China",
            "Albania",
            "Bangladesh",
            "Botswana",
            "Cambodia",
            "Croatia",
            "Greece",
            "Sweden",
            "Finland",
            "Norway",
            "Malaysia",
            "Israel",
            "Lithuania",
            "Serbia",
            "Slovakia",
            "Slovenia",
            "Turkey",
            "Vietnam",
            "Bulgaria",
            "Czechia",
            "Denmark",
            "Georgia",
            "Germany",
            "Hungary",
            "Iceland",
            "Japan",
            "Kazakhstan",
            "South Korea",
            "Kyrgyzstan",
            "Netherlands",
            "Poland",
            "Romania",
            "Tajikistan",
            "Thailand",
            "Azerbaijan",
            "Mongolia"
           ],
           "locations": [
            "ITA",
            "RUS",
            "CHN",
            "ALB",
            "BGD",
            "BWA",
            "KHM",
            "HRV",
            "GRC",
            "SWE",
            "FIN",
            "NOR",
            "MYS",
            "ISR",
            "LTU",
            "SRB",
            "SVK",
            "SVN",
            "TUR",
            "VNM",
            "BGR",
            "CZE",
            "DNK",
            "GEO",
            "DEU",
            "HUN",
            "ISL",
            "JPN",
            "KAZ",
            "PRK",
            "KGZ",
            "NLD",
            "POL",
            "ROU",
            "TJK",
            "THA",
            "AZE",
            "MNG"
           ],
           "name": "",
           "type": "choropleth",
           "z": [
            9.895789414775328,
            0.009023194809408573,
            5.676776982495925,
            0,
            0,
            0,
            0.005981229347188891,
            0.2964661238042533,
            0.42988420414789663,
            1.7288936374975588,
            0.5063709604934802,
            2.732608665343737,
            0.28733858291655334,
            0.5100324467450164,
            0,
            0.014494589604538316,
            0.01831895387049269,
            0.3329498068653299,
            0,
            0.018492153311909214,
            0,
            0.17760564778481824,
            0.39441616461490236,
            0.10744843281088325,
            0.8225022077991464,
            0.04102501407927202,
            13.643942226091037,
            0.367492733306405,
            0,
            13.581232234074697,
            0,
            1.5193647335378264,
            0.013192935868874881,
            0.04673498975984447,
            0,
            0.06590259956815459,
            0.08916964336402983,
            0
           ]
          }
         ],
         "name": "2020-03-07"
        },
        {
         "data": [
          {
           "coloraxis": "coloraxis",
           "geo": "geo",
           "hovertemplate": "<b>%{hovertext}</b><br><br>date=2020-03-12<br>Country_code=%{location}<br>Cases=%{z}<extra></extra>",
           "hovertext": [
            "Italy",
            "Russia",
            "China",
            "Albania",
            "Bangladesh",
            "Botswana",
            "Cambodia",
            "Croatia",
            "Greece",
            "Sweden",
            "Finland",
            "Norway",
            "Malaysia",
            "Israel",
            "Lithuania",
            "Serbia",
            "Slovakia",
            "Slovenia",
            "Turkey",
            "Vietnam",
            "Bulgaria",
            "Czechia",
            "Denmark",
            "Georgia",
            "Germany",
            "Hungary",
            "Iceland",
            "Japan",
            "Kazakhstan",
            "South Korea",
            "Kyrgyzstan",
            "Netherlands",
            "Poland",
            "Romania",
            "Tajikistan",
            "Thailand",
            "Azerbaijan",
            "Mongolia"
           ],
           "locations": [
            "ITA",
            "RUS",
            "CHN",
            "ALB",
            "BGD",
            "BWA",
            "KHM",
            "HRV",
            "GRC",
            "SWE",
            "FIN",
            "NOR",
            "MYS",
            "ISR",
            "LTU",
            "SRB",
            "SVK",
            "SVN",
            "TUR",
            "VNM",
            "BGR",
            "CZE",
            "DNK",
            "GEO",
            "DEU",
            "HUN",
            "ISL",
            "JPN",
            "KAZ",
            "PRK",
            "KGZ",
            "NLD",
            "POL",
            "ROU",
            "TJK",
            "THA",
            "AZE",
            "MNG"
           ],
           "name": "",
           "type": "choropleth",
           "z": [
            25.421564750212394,
            0.019434573435649236,
            5.686769187158954,
            0.8104730026157135,
            0.0018216110506649962,
            0,
            0.017943688041566673,
            0.469404696023401,
            0.9251855697965602,
            7.446798852014625,
            3.454173337651954,
            13.049600565110907,
            0.4881666247399508,
            1.4487091838395676,
            0,
            0.27539720248622795,
            0.1831895387049269,
            4.233218973002051,
            0.0011856901381183172,
            0.0400663321758033,
            0.10095161317072433,
            0.8786805732512061,
            10.546345271224562,
            0.6446905968652994,
            2.848695512099675,
            0.13333129575763406,
            28.106520985747537,
            0.5496550795574248,
            0,
            15.178570343423257,
            0,
            4.6096952670355185,
            0.12929077151497387,
            0.2544460553591532,
            0,
            0.09742123414422854,
            0.10898511966714755,
            0.03050368911616171
           ]
          }
         ],
         "name": "2020-03-12"
        },
        {
         "data": [
          {
           "coloraxis": "coloraxis",
           "geo": "geo",
           "hovertemplate": "<b>%{hovertext}</b><br><br>date=2020-03-17<br>Country_code=%{location}<br>Cases=%{z}<extra></extra>",
           "hovertext": [
            "Italy",
            "Russia",
            "China",
            "Albania",
            "Bangladesh",
            "Botswana",
            "Cambodia",
            "Croatia",
            "Greece",
            "Sweden",
            "Finland",
            "Norway",
            "Malaysia",
            "Israel",
            "Lithuania",
            "Serbia",
            "Slovakia",
            "Slovenia",
            "Turkey",
            "Vietnam",
            "Bulgaria",
            "Czechia",
            "Denmark",
            "Georgia",
            "Germany",
            "Hungary",
            "Iceland",
            "Japan",
            "Kazakhstan",
            "South Korea",
            "Kyrgyzstan",
            "Netherlands",
            "Poland",
            "Romania",
            "Tajikistan",
            "Thailand",
            "Azerbaijan",
            "Mongolia"
           ],
           "locations": [
            "ITA",
            "RUS",
            "CHN",
            "ALB",
            "BGD",
            "BWA",
            "KHM",
            "HRV",
            "GRC",
            "SWE",
            "FIN",
            "NOR",
            "MYS",
            "ISR",
            "LTU",
            "SRB",
            "SVK",
            "SVN",
            "TUR",
            "VNM",
            "BGR",
            "CZE",
            "DNK",
            "GEO",
            "DEU",
            "HUN",
            "ISL",
            "JPN",
            "KAZ",
            "PRK",
            "KGZ",
            "NLD",
            "POL",
            "ROU",
            "TJK",
            "THA",
            "AZE",
            "MNG"
           ],
           "name": "",
           "type": "choropleth",
           "z": [
            52.99621643751682,
            0.07912647755942903,
            5.693218056835093,
            1.9380876149506194,
            0.006072036835549988,
            0,
            0.19738056845723342,
            1.6058581706063721,
            3.616634500113826,
            12.218158946560962,
            7.468971667278832,
            27.195962431278144,
            2.0793426484176387,
            3.770984579657302,
            0,
            0.9421483242949904,
            1.3189646786754738,
            13.080170983995103,
            0.05572743649156091,
            0.06780456214366712,
            0.9662511546340756,
            3.7016756064625276,
            16.7541127316852,
            0.9133116788925075,
            8.605008478085805,
            0.5128126759909002,
            60.03334579480057,
            0.7056810891724286,
            0.175946831213565,
            16.048618033418666,
            0,
            11.75930969240031,
            0.6279837473584444,
            0.9554709017568201,
            0,
            0.2478510809845814,
            0.27741666824364836,
            0.12201475646464684
           ]
          }
         ],
         "name": "2020-03-17"
        },
        {
         "data": [
          {
           "coloraxis": "coloraxis",
           "geo": "geo",
           "hovertemplate": "<b>%{hovertext}</b><br><br>date=2020-03-22<br>Country_code=%{location}<br>Cases=%{z}<extra></extra>",
           "hovertext": [
            "Italy",
            "Russia",
            "China",
            "Albania",
            "Bangladesh",
            "Botswana",
            "Cambodia",
            "Croatia",
            "Greece",
            "Sweden",
            "Finland",
            "Norway",
            "Malaysia",
            "Israel",
            "Lithuania",
            "Serbia",
            "Slovakia",
            "Slovenia",
            "Turkey",
            "Vietnam",
            "Bulgaria",
            "Czechia",
            "Denmark",
            "Georgia",
            "Germany",
            "Hungary",
            "Iceland",
            "Japan",
            "Kazakhstan",
            "South Korea",
            "Kyrgyzstan",
            "Netherlands",
            "Poland",
            "Romania",
            "Tajikistan",
            "Thailand",
            "Azerbaijan",
            "Mongolia"
           ],
           "locations": [
            "ITA",
            "RUS",
            "CHN",
            "ALB",
            "BGD",
            "BWA",
            "KHM",
            "HRV",
            "GRC",
            "SWE",
            "FIN",
            "NOR",
            "MYS",
            "ISR",
            "LTU",
            "SRB",
            "SVK",
            "SVN",
            "TUR",
            "VNM",
            "BGR",
            "CZE",
            "DNK",
            "GEO",
            "DEU",
            "HUN",
            "ISL",
            "JPN",
            "KAZ",
            "PRK",
            "KGZ",
            "NLD",
            "POL",
            "ROU",
            "TJK",
            "THA",
            "AZE",
            "MNG"
           ],
           "name": "",
           "type": "choropleth",
           "z": [
            99.47598069199104,
            0.2547317303886882,
            5.708100063780029,
            3.136178140556457,
            0.01639449945598497,
            0,
            0.5024232651638669,
            6.275199620523361,
            5.831472682354075,
            19.18202661491705,
            14.883689303076222,
            44.33518140710757,
            4.035098809559341,
            12.28961161571768,
            1.574304488377876,
            3.2177988922075054,
            3.2607737889476986,
            19.69160286317808,
            1.4655130107142398,
            0.11608962912476341,
            2.696850237560778,
            10.46938555363139,
            23.92219781033864,
            1.4505538429469238,
            22.378312992897825,
            1.3435692110961586,
            154.99518368839418,
            0.8727952416027119,
            0.3252350516371959,
            17.285204661549617,
            0.2127691910211401,
            27.233896167187456,
            1.6728642681733352,
            2.248472285112517,
            0,
            0.8524357987619996,
            0.6440029798513265,
            0.3050368911616171
           ]
          }
         ],
         "name": "2020-03-22"
        },
        {
         "data": [
          {
           "coloraxis": "coloraxis",
           "geo": "geo",
           "hovertemplate": "<b>%{hovertext}</b><br><br>date=2020-03-27<br>Country_code=%{location}<br>Cases=%{z}<extra></extra>",
           "hovertext": [
            "Italy",
            "Russia",
            "China",
            "Albania",
            "Bangladesh",
            "Botswana",
            "Cambodia",
            "Croatia",
            "Greece",
            "Sweden",
            "Finland",
            "Norway",
            "Malaysia",
            "Israel",
            "Lithuania",
            "Serbia",
            "Slovakia",
            "Slovenia",
            "Turkey",
            "Vietnam",
            "Bulgaria",
            "Czechia",
            "Denmark",
            "Georgia",
            "Germany",
            "Hungary",
            "Iceland",
            "Japan",
            "Kazakhstan",
            "South Korea",
            "Kyrgyzstan",
            "Netherlands",
            "Poland",
            "Romania",
            "Tajikistan",
            "Thailand",
            "Azerbaijan",
            "Mongolia"
           ],
           "locations": [
            "ITA",
            "RUS",
            "CHN",
            "ALB",
            "BGD",
            "BWA",
            "KHM",
            "HRV",
            "GRC",
            "SWE",
            "FIN",
            "NOR",
            "MYS",
            "ISR",
            "LTU",
            "SRB",
            "SVK",
            "SVN",
            "TUR",
            "VNM",
            "BGR",
            "CZE",
            "DNK",
            "GEO",
            "DEU",
            "HUN",
            "ISL",
            "JPN",
            "KAZ",
            "PRK",
            "KGZ",
            "NLD",
            "POL",
            "ROU",
            "TJK",
            "THA",
            "AZE",
            "MNG"
           ],
           "name": "",
           "type": "choropleth",
           "z": [
            145.4982139723332,
            0.7190792171190218,
            5.725887605414216,
            6.55425993419664,
            0.02914577681063994,
            0,
            0.5921417053717002,
            14.47742904577437,
            7.803332836162905,
            32.48195141287313,
            23.528164985786347,
            69.80235060112743,
            6.676759975082493,
            37.69356816529392,
            6.547675485753438,
            6.624027449274009,
            4.927798591162534,
            30.06061113412693,
            6.756062406998171,
            0.16745672165784456,
            4.225546094146032,
            21.303330068505304,
            35.085890121830005,
            2.229554980825827,
            50.85083825059985,
            3.076876055945401,
            242.86217162442048,
            1.210191587267644,
            0.7997583236980228,
            18.000920167066905,
            0.8814723628018662,
            55.98715706791274,
            3.6649975843734426,
            6.709067418857672,
            0,
            1.6217770154598041,
            1.6347767950072132,
            0.3355405802777788
           ]
          }
         ],
         "name": "2020-03-27"
        },
        {
         "data": [
          {
           "coloraxis": "coloraxis",
           "geo": "geo",
           "hovertemplate": "<b>%{hovertext}</b><br><br>date=2020-04-01<br>Country_code=%{location}<br>Cases=%{z}<extra></extra>",
           "hovertext": [
            "Italy",
            "Russia",
            "China",
            "Albania",
            "Bangladesh",
            "Botswana",
            "Cambodia",
            "Croatia",
            "Greece",
            "Sweden",
            "Finland",
            "Norway",
            "Malaysia",
            "Israel",
            "Lithuania",
            "Serbia",
            "Slovakia",
            "Slovenia",
            "Turkey",
            "Vietnam",
            "Bulgaria",
            "Czechia",
            "Denmark",
            "Georgia",
            "Germany",
            "Hungary",
            "Iceland",
            "Japan",
            "Kazakhstan",
            "South Korea",
            "Kyrgyzstan",
            "Netherlands",
            "Poland",
            "Romania",
            "Tajikistan",
            "Thailand",
            "Azerbaijan",
            "Mongolia"
           ],
           "locations": [
            "ITA",
            "RUS",
            "CHN",
            "ALB",
            "BGD",
            "BWA",
            "KHM",
            "HRV",
            "GRC",
            "SWE",
            "FIN",
            "NOR",
            "MYS",
            "ISR",
            "LTU",
            "SRB",
            "SVK",
            "SVN",
            "TUR",
            "VNM",
            "BGR",
            "CZE",
            "DNK",
            "GEO",
            "DEU",
            "HUN",
            "ISL",
            "JPN",
            "KAZ",
            "PRK",
            "KGZ",
            "NLD",
            "POL",
            "ROU",
            "TJK",
            "THA",
            "AZE",
            "MNG"
           ],
           "name": "",
           "type": "choropleth",
           "z": [
            185.99643357969865,
            1.9274932296713545,
            5.859046134221529,
            9.126630768585644,
            0.03278899891196994,
            0.17009514697283792,
            0.6519539988435892,
            23.79140643529133,
            10.80317695641236,
            51.383877941268224,
            32.498164857385134,
            90.39915605147343,
            8.984737624960614,
            70.16201668999794,
            14.204520042864017,
            15.364264980810612,
            7.3275815481970765,
            40.001541081963204,
            18.590435675557096,
            0.2239605234442338,
            6.085940108292237,
            32.791611180481176,
            53.280479280804414,
            3.142866659718335,
            81.00684755935276,
            5.384533097904452,
            332.9121903166213,
            2.006161839364491,
            2.026054420034991,
            19.071599696883872,
            1.6869557288104682,
            84.35627669638505,
            6.73895164182129,
            12.77423053435749,
            0,
            2.531519422541938,
            3.5568779964096335,
            0.42705164762626396
           ]
          }
         ],
         "name": "2020-04-01"
        },
        {
         "data": [
          {
           "coloraxis": "coloraxis",
           "geo": "geo",
           "hovertemplate": "<b>%{hovertext}</b><br><br>date=2020-04-06<br>Country_code=%{location}<br>Cases=%{z}<extra></extra>",
           "hovertext": [
            "Italy",
            "Russia",
            "China",
            "Albania",
            "Bangladesh",
            "Botswana",
            "Cambodia",
            "Croatia",
            "Greece",
            "Sweden",
            "Finland",
            "Norway",
            "Malaysia",
            "Israel",
            "Lithuania",
            "Serbia",
            "Slovakia",
            "Slovenia",
            "Turkey",
            "Vietnam",
            "Bulgaria",
            "Czechia",
            "Denmark",
            "Georgia",
            "Germany",
            "Hungary",
            "Iceland",
            "Japan",
            "Kazakhstan",
            "South Korea",
            "Kyrgyzstan",
            "Netherlands",
            "Poland",
            "Romania",
            "Tajikistan",
            "Thailand",
            "Azerbaijan",
            "Mongolia"
           ],
           "locations": [
            "ITA",
            "RUS",
            "CHN",
            "ALB",
            "BGD",
            "BWA",
            "KHM",
            "HRV",
            "GRC",
            "SWE",
            "FIN",
            "NOR",
            "MYS",
            "ISR",
            "LTU",
            "SRB",
            "SVK",
            "SVN",
            "TUR",
            "VNM",
            "BGR",
            "CZE",
            "DNK",
            "GEO",
            "DEU",
            "HUN",
            "ISL",
            "JPN",
            "KAZ",
            "PRK",
            "KGZ",
            "NLD",
            "POL",
            "ROU",
            "TJK",
            "THA",
            "AZE",
            "MNG"
           ],
           "name": "",
           "type": "choropleth",
           "z": [
            222.95719863338863,
            4.402624975082968,
            5.8894479484090425,
            13.284709651570608,
            0.07468605307726485,
            0.2551427204592569,
            0.6818601455795336,
            30.190133607399794,
            16.40101691912084,
            73.0288535928438,
            45.37445499564792,
            109.02550899483687,
            11.71908865594072,
            100.30818981888422,
            23.185211556110538,
            31.888097129984292,
            9.782321366843096,
            48.563107544214546,
            35.82799890352119,
            0.25169875341209763,
            7.917490804389665,
            45.07444387465229,
            80.27226376358077,
            5.050076342111512,
            114.70659079556779,
            7.630652618744596,
            426.23675514308405,
            3.2535779060834304,
            3.529600068587274,
            19.837473162356552,
            3.282724661469019,
            112.47312444457185,
            11.644085197868971,
            21.06709482840989,
            0,
            3.174786100935447,
            6.350860155149235,
            0.42705164762626396
           ]
          }
         ],
         "name": "2020-04-06"
        },
        {
         "data": [
          {
           "coloraxis": "coloraxis",
           "geo": "geo",
           "hovertemplate": "<b>%{hovertext}</b><br><br>date=2020-04-11<br>Country_code=%{location}<br>Cases=%{z}<extra></extra>",
           "hovertext": [
            "Italy",
            "Russia",
            "China",
            "Albania",
            "Bangladesh",
            "Botswana",
            "Cambodia",
            "Croatia",
            "Greece",
            "Sweden",
            "Finland",
            "Norway",
            "Malaysia",
            "Israel",
            "Lithuania",
            "Serbia",
            "Slovakia",
            "Slovenia",
            "Turkey",
            "Vietnam",
            "Bulgaria",
            "Czechia",
            "Denmark",
            "Georgia",
            "Germany",
            "Hungary",
            "Iceland",
            "Japan",
            "Kazakhstan",
            "South Korea",
            "Kyrgyzstan",
            "Netherlands",
            "Poland",
            "Romania",
            "Tajikistan",
            "Thailand",
            "Azerbaijan",
            "Mongolia"
           ],
           "locations": [
            "ITA",
            "RUS",
            "CHN",
            "ALB",
            "BGD",
            "BWA",
            "KHM",
            "HRV",
            "GRC",
            "SWE",
            "FIN",
            "NOR",
            "MYS",
            "ISR",
            "LTU",
            "SRB",
            "SVK",
            "SVN",
            "TUR",
            "VNM",
            "BGR",
            "CZE",
            "DNK",
            "GEO",
            "DEU",
            "HUN",
            "ISL",
            "JPN",
            "KAZ",
            "PRK",
            "KGZ",
            "NLD",
            "POL",
            "ROU",
            "TJK",
            "THA",
            "AZE",
            "MNG"
           ],
           "name": "",
           "type": "choropleth",
           "z": [
            256.1349226546412,
            9.428544483923543,
            5.925589965275318,
            15.258035223156694,
            0.29267217547350943,
            0.5528092276617232,
            0.7177475216626669,
            37.89825282631038,
            19.44758758329941,
            100.91330013728768,
            59.40816447218152,
            119.1380199740681,
            13.996169683999858,
            119.41812894054324,
            30.341141048737246,
            48.9917128633395,
            13.336198417718679,
            56.506338650858844,
            61.853897435218244,
            0.26505419747069875,
            9.532716615121254,
            54.50623853859342,
            102.82257926221541,
            6.500630185058435,
            141.4824046275321,
            13.435692110961586,
            460.89236839735526,
            5.503678887384069,
            4.611939666658598,
            20.215587014327948,
            5.152053982583322,
            146.98850442909153,
            16.770860076513753,
            31.104732073496486,
            0,
            3.6017203329204492,
            10.482386964349283,
            0.48805902585858735
           ]
          }
         ],
         "name": "2020-04-11"
        },
        {
         "data": [
          {
           "coloraxis": "coloraxis",
           "geo": "geo",
           "hovertemplate": "<b>%{hovertext}</b><br><br>date=2020-04-16<br>Country_code=%{location}<br>Cases=%{z}<extra></extra>",
           "hovertext": [
            "Italy",
            "Russia",
            "China",
            "Albania",
            "Bangladesh",
            "Botswana",
            "Cambodia",
            "Croatia",
            "Greece",
            "Sweden",
            "Finland",
            "Norway",
            "Malaysia",
            "Israel",
            "Lithuania",
            "Serbia",
            "Slovakia",
            "Slovenia",
            "Turkey",
            "Vietnam",
            "Bulgaria",
            "Czechia",
            "Denmark",
            "Georgia",
            "Germany",
            "Hungary",
            "Iceland",
            "Japan",
            "Kazakhstan",
            "South Korea",
            "Kyrgyzstan",
            "Netherlands",
            "Poland",
            "Romania",
            "Tajikistan",
            "Thailand",
            "Azerbaijan",
            "Mongolia"
           ],
           "locations": [
            "ITA",
            "RUS",
            "CHN",
            "ALB",
            "BGD",
            "BWA",
            "KHM",
            "HRV",
            "GRC",
            "SWE",
            "FIN",
            "NOR",
            "MYS",
            "ISR",
            "LTU",
            "SRB",
            "SVK",
            "SVN",
            "TUR",
            "VNM",
            "BGR",
            "CZE",
            "DNK",
            "GEO",
            "DEU",
            "HUN",
            "ISL",
            "JPN",
            "KAZ",
            "PRK",
            "KGZ",
            "NLD",
            "POL",
            "ROU",
            "TJK",
            "THA",
            "AZE",
            "MNG"
           ],
           "name": "",
           "type": "choropleth",
           "z": [
            284.17551581192566,
            19.39153973732744,
            5.964495783431365,
            18.253261537171287,
            0.9545241905484582,
            0.6378568011481422,
            0.7297099803570447,
            44.24756897778481,
            20.625096490313215,
            126.09333205324376,
            69.8430231937793,
            128.19094800143137,
            16.010629426597628,
            141.07823029592734,
            34.02644473744,
            77.08222751693475,
            17.89761793147136,
            60.31147930074833,
            87.9699084174123,
            0.275327615977315,
            11.53732721951135,
            60.1335332736703,
            117.9647302776484,
            9.348013654546842,
            156.8646388997056,
            16.943330814739344,
            474.5363106234463,
            7.441727849454701,
            7.475074465497519,
            20.472164271022827,
            7.082174501132236,
            174.90468136341485,
            20.892333241950265,
            40.02072956434681,
            0,
            3.822350774952966,
            12.711628048450029,
            0.9456143626010131
           ]
          }
         ],
         "name": "2020-04-16"
        },
        {
         "data": [
          {
           "coloraxis": "coloraxis",
           "geo": "geo",
           "hovertemplate": "<b>%{hovertext}</b><br><br>date=2020-04-21<br>Country_code=%{location}<br>Cases=%{z}<extra></extra>",
           "hovertext": [
            "Italy",
            "Russia",
            "China",
            "Albania",
            "Bangladesh",
            "Botswana",
            "Cambodia",
            "Croatia",
            "Greece",
            "Sweden",
            "Finland",
            "Norway",
            "Malaysia",
            "Israel",
            "Lithuania",
            "Serbia",
            "Slovakia",
            "Slovenia",
            "Turkey",
            "Vietnam",
            "Bulgaria",
            "Czechia",
            "Denmark",
            "Georgia",
            "Germany",
            "Hungary",
            "Iceland",
            "Japan",
            "Kazakhstan",
            "South Korea",
            "Kyrgyzstan",
            "Netherlands",
            "Poland",
            "Romania",
            "Tajikistan",
            "Thailand",
            "Azerbaijan",
            "Mongolia"
           ],
           "locations": [
            "ITA",
            "RUS",
            "CHN",
            "ALB",
            "BGD",
            "BWA",
            "KHM",
            "HRV",
            "GRC",
            "SWE",
            "FIN",
            "NOR",
            "MYS",
            "ISR",
            "LTU",
            "SRB",
            "SVK",
            "SVN",
            "TUR",
            "VNM",
            "BGR",
            "CZE",
            "DNK",
            "GEO",
            "DEU",
            "HUN",
            "ISL",
            "JPN",
            "KAZ",
            "PRK",
            "KGZ",
            "NLD",
            "POL",
            "ROU",
            "TJK",
            "THA",
            "AZE",
            "MNG"
           ],
           "name": "",
           "type": "choropleth",
           "z": [
            309.4339169426865,
            36.62237136375573,
            6.011693005456736,
            21.459915590998676,
            2.0535628577830063,
            0.8504757348641896,
            0.7297099803570447,
            47.138113684876274,
            22.43808639476304,
            152.90567136996566,
            79.08429322278532,
            133.67475450671301,
            16.937528081167155,
            156.76986684897614,
            41.71906894201371,
            99.86772237526898,
            21.964425690720734,
            63.92636291814333,
            113.34130599286804,
            0.275327615977315,
            14.061117548779459,
            65.7421326774014,
            131.95792985702928,
            10.95974014671009,
            172.50540822257622,
            21.517619884578174,
            485.1785855597973,
            9.218206730502688,
            10.636785705183703,
            20.607204932441185,
            8.966701621605193,
            200.14906974744144,
            26.00591518472617,
            47.99164170672028,
            0,
            4.021491238865433,
            14.663452464307126,
            1.037125429949498
           ]
          }
         ],
         "name": "2020-04-21"
        },
        {
         "data": [
          {
           "coloraxis": "coloraxis",
           "geo": "geo",
           "hovertemplate": "<b>%{hovertext}</b><br><br>date=2020-04-26<br>Country_code=%{location}<br>Cases=%{z}<extra></extra>",
           "hovertext": [
            "Italy",
            "Russia",
            "China",
            "Albania",
            "Bangladesh",
            "Botswana",
            "Cambodia",
            "Croatia",
            "Greece",
            "Sweden",
            "Finland",
            "Norway",
            "Malaysia",
            "Israel",
            "Lithuania",
            "Serbia",
            "Slovakia",
            "Slovenia",
            "Turkey",
            "Vietnam",
            "Bulgaria",
            "Czechia",
            "Denmark",
            "Georgia",
            "Germany",
            "Hungary",
            "Iceland",
            "Japan",
            "Kazakhstan",
            "South Korea",
            "Kyrgyzstan",
            "Netherlands",
            "Poland",
            "Romania",
            "Tajikistan",
            "Thailand",
            "Azerbaijan",
            "Mongolia"
           ],
           "locations": [
            "ITA",
            "RUS",
            "CHN",
            "ALB",
            "BGD",
            "BWA",
            "KHM",
            "HRV",
            "GRC",
            "SWE",
            "FIN",
            "NOR",
            "MYS",
            "ISR",
            "LTU",
            "SRB",
            "SVK",
            "SVN",
            "TUR",
            "VNM",
            "BGR",
            "CZE",
            "DNK",
            "GEO",
            "DEU",
            "HUN",
            "ISL",
            "JPN",
            "KAZ",
            "PRK",
            "KGZ",
            "NLD",
            "POL",
            "ROU",
            "TJK",
            "THA",
            "AZE",
            "MNG"
           ],
           "name": "",
           "type": "choropleth",
           "z": [
            332.5089533513025,
            56.18604589437035,
            6.025937212104032,
            25.582756517348173,
            3.2886151501338734,
            0.9355233083506087,
            0.7297099803570447,
            50.15218594355285,
            23.522142213918606,
            182.1906183470193,
            88.48832534623565,
            139.92071717035586,
            17.858247411372883,
            167.52395524736573,
            44.5814407390644,
            116.56548959969712,
            25.261837387409418,
            66.3997043405715,
            130.58005491097026,
            0.27738229967863826,
            18.748156731705947,
            69.2101166420418,
            147.04863528577337,
            13.054984586522313,
            185.39368112197863,
            25.640633799545014,
            488.9988893831028,
            10.6153127252279,
            14.486289103250185,
            20.71330830926989,
            10.364899162601255,
            219.7001404695697,
            30.652467197743906,
            57.30748299884928,
            0,
            4.180517076953807,
            16.29822925931434,
            1.1591401864141448
           ]
          }
         ],
         "name": "2020-04-26"
        },
        {
         "data": [
          {
           "coloraxis": "coloraxis",
           "geo": "geo",
           "hovertemplate": "<b>%{hovertext}</b><br><br>date=2020-05-01<br>Country_code=%{location}<br>Cases=%{z}<extra></extra>",
           "hovertext": [
            "Italy",
            "Russia",
            "China",
            "Albania",
            "Bangladesh",
            "Botswana",
            "Cambodia",
            "Croatia",
            "Greece",
            "Sweden",
            "Finland",
            "Norway",
            "Malaysia",
            "Israel",
            "Lithuania",
            "Serbia",
            "Slovakia",
            "Slovenia",
            "Turkey",
            "Vietnam",
            "Bulgaria",
            "Czechia",
            "Denmark",
            "Georgia",
            "Germany",
            "Hungary",
            "Iceland",
            "Japan",
            "Kazakhstan",
            "South Korea",
            "Kyrgyzstan",
            "Netherlands",
            "Poland",
            "Romania",
            "Tajikistan",
            "Thailand",
            "Azerbaijan",
            "Mongolia"
           ],
           "locations": [
            "ITA",
            "RUS",
            "CHN",
            "ALB",
            "BGD",
            "BWA",
            "KHM",
            "HRV",
            "GRC",
            "SWE",
            "FIN",
            "NOR",
            "MYS",
            "ISR",
            "LTU",
            "SRB",
            "SVK",
            "SVN",
            "TUR",
            "VNM",
            "BGR",
            "CZE",
            "DNK",
            "GEO",
            "DEU",
            "HUN",
            "ISL",
            "JPN",
            "KAZ",
            "PRK",
            "KGZ",
            "NLD",
            "POL",
            "ROU",
            "TJK",
            "THA",
            "AZE",
            "MNG"
           ],
           "name": "",
           "type": "choropleth",
           "z": [
            348.91446655244204,
            79.42563117195635,
            6.0391892849549995,
            27.55608208893426,
            5.00214394512608,
            0.978047095093818,
            0.7297099803570447,
            51.510989010989015,
            24.40994654857187,
            213.7743177582875,
            98.05511956413034,
            144.67954586646468,
            18.757339106305327,
            174.32800512202797,
            47.12179570894688,
            130.58175774728568,
            25.701492280301245,
            68.20714614926901,
            145.11898738457705,
            0.27738229967863826,
            22.425679782925187,
            72.32288931111256,
            159.66995255345026,
            15.203953242739978,
            193.30966362774146,
            29.36365382723895,
            490.63616245023377,
            11.528500487086275,
            19.178204602278587,
            20.794332706120905,
            11.489536315141567,
            231.12690995613906,
            34.578684912321066,
            65.25762403466283,
            0.15727157718857554,
            4.234958354857934,
            18.368946532990144,
            1.1591401864141448
           ]
          }
         ],
         "name": "2020-05-01"
        },
        {
         "data": [
          {
           "coloraxis": "coloraxis",
           "geo": "geo",
           "hovertemplate": "<b>%{hovertext}</b><br><br>date=2020-05-06<br>Country_code=%{location}<br>Cases=%{z}<extra></extra>",
           "hovertext": [
            "Italy",
            "Russia",
            "China",
            "Albania",
            "Bangladesh",
            "Botswana",
            "Cambodia",
            "Croatia",
            "Greece",
            "Sweden",
            "Finland",
            "Norway",
            "Malaysia",
            "Israel",
            "Lithuania",
            "Serbia",
            "Slovakia",
            "Slovenia",
            "Turkey",
            "Vietnam",
            "Bulgaria",
            "Czechia",
            "Denmark",
            "Georgia",
            "Germany",
            "Hungary",
            "Iceland",
            "Japan",
            "Kazakhstan",
            "South Korea",
            "Kyrgyzstan",
            "Netherlands",
            "Poland",
            "Romania",
            "Tajikistan",
            "Thailand",
            "Azerbaijan",
            "Mongolia"
           ],
           "locations": [
            "ITA",
            "RUS",
            "CHN",
            "ALB",
            "BGD",
            "BWA",
            "KHM",
            "HRV",
            "GRC",
            "SWE",
            "FIN",
            "NOR",
            "MYS",
            "ISR",
            "LTU",
            "SRB",
            "SVK",
            "SVN",
            "TUR",
            "VNM",
            "BGR",
            "CZE",
            "DNK",
            "GEO",
            "DEU",
            "HUN",
            "ISL",
            "JPN",
            "KAZ",
            "PRK",
            "KGZ",
            "NLD",
            "POL",
            "ROU",
            "TJK",
            "THA",
            "AZE",
            "MNG"
           ],
           "name": "",
           "type": "choropleth",
           "z": [
            360.7379416155826,
            115.1699762715658,
            6.044291687336121,
            29.317979920707547,
            7.1158199675810305,
            0.978047095093818,
            0.7297099803570447,
            52.35097636176773,
            24.886557296648885,
            237.3317008971509,
            105.74110735733495,
            148.63904005502397,
            19.860348505243063,
            176.867315601567,
            48.159405485377754,
            141.91652681803464,
            26.177785080934054,
            68.87304576299967,
            156.20756155625958,
            0.27840964152929987,
            25.641709745363976,
            74.53828607558634,
            170.42208017143042,
            16.385886003659696,
            198.1785400011022,
            31.907204700153812,
            490.9090412947555,
            12.238933637465252,
            23.57687538261771,
            20.8522072753002,
            13.237283241386647,
            239.94495886248316,
            38.89277494144316,
            73.25450006023621,
            3.072038141083509,
            4.2765056458900315,
            21.073759048365712,
            1.25065125376263
           ]
          }
         ],
         "name": "2020-05-06"
        },
        {
         "data": [
          {
           "coloraxis": "coloraxis",
           "geo": "geo",
           "hovertemplate": "<b>%{hovertext}</b><br><br>date=2020-05-11<br>Country_code=%{location}<br>Cases=%{z}<extra></extra>",
           "hovertext": [
            "Italy",
            "Russia",
            "China",
            "Albania",
            "Bangladesh",
            "Botswana",
            "Cambodia",
            "Croatia",
            "Greece",
            "Sweden",
            "Finland",
            "Norway",
            "Malaysia",
            "Israel",
            "Lithuania",
            "Serbia",
            "Slovakia",
            "Slovenia",
            "Turkey",
            "Vietnam",
            "Bulgaria",
            "Czechia",
            "Denmark",
            "Georgia",
            "Germany",
            "Hungary",
            "Iceland",
            "Japan",
            "Kazakhstan",
            "South Korea",
            "Kyrgyzstan",
            "Netherlands",
            "Poland",
            "Romania",
            "Tajikistan",
            "Thailand",
            "Azerbaijan",
            "Mongolia"
           ],
           "locations": [
            "ITA",
            "RUS",
            "CHN",
            "ALB",
            "BGD",
            "BWA",
            "KHM",
            "HRV",
            "GRC",
            "SWE",
            "FIN",
            "NOR",
            "MYS",
            "ISR",
            "LTU",
            "SRB",
            "SVK",
            "SVN",
            "TUR",
            "VNM",
            "BGR",
            "CZE",
            "DNK",
            "GEO",
            "DEU",
            "HUN",
            "ISL",
            "JPN",
            "KAZ",
            "PRK",
            "KGZ",
            "NLD",
            "POL",
            "ROU",
            "TJK",
            "THA",
            "AZE",
            "MNG"
           ],
           "name": "",
           "type": "choropleth",
           "z": [
            369.7489468671467,
            153.6330793764409,
            6.051094890510949,
            30.72749818612618,
            9.527632998661486,
            1.0205708818370276,
            0.7297099803570447,
            54.253300656178354,
            25.47531175015579,
            263.69008490123383,
            112.2335064579478,
            151.16716779983176,
            20.78106783544879,
            178.8314831092446,
            50.413523275555164,
            147.4969438157819,
            26.69071578930785,
            69.4438168604831,
            165.7250962949353,
            0.29587445299054743,
            28.699101458534486,
            76.42651454150915,
            180.28248428680297,
            17.138025033335875,
            203.91200568353833,
            33.681536559082325,
            491.4547989837992,
            12.560489779108355,
            27.762277276637363,
            21.095280465853243,
            15.440964148391313,
            246.8824355703351,
            43.07757419905027,
            80.94500226405061,
            6.416680349293882,
            4.313754941298119,
            25.651134074385908,
            1.2811549428787916
           ]
          }
         ],
         "name": "2020-05-11"
        },
        {
         "data": [
          {
           "coloraxis": "coloraxis",
           "geo": "geo",
           "hovertemplate": "<b>%{hovertext}</b><br><br>date=2020-05-16<br>Country_code=%{location}<br>Cases=%{z}<extra></extra>",
           "hovertext": [
            "Italy",
            "Russia",
            "China",
            "Albania",
            "Bangladesh",
            "Botswana",
            "Cambodia",
            "Croatia",
            "Greece",
            "Sweden",
            "Finland",
            "Norway",
            "Malaysia",
            "Israel",
            "Lithuania",
            "Serbia",
            "Slovakia",
            "Slovenia",
            "Turkey",
            "Vietnam",
            "Bulgaria",
            "Czechia",
            "Denmark",
            "Georgia",
            "Germany",
            "Hungary",
            "Iceland",
            "Japan",
            "Kazakhstan",
            "South Korea",
            "Kyrgyzstan",
            "Netherlands",
            "Poland",
            "Romania",
            "Tajikistan",
            "Thailand",
            "Azerbaijan",
            "Mongolia"
           ],
           "locations": [
            "ITA",
            "RUS",
            "CHN",
            "ALB",
            "BGD",
            "BWA",
            "KHM",
            "HRV",
            "GRC",
            "SWE",
            "FIN",
            "NOR",
            "MYS",
            "ISR",
            "LTU",
            "SRB",
            "SVK",
            "SVN",
            "TUR",
            "VNM",
            "BGR",
            "CZE",
            "DNK",
            "GEO",
            "DEU",
            "HUN",
            "ISL",
            "JPN",
            "KAZ",
            "PRK",
            "KGZ",
            "NLD",
            "POL",
            "ROU",
            "TJK",
            "THA",
            "AZE",
            "MNG"
           ],
           "name": "",
           "type": "choropleth",
           "z": [
            378.06860936000385,
            188.8228450412259,
            6.057118559988662,
            32.87701354088959,
            12.7482413362372,
            1.0205708818370276,
            0.7297099803570447,
            54.94505494505494,
            26.344425467237407,
            294.2113357084533,
            118.41846604683244,
            153.11903113222016,
            21.232158514005963,
            179.92751028203708,
            52.45296318095378,
            152.13521248923414,
            27.350198128645584,
            69.68163815110118,
            175.56158168076485,
            0.32669470851039617,
            31.367108378046485,
            79.03451326424411,
            186.1987267560265,
            18.346819902458314,
            208.9588503708673,
            35.61996847432793,
            491.727677828321,
            12.83056525768052,
            31.19057462422289,
            21.315203828734568,
            16.975941883615253,
            252.6846888169022,
            48.17268603160975,
            86.74014099427133,
            11.721974886455163,
            4.328081593378152,
            31.09048231959173,
            4.1179980306818305
           ]
          }
         ],
         "name": "2020-05-16"
        },
        {
         "data": [
          {
           "coloraxis": "coloraxis",
           "geo": "geo",
           "hovertemplate": "<b>%{hovertext}</b><br><br>date=2020-05-21<br>Country_code=%{location}<br>Cases=%{z}<extra></extra>",
           "hovertext": [
            "Italy",
            "Russia",
            "China",
            "Albania",
            "Bangladesh",
            "Botswana",
            "Cambodia",
            "Croatia",
            "Greece",
            "Sweden",
            "Finland",
            "Norway",
            "Malaysia",
            "Israel",
            "Lithuania",
            "Serbia",
            "Slovakia",
            "Slovenia",
            "Turkey",
            "Vietnam",
            "Bulgaria",
            "Czechia",
            "Denmark",
            "Georgia",
            "Germany",
            "Hungary",
            "Iceland",
            "Japan",
            "Kazakhstan",
            "South Korea",
            "Kyrgyzstan",
            "Netherlands",
            "Poland",
            "Romania",
            "Tajikistan",
            "Thailand",
            "Azerbaijan",
            "Mongolia"
           ],
           "locations": [
            "ITA",
            "RUS",
            "CHN",
            "ALB",
            "BGD",
            "BWA",
            "KHM",
            "HRV",
            "GRC",
            "SWE",
            "FIN",
            "NOR",
            "MYS",
            "ISR",
            "LTU",
            "SRB",
            "SVK",
            "SVN",
            "TUR",
            "VNM",
            "BGR",
            "CZE",
            "DNK",
            "GEO",
            "DEU",
            "HUN",
            "ISL",
            "JPN",
            "KAZ",
            "PRK",
            "KGZ",
            "NLD",
            "POL",
            "ROU",
            "TJK",
            "THA",
            "AZE",
            "MNG"
           ],
           "name": "",
           "type": "choropleth",
           "z": [
            383.52870326453564,
            220.41166188514848,
            6.06484303026008,
            34.14557997976637,
            17.31198422183657,
            1.2331898155530752,
            0.7356912097042335,
            55.26622657917622,
            26.662165965955413,
            321.01401640150203,
            121.72796196720054,
            154.45745170300074,
            21.80992534202097,
            180.96927868389926,
            54.56396238127866,
            158.26642389195385,
            27.515068713480023,
            69.82433092547204,
            182.06034932779136,
            0.33285875961436584,
            33.6168871858512,
            81.82946530043678,
            191.75485011842775,
            19.367580014161703,
            212.5422664223899,
            37.34301906565735,
            492.0005566728428,
            12.957286889855142,
            38.56967809087664,
            21.492685840884405,
            19.954710557911213,
            257.80466129633345,
            53.14906144134935,
            91.3149772140961,
            22.437411678903445,
            4.3452735758741925,
            37.1441103301942,
            4.270516476262639
           ]
          }
         ],
         "name": "2020-05-21"
        },
        {
         "data": [
          {
           "coloraxis": "coloraxis",
           "geo": "geo",
           "hovertemplate": "<b>%{hovertext}</b><br><br>date=2020-05-26<br>Country_code=%{location}<br>Cases=%{z}<extra></extra>",
           "hovertext": [
            "Italy",
            "Russia",
            "China",
            "Albania",
            "Bangladesh",
            "Botswana",
            "Cambodia",
            "Croatia",
            "Greece",
            "Sweden",
            "Finland",
            "Norway",
            "Malaysia",
            "Israel",
            "Lithuania",
            "Serbia",
            "Slovakia",
            "Slovenia",
            "Turkey",
            "Vietnam",
            "Bulgaria",
            "Czechia",
            "Denmark",
            "Georgia",
            "Germany",
            "Hungary",
            "Iceland",
            "Japan",
            "Kazakhstan",
            "South Korea",
            "Kyrgyzstan",
            "Netherlands",
            "Poland",
            "Romania",
            "Tajikistan",
            "Thailand",
            "Azerbaijan",
            "Mongolia"
           ],
           "locations": [
            "ITA",
            "RUS",
            "CHN",
            "ALB",
            "BGD",
            "BWA",
            "KHM",
            "HRV",
            "GRC",
            "SWE",
            "FIN",
            "NOR",
            "MYS",
            "ISR",
            "LTU",
            "SRB",
            "SVK",
            "SVN",
            "TUR",
            "VNM",
            "BGR",
            "CZE",
            "DNK",
            "GEO",
            "DEU",
            "HUN",
            "ISL",
            "JPN",
            "KAZ",
            "PRK",
            "KGZ",
            "NLD",
            "POL",
            "ROU",
            "TJK",
            "THA",
            "AZE",
            "MNG"
           ],
           "name": "",
           "type": "choropleth",
           "z": [
            387.8163740478541,
            251.49865027928627,
            6.078874636808164,
            36.25985737789431,
            22.31534257432976,
            1.4883325360123318,
            0.7416724390514224,
            55.439165151395365,
            26.998597082245073,
            344.0111993673215,
            124.20556273818649,
            155.83305062296972,
            23.49379123115561,
            182.15211989018024,
            56.20982616458279,
            162.73075749015166,
            27.716577206055437,
            69.87189518359565,
            188.24253770794024,
            0.33594078516635073,
            35.232112996582785,
            84.59637433961079,
            195.97338822691756,
            19.663063204391634,
            215.24786579015026,
            38.67633202323369,
            492.27343551736465,
            13.068168318007935,
            47.82021603498377,
            21.729971574519517,
            22.31036945850241,
            262.850098902044,
            58.244173273908835,
            95.69768069824151,
            32.50279261897228,
            4.35673489753822,
            43.6237710813137,
            4.301020165378801
           ]
          }
         ],
         "name": "2020-05-26"
        },
        {
         "data": [
          {
           "coloraxis": "coloraxis",
           "geo": "geo",
           "hovertemplate": "<b>%{hovertext}</b><br><br>date=2020-05-31<br>Country_code=%{location}<br>Cases=%{z}<extra></extra>",
           "hovertext": [
            "Italy",
            "Russia",
            "China",
            "Albania",
            "Bangladesh",
            "Botswana",
            "Cambodia",
            "Croatia",
            "Greece",
            "Sweden",
            "Finland",
            "Norway",
            "Malaysia",
            "Israel",
            "Lithuania",
            "Serbia",
            "Slovakia",
            "Slovenia",
            "Turkey",
            "Vietnam",
            "Bulgaria",
            "Czechia",
            "Denmark",
            "Georgia",
            "Germany",
            "Hungary",
            "Iceland",
            "Japan",
            "Kazakhstan",
            "South Korea",
            "Kyrgyzstan",
            "Netherlands",
            "Poland",
            "Romania",
            "Tajikistan",
            "Thailand",
            "Azerbaijan",
            "Mongolia"
           ],
           "locations": [
            "ITA",
            "RUS",
            "CHN",
            "ALB",
            "BGD",
            "BWA",
            "KHM",
            "HRV",
            "GRC",
            "SWE",
            "FIN",
            "NOR",
            "MYS",
            "ISR",
            "LTU",
            "SRB",
            "SVK",
            "SVN",
            "TUR",
            "VNM",
            "BGR",
            "CZE",
            "DNK",
            "GEO",
            "DEU",
            "HUN",
            "ISL",
            "JPN",
            "KAZ",
            "PRK",
            "KGZ",
            "NLD",
            "POL",
            "ROU",
            "TJK",
            "THA",
            "AZE",
            "MNG"
           ],
           "name": "",
           "type": "choropleth",
           "z": [
            391.92406022002496,
            281.6923423872926,
            6.085040039685352,
            40.06555669452462,
            28.631475290668856,
            1.4883325360123318,
            0.7476536683986114,
            55.48857617202941,
            27.260265728248143,
            373.4120498284532,
            126.12253851719754,
            156.8926335748377,
            24.15806860026377,
            185.90682683855846,
            57.46211382579247,
            165.41225656699123,
            27.86312883701938,
            70.06215221609014,
            194.38441262339313,
            0.3369681270170124,
            36.24162912829003,
            86.63416545629975,
            200.10618369092592,
            21.03303072273039,
            218.23003753772613,
            39.75323864281459,
            492.81919320640833,
            13.257458756068779,
            57.89183919142088,
            22.189109823341926,
            26.56575327892521,
            267.3049909698134,
            62.76143451541159,
            99.9972997561472,
            39.91552629046047,
            4.408310845026341,
            54.433113404664425,
            5.460160351792946
           ]
          }
         ],
         "name": "2020-05-31"
        },
        {
         "data": [
          {
           "coloraxis": "coloraxis",
           "geo": "geo",
           "hovertemplate": "<b>%{hovertext}</b><br><br>date=2020-06-05<br>Country_code=%{location}<br>Cases=%{z}<extra></extra>",
           "hovertext": [
            "Italy",
            "Russia",
            "China",
            "Albania",
            "Bangladesh",
            "Botswana",
            "Cambodia",
            "Croatia",
            "Greece",
            "Sweden",
            "Finland",
            "Norway",
            "Malaysia",
            "Israel",
            "Lithuania",
            "Serbia",
            "Slovakia",
            "Slovenia",
            "Turkey",
            "Vietnam",
            "Bulgaria",
            "Czechia",
            "Denmark",
            "Georgia",
            "Germany",
            "Hungary",
            "Iceland",
            "Japan",
            "Kazakhstan",
            "South Korea",
            "Kyrgyzstan",
            "Netherlands",
            "Poland",
            "Romania",
            "Tajikistan",
            "Thailand",
            "Azerbaijan",
            "Mongolia"
           ],
           "locations": [
            "ITA",
            "RUS",
            "CHN",
            "ALB",
            "BGD",
            "BWA",
            "KHM",
            "HRV",
            "GRC",
            "SWE",
            "FIN",
            "NOR",
            "MYS",
            "ISR",
            "LTU",
            "SRB",
            "SVK",
            "SVN",
            "TUR",
            "VNM",
            "BGR",
            "CZE",
            "DNK",
            "GEO",
            "DEU",
            "HUN",
            "ISL",
            "JPN",
            "KAZ",
            "PRK",
            "KGZ",
            "NLD",
            "POL",
            "ROU",
            "TJK",
            "THA",
            "AZE",
            "MNG"
           ],
           "name": "",
           "type": "choropleth",
           "z": [
            394.5044003461962,
            311.82495440735835,
            6.088370774573028,
            42.708403442184554,
            36.669637653569936,
            1.7009514697283792,
            0.7476536683986114,
            55.51328168234643,
            28.49384648797689,
            419.5802709862092,
            127.58739736719654,
            158.41694589156003,
            25.539147595572366,
            192.27680654577813,
            58.356605012370814,
            169.1083769161485,
            27.954723606371843,
            70.34753776483184,
            199.5990778508375,
            0.3369681270170124,
            37.8856982570704,
            89.07390619692279,
            203.6387806435637,
            21.623997103190252,
            220.38128965724758,
            40.71732647367748,
            492.81919320640833,
            13.422196877895786,
            65.64416320913371,
            22.605806721432856,
            29.422939558351953,
            271.8344179113035,
            67.04650008562216,
            104.3903887935726,
            44.969186304120036,
            4.4383968143944115,
            67.96708371969383,
            5.673686175606078
           ]
          }
         ],
         "name": "2020-06-05"
        },
        {
         "data": [
          {
           "coloraxis": "coloraxis",
           "geo": "geo",
           "hovertemplate": "<b>%{hovertext}</b><br><br>date=2020-06-10<br>Country_code=%{location}<br>Cases=%{z}<extra></extra>",
           "hovertext": [
            "Italy",
            "Russia",
            "China",
            "Albania",
            "Bangladesh",
            "Botswana",
            "Cambodia",
            "Croatia",
            "Greece",
            "Sweden",
            "Finland",
            "Norway",
            "Malaysia",
            "Israel",
            "Lithuania",
            "Serbia",
            "Slovakia",
            "Slovenia",
            "Turkey",
            "Vietnam",
            "Bulgaria",
            "Czechia",
            "Denmark",
            "Georgia",
            "Germany",
            "Hungary",
            "Iceland",
            "Japan",
            "Kazakhstan",
            "South Korea",
            "Kyrgyzstan",
            "Netherlands",
            "Poland",
            "Romania",
            "Tajikistan",
            "Thailand",
            "Azerbaijan",
            "Mongolia"
           ],
           "locations": [
            "ITA",
            "RUS",
            "CHN",
            "ALB",
            "BGD",
            "BWA",
            "KHM",
            "HRV",
            "GRC",
            "SWE",
            "FIN",
            "NOR",
            "MYS",
            "ISR",
            "LTU",
            "SRB",
            "SVK",
            "SVN",
            "TUR",
            "VNM",
            "BGR",
            "CZE",
            "DNK",
            "GEO",
            "DEU",
            "HUN",
            "ISL",
            "JPN",
            "KAZ",
            "PRK",
            "KGZ",
            "NLD",
            "POL",
            "ROU",
            "TJK",
            "THA",
            "AZE",
            "MNG"
           ],
           "name": "",
           "type": "choropleth",
           "z": [
            396.5767465231473,
            342.20327496300337,
            6.092622776557295,
            47.25409984815965,
            45.45830376934499,
            2.041141763674055,
            0.7536348977458003,
            55.56269270298047,
            28.67140735490754,
            461.06405966247746,
            128.45546187089963,
            159.75536646234065,
            25.76160327266905,
            201.06672743649014,
            60.07402809060122,
            174.38440753220044,
            28.082956283465293,
            70.77561608794441,
            205.1670787394411,
            0.34107749441965884,
            43.16402545999684,
            91.83146757042391,
            206.05672321794202,
            22.21496348365011,
            222.29324654379823,
            41.3019329243071,
            493.0920720509301,
            13.569510775298786,
            71.01320742222643,
            23.0456534471955,
            31.808994057660453,
            277.08625978270214,
            73.4635440922429,
            108.76270672443803,
            49.17357980096129,
            4.471348114178489,
            84.51300643279714,
            5.917715688535371
           ]
          }
         ],
         "name": "2020-06-10"
        },
        {
         "data": [
          {
           "coloraxis": "coloraxis",
           "geo": "geo",
           "hovertemplate": "<b>%{hovertext}</b><br><br>date=2020-06-15<br>Country_code=%{location}<br>Cases=%{z}<extra></extra>",
           "hovertext": [
            "Italy",
            "Russia",
            "China",
            "Albania",
            "Bangladesh",
            "Botswana",
            "Cambodia",
            "Croatia",
            "Greece",
            "Sweden",
            "Finland",
            "Norway",
            "Malaysia",
            "Israel",
            "Lithuania",
            "Serbia",
            "Slovakia",
            "Slovenia",
            "Turkey",
            "Vietnam",
            "Bulgaria",
            "Czechia",
            "Denmark",
            "Georgia",
            "Germany",
            "Hungary",
            "Iceland",
            "Japan",
            "Kazakhstan",
            "South Korea",
            "Kyrgyzstan",
            "Netherlands",
            "Poland",
            "Romania",
            "Tajikistan",
            "Thailand",
            "Azerbaijan",
            "Mongolia"
           ],
           "locations": [
            "ITA",
            "RUS",
            "CHN",
            "ALB",
            "BGD",
            "BWA",
            "KHM",
            "HRV",
            "GRC",
            "SWE",
            "FIN",
            "NOR",
            "MYS",
            "ISR",
            "LTU",
            "SRB",
            "SVK",
            "SVN",
            "TUR",
            "VNM",
            "BGR",
            "CZE",
            "DNK",
            "GEO",
            "DEU",
            "HUN",
            "ISL",
            "JPN",
            "KAZ",
            "PRK",
            "KGZ",
            "NLD",
            "POL",
            "ROU",
            "TJK",
            "THA",
            "AZE",
            "MNG"
           ],
           "name": "",
           "type": "choropleth",
           "z": [
            399.1453119551313,
            372.36920339467304,
            6.106725249805117,
            56.028351050390626,
            55.02419060007044,
            2.551427204592569,
            0.765597356440178,
            55.686220254565576,
            29.288197734771913,
            507.18398770186764,
            129.10651024867695,
            160.74059271583195,
            26.243590573045207,
            210.37753252813317,
            61.04007857210583,
            179.25458963932533,
            28.431016407004652,
            71.15613015293336,
            213.2238432279551,
            0.34313217812098207,
            48.18276280048428,
            94.07490733191635,
            209.50357752609833,
            23.61179311019159,
            224.21722831642782,
            41.80448934677818,
            494.18358742901734,
            13.804737805022928,
            80.99952302413574,
            23.44691712683862,
            37.568960014589884,
            281.87942550812716,
            78.598234732409,
            115.09789422521695,
            52.79082607629852,
            4.485674766258522,
            102.28748867669377,
            6.009226755883856
           ]
          }
         ],
         "name": "2020-06-15"
        },
        {
         "data": [
          {
           "coloraxis": "coloraxis",
           "geo": "geo",
           "hovertemplate": "<b>%{hovertext}</b><br><br>date=2020-06-20<br>Country_code=%{location}<br>Cases=%{z}<extra></extra>",
           "hovertext": [
            "Italy",
            "Russia",
            "China",
            "Albania",
            "Bangladesh",
            "Botswana",
            "Cambodia",
            "Croatia",
            "Greece",
            "Sweden",
            "Finland",
            "Norway",
            "Malaysia",
            "Israel",
            "Lithuania",
            "Serbia",
            "Slovakia",
            "Slovenia",
            "Turkey",
            "Vietnam",
            "Bulgaria",
            "Czechia",
            "Denmark",
            "Georgia",
            "Germany",
            "Hungary",
            "Iceland",
            "Japan",
            "Kazakhstan",
            "South Korea",
            "Kyrgyzstan",
            "Netherlands",
            "Poland",
            "Romania",
            "Tajikistan",
            "Thailand",
            "Azerbaijan",
            "Mongolia"
           ],
           "locations": [
            "ITA",
            "RUS",
            "CHN",
            "ALB",
            "BGD",
            "BWA",
            "KHM",
            "HRV",
            "GRC",
            "SWE",
            "FIN",
            "NOR",
            "MYS",
            "ISR",
            "LTU",
            "SRB",
            "SVK",
            "SVN",
            "TUR",
            "VNM",
            "BGR",
            "CZE",
            "DNK",
            "GEO",
            "DEU",
            "HUN",
            "ISL",
            "JPN",
            "KAZ",
            "PRK",
            "KGZ",
            "NLD",
            "POL",
            "ROU",
            "TJK",
            "THA",
            "AZE",
            "MNG"
           ],
           "name": "",
           "type": "choropleth",
           "z": [
            401.5515548172486,
            399.9093821368049,
            6.120048189355821,
            66.63497599766585,
            66.04858067869499,
            3.784617020145644,
            0.771578585787367,
            56.79796821883153,
            30.428325406642422,
            565.9663713767847,
            129.7575586264543,
            162.50656430227855,
            26.43514962832291,
            224.9405866458313,
            61.827230816294765,
            185.57423070690405,
            29.053860838601405,
            72.25010808977659,
            221.1229109280993,
            0.3585423058809064,
            55.84066374243494,
            97.66441095030426,
            212.48742155405455,
            24.122173166043286,
            227.432682853935,
            41.90705188197637,
            495.27510280710464,
            14.0280846817307,
            91.83891417132295,
            23.960071640228374,
            45.304639888144195,
            284.78055213141073,
            83.43212643476475,
            123.22458966678991,
            55.96771193550775,
            4.502866748754562,
            121.25089949877744,
            6.222752579696989
           ]
          }
         ],
         "name": "2020-06-20"
        },
        {
         "data": [
          {
           "coloraxis": "coloraxis",
           "geo": "geo",
           "hovertemplate": "<b>%{hovertext}</b><br><br>date=2020-06-25<br>Country_code=%{location}<br>Cases=%{z}<extra></extra>",
           "hovertext": [
            "Italy",
            "Russia",
            "China",
            "Albania",
            "Bangladesh",
            "Botswana",
            "Cambodia",
            "Croatia",
            "Greece",
            "Sweden",
            "Finland",
            "Norway",
            "Malaysia",
            "Israel",
            "Lithuania",
            "Serbia",
            "Slovakia",
            "Slovenia",
            "Turkey",
            "Vietnam",
            "Bulgaria",
            "Czechia",
            "Denmark",
            "Georgia",
            "Germany",
            "Hungary",
            "Iceland",
            "Japan",
            "Kazakhstan",
            "South Korea",
            "Kyrgyzstan",
            "Netherlands",
            "Poland",
            "Romania",
            "Tajikistan",
            "Thailand",
            "Azerbaijan",
            "Mongolia"
           ],
           "locations": [
            "ITA",
            "RUS",
            "CHN",
            "ALB",
            "BGD",
            "BWA",
            "KHM",
            "HRV",
            "GRC",
            "SWE",
            "FIN",
            "NOR",
            "MYS",
            "ISR",
            "LTU",
            "SRB",
            "SVK",
            "SVN",
            "TUR",
            "VNM",
            "BGR",
            "CZE",
            "DNK",
            "GEO",
            "DEU",
            "HUN",
            "ISL",
            "JPN",
            "KAZ",
            "PRK",
            "KGZ",
            "NLD",
            "POL",
            "ROU",
            "TJK",
            "THA",
            "AZE",
            "MNG"
           ],
           "name": "",
           "type": "choropleth",
           "z": [
            403.95863872895075,
            425.58106546148065,
            6.127205726029338,
            77.24160094494106,
            76.87562956016419,
            3.912188380375272,
            0.7775598151345559,
            61.343782117163414,
            31.035770477720973,
            618.2388426959845,
            130.5171150671945,
            163.36166633361063,
            26.571094764326435,
            246.34024590074986,
            62.113467995999834,
            193.82165219188633,
            29.859894808903086,
            73.5819073172379,
            228.9745510227188,
            0.3616243314328913,
            63.57067297950755,
            101.6091258642618,
            216.6888111336481,
            24.632553221894984,
            230.97280931557344,
            42.28653326220964,
            496.09373934067014,
            14.291824078694134,
            105.30151262023966,
            24.309248207610125,
            63.891548503776654,
            287.1427342831752,
            87.38736860825345,
            131.30455011860303,
            59.02926530477868,
            4.518626066042599,
            147.14972702695232,
            6.5887968490909286
           ]
          }
         ],
         "name": "2020-06-25"
        },
        {
         "data": [
          {
           "coloraxis": "coloraxis",
           "geo": "geo",
           "hovertemplate": "<b>%{hovertext}</b><br><br>date=2020-06-30<br>Country_code=%{location}<br>Cases=%{z}<extra></extra>",
           "hovertext": [
            "Italy",
            "Russia",
            "China",
            "Albania",
            "Bangladesh",
            "Botswana",
            "Cambodia",
            "Croatia",
            "Greece",
            "Sweden",
            "Finland",
            "Norway",
            "Malaysia",
            "Israel",
            "Lithuania",
            "Serbia",
            "Slovakia",
            "Slovenia",
            "Turkey",
            "Vietnam",
            "Bulgaria",
            "Czechia",
            "Denmark",
            "Georgia",
            "Germany",
            "Hungary",
            "Iceland",
            "Japan",
            "Kazakhstan",
            "South Korea",
            "Kyrgyzstan",
            "Netherlands",
            "Poland",
            "Romania",
            "Tajikistan",
            "Thailand",
            "Azerbaijan",
            "Mongolia"
           ],
           "locations": [
            "ITA",
            "RUS",
            "CHN",
            "ALB",
            "BGD",
            "BWA",
            "KHM",
            "HRV",
            "GRC",
            "SWE",
            "FIN",
            "NOR",
            "MYS",
            "ISR",
            "LTU",
            "SRB",
            "SVK",
            "SVN",
            "TUR",
            "VNM",
            "BGR",
            "CZE",
            "DNK",
            "GEO",
            "DEU",
            "HUN",
            "ISL",
            "JPN",
            "KAZ",
            "PRK",
            "KGZ",
            "NLD",
            "POL",
            "ROU",
            "TJK",
            "THA",
            "AZE",
            "MNG"
           ],
           "name": "",
           "type": "choropleth",
           "z": [
            405.42542920484465,
            449.028184219683,
            6.134150662603642,
            89.32822007090581,
            88.33781349463189,
            9.652899590708552,
            0.8433533379536337,
            68.60720215036761,
            31.85815765087347,
            656.052354376448,
            131.27667150793474,
            165.05328122168055,
            26.691591589420476,
            276.6166400798689,
            62.542823765557436,
            211.09920300049603,
            30.537696102111315,
            76.10281299778968,
            237.0265727506803,
            0.3647063569848762,
            71.94965687267766,
            111.74199545366933,
            218.9524169479597,
            24.92803641212491,
            233.5942344807812,
            42.61473337484381,
            497.731012407801,
            14.73376577090313,
            118.94005790036995,
            24.787677979492305,
            83.67908326874269,
            289.0347733853166,
            90.74892866764276,
            140.04918598033393,
            61.86015369417304,
            4.537250713746643,
            173.6232033679176,
            6.710811605555576
           ]
          }
         ],
         "name": "2020-06-30"
        },
        {
         "data": [
          {
           "coloraxis": "coloraxis",
           "geo": "geo",
           "hovertemplate": "<b>%{hovertext}</b><br><br>date=2020-07-05<br>Country_code=%{location}<br>Cases=%{z}<extra></extra>",
           "hovertext": [
            "Italy",
            "Russia",
            "China",
            "Albania",
            "Bangladesh",
            "Botswana",
            "Cambodia",
            "Croatia",
            "Greece",
            "Sweden",
            "Finland",
            "Norway",
            "Malaysia",
            "Israel",
            "Lithuania",
            "Serbia",
            "Slovakia",
            "Slovenia",
            "Turkey",
            "Vietnam",
            "Bulgaria",
            "Czechia",
            "Denmark",
            "Georgia",
            "Germany",
            "Hungary",
            "Iceland",
            "Japan",
            "Kazakhstan",
            "South Korea",
            "Kyrgyzstan",
            "Netherlands",
            "Poland",
            "Romania",
            "Tajikistan",
            "Thailand",
            "Azerbaijan",
            "Mongolia"
           ],
           "locations": [
            "ITA",
            "RUS",
            "CHN",
            "ALB",
            "BGD",
            "BWA",
            "KHM",
            "HRV",
            "GRC",
            "SWE",
            "FIN",
            "NOR",
            "MYS",
            "ISR",
            "LTU",
            "SRB",
            "SVK",
            "SVN",
            "TUR",
            "VNM",
            "BGR",
            "CZE",
            "DNK",
            "GEO",
            "DEU",
            "HUN",
            "ISL",
            "JPN",
            "KAZ",
            "PRK",
            "KGZ",
            "NLD",
            "POL",
            "ROU",
            "TJK",
            "THA",
            "AZE",
            "MNG"
           ],
           "name": "",
           "type": "choropleth",
           "z": [
            407.16303764704463,
            472.17892573299173,
            6.137056197292892,
            101.94340854640257,
            98.62020067195223,
            11.779088927869028,
            0.8433533379536337,
            77.84706300893352,
            32.886141617314095,
            682.6811798433796,
            131.76495779126776,
            166.0013291259835,
            26.76574348178604,
            327.71755054204516,
            63.40153530467264,
            233.81222491080754,
            32.314634627549104,
            80.85923881015155,
            243.96523143894868,
            0.3647063569848762,
            82.78032279999394,
            116.9860358961579,
            220.04992279732292,
            25.545864900787493,
            236.09060083076812,
            42.90190847339871,
            499.368285474932,
            15.567752512652362,
            258.9830721020517,
            25.34134469130756,
            112.1141658687822,
            290.88667832468536,
            94.85720889721041,
            150.4503175902193,
            64.57570959362911,
            4.564471352698708,
            201.36487019228244,
            6.710811605555576
           ]
          }
         ],
         "name": "2020-07-05"
        },
        {
         "data": [
          {
           "coloraxis": "coloraxis",
           "geo": "geo",
           "hovertemplate": "<b>%{hovertext}</b><br><br>date=2020-07-10<br>Country_code=%{location}<br>Cases=%{z}<extra></extra>",
           "hovertext": [
            "Italy",
            "Russia",
            "China",
            "Albania",
            "Bangladesh",
            "Botswana",
            "Cambodia",
            "Croatia",
            "Greece",
            "Sweden",
            "Finland",
            "Norway",
            "Malaysia",
            "Israel",
            "Lithuania",
            "Serbia",
            "Slovakia",
            "Slovenia",
            "Turkey",
            "Vietnam",
            "Bulgaria",
            "Czechia",
            "Denmark",
            "Georgia",
            "Germany",
            "Hungary",
            "Iceland",
            "Japan",
            "Kazakhstan",
            "South Korea",
            "Kyrgyzstan",
            "Netherlands",
            "Poland",
            "Romania",
            "Tajikistan",
            "Thailand",
            "Azerbaijan",
            "Mongolia"
           ],
           "locations": [
            "ITA",
            "RUS",
            "CHN",
            "ALB",
            "BGD",
            "BWA",
            "KHM",
            "HRV",
            "GRC",
            "SWE",
            "FIN",
            "NOR",
            "MYS",
            "ISR",
            "LTU",
            "SRB",
            "SVK",
            "SVN",
            "TUR",
            "VNM",
            "BGR",
            "CZE",
            "DNK",
            "GEO",
            "DEU",
            "HUN",
            "ISL",
            "JPN",
            "KAZ",
            "PRK",
            "KGZ",
            "NLD",
            "POL",
            "ROU",
            "TJK",
            "THA",
            "AZE",
            "MNG"
           ],
           "name": "",
           "type": "choropleth",
           "z": [
            408.8922355933967,
            494.7924401091865,
            6.141449932676635,
            115.5100218510569,
            108.35124690460466,
            13.35246903736778,
            0.8433533379536337,
            87.25986243971856,
            34.87669238869457,
            699.8542127342772,
            132.32558278324268,
            166.81925280812717,
            26.86770233378869,
            401.34670269449055,
            64.29602649125098,
            256.96008450925524,
            34.25644373782133,
            85.28271481564806,
            250.13911998813077,
            0.38011648474480053,
            100.43243344584631,
            121.5290014131801,
            222.00485509150113,
            26.136831281247346,
            238.30678733511584,
            43.31215861419143,
            500.18692200849745,
            16.657558549354114,
            301.00237442914585,
            25.79662463551802,
            150.6101916442499,
            292.40030960639854,
            98.19766025920953,
            162.95452373929768,
            67.19690254677204,
            4.581663335194747,
            227.7789001043384,
            6.924337429368708
           ]
          }
         ],
         "name": "2020-07-10"
        },
        {
         "data": [
          {
           "coloraxis": "coloraxis",
           "geo": "geo",
           "hovertemplate": "<b>%{hovertext}</b><br><br>date=2020-07-15<br>Country_code=%{location}<br>Cases=%{z}<extra></extra>",
           "hovertext": [
            "Italy",
            "Russia",
            "China",
            "Albania",
            "Bangladesh",
            "Botswana",
            "Cambodia",
            "Croatia",
            "Greece",
            "Sweden",
            "Finland",
            "Norway",
            "Malaysia",
            "Israel",
            "Lithuania",
            "Serbia",
            "Slovakia",
            "Slovenia",
            "Turkey",
            "Vietnam",
            "Bulgaria",
            "Czechia",
            "Denmark",
            "Georgia",
            "Germany",
            "Hungary",
            "Iceland",
            "Japan",
            "Kazakhstan",
            "South Korea",
            "Kyrgyzstan",
            "Netherlands",
            "Poland",
            "Romania",
            "Tajikistan",
            "Thailand",
            "Azerbaijan",
            "Mongolia"
           ],
           "locations": [
            "ITA",
            "RUS",
            "CHN",
            "ALB",
            "BGD",
            "BWA",
            "KHM",
            "HRV",
            "GRC",
            "SWE",
            "FIN",
            "NOR",
            "MYS",
            "ISR",
            "LTU",
            "SRB",
            "SVK",
            "SVN",
            "TUR",
            "VNM",
            "BGR",
            "CZE",
            "DNK",
            "GEO",
            "DEU",
            "HUN",
            "ISL",
            "JPN",
            "KAZ",
            "PRK",
            "KGZ",
            "NLD",
            "POL",
            "ROU",
            "TJK",
            "THA",
            "AZE",
            "MNG"
           ],
           "name": "",
           "type": "choropleth",
           "z": [
            410.35061557344267,
            517.2352078759109,
            6.1453476011622135,
            132.2128132962677,
            117.54856109941223,
            16.966990910540584,
            0.9928840716333559,
            97.66088228318445,
            36.540157352571214,
            711.4831956367748,
            132.70536100361278,
            167.50705226811166,
            26.985109496700826,
            483.8959967878808,
            65.54831415246066,
            280.2383954141438,
            35.300624108439415,
            89.32567675615564,
            256.0379284252694,
            0.39141724510207837,
            113.59940813511363,
            125.95979494212767,
            224.50854031036096,
            26.969556635531696,
            240.16823970013493,
            43.72240875498416,
            500.7326796975411,
            18.110897268356815,
            347.5643040348447,
            26.257692036646407,
            186.65937172297453,
            294.8656938910071,
            102.16873395574088,
            177.72797328004853,
            69.65033915091382,
            4.6246432914348485,
            254.35145382681927,
            7.961462859318206
           ]
          }
         ],
         "name": "2020-07-15"
        },
        {
         "data": [
          {
           "coloraxis": "coloraxis",
           "geo": "geo",
           "hovertemplate": "<b>%{hovertext}</b><br><br>date=2020-07-20<br>Country_code=%{location}<br>Cases=%{z}<extra></extra>",
           "hovertext": [
            "Italy",
            "Russia",
            "China",
            "Albania",
            "Bangladesh",
            "Botswana",
            "Cambodia",
            "Croatia",
            "Greece",
            "Sweden",
            "Finland",
            "Norway",
            "Malaysia",
            "Israel",
            "Lithuania",
            "Serbia",
            "Slovakia",
            "Slovenia",
            "Turkey",
            "Vietnam",
            "Bulgaria",
            "Czechia",
            "Denmark",
            "Georgia",
            "Germany",
            "Hungary",
            "Iceland",
            "Japan",
            "Kazakhstan",
            "South Korea",
            "Kyrgyzstan",
            "Netherlands",
            "Poland",
            "Romania",
            "Tajikistan",
            "Thailand",
            "Azerbaijan",
            "Mongolia"
           ],
           "locations": [
            "ITA",
            "RUS",
            "CHN",
            "ALB",
            "BGD",
            "BWA",
            "KHM",
            "HRV",
            "GRC",
            "SWE",
            "FIN",
            "NOR",
            "MYS",
            "ISR",
            "LTU",
            "SRB",
            "SVK",
            "SVN",
            "TUR",
            "VNM",
            "BGR",
            "CZE",
            "DNK",
            "GEO",
            "DEU",
            "HUN",
            "ISL",
            "JPN",
            "KAZ",
            "PRK",
            "KGZ",
            "NLD",
            "POL",
            "ROU",
            "TJK",
            "THA",
            "AZE",
            "MNG"
           ],
           "name": "",
           "type": "choropleth",
           "z": [
            412.23120244505895,
            538.7624684154345,
            6.1562610729218346,
            146.97751712652786,
            125.96622576453517,
            22.19741667995535,
            1.0227902183693005,
            107.96308008538226,
            37.49337884872524,
            721.2673814176967,
            133.2840706727482,
            167.9346032837777,
            27.189027200706125,
            569.5705960868574,
            67.3015168781542,
            308.0535128652528,
            36.27152866357553,
            92.89299611542704,
            261.5300451450334,
            0.3944992706540632,
            128.77099342877108,
            131.78339065633514,
            227.42379022273195,
            27.909730422626918,
            242.68985831088756,
            44.50188402249032,
            501.82419507562844,
            20.337237943624714,
            391.7109635029756,
            26.651239107065617,
            412.51386799191476,
            299.0109795602442,
            106.55406583855488,
            198.04730827230088,
            72.11426052686816,
            4.650431265178909,
            276.3268170469769,
            8.754558776338412
           ]
          }
         ],
         "name": "2020-07-20"
        },
        {
         "data": [
          {
           "coloraxis": "coloraxis",
           "geo": "geo",
           "hovertemplate": "<b>%{hovertext}</b><br><br>date=2020-07-25<br>Country_code=%{location}<br>Cases=%{z}<extra></extra>",
           "hovertext": [
            "Italy",
            "Russia",
            "China",
            "Albania",
            "Bangladesh",
            "Botswana",
            "Cambodia",
            "Croatia",
            "Greece",
            "Sweden",
            "Finland",
            "Norway",
            "Malaysia",
            "Israel",
            "Lithuania",
            "Serbia",
            "Slovakia",
            "Slovenia",
            "Turkey",
            "Vietnam",
            "Bulgaria",
            "Czechia",
            "Denmark",
            "Georgia",
            "Germany",
            "Hungary",
            "Iceland",
            "Japan",
            "Kazakhstan",
            "South Korea",
            "Kyrgyzstan",
            "Netherlands",
            "Poland",
            "Romania",
            "Tajikistan",
            "Thailand",
            "Azerbaijan",
            "Mongolia"
           ],
           "locations": [
            "ITA",
            "RUS",
            "CHN",
            "ALB",
            "BGD",
            "BWA",
            "KHM",
            "HRV",
            "GRC",
            "SWE",
            "FIN",
            "NOR",
            "MYS",
            "ISR",
            "LTU",
            "SRB",
            "SVK",
            "SVN",
            "TUR",
            "VNM",
            "BGR",
            "CZE",
            "DNK",
            "GEO",
            "DEU",
            "HUN",
            "ISL",
            "JPN",
            "KAZ",
            "PRK",
            "KGZ",
            "NLD",
            "POL",
            "ROU",
            "TJK",
            "THA",
            "AZE",
            "MNG"
           ],
           "name": "",
           "type": "choropleth",
           "z": [
            414.3170054153669,
            558.9744247885096,
            6.175324215151301,
            163.39840491865493,
            134.30009632132752,
            29.171317705841705,
            1.3457766031175005,
            118.38880543916515,
            38.93255640174211,
            732.3071882761308,
            134.07979646780936,
            169.36596972752918,
            27.44855882398559,
            667.041052186086,
            67.98133017995373,
            331.23036164290954,
            39.22088023672485,
            98.26775728339595,
            266.9854054705158,
            0.4284015517258968,
            148.71614785950132,
            142.1966902159292,
            230.4419313084808,
            30.00497486243914,
            246.46687502828104,
            45.373665571674856,
            502.9157104537157,
            23.495774625577177,
            435.7083347506828,
            27.295575977261777,
            488.2141065973647,
            304.4348249863831,
            112.46186252063706,
            226.8100980811652,
            74.48381895650937,
            4.714184866935058,
            293.596004645144,
            8.785062465454573
           ]
          }
         ],
         "name": "2020-07-25"
        },
        {
         "data": [
          {
           "coloraxis": "coloraxis",
           "geo": "geo",
           "hovertemplate": "<b>%{hovertext}</b><br><br>date=2020-07-30<br>Country_code=%{location}<br>Cases=%{z}<extra></extra>",
           "hovertext": [
            "Italy",
            "Russia",
            "China",
            "Albania",
            "Bangladesh",
            "Botswana",
            "Cambodia",
            "Croatia",
            "Greece",
            "Sweden",
            "Finland",
            "Norway",
            "Malaysia",
            "Israel",
            "Lithuania",
            "Serbia",
            "Slovakia",
            "Slovenia",
            "Turkey",
            "Vietnam",
            "Bulgaria",
            "Czechia",
            "Denmark",
            "Georgia",
            "Germany",
            "Hungary",
            "Iceland",
            "Japan",
            "Kazakhstan",
            "South Korea",
            "Kyrgyzstan",
            "Netherlands",
            "Poland",
            "Romania",
            "Tajikistan",
            "Thailand",
            "Azerbaijan",
            "Mongolia"
           ],
           "locations": [
            "ITA",
            "RUS",
            "CHN",
            "ALB",
            "BGD",
            "BWA",
            "KHM",
            "HRV",
            "GRC",
            "SWE",
            "FIN",
            "NOR",
            "MYS",
            "ISR",
            "LTU",
            "SRB",
            "SVK",
            "SVN",
            "TUR",
            "VNM",
            "BGR",
            "CZE",
            "DNK",
            "GEO",
            "DEU",
            "HUN",
            "ISL",
            "JPN",
            "KAZ",
            "PRK",
            "KGZ",
            "NLD",
            "POL",
            "ROU",
            "TJK",
            "THA",
            "AZE",
            "MNG"
           ],
           "name": "",
           "type": "choropleth",
           "z": [
            416.49364174083337,
            578.1737010672059,
            6.212245765714691,
            183.13166063451578,
            142.62546602655013,
            34.18912454154042,
            1.3996076672422004,
            125.28164281761406,
            41.12870396641072,
            741.9561533256284,
            134.89360694003105,
            171.16911966316414,
            27.695731798537466,
            764.2293626764766,
            71.84553210597215,
            365.4520876992245,
            41.49243051666594,
            101.7399481264201,
            272.57949154215805,
            0.5229170019867662,
            164.69534605852454,
            153.03063473080311,
            235.3635591017189,
            31.16004551515614,
            249.91080240128798,
            45.98904078286393,
            510.82919694484843,
            27.45740965143631,
            474.93914638914987,
            27.59459458468814,
            535.3120868098299,
            312.05458246137084,
            118.81821902226096,
            257.514986353383,
            76.74852966802487,
            4.745703501511133,
            312.6882160631979,
            8.876573532803057
           ]
          }
         ],
         "name": "2020-07-30"
        },
        {
         "data": [
          {
           "coloraxis": "coloraxis",
           "geo": "geo",
           "hovertemplate": "<b>%{hovertext}</b><br><br>date=2020-08-04<br>Country_code=%{location}<br>Cases=%{z}<extra></extra>",
           "hovertext": [
            "Italy",
            "Russia",
            "China",
            "Albania",
            "Bangladesh",
            "Botswana",
            "Cambodia",
            "Croatia",
            "Greece",
            "Sweden",
            "Finland",
            "Norway",
            "Malaysia",
            "Israel",
            "Lithuania",
            "Serbia",
            "Slovakia",
            "Slovenia",
            "Turkey",
            "Vietnam",
            "Bulgaria",
            "Czechia",
            "Denmark",
            "Georgia",
            "Germany",
            "Hungary",
            "Iceland",
            "Japan",
            "Kazakhstan",
            "South Korea",
            "Kyrgyzstan",
            "Netherlands",
            "Poland",
            "Romania",
            "Tajikistan",
            "Thailand",
            "Azerbaijan",
            "Mongolia"
           ],
           "locations": [
            "ITA",
            "RUS",
            "CHN",
            "ALB",
            "BGD",
            "BWA",
            "KHM",
            "HRV",
            "GRC",
            "SWE",
            "FIN",
            "NOR",
            "MYS",
            "ISR",
            "LTU",
            "SRB",
            "SVK",
            "SVN",
            "TUR",
            "VNM",
            "BGR",
            "CZE",
            "DNK",
            "GEO",
            "DEU",
            "HUN",
            "ISL",
            "JPN",
            "KAZ",
            "PRK",
            "KGZ",
            "NLD",
            "POL",
            "ROU",
            "TJK",
            "THA",
            "AZE",
            "MNG"
           ],
           "name": "",
           "type": "choropleth",
           "z": [
            418.614768793703,
            596.7538473635949,
            6.228686840053859,
            202.61825065392836,
            148.1698428610908,
            34.18912454154042,
            1.4534387313669004,
            131.38390386591826,
            45.37147415517474,
            752.5613221187698,
            136.44888917583245,
            174.0318525506671,
            27.813138961449603,
            831.7706807305401,
            74.09964989614957,
            387.5563368461454,
            43.37928276532669,
            104.16572529072465,
            278.5589269086887,
            0.6903737236446107,
            179.0304751287674,
            161.58374882149306,
            241.33124715763134,
            31.751011895616,
            254.0629955643442,
            46.696722275731375,
            523.3816237928522,
            32.73378161110715,
            533.5720949605309,
            27.885896582890595,
            570.5405857231873,
            324.1177651004787,
            127.04533383009135,
            286.8541743692853,
            79.0342099231655,
            4.770058810047189,
            326.06366256780234,
            8.937580911035381
           ]
          }
         ],
         "name": "2020-08-04"
        },
        {
         "data": [
          {
           "coloraxis": "coloraxis",
           "geo": "geo",
           "hovertemplate": "<b>%{hovertext}</b><br><br>date=2020-08-09<br>Country_code=%{location}<br>Cases=%{z}<extra></extra>",
           "hovertext": [
            "Italy",
            "Russia",
            "China",
            "Albania",
            "Bangladesh",
            "Botswana",
            "Cambodia",
            "Croatia",
            "Greece",
            "Sweden",
            "Finland",
            "Norway",
            "Malaysia",
            "Israel",
            "Lithuania",
            "Serbia",
            "Slovakia",
            "Slovenia",
            "Turkey",
            "Vietnam",
            "Bulgaria",
            "Czechia",
            "Denmark",
            "Georgia",
            "Germany",
            "Hungary",
            "Iceland",
            "Japan",
            "Kazakhstan",
            "South Korea",
            "Kyrgyzstan",
            "Netherlands",
            "Poland",
            "Romania",
            "Tajikistan",
            "Thailand",
            "Azerbaijan",
            "Mongolia"
           ],
           "locations": [
            "ITA",
            "RUS",
            "CHN",
            "ALB",
            "BGD",
            "BWA",
            "KHM",
            "HRV",
            "GRC",
            "SWE",
            "FIN",
            "NOR",
            "MYS",
            "ISR",
            "LTU",
            "SRB",
            "SVK",
            "SVN",
            "TUR",
            "VNM",
            "BGR",
            "CZE",
            "DNK",
            "GEO",
            "DEU",
            "HUN",
            "ISL",
            "JPN",
            "KAZ",
            "PRK",
            "KGZ",
            "NLD",
            "POL",
            "ROU",
            "TJK",
            "THA",
            "AZE",
            "MNG"
           ],
           "name": "",
           "type": "choropleth",
           "z": [
            422.2262357108409,
            614.7696969384417,
            6.247041315285948,
            225.91053998997128,
            156.4156688837677,
            34.18912454154042,
            1.5012885661444115,
            138.4496798165863,
            52.548671302687445,
            767.2037956072966,
            138.2392722147201,
            179.16246473865942,
            28.06340159818338,
            905.6602749834511,
            78.42898723918873,
            407.28347329792206,
            47.556004247799024,
            106.97201652001813,
            285.51892801944325,
            0.8639944964064249,
            193.19254429071756,
            171.55770809446153,
            247.65905432036607,
            32.90608254833299,
            259.6064680467332,
            48.16336652906535,
            534.296777573725,
            38.63980168064565,
            596.203835150402,
            28.213852474906602,
            606.6809525980638,
            340.4695697044405,
            136.65506831697982,
            320.74742749845257,
            81.20455768836784,
            4.81303876628729,
            332.5829542715281,
            8.937580911035381
           ]
          }
         ],
         "name": "2020-08-09"
        },
        {
         "data": [
          {
           "coloraxis": "coloraxis",
           "geo": "geo",
           "hovertemplate": "<b>%{hovertext}</b><br><br>date=2020-08-14<br>Country_code=%{location}<br>Cases=%{z}<extra></extra>",
           "hovertext": [
            "Italy",
            "Russia",
            "China",
            "Albania",
            "Bangladesh",
            "Botswana",
            "Cambodia",
            "Croatia",
            "Greece",
            "Sweden",
            "Finland",
            "Norway",
            "Malaysia",
            "Israel",
            "Lithuania",
            "Serbia",
            "Slovakia",
            "Slovenia",
            "Turkey",
            "Vietnam",
            "Bulgaria",
            "Czechia",
            "Denmark",
            "Georgia",
            "Germany",
            "Hungary",
            "Iceland",
            "Japan",
            "Kazakhstan",
            "South Korea",
            "Kyrgyzstan",
            "Netherlands",
            "Poland",
            "Romania",
            "Tajikistan",
            "Thailand",
            "Azerbaijan",
            "Mongolia"
           ],
           "locations": [
            "ITA",
            "RUS",
            "CHN",
            "ALB",
            "BGD",
            "BWA",
            "KHM",
            "HRV",
            "GRC",
            "SWE",
            "FIN",
            "NOR",
            "MYS",
            "ISR",
            "LTU",
            "SRB",
            "SVK",
            "SVN",
            "TUR",
            "VNM",
            "BGR",
            "CZE",
            "DNK",
            "GEO",
            "DEU",
            "HUN",
            "ISL",
            "JPN",
            "KAZ",
            "PRK",
            "KGZ",
            "NLD",
            "POL",
            "ROU",
            "TJK",
            "THA",
            "AZE",
            "MNG"
           ],
           "name": "",
           "type": "choropleth",
           "z": [
            425.9991841482608,
            632.1636401633478,
            6.264687123520657,
            250.78853737461014,
            165.08714468861663,
            51.62387710625631,
            1.6328756117825673,
            154.6070835639181,
            61.9780878675837,
            784.2319491430966,
            140.51794153694075,
            184.18154187908672,
            28.26731930218867,
            994.427624225456,
            82.90144317208043,
            423.7203379094685,
            51.31138979125003,
            112.67972749485234,
            292.7006531860259,
            0.9554279211153095,
            205.40768948437523,
            184.08358009612766,
            263.7272258961993,
            35.08191331275338,
            266.24661013952107,
            49.77359833167677,
            541.1187486867706,
            42.63311711454843,
            631.8837198316497,
            29.010592377274904,
            628.7785528655451,
            359.85437032365337,
            145.9640038660579,
            353.34767924426404,
            83.35393590994504,
            4.848855396487374,
            337.04143643972964,
            9.059595667500027
           ]
          }
         ],
         "name": "2020-08-14"
        },
        {
         "data": [
          {
           "coloraxis": "coloraxis",
           "geo": "geo",
           "hovertemplate": "<b>%{hovertext}</b><br><br>date=2020-08-19<br>Country_code=%{location}<br>Cases=%{z}<extra></extra>",
           "hovertext": [
            "Italy",
            "Russia",
            "China",
            "Albania",
            "Bangladesh",
            "Botswana",
            "Cambodia",
            "Croatia",
            "Greece",
            "Sweden",
            "Finland",
            "Norway",
            "Malaysia",
            "Israel",
            "Lithuania",
            "Serbia",
            "Slovakia",
            "Slovenia",
            "Turkey",
            "Vietnam",
            "Bulgaria",
            "Czechia",
            "Denmark",
            "Georgia",
            "Germany",
            "Hungary",
            "Iceland",
            "Japan",
            "Kazakhstan",
            "South Korea",
            "Kyrgyzstan",
            "Netherlands",
            "Poland",
            "Romania",
            "Tajikistan",
            "Thailand",
            "Azerbaijan",
            "Mongolia"
           ],
           "locations": [
            "ITA",
            "RUS",
            "CHN",
            "ALB",
            "BGD",
            "BWA",
            "KHM",
            "HRV",
            "GRC",
            "SWE",
            "FIN",
            "NOR",
            "MYS",
            "ISR",
            "LTU",
            "SRB",
            "SVK",
            "SVN",
            "TUR",
            "VNM",
            "BGR",
            "CZE",
            "DNK",
            "GEO",
            "DEU",
            "HUN",
            "ISL",
            "JPN",
            "KAZ",
            "PRK",
            "KGZ",
            "NLD",
            "POL",
            "ROU",
            "TJK",
            "THA",
            "AZE",
            "MNG"
           ],
           "name": "",
           "type": "choropleth",
           "z": [
            430.15228699801094,
            649.0217444349568,
            6.277868329671888,
            275.2789172362589,
            173.10830534837817,
            55.621113060118006,
            1.6328756117825673,
            174.76677998260732,
            71.80935271027039,
            795.1268766464332,
            143.23064311101297,
            188.90319222600718,
            28.53303024983194,
            1067.8288895399942,
            88.26839029155046,
            435.5334284371673,
            55.35987859662891,
            118.57769550218107,
            300.107659478851,
            1.0211777995576534,
            213.72898674144776,
            194.41275066466577,
            273.34755060702366,
            36.55932926390302,
            272.8614999715431,
            51.301780106129655,
            555.3084486019052,
            46.49891890607551,
            657.5346351337245,
            31.531994441186214,
            643.2468578549826,
            374.9792162371356,
            154.65023284212515,
            382.2766379056078,
            85.25167960802051,
            4.857451387735394,
            343.005894806968,
            9.09009935661619
           ]
          }
         ],
         "name": "2020-08-19"
        },
        {
         "data": [
          {
           "coloraxis": "coloraxis",
           "geo": "geo",
           "hovertemplate": "<b>%{hovertext}</b><br><br>date=2020-08-24<br>Country_code=%{location}<br>Cases=%{z}<extra></extra>",
           "hovertext": [
            "Italy",
            "Russia",
            "China",
            "Albania",
            "Bangladesh",
            "Botswana",
            "Cambodia",
            "Croatia",
            "Greece",
            "Sweden",
            "Finland",
            "Norway",
            "Malaysia",
            "Israel",
            "Lithuania",
            "Serbia",
            "Slovakia",
            "Slovenia",
            "Turkey",
            "Vietnam",
            "Bulgaria",
            "Czechia",
            "Denmark",
            "Georgia",
            "Germany",
            "Hungary",
            "Iceland",
            "Japan",
            "Kazakhstan",
            "South Korea",
            "Kyrgyzstan",
            "Netherlands",
            "Poland",
            "Romania",
            "Tajikistan",
            "Thailand",
            "Azerbaijan",
            "Mongolia"
           ],
           "locations": [
            "ITA",
            "RUS",
            "CHN",
            "ALB",
            "BGD",
            "BWA",
            "KHM",
            "HRV",
            "GRC",
            "SWE",
            "FIN",
            "NOR",
            "MYS",
            "ISR",
            "LTU",
            "SRB",
            "SVK",
            "SVN",
            "TUR",
            "VNM",
            "BGR",
            "CZE",
            "DNK",
            "GEO",
            "DEU",
            "HUN",
            "ISL",
            "JPN",
            "KAZ",
            "PRK",
            "KGZ",
            "NLD",
            "POL",
            "ROU",
            "TJK",
            "THA",
            "AZE",
            "MNG"
           ],
           "name": "",
           "type": "choropleth",
           "z": [
            438.5964248294187,
            665.645245641521,
            6.292183403018922,
            303.22261684818324,
            180.3898919215697,
            66.42215489289322,
            1.6328756117825673,
            205.32749624476244,
            82.41627818218043,
            805.0752590297991,
            145.50931243323362,
            193.23446990645,
            28.653527074925975,
            1138.972989983831,
            94.56560824506195,
            445.18682511378984,
            62.72409805256697,
            126.75874789944345,
            307.91424334822204,
            1.0499433713761788,
            221.89164574925204,
            207.34057229026595,
            281.1844283126328,
            38.171055756066266,
            280.8712765887216,
            53.240212021375264,
            565.6778446937344,
            50.01227615811692,
            679.5919697013159,
            34.61670897844267,
            655.4202951412635,
            389.5937849382221,
            164.41036679791878,
            411.94297084982907,
            87.13893853428343,
            4.878941365855445,
            350.99153175712445,
            9.09009935661619
           ]
          }
         ],
         "name": "2020-08-24"
        },
        {
         "data": [
          {
           "coloraxis": "coloraxis",
           "geo": "geo",
           "hovertemplate": "<b>%{hovertext}</b><br><br>date=2020-08-29<br>Country_code=%{location}<br>Cases=%{z}<extra></extra>",
           "hovertext": [
            "Italy",
            "Russia",
            "China",
            "Albania",
            "Bangladesh",
            "Botswana",
            "Cambodia",
            "Croatia",
            "Greece",
            "Sweden",
            "Finland",
            "Norway",
            "Malaysia",
            "Israel",
            "Lithuania",
            "Serbia",
            "Slovakia",
            "Slovenia",
            "Turkey",
            "Vietnam",
            "Bulgaria",
            "Czechia",
            "Denmark",
            "Georgia",
            "Germany",
            "Hungary",
            "Iceland",
            "Japan",
            "Kazakhstan",
            "South Korea",
            "Kyrgyzstan",
            "Netherlands",
            "Poland",
            "Romania",
            "Tajikistan",
            "Thailand",
            "Azerbaijan",
            "Mongolia"
           ],
           "locations": [
            "ITA",
            "RUS",
            "CHN",
            "ALB",
            "BGD",
            "BWA",
            "KHM",
            "HRV",
            "GRC",
            "SWE",
            "FIN",
            "NOR",
            "MYS",
            "ISR",
            "LTU",
            "SRB",
            "SVK",
            "SVN",
            "TUR",
            "VNM",
            "BGR",
            "CZE",
            "DNK",
            "GEO",
            "DEU",
            "HUN",
            "ISL",
            "JPN",
            "KAZ",
            "PRK",
            "KGZ",
            "NLD",
            "POL",
            "ROU",
            "TJK",
            "THA",
            "AZE",
            "MNG"
           ],
           "name": "",
           "type": "choropleth",
           "z": [
            449.62258488616743,
            681.9959687280777,
            6.30026220678903,
            326.9729996204872,
            187.58039794222802,
            66.42215489289322,
            1.6328756117825673,
            243.62103723614516,
            93.23814575616444,
            810.9187263520672,
            147.6613890153309,
            197.2497316187918,
            28.786382548747607,
            1233.6219899946825,
            100.61236866633152,
            453.41975200916755,
            70.38142077043292,
            134.79710752233498,
            316.65515104643026,
            1.068435524688088,
            233.11169647022683,
            225.2226567224953,
            287.7351663510194,
            39.272402192377825,
            289.7829196618203,
            58.14270120384827,
            573.0455734958235,
            53.33951101290184,
            693.3371494246059,
            38.00044212312548,
            664.3262055654341,
            404.6899635925809,
            174.77737580368068,
            445.7115973396366,
            88.92134974242062,
            4.898998678767492,
            358.4025198944905,
            9.181610423964674
           ]
          }
         ],
         "name": "2020-08-29"
        }
       ],
       "layout": {
        "coloraxis": {
         "cmax": 699.2676770364073,
         "cmin": 0,
         "colorbar": {
          "title": {
           "text": "Cases"
          }
         },
         "colorscale": [
          [
           0,
           "rgb(255,245,240)"
          ],
          [
           0.125,
           "rgb(254,224,210)"
          ],
          [
           0.25,
           "rgb(252,187,161)"
          ],
          [
           0.375,
           "rgb(252,146,114)"
          ],
          [
           0.5,
           "rgb(251,106,74)"
          ],
          [
           0.625,
           "rgb(239,59,44)"
          ],
          [
           0.75,
           "rgb(203,24,29)"
          ],
          [
           0.875,
           "rgb(165,15,21)"
          ],
          [
           1,
           "rgb(103,0,13)"
          ]
         ]
        },
        "geo": {
         "center": {
          "lat": 35,
          "lon": 80
         },
         "domain": {
          "x": [
           0,
           1
          ],
          "y": [
           0,
           1
          ]
         },
         "lataxis": {
          "range": [
           -50,
           80
          ]
         },
         "lonaxis": {
          "range": [
           -10,
           230
          ]
         },
         "projection": {
          "type": "mercator"
         }
        },
        "height": 700,
        "legend": {
         "tracegroupgap": 0
        },
        "sliders": [
         {
          "active": 0,
          "currentvalue": {
           "prefix": "date="
          },
          "len": 0.9,
          "pad": {
           "b": 10,
           "t": 60
          },
          "steps": [
           {
            "args": [
             [
              "2020-01-22"
             ],
             {
              "frame": {
               "duration": 0,
               "redraw": true
              },
              "fromcurrent": true,
              "mode": "immediate",
              "transition": {
               "duration": 0,
               "easing": "linear"
              }
             }
            ],
            "label": "2020-01-22",
            "method": "animate"
           },
           {
            "args": [
             [
              "2020-01-27"
             ],
             {
              "frame": {
               "duration": 0,
               "redraw": true
              },
              "fromcurrent": true,
              "mode": "immediate",
              "transition": {
               "duration": 0,
               "easing": "linear"
              }
             }
            ],
            "label": "2020-01-27",
            "method": "animate"
           },
           {
            "args": [
             [
              "2020-02-01"
             ],
             {
              "frame": {
               "duration": 0,
               "redraw": true
              },
              "fromcurrent": true,
              "mode": "immediate",
              "transition": {
               "duration": 0,
               "easing": "linear"
              }
             }
            ],
            "label": "2020-02-01",
            "method": "animate"
           },
           {
            "args": [
             [
              "2020-02-06"
             ],
             {
              "frame": {
               "duration": 0,
               "redraw": true
              },
              "fromcurrent": true,
              "mode": "immediate",
              "transition": {
               "duration": 0,
               "easing": "linear"
              }
             }
            ],
            "label": "2020-02-06",
            "method": "animate"
           },
           {
            "args": [
             [
              "2020-02-11"
             ],
             {
              "frame": {
               "duration": 0,
               "redraw": true
              },
              "fromcurrent": true,
              "mode": "immediate",
              "transition": {
               "duration": 0,
               "easing": "linear"
              }
             }
            ],
            "label": "2020-02-11",
            "method": "animate"
           },
           {
            "args": [
             [
              "2020-02-16"
             ],
             {
              "frame": {
               "duration": 0,
               "redraw": true
              },
              "fromcurrent": true,
              "mode": "immediate",
              "transition": {
               "duration": 0,
               "easing": "linear"
              }
             }
            ],
            "label": "2020-02-16",
            "method": "animate"
           },
           {
            "args": [
             [
              "2020-02-21"
             ],
             {
              "frame": {
               "duration": 0,
               "redraw": true
              },
              "fromcurrent": true,
              "mode": "immediate",
              "transition": {
               "duration": 0,
               "easing": "linear"
              }
             }
            ],
            "label": "2020-02-21",
            "method": "animate"
           },
           {
            "args": [
             [
              "2020-02-26"
             ],
             {
              "frame": {
               "duration": 0,
               "redraw": true
              },
              "fromcurrent": true,
              "mode": "immediate",
              "transition": {
               "duration": 0,
               "easing": "linear"
              }
             }
            ],
            "label": "2020-02-26",
            "method": "animate"
           },
           {
            "args": [
             [
              "2020-03-02"
             ],
             {
              "frame": {
               "duration": 0,
               "redraw": true
              },
              "fromcurrent": true,
              "mode": "immediate",
              "transition": {
               "duration": 0,
               "easing": "linear"
              }
             }
            ],
            "label": "2020-03-02",
            "method": "animate"
           },
           {
            "args": [
             [
              "2020-03-07"
             ],
             {
              "frame": {
               "duration": 0,
               "redraw": true
              },
              "fromcurrent": true,
              "mode": "immediate",
              "transition": {
               "duration": 0,
               "easing": "linear"
              }
             }
            ],
            "label": "2020-03-07",
            "method": "animate"
           },
           {
            "args": [
             [
              "2020-03-12"
             ],
             {
              "frame": {
               "duration": 0,
               "redraw": true
              },
              "fromcurrent": true,
              "mode": "immediate",
              "transition": {
               "duration": 0,
               "easing": "linear"
              }
             }
            ],
            "label": "2020-03-12",
            "method": "animate"
           },
           {
            "args": [
             [
              "2020-03-17"
             ],
             {
              "frame": {
               "duration": 0,
               "redraw": true
              },
              "fromcurrent": true,
              "mode": "immediate",
              "transition": {
               "duration": 0,
               "easing": "linear"
              }
             }
            ],
            "label": "2020-03-17",
            "method": "animate"
           },
           {
            "args": [
             [
              "2020-03-22"
             ],
             {
              "frame": {
               "duration": 0,
               "redraw": true
              },
              "fromcurrent": true,
              "mode": "immediate",
              "transition": {
               "duration": 0,
               "easing": "linear"
              }
             }
            ],
            "label": "2020-03-22",
            "method": "animate"
           },
           {
            "args": [
             [
              "2020-03-27"
             ],
             {
              "frame": {
               "duration": 0,
               "redraw": true
              },
              "fromcurrent": true,
              "mode": "immediate",
              "transition": {
               "duration": 0,
               "easing": "linear"
              }
             }
            ],
            "label": "2020-03-27",
            "method": "animate"
           },
           {
            "args": [
             [
              "2020-04-01"
             ],
             {
              "frame": {
               "duration": 0,
               "redraw": true
              },
              "fromcurrent": true,
              "mode": "immediate",
              "transition": {
               "duration": 0,
               "easing": "linear"
              }
             }
            ],
            "label": "2020-04-01",
            "method": "animate"
           },
           {
            "args": [
             [
              "2020-04-06"
             ],
             {
              "frame": {
               "duration": 0,
               "redraw": true
              },
              "fromcurrent": true,
              "mode": "immediate",
              "transition": {
               "duration": 0,
               "easing": "linear"
              }
             }
            ],
            "label": "2020-04-06",
            "method": "animate"
           },
           {
            "args": [
             [
              "2020-04-11"
             ],
             {
              "frame": {
               "duration": 0,
               "redraw": true
              },
              "fromcurrent": true,
              "mode": "immediate",
              "transition": {
               "duration": 0,
               "easing": "linear"
              }
             }
            ],
            "label": "2020-04-11",
            "method": "animate"
           },
           {
            "args": [
             [
              "2020-04-16"
             ],
             {
              "frame": {
               "duration": 0,
               "redraw": true
              },
              "fromcurrent": true,
              "mode": "immediate",
              "transition": {
               "duration": 0,
               "easing": "linear"
              }
             }
            ],
            "label": "2020-04-16",
            "method": "animate"
           },
           {
            "args": [
             [
              "2020-04-21"
             ],
             {
              "frame": {
               "duration": 0,
               "redraw": true
              },
              "fromcurrent": true,
              "mode": "immediate",
              "transition": {
               "duration": 0,
               "easing": "linear"
              }
             }
            ],
            "label": "2020-04-21",
            "method": "animate"
           },
           {
            "args": [
             [
              "2020-04-26"
             ],
             {
              "frame": {
               "duration": 0,
               "redraw": true
              },
              "fromcurrent": true,
              "mode": "immediate",
              "transition": {
               "duration": 0,
               "easing": "linear"
              }
             }
            ],
            "label": "2020-04-26",
            "method": "animate"
           },
           {
            "args": [
             [
              "2020-05-01"
             ],
             {
              "frame": {
               "duration": 0,
               "redraw": true
              },
              "fromcurrent": true,
              "mode": "immediate",
              "transition": {
               "duration": 0,
               "easing": "linear"
              }
             }
            ],
            "label": "2020-05-01",
            "method": "animate"
           },
           {
            "args": [
             [
              "2020-05-06"
             ],
             {
              "frame": {
               "duration": 0,
               "redraw": true
              },
              "fromcurrent": true,
              "mode": "immediate",
              "transition": {
               "duration": 0,
               "easing": "linear"
              }
             }
            ],
            "label": "2020-05-06",
            "method": "animate"
           },
           {
            "args": [
             [
              "2020-05-11"
             ],
             {
              "frame": {
               "duration": 0,
               "redraw": true
              },
              "fromcurrent": true,
              "mode": "immediate",
              "transition": {
               "duration": 0,
               "easing": "linear"
              }
             }
            ],
            "label": "2020-05-11",
            "method": "animate"
           },
           {
            "args": [
             [
              "2020-05-16"
             ],
             {
              "frame": {
               "duration": 0,
               "redraw": true
              },
              "fromcurrent": true,
              "mode": "immediate",
              "transition": {
               "duration": 0,
               "easing": "linear"
              }
             }
            ],
            "label": "2020-05-16",
            "method": "animate"
           },
           {
            "args": [
             [
              "2020-05-21"
             ],
             {
              "frame": {
               "duration": 0,
               "redraw": true
              },
              "fromcurrent": true,
              "mode": "immediate",
              "transition": {
               "duration": 0,
               "easing": "linear"
              }
             }
            ],
            "label": "2020-05-21",
            "method": "animate"
           },
           {
            "args": [
             [
              "2020-05-26"
             ],
             {
              "frame": {
               "duration": 0,
               "redraw": true
              },
              "fromcurrent": true,
              "mode": "immediate",
              "transition": {
               "duration": 0,
               "easing": "linear"
              }
             }
            ],
            "label": "2020-05-26",
            "method": "animate"
           },
           {
            "args": [
             [
              "2020-05-31"
             ],
             {
              "frame": {
               "duration": 0,
               "redraw": true
              },
              "fromcurrent": true,
              "mode": "immediate",
              "transition": {
               "duration": 0,
               "easing": "linear"
              }
             }
            ],
            "label": "2020-05-31",
            "method": "animate"
           },
           {
            "args": [
             [
              "2020-06-05"
             ],
             {
              "frame": {
               "duration": 0,
               "redraw": true
              },
              "fromcurrent": true,
              "mode": "immediate",
              "transition": {
               "duration": 0,
               "easing": "linear"
              }
             }
            ],
            "label": "2020-06-05",
            "method": "animate"
           },
           {
            "args": [
             [
              "2020-06-10"
             ],
             {
              "frame": {
               "duration": 0,
               "redraw": true
              },
              "fromcurrent": true,
              "mode": "immediate",
              "transition": {
               "duration": 0,
               "easing": "linear"
              }
             }
            ],
            "label": "2020-06-10",
            "method": "animate"
           },
           {
            "args": [
             [
              "2020-06-15"
             ],
             {
              "frame": {
               "duration": 0,
               "redraw": true
              },
              "fromcurrent": true,
              "mode": "immediate",
              "transition": {
               "duration": 0,
               "easing": "linear"
              }
             }
            ],
            "label": "2020-06-15",
            "method": "animate"
           },
           {
            "args": [
             [
              "2020-06-20"
             ],
             {
              "frame": {
               "duration": 0,
               "redraw": true
              },
              "fromcurrent": true,
              "mode": "immediate",
              "transition": {
               "duration": 0,
               "easing": "linear"
              }
             }
            ],
            "label": "2020-06-20",
            "method": "animate"
           },
           {
            "args": [
             [
              "2020-06-25"
             ],
             {
              "frame": {
               "duration": 0,
               "redraw": true
              },
              "fromcurrent": true,
              "mode": "immediate",
              "transition": {
               "duration": 0,
               "easing": "linear"
              }
             }
            ],
            "label": "2020-06-25",
            "method": "animate"
           },
           {
            "args": [
             [
              "2020-06-30"
             ],
             {
              "frame": {
               "duration": 0,
               "redraw": true
              },
              "fromcurrent": true,
              "mode": "immediate",
              "transition": {
               "duration": 0,
               "easing": "linear"
              }
             }
            ],
            "label": "2020-06-30",
            "method": "animate"
           },
           {
            "args": [
             [
              "2020-07-05"
             ],
             {
              "frame": {
               "duration": 0,
               "redraw": true
              },
              "fromcurrent": true,
              "mode": "immediate",
              "transition": {
               "duration": 0,
               "easing": "linear"
              }
             }
            ],
            "label": "2020-07-05",
            "method": "animate"
           },
           {
            "args": [
             [
              "2020-07-10"
             ],
             {
              "frame": {
               "duration": 0,
               "redraw": true
              },
              "fromcurrent": true,
              "mode": "immediate",
              "transition": {
               "duration": 0,
               "easing": "linear"
              }
             }
            ],
            "label": "2020-07-10",
            "method": "animate"
           },
           {
            "args": [
             [
              "2020-07-15"
             ],
             {
              "frame": {
               "duration": 0,
               "redraw": true
              },
              "fromcurrent": true,
              "mode": "immediate",
              "transition": {
               "duration": 0,
               "easing": "linear"
              }
             }
            ],
            "label": "2020-07-15",
            "method": "animate"
           },
           {
            "args": [
             [
              "2020-07-20"
             ],
             {
              "frame": {
               "duration": 0,
               "redraw": true
              },
              "fromcurrent": true,
              "mode": "immediate",
              "transition": {
               "duration": 0,
               "easing": "linear"
              }
             }
            ],
            "label": "2020-07-20",
            "method": "animate"
           },
           {
            "args": [
             [
              "2020-07-25"
             ],
             {
              "frame": {
               "duration": 0,
               "redraw": true
              },
              "fromcurrent": true,
              "mode": "immediate",
              "transition": {
               "duration": 0,
               "easing": "linear"
              }
             }
            ],
            "label": "2020-07-25",
            "method": "animate"
           },
           {
            "args": [
             [
              "2020-07-30"
             ],
             {
              "frame": {
               "duration": 0,
               "redraw": true
              },
              "fromcurrent": true,
              "mode": "immediate",
              "transition": {
               "duration": 0,
               "easing": "linear"
              }
             }
            ],
            "label": "2020-07-30",
            "method": "animate"
           },
           {
            "args": [
             [
              "2020-08-04"
             ],
             {
              "frame": {
               "duration": 0,
               "redraw": true
              },
              "fromcurrent": true,
              "mode": "immediate",
              "transition": {
               "duration": 0,
               "easing": "linear"
              }
             }
            ],
            "label": "2020-08-04",
            "method": "animate"
           },
           {
            "args": [
             [
              "2020-08-09"
             ],
             {
              "frame": {
               "duration": 0,
               "redraw": true
              },
              "fromcurrent": true,
              "mode": "immediate",
              "transition": {
               "duration": 0,
               "easing": "linear"
              }
             }
            ],
            "label": "2020-08-09",
            "method": "animate"
           },
           {
            "args": [
             [
              "2020-08-14"
             ],
             {
              "frame": {
               "duration": 0,
               "redraw": true
              },
              "fromcurrent": true,
              "mode": "immediate",
              "transition": {
               "duration": 0,
               "easing": "linear"
              }
             }
            ],
            "label": "2020-08-14",
            "method": "animate"
           },
           {
            "args": [
             [
              "2020-08-19"
             ],
             {
              "frame": {
               "duration": 0,
               "redraw": true
              },
              "fromcurrent": true,
              "mode": "immediate",
              "transition": {
               "duration": 0,
               "easing": "linear"
              }
             }
            ],
            "label": "2020-08-19",
            "method": "animate"
           },
           {
            "args": [
             [
              "2020-08-24"
             ],
             {
              "frame": {
               "duration": 0,
               "redraw": true
              },
              "fromcurrent": true,
              "mode": "immediate",
              "transition": {
               "duration": 0,
               "easing": "linear"
              }
             }
            ],
            "label": "2020-08-24",
            "method": "animate"
           },
           {
            "args": [
             [
              "2020-08-29"
             ],
             {
              "frame": {
               "duration": 0,
               "redraw": true
              },
              "fromcurrent": true,
              "mode": "immediate",
              "transition": {
               "duration": 0,
               "easing": "linear"
              }
             }
            ],
            "label": "2020-08-29",
            "method": "animate"
           }
          ],
          "x": 0.1,
          "xanchor": "left",
          "y": 0,
          "yanchor": "top"
         }
        ],
        "template": {
         "data": {
          "bar": [
           {
            "error_x": {
             "color": "#2a3f5f"
            },
            "error_y": {
             "color": "#2a3f5f"
            },
            "marker": {
             "line": {
              "color": "#E5ECF6",
              "width": 0.5
             },
             "pattern": {
              "fillmode": "overlay",
              "size": 10,
              "solidity": 0.2
             }
            },
            "type": "bar"
           }
          ],
          "barpolar": [
           {
            "marker": {
             "line": {
              "color": "#E5ECF6",
              "width": 0.5
             },
             "pattern": {
              "fillmode": "overlay",
              "size": 10,
              "solidity": 0.2
             }
            },
            "type": "barpolar"
           }
          ],
          "carpet": [
           {
            "aaxis": {
             "endlinecolor": "#2a3f5f",
             "gridcolor": "white",
             "linecolor": "white",
             "minorgridcolor": "white",
             "startlinecolor": "#2a3f5f"
            },
            "baxis": {
             "endlinecolor": "#2a3f5f",
             "gridcolor": "white",
             "linecolor": "white",
             "minorgridcolor": "white",
             "startlinecolor": "#2a3f5f"
            },
            "type": "carpet"
           }
          ],
          "choropleth": [
           {
            "colorbar": {
             "outlinewidth": 0,
             "ticks": ""
            },
            "type": "choropleth"
           }
          ],
          "contour": [
           {
            "colorbar": {
             "outlinewidth": 0,
             "ticks": ""
            },
            "colorscale": [
             [
              0,
              "#0d0887"
             ],
             [
              0.1111111111111111,
              "#46039f"
             ],
             [
              0.2222222222222222,
              "#7201a8"
             ],
             [
              0.3333333333333333,
              "#9c179e"
             ],
             [
              0.4444444444444444,
              "#bd3786"
             ],
             [
              0.5555555555555556,
              "#d8576b"
             ],
             [
              0.6666666666666666,
              "#ed7953"
             ],
             [
              0.7777777777777778,
              "#fb9f3a"
             ],
             [
              0.8888888888888888,
              "#fdca26"
             ],
             [
              1,
              "#f0f921"
             ]
            ],
            "type": "contour"
           }
          ],
          "contourcarpet": [
           {
            "colorbar": {
             "outlinewidth": 0,
             "ticks": ""
            },
            "type": "contourcarpet"
           }
          ],
          "heatmap": [
           {
            "colorbar": {
             "outlinewidth": 0,
             "ticks": ""
            },
            "colorscale": [
             [
              0,
              "#0d0887"
             ],
             [
              0.1111111111111111,
              "#46039f"
             ],
             [
              0.2222222222222222,
              "#7201a8"
             ],
             [
              0.3333333333333333,
              "#9c179e"
             ],
             [
              0.4444444444444444,
              "#bd3786"
             ],
             [
              0.5555555555555556,
              "#d8576b"
             ],
             [
              0.6666666666666666,
              "#ed7953"
             ],
             [
              0.7777777777777778,
              "#fb9f3a"
             ],
             [
              0.8888888888888888,
              "#fdca26"
             ],
             [
              1,
              "#f0f921"
             ]
            ],
            "type": "heatmap"
           }
          ],
          "heatmapgl": [
           {
            "colorbar": {
             "outlinewidth": 0,
             "ticks": ""
            },
            "colorscale": [
             [
              0,
              "#0d0887"
             ],
             [
              0.1111111111111111,
              "#46039f"
             ],
             [
              0.2222222222222222,
              "#7201a8"
             ],
             [
              0.3333333333333333,
              "#9c179e"
             ],
             [
              0.4444444444444444,
              "#bd3786"
             ],
             [
              0.5555555555555556,
              "#d8576b"
             ],
             [
              0.6666666666666666,
              "#ed7953"
             ],
             [
              0.7777777777777778,
              "#fb9f3a"
             ],
             [
              0.8888888888888888,
              "#fdca26"
             ],
             [
              1,
              "#f0f921"
             ]
            ],
            "type": "heatmapgl"
           }
          ],
          "histogram": [
           {
            "marker": {
             "pattern": {
              "fillmode": "overlay",
              "size": 10,
              "solidity": 0.2
             }
            },
            "type": "histogram"
           }
          ],
          "histogram2d": [
           {
            "colorbar": {
             "outlinewidth": 0,
             "ticks": ""
            },
            "colorscale": [
             [
              0,
              "#0d0887"
             ],
             [
              0.1111111111111111,
              "#46039f"
             ],
             [
              0.2222222222222222,
              "#7201a8"
             ],
             [
              0.3333333333333333,
              "#9c179e"
             ],
             [
              0.4444444444444444,
              "#bd3786"
             ],
             [
              0.5555555555555556,
              "#d8576b"
             ],
             [
              0.6666666666666666,
              "#ed7953"
             ],
             [
              0.7777777777777778,
              "#fb9f3a"
             ],
             [
              0.8888888888888888,
              "#fdca26"
             ],
             [
              1,
              "#f0f921"
             ]
            ],
            "type": "histogram2d"
           }
          ],
          "histogram2dcontour": [
           {
            "colorbar": {
             "outlinewidth": 0,
             "ticks": ""
            },
            "colorscale": [
             [
              0,
              "#0d0887"
             ],
             [
              0.1111111111111111,
              "#46039f"
             ],
             [
              0.2222222222222222,
              "#7201a8"
             ],
             [
              0.3333333333333333,
              "#9c179e"
             ],
             [
              0.4444444444444444,
              "#bd3786"
             ],
             [
              0.5555555555555556,
              "#d8576b"
             ],
             [
              0.6666666666666666,
              "#ed7953"
             ],
             [
              0.7777777777777778,
              "#fb9f3a"
             ],
             [
              0.8888888888888888,
              "#fdca26"
             ],
             [
              1,
              "#f0f921"
             ]
            ],
            "type": "histogram2dcontour"
           }
          ],
          "mesh3d": [
           {
            "colorbar": {
             "outlinewidth": 0,
             "ticks": ""
            },
            "type": "mesh3d"
           }
          ],
          "parcoords": [
           {
            "line": {
             "colorbar": {
              "outlinewidth": 0,
              "ticks": ""
             }
            },
            "type": "parcoords"
           }
          ],
          "pie": [
           {
            "automargin": true,
            "type": "pie"
           }
          ],
          "scatter": [
           {
            "fillpattern": {
             "fillmode": "overlay",
             "size": 10,
             "solidity": 0.2
            },
            "type": "scatter"
           }
          ],
          "scatter3d": [
           {
            "line": {
             "colorbar": {
              "outlinewidth": 0,
              "ticks": ""
             }
            },
            "marker": {
             "colorbar": {
              "outlinewidth": 0,
              "ticks": ""
             }
            },
            "type": "scatter3d"
           }
          ],
          "scattercarpet": [
           {
            "marker": {
             "colorbar": {
              "outlinewidth": 0,
              "ticks": ""
             }
            },
            "type": "scattercarpet"
           }
          ],
          "scattergeo": [
           {
            "marker": {
             "colorbar": {
              "outlinewidth": 0,
              "ticks": ""
             }
            },
            "type": "scattergeo"
           }
          ],
          "scattergl": [
           {
            "marker": {
             "colorbar": {
              "outlinewidth": 0,
              "ticks": ""
             }
            },
            "type": "scattergl"
           }
          ],
          "scattermapbox": [
           {
            "marker": {
             "colorbar": {
              "outlinewidth": 0,
              "ticks": ""
             }
            },
            "type": "scattermapbox"
           }
          ],
          "scatterpolar": [
           {
            "marker": {
             "colorbar": {
              "outlinewidth": 0,
              "ticks": ""
             }
            },
            "type": "scatterpolar"
           }
          ],
          "scatterpolargl": [
           {
            "marker": {
             "colorbar": {
              "outlinewidth": 0,
              "ticks": ""
             }
            },
            "type": "scatterpolargl"
           }
          ],
          "scatterternary": [
           {
            "marker": {
             "colorbar": {
              "outlinewidth": 0,
              "ticks": ""
             }
            },
            "type": "scatterternary"
           }
          ],
          "surface": [
           {
            "colorbar": {
             "outlinewidth": 0,
             "ticks": ""
            },
            "colorscale": [
             [
              0,
              "#0d0887"
             ],
             [
              0.1111111111111111,
              "#46039f"
             ],
             [
              0.2222222222222222,
              "#7201a8"
             ],
             [
              0.3333333333333333,
              "#9c179e"
             ],
             [
              0.4444444444444444,
              "#bd3786"
             ],
             [
              0.5555555555555556,
              "#d8576b"
             ],
             [
              0.6666666666666666,
              "#ed7953"
             ],
             [
              0.7777777777777778,
              "#fb9f3a"
             ],
             [
              0.8888888888888888,
              "#fdca26"
             ],
             [
              1,
              "#f0f921"
             ]
            ],
            "type": "surface"
           }
          ],
          "table": [
           {
            "cells": {
             "fill": {
              "color": "#EBF0F8"
             },
             "line": {
              "color": "white"
             }
            },
            "header": {
             "fill": {
              "color": "#C8D4E3"
             },
             "line": {
              "color": "white"
             }
            },
            "type": "table"
           }
          ]
         },
         "layout": {
          "annotationdefaults": {
           "arrowcolor": "#2a3f5f",
           "arrowhead": 0,
           "arrowwidth": 1
          },
          "autotypenumbers": "strict",
          "coloraxis": {
           "colorbar": {
            "outlinewidth": 0,
            "ticks": ""
           }
          },
          "colorscale": {
           "diverging": [
            [
             0,
             "#8e0152"
            ],
            [
             0.1,
             "#c51b7d"
            ],
            [
             0.2,
             "#de77ae"
            ],
            [
             0.3,
             "#f1b6da"
            ],
            [
             0.4,
             "#fde0ef"
            ],
            [
             0.5,
             "#f7f7f7"
            ],
            [
             0.6,
             "#e6f5d0"
            ],
            [
             0.7,
             "#b8e186"
            ],
            [
             0.8,
             "#7fbc41"
            ],
            [
             0.9,
             "#4d9221"
            ],
            [
             1,
             "#276419"
            ]
           ],
           "sequential": [
            [
             0,
             "#0d0887"
            ],
            [
             0.1111111111111111,
             "#46039f"
            ],
            [
             0.2222222222222222,
             "#7201a8"
            ],
            [
             0.3333333333333333,
             "#9c179e"
            ],
            [
             0.4444444444444444,
             "#bd3786"
            ],
            [
             0.5555555555555556,
             "#d8576b"
            ],
            [
             0.6666666666666666,
             "#ed7953"
            ],
            [
             0.7777777777777778,
             "#fb9f3a"
            ],
            [
             0.8888888888888888,
             "#fdca26"
            ],
            [
             1,
             "#f0f921"
            ]
           ],
           "sequentialminus": [
            [
             0,
             "#0d0887"
            ],
            [
             0.1111111111111111,
             "#46039f"
            ],
            [
             0.2222222222222222,
             "#7201a8"
            ],
            [
             0.3333333333333333,
             "#9c179e"
            ],
            [
             0.4444444444444444,
             "#bd3786"
            ],
            [
             0.5555555555555556,
             "#d8576b"
            ],
            [
             0.6666666666666666,
             "#ed7953"
            ],
            [
             0.7777777777777778,
             "#fb9f3a"
            ],
            [
             0.8888888888888888,
             "#fdca26"
            ],
            [
             1,
             "#f0f921"
            ]
           ]
          },
          "colorway": [
           "#636efa",
           "#EF553B",
           "#00cc96",
           "#ab63fa",
           "#FFA15A",
           "#19d3f3",
           "#FF6692",
           "#B6E880",
           "#FF97FF",
           "#FECB52"
          ],
          "font": {
           "color": "#2a3f5f"
          },
          "geo": {
           "bgcolor": "white",
           "lakecolor": "white",
           "landcolor": "#E5ECF6",
           "showlakes": true,
           "showland": true,
           "subunitcolor": "white"
          },
          "hoverlabel": {
           "align": "left"
          },
          "hovermode": "closest",
          "mapbox": {
           "style": "light"
          },
          "paper_bgcolor": "white",
          "plot_bgcolor": "#E5ECF6",
          "polar": {
           "angularaxis": {
            "gridcolor": "white",
            "linecolor": "white",
            "ticks": ""
           },
           "bgcolor": "#E5ECF6",
           "radialaxis": {
            "gridcolor": "white",
            "linecolor": "white",
            "ticks": ""
           }
          },
          "scene": {
           "xaxis": {
            "backgroundcolor": "#E5ECF6",
            "gridcolor": "white",
            "gridwidth": 2,
            "linecolor": "white",
            "showbackground": true,
            "ticks": "",
            "zerolinecolor": "white"
           },
           "yaxis": {
            "backgroundcolor": "#E5ECF6",
            "gridcolor": "white",
            "gridwidth": 2,
            "linecolor": "white",
            "showbackground": true,
            "ticks": "",
            "zerolinecolor": "white"
           },
           "zaxis": {
            "backgroundcolor": "#E5ECF6",
            "gridcolor": "white",
            "gridwidth": 2,
            "linecolor": "white",
            "showbackground": true,
            "ticks": "",
            "zerolinecolor": "white"
           }
          },
          "shapedefaults": {
           "line": {
            "color": "#2a3f5f"
           }
          },
          "ternary": {
           "aaxis": {
            "gridcolor": "white",
            "linecolor": "white",
            "ticks": ""
           },
           "baxis": {
            "gridcolor": "white",
            "linecolor": "white",
            "ticks": ""
           },
           "bgcolor": "#E5ECF6",
           "caxis": {
            "gridcolor": "white",
            "linecolor": "white",
            "ticks": ""
           }
          },
          "title": {
           "x": 0.05
          },
          "xaxis": {
           "automargin": true,
           "gridcolor": "white",
           "linecolor": "white",
           "ticks": "",
           "title": {
            "standoff": 15
           },
           "zerolinecolor": "white",
           "zerolinewidth": 2
          },
          "yaxis": {
           "automargin": true,
           "gridcolor": "white",
           "linecolor": "white",
           "ticks": "",
           "title": {
            "standoff": 15
           },
           "zerolinecolor": "white",
           "zerolinewidth": 2
          }
         }
        },
        "title": {
         "text": "<span style=\"font-size: 16px;\"><b>Number of cumulative cases per 100000 inhabitants and per country</b></span>"
        },
        "transition": {
         "duration": 2
        },
        "updatemenus": [
         {
          "buttons": [
           {
            "args": [
             null,
             {
              "frame": {
               "duration": 0,
               "redraw": true
              },
              "fromcurrent": true,
              "mode": "immediate",
              "transition": {
               "duration": 0,
               "easing": "linear"
              },
              "visible": false
             }
            ],
            "label": "&#9654;",
            "method": "animate"
           },
           {
            "args": [
             [
              null
             ],
             {
              "frame": {
               "duration": 0,
               "redraw": true
              },
              "fromcurrent": true,
              "mode": "immediate",
              "transition": {
               "duration": 1,
               "easing": "linear"
              }
             }
            ],
            "label": "&#9724;",
            "method": "animate"
           }
          ],
          "direction": "left",
          "pad": {
           "r": 10,
           "t": 70
          },
          "showactive": false,
          "type": "buttons",
          "x": 0.1,
          "xanchor": "right",
          "y": 0,
          "yanchor": "top"
         }
        ],
        "width": 700
       }
      }
     },
     "metadata": {},
     "output_type": "display_data"
    }
   ],
   "source": [
    "# Create a df for the mapchart using the cumulative cases data\n",
    "cases_mapchart = mapcharts_df(cases100k_cumul, o_country_dict, 'Cases')\n",
    "# Create map chart\n",
    "mapcharts(cases_mapchart, 'Cases', 'country', 'Number of cumulative cases per 100000 inhabitants and per country')"
   ]
  },
  {
   "attachments": {},
   "cell_type": "markdown",
   "metadata": {},
   "source": [
    "\n",
    "### Loading the data <a class=\"anchor\" id=\"section_1_2\"></a>\n",
    "\n",
    "We first load the raw data for pageviews and population, and then clean it to obtain a dataframe of pageviews, cumulative pageviews, pageviews per 100,000 inhabitants, and cumulative pageviews per 100,000 inhabitants using the `get_pageviews_df` function.\n",
    "\n",
    "For cases and deaths due to COVID-19, we do the same, but we obtain the raw data using URLs with the `get_cases_deaths_df` function.\n",
    "\n",
    "For our inanalysis, we consider the data from the start of the COVID-19 pandemic, from **January 22, 2020** to **July 31, 2022**."
   ]
  },
  {
   "cell_type": "code",
   "execution_count": 8,
   "metadata": {},
   "outputs": [],
   "source": [
    "df_pageviews, df_pageviews_cumul, df_pageviews100k, df_pageviews_cumul100k = get_pageviews_df(pageview_df, population_df, get_country_dict('original'), '2020-01-22', '2022-07-31')\n",
    "deaths, cases, deaths_cumul, cases_cumul, deaths100k, deaths100k_cumul, cases100k, cases100k_cumul = get_cases_deaths_df(population_df, get_country_dict('original'), '2020-01-22', '2022-07-31')"
   ]
  },
  {
   "cell_type": "code",
   "execution_count": null,
   "metadata": {},
   "outputs": [],
   "source": [
    "def get_race_bar_df(df):\n",
    "    df_br = df.rename(columns= {v: k for k, v in get_country_dict('original').items()}).reset_index().rename(columns = {'index': 'Country'})\n",
    "    df_br = df_br.drop('date', axis= 1)\n",
    "    df_br = df_br.rolling(14, min_periods=1).sum()\n",
    "    df_br= df_br.loc[df_br.index % 14 == 13].reset_index()\n",
    "    df_br.index= df_br['index'].apply(lambda x: pd.to_datetime('2020-01-22') + datetime.timedelta(days= x))\n",
    "    df_br = df_br.drop('index', axis= 1)\n",
    "    return df_br"
   ]
  },
  {
   "cell_type": "markdown",
   "metadata": {},
   "source": []
  },
  {
   "cell_type": "code",
   "execution_count": 9,
   "metadata": {},
   "outputs": [
    {
     "name": "stderr",
     "output_type": "stream",
     "text": [
      "/Library/Frameworks/Python.framework/Versions/3.9/lib/python3.9/site-packages/bar_chart_race/_make_chart.py:889: FutureWarning:\n",
      "\n",
      "In a future version, `df.iloc[:, i] = newvals` will attempt to set the values inplace instead of always setting a new array. To retain the old behavior, use either `df[df.columns[i]] = newvals` or, if columns are non-unique, `df.isetitem(i, newvals)`\n",
      "\n",
      "/Library/Frameworks/Python.framework/Versions/3.9/lib/python3.9/site-packages/bar_chart_race/_make_chart.py:286: UserWarning:\n",
      "\n",
      "FixedFormatter should only be used together with FixedLocator\n",
      "\n",
      "/Library/Frameworks/Python.framework/Versions/3.9/lib/python3.9/site-packages/bar_chart_race/_make_chart.py:287: UserWarning:\n",
      "\n",
      "FixedFormatter should only be used together with FixedLocator\n",
      "\n"
     ]
    }
   ],
   "source": [
    "\n",
    "df_pageviews100k_br = get_race_bar_df(df_pageviews100k)\n",
    "brc.bar_chart_race(df_pageviews100k_br, n_bars= 15, sort= 'desc', period_length=2000, filename= 'pageviewsbarRace.mp4', filter_column_colors= True, steps_per_period=40, title='Biweekly pageviews of Covid-19 related article by country per 100k inhabitants', title_size= '10')"
   ]
  },
  {
   "cell_type": "code",
   "execution_count": 10,
   "metadata": {},
   "outputs": [
    {
     "name": "stderr",
     "output_type": "stream",
     "text": [
      "/Library/Frameworks/Python.framework/Versions/3.9/lib/python3.9/site-packages/bar_chart_race/_make_chart.py:889: FutureWarning:\n",
      "\n",
      "In a future version, `df.iloc[:, i] = newvals` will attempt to set the values inplace instead of always setting a new array. To retain the old behavior, use either `df[df.columns[i]] = newvals` or, if columns are non-unique, `df.isetitem(i, newvals)`\n",
      "\n",
      "/Library/Frameworks/Python.framework/Versions/3.9/lib/python3.9/site-packages/bar_chart_race/_make_chart.py:286: UserWarning:\n",
      "\n",
      "FixedFormatter should only be used together with FixedLocator\n",
      "\n",
      "/Library/Frameworks/Python.framework/Versions/3.9/lib/python3.9/site-packages/bar_chart_race/_make_chart.py:287: UserWarning:\n",
      "\n",
      "FixedFormatter should only be used together with FixedLocator\n",
      "\n"
     ]
    }
   ],
   "source": [
    "deaths100k_br = get_race_bar_df(deaths100k)\n",
    "brc.bar_chart_race(deaths100k_br, n_bars= 15, sort= 'desc', period_length=2000, filename= 'deathsbarRace.mp4', filter_column_colors= True, steps_per_period=50, title='Biweekly deaths due to Covid-19 by country per 100k inhabitants', title_size= '10')"
   ]
  },
  {
   "cell_type": "code",
   "execution_count": null,
   "metadata": {},
   "outputs": [
    {
     "name": "stderr",
     "output_type": "stream",
     "text": [
      "/Library/Frameworks/Python.framework/Versions/3.9/lib/python3.9/site-packages/bar_chart_race/_make_chart.py:889: FutureWarning:\n",
      "\n",
      "In a future version, `df.iloc[:, i] = newvals` will attempt to set the values inplace instead of always setting a new array. To retain the old behavior, use either `df[df.columns[i]] = newvals` or, if columns are non-unique, `df.isetitem(i, newvals)`\n",
      "\n",
      "/Library/Frameworks/Python.framework/Versions/3.9/lib/python3.9/site-packages/bar_chart_race/_make_chart.py:286: UserWarning:\n",
      "\n",
      "FixedFormatter should only be used together with FixedLocator\n",
      "\n",
      "/Library/Frameworks/Python.framework/Versions/3.9/lib/python3.9/site-packages/bar_chart_race/_make_chart.py:287: UserWarning:\n",
      "\n",
      "FixedFormatter should only be used together with FixedLocator\n",
      "\n"
     ]
    },
    {
     "ename": "KeyboardInterrupt",
     "evalue": "",
     "output_type": "error",
     "traceback": [
      "\u001b[0;31m---------------------------------------------------------------------------\u001b[0m",
      "\u001b[0;31mKeyboardInterrupt\u001b[0m                         Traceback (most recent call last)",
      "Cell \u001b[0;32mIn [272], line 2\u001b[0m\n\u001b[1;32m      1\u001b[0m cases100k_br \u001b[39m=\u001b[39m get_race_bar_df(cases100k)\n\u001b[0;32m----> 2\u001b[0m brc\u001b[39m.\u001b[39;49mbar_chart_race(cases100k_br, n_bars\u001b[39m=\u001b[39;49m \u001b[39m15\u001b[39;49m, sort\u001b[39m=\u001b[39;49m \u001b[39m'\u001b[39;49m\u001b[39mdesc\u001b[39;49m\u001b[39m'\u001b[39;49m, period_length\u001b[39m=\u001b[39;49m\u001b[39m2000\u001b[39;49m, filename\u001b[39m=\u001b[39;49m \u001b[39m'\u001b[39;49m\u001b[39mdeathsbarRace.mp4\u001b[39;49m\u001b[39m'\u001b[39;49m, filter_column_colors\u001b[39m=\u001b[39;49m \u001b[39mTrue\u001b[39;49;00m, steps_per_period\u001b[39m=\u001b[39;49m\u001b[39m50\u001b[39;49m, title\u001b[39m=\u001b[39;49m\u001b[39m'\u001b[39;49m\u001b[39mBiweekly Covid-19 cases by country per 100k inhabitants\u001b[39;49m\u001b[39m'\u001b[39;49m, title_size\u001b[39m=\u001b[39;49m \u001b[39m'\u001b[39;49m\u001b[39m10\u001b[39;49m\u001b[39m'\u001b[39;49m)\n",
      "File \u001b[0;32m/Library/Frameworks/Python.framework/Versions/3.9/lib/python3.9/site-packages/bar_chart_race/_make_chart.py:783\u001b[0m, in \u001b[0;36mbar_chart_race\u001b[0;34m(df, filename, orientation, sort, n_bars, fixed_order, fixed_max, steps_per_period, period_length, interpolate_period, label_bars, bar_size, period_label, period_fmt, period_summary_func, perpendicular_bar_func, figsize, cmap, title, title_size, bar_label_size, tick_label_size, shared_fontdict, scale, writer, fig, dpi, bar_kwargs, filter_column_colors)\u001b[0m\n\u001b[1;32m    461\u001b[0m \u001b[39m'''\u001b[39;00m\n\u001b[1;32m    462\u001b[0m \u001b[39mCreate an animated bar chart race using matplotlib. Data must be in \u001b[39;00m\n\u001b[1;32m    463\u001b[0m \u001b[39m'wide' format where each row represents a single time period and each \u001b[39;00m\n\u001b[0;32m   (...)\u001b[0m\n\u001b[1;32m    776\u001b[0m \u001b[39mThese sizes are relative to plt.rcParams['font.size'].\u001b[39;00m\n\u001b[1;32m    777\u001b[0m \u001b[39m'''\u001b[39;00m\n\u001b[1;32m    778\u001b[0m bcr \u001b[39m=\u001b[39m _BarChartRace(df, filename, orientation, sort, n_bars, fixed_order, fixed_max,\n\u001b[1;32m    779\u001b[0m                     steps_per_period, period_length, interpolate_period, label_bars, bar_size, \n\u001b[1;32m    780\u001b[0m                     period_label, period_fmt, period_summary_func, perpendicular_bar_func, \n\u001b[1;32m    781\u001b[0m                     figsize, cmap, title, title_size, bar_label_size, tick_label_size, \n\u001b[1;32m    782\u001b[0m                     shared_fontdict, scale, writer, fig, dpi, bar_kwargs, filter_column_colors)\n\u001b[0;32m--> 783\u001b[0m \u001b[39mreturn\u001b[39;00m bcr\u001b[39m.\u001b[39;49mmake_animation()\n",
      "File \u001b[0;32m/Library/Frameworks/Python.framework/Versions/3.9/lib/python3.9/site-packages/bar_chart_race/_make_chart.py:435\u001b[0m, in \u001b[0;36m_BarChartRace.make_animation\u001b[0;34m(self)\u001b[0m\n\u001b[1;32m    433\u001b[0m             \u001b[39mpass\u001b[39;00m\n\u001b[1;32m    434\u001b[0m     \u001b[39melse\u001b[39;00m:\n\u001b[0;32m--> 435\u001b[0m         ret_val \u001b[39m=\u001b[39m anim\u001b[39m.\u001b[39;49msave(\u001b[39mself\u001b[39;49m\u001b[39m.\u001b[39;49mfilename, fps\u001b[39m=\u001b[39;49m\u001b[39mself\u001b[39;49m\u001b[39m.\u001b[39;49mfps, writer\u001b[39m=\u001b[39;49m\u001b[39mself\u001b[39;49m\u001b[39m.\u001b[39;49mwriter)\n\u001b[1;32m    436\u001b[0m \u001b[39mexcept\u001b[39;00m \u001b[39mException\u001b[39;00m \u001b[39mas\u001b[39;00m e:\n\u001b[1;32m    437\u001b[0m     \u001b[39mif\u001b[39;00m \u001b[39mself\u001b[39m\u001b[39m.\u001b[39mextension \u001b[39m!=\u001b[39m \u001b[39m'\u001b[39m\u001b[39mgif\u001b[39m\u001b[39m'\u001b[39m:\n",
      "File \u001b[0;32m/Library/Frameworks/Python.framework/Versions/3.9/lib/python3.9/site-packages/matplotlib/animation.py:1085\u001b[0m, in \u001b[0;36mAnimation.save\u001b[0;34m(self, filename, writer, fps, dpi, codec, bitrate, extra_args, metadata, extra_anim, savefig_kwargs, progress_callback)\u001b[0m\n\u001b[1;32m   1083\u001b[0m         progress_callback(frame_number, total_frames)\n\u001b[1;32m   1084\u001b[0m         frame_number \u001b[39m+\u001b[39m\u001b[39m=\u001b[39m \u001b[39m1\u001b[39m\n\u001b[0;32m-> 1085\u001b[0m writer\u001b[39m.\u001b[39;49mgrab_frame(\u001b[39m*\u001b[39;49m\u001b[39m*\u001b[39;49msavefig_kwargs)\n",
      "File \u001b[0;32m/Library/Frameworks/Python.framework/Versions/3.9/lib/python3.9/site-packages/matplotlib/animation.py:357\u001b[0m, in \u001b[0;36mMovieWriter.grab_frame\u001b[0;34m(self, **savefig_kwargs)\u001b[0m\n\u001b[1;32m    355\u001b[0m \u001b[39mself\u001b[39m\u001b[39m.\u001b[39mfig\u001b[39m.\u001b[39mset_size_inches(\u001b[39mself\u001b[39m\u001b[39m.\u001b[39m_w, \u001b[39mself\u001b[39m\u001b[39m.\u001b[39m_h)\n\u001b[1;32m    356\u001b[0m \u001b[39m# Save the figure data to the sink, using the frame format and dpi.\u001b[39;00m\n\u001b[0;32m--> 357\u001b[0m \u001b[39mself\u001b[39;49m\u001b[39m.\u001b[39;49mfig\u001b[39m.\u001b[39;49msavefig(\u001b[39mself\u001b[39;49m\u001b[39m.\u001b[39;49m_proc\u001b[39m.\u001b[39;49mstdin, \u001b[39mformat\u001b[39;49m\u001b[39m=\u001b[39;49m\u001b[39mself\u001b[39;49m\u001b[39m.\u001b[39;49mframe_format,\n\u001b[1;32m    358\u001b[0m                  dpi\u001b[39m=\u001b[39;49m\u001b[39mself\u001b[39;49m\u001b[39m.\u001b[39;49mdpi, \u001b[39m*\u001b[39;49m\u001b[39m*\u001b[39;49msavefig_kwargs)\n",
      "File \u001b[0;32m/Library/Frameworks/Python.framework/Versions/3.9/lib/python3.9/site-packages/matplotlib/figure.py:3277\u001b[0m, in \u001b[0;36mFigure.savefig\u001b[0;34m(self, fname, transparent, **kwargs)\u001b[0m\n\u001b[1;32m   3273\u001b[0m     \u001b[39mfor\u001b[39;00m ax \u001b[39min\u001b[39;00m \u001b[39mself\u001b[39m\u001b[39m.\u001b[39maxes:\n\u001b[1;32m   3274\u001b[0m         stack\u001b[39m.\u001b[39menter_context(\n\u001b[1;32m   3275\u001b[0m             ax\u001b[39m.\u001b[39mpatch\u001b[39m.\u001b[39m_cm_set(facecolor\u001b[39m=\u001b[39m\u001b[39m'\u001b[39m\u001b[39mnone\u001b[39m\u001b[39m'\u001b[39m, edgecolor\u001b[39m=\u001b[39m\u001b[39m'\u001b[39m\u001b[39mnone\u001b[39m\u001b[39m'\u001b[39m))\n\u001b[0;32m-> 3277\u001b[0m \u001b[39mself\u001b[39;49m\u001b[39m.\u001b[39;49mcanvas\u001b[39m.\u001b[39;49mprint_figure(fname, \u001b[39m*\u001b[39;49m\u001b[39m*\u001b[39;49mkwargs)\n",
      "File \u001b[0;32m/Library/Frameworks/Python.framework/Versions/3.9/lib/python3.9/site-packages/matplotlib/backend_bases.py:2338\u001b[0m, in \u001b[0;36mFigureCanvasBase.print_figure\u001b[0;34m(self, filename, dpi, facecolor, edgecolor, orientation, format, bbox_inches, pad_inches, bbox_extra_artists, backend, **kwargs)\u001b[0m\n\u001b[1;32m   2334\u001b[0m \u001b[39mtry\u001b[39;00m:\n\u001b[1;32m   2335\u001b[0m     \u001b[39m# _get_renderer may change the figure dpi (as vector formats\u001b[39;00m\n\u001b[1;32m   2336\u001b[0m     \u001b[39m# force the figure dpi to 72), so we need to set it again here.\u001b[39;00m\n\u001b[1;32m   2337\u001b[0m     \u001b[39mwith\u001b[39;00m cbook\u001b[39m.\u001b[39m_setattr_cm(\u001b[39mself\u001b[39m\u001b[39m.\u001b[39mfigure, dpi\u001b[39m=\u001b[39mdpi):\n\u001b[0;32m-> 2338\u001b[0m         result \u001b[39m=\u001b[39m print_method(\n\u001b[1;32m   2339\u001b[0m             filename,\n\u001b[1;32m   2340\u001b[0m             facecolor\u001b[39m=\u001b[39;49mfacecolor,\n\u001b[1;32m   2341\u001b[0m             edgecolor\u001b[39m=\u001b[39;49medgecolor,\n\u001b[1;32m   2342\u001b[0m             orientation\u001b[39m=\u001b[39;49morientation,\n\u001b[1;32m   2343\u001b[0m             bbox_inches_restore\u001b[39m=\u001b[39;49m_bbox_inches_restore,\n\u001b[1;32m   2344\u001b[0m             \u001b[39m*\u001b[39;49m\u001b[39m*\u001b[39;49mkwargs)\n\u001b[1;32m   2345\u001b[0m \u001b[39mfinally\u001b[39;00m:\n\u001b[1;32m   2346\u001b[0m     \u001b[39mif\u001b[39;00m bbox_inches \u001b[39mand\u001b[39;00m restore_bbox:\n",
      "File \u001b[0;32m/Library/Frameworks/Python.framework/Versions/3.9/lib/python3.9/site-packages/matplotlib/backend_bases.py:2204\u001b[0m, in \u001b[0;36mFigureCanvasBase._switch_canvas_and_return_print_method.<locals>.<lambda>\u001b[0;34m(*args, **kwargs)\u001b[0m\n\u001b[1;32m   2200\u001b[0m     optional_kws \u001b[39m=\u001b[39m {  \u001b[39m# Passed by print_figure for other renderers.\u001b[39;00m\n\u001b[1;32m   2201\u001b[0m         \u001b[39m\"\u001b[39m\u001b[39mdpi\u001b[39m\u001b[39m\"\u001b[39m, \u001b[39m\"\u001b[39m\u001b[39mfacecolor\u001b[39m\u001b[39m\"\u001b[39m, \u001b[39m\"\u001b[39m\u001b[39medgecolor\u001b[39m\u001b[39m\"\u001b[39m, \u001b[39m\"\u001b[39m\u001b[39morientation\u001b[39m\u001b[39m\"\u001b[39m,\n\u001b[1;32m   2202\u001b[0m         \u001b[39m\"\u001b[39m\u001b[39mbbox_inches_restore\u001b[39m\u001b[39m\"\u001b[39m}\n\u001b[1;32m   2203\u001b[0m     skip \u001b[39m=\u001b[39m optional_kws \u001b[39m-\u001b[39m {\u001b[39m*\u001b[39minspect\u001b[39m.\u001b[39msignature(meth)\u001b[39m.\u001b[39mparameters}\n\u001b[0;32m-> 2204\u001b[0m     print_method \u001b[39m=\u001b[39m functools\u001b[39m.\u001b[39mwraps(meth)(\u001b[39mlambda\u001b[39;00m \u001b[39m*\u001b[39margs, \u001b[39m*\u001b[39m\u001b[39m*\u001b[39mkwargs: meth(\n\u001b[1;32m   2205\u001b[0m         \u001b[39m*\u001b[39;49margs, \u001b[39m*\u001b[39;49m\u001b[39m*\u001b[39;49m{k: v \u001b[39mfor\u001b[39;49;00m k, v \u001b[39min\u001b[39;49;00m kwargs\u001b[39m.\u001b[39;49mitems() \u001b[39mif\u001b[39;49;00m k \u001b[39mnot\u001b[39;49;00m \u001b[39min\u001b[39;49;00m skip}))\n\u001b[1;32m   2206\u001b[0m \u001b[39melse\u001b[39;00m:  \u001b[39m# Let third-parties do as they see fit.\u001b[39;00m\n\u001b[1;32m   2207\u001b[0m     print_method \u001b[39m=\u001b[39m meth\n",
      "File \u001b[0;32m/Library/Frameworks/Python.framework/Versions/3.9/lib/python3.9/site-packages/matplotlib/_api/deprecation.py:410\u001b[0m, in \u001b[0;36mdelete_parameter.<locals>.wrapper\u001b[0;34m(*inner_args, **inner_kwargs)\u001b[0m\n\u001b[1;32m    400\u001b[0m     deprecation_addendum \u001b[39m=\u001b[39m (\n\u001b[1;32m    401\u001b[0m         \u001b[39mf\u001b[39m\u001b[39m\"\u001b[39m\u001b[39mIf any parameter follows \u001b[39m\u001b[39m{\u001b[39;00mname\u001b[39m!r}\u001b[39;00m\u001b[39m, they should be passed as \u001b[39m\u001b[39m\"\u001b[39m\n\u001b[1;32m    402\u001b[0m         \u001b[39mf\u001b[39m\u001b[39m\"\u001b[39m\u001b[39mkeyword, not positionally.\u001b[39m\u001b[39m\"\u001b[39m)\n\u001b[1;32m    403\u001b[0m     warn_deprecated(\n\u001b[1;32m    404\u001b[0m         since,\n\u001b[1;32m    405\u001b[0m         name\u001b[39m=\u001b[39m\u001b[39mrepr\u001b[39m(name),\n\u001b[0;32m   (...)\u001b[0m\n\u001b[1;32m    408\u001b[0m                  \u001b[39melse\u001b[39;00m deprecation_addendum,\n\u001b[1;32m    409\u001b[0m         \u001b[39m*\u001b[39m\u001b[39m*\u001b[39mkwargs)\n\u001b[0;32m--> 410\u001b[0m \u001b[39mreturn\u001b[39;00m func(\u001b[39m*\u001b[39;49minner_args, \u001b[39m*\u001b[39;49m\u001b[39m*\u001b[39;49minner_kwargs)\n",
      "File \u001b[0;32m/Library/Frameworks/Python.framework/Versions/3.9/lib/python3.9/site-packages/matplotlib/backends/backend_agg.py:454\u001b[0m, in \u001b[0;36mFigureCanvasAgg.print_raw\u001b[0;34m(self, filename_or_obj, *args)\u001b[0m\n\u001b[1;32m    452\u001b[0m \u001b[39m@_api\u001b[39m\u001b[39m.\u001b[39mdelete_parameter(\u001b[39m\"\u001b[39m\u001b[39m3.5\u001b[39m\u001b[39m\"\u001b[39m, \u001b[39m\"\u001b[39m\u001b[39margs\u001b[39m\u001b[39m\"\u001b[39m)\n\u001b[1;32m    453\u001b[0m \u001b[39mdef\u001b[39;00m \u001b[39mprint_raw\u001b[39m(\u001b[39mself\u001b[39m, filename_or_obj, \u001b[39m*\u001b[39margs):\n\u001b[0;32m--> 454\u001b[0m     FigureCanvasAgg\u001b[39m.\u001b[39;49mdraw(\u001b[39mself\u001b[39;49m)\n\u001b[1;32m    455\u001b[0m     renderer \u001b[39m=\u001b[39m \u001b[39mself\u001b[39m\u001b[39m.\u001b[39mget_renderer()\n\u001b[1;32m    456\u001b[0m     \u001b[39mwith\u001b[39;00m cbook\u001b[39m.\u001b[39mopen_file_cm(filename_or_obj, \u001b[39m\"\u001b[39m\u001b[39mwb\u001b[39m\u001b[39m\"\u001b[39m) \u001b[39mas\u001b[39;00m fh:\n",
      "File \u001b[0;32m/Library/Frameworks/Python.framework/Versions/3.9/lib/python3.9/site-packages/matplotlib/backends/backend_agg.py:408\u001b[0m, in \u001b[0;36mFigureCanvasAgg.draw\u001b[0;34m(self)\u001b[0m\n\u001b[1;32m    404\u001b[0m \u001b[39m# Acquire a lock on the shared font cache.\u001b[39;00m\n\u001b[1;32m    405\u001b[0m \u001b[39mwith\u001b[39;00m RendererAgg\u001b[39m.\u001b[39mlock, \\\n\u001b[1;32m    406\u001b[0m      (\u001b[39mself\u001b[39m\u001b[39m.\u001b[39mtoolbar\u001b[39m.\u001b[39m_wait_cursor_for_draw_cm() \u001b[39mif\u001b[39;00m \u001b[39mself\u001b[39m\u001b[39m.\u001b[39mtoolbar\n\u001b[1;32m    407\u001b[0m       \u001b[39melse\u001b[39;00m nullcontext()):\n\u001b[0;32m--> 408\u001b[0m     \u001b[39mself\u001b[39;49m\u001b[39m.\u001b[39;49mfigure\u001b[39m.\u001b[39;49mdraw(\u001b[39mself\u001b[39;49m\u001b[39m.\u001b[39;49mrenderer)\n\u001b[1;32m    409\u001b[0m     \u001b[39m# A GUI class may be need to update a window using this draw, so\u001b[39;00m\n\u001b[1;32m    410\u001b[0m     \u001b[39m# don't forget to call the superclass.\u001b[39;00m\n\u001b[1;32m    411\u001b[0m     \u001b[39msuper\u001b[39m()\u001b[39m.\u001b[39mdraw()\n",
      "File \u001b[0;32m/Library/Frameworks/Python.framework/Versions/3.9/lib/python3.9/site-packages/matplotlib/artist.py:74\u001b[0m, in \u001b[0;36m_finalize_rasterization.<locals>.draw_wrapper\u001b[0;34m(artist, renderer, *args, **kwargs)\u001b[0m\n\u001b[1;32m     72\u001b[0m \u001b[39m@wraps\u001b[39m(draw)\n\u001b[1;32m     73\u001b[0m \u001b[39mdef\u001b[39;00m \u001b[39mdraw_wrapper\u001b[39m(artist, renderer, \u001b[39m*\u001b[39margs, \u001b[39m*\u001b[39m\u001b[39m*\u001b[39mkwargs):\n\u001b[0;32m---> 74\u001b[0m     result \u001b[39m=\u001b[39m draw(artist, renderer, \u001b[39m*\u001b[39;49margs, \u001b[39m*\u001b[39;49m\u001b[39m*\u001b[39;49mkwargs)\n\u001b[1;32m     75\u001b[0m     \u001b[39mif\u001b[39;00m renderer\u001b[39m.\u001b[39m_rasterizing:\n\u001b[1;32m     76\u001b[0m         renderer\u001b[39m.\u001b[39mstop_rasterizing()\n",
      "File \u001b[0;32m/Library/Frameworks/Python.framework/Versions/3.9/lib/python3.9/site-packages/matplotlib/artist.py:51\u001b[0m, in \u001b[0;36mallow_rasterization.<locals>.draw_wrapper\u001b[0;34m(artist, renderer)\u001b[0m\n\u001b[1;32m     48\u001b[0m     \u001b[39mif\u001b[39;00m artist\u001b[39m.\u001b[39mget_agg_filter() \u001b[39mis\u001b[39;00m \u001b[39mnot\u001b[39;00m \u001b[39mNone\u001b[39;00m:\n\u001b[1;32m     49\u001b[0m         renderer\u001b[39m.\u001b[39mstart_filter()\n\u001b[0;32m---> 51\u001b[0m     \u001b[39mreturn\u001b[39;00m draw(artist, renderer)\n\u001b[1;32m     52\u001b[0m \u001b[39mfinally\u001b[39;00m:\n\u001b[1;32m     53\u001b[0m     \u001b[39mif\u001b[39;00m artist\u001b[39m.\u001b[39mget_agg_filter() \u001b[39mis\u001b[39;00m \u001b[39mnot\u001b[39;00m \u001b[39mNone\u001b[39;00m:\n",
      "File \u001b[0;32m/Library/Frameworks/Python.framework/Versions/3.9/lib/python3.9/site-packages/matplotlib/figure.py:3074\u001b[0m, in \u001b[0;36mFigure.draw\u001b[0;34m(self, renderer)\u001b[0m\n\u001b[1;32m   3071\u001b[0m         \u001b[39m# ValueError can occur when resizing a window.\u001b[39;00m\n\u001b[1;32m   3073\u001b[0m \u001b[39mself\u001b[39m\u001b[39m.\u001b[39mpatch\u001b[39m.\u001b[39mdraw(renderer)\n\u001b[0;32m-> 3074\u001b[0m mimage\u001b[39m.\u001b[39;49m_draw_list_compositing_images(\n\u001b[1;32m   3075\u001b[0m     renderer, \u001b[39mself\u001b[39;49m, artists, \u001b[39mself\u001b[39;49m\u001b[39m.\u001b[39;49msuppressComposite)\n\u001b[1;32m   3077\u001b[0m \u001b[39mfor\u001b[39;00m sfig \u001b[39min\u001b[39;00m \u001b[39mself\u001b[39m\u001b[39m.\u001b[39msubfigs:\n\u001b[1;32m   3078\u001b[0m     sfig\u001b[39m.\u001b[39mdraw(renderer)\n",
      "File \u001b[0;32m/Library/Frameworks/Python.framework/Versions/3.9/lib/python3.9/site-packages/matplotlib/image.py:131\u001b[0m, in \u001b[0;36m_draw_list_compositing_images\u001b[0;34m(renderer, parent, artists, suppress_composite)\u001b[0m\n\u001b[1;32m    129\u001b[0m \u001b[39mif\u001b[39;00m not_composite \u001b[39mor\u001b[39;00m \u001b[39mnot\u001b[39;00m has_images:\n\u001b[1;32m    130\u001b[0m     \u001b[39mfor\u001b[39;00m a \u001b[39min\u001b[39;00m artists:\n\u001b[0;32m--> 131\u001b[0m         a\u001b[39m.\u001b[39;49mdraw(renderer)\n\u001b[1;32m    132\u001b[0m \u001b[39melse\u001b[39;00m:\n\u001b[1;32m    133\u001b[0m     \u001b[39m# Composite any adjacent images together\u001b[39;00m\n\u001b[1;32m    134\u001b[0m     image_group \u001b[39m=\u001b[39m []\n",
      "File \u001b[0;32m/Library/Frameworks/Python.framework/Versions/3.9/lib/python3.9/site-packages/matplotlib/artist.py:51\u001b[0m, in \u001b[0;36mallow_rasterization.<locals>.draw_wrapper\u001b[0;34m(artist, renderer)\u001b[0m\n\u001b[1;32m     48\u001b[0m     \u001b[39mif\u001b[39;00m artist\u001b[39m.\u001b[39mget_agg_filter() \u001b[39mis\u001b[39;00m \u001b[39mnot\u001b[39;00m \u001b[39mNone\u001b[39;00m:\n\u001b[1;32m     49\u001b[0m         renderer\u001b[39m.\u001b[39mstart_filter()\n\u001b[0;32m---> 51\u001b[0m     \u001b[39mreturn\u001b[39;00m draw(artist, renderer)\n\u001b[1;32m     52\u001b[0m \u001b[39mfinally\u001b[39;00m:\n\u001b[1;32m     53\u001b[0m     \u001b[39mif\u001b[39;00m artist\u001b[39m.\u001b[39mget_agg_filter() \u001b[39mis\u001b[39;00m \u001b[39mnot\u001b[39;00m \u001b[39mNone\u001b[39;00m:\n",
      "File \u001b[0;32m/Library/Frameworks/Python.framework/Versions/3.9/lib/python3.9/site-packages/matplotlib/axes/_base.py:3107\u001b[0m, in \u001b[0;36m_AxesBase.draw\u001b[0;34m(self, renderer)\u001b[0m\n\u001b[1;32m   3104\u001b[0m         a\u001b[39m.\u001b[39mdraw(renderer)\n\u001b[1;32m   3105\u001b[0m     renderer\u001b[39m.\u001b[39mstop_rasterizing()\n\u001b[0;32m-> 3107\u001b[0m mimage\u001b[39m.\u001b[39;49m_draw_list_compositing_images(\n\u001b[1;32m   3108\u001b[0m     renderer, \u001b[39mself\u001b[39;49m, artists, \u001b[39mself\u001b[39;49m\u001b[39m.\u001b[39;49mfigure\u001b[39m.\u001b[39;49msuppressComposite)\n\u001b[1;32m   3110\u001b[0m renderer\u001b[39m.\u001b[39mclose_group(\u001b[39m'\u001b[39m\u001b[39maxes\u001b[39m\u001b[39m'\u001b[39m)\n\u001b[1;32m   3111\u001b[0m \u001b[39mself\u001b[39m\u001b[39m.\u001b[39mstale \u001b[39m=\u001b[39m \u001b[39mFalse\u001b[39;00m\n",
      "File \u001b[0;32m/Library/Frameworks/Python.framework/Versions/3.9/lib/python3.9/site-packages/matplotlib/image.py:131\u001b[0m, in \u001b[0;36m_draw_list_compositing_images\u001b[0;34m(renderer, parent, artists, suppress_composite)\u001b[0m\n\u001b[1;32m    129\u001b[0m \u001b[39mif\u001b[39;00m not_composite \u001b[39mor\u001b[39;00m \u001b[39mnot\u001b[39;00m has_images:\n\u001b[1;32m    130\u001b[0m     \u001b[39mfor\u001b[39;00m a \u001b[39min\u001b[39;00m artists:\n\u001b[0;32m--> 131\u001b[0m         a\u001b[39m.\u001b[39;49mdraw(renderer)\n\u001b[1;32m    132\u001b[0m \u001b[39melse\u001b[39;00m:\n\u001b[1;32m    133\u001b[0m     \u001b[39m# Composite any adjacent images together\u001b[39;00m\n\u001b[1;32m    134\u001b[0m     image_group \u001b[39m=\u001b[39m []\n",
      "File \u001b[0;32m/Library/Frameworks/Python.framework/Versions/3.9/lib/python3.9/site-packages/matplotlib/artist.py:51\u001b[0m, in \u001b[0;36mallow_rasterization.<locals>.draw_wrapper\u001b[0;34m(artist, renderer)\u001b[0m\n\u001b[1;32m     48\u001b[0m     \u001b[39mif\u001b[39;00m artist\u001b[39m.\u001b[39mget_agg_filter() \u001b[39mis\u001b[39;00m \u001b[39mnot\u001b[39;00m \u001b[39mNone\u001b[39;00m:\n\u001b[1;32m     49\u001b[0m         renderer\u001b[39m.\u001b[39mstart_filter()\n\u001b[0;32m---> 51\u001b[0m     \u001b[39mreturn\u001b[39;00m draw(artist, renderer)\n\u001b[1;32m     52\u001b[0m \u001b[39mfinally\u001b[39;00m:\n\u001b[1;32m     53\u001b[0m     \u001b[39mif\u001b[39;00m artist\u001b[39m.\u001b[39mget_agg_filter() \u001b[39mis\u001b[39;00m \u001b[39mnot\u001b[39;00m \u001b[39mNone\u001b[39;00m:\n",
      "File \u001b[0;32m/Library/Frameworks/Python.framework/Versions/3.9/lib/python3.9/site-packages/matplotlib/text.py:687\u001b[0m, in \u001b[0;36mText.draw\u001b[0;34m(self, renderer)\u001b[0m\n\u001b[1;32m    684\u001b[0m renderer\u001b[39m.\u001b[39mopen_group(\u001b[39m'\u001b[39m\u001b[39mtext\u001b[39m\u001b[39m'\u001b[39m, \u001b[39mself\u001b[39m\u001b[39m.\u001b[39mget_gid())\n\u001b[1;32m    686\u001b[0m \u001b[39mwith\u001b[39;00m \u001b[39mself\u001b[39m\u001b[39m.\u001b[39m_cm_set(text\u001b[39m=\u001b[39m\u001b[39mself\u001b[39m\u001b[39m.\u001b[39m_get_wrapped_text()):\n\u001b[0;32m--> 687\u001b[0m     bbox, info, descent \u001b[39m=\u001b[39m \u001b[39mself\u001b[39;49m\u001b[39m.\u001b[39;49m_get_layout(renderer)\n\u001b[1;32m    688\u001b[0m     trans \u001b[39m=\u001b[39m \u001b[39mself\u001b[39m\u001b[39m.\u001b[39mget_transform()\n\u001b[1;32m    690\u001b[0m     \u001b[39m# don't use self.get_position here, which refers to text\u001b[39;00m\n\u001b[1;32m    691\u001b[0m     \u001b[39m# position in Text:\u001b[39;00m\n",
      "File \u001b[0;32m/Library/Frameworks/Python.framework/Versions/3.9/lib/python3.9/site-packages/matplotlib/text.py:380\u001b[0m, in \u001b[0;36mText._get_layout\u001b[0;34m(self, renderer)\u001b[0m\n\u001b[1;32m    376\u001b[0m corners_horiz \u001b[39m=\u001b[39m np\u001b[39m.\u001b[39marray(\n\u001b[1;32m    377\u001b[0m     [(xmin, ymin), (xmin, ymax), (xmax, ymax), (xmax, ymin)])\n\u001b[1;32m    379\u001b[0m \u001b[39m# now rotate the bbox\u001b[39;00m\n\u001b[0;32m--> 380\u001b[0m corners_rotated \u001b[39m=\u001b[39m M\u001b[39m.\u001b[39;49mtransform(corners_horiz)\n\u001b[1;32m    381\u001b[0m \u001b[39m# compute the bounds of the rotated box\u001b[39;00m\n\u001b[1;32m    382\u001b[0m xmin \u001b[39m=\u001b[39m corners_rotated[:, \u001b[39m0\u001b[39m]\u001b[39m.\u001b[39mmin()\n",
      "File \u001b[0;32m/Library/Frameworks/Python.framework/Versions/3.9/lib/python3.9/site-packages/matplotlib/transforms.py:1784\u001b[0m, in \u001b[0;36mAffineBase.transform\u001b[0;34m(self, values)\u001b[0m\n\u001b[1;32m   1782\u001b[0m \u001b[39mdef\u001b[39;00m \u001b[39mtransform\u001b[39m(\u001b[39mself\u001b[39m, values):\n\u001b[1;32m   1783\u001b[0m     \u001b[39m# docstring inherited\u001b[39;00m\n\u001b[0;32m-> 1784\u001b[0m     \u001b[39mreturn\u001b[39;00m \u001b[39mself\u001b[39;49m\u001b[39m.\u001b[39;49mtransform_affine(values)\n",
      "File \u001b[0;32m/Library/Frameworks/Python.framework/Versions/3.9/lib/python3.9/site-packages/matplotlib/transforms.py:1853\u001b[0m, in \u001b[0;36mAffine2DBase.transform_affine\u001b[0;34m(self, points)\u001b[0m\n\u001b[1;32m   1851\u001b[0m     tpoints \u001b[39m=\u001b[39m affine_transform(points\u001b[39m.\u001b[39mdata, mtx)\n\u001b[1;32m   1852\u001b[0m     \u001b[39mreturn\u001b[39;00m np\u001b[39m.\u001b[39mma\u001b[39m.\u001b[39mMaskedArray(tpoints, mask\u001b[39m=\u001b[39mnp\u001b[39m.\u001b[39mma\u001b[39m.\u001b[39mgetmask(points))\n\u001b[0;32m-> 1853\u001b[0m \u001b[39mreturn\u001b[39;00m affine_transform(points, mtx)\n",
      "\u001b[0;31mKeyboardInterrupt\u001b[0m: "
     ]
    }
   ],
   "source": [
    "cases100k_br = get_race_bar_df(cases100k)\n",
    "brc.bar_chart_race(cases100k_br, n_bars= 15, sort= 'desc', period_length=2000, filename= 'casesbarRace.mp4', filter_column_colors= True, steps_per_period=50, title='Biweekly Covid-19 cases by country per 100k inhabitants', title_size= '10')"
   ]
  },
  {
   "cell_type": "code",
   "execution_count": null,
   "metadata": {},
   "outputs": [],
   "source": []
  }
 ],
 "metadata": {
  "kernelspec": {
   "display_name": "Python 3",
   "language": "python",
   "name": "python3"
  },
  "language_info": {
   "codemirror_mode": {
    "name": "ipython",
    "version": 3
   },
   "file_extension": ".py",
   "mimetype": "text/x-python",
   "name": "python",
   "nbconvert_exporter": "python",
   "pygments_lexer": "ipython3",
   "version": "3.8.5"
  },
  "vscode": {
   "interpreter": {
    "hash": "aee8b7b246df8f9039afb4144a1f6fd8d2ca17a180786b69acc140d282b71a49"
   }
  }
 },
 "nbformat": 4,
 "nbformat_minor": 2
}
