{
 "cells": [
  {
   "cell_type": "code",
   "execution_count": 7,
   "metadata": {},
   "outputs": [],
   "source": [
    "import pandas as pd\n",
    "import numpy as np\n",
    "import matplotlib.pyplot as plt\n",
    "import seaborn as sn\n",
    "from scipy import stats\n",
    "from helper import *\n",
    "from scipy.stats.mstats import gmean\n",
    "#Importation of all the packages\n",
    "from datetime import datetime\n",
    "import math\n",
    "import json\n",
    "import zipfile  \n",
    "import ssl\n",
    "from scipy import stats\n",
    "from sklearn.cluster import KMeans\n",
    "from sklearn import preprocessing\n",
    "from sklearn import metrics\n",
    "\n",
    "#To dowload data\n",
    "import requests\n",
    "import io\n",
    "import gzip\n",
    "\n",
    "#To create the mapchart\n",
    "import iso3166\n",
    "import plotly\n",
    "from iso3166 import countries\n",
    "import plotly.graph_objects as go\n",
    "import plotly.express as px"
   ]
  },
  {
   "cell_type": "code",
   "execution_count": 57,
   "metadata": {},
   "outputs": [],
   "source": [
    "# Download pageviews\n",
    "pageview_df = pd.read_csv(\"page_views_covid_related.csv.gz\")\n",
    "pageview_df_imp_country = pageview_df[[\"date\"] + list(get_country_dict().values())].set_index('date')\n",
    "pageview_df_imp_country.head()\n",
    "country_dict = get_country_dict()\n",
    "inv_country_dict = {v: k for k, v in country_dict.items()}"
   ]
  },
  {
   "cell_type": "code",
   "execution_count": 58,
   "metadata": {},
   "outputs": [],
   "source": [
    "# Download covid data\n",
    "ssl._create_default_https_context = ssl._create_unverified_context\n",
    "death_url = \"https://github.com/owid/covid-19-data/blob/master/public/data/jhu/new_deaths.csv?raw=true\" # Make sure the url is the raw version of the file on GitHub\n",
    "cases_url = \"https://github.com/owid/covid-19-data/blob/master/public/data/jhu/new_cases.csv?raw=true\"\n",
    "\n",
    "# Reading the downloaded content and turning it into a pandas dataframe\n",
    "deaths = pd.read_csv(death_url,index_col=0)\n",
    "cases = pd.read_csv(cases_url,index_col=0)\n",
    "deaths= deaths.interpolate(method ='linear', limit_direction ='forward') \n",
    "cases = cases.interpolate(method ='linear', limit_direction ='forward') \n",
    "deaths = deaths.fillna(0)\n",
    "cases = cases.fillna(0)\n",
    "#Keep only values until July\n",
    "deaths = deaths[deaths.index < '2022-01-01']\n",
    "cases = cases[cases.index < '2022-01-01']"
   ]
  },
  {
   "cell_type": "code",
   "execution_count": 59,
   "metadata": {},
   "outputs": [],
   "source": [
    "# Download \n",
    "population_df = pd.read_csv(\"Population_countries.csv\")\n",
    "population_df = population_df[[\"Country Name\", \"2020\"]]\n",
    "population_df = population_df.set_index(\"Country Name\")\n",
    "population_df = population_df.rename({\"Russian Federation\": \"Russia\", \"Slovak Republic\": \"Slovakia\", \"Turkiye\": \"Turkey\",\"Korea, Rep.\": \"South Korea\", \"Kyrgyz Republic\": 'Kyrgyzstan'})"
   ]
  },
  {
   "cell_type": "code",
   "execution_count": 60,
   "metadata": {},
   "outputs": [],
   "source": [
    "other_country_name = {\"Russia\": \"Russian Federation\", \"Turkey\":\"Türkiye\", \"Vietnam\" : \"Viet Nam\", \"South Korea\" : \"Korea, Democratic People's Republic of\" }"
   ]
  },
  {
   "cell_type": "code",
   "execution_count": 61,
   "metadata": {},
   "outputs": [
    {
     "name": "stderr",
     "output_type": "stream",
     "text": [
      "<ipython-input-61-2ceb521a9c60>:14: FutureWarning:\n",
      "\n",
      "The frame.append method is deprecated and will be removed from pandas in a future version. Use pandas.concat instead.\n",
      "\n",
      "<ipython-input-61-2ceb521a9c60>:14: FutureWarning:\n",
      "\n",
      "The frame.append method is deprecated and will be removed from pandas in a future version. Use pandas.concat instead.\n",
      "\n",
      "<ipython-input-61-2ceb521a9c60>:14: FutureWarning:\n",
      "\n",
      "The frame.append method is deprecated and will be removed from pandas in a future version. Use pandas.concat instead.\n",
      "\n",
      "<ipython-input-61-2ceb521a9c60>:14: FutureWarning:\n",
      "\n",
      "The frame.append method is deprecated and will be removed from pandas in a future version. Use pandas.concat instead.\n",
      "\n",
      "<ipython-input-61-2ceb521a9c60>:14: FutureWarning:\n",
      "\n",
      "The frame.append method is deprecated and will be removed from pandas in a future version. Use pandas.concat instead.\n",
      "\n",
      "<ipython-input-61-2ceb521a9c60>:14: FutureWarning:\n",
      "\n",
      "The frame.append method is deprecated and will be removed from pandas in a future version. Use pandas.concat instead.\n",
      "\n",
      "<ipython-input-61-2ceb521a9c60>:14: FutureWarning:\n",
      "\n",
      "The frame.append method is deprecated and will be removed from pandas in a future version. Use pandas.concat instead.\n",
      "\n",
      "<ipython-input-61-2ceb521a9c60>:14: FutureWarning:\n",
      "\n",
      "The frame.append method is deprecated and will be removed from pandas in a future version. Use pandas.concat instead.\n",
      "\n",
      "<ipython-input-61-2ceb521a9c60>:14: FutureWarning:\n",
      "\n",
      "The frame.append method is deprecated and will be removed from pandas in a future version. Use pandas.concat instead.\n",
      "\n",
      "<ipython-input-61-2ceb521a9c60>:14: FutureWarning:\n",
      "\n",
      "The frame.append method is deprecated and will be removed from pandas in a future version. Use pandas.concat instead.\n",
      "\n",
      "<ipython-input-61-2ceb521a9c60>:14: FutureWarning:\n",
      "\n",
      "The frame.append method is deprecated and will be removed from pandas in a future version. Use pandas.concat instead.\n",
      "\n",
      "<ipython-input-61-2ceb521a9c60>:14: FutureWarning:\n",
      "\n",
      "The frame.append method is deprecated and will be removed from pandas in a future version. Use pandas.concat instead.\n",
      "\n",
      "<ipython-input-61-2ceb521a9c60>:14: FutureWarning:\n",
      "\n",
      "The frame.append method is deprecated and will be removed from pandas in a future version. Use pandas.concat instead.\n",
      "\n",
      "<ipython-input-61-2ceb521a9c60>:14: FutureWarning:\n",
      "\n",
      "The frame.append method is deprecated and will be removed from pandas in a future version. Use pandas.concat instead.\n",
      "\n",
      "<ipython-input-61-2ceb521a9c60>:14: FutureWarning:\n",
      "\n",
      "The frame.append method is deprecated and will be removed from pandas in a future version. Use pandas.concat instead.\n",
      "\n",
      "<ipython-input-61-2ceb521a9c60>:14: FutureWarning:\n",
      "\n",
      "The frame.append method is deprecated and will be removed from pandas in a future version. Use pandas.concat instead.\n",
      "\n",
      "<ipython-input-61-2ceb521a9c60>:14: FutureWarning:\n",
      "\n",
      "The frame.append method is deprecated and will be removed from pandas in a future version. Use pandas.concat instead.\n",
      "\n",
      "<ipython-input-61-2ceb521a9c60>:14: FutureWarning:\n",
      "\n",
      "The frame.append method is deprecated and will be removed from pandas in a future version. Use pandas.concat instead.\n",
      "\n",
      "<ipython-input-61-2ceb521a9c60>:14: FutureWarning:\n",
      "\n",
      "The frame.append method is deprecated and will be removed from pandas in a future version. Use pandas.concat instead.\n",
      "\n",
      "<ipython-input-61-2ceb521a9c60>:14: FutureWarning:\n",
      "\n",
      "The frame.append method is deprecated and will be removed from pandas in a future version. Use pandas.concat instead.\n",
      "\n",
      "<ipython-input-61-2ceb521a9c60>:14: FutureWarning:\n",
      "\n",
      "The frame.append method is deprecated and will be removed from pandas in a future version. Use pandas.concat instead.\n",
      "\n",
      "<ipython-input-61-2ceb521a9c60>:14: FutureWarning:\n",
      "\n",
      "The frame.append method is deprecated and will be removed from pandas in a future version. Use pandas.concat instead.\n",
      "\n",
      "<ipython-input-61-2ceb521a9c60>:14: FutureWarning:\n",
      "\n",
      "The frame.append method is deprecated and will be removed from pandas in a future version. Use pandas.concat instead.\n",
      "\n",
      "<ipython-input-61-2ceb521a9c60>:14: FutureWarning:\n",
      "\n",
      "The frame.append method is deprecated and will be removed from pandas in a future version. Use pandas.concat instead.\n",
      "\n",
      "<ipython-input-61-2ceb521a9c60>:14: FutureWarning:\n",
      "\n",
      "The frame.append method is deprecated and will be removed from pandas in a future version. Use pandas.concat instead.\n",
      "\n",
      "<ipython-input-61-2ceb521a9c60>:14: FutureWarning:\n",
      "\n",
      "The frame.append method is deprecated and will be removed from pandas in a future version. Use pandas.concat instead.\n",
      "\n",
      "<ipython-input-61-2ceb521a9c60>:14: FutureWarning:\n",
      "\n",
      "The frame.append method is deprecated and will be removed from pandas in a future version. Use pandas.concat instead.\n",
      "\n",
      "<ipython-input-61-2ceb521a9c60>:14: FutureWarning:\n",
      "\n",
      "The frame.append method is deprecated and will be removed from pandas in a future version. Use pandas.concat instead.\n",
      "\n",
      "<ipython-input-61-2ceb521a9c60>:14: FutureWarning:\n",
      "\n",
      "The frame.append method is deprecated and will be removed from pandas in a future version. Use pandas.concat instead.\n",
      "\n",
      "<ipython-input-61-2ceb521a9c60>:14: FutureWarning:\n",
      "\n",
      "The frame.append method is deprecated and will be removed from pandas in a future version. Use pandas.concat instead.\n",
      "\n",
      "<ipython-input-61-2ceb521a9c60>:14: FutureWarning:\n",
      "\n",
      "The frame.append method is deprecated and will be removed from pandas in a future version. Use pandas.concat instead.\n",
      "\n",
      "<ipython-input-61-2ceb521a9c60>:14: FutureWarning:\n",
      "\n",
      "The frame.append method is deprecated and will be removed from pandas in a future version. Use pandas.concat instead.\n",
      "\n",
      "<ipython-input-61-2ceb521a9c60>:14: FutureWarning:\n",
      "\n",
      "The frame.append method is deprecated and will be removed from pandas in a future version. Use pandas.concat instead.\n",
      "\n",
      "<ipython-input-61-2ceb521a9c60>:14: FutureWarning:\n",
      "\n",
      "The frame.append method is deprecated and will be removed from pandas in a future version. Use pandas.concat instead.\n",
      "\n",
      "<ipython-input-61-2ceb521a9c60>:14: FutureWarning:\n",
      "\n",
      "The frame.append method is deprecated and will be removed from pandas in a future version. Use pandas.concat instead.\n",
      "\n",
      "<ipython-input-61-2ceb521a9c60>:14: FutureWarning:\n",
      "\n",
      "The frame.append method is deprecated and will be removed from pandas in a future version. Use pandas.concat instead.\n",
      "\n",
      "<ipython-input-61-2ceb521a9c60>:14: FutureWarning:\n",
      "\n",
      "The frame.append method is deprecated and will be removed from pandas in a future version. Use pandas.concat instead.\n",
      "\n",
      "<ipython-input-61-2ceb521a9c60>:14: FutureWarning:\n",
      "\n",
      "The frame.append method is deprecated and will be removed from pandas in a future version. Use pandas.concat instead.\n",
      "\n"
     ]
    },
    {
     "data": {
      "application/vnd.plotly.v1+json": {
       "config": {
        "plotlyServerURL": "https://plot.ly"
       },
       "data": [
        {
         "coloraxis": "coloraxis",
         "geo": "geo",
         "hovertemplate": "date=2020-01-22<br>Country_code=%{location}<br>deaths=%{z}<extra></extra>",
         "locations": [
          "ITA",
          "RUS",
          "CHN",
          "ALB",
          "BGD",
          "BWA",
          "KHM",
          "HRV",
          "GRC",
          "SWE",
          "FIN",
          "NOR",
          "MYS",
          "ISR",
          "LTU",
          "SRB",
          "SVK",
          "SVN",
          "TUR",
          "VNM",
          "BGR",
          "CZE",
          "DNK",
          "GEO",
          "DEU",
          "HUN",
          "ISL",
          "JPN",
          "KAZ",
          "PRK",
          "KGZ",
          "NLD",
          "POL",
          "ROU",
          "TJK",
          "THA",
          "AZE",
          "MNG"
         ],
         "name": "",
         "type": "choropleth",
         "z": [
          0,
          0,
          0,
          0,
          0,
          0,
          0,
          0,
          0,
          0,
          0,
          0,
          0,
          0,
          0,
          0,
          0,
          0,
          0,
          0,
          0,
          0,
          0,
          0,
          0,
          0,
          0,
          0,
          0,
          0,
          0,
          0,
          0,
          0,
          0,
          0,
          0,
          0
         ]
        }
       ],
       "frames": [
        {
         "data": [
          {
           "coloraxis": "coloraxis",
           "geo": "geo",
           "hovertemplate": "date=2020-01-22<br>Country_code=%{location}<br>deaths=%{z}<extra></extra>",
           "locations": [
            "ITA",
            "RUS",
            "CHN",
            "ALB",
            "BGD",
            "BWA",
            "KHM",
            "HRV",
            "GRC",
            "SWE",
            "FIN",
            "NOR",
            "MYS",
            "ISR",
            "LTU",
            "SRB",
            "SVK",
            "SVN",
            "TUR",
            "VNM",
            "BGR",
            "CZE",
            "DNK",
            "GEO",
            "DEU",
            "HUN",
            "ISL",
            "JPN",
            "KAZ",
            "PRK",
            "KGZ",
            "NLD",
            "POL",
            "ROU",
            "TJK",
            "THA",
            "AZE",
            "MNG"
           ],
           "name": "",
           "type": "choropleth",
           "z": [
            0,
            0,
            0,
            0,
            0,
            0,
            0,
            0,
            0,
            0,
            0,
            0,
            0,
            0,
            0,
            0,
            0,
            0,
            0,
            0,
            0,
            0,
            0,
            0,
            0,
            0,
            0,
            0,
            0,
            0,
            0,
            0,
            0,
            0,
            0,
            0,
            0,
            0
           ]
          }
         ],
         "name": "2020-01-22"
        },
        {
         "data": [
          {
           "coloraxis": "coloraxis",
           "geo": "geo",
           "hovertemplate": "date=2020-02-01<br>Country_code=%{location}<br>deaths=%{z}<extra></extra>",
           "locations": [
            "ITA",
            "RUS",
            "CHN",
            "ALB",
            "BGD",
            "BWA",
            "KHM",
            "HRV",
            "GRC",
            "SWE",
            "FIN",
            "NOR",
            "MYS",
            "ISR",
            "LTU",
            "SRB",
            "SVK",
            "SVN",
            "TUR",
            "VNM",
            "BGR",
            "CZE",
            "DNK",
            "GEO",
            "DEU",
            "HUN",
            "ISL",
            "JPN",
            "KAZ",
            "PRK",
            "KGZ",
            "NLD",
            "POL",
            "ROU",
            "TJK",
            "THA",
            "AZE",
            "MNG"
           ],
           "name": "",
           "type": "choropleth",
           "z": [
            0,
            0,
            0.0032598681879384877,
            0,
            0,
            0,
            0,
            0,
            0,
            0,
            0,
            0,
            0,
            0,
            0,
            0,
            0,
            0,
            0,
            0,
            0,
            0,
            0,
            0,
            0,
            0,
            0,
            0,
            0,
            0,
            0,
            0,
            0,
            0,
            0,
            0,
            0,
            0
           ]
          }
         ],
         "name": "2020-02-01"
        },
        {
         "data": [
          {
           "coloraxis": "coloraxis",
           "geo": "geo",
           "hovertemplate": "date=2020-02-11<br>Country_code=%{location}<br>deaths=%{z}<extra></extra>",
           "locations": [
            "ITA",
            "RUS",
            "CHN",
            "ALB",
            "BGD",
            "BWA",
            "KHM",
            "HRV",
            "GRC",
            "SWE",
            "FIN",
            "NOR",
            "MYS",
            "ISR",
            "LTU",
            "SRB",
            "SVK",
            "SVN",
            "TUR",
            "VNM",
            "BGR",
            "CZE",
            "DNK",
            "GEO",
            "DEU",
            "HUN",
            "ISL",
            "JPN",
            "KAZ",
            "PRK",
            "KGZ",
            "NLD",
            "POL",
            "ROU",
            "TJK",
            "THA",
            "AZE",
            "MNG"
           ],
           "name": "",
           "type": "choropleth",
           "z": [
            0,
            0,
            0.007086669973779321,
            0,
            0,
            0,
            0,
            0,
            0,
            0,
            0,
            0,
            0,
            0,
            0,
            0,
            0,
            0,
            0,
            0,
            0,
            0,
            0,
            0,
            0,
            0,
            0,
            0,
            0,
            0,
            0,
            0,
            0,
            0,
            0,
            0,
            0,
            0
           ]
          }
         ],
         "name": "2020-02-11"
        },
        {
         "data": [
          {
           "coloraxis": "coloraxis",
           "geo": "geo",
           "hovertemplate": "date=2020-02-21<br>Country_code=%{location}<br>deaths=%{z}<extra></extra>",
           "locations": [
            "ITA",
            "RUS",
            "CHN",
            "ALB",
            "BGD",
            "BWA",
            "KHM",
            "HRV",
            "GRC",
            "SWE",
            "FIN",
            "NOR",
            "MYS",
            "ISR",
            "LTU",
            "SRB",
            "SVK",
            "SVN",
            "TUR",
            "VNM",
            "BGR",
            "CZE",
            "DNK",
            "GEO",
            "DEU",
            "HUN",
            "ISL",
            "JPN",
            "KAZ",
            "PRK",
            "KGZ",
            "NLD",
            "POL",
            "ROU",
            "TJK",
            "THA",
            "AZE",
            "MNG"
           ],
           "name": "",
           "type": "choropleth",
           "z": [
            0.0016820991696031493,
            0,
            0,
            0,
            0,
            0,
            0,
            0,
            0,
            0,
            0,
            0,
            0,
            0,
            0,
            0,
            0,
            0,
            0,
            0,
            0,
            0,
            0,
            0,
            0,
            0,
            0,
            0,
            0,
            0.0019291523059765197,
            0,
            0,
            0,
            0,
            0,
            0,
            0,
            0
           ]
          }
         ],
         "name": "2020-02-21"
        },
        {
         "data": [
          {
           "coloraxis": "coloraxis",
           "geo": "geo",
           "hovertemplate": "date=2020-03-02<br>Country_code=%{location}<br>deaths=%{z}<extra></extra>",
           "locations": [
            "ITA",
            "RUS",
            "CHN",
            "ALB",
            "BGD",
            "BWA",
            "KHM",
            "HRV",
            "GRC",
            "SWE",
            "FIN",
            "NOR",
            "MYS",
            "ISR",
            "LTU",
            "SRB",
            "SVK",
            "SVN",
            "TUR",
            "VNM",
            "BGR",
            "CZE",
            "DNK",
            "GEO",
            "DEU",
            "HUN",
            "ISL",
            "JPN",
            "KAZ",
            "PRK",
            "KGZ",
            "NLD",
            "POL",
            "ROU",
            "TJK",
            "THA",
            "AZE",
            "MNG"
           ],
           "name": "",
           "type": "choropleth",
           "z": [
            0.030277785052856686,
            0,
            0.002976401388987315,
            0,
            0,
            0,
            0,
            0,
            0,
            0,
            0,
            0,
            0,
            0,
            0,
            0,
            0,
            0,
            0,
            0,
            0,
            0,
            0,
            0,
            0,
            0,
            0,
            0,
            0,
            0.021220675365741716,
            0,
            0,
            0,
            0,
            0,
            0,
            0,
            0
           ]
          }
         ],
         "name": "2020-03-02"
        },
        {
         "data": [
          {
           "coloraxis": "coloraxis",
           "geo": "geo",
           "hovertemplate": "date=2020-03-12<br>Country_code=%{location}<br>deaths=%{z}<extra></extra>",
           "locations": [
            "ITA",
            "RUS",
            "CHN",
            "ALB",
            "BGD",
            "BWA",
            "KHM",
            "HRV",
            "GRC",
            "SWE",
            "FIN",
            "NOR",
            "MYS",
            "ISR",
            "LTU",
            "SRB",
            "SVK",
            "SVN",
            "TUR",
            "VNM",
            "BGR",
            "CZE",
            "DNK",
            "GEO",
            "DEU",
            "HUN",
            "ISL",
            "JPN",
            "KAZ",
            "PRK",
            "KGZ",
            "NLD",
            "POL",
            "ROU",
            "TJK",
            "THA",
            "AZE",
            "MNG"
           ],
           "name": "",
           "type": "choropleth",
           "z": [
            0.3179167430549952,
            0,
            0.0007795336971157254,
            0,
            0,
            0,
            0,
            0,
            0,
            0.00965862367317072,
            0,
            0,
            0,
            0,
            0,
            0,
            0,
            0,
            0,
            0,
            0,
            0,
            0,
            0,
            0.0024049772157869777,
            0,
            0,
            0.0031680408043655603,
            0,
            0.011574913835859119,
            0,
            0,
            0.0026385871737749766,
            0,
            0,
            0,
            0,
            0
           ]
          }
         ],
         "name": "2020-03-12"
        },
        {
         "data": [
          {
           "coloraxis": "coloraxis",
           "geo": "geo",
           "hovertemplate": "date=2020-03-22<br>Country_code=%{location}<br>deaths=%{z}<extra></extra>",
           "locations": [
            "ITA",
            "RUS",
            "CHN",
            "ALB",
            "BGD",
            "BWA",
            "KHM",
            "HRV",
            "GRC",
            "SWE",
            "FIN",
            "NOR",
            "MYS",
            "ISR",
            "LTU",
            "SRB",
            "SVK",
            "SVN",
            "TUR",
            "VNM",
            "BGR",
            "CZE",
            "DNK",
            "GEO",
            "DEU",
            "HUN",
            "ISL",
            "JPN",
            "KAZ",
            "PRK",
            "KGZ",
            "NLD",
            "POL",
            "ROU",
            "TJK",
            "THA",
            "AZE",
            "MNG"
           ],
           "name": "",
           "type": "choropleth",
           "z": [
            1.09504655941165,
            0,
            0.0010630004960668982,
            0,
            0,
            0,
            0,
            0,
            0.01869061757164768,
            0.1062448604048779,
            0.036169354320962875,
            0,
            0.012358648727593692,
            0,
            0,
            0.014494589604538316,
            0,
            0.04756425812361855,
            0.02489949290048466,
            0,
            0,
            0.00934766567288517,
            0,
            0,
            0.00961990886314791,
            0.02051250703963601,
            0,
            0.0031680408043655603,
            0,
            0.017362370753788676,
            0,
            0.24653842846085486,
            0.005277174347549953,
            0.015578329919948156,
            0,
            0,
            0,
            0
           ]
          }
         ],
         "name": "2020-03-22"
        },
        {
         "data": [
          {
           "coloraxis": "coloraxis",
           "geo": "geo",
           "hovertemplate": "date=2020-04-01<br>Country_code=%{location}<br>deaths=%{z}<extra></extra>",
           "locations": [
            "ITA",
            "RUS",
            "CHN",
            "ALB",
            "BGD",
            "BWA",
            "KHM",
            "HRV",
            "GRC",
            "SWE",
            "FIN",
            "NOR",
            "MYS",
            "ISR",
            "LTU",
            "SRB",
            "SVK",
            "SVN",
            "TUR",
            "VNM",
            "BGR",
            "CZE",
            "DNK",
            "GEO",
            "DEU",
            "HUN",
            "ISL",
            "JPN",
            "KAZ",
            "PRK",
            "KGZ",
            "NLD",
            "POL",
            "ROU",
            "TJK",
            "THA",
            "AZE",
            "MNG"
           ],
           "name": "",
           "type": "choropleth",
           "z": [
            1.2228860963014896,
            0.004858643358912309,
            0.000637800297640139,
            0,
            0.0006072036835549988,
            0,
            0,
            0,
            0,
            0.6761036571219503,
            0.12659274012337005,
            0.09294587297087542,
            0.006179324363796846,
            0.08681403348851342,
            0.07155929492626709,
            0.17393507525445975,
            0.01831895387049269,
            0,
            0.07469847870145398,
            0,
            0.028843318048778377,
            0.07478132538308135,
            0.2400794045482014,
            0,
            0.17917080257612983,
            0.04102501407927202,
            0,
            0.00396005100545695,
            0.005331722157986819,
            0.0057874569179295595,
            0,
            0.7740159963305909,
            0.026385871737749762,
            0.051927766399827185,
            0,
            0.0028653304160067214,
            0,
            0
           ]
          }
         ],
         "name": "2020-04-01"
        },
        {
         "data": [
          {
           "coloraxis": "coloraxis",
           "geo": "geo",
           "hovertemplate": "date=2020-04-11<br>Country_code=%{location}<br>deaths=%{z}<extra></extra>",
           "locations": [
            "ITA",
            "RUS",
            "CHN",
            "ALB",
            "BGD",
            "BWA",
            "KHM",
            "HRV",
            "GRC",
            "SWE",
            "FIN",
            "NOR",
            "MYS",
            "ISR",
            "LTU",
            "SRB",
            "SVK",
            "SVN",
            "TUR",
            "VNM",
            "BGR",
            "CZE",
            "DNK",
            "GEO",
            "DEU",
            "HUN",
            "ISL",
            "JPN",
            "KAZ",
            "PRK",
            "KGZ",
            "NLD",
            "POL",
            "ROU",
            "TJK",
            "THA",
            "AZE",
            "MNG"
           ],
           "name": "",
           "type": "choropleth",
           "z": [
            1.0412193859843493,
            0.00832910290099253,
            0.00042520019842675927,
            0,
            0.0018216110506649962,
            0,
            0,
            0,
            0.028035926357471517,
            0.16419660244390225,
            0.0542540314814443,
            0.11153504756505049,
            0.00926898654569527,
            0.06511052511638507,
            0.03577964746313354,
            0.04348376881361494,
            0,
            0.2378212906180928,
            0.11264056312124013,
            0,
            0.043264977073167565,
            0.09347665672885169,
            0.2229308756519013,
            0,
            0.2056255519497866,
            0.08205002815854404,
            0.27287884452182076,
            0.01029613261418807,
            0,
            0.0057874569179295595,
            0,
            0.7625490926812487,
            0.07124185369192436,
            0.10904830943963709,
            0,
            0.0028653304160067214,
            0.009907738151558869,
            0
           ]
          }
         ],
         "name": "2020-04-11"
        },
        {
         "data": [
          {
           "coloraxis": "coloraxis",
           "geo": "geo",
           "hovertemplate": "date=2020-04-21<br>Country_code=%{location}<br>deaths=%{z}<extra></extra>",
           "locations": [
            "ITA",
            "RUS",
            "CHN",
            "ALB",
            "BGD",
            "BWA",
            "KHM",
            "HRV",
            "GRC",
            "SWE",
            "FIN",
            "NOR",
            "MYS",
            "ISR",
            "LTU",
            "SRB",
            "SVK",
            "SVN",
            "TUR",
            "VNM",
            "BGR",
            "CZE",
            "DNK",
            "GEO",
            "DEU",
            "HUN",
            "ISL",
            "JPN",
            "KAZ",
            "PRK",
            "KGZ",
            "NLD",
            "POL",
            "ROU",
            "TJK",
            "THA",
            "AZE",
            "MNG"
           ],
           "name": "",
           "type": "choropleth",
           "z": [
            0.8982409565680817,
            0.035398687329218255,
            0.00021260009921337964,
            0,
            0.005464833151994989,
            0,
            0,
            0.024705510317021107,
            0.0467265439291192,
            1.786845379536583,
            0.3074395117281844,
            0.018589174594175084,
            0.006179324363796846,
            0.09766578767457759,
            0,
            0.07247294802269157,
            0.01831895387049269,
            0,
            0.14109712643607975,
            0,
            0.028843318048778377,
            0.0654336597101962,
            0.1028911733778006,
            0,
            0.23328278993133683,
            0.14358754927745207,
            0,
            0.02217628563055892,
            0,
            0.0019291523059765197,
            0,
            0.946019551070722,
            0.0554103306492745,
            0.10385553279965437,
            0,
            0.0028653304160067214,
            0.009907738151558869,
            0
           ]
          }
         ],
         "name": "2020-04-21"
        },
        {
         "data": [
          {
           "coloraxis": "coloraxis",
           "geo": "geo",
           "hovertemplate": "date=2020-05-01<br>Country_code=%{location}<br>deaths=%{z}<extra></extra>",
           "locations": [
            "ITA",
            "RUS",
            "CHN",
            "ALB",
            "BGD",
            "BWA",
            "KHM",
            "HRV",
            "GRC",
            "SWE",
            "FIN",
            "NOR",
            "MYS",
            "ISR",
            "LTU",
            "SRB",
            "SVK",
            "SVN",
            "TUR",
            "VNM",
            "BGR",
            "CZE",
            "DNK",
            "GEO",
            "DEU",
            "HUN",
            "ISL",
            "JPN",
            "KAZ",
            "PRK",
            "KGZ",
            "NLD",
            "POL",
            "ROU",
            "TJK",
            "THA",
            "AZE",
            "MNG"
           ],
           "name": "",
           "type": "choropleth",
           "z": [
            0.45248467662324715,
            0.06663282320794024,
            7.086669973779322e-05,
            0,
            0.0012144073671099976,
            0,
            0,
            0.14823306190212665,
            0,
            0.6471277861024383,
            0.07233870864192575,
            0,
            0,
            0.04340701674425671,
            0,
            0,
            0,
            0.04756425812361855,
            0.09959797160193865,
            0,
            0.028843318048778377,
            0.03739066269154068,
            0.1371882311704008,
            0,
            0.23208030132344334,
            0.11281878871799805,
            0,
            0.02296829583165031,
            0,
            0.0038583046119530394,
            0,
            0.5618782788177622,
            0.018470110216424834,
            0.1402049692795334,
            0,
            0,
            0.009907738151558869,
            0
           ]
          }
         ],
         "name": "2020-05-01"
        },
        {
         "data": [
          {
           "coloraxis": "coloraxis",
           "geo": "geo",
           "hovertemplate": "date=2020-05-11<br>Country_code=%{location}<br>deaths=%{z}<extra></extra>",
           "locations": [
            "ITA",
            "RUS",
            "CHN",
            "ALB",
            "BGD",
            "BWA",
            "KHM",
            "HRV",
            "GRC",
            "SWE",
            "FIN",
            "NOR",
            "MYS",
            "ISR",
            "LTU",
            "SRB",
            "SVK",
            "SVN",
            "TUR",
            "VNM",
            "BGR",
            "CZE",
            "DNK",
            "GEO",
            "DEU",
            "HUN",
            "ISL",
            "JPN",
            "KAZ",
            "PRK",
            "KGZ",
            "NLD",
            "POL",
            "ROU",
            "TJK",
            "THA",
            "AZE",
            "MNG"
           ],
           "name": "",
           "type": "choropleth",
           "z": [
            0.3010957513589637,
            0.06524463939110815,
            7.086669973779322e-05,
            0,
            0.006679240519104986,
            0,
            0,
            0.024705510317021107,
            0,
            0.2994173338682923,
            0,
            0.09294587297087542,
            0,
            0.05425877093032089,
            0,
            0.04348376881361494,
            0,
            0,
            0.06521295759650744,
            0,
            0.028843318048778377,
            0.01869533134577034,
            0.0685941155852004,
            0,
            0.026454749373656754,
            0.08205002815854404,
            0,
            0.015048193820736412,
            0.005331722157986819,
            0.0038583046119530394,
            0,
            0.09173522919473669,
            0.02902445891152474,
            0.10904830943963709,
            0.010484771812571703,
            0,
            0,
            0
           ]
          }
         ],
         "name": "2020-05-11"
        },
        {
         "data": [
          {
           "coloraxis": "coloraxis",
           "geo": "geo",
           "hovertemplate": "date=2020-05-21<br>Country_code=%{location}<br>deaths=%{z}<extra></extra>",
           "locations": [
            "ITA",
            "RUS",
            "CHN",
            "ALB",
            "BGD",
            "BWA",
            "KHM",
            "HRV",
            "GRC",
            "SWE",
            "FIN",
            "NOR",
            "MYS",
            "ISR",
            "LTU",
            "SRB",
            "SVK",
            "SVN",
            "TUR",
            "VNM",
            "BGR",
            "CZE",
            "DNK",
            "GEO",
            "DEU",
            "HUN",
            "ISL",
            "JPN",
            "KAZ",
            "PRK",
            "KGZ",
            "NLD",
            "POL",
            "ROU",
            "TJK",
            "THA",
            "AZE",
            "MNG"
           ],
           "name": "",
           "type": "choropleth",
           "z": [
            0.26240747045809126,
            0.08814967236883761,
            0,
            0,
            0.013358481038209972,
            0,
            0,
            0.024705510317021107,
            0.01869061757164768,
            0.38634494692682875,
            0.018084677160481438,
            0.018589174594175084,
            0.003089662181898423,
            0,
            0,
            0.02898917920907663,
            0,
            0.04756425812361855,
            0.032013633729194566,
            0,
            0.057686636097556754,
            0.01869533134577034,
            0.1200397022741007,
            0,
            0.06854185064992886,
            0.030768760559454014,
            0,
            0.0063360816087311205,
            0,
            0,
            0,
            0.15480319926611816,
            0.026385871737749762,
            0.04673498975984447,
            0,
            0,
            0.009907738151558869,
            0
           ]
          }
         ],
         "name": "2020-05-21"
        },
        {
         "data": [
          {
           "coloraxis": "coloraxis",
           "geo": "geo",
           "hovertemplate": "date=2020-05-31<br>Country_code=%{location}<br>deaths=%{z}<extra></extra>",
           "locations": [
            "ITA",
            "RUS",
            "CHN",
            "ALB",
            "BGD",
            "BWA",
            "KHM",
            "HRV",
            "GRC",
            "SWE",
            "FIN",
            "NOR",
            "MYS",
            "ISR",
            "LTU",
            "SRB",
            "SVK",
            "SVN",
            "TUR",
            "VNM",
            "BGR",
            "CZE",
            "DNK",
            "GEO",
            "DEU",
            "HUN",
            "ISL",
            "JPN",
            "KAZ",
            "PRK",
            "KGZ",
            "NLD",
            "POL",
            "ROU",
            "TJK",
            "THA",
            "AZE",
            "MNG"
           ],
           "name": "",
           "type": "choropleth",
           "z": [
            0.1261574377202362,
            0.09578468336141409,
            0,
            0,
            0.024288147342199952,
            0,
            0,
            0,
            0,
            0,
            0,
            0,
            0,
            0,
            0,
            0.014494589604538316,
            0,
            0,
            0.02964225345295793,
            0,
            0.014421659024389188,
            0.00934766567288517,
            0.0514455866889003,
            0,
            0.013227374686828377,
            0.02051250703963601,
            0,
            0.00237603060327417,
            0.015995166473960456,
            0.0019291523059765197,
            0,
            0.028667259123355215,
            0.00791576152132493,
            0.036349436479879024,
            0,
            0,
            0.019815476303117738,
            0
           ]
          }
         ],
         "name": "2020-05-31"
        },
        {
         "data": [
          {
           "coloraxis": "coloraxis",
           "geo": "geo",
           "hovertemplate": "date=2020-06-10<br>Country_code=%{location}<br>deaths=%{z}<extra></extra>",
           "locations": [
            "ITA",
            "RUS",
            "CHN",
            "ALB",
            "BGD",
            "BWA",
            "KHM",
            "HRV",
            "GRC",
            "SWE",
            "FIN",
            "NOR",
            "MYS",
            "ISR",
            "LTU",
            "SRB",
            "SVK",
            "SVN",
            "TUR",
            "VNM",
            "BGR",
            "CZE",
            "DNK",
            "GEO",
            "DEU",
            "HUN",
            "ISL",
            "JPN",
            "KAZ",
            "PRK",
            "KGZ",
            "NLD",
            "POL",
            "ROU",
            "TJK",
            "THA",
            "AZE",
            "MNG"
           ],
           "name": "",
           "type": "choropleth",
           "z": [
            0.1194290410418236,
            0.14992385221786553,
            0,
            0,
            0.022466536291534958,
            0,
            0,
            0,
            0,
            0.7533726465073161,
            0,
            0,
            0.003089662181898423,
            0.010851754186064178,
            0,
            0.014494589604538316,
            0,
            0,
            0.02015673234801139,
            0,
            0,
            0.01869533134577034,
            0,
            0,
            0.021644794942082796,
            0.010256253519818005,
            0,
            0.0015840204021827801,
            0.03199033294792091,
            0,
            0.03039559871730573,
            0.06306797007138149,
            0.06068750499682446,
            0.031156659839896312,
            0,
            0,
            0.039630952606235476,
            0
           ]
          }
         ],
         "name": "2020-06-10"
        },
        {
         "data": [
          {
           "coloraxis": "coloraxis",
           "geo": "geo",
           "hovertemplate": "date=2020-06-20<br>Country_code=%{location}<br>deaths=%{z}<extra></extra>",
           "locations": [
            "ITA",
            "RUS",
            "CHN",
            "ALB",
            "BGD",
            "BWA",
            "KHM",
            "HRV",
            "GRC",
            "SWE",
            "FIN",
            "NOR",
            "MYS",
            "ISR",
            "LTU",
            "SRB",
            "SVK",
            "SVN",
            "TUR",
            "VNM",
            "BGR",
            "CZE",
            "DNK",
            "GEO",
            "DEU",
            "HUN",
            "ISL",
            "JPN",
            "KAZ",
            "PRK",
            "KGZ",
            "NLD",
            "POL",
            "ROU",
            "TJK",
            "THA",
            "AZE",
            "MNG"
           ],
           "name": "",
           "type": "choropleth",
           "z": [
            0.0824228593105543,
            0.11174879725498311,
            0,
            0.035237956635465806,
            0.022466536291534958,
            0,
            0,
            0,
            0.00934530878582384,
            0,
            0,
            0,
            0,
            0.010851754186064178,
            0,
            0.014494589604538316,
            0,
            0,
            0.026085183038602973,
            0,
            0.08652995414633513,
            0.00934766567288517,
            0,
            0,
            0.013227374686828377,
            0.02051250703963601,
            0,
            0,
            0.02665861078993409,
            0,
            0.0455933980759586,
            0.04586761459736834,
            0.03166304608529972,
            0.0830844262397235,
            0,
            0,
            0.04953869075779434,
            0
           ]
          }
         ],
         "name": "2020-06-20"
        },
        {
         "data": [
          {
           "coloraxis": "coloraxis",
           "geo": "geo",
           "hovertemplate": "date=2020-06-30<br>Country_code=%{location}<br>deaths=%{z}<extra></extra>",
           "locations": [
            "ITA",
            "RUS",
            "CHN",
            "ALB",
            "BGD",
            "BWA",
            "KHM",
            "HRV",
            "GRC",
            "SWE",
            "FIN",
            "NOR",
            "MYS",
            "ISR",
            "LTU",
            "SRB",
            "SVK",
            "SVN",
            "TUR",
            "VNM",
            "BGR",
            "CZE",
            "DNK",
            "GEO",
            "DEU",
            "HUN",
            "ISL",
            "JPN",
            "KAZ",
            "PRK",
            "KGZ",
            "NLD",
            "POL",
            "ROU",
            "TJK",
            "THA",
            "AZE",
            "MNG"
           ],
           "name": "",
           "type": "choropleth",
           "z": [
            0.03868828090087243,
            0.1068901538960708,
            0,
            0.14095182654186322,
            0.03886103574751992,
            0,
            0,
            0,
            0.00934530878582384,
            0.5119070546780481,
            0.018084677160481438,
            0.018589174594175084,
            0,
            0.010851754186064178,
            0,
            0.04348376881361494,
            0,
            0,
            0.018971042209893076,
            0,
            0.10095161317072433,
            0.00934766567288517,
            0,
            0,
            0.014429863294721866,
            0,
            0,
            0,
            0,
            0,
            0.06079119743461146,
            0.03440071094802626,
            0.050133156301724546,
            0.08827720287970621,
            0,
            0,
            0.06935416706091209,
            0
           ]
          }
         ],
         "name": "2020-06-30"
        },
        {
         "data": [
          {
           "coloraxis": "coloraxis",
           "geo": "geo",
           "hovertemplate": "date=2020-07-10<br>Country_code=%{location}<br>deaths=%{z}<extra></extra>",
           "locations": [
            "ITA",
            "RUS",
            "CHN",
            "ALB",
            "BGD",
            "BWA",
            "KHM",
            "HRV",
            "GRC",
            "SWE",
            "FIN",
            "NOR",
            "MYS",
            "ISR",
            "LTU",
            "SRB",
            "SVK",
            "SVN",
            "TUR",
            "VNM",
            "BGR",
            "CZE",
            "DNK",
            "GEO",
            "DEU",
            "HUN",
            "ISL",
            "JPN",
            "KAZ",
            "PRK",
            "KGZ",
            "NLD",
            "POL",
            "ROU",
            "TJK",
            "THA",
            "AZE",
            "MNG"
           ],
           "name": "",
           "type": "choropleth",
           "z": [
            0.02018519003523779,
            0.1207719920643917,
            0,
            0.07047591327093161,
            0.022466536291534958,
            0,
            0,
            0.049411020634042215,
            0,
            0.25112421550243874,
            0,
            0,
            0.003089662181898423,
            0.04340701674425671,
            0,
            0.26090261288168964,
            0,
            0,
            0.02727087317672129,
            0,
            0.07210829512194594,
            0,
            0,
            0,
            0.007214931647360933,
            0.02051250703963601,
            0,
            0,
            0.10130272100174956,
            0,
            0.0455933980759586,
            0.008600177737006566,
            0.02902445891152474,
            0.06750609631977533,
            0,
            0,
            0.07926190521247095,
            0
           ]
          }
         ],
         "name": "2020-07-10"
        },
        {
         "data": [
          {
           "coloraxis": "coloraxis",
           "geo": "geo",
           "hovertemplate": "date=2020-07-20<br>Country_code=%{location}<br>deaths=%{z}<extra></extra>",
           "locations": [
            "ITA",
            "RUS",
            "CHN",
            "ALB",
            "BGD",
            "BWA",
            "KHM",
            "HRV",
            "GRC",
            "SWE",
            "FIN",
            "NOR",
            "MYS",
            "ISR",
            "LTU",
            "SRB",
            "SVK",
            "SVN",
            "TUR",
            "VNM",
            "BGR",
            "CZE",
            "DNK",
            "GEO",
            "DEU",
            "HUN",
            "ISL",
            "JPN",
            "KAZ",
            "PRK",
            "KGZ",
            "NLD",
            "POL",
            "ROU",
            "TJK",
            "THA",
            "AZE",
            "MNG"
           ],
           "name": "",
           "type": "choropleth",
           "z": [
            0.02186728920484094,
            0.05899781221536375,
            0,
            0.035237956635465806,
            0.030360184177749938,
            0,
            0,
            0.049411020634042215,
            0.00934530878582384,
            0,
            0,
            0,
            0,
            0.13022105023277014,
            0,
            0.14494589604538313,
            0,
            0.04756425812361855,
            0.02015673234801139,
            0,
            0.11537327219511351,
            0,
            0,
            0,
            0.0024049772157869777,
            0,
            0,
            0.0015840204021827801,
            0,
            0,
            0,
            0,
            0.00791576152132493,
            0.062313319679792624,
            0,
            0,
            0.08916964336402983,
            0
           ]
          }
         ],
         "name": "2020-07-20"
        },
        {
         "data": [
          {
           "coloraxis": "coloraxis",
           "geo": "geo",
           "hovertemplate": "date=2020-07-30<br>Country_code=%{location}<br>deaths=%{z}<extra></extra>",
           "locations": [
            "ITA",
            "RUS",
            "CHN",
            "ALB",
            "BGD",
            "BWA",
            "KHM",
            "HRV",
            "GRC",
            "SWE",
            "FIN",
            "NOR",
            "MYS",
            "ISR",
            "LTU",
            "SRB",
            "SVK",
            "SVN",
            "TUR",
            "VNM",
            "BGR",
            "CZE",
            "DNK",
            "GEO",
            "DEU",
            "HUN",
            "ISL",
            "JPN",
            "KAZ",
            "PRK",
            "KGZ",
            "NLD",
            "POL",
            "ROU",
            "TJK",
            "THA",
            "AZE",
            "MNG"
           ],
           "name": "",
           "type": "choropleth",
           "z": [
            0.005046297508809448,
            0.08884376427725366,
            0,
            0.14095182654186322,
            0.02914577681063994,
            0,
            0,
            0.07411653095106333,
            0,
            0.08692761305853648,
            0.018084677160481438,
            0,
            0,
            0.16277631279096266,
            0,
            0.10146212723176819,
            0,
            0,
            0.017785352071774757,
            0,
            0.08652995414633513,
            0.046738328364425846,
            0.0171485288963001,
            0.02686210820272081,
            0.007214931647360933,
            0,
            0,
            0.0007920102010913901,
            0,
            0.0019291523059765197,
            0.25836258909709875,
            0,
            0.03957880760662465,
            0.18174718239939514,
            0,
            0,
            0.02972321445467661,
            0
           ]
          }
         ],
         "name": "2020-07-30"
        },
        {
         "data": [
          {
           "coloraxis": "coloraxis",
           "geo": "geo",
           "hovertemplate": "date=2020-08-09<br>Country_code=%{location}<br>deaths=%{z}<extra></extra>",
           "locations": [
            "ITA",
            "RUS",
            "CHN",
            "ALB",
            "BGD",
            "BWA",
            "KHM",
            "HRV",
            "GRC",
            "SWE",
            "FIN",
            "NOR",
            "MYS",
            "ISR",
            "LTU",
            "SRB",
            "SVK",
            "SVN",
            "TUR",
            "VNM",
            "BGR",
            "CZE",
            "DNK",
            "GEO",
            "DEU",
            "HUN",
            "ISL",
            "JPN",
            "KAZ",
            "PRK",
            "KGZ",
            "NLD",
            "POL",
            "ROU",
            "TJK",
            "THA",
            "AZE",
            "MNG"
           ],
           "name": "",
           "type": "choropleth",
           "z": [
            0.0033641983392062986,
            0.052750985039619364,
            0,
            0.21142773981279483,
            0.02064492524086996,
            0,
            0,
            0,
            0.00934530878582384,
            0,
            0,
            0,
            0,
            0.07596227930244924,
            0,
            0.13045130644084482,
            0,
            0.04756425812361855,
            0.017785352071774757,
            0.003082025551984869,
            0.028843318048778377,
            0.00934766567288517,
            0,
            0,
            0.0012024886078934888,
            0,
            0,
            0.00396005100545695,
            1.727477979187729,
            0,
            0.1367801942278758,
            0,
            0.018470110216424834,
            0.21290384223929146,
            0,
            0,
            0.019815476303117738,
            0
           ]
          }
         ],
         "name": "2020-08-09"
        },
        {
         "data": [
          {
           "coloraxis": "coloraxis",
           "geo": "geo",
           "hovertemplate": "date=2020-08-19<br>Country_code=%{location}<br>deaths=%{z}<extra></extra>",
           "locations": [
            "ITA",
            "RUS",
            "CHN",
            "ALB",
            "BGD",
            "BWA",
            "KHM",
            "HRV",
            "GRC",
            "SWE",
            "FIN",
            "NOR",
            "MYS",
            "ISR",
            "LTU",
            "SRB",
            "SVK",
            "SVN",
            "TUR",
            "VNM",
            "BGR",
            "CZE",
            "DNK",
            "GEO",
            "DEU",
            "HUN",
            "ISL",
            "JPN",
            "KAZ",
            "PRK",
            "KGZ",
            "NLD",
            "POL",
            "ROU",
            "TJK",
            "THA",
            "AZE",
            "MNG"
           ],
           "name": "",
           "type": "choropleth",
           "z": [
            0.011774694187222046,
            0.07982056946784508,
            0,
            0.07047591327093161,
            0.024895351025754953,
            0,
            0,
            0.049411020634042215,
            0.028035926357471517,
            0.11590348407804862,
            0,
            0,
            0,
            0.13022105023277014,
            0,
            0.04348376881361494,
            0.03663790774098538,
            0,
            0.02727087317672129,
            0.0005136709253308116,
            0.11537327219511351,
            0.02804299701865551,
            0,
            0,
            0.00841742025525442,
            0,
            0,
            0.01108814281527946,
            0,
            0.0019291523059765197,
            0,
            0.03440071094802626,
            0.0448559819541746,
            0.166168852479447,
            0.010484771812571703,
            0,
            0.009907738151558869,
            0
           ]
          }
         ],
         "name": "2020-08-19"
        },
        {
         "data": [
          {
           "coloraxis": "coloraxis",
           "geo": "geo",
           "hovertemplate": "date=2020-08-29<br>Country_code=%{location}<br>deaths=%{z}<extra></extra>",
           "locations": [
            "ITA",
            "RUS",
            "CHN",
            "ALB",
            "BGD",
            "BWA",
            "KHM",
            "HRV",
            "GRC",
            "SWE",
            "FIN",
            "NOR",
            "MYS",
            "ISR",
            "LTU",
            "SRB",
            "SVK",
            "SVN",
            "TUR",
            "VNM",
            "BGR",
            "CZE",
            "DNK",
            "GEO",
            "DEU",
            "HUN",
            "ISL",
            "JPN",
            "KAZ",
            "PRK",
            "KGZ",
            "NLD",
            "POL",
            "ROU",
            "TJK",
            "THA",
            "AZE",
            "MNG"
           ],
           "name": "",
           "type": "choropleth",
           "z": [
            0.0016820991696031493,
            0.07704420183418091,
            0,
            0.14095182654186322,
            0.01943051787375996,
            0,
            0,
            0.07411653095106333,
            0.00934530878582384,
            0,
            0,
            0,
            0.003089662181898423,
            0.05425877093032089,
            0,
            0.014494589604538316,
            0,
            0,
            0.04624191538661437,
            0.0020546837013232463,
            0.028843318048778377,
            0.01869533134577034,
            0,
            0,
            0.0012024886078934888,
            0,
            0,
            0.00871211221200529,
            0,
            0.0038583046119530394,
            0,
            0.02293380729868417,
            0.03694022043284967,
            0.166168852479447,
            0,
            0,
            0.019815476303117738,
            0
           ]
          }
         ],
         "name": "2020-08-29"
        },
        {
         "data": [
          {
           "coloraxis": "coloraxis",
           "geo": "geo",
           "hovertemplate": "date=2020-09-08<br>Country_code=%{location}<br>deaths=%{z}<extra></extra>",
           "locations": [
            "ITA",
            "RUS",
            "CHN",
            "ALB",
            "BGD",
            "BWA",
            "KHM",
            "HRV",
            "GRC",
            "SWE",
            "FIN",
            "NOR",
            "MYS",
            "ISR",
            "LTU",
            "SRB",
            "SVK",
            "SVN",
            "TUR",
            "VNM",
            "BGR",
            "CZE",
            "DNK",
            "GEO",
            "DEU",
            "HUN",
            "ISL",
            "JPN",
            "KAZ",
            "PRK",
            "KGZ",
            "NLD",
            "POL",
            "ROU",
            "TJK",
            "THA",
            "AZE",
            "MNG"
           ],
           "name": "",
           "type": "choropleth",
           "z": [
            0.016820991696031493,
            0.08398512091834134,
            0,
            0.07047591327093161,
            0.021859332607979957,
            0,
            0,
            0.049411020634042215,
            0.00934530878582384,
            0.028975871019512156,
            0,
            0,
            0,
            0.21703508372128355,
            0,
            0.02898917920907663,
            0,
            0,
            0.061655887182152494,
            0,
            0.21632488536583783,
            0.03739066269154068,
            0,
            0,
            0.004809954431573955,
            0.010256253519818005,
            0,
            0.01425618361964502,
            0,
            0.0057874569179295595,
            0,
            0.005733451824671043,
            0.03166304608529972,
            0.21290384223929146,
            0,
            0,
            0.009907738151558869,
            0
           ]
          }
         ],
         "name": "2020-09-08"
        },
        {
         "data": [
          {
           "coloraxis": "coloraxis",
           "geo": "geo",
           "hovertemplate": "date=2020-09-18<br>Country_code=%{location}<br>deaths=%{z}<extra></extra>",
           "locations": [
            "ITA",
            "RUS",
            "CHN",
            "ALB",
            "BGD",
            "BWA",
            "KHM",
            "HRV",
            "GRC",
            "SWE",
            "FIN",
            "NOR",
            "MYS",
            "ISR",
            "LTU",
            "SRB",
            "SVK",
            "SVN",
            "TUR",
            "VNM",
            "BGR",
            "CZE",
            "DNK",
            "GEO",
            "DEU",
            "HUN",
            "ISL",
            "JPN",
            "KAZ",
            "PRK",
            "KGZ",
            "NLD",
            "POL",
            "ROU",
            "TJK",
            "THA",
            "AZE",
            "MNG"
           ],
           "name": "",
           "type": "choropleth",
           "z": [
            0.016820991696031493,
            0.09162013191091782,
            0,
            0.21142773981279483,
            0.013358481038209972,
            0,
            0,
            0.14823306190212665,
            0.01869061757164768,
            0.00965862367317072,
            0,
            0.018589174594175084,
            0.003089662181898423,
            0.21703508372128355,
            0,
            0.014494589604538316,
            0,
            0.1902570324944742,
            0.07351278856333567,
            0,
            0.057686636097556754,
            0.05608599403731102,
            0,
            0,
            0.00841742025525442,
            0.06153752111890803,
            0,
            0.0079201020109139,
            0,
            0.0019291523059765197,
            0,
            0.04586761459736834,
            0.0448559819541746,
            0.2492532787191705,
            0,
            0.0014326652080033607,
            0.009907738151558869,
            0
           ]
          }
         ],
         "name": "2020-09-18"
        },
        {
         "data": [
          {
           "coloraxis": "coloraxis",
           "geo": "geo",
           "hovertemplate": "date=2020-09-28<br>Country_code=%{location}<br>deaths=%{z}<extra></extra>",
           "locations": [
            "ITA",
            "RUS",
            "CHN",
            "ALB",
            "BGD",
            "BWA",
            "KHM",
            "HRV",
            "GRC",
            "SWE",
            "FIN",
            "NOR",
            "MYS",
            "ISR",
            "LTU",
            "SRB",
            "SVK",
            "SVN",
            "TUR",
            "VNM",
            "BGR",
            "CZE",
            "DNK",
            "GEO",
            "DEU",
            "HUN",
            "ISL",
            "JPN",
            "KAZ",
            "PRK",
            "KGZ",
            "NLD",
            "POL",
            "ROU",
            "TJK",
            "THA",
            "AZE",
            "MNG"
           ],
           "name": "",
           "type": "choropleth",
           "z": [
            0.02691358671365039,
            0.04164551450496265,
            0,
            0.10571386990639742,
            0.01943051787375996,
            0,
            0,
            0,
            0.03738123514329536,
            0,
            0,
            0.07435669837670034,
            0.003089662181898423,
            0.31470087139586117,
            0.03577964746313354,
            0.014494589604538316,
            0,
            0.0951285162472371,
            0.07706985897769061,
            0,
            0.15863824926828107,
            0.11217198807462204,
            0,
            0,
            0.0036074658236804665,
            0.13333129575763406,
            0,
            0.00871211221200529,
            0,
            0.0019291523059765197,
            0.015197799358652866,
            0.03440071094802626,
            0.03957880760662465,
            0.15578329919948156,
            0,
            0,
            0.019815476303117738,
            0
           ]
          }
         ],
         "name": "2020-09-28"
        },
        {
         "data": [
          {
           "coloraxis": "coloraxis",
           "geo": "geo",
           "hovertemplate": "date=2020-10-08<br>Country_code=%{location}<br>deaths=%{z}<extra></extra>",
           "locations": [
            "ITA",
            "RUS",
            "CHN",
            "ALB",
            "BGD",
            "BWA",
            "KHM",
            "HRV",
            "GRC",
            "SWE",
            "FIN",
            "NOR",
            "MYS",
            "ISR",
            "LTU",
            "SRB",
            "SVK",
            "SVN",
            "TUR",
            "VNM",
            "BGR",
            "CZE",
            "DNK",
            "GEO",
            "DEU",
            "HUN",
            "ISL",
            "JPN",
            "KAZ",
            "PRK",
            "KGZ",
            "NLD",
            "POL",
            "ROU",
            "TJK",
            "THA",
            "AZE",
            "MNG"
           ],
           "name": "",
           "type": "choropleth",
           "z": [
            0.03700618173126929,
            0.12771291114855213,
            0,
            0.14095182654186322,
            0.012144073671099976,
            0,
            0,
            0.024705510317021107,
            0.056071852714943034,
            0,
            0.036169354320962875,
            0,
            0.015448310909492115,
            0.5100324467450164,
            0.03577964746313354,
            0.02898917920907663,
            0.03663790774098538,
            0.04756425812361855,
            0.06877002801086239,
            0,
            0.10095161317072433,
            0.37390662691540677,
            0.0342970577926002,
            0.10744843281088325,
            0.01923981772629582,
            0.21538132391617812,
            0,
            0.00237603060327417,
            0,
            0.0019291523059765197,
            0.06079119743461146,
            0.07453487372072355,
            0.19789403803312325,
            0.22848217215923963,
            0,
            0,
            0.009907738151558869,
            0
           ]
          }
         ],
         "name": "2020-10-08"
        },
        {
         "data": [
          {
           "coloraxis": "coloraxis",
           "geo": "geo",
           "hovertemplate": "date=2020-10-18<br>Country_code=%{location}<br>deaths=%{z}<extra></extra>",
           "locations": [
            "ITA",
            "RUS",
            "CHN",
            "ALB",
            "BGD",
            "BWA",
            "KHM",
            "HRV",
            "GRC",
            "SWE",
            "FIN",
            "NOR",
            "MYS",
            "ISR",
            "LTU",
            "SRB",
            "SVK",
            "SVN",
            "TUR",
            "VNM",
            "BGR",
            "CZE",
            "DNK",
            "GEO",
            "DEU",
            "HUN",
            "ISL",
            "JPN",
            "KAZ",
            "PRK",
            "KGZ",
            "NLD",
            "POL",
            "ROU",
            "TJK",
            "THA",
            "AZE",
            "MNG"
           ],
           "name": "",
           "type": "choropleth",
           "z": [
            0.11606484270261731,
            0.12632472733172004,
            0,
            0.10571386990639742,
            0.008500851569769983,
            0,
            0,
            0.19764408253616886,
            0.08410777907241455,
            0,
            0,
            0,
            0.006179324363796846,
            0.35810788814011785,
            0.07155929492626709,
            0.02898917920907663,
            0.10991372322295613,
            0.1902570324944742,
            0.08536968994451882,
            0,
            0.2595898624390054,
            0.6543365971019619,
            0.0171485288963001,
            0.2148968656217665,
            0.012024886078934887,
            0.33845636615399416,
            0,
            0.0031680408043655603,
            0.22393233063544637,
            0,
            0.0455933980759586,
            0.0802683255453946,
            0.12929077151497387,
            0.3115665983989631,
            0,
            0,
            0.02972321445467661,
            0
           ]
          }
         ],
         "name": "2020-10-18"
        },
        {
         "data": [
          {
           "coloraxis": "coloraxis",
           "geo": "geo",
           "hovertemplate": "date=2020-10-28<br>Country_code=%{location}<br>deaths=%{z}<extra></extra>",
           "locations": [
            "ITA",
            "RUS",
            "CHN",
            "ALB",
            "BGD",
            "BWA",
            "KHM",
            "HRV",
            "GRC",
            "SWE",
            "FIN",
            "NOR",
            "MYS",
            "ISR",
            "LTU",
            "SRB",
            "SVK",
            "SVN",
            "TUR",
            "VNM",
            "BGR",
            "CZE",
            "DNK",
            "GEO",
            "DEU",
            "HUN",
            "ISL",
            "JPN",
            "KAZ",
            "PRK",
            "KGZ",
            "NLD",
            "POL",
            "ROU",
            "TJK",
            "THA",
            "AZE",
            "MNG"
           ],
           "name": "",
           "type": "choropleth",
           "z": [
            0.3448303297686456,
            0.23807352458670317,
            0,
            0.21142773981279483,
            0.013965684721764971,
            0,
            0,
            0.5682267372914855,
            0.0934530878582384,
            0.03380518285609752,
            0.018084677160481438,
            0,
            0.03089662181898423,
            0.10851754186064178,
            0.17889823731566773,
            0.07247294802269157,
            0.14655163096394153,
            0.6658996137306598,
            0.09129814063511041,
            0,
            0.5191797248780108,
            1.1965012061293017,
            0.1028911733778006,
            0.4029316230408121,
            0.10221153167094654,
            0.4410189013521742,
            0.27287884452182076,
            0.00396005100545695,
            0,
            0.0019291523059765197,
            0.03039559871730573,
            0.3440071094802626,
            0.6174293986633446,
            0.5556271004781509,
            0,
            0,
            0.10898511966714755,
            0
           ]
          }
         ],
         "name": "2020-10-28"
        },
        {
         "data": [
          {
           "coloraxis": "coloraxis",
           "geo": "geo",
           "hovertemplate": "date=2020-11-07<br>Country_code=%{location}<br>deaths=%{z}<extra></extra>",
           "locations": [
            "ITA",
            "RUS",
            "CHN",
            "ALB",
            "BGD",
            "BWA",
            "KHM",
            "HRV",
            "GRC",
            "SWE",
            "FIN",
            "NOR",
            "MYS",
            "ISR",
            "LTU",
            "SRB",
            "SVK",
            "SVN",
            "TUR",
            "VNM",
            "BGR",
            "CZE",
            "DNK",
            "GEO",
            "DEU",
            "HUN",
            "ISL",
            "JPN",
            "KAZ",
            "PRK",
            "KGZ",
            "NLD",
            "POL",
            "ROU",
            "TJK",
            "THA",
            "AZE",
            "MNG"
           ],
           "name": "",
           "type": "choropleth",
           "z": [
            0.7148921470813384,
            0.24709671939611172,
            0,
            0.28190365308372645,
            0.007893647886214985,
            0,
            0,
            0.8646928610957387,
            0.3177404987180105,
            0,
            0.036169354320962875,
            0,
            0.00926898654569527,
            0.08681403348851342,
            0.35779647463133546,
            0.13045130644084482,
            0.6228444315967514,
            1.617184776203031,
            0.09604090118758368,
            0,
            0.8076129053657947,
            1.8414901375583785,
            0.0342970577926002,
            0.48351794764897454,
            0.15632351902615352,
            1.0974191266205264,
            0,
            0.00396005100545695,
            0,
            0.0019291523059765197,
            0.03039559871730573,
            0.4185419832009862,
            0.9208669236474667,
            0.6750609631977533,
            0,
            0,
            0.1288005959702653,
            0
           ]
          }
         ],
         "name": "2020-11-07"
        },
        {
         "data": [
          {
           "coloraxis": "coloraxis",
           "geo": "geo",
           "hovertemplate": "date=2020-11-17<br>Country_code=%{location}<br>deaths=%{z}<extra></extra>",
           "locations": [
            "ITA",
            "RUS",
            "CHN",
            "ALB",
            "BGD",
            "BWA",
            "KHM",
            "HRV",
            "GRC",
            "SWE",
            "FIN",
            "NOR",
            "MYS",
            "ISR",
            "LTU",
            "SRB",
            "SVK",
            "SVN",
            "TUR",
            "VNM",
            "BGR",
            "CZE",
            "DNK",
            "GEO",
            "DEU",
            "HUN",
            "ISL",
            "JPN",
            "KAZ",
            "PRK",
            "KGZ",
            "NLD",
            "POL",
            "ROU",
            "TJK",
            "THA",
            "AZE",
            "MNG"
           ],
           "name": "",
           "type": "choropleth",
           "z": [
            1.2296144929799022,
            0.3019299801609792,
            0,
            0.21142773981279483,
            0.023680943658644954,
            0,
            0,
            0.7658708198276544,
            0.5887544535069019,
            0,
            0.018084677160481438,
            0.07435669837670034,
            0.015448310909492115,
            0.13022105023277014,
            0.7155929492626709,
            0.3478701505089195,
            0.5678875699852735,
            2.140391615562835,
            0.12212608422618668,
            0,
            1.8892373321949836,
            1.327368525549694,
            0.0685941155852004,
            1.2087948691224364,
            0.3210644583075615,
            0.9333190703034385,
            0,
            0.01108814281527946,
            0,
            0.0038583046119530394,
            0.06079119743461146,
            0.4930768569217097,
            0.9419756210376665,
            0.9658564550367856,
            0,
            0,
            0.19815476303117735,
            0
           ]
          }
         ],
         "name": "2020-11-17"
        },
        {
         "data": [
          {
           "coloraxis": "coloraxis",
           "geo": "geo",
           "hovertemplate": "date=2020-11-27<br>Country_code=%{location}<br>deaths=%{z}<extra></extra>",
           "locations": [
            "ITA",
            "RUS",
            "CHN",
            "ALB",
            "BGD",
            "BWA",
            "KHM",
            "HRV",
            "GRC",
            "SWE",
            "FIN",
            "NOR",
            "MYS",
            "ISR",
            "LTU",
            "SRB",
            "SVK",
            "SVN",
            "TUR",
            "VNM",
            "BGR",
            "CZE",
            "DNK",
            "GEO",
            "DEU",
            "HUN",
            "ISL",
            "JPN",
            "KAZ",
            "PRK",
            "KGZ",
            "NLD",
            "POL",
            "ROU",
            "TJK",
            "THA",
            "AZE",
            "MNG"
           ],
           "name": "",
           "type": "choropleth",
           "z": [
            1.3910960132618044,
            0.33802275939861354,
            7.086669973779322e-05,
            0.6342832194383845,
            0.012144073671099976,
            0,
            0,
            1.1858644952170132,
            0.9438761873682078,
            0.5698587967170725,
            0.036169354320962875,
            0.22307009513010098,
            0.006179324363796846,
            0.06511052511638507,
            0.8229318916520715,
            0.826191607458684,
            0.40301698515083917,
            2.283084389933691,
            0.20986715444694215,
            0,
            2.1776705126827673,
            1.7573611465024122,
            0.08574264448150051,
            0.9938980035006699,
            0.5122601469626262,
            1.3845942251754306,
            0,
            0.024552316233833093,
            0,
            0.011574913835859119,
            0,
            0.47587650144769655,
            1.5277419736157112,
            0.8931575820770274,
            0,
            0,
            0.34677083530456043,
            0
           ]
          }
         ],
         "name": "2020-11-27"
        },
        {
         "data": [
          {
           "coloraxis": "coloraxis",
           "geo": "geo",
           "hovertemplate": "date=2020-12-07<br>Country_code=%{location}<br>deaths=%{z}<extra></extra>",
           "locations": [
            "ITA",
            "RUS",
            "CHN",
            "ALB",
            "BGD",
            "BWA",
            "KHM",
            "HRV",
            "GRC",
            "SWE",
            "FIN",
            "NOR",
            "MYS",
            "ISR",
            "LTU",
            "SRB",
            "SVK",
            "SVN",
            "TUR",
            "VNM",
            "BGR",
            "CZE",
            "DNK",
            "GEO",
            "DEU",
            "HUN",
            "ISL",
            "JPN",
            "KAZ",
            "PRK",
            "KGZ",
            "NLD",
            "POL",
            "ROU",
            "TJK",
            "THA",
            "AZE",
            "MNG"
           ],
           "name": "",
           "type": "choropleth",
           "z": [
            0.8881483615504627,
            0.31025908306197175,
            0,
            0.5990452628029187,
            0.021859332607979957,
            0.08504757348641896,
            0,
            1.4576251087042456,
            0.8317324819383217,
            0,
            0.18084677160481435,
            0.09294587297087542,
            0.006179324363796846,
            0.07596227930244924,
            1.574304488377876,
            0.8116970178541455,
            0.40301698515083917,
            2.473341422428165,
            0.24069509803801836,
            0,
            3.0718133721948973,
            0,
            0.1543367600667009,
            0.9670358952979491,
            0.17676582536034285,
            1.1897254082988886,
            0,
            0.030888397842564214,
            0,
            0.0057874569179295595,
            0,
            0.09746868101940773,
            0.24275001998729784,
            0.6594826332778052,
            0,
            0,
            0.4260327405170314,
            0
           ]
          }
         ],
         "name": "2020-12-07"
        },
        {
         "data": [
          {
           "coloraxis": "coloraxis",
           "geo": "geo",
           "hovertemplate": "date=2020-12-17<br>Country_code=%{location}<br>deaths=%{z}<extra></extra>",
           "locations": [
            "ITA",
            "RUS",
            "CHN",
            "ALB",
            "BGD",
            "BWA",
            "KHM",
            "HRV",
            "GRC",
            "SWE",
            "FIN",
            "NOR",
            "MYS",
            "ISR",
            "LTU",
            "SRB",
            "SVK",
            "SVN",
            "TUR",
            "VNM",
            "BGR",
            "CZE",
            "DNK",
            "GEO",
            "DEU",
            "HUN",
            "ISL",
            "JPN",
            "KAZ",
            "PRK",
            "KGZ",
            "NLD",
            "POL",
            "ROU",
            "TJK",
            "THA",
            "AZE",
            "MNG"
           ],
           "name": "",
           "type": "choropleth",
           "z": [
            1.148873732838951,
            0.3984087554308093,
            0,
            0.5285693495319871,
            0.021859332607979957,
            0,
            0,
            2.0999683769467943,
            0.7289340852942594,
            0.8789347542585355,
            0.07233870864192575,
            0.03717834918835017,
            0.00926898654569527,
            0.17362806697702685,
            1.5385248409147425,
            0.6812457114133007,
            1.2640078170639957,
            2.045263099315598,
            0.28812270356275105,
            0,
            2.062297240487654,
            1.4395405136243162,
            0.29152499123710174,
            0.832725354284345,
            0.8393370483096552,
            1.6102318026114268,
            0,
            0.030096387641472825,
            0,
            0.021220675365741716,
            0.06079119743461146,
            0.4300088868503283,
            1.137231071897015,
            0.5556271004781509,
            0,
            0,
            0.376494049759237,
            0
           ]
          }
         ],
         "name": "2020-12-17"
        },
        {
         "data": [
          {
           "coloraxis": "coloraxis",
           "geo": "geo",
           "hovertemplate": "date=2020-12-27<br>Country_code=%{location}<br>deaths=%{z}<extra></extra>",
           "locations": [
            "ITA",
            "RUS",
            "CHN",
            "ALB",
            "BGD",
            "BWA",
            "KHM",
            "HRV",
            "GRC",
            "SWE",
            "FIN",
            "NOR",
            "MYS",
            "ISR",
            "LTU",
            "SRB",
            "SVK",
            "SVN",
            "TUR",
            "VNM",
            "BGR",
            "CZE",
            "DNK",
            "GEO",
            "DEU",
            "HUN",
            "ISL",
            "JPN",
            "KAZ",
            "PRK",
            "KGZ",
            "NLD",
            "POL",
            "ROU",
            "TJK",
            "THA",
            "AZE",
            "MNG"
           ],
           "name": "",
           "type": "choropleth",
           "z": [
            0.5130402467289605,
            0.3755037224530799,
            7.086669973779322e-05,
            0.35237956635465806,
            0.01457288840531997,
            0,
            0,
            1.4329195983872243,
            0.4953013656486635,
            0,
            0,
            0,
            0.003089662181898423,
            0.17362806697702685,
            1.502745193451609,
            0.6812457114133007,
            0.7510771086902004,
            1.5696205180794123,
            0.30116529508205253,
            0,
            0.5912880199999567,
            0.8786805732512061,
            0.36011910682230214,
            0.6715527050680202,
            0.42808594441008196,
            0.9846003379025284,
            0,
            0.0316804080436556,
            0.42653777263894543,
            0.021220675365741716,
            0.06079119743461146,
            0.1605366510907892,
            0.15039946890517367,
            0.6335187500778916,
            0,
            0,
            0.4458482168201491,
            0
           ]
          }
         ],
         "name": "2020-12-27"
        },
        {
         "data": [
          {
           "coloraxis": "coloraxis",
           "geo": "geo",
           "hovertemplate": "date=2021-01-06<br>Country_code=%{location}<br>deaths=%{z}<extra></extra>",
           "locations": [
            "ITA",
            "RUS",
            "CHN",
            "ALB",
            "BGD",
            "BWA",
            "KHM",
            "HRV",
            "GRC",
            "SWE",
            "FIN",
            "NOR",
            "MYS",
            "ISR",
            "LTU",
            "SRB",
            "SVK",
            "SVN",
            "TUR",
            "VNM",
            "BGR",
            "CZE",
            "DNK",
            "GEO",
            "DEU",
            "HUN",
            "ISL",
            "JPN",
            "KAZ",
            "PRK",
            "KGZ",
            "NLD",
            "POL",
            "ROU",
            "TJK",
            "THA",
            "AZE",
            "MNG"
           ],
           "name": "",
           "type": "choropleth",
           "z": [
            0.9217903449425259,
            0.29915361252731504,
            7.086669973779322e-05,
            0.24666569644826064,
            0.01032246262043498,
            0,
            0,
            1.0870424539489287,
            0.44857482171954427,
            0,
            0.07233870864192575,
            0.2416592697242761,
            0.003089662181898423,
            0.35810788814011785,
            1.252287661209674,
            0.5652889945769943,
            0.9892235090066053,
            1.4744920018321752,
            0.22646681638059857,
            0,
            0.8508778824389621,
            1.6732321554464453,
            0.514455866889003,
            0.5372421640544162,
            1.225335891443465,
            1.2102379153385245,
            0,
            0.05148066307094036,
            0,
            0.03665389381355387,
            0.015197799358652866,
            0.7854828999799328,
            1.4591387070975619,
            0.6283259734379089,
            0,
            0.0014326652080033607,
            0.2576011919405306,
            0
           ]
          }
         ],
         "name": "2021-01-06"
        },
        {
         "data": [
          {
           "coloraxis": "coloraxis",
           "geo": "geo",
           "hovertemplate": "date=2021-01-16<br>Country_code=%{location}<br>deaths=%{z}<extra></extra>",
           "locations": [
            "ITA",
            "RUS",
            "CHN",
            "ALB",
            "BGD",
            "BWA",
            "KHM",
            "HRV",
            "GRC",
            "SWE",
            "FIN",
            "NOR",
            "MYS",
            "ISR",
            "LTU",
            "SRB",
            "SVK",
            "SVN",
            "TUR",
            "VNM",
            "BGR",
            "CZE",
            "DNK",
            "GEO",
            "DEU",
            "HUN",
            "ISL",
            "JPN",
            "KAZ",
            "PRK",
            "KGZ",
            "NLD",
            "POL",
            "ROU",
            "TJK",
            "THA",
            "AZE",
            "MNG"
           ],
           "name": "",
           "type": "choropleth",
           "z": [
            0.798997105561496,
            0.3997969392476414,
            0.00028346679895117287,
            0.17618978317732903,
            0.012751277354654974,
            0,
            0,
            0.938809392046802,
            0.1869061757164768,
            0,
            0.018084677160481438,
            0,
            0.024717297455187383,
            0.5317359551171447,
            1.2165080137465405,
            0.3188809712998429,
            1.007542462877098,
            0.9037209043487525,
            0.1991959432038773,
            0,
            0.2451682034146162,
            1.7386658151566419,
            0.4630102802001027,
            0.6178284886625787,
            1.178438835735619,
            0.8922940562241665,
            0,
            0.04435257126111784,
            0,
            0.025078979977694753,
            0.03039559871730573,
            0.5561448269930912,
            0.9736386671229664,
            0.34272325823885946,
            0,
            0.0014326652080033607,
            0.14861607227338303,
            0
           ]
          }
         ],
         "name": "2021-01-16"
        },
        {
         "data": [
          {
           "coloraxis": "coloraxis",
           "geo": "geo",
           "hovertemplate": "date=2021-01-26<br>Country_code=%{location}<br>deaths=%{z}<extra></extra>",
           "locations": [
            "ITA",
            "RUS",
            "CHN",
            "ALB",
            "BGD",
            "BWA",
            "KHM",
            "HRV",
            "GRC",
            "SWE",
            "FIN",
            "NOR",
            "MYS",
            "ISR",
            "LTU",
            "SRB",
            "SVK",
            "SVN",
            "TUR",
            "VNM",
            "BGR",
            "CZE",
            "DNK",
            "GEO",
            "DEU",
            "HUN",
            "ISL",
            "JPN",
            "KAZ",
            "PRK",
            "KGZ",
            "NLD",
            "POL",
            "ROU",
            "TJK",
            "THA",
            "AZE",
            "MNG"
           ],
           "name": "",
           "type": "choropleth",
           "z": [
            0.9100156507553038,
            0.38175054962882427,
            7.086669973779322e-05,
            0.28190365308372645,
            0.008500851569769983,
            0,
            0,
            0.5682267372914855,
            0.19625148450230065,
            2.337386928907314,
            0.09042338580240718,
            0.03717834918835017,
            0.033986284000882654,
            0.16277631279096266,
            0.6082540068732702,
            0.27539720248622795,
            3.517239143134596,
            1.2842349693377009,
            0.1588824785078545,
            0,
            0.5191797248780108,
            1.5423648360260531,
            0.34297057792600205,
            0.6715527050680202,
            1.0858472129278203,
            0.9128065632638025,
            0,
            0.08236906091350456,
            0,
            0.013504066141835636,
            0.0455933980759586,
            0.4930768569217097,
            0.6965870138765938,
            0.5036993340783237,
            0,
            0,
            0.06935416706091209,
            0
           ]
          }
         ],
         "name": "2021-01-26"
        },
        {
         "data": [
          {
           "coloraxis": "coloraxis",
           "geo": "geo",
           "hovertemplate": "date=2021-02-05<br>Country_code=%{location}<br>deaths=%{z}<extra></extra>",
           "locations": [
            "ITA",
            "RUS",
            "CHN",
            "ALB",
            "BGD",
            "BWA",
            "KHM",
            "HRV",
            "GRC",
            "SWE",
            "FIN",
            "NOR",
            "MYS",
            "ISR",
            "LTU",
            "SRB",
            "SVK",
            "SVN",
            "TUR",
            "VNM",
            "BGR",
            "CZE",
            "DNK",
            "GEO",
            "DEU",
            "HUN",
            "ISL",
            "JPN",
            "KAZ",
            "PRK",
            "KGZ",
            "NLD",
            "POL",
            "ROU",
            "TJK",
            "THA",
            "AZE",
            "MNG"
           ],
           "name": "",
           "type": "choropleth",
           "z": [
            0.6341513869403872,
            0.35745733283426273,
            0.000354333498688966,
            0.5285693495319871,
            0.004250425784884992,
            0,
            0,
            0.3952881650723377,
            0.17756086693065296,
            0.8403002595658526,
            0.018084677160481438,
            0,
            0.05870358145607004,
            0.2061833295352194,
            0.8587115391152051,
            0.20292425446353637,
            1.3556025864164591,
            0.7134638718542783,
            0.13042591519301489,
            0,
            0.43264977073167565,
            1.4021498509327757,
            0.29152499123710174,
            0.48351794764897454,
            1.028127759748933,
            1.0051128449421645,
            0,
            0.08395308131568735,
            0,
            0.009645761529882599,
            0,
            0.3440071094802626,
            0.9710000799491914,
            0.37907269471873845,
            0,
            0,
            0.04953869075779434,
            0
           ]
          }
         ],
         "name": "2021-02-05"
        },
        {
         "data": [
          {
           "coloraxis": "coloraxis",
           "geo": "geo",
           "hovertemplate": "date=2021-02-15<br>Country_code=%{location}<br>deaths=%{z}<extra></extra>",
           "locations": [
            "ITA",
            "RUS",
            "CHN",
            "ALB",
            "BGD",
            "BWA",
            "KHM",
            "HRV",
            "GRC",
            "SWE",
            "FIN",
            "NOR",
            "MYS",
            "ISR",
            "LTU",
            "SRB",
            "SVK",
            "SVN",
            "TUR",
            "VNM",
            "BGR",
            "CZE",
            "DNK",
            "GEO",
            "DEU",
            "HUN",
            "ISL",
            "JPN",
            "KAZ",
            "PRK",
            "KGZ",
            "NLD",
            "POL",
            "ROU",
            "TJK",
            "THA",
            "AZE",
            "MNG"
           ],
           "name": "",
           "type": "choropleth",
           "z": [
            0.43398158575761253,
            0.267225384740177,
            7.086669973779322e-05,
            0.42285547962558967,
            0.006679240519104986,
            1.0205708818370276,
            0,
            0.5188157166574433,
            0.2429780284314198,
            0,
            0.07233870864192575,
            0.018589174594175084,
            0.033986284000882654,
            0.2821456088376686,
            0.4293557695576026,
            0.2174188440680747,
            1.2273699093230102,
            0.5232068393598042,
            0.10789780256876685,
            0,
            0.6778179741462919,
            1.0002002269987134,
            0.1543367600667009,
            0.2954831902299289,
            0.1394886785156447,
            0.47178766191162824,
            0,
            0.057816744679671475,
            0,
            0.013504066141835636,
            0,
            0.15480319926611816,
            0.06596467934437442,
            0.4102293545586348,
            0,
            0.0028653304160067214,
            0.02972321445467661,
            0
           ]
          }
         ],
         "name": "2021-02-15"
        },
        {
         "data": [
          {
           "coloraxis": "coloraxis",
           "geo": "geo",
           "hovertemplate": "date=2021-02-25<br>Country_code=%{location}<br>deaths=%{z}<extra></extra>",
           "locations": [
            "ITA",
            "RUS",
            "CHN",
            "ALB",
            "BGD",
            "BWA",
            "KHM",
            "HRV",
            "GRC",
            "SWE",
            "FIN",
            "NOR",
            "MYS",
            "ISR",
            "LTU",
            "SRB",
            "SVK",
            "SVN",
            "TUR",
            "VNM",
            "BGR",
            "CZE",
            "DNK",
            "GEO",
            "DEU",
            "HUN",
            "ISL",
            "JPN",
            "KAZ",
            "PRK",
            "KGZ",
            "NLD",
            "POL",
            "ROU",
            "TJK",
            "THA",
            "AZE",
            "MNG"
           ],
           "name": "",
           "type": "choropleth",
           "z": [
            0.51808654423777,
            0.3033181639778113,
            0,
            0.7399970893447819,
            0.003036018417774994,
            0.4252378674320948,
            0,
            0.2964661238042533,
            0.3644670426471297,
            0.04829311836585359,
            0.036169354320962875,
            0,
            0.0401656083646795,
            0.2929973630237328,
            0.3220168271682019,
            0.2174188440680747,
            1.538792125121386,
            0.3329498068653299,
            0.08655538008263715,
            0,
            0.764347928292627,
            1.430192847951431,
            0.1028911733778006,
            0.3223452984326497,
            0.4629581140389932,
            1.2307504223781607,
            0,
            0.05860875488076287,
            0,
            0.007716609223906079,
            0.0455933980759586,
            0.18347045838947337,
            0.7546359316996433,
            0.4206149078386002,
            0,
            0,
            0.02972321445467661,
            0
           ]
          }
         ],
         "name": "2021-02-25"
        },
        {
         "data": [
          {
           "coloraxis": "coloraxis",
           "geo": "geo",
           "hovertemplate": "date=2021-03-07<br>Country_code=%{location}<br>deaths=%{z}<extra></extra>",
           "locations": [
            "ITA",
            "RUS",
            "CHN",
            "ALB",
            "BGD",
            "BWA",
            "KHM",
            "HRV",
            "GRC",
            "SWE",
            "FIN",
            "NOR",
            "MYS",
            "ISR",
            "LTU",
            "SRB",
            "SVK",
            "SVN",
            "TUR",
            "VNM",
            "BGR",
            "CZE",
            "DNK",
            "GEO",
            "DEU",
            "HUN",
            "ISL",
            "JPN",
            "KAZ",
            "PRK",
            "KGZ",
            "NLD",
            "POL",
            "ROU",
            "TJK",
            "THA",
            "AZE",
            "MNG"
           ],
           "name": "",
           "type": "choropleth",
           "z": [
            0.3481945281078519,
            0.25056717893819197,
            0,
            0.7399970893447819,
            0.006679240519104986,
            0,
            0,
            0.12352755158510553,
            0.4953013656486635,
            0,
            0.018084677160481438,
            0,
            0.00926898654569527,
            0.3798113965122462,
            0.2146778847788013,
            0.28989179209076626,
            1.7769385254377907,
            0.14269277437085567,
            0.07706985897769061,
            0,
            0.30285483951217296,
            1.486278841988742,
            0.0342970577926002,
            0.24175897382448727,
            0.11543890635777493,
            1.1076753801403445,
            0,
            0.01900824482619336,
            0,
            0.015433218447812157,
            0,
            0.1720035547401313,
            0.3324619838956471,
            0.23886772543920504,
            0,
            0,
            0.02972321445467661,
            0.03050368911616171
           ]
          }
         ],
         "name": "2021-03-07"
        },
        {
         "data": [
          {
           "coloraxis": "coloraxis",
           "geo": "geo",
           "hovertemplate": "date=2021-03-17<br>Country_code=%{location}<br>deaths=%{z}<extra></extra>",
           "locations": [
            "ITA",
            "RUS",
            "CHN",
            "ALB",
            "BGD",
            "BWA",
            "KHM",
            "HRV",
            "GRC",
            "SWE",
            "FIN",
            "NOR",
            "MYS",
            "ISR",
            "LTU",
            "SRB",
            "SVK",
            "SVN",
            "TUR",
            "VNM",
            "BGR",
            "CZE",
            "DNK",
            "GEO",
            "DEU",
            "HUN",
            "ISL",
            "JPN",
            "KAZ",
            "PRK",
            "KGZ",
            "NLD",
            "POL",
            "ROU",
            "TJK",
            "THA",
            "AZE",
            "MNG"
           ],
           "name": "",
           "type": "choropleth",
           "z": [
            0.7249847420989574,
            0.2915186015347385,
            0,
            0.5285693495319871,
            0.006679240519104986,
            0,
            0,
            0.2964661238042533,
            0.523337292006135,
            0.5408829256975604,
            0.018084677160481438,
            0.13012422215922556,
            0.006179324363796846,
            0.09766578767457759,
            0.4293557695576026,
            0.4638268673452261,
            1.2640078170639957,
            0.3329498068653299,
            0.08655538008263715,
            0,
            1.9613456273169296,
            2.290178089856867,
            0.0171485288963001,
            0.18803475741904566,
            0.2994196633654787,
            1.999969436364511,
            0,
            0.03405643864692977,
            0,
            0.0038583046119530394,
            0,
            0.263738783934868,
            1.1979185768938392,
            0.46215712095846195,
            0,
            0.0028653304160067214,
            0.08916964336402983,
            0
           ]
          }
         ],
         "name": "2021-03-17"
        },
        {
         "data": [
          {
           "coloraxis": "coloraxis",
           "geo": "geo",
           "hovertemplate": "date=2021-03-27<br>Country_code=%{location}<br>deaths=%{z}<extra></extra>",
           "locations": [
            "ITA",
            "RUS",
            "CHN",
            "ALB",
            "BGD",
            "BWA",
            "KHM",
            "HRV",
            "GRC",
            "SWE",
            "FIN",
            "NOR",
            "MYS",
            "ISR",
            "LTU",
            "SRB",
            "SVK",
            "SVN",
            "TUR",
            "VNM",
            "BGR",
            "CZE",
            "DNK",
            "GEO",
            "DEU",
            "HUN",
            "ISL",
            "JPN",
            "KAZ",
            "PRK",
            "KGZ",
            "NLD",
            "POL",
            "ROU",
            "TJK",
            "THA",
            "AZE",
            "MNG"
           ],
           "name": "",
           "type": "choropleth",
           "z": [
            0.6391976844491967,
            0.2651431090149289,
            0,
            0.42285547962558967,
            0.023680943658644954,
            0,
            0,
            0.44469918570637995,
            0.6728622325793164,
            0,
            0.0542540314814443,
            0,
            0.006179324363796846,
            0,
            0.3220168271682019,
            1.1015888099449118,
            0.9709045551361126,
            0.14269277437085567,
            0.17903921085586588,
            0,
            0.7066612921950702,
            1.2993255285310388,
            0.0342970577926002,
            0.2148968656217665,
            0.18879071143927773,
            2.5948321405139554,
            0,
            0.025344326434924482,
            0,
            0.0019291523059765197,
            0.015197799358652866,
            0.16627010291546027,
            1.1820870538511894,
            0.8412298156772005,
            0,
            0.0014326652080033607,
            0.1882470248796185,
            0
           ]
          }
         ],
         "name": "2021-03-27"
        },
        {
         "data": [
          {
           "coloraxis": "coloraxis",
           "geo": "geo",
           "hovertemplate": "date=2021-04-06<br>Country_code=%{location}<br>deaths=%{z}<extra></extra>",
           "locations": [
            "ITA",
            "RUS",
            "CHN",
            "ALB",
            "BGD",
            "BWA",
            "KHM",
            "HRV",
            "GRC",
            "SWE",
            "FIN",
            "NOR",
            "MYS",
            "ISR",
            "LTU",
            "SRB",
            "SVK",
            "SVN",
            "TUR",
            "VNM",
            "BGR",
            "CZE",
            "DNK",
            "GEO",
            "DEU",
            "HUN",
            "ISL",
            "JPN",
            "KAZ",
            "PRK",
            "KGZ",
            "NLD",
            "POL",
            "ROU",
            "TJK",
            "THA",
            "AZE",
            "MNG"
           ],
           "name": "",
           "type": "choropleth",
           "z": [
            0.7081637504029258,
            0.2651431090149289,
            0,
            0.31714160971919225,
            0.040075443114629926,
            0,
            0.005981229347188891,
            0.7411653095106333,
            0.7382793940800834,
            0.33805182856097515,
            0,
            0.018589174594175084,
            0.015448310909492115,
            0.09766578767457759,
            0.28623717970506835,
            0.5797835841815325,
            0,
            0.3329498068653299,
            0.2501806191429649,
            0,
            0,
            1.0469385553631392,
            0.0342970577926002,
            0.2686210820272081,
            0.10822397471041398,
            1.7435630983690609,
            0,
            0.02217628563055892,
            0,
            0.007716609223906079,
            0.03039559871730573,
            0.11466903649342086,
            0.1583152304264986,
            1.0177842214366128,
            0,
            0,
            0.3170476208498838,
            0.03050368911616171
           ]
          }
         ],
         "name": "2021-04-06"
        },
        {
         "data": [
          {
           "coloraxis": "coloraxis",
           "geo": "geo",
           "hovertemplate": "date=2021-04-16<br>Country_code=%{location}<br>deaths=%{z}<extra></extra>",
           "locations": [
            "ITA",
            "RUS",
            "CHN",
            "ALB",
            "BGD",
            "BWA",
            "KHM",
            "HRV",
            "GRC",
            "SWE",
            "FIN",
            "NOR",
            "MYS",
            "ISR",
            "LTU",
            "SRB",
            "SVK",
            "SVN",
            "TUR",
            "VNM",
            "BGR",
            "CZE",
            "DNK",
            "GEO",
            "DEU",
            "HUN",
            "ISL",
            "JPN",
            "KAZ",
            "PRK",
            "KGZ",
            "NLD",
            "POL",
            "ROU",
            "TJK",
            "THA",
            "AZE",
            "MNG"
           ],
           "name": "",
           "type": "choropleth",
           "z": [
            0.721620543759751,
            0.2720840280990893,
            0,
            0.07047591327093161,
            0.06132757203905488,
            0,
            0.011962458694377781,
            1.0870424539489287,
            0.8504230995099694,
            0.2607828391756094,
            0.036169354320962875,
            0.018589174594175084,
            0.006179324363796846,
            0.010851754186064178,
            0.28623717970506835,
            0.5652889945769943,
            1.7036627099558201,
            0.2378212906180928,
            0.3426644499161936,
            0,
            1.745020741951092,
            0.8225945792138949,
            0.0514455866889003,
            0.2148968656217665,
            0.29701468614969173,
            2.471757098276139,
            0,
            0.03643246925020394,
            0,
            0.007716609223906079,
            0.06079119743461146,
            0.06880142189605253,
            1.572597955569886,
            0.7114103996776324,
            0,
            0.004297995624010082,
            0.3170476208498838,
            0.15251844558080854
           ]
          }
         ],
         "name": "2021-04-16"
        },
        {
         "data": [
          {
           "coloraxis": "coloraxis",
           "geo": "geo",
           "hovertemplate": "date=2021-04-26<br>Country_code=%{location}<br>deaths=%{z}<extra></extra>",
           "locations": [
            "ITA",
            "RUS",
            "CHN",
            "ALB",
            "BGD",
            "BWA",
            "KHM",
            "HRV",
            "GRC",
            "SWE",
            "FIN",
            "NOR",
            "MYS",
            "ISR",
            "LTU",
            "SRB",
            "SVK",
            "SVN",
            "TUR",
            "VNM",
            "BGR",
            "CZE",
            "DNK",
            "GEO",
            "DEU",
            "HUN",
            "ISL",
            "JPN",
            "KAZ",
            "PRK",
            "KGZ",
            "NLD",
            "POL",
            "ROU",
            "TJK",
            "THA",
            "AZE",
            "MNG"
           ],
           "name": "",
           "type": "choropleth",
           "z": [
            0.5063118500505479,
            0.2422380760371994,
            0,
            0.035237956635465806,
            0.05889875730483489,
            0,
            0.029906146735944453,
            1.2599810261680764,
            0.7476247028659072,
            0,
            0,
            0,
            0.0401656083646795,
            0.010851754186064178,
            0.393576122094469,
            0.4348376881361494,
            0.6594823393377369,
            0.28538554874171135,
            0.41854861875576593,
            0,
            2.797801850731503,
            0.37390662691540677,
            0.0342970577926002,
            0.48351794764897454,
            0.07214931647360932,
            1.8051006194879688,
            0,
            0.02772035703819865,
            0,
            0.0057874569179295595,
            0.03039559871730573,
            0.07453487372072355,
            0.05804891782304948,
            0.6075548668779781,
            0,
            0.011461321664026886,
            0.30713988269832493,
            0.3355405802777788
           ]
          }
         ],
         "name": "2021-04-26"
        },
        {
         "data": [
          {
           "coloraxis": "coloraxis",
           "geo": "geo",
           "hovertemplate": "date=2021-05-06<br>Country_code=%{location}<br>deaths=%{z}<extra></extra>",
           "locations": [
            "ITA",
            "RUS",
            "CHN",
            "ALB",
            "BGD",
            "BWA",
            "KHM",
            "HRV",
            "GRC",
            "SWE",
            "FIN",
            "NOR",
            "MYS",
            "ISR",
            "LTU",
            "SRB",
            "SVK",
            "SVN",
            "TUR",
            "VNM",
            "BGR",
            "CZE",
            "DNK",
            "GEO",
            "DEU",
            "HUN",
            "ISL",
            "JPN",
            "KAZ",
            "PRK",
            "KGZ",
            "NLD",
            "POL",
            "ROU",
            "TJK",
            "THA",
            "AZE",
            "MNG"
           ],
           "name": "",
           "type": "choropleth",
           "z": [
            0.43398158575761253,
            0.23876761649511918,
            0,
            0.10571386990639742,
            0.024895351025754953,
            0.4252378674320948,
            0.023924917388755563,
            0.9882204126808443,
            0.7756606292233786,
            0.06761036571219504,
            0.018084677160481438,
            0,
            0.05870358145607004,
            0.04340701674425671,
            0.35779647463133546,
            0.30438638169530463,
            0.6228444315967514,
            0.14269277437085567,
            0.3604498019879684,
            0,
            0.38938479365850803,
            0.39260195826117716,
            0.0342970577926002,
            0.5372421640544162,
            0.30062215197337216,
            1.2717754364574325,
            0,
            0.05148066307094036,
            0,
            0.017362370753788676,
            0.0455933980759586,
            0.13760284379210505,
            1.348318045799013,
            0.4881210041583755,
            0,
            0.025787973744060493,
            0.17833928672805965,
            0.09151106734848513
           ]
          }
         ],
         "name": "2021-05-06"
        },
        {
         "data": [
          {
           "coloraxis": "coloraxis",
           "geo": "geo",
           "hovertemplate": "date=2021-05-16<br>Country_code=%{location}<br>deaths=%{z}<extra></extra>",
           "locations": [
            "ITA",
            "RUS",
            "CHN",
            "ALB",
            "BGD",
            "BWA",
            "KHM",
            "HRV",
            "GRC",
            "SWE",
            "FIN",
            "NOR",
            "MYS",
            "ISR",
            "LTU",
            "SRB",
            "SVK",
            "SVN",
            "TUR",
            "VNM",
            "BGR",
            "CZE",
            "DNK",
            "GEO",
            "DEU",
            "HUN",
            "ISL",
            "JPN",
            "KAZ",
            "PRK",
            "KGZ",
            "NLD",
            "POL",
            "ROU",
            "TJK",
            "THA",
            "AZE",
            "MNG"
           ],
           "name": "",
           "type": "choropleth",
           "z": [
            0.15643522277309288,
            0.26791947664859306,
            0,
            0.10571386990639742,
            0.015180092088874969,
            0,
            0.017943688041566673,
            0.5188157166574433,
            0.46726543929119196,
            0,
            0.1085080629628886,
            0,
            0.11122783854834324,
            0.010851754186064178,
            0.5724743594101367,
            0.24640802327715133,
            0.3846980312803465,
            0.1902570324944742,
            0.2644089008003847,
            0.0010273418506616231,
            0.1297949312195027,
            0.14021498509327754,
            0,
            0.429793731243533,
            0.0853766911604377,
            0.6256314647088983,
            0,
            0.03722447945129533,
            0.9223879333317196,
            0.0057874569179295595,
            0.12158239486922293,
            0.07453487372072355,
            0.1451222945576237,
            0.19732551231934328,
            0,
            0.03438396499208066,
            0.10898511966714755,
            0.09151106734848513
           ]
          }
         ],
         "name": "2021-05-16"
        },
        {
         "data": [
          {
           "coloraxis": "coloraxis",
           "geo": "geo",
           "hovertemplate": "date=2021-05-26<br>Country_code=%{location}<br>deaths=%{z}<extra></extra>",
           "locations": [
            "ITA",
            "RUS",
            "CHN",
            "ALB",
            "BGD",
            "BWA",
            "KHM",
            "HRV",
            "GRC",
            "SWE",
            "FIN",
            "NOR",
            "MYS",
            "ISR",
            "LTU",
            "SRB",
            "SVK",
            "SVN",
            "TUR",
            "VNM",
            "BGR",
            "CZE",
            "DNK",
            "GEO",
            "DEU",
            "HUN",
            "ISL",
            "JPN",
            "KAZ",
            "PRK",
            "KGZ",
            "NLD",
            "POL",
            "ROU",
            "TJK",
            "THA",
            "AZE",
            "MNG"
           ],
           "name": "",
           "type": "choropleth",
           "z": [
            0.20353399952198106,
            0.2762485795495856,
            0,
            0,
            0.01032246262043498,
            0,
            0.04186860543032224,
            0.5188157166574433,
            0.41119358657624894,
            0.38634494692682875,
            0,
            0.018589174594175084,
            0.19464871745960063,
            0,
            0.3220168271682019,
            0.14494589604538313,
            0.20150849257541958,
            0.2378212906180928,
            0.1968245629276406,
            0.0010273418506616231,
            0.5191797248780108,
            0.1215196537475072,
            0.0171485288963001,
            0.7521390296761826,
            0.32467192413124196,
            0.4205063943125382,
            0.27287884452182076,
            0.09187318332660124,
            0,
            0.0057874569179295595,
            0.12158239486922293,
            0.05733451824671043,
            0.5514647193189701,
            0.27002438527910133,
            0,
            0.058739273528137785,
            0.07926190521247095,
            0.09151106734848513
           ]
          }
         ],
         "name": "2021-05-26"
        },
        {
         "data": [
          {
           "coloraxis": "coloraxis",
           "geo": "geo",
           "hovertemplate": "date=2021-06-05<br>Country_code=%{location}<br>deaths=%{z}<extra></extra>",
           "locations": [
            "ITA",
            "RUS",
            "CHN",
            "ALB",
            "BGD",
            "BWA",
            "KHM",
            "HRV",
            "GRC",
            "SWE",
            "FIN",
            "NOR",
            "MYS",
            "ISR",
            "LTU",
            "SRB",
            "SVK",
            "SVN",
            "TUR",
            "VNM",
            "BGR",
            "CZE",
            "DNK",
            "GEO",
            "DEU",
            "HUN",
            "ISL",
            "JPN",
            "KAZ",
            "PRK",
            "KGZ",
            "NLD",
            "POL",
            "ROU",
            "TJK",
            "THA",
            "AZE",
            "MNG"
           ],
           "name": "",
           "type": "choropleth",
           "z": [
            0.09587965266737952,
            0.27138993619067325,
            0,
            0,
            0.02610975839286495,
            0,
            0.059812293471888905,
            0.3211716341212744,
            0.32708580750383437,
            0,
            0.018084677160481438,
            0,
            0.3367731778269281,
            0.010851754186064178,
            0.14311858985253417,
            0.13045130644084482,
            0.238146400316405,
            0.0951285162472371,
            0.10908349270688517,
            0.0020546837013232463,
            0.043264977073167565,
            0.14021498509327754,
            0.0171485288963001,
            0.45665583944625376,
            0.14670361016300562,
            0.2461500844756321,
            0,
            0.050688652869848964,
            0,
            0.0038583046119530394,
            0.07598899679326433,
            0.05160106642203939,
            0.10026631260344909,
            0.5867837603180471,
            0,
            0.051575947488120985,
            0.02972321445467661,
            0.09151106734848513
           ]
          }
         ],
         "name": "2021-06-05"
        },
        {
         "data": [
          {
           "coloraxis": "coloraxis",
           "geo": "geo",
           "hovertemplate": "date=2021-06-15<br>Country_code=%{location}<br>deaths=%{z}<extra></extra>",
           "locations": [
            "ITA",
            "RUS",
            "CHN",
            "ALB",
            "BGD",
            "BWA",
            "KHM",
            "HRV",
            "GRC",
            "SWE",
            "FIN",
            "NOR",
            "MYS",
            "ISR",
            "LTU",
            "SRB",
            "SVK",
            "SVN",
            "TUR",
            "VNM",
            "BGR",
            "CZE",
            "DNK",
            "GEO",
            "DEU",
            "HUN",
            "ISL",
            "JPN",
            "KAZ",
            "PRK",
            "KGZ",
            "NLD",
            "POL",
            "ROU",
            "TJK",
            "THA",
            "AZE",
            "MNG"
           ],
           "name": "",
           "type": "choropleth",
           "z": [
            0.1059722476849984,
            0.2595903737476005,
            0,
            0.035237956635465806,
            0.030360184177749938,
            0,
            0.07775598151345559,
            0.19764408253616886,
            0.20559679328812447,
            0,
            0,
            0,
            0.3120558803717407,
            0,
            0.17889823731566773,
            0.08696753762722988,
            0.09159476935246345,
            0.0951285162472371,
            0.09959797160193865,
            0.0020546837013232463,
            0.2451682034146162,
            0,
            0.0171485288963001,
            0.6178284886625787,
            0.11183144053409445,
            0.10256253519818005,
            0,
            0.05306468347312314,
            0,
            0.0019291523059765197,
            0.0911867961519172,
            0.005733451824671043,
            0.1372065330362988,
            0.498506557438341,
            0,
            0.027220638952063853,
            0.02972321445467661,
            0.3050368911616171
           ]
          }
         ],
         "name": "2021-06-15"
        },
        {
         "data": [
          {
           "coloraxis": "coloraxis",
           "geo": "geo",
           "hovertemplate": "date=2021-06-25<br>Country_code=%{location}<br>deaths=%{z}<extra></extra>",
           "locations": [
            "ITA",
            "RUS",
            "CHN",
            "ALB",
            "BGD",
            "BWA",
            "KHM",
            "HRV",
            "GRC",
            "SWE",
            "FIN",
            "NOR",
            "MYS",
            "ISR",
            "LTU",
            "SRB",
            "SVK",
            "SVN",
            "TUR",
            "VNM",
            "BGR",
            "CZE",
            "DNK",
            "GEO",
            "DEU",
            "HUN",
            "ISL",
            "JPN",
            "KAZ",
            "PRK",
            "KGZ",
            "NLD",
            "POL",
            "ROU",
            "TJK",
            "THA",
            "AZE",
            "MNG"
           ],
           "name": "",
           "type": "choropleth",
           "z": [
            0.09419755349777637,
            0.41020831787388207,
            0,
            0,
            0.06557799782393987,
            0,
            0.09569966955502225,
            0.09882204126808443,
            0.19625148450230065,
            0,
            0,
            0,
            0.2533522989156707,
            0,
            0.10733894238940064,
            0.07247294802269157,
            0.054956861611478065,
            0,
            0.06639864773462577,
            0.0020546837013232463,
            0.057686636097556754,
            0.00934766567288517,
            0,
            0.24175897382448727,
            0.0745542936893963,
            0.08205002815854404,
            0,
            0.024552316233833093,
            0,
            0.0057874569179295595,
            0.0911867961519172,
            0.028667259123355215,
            0.09498913825589915,
            0.7269887295975805,
            0,
            0.06303726915214787,
            0.019815476303117738,
            0.2745332020454554
           ]
          }
         ],
         "name": "2021-06-25"
        },
        {
         "data": [
          {
           "coloraxis": "coloraxis",
           "geo": "geo",
           "hovertemplate": "date=2021-07-05<br>Country_code=%{location}<br>deaths=%{z}<extra></extra>",
           "locations": [
            "ITA",
            "RUS",
            "CHN",
            "ALB",
            "BGD",
            "BWA",
            "KHM",
            "HRV",
            "GRC",
            "SWE",
            "FIN",
            "NOR",
            "MYS",
            "ISR",
            "LTU",
            "SRB",
            "SVK",
            "SVN",
            "TUR",
            "VNM",
            "BGR",
            "CZE",
            "DNK",
            "GEO",
            "DEU",
            "HUN",
            "ISL",
            "JPN",
            "KAZ",
            "PRK",
            "KGZ",
            "NLD",
            "POL",
            "ROU",
            "TJK",
            "THA",
            "AZE",
            "MNG"
           ],
           "name": "",
           "type": "choropleth",
           "z": [
            0.05214507425769762,
            0.44560700520310037,
            0.00014173339947558643,
            0,
            0.09958140410301981,
            1.2757136022962845,
            0.16747442172128896,
            0.024705510317021107,
            0.056071852714943034,
            0,
            0,
            0,
            0.23790398800617857,
            0.010851754186064178,
            0.07155929492626709,
            0.014494589604538316,
            0,
            0.04756425812361855,
            0.0414991548341411,
            0.004109367402646493,
            0.5912880199999567,
            0.00934766567288517,
            0,
            0.698414813270741,
            0.0012024886078934888,
            0.04102501407927202,
            0,
            0.015048193820736412,
            0,
            0.007716609223906079,
            0.1367801942278758,
            0.005733451824671043,
            0.0026385871737749766,
            0.23367494879922232,
            0.020969543625143406,
            0.07163326040016803,
            0,
            0.09151106734848513
           ]
          }
         ],
         "name": "2021-07-05"
        },
        {
         "data": [
          {
           "coloraxis": "coloraxis",
           "geo": "geo",
           "hovertemplate": "date=2021-07-15<br>Country_code=%{location}<br>deaths=%{z}<extra></extra>",
           "locations": [
            "ITA",
            "RUS",
            "CHN",
            "ALB",
            "BGD",
            "BWA",
            "KHM",
            "HRV",
            "GRC",
            "SWE",
            "FIN",
            "NOR",
            "MYS",
            "ISR",
            "LTU",
            "SRB",
            "SVK",
            "SVN",
            "TUR",
            "VNM",
            "BGR",
            "CZE",
            "DNK",
            "GEO",
            "DEU",
            "HUN",
            "ISL",
            "JPN",
            "KAZ",
            "PRK",
            "KGZ",
            "NLD",
            "POL",
            "ROU",
            "TJK",
            "THA",
            "AZE",
            "MNG"
           ],
           "name": "",
           "type": "choropleth",
           "z": [
            0.015138892526428343,
            0.5413916885645145,
            0,
            0,
            0.13722803248342974,
            0.8929995216073993,
            0.23326794454036676,
            0,
            0.056071852714943034,
            0.00965862367317072,
            0,
            0,
            0.33986284000882655,
            0.021703508372128356,
            0.03577964746313354,
            0.014494589604538316,
            0.01831895387049269,
            0,
            0.05691312662967922,
            0.070886587695652,
            0.07210829512194594,
            0,
            0.0171485288963001,
            0.2954831902299289,
            0.03847963545259164,
            0,
            0,
            0.01742422442401058,
            0,
            0.0019291523059765197,
            0.15197799358652866,
            0.01720035547401313,
            0.03166304608529972,
            0.015578329919948156,
            0.010484771812571703,
            0.14040119038432933,
            0.019815476303117738,
            0.3050368911616171
           ]
          }
         ],
         "name": "2021-07-15"
        },
        {
         "data": [
          {
           "coloraxis": "coloraxis",
           "geo": "geo",
           "hovertemplate": "date=2021-07-25<br>Country_code=%{location}<br>deaths=%{z}<extra></extra>",
           "locations": [
            "ITA",
            "RUS",
            "CHN",
            "ALB",
            "BGD",
            "BWA",
            "KHM",
            "HRV",
            "GRC",
            "SWE",
            "FIN",
            "NOR",
            "MYS",
            "ISR",
            "LTU",
            "SRB",
            "SVK",
            "SVN",
            "TUR",
            "VNM",
            "BGR",
            "CZE",
            "DNK",
            "GEO",
            "DEU",
            "HUN",
            "ISL",
            "JPN",
            "KAZ",
            "PRK",
            "KGZ",
            "NLD",
            "POL",
            "ROU",
            "TJK",
            "THA",
            "AZE",
            "MNG"
           ],
           "name": "",
           "type": "choropleth",
           "z": [
            0.011774694187222046,
            0.533756677571938,
            0,
            0,
            0.13844243985053972,
            0,
            0.17345565106847782,
            0,
            0.07476247028659072,
            0,
            0.018084677160481438,
            0,
            0.2842489207346549,
            0.021703508372128356,
            0,
            0.014494589604538316,
            0,
            0.04756425812361855,
            0.06521295759650744,
            0,
            0.014421659024389188,
            0,
            0,
            0.6178284886625787,
            0.004809954431573955,
            0,
            0,
            0.0031680408043655603,
            2.873798243154895,
            0.007716609223906079,
            0.16717579294518153,
            0.02293380729868417,
            0.0026385871737749766,
            0.005192776639982718,
            0.010484771812571703,
            0.18481381183243353,
            0.039630952606235476,
            0.15251844558080854
           ]
          }
         ],
         "name": "2021-07-25"
        },
        {
         "data": [
          {
           "coloraxis": "coloraxis",
           "geo": "geo",
           "hovertemplate": "date=2021-08-04<br>Country_code=%{location}<br>deaths=%{z}<extra></extra>",
           "locations": [
            "ITA",
            "RUS",
            "CHN",
            "ALB",
            "BGD",
            "BWA",
            "KHM",
            "HRV",
            "GRC",
            "SWE",
            "FIN",
            "NOR",
            "MYS",
            "ISR",
            "LTU",
            "SRB",
            "SVK",
            "SVN",
            "TUR",
            "VNM",
            "BGR",
            "CZE",
            "DNK",
            "GEO",
            "DEU",
            "HUN",
            "ISL",
            "JPN",
            "KAZ",
            "PRK",
            "KGZ",
            "NLD",
            "POL",
            "ROU",
            "TJK",
            "THA",
            "AZE",
            "MNG"
           ],
           "name": "",
           "type": "choropleth",
           "z": [
            0.03532408256166614,
            0.533756677571938,
            0,
            0,
            0.14633608773675472,
            0,
            0.10168089890221114,
            0,
            0.14952494057318144,
            0,
            0.0542540314814443,
            0.09294587297087542,
            0.7940431807478947,
            0.08681403348851342,
            0.10733894238940064,
            0.02898917920907663,
            0,
            0,
            0.1446541968504347,
            0.2629995137693755,
            0.057686636097556754,
            0.029912530153232548,
            0,
            1.0207601117033906,
            0.030062215197337216,
            0.030768760559454014,
            0,
            0.01108814281527946,
            0,
            0.0057874569179295595,
            0.1367801942278758,
            0.0401341627726973,
            0.010554348695099906,
            0.005192776639982718,
            0,
            0.2693410591046318,
            0.04953869075779434,
            0.06100737823232342
           ]
          }
         ],
         "name": "2021-08-04"
        },
        {
         "data": [
          {
           "coloraxis": "coloraxis",
           "geo": "geo",
           "hovertemplate": "date=2021-08-14<br>Country_code=%{location}<br>deaths=%{z}<extra></extra>",
           "locations": [
            "ITA",
            "RUS",
            "CHN",
            "ALB",
            "BGD",
            "BWA",
            "KHM",
            "HRV",
            "GRC",
            "SWE",
            "FIN",
            "NOR",
            "MYS",
            "ISR",
            "LTU",
            "SRB",
            "SVK",
            "SVN",
            "TUR",
            "VNM",
            "BGR",
            "CZE",
            "DNK",
            "GEO",
            "DEU",
            "HUN",
            "ISL",
            "JPN",
            "KAZ",
            "PRK",
            "KGZ",
            "NLD",
            "POL",
            "ROU",
            "TJK",
            "THA",
            "AZE",
            "MNG"
           ],
           "name": "",
           "type": "choropleth",
           "z": [
            0.05719137176650708,
            0.5545794348244193,
            7.086669973779322e-05,
            0.07047591327093161,
            0.1080822556727898,
            0,
            0.07177475216626669,
            0.049411020634042215,
            0.22428741085977213,
            0,
            0.036169354320962875,
            0,
            0.8033121672935899,
            0.11936929604670594,
            0.2146778847788013,
            0.07247294802269157,
            0,
            0,
            0.17192507002715596,
            0.3585423058809064,
            0.10095161317072433,
            0.00934766567288517,
            0.0171485288963001,
            1.3431054101360405,
            0.013227374686828377,
            0,
            0,
            0.01425618361964502,
            0,
            0.015433218447812157,
            0.0911867961519172,
            0.0401341627726973,
            0.005277174347549953,
            0.025963883199913593,
            0,
            0.3108883501367293,
            0.1288005959702653,
            0.15251844558080854
           ]
          }
         ],
         "name": "2021-08-14"
        },
        {
         "data": [
          {
           "coloraxis": "coloraxis",
           "geo": "geo",
           "hovertemplate": "date=2021-08-24<br>Country_code=%{location}<br>deaths=%{z}<extra></extra>",
           "locations": [
            "ITA",
            "RUS",
            "CHN",
            "ALB",
            "BGD",
            "BWA",
            "KHM",
            "HRV",
            "GRC",
            "SWE",
            "FIN",
            "NOR",
            "MYS",
            "ISR",
            "LTU",
            "SRB",
            "SVK",
            "SVN",
            "TUR",
            "VNM",
            "BGR",
            "CZE",
            "DNK",
            "GEO",
            "DEU",
            "HUN",
            "ISL",
            "JPN",
            "KAZ",
            "PRK",
            "KGZ",
            "NLD",
            "POL",
            "ROU",
            "TJK",
            "THA",
            "AZE",
            "MNG"
           ],
           "name": "",
           "type": "choropleth",
           "z": [
            0.10092595017618895,
            0.5372271371140183,
            0,
            0.07047591327093161,
            0.06922121992526986,
            0,
            0.07775598151345559,
            0.07411653095106333,
            0.41119358657624894,
            0.01931724734634144,
            0.018084677160481438,
            0,
            0.6519187203805673,
            0.2604421004655403,
            0.10733894238940064,
            0.11595671683630653,
            0,
            0.04756425812361855,
            0.27270873176721294,
            0.35751496403024485,
            0.4759147478048432,
            0,
            0.0171485288963001,
            1.6117264921632484,
            0.05050452153152653,
            0.02051250703963601,
            0,
            0.03326442844583838,
            0,
            0.017362370753788676,
            0.07598899679326433,
            0.06880142189605253,
            0.021108697390199813,
            0.07269887295975805,
            0,
            0.3237823370087595,
            0.29723214454676605,
            0.12201475646464684
           ]
          }
         ],
         "name": "2021-08-24"
        },
        {
         "data": [
          {
           "coloraxis": "coloraxis",
           "geo": "geo",
           "hovertemplate": "date=2021-09-03<br>Country_code=%{location}<br>deaths=%{z}<extra></extra>",
           "locations": [
            "ITA",
            "RUS",
            "CHN",
            "ALB",
            "BGD",
            "BWA",
            "KHM",
            "HRV",
            "GRC",
            "SWE",
            "FIN",
            "NOR",
            "MYS",
            "ISR",
            "LTU",
            "SRB",
            "SVK",
            "SVN",
            "TUR",
            "VNM",
            "BGR",
            "CZE",
            "DNK",
            "GEO",
            "DEU",
            "HUN",
            "ISL",
            "JPN",
            "KAZ",
            "PRK",
            "KGZ",
            "NLD",
            "POL",
            "ROU",
            "TJK",
            "THA",
            "AZE",
            "MNG"
           ],
           "name": "",
           "type": "choropleth",
           "z": [
            0.09756175183698265,
            0.5420857804729304,
            7.086669973779322e-05,
            0.10571386990639742,
            0.04250425784884992,
            0,
            0.05383106412470002,
            0.14823306190212665,
            0.3364311162896582,
            0,
            0.036169354320962875,
            0,
            1.0195885200264796,
            0.07596227930244924,
            0.28623717970506835,
            0.24640802327715133,
            0.01831895387049269,
            0,
            0.3272504781206555,
            0.31642129000377994,
            0.7210829512194594,
            0.00934766567288517,
            0.0514455866889003,
            2.3101413054339894,
            0.05411198735520699,
            0.010256253519818005,
            0,
            0.050688652869848964,
            0,
            0.013504066141835636,
            0.07598899679326433,
            0.05160106642203939,
            0.013192935868874881,
            0.17136162911942973,
            0,
            0.3882522713689107,
            0.376494049759237,
            0.21352582381313198
           ]
          }
         ],
         "name": "2021-09-03"
        },
        {
         "data": [
          {
           "coloraxis": "coloraxis",
           "geo": "geo",
           "hovertemplate": "date=2021-09-13<br>Country_code=%{location}<br>deaths=%{z}<extra></extra>",
           "locations": [
            "ITA",
            "RUS",
            "CHN",
            "ALB",
            "BGD",
            "BWA",
            "KHM",
            "HRV",
            "GRC",
            "SWE",
            "FIN",
            "NOR",
            "MYS",
            "ISR",
            "LTU",
            "SRB",
            "SVK",
            "SVN",
            "TUR",
            "VNM",
            "BGR",
            "CZE",
            "DNK",
            "GEO",
            "DEU",
            "HUN",
            "ISL",
            "JPN",
            "KAZ",
            "PRK",
            "KGZ",
            "NLD",
            "POL",
            "ROU",
            "TJK",
            "THA",
            "AZE",
            "MNG"
           ],
           "name": "",
           "type": "choropleth",
           "z": [
            0.06055557010571337,
            0.49419343879222344,
            7.086669973779322e-05,
            0.17618978317732903,
            0.024895351025754953,
            0.5102854409185138,
            0.05383106412470002,
            0.17293857221914774,
            0.5046466744344873,
            0,
            0.09042338580240718,
            0,
            1.2760304811240488,
            0.24959034627947607,
            0.8587115391152051,
            0.3913539193225345,
            0.03663790774098538,
            0.04756425812361855,
            0.27389442190533125,
            0.39141724510207837,
            2.0046106043900975,
            0.00934766567288517,
            0.0514455866889003,
            1.2893811937305988,
            0.014429863294721866,
            0.12307504223781605,
            0,
            0.03880849985347811,
            3.241687072055986,
            0.013504066141835636,
            0.03039559871730573,
            0.028667259123355215,
            0,
            0.23886772543920504,
            0,
            0.18911180745644363,
            1.0204970296105635,
            0.3050368911616171
           ]
          }
         ],
         "name": "2021-09-13"
        },
        {
         "data": [
          {
           "coloraxis": "coloraxis",
           "geo": "geo",
           "hovertemplate": "date=2021-09-23<br>Country_code=%{location}<br>deaths=%{z}<extra></extra>",
           "locations": [
            "ITA",
            "RUS",
            "CHN",
            "ALB",
            "BGD",
            "BWA",
            "KHM",
            "HRV",
            "GRC",
            "SWE",
            "FIN",
            "NOR",
            "MYS",
            "ISR",
            "LTU",
            "SRB",
            "SVK",
            "SVN",
            "TUR",
            "VNM",
            "BGR",
            "CZE",
            "DNK",
            "GEO",
            "DEU",
            "HUN",
            "ISL",
            "JPN",
            "KAZ",
            "PRK",
            "KGZ",
            "NLD",
            "POL",
            "ROU",
            "TJK",
            "THA",
            "AZE",
            "MNG"
           ],
           "name": "",
           "type": "choropleth",
           "z": [
            0.1059722476849984,
            0.5566617105496674,
            0,
            0.28190365308372645,
            0.01457288840531997,
            0.2551427204592569,
            0.1315870456381556,
            0.37058265475531665,
            0.289704572360539,
            0.03863449469268288,
            0.036169354320962875,
            0,
            0.3584008131002171,
            0.2061833295352194,
            0.6798133017995374,
            0.5942781737860708,
            0.054956861611478065,
            0.2378212906180928,
            0.25729475997167484,
            0.24245267675614304,
            1.4277442434145298,
            0.01869533134577034,
            0.0685941155852004,
            1.262519085527878,
            0.1382861899077512,
            0.02051250703963601,
            0,
            0.03880849985347811,
            0,
            0.013504066141835636,
            0,
            0.06880142189605253,
            0.03694022043284967,
            0.5867837603180471,
            0,
            0.18767914224844023,
            0.23778571563741288,
            0.39654795851010216
           ]
          }
         ],
         "name": "2021-09-23"
        },
        {
         "data": [
          {
           "coloraxis": "coloraxis",
           "geo": "geo",
           "hovertemplate": "date=2021-10-03<br>Country_code=%{location}<br>deaths=%{z}<extra></extra>",
           "locations": [
            "ITA",
            "RUS",
            "CHN",
            "ALB",
            "BGD",
            "BWA",
            "KHM",
            "HRV",
            "GRC",
            "SWE",
            "FIN",
            "NOR",
            "MYS",
            "ISR",
            "LTU",
            "SRB",
            "SVK",
            "SVN",
            "TUR",
            "VNM",
            "BGR",
            "CZE",
            "DNK",
            "GEO",
            "DEU",
            "HUN",
            "ISL",
            "JPN",
            "KAZ",
            "PRK",
            "KGZ",
            "NLD",
            "POL",
            "ROU",
            "TJK",
            "THA",
            "AZE",
            "MNG"
           ],
           "name": "",
           "type": "choropleth",
           "z": [
            0.05550927259690392,
            0.612189063222951,
            7.086669973779322e-05,
            0.10571386990639742,
            0.010929666303989978,
            0,
            0.1375682749853445,
            0.3458771444382955,
            0.289704572360539,
            0,
            0.0542540314814443,
            0,
            0.3645801374640139,
            0.4666254300007597,
            0.9302708340414721,
            0.7102348906223774,
            0.3480601235393611,
            0.2378212906180928,
            0.2300238867949535,
            0.11711697097542502,
            0.6201313380487351,
            0.00934766567288517,
            0,
            0.8864495706897868,
            0.010822397471041398,
            0,
            0,
            0.01346417341855363,
            0,
            0.011574913835859119,
            0,
            0.005733451824671043,
            0.01583152304264986,
            0.7789164959974078,
            0,
            0.11031522101625878,
            0.13870833412182418,
            0.5795700932070724
           ]
          }
         ],
         "name": "2021-10-03"
        },
        {
         "data": [
          {
           "coloraxis": "coloraxis",
           "geo": "geo",
           "hovertemplate": "date=2021-10-13<br>Country_code=%{location}<br>deaths=%{z}<extra></extra>",
           "locations": [
            "ITA",
            "RUS",
            "CHN",
            "ALB",
            "BGD",
            "BWA",
            "KHM",
            "HRV",
            "GRC",
            "SWE",
            "FIN",
            "NOR",
            "MYS",
            "ISR",
            "LTU",
            "SRB",
            "SVK",
            "SVN",
            "TUR",
            "VNM",
            "BGR",
            "CZE",
            "DNK",
            "GEO",
            "DEU",
            "HUN",
            "ISL",
            "JPN",
            "KAZ",
            "PRK",
            "KGZ",
            "NLD",
            "POL",
            "ROU",
            "TJK",
            "THA",
            "AZE",
            "MNG"
           ],
           "name": "",
           "type": "choropleth",
           "z": [
            0.06223766927531652,
            0.6677164158962344,
            0,
            0.17618978317732903,
            0.01032246262043498,
            0,
            0.08971844020783336,
            0.66704877855957,
            0.289704572360539,
            0.01931724734634144,
            0.0542540314814443,
            0.2416592697242761,
            0.2100970283690928,
            0.07596227930244924,
            1.1091690713571398,
            0.739224069831454,
            0.3663790774098538,
            0.2378212906180928,
            0.27982287259592287,
            0.10889823617013203,
            1.4133225843901405,
            0.05608599403731102,
            0,
            0.698414813270741,
            0.11062895192620097,
            0.10256253519818005,
            0,
            0.02613633663601587,
            0.18661027552953863,
            0.025078979977694753,
            0.03039559871730573,
            0.06880142189605253,
            0.10554348695099905,
            2.02518288959326,
            0,
            0.11747854705627557,
            0.16843154857650075,
            0.518562714974749
           ]
          }
         ],
         "name": "2021-10-13"
        },
        {
         "data": [
          {
           "coloraxis": "coloraxis",
           "geo": "geo",
           "hovertemplate": "date=2021-10-23<br>Country_code=%{location}<br>deaths=%{z}<extra></extra>",
           "locations": [
            "ITA",
            "RUS",
            "CHN",
            "ALB",
            "BGD",
            "BWA",
            "KHM",
            "HRV",
            "GRC",
            "SWE",
            "FIN",
            "NOR",
            "MYS",
            "ISR",
            "LTU",
            "SRB",
            "SVK",
            "SVN",
            "TUR",
            "VNM",
            "BGR",
            "CZE",
            "DNK",
            "GEO",
            "DEU",
            "HUN",
            "ISL",
            "JPN",
            "KAZ",
            "PRK",
            "KGZ",
            "NLD",
            "POL",
            "ROU",
            "TJK",
            "THA",
            "AZE",
            "MNG"
           ],
           "name": "",
           "type": "choropleth",
           "z": [
            0.06560186761452282,
            0.7274083200200142,
            0,
            0.24666569644826064,
            0.005464833151994989,
            0,
            0.059812293471888905,
            0.6176377579255277,
            0.4018482777904251,
            0,
            0.1446774172838515,
            0,
            0.12976581163973377,
            0.07596227930244924,
            0.787152244188938,
            0.8696753762722989,
            0.16487058483443423,
            0.42807832311256694,
            0.25729475997167484,
            0.07910532250094499,
            0.8364562234145729,
            0.14021498509327754,
            0.0171485288963001,
            1.128208544514274,
            0.10341402027884004,
            0,
            0,
            0.00396005100545695,
            0,
            0.040512198425506914,
            0.0455933980759586,
            0.131869391967434,
            0.19789403803312325,
            2.3159783814322923,
            0,
            0.1060172253922487,
            0.2179702393342951,
            0.518562714974749
           ]
          }
         ],
         "name": "2021-10-23"
        },
        {
         "data": [
          {
           "coloraxis": "coloraxis",
           "geo": "geo",
           "hovertemplate": "date=2021-11-02<br>Country_code=%{location}<br>deaths=%{z}<extra></extra>",
           "locations": [
            "ITA",
            "RUS",
            "CHN",
            "ALB",
            "BGD",
            "BWA",
            "KHM",
            "HRV",
            "GRC",
            "SWE",
            "FIN",
            "NOR",
            "MYS",
            "ISR",
            "LTU",
            "SRB",
            "SVK",
            "SVN",
            "TUR",
            "VNM",
            "BGR",
            "CZE",
            "DNK",
            "GEO",
            "DEU",
            "HUN",
            "ISL",
            "JPN",
            "KAZ",
            "PRK",
            "KGZ",
            "NLD",
            "POL",
            "ROU",
            "TJK",
            "THA",
            "AZE",
            "MNG"
           ],
           "name": "",
           "type": "choropleth",
           "z": [
            0.06896606595372912,
            0.7940411432279546,
            0,
            0.21142773981279483,
            0.0018216110506649962,
            0,
            0.07775598151345559,
            0.9882204126808443,
            0.5607185271494304,
            0.1448793550975608,
            0.2170161259257772,
            0,
            0.21627635273288964,
            0.032555262558192535,
            0.9302708340414721,
            0.8696753762722989,
            0.5678875699852735,
            0.4756425812361856,
            0.2655945909385031,
            0.07602329694896011,
            2.091140558536432,
            0.2991253015323254,
            0,
            1.262519085527878,
            0.09740157723937258,
            0.3999938872729022,
            0.27287884452182076,
            0.00554407140763973,
            0.13329305394967048,
            0.03472474150757735,
            0.06079119743461146,
            0.10320213284407878,
            0.023747284563974787,
            3.0689309942297864,
            0,
            0.11174788622426213,
            0.30713988269832493,
            0.3050368911616171
           ]
          }
         ],
         "name": "2021-11-02"
        },
        {
         "data": [
          {
           "coloraxis": "coloraxis",
           "geo": "geo",
           "hovertemplate": "date=2021-11-12<br>Country_code=%{location}<br>deaths=%{z}<extra></extra>",
           "locations": [
            "ITA",
            "RUS",
            "CHN",
            "ALB",
            "BGD",
            "BWA",
            "KHM",
            "HRV",
            "GRC",
            "SWE",
            "FIN",
            "NOR",
            "MYS",
            "ISR",
            "LTU",
            "SRB",
            "SVK",
            "SVN",
            "TUR",
            "VNM",
            "BGR",
            "CZE",
            "DNK",
            "GEO",
            "DEU",
            "HUN",
            "ISL",
            "JPN",
            "KAZ",
            "PRK",
            "KGZ",
            "NLD",
            "POL",
            "ROU",
            "TJK",
            "THA",
            "AZE",
            "MNG"
           ],
           "name": "",
           "type": "choropleth",
           "z": [
            0.11438274353301416,
            0.8349925658245012,
            7.086669973779322e-05,
            0.17618978317732903,
            0.003036018417774994,
            0,
            0.035887376083133346,
            1.3093920468021187,
            0.523337292006135,
            0.03863449469268288,
            0.1085080629628886,
            0.03717834918835017,
            0.12667614945783534,
            0.021703508372128356,
            0.787152244188938,
            0.971137503504067,
            0.7510771086902004,
            0.6658996137306598,
            0.25729475997167484,
            0.08321468990359146,
            2.523790329268108,
            0.6169459344104212,
            0.0685941155852004,
            2.0683823316095022,
            0.22967532410765637,
            1.1897254082988886,
            0,
            0.0007920102010913901,
            0.1706151090555782,
            0.06173287379124863,
            0.03039559871730573,
            0.18347045838947337,
            0.08179620238702427,
            1.5941824284746946,
            0,
            0.07306592560817139,
            0.24769345378897173,
            0.2745332020454554
           ]
          }
         ],
         "name": "2021-11-12"
        },
        {
         "data": [
          {
           "coloraxis": "coloraxis",
           "geo": "geo",
           "hovertemplate": "date=2021-11-22<br>Country_code=%{location}<br>deaths=%{z}<extra></extra>",
           "locations": [
            "ITA",
            "RUS",
            "CHN",
            "ALB",
            "BGD",
            "BWA",
            "KHM",
            "HRV",
            "GRC",
            "SWE",
            "FIN",
            "NOR",
            "MYS",
            "ISR",
            "LTU",
            "SRB",
            "SVK",
            "SVN",
            "TUR",
            "VNM",
            "BGR",
            "CZE",
            "DNK",
            "GEO",
            "DEU",
            "HUN",
            "ISL",
            "JPN",
            "KAZ",
            "PRK",
            "KGZ",
            "NLD",
            "POL",
            "ROU",
            "TJK",
            "THA",
            "AZE",
            "MNG"
           ],
           "name": "",
           "type": "choropleth",
           "z": [
            0.11774694187222044,
            0.8412393930002455,
            0,
            0.4933313928965213,
            0.0012144073671099976,
            0,
            0.029906146735944453,
            1.8035022531425409,
            1.04667458401227,
            0,
            0.09042338580240718,
            0.055767523782525245,
            0.1884693930958038,
            0.010851754186064178,
            1.1807283662834072,
            0.8116970178541455,
            1.0624993244885759,
            0.8085923881015155,
            0.2288381966568352,
            0.19519495162570838,
            3.6631013921948536,
            2.103224776399163,
            0.1028911733778006,
            1.4774159511496445,
            0.0745542936893963,
            4.020451379768658,
            0,
            0.0015840204021827801,
            0.29857644084726187,
            0.05787456917929559,
            0.06079119743461146,
            0.16627010291546027,
            0.021108697390199813,
            0.7996876025573385,
            0,
            0.07020059519216466,
            0.3269553590014427,
            0.24402951292929367
           ]
          }
         ],
         "name": "2021-11-22"
        },
        {
         "data": [
          {
           "coloraxis": "coloraxis",
           "geo": "geo",
           "hovertemplate": "date=2021-12-02<br>Country_code=%{location}<br>deaths=%{z}<extra></extra>",
           "locations": [
            "ITA",
            "RUS",
            "CHN",
            "ALB",
            "BGD",
            "BWA",
            "KHM",
            "HRV",
            "GRC",
            "SWE",
            "FIN",
            "NOR",
            "MYS",
            "ISR",
            "LTU",
            "SRB",
            "SVK",
            "SVN",
            "TUR",
            "VNM",
            "BGR",
            "CZE",
            "DNK",
            "GEO",
            "DEU",
            "HUN",
            "ISL",
            "JPN",
            "KAZ",
            "PRK",
            "KGZ",
            "NLD",
            "POL",
            "ROU",
            "TJK",
            "THA",
            "AZE",
            "MNG"
           ],
           "name": "",
           "type": "choropleth",
           "z": [
            0.12111114021142674,
            0.8245811871982605,
            0,
            0.10571386990639742,
            0.0018216110506649962,
            0.04252378674320948,
            0.029906146735944453,
            1.877618784093604,
            0.8504230995099694,
            0.028975871019512156,
            0.2170161259257772,
            0.018589174594175084,
            0.1452141225492259,
            0,
            0.8944911865783387,
            0.695740301017839,
            1.8868522486607469,
            0.7134638718542783,
            0.22765250651871688,
            0.21574178863894083,
            1.6440691287803675,
            1.2245442031479572,
            0.0514455866889003,
            1.9340717905958982,
            0.46656557986267366,
            2.235863267320325,
            0,
            0.0007920102010913901,
            0.07997583236980228,
            0.06559117840320167,
            0.0455933980759586,
            0.3726743686036178,
            1.3272093484088132,
            0.34272325823885946,
            0,
            0.047277951864110906,
            0.20806250118273625,
            0.09151106734848513
           ]
          }
         ],
         "name": "2021-12-02"
        },
        {
         "data": [
          {
           "coloraxis": "coloraxis",
           "geo": "geo",
           "hovertemplate": "date=2021-12-12<br>Country_code=%{location}<br>deaths=%{z}<extra></extra>",
           "locations": [
            "ITA",
            "RUS",
            "CHN",
            "ALB",
            "BGD",
            "BWA",
            "KHM",
            "HRV",
            "GRC",
            "SWE",
            "FIN",
            "NOR",
            "MYS",
            "ISR",
            "LTU",
            "SRB",
            "SVK",
            "SVN",
            "TUR",
            "VNM",
            "BGR",
            "CZE",
            "DNK",
            "GEO",
            "DEU",
            "HUN",
            "ISL",
            "JPN",
            "KAZ",
            "PRK",
            "KGZ",
            "NLD",
            "POL",
            "ROU",
            "TJK",
            "THA",
            "AZE",
            "MNG"
           ],
           "name": "",
           "type": "choropleth",
           "z": [
            0.11101854519380784,
            0.7648892830744807,
            0,
            0.07047591327093161,
            0.0036432221013299924,
            0,
            0.017943688041566673,
            1.1117479642659498,
            0.8504230995099694,
            0,
            0.12659274012337005,
            0,
            0.0525242570922732,
            0.06511052511638507,
            0.7513725967258045,
            0.4348376881361494,
            0.9159476935246346,
            0.6658996137306598,
            0.2157956051375337,
            0.23423394195085004,
            0.7210829512194594,
            0.6917272597935026,
            0.1543367600667009,
            0.9670358952979491,
            0.15872849624194052,
            0,
            0,
            0,
            0,
            0.07716609223906079,
            0.03039559871730573,
            0.21787116933749962,
            0.1715081662953735,
            0.8568081455971486,
            0,
            0.028653304160067214,
            0.17833928672805965,
            0.15251844558080854
           ]
          }
         ],
         "name": "2021-12-12"
        },
        {
         "data": [
          {
           "coloraxis": "coloraxis",
           "geo": "geo",
           "hovertemplate": "date=2021-12-22<br>Country_code=%{location}<br>deaths=%{z}<extra></extra>",
           "locations": [
            "ITA",
            "RUS",
            "CHN",
            "ALB",
            "BGD",
            "BWA",
            "KHM",
            "HRV",
            "GRC",
            "SWE",
            "FIN",
            "NOR",
            "MYS",
            "ISR",
            "LTU",
            "SRB",
            "SVK",
            "SVN",
            "TUR",
            "VNM",
            "BGR",
            "CZE",
            "DNK",
            "GEO",
            "DEU",
            "HUN",
            "ISL",
            "JPN",
            "KAZ",
            "PRK",
            "KGZ",
            "NLD",
            "POL",
            "ROU",
            "TJK",
            "THA",
            "AZE",
            "MNG"
           ],
           "name": "",
           "type": "choropleth",
           "z": [
            0.2455864787620598,
            0.6892332650571318,
            0,
            0.07047591327093161,
            0.0006072036835549988,
            0,
            0.005981229347188891,
            0.8893983714127599,
            0.6635169237934926,
            0.16419660244390225,
            0.1085080629628886,
            0.8922803805204039,
            0.08960020327505427,
            0.07596227930244924,
            0.9660504815046057,
            0.3913539193225345,
            1.2640078170639957,
            0.28538554874171135,
            0.21223853472317877,
            0.21574178863894083,
            0.8076129053657947,
            0,
            0.2400794045482014,
            1.396829626541482,
            0.6132691900256793,
            1.4256192392547027,
            0,
            0.0015840204021827801,
            0.04265377726389455,
            0.2102776013514406,
            0.03039559871730573,
            0.26947223575953905,
            2.050182234023157,
            0.32195215167892854,
            0,
            0.04441262144810418,
            0.1585238104249419,
            0.09151106734848513
           ]
          }
         ],
         "name": "2021-12-22"
        }
       ],
       "layout": {
        "coloraxis": {
         "cmid": 2.010225689884329,
         "colorbar": {
          "title": {
           "text": "deaths"
          }
         },
         "colorscale": [
          [
           0,
           "rgb(231, 250, 90)"
          ],
          [
           0.09090909090909091,
           "rgb(246, 211, 70)"
          ],
          [
           0.18181818181818182,
           "rgb(251, 173, 60)"
          ],
          [
           0.2727272727272727,
           "rgb(246, 139, 69)"
          ],
          [
           0.36363636363636365,
           "rgb(225, 113, 97)"
          ],
          [
           0.45454545454545453,
           "rgb(193, 100, 121)"
          ],
          [
           0.5454545454545454,
           "rgb(158, 89, 135)"
          ],
          [
           0.6363636363636364,
           "rgb(126, 77, 143)"
          ],
          [
           0.7272727272727273,
           "rgb(93, 62, 153)"
          ],
          [
           0.8181818181818182,
           "rgb(53, 50, 155)"
          ],
          [
           0.9090909090909091,
           "rgb(13, 48, 100)"
          ],
          [
           1,
           "rgb(3, 35, 51)"
          ]
         ]
        },
        "geo": {
         "center": {},
         "domain": {
          "x": [
           0,
           1
          ],
          "y": [
           0,
           1
          ]
         }
        },
        "legend": {
         "tracegroupgap": 0
        },
        "margin": {
         "t": 60
        },
        "sliders": [
         {
          "active": 0,
          "currentvalue": {
           "prefix": "date="
          },
          "len": 0.9,
          "pad": {
           "b": 10,
           "t": 60
          },
          "steps": [
           {
            "args": [
             [
              "2020-01-22"
             ],
             {
              "frame": {
               "duration": 0,
               "redraw": true
              },
              "fromcurrent": true,
              "mode": "immediate",
              "transition": {
               "duration": 0,
               "easing": "linear"
              }
             }
            ],
            "label": "2020-01-22",
            "method": "animate"
           },
           {
            "args": [
             [
              "2020-02-01"
             ],
             {
              "frame": {
               "duration": 0,
               "redraw": true
              },
              "fromcurrent": true,
              "mode": "immediate",
              "transition": {
               "duration": 0,
               "easing": "linear"
              }
             }
            ],
            "label": "2020-02-01",
            "method": "animate"
           },
           {
            "args": [
             [
              "2020-02-11"
             ],
             {
              "frame": {
               "duration": 0,
               "redraw": true
              },
              "fromcurrent": true,
              "mode": "immediate",
              "transition": {
               "duration": 0,
               "easing": "linear"
              }
             }
            ],
            "label": "2020-02-11",
            "method": "animate"
           },
           {
            "args": [
             [
              "2020-02-21"
             ],
             {
              "frame": {
               "duration": 0,
               "redraw": true
              },
              "fromcurrent": true,
              "mode": "immediate",
              "transition": {
               "duration": 0,
               "easing": "linear"
              }
             }
            ],
            "label": "2020-02-21",
            "method": "animate"
           },
           {
            "args": [
             [
              "2020-03-02"
             ],
             {
              "frame": {
               "duration": 0,
               "redraw": true
              },
              "fromcurrent": true,
              "mode": "immediate",
              "transition": {
               "duration": 0,
               "easing": "linear"
              }
             }
            ],
            "label": "2020-03-02",
            "method": "animate"
           },
           {
            "args": [
             [
              "2020-03-12"
             ],
             {
              "frame": {
               "duration": 0,
               "redraw": true
              },
              "fromcurrent": true,
              "mode": "immediate",
              "transition": {
               "duration": 0,
               "easing": "linear"
              }
             }
            ],
            "label": "2020-03-12",
            "method": "animate"
           },
           {
            "args": [
             [
              "2020-03-22"
             ],
             {
              "frame": {
               "duration": 0,
               "redraw": true
              },
              "fromcurrent": true,
              "mode": "immediate",
              "transition": {
               "duration": 0,
               "easing": "linear"
              }
             }
            ],
            "label": "2020-03-22",
            "method": "animate"
           },
           {
            "args": [
             [
              "2020-04-01"
             ],
             {
              "frame": {
               "duration": 0,
               "redraw": true
              },
              "fromcurrent": true,
              "mode": "immediate",
              "transition": {
               "duration": 0,
               "easing": "linear"
              }
             }
            ],
            "label": "2020-04-01",
            "method": "animate"
           },
           {
            "args": [
             [
              "2020-04-11"
             ],
             {
              "frame": {
               "duration": 0,
               "redraw": true
              },
              "fromcurrent": true,
              "mode": "immediate",
              "transition": {
               "duration": 0,
               "easing": "linear"
              }
             }
            ],
            "label": "2020-04-11",
            "method": "animate"
           },
           {
            "args": [
             [
              "2020-04-21"
             ],
             {
              "frame": {
               "duration": 0,
               "redraw": true
              },
              "fromcurrent": true,
              "mode": "immediate",
              "transition": {
               "duration": 0,
               "easing": "linear"
              }
             }
            ],
            "label": "2020-04-21",
            "method": "animate"
           },
           {
            "args": [
             [
              "2020-05-01"
             ],
             {
              "frame": {
               "duration": 0,
               "redraw": true
              },
              "fromcurrent": true,
              "mode": "immediate",
              "transition": {
               "duration": 0,
               "easing": "linear"
              }
             }
            ],
            "label": "2020-05-01",
            "method": "animate"
           },
           {
            "args": [
             [
              "2020-05-11"
             ],
             {
              "frame": {
               "duration": 0,
               "redraw": true
              },
              "fromcurrent": true,
              "mode": "immediate",
              "transition": {
               "duration": 0,
               "easing": "linear"
              }
             }
            ],
            "label": "2020-05-11",
            "method": "animate"
           },
           {
            "args": [
             [
              "2020-05-21"
             ],
             {
              "frame": {
               "duration": 0,
               "redraw": true
              },
              "fromcurrent": true,
              "mode": "immediate",
              "transition": {
               "duration": 0,
               "easing": "linear"
              }
             }
            ],
            "label": "2020-05-21",
            "method": "animate"
           },
           {
            "args": [
             [
              "2020-05-31"
             ],
             {
              "frame": {
               "duration": 0,
               "redraw": true
              },
              "fromcurrent": true,
              "mode": "immediate",
              "transition": {
               "duration": 0,
               "easing": "linear"
              }
             }
            ],
            "label": "2020-05-31",
            "method": "animate"
           },
           {
            "args": [
             [
              "2020-06-10"
             ],
             {
              "frame": {
               "duration": 0,
               "redraw": true
              },
              "fromcurrent": true,
              "mode": "immediate",
              "transition": {
               "duration": 0,
               "easing": "linear"
              }
             }
            ],
            "label": "2020-06-10",
            "method": "animate"
           },
           {
            "args": [
             [
              "2020-06-20"
             ],
             {
              "frame": {
               "duration": 0,
               "redraw": true
              },
              "fromcurrent": true,
              "mode": "immediate",
              "transition": {
               "duration": 0,
               "easing": "linear"
              }
             }
            ],
            "label": "2020-06-20",
            "method": "animate"
           },
           {
            "args": [
             [
              "2020-06-30"
             ],
             {
              "frame": {
               "duration": 0,
               "redraw": true
              },
              "fromcurrent": true,
              "mode": "immediate",
              "transition": {
               "duration": 0,
               "easing": "linear"
              }
             }
            ],
            "label": "2020-06-30",
            "method": "animate"
           },
           {
            "args": [
             [
              "2020-07-10"
             ],
             {
              "frame": {
               "duration": 0,
               "redraw": true
              },
              "fromcurrent": true,
              "mode": "immediate",
              "transition": {
               "duration": 0,
               "easing": "linear"
              }
             }
            ],
            "label": "2020-07-10",
            "method": "animate"
           },
           {
            "args": [
             [
              "2020-07-20"
             ],
             {
              "frame": {
               "duration": 0,
               "redraw": true
              },
              "fromcurrent": true,
              "mode": "immediate",
              "transition": {
               "duration": 0,
               "easing": "linear"
              }
             }
            ],
            "label": "2020-07-20",
            "method": "animate"
           },
           {
            "args": [
             [
              "2020-07-30"
             ],
             {
              "frame": {
               "duration": 0,
               "redraw": true
              },
              "fromcurrent": true,
              "mode": "immediate",
              "transition": {
               "duration": 0,
               "easing": "linear"
              }
             }
            ],
            "label": "2020-07-30",
            "method": "animate"
           },
           {
            "args": [
             [
              "2020-08-09"
             ],
             {
              "frame": {
               "duration": 0,
               "redraw": true
              },
              "fromcurrent": true,
              "mode": "immediate",
              "transition": {
               "duration": 0,
               "easing": "linear"
              }
             }
            ],
            "label": "2020-08-09",
            "method": "animate"
           },
           {
            "args": [
             [
              "2020-08-19"
             ],
             {
              "frame": {
               "duration": 0,
               "redraw": true
              },
              "fromcurrent": true,
              "mode": "immediate",
              "transition": {
               "duration": 0,
               "easing": "linear"
              }
             }
            ],
            "label": "2020-08-19",
            "method": "animate"
           },
           {
            "args": [
             [
              "2020-08-29"
             ],
             {
              "frame": {
               "duration": 0,
               "redraw": true
              },
              "fromcurrent": true,
              "mode": "immediate",
              "transition": {
               "duration": 0,
               "easing": "linear"
              }
             }
            ],
            "label": "2020-08-29",
            "method": "animate"
           },
           {
            "args": [
             [
              "2020-09-08"
             ],
             {
              "frame": {
               "duration": 0,
               "redraw": true
              },
              "fromcurrent": true,
              "mode": "immediate",
              "transition": {
               "duration": 0,
               "easing": "linear"
              }
             }
            ],
            "label": "2020-09-08",
            "method": "animate"
           },
           {
            "args": [
             [
              "2020-09-18"
             ],
             {
              "frame": {
               "duration": 0,
               "redraw": true
              },
              "fromcurrent": true,
              "mode": "immediate",
              "transition": {
               "duration": 0,
               "easing": "linear"
              }
             }
            ],
            "label": "2020-09-18",
            "method": "animate"
           },
           {
            "args": [
             [
              "2020-09-28"
             ],
             {
              "frame": {
               "duration": 0,
               "redraw": true
              },
              "fromcurrent": true,
              "mode": "immediate",
              "transition": {
               "duration": 0,
               "easing": "linear"
              }
             }
            ],
            "label": "2020-09-28",
            "method": "animate"
           },
           {
            "args": [
             [
              "2020-10-08"
             ],
             {
              "frame": {
               "duration": 0,
               "redraw": true
              },
              "fromcurrent": true,
              "mode": "immediate",
              "transition": {
               "duration": 0,
               "easing": "linear"
              }
             }
            ],
            "label": "2020-10-08",
            "method": "animate"
           },
           {
            "args": [
             [
              "2020-10-18"
             ],
             {
              "frame": {
               "duration": 0,
               "redraw": true
              },
              "fromcurrent": true,
              "mode": "immediate",
              "transition": {
               "duration": 0,
               "easing": "linear"
              }
             }
            ],
            "label": "2020-10-18",
            "method": "animate"
           },
           {
            "args": [
             [
              "2020-10-28"
             ],
             {
              "frame": {
               "duration": 0,
               "redraw": true
              },
              "fromcurrent": true,
              "mode": "immediate",
              "transition": {
               "duration": 0,
               "easing": "linear"
              }
             }
            ],
            "label": "2020-10-28",
            "method": "animate"
           },
           {
            "args": [
             [
              "2020-11-07"
             ],
             {
              "frame": {
               "duration": 0,
               "redraw": true
              },
              "fromcurrent": true,
              "mode": "immediate",
              "transition": {
               "duration": 0,
               "easing": "linear"
              }
             }
            ],
            "label": "2020-11-07",
            "method": "animate"
           },
           {
            "args": [
             [
              "2020-11-17"
             ],
             {
              "frame": {
               "duration": 0,
               "redraw": true
              },
              "fromcurrent": true,
              "mode": "immediate",
              "transition": {
               "duration": 0,
               "easing": "linear"
              }
             }
            ],
            "label": "2020-11-17",
            "method": "animate"
           },
           {
            "args": [
             [
              "2020-11-27"
             ],
             {
              "frame": {
               "duration": 0,
               "redraw": true
              },
              "fromcurrent": true,
              "mode": "immediate",
              "transition": {
               "duration": 0,
               "easing": "linear"
              }
             }
            ],
            "label": "2020-11-27",
            "method": "animate"
           },
           {
            "args": [
             [
              "2020-12-07"
             ],
             {
              "frame": {
               "duration": 0,
               "redraw": true
              },
              "fromcurrent": true,
              "mode": "immediate",
              "transition": {
               "duration": 0,
               "easing": "linear"
              }
             }
            ],
            "label": "2020-12-07",
            "method": "animate"
           },
           {
            "args": [
             [
              "2020-12-17"
             ],
             {
              "frame": {
               "duration": 0,
               "redraw": true
              },
              "fromcurrent": true,
              "mode": "immediate",
              "transition": {
               "duration": 0,
               "easing": "linear"
              }
             }
            ],
            "label": "2020-12-17",
            "method": "animate"
           },
           {
            "args": [
             [
              "2020-12-27"
             ],
             {
              "frame": {
               "duration": 0,
               "redraw": true
              },
              "fromcurrent": true,
              "mode": "immediate",
              "transition": {
               "duration": 0,
               "easing": "linear"
              }
             }
            ],
            "label": "2020-12-27",
            "method": "animate"
           },
           {
            "args": [
             [
              "2021-01-06"
             ],
             {
              "frame": {
               "duration": 0,
               "redraw": true
              },
              "fromcurrent": true,
              "mode": "immediate",
              "transition": {
               "duration": 0,
               "easing": "linear"
              }
             }
            ],
            "label": "2021-01-06",
            "method": "animate"
           },
           {
            "args": [
             [
              "2021-01-16"
             ],
             {
              "frame": {
               "duration": 0,
               "redraw": true
              },
              "fromcurrent": true,
              "mode": "immediate",
              "transition": {
               "duration": 0,
               "easing": "linear"
              }
             }
            ],
            "label": "2021-01-16",
            "method": "animate"
           },
           {
            "args": [
             [
              "2021-01-26"
             ],
             {
              "frame": {
               "duration": 0,
               "redraw": true
              },
              "fromcurrent": true,
              "mode": "immediate",
              "transition": {
               "duration": 0,
               "easing": "linear"
              }
             }
            ],
            "label": "2021-01-26",
            "method": "animate"
           },
           {
            "args": [
             [
              "2021-02-05"
             ],
             {
              "frame": {
               "duration": 0,
               "redraw": true
              },
              "fromcurrent": true,
              "mode": "immediate",
              "transition": {
               "duration": 0,
               "easing": "linear"
              }
             }
            ],
            "label": "2021-02-05",
            "method": "animate"
           },
           {
            "args": [
             [
              "2021-02-15"
             ],
             {
              "frame": {
               "duration": 0,
               "redraw": true
              },
              "fromcurrent": true,
              "mode": "immediate",
              "transition": {
               "duration": 0,
               "easing": "linear"
              }
             }
            ],
            "label": "2021-02-15",
            "method": "animate"
           },
           {
            "args": [
             [
              "2021-02-25"
             ],
             {
              "frame": {
               "duration": 0,
               "redraw": true
              },
              "fromcurrent": true,
              "mode": "immediate",
              "transition": {
               "duration": 0,
               "easing": "linear"
              }
             }
            ],
            "label": "2021-02-25",
            "method": "animate"
           },
           {
            "args": [
             [
              "2021-03-07"
             ],
             {
              "frame": {
               "duration": 0,
               "redraw": true
              },
              "fromcurrent": true,
              "mode": "immediate",
              "transition": {
               "duration": 0,
               "easing": "linear"
              }
             }
            ],
            "label": "2021-03-07",
            "method": "animate"
           },
           {
            "args": [
             [
              "2021-03-17"
             ],
             {
              "frame": {
               "duration": 0,
               "redraw": true
              },
              "fromcurrent": true,
              "mode": "immediate",
              "transition": {
               "duration": 0,
               "easing": "linear"
              }
             }
            ],
            "label": "2021-03-17",
            "method": "animate"
           },
           {
            "args": [
             [
              "2021-03-27"
             ],
             {
              "frame": {
               "duration": 0,
               "redraw": true
              },
              "fromcurrent": true,
              "mode": "immediate",
              "transition": {
               "duration": 0,
               "easing": "linear"
              }
             }
            ],
            "label": "2021-03-27",
            "method": "animate"
           },
           {
            "args": [
             [
              "2021-04-06"
             ],
             {
              "frame": {
               "duration": 0,
               "redraw": true
              },
              "fromcurrent": true,
              "mode": "immediate",
              "transition": {
               "duration": 0,
               "easing": "linear"
              }
             }
            ],
            "label": "2021-04-06",
            "method": "animate"
           },
           {
            "args": [
             [
              "2021-04-16"
             ],
             {
              "frame": {
               "duration": 0,
               "redraw": true
              },
              "fromcurrent": true,
              "mode": "immediate",
              "transition": {
               "duration": 0,
               "easing": "linear"
              }
             }
            ],
            "label": "2021-04-16",
            "method": "animate"
           },
           {
            "args": [
             [
              "2021-04-26"
             ],
             {
              "frame": {
               "duration": 0,
               "redraw": true
              },
              "fromcurrent": true,
              "mode": "immediate",
              "transition": {
               "duration": 0,
               "easing": "linear"
              }
             }
            ],
            "label": "2021-04-26",
            "method": "animate"
           },
           {
            "args": [
             [
              "2021-05-06"
             ],
             {
              "frame": {
               "duration": 0,
               "redraw": true
              },
              "fromcurrent": true,
              "mode": "immediate",
              "transition": {
               "duration": 0,
               "easing": "linear"
              }
             }
            ],
            "label": "2021-05-06",
            "method": "animate"
           },
           {
            "args": [
             [
              "2021-05-16"
             ],
             {
              "frame": {
               "duration": 0,
               "redraw": true
              },
              "fromcurrent": true,
              "mode": "immediate",
              "transition": {
               "duration": 0,
               "easing": "linear"
              }
             }
            ],
            "label": "2021-05-16",
            "method": "animate"
           },
           {
            "args": [
             [
              "2021-05-26"
             ],
             {
              "frame": {
               "duration": 0,
               "redraw": true
              },
              "fromcurrent": true,
              "mode": "immediate",
              "transition": {
               "duration": 0,
               "easing": "linear"
              }
             }
            ],
            "label": "2021-05-26",
            "method": "animate"
           },
           {
            "args": [
             [
              "2021-06-05"
             ],
             {
              "frame": {
               "duration": 0,
               "redraw": true
              },
              "fromcurrent": true,
              "mode": "immediate",
              "transition": {
               "duration": 0,
               "easing": "linear"
              }
             }
            ],
            "label": "2021-06-05",
            "method": "animate"
           },
           {
            "args": [
             [
              "2021-06-15"
             ],
             {
              "frame": {
               "duration": 0,
               "redraw": true
              },
              "fromcurrent": true,
              "mode": "immediate",
              "transition": {
               "duration": 0,
               "easing": "linear"
              }
             }
            ],
            "label": "2021-06-15",
            "method": "animate"
           },
           {
            "args": [
             [
              "2021-06-25"
             ],
             {
              "frame": {
               "duration": 0,
               "redraw": true
              },
              "fromcurrent": true,
              "mode": "immediate",
              "transition": {
               "duration": 0,
               "easing": "linear"
              }
             }
            ],
            "label": "2021-06-25",
            "method": "animate"
           },
           {
            "args": [
             [
              "2021-07-05"
             ],
             {
              "frame": {
               "duration": 0,
               "redraw": true
              },
              "fromcurrent": true,
              "mode": "immediate",
              "transition": {
               "duration": 0,
               "easing": "linear"
              }
             }
            ],
            "label": "2021-07-05",
            "method": "animate"
           },
           {
            "args": [
             [
              "2021-07-15"
             ],
             {
              "frame": {
               "duration": 0,
               "redraw": true
              },
              "fromcurrent": true,
              "mode": "immediate",
              "transition": {
               "duration": 0,
               "easing": "linear"
              }
             }
            ],
            "label": "2021-07-15",
            "method": "animate"
           },
           {
            "args": [
             [
              "2021-07-25"
             ],
             {
              "frame": {
               "duration": 0,
               "redraw": true
              },
              "fromcurrent": true,
              "mode": "immediate",
              "transition": {
               "duration": 0,
               "easing": "linear"
              }
             }
            ],
            "label": "2021-07-25",
            "method": "animate"
           },
           {
            "args": [
             [
              "2021-08-04"
             ],
             {
              "frame": {
               "duration": 0,
               "redraw": true
              },
              "fromcurrent": true,
              "mode": "immediate",
              "transition": {
               "duration": 0,
               "easing": "linear"
              }
             }
            ],
            "label": "2021-08-04",
            "method": "animate"
           },
           {
            "args": [
             [
              "2021-08-14"
             ],
             {
              "frame": {
               "duration": 0,
               "redraw": true
              },
              "fromcurrent": true,
              "mode": "immediate",
              "transition": {
               "duration": 0,
               "easing": "linear"
              }
             }
            ],
            "label": "2021-08-14",
            "method": "animate"
           },
           {
            "args": [
             [
              "2021-08-24"
             ],
             {
              "frame": {
               "duration": 0,
               "redraw": true
              },
              "fromcurrent": true,
              "mode": "immediate",
              "transition": {
               "duration": 0,
               "easing": "linear"
              }
             }
            ],
            "label": "2021-08-24",
            "method": "animate"
           },
           {
            "args": [
             [
              "2021-09-03"
             ],
             {
              "frame": {
               "duration": 0,
               "redraw": true
              },
              "fromcurrent": true,
              "mode": "immediate",
              "transition": {
               "duration": 0,
               "easing": "linear"
              }
             }
            ],
            "label": "2021-09-03",
            "method": "animate"
           },
           {
            "args": [
             [
              "2021-09-13"
             ],
             {
              "frame": {
               "duration": 0,
               "redraw": true
              },
              "fromcurrent": true,
              "mode": "immediate",
              "transition": {
               "duration": 0,
               "easing": "linear"
              }
             }
            ],
            "label": "2021-09-13",
            "method": "animate"
           },
           {
            "args": [
             [
              "2021-09-23"
             ],
             {
              "frame": {
               "duration": 0,
               "redraw": true
              },
              "fromcurrent": true,
              "mode": "immediate",
              "transition": {
               "duration": 0,
               "easing": "linear"
              }
             }
            ],
            "label": "2021-09-23",
            "method": "animate"
           },
           {
            "args": [
             [
              "2021-10-03"
             ],
             {
              "frame": {
               "duration": 0,
               "redraw": true
              },
              "fromcurrent": true,
              "mode": "immediate",
              "transition": {
               "duration": 0,
               "easing": "linear"
              }
             }
            ],
            "label": "2021-10-03",
            "method": "animate"
           },
           {
            "args": [
             [
              "2021-10-13"
             ],
             {
              "frame": {
               "duration": 0,
               "redraw": true
              },
              "fromcurrent": true,
              "mode": "immediate",
              "transition": {
               "duration": 0,
               "easing": "linear"
              }
             }
            ],
            "label": "2021-10-13",
            "method": "animate"
           },
           {
            "args": [
             [
              "2021-10-23"
             ],
             {
              "frame": {
               "duration": 0,
               "redraw": true
              },
              "fromcurrent": true,
              "mode": "immediate",
              "transition": {
               "duration": 0,
               "easing": "linear"
              }
             }
            ],
            "label": "2021-10-23",
            "method": "animate"
           },
           {
            "args": [
             [
              "2021-11-02"
             ],
             {
              "frame": {
               "duration": 0,
               "redraw": true
              },
              "fromcurrent": true,
              "mode": "immediate",
              "transition": {
               "duration": 0,
               "easing": "linear"
              }
             }
            ],
            "label": "2021-11-02",
            "method": "animate"
           },
           {
            "args": [
             [
              "2021-11-12"
             ],
             {
              "frame": {
               "duration": 0,
               "redraw": true
              },
              "fromcurrent": true,
              "mode": "immediate",
              "transition": {
               "duration": 0,
               "easing": "linear"
              }
             }
            ],
            "label": "2021-11-12",
            "method": "animate"
           },
           {
            "args": [
             [
              "2021-11-22"
             ],
             {
              "frame": {
               "duration": 0,
               "redraw": true
              },
              "fromcurrent": true,
              "mode": "immediate",
              "transition": {
               "duration": 0,
               "easing": "linear"
              }
             }
            ],
            "label": "2021-11-22",
            "method": "animate"
           },
           {
            "args": [
             [
              "2021-12-02"
             ],
             {
              "frame": {
               "duration": 0,
               "redraw": true
              },
              "fromcurrent": true,
              "mode": "immediate",
              "transition": {
               "duration": 0,
               "easing": "linear"
              }
             }
            ],
            "label": "2021-12-02",
            "method": "animate"
           },
           {
            "args": [
             [
              "2021-12-12"
             ],
             {
              "frame": {
               "duration": 0,
               "redraw": true
              },
              "fromcurrent": true,
              "mode": "immediate",
              "transition": {
               "duration": 0,
               "easing": "linear"
              }
             }
            ],
            "label": "2021-12-12",
            "method": "animate"
           },
           {
            "args": [
             [
              "2021-12-22"
             ],
             {
              "frame": {
               "duration": 0,
               "redraw": true
              },
              "fromcurrent": true,
              "mode": "immediate",
              "transition": {
               "duration": 0,
               "easing": "linear"
              }
             }
            ],
            "label": "2021-12-22",
            "method": "animate"
           }
          ],
          "x": 0.1,
          "xanchor": "left",
          "y": 0,
          "yanchor": "top"
         }
        ],
        "template": {
         "data": {
          "bar": [
           {
            "error_x": {
             "color": "#2a3f5f"
            },
            "error_y": {
             "color": "#2a3f5f"
            },
            "marker": {
             "line": {
              "color": "#E5ECF6",
              "width": 0.5
             },
             "pattern": {
              "fillmode": "overlay",
              "size": 10,
              "solidity": 0.2
             }
            },
            "type": "bar"
           }
          ],
          "barpolar": [
           {
            "marker": {
             "line": {
              "color": "#E5ECF6",
              "width": 0.5
             },
             "pattern": {
              "fillmode": "overlay",
              "size": 10,
              "solidity": 0.2
             }
            },
            "type": "barpolar"
           }
          ],
          "carpet": [
           {
            "aaxis": {
             "endlinecolor": "#2a3f5f",
             "gridcolor": "white",
             "linecolor": "white",
             "minorgridcolor": "white",
             "startlinecolor": "#2a3f5f"
            },
            "baxis": {
             "endlinecolor": "#2a3f5f",
             "gridcolor": "white",
             "linecolor": "white",
             "minorgridcolor": "white",
             "startlinecolor": "#2a3f5f"
            },
            "type": "carpet"
           }
          ],
          "choropleth": [
           {
            "colorbar": {
             "outlinewidth": 0,
             "ticks": ""
            },
            "type": "choropleth"
           }
          ],
          "contour": [
           {
            "colorbar": {
             "outlinewidth": 0,
             "ticks": ""
            },
            "colorscale": [
             [
              0,
              "#0d0887"
             ],
             [
              0.1111111111111111,
              "#46039f"
             ],
             [
              0.2222222222222222,
              "#7201a8"
             ],
             [
              0.3333333333333333,
              "#9c179e"
             ],
             [
              0.4444444444444444,
              "#bd3786"
             ],
             [
              0.5555555555555556,
              "#d8576b"
             ],
             [
              0.6666666666666666,
              "#ed7953"
             ],
             [
              0.7777777777777778,
              "#fb9f3a"
             ],
             [
              0.8888888888888888,
              "#fdca26"
             ],
             [
              1,
              "#f0f921"
             ]
            ],
            "type": "contour"
           }
          ],
          "contourcarpet": [
           {
            "colorbar": {
             "outlinewidth": 0,
             "ticks": ""
            },
            "type": "contourcarpet"
           }
          ],
          "heatmap": [
           {
            "colorbar": {
             "outlinewidth": 0,
             "ticks": ""
            },
            "colorscale": [
             [
              0,
              "#0d0887"
             ],
             [
              0.1111111111111111,
              "#46039f"
             ],
             [
              0.2222222222222222,
              "#7201a8"
             ],
             [
              0.3333333333333333,
              "#9c179e"
             ],
             [
              0.4444444444444444,
              "#bd3786"
             ],
             [
              0.5555555555555556,
              "#d8576b"
             ],
             [
              0.6666666666666666,
              "#ed7953"
             ],
             [
              0.7777777777777778,
              "#fb9f3a"
             ],
             [
              0.8888888888888888,
              "#fdca26"
             ],
             [
              1,
              "#f0f921"
             ]
            ],
            "type": "heatmap"
           }
          ],
          "heatmapgl": [
           {
            "colorbar": {
             "outlinewidth": 0,
             "ticks": ""
            },
            "colorscale": [
             [
              0,
              "#0d0887"
             ],
             [
              0.1111111111111111,
              "#46039f"
             ],
             [
              0.2222222222222222,
              "#7201a8"
             ],
             [
              0.3333333333333333,
              "#9c179e"
             ],
             [
              0.4444444444444444,
              "#bd3786"
             ],
             [
              0.5555555555555556,
              "#d8576b"
             ],
             [
              0.6666666666666666,
              "#ed7953"
             ],
             [
              0.7777777777777778,
              "#fb9f3a"
             ],
             [
              0.8888888888888888,
              "#fdca26"
             ],
             [
              1,
              "#f0f921"
             ]
            ],
            "type": "heatmapgl"
           }
          ],
          "histogram": [
           {
            "marker": {
             "pattern": {
              "fillmode": "overlay",
              "size": 10,
              "solidity": 0.2
             }
            },
            "type": "histogram"
           }
          ],
          "histogram2d": [
           {
            "colorbar": {
             "outlinewidth": 0,
             "ticks": ""
            },
            "colorscale": [
             [
              0,
              "#0d0887"
             ],
             [
              0.1111111111111111,
              "#46039f"
             ],
             [
              0.2222222222222222,
              "#7201a8"
             ],
             [
              0.3333333333333333,
              "#9c179e"
             ],
             [
              0.4444444444444444,
              "#bd3786"
             ],
             [
              0.5555555555555556,
              "#d8576b"
             ],
             [
              0.6666666666666666,
              "#ed7953"
             ],
             [
              0.7777777777777778,
              "#fb9f3a"
             ],
             [
              0.8888888888888888,
              "#fdca26"
             ],
             [
              1,
              "#f0f921"
             ]
            ],
            "type": "histogram2d"
           }
          ],
          "histogram2dcontour": [
           {
            "colorbar": {
             "outlinewidth": 0,
             "ticks": ""
            },
            "colorscale": [
             [
              0,
              "#0d0887"
             ],
             [
              0.1111111111111111,
              "#46039f"
             ],
             [
              0.2222222222222222,
              "#7201a8"
             ],
             [
              0.3333333333333333,
              "#9c179e"
             ],
             [
              0.4444444444444444,
              "#bd3786"
             ],
             [
              0.5555555555555556,
              "#d8576b"
             ],
             [
              0.6666666666666666,
              "#ed7953"
             ],
             [
              0.7777777777777778,
              "#fb9f3a"
             ],
             [
              0.8888888888888888,
              "#fdca26"
             ],
             [
              1,
              "#f0f921"
             ]
            ],
            "type": "histogram2dcontour"
           }
          ],
          "mesh3d": [
           {
            "colorbar": {
             "outlinewidth": 0,
             "ticks": ""
            },
            "type": "mesh3d"
           }
          ],
          "parcoords": [
           {
            "line": {
             "colorbar": {
              "outlinewidth": 0,
              "ticks": ""
             }
            },
            "type": "parcoords"
           }
          ],
          "pie": [
           {
            "automargin": true,
            "type": "pie"
           }
          ],
          "scatter": [
           {
            "fillpattern": {
             "fillmode": "overlay",
             "size": 10,
             "solidity": 0.2
            },
            "type": "scatter"
           }
          ],
          "scatter3d": [
           {
            "line": {
             "colorbar": {
              "outlinewidth": 0,
              "ticks": ""
             }
            },
            "marker": {
             "colorbar": {
              "outlinewidth": 0,
              "ticks": ""
             }
            },
            "type": "scatter3d"
           }
          ],
          "scattercarpet": [
           {
            "marker": {
             "colorbar": {
              "outlinewidth": 0,
              "ticks": ""
             }
            },
            "type": "scattercarpet"
           }
          ],
          "scattergeo": [
           {
            "marker": {
             "colorbar": {
              "outlinewidth": 0,
              "ticks": ""
             }
            },
            "type": "scattergeo"
           }
          ],
          "scattergl": [
           {
            "marker": {
             "colorbar": {
              "outlinewidth": 0,
              "ticks": ""
             }
            },
            "type": "scattergl"
           }
          ],
          "scattermapbox": [
           {
            "marker": {
             "colorbar": {
              "outlinewidth": 0,
              "ticks": ""
             }
            },
            "type": "scattermapbox"
           }
          ],
          "scatterpolar": [
           {
            "marker": {
             "colorbar": {
              "outlinewidth": 0,
              "ticks": ""
             }
            },
            "type": "scatterpolar"
           }
          ],
          "scatterpolargl": [
           {
            "marker": {
             "colorbar": {
              "outlinewidth": 0,
              "ticks": ""
             }
            },
            "type": "scatterpolargl"
           }
          ],
          "scatterternary": [
           {
            "marker": {
             "colorbar": {
              "outlinewidth": 0,
              "ticks": ""
             }
            },
            "type": "scatterternary"
           }
          ],
          "surface": [
           {
            "colorbar": {
             "outlinewidth": 0,
             "ticks": ""
            },
            "colorscale": [
             [
              0,
              "#0d0887"
             ],
             [
              0.1111111111111111,
              "#46039f"
             ],
             [
              0.2222222222222222,
              "#7201a8"
             ],
             [
              0.3333333333333333,
              "#9c179e"
             ],
             [
              0.4444444444444444,
              "#bd3786"
             ],
             [
              0.5555555555555556,
              "#d8576b"
             ],
             [
              0.6666666666666666,
              "#ed7953"
             ],
             [
              0.7777777777777778,
              "#fb9f3a"
             ],
             [
              0.8888888888888888,
              "#fdca26"
             ],
             [
              1,
              "#f0f921"
             ]
            ],
            "type": "surface"
           }
          ],
          "table": [
           {
            "cells": {
             "fill": {
              "color": "#EBF0F8"
             },
             "line": {
              "color": "white"
             }
            },
            "header": {
             "fill": {
              "color": "#C8D4E3"
             },
             "line": {
              "color": "white"
             }
            },
            "type": "table"
           }
          ]
         },
         "layout": {
          "annotationdefaults": {
           "arrowcolor": "#2a3f5f",
           "arrowhead": 0,
           "arrowwidth": 1
          },
          "autotypenumbers": "strict",
          "coloraxis": {
           "colorbar": {
            "outlinewidth": 0,
            "ticks": ""
           }
          },
          "colorscale": {
           "diverging": [
            [
             0,
             "#8e0152"
            ],
            [
             0.1,
             "#c51b7d"
            ],
            [
             0.2,
             "#de77ae"
            ],
            [
             0.3,
             "#f1b6da"
            ],
            [
             0.4,
             "#fde0ef"
            ],
            [
             0.5,
             "#f7f7f7"
            ],
            [
             0.6,
             "#e6f5d0"
            ],
            [
             0.7,
             "#b8e186"
            ],
            [
             0.8,
             "#7fbc41"
            ],
            [
             0.9,
             "#4d9221"
            ],
            [
             1,
             "#276419"
            ]
           ],
           "sequential": [
            [
             0,
             "#0d0887"
            ],
            [
             0.1111111111111111,
             "#46039f"
            ],
            [
             0.2222222222222222,
             "#7201a8"
            ],
            [
             0.3333333333333333,
             "#9c179e"
            ],
            [
             0.4444444444444444,
             "#bd3786"
            ],
            [
             0.5555555555555556,
             "#d8576b"
            ],
            [
             0.6666666666666666,
             "#ed7953"
            ],
            [
             0.7777777777777778,
             "#fb9f3a"
            ],
            [
             0.8888888888888888,
             "#fdca26"
            ],
            [
             1,
             "#f0f921"
            ]
           ],
           "sequentialminus": [
            [
             0,
             "#0d0887"
            ],
            [
             0.1111111111111111,
             "#46039f"
            ],
            [
             0.2222222222222222,
             "#7201a8"
            ],
            [
             0.3333333333333333,
             "#9c179e"
            ],
            [
             0.4444444444444444,
             "#bd3786"
            ],
            [
             0.5555555555555556,
             "#d8576b"
            ],
            [
             0.6666666666666666,
             "#ed7953"
            ],
            [
             0.7777777777777778,
             "#fb9f3a"
            ],
            [
             0.8888888888888888,
             "#fdca26"
            ],
            [
             1,
             "#f0f921"
            ]
           ]
          },
          "colorway": [
           "#636efa",
           "#EF553B",
           "#00cc96",
           "#ab63fa",
           "#FFA15A",
           "#19d3f3",
           "#FF6692",
           "#B6E880",
           "#FF97FF",
           "#FECB52"
          ],
          "font": {
           "color": "#2a3f5f"
          },
          "geo": {
           "bgcolor": "white",
           "lakecolor": "white",
           "landcolor": "#E5ECF6",
           "showlakes": true,
           "showland": true,
           "subunitcolor": "white"
          },
          "hoverlabel": {
           "align": "left"
          },
          "hovermode": "closest",
          "mapbox": {
           "style": "light"
          },
          "paper_bgcolor": "white",
          "plot_bgcolor": "#E5ECF6",
          "polar": {
           "angularaxis": {
            "gridcolor": "white",
            "linecolor": "white",
            "ticks": ""
           },
           "bgcolor": "#E5ECF6",
           "radialaxis": {
            "gridcolor": "white",
            "linecolor": "white",
            "ticks": ""
           }
          },
          "scene": {
           "xaxis": {
            "backgroundcolor": "#E5ECF6",
            "gridcolor": "white",
            "gridwidth": 2,
            "linecolor": "white",
            "showbackground": true,
            "ticks": "",
            "zerolinecolor": "white"
           },
           "yaxis": {
            "backgroundcolor": "#E5ECF6",
            "gridcolor": "white",
            "gridwidth": 2,
            "linecolor": "white",
            "showbackground": true,
            "ticks": "",
            "zerolinecolor": "white"
           },
           "zaxis": {
            "backgroundcolor": "#E5ECF6",
            "gridcolor": "white",
            "gridwidth": 2,
            "linecolor": "white",
            "showbackground": true,
            "ticks": "",
            "zerolinecolor": "white"
           }
          },
          "shapedefaults": {
           "line": {
            "color": "#2a3f5f"
           }
          },
          "ternary": {
           "aaxis": {
            "gridcolor": "white",
            "linecolor": "white",
            "ticks": ""
           },
           "baxis": {
            "gridcolor": "white",
            "linecolor": "white",
            "ticks": ""
           },
           "bgcolor": "#E5ECF6",
           "caxis": {
            "gridcolor": "white",
            "linecolor": "white",
            "ticks": ""
           }
          },
          "title": {
           "x": 0.05
          },
          "xaxis": {
           "automargin": true,
           "gridcolor": "white",
           "linecolor": "white",
           "ticks": "",
           "title": {
            "standoff": 15
           },
           "zerolinecolor": "white",
           "zerolinewidth": 2
          },
          "yaxis": {
           "automargin": true,
           "gridcolor": "white",
           "linecolor": "white",
           "ticks": "",
           "title": {
            "standoff": 15
           },
           "zerolinecolor": "white",
           "zerolinewidth": 2
          }
         }
        },
        "title": {
         "font": {
          "color": "red",
          "size": 18
         },
         "text": "Number of death of COVID-19 by Date",
         "x": 0.5,
         "y": 1
        },
        "transition": {
         "duration": 10
        },
        "updatemenus": [
         {
          "buttons": [
           {
            "args": [
             null,
             {
              "frame": {
               "duration": 250,
               "redraw": true
              },
              "fromcurrent": true,
              "mode": "immediate",
              "transition": {
               "duration": 0,
               "easing": "linear"
              },
              "visible": false
             }
            ],
            "label": "&#9654;",
            "method": "animate"
           },
           {
            "args": [
             [
              null
             ],
             {
              "frame": {
               "duration": 250,
               "redraw": true
              },
              "fromcurrent": true,
              "mode": "immediate",
              "transition": {
               "duration": 0,
               "easing": "linear"
              }
             }
            ],
            "label": "&#9724;",
            "method": "animate"
           }
          ],
          "direction": "left",
          "pad": {
           "r": 10,
           "t": 70
          },
          "showactive": false,
          "type": "buttons",
          "x": 0.1,
          "xanchor": "right",
          "y": 0,
          "yanchor": "top"
         }
        ]
       }
      },
      "text/html": [
       "<div>                            <div id=\"3efc265d-23d2-4463-9b54-f67ac7c01a52\" class=\"plotly-graph-div\" style=\"height:525px; width:100%;\"></div>            <script type=\"text/javascript\">                require([\"plotly\"], function(Plotly) {                    window.PLOTLYENV=window.PLOTLYENV || {};                                    if (document.getElementById(\"3efc265d-23d2-4463-9b54-f67ac7c01a52\")) {                    Plotly.newPlot(                        \"3efc265d-23d2-4463-9b54-f67ac7c01a52\",                        [{\"coloraxis\":\"coloraxis\",\"geo\":\"geo\",\"hovertemplate\":\"date=2020-01-22<br>Country_code=%{location}<br>deaths=%{z}<extra></extra>\",\"locations\":[\"ITA\",\"RUS\",\"CHN\",\"ALB\",\"BGD\",\"BWA\",\"KHM\",\"HRV\",\"GRC\",\"SWE\",\"FIN\",\"NOR\",\"MYS\",\"ISR\",\"LTU\",\"SRB\",\"SVK\",\"SVN\",\"TUR\",\"VNM\",\"BGR\",\"CZE\",\"DNK\",\"GEO\",\"DEU\",\"HUN\",\"ISL\",\"JPN\",\"KAZ\",\"PRK\",\"KGZ\",\"NLD\",\"POL\",\"ROU\",\"TJK\",\"THA\",\"AZE\",\"MNG\"],\"name\":\"\",\"z\":[0.0,0.0,0.0,0.0,0.0,0.0,0.0,0.0,0.0,0.0,0.0,0.0,0.0,0.0,0.0,0.0,0.0,0.0,0.0,0.0,0.0,0.0,0.0,0.0,0.0,0.0,0.0,0.0,0.0,0.0,0.0,0.0,0.0,0.0,0.0,0.0,0.0,0.0],\"type\":\"choropleth\"}],                        {\"template\":{\"data\":{\"histogram2dcontour\":[{\"type\":\"histogram2dcontour\",\"colorbar\":{\"outlinewidth\":0,\"ticks\":\"\"},\"colorscale\":[[0.0,\"#0d0887\"],[0.1111111111111111,\"#46039f\"],[0.2222222222222222,\"#7201a8\"],[0.3333333333333333,\"#9c179e\"],[0.4444444444444444,\"#bd3786\"],[0.5555555555555556,\"#d8576b\"],[0.6666666666666666,\"#ed7953\"],[0.7777777777777778,\"#fb9f3a\"],[0.8888888888888888,\"#fdca26\"],[1.0,\"#f0f921\"]]}],\"choropleth\":[{\"type\":\"choropleth\",\"colorbar\":{\"outlinewidth\":0,\"ticks\":\"\"}}],\"histogram2d\":[{\"type\":\"histogram2d\",\"colorbar\":{\"outlinewidth\":0,\"ticks\":\"\"},\"colorscale\":[[0.0,\"#0d0887\"],[0.1111111111111111,\"#46039f\"],[0.2222222222222222,\"#7201a8\"],[0.3333333333333333,\"#9c179e\"],[0.4444444444444444,\"#bd3786\"],[0.5555555555555556,\"#d8576b\"],[0.6666666666666666,\"#ed7953\"],[0.7777777777777778,\"#fb9f3a\"],[0.8888888888888888,\"#fdca26\"],[1.0,\"#f0f921\"]]}],\"heatmap\":[{\"type\":\"heatmap\",\"colorbar\":{\"outlinewidth\":0,\"ticks\":\"\"},\"colorscale\":[[0.0,\"#0d0887\"],[0.1111111111111111,\"#46039f\"],[0.2222222222222222,\"#7201a8\"],[0.3333333333333333,\"#9c179e\"],[0.4444444444444444,\"#bd3786\"],[0.5555555555555556,\"#d8576b\"],[0.6666666666666666,\"#ed7953\"],[0.7777777777777778,\"#fb9f3a\"],[0.8888888888888888,\"#fdca26\"],[1.0,\"#f0f921\"]]}],\"heatmapgl\":[{\"type\":\"heatmapgl\",\"colorbar\":{\"outlinewidth\":0,\"ticks\":\"\"},\"colorscale\":[[0.0,\"#0d0887\"],[0.1111111111111111,\"#46039f\"],[0.2222222222222222,\"#7201a8\"],[0.3333333333333333,\"#9c179e\"],[0.4444444444444444,\"#bd3786\"],[0.5555555555555556,\"#d8576b\"],[0.6666666666666666,\"#ed7953\"],[0.7777777777777778,\"#fb9f3a\"],[0.8888888888888888,\"#fdca26\"],[1.0,\"#f0f921\"]]}],\"contourcarpet\":[{\"type\":\"contourcarpet\",\"colorbar\":{\"outlinewidth\":0,\"ticks\":\"\"}}],\"contour\":[{\"type\":\"contour\",\"colorbar\":{\"outlinewidth\":0,\"ticks\":\"\"},\"colorscale\":[[0.0,\"#0d0887\"],[0.1111111111111111,\"#46039f\"],[0.2222222222222222,\"#7201a8\"],[0.3333333333333333,\"#9c179e\"],[0.4444444444444444,\"#bd3786\"],[0.5555555555555556,\"#d8576b\"],[0.6666666666666666,\"#ed7953\"],[0.7777777777777778,\"#fb9f3a\"],[0.8888888888888888,\"#fdca26\"],[1.0,\"#f0f921\"]]}],\"surface\":[{\"type\":\"surface\",\"colorbar\":{\"outlinewidth\":0,\"ticks\":\"\"},\"colorscale\":[[0.0,\"#0d0887\"],[0.1111111111111111,\"#46039f\"],[0.2222222222222222,\"#7201a8\"],[0.3333333333333333,\"#9c179e\"],[0.4444444444444444,\"#bd3786\"],[0.5555555555555556,\"#d8576b\"],[0.6666666666666666,\"#ed7953\"],[0.7777777777777778,\"#fb9f3a\"],[0.8888888888888888,\"#fdca26\"],[1.0,\"#f0f921\"]]}],\"mesh3d\":[{\"type\":\"mesh3d\",\"colorbar\":{\"outlinewidth\":0,\"ticks\":\"\"}}],\"scatter\":[{\"fillpattern\":{\"fillmode\":\"overlay\",\"size\":10,\"solidity\":0.2},\"type\":\"scatter\"}],\"parcoords\":[{\"type\":\"parcoords\",\"line\":{\"colorbar\":{\"outlinewidth\":0,\"ticks\":\"\"}}}],\"scatterpolargl\":[{\"type\":\"scatterpolargl\",\"marker\":{\"colorbar\":{\"outlinewidth\":0,\"ticks\":\"\"}}}],\"bar\":[{\"error_x\":{\"color\":\"#2a3f5f\"},\"error_y\":{\"color\":\"#2a3f5f\"},\"marker\":{\"line\":{\"color\":\"#E5ECF6\",\"width\":0.5},\"pattern\":{\"fillmode\":\"overlay\",\"size\":10,\"solidity\":0.2}},\"type\":\"bar\"}],\"scattergeo\":[{\"type\":\"scattergeo\",\"marker\":{\"colorbar\":{\"outlinewidth\":0,\"ticks\":\"\"}}}],\"scatterpolar\":[{\"type\":\"scatterpolar\",\"marker\":{\"colorbar\":{\"outlinewidth\":0,\"ticks\":\"\"}}}],\"histogram\":[{\"marker\":{\"pattern\":{\"fillmode\":\"overlay\",\"size\":10,\"solidity\":0.2}},\"type\":\"histogram\"}],\"scattergl\":[{\"type\":\"scattergl\",\"marker\":{\"colorbar\":{\"outlinewidth\":0,\"ticks\":\"\"}}}],\"scatter3d\":[{\"type\":\"scatter3d\",\"line\":{\"colorbar\":{\"outlinewidth\":0,\"ticks\":\"\"}},\"marker\":{\"colorbar\":{\"outlinewidth\":0,\"ticks\":\"\"}}}],\"scattermapbox\":[{\"type\":\"scattermapbox\",\"marker\":{\"colorbar\":{\"outlinewidth\":0,\"ticks\":\"\"}}}],\"scatterternary\":[{\"type\":\"scatterternary\",\"marker\":{\"colorbar\":{\"outlinewidth\":0,\"ticks\":\"\"}}}],\"scattercarpet\":[{\"type\":\"scattercarpet\",\"marker\":{\"colorbar\":{\"outlinewidth\":0,\"ticks\":\"\"}}}],\"carpet\":[{\"aaxis\":{\"endlinecolor\":\"#2a3f5f\",\"gridcolor\":\"white\",\"linecolor\":\"white\",\"minorgridcolor\":\"white\",\"startlinecolor\":\"#2a3f5f\"},\"baxis\":{\"endlinecolor\":\"#2a3f5f\",\"gridcolor\":\"white\",\"linecolor\":\"white\",\"minorgridcolor\":\"white\",\"startlinecolor\":\"#2a3f5f\"},\"type\":\"carpet\"}],\"table\":[{\"cells\":{\"fill\":{\"color\":\"#EBF0F8\"},\"line\":{\"color\":\"white\"}},\"header\":{\"fill\":{\"color\":\"#C8D4E3\"},\"line\":{\"color\":\"white\"}},\"type\":\"table\"}],\"barpolar\":[{\"marker\":{\"line\":{\"color\":\"#E5ECF6\",\"width\":0.5},\"pattern\":{\"fillmode\":\"overlay\",\"size\":10,\"solidity\":0.2}},\"type\":\"barpolar\"}],\"pie\":[{\"automargin\":true,\"type\":\"pie\"}]},\"layout\":{\"autotypenumbers\":\"strict\",\"colorway\":[\"#636efa\",\"#EF553B\",\"#00cc96\",\"#ab63fa\",\"#FFA15A\",\"#19d3f3\",\"#FF6692\",\"#B6E880\",\"#FF97FF\",\"#FECB52\"],\"font\":{\"color\":\"#2a3f5f\"},\"hovermode\":\"closest\",\"hoverlabel\":{\"align\":\"left\"},\"paper_bgcolor\":\"white\",\"plot_bgcolor\":\"#E5ECF6\",\"polar\":{\"bgcolor\":\"#E5ECF6\",\"angularaxis\":{\"gridcolor\":\"white\",\"linecolor\":\"white\",\"ticks\":\"\"},\"radialaxis\":{\"gridcolor\":\"white\",\"linecolor\":\"white\",\"ticks\":\"\"}},\"ternary\":{\"bgcolor\":\"#E5ECF6\",\"aaxis\":{\"gridcolor\":\"white\",\"linecolor\":\"white\",\"ticks\":\"\"},\"baxis\":{\"gridcolor\":\"white\",\"linecolor\":\"white\",\"ticks\":\"\"},\"caxis\":{\"gridcolor\":\"white\",\"linecolor\":\"white\",\"ticks\":\"\"}},\"coloraxis\":{\"colorbar\":{\"outlinewidth\":0,\"ticks\":\"\"}},\"colorscale\":{\"sequential\":[[0.0,\"#0d0887\"],[0.1111111111111111,\"#46039f\"],[0.2222222222222222,\"#7201a8\"],[0.3333333333333333,\"#9c179e\"],[0.4444444444444444,\"#bd3786\"],[0.5555555555555556,\"#d8576b\"],[0.6666666666666666,\"#ed7953\"],[0.7777777777777778,\"#fb9f3a\"],[0.8888888888888888,\"#fdca26\"],[1.0,\"#f0f921\"]],\"sequentialminus\":[[0.0,\"#0d0887\"],[0.1111111111111111,\"#46039f\"],[0.2222222222222222,\"#7201a8\"],[0.3333333333333333,\"#9c179e\"],[0.4444444444444444,\"#bd3786\"],[0.5555555555555556,\"#d8576b\"],[0.6666666666666666,\"#ed7953\"],[0.7777777777777778,\"#fb9f3a\"],[0.8888888888888888,\"#fdca26\"],[1.0,\"#f0f921\"]],\"diverging\":[[0,\"#8e0152\"],[0.1,\"#c51b7d\"],[0.2,\"#de77ae\"],[0.3,\"#f1b6da\"],[0.4,\"#fde0ef\"],[0.5,\"#f7f7f7\"],[0.6,\"#e6f5d0\"],[0.7,\"#b8e186\"],[0.8,\"#7fbc41\"],[0.9,\"#4d9221\"],[1,\"#276419\"]]},\"xaxis\":{\"gridcolor\":\"white\",\"linecolor\":\"white\",\"ticks\":\"\",\"title\":{\"standoff\":15},\"zerolinecolor\":\"white\",\"automargin\":true,\"zerolinewidth\":2},\"yaxis\":{\"gridcolor\":\"white\",\"linecolor\":\"white\",\"ticks\":\"\",\"title\":{\"standoff\":15},\"zerolinecolor\":\"white\",\"automargin\":true,\"zerolinewidth\":2},\"scene\":{\"xaxis\":{\"backgroundcolor\":\"#E5ECF6\",\"gridcolor\":\"white\",\"linecolor\":\"white\",\"showbackground\":true,\"ticks\":\"\",\"zerolinecolor\":\"white\",\"gridwidth\":2},\"yaxis\":{\"backgroundcolor\":\"#E5ECF6\",\"gridcolor\":\"white\",\"linecolor\":\"white\",\"showbackground\":true,\"ticks\":\"\",\"zerolinecolor\":\"white\",\"gridwidth\":2},\"zaxis\":{\"backgroundcolor\":\"#E5ECF6\",\"gridcolor\":\"white\",\"linecolor\":\"white\",\"showbackground\":true,\"ticks\":\"\",\"zerolinecolor\":\"white\",\"gridwidth\":2}},\"shapedefaults\":{\"line\":{\"color\":\"#2a3f5f\"}},\"annotationdefaults\":{\"arrowcolor\":\"#2a3f5f\",\"arrowhead\":0,\"arrowwidth\":1},\"geo\":{\"bgcolor\":\"white\",\"landcolor\":\"#E5ECF6\",\"subunitcolor\":\"white\",\"showland\":true,\"showlakes\":true,\"lakecolor\":\"white\"},\"title\":{\"x\":0.05},\"mapbox\":{\"style\":\"light\"}}},\"geo\":{\"domain\":{\"x\":[0.0,1.0],\"y\":[0.0,1.0]},\"center\":{}},\"coloraxis\":{\"colorbar\":{\"title\":{\"text\":\"deaths\"}},\"colorscale\":[[0.0,\"rgb(231, 250, 90)\"],[0.09090909090909091,\"rgb(246, 211, 70)\"],[0.18181818181818182,\"rgb(251, 173, 60)\"],[0.2727272727272727,\"rgb(246, 139, 69)\"],[0.36363636363636365,\"rgb(225, 113, 97)\"],[0.45454545454545453,\"rgb(193, 100, 121)\"],[0.5454545454545454,\"rgb(158, 89, 135)\"],[0.6363636363636364,\"rgb(126, 77, 143)\"],[0.7272727272727273,\"rgb(93, 62, 153)\"],[0.8181818181818182,\"rgb(53, 50, 155)\"],[0.9090909090909091,\"rgb(13, 48, 100)\"],[1.0,\"rgb(3, 35, 51)\"]],\"cmid\":2.010225689884329},\"legend\":{\"tracegroupgap\":0},\"margin\":{\"t\":60},\"updatemenus\":[{\"buttons\":[{\"args\":[null,{\"frame\":{\"duration\":250,\"redraw\":true},\"mode\":\"immediate\",\"fromcurrent\":true,\"transition\":{\"duration\":0,\"easing\":\"linear\"},\"visible\":false}],\"label\":\"&#9654;\",\"method\":\"animate\"},{\"args\":[[null],{\"frame\":{\"duration\":250,\"redraw\":true},\"mode\":\"immediate\",\"fromcurrent\":true,\"transition\":{\"duration\":0,\"easing\":\"linear\"}}],\"label\":\"&#9724;\",\"method\":\"animate\"}],\"direction\":\"left\",\"pad\":{\"r\":10,\"t\":70},\"showactive\":false,\"type\":\"buttons\",\"x\":0.1,\"xanchor\":\"right\",\"y\":0,\"yanchor\":\"top\"}],\"sliders\":[{\"active\":0,\"currentvalue\":{\"prefix\":\"date=\"},\"len\":0.9,\"pad\":{\"b\":10,\"t\":60},\"steps\":[{\"args\":[[\"2020-01-22\"],{\"frame\":{\"duration\":0,\"redraw\":true},\"mode\":\"immediate\",\"fromcurrent\":true,\"transition\":{\"duration\":0,\"easing\":\"linear\"}}],\"label\":\"2020-01-22\",\"method\":\"animate\"},{\"args\":[[\"2020-02-01\"],{\"frame\":{\"duration\":0,\"redraw\":true},\"mode\":\"immediate\",\"fromcurrent\":true,\"transition\":{\"duration\":0,\"easing\":\"linear\"}}],\"label\":\"2020-02-01\",\"method\":\"animate\"},{\"args\":[[\"2020-02-11\"],{\"frame\":{\"duration\":0,\"redraw\":true},\"mode\":\"immediate\",\"fromcurrent\":true,\"transition\":{\"duration\":0,\"easing\":\"linear\"}}],\"label\":\"2020-02-11\",\"method\":\"animate\"},{\"args\":[[\"2020-02-21\"],{\"frame\":{\"duration\":0,\"redraw\":true},\"mode\":\"immediate\",\"fromcurrent\":true,\"transition\":{\"duration\":0,\"easing\":\"linear\"}}],\"label\":\"2020-02-21\",\"method\":\"animate\"},{\"args\":[[\"2020-03-02\"],{\"frame\":{\"duration\":0,\"redraw\":true},\"mode\":\"immediate\",\"fromcurrent\":true,\"transition\":{\"duration\":0,\"easing\":\"linear\"}}],\"label\":\"2020-03-02\",\"method\":\"animate\"},{\"args\":[[\"2020-03-12\"],{\"frame\":{\"duration\":0,\"redraw\":true},\"mode\":\"immediate\",\"fromcurrent\":true,\"transition\":{\"duration\":0,\"easing\":\"linear\"}}],\"label\":\"2020-03-12\",\"method\":\"animate\"},{\"args\":[[\"2020-03-22\"],{\"frame\":{\"duration\":0,\"redraw\":true},\"mode\":\"immediate\",\"fromcurrent\":true,\"transition\":{\"duration\":0,\"easing\":\"linear\"}}],\"label\":\"2020-03-22\",\"method\":\"animate\"},{\"args\":[[\"2020-04-01\"],{\"frame\":{\"duration\":0,\"redraw\":true},\"mode\":\"immediate\",\"fromcurrent\":true,\"transition\":{\"duration\":0,\"easing\":\"linear\"}}],\"label\":\"2020-04-01\",\"method\":\"animate\"},{\"args\":[[\"2020-04-11\"],{\"frame\":{\"duration\":0,\"redraw\":true},\"mode\":\"immediate\",\"fromcurrent\":true,\"transition\":{\"duration\":0,\"easing\":\"linear\"}}],\"label\":\"2020-04-11\",\"method\":\"animate\"},{\"args\":[[\"2020-04-21\"],{\"frame\":{\"duration\":0,\"redraw\":true},\"mode\":\"immediate\",\"fromcurrent\":true,\"transition\":{\"duration\":0,\"easing\":\"linear\"}}],\"label\":\"2020-04-21\",\"method\":\"animate\"},{\"args\":[[\"2020-05-01\"],{\"frame\":{\"duration\":0,\"redraw\":true},\"mode\":\"immediate\",\"fromcurrent\":true,\"transition\":{\"duration\":0,\"easing\":\"linear\"}}],\"label\":\"2020-05-01\",\"method\":\"animate\"},{\"args\":[[\"2020-05-11\"],{\"frame\":{\"duration\":0,\"redraw\":true},\"mode\":\"immediate\",\"fromcurrent\":true,\"transition\":{\"duration\":0,\"easing\":\"linear\"}}],\"label\":\"2020-05-11\",\"method\":\"animate\"},{\"args\":[[\"2020-05-21\"],{\"frame\":{\"duration\":0,\"redraw\":true},\"mode\":\"immediate\",\"fromcurrent\":true,\"transition\":{\"duration\":0,\"easing\":\"linear\"}}],\"label\":\"2020-05-21\",\"method\":\"animate\"},{\"args\":[[\"2020-05-31\"],{\"frame\":{\"duration\":0,\"redraw\":true},\"mode\":\"immediate\",\"fromcurrent\":true,\"transition\":{\"duration\":0,\"easing\":\"linear\"}}],\"label\":\"2020-05-31\",\"method\":\"animate\"},{\"args\":[[\"2020-06-10\"],{\"frame\":{\"duration\":0,\"redraw\":true},\"mode\":\"immediate\",\"fromcurrent\":true,\"transition\":{\"duration\":0,\"easing\":\"linear\"}}],\"label\":\"2020-06-10\",\"method\":\"animate\"},{\"args\":[[\"2020-06-20\"],{\"frame\":{\"duration\":0,\"redraw\":true},\"mode\":\"immediate\",\"fromcurrent\":true,\"transition\":{\"duration\":0,\"easing\":\"linear\"}}],\"label\":\"2020-06-20\",\"method\":\"animate\"},{\"args\":[[\"2020-06-30\"],{\"frame\":{\"duration\":0,\"redraw\":true},\"mode\":\"immediate\",\"fromcurrent\":true,\"transition\":{\"duration\":0,\"easing\":\"linear\"}}],\"label\":\"2020-06-30\",\"method\":\"animate\"},{\"args\":[[\"2020-07-10\"],{\"frame\":{\"duration\":0,\"redraw\":true},\"mode\":\"immediate\",\"fromcurrent\":true,\"transition\":{\"duration\":0,\"easing\":\"linear\"}}],\"label\":\"2020-07-10\",\"method\":\"animate\"},{\"args\":[[\"2020-07-20\"],{\"frame\":{\"duration\":0,\"redraw\":true},\"mode\":\"immediate\",\"fromcurrent\":true,\"transition\":{\"duration\":0,\"easing\":\"linear\"}}],\"label\":\"2020-07-20\",\"method\":\"animate\"},{\"args\":[[\"2020-07-30\"],{\"frame\":{\"duration\":0,\"redraw\":true},\"mode\":\"immediate\",\"fromcurrent\":true,\"transition\":{\"duration\":0,\"easing\":\"linear\"}}],\"label\":\"2020-07-30\",\"method\":\"animate\"},{\"args\":[[\"2020-08-09\"],{\"frame\":{\"duration\":0,\"redraw\":true},\"mode\":\"immediate\",\"fromcurrent\":true,\"transition\":{\"duration\":0,\"easing\":\"linear\"}}],\"label\":\"2020-08-09\",\"method\":\"animate\"},{\"args\":[[\"2020-08-19\"],{\"frame\":{\"duration\":0,\"redraw\":true},\"mode\":\"immediate\",\"fromcurrent\":true,\"transition\":{\"duration\":0,\"easing\":\"linear\"}}],\"label\":\"2020-08-19\",\"method\":\"animate\"},{\"args\":[[\"2020-08-29\"],{\"frame\":{\"duration\":0,\"redraw\":true},\"mode\":\"immediate\",\"fromcurrent\":true,\"transition\":{\"duration\":0,\"easing\":\"linear\"}}],\"label\":\"2020-08-29\",\"method\":\"animate\"},{\"args\":[[\"2020-09-08\"],{\"frame\":{\"duration\":0,\"redraw\":true},\"mode\":\"immediate\",\"fromcurrent\":true,\"transition\":{\"duration\":0,\"easing\":\"linear\"}}],\"label\":\"2020-09-08\",\"method\":\"animate\"},{\"args\":[[\"2020-09-18\"],{\"frame\":{\"duration\":0,\"redraw\":true},\"mode\":\"immediate\",\"fromcurrent\":true,\"transition\":{\"duration\":0,\"easing\":\"linear\"}}],\"label\":\"2020-09-18\",\"method\":\"animate\"},{\"args\":[[\"2020-09-28\"],{\"frame\":{\"duration\":0,\"redraw\":true},\"mode\":\"immediate\",\"fromcurrent\":true,\"transition\":{\"duration\":0,\"easing\":\"linear\"}}],\"label\":\"2020-09-28\",\"method\":\"animate\"},{\"args\":[[\"2020-10-08\"],{\"frame\":{\"duration\":0,\"redraw\":true},\"mode\":\"immediate\",\"fromcurrent\":true,\"transition\":{\"duration\":0,\"easing\":\"linear\"}}],\"label\":\"2020-10-08\",\"method\":\"animate\"},{\"args\":[[\"2020-10-18\"],{\"frame\":{\"duration\":0,\"redraw\":true},\"mode\":\"immediate\",\"fromcurrent\":true,\"transition\":{\"duration\":0,\"easing\":\"linear\"}}],\"label\":\"2020-10-18\",\"method\":\"animate\"},{\"args\":[[\"2020-10-28\"],{\"frame\":{\"duration\":0,\"redraw\":true},\"mode\":\"immediate\",\"fromcurrent\":true,\"transition\":{\"duration\":0,\"easing\":\"linear\"}}],\"label\":\"2020-10-28\",\"method\":\"animate\"},{\"args\":[[\"2020-11-07\"],{\"frame\":{\"duration\":0,\"redraw\":true},\"mode\":\"immediate\",\"fromcurrent\":true,\"transition\":{\"duration\":0,\"easing\":\"linear\"}}],\"label\":\"2020-11-07\",\"method\":\"animate\"},{\"args\":[[\"2020-11-17\"],{\"frame\":{\"duration\":0,\"redraw\":true},\"mode\":\"immediate\",\"fromcurrent\":true,\"transition\":{\"duration\":0,\"easing\":\"linear\"}}],\"label\":\"2020-11-17\",\"method\":\"animate\"},{\"args\":[[\"2020-11-27\"],{\"frame\":{\"duration\":0,\"redraw\":true},\"mode\":\"immediate\",\"fromcurrent\":true,\"transition\":{\"duration\":0,\"easing\":\"linear\"}}],\"label\":\"2020-11-27\",\"method\":\"animate\"},{\"args\":[[\"2020-12-07\"],{\"frame\":{\"duration\":0,\"redraw\":true},\"mode\":\"immediate\",\"fromcurrent\":true,\"transition\":{\"duration\":0,\"easing\":\"linear\"}}],\"label\":\"2020-12-07\",\"method\":\"animate\"},{\"args\":[[\"2020-12-17\"],{\"frame\":{\"duration\":0,\"redraw\":true},\"mode\":\"immediate\",\"fromcurrent\":true,\"transition\":{\"duration\":0,\"easing\":\"linear\"}}],\"label\":\"2020-12-17\",\"method\":\"animate\"},{\"args\":[[\"2020-12-27\"],{\"frame\":{\"duration\":0,\"redraw\":true},\"mode\":\"immediate\",\"fromcurrent\":true,\"transition\":{\"duration\":0,\"easing\":\"linear\"}}],\"label\":\"2020-12-27\",\"method\":\"animate\"},{\"args\":[[\"2021-01-06\"],{\"frame\":{\"duration\":0,\"redraw\":true},\"mode\":\"immediate\",\"fromcurrent\":true,\"transition\":{\"duration\":0,\"easing\":\"linear\"}}],\"label\":\"2021-01-06\",\"method\":\"animate\"},{\"args\":[[\"2021-01-16\"],{\"frame\":{\"duration\":0,\"redraw\":true},\"mode\":\"immediate\",\"fromcurrent\":true,\"transition\":{\"duration\":0,\"easing\":\"linear\"}}],\"label\":\"2021-01-16\",\"method\":\"animate\"},{\"args\":[[\"2021-01-26\"],{\"frame\":{\"duration\":0,\"redraw\":true},\"mode\":\"immediate\",\"fromcurrent\":true,\"transition\":{\"duration\":0,\"easing\":\"linear\"}}],\"label\":\"2021-01-26\",\"method\":\"animate\"},{\"args\":[[\"2021-02-05\"],{\"frame\":{\"duration\":0,\"redraw\":true},\"mode\":\"immediate\",\"fromcurrent\":true,\"transition\":{\"duration\":0,\"easing\":\"linear\"}}],\"label\":\"2021-02-05\",\"method\":\"animate\"},{\"args\":[[\"2021-02-15\"],{\"frame\":{\"duration\":0,\"redraw\":true},\"mode\":\"immediate\",\"fromcurrent\":true,\"transition\":{\"duration\":0,\"easing\":\"linear\"}}],\"label\":\"2021-02-15\",\"method\":\"animate\"},{\"args\":[[\"2021-02-25\"],{\"frame\":{\"duration\":0,\"redraw\":true},\"mode\":\"immediate\",\"fromcurrent\":true,\"transition\":{\"duration\":0,\"easing\":\"linear\"}}],\"label\":\"2021-02-25\",\"method\":\"animate\"},{\"args\":[[\"2021-03-07\"],{\"frame\":{\"duration\":0,\"redraw\":true},\"mode\":\"immediate\",\"fromcurrent\":true,\"transition\":{\"duration\":0,\"easing\":\"linear\"}}],\"label\":\"2021-03-07\",\"method\":\"animate\"},{\"args\":[[\"2021-03-17\"],{\"frame\":{\"duration\":0,\"redraw\":true},\"mode\":\"immediate\",\"fromcurrent\":true,\"transition\":{\"duration\":0,\"easing\":\"linear\"}}],\"label\":\"2021-03-17\",\"method\":\"animate\"},{\"args\":[[\"2021-03-27\"],{\"frame\":{\"duration\":0,\"redraw\":true},\"mode\":\"immediate\",\"fromcurrent\":true,\"transition\":{\"duration\":0,\"easing\":\"linear\"}}],\"label\":\"2021-03-27\",\"method\":\"animate\"},{\"args\":[[\"2021-04-06\"],{\"frame\":{\"duration\":0,\"redraw\":true},\"mode\":\"immediate\",\"fromcurrent\":true,\"transition\":{\"duration\":0,\"easing\":\"linear\"}}],\"label\":\"2021-04-06\",\"method\":\"animate\"},{\"args\":[[\"2021-04-16\"],{\"frame\":{\"duration\":0,\"redraw\":true},\"mode\":\"immediate\",\"fromcurrent\":true,\"transition\":{\"duration\":0,\"easing\":\"linear\"}}],\"label\":\"2021-04-16\",\"method\":\"animate\"},{\"args\":[[\"2021-04-26\"],{\"frame\":{\"duration\":0,\"redraw\":true},\"mode\":\"immediate\",\"fromcurrent\":true,\"transition\":{\"duration\":0,\"easing\":\"linear\"}}],\"label\":\"2021-04-26\",\"method\":\"animate\"},{\"args\":[[\"2021-05-06\"],{\"frame\":{\"duration\":0,\"redraw\":true},\"mode\":\"immediate\",\"fromcurrent\":true,\"transition\":{\"duration\":0,\"easing\":\"linear\"}}],\"label\":\"2021-05-06\",\"method\":\"animate\"},{\"args\":[[\"2021-05-16\"],{\"frame\":{\"duration\":0,\"redraw\":true},\"mode\":\"immediate\",\"fromcurrent\":true,\"transition\":{\"duration\":0,\"easing\":\"linear\"}}],\"label\":\"2021-05-16\",\"method\":\"animate\"},{\"args\":[[\"2021-05-26\"],{\"frame\":{\"duration\":0,\"redraw\":true},\"mode\":\"immediate\",\"fromcurrent\":true,\"transition\":{\"duration\":0,\"easing\":\"linear\"}}],\"label\":\"2021-05-26\",\"method\":\"animate\"},{\"args\":[[\"2021-06-05\"],{\"frame\":{\"duration\":0,\"redraw\":true},\"mode\":\"immediate\",\"fromcurrent\":true,\"transition\":{\"duration\":0,\"easing\":\"linear\"}}],\"label\":\"2021-06-05\",\"method\":\"animate\"},{\"args\":[[\"2021-06-15\"],{\"frame\":{\"duration\":0,\"redraw\":true},\"mode\":\"immediate\",\"fromcurrent\":true,\"transition\":{\"duration\":0,\"easing\":\"linear\"}}],\"label\":\"2021-06-15\",\"method\":\"animate\"},{\"args\":[[\"2021-06-25\"],{\"frame\":{\"duration\":0,\"redraw\":true},\"mode\":\"immediate\",\"fromcurrent\":true,\"transition\":{\"duration\":0,\"easing\":\"linear\"}}],\"label\":\"2021-06-25\",\"method\":\"animate\"},{\"args\":[[\"2021-07-05\"],{\"frame\":{\"duration\":0,\"redraw\":true},\"mode\":\"immediate\",\"fromcurrent\":true,\"transition\":{\"duration\":0,\"easing\":\"linear\"}}],\"label\":\"2021-07-05\",\"method\":\"animate\"},{\"args\":[[\"2021-07-15\"],{\"frame\":{\"duration\":0,\"redraw\":true},\"mode\":\"immediate\",\"fromcurrent\":true,\"transition\":{\"duration\":0,\"easing\":\"linear\"}}],\"label\":\"2021-07-15\",\"method\":\"animate\"},{\"args\":[[\"2021-07-25\"],{\"frame\":{\"duration\":0,\"redraw\":true},\"mode\":\"immediate\",\"fromcurrent\":true,\"transition\":{\"duration\":0,\"easing\":\"linear\"}}],\"label\":\"2021-07-25\",\"method\":\"animate\"},{\"args\":[[\"2021-08-04\"],{\"frame\":{\"duration\":0,\"redraw\":true},\"mode\":\"immediate\",\"fromcurrent\":true,\"transition\":{\"duration\":0,\"easing\":\"linear\"}}],\"label\":\"2021-08-04\",\"method\":\"animate\"},{\"args\":[[\"2021-08-14\"],{\"frame\":{\"duration\":0,\"redraw\":true},\"mode\":\"immediate\",\"fromcurrent\":true,\"transition\":{\"duration\":0,\"easing\":\"linear\"}}],\"label\":\"2021-08-14\",\"method\":\"animate\"},{\"args\":[[\"2021-08-24\"],{\"frame\":{\"duration\":0,\"redraw\":true},\"mode\":\"immediate\",\"fromcurrent\":true,\"transition\":{\"duration\":0,\"easing\":\"linear\"}}],\"label\":\"2021-08-24\",\"method\":\"animate\"},{\"args\":[[\"2021-09-03\"],{\"frame\":{\"duration\":0,\"redraw\":true},\"mode\":\"immediate\",\"fromcurrent\":true,\"transition\":{\"duration\":0,\"easing\":\"linear\"}}],\"label\":\"2021-09-03\",\"method\":\"animate\"},{\"args\":[[\"2021-09-13\"],{\"frame\":{\"duration\":0,\"redraw\":true},\"mode\":\"immediate\",\"fromcurrent\":true,\"transition\":{\"duration\":0,\"easing\":\"linear\"}}],\"label\":\"2021-09-13\",\"method\":\"animate\"},{\"args\":[[\"2021-09-23\"],{\"frame\":{\"duration\":0,\"redraw\":true},\"mode\":\"immediate\",\"fromcurrent\":true,\"transition\":{\"duration\":0,\"easing\":\"linear\"}}],\"label\":\"2021-09-23\",\"method\":\"animate\"},{\"args\":[[\"2021-10-03\"],{\"frame\":{\"duration\":0,\"redraw\":true},\"mode\":\"immediate\",\"fromcurrent\":true,\"transition\":{\"duration\":0,\"easing\":\"linear\"}}],\"label\":\"2021-10-03\",\"method\":\"animate\"},{\"args\":[[\"2021-10-13\"],{\"frame\":{\"duration\":0,\"redraw\":true},\"mode\":\"immediate\",\"fromcurrent\":true,\"transition\":{\"duration\":0,\"easing\":\"linear\"}}],\"label\":\"2021-10-13\",\"method\":\"animate\"},{\"args\":[[\"2021-10-23\"],{\"frame\":{\"duration\":0,\"redraw\":true},\"mode\":\"immediate\",\"fromcurrent\":true,\"transition\":{\"duration\":0,\"easing\":\"linear\"}}],\"label\":\"2021-10-23\",\"method\":\"animate\"},{\"args\":[[\"2021-11-02\"],{\"frame\":{\"duration\":0,\"redraw\":true},\"mode\":\"immediate\",\"fromcurrent\":true,\"transition\":{\"duration\":0,\"easing\":\"linear\"}}],\"label\":\"2021-11-02\",\"method\":\"animate\"},{\"args\":[[\"2021-11-12\"],{\"frame\":{\"duration\":0,\"redraw\":true},\"mode\":\"immediate\",\"fromcurrent\":true,\"transition\":{\"duration\":0,\"easing\":\"linear\"}}],\"label\":\"2021-11-12\",\"method\":\"animate\"},{\"args\":[[\"2021-11-22\"],{\"frame\":{\"duration\":0,\"redraw\":true},\"mode\":\"immediate\",\"fromcurrent\":true,\"transition\":{\"duration\":0,\"easing\":\"linear\"}}],\"label\":\"2021-11-22\",\"method\":\"animate\"},{\"args\":[[\"2021-12-02\"],{\"frame\":{\"duration\":0,\"redraw\":true},\"mode\":\"immediate\",\"fromcurrent\":true,\"transition\":{\"duration\":0,\"easing\":\"linear\"}}],\"label\":\"2021-12-02\",\"method\":\"animate\"},{\"args\":[[\"2021-12-12\"],{\"frame\":{\"duration\":0,\"redraw\":true},\"mode\":\"immediate\",\"fromcurrent\":true,\"transition\":{\"duration\":0,\"easing\":\"linear\"}}],\"label\":\"2021-12-12\",\"method\":\"animate\"},{\"args\":[[\"2021-12-22\"],{\"frame\":{\"duration\":0,\"redraw\":true},\"mode\":\"immediate\",\"fromcurrent\":true,\"transition\":{\"duration\":0,\"easing\":\"linear\"}}],\"label\":\"2021-12-22\",\"method\":\"animate\"}],\"x\":0.1,\"xanchor\":\"left\",\"y\":0,\"yanchor\":\"top\"}],\"title\":{\"font\":{\"size\":18,\"color\":\"red\"},\"text\":\"Number of death of COVID-19 by Date\",\"x\":0.5,\"y\":1},\"transition\":{\"duration\":10}},                        {\"responsive\": true}                    ).then(function(){\n",
       "                            Plotly.addFrames('3efc265d-23d2-4463-9b54-f67ac7c01a52', [{\"data\":[{\"coloraxis\":\"coloraxis\",\"geo\":\"geo\",\"hovertemplate\":\"date=2020-01-22<br>Country_code=%{location}<br>deaths=%{z}<extra></extra>\",\"locations\":[\"ITA\",\"RUS\",\"CHN\",\"ALB\",\"BGD\",\"BWA\",\"KHM\",\"HRV\",\"GRC\",\"SWE\",\"FIN\",\"NOR\",\"MYS\",\"ISR\",\"LTU\",\"SRB\",\"SVK\",\"SVN\",\"TUR\",\"VNM\",\"BGR\",\"CZE\",\"DNK\",\"GEO\",\"DEU\",\"HUN\",\"ISL\",\"JPN\",\"KAZ\",\"PRK\",\"KGZ\",\"NLD\",\"POL\",\"ROU\",\"TJK\",\"THA\",\"AZE\",\"MNG\"],\"name\":\"\",\"z\":[0.0,0.0,0.0,0.0,0.0,0.0,0.0,0.0,0.0,0.0,0.0,0.0,0.0,0.0,0.0,0.0,0.0,0.0,0.0,0.0,0.0,0.0,0.0,0.0,0.0,0.0,0.0,0.0,0.0,0.0,0.0,0.0,0.0,0.0,0.0,0.0,0.0,0.0],\"type\":\"choropleth\"}],\"name\":\"2020-01-22\"},{\"data\":[{\"coloraxis\":\"coloraxis\",\"geo\":\"geo\",\"hovertemplate\":\"date=2020-02-01<br>Country_code=%{location}<br>deaths=%{z}<extra></extra>\",\"locations\":[\"ITA\",\"RUS\",\"CHN\",\"ALB\",\"BGD\",\"BWA\",\"KHM\",\"HRV\",\"GRC\",\"SWE\",\"FIN\",\"NOR\",\"MYS\",\"ISR\",\"LTU\",\"SRB\",\"SVK\",\"SVN\",\"TUR\",\"VNM\",\"BGR\",\"CZE\",\"DNK\",\"GEO\",\"DEU\",\"HUN\",\"ISL\",\"JPN\",\"KAZ\",\"PRK\",\"KGZ\",\"NLD\",\"POL\",\"ROU\",\"TJK\",\"THA\",\"AZE\",\"MNG\"],\"name\":\"\",\"z\":[0.0,0.0,0.0032598681879384877,0.0,0.0,0.0,0.0,0.0,0.0,0.0,0.0,0.0,0.0,0.0,0.0,0.0,0.0,0.0,0.0,0.0,0.0,0.0,0.0,0.0,0.0,0.0,0.0,0.0,0.0,0.0,0.0,0.0,0.0,0.0,0.0,0.0,0.0,0.0],\"type\":\"choropleth\"}],\"name\":\"2020-02-01\"},{\"data\":[{\"coloraxis\":\"coloraxis\",\"geo\":\"geo\",\"hovertemplate\":\"date=2020-02-11<br>Country_code=%{location}<br>deaths=%{z}<extra></extra>\",\"locations\":[\"ITA\",\"RUS\",\"CHN\",\"ALB\",\"BGD\",\"BWA\",\"KHM\",\"HRV\",\"GRC\",\"SWE\",\"FIN\",\"NOR\",\"MYS\",\"ISR\",\"LTU\",\"SRB\",\"SVK\",\"SVN\",\"TUR\",\"VNM\",\"BGR\",\"CZE\",\"DNK\",\"GEO\",\"DEU\",\"HUN\",\"ISL\",\"JPN\",\"KAZ\",\"PRK\",\"KGZ\",\"NLD\",\"POL\",\"ROU\",\"TJK\",\"THA\",\"AZE\",\"MNG\"],\"name\":\"\",\"z\":[0.0,0.0,0.007086669973779321,0.0,0.0,0.0,0.0,0.0,0.0,0.0,0.0,0.0,0.0,0.0,0.0,0.0,0.0,0.0,0.0,0.0,0.0,0.0,0.0,0.0,0.0,0.0,0.0,0.0,0.0,0.0,0.0,0.0,0.0,0.0,0.0,0.0,0.0,0.0],\"type\":\"choropleth\"}],\"name\":\"2020-02-11\"},{\"data\":[{\"coloraxis\":\"coloraxis\",\"geo\":\"geo\",\"hovertemplate\":\"date=2020-02-21<br>Country_code=%{location}<br>deaths=%{z}<extra></extra>\",\"locations\":[\"ITA\",\"RUS\",\"CHN\",\"ALB\",\"BGD\",\"BWA\",\"KHM\",\"HRV\",\"GRC\",\"SWE\",\"FIN\",\"NOR\",\"MYS\",\"ISR\",\"LTU\",\"SRB\",\"SVK\",\"SVN\",\"TUR\",\"VNM\",\"BGR\",\"CZE\",\"DNK\",\"GEO\",\"DEU\",\"HUN\",\"ISL\",\"JPN\",\"KAZ\",\"PRK\",\"KGZ\",\"NLD\",\"POL\",\"ROU\",\"TJK\",\"THA\",\"AZE\",\"MNG\"],\"name\":\"\",\"z\":[0.0016820991696031493,0.0,0.0,0.0,0.0,0.0,0.0,0.0,0.0,0.0,0.0,0.0,0.0,0.0,0.0,0.0,0.0,0.0,0.0,0.0,0.0,0.0,0.0,0.0,0.0,0.0,0.0,0.0,0.0,0.0019291523059765197,0.0,0.0,0.0,0.0,0.0,0.0,0.0,0.0],\"type\":\"choropleth\"}],\"name\":\"2020-02-21\"},{\"data\":[{\"coloraxis\":\"coloraxis\",\"geo\":\"geo\",\"hovertemplate\":\"date=2020-03-02<br>Country_code=%{location}<br>deaths=%{z}<extra></extra>\",\"locations\":[\"ITA\",\"RUS\",\"CHN\",\"ALB\",\"BGD\",\"BWA\",\"KHM\",\"HRV\",\"GRC\",\"SWE\",\"FIN\",\"NOR\",\"MYS\",\"ISR\",\"LTU\",\"SRB\",\"SVK\",\"SVN\",\"TUR\",\"VNM\",\"BGR\",\"CZE\",\"DNK\",\"GEO\",\"DEU\",\"HUN\",\"ISL\",\"JPN\",\"KAZ\",\"PRK\",\"KGZ\",\"NLD\",\"POL\",\"ROU\",\"TJK\",\"THA\",\"AZE\",\"MNG\"],\"name\":\"\",\"z\":[0.030277785052856686,0.0,0.002976401388987315,0.0,0.0,0.0,0.0,0.0,0.0,0.0,0.0,0.0,0.0,0.0,0.0,0.0,0.0,0.0,0.0,0.0,0.0,0.0,0.0,0.0,0.0,0.0,0.0,0.0,0.0,0.021220675365741716,0.0,0.0,0.0,0.0,0.0,0.0,0.0,0.0],\"type\":\"choropleth\"}],\"name\":\"2020-03-02\"},{\"data\":[{\"coloraxis\":\"coloraxis\",\"geo\":\"geo\",\"hovertemplate\":\"date=2020-03-12<br>Country_code=%{location}<br>deaths=%{z}<extra></extra>\",\"locations\":[\"ITA\",\"RUS\",\"CHN\",\"ALB\",\"BGD\",\"BWA\",\"KHM\",\"HRV\",\"GRC\",\"SWE\",\"FIN\",\"NOR\",\"MYS\",\"ISR\",\"LTU\",\"SRB\",\"SVK\",\"SVN\",\"TUR\",\"VNM\",\"BGR\",\"CZE\",\"DNK\",\"GEO\",\"DEU\",\"HUN\",\"ISL\",\"JPN\",\"KAZ\",\"PRK\",\"KGZ\",\"NLD\",\"POL\",\"ROU\",\"TJK\",\"THA\",\"AZE\",\"MNG\"],\"name\":\"\",\"z\":[0.3179167430549952,0.0,0.0007795336971157254,0.0,0.0,0.0,0.0,0.0,0.0,0.00965862367317072,0.0,0.0,0.0,0.0,0.0,0.0,0.0,0.0,0.0,0.0,0.0,0.0,0.0,0.0,0.0024049772157869777,0.0,0.0,0.0031680408043655603,0.0,0.011574913835859119,0.0,0.0,0.0026385871737749766,0.0,0.0,0.0,0.0,0.0],\"type\":\"choropleth\"}],\"name\":\"2020-03-12\"},{\"data\":[{\"coloraxis\":\"coloraxis\",\"geo\":\"geo\",\"hovertemplate\":\"date=2020-03-22<br>Country_code=%{location}<br>deaths=%{z}<extra></extra>\",\"locations\":[\"ITA\",\"RUS\",\"CHN\",\"ALB\",\"BGD\",\"BWA\",\"KHM\",\"HRV\",\"GRC\",\"SWE\",\"FIN\",\"NOR\",\"MYS\",\"ISR\",\"LTU\",\"SRB\",\"SVK\",\"SVN\",\"TUR\",\"VNM\",\"BGR\",\"CZE\",\"DNK\",\"GEO\",\"DEU\",\"HUN\",\"ISL\",\"JPN\",\"KAZ\",\"PRK\",\"KGZ\",\"NLD\",\"POL\",\"ROU\",\"TJK\",\"THA\",\"AZE\",\"MNG\"],\"name\":\"\",\"z\":[1.09504655941165,0.0,0.0010630004960668982,0.0,0.0,0.0,0.0,0.0,0.01869061757164768,0.1062448604048779,0.036169354320962875,0.0,0.012358648727593692,0.0,0.0,0.014494589604538316,0.0,0.04756425812361855,0.02489949290048466,0.0,0.0,0.00934766567288517,0.0,0.0,0.00961990886314791,0.02051250703963601,0.0,0.0031680408043655603,0.0,0.017362370753788676,0.0,0.24653842846085486,0.005277174347549953,0.015578329919948156,0.0,0.0,0.0,0.0],\"type\":\"choropleth\"}],\"name\":\"2020-03-22\"},{\"data\":[{\"coloraxis\":\"coloraxis\",\"geo\":\"geo\",\"hovertemplate\":\"date=2020-04-01<br>Country_code=%{location}<br>deaths=%{z}<extra></extra>\",\"locations\":[\"ITA\",\"RUS\",\"CHN\",\"ALB\",\"BGD\",\"BWA\",\"KHM\",\"HRV\",\"GRC\",\"SWE\",\"FIN\",\"NOR\",\"MYS\",\"ISR\",\"LTU\",\"SRB\",\"SVK\",\"SVN\",\"TUR\",\"VNM\",\"BGR\",\"CZE\",\"DNK\",\"GEO\",\"DEU\",\"HUN\",\"ISL\",\"JPN\",\"KAZ\",\"PRK\",\"KGZ\",\"NLD\",\"POL\",\"ROU\",\"TJK\",\"THA\",\"AZE\",\"MNG\"],\"name\":\"\",\"z\":[1.2228860963014896,0.004858643358912309,0.000637800297640139,0.0,0.0006072036835549988,0.0,0.0,0.0,0.0,0.6761036571219503,0.12659274012337005,0.09294587297087542,0.006179324363796846,0.08681403348851342,0.07155929492626709,0.17393507525445975,0.01831895387049269,0.0,0.07469847870145398,0.0,0.028843318048778377,0.07478132538308135,0.2400794045482014,0.0,0.17917080257612983,0.04102501407927202,0.0,0.00396005100545695,0.005331722157986819,0.0057874569179295595,0.0,0.7740159963305909,0.026385871737749762,0.051927766399827185,0.0,0.0028653304160067214,0.0,0.0],\"type\":\"choropleth\"}],\"name\":\"2020-04-01\"},{\"data\":[{\"coloraxis\":\"coloraxis\",\"geo\":\"geo\",\"hovertemplate\":\"date=2020-04-11<br>Country_code=%{location}<br>deaths=%{z}<extra></extra>\",\"locations\":[\"ITA\",\"RUS\",\"CHN\",\"ALB\",\"BGD\",\"BWA\",\"KHM\",\"HRV\",\"GRC\",\"SWE\",\"FIN\",\"NOR\",\"MYS\",\"ISR\",\"LTU\",\"SRB\",\"SVK\",\"SVN\",\"TUR\",\"VNM\",\"BGR\",\"CZE\",\"DNK\",\"GEO\",\"DEU\",\"HUN\",\"ISL\",\"JPN\",\"KAZ\",\"PRK\",\"KGZ\",\"NLD\",\"POL\",\"ROU\",\"TJK\",\"THA\",\"AZE\",\"MNG\"],\"name\":\"\",\"z\":[1.0412193859843493,0.00832910290099253,0.00042520019842675927,0.0,0.0018216110506649962,0.0,0.0,0.0,0.028035926357471517,0.16419660244390225,0.0542540314814443,0.11153504756505049,0.00926898654569527,0.06511052511638507,0.03577964746313354,0.04348376881361494,0.0,0.2378212906180928,0.11264056312124013,0.0,0.043264977073167565,0.09347665672885169,0.2229308756519013,0.0,0.2056255519497866,0.08205002815854404,0.27287884452182076,0.01029613261418807,0.0,0.0057874569179295595,0.0,0.7625490926812487,0.07124185369192436,0.10904830943963709,0.0,0.0028653304160067214,0.009907738151558869,0.0],\"type\":\"choropleth\"}],\"name\":\"2020-04-11\"},{\"data\":[{\"coloraxis\":\"coloraxis\",\"geo\":\"geo\",\"hovertemplate\":\"date=2020-04-21<br>Country_code=%{location}<br>deaths=%{z}<extra></extra>\",\"locations\":[\"ITA\",\"RUS\",\"CHN\",\"ALB\",\"BGD\",\"BWA\",\"KHM\",\"HRV\",\"GRC\",\"SWE\",\"FIN\",\"NOR\",\"MYS\",\"ISR\",\"LTU\",\"SRB\",\"SVK\",\"SVN\",\"TUR\",\"VNM\",\"BGR\",\"CZE\",\"DNK\",\"GEO\",\"DEU\",\"HUN\",\"ISL\",\"JPN\",\"KAZ\",\"PRK\",\"KGZ\",\"NLD\",\"POL\",\"ROU\",\"TJK\",\"THA\",\"AZE\",\"MNG\"],\"name\":\"\",\"z\":[0.8982409565680817,0.035398687329218255,0.00021260009921337964,0.0,0.005464833151994989,0.0,0.0,0.024705510317021107,0.0467265439291192,1.786845379536583,0.3074395117281844,0.018589174594175084,0.006179324363796846,0.09766578767457759,0.0,0.07247294802269157,0.01831895387049269,0.0,0.14109712643607975,0.0,0.028843318048778377,0.0654336597101962,0.1028911733778006,0.0,0.23328278993133683,0.14358754927745207,0.0,0.02217628563055892,0.0,0.0019291523059765197,0.0,0.946019551070722,0.0554103306492745,0.10385553279965437,0.0,0.0028653304160067214,0.009907738151558869,0.0],\"type\":\"choropleth\"}],\"name\":\"2020-04-21\"},{\"data\":[{\"coloraxis\":\"coloraxis\",\"geo\":\"geo\",\"hovertemplate\":\"date=2020-05-01<br>Country_code=%{location}<br>deaths=%{z}<extra></extra>\",\"locations\":[\"ITA\",\"RUS\",\"CHN\",\"ALB\",\"BGD\",\"BWA\",\"KHM\",\"HRV\",\"GRC\",\"SWE\",\"FIN\",\"NOR\",\"MYS\",\"ISR\",\"LTU\",\"SRB\",\"SVK\",\"SVN\",\"TUR\",\"VNM\",\"BGR\",\"CZE\",\"DNK\",\"GEO\",\"DEU\",\"HUN\",\"ISL\",\"JPN\",\"KAZ\",\"PRK\",\"KGZ\",\"NLD\",\"POL\",\"ROU\",\"TJK\",\"THA\",\"AZE\",\"MNG\"],\"name\":\"\",\"z\":[0.45248467662324715,0.06663282320794024,7.086669973779322e-05,0.0,0.0012144073671099976,0.0,0.0,0.14823306190212665,0.0,0.6471277861024383,0.07233870864192575,0.0,0.0,0.04340701674425671,0.0,0.0,0.0,0.04756425812361855,0.09959797160193865,0.0,0.028843318048778377,0.03739066269154068,0.1371882311704008,0.0,0.23208030132344334,0.11281878871799805,0.0,0.02296829583165031,0.0,0.0038583046119530394,0.0,0.5618782788177622,0.018470110216424834,0.1402049692795334,0.0,0.0,0.009907738151558869,0.0],\"type\":\"choropleth\"}],\"name\":\"2020-05-01\"},{\"data\":[{\"coloraxis\":\"coloraxis\",\"geo\":\"geo\",\"hovertemplate\":\"date=2020-05-11<br>Country_code=%{location}<br>deaths=%{z}<extra></extra>\",\"locations\":[\"ITA\",\"RUS\",\"CHN\",\"ALB\",\"BGD\",\"BWA\",\"KHM\",\"HRV\",\"GRC\",\"SWE\",\"FIN\",\"NOR\",\"MYS\",\"ISR\",\"LTU\",\"SRB\",\"SVK\",\"SVN\",\"TUR\",\"VNM\",\"BGR\",\"CZE\",\"DNK\",\"GEO\",\"DEU\",\"HUN\",\"ISL\",\"JPN\",\"KAZ\",\"PRK\",\"KGZ\",\"NLD\",\"POL\",\"ROU\",\"TJK\",\"THA\",\"AZE\",\"MNG\"],\"name\":\"\",\"z\":[0.3010957513589637,0.06524463939110815,7.086669973779322e-05,0.0,0.006679240519104986,0.0,0.0,0.024705510317021107,0.0,0.2994173338682923,0.0,0.09294587297087542,0.0,0.05425877093032089,0.0,0.04348376881361494,0.0,0.0,0.06521295759650744,0.0,0.028843318048778377,0.01869533134577034,0.0685941155852004,0.0,0.026454749373656754,0.08205002815854404,0.0,0.015048193820736412,0.005331722157986819,0.0038583046119530394,0.0,0.09173522919473669,0.02902445891152474,0.10904830943963709,0.010484771812571703,0.0,0.0,0.0],\"type\":\"choropleth\"}],\"name\":\"2020-05-11\"},{\"data\":[{\"coloraxis\":\"coloraxis\",\"geo\":\"geo\",\"hovertemplate\":\"date=2020-05-21<br>Country_code=%{location}<br>deaths=%{z}<extra></extra>\",\"locations\":[\"ITA\",\"RUS\",\"CHN\",\"ALB\",\"BGD\",\"BWA\",\"KHM\",\"HRV\",\"GRC\",\"SWE\",\"FIN\",\"NOR\",\"MYS\",\"ISR\",\"LTU\",\"SRB\",\"SVK\",\"SVN\",\"TUR\",\"VNM\",\"BGR\",\"CZE\",\"DNK\",\"GEO\",\"DEU\",\"HUN\",\"ISL\",\"JPN\",\"KAZ\",\"PRK\",\"KGZ\",\"NLD\",\"POL\",\"ROU\",\"TJK\",\"THA\",\"AZE\",\"MNG\"],\"name\":\"\",\"z\":[0.26240747045809126,0.08814967236883761,0.0,0.0,0.013358481038209972,0.0,0.0,0.024705510317021107,0.01869061757164768,0.38634494692682875,0.018084677160481438,0.018589174594175084,0.003089662181898423,0.0,0.0,0.02898917920907663,0.0,0.04756425812361855,0.032013633729194566,0.0,0.057686636097556754,0.01869533134577034,0.1200397022741007,0.0,0.06854185064992886,0.030768760559454014,0.0,0.0063360816087311205,0.0,0.0,0.0,0.15480319926611816,0.026385871737749762,0.04673498975984447,0.0,0.0,0.009907738151558869,0.0],\"type\":\"choropleth\"}],\"name\":\"2020-05-21\"},{\"data\":[{\"coloraxis\":\"coloraxis\",\"geo\":\"geo\",\"hovertemplate\":\"date=2020-05-31<br>Country_code=%{location}<br>deaths=%{z}<extra></extra>\",\"locations\":[\"ITA\",\"RUS\",\"CHN\",\"ALB\",\"BGD\",\"BWA\",\"KHM\",\"HRV\",\"GRC\",\"SWE\",\"FIN\",\"NOR\",\"MYS\",\"ISR\",\"LTU\",\"SRB\",\"SVK\",\"SVN\",\"TUR\",\"VNM\",\"BGR\",\"CZE\",\"DNK\",\"GEO\",\"DEU\",\"HUN\",\"ISL\",\"JPN\",\"KAZ\",\"PRK\",\"KGZ\",\"NLD\",\"POL\",\"ROU\",\"TJK\",\"THA\",\"AZE\",\"MNG\"],\"name\":\"\",\"z\":[0.1261574377202362,0.09578468336141409,0.0,0.0,0.024288147342199952,0.0,0.0,0.0,0.0,0.0,0.0,0.0,0.0,0.0,0.0,0.014494589604538316,0.0,0.0,0.02964225345295793,0.0,0.014421659024389188,0.00934766567288517,0.0514455866889003,0.0,0.013227374686828377,0.02051250703963601,0.0,0.00237603060327417,0.015995166473960456,0.0019291523059765197,0.0,0.028667259123355215,0.00791576152132493,0.036349436479879024,0.0,0.0,0.019815476303117738,0.0],\"type\":\"choropleth\"}],\"name\":\"2020-05-31\"},{\"data\":[{\"coloraxis\":\"coloraxis\",\"geo\":\"geo\",\"hovertemplate\":\"date=2020-06-10<br>Country_code=%{location}<br>deaths=%{z}<extra></extra>\",\"locations\":[\"ITA\",\"RUS\",\"CHN\",\"ALB\",\"BGD\",\"BWA\",\"KHM\",\"HRV\",\"GRC\",\"SWE\",\"FIN\",\"NOR\",\"MYS\",\"ISR\",\"LTU\",\"SRB\",\"SVK\",\"SVN\",\"TUR\",\"VNM\",\"BGR\",\"CZE\",\"DNK\",\"GEO\",\"DEU\",\"HUN\",\"ISL\",\"JPN\",\"KAZ\",\"PRK\",\"KGZ\",\"NLD\",\"POL\",\"ROU\",\"TJK\",\"THA\",\"AZE\",\"MNG\"],\"name\":\"\",\"z\":[0.1194290410418236,0.14992385221786553,0.0,0.0,0.022466536291534958,0.0,0.0,0.0,0.0,0.7533726465073161,0.0,0.0,0.003089662181898423,0.010851754186064178,0.0,0.014494589604538316,0.0,0.0,0.02015673234801139,0.0,0.0,0.01869533134577034,0.0,0.0,0.021644794942082796,0.010256253519818005,0.0,0.0015840204021827801,0.03199033294792091,0.0,0.03039559871730573,0.06306797007138149,0.06068750499682446,0.031156659839896312,0.0,0.0,0.039630952606235476,0.0],\"type\":\"choropleth\"}],\"name\":\"2020-06-10\"},{\"data\":[{\"coloraxis\":\"coloraxis\",\"geo\":\"geo\",\"hovertemplate\":\"date=2020-06-20<br>Country_code=%{location}<br>deaths=%{z}<extra></extra>\",\"locations\":[\"ITA\",\"RUS\",\"CHN\",\"ALB\",\"BGD\",\"BWA\",\"KHM\",\"HRV\",\"GRC\",\"SWE\",\"FIN\",\"NOR\",\"MYS\",\"ISR\",\"LTU\",\"SRB\",\"SVK\",\"SVN\",\"TUR\",\"VNM\",\"BGR\",\"CZE\",\"DNK\",\"GEO\",\"DEU\",\"HUN\",\"ISL\",\"JPN\",\"KAZ\",\"PRK\",\"KGZ\",\"NLD\",\"POL\",\"ROU\",\"TJK\",\"THA\",\"AZE\",\"MNG\"],\"name\":\"\",\"z\":[0.0824228593105543,0.11174879725498311,0.0,0.035237956635465806,0.022466536291534958,0.0,0.0,0.0,0.00934530878582384,0.0,0.0,0.0,0.0,0.010851754186064178,0.0,0.014494589604538316,0.0,0.0,0.026085183038602973,0.0,0.08652995414633513,0.00934766567288517,0.0,0.0,0.013227374686828377,0.02051250703963601,0.0,0.0,0.02665861078993409,0.0,0.0455933980759586,0.04586761459736834,0.03166304608529972,0.0830844262397235,0.0,0.0,0.04953869075779434,0.0],\"type\":\"choropleth\"}],\"name\":\"2020-06-20\"},{\"data\":[{\"coloraxis\":\"coloraxis\",\"geo\":\"geo\",\"hovertemplate\":\"date=2020-06-30<br>Country_code=%{location}<br>deaths=%{z}<extra></extra>\",\"locations\":[\"ITA\",\"RUS\",\"CHN\",\"ALB\",\"BGD\",\"BWA\",\"KHM\",\"HRV\",\"GRC\",\"SWE\",\"FIN\",\"NOR\",\"MYS\",\"ISR\",\"LTU\",\"SRB\",\"SVK\",\"SVN\",\"TUR\",\"VNM\",\"BGR\",\"CZE\",\"DNK\",\"GEO\",\"DEU\",\"HUN\",\"ISL\",\"JPN\",\"KAZ\",\"PRK\",\"KGZ\",\"NLD\",\"POL\",\"ROU\",\"TJK\",\"THA\",\"AZE\",\"MNG\"],\"name\":\"\",\"z\":[0.03868828090087243,0.1068901538960708,0.0,0.14095182654186322,0.03886103574751992,0.0,0.0,0.0,0.00934530878582384,0.5119070546780481,0.018084677160481438,0.018589174594175084,0.0,0.010851754186064178,0.0,0.04348376881361494,0.0,0.0,0.018971042209893076,0.0,0.10095161317072433,0.00934766567288517,0.0,0.0,0.014429863294721866,0.0,0.0,0.0,0.0,0.0,0.06079119743461146,0.03440071094802626,0.050133156301724546,0.08827720287970621,0.0,0.0,0.06935416706091209,0.0],\"type\":\"choropleth\"}],\"name\":\"2020-06-30\"},{\"data\":[{\"coloraxis\":\"coloraxis\",\"geo\":\"geo\",\"hovertemplate\":\"date=2020-07-10<br>Country_code=%{location}<br>deaths=%{z}<extra></extra>\",\"locations\":[\"ITA\",\"RUS\",\"CHN\",\"ALB\",\"BGD\",\"BWA\",\"KHM\",\"HRV\",\"GRC\",\"SWE\",\"FIN\",\"NOR\",\"MYS\",\"ISR\",\"LTU\",\"SRB\",\"SVK\",\"SVN\",\"TUR\",\"VNM\",\"BGR\",\"CZE\",\"DNK\",\"GEO\",\"DEU\",\"HUN\",\"ISL\",\"JPN\",\"KAZ\",\"PRK\",\"KGZ\",\"NLD\",\"POL\",\"ROU\",\"TJK\",\"THA\",\"AZE\",\"MNG\"],\"name\":\"\",\"z\":[0.02018519003523779,0.1207719920643917,0.0,0.07047591327093161,0.022466536291534958,0.0,0.0,0.049411020634042215,0.0,0.25112421550243874,0.0,0.0,0.003089662181898423,0.04340701674425671,0.0,0.26090261288168964,0.0,0.0,0.02727087317672129,0.0,0.07210829512194594,0.0,0.0,0.0,0.007214931647360933,0.02051250703963601,0.0,0.0,0.10130272100174956,0.0,0.0455933980759586,0.008600177737006566,0.02902445891152474,0.06750609631977533,0.0,0.0,0.07926190521247095,0.0],\"type\":\"choropleth\"}],\"name\":\"2020-07-10\"},{\"data\":[{\"coloraxis\":\"coloraxis\",\"geo\":\"geo\",\"hovertemplate\":\"date=2020-07-20<br>Country_code=%{location}<br>deaths=%{z}<extra></extra>\",\"locations\":[\"ITA\",\"RUS\",\"CHN\",\"ALB\",\"BGD\",\"BWA\",\"KHM\",\"HRV\",\"GRC\",\"SWE\",\"FIN\",\"NOR\",\"MYS\",\"ISR\",\"LTU\",\"SRB\",\"SVK\",\"SVN\",\"TUR\",\"VNM\",\"BGR\",\"CZE\",\"DNK\",\"GEO\",\"DEU\",\"HUN\",\"ISL\",\"JPN\",\"KAZ\",\"PRK\",\"KGZ\",\"NLD\",\"POL\",\"ROU\",\"TJK\",\"THA\",\"AZE\",\"MNG\"],\"name\":\"\",\"z\":[0.02186728920484094,0.05899781221536375,0.0,0.035237956635465806,0.030360184177749938,0.0,0.0,0.049411020634042215,0.00934530878582384,0.0,0.0,0.0,0.0,0.13022105023277014,0.0,0.14494589604538313,0.0,0.04756425812361855,0.02015673234801139,0.0,0.11537327219511351,0.0,0.0,0.0,0.0024049772157869777,0.0,0.0,0.0015840204021827801,0.0,0.0,0.0,0.0,0.00791576152132493,0.062313319679792624,0.0,0.0,0.08916964336402983,0.0],\"type\":\"choropleth\"}],\"name\":\"2020-07-20\"},{\"data\":[{\"coloraxis\":\"coloraxis\",\"geo\":\"geo\",\"hovertemplate\":\"date=2020-07-30<br>Country_code=%{location}<br>deaths=%{z}<extra></extra>\",\"locations\":[\"ITA\",\"RUS\",\"CHN\",\"ALB\",\"BGD\",\"BWA\",\"KHM\",\"HRV\",\"GRC\",\"SWE\",\"FIN\",\"NOR\",\"MYS\",\"ISR\",\"LTU\",\"SRB\",\"SVK\",\"SVN\",\"TUR\",\"VNM\",\"BGR\",\"CZE\",\"DNK\",\"GEO\",\"DEU\",\"HUN\",\"ISL\",\"JPN\",\"KAZ\",\"PRK\",\"KGZ\",\"NLD\",\"POL\",\"ROU\",\"TJK\",\"THA\",\"AZE\",\"MNG\"],\"name\":\"\",\"z\":[0.005046297508809448,0.08884376427725366,0.0,0.14095182654186322,0.02914577681063994,0.0,0.0,0.07411653095106333,0.0,0.08692761305853648,0.018084677160481438,0.0,0.0,0.16277631279096266,0.0,0.10146212723176819,0.0,0.0,0.017785352071774757,0.0,0.08652995414633513,0.046738328364425846,0.0171485288963001,0.02686210820272081,0.007214931647360933,0.0,0.0,0.0007920102010913901,0.0,0.0019291523059765197,0.25836258909709875,0.0,0.03957880760662465,0.18174718239939514,0.0,0.0,0.02972321445467661,0.0],\"type\":\"choropleth\"}],\"name\":\"2020-07-30\"},{\"data\":[{\"coloraxis\":\"coloraxis\",\"geo\":\"geo\",\"hovertemplate\":\"date=2020-08-09<br>Country_code=%{location}<br>deaths=%{z}<extra></extra>\",\"locations\":[\"ITA\",\"RUS\",\"CHN\",\"ALB\",\"BGD\",\"BWA\",\"KHM\",\"HRV\",\"GRC\",\"SWE\",\"FIN\",\"NOR\",\"MYS\",\"ISR\",\"LTU\",\"SRB\",\"SVK\",\"SVN\",\"TUR\",\"VNM\",\"BGR\",\"CZE\",\"DNK\",\"GEO\",\"DEU\",\"HUN\",\"ISL\",\"JPN\",\"KAZ\",\"PRK\",\"KGZ\",\"NLD\",\"POL\",\"ROU\",\"TJK\",\"THA\",\"AZE\",\"MNG\"],\"name\":\"\",\"z\":[0.0033641983392062986,0.052750985039619364,0.0,0.21142773981279483,0.02064492524086996,0.0,0.0,0.0,0.00934530878582384,0.0,0.0,0.0,0.0,0.07596227930244924,0.0,0.13045130644084482,0.0,0.04756425812361855,0.017785352071774757,0.003082025551984869,0.028843318048778377,0.00934766567288517,0.0,0.0,0.0012024886078934888,0.0,0.0,0.00396005100545695,1.727477979187729,0.0,0.1367801942278758,0.0,0.018470110216424834,0.21290384223929146,0.0,0.0,0.019815476303117738,0.0],\"type\":\"choropleth\"}],\"name\":\"2020-08-09\"},{\"data\":[{\"coloraxis\":\"coloraxis\",\"geo\":\"geo\",\"hovertemplate\":\"date=2020-08-19<br>Country_code=%{location}<br>deaths=%{z}<extra></extra>\",\"locations\":[\"ITA\",\"RUS\",\"CHN\",\"ALB\",\"BGD\",\"BWA\",\"KHM\",\"HRV\",\"GRC\",\"SWE\",\"FIN\",\"NOR\",\"MYS\",\"ISR\",\"LTU\",\"SRB\",\"SVK\",\"SVN\",\"TUR\",\"VNM\",\"BGR\",\"CZE\",\"DNK\",\"GEO\",\"DEU\",\"HUN\",\"ISL\",\"JPN\",\"KAZ\",\"PRK\",\"KGZ\",\"NLD\",\"POL\",\"ROU\",\"TJK\",\"THA\",\"AZE\",\"MNG\"],\"name\":\"\",\"z\":[0.011774694187222046,0.07982056946784508,0.0,0.07047591327093161,0.024895351025754953,0.0,0.0,0.049411020634042215,0.028035926357471517,0.11590348407804862,0.0,0.0,0.0,0.13022105023277014,0.0,0.04348376881361494,0.03663790774098538,0.0,0.02727087317672129,0.0005136709253308116,0.11537327219511351,0.02804299701865551,0.0,0.0,0.00841742025525442,0.0,0.0,0.01108814281527946,0.0,0.0019291523059765197,0.0,0.03440071094802626,0.0448559819541746,0.166168852479447,0.010484771812571703,0.0,0.009907738151558869,0.0],\"type\":\"choropleth\"}],\"name\":\"2020-08-19\"},{\"data\":[{\"coloraxis\":\"coloraxis\",\"geo\":\"geo\",\"hovertemplate\":\"date=2020-08-29<br>Country_code=%{location}<br>deaths=%{z}<extra></extra>\",\"locations\":[\"ITA\",\"RUS\",\"CHN\",\"ALB\",\"BGD\",\"BWA\",\"KHM\",\"HRV\",\"GRC\",\"SWE\",\"FIN\",\"NOR\",\"MYS\",\"ISR\",\"LTU\",\"SRB\",\"SVK\",\"SVN\",\"TUR\",\"VNM\",\"BGR\",\"CZE\",\"DNK\",\"GEO\",\"DEU\",\"HUN\",\"ISL\",\"JPN\",\"KAZ\",\"PRK\",\"KGZ\",\"NLD\",\"POL\",\"ROU\",\"TJK\",\"THA\",\"AZE\",\"MNG\"],\"name\":\"\",\"z\":[0.0016820991696031493,0.07704420183418091,0.0,0.14095182654186322,0.01943051787375996,0.0,0.0,0.07411653095106333,0.00934530878582384,0.0,0.0,0.0,0.003089662181898423,0.05425877093032089,0.0,0.014494589604538316,0.0,0.0,0.04624191538661437,0.0020546837013232463,0.028843318048778377,0.01869533134577034,0.0,0.0,0.0012024886078934888,0.0,0.0,0.00871211221200529,0.0,0.0038583046119530394,0.0,0.02293380729868417,0.03694022043284967,0.166168852479447,0.0,0.0,0.019815476303117738,0.0],\"type\":\"choropleth\"}],\"name\":\"2020-08-29\"},{\"data\":[{\"coloraxis\":\"coloraxis\",\"geo\":\"geo\",\"hovertemplate\":\"date=2020-09-08<br>Country_code=%{location}<br>deaths=%{z}<extra></extra>\",\"locations\":[\"ITA\",\"RUS\",\"CHN\",\"ALB\",\"BGD\",\"BWA\",\"KHM\",\"HRV\",\"GRC\",\"SWE\",\"FIN\",\"NOR\",\"MYS\",\"ISR\",\"LTU\",\"SRB\",\"SVK\",\"SVN\",\"TUR\",\"VNM\",\"BGR\",\"CZE\",\"DNK\",\"GEO\",\"DEU\",\"HUN\",\"ISL\",\"JPN\",\"KAZ\",\"PRK\",\"KGZ\",\"NLD\",\"POL\",\"ROU\",\"TJK\",\"THA\",\"AZE\",\"MNG\"],\"name\":\"\",\"z\":[0.016820991696031493,0.08398512091834134,0.0,0.07047591327093161,0.021859332607979957,0.0,0.0,0.049411020634042215,0.00934530878582384,0.028975871019512156,0.0,0.0,0.0,0.21703508372128355,0.0,0.02898917920907663,0.0,0.0,0.061655887182152494,0.0,0.21632488536583783,0.03739066269154068,0.0,0.0,0.004809954431573955,0.010256253519818005,0.0,0.01425618361964502,0.0,0.0057874569179295595,0.0,0.005733451824671043,0.03166304608529972,0.21290384223929146,0.0,0.0,0.009907738151558869,0.0],\"type\":\"choropleth\"}],\"name\":\"2020-09-08\"},{\"data\":[{\"coloraxis\":\"coloraxis\",\"geo\":\"geo\",\"hovertemplate\":\"date=2020-09-18<br>Country_code=%{location}<br>deaths=%{z}<extra></extra>\",\"locations\":[\"ITA\",\"RUS\",\"CHN\",\"ALB\",\"BGD\",\"BWA\",\"KHM\",\"HRV\",\"GRC\",\"SWE\",\"FIN\",\"NOR\",\"MYS\",\"ISR\",\"LTU\",\"SRB\",\"SVK\",\"SVN\",\"TUR\",\"VNM\",\"BGR\",\"CZE\",\"DNK\",\"GEO\",\"DEU\",\"HUN\",\"ISL\",\"JPN\",\"KAZ\",\"PRK\",\"KGZ\",\"NLD\",\"POL\",\"ROU\",\"TJK\",\"THA\",\"AZE\",\"MNG\"],\"name\":\"\",\"z\":[0.016820991696031493,0.09162013191091782,0.0,0.21142773981279483,0.013358481038209972,0.0,0.0,0.14823306190212665,0.01869061757164768,0.00965862367317072,0.0,0.018589174594175084,0.003089662181898423,0.21703508372128355,0.0,0.014494589604538316,0.0,0.1902570324944742,0.07351278856333567,0.0,0.057686636097556754,0.05608599403731102,0.0,0.0,0.00841742025525442,0.06153752111890803,0.0,0.0079201020109139,0.0,0.0019291523059765197,0.0,0.04586761459736834,0.0448559819541746,0.2492532787191705,0.0,0.0014326652080033607,0.009907738151558869,0.0],\"type\":\"choropleth\"}],\"name\":\"2020-09-18\"},{\"data\":[{\"coloraxis\":\"coloraxis\",\"geo\":\"geo\",\"hovertemplate\":\"date=2020-09-28<br>Country_code=%{location}<br>deaths=%{z}<extra></extra>\",\"locations\":[\"ITA\",\"RUS\",\"CHN\",\"ALB\",\"BGD\",\"BWA\",\"KHM\",\"HRV\",\"GRC\",\"SWE\",\"FIN\",\"NOR\",\"MYS\",\"ISR\",\"LTU\",\"SRB\",\"SVK\",\"SVN\",\"TUR\",\"VNM\",\"BGR\",\"CZE\",\"DNK\",\"GEO\",\"DEU\",\"HUN\",\"ISL\",\"JPN\",\"KAZ\",\"PRK\",\"KGZ\",\"NLD\",\"POL\",\"ROU\",\"TJK\",\"THA\",\"AZE\",\"MNG\"],\"name\":\"\",\"z\":[0.02691358671365039,0.04164551450496265,0.0,0.10571386990639742,0.01943051787375996,0.0,0.0,0.0,0.03738123514329536,0.0,0.0,0.07435669837670034,0.003089662181898423,0.31470087139586117,0.03577964746313354,0.014494589604538316,0.0,0.0951285162472371,0.07706985897769061,0.0,0.15863824926828107,0.11217198807462204,0.0,0.0,0.0036074658236804665,0.13333129575763406,0.0,0.00871211221200529,0.0,0.0019291523059765197,0.015197799358652866,0.03440071094802626,0.03957880760662465,0.15578329919948156,0.0,0.0,0.019815476303117738,0.0],\"type\":\"choropleth\"}],\"name\":\"2020-09-28\"},{\"data\":[{\"coloraxis\":\"coloraxis\",\"geo\":\"geo\",\"hovertemplate\":\"date=2020-10-08<br>Country_code=%{location}<br>deaths=%{z}<extra></extra>\",\"locations\":[\"ITA\",\"RUS\",\"CHN\",\"ALB\",\"BGD\",\"BWA\",\"KHM\",\"HRV\",\"GRC\",\"SWE\",\"FIN\",\"NOR\",\"MYS\",\"ISR\",\"LTU\",\"SRB\",\"SVK\",\"SVN\",\"TUR\",\"VNM\",\"BGR\",\"CZE\",\"DNK\",\"GEO\",\"DEU\",\"HUN\",\"ISL\",\"JPN\",\"KAZ\",\"PRK\",\"KGZ\",\"NLD\",\"POL\",\"ROU\",\"TJK\",\"THA\",\"AZE\",\"MNG\"],\"name\":\"\",\"z\":[0.03700618173126929,0.12771291114855213,0.0,0.14095182654186322,0.012144073671099976,0.0,0.0,0.024705510317021107,0.056071852714943034,0.0,0.036169354320962875,0.0,0.015448310909492115,0.5100324467450164,0.03577964746313354,0.02898917920907663,0.03663790774098538,0.04756425812361855,0.06877002801086239,0.0,0.10095161317072433,0.37390662691540677,0.0342970577926002,0.10744843281088325,0.01923981772629582,0.21538132391617812,0.0,0.00237603060327417,0.0,0.0019291523059765197,0.06079119743461146,0.07453487372072355,0.19789403803312325,0.22848217215923963,0.0,0.0,0.009907738151558869,0.0],\"type\":\"choropleth\"}],\"name\":\"2020-10-08\"},{\"data\":[{\"coloraxis\":\"coloraxis\",\"geo\":\"geo\",\"hovertemplate\":\"date=2020-10-18<br>Country_code=%{location}<br>deaths=%{z}<extra></extra>\",\"locations\":[\"ITA\",\"RUS\",\"CHN\",\"ALB\",\"BGD\",\"BWA\",\"KHM\",\"HRV\",\"GRC\",\"SWE\",\"FIN\",\"NOR\",\"MYS\",\"ISR\",\"LTU\",\"SRB\",\"SVK\",\"SVN\",\"TUR\",\"VNM\",\"BGR\",\"CZE\",\"DNK\",\"GEO\",\"DEU\",\"HUN\",\"ISL\",\"JPN\",\"KAZ\",\"PRK\",\"KGZ\",\"NLD\",\"POL\",\"ROU\",\"TJK\",\"THA\",\"AZE\",\"MNG\"],\"name\":\"\",\"z\":[0.11606484270261731,0.12632472733172004,0.0,0.10571386990639742,0.008500851569769983,0.0,0.0,0.19764408253616886,0.08410777907241455,0.0,0.0,0.0,0.006179324363796846,0.35810788814011785,0.07155929492626709,0.02898917920907663,0.10991372322295613,0.1902570324944742,0.08536968994451882,0.0,0.2595898624390054,0.6543365971019619,0.0171485288963001,0.2148968656217665,0.012024886078934887,0.33845636615399416,0.0,0.0031680408043655603,0.22393233063544637,0.0,0.0455933980759586,0.0802683255453946,0.12929077151497387,0.3115665983989631,0.0,0.0,0.02972321445467661,0.0],\"type\":\"choropleth\"}],\"name\":\"2020-10-18\"},{\"data\":[{\"coloraxis\":\"coloraxis\",\"geo\":\"geo\",\"hovertemplate\":\"date=2020-10-28<br>Country_code=%{location}<br>deaths=%{z}<extra></extra>\",\"locations\":[\"ITA\",\"RUS\",\"CHN\",\"ALB\",\"BGD\",\"BWA\",\"KHM\",\"HRV\",\"GRC\",\"SWE\",\"FIN\",\"NOR\",\"MYS\",\"ISR\",\"LTU\",\"SRB\",\"SVK\",\"SVN\",\"TUR\",\"VNM\",\"BGR\",\"CZE\",\"DNK\",\"GEO\",\"DEU\",\"HUN\",\"ISL\",\"JPN\",\"KAZ\",\"PRK\",\"KGZ\",\"NLD\",\"POL\",\"ROU\",\"TJK\",\"THA\",\"AZE\",\"MNG\"],\"name\":\"\",\"z\":[0.3448303297686456,0.23807352458670317,0.0,0.21142773981279483,0.013965684721764971,0.0,0.0,0.5682267372914855,0.0934530878582384,0.03380518285609752,0.018084677160481438,0.0,0.03089662181898423,0.10851754186064178,0.17889823731566773,0.07247294802269157,0.14655163096394153,0.6658996137306598,0.09129814063511041,0.0,0.5191797248780108,1.1965012061293017,0.1028911733778006,0.4029316230408121,0.10221153167094654,0.4410189013521742,0.27287884452182076,0.00396005100545695,0.0,0.0019291523059765197,0.03039559871730573,0.3440071094802626,0.6174293986633446,0.5556271004781509,0.0,0.0,0.10898511966714755,0.0],\"type\":\"choropleth\"}],\"name\":\"2020-10-28\"},{\"data\":[{\"coloraxis\":\"coloraxis\",\"geo\":\"geo\",\"hovertemplate\":\"date=2020-11-07<br>Country_code=%{location}<br>deaths=%{z}<extra></extra>\",\"locations\":[\"ITA\",\"RUS\",\"CHN\",\"ALB\",\"BGD\",\"BWA\",\"KHM\",\"HRV\",\"GRC\",\"SWE\",\"FIN\",\"NOR\",\"MYS\",\"ISR\",\"LTU\",\"SRB\",\"SVK\",\"SVN\",\"TUR\",\"VNM\",\"BGR\",\"CZE\",\"DNK\",\"GEO\",\"DEU\",\"HUN\",\"ISL\",\"JPN\",\"KAZ\",\"PRK\",\"KGZ\",\"NLD\",\"POL\",\"ROU\",\"TJK\",\"THA\",\"AZE\",\"MNG\"],\"name\":\"\",\"z\":[0.7148921470813384,0.24709671939611172,0.0,0.28190365308372645,0.007893647886214985,0.0,0.0,0.8646928610957387,0.3177404987180105,0.0,0.036169354320962875,0.0,0.00926898654569527,0.08681403348851342,0.35779647463133546,0.13045130644084482,0.6228444315967514,1.617184776203031,0.09604090118758368,0.0,0.8076129053657947,1.8414901375583785,0.0342970577926002,0.48351794764897454,0.15632351902615352,1.0974191266205264,0.0,0.00396005100545695,0.0,0.0019291523059765197,0.03039559871730573,0.4185419832009862,0.9208669236474667,0.6750609631977533,0.0,0.0,0.1288005959702653,0.0],\"type\":\"choropleth\"}],\"name\":\"2020-11-07\"},{\"data\":[{\"coloraxis\":\"coloraxis\",\"geo\":\"geo\",\"hovertemplate\":\"date=2020-11-17<br>Country_code=%{location}<br>deaths=%{z}<extra></extra>\",\"locations\":[\"ITA\",\"RUS\",\"CHN\",\"ALB\",\"BGD\",\"BWA\",\"KHM\",\"HRV\",\"GRC\",\"SWE\",\"FIN\",\"NOR\",\"MYS\",\"ISR\",\"LTU\",\"SRB\",\"SVK\",\"SVN\",\"TUR\",\"VNM\",\"BGR\",\"CZE\",\"DNK\",\"GEO\",\"DEU\",\"HUN\",\"ISL\",\"JPN\",\"KAZ\",\"PRK\",\"KGZ\",\"NLD\",\"POL\",\"ROU\",\"TJK\",\"THA\",\"AZE\",\"MNG\"],\"name\":\"\",\"z\":[1.2296144929799022,0.3019299801609792,0.0,0.21142773981279483,0.023680943658644954,0.0,0.0,0.7658708198276544,0.5887544535069019,0.0,0.018084677160481438,0.07435669837670034,0.015448310909492115,0.13022105023277014,0.7155929492626709,0.3478701505089195,0.5678875699852735,2.140391615562835,0.12212608422618668,0.0,1.8892373321949836,1.327368525549694,0.0685941155852004,1.2087948691224364,0.3210644583075615,0.9333190703034385,0.0,0.01108814281527946,0.0,0.0038583046119530394,0.06079119743461146,0.4930768569217097,0.9419756210376665,0.9658564550367856,0.0,0.0,0.19815476303117735,0.0],\"type\":\"choropleth\"}],\"name\":\"2020-11-17\"},{\"data\":[{\"coloraxis\":\"coloraxis\",\"geo\":\"geo\",\"hovertemplate\":\"date=2020-11-27<br>Country_code=%{location}<br>deaths=%{z}<extra></extra>\",\"locations\":[\"ITA\",\"RUS\",\"CHN\",\"ALB\",\"BGD\",\"BWA\",\"KHM\",\"HRV\",\"GRC\",\"SWE\",\"FIN\",\"NOR\",\"MYS\",\"ISR\",\"LTU\",\"SRB\",\"SVK\",\"SVN\",\"TUR\",\"VNM\",\"BGR\",\"CZE\",\"DNK\",\"GEO\",\"DEU\",\"HUN\",\"ISL\",\"JPN\",\"KAZ\",\"PRK\",\"KGZ\",\"NLD\",\"POL\",\"ROU\",\"TJK\",\"THA\",\"AZE\",\"MNG\"],\"name\":\"\",\"z\":[1.3910960132618044,0.33802275939861354,7.086669973779322e-05,0.6342832194383845,0.012144073671099976,0.0,0.0,1.1858644952170132,0.9438761873682078,0.5698587967170725,0.036169354320962875,0.22307009513010098,0.006179324363796846,0.06511052511638507,0.8229318916520715,0.826191607458684,0.40301698515083917,2.283084389933691,0.20986715444694215,0.0,2.1776705126827673,1.7573611465024122,0.08574264448150051,0.9938980035006699,0.5122601469626262,1.3845942251754306,0.0,0.024552316233833093,0.0,0.011574913835859119,0.0,0.47587650144769655,1.5277419736157112,0.8931575820770274,0.0,0.0,0.34677083530456043,0.0],\"type\":\"choropleth\"}],\"name\":\"2020-11-27\"},{\"data\":[{\"coloraxis\":\"coloraxis\",\"geo\":\"geo\",\"hovertemplate\":\"date=2020-12-07<br>Country_code=%{location}<br>deaths=%{z}<extra></extra>\",\"locations\":[\"ITA\",\"RUS\",\"CHN\",\"ALB\",\"BGD\",\"BWA\",\"KHM\",\"HRV\",\"GRC\",\"SWE\",\"FIN\",\"NOR\",\"MYS\",\"ISR\",\"LTU\",\"SRB\",\"SVK\",\"SVN\",\"TUR\",\"VNM\",\"BGR\",\"CZE\",\"DNK\",\"GEO\",\"DEU\",\"HUN\",\"ISL\",\"JPN\",\"KAZ\",\"PRK\",\"KGZ\",\"NLD\",\"POL\",\"ROU\",\"TJK\",\"THA\",\"AZE\",\"MNG\"],\"name\":\"\",\"z\":[0.8881483615504627,0.31025908306197175,0.0,0.5990452628029187,0.021859332607979957,0.08504757348641896,0.0,1.4576251087042456,0.8317324819383217,0.0,0.18084677160481435,0.09294587297087542,0.006179324363796846,0.07596227930244924,1.574304488377876,0.8116970178541455,0.40301698515083917,2.473341422428165,0.24069509803801836,0.0,3.0718133721948973,0.0,0.1543367600667009,0.9670358952979491,0.17676582536034285,1.1897254082988886,0.0,0.030888397842564214,0.0,0.0057874569179295595,0.0,0.09746868101940773,0.24275001998729784,0.6594826332778052,0.0,0.0,0.4260327405170314,0.0],\"type\":\"choropleth\"}],\"name\":\"2020-12-07\"},{\"data\":[{\"coloraxis\":\"coloraxis\",\"geo\":\"geo\",\"hovertemplate\":\"date=2020-12-17<br>Country_code=%{location}<br>deaths=%{z}<extra></extra>\",\"locations\":[\"ITA\",\"RUS\",\"CHN\",\"ALB\",\"BGD\",\"BWA\",\"KHM\",\"HRV\",\"GRC\",\"SWE\",\"FIN\",\"NOR\",\"MYS\",\"ISR\",\"LTU\",\"SRB\",\"SVK\",\"SVN\",\"TUR\",\"VNM\",\"BGR\",\"CZE\",\"DNK\",\"GEO\",\"DEU\",\"HUN\",\"ISL\",\"JPN\",\"KAZ\",\"PRK\",\"KGZ\",\"NLD\",\"POL\",\"ROU\",\"TJK\",\"THA\",\"AZE\",\"MNG\"],\"name\":\"\",\"z\":[1.148873732838951,0.3984087554308093,0.0,0.5285693495319871,0.021859332607979957,0.0,0.0,2.0999683769467943,0.7289340852942594,0.8789347542585355,0.07233870864192575,0.03717834918835017,0.00926898654569527,0.17362806697702685,1.5385248409147425,0.6812457114133007,1.2640078170639957,2.045263099315598,0.28812270356275105,0.0,2.062297240487654,1.4395405136243162,0.29152499123710174,0.832725354284345,0.8393370483096552,1.6102318026114268,0.0,0.030096387641472825,0.0,0.021220675365741716,0.06079119743461146,0.4300088868503283,1.137231071897015,0.5556271004781509,0.0,0.0,0.376494049759237,0.0],\"type\":\"choropleth\"}],\"name\":\"2020-12-17\"},{\"data\":[{\"coloraxis\":\"coloraxis\",\"geo\":\"geo\",\"hovertemplate\":\"date=2020-12-27<br>Country_code=%{location}<br>deaths=%{z}<extra></extra>\",\"locations\":[\"ITA\",\"RUS\",\"CHN\",\"ALB\",\"BGD\",\"BWA\",\"KHM\",\"HRV\",\"GRC\",\"SWE\",\"FIN\",\"NOR\",\"MYS\",\"ISR\",\"LTU\",\"SRB\",\"SVK\",\"SVN\",\"TUR\",\"VNM\",\"BGR\",\"CZE\",\"DNK\",\"GEO\",\"DEU\",\"HUN\",\"ISL\",\"JPN\",\"KAZ\",\"PRK\",\"KGZ\",\"NLD\",\"POL\",\"ROU\",\"TJK\",\"THA\",\"AZE\",\"MNG\"],\"name\":\"\",\"z\":[0.5130402467289605,0.3755037224530799,7.086669973779322e-05,0.35237956635465806,0.01457288840531997,0.0,0.0,1.4329195983872243,0.4953013656486635,0.0,0.0,0.0,0.003089662181898423,0.17362806697702685,1.502745193451609,0.6812457114133007,0.7510771086902004,1.5696205180794123,0.30116529508205253,0.0,0.5912880199999567,0.8786805732512061,0.36011910682230214,0.6715527050680202,0.42808594441008196,0.9846003379025284,0.0,0.0316804080436556,0.42653777263894543,0.021220675365741716,0.06079119743461146,0.1605366510907892,0.15039946890517367,0.6335187500778916,0.0,0.0,0.4458482168201491,0.0],\"type\":\"choropleth\"}],\"name\":\"2020-12-27\"},{\"data\":[{\"coloraxis\":\"coloraxis\",\"geo\":\"geo\",\"hovertemplate\":\"date=2021-01-06<br>Country_code=%{location}<br>deaths=%{z}<extra></extra>\",\"locations\":[\"ITA\",\"RUS\",\"CHN\",\"ALB\",\"BGD\",\"BWA\",\"KHM\",\"HRV\",\"GRC\",\"SWE\",\"FIN\",\"NOR\",\"MYS\",\"ISR\",\"LTU\",\"SRB\",\"SVK\",\"SVN\",\"TUR\",\"VNM\",\"BGR\",\"CZE\",\"DNK\",\"GEO\",\"DEU\",\"HUN\",\"ISL\",\"JPN\",\"KAZ\",\"PRK\",\"KGZ\",\"NLD\",\"POL\",\"ROU\",\"TJK\",\"THA\",\"AZE\",\"MNG\"],\"name\":\"\",\"z\":[0.9217903449425259,0.29915361252731504,7.086669973779322e-05,0.24666569644826064,0.01032246262043498,0.0,0.0,1.0870424539489287,0.44857482171954427,0.0,0.07233870864192575,0.2416592697242761,0.003089662181898423,0.35810788814011785,1.252287661209674,0.5652889945769943,0.9892235090066053,1.4744920018321752,0.22646681638059857,0.0,0.8508778824389621,1.6732321554464453,0.514455866889003,0.5372421640544162,1.225335891443465,1.2102379153385245,0.0,0.05148066307094036,0.0,0.03665389381355387,0.015197799358652866,0.7854828999799328,1.4591387070975619,0.6283259734379089,0.0,0.0014326652080033607,0.2576011919405306,0.0],\"type\":\"choropleth\"}],\"name\":\"2021-01-06\"},{\"data\":[{\"coloraxis\":\"coloraxis\",\"geo\":\"geo\",\"hovertemplate\":\"date=2021-01-16<br>Country_code=%{location}<br>deaths=%{z}<extra></extra>\",\"locations\":[\"ITA\",\"RUS\",\"CHN\",\"ALB\",\"BGD\",\"BWA\",\"KHM\",\"HRV\",\"GRC\",\"SWE\",\"FIN\",\"NOR\",\"MYS\",\"ISR\",\"LTU\",\"SRB\",\"SVK\",\"SVN\",\"TUR\",\"VNM\",\"BGR\",\"CZE\",\"DNK\",\"GEO\",\"DEU\",\"HUN\",\"ISL\",\"JPN\",\"KAZ\",\"PRK\",\"KGZ\",\"NLD\",\"POL\",\"ROU\",\"TJK\",\"THA\",\"AZE\",\"MNG\"],\"name\":\"\",\"z\":[0.798997105561496,0.3997969392476414,0.00028346679895117287,0.17618978317732903,0.012751277354654974,0.0,0.0,0.938809392046802,0.1869061757164768,0.0,0.018084677160481438,0.0,0.024717297455187383,0.5317359551171447,1.2165080137465405,0.3188809712998429,1.007542462877098,0.9037209043487525,0.1991959432038773,0.0,0.2451682034146162,1.7386658151566419,0.4630102802001027,0.6178284886625787,1.178438835735619,0.8922940562241665,0.0,0.04435257126111784,0.0,0.025078979977694753,0.03039559871730573,0.5561448269930912,0.9736386671229664,0.34272325823885946,0.0,0.0014326652080033607,0.14861607227338303,0.0],\"type\":\"choropleth\"}],\"name\":\"2021-01-16\"},{\"data\":[{\"coloraxis\":\"coloraxis\",\"geo\":\"geo\",\"hovertemplate\":\"date=2021-01-26<br>Country_code=%{location}<br>deaths=%{z}<extra></extra>\",\"locations\":[\"ITA\",\"RUS\",\"CHN\",\"ALB\",\"BGD\",\"BWA\",\"KHM\",\"HRV\",\"GRC\",\"SWE\",\"FIN\",\"NOR\",\"MYS\",\"ISR\",\"LTU\",\"SRB\",\"SVK\",\"SVN\",\"TUR\",\"VNM\",\"BGR\",\"CZE\",\"DNK\",\"GEO\",\"DEU\",\"HUN\",\"ISL\",\"JPN\",\"KAZ\",\"PRK\",\"KGZ\",\"NLD\",\"POL\",\"ROU\",\"TJK\",\"THA\",\"AZE\",\"MNG\"],\"name\":\"\",\"z\":[0.9100156507553038,0.38175054962882427,7.086669973779322e-05,0.28190365308372645,0.008500851569769983,0.0,0.0,0.5682267372914855,0.19625148450230065,2.337386928907314,0.09042338580240718,0.03717834918835017,0.033986284000882654,0.16277631279096266,0.6082540068732702,0.27539720248622795,3.517239143134596,1.2842349693377009,0.1588824785078545,0.0,0.5191797248780108,1.5423648360260531,0.34297057792600205,0.6715527050680202,1.0858472129278203,0.9128065632638025,0.0,0.08236906091350456,0.0,0.013504066141835636,0.0455933980759586,0.4930768569217097,0.6965870138765938,0.5036993340783237,0.0,0.0,0.06935416706091209,0.0],\"type\":\"choropleth\"}],\"name\":\"2021-01-26\"},{\"data\":[{\"coloraxis\":\"coloraxis\",\"geo\":\"geo\",\"hovertemplate\":\"date=2021-02-05<br>Country_code=%{location}<br>deaths=%{z}<extra></extra>\",\"locations\":[\"ITA\",\"RUS\",\"CHN\",\"ALB\",\"BGD\",\"BWA\",\"KHM\",\"HRV\",\"GRC\",\"SWE\",\"FIN\",\"NOR\",\"MYS\",\"ISR\",\"LTU\",\"SRB\",\"SVK\",\"SVN\",\"TUR\",\"VNM\",\"BGR\",\"CZE\",\"DNK\",\"GEO\",\"DEU\",\"HUN\",\"ISL\",\"JPN\",\"KAZ\",\"PRK\",\"KGZ\",\"NLD\",\"POL\",\"ROU\",\"TJK\",\"THA\",\"AZE\",\"MNG\"],\"name\":\"\",\"z\":[0.6341513869403872,0.35745733283426273,0.000354333498688966,0.5285693495319871,0.004250425784884992,0.0,0.0,0.3952881650723377,0.17756086693065296,0.8403002595658526,0.018084677160481438,0.0,0.05870358145607004,0.2061833295352194,0.8587115391152051,0.20292425446353637,1.3556025864164591,0.7134638718542783,0.13042591519301489,0.0,0.43264977073167565,1.4021498509327757,0.29152499123710174,0.48351794764897454,1.028127759748933,1.0051128449421645,0.0,0.08395308131568735,0.0,0.009645761529882599,0.0,0.3440071094802626,0.9710000799491914,0.37907269471873845,0.0,0.0,0.04953869075779434,0.0],\"type\":\"choropleth\"}],\"name\":\"2021-02-05\"},{\"data\":[{\"coloraxis\":\"coloraxis\",\"geo\":\"geo\",\"hovertemplate\":\"date=2021-02-15<br>Country_code=%{location}<br>deaths=%{z}<extra></extra>\",\"locations\":[\"ITA\",\"RUS\",\"CHN\",\"ALB\",\"BGD\",\"BWA\",\"KHM\",\"HRV\",\"GRC\",\"SWE\",\"FIN\",\"NOR\",\"MYS\",\"ISR\",\"LTU\",\"SRB\",\"SVK\",\"SVN\",\"TUR\",\"VNM\",\"BGR\",\"CZE\",\"DNK\",\"GEO\",\"DEU\",\"HUN\",\"ISL\",\"JPN\",\"KAZ\",\"PRK\",\"KGZ\",\"NLD\",\"POL\",\"ROU\",\"TJK\",\"THA\",\"AZE\",\"MNG\"],\"name\":\"\",\"z\":[0.43398158575761253,0.267225384740177,7.086669973779322e-05,0.42285547962558967,0.006679240519104986,1.0205708818370276,0.0,0.5188157166574433,0.2429780284314198,0.0,0.07233870864192575,0.018589174594175084,0.033986284000882654,0.2821456088376686,0.4293557695576026,0.2174188440680747,1.2273699093230102,0.5232068393598042,0.10789780256876685,0.0,0.6778179741462919,1.0002002269987134,0.1543367600667009,0.2954831902299289,0.1394886785156447,0.47178766191162824,0.0,0.057816744679671475,0.0,0.013504066141835636,0.0,0.15480319926611816,0.06596467934437442,0.4102293545586348,0.0,0.0028653304160067214,0.02972321445467661,0.0],\"type\":\"choropleth\"}],\"name\":\"2021-02-15\"},{\"data\":[{\"coloraxis\":\"coloraxis\",\"geo\":\"geo\",\"hovertemplate\":\"date=2021-02-25<br>Country_code=%{location}<br>deaths=%{z}<extra></extra>\",\"locations\":[\"ITA\",\"RUS\",\"CHN\",\"ALB\",\"BGD\",\"BWA\",\"KHM\",\"HRV\",\"GRC\",\"SWE\",\"FIN\",\"NOR\",\"MYS\",\"ISR\",\"LTU\",\"SRB\",\"SVK\",\"SVN\",\"TUR\",\"VNM\",\"BGR\",\"CZE\",\"DNK\",\"GEO\",\"DEU\",\"HUN\",\"ISL\",\"JPN\",\"KAZ\",\"PRK\",\"KGZ\",\"NLD\",\"POL\",\"ROU\",\"TJK\",\"THA\",\"AZE\",\"MNG\"],\"name\":\"\",\"z\":[0.51808654423777,0.3033181639778113,0.0,0.7399970893447819,0.003036018417774994,0.4252378674320948,0.0,0.2964661238042533,0.3644670426471297,0.04829311836585359,0.036169354320962875,0.0,0.0401656083646795,0.2929973630237328,0.3220168271682019,0.2174188440680747,1.538792125121386,0.3329498068653299,0.08655538008263715,0.0,0.764347928292627,1.430192847951431,0.1028911733778006,0.3223452984326497,0.4629581140389932,1.2307504223781607,0.0,0.05860875488076287,0.0,0.007716609223906079,0.0455933980759586,0.18347045838947337,0.7546359316996433,0.4206149078386002,0.0,0.0,0.02972321445467661,0.0],\"type\":\"choropleth\"}],\"name\":\"2021-02-25\"},{\"data\":[{\"coloraxis\":\"coloraxis\",\"geo\":\"geo\",\"hovertemplate\":\"date=2021-03-07<br>Country_code=%{location}<br>deaths=%{z}<extra></extra>\",\"locations\":[\"ITA\",\"RUS\",\"CHN\",\"ALB\",\"BGD\",\"BWA\",\"KHM\",\"HRV\",\"GRC\",\"SWE\",\"FIN\",\"NOR\",\"MYS\",\"ISR\",\"LTU\",\"SRB\",\"SVK\",\"SVN\",\"TUR\",\"VNM\",\"BGR\",\"CZE\",\"DNK\",\"GEO\",\"DEU\",\"HUN\",\"ISL\",\"JPN\",\"KAZ\",\"PRK\",\"KGZ\",\"NLD\",\"POL\",\"ROU\",\"TJK\",\"THA\",\"AZE\",\"MNG\"],\"name\":\"\",\"z\":[0.3481945281078519,0.25056717893819197,0.0,0.7399970893447819,0.006679240519104986,0.0,0.0,0.12352755158510553,0.4953013656486635,0.0,0.018084677160481438,0.0,0.00926898654569527,0.3798113965122462,0.2146778847788013,0.28989179209076626,1.7769385254377907,0.14269277437085567,0.07706985897769061,0.0,0.30285483951217296,1.486278841988742,0.0342970577926002,0.24175897382448727,0.11543890635777493,1.1076753801403445,0.0,0.01900824482619336,0.0,0.015433218447812157,0.0,0.1720035547401313,0.3324619838956471,0.23886772543920504,0.0,0.0,0.02972321445467661,0.03050368911616171],\"type\":\"choropleth\"}],\"name\":\"2021-03-07\"},{\"data\":[{\"coloraxis\":\"coloraxis\",\"geo\":\"geo\",\"hovertemplate\":\"date=2021-03-17<br>Country_code=%{location}<br>deaths=%{z}<extra></extra>\",\"locations\":[\"ITA\",\"RUS\",\"CHN\",\"ALB\",\"BGD\",\"BWA\",\"KHM\",\"HRV\",\"GRC\",\"SWE\",\"FIN\",\"NOR\",\"MYS\",\"ISR\",\"LTU\",\"SRB\",\"SVK\",\"SVN\",\"TUR\",\"VNM\",\"BGR\",\"CZE\",\"DNK\",\"GEO\",\"DEU\",\"HUN\",\"ISL\",\"JPN\",\"KAZ\",\"PRK\",\"KGZ\",\"NLD\",\"POL\",\"ROU\",\"TJK\",\"THA\",\"AZE\",\"MNG\"],\"name\":\"\",\"z\":[0.7249847420989574,0.2915186015347385,0.0,0.5285693495319871,0.006679240519104986,0.0,0.0,0.2964661238042533,0.523337292006135,0.5408829256975604,0.018084677160481438,0.13012422215922556,0.006179324363796846,0.09766578767457759,0.4293557695576026,0.4638268673452261,1.2640078170639957,0.3329498068653299,0.08655538008263715,0.0,1.9613456273169296,2.290178089856867,0.0171485288963001,0.18803475741904566,0.2994196633654787,1.999969436364511,0.0,0.03405643864692977,0.0,0.0038583046119530394,0.0,0.263738783934868,1.1979185768938392,0.46215712095846195,0.0,0.0028653304160067214,0.08916964336402983,0.0],\"type\":\"choropleth\"}],\"name\":\"2021-03-17\"},{\"data\":[{\"coloraxis\":\"coloraxis\",\"geo\":\"geo\",\"hovertemplate\":\"date=2021-03-27<br>Country_code=%{location}<br>deaths=%{z}<extra></extra>\",\"locations\":[\"ITA\",\"RUS\",\"CHN\",\"ALB\",\"BGD\",\"BWA\",\"KHM\",\"HRV\",\"GRC\",\"SWE\",\"FIN\",\"NOR\",\"MYS\",\"ISR\",\"LTU\",\"SRB\",\"SVK\",\"SVN\",\"TUR\",\"VNM\",\"BGR\",\"CZE\",\"DNK\",\"GEO\",\"DEU\",\"HUN\",\"ISL\",\"JPN\",\"KAZ\",\"PRK\",\"KGZ\",\"NLD\",\"POL\",\"ROU\",\"TJK\",\"THA\",\"AZE\",\"MNG\"],\"name\":\"\",\"z\":[0.6391976844491967,0.2651431090149289,0.0,0.42285547962558967,0.023680943658644954,0.0,0.0,0.44469918570637995,0.6728622325793164,0.0,0.0542540314814443,0.0,0.006179324363796846,0.0,0.3220168271682019,1.1015888099449118,0.9709045551361126,0.14269277437085567,0.17903921085586588,0.0,0.7066612921950702,1.2993255285310388,0.0342970577926002,0.2148968656217665,0.18879071143927773,2.5948321405139554,0.0,0.025344326434924482,0.0,0.0019291523059765197,0.015197799358652866,0.16627010291546027,1.1820870538511894,0.8412298156772005,0.0,0.0014326652080033607,0.1882470248796185,0.0],\"type\":\"choropleth\"}],\"name\":\"2021-03-27\"},{\"data\":[{\"coloraxis\":\"coloraxis\",\"geo\":\"geo\",\"hovertemplate\":\"date=2021-04-06<br>Country_code=%{location}<br>deaths=%{z}<extra></extra>\",\"locations\":[\"ITA\",\"RUS\",\"CHN\",\"ALB\",\"BGD\",\"BWA\",\"KHM\",\"HRV\",\"GRC\",\"SWE\",\"FIN\",\"NOR\",\"MYS\",\"ISR\",\"LTU\",\"SRB\",\"SVK\",\"SVN\",\"TUR\",\"VNM\",\"BGR\",\"CZE\",\"DNK\",\"GEO\",\"DEU\",\"HUN\",\"ISL\",\"JPN\",\"KAZ\",\"PRK\",\"KGZ\",\"NLD\",\"POL\",\"ROU\",\"TJK\",\"THA\",\"AZE\",\"MNG\"],\"name\":\"\",\"z\":[0.7081637504029258,0.2651431090149289,0.0,0.31714160971919225,0.040075443114629926,0.0,0.005981229347188891,0.7411653095106333,0.7382793940800834,0.33805182856097515,0.0,0.018589174594175084,0.015448310909492115,0.09766578767457759,0.28623717970506835,0.5797835841815325,0.0,0.3329498068653299,0.2501806191429649,0.0,0.0,1.0469385553631392,0.0342970577926002,0.2686210820272081,0.10822397471041398,1.7435630983690609,0.0,0.02217628563055892,0.0,0.007716609223906079,0.03039559871730573,0.11466903649342086,0.1583152304264986,1.0177842214366128,0.0,0.0,0.3170476208498838,0.03050368911616171],\"type\":\"choropleth\"}],\"name\":\"2021-04-06\"},{\"data\":[{\"coloraxis\":\"coloraxis\",\"geo\":\"geo\",\"hovertemplate\":\"date=2021-04-16<br>Country_code=%{location}<br>deaths=%{z}<extra></extra>\",\"locations\":[\"ITA\",\"RUS\",\"CHN\",\"ALB\",\"BGD\",\"BWA\",\"KHM\",\"HRV\",\"GRC\",\"SWE\",\"FIN\",\"NOR\",\"MYS\",\"ISR\",\"LTU\",\"SRB\",\"SVK\",\"SVN\",\"TUR\",\"VNM\",\"BGR\",\"CZE\",\"DNK\",\"GEO\",\"DEU\",\"HUN\",\"ISL\",\"JPN\",\"KAZ\",\"PRK\",\"KGZ\",\"NLD\",\"POL\",\"ROU\",\"TJK\",\"THA\",\"AZE\",\"MNG\"],\"name\":\"\",\"z\":[0.721620543759751,0.2720840280990893,0.0,0.07047591327093161,0.06132757203905488,0.0,0.011962458694377781,1.0870424539489287,0.8504230995099694,0.2607828391756094,0.036169354320962875,0.018589174594175084,0.006179324363796846,0.010851754186064178,0.28623717970506835,0.5652889945769943,1.7036627099558201,0.2378212906180928,0.3426644499161936,0.0,1.745020741951092,0.8225945792138949,0.0514455866889003,0.2148968656217665,0.29701468614969173,2.471757098276139,0.0,0.03643246925020394,0.0,0.007716609223906079,0.06079119743461146,0.06880142189605253,1.572597955569886,0.7114103996776324,0.0,0.004297995624010082,0.3170476208498838,0.15251844558080854],\"type\":\"choropleth\"}],\"name\":\"2021-04-16\"},{\"data\":[{\"coloraxis\":\"coloraxis\",\"geo\":\"geo\",\"hovertemplate\":\"date=2021-04-26<br>Country_code=%{location}<br>deaths=%{z}<extra></extra>\",\"locations\":[\"ITA\",\"RUS\",\"CHN\",\"ALB\",\"BGD\",\"BWA\",\"KHM\",\"HRV\",\"GRC\",\"SWE\",\"FIN\",\"NOR\",\"MYS\",\"ISR\",\"LTU\",\"SRB\",\"SVK\",\"SVN\",\"TUR\",\"VNM\",\"BGR\",\"CZE\",\"DNK\",\"GEO\",\"DEU\",\"HUN\",\"ISL\",\"JPN\",\"KAZ\",\"PRK\",\"KGZ\",\"NLD\",\"POL\",\"ROU\",\"TJK\",\"THA\",\"AZE\",\"MNG\"],\"name\":\"\",\"z\":[0.5063118500505479,0.2422380760371994,0.0,0.035237956635465806,0.05889875730483489,0.0,0.029906146735944453,1.2599810261680764,0.7476247028659072,0.0,0.0,0.0,0.0401656083646795,0.010851754186064178,0.393576122094469,0.4348376881361494,0.6594823393377369,0.28538554874171135,0.41854861875576593,0.0,2.797801850731503,0.37390662691540677,0.0342970577926002,0.48351794764897454,0.07214931647360932,1.8051006194879688,0.0,0.02772035703819865,0.0,0.0057874569179295595,0.03039559871730573,0.07453487372072355,0.05804891782304948,0.6075548668779781,0.0,0.011461321664026886,0.30713988269832493,0.3355405802777788],\"type\":\"choropleth\"}],\"name\":\"2021-04-26\"},{\"data\":[{\"coloraxis\":\"coloraxis\",\"geo\":\"geo\",\"hovertemplate\":\"date=2021-05-06<br>Country_code=%{location}<br>deaths=%{z}<extra></extra>\",\"locations\":[\"ITA\",\"RUS\",\"CHN\",\"ALB\",\"BGD\",\"BWA\",\"KHM\",\"HRV\",\"GRC\",\"SWE\",\"FIN\",\"NOR\",\"MYS\",\"ISR\",\"LTU\",\"SRB\",\"SVK\",\"SVN\",\"TUR\",\"VNM\",\"BGR\",\"CZE\",\"DNK\",\"GEO\",\"DEU\",\"HUN\",\"ISL\",\"JPN\",\"KAZ\",\"PRK\",\"KGZ\",\"NLD\",\"POL\",\"ROU\",\"TJK\",\"THA\",\"AZE\",\"MNG\"],\"name\":\"\",\"z\":[0.43398158575761253,0.23876761649511918,0.0,0.10571386990639742,0.024895351025754953,0.4252378674320948,0.023924917388755563,0.9882204126808443,0.7756606292233786,0.06761036571219504,0.018084677160481438,0.0,0.05870358145607004,0.04340701674425671,0.35779647463133546,0.30438638169530463,0.6228444315967514,0.14269277437085567,0.3604498019879684,0.0,0.38938479365850803,0.39260195826117716,0.0342970577926002,0.5372421640544162,0.30062215197337216,1.2717754364574325,0.0,0.05148066307094036,0.0,0.017362370753788676,0.0455933980759586,0.13760284379210505,1.348318045799013,0.4881210041583755,0.0,0.025787973744060493,0.17833928672805965,0.09151106734848513],\"type\":\"choropleth\"}],\"name\":\"2021-05-06\"},{\"data\":[{\"coloraxis\":\"coloraxis\",\"geo\":\"geo\",\"hovertemplate\":\"date=2021-05-16<br>Country_code=%{location}<br>deaths=%{z}<extra></extra>\",\"locations\":[\"ITA\",\"RUS\",\"CHN\",\"ALB\",\"BGD\",\"BWA\",\"KHM\",\"HRV\",\"GRC\",\"SWE\",\"FIN\",\"NOR\",\"MYS\",\"ISR\",\"LTU\",\"SRB\",\"SVK\",\"SVN\",\"TUR\",\"VNM\",\"BGR\",\"CZE\",\"DNK\",\"GEO\",\"DEU\",\"HUN\",\"ISL\",\"JPN\",\"KAZ\",\"PRK\",\"KGZ\",\"NLD\",\"POL\",\"ROU\",\"TJK\",\"THA\",\"AZE\",\"MNG\"],\"name\":\"\",\"z\":[0.15643522277309288,0.26791947664859306,0.0,0.10571386990639742,0.015180092088874969,0.0,0.017943688041566673,0.5188157166574433,0.46726543929119196,0.0,0.1085080629628886,0.0,0.11122783854834324,0.010851754186064178,0.5724743594101367,0.24640802327715133,0.3846980312803465,0.1902570324944742,0.2644089008003847,0.0010273418506616231,0.1297949312195027,0.14021498509327754,0.0,0.429793731243533,0.0853766911604377,0.6256314647088983,0.0,0.03722447945129533,0.9223879333317196,0.0057874569179295595,0.12158239486922293,0.07453487372072355,0.1451222945576237,0.19732551231934328,0.0,0.03438396499208066,0.10898511966714755,0.09151106734848513],\"type\":\"choropleth\"}],\"name\":\"2021-05-16\"},{\"data\":[{\"coloraxis\":\"coloraxis\",\"geo\":\"geo\",\"hovertemplate\":\"date=2021-05-26<br>Country_code=%{location}<br>deaths=%{z}<extra></extra>\",\"locations\":[\"ITA\",\"RUS\",\"CHN\",\"ALB\",\"BGD\",\"BWA\",\"KHM\",\"HRV\",\"GRC\",\"SWE\",\"FIN\",\"NOR\",\"MYS\",\"ISR\",\"LTU\",\"SRB\",\"SVK\",\"SVN\",\"TUR\",\"VNM\",\"BGR\",\"CZE\",\"DNK\",\"GEO\",\"DEU\",\"HUN\",\"ISL\",\"JPN\",\"KAZ\",\"PRK\",\"KGZ\",\"NLD\",\"POL\",\"ROU\",\"TJK\",\"THA\",\"AZE\",\"MNG\"],\"name\":\"\",\"z\":[0.20353399952198106,0.2762485795495856,0.0,0.0,0.01032246262043498,0.0,0.04186860543032224,0.5188157166574433,0.41119358657624894,0.38634494692682875,0.0,0.018589174594175084,0.19464871745960063,0.0,0.3220168271682019,0.14494589604538313,0.20150849257541958,0.2378212906180928,0.1968245629276406,0.0010273418506616231,0.5191797248780108,0.1215196537475072,0.0171485288963001,0.7521390296761826,0.32467192413124196,0.4205063943125382,0.27287884452182076,0.09187318332660124,0.0,0.0057874569179295595,0.12158239486922293,0.05733451824671043,0.5514647193189701,0.27002438527910133,0.0,0.058739273528137785,0.07926190521247095,0.09151106734848513],\"type\":\"choropleth\"}],\"name\":\"2021-05-26\"},{\"data\":[{\"coloraxis\":\"coloraxis\",\"geo\":\"geo\",\"hovertemplate\":\"date=2021-06-05<br>Country_code=%{location}<br>deaths=%{z}<extra></extra>\",\"locations\":[\"ITA\",\"RUS\",\"CHN\",\"ALB\",\"BGD\",\"BWA\",\"KHM\",\"HRV\",\"GRC\",\"SWE\",\"FIN\",\"NOR\",\"MYS\",\"ISR\",\"LTU\",\"SRB\",\"SVK\",\"SVN\",\"TUR\",\"VNM\",\"BGR\",\"CZE\",\"DNK\",\"GEO\",\"DEU\",\"HUN\",\"ISL\",\"JPN\",\"KAZ\",\"PRK\",\"KGZ\",\"NLD\",\"POL\",\"ROU\",\"TJK\",\"THA\",\"AZE\",\"MNG\"],\"name\":\"\",\"z\":[0.09587965266737952,0.27138993619067325,0.0,0.0,0.02610975839286495,0.0,0.059812293471888905,0.3211716341212744,0.32708580750383437,0.0,0.018084677160481438,0.0,0.3367731778269281,0.010851754186064178,0.14311858985253417,0.13045130644084482,0.238146400316405,0.0951285162472371,0.10908349270688517,0.0020546837013232463,0.043264977073167565,0.14021498509327754,0.0171485288963001,0.45665583944625376,0.14670361016300562,0.2461500844756321,0.0,0.050688652869848964,0.0,0.0038583046119530394,0.07598899679326433,0.05160106642203939,0.10026631260344909,0.5867837603180471,0.0,0.051575947488120985,0.02972321445467661,0.09151106734848513],\"type\":\"choropleth\"}],\"name\":\"2021-06-05\"},{\"data\":[{\"coloraxis\":\"coloraxis\",\"geo\":\"geo\",\"hovertemplate\":\"date=2021-06-15<br>Country_code=%{location}<br>deaths=%{z}<extra></extra>\",\"locations\":[\"ITA\",\"RUS\",\"CHN\",\"ALB\",\"BGD\",\"BWA\",\"KHM\",\"HRV\",\"GRC\",\"SWE\",\"FIN\",\"NOR\",\"MYS\",\"ISR\",\"LTU\",\"SRB\",\"SVK\",\"SVN\",\"TUR\",\"VNM\",\"BGR\",\"CZE\",\"DNK\",\"GEO\",\"DEU\",\"HUN\",\"ISL\",\"JPN\",\"KAZ\",\"PRK\",\"KGZ\",\"NLD\",\"POL\",\"ROU\",\"TJK\",\"THA\",\"AZE\",\"MNG\"],\"name\":\"\",\"z\":[0.1059722476849984,0.2595903737476005,0.0,0.035237956635465806,0.030360184177749938,0.0,0.07775598151345559,0.19764408253616886,0.20559679328812447,0.0,0.0,0.0,0.3120558803717407,0.0,0.17889823731566773,0.08696753762722988,0.09159476935246345,0.0951285162472371,0.09959797160193865,0.0020546837013232463,0.2451682034146162,0.0,0.0171485288963001,0.6178284886625787,0.11183144053409445,0.10256253519818005,0.0,0.05306468347312314,0.0,0.0019291523059765197,0.0911867961519172,0.005733451824671043,0.1372065330362988,0.498506557438341,0.0,0.027220638952063853,0.02972321445467661,0.3050368911616171],\"type\":\"choropleth\"}],\"name\":\"2021-06-15\"},{\"data\":[{\"coloraxis\":\"coloraxis\",\"geo\":\"geo\",\"hovertemplate\":\"date=2021-06-25<br>Country_code=%{location}<br>deaths=%{z}<extra></extra>\",\"locations\":[\"ITA\",\"RUS\",\"CHN\",\"ALB\",\"BGD\",\"BWA\",\"KHM\",\"HRV\",\"GRC\",\"SWE\",\"FIN\",\"NOR\",\"MYS\",\"ISR\",\"LTU\",\"SRB\",\"SVK\",\"SVN\",\"TUR\",\"VNM\",\"BGR\",\"CZE\",\"DNK\",\"GEO\",\"DEU\",\"HUN\",\"ISL\",\"JPN\",\"KAZ\",\"PRK\",\"KGZ\",\"NLD\",\"POL\",\"ROU\",\"TJK\",\"THA\",\"AZE\",\"MNG\"],\"name\":\"\",\"z\":[0.09419755349777637,0.41020831787388207,0.0,0.0,0.06557799782393987,0.0,0.09569966955502225,0.09882204126808443,0.19625148450230065,0.0,0.0,0.0,0.2533522989156707,0.0,0.10733894238940064,0.07247294802269157,0.054956861611478065,0.0,0.06639864773462577,0.0020546837013232463,0.057686636097556754,0.00934766567288517,0.0,0.24175897382448727,0.0745542936893963,0.08205002815854404,0.0,0.024552316233833093,0.0,0.0057874569179295595,0.0911867961519172,0.028667259123355215,0.09498913825589915,0.7269887295975805,0.0,0.06303726915214787,0.019815476303117738,0.2745332020454554],\"type\":\"choropleth\"}],\"name\":\"2021-06-25\"},{\"data\":[{\"coloraxis\":\"coloraxis\",\"geo\":\"geo\",\"hovertemplate\":\"date=2021-07-05<br>Country_code=%{location}<br>deaths=%{z}<extra></extra>\",\"locations\":[\"ITA\",\"RUS\",\"CHN\",\"ALB\",\"BGD\",\"BWA\",\"KHM\",\"HRV\",\"GRC\",\"SWE\",\"FIN\",\"NOR\",\"MYS\",\"ISR\",\"LTU\",\"SRB\",\"SVK\",\"SVN\",\"TUR\",\"VNM\",\"BGR\",\"CZE\",\"DNK\",\"GEO\",\"DEU\",\"HUN\",\"ISL\",\"JPN\",\"KAZ\",\"PRK\",\"KGZ\",\"NLD\",\"POL\",\"ROU\",\"TJK\",\"THA\",\"AZE\",\"MNG\"],\"name\":\"\",\"z\":[0.05214507425769762,0.44560700520310037,0.00014173339947558643,0.0,0.09958140410301981,1.2757136022962845,0.16747442172128896,0.024705510317021107,0.056071852714943034,0.0,0.0,0.0,0.23790398800617857,0.010851754186064178,0.07155929492626709,0.014494589604538316,0.0,0.04756425812361855,0.0414991548341411,0.004109367402646493,0.5912880199999567,0.00934766567288517,0.0,0.698414813270741,0.0012024886078934888,0.04102501407927202,0.0,0.015048193820736412,0.0,0.007716609223906079,0.1367801942278758,0.005733451824671043,0.0026385871737749766,0.23367494879922232,0.020969543625143406,0.07163326040016803,0.0,0.09151106734848513],\"type\":\"choropleth\"}],\"name\":\"2021-07-05\"},{\"data\":[{\"coloraxis\":\"coloraxis\",\"geo\":\"geo\",\"hovertemplate\":\"date=2021-07-15<br>Country_code=%{location}<br>deaths=%{z}<extra></extra>\",\"locations\":[\"ITA\",\"RUS\",\"CHN\",\"ALB\",\"BGD\",\"BWA\",\"KHM\",\"HRV\",\"GRC\",\"SWE\",\"FIN\",\"NOR\",\"MYS\",\"ISR\",\"LTU\",\"SRB\",\"SVK\",\"SVN\",\"TUR\",\"VNM\",\"BGR\",\"CZE\",\"DNK\",\"GEO\",\"DEU\",\"HUN\",\"ISL\",\"JPN\",\"KAZ\",\"PRK\",\"KGZ\",\"NLD\",\"POL\",\"ROU\",\"TJK\",\"THA\",\"AZE\",\"MNG\"],\"name\":\"\",\"z\":[0.015138892526428343,0.5413916885645145,0.0,0.0,0.13722803248342974,0.8929995216073993,0.23326794454036676,0.0,0.056071852714943034,0.00965862367317072,0.0,0.0,0.33986284000882655,0.021703508372128356,0.03577964746313354,0.014494589604538316,0.01831895387049269,0.0,0.05691312662967922,0.070886587695652,0.07210829512194594,0.0,0.0171485288963001,0.2954831902299289,0.03847963545259164,0.0,0.0,0.01742422442401058,0.0,0.0019291523059765197,0.15197799358652866,0.01720035547401313,0.03166304608529972,0.015578329919948156,0.010484771812571703,0.14040119038432933,0.019815476303117738,0.3050368911616171],\"type\":\"choropleth\"}],\"name\":\"2021-07-15\"},{\"data\":[{\"coloraxis\":\"coloraxis\",\"geo\":\"geo\",\"hovertemplate\":\"date=2021-07-25<br>Country_code=%{location}<br>deaths=%{z}<extra></extra>\",\"locations\":[\"ITA\",\"RUS\",\"CHN\",\"ALB\",\"BGD\",\"BWA\",\"KHM\",\"HRV\",\"GRC\",\"SWE\",\"FIN\",\"NOR\",\"MYS\",\"ISR\",\"LTU\",\"SRB\",\"SVK\",\"SVN\",\"TUR\",\"VNM\",\"BGR\",\"CZE\",\"DNK\",\"GEO\",\"DEU\",\"HUN\",\"ISL\",\"JPN\",\"KAZ\",\"PRK\",\"KGZ\",\"NLD\",\"POL\",\"ROU\",\"TJK\",\"THA\",\"AZE\",\"MNG\"],\"name\":\"\",\"z\":[0.011774694187222046,0.533756677571938,0.0,0.0,0.13844243985053972,0.0,0.17345565106847782,0.0,0.07476247028659072,0.0,0.018084677160481438,0.0,0.2842489207346549,0.021703508372128356,0.0,0.014494589604538316,0.0,0.04756425812361855,0.06521295759650744,0.0,0.014421659024389188,0.0,0.0,0.6178284886625787,0.004809954431573955,0.0,0.0,0.0031680408043655603,2.873798243154895,0.007716609223906079,0.16717579294518153,0.02293380729868417,0.0026385871737749766,0.005192776639982718,0.010484771812571703,0.18481381183243353,0.039630952606235476,0.15251844558080854],\"type\":\"choropleth\"}],\"name\":\"2021-07-25\"},{\"data\":[{\"coloraxis\":\"coloraxis\",\"geo\":\"geo\",\"hovertemplate\":\"date=2021-08-04<br>Country_code=%{location}<br>deaths=%{z}<extra></extra>\",\"locations\":[\"ITA\",\"RUS\",\"CHN\",\"ALB\",\"BGD\",\"BWA\",\"KHM\",\"HRV\",\"GRC\",\"SWE\",\"FIN\",\"NOR\",\"MYS\",\"ISR\",\"LTU\",\"SRB\",\"SVK\",\"SVN\",\"TUR\",\"VNM\",\"BGR\",\"CZE\",\"DNK\",\"GEO\",\"DEU\",\"HUN\",\"ISL\",\"JPN\",\"KAZ\",\"PRK\",\"KGZ\",\"NLD\",\"POL\",\"ROU\",\"TJK\",\"THA\",\"AZE\",\"MNG\"],\"name\":\"\",\"z\":[0.03532408256166614,0.533756677571938,0.0,0.0,0.14633608773675472,0.0,0.10168089890221114,0.0,0.14952494057318144,0.0,0.0542540314814443,0.09294587297087542,0.7940431807478947,0.08681403348851342,0.10733894238940064,0.02898917920907663,0.0,0.0,0.1446541968504347,0.2629995137693755,0.057686636097556754,0.029912530153232548,0.0,1.0207601117033906,0.030062215197337216,0.030768760559454014,0.0,0.01108814281527946,0.0,0.0057874569179295595,0.1367801942278758,0.0401341627726973,0.010554348695099906,0.005192776639982718,0.0,0.2693410591046318,0.04953869075779434,0.06100737823232342],\"type\":\"choropleth\"}],\"name\":\"2021-08-04\"},{\"data\":[{\"coloraxis\":\"coloraxis\",\"geo\":\"geo\",\"hovertemplate\":\"date=2021-08-14<br>Country_code=%{location}<br>deaths=%{z}<extra></extra>\",\"locations\":[\"ITA\",\"RUS\",\"CHN\",\"ALB\",\"BGD\",\"BWA\",\"KHM\",\"HRV\",\"GRC\",\"SWE\",\"FIN\",\"NOR\",\"MYS\",\"ISR\",\"LTU\",\"SRB\",\"SVK\",\"SVN\",\"TUR\",\"VNM\",\"BGR\",\"CZE\",\"DNK\",\"GEO\",\"DEU\",\"HUN\",\"ISL\",\"JPN\",\"KAZ\",\"PRK\",\"KGZ\",\"NLD\",\"POL\",\"ROU\",\"TJK\",\"THA\",\"AZE\",\"MNG\"],\"name\":\"\",\"z\":[0.05719137176650708,0.5545794348244193,7.086669973779322e-05,0.07047591327093161,0.1080822556727898,0.0,0.07177475216626669,0.049411020634042215,0.22428741085977213,0.0,0.036169354320962875,0.0,0.8033121672935899,0.11936929604670594,0.2146778847788013,0.07247294802269157,0.0,0.0,0.17192507002715596,0.3585423058809064,0.10095161317072433,0.00934766567288517,0.0171485288963001,1.3431054101360405,0.013227374686828377,0.0,0.0,0.01425618361964502,0.0,0.015433218447812157,0.0911867961519172,0.0401341627726973,0.005277174347549953,0.025963883199913593,0.0,0.3108883501367293,0.1288005959702653,0.15251844558080854],\"type\":\"choropleth\"}],\"name\":\"2021-08-14\"},{\"data\":[{\"coloraxis\":\"coloraxis\",\"geo\":\"geo\",\"hovertemplate\":\"date=2021-08-24<br>Country_code=%{location}<br>deaths=%{z}<extra></extra>\",\"locations\":[\"ITA\",\"RUS\",\"CHN\",\"ALB\",\"BGD\",\"BWA\",\"KHM\",\"HRV\",\"GRC\",\"SWE\",\"FIN\",\"NOR\",\"MYS\",\"ISR\",\"LTU\",\"SRB\",\"SVK\",\"SVN\",\"TUR\",\"VNM\",\"BGR\",\"CZE\",\"DNK\",\"GEO\",\"DEU\",\"HUN\",\"ISL\",\"JPN\",\"KAZ\",\"PRK\",\"KGZ\",\"NLD\",\"POL\",\"ROU\",\"TJK\",\"THA\",\"AZE\",\"MNG\"],\"name\":\"\",\"z\":[0.10092595017618895,0.5372271371140183,0.0,0.07047591327093161,0.06922121992526986,0.0,0.07775598151345559,0.07411653095106333,0.41119358657624894,0.01931724734634144,0.018084677160481438,0.0,0.6519187203805673,0.2604421004655403,0.10733894238940064,0.11595671683630653,0.0,0.04756425812361855,0.27270873176721294,0.35751496403024485,0.4759147478048432,0.0,0.0171485288963001,1.6117264921632484,0.05050452153152653,0.02051250703963601,0.0,0.03326442844583838,0.0,0.017362370753788676,0.07598899679326433,0.06880142189605253,0.021108697390199813,0.07269887295975805,0.0,0.3237823370087595,0.29723214454676605,0.12201475646464684],\"type\":\"choropleth\"}],\"name\":\"2021-08-24\"},{\"data\":[{\"coloraxis\":\"coloraxis\",\"geo\":\"geo\",\"hovertemplate\":\"date=2021-09-03<br>Country_code=%{location}<br>deaths=%{z}<extra></extra>\",\"locations\":[\"ITA\",\"RUS\",\"CHN\",\"ALB\",\"BGD\",\"BWA\",\"KHM\",\"HRV\",\"GRC\",\"SWE\",\"FIN\",\"NOR\",\"MYS\",\"ISR\",\"LTU\",\"SRB\",\"SVK\",\"SVN\",\"TUR\",\"VNM\",\"BGR\",\"CZE\",\"DNK\",\"GEO\",\"DEU\",\"HUN\",\"ISL\",\"JPN\",\"KAZ\",\"PRK\",\"KGZ\",\"NLD\",\"POL\",\"ROU\",\"TJK\",\"THA\",\"AZE\",\"MNG\"],\"name\":\"\",\"z\":[0.09756175183698265,0.5420857804729304,7.086669973779322e-05,0.10571386990639742,0.04250425784884992,0.0,0.05383106412470002,0.14823306190212665,0.3364311162896582,0.0,0.036169354320962875,0.0,1.0195885200264796,0.07596227930244924,0.28623717970506835,0.24640802327715133,0.01831895387049269,0.0,0.3272504781206555,0.31642129000377994,0.7210829512194594,0.00934766567288517,0.0514455866889003,2.3101413054339894,0.05411198735520699,0.010256253519818005,0.0,0.050688652869848964,0.0,0.013504066141835636,0.07598899679326433,0.05160106642203939,0.013192935868874881,0.17136162911942973,0.0,0.3882522713689107,0.376494049759237,0.21352582381313198],\"type\":\"choropleth\"}],\"name\":\"2021-09-03\"},{\"data\":[{\"coloraxis\":\"coloraxis\",\"geo\":\"geo\",\"hovertemplate\":\"date=2021-09-13<br>Country_code=%{location}<br>deaths=%{z}<extra></extra>\",\"locations\":[\"ITA\",\"RUS\",\"CHN\",\"ALB\",\"BGD\",\"BWA\",\"KHM\",\"HRV\",\"GRC\",\"SWE\",\"FIN\",\"NOR\",\"MYS\",\"ISR\",\"LTU\",\"SRB\",\"SVK\",\"SVN\",\"TUR\",\"VNM\",\"BGR\",\"CZE\",\"DNK\",\"GEO\",\"DEU\",\"HUN\",\"ISL\",\"JPN\",\"KAZ\",\"PRK\",\"KGZ\",\"NLD\",\"POL\",\"ROU\",\"TJK\",\"THA\",\"AZE\",\"MNG\"],\"name\":\"\",\"z\":[0.06055557010571337,0.49419343879222344,7.086669973779322e-05,0.17618978317732903,0.024895351025754953,0.5102854409185138,0.05383106412470002,0.17293857221914774,0.5046466744344873,0.0,0.09042338580240718,0.0,1.2760304811240488,0.24959034627947607,0.8587115391152051,0.3913539193225345,0.03663790774098538,0.04756425812361855,0.27389442190533125,0.39141724510207837,2.0046106043900975,0.00934766567288517,0.0514455866889003,1.2893811937305988,0.014429863294721866,0.12307504223781605,0.0,0.03880849985347811,3.241687072055986,0.013504066141835636,0.03039559871730573,0.028667259123355215,0.0,0.23886772543920504,0.0,0.18911180745644363,1.0204970296105635,0.3050368911616171],\"type\":\"choropleth\"}],\"name\":\"2021-09-13\"},{\"data\":[{\"coloraxis\":\"coloraxis\",\"geo\":\"geo\",\"hovertemplate\":\"date=2021-09-23<br>Country_code=%{location}<br>deaths=%{z}<extra></extra>\",\"locations\":[\"ITA\",\"RUS\",\"CHN\",\"ALB\",\"BGD\",\"BWA\",\"KHM\",\"HRV\",\"GRC\",\"SWE\",\"FIN\",\"NOR\",\"MYS\",\"ISR\",\"LTU\",\"SRB\",\"SVK\",\"SVN\",\"TUR\",\"VNM\",\"BGR\",\"CZE\",\"DNK\",\"GEO\",\"DEU\",\"HUN\",\"ISL\",\"JPN\",\"KAZ\",\"PRK\",\"KGZ\",\"NLD\",\"POL\",\"ROU\",\"TJK\",\"THA\",\"AZE\",\"MNG\"],\"name\":\"\",\"z\":[0.1059722476849984,0.5566617105496674,0.0,0.28190365308372645,0.01457288840531997,0.2551427204592569,0.1315870456381556,0.37058265475531665,0.289704572360539,0.03863449469268288,0.036169354320962875,0.0,0.3584008131002171,0.2061833295352194,0.6798133017995374,0.5942781737860708,0.054956861611478065,0.2378212906180928,0.25729475997167484,0.24245267675614304,1.4277442434145298,0.01869533134577034,0.0685941155852004,1.262519085527878,0.1382861899077512,0.02051250703963601,0.0,0.03880849985347811,0.0,0.013504066141835636,0.0,0.06880142189605253,0.03694022043284967,0.5867837603180471,0.0,0.18767914224844023,0.23778571563741288,0.39654795851010216],\"type\":\"choropleth\"}],\"name\":\"2021-09-23\"},{\"data\":[{\"coloraxis\":\"coloraxis\",\"geo\":\"geo\",\"hovertemplate\":\"date=2021-10-03<br>Country_code=%{location}<br>deaths=%{z}<extra></extra>\",\"locations\":[\"ITA\",\"RUS\",\"CHN\",\"ALB\",\"BGD\",\"BWA\",\"KHM\",\"HRV\",\"GRC\",\"SWE\",\"FIN\",\"NOR\",\"MYS\",\"ISR\",\"LTU\",\"SRB\",\"SVK\",\"SVN\",\"TUR\",\"VNM\",\"BGR\",\"CZE\",\"DNK\",\"GEO\",\"DEU\",\"HUN\",\"ISL\",\"JPN\",\"KAZ\",\"PRK\",\"KGZ\",\"NLD\",\"POL\",\"ROU\",\"TJK\",\"THA\",\"AZE\",\"MNG\"],\"name\":\"\",\"z\":[0.05550927259690392,0.612189063222951,7.086669973779322e-05,0.10571386990639742,0.010929666303989978,0.0,0.1375682749853445,0.3458771444382955,0.289704572360539,0.0,0.0542540314814443,0.0,0.3645801374640139,0.4666254300007597,0.9302708340414721,0.7102348906223774,0.3480601235393611,0.2378212906180928,0.2300238867949535,0.11711697097542502,0.6201313380487351,0.00934766567288517,0.0,0.8864495706897868,0.010822397471041398,0.0,0.0,0.01346417341855363,0.0,0.011574913835859119,0.0,0.005733451824671043,0.01583152304264986,0.7789164959974078,0.0,0.11031522101625878,0.13870833412182418,0.5795700932070724],\"type\":\"choropleth\"}],\"name\":\"2021-10-03\"},{\"data\":[{\"coloraxis\":\"coloraxis\",\"geo\":\"geo\",\"hovertemplate\":\"date=2021-10-13<br>Country_code=%{location}<br>deaths=%{z}<extra></extra>\",\"locations\":[\"ITA\",\"RUS\",\"CHN\",\"ALB\",\"BGD\",\"BWA\",\"KHM\",\"HRV\",\"GRC\",\"SWE\",\"FIN\",\"NOR\",\"MYS\",\"ISR\",\"LTU\",\"SRB\",\"SVK\",\"SVN\",\"TUR\",\"VNM\",\"BGR\",\"CZE\",\"DNK\",\"GEO\",\"DEU\",\"HUN\",\"ISL\",\"JPN\",\"KAZ\",\"PRK\",\"KGZ\",\"NLD\",\"POL\",\"ROU\",\"TJK\",\"THA\",\"AZE\",\"MNG\"],\"name\":\"\",\"z\":[0.06223766927531652,0.6677164158962344,0.0,0.17618978317732903,0.01032246262043498,0.0,0.08971844020783336,0.66704877855957,0.289704572360539,0.01931724734634144,0.0542540314814443,0.2416592697242761,0.2100970283690928,0.07596227930244924,1.1091690713571398,0.739224069831454,0.3663790774098538,0.2378212906180928,0.27982287259592287,0.10889823617013203,1.4133225843901405,0.05608599403731102,0.0,0.698414813270741,0.11062895192620097,0.10256253519818005,0.0,0.02613633663601587,0.18661027552953863,0.025078979977694753,0.03039559871730573,0.06880142189605253,0.10554348695099905,2.02518288959326,0.0,0.11747854705627557,0.16843154857650075,0.518562714974749],\"type\":\"choropleth\"}],\"name\":\"2021-10-13\"},{\"data\":[{\"coloraxis\":\"coloraxis\",\"geo\":\"geo\",\"hovertemplate\":\"date=2021-10-23<br>Country_code=%{location}<br>deaths=%{z}<extra></extra>\",\"locations\":[\"ITA\",\"RUS\",\"CHN\",\"ALB\",\"BGD\",\"BWA\",\"KHM\",\"HRV\",\"GRC\",\"SWE\",\"FIN\",\"NOR\",\"MYS\",\"ISR\",\"LTU\",\"SRB\",\"SVK\",\"SVN\",\"TUR\",\"VNM\",\"BGR\",\"CZE\",\"DNK\",\"GEO\",\"DEU\",\"HUN\",\"ISL\",\"JPN\",\"KAZ\",\"PRK\",\"KGZ\",\"NLD\",\"POL\",\"ROU\",\"TJK\",\"THA\",\"AZE\",\"MNG\"],\"name\":\"\",\"z\":[0.06560186761452282,0.7274083200200142,0.0,0.24666569644826064,0.005464833151994989,0.0,0.059812293471888905,0.6176377579255277,0.4018482777904251,0.0,0.1446774172838515,0.0,0.12976581163973377,0.07596227930244924,0.787152244188938,0.8696753762722989,0.16487058483443423,0.42807832311256694,0.25729475997167484,0.07910532250094499,0.8364562234145729,0.14021498509327754,0.0171485288963001,1.128208544514274,0.10341402027884004,0.0,0.0,0.00396005100545695,0.0,0.040512198425506914,0.0455933980759586,0.131869391967434,0.19789403803312325,2.3159783814322923,0.0,0.1060172253922487,0.2179702393342951,0.518562714974749],\"type\":\"choropleth\"}],\"name\":\"2021-10-23\"},{\"data\":[{\"coloraxis\":\"coloraxis\",\"geo\":\"geo\",\"hovertemplate\":\"date=2021-11-02<br>Country_code=%{location}<br>deaths=%{z}<extra></extra>\",\"locations\":[\"ITA\",\"RUS\",\"CHN\",\"ALB\",\"BGD\",\"BWA\",\"KHM\",\"HRV\",\"GRC\",\"SWE\",\"FIN\",\"NOR\",\"MYS\",\"ISR\",\"LTU\",\"SRB\",\"SVK\",\"SVN\",\"TUR\",\"VNM\",\"BGR\",\"CZE\",\"DNK\",\"GEO\",\"DEU\",\"HUN\",\"ISL\",\"JPN\",\"KAZ\",\"PRK\",\"KGZ\",\"NLD\",\"POL\",\"ROU\",\"TJK\",\"THA\",\"AZE\",\"MNG\"],\"name\":\"\",\"z\":[0.06896606595372912,0.7940411432279546,0.0,0.21142773981279483,0.0018216110506649962,0.0,0.07775598151345559,0.9882204126808443,0.5607185271494304,0.1448793550975608,0.2170161259257772,0.0,0.21627635273288964,0.032555262558192535,0.9302708340414721,0.8696753762722989,0.5678875699852735,0.4756425812361856,0.2655945909385031,0.07602329694896011,2.091140558536432,0.2991253015323254,0.0,1.262519085527878,0.09740157723937258,0.3999938872729022,0.27287884452182076,0.00554407140763973,0.13329305394967048,0.03472474150757735,0.06079119743461146,0.10320213284407878,0.023747284563974787,3.0689309942297864,0.0,0.11174788622426213,0.30713988269832493,0.3050368911616171],\"type\":\"choropleth\"}],\"name\":\"2021-11-02\"},{\"data\":[{\"coloraxis\":\"coloraxis\",\"geo\":\"geo\",\"hovertemplate\":\"date=2021-11-12<br>Country_code=%{location}<br>deaths=%{z}<extra></extra>\",\"locations\":[\"ITA\",\"RUS\",\"CHN\",\"ALB\",\"BGD\",\"BWA\",\"KHM\",\"HRV\",\"GRC\",\"SWE\",\"FIN\",\"NOR\",\"MYS\",\"ISR\",\"LTU\",\"SRB\",\"SVK\",\"SVN\",\"TUR\",\"VNM\",\"BGR\",\"CZE\",\"DNK\",\"GEO\",\"DEU\",\"HUN\",\"ISL\",\"JPN\",\"KAZ\",\"PRK\",\"KGZ\",\"NLD\",\"POL\",\"ROU\",\"TJK\",\"THA\",\"AZE\",\"MNG\"],\"name\":\"\",\"z\":[0.11438274353301416,0.8349925658245012,7.086669973779322e-05,0.17618978317732903,0.003036018417774994,0.0,0.035887376083133346,1.3093920468021187,0.523337292006135,0.03863449469268288,0.1085080629628886,0.03717834918835017,0.12667614945783534,0.021703508372128356,0.787152244188938,0.971137503504067,0.7510771086902004,0.6658996137306598,0.25729475997167484,0.08321468990359146,2.523790329268108,0.6169459344104212,0.0685941155852004,2.0683823316095022,0.22967532410765637,1.1897254082988886,0.0,0.0007920102010913901,0.1706151090555782,0.06173287379124863,0.03039559871730573,0.18347045838947337,0.08179620238702427,1.5941824284746946,0.0,0.07306592560817139,0.24769345378897173,0.2745332020454554],\"type\":\"choropleth\"}],\"name\":\"2021-11-12\"},{\"data\":[{\"coloraxis\":\"coloraxis\",\"geo\":\"geo\",\"hovertemplate\":\"date=2021-11-22<br>Country_code=%{location}<br>deaths=%{z}<extra></extra>\",\"locations\":[\"ITA\",\"RUS\",\"CHN\",\"ALB\",\"BGD\",\"BWA\",\"KHM\",\"HRV\",\"GRC\",\"SWE\",\"FIN\",\"NOR\",\"MYS\",\"ISR\",\"LTU\",\"SRB\",\"SVK\",\"SVN\",\"TUR\",\"VNM\",\"BGR\",\"CZE\",\"DNK\",\"GEO\",\"DEU\",\"HUN\",\"ISL\",\"JPN\",\"KAZ\",\"PRK\",\"KGZ\",\"NLD\",\"POL\",\"ROU\",\"TJK\",\"THA\",\"AZE\",\"MNG\"],\"name\":\"\",\"z\":[0.11774694187222044,0.8412393930002455,0.0,0.4933313928965213,0.0012144073671099976,0.0,0.029906146735944453,1.8035022531425409,1.04667458401227,0.0,0.09042338580240718,0.055767523782525245,0.1884693930958038,0.010851754186064178,1.1807283662834072,0.8116970178541455,1.0624993244885759,0.8085923881015155,0.2288381966568352,0.19519495162570838,3.6631013921948536,2.103224776399163,0.1028911733778006,1.4774159511496445,0.0745542936893963,4.020451379768658,0.0,0.0015840204021827801,0.29857644084726187,0.05787456917929559,0.06079119743461146,0.16627010291546027,0.021108697390199813,0.7996876025573385,0.0,0.07020059519216466,0.3269553590014427,0.24402951292929367],\"type\":\"choropleth\"}],\"name\":\"2021-11-22\"},{\"data\":[{\"coloraxis\":\"coloraxis\",\"geo\":\"geo\",\"hovertemplate\":\"date=2021-12-02<br>Country_code=%{location}<br>deaths=%{z}<extra></extra>\",\"locations\":[\"ITA\",\"RUS\",\"CHN\",\"ALB\",\"BGD\",\"BWA\",\"KHM\",\"HRV\",\"GRC\",\"SWE\",\"FIN\",\"NOR\",\"MYS\",\"ISR\",\"LTU\",\"SRB\",\"SVK\",\"SVN\",\"TUR\",\"VNM\",\"BGR\",\"CZE\",\"DNK\",\"GEO\",\"DEU\",\"HUN\",\"ISL\",\"JPN\",\"KAZ\",\"PRK\",\"KGZ\",\"NLD\",\"POL\",\"ROU\",\"TJK\",\"THA\",\"AZE\",\"MNG\"],\"name\":\"\",\"z\":[0.12111114021142674,0.8245811871982605,0.0,0.10571386990639742,0.0018216110506649962,0.04252378674320948,0.029906146735944453,1.877618784093604,0.8504230995099694,0.028975871019512156,0.2170161259257772,0.018589174594175084,0.1452141225492259,0.0,0.8944911865783387,0.695740301017839,1.8868522486607469,0.7134638718542783,0.22765250651871688,0.21574178863894083,1.6440691287803675,1.2245442031479572,0.0514455866889003,1.9340717905958982,0.46656557986267366,2.235863267320325,0.0,0.0007920102010913901,0.07997583236980228,0.06559117840320167,0.0455933980759586,0.3726743686036178,1.3272093484088132,0.34272325823885946,0.0,0.047277951864110906,0.20806250118273625,0.09151106734848513],\"type\":\"choropleth\"}],\"name\":\"2021-12-02\"},{\"data\":[{\"coloraxis\":\"coloraxis\",\"geo\":\"geo\",\"hovertemplate\":\"date=2021-12-12<br>Country_code=%{location}<br>deaths=%{z}<extra></extra>\",\"locations\":[\"ITA\",\"RUS\",\"CHN\",\"ALB\",\"BGD\",\"BWA\",\"KHM\",\"HRV\",\"GRC\",\"SWE\",\"FIN\",\"NOR\",\"MYS\",\"ISR\",\"LTU\",\"SRB\",\"SVK\",\"SVN\",\"TUR\",\"VNM\",\"BGR\",\"CZE\",\"DNK\",\"GEO\",\"DEU\",\"HUN\",\"ISL\",\"JPN\",\"KAZ\",\"PRK\",\"KGZ\",\"NLD\",\"POL\",\"ROU\",\"TJK\",\"THA\",\"AZE\",\"MNG\"],\"name\":\"\",\"z\":[0.11101854519380784,0.7648892830744807,0.0,0.07047591327093161,0.0036432221013299924,0.0,0.017943688041566673,1.1117479642659498,0.8504230995099694,0.0,0.12659274012337005,0.0,0.0525242570922732,0.06511052511638507,0.7513725967258045,0.4348376881361494,0.9159476935246346,0.6658996137306598,0.2157956051375337,0.23423394195085004,0.7210829512194594,0.6917272597935026,0.1543367600667009,0.9670358952979491,0.15872849624194052,0.0,0.0,0.0,0.0,0.07716609223906079,0.03039559871730573,0.21787116933749962,0.1715081662953735,0.8568081455971486,0.0,0.028653304160067214,0.17833928672805965,0.15251844558080854],\"type\":\"choropleth\"}],\"name\":\"2021-12-12\"},{\"data\":[{\"coloraxis\":\"coloraxis\",\"geo\":\"geo\",\"hovertemplate\":\"date=2021-12-22<br>Country_code=%{location}<br>deaths=%{z}<extra></extra>\",\"locations\":[\"ITA\",\"RUS\",\"CHN\",\"ALB\",\"BGD\",\"BWA\",\"KHM\",\"HRV\",\"GRC\",\"SWE\",\"FIN\",\"NOR\",\"MYS\",\"ISR\",\"LTU\",\"SRB\",\"SVK\",\"SVN\",\"TUR\",\"VNM\",\"BGR\",\"CZE\",\"DNK\",\"GEO\",\"DEU\",\"HUN\",\"ISL\",\"JPN\",\"KAZ\",\"PRK\",\"KGZ\",\"NLD\",\"POL\",\"ROU\",\"TJK\",\"THA\",\"AZE\",\"MNG\"],\"name\":\"\",\"z\":[0.2455864787620598,0.6892332650571318,0.0,0.07047591327093161,0.0006072036835549988,0.0,0.005981229347188891,0.8893983714127599,0.6635169237934926,0.16419660244390225,0.1085080629628886,0.8922803805204039,0.08960020327505427,0.07596227930244924,0.9660504815046057,0.3913539193225345,1.2640078170639957,0.28538554874171135,0.21223853472317877,0.21574178863894083,0.8076129053657947,0.0,0.2400794045482014,1.396829626541482,0.6132691900256793,1.4256192392547027,0.0,0.0015840204021827801,0.04265377726389455,0.2102776013514406,0.03039559871730573,0.26947223575953905,2.050182234023157,0.32195215167892854,0.0,0.04441262144810418,0.1585238104249419,0.09151106734848513],\"type\":\"choropleth\"}],\"name\":\"2021-12-22\"}]);\n",
       "                        }).then(function(){\n",
       "                            \n",
       "var gd = document.getElementById('3efc265d-23d2-4463-9b54-f67ac7c01a52');\n",
       "var x = new MutationObserver(function (mutations, observer) {{\n",
       "        var display = window.getComputedStyle(gd).display;\n",
       "        if (!display || display === 'none') {{\n",
       "            console.log([gd, 'removed!']);\n",
       "            Plotly.purge(gd);\n",
       "            observer.disconnect();\n",
       "        }}\n",
       "}});\n",
       "\n",
       "// Listen for the removal of the full notebook cells\n",
       "var notebookContainer = gd.closest('#notebook-container');\n",
       "if (notebookContainer) {{\n",
       "    x.observe(notebookContainer, {childList: true});\n",
       "}}\n",
       "\n",
       "// Listen for the clearing of the current output cell\n",
       "var outputEl = gd.closest('.output');\n",
       "if (outputEl) {{\n",
       "    x.observe(outputEl, {childList: true});\n",
       "}}\n",
       "\n",
       "                        })                };                });            </script>        </div>"
      ]
     },
     "metadata": {},
     "output_type": "display_data"
    }
   ],
   "source": [
    "covid_death = pd.DataFrame({})\n",
    "for country in list(country_dict.keys()):\n",
    "    \n",
    "    df = pd.DataFrame(deaths[country]/float(population_df.loc[country]) * 100000)\n",
    "    df = df.rename(columns = {country : 'deaths'})\n",
    "    \n",
    "    if (country in list(other_country_name.keys())):\n",
    "        df['Country_code'] = [countries.get(other_country_name[country]).alpha3] * len(df)\n",
    "    else:\n",
    "         df['Country_code'] = [countries.get(country).alpha3] * len(df)\n",
    "    df['date'] = df.index\n",
    "    #To keep every 10 rows\n",
    "    df = df.iloc[::10,:]\n",
    "    covid_death = covid_death.append(df)\n",
    "\n",
    "\n",
    "fig = px.choropleth(covid_death, locations= \"Country_code\",\n",
    "                    color = covid_death['deaths'],\n",
    "                    animation_frame='date',\n",
    "                    color_continuous_midpoint = max(covid_death['deaths']/2),\n",
    "color_continuous_scale=px.colors.sequential.thermal_r)\n",
    "fig.update_layout(title={'text':'Number of death of COVID-19 by Date',\n",
    "                         'font':{'size':18, 'color':'red'},\n",
    "                         'x':0.5, 'y':1},\n",
    "                  transition = {'duration': 10})\n",
    "fig.layout.updatemenus[0].buttons[0].args[1][\"frame\"][\"duration\"] = 250 # buttons\n",
    "fig.layout.updatemenus[0].buttons[0].args[1][\"transition\"][\"duration\"] = 0\n",
    "fig.layout.updatemenus[0].buttons[1].args[1][\"frame\"][\"duration\"] = 250\n",
    "fig.layout.updatemenus[0].buttons[1].args[1][\"transition\"][\"duration\"] = 0\n",
    "fig.layout.sliders[0].steps[0].args[1][\"frame\"][\"duration\"] = 0 # slider\n",
    "fig.layout.updatemenus[0].buttons[0].args[1][\"visible\"] = False\n",
    "\n",
    "fig.show()"
   ]
  },
  {
   "cell_type": "code",
   "execution_count": 66,
   "metadata": {},
   "outputs": [],
   "source": [
    "df_pageviews_pearson = pageview_df_imp_country.loc[pageview_df_imp_country.index < '2022-01-01']\n",
    "df_pageviews_pearson = df_pageviews_pearson.loc[df_pageviews_pearson.index >= '2020-01-22']\n",
    "df_pageviews_pearson = df_pageviews_pearson.interpolate(method ='linear', limit_direction ='forward') \n",
    "df_pageviews_pearson = df_pageviews_pearson.fillna(0)"
   ]
  },
  {
   "cell_type": "code",
   "execution_count": 67,
   "metadata": {},
   "outputs": [
    {
     "name": "stderr",
     "output_type": "stream",
     "text": [
      "<ipython-input-67-8f941d07ac3b>:14: FutureWarning:\n",
      "\n",
      "The frame.append method is deprecated and will be removed from pandas in a future version. Use pandas.concat instead.\n",
      "\n",
      "<ipython-input-67-8f941d07ac3b>:14: FutureWarning:\n",
      "\n",
      "The frame.append method is deprecated and will be removed from pandas in a future version. Use pandas.concat instead.\n",
      "\n",
      "<ipython-input-67-8f941d07ac3b>:14: FutureWarning:\n",
      "\n",
      "The frame.append method is deprecated and will be removed from pandas in a future version. Use pandas.concat instead.\n",
      "\n",
      "<ipython-input-67-8f941d07ac3b>:14: FutureWarning:\n",
      "\n",
      "The frame.append method is deprecated and will be removed from pandas in a future version. Use pandas.concat instead.\n",
      "\n",
      "<ipython-input-67-8f941d07ac3b>:14: FutureWarning:\n",
      "\n",
      "The frame.append method is deprecated and will be removed from pandas in a future version. Use pandas.concat instead.\n",
      "\n",
      "<ipython-input-67-8f941d07ac3b>:14: FutureWarning:\n",
      "\n",
      "The frame.append method is deprecated and will be removed from pandas in a future version. Use pandas.concat instead.\n",
      "\n",
      "<ipython-input-67-8f941d07ac3b>:14: FutureWarning:\n",
      "\n",
      "The frame.append method is deprecated and will be removed from pandas in a future version. Use pandas.concat instead.\n",
      "\n",
      "<ipython-input-67-8f941d07ac3b>:14: FutureWarning:\n",
      "\n",
      "The frame.append method is deprecated and will be removed from pandas in a future version. Use pandas.concat instead.\n",
      "\n",
      "<ipython-input-67-8f941d07ac3b>:14: FutureWarning:\n",
      "\n",
      "The frame.append method is deprecated and will be removed from pandas in a future version. Use pandas.concat instead.\n",
      "\n",
      "<ipython-input-67-8f941d07ac3b>:14: FutureWarning:\n",
      "\n",
      "The frame.append method is deprecated and will be removed from pandas in a future version. Use pandas.concat instead.\n",
      "\n",
      "<ipython-input-67-8f941d07ac3b>:14: FutureWarning:\n",
      "\n",
      "The frame.append method is deprecated and will be removed from pandas in a future version. Use pandas.concat instead.\n",
      "\n",
      "<ipython-input-67-8f941d07ac3b>:14: FutureWarning:\n",
      "\n",
      "The frame.append method is deprecated and will be removed from pandas in a future version. Use pandas.concat instead.\n",
      "\n",
      "<ipython-input-67-8f941d07ac3b>:14: FutureWarning:\n",
      "\n",
      "The frame.append method is deprecated and will be removed from pandas in a future version. Use pandas.concat instead.\n",
      "\n",
      "<ipython-input-67-8f941d07ac3b>:14: FutureWarning:\n",
      "\n",
      "The frame.append method is deprecated and will be removed from pandas in a future version. Use pandas.concat instead.\n",
      "\n",
      "<ipython-input-67-8f941d07ac3b>:14: FutureWarning:\n",
      "\n",
      "The frame.append method is deprecated and will be removed from pandas in a future version. Use pandas.concat instead.\n",
      "\n",
      "<ipython-input-67-8f941d07ac3b>:14: FutureWarning:\n",
      "\n",
      "The frame.append method is deprecated and will be removed from pandas in a future version. Use pandas.concat instead.\n",
      "\n",
      "<ipython-input-67-8f941d07ac3b>:14: FutureWarning:\n",
      "\n",
      "The frame.append method is deprecated and will be removed from pandas in a future version. Use pandas.concat instead.\n",
      "\n",
      "<ipython-input-67-8f941d07ac3b>:14: FutureWarning:\n",
      "\n",
      "The frame.append method is deprecated and will be removed from pandas in a future version. Use pandas.concat instead.\n",
      "\n",
      "<ipython-input-67-8f941d07ac3b>:14: FutureWarning:\n",
      "\n",
      "The frame.append method is deprecated and will be removed from pandas in a future version. Use pandas.concat instead.\n",
      "\n",
      "<ipython-input-67-8f941d07ac3b>:14: FutureWarning:\n",
      "\n",
      "The frame.append method is deprecated and will be removed from pandas in a future version. Use pandas.concat instead.\n",
      "\n",
      "<ipython-input-67-8f941d07ac3b>:14: FutureWarning:\n",
      "\n",
      "The frame.append method is deprecated and will be removed from pandas in a future version. Use pandas.concat instead.\n",
      "\n",
      "<ipython-input-67-8f941d07ac3b>:14: FutureWarning:\n",
      "\n",
      "The frame.append method is deprecated and will be removed from pandas in a future version. Use pandas.concat instead.\n",
      "\n",
      "<ipython-input-67-8f941d07ac3b>:14: FutureWarning:\n",
      "\n",
      "The frame.append method is deprecated and will be removed from pandas in a future version. Use pandas.concat instead.\n",
      "\n",
      "<ipython-input-67-8f941d07ac3b>:14: FutureWarning:\n",
      "\n",
      "The frame.append method is deprecated and will be removed from pandas in a future version. Use pandas.concat instead.\n",
      "\n",
      "<ipython-input-67-8f941d07ac3b>:14: FutureWarning:\n",
      "\n",
      "The frame.append method is deprecated and will be removed from pandas in a future version. Use pandas.concat instead.\n",
      "\n",
      "<ipython-input-67-8f941d07ac3b>:14: FutureWarning:\n",
      "\n",
      "The frame.append method is deprecated and will be removed from pandas in a future version. Use pandas.concat instead.\n",
      "\n",
      "<ipython-input-67-8f941d07ac3b>:14: FutureWarning:\n",
      "\n",
      "The frame.append method is deprecated and will be removed from pandas in a future version. Use pandas.concat instead.\n",
      "\n",
      "<ipython-input-67-8f941d07ac3b>:14: FutureWarning:\n",
      "\n",
      "The frame.append method is deprecated and will be removed from pandas in a future version. Use pandas.concat instead.\n",
      "\n",
      "<ipython-input-67-8f941d07ac3b>:14: FutureWarning:\n",
      "\n",
      "The frame.append method is deprecated and will be removed from pandas in a future version. Use pandas.concat instead.\n",
      "\n",
      "<ipython-input-67-8f941d07ac3b>:14: FutureWarning:\n",
      "\n",
      "The frame.append method is deprecated and will be removed from pandas in a future version. Use pandas.concat instead.\n",
      "\n",
      "<ipython-input-67-8f941d07ac3b>:14: FutureWarning:\n",
      "\n",
      "The frame.append method is deprecated and will be removed from pandas in a future version. Use pandas.concat instead.\n",
      "\n",
      "<ipython-input-67-8f941d07ac3b>:14: FutureWarning:\n",
      "\n",
      "The frame.append method is deprecated and will be removed from pandas in a future version. Use pandas.concat instead.\n",
      "\n",
      "<ipython-input-67-8f941d07ac3b>:14: FutureWarning:\n",
      "\n",
      "The frame.append method is deprecated and will be removed from pandas in a future version. Use pandas.concat instead.\n",
      "\n",
      "<ipython-input-67-8f941d07ac3b>:14: FutureWarning:\n",
      "\n",
      "The frame.append method is deprecated and will be removed from pandas in a future version. Use pandas.concat instead.\n",
      "\n",
      "<ipython-input-67-8f941d07ac3b>:14: FutureWarning:\n",
      "\n",
      "The frame.append method is deprecated and will be removed from pandas in a future version. Use pandas.concat instead.\n",
      "\n",
      "<ipython-input-67-8f941d07ac3b>:14: FutureWarning:\n",
      "\n",
      "The frame.append method is deprecated and will be removed from pandas in a future version. Use pandas.concat instead.\n",
      "\n",
      "<ipython-input-67-8f941d07ac3b>:14: FutureWarning:\n",
      "\n",
      "The frame.append method is deprecated and will be removed from pandas in a future version. Use pandas.concat instead.\n",
      "\n",
      "<ipython-input-67-8f941d07ac3b>:14: FutureWarning:\n",
      "\n",
      "The frame.append method is deprecated and will be removed from pandas in a future version. Use pandas.concat instead.\n",
      "\n"
     ]
    },
    {
     "data": {
      "application/vnd.plotly.v1+json": {
       "config": {
        "plotlyServerURL": "https://plot.ly"
       },
       "data": [
        {
         "coloraxis": "coloraxis",
         "geo": "geo",
         "hovertemplate": "date=2020-01-22<br>Country_code=%{location}<br>pages=%{z}<extra></extra>",
         "locations": [
          "ITA",
          "RUS",
          "CHN",
          "ALB",
          "BGD",
          "BWA",
          "KHM",
          "HRV",
          "GRC",
          "SWE",
          "FIN",
          "NOR",
          "MYS",
          "ISR",
          "LTU",
          "SRB",
          "SVK",
          "SVN",
          "TUR",
          "VNM",
          "BGR",
          "CZE",
          "DNK",
          "GEO",
          "DEU",
          "HUN",
          "ISL",
          "JPN",
          "KAZ",
          "PRK",
          "KGZ",
          "NLD",
          "POL",
          "ROU",
          "TJK",
          "THA",
          "AZE",
          "MNG"
         ],
         "name": "",
         "type": "choropleth",
         "z": [
          40.38888316134122,
          19.77745483840676,
          5.067677698249593,
          0,
          0,
          0,
          0,
          8.301051466519093,
          2.971808193891981,
          70.7590770296487,
          47.038245294412214,
          25.299866622672287,
          0.8434777756582694,
          13.412768173975325,
          7.585285262184311,
          3.3482501986483504,
          0,
          10.606829561566938,
          0.5098467593908764,
          3.223798727376173,
          0,
          37.95152263191379,
          21.88152287167893,
          0.24175897382448727,
          38.5974793361652,
          17.086918364016796,
          0.27287884452182076,
          29.638605745242,
          0,
          17.62666461970746,
          0,
          32.674941948800274,
          25.41751024497435,
          2.217315625272621,
          0,
          2.151863142421048,
          0.009907738151558869,
          0
         ]
        }
       ],
       "frames": [
        {
         "data": [
          {
           "coloraxis": "coloraxis",
           "geo": "geo",
           "hovertemplate": "date=2020-01-22<br>Country_code=%{location}<br>pages=%{z}<extra></extra>",
           "locations": [
            "ITA",
            "RUS",
            "CHN",
            "ALB",
            "BGD",
            "BWA",
            "KHM",
            "HRV",
            "GRC",
            "SWE",
            "FIN",
            "NOR",
            "MYS",
            "ISR",
            "LTU",
            "SRB",
            "SVK",
            "SVN",
            "TUR",
            "VNM",
            "BGR",
            "CZE",
            "DNK",
            "GEO",
            "DEU",
            "HUN",
            "ISL",
            "JPN",
            "KAZ",
            "PRK",
            "KGZ",
            "NLD",
            "POL",
            "ROU",
            "TJK",
            "THA",
            "AZE",
            "MNG"
           ],
           "name": "",
           "type": "choropleth",
           "z": [
            40.38888316134122,
            19.77745483840676,
            5.067677698249593,
            0,
            0,
            0,
            0,
            8.301051466519093,
            2.971808193891981,
            70.7590770296487,
            47.038245294412214,
            25.299866622672287,
            0.8434777756582694,
            13.412768173975325,
            7.585285262184311,
            3.3482501986483504,
            0,
            10.606829561566938,
            0.5098467593908764,
            3.223798727376173,
            0,
            37.95152263191379,
            21.88152287167893,
            0.24175897382448727,
            38.5974793361652,
            17.086918364016796,
            0.27287884452182076,
            29.638605745242,
            0,
            17.62666461970746,
            0,
            32.674941948800274,
            25.41751024497435,
            2.217315625272621,
            0,
            2.151863142421048,
            0.009907738151558869,
            0
           ]
          }
         ],
         "name": "2020-01-22"
        },
        {
         "data": [
          {
           "coloraxis": "coloraxis",
           "geo": "geo",
           "hovertemplate": "date=2020-02-01<br>Country_code=%{location}<br>pages=%{z}<extra></extra>",
           "locations": [
            "ITA",
            "RUS",
            "CHN",
            "ALB",
            "BGD",
            "BWA",
            "KHM",
            "HRV",
            "GRC",
            "SWE",
            "FIN",
            "NOR",
            "MYS",
            "ISR",
            "LTU",
            "SRB",
            "SVK",
            "SVN",
            "TUR",
            "VNM",
            "BGR",
            "CZE",
            "DNK",
            "GEO",
            "DEU",
            "HUN",
            "ISL",
            "JPN",
            "KAZ",
            "PRK",
            "KGZ",
            "NLD",
            "POL",
            "ROU",
            "TJK",
            "THA",
            "AZE",
            "MNG"
           ],
           "name": "",
           "type": "choropleth",
           "z": [
            61.458857359790265,
            83.23341938152677,
            5.138544397987386,
            0.24666569644826064,
            0.04068264679818492,
            0,
            0,
            8.399873507787177,
            7.1024346772261175,
            23.113086449897533,
            89.4287285585807,
            7.658739932800134,
            3.491318265545218,
            77.77452225152196,
            12.70177484941241,
            1.797329110962751,
            6.246763269838007,
            8.989644785363907,
            1.6433665314319876,
            52.66462529046678,
            0,
            104.68450787064101,
            27.31760653180606,
            5.909663804598578,
            63.651329481626036,
            27.3431718838348,
            3.274546134261849,
            33.760226831721596,
            3.380311848163643,
            11.736962629561145,
            0,
            36.70555858154402,
            60.51335824335531,
            11.839530739160598,
            0,
            2.2535823721892863,
            0.5944642890935321,
            0
           ]
          }
         ],
         "name": "2020-02-01"
        },
        {
         "data": [
          {
           "coloraxis": "coloraxis",
           "geo": "geo",
           "hovertemplate": "date=2020-02-11<br>Country_code=%{location}<br>pages=%{z}<extra></extra>",
           "locations": [
            "ITA",
            "RUS",
            "CHN",
            "ALB",
            "BGD",
            "BWA",
            "KHM",
            "HRV",
            "GRC",
            "SWE",
            "FIN",
            "NOR",
            "MYS",
            "ISR",
            "LTU",
            "SRB",
            "SVK",
            "SVN",
            "TUR",
            "VNM",
            "BGR",
            "CZE",
            "DNK",
            "GEO",
            "DEU",
            "HUN",
            "ISL",
            "JPN",
            "KAZ",
            "PRK",
            "KGZ",
            "NLD",
            "POL",
            "ROU",
            "TJK",
            "THA",
            "AZE",
            "MNG"
           ],
           "name": "",
           "type": "choropleth",
           "z": [
            18.39375441961044,
            41.39147686648238,
            5.56005952802778,
            0.035237956635465806,
            0.04371866521595991,
            0,
            0,
            5.237568187208475,
            4.055864013047546,
            7.688264443843893,
            63.73040231353658,
            3.234516379386464,
            3.568559820092679,
            62.29992078219444,
            7.728403852036846,
            1.7828345213582126,
            2.894394711537845,
            4.851554328609092,
            0.4813901960760367,
            16.580270127827934,
            2.869910145853449,
            58.75942641975618,
            8.334185043601849,
            2.6056244956639185,
            46.89104326480659,
            8.758840505924576,
            4.911819201392773,
            16.53479696818495,
            3.98812817417414,
            4.535437071350798,
            0,
            22.37192901986641,
            27.14050766944941,
            6.200175308139366,
            0,
            1.3323786434431255,
            0.3864017879107958,
            0
           ]
          }
         ],
         "name": "2020-02-11"
        },
        {
         "data": [
          {
           "coloraxis": "coloraxis",
           "geo": "geo",
           "hovertemplate": "date=2020-02-21<br>Country_code=%{location}<br>pages=%{z}<extra></extra>",
           "locations": [
            "ITA",
            "RUS",
            "CHN",
            "ALB",
            "BGD",
            "BWA",
            "KHM",
            "HRV",
            "GRC",
            "SWE",
            "FIN",
            "NOR",
            "MYS",
            "ISR",
            "LTU",
            "SRB",
            "SVK",
            "SVN",
            "TUR",
            "VNM",
            "BGR",
            "CZE",
            "DNK",
            "GEO",
            "DEU",
            "HUN",
            "ISL",
            "JPN",
            "KAZ",
            "PRK",
            "KGZ",
            "NLD",
            "POL",
            "ROU",
            "TJK",
            "THA",
            "AZE",
            "MNG"
           ],
           "name": "",
           "type": "choropleth",
           "z": [
            94.78292400879826,
            38.08621119860518,
            6.726879739210545,
            0,
            0.03643222101329993,
            0,
            0,
            2.025851845995731,
            3.121333134465162,
            4.259453039868287,
            14.069878830854558,
            5.688287425817575,
            2.2956190011505284,
            32.15374765330816,
            2.433016027493081,
            1.1885563475721417,
            2.9859894808903085,
            5.993096523575938,
            1.6291382497745677,
            8.239281642306217,
            1.4565875614633081,
            31.52967631464168,
            4.698696917586228,
            1.0744843281088323,
            30.0105081871978,
            4.820439154314462,
            6.821971113045518,
            32.06057294017947,
            2.1326888631947276,
            15.94058550428398,
            0.0878095074055499,
            12.281053808445376,
            14.760256650097217,
            3.3077987196689915,
            0,
            2.653295965222224,
            0.6440029798513265,
            1.0676291190656597
           ]
          }
         ],
         "name": "2020-02-21"
        },
        {
         "data": [
          {
           "coloraxis": "coloraxis",
           "geo": "geo",
           "hovertemplate": "date=2020-03-02<br>Country_code=%{location}<br>pages=%{z}<extra></extra>",
           "locations": [
            "ITA",
            "RUS",
            "CHN",
            "ALB",
            "BGD",
            "BWA",
            "KHM",
            "HRV",
            "GRC",
            "SWE",
            "FIN",
            "NOR",
            "MYS",
            "ISR",
            "LTU",
            "SRB",
            "SVK",
            "SVN",
            "TUR",
            "VNM",
            "BGR",
            "CZE",
            "DNK",
            "GEO",
            "DEU",
            "HUN",
            "ISL",
            "JPN",
            "KAZ",
            "PRK",
            "KGZ",
            "NLD",
            "POL",
            "ROU",
            "TJK",
            "THA",
            "AZE",
            "MNG"
           ],
           "name": "",
           "type": "choropleth",
           "z": [
            56.95419578359303,
            110.6979421056412,
            8.604776415562327,
            0.07047591327093161,
            0.035217813646189935,
            0,
            0,
            9.11633330698079,
            7.3547580144433615,
            18.747388549624368,
            93.82330510857769,
            38.4981805845366,
            6.633504704535914,
            27.465789844928434,
            21.28889024056446,
            1.7683399317536743,
            56.184231520801085,
            16.12428350390669,
            3.9554623007627057,
            12.85512857732889,
            6.8358663775604755,
            286.92659782921027,
            19.326392066130214,
            4.0561783386108425,
            286.0768497722925,
            16.974099575298798,
            39.021674766620364,
            71.08608358875662,
            2.1326888631947276,
            7.8053502299809985,
            0.19757139166248727,
            109.89880457529456,
            71.40016892235087,
            10.167456661086163,
            0,
            4.501434083546559,
            2.556196443102188,
            0.5490664040909108
           ]
          }
         ],
         "name": "2020-03-02"
        },
        {
         "data": [
          {
           "coloraxis": "coloraxis",
           "geo": "geo",
           "hovertemplate": "date=2020-03-12<br>Country_code=%{location}<br>pages=%{z}<extra></extra>",
           "locations": [
            "ITA",
            "RUS",
            "CHN",
            "ALB",
            "BGD",
            "BWA",
            "KHM",
            "HRV",
            "GRC",
            "SWE",
            "FIN",
            "NOR",
            "MYS",
            "ISR",
            "LTU",
            "SRB",
            "SVK",
            "SVN",
            "TUR",
            "VNM",
            "BGR",
            "CZE",
            "DNK",
            "GEO",
            "DEU",
            "HUN",
            "ISL",
            "JPN",
            "KAZ",
            "PRK",
            "KGZ",
            "NLD",
            "POL",
            "ROU",
            "TJK",
            "THA",
            "AZE",
            "MNG"
           ],
           "name": "",
           "type": "choropleth",
           "z": [
            440.15152551171684,
            275.2386758228402,
            16.567500531500247,
            0.10571386990639742,
            0.01639449945598497,
            0,
            0,
            91.58332674519724,
            105.78889545552587,
            41.165054095053605,
            684.8848087445925,
            135.0317642520878,
            18.958167148128723,
            259.5197013597248,
            221.51179744425977,
            32.58383743100213,
            110.99454150131521,
            110.34907884679505,
            19.303035448566202,
            59.31049972239682,
            58.768260524385944,
            1316.478495040783,
            89.48102378089393,
            13.135570911130477,
            726.1516056030727,
            65.06567232972542,
            41.47758436731676,
            103.02864700897348,
            6.717969919063392,
            13.641035955559971,
            0.30733327591942466,
            326.9328899463922,
            457.15633655390485,
            61.68499370635471,
            0,
            3.515760420440247,
            1.1393898874292698,
            1.2811549428787916
           ]
          }
         ],
         "name": "2020-03-12"
        },
        {
         "data": [
          {
           "coloraxis": "coloraxis",
           "geo": "geo",
           "hovertemplate": "date=2020-03-22<br>Country_code=%{location}<br>pages=%{z}<extra></extra>",
           "locations": [
            "ITA",
            "RUS",
            "CHN",
            "ALB",
            "BGD",
            "BWA",
            "KHM",
            "HRV",
            "GRC",
            "SWE",
            "FIN",
            "NOR",
            "MYS",
            "ISR",
            "LTU",
            "SRB",
            "SVK",
            "SVN",
            "TUR",
            "VNM",
            "BGR",
            "CZE",
            "DNK",
            "GEO",
            "DEU",
            "HUN",
            "ISL",
            "JPN",
            "KAZ",
            "PRK",
            "KGZ",
            "NLD",
            "POL",
            "ROU",
            "TJK",
            "THA",
            "AZE",
            "MNG"
           ],
           "name": "",
           "type": "choropleth",
           "z": [
            336.5998185317774,
            314.6721194156809,
            20.586563673729714,
            12.192332995871169,
            3.8581722053084624,
            0,
            0.3349488434425779,
            135.13914143410548,
            216.7457466696123,
            27.208342887321916,
            258.32152856031684,
            54.74511917984562,
            35.89569522929588,
            367.5597660361797,
            124.08381740214715,
            34.526112438010266,
            115.26285775314,
            69.9670236998429,
            57.58185586757796,
            76.62326458974648,
            86.5587974643839,
            735.2967294948204,
            59.231018807820554,
            17.917026171214783,
            640.3323986349302,
            52.142792894754734,
            25.104853696007513,
            78.05656536856195,
            1.1196616531772319,
            45.458544938030705,
            0.3647471846076688,
            386.87039532150334,
            249.502164564988,
            312.38705710808034,
            0,
            3.630373637080516,
            11.681223280687906,
            0.45755533674242566
           ]
          }
         ],
         "name": "2020-03-22"
        },
        {
         "data": [
          {
           "coloraxis": "coloraxis",
           "geo": "geo",
           "hovertemplate": "date=2020-04-01<br>Country_code=%{location}<br>pages=%{z}<extra></extra>",
           "locations": [
            "ITA",
            "RUS",
            "CHN",
            "ALB",
            "BGD",
            "BWA",
            "KHM",
            "HRV",
            "GRC",
            "SWE",
            "FIN",
            "NOR",
            "MYS",
            "ISR",
            "LTU",
            "SRB",
            "SVK",
            "SVN",
            "TUR",
            "VNM",
            "BGR",
            "CZE",
            "DNK",
            "GEO",
            "DEU",
            "HUN",
            "ISL",
            "JPN",
            "KAZ",
            "PRK",
            "KGZ",
            "NLD",
            "POL",
            "ROU",
            "TJK",
            "THA",
            "AZE",
            "MNG"
           ],
           "name": "",
           "type": "choropleth",
           "z": [
            244.75720387144543,
            328.1624897476552,
            15.183119552122458,
            12.75614030203862,
            3.1119188782193694,
            0,
            0.10766212824940004,
            88.47043244525258,
            150.23518404090404,
            84.80271585043891,
            171.55124754432688,
            68.96583774438956,
            31.168512090991292,
            317.12081257935347,
            125.98013871769321,
            23.81461072025645,
            78.88141536634151,
            85.3778433318953,
            142.23183189825895,
            74.1843550362758,
            50.72097478877678,
            404.99696294342294,
            36.25199008677842,
            28.25893782926229,
            441.5466018868417,
            191.21759062348687,
            21.55742871722384,
            111.15308765176894,
            7.208488357598179,
            39.47238533258557,
            0.03039559871730573,
            270.5673250580512,
            151.42324072859836,
            173.66722194758205,
            0.32502792618972276,
            4.53581804853864,
            10.94805065747255,
            0.6100737823232342
           ]
          }
         ],
         "name": "2020-04-01"
        },
        {
         "data": [
          {
           "coloraxis": "coloraxis",
           "geo": "geo",
           "hovertemplate": "date=2020-04-11<br>Country_code=%{location}<br>pages=%{z}<extra></extra>",
           "locations": [
            "ITA",
            "RUS",
            "CHN",
            "ALB",
            "BGD",
            "BWA",
            "KHM",
            "HRV",
            "GRC",
            "SWE",
            "FIN",
            "NOR",
            "MYS",
            "ISR",
            "LTU",
            "SRB",
            "SVK",
            "SVN",
            "TUR",
            "VNM",
            "BGR",
            "CZE",
            "DNK",
            "GEO",
            "DEU",
            "HUN",
            "ISL",
            "JPN",
            "KAZ",
            "PRK",
            "KGZ",
            "NLD",
            "POL",
            "ROU",
            "TJK",
            "THA",
            "AZE",
            "MNG"
           ],
           "name": "",
           "type": "choropleth",
           "z": [
            155.87003745210623,
            161.78796520842099,
            10.609666217844236,
            15.293273179792159,
            4.433801297318601,
            0,
            0.08373721086064448,
            42.913471420665665,
            89.05144742011537,
            52.5815472767414,
            85.57669232339815,
            34.27843795165885,
            15.69548388404399,
            231.00129135874815,
            54.313504849036725,
            20.97367115776694,
            33.743513029447534,
            25.54200661238316,
            35.85171270628356,
            40.57589373373146,
            52.566947143898595,
            160.02268865412123,
            18.45181709241891,
            8.837633598695145,
            240.49050664705038,
            110.83933178867318,
            12.279548003481933,
            99.02028338124994,
            0.9597099884376274,
            18.59124077269572,
            0.1367801942278758,
            140.62437290370667,
            75.4240143623577,
            60.978776083317065,
            0.3145431543771511,
            3.7994281316249126,
            7.133571469122385,
            0.518562714974749
           ]
          }
         ],
         "name": "2020-04-11"
        },
        {
         "data": [
          {
           "coloraxis": "coloraxis",
           "geo": "geo",
           "hovertemplate": "date=2020-04-21<br>Country_code=%{location}<br>pages=%{z}<extra></extra>",
           "locations": [
            "ITA",
            "RUS",
            "CHN",
            "ALB",
            "BGD",
            "BWA",
            "KHM",
            "HRV",
            "GRC",
            "SWE",
            "FIN",
            "NOR",
            "MYS",
            "ISR",
            "LTU",
            "SRB",
            "SVK",
            "SVN",
            "TUR",
            "VNM",
            "BGR",
            "CZE",
            "DNK",
            "GEO",
            "DEU",
            "HUN",
            "ISL",
            "JPN",
            "KAZ",
            "PRK",
            "KGZ",
            "NLD",
            "POL",
            "ROU",
            "TJK",
            "THA",
            "AZE",
            "MNG"
           ],
           "name": "",
           "type": "choropleth",
           "z": [
            134.9733194681263,
            117.86235878431164,
            8.109347317695415,
            15.222797266521226,
            5.556520908211794,
            0.46776165417530435,
            0.07775598151345559,
            38.392363032650806,
            67.64134499179295,
            38.132246261678006,
            58.974132220329956,
            38.572537282913295,
            13.430761504712446,
            150.26424021443066,
            32.52369954398839,
            16.40787543233737,
            29.182093515694856,
            25.161492547394214,
            19.55084468743293,
            29.267941983498982,
            39.02500931999714,
            117.59363416489543,
            25.551308055487148,
            8.783909382289703,
            251.17341543957616,
            80.10133998977862,
            12.825305692525577,
            83.41926644015174,
            1.7701317564516237,
            19.980230432998813,
            0.03039559871730573,
            129.97735286529254,
            70.95688627715667,
            49.944125723353785,
            0.12581726175086042,
            1.4713471686194515,
            5.112392886204376,
            0.7015848496717193
           ]
          }
         ],
         "name": "2020-04-21"
        },
        {
         "data": [
          {
           "coloraxis": "coloraxis",
           "geo": "geo",
           "hovertemplate": "date=2020-05-01<br>Country_code=%{location}<br>pages=%{z}<extra></extra>",
           "locations": [
            "ITA",
            "RUS",
            "CHN",
            "ALB",
            "BGD",
            "BWA",
            "KHM",
            "HRV",
            "GRC",
            "SWE",
            "FIN",
            "NOR",
            "MYS",
            "ISR",
            "LTU",
            "SRB",
            "SVK",
            "SVN",
            "TUR",
            "VNM",
            "BGR",
            "CZE",
            "DNK",
            "GEO",
            "DEU",
            "HUN",
            "ISL",
            "JPN",
            "KAZ",
            "PRK",
            "KGZ",
            "NLD",
            "POL",
            "ROU",
            "TJK",
            "THA",
            "AZE",
            "MNG"
           ],
           "name": "",
           "type": "choropleth",
           "z": [
            125.6258943826416,
            76.80474012577737,
            4.961802848841329,
            10.818052687088002,
            4.668181919170831,
            1.0630946685802372,
            0.0657935228190778,
            24.21140011068069,
            45.37147415517474,
            33.08078608060971,
            39.24374943824472,
            19.927595164955687,
            10.28548540353985,
            100.63916832155918,
            18.17606091127184,
            10.740490896962891,
            15.699343467012234,
            18.645189184458474,
            18.299941591718106,
            19.154788805585962,
            43.81300011609435,
            73.08939789628914,
            12.00397022741007,
            6.554354401463877,
            184.76357709144244,
            56.50170064067739,
            13.916821070612858,
            60.99428960645013,
            0.6451383811164051,
            13.509853598753566,
            0.015197799358652866,
            94.59622165524755,
            52.9115885957096,
            33.358397135248985,
            0.5452081342537285,
            2.7750725079025096,
            4.3098660959281085,
            0.8541032952525279
           ]
          }
         ],
         "name": "2020-05-01"
        },
        {
         "data": [
          {
           "coloraxis": "coloraxis",
           "geo": "geo",
           "hovertemplate": "date=2020-05-11<br>Country_code=%{location}<br>pages=%{z}<extra></extra>",
           "locations": [
            "ITA",
            "RUS",
            "CHN",
            "ALB",
            "BGD",
            "BWA",
            "KHM",
            "HRV",
            "GRC",
            "SWE",
            "FIN",
            "NOR",
            "MYS",
            "ISR",
            "LTU",
            "SRB",
            "SVK",
            "SVN",
            "TUR",
            "VNM",
            "BGR",
            "CZE",
            "DNK",
            "GEO",
            "DEU",
            "HUN",
            "ISL",
            "JPN",
            "KAZ",
            "PRK",
            "KGZ",
            "NLD",
            "POL",
            "ROU",
            "TJK",
            "THA",
            "AZE",
            "MNG"
           ],
           "name": "",
           "type": "choropleth",
           "z": [
            84.56417155345913,
            71.89751033327593,
            4.657288640068032,
            15.398987049698558,
            2.8751094416329193,
            0.7229043746345613,
            0.17345565106847782,
            20.110285398055183,
            32.30673247259301,
            31.796189132078013,
            45.06701548391974,
            20.503859577375117,
            9.519249182429043,
            93.05379214550032,
            20.823754823543723,
            7.711121669614383,
            16.853437560853273,
            17.313389956997153,
            16.885413256942954,
            18.232235823691823,
            42.08240103316765,
            61.731984103733666,
            14.096090752758682,
            5.533594289760487,
            197.68431718325797,
            64.80926599172997,
            16.645609515831065,
            57.267089600114055,
            0.70378732485426,
            19.457430158079177,
            0.7598899679326433,
            84.47094573287848,
            51.555354788389266,
            24.779930125997534,
            0.4822995033782983,
            2.5128947748378945,
            4.091895856593813,
            0.3660442693939405
           ]
          }
         ],
         "name": "2020-05-11"
        },
        {
         "data": [
          {
           "coloraxis": "coloraxis",
           "geo": "geo",
           "hovertemplate": "date=2020-05-21<br>Country_code=%{location}<br>pages=%{z}<extra></extra>",
           "locations": [
            "ITA",
            "RUS",
            "CHN",
            "ALB",
            "BGD",
            "BWA",
            "KHM",
            "HRV",
            "GRC",
            "SWE",
            "FIN",
            "NOR",
            "MYS",
            "ISR",
            "LTU",
            "SRB",
            "SVK",
            "SVN",
            "TUR",
            "VNM",
            "BGR",
            "CZE",
            "DNK",
            "GEO",
            "DEU",
            "HUN",
            "ISL",
            "JPN",
            "KAZ",
            "PRK",
            "KGZ",
            "NLD",
            "POL",
            "ROU",
            "TJK",
            "THA",
            "AZE",
            "MNG"
           ],
           "name": "",
           "type": "choropleth",
           "z": [
            66.86175989255558,
            47.60706990634805,
            3.5889731415207997,
            17.97135788408756,
            1.8040021438419014,
            3.699569446659225,
            0.029906146735944453,
            17.491501304450946,
            25.47531175015579,
            23.39318653641948,
            36.36828576972817,
            16.451419515844947,
            8.156708160211837,
            79.43484064198978,
            16.959552897525302,
            7.624154131987153,
            15.60774869765977,
            15.077869825187083,
            10.875149946821205,
            14.140333232506581,
            31.295000082924542,
            49.14067844235734,
            8.265590928016648,
            5.748491155382253,
            108.16986272305878,
            44.019840107058876,
            32.74546134261849,
            56.76020307141555,
            1.146320263967166,
            11.85078261561376,
            1.7477469262450795,
            50.247971791417015,
            36.97188347893497,
            19.311936324095733,
            1.058961953069742,
            2.637536647934187,
            4.11171133289693,
            0.15251844558080854
           ]
          }
         ],
         "name": "2020-05-21"
        },
        {
         "data": [
          {
           "coloraxis": "coloraxis",
           "geo": "geo",
           "hovertemplate": "date=2020-05-31<br>Country_code=%{location}<br>pages=%{z}<extra></extra>",
           "locations": [
            "ITA",
            "RUS",
            "CHN",
            "ALB",
            "BGD",
            "BWA",
            "KHM",
            "HRV",
            "GRC",
            "SWE",
            "FIN",
            "NOR",
            "MYS",
            "ISR",
            "LTU",
            "SRB",
            "SVK",
            "SVN",
            "TUR",
            "VNM",
            "BGR",
            "CZE",
            "DNK",
            "GEO",
            "DEU",
            "HUN",
            "ISL",
            "JPN",
            "KAZ",
            "PRK",
            "KGZ",
            "NLD",
            "POL",
            "ROU",
            "TJK",
            "THA",
            "AZE",
            "MNG"
           ],
           "name": "",
           "type": "choropleth",
           "z": [
            52.46467309992222,
            31.615886428350812,
            2.7119977322656084,
            7.505684763354217,
            2.2903722943694556,
            0.46776165417530435,
            0.047849834777511126,
            14.180962921970117,
            22.279216145404032,
            19.906423390404854,
            24.106874654921754,
            7.063886345786532,
            5.786937266695746,
            86.95510629293226,
            8.37243750637325,
            4.971644234356641,
            13.775853310610502,
            11.272729175297599,
            10.56805620104856,
            10.681273221328896,
            16.93102769463291,
            34.763968637459946,
            6.139173344875436,
            3.438349849948264,
            85.69655313013736,
            33.968711657637236,
            9.277880713741906,
            43.38869484638962,
            0.35189366242713,
            8.837446713678437,
            0.3495493852490159,
            41.842731416449276,
            32.30686135570081,
            7.8566710562938535,
            0.25163452350172083,
            1.851003448740342,
            2.308502989313216,
            0.15251844558080854
           ]
          }
         ],
         "name": "2020-05-31"
        },
        {
         "data": [
          {
           "coloraxis": "coloraxis",
           "geo": "geo",
           "hovertemplate": "date=2020-06-10<br>Country_code=%{location}<br>pages=%{z}<extra></extra>",
           "locations": [
            "ITA",
            "RUS",
            "CHN",
            "ALB",
            "BGD",
            "BWA",
            "KHM",
            "HRV",
            "GRC",
            "SWE",
            "FIN",
            "NOR",
            "MYS",
            "ISR",
            "LTU",
            "SRB",
            "SVK",
            "SVN",
            "TUR",
            "VNM",
            "BGR",
            "CZE",
            "DNK",
            "GEO",
            "DEU",
            "HUN",
            "ISL",
            "JPN",
            "KAZ",
            "PRK",
            "KGZ",
            "NLD",
            "POL",
            "ROU",
            "TJK",
            "THA",
            "AZE",
            "MNG"
           ],
           "name": "",
           "type": "choropleth",
           "z": [
            38.43596602543196,
            26.648964731725602,
            2.4454680745517683,
            5.814262844851858,
            2.154358669253136,
            3.3168553659703397,
            0.10168089890221114,
            10.228081271246738,
            22.783862819838518,
            15.115746048512175,
            16.746411050605808,
            9.629192439782692,
            7.359575317282044,
            57.56855595707046,
            9.553165872656656,
            4.275903933338803,
            12.017233739043206,
            9.798237173465422,
            8.586767980252853,
            9.322099952903567,
            28.09339177951014,
            30.445347096586996,
            6.224915989356936,
            3.142866659718335,
            91.46729595941822,
            29.71236644691276,
            9.823638402785546,
            30.218357212440896,
            0.43186949479693226,
            7.348141133464564,
            0.19757139166248727,
            40.44950262305421,
            26.628621757737065,
            4.05036577918652,
            0.13630203356343212,
            2.0888258732689,
            2.655273824617777,
            0.18302213469697026
           ]
          }
         ],
         "name": "2020-06-10"
        },
        {
         "data": [
          {
           "coloraxis": "coloraxis",
           "geo": "geo",
           "hovertemplate": "date=2020-06-20<br>Country_code=%{location}<br>pages=%{z}<extra></extra>",
           "locations": [
            "ITA",
            "RUS",
            "CHN",
            "ALB",
            "BGD",
            "BWA",
            "KHM",
            "HRV",
            "GRC",
            "SWE",
            "FIN",
            "NOR",
            "MYS",
            "ISR",
            "LTU",
            "SRB",
            "SVK",
            "SVN",
            "TUR",
            "VNM",
            "BGR",
            "CZE",
            "DNK",
            "GEO",
            "DEU",
            "HUN",
            "ISL",
            "JPN",
            "KAZ",
            "PRK",
            "KGZ",
            "NLD",
            "POL",
            "ROU",
            "TJK",
            "THA",
            "AZE",
            "MNG"
           ],
           "name": "",
           "type": "choropleth",
           "z": [
            27.453540547093002,
            21.32319751844929,
            2.3599319679682518,
            7.576160676625149,
            2.117926448239836,
            0.4252378674320948,
            0.059812293471888905,
            9.684560044272274,
            11.672290673493976,
            13.058459206126813,
            14.10604818517552,
            5.558163203658349,
            6.262745242708104,
            53.99832882985535,
            4.866032054986162,
            4.174441806107034,
            6.484909670154413,
            10.369008270948845,
            7.123626349814849,
            6.503073914688073,
            13.772684368291676,
            23.892633459894494,
            5.744757180260534,
            2.1221065480149437,
            69.10100785259934,
            23.220157968867962,
            6.0033345794800566,
            26.462644838865526,
            0.3838839953750509,
            2.5156146069933816,
            0.16717579294518153,
            32.35960209844337,
            19.46221899376423,
            2.809292162230651,
            0.07339340268800192,
            1.6045850329637639,
            3.1704762084988376,
            0.09151106734848513
           ]
          }
         ],
         "name": "2020-06-20"
        },
        {
         "data": [
          {
           "coloraxis": "coloraxis",
           "geo": "geo",
           "hovertemplate": "date=2020-06-30<br>Country_code=%{location}<br>pages=%{z}<extra></extra>",
           "locations": [
            "ITA",
            "RUS",
            "CHN",
            "ALB",
            "BGD",
            "BWA",
            "KHM",
            "HRV",
            "GRC",
            "SWE",
            "FIN",
            "NOR",
            "MYS",
            "ISR",
            "LTU",
            "SRB",
            "SVK",
            "SVN",
            "TUR",
            "VNM",
            "BGR",
            "CZE",
            "DNK",
            "GEO",
            "DEU",
            "HUN",
            "ISL",
            "JPN",
            "KAZ",
            "PRK",
            "KGZ",
            "NLD",
            "POL",
            "ROU",
            "TJK",
            "THA",
            "AZE",
            "MNG"
           ],
           "name": "",
           "type": "choropleth",
           "z": [
            27.872383240324186,
            22.340042164278795,
            1.9017787541634186,
            8.386633679240862,
            1.4627536736839921,
            2.4663796311061503,
            0.07177475216626669,
            10.005731678393548,
            11.980685863426162,
            14.961208069741444,
            19.53145133331995,
            6.766459552279731,
            11.52135027629922,
            55.2245770528806,
            6.655014428142839,
            8.479334918654914,
            6.411633854672442,
            13.841199113973001,
            5.7470400994594835,
            6.39314833666728,
            17.219460875120692,
            38.0076086259511,
            5.247449842267831,
            2.3638655218394313,
            78.6571848195289,
            24.5534709264443,
            5.730455734958236,
            22.02738771275374,
            0.46919154990284007,
            2.305337005641941,
            0.33435158589036307,
            40.98844709457329,
            21.132444674763786,
            2.726207735990927,
            0.09436294631314533,
            2.2263617332372228,
            3.50733930565184,
            0.18302213469697026
           ]
          }
         ],
         "name": "2020-06-30"
        },
        {
         "data": [
          {
           "coloraxis": "coloraxis",
           "geo": "geo",
           "hovertemplate": "date=2020-07-10<br>Country_code=%{location}<br>pages=%{z}<extra></extra>",
           "locations": [
            "ITA",
            "RUS",
            "CHN",
            "ALB",
            "BGD",
            "BWA",
            "KHM",
            "HRV",
            "GRC",
            "SWE",
            "FIN",
            "NOR",
            "MYS",
            "ISR",
            "LTU",
            "SRB",
            "SVK",
            "SVN",
            "TUR",
            "VNM",
            "BGR",
            "CZE",
            "DNK",
            "GEO",
            "DEU",
            "HUN",
            "ISL",
            "JPN",
            "KAZ",
            "PRK",
            "KGZ",
            "NLD",
            "POL",
            "ROU",
            "TJK",
            "THA",
            "AZE",
            "MNG"
           ],
           "name": "",
           "type": "choropleth",
           "z": [
            25.00608625532042,
            20.096737116278142,
            2.3831053787825103,
            6.977115413822229,
            1.549583800432357,
            1.573380109498751,
            0.08971844020783336,
            12.402166179144595,
            15.569284437182517,
            13.241973055917056,
            14.73901188579237,
            6.431854409584579,
            7.115492004912069,
            61.89840587731007,
            5.724743594101367,
            8.537313277073068,
            5.770470469205198,
            10.89221511030865,
            5.729254747387708,
            4.895283918402634,
            21.978608353169125,
            30.230350786110638,
            3.9098645883564234,
            2.3101413054339894,
            71.08511405562359,
            25.02525858835593,
            4.638940356870953,
            22.902558984959725,
            0.5491673822726423,
            1.670645896975666,
            0.2887581878144045,
            27.31989794455752,
            16.85529486607455,
            3.022196004469942,
            0.07339340268800192,
            2.366762923621552,
            2.348133941919452,
            0.06100737823232342
           ]
          }
         ],
         "name": "2020-07-10"
        },
        {
         "data": [
          {
           "coloraxis": "coloraxis",
           "geo": "geo",
           "hovertemplate": "date=2020-07-20<br>Country_code=%{location}<br>pages=%{z}<extra></extra>",
           "locations": [
            "ITA",
            "RUS",
            "CHN",
            "ALB",
            "BGD",
            "BWA",
            "KHM",
            "HRV",
            "GRC",
            "SWE",
            "FIN",
            "NOR",
            "MYS",
            "ISR",
            "LTU",
            "SRB",
            "SVK",
            "SVN",
            "TUR",
            "VNM",
            "BGR",
            "CZE",
            "DNK",
            "GEO",
            "DEU",
            "HUN",
            "ISL",
            "JPN",
            "KAZ",
            "PRK",
            "KGZ",
            "NLD",
            "POL",
            "ROU",
            "TJK",
            "THA",
            "AZE",
            "MNG"
           ],
           "name": "",
           "type": "choropleth",
           "z": [
            24.504820702778677,
            16.844916525348975,
            2.4902558287860534,
            12.43899869231943,
            0.6047748688207788,
            2.721522351565407,
            0.07775598151345559,
            11.290418214878647,
            12.335807597287467,
            16.284439512965832,
            20.688870671590763,
            6.524800282555454,
            14.249521982915528,
            61.26900413451834,
            6.547675485753438,
            7.798089207241613,
            5.165944991478939,
            15.077869825187083,
            5.2265221288255415,
            4.950760378338361,
            12.09977192146253,
            33.23095146710678,
            6.567886567282939,
            2.498176062853035,
            70.26742180225601,
            30.943116869290918,
            24.83197485148569,
            22.66337190423013,
            0.36255710674310365,
            1.3233984818998925,
            0.2887581878144045,
            40.701774503339735,
            18.84478959510088,
            3.9101608099069867,
            0.09436294631314533,
            3.042980901799138,
            2.5264732286475113,
            0.3355405802777788
           ]
          }
         ],
         "name": "2020-07-20"
        },
        {
         "data": [
          {
           "coloraxis": "coloraxis",
           "geo": "geo",
           "hovertemplate": "date=2020-07-30<br>Country_code=%{location}<br>pages=%{z}<extra></extra>",
           "locations": [
            "ITA",
            "RUS",
            "CHN",
            "ALB",
            "BGD",
            "BWA",
            "KHM",
            "HRV",
            "GRC",
            "SWE",
            "FIN",
            "NOR",
            "MYS",
            "ISR",
            "LTU",
            "SRB",
            "SVK",
            "SVN",
            "TUR",
            "VNM",
            "BGR",
            "CZE",
            "DNK",
            "GEO",
            "DEU",
            "HUN",
            "ISL",
            "JPN",
            "KAZ",
            "PRK",
            "KGZ",
            "NLD",
            "POL",
            "ROU",
            "TJK",
            "THA",
            "AZE",
            "MNG"
           ],
           "name": "",
           "type": "choropleth",
           "z": [
            24.13307678629638,
            14.069242983593217,
            2.2625611225285236,
            5.215217582048939,
            0.46693963265379407,
            0.5953330144049327,
            0.07177475216626669,
            7.782235749861648,
            16.1113123467603,
            14.864621833009739,
            19.350604561715137,
            5.762644124194276,
            5.342025912502374,
            32.19715467005241,
            7.621064909647445,
            4.37736606057057,
            4.5064626521412015,
            6.801688911677453,
            4.402467482833312,
            13.822884600652138,
            12.070928603413751,
            29.931225484578313,
            4.218538108489826,
            1.3699675183387612,
            66.21984514808653,
            30.163641601784754,
            13.916821070612858,
            22.66495592463231,
            0.22393233063544637,
            1.0552463113691561,
            0.1367801942278758,
            28.632858412407188,
            25.892455936253842,
            4.2476912915058636,
            0.06290863087543021,
            2.9813762978549936,
            1.4267142938244772,
            0.12201475646464684
           ]
          }
         ],
         "name": "2020-07-30"
        },
        {
         "data": [
          {
           "coloraxis": "coloraxis",
           "geo": "geo",
           "hovertemplate": "date=2020-08-09<br>Country_code=%{location}<br>pages=%{z}<extra></extra>",
           "locations": [
            "ITA",
            "RUS",
            "CHN",
            "ALB",
            "BGD",
            "BWA",
            "KHM",
            "HRV",
            "GRC",
            "SWE",
            "FIN",
            "NOR",
            "MYS",
            "ISR",
            "LTU",
            "SRB",
            "SVK",
            "SVN",
            "TUR",
            "VNM",
            "BGR",
            "CZE",
            "DNK",
            "GEO",
            "DEU",
            "HUN",
            "ISL",
            "JPN",
            "KAZ",
            "PRK",
            "KGZ",
            "NLD",
            "POL",
            "ROU",
            "TJK",
            "THA",
            "AZE",
            "MNG"
           ],
           "name": "",
           "type": "choropleth",
           "z": [
            19.1221033600486,
            10.550197007923872,
            2.0530791581036074,
            4.862838015694281,
            0.5543769630857139,
            0.8504757348641896,
            0.08971844020783336,
            6.546960234010594,
            25.568764838014026,
            10.962537869048766,
            23.29306418270009,
            7.733096631176835,
            8.199963430758414,
            27.69367668283578,
            5.5458453567857,
            2.956896279325816,
            4.103445666990363,
            5.993096523575938,
            5.218222297858714,
            10.278555215869538,
            7.3406244434140975,
            20.312477507179477,
            5.453232189023432,
            1.692312816771411,
            49.9922613845639,
            27.66111574294916,
            10.915153780872831,
            19.82718337412186,
            0.25059094142538046,
            1.1980035820114188,
            0.25836258909709875,
            24.974916148267063,
            20.96885226998974,
            2.9027621417503395,
            0.13630203356343212,
            1.9613186697566007,
            1.5356994134916246,
            0.12201475646464684
           ]
          }
         ],
         "name": "2020-08-09"
        },
        {
         "data": [
          {
           "coloraxis": "coloraxis",
           "geo": "geo",
           "hovertemplate": "date=2020-08-19<br>Country_code=%{location}<br>pages=%{z}<extra></extra>",
           "locations": [
            "ITA",
            "RUS",
            "CHN",
            "ALB",
            "BGD",
            "BWA",
            "KHM",
            "HRV",
            "GRC",
            "SWE",
            "FIN",
            "NOR",
            "MYS",
            "ISR",
            "LTU",
            "SRB",
            "SVK",
            "SVN",
            "TUR",
            "VNM",
            "BGR",
            "CZE",
            "DNK",
            "GEO",
            "DEU",
            "HUN",
            "ISL",
            "JPN",
            "KAZ",
            "PRK",
            "KGZ",
            "NLD",
            "POL",
            "ROU",
            "TJK",
            "THA",
            "AZE",
            "MNG"
           ],
           "name": "",
           "type": "choropleth",
           "z": [
            25.43670364273882,
            11.505267473904349,
            1.7115725320671815,
            5.532359191768131,
            0.543447296781724,
            2.041141763674055,
            0.0657935228190778,
            12.080994545023321,
            21.51290082496648,
            10.836975761297547,
            27.1812697722036,
            8.12346929765451,
            3.8342707677359433,
            21.627546092825906,
            5.2238285296174976,
            3.449712325880119,
            8.481675642038116,
            10.178751238454371,
            6.069547817027665,
            7.518087663141757,
            9.157753480487134,
            32.10923158636056,
            5.933390998119836,
            1.4236917347442029,
            62.783132706726946,
            24.491933405325394,
            7.094849957567339,
            18.085552941921893,
            0.3678888289010905,
            1.4989513417437557,
            0.12158239486922293,
            24.390104062150616,
            20.05853969503737,
            2.103074539193001,
            0.09436294631314533,
            2.1676224597090847,
            1.2285595307932997,
            0.12201475646464684
           ]
          }
         ],
         "name": "2020-08-19"
        },
        {
         "data": [
          {
           "coloraxis": "coloraxis",
           "geo": "geo",
           "hovertemplate": "date=2020-08-29<br>Country_code=%{location}<br>pages=%{z}<extra></extra>",
           "locations": [
            "ITA",
            "RUS",
            "CHN",
            "ALB",
            "BGD",
            "BWA",
            "KHM",
            "HRV",
            "GRC",
            "SWE",
            "FIN",
            "NOR",
            "MYS",
            "ISR",
            "LTU",
            "SRB",
            "SVK",
            "SVN",
            "TUR",
            "VNM",
            "BGR",
            "CZE",
            "DNK",
            "GEO",
            "DEU",
            "HUN",
            "ISL",
            "JPN",
            "KAZ",
            "PRK",
            "KGZ",
            "NLD",
            "POL",
            "ROU",
            "TJK",
            "THA",
            "AZE",
            "MNG"
           ],
           "name": "",
           "type": "choropleth",
           "z": [
            24.445947231842567,
            9.460472711710683,
            1.6733045142087735,
            2.7837985742017985,
            0.500335835249319,
            5.102854409185138,
            0.035887376083133346,
            7.905763301446754,
            14.494573926812775,
            10.450630814370719,
            17.994253774679027,
            5.000487965833097,
            4.690107192121806,
            21.87713643910538,
            3.8284222785552893,
            3.000380048139431,
            5.770470469205198,
            6.278482072317649,
            6.179816999872669,
            4.690842890120971,
            5.9561451770727345,
            24.434798068921832,
            3.4811513659489206,
            0.9670358952979491,
            47.76284750552937,
            46.23519086733956,
            5.730455734958236,
            11.584733211363762,
            0.29857644084726187,
            1.2481615419668082,
            0.1367801942278758,
            20.2161511337901,
            14.749702301402118,
            1.8226646006339342,
            0.08387817450057362,
            1.391117916971263,
            0.8421577428825039,
            0.06100737823232342
           ]
          }
         ],
         "name": "2020-08-29"
        },
        {
         "data": [
          {
           "coloraxis": "coloraxis",
           "geo": "geo",
           "hovertemplate": "date=2020-09-08<br>Country_code=%{location}<br>pages=%{z}<extra></extra>",
           "locations": [
            "ITA",
            "RUS",
            "CHN",
            "ALB",
            "BGD",
            "BWA",
            "KHM",
            "HRV",
            "GRC",
            "SWE",
            "FIN",
            "NOR",
            "MYS",
            "ISR",
            "LTU",
            "SRB",
            "SVK",
            "SVN",
            "TUR",
            "VNM",
            "BGR",
            "CZE",
            "DNK",
            "GEO",
            "DEU",
            "HUN",
            "ISL",
            "JPN",
            "KAZ",
            "PRK",
            "KGZ",
            "NLD",
            "POL",
            "ROU",
            "TJK",
            "THA",
            "AZE",
            "MNG"
           ],
           "name": "",
           "type": "choropleth",
           "z": [
            22.467798608389263,
            11.60660489253309,
            1.771100559846928,
            4.3695066227977595,
            0.5853443509470189,
            17.09456227077021,
            0.0657935228190778,
            8.943394734761641,
            13.877783546948402,
            12.0732795914634,
            21.339919049368092,
            10.186867677607946,
            4.832231652489133,
            28.31222667144144,
            6.010980773806436,
            4.319387702152418,
            9.2693906584693,
            14.031456146467475,
            6.899530913710487,
            4.604546174665394,
            7.181986194145816,
            38.08238995133418,
            5.830499824742035,
            2.525038171055756,
            50.11611771117693,
            42.95318974099781,
            9.823638402785546,
            10.063281615067202,
            0.9810368770695745,
            1.5047387986616854,
            0.2127691910211401,
            25.760399048247,
            17.158732391058674,
            2.1550023055928285,
            0.14678680537600383,
            1.6346710023318345,
            0.8520654810340628,
            0.6100737823232342
           ]
          }
         ],
         "name": "2020-09-08"
        },
        {
         "data": [
          {
           "coloraxis": "coloraxis",
           "geo": "geo",
           "hovertemplate": "date=2020-09-18<br>Country_code=%{location}<br>pages=%{z}<extra></extra>",
           "locations": [
            "ITA",
            "RUS",
            "CHN",
            "ALB",
            "BGD",
            "BWA",
            "KHM",
            "HRV",
            "GRC",
            "SWE",
            "FIN",
            "NOR",
            "MYS",
            "ISR",
            "LTU",
            "SRB",
            "SVK",
            "SVN",
            "TUR",
            "VNM",
            "BGR",
            "CZE",
            "DNK",
            "GEO",
            "DEU",
            "HUN",
            "ISL",
            "JPN",
            "KAZ",
            "PRK",
            "KGZ",
            "NLD",
            "POL",
            "ROU",
            "TJK",
            "THA",
            "AZE",
            "MNG"
           ],
           "name": "",
           "type": "choropleth",
           "z": [
            23.31389449069965,
            11.12074055664186,
            1.590107008716604,
            5.814262844851858,
            0.5798795177950239,
            5.187901982671557,
            0.04186860543032224,
            7.36224207447229,
            16.09262172918865,
            9.619989178478038,
            17.795322325913734,
            6.413265234990404,
            3.6983256317324122,
            32.869963429588395,
            4.937591349912429,
            3.130831354580276,
            11.119604999389063,
            11.51055046591569,
            5.36880494539974,
            4.066219044918704,
            6.864709695609253,
            59.2548527004191,
            7.356718896512744,
            3.465211958150984,
            49.80347067312463,
            34.30716802379123,
            7.913486491132802,
            9.142173751197916,
            1.2849450400748232,
            1.1304832513022405,
            0.4255383820422802,
            24.56784106871542,
            12.902691279759635,
            2.2017372953526726,
            0.11533248993828873,
            3.077364866791219,
            1.5753303660978601,
            0.15251844558080854
           ]
          }
         ],
         "name": "2020-09-18"
        },
        {
         "data": [
          {
           "coloraxis": "coloraxis",
           "geo": "geo",
           "hovertemplate": "date=2020-09-28<br>Country_code=%{location}<br>pages=%{z}<extra></extra>",
           "locations": [
            "ITA",
            "RUS",
            "CHN",
            "ALB",
            "BGD",
            "BWA",
            "KHM",
            "HRV",
            "GRC",
            "SWE",
            "FIN",
            "NOR",
            "MYS",
            "ISR",
            "LTU",
            "SRB",
            "SVK",
            "SVN",
            "TUR",
            "VNM",
            "BGR",
            "CZE",
            "DNK",
            "GEO",
            "DEU",
            "HUN",
            "ISL",
            "JPN",
            "KAZ",
            "PRK",
            "KGZ",
            "NLD",
            "POL",
            "ROU",
            "TJK",
            "THA",
            "AZE",
            "MNG"
           ],
           "name": "",
           "type": "choropleth",
           "z": [
            28.873232246238057,
            13.307824160060813,
            1.5080433704202396,
            12.01614321269384,
            0.47058285475512407,
            11.949184074841865,
            0.05383106412470002,
            7.510475136374416,
            13.298374402227324,
            8.992178639721939,
            23.220725474058163,
            6.543389457149629,
            5.990854970701043,
            34.584540590986535,
            6.869692312921641,
            0.9276537346904522,
            16.798480699241797,
            10.083622722207133,
            3.911591765652328,
            4.376476283818514,
            6.994504626828756,
            38.680640554398835,
            6.75652038514224,
            3.384625633542822,
            52.606471618124345,
            32.625142446541076,
            6.821971113045518,
            9.755189646842652,
            1.0983347645452846,
            1.09190020518271,
            0.5167251781941975,
            35.63340309033053,
            19.18252875334408,
            1.6720740780744352,
            0.06290863087543021,
            1.3810892605152398,
            0.901604171791857,
            0.2745332020454554
           ]
          }
         ],
         "name": "2020-09-28"
        },
        {
         "data": [
          {
           "coloraxis": "coloraxis",
           "geo": "geo",
           "hovertemplate": "date=2020-10-08<br>Country_code=%{location}<br>pages=%{z}<extra></extra>",
           "locations": [
            "ITA",
            "RUS",
            "CHN",
            "ALB",
            "BGD",
            "BWA",
            "KHM",
            "HRV",
            "GRC",
            "SWE",
            "FIN",
            "NOR",
            "MYS",
            "ISR",
            "LTU",
            "SRB",
            "SVK",
            "SVN",
            "TUR",
            "VNM",
            "BGR",
            "CZE",
            "DNK",
            "GEO",
            "DEU",
            "HUN",
            "ISL",
            "JPN",
            "KAZ",
            "PRK",
            "KGZ",
            "NLD",
            "POL",
            "ROU",
            "TJK",
            "THA",
            "AZE",
            "MNG"
           ],
           "name": "",
           "type": "choropleth",
           "z": [
            34.15838783713115,
            15.232541022098506,
            1.4748068882432146,
            9.197106681856575,
            0.5980956283016738,
            10.205708818370276,
            0.08373721086064448,
            13.464503122776506,
            10.784486338840711,
            11.097758600473156,
            44.05427356293278,
            6.524800282555454,
            8.527467622039648,
            31.55690117307463,
            10.018301289677392,
            1.0725996307358352,
            17.36636826922707,
            19.739167121301698,
            3.998147145734965,
            4.123750188555754,
            8.869320299999352,
            60.71308854538918,
            5.350341015645632,
            4.674006827273421,
            69.161132282994,
            28.748278616049866,
            29.743794052878464,
            9.601539667830922,
            0.762436268592115,
            1.0861127482647805,
            0.7294943692153376,
            34.81925293122725,
            52.53690921703356,
            3.62975087134792,
            0.13630203356343212,
            1.4957024771555087,
            1.1889285781870642,
            0.39654795851010216
           ]
          }
         ],
         "name": "2020-10-08"
        },
        {
         "data": [
          {
           "coloraxis": "coloraxis",
           "geo": "geo",
           "hovertemplate": "date=2020-10-18<br>Country_code=%{location}<br>pages=%{z}<extra></extra>",
           "locations": [
            "ITA",
            "RUS",
            "CHN",
            "ALB",
            "BGD",
            "BWA",
            "KHM",
            "HRV",
            "GRC",
            "SWE",
            "FIN",
            "NOR",
            "MYS",
            "ISR",
            "LTU",
            "SRB",
            "SVK",
            "SVN",
            "TUR",
            "VNM",
            "BGR",
            "CZE",
            "DNK",
            "GEO",
            "DEU",
            "HUN",
            "ISL",
            "JPN",
            "KAZ",
            "PRK",
            "KGZ",
            "NLD",
            "POL",
            "ROU",
            "TJK",
            "THA",
            "AZE",
            "MNG"
           ],
           "name": "",
           "type": "choropleth",
           "z": [
            35.874128990126366,
            15.567787413863456,
            1.6317766281624264,
            7.329494980176887,
            0.46693963265379407,
            4.7626641152394615,
            0.005981229347188891,
            12.0562890347063,
            12.737655875077895,
            10.576192922121937,
            23.383487568502495,
            5.781233298788451,
            8.382253499490423,
            38.31754403099261,
            6.1183197161958365,
            1.1885563475721417,
            40.94286190055116,
            71.29882292730422,
            4.733275031368322,
            3.6922666112778737,
            10.282642884389492,
            68.705342695706,
            6.602183625075539,
            3.33090141713738,
            68.25084840681863,
            32.79949875637798,
            40.93182667827311,
            8.377091896943632,
            0.5225087714827082,
            1.26938221733255,
            0.5471207769115032,
            41.37258836682625,
            50.92209386668328,
            4.7150411891043085,
            0.07339340268800192,
            1.851003448740342,
            1.4068988175213595,
            0.2745332020454554
           ]
          }
         ],
         "name": "2020-10-18"
        },
        {
         "data": [
          {
           "coloraxis": "coloraxis",
           "geo": "geo",
           "hovertemplate": "date=2020-10-28<br>Country_code=%{location}<br>pages=%{z}<extra></extra>",
           "locations": [
            "ITA",
            "RUS",
            "CHN",
            "ALB",
            "BGD",
            "BWA",
            "KHM",
            "HRV",
            "GRC",
            "SWE",
            "FIN",
            "NOR",
            "MYS",
            "ISR",
            "LTU",
            "SRB",
            "SVK",
            "SVN",
            "TUR",
            "VNM",
            "BGR",
            "CZE",
            "DNK",
            "GEO",
            "DEU",
            "HUN",
            "ISL",
            "JPN",
            "KAZ",
            "PRK",
            "KGZ",
            "NLD",
            "POL",
            "ROU",
            "TJK",
            "THA",
            "AZE",
            "MNG"
           ],
           "name": "",
           "type": "choropleth",
           "z": [
            51.51765126743565,
            17.806927910413613,
            1.7081709304797674,
            12.227570952506634,
            0.5829155362127989,
            1.3607611757827034,
            0.05383106412470002,
            20.23381294964029,
            28.895694765767313,
            17.16337426722437,
            32.570503566027064,
            8.346539392784612,
            7.038250450364608,
            25.751212683530294,
            26.584278065108226,
            1.985758775821749,
            44.20363568949886,
            29.537404294767125,
            6.290086182717672,
            4.6846788390170016,
            21.805548444876454,
            67.98557243889384,
            9.92899823095776,
            5.399283748746883,
            108.78673937890814,
            36.5122625305521,
            73.95016686541342,
            9.4470976786181,
            0.7571045464341282,
            1.4796598186839907,
            0.6990987704980318,
            43.92397442880486,
            41.837438227376026,
            3.941317469746884,
            0.07339340268800192,
            1.6862469498199557,
            2.7147202535271298,
            0.06100737823232342
           ]
          }
         ],
         "name": "2020-10-28"
        },
        {
         "data": [
          {
           "coloraxis": "coloraxis",
           "geo": "geo",
           "hovertemplate": "date=2020-11-07<br>Country_code=%{location}<br>pages=%{z}<extra></extra>",
           "locations": [
            "ITA",
            "RUS",
            "CHN",
            "ALB",
            "BGD",
            "BWA",
            "KHM",
            "HRV",
            "GRC",
            "SWE",
            "FIN",
            "NOR",
            "MYS",
            "ISR",
            "LTU",
            "SRB",
            "SVK",
            "SVN",
            "TUR",
            "VNM",
            "BGR",
            "CZE",
            "DNK",
            "GEO",
            "DEU",
            "HUN",
            "ISL",
            "JPN",
            "KAZ",
            "PRK",
            "KGZ",
            "NLD",
            "POL",
            "ROU",
            "TJK",
            "THA",
            "AZE",
            "MNG"
           ],
           "name": "",
           "type": "choropleth",
           "z": [
            40.18366706264963,
            13.665975584803492,
            1.2728367939905039,
            8.210443896063532,
            0.6302774235300888,
            1.8285228299580079,
            0.059812293471888905,
            11.80923393153609,
            31.86750295965929,
            15.753215210941445,
            15.408144940730182,
            8.402306916567138,
            5.737502671785371,
            15.735043569793056,
            11.485266835665868,
            1.6088994461037527,
            13.446112140941635,
            15.17299834143432,
            5.426903762167537,
            2.9720999739640757,
            14.969682067315977,
            30.28643678014795,
            8.025511523468447,
            5.023214233908791,
            47.44178304722181,
            39.1891446992246,
            3.0016672897400283,
            8.781809109701333,
            0.44786466127089275,
            1.0224507221675554,
            0.5167251781941975,
            21.953387036665422,
            31.982315133326487,
            3.780341393907419,
            0.10484771812571704,
            1.05730692350648,
            1.2582827452479763,
            0.39654795851010216
           ]
          }
         ],
         "name": "2020-11-07"
        },
        {
         "data": [
          {
           "coloraxis": "coloraxis",
           "geo": "geo",
           "hovertemplate": "date=2020-11-17<br>Country_code=%{location}<br>pages=%{z}<extra></extra>",
           "locations": [
            "ITA",
            "RUS",
            "CHN",
            "ALB",
            "BGD",
            "BWA",
            "KHM",
            "HRV",
            "GRC",
            "SWE",
            "FIN",
            "NOR",
            "MYS",
            "ISR",
            "LTU",
            "SRB",
            "SVK",
            "SVN",
            "TUR",
            "VNM",
            "BGR",
            "CZE",
            "DNK",
            "GEO",
            "DEU",
            "HUN",
            "ISL",
            "JPN",
            "KAZ",
            "PRK",
            "KGZ",
            "NLD",
            "POL",
            "ROU",
            "TJK",
            "THA",
            "AZE",
            "MNG"
           ],
           "name": "",
           "type": "choropleth",
           "z": [
            34.33332615076988,
            35.57706894968118,
            1.5592799943306639,
            20.22658710875737,
            0.8506923606605533,
            3.359379152713549,
            0.1375682749853445,
            13.069214957704165,
            27.07335955253166,
            34.42333477118044,
            45.22977757836407,
            12.547692851068179,
            6.77871882708514,
            12.512072576531995,
            13.41736779867508,
            3.7251095283663465,
            13.48275004868262,
            21.927122994988153,
            15.911961653547815,
            3.705622055336474,
            19.151963184388844,
            33.04399815364908,
            12.261198160854573,
            5.855939588193136,
            82.31395267613298,
            46.173653346220654,
            5.457576890436416,
            11.03032607059979,
            1.5355359815002037,
            1.5240303217214506,
            0.9574613595951306,
            39.09640799243184,
            46.953658757325705,
            6.792151845097395,
            0.15727157718857554,
            0.9441263720742147,
            2.2490565604038633,
            0.6710811605555576
           ]
          }
         ],
         "name": "2020-11-17"
        },
        {
         "data": [
          {
           "coloraxis": "coloraxis",
           "geo": "geo",
           "hovertemplate": "date=2020-11-27<br>Country_code=%{location}<br>pages=%{z}<extra></extra>",
           "locations": [
            "ITA",
            "RUS",
            "CHN",
            "ALB",
            "BGD",
            "BWA",
            "KHM",
            "HRV",
            "GRC",
            "SWE",
            "FIN",
            "NOR",
            "MYS",
            "ISR",
            "LTU",
            "SRB",
            "SVK",
            "SVN",
            "TUR",
            "VNM",
            "BGR",
            "CZE",
            "DNK",
            "GEO",
            "DEU",
            "HUN",
            "ISL",
            "JPN",
            "KAZ",
            "PRK",
            "KGZ",
            "NLD",
            "POL",
            "ROU",
            "TJK",
            "THA",
            "AZE",
            "MNG"
           ],
           "name": "",
           "type": "choropleth",
           "z": [
            20.341625258010883,
            14.167109942679877,
            1.3621288356601233,
            8.210443896063532,
            0.8306546391032384,
            0.5953330144049327,
            0.07775598151345559,
            19.02324294410625,
            18.513056704717027,
            14.565204499141444,
            30.94288262158374,
            6.245962663642827,
            5.128839221951383,
            7.748152488849822,
            9.48160657773039,
            3.4787015050891954,
            11.943957923561234,
            14.554662985827278,
            10.071252033176986,
            3.0696974497769296,
            8.191502325853058,
            23.88328579422161,
            7.253827723134944,
            4.8889036928951874,
            51.070893665844366,
            51.22998633149094,
            24.559096006963866,
            10.83786759173458,
            1.2902767622328102,
            1.5973381093485584,
            1.139834951898965,
            20.405355044004242,
            18.108623773617666,
            3.0845093241497348,
            0.11533248993828873,
            0.7965618556498686,
            2.9525059691645428,
            1.0066217408333364
           ]
          }
         ],
         "name": "2020-11-27"
        },
        {
         "data": [
          {
           "coloraxis": "coloraxis",
           "geo": "geo",
           "hovertemplate": "date=2020-12-07<br>Country_code=%{location}<br>pages=%{z}<extra></extra>",
           "locations": [
            "ITA",
            "RUS",
            "CHN",
            "ALB",
            "BGD",
            "BWA",
            "KHM",
            "HRV",
            "GRC",
            "SWE",
            "FIN",
            "NOR",
            "MYS",
            "ISR",
            "LTU",
            "SRB",
            "SVK",
            "SVN",
            "TUR",
            "VNM",
            "BGR",
            "CZE",
            "DNK",
            "GEO",
            "DEU",
            "HUN",
            "ISL",
            "JPN",
            "KAZ",
            "PRK",
            "KGZ",
            "NLD",
            "POL",
            "ROU",
            "TJK",
            "THA",
            "AZE",
            "MNG"
           ],
           "name": "",
           "type": "choropleth",
           "z": [
            19.993430729903032,
            16.24105656502702,
            1.6109418184395154,
            17.40755057792011,
            0.507015075768424,
            0.29766650720246635,
            0.10766212824940004,
            19.44323661949561,
            26.587403495668823,
            18.63148506554632,
            34.08961644750751,
            6.431854409584579,
            6.336897135073666,
            11.09049277815759,
            17.42468831454604,
            3.0873475857666604,
            17.860980023730374,
            19.929424153796177,
            10.164921554088332,
            4.131968923361048,
            7.28293780731654,
            26.369764863209067,
            9.740364413098458,
            11.040326471318252,
            57.58477445480339,
            44.65572782528759,
            3.274546134261849,
            11.993410475126918,
            1.1356568196511923,
            1.9407272198123788,
            1.9757139166248727,
            31.31038041452857,
            18.15347975557184,
            4.626763986224602,
            0.06290863087543021,
            1.7435535581400898,
            4.8448839561122865,
            0.48805902585858735
           ]
          }
         ],
         "name": "2020-12-07"
        },
        {
         "data": [
          {
           "coloraxis": "coloraxis",
           "geo": "geo",
           "hovertemplate": "date=2020-12-17<br>Country_code=%{location}<br>pages=%{z}<extra></extra>",
           "locations": [
            "ITA",
            "RUS",
            "CHN",
            "ALB",
            "BGD",
            "BWA",
            "KHM",
            "HRV",
            "GRC",
            "SWE",
            "FIN",
            "NOR",
            "MYS",
            "ISR",
            "LTU",
            "SRB",
            "SVK",
            "SVN",
            "TUR",
            "VNM",
            "BGR",
            "CZE",
            "DNK",
            "GEO",
            "DEU",
            "HUN",
            "ISL",
            "JPN",
            "KAZ",
            "PRK",
            "KGZ",
            "NLD",
            "POL",
            "ROU",
            "TJK",
            "THA",
            "AZE",
            "MNG"
           ],
           "name": "",
           "type": "choropleth",
           "z": [
            22.884959202450844,
            14.194873619016521,
            1.5735950676776984,
            21.00182215473762,
            0.4632964105524641,
            0.29766650720246635,
            0.05383106412470002,
            15.16918333465096,
            19.63449375901589,
            24.503928258834115,
            29.532277803066187,
            6.357497711207879,
            5.073225302677211,
            12.642293626764767,
            19.786145047112853,
            2.5800369496078197,
            26.54416415834391,
            20.642888025650453,
            7.888396488901163,
            3.3696812701701235,
            4.326497707316756,
            29.1834122307475,
            10.666384973498664,
            16.6545070856869,
            65.44063253017156,
            35.025105770178484,
            2.183030756174566,
            12.105875923681896,
            0.3039081630052487,
            1.9523021336482378,
            1.139834951898965,
            37.62864432531605,
            19.929248923522398,
            2.767749949110789,
            0.09436294631314533,
            1.680516288987942,
            3.200199422953515,
            0.8235996061363661
           ]
          }
         ],
         "name": "2020-12-17"
        },
        {
         "data": [
          {
           "coloraxis": "coloraxis",
           "geo": "geo",
           "hovertemplate": "date=2020-12-27<br>Country_code=%{location}<br>pages=%{z}<extra></extra>",
           "locations": [
            "ITA",
            "RUS",
            "CHN",
            "ALB",
            "BGD",
            "BWA",
            "KHM",
            "HRV",
            "GRC",
            "SWE",
            "FIN",
            "NOR",
            "MYS",
            "ISR",
            "LTU",
            "SRB",
            "SVK",
            "SVN",
            "TUR",
            "VNM",
            "BGR",
            "CZE",
            "DNK",
            "GEO",
            "DEU",
            "HUN",
            "ISL",
            "JPN",
            "KAZ",
            "PRK",
            "KGZ",
            "NLD",
            "POL",
            "ROU",
            "TJK",
            "THA",
            "AZE",
            "MNG"
           ],
           "name": "",
           "type": "choropleth",
           "z": [
            30.222275780259785,
            11.771104674827694,
            1.9013535539649917,
            6.55425993419664,
            0.39043196852586426,
            0.2126189337160474,
            0.0657935228190778,
            12.377460668827576,
            27.858365490540866,
            21.983027480136556,
            34.79491885676628,
            8.84844710682734,
            4.9558181397650705,
            14.161539212813752,
            18.319179501124374,
            1.9132858277990574,
            31.233816349190036,
            19.929424153796177,
            9.177241669035775,
            4.077519805275982,
            4.658195864877708,
            33.43660011191025,
            10.614939386809763,
            10.073290576020304,
            51.82365153438568,
            48.25567281074371,
            3.0016672897400283,
            14.555563475657566,
            0.33056677379518273,
            1.9214356967526136,
            0.5167251781941975,
            37.06103259467363,
            22.5863062075138,
            3.80111250046735,
            0.13630203356343212,
            2.5945566916940863,
            3.130845255892602,
            0.45755533674242566
           ]
          }
         ],
         "name": "2020-12-27"
        },
        {
         "data": [
          {
           "coloraxis": "coloraxis",
           "geo": "geo",
           "hovertemplate": "date=2021-01-06<br>Country_code=%{location}<br>pages=%{z}<extra></extra>",
           "locations": [
            "ITA",
            "RUS",
            "CHN",
            "ALB",
            "BGD",
            "BWA",
            "KHM",
            "HRV",
            "GRC",
            "SWE",
            "FIN",
            "NOR",
            "MYS",
            "ISR",
            "LTU",
            "SRB",
            "SVK",
            "SVN",
            "TUR",
            "VNM",
            "BGR",
            "CZE",
            "DNK",
            "GEO",
            "DEU",
            "HUN",
            "ISL",
            "JPN",
            "KAZ",
            "PRK",
            "KGZ",
            "NLD",
            "POL",
            "ROU",
            "TJK",
            "THA",
            "AZE",
            "MNG"
           ],
           "name": "",
           "type": "choropleth",
           "z": [
            17.88407837122068,
            12.306943628124879,
            1.8007937070370632,
            7.1533051969995585,
            0.3175675264992644,
            0.08504757348641896,
            0.05383106412470002,
            9.536326982370149,
            23.400653199702894,
            11.841472623307302,
            22.985624670971905,
            10.688775391650672,
            5.660261117237911,
            15.50715673188571,
            15.313689114221157,
            1.246534705990295,
            18.245678055010718,
            27.111627130462576,
            6.526038520203217,
            4.954869745741008,
            2.985283418048562,
            40.45669703224702,
            11.283732013765468,
            5.855939588193136,
            65.39253298585581,
            49.44539821904261,
            3.5474249787836696,
            16.783488171327647,
            0.5171770493247214,
            1.417926944892742,
            0.3647471846076688,
            44.491586159447294,
            16.810438884120376,
            3.1468226438295277,
            0.08387817450057362,
            3.83237943140899,
            2.902967278406748,
            1.1591401864141448
           ]
          }
         ],
         "name": "2021-01-06"
        },
        {
         "data": [
          {
           "coloraxis": "coloraxis",
           "geo": "geo",
           "hovertemplate": "date=2021-01-16<br>Country_code=%{location}<br>pages=%{z}<extra></extra>",
           "locations": [
            "ITA",
            "RUS",
            "CHN",
            "ALB",
            "BGD",
            "BWA",
            "KHM",
            "HRV",
            "GRC",
            "SWE",
            "FIN",
            "NOR",
            "MYS",
            "ISR",
            "LTU",
            "SRB",
            "SVK",
            "SVN",
            "TUR",
            "VNM",
            "BGR",
            "CZE",
            "DNK",
            "GEO",
            "DEU",
            "HUN",
            "ISL",
            "JPN",
            "KAZ",
            "PRK",
            "KGZ",
            "NLD",
            "POL",
            "ROU",
            "TJK",
            "THA",
            "AZE",
            "MNG"
           ],
           "name": "",
           "type": "choropleth",
           "z": [
            10.30285741381929,
            11.561488918486047,
            1.527744312947346,
            7.259019066905956,
            0.26109758392864946,
            0.08504757348641896,
            0.05383106412470002,
            6.695193295912721,
            7.81267814494873,
            5.872443193287798,
            15.932600578384145,
            4.312688505848619,
            8.595440190041414,
            12.65314538095083,
            11.3063685983502,
            1.4494589604538315,
            11.724130477115322,
            14.840048534568988,
            6.994386124759953,
            4.234703108427211,
            2.148827194633989,
            21.71462735811225,
            3.3096660769859194,
            5.694766938976811,
            51.125005653199565,
            31.086704418568374,
            4.093182667827311,
            11.958562026278898,
            0.3039081630052487,
            0.9703636099061894,
            0.577516375628809,
            29.13740217297824,
            12.541204836952462,
            3.172786527029441,
            0.010484771812571703,
            0.7106019431696668,
            2.179702393342951,
            0.3050368911616171
           ]
          }
         ],
         "name": "2021-01-16"
        },
        {
         "data": [
          {
           "coloraxis": "coloraxis",
           "geo": "geo",
           "hovertemplate": "date=2021-01-26<br>Country_code=%{location}<br>pages=%{z}<extra></extra>",
           "locations": [
            "ITA",
            "RUS",
            "CHN",
            "ALB",
            "BGD",
            "BWA",
            "KHM",
            "HRV",
            "GRC",
            "SWE",
            "FIN",
            "NOR",
            "MYS",
            "ISR",
            "LTU",
            "SRB",
            "SVK",
            "SVN",
            "TUR",
            "VNM",
            "BGR",
            "CZE",
            "DNK",
            "GEO",
            "DEU",
            "HUN",
            "ISL",
            "JPN",
            "KAZ",
            "PRK",
            "KGZ",
            "NLD",
            "POL",
            "ROU",
            "TJK",
            "THA",
            "AZE",
            "MNG"
           ],
           "name": "",
           "type": "choropleth",
           "z": [
            10.250712339561591,
            11.631592201236067,
            1.8730068740698746,
            10.853290643723467,
            0.39528959799430424,
            0.4252378674320948,
            0.10168089890221114,
            9.610443513321211,
            7.644462586803901,
            7.272943625897552,
            22.388830324676015,
            9.629192439782692,
            11.407032775568979,
            15.062234810257078,
            9.624725167582923,
            1.4204697812447549,
            11.815725246467785,
            18.026853828851433,
            5.276321114626511,
            4.587081363204147,
            3.0285483951217294,
            26.902581806563518,
            4.184241050697225,
            8.219805110032567,
            62.95629106626361,
            35.876374812323384,
            4.366061512349132,
            10.402261981134318,
            1.439564982656441,
            1.1034751190185692,
            1.0942415538230064,
            30.67396726199008,
            16.327577431319554,
            3.1831720803094066,
            0.07339340268800192,
            0.9641836849862618,
            1.9121934632508617,
            0.39654795851010216
           ]
          }
         ],
         "name": "2021-01-26"
        },
        {
         "data": [
          {
           "coloraxis": "coloraxis",
           "geo": "geo",
           "hovertemplate": "date=2021-02-05<br>Country_code=%{location}<br>pages=%{z}<extra></extra>",
           "locations": [
            "ITA",
            "RUS",
            "CHN",
            "ALB",
            "BGD",
            "BWA",
            "KHM",
            "HRV",
            "GRC",
            "SWE",
            "FIN",
            "NOR",
            "MYS",
            "ISR",
            "LTU",
            "SRB",
            "SVK",
            "SVN",
            "TUR",
            "VNM",
            "BGR",
            "CZE",
            "DNK",
            "GEO",
            "DEU",
            "HUN",
            "ISL",
            "JPN",
            "KAZ",
            "PRK",
            "KGZ",
            "NLD",
            "POL",
            "ROU",
            "TJK",
            "THA",
            "AZE",
            "MNG"
           ],
           "name": "",
           "type": "choropleth",
           "z": [
            7.196020247562273,
            9.89080969492863,
            1.3522783643965701,
            10.50091107736881,
            0.33456922963880437,
            0.4252378674320948,
            0.15551196302691117,
            7.485769626057396,
            7.3921392495866565,
            4.887263578624384,
            16.27620944443329,
            5.8184116479768,
            6.219489972161525,
            14.009614654208853,
            8.58711539115205,
            1.5799102668946763,
            13.20796574062523,
            12.224014337769969,
            4.058617342778999,
            6.293496177153103,
            2.754536873658335,
            24.042196110660658,
            3.0867352013340184,
            4.217350987827166,
            46.20802973552309,
            18.061262448399507,
            3.0016672897400283,
            7.623098185504629,
            0.6291432146424446,
            0.7427236378009601,
            0.7446921685739905,
            25.708797981824958,
            12.886859756716985,
            1.7967007174340206,
            0.06290863087543021,
            0.7464185733697509,
            2.2292410841007455,
            0.3050368911616171
           ]
          }
         ],
         "name": "2021-02-05"
        },
        {
         "data": [
          {
           "coloraxis": "coloraxis",
           "geo": "geo",
           "hovertemplate": "date=2021-02-15<br>Country_code=%{location}<br>pages=%{z}<extra></extra>",
           "locations": [
            "ITA",
            "RUS",
            "CHN",
            "ALB",
            "BGD",
            "BWA",
            "KHM",
            "HRV",
            "GRC",
            "SWE",
            "FIN",
            "NOR",
            "MYS",
            "ISR",
            "LTU",
            "SRB",
            "SVK",
            "SVN",
            "TUR",
            "VNM",
            "BGR",
            "CZE",
            "DNK",
            "GEO",
            "DEU",
            "HUN",
            "ISL",
            "JPN",
            "KAZ",
            "PRK",
            "KGZ",
            "NLD",
            "POL",
            "ROU",
            "TJK",
            "THA",
            "AZE",
            "MNG"
           ],
           "name": "",
           "type": "choropleth",
           "z": [
            11.073258833497531,
            9.822788687903858,
            1.1697257458720147,
            11.76947751624558,
            0.3776806911712093,
            5.060330622441929,
            0.035887376083133346,
            12.995098426753103,
            8.279943584239922,
            5.553708612073164,
            18.844233601221656,
            5.967125044730201,
            12.97040183960958,
            17.10236459723714,
            10.80545353386633,
            6.029749275487939,
            14.43533564994824,
            15.838897955164978,
            4.359782637861052,
            5.20245913175046,
            3.7640530053655783,
            28.407555979898035,
            4.321429281867625,
            14.210055239239306,
            50.5658484505291,
            8.984478083360571,
            36.292886321402165,
            6.9776098716151465,
            1.146320263967166,
            2.4963230839336163,
            0.7446921685739905,
            26.408279104434826,
            13.369721209517806,
            2.9962321212700287,
            0.13630203356343212,
            0.6303726915214787,
            2.0707172736758035,
            3.2943984245454643
           ]
          }
         ],
         "name": "2021-02-15"
        },
        {
         "data": [
          {
           "coloraxis": "coloraxis",
           "geo": "geo",
           "hovertemplate": "date=2021-02-25<br>Country_code=%{location}<br>pages=%{z}<extra></extra>",
           "locations": [
            "ITA",
            "RUS",
            "CHN",
            "ALB",
            "BGD",
            "BWA",
            "KHM",
            "HRV",
            "GRC",
            "SWE",
            "FIN",
            "NOR",
            "MYS",
            "ISR",
            "LTU",
            "SRB",
            "SVK",
            "SVN",
            "TUR",
            "VNM",
            "BGR",
            "CZE",
            "DNK",
            "GEO",
            "DEU",
            "HUN",
            "ISL",
            "JPN",
            "KAZ",
            "PRK",
            "KGZ",
            "NLD",
            "POL",
            "ROU",
            "TJK",
            "THA",
            "AZE",
            "MNG"
           ],
           "name": "",
           "type": "choropleth",
           "z": [
            9.508906605766603,
            11.012462218928956,
            1.3099000779533698,
            15.821842529324147,
            0.15787295772429968,
            9.10009036304683,
            0.07775598151345559,
            8.646928610957387,
            8.653755935672876,
            5.3991706333024325,
            36.89274140738213,
            3.420408125328215,
            5.178273816861758,
            10.482794543737995,
            9.338487987877857,
            3.9860121412480365,
            12.218742231618625,
            12.176450079646349,
            4.937213735124672,
            7.903340857139867,
            2.379573739024216,
            41.13907662636763,
            4.595805744208428,
            7.252769214734618,
            46.43289510519917,
            10.471634843734183,
            4.366061512349132,
            5.937700477582151,
            1.2103009298630079,
            2.762546102158376,
            0.6990987704980318,
            22.136857495054898,
            14.348637050988323,
            2.3263639347122576,
            0.05242385906285852,
            0.3968482626169309,
            1.75366965282592,
            17.082065905050555
           ]
          }
         ],
         "name": "2021-02-25"
        },
        {
         "data": [
          {
           "coloraxis": "coloraxis",
           "geo": "geo",
           "hovertemplate": "date=2021-03-07<br>Country_code=%{location}<br>pages=%{z}<extra></extra>",
           "locations": [
            "ITA",
            "RUS",
            "CHN",
            "ALB",
            "BGD",
            "BWA",
            "KHM",
            "HRV",
            "GRC",
            "SWE",
            "FIN",
            "NOR",
            "MYS",
            "ISR",
            "LTU",
            "SRB",
            "SVK",
            "SVN",
            "TUR",
            "VNM",
            "BGR",
            "CZE",
            "DNK",
            "GEO",
            "DEU",
            "HUN",
            "ISL",
            "JPN",
            "KAZ",
            "PRK",
            "KGZ",
            "NLD",
            "POL",
            "ROU",
            "TJK",
            "THA",
            "AZE",
            "MNG"
           ],
           "name": "",
           "type": "choropleth",
           "z": [
            9.858783233044058,
            9.4785191013295,
            1.1240875912408759,
            12.967568041851417,
            0.11172547777411977,
            16.073991388933184,
            0.0657935228190778,
            8.893983714127598,
            10.476091148908523,
            5.476439622687798,
            23.90794320615646,
            2.4351818718369356,
            4.137057661561989,
            9.289101583270936,
            6.798133017995374,
            2.2611559783079773,
            11.156242907130048,
            10.606829561566938,
            5.9545358736301885,
            3.779590668584111,
            2.379573739024216,
            30.968816374268567,
            3.189626374711819,
            3.545798282759147,
            40.60323033413154,
            9.856259632545102,
            2.183030756174566,
            5.4537822447153115,
            0.23459577495142003,
            1.1652079928098178,
            0.37994498396632165,
            22.738869936645358,
            13.119055428009185,
            2.2069300719926552,
            0.05242385906285852,
            0.38968493657691416,
            1.3078214360057707,
            0.3355405802777788
           ]
          }
         ],
         "name": "2021-03-07"
        },
        {
         "data": [
          {
           "coloraxis": "coloraxis",
           "geo": "geo",
           "hovertemplate": "date=2021-03-17<br>Country_code=%{location}<br>pages=%{z}<extra></extra>",
           "locations": [
            "ITA",
            "RUS",
            "CHN",
            "ALB",
            "BGD",
            "BWA",
            "KHM",
            "HRV",
            "GRC",
            "SWE",
            "FIN",
            "NOR",
            "MYS",
            "ISR",
            "LTU",
            "SRB",
            "SVK",
            "SVN",
            "TUR",
            "VNM",
            "BGR",
            "CZE",
            "DNK",
            "GEO",
            "DEU",
            "HUN",
            "ISL",
            "JPN",
            "KAZ",
            "PRK",
            "KGZ",
            "NLD",
            "POL",
            "ROU",
            "TJK",
            "THA",
            "AZE",
            "MNG"
           ],
           "name": "",
           "type": "choropleth",
           "z": [
            11.458459543336653,
            12.27848585987982,
            1.1912692225923038,
            17.05517101156545,
            0.19612678978826462,
            15.436134587785041,
            0.08971844020783336,
            14.304490473555221,
            11.22371585177443,
            5.785515580229261,
            25.644072213562676,
            4.163975109095218,
            5.31112929068339,
            7.162157762802358,
            8.944911865783386,
            2.855434152094048,
            8.499994595908607,
            12.176450079646349,
            5.260907142830973,
            4.199773485504715,
            4.61493088780454,
            29.015154248635568,
            2.8981013834747174,
            8.434701975654333,
            52.373188828193,
            11.671616505552889,
            3.0016672897400283,
            5.2328113986108145,
            1.1889740412310605,
            1.280957131168409,
            9.240262010060944,
            23.449817962904568,
            25.83704560560457,
            3.38049759262875,
            0.11533248993828873,
            0.47851017947312247,
            2.060809535524245,
            0.9761180517171747
           ]
          }
         ],
         "name": "2021-03-17"
        },
        {
         "data": [
          {
           "coloraxis": "coloraxis",
           "geo": "geo",
           "hovertemplate": "date=2021-03-27<br>Country_code=%{location}<br>pages=%{z}<extra></extra>",
           "locations": [
            "ITA",
            "RUS",
            "CHN",
            "ALB",
            "BGD",
            "BWA",
            "KHM",
            "HRV",
            "GRC",
            "SWE",
            "FIN",
            "NOR",
            "MYS",
            "ISR",
            "LTU",
            "SRB",
            "SVK",
            "SVN",
            "TUR",
            "VNM",
            "BGR",
            "CZE",
            "DNK",
            "GEO",
            "DEU",
            "HUN",
            "ISL",
            "JPN",
            "KAZ",
            "PRK",
            "KGZ",
            "NLD",
            "POL",
            "ROU",
            "TJK",
            "THA",
            "AZE",
            "MNG"
           ],
           "name": "",
           "type": "choropleth",
           "z": [
            8.132949485031226,
            9.932455209433591,
            1.0011338671958045,
            10.042817641107755,
            0.15483693930652467,
            3.1042364322542926,
            0.07775598151345559,
            6.719898806229741,
            9.672394593327674,
            4.616822115775604,
            18.22935457776529,
            2.5838952685903362,
            3.3090281968132116,
            4.15622185326258,
            6.010980773806436,
            2.420596463957898,
            4.817884867939577,
            9.417723108476475,
            5.767196831807494,
            3.1621582163364756,
            3.4756198248777945,
            17.143618844071405,
            2.2464572854153135,
            5.694766938976811,
            41.8297687141829,
            8.666534224246213,
            3.0016672897400283,
            5.003128440294311,
            0.43186949479693226,
            0.9124890407268937,
            2.6748126871229045,
            16.24860247111774,
            16.699618222821826,
            2.487340010551722,
            0.06290863087543021,
            0.2593124026486083,
            3.190291684801956,
            0.5795700932070724
           ]
          }
         ],
         "name": "2021-03-27"
        },
        {
         "data": [
          {
           "coloraxis": "coloraxis",
           "geo": "geo",
           "hovertemplate": "date=2021-04-06<br>Country_code=%{location}<br>pages=%{z}<extra></extra>",
           "locations": [
            "ITA",
            "RUS",
            "CHN",
            "ALB",
            "BGD",
            "BWA",
            "KHM",
            "HRV",
            "GRC",
            "SWE",
            "FIN",
            "NOR",
            "MYS",
            "ISR",
            "LTU",
            "SRB",
            "SVK",
            "SVN",
            "TUR",
            "VNM",
            "BGR",
            "CZE",
            "DNK",
            "GEO",
            "DEU",
            "HUN",
            "ISL",
            "JPN",
            "KAZ",
            "PRK",
            "KGZ",
            "NLD",
            "POL",
            "ROU",
            "TJK",
            "THA",
            "AZE",
            "MNG"
           ],
           "name": "",
           "type": "choropleth",
           "z": [
            9.986622769933897,
            12.9350968052414,
            1.21033236482177,
            13.284709651570608,
            0.13662082879987475,
            6.931377239143146,
            0.07775598151345559,
            9.536326982370149,
            12.821763654150306,
            4.124232308443897,
            20.996310183318947,
            2.528127744807811,
            6.265834904890002,
            4.525181495588762,
            10.841233181329464,
            2.2321667990989007,
            11.559259892280888,
            15.363255373928794,
            10.89293529889298,
            3.3696812701701235,
            3.7063663692680215,
            21.82679934618687,
            1.7320014185263102,
            7.897459811599918,
            47.766454971353056,
            11.6203352379538,
            6.0033345794800566,
            5.321516541133049,
            1.2849450400748232,
            1.377414746467235,
            10.638459551057007,
            18.20370954333056,
            19.232661909645802,
            3.027388781109925,
            0.15727157718857554,
            0.3366763238807897,
            3.32900001892378,
            0.8235996061363661
           ]
          }
         ],
         "name": "2021-04-06"
        },
        {
         "data": [
          {
           "coloraxis": "coloraxis",
           "geo": "geo",
           "hovertemplate": "date=2021-04-16<br>Country_code=%{location}<br>pages=%{z}<extra></extra>",
           "locations": [
            "ITA",
            "RUS",
            "CHN",
            "ALB",
            "BGD",
            "BWA",
            "KHM",
            "HRV",
            "GRC",
            "SWE",
            "FIN",
            "NOR",
            "MYS",
            "ISR",
            "LTU",
            "SRB",
            "SVK",
            "SVN",
            "TUR",
            "VNM",
            "BGR",
            "CZE",
            "DNK",
            "GEO",
            "DEU",
            "HUN",
            "ISL",
            "JPN",
            "KAZ",
            "PRK",
            "KGZ",
            "NLD",
            "POL",
            "ROU",
            "TJK",
            "THA",
            "AZE",
            "MNG"
           ],
           "name": "",
           "type": "choropleth",
           "z": [
            7.705696295952027,
            9.607620196294883,
            1.1779462830415988,
            9.796151944659494,
            0.17123143876250965,
            1.9135704034444267,
            0.08373721086064448,
            7.386947584789312,
            10.597580163124235,
            4.713408352507311,
            16.529394924680034,
            2.992857109662188,
            4.344065027749183,
            4.091111328146195,
            7.764183499499979,
            2.0147479550308254,
            5.184263945349431,
            8.942080527240288,
            9.140485274754106,
            3.0563420057183284,
            2.350730420975438,
            16.638844897735602,
            2.1264175831412127,
            5.6410427225713695,
            43.53369507156797,
            8.63576546368676,
            4.093182667827311,
            6.024029589501113,
            0.8210852123299701,
            1.232728323518996,
            2.5836258909709877,
            17.93423730757102,
            15.20617788246519,
            2.0044117830333295,
            0.06290863087543021,
            0.6733526477615794,
            2.6156428720115414,
            1.25065125376263
           ]
          }
         ],
         "name": "2021-04-16"
        },
        {
         "data": [
          {
           "coloraxis": "coloraxis",
           "geo": "geo",
           "hovertemplate": "date=2021-04-26<br>Country_code=%{location}<br>pages=%{z}<extra></extra>",
           "locations": [
            "ITA",
            "RUS",
            "CHN",
            "ALB",
            "BGD",
            "BWA",
            "KHM",
            "HRV",
            "GRC",
            "SWE",
            "FIN",
            "NOR",
            "MYS",
            "ISR",
            "LTU",
            "SRB",
            "SVK",
            "SVN",
            "TUR",
            "VNM",
            "BGR",
            "CZE",
            "DNK",
            "GEO",
            "DEU",
            "HUN",
            "ISL",
            "JPN",
            "KAZ",
            "PRK",
            "KGZ",
            "NLD",
            "POL",
            "ROU",
            "TJK",
            "THA",
            "AZE",
            "MNG"
           ],
           "name": "",
           "type": "choropleth",
           "z": [
            8.237239633546622,
            11.58022940001328,
            1.7465806817376515,
            12.685664388767691,
            0.14390727300253472,
            1.1906660288098654,
            0.07177475216626669,
            7.164597991936121,
            14.541300470741895,
            4.993508439029262,
            18.75381021541925,
            2.7883761891262626,
            6.395600716529736,
            4.221332378378965,
            9.302708340414723,
            1.4494589604538315,
            4.744609052457607,
            8.276180913509629,
            10.042795469862146,
            5.850711839517943,
            1.7882857190242594,
            18.929022987592468,
            3.0867352013340184,
            7.440803972153664,
            48.91242661467555,
            9.753697097346922,
            18.282882582961992,
            7.692795083200672,
            1.295608484390797,
            1.1536330789739586,
            3.525889451207465,
            18.88599031046642,
            14.514868042936145,
            1.7136162911942971,
            0.09436294631314533,
            0.8309458206419492,
            2.2985952511616574,
            1.0981328081818216
           ]
          }
         ],
         "name": "2021-04-26"
        },
        {
         "data": [
          {
           "coloraxis": "coloraxis",
           "geo": "geo",
           "hovertemplate": "date=2021-05-06<br>Country_code=%{location}<br>pages=%{z}<extra></extra>",
           "locations": [
            "ITA",
            "RUS",
            "CHN",
            "ALB",
            "BGD",
            "BWA",
            "KHM",
            "HRV",
            "GRC",
            "SWE",
            "FIN",
            "NOR",
            "MYS",
            "ISR",
            "LTU",
            "SRB",
            "SVK",
            "SVN",
            "TUR",
            "VNM",
            "BGR",
            "CZE",
            "DNK",
            "GEO",
            "DEU",
            "HUN",
            "ISL",
            "JPN",
            "KAZ",
            "PRK",
            "KGZ",
            "NLD",
            "POL",
            "ROU",
            "TJK",
            "THA",
            "AZE",
            "MNG"
           ],
           "name": "",
           "type": "choropleth",
           "z": [
            6.5618688606218845,
            10.547420640290207,
            1.6387215647367301,
            8.703775288960054,
            0.1603017724585197,
            3.2318077924839206,
            0.05383106412470002,
            5.781089414182939,
            14.204869354452235,
            4.887263578624384,
            15.552822358014033,
            2.5838952685903362,
            5.023790707766836,
            3.515968356284793,
            6.798133017995374,
            1.1885563475721417,
            4.268316251824797,
            8.038359622891535,
            7.4153061237919555,
            8.315304939255178,
            2.0334539224388757,
            14.507577124317784,
            1.9034867074893114,
            5.103800558516953,
            41.8670458610276,
            7.999877745458044,
            3.8203038233054905,
            7.77754017471745,
            0.735777657802181,
            1.3195401772879394,
            0.6990987704980318,
            15.526187541209184,
            12.528011901083588,
            2.1601950822328106,
            0.12581726175086042,
            0.7507165689937609,
            2.031086321069568,
            0.7930959170202043
           ]
          }
         ],
         "name": "2021-05-06"
        },
        {
         "data": [
          {
           "coloraxis": "coloraxis",
           "geo": "geo",
           "hovertemplate": "date=2021-05-16<br>Country_code=%{location}<br>pages=%{z}<extra></extra>",
           "locations": [
            "ITA",
            "RUS",
            "CHN",
            "ALB",
            "BGD",
            "BWA",
            "KHM",
            "HRV",
            "GRC",
            "SWE",
            "FIN",
            "NOR",
            "MYS",
            "ISR",
            "LTU",
            "SRB",
            "SVK",
            "SVN",
            "TUR",
            "VNM",
            "BGR",
            "CZE",
            "DNK",
            "GEO",
            "DEU",
            "HUN",
            "ISL",
            "JPN",
            "KAZ",
            "PRK",
            "KGZ",
            "NLD",
            "POL",
            "ROU",
            "TJK",
            "THA",
            "AZE",
            "MNG"
           ],
           "name": "",
           "type": "choropleth",
           "z": [
            6.087516894793797,
            7.211614928442698,
            3.8884558146127137,
            12.650426432132223,
            0.16819542034473467,
            6.59118694519747,
            0.1375682749853445,
            7.36224207447229,
            9.37334471218131,
            4.008328824365848,
            13.545423193200596,
            1.5429014913165318,
            4.974356112856461,
            1.8122429490727177,
            4.687133817670495,
            1.1015888099449118,
            4.817884867939577,
            7.610281299778969,
            6.740648435202632,
            6.939694201219264,
            2.768958532682724,
            14.4982294586449,
            2.400794045482014,
            5.399283748746883,
            34.11460180593828,
            7.1486087033131485,
            7.367728802089161,
            6.693278209423338,
            0.4798549942188137,
            1.369698137243329,
            0.4863295794768917,
            15.159246624430237,
            10.018715498823587,
            2.0355684428732257,
            0.13630203356343212,
            0.44985687531305524,
            1.4465297701275948,
            0.5490664040909108
           ]
          }
         ],
         "name": "2021-05-16"
        },
        {
         "data": [
          {
           "coloraxis": "coloraxis",
           "geo": "geo",
           "hovertemplate": "date=2021-05-26<br>Country_code=%{location}<br>pages=%{z}<extra></extra>",
           "locations": [
            "ITA",
            "RUS",
            "CHN",
            "ALB",
            "BGD",
            "BWA",
            "KHM",
            "HRV",
            "GRC",
            "SWE",
            "FIN",
            "NOR",
            "MYS",
            "ISR",
            "LTU",
            "SRB",
            "SVK",
            "SVN",
            "TUR",
            "VNM",
            "BGR",
            "CZE",
            "DNK",
            "GEO",
            "DEU",
            "HUN",
            "ISL",
            "JPN",
            "KAZ",
            "PRK",
            "KGZ",
            "NLD",
            "POL",
            "ROU",
            "TJK",
            "THA",
            "AZE",
            "MNG"
           ],
           "name": "",
           "type": "choropleth",
           "z": [
            6.654384314950058,
            8.96419699719321,
            3.24597831478988,
            10.959004513629866,
            0.12629836617943976,
            10.928613193004837,
            0.047849834777511126,
            4.298758795161673,
            9.111676066178244,
            4.549211750063409,
            11.302923225300898,
            1.6544365388815823,
            7.748872752201246,
            3.190415730702868,
            5.116489587228097,
            0.9131591450859137,
            3.846980312803465,
            5.755275232957845,
            4.256627595844758,
            6.992088635603007,
            1.4421659024389188,
            12.572610330030553,
            2.0749719964523123,
            3.65324671557003,
            34.67736647443243,
            5.251201802146818,
            2.183030756174566,
            6.123822874838628,
            0.43186949479693226,
            1.6089130231844173,
            0.2887581878144045,
            16.472207092279906,
            9.319489897773217,
            2.0355684428732257,
            0.04193908725028681,
            0.4484242101050519,
            1.208744054490182,
            0.45755533674242566
           ]
          }
         ],
         "name": "2021-05-26"
        },
        {
         "data": [
          {
           "coloraxis": "coloraxis",
           "geo": "geo",
           "hovertemplate": "date=2021-06-05<br>Country_code=%{location}<br>pages=%{z}<extra></extra>",
           "locations": [
            "ITA",
            "RUS",
            "CHN",
            "ALB",
            "BGD",
            "BWA",
            "KHM",
            "HRV",
            "GRC",
            "SWE",
            "FIN",
            "NOR",
            "MYS",
            "ISR",
            "LTU",
            "SRB",
            "SVK",
            "SVN",
            "TUR",
            "VNM",
            "BGR",
            "CZE",
            "DNK",
            "GEO",
            "DEU",
            "HUN",
            "ISL",
            "JPN",
            "KAZ",
            "PRK",
            "KGZ",
            "NLD",
            "POL",
            "ROU",
            "TJK",
            "THA",
            "AZE",
            "MNG"
           ],
           "name": "",
           "type": "choropleth",
           "z": [
            5.478596995397457,
            6.2162871317740915,
            2.691588122741124,
            4.686648232516951,
            0.1475504951038647,
            0.7654281613777707,
            0.05383106412470002,
            2.4458455213850896,
            5.149265140988936,
            2.4049972946195095,
            7.071108769748241,
            1.3012422215922557,
            5.502688345961092,
            2.886566613493071,
            2.8623717970506837,
            0.7972024282496072,
            2.894394711537845,
            3.0916767780352057,
            3.564184555183661,
            6.0099498263704945,
            0.9806728136584648,
            10.35721356555677,
            1.4233278983929085,
            3.545798282759147,
            25.010560555576674,
            3.9794263656893856,
            1.9101519116527452,
            5.584463927895391,
            0.13862477610765728,
            0.9935134375779077,
            0.16717579294518153,
            15.308316371871685,
            7.361658214832184,
            1.18395307391606,
            0.020969543625143406,
            0.3280803326327696,
            1.1592053637323876,
            0
           ]
          }
         ],
         "name": "2021-06-05"
        },
        {
         "data": [
          {
           "coloraxis": "coloraxis",
           "geo": "geo",
           "hovertemplate": "date=2021-06-15<br>Country_code=%{location}<br>pages=%{z}<extra></extra>",
           "locations": [
            "ITA",
            "RUS",
            "CHN",
            "ALB",
            "BGD",
            "BWA",
            "KHM",
            "HRV",
            "GRC",
            "SWE",
            "FIN",
            "NOR",
            "MYS",
            "ISR",
            "LTU",
            "SRB",
            "SVK",
            "SVN",
            "TUR",
            "VNM",
            "BGR",
            "CZE",
            "DNK",
            "GEO",
            "DEU",
            "HUN",
            "ISL",
            "JPN",
            "KAZ",
            "PRK",
            "KGZ",
            "NLD",
            "POL",
            "ROU",
            "TJK",
            "THA",
            "AZE",
            "MNG"
           ],
           "name": "",
           "type": "choropleth",
           "z": [
            5.554291458029599,
            11.159609703513159,
            2.042874353341365,
            6.060928541300118,
            0.17669627191450465,
            1.403284962525913,
            0.017943688041566673,
            3.681121037236145,
            5.747364903281661,
            2.8106594888926795,
            9.18701599752457,
            1.8960958086058584,
            6.429587000530618,
            2.7129385465160443,
            3.5421850988502213,
            0.5507944049724559,
            3.5538770508755815,
            4.94668284485633,
            5.949793113077716,
            5.4870328243837285,
            1.4710092204876972,
            10.843292180546797,
            2.297902872104214,
            1.9877960070013398,
            26.421079692635733,
            4.01019512624884,
            1.091515378087283,
            5.729401794695116,
            0.3145716073212223,
            1.3928479649150471,
            0.30395598717305733,
            15.319783275521026,
            7.783832162636181,
            1.459170235835144,
            0.06290863087543021,
            0.6776506433855896,
            0.9412351243980924,
            0.3050368911616171
           ]
          }
         ],
         "name": "2021-06-15"
        },
        {
         "data": [
          {
           "coloraxis": "coloraxis",
           "geo": "geo",
           "hovertemplate": "date=2021-06-25<br>Country_code=%{location}<br>pages=%{z}<extra></extra>",
           "locations": [
            "ITA",
            "RUS",
            "CHN",
            "ALB",
            "BGD",
            "BWA",
            "KHM",
            "HRV",
            "GRC",
            "SWE",
            "FIN",
            "NOR",
            "MYS",
            "ISR",
            "LTU",
            "SRB",
            "SVK",
            "SVN",
            "TUR",
            "VNM",
            "BGR",
            "CZE",
            "DNK",
            "GEO",
            "DEU",
            "HUN",
            "ISL",
            "JPN",
            "KAZ",
            "PRK",
            "KGZ",
            "NLD",
            "POL",
            "ROU",
            "TJK",
            "THA",
            "AZE",
            "MNG"
           ],
           "name": "",
           "type": "choropleth",
           "z": [
            3.6636119913956593,
            20.849132745001135,
            1.7673446247608247,
            2.9247504007436618,
            0.11597590355900476,
            1.1906660288098654,
            0.023924917388755563,
            2.519962052336153,
            3.831576602187774,
            2.1538730791170706,
            7.794495856167499,
            1.1525288248388552,
            4.331706379021589,
            3.874076244424911,
            3.077049681829485,
            0.49281604655430267,
            2.9310326192788305,
            2.663598454922639,
            4.727346580677731,
            6.704432917417751,
            1.1248894039023567,
            9.880482616239625,
            0.9603176181928056,
            1.5311401675550862,
            23.578396623575525,
            3.733276281213754,
            2.728788445218208,
            5.54407140763973,
            0.20260544200349911,
            0.7581568562487722,
            0.227966990379793,
            12.074649542757218,
            7.97908761349553,
            0.7893020492773731,
            0.08387817450057362,
            0.5859600700733745,
            1.1294821492777112,
            0.3355405802777788
           ]
          }
         ],
         "name": "2021-06-25"
        },
        {
         "data": [
          {
           "coloraxis": "coloraxis",
           "geo": "geo",
           "hovertemplate": "date=2021-07-05<br>Country_code=%{location}<br>pages=%{z}<extra></extra>",
           "locations": [
            "ITA",
            "RUS",
            "CHN",
            "ALB",
            "BGD",
            "BWA",
            "KHM",
            "HRV",
            "GRC",
            "SWE",
            "FIN",
            "NOR",
            "MYS",
            "ISR",
            "LTU",
            "SRB",
            "SVK",
            "SVN",
            "TUR",
            "VNM",
            "BGR",
            "CZE",
            "DNK",
            "GEO",
            "DEU",
            "HUN",
            "ISL",
            "JPN",
            "KAZ",
            "PRK",
            "KGZ",
            "NLD",
            "POL",
            "ROU",
            "TJK",
            "THA",
            "AZE",
            "MNG"
           ],
           "name": "",
           "type": "choropleth",
           "z": [
            3.360834140867092,
            19.018812382508024,
            1.4755155552405923,
            2.396181051211675,
            0.16758821666117968,
            0.29766650720246635,
            0.029906146735944453,
            2.8905447070914696,
            6.457608371004274,
            2.0186523476926803,
            9.20510067468505,
            0.6692102853903029,
            5.706606049966388,
            3.8957797527970395,
            3.220168271682019,
            0.507310636158841,
            2.729524126703411,
            3.710012133642247,
            3.2132202743006393,
            5.569220172436658,
            1.0383594497560216,
            9.029845040007073,
            1.9206352363856112,
            1.2356569773251573,
            25.216186107526458,
            3.364051154500306,
            1.364394222609104,
            5.102129715430735,
            0.11729788747571002,
            0.9028432791970112,
            0.16717579294518153,
            13.416277269730243,
            7.147932653756412,
            0.8412298156772005,
            0.031454315437715104,
            0.7607452254497845,
            0.5449255983357377,
            0.3355405802777788
           ]
          }
         ],
         "name": "2021-07-05"
        },
        {
         "data": [
          {
           "coloraxis": "coloraxis",
           "geo": "geo",
           "hovertemplate": "date=2021-07-15<br>Country_code=%{location}<br>pages=%{z}<extra></extra>",
           "locations": [
            "ITA",
            "RUS",
            "CHN",
            "ALB",
            "BGD",
            "BWA",
            "KHM",
            "HRV",
            "GRC",
            "SWE",
            "FIN",
            "NOR",
            "MYS",
            "ISR",
            "LTU",
            "SRB",
            "SVK",
            "SVN",
            "TUR",
            "VNM",
            "BGR",
            "CZE",
            "DNK",
            "GEO",
            "DEU",
            "HUN",
            "ISL",
            "JPN",
            "KAZ",
            "PRK",
            "KGZ",
            "NLD",
            "POL",
            "ROU",
            "TJK",
            "THA",
            "AZE",
            "MNG"
           ],
           "name": "",
           "type": "choropleth",
           "z": [
            3.7376243548581973,
            15.346372095078735,
            1.5345475161221742,
            1.9028496583151533,
            0.2975298049419494,
            0.5953330144049327,
            0.07177475216626669,
            3.9775871610403986,
            7.868749997663673,
            2.984514715009752,
            9.711471635178532,
            0.6506211107961278,
            5.413088142686037,
            4.915844646287072,
            3.148608976755752,
            0.3478701505089195,
            3.169179019595235,
            5.94553226545232,
            2.823128218859713,
            7.492404116875217,
            0.908564518536519,
            11.703277422452233,
            3.206774903608119,
            2.4713139546503147,
            21.721754212987978,
            3.179438591143582,
            3.0016672897400283,
            5.6541608255914335,
            0.21326888631947272,
            1.6089130231844173,
            0.1823735923038344,
            13.960955193073989,
            6.7072885957359905,
            0.7789164959974078,
            0.08387817450057362,
            0.8767911072980566,
            1.288005959702653,
            0.18302213469697026
           ]
          }
         ],
         "name": "2021-07-15"
        },
        {
         "data": [
          {
           "coloraxis": "coloraxis",
           "geo": "geo",
           "hovertemplate": "date=2021-07-25<br>Country_code=%{location}<br>pages=%{z}<extra></extra>",
           "locations": [
            "ITA",
            "RUS",
            "CHN",
            "ALB",
            "BGD",
            "BWA",
            "KHM",
            "HRV",
            "GRC",
            "SWE",
            "FIN",
            "NOR",
            "MYS",
            "ISR",
            "LTU",
            "SRB",
            "SVK",
            "SVN",
            "TUR",
            "VNM",
            "BGR",
            "CZE",
            "DNK",
            "GEO",
            "DEU",
            "HUN",
            "ISL",
            "JPN",
            "KAZ",
            "PRK",
            "KGZ",
            "NLD",
            "POL",
            "ROU",
            "TJK",
            "THA",
            "AZE",
            "MNG"
           ],
           "name": "",
           "type": "choropleth",
           "z": [
            5.621575424813725,
            9.16617774254228,
            1.207285096733045,
            2.0790394414924824,
            0.21555730766202458,
            0.5102854409185138,
            0.047849834777511126,
            1.3588030674361609,
            4.971704274058283,
            1.9413833583073146,
            11.71887079999197,
            0.7063886345786531,
            4.866217936490017,
            5.7297262102418856,
            3.399066508997687,
            0.27539720248622795,
            2.7478430805739036,
            2.9014197455407316,
            3.9732476528344804,
            7.948543898568977,
            1.1969976990243028,
            8.366160777232226,
            2.315051401000514,
            1.9877960070013398,
            19.51879508332711,
            1.917919408205967,
            3.274546134261849,
            4.766317390167986,
            0.20260544200349911,
            0.9491429345404477,
            0.16717579294518153,
            10.027807241349654,
            7.166402763972837,
            0.9087359119969757,
            0.07339340268800192,
            0.8753584420900534,
            1.1195744111261523,
            0.09151106734848513
           ]
          }
         ],
         "name": "2021-07-25"
        },
        {
         "data": [
          {
           "coloraxis": "coloraxis",
           "geo": "geo",
           "hovertemplate": "date=2021-08-04<br>Country_code=%{location}<br>pages=%{z}<extra></extra>",
           "locations": [
            "ITA",
            "RUS",
            "CHN",
            "ALB",
            "BGD",
            "BWA",
            "KHM",
            "HRV",
            "GRC",
            "SWE",
            "FIN",
            "NOR",
            "MYS",
            "ISR",
            "LTU",
            "SRB",
            "SVK",
            "SVN",
            "TUR",
            "VNM",
            "BGR",
            "CZE",
            "DNK",
            "GEO",
            "DEU",
            "HUN",
            "ISL",
            "JPN",
            "KAZ",
            "PRK",
            "KGZ",
            "NLD",
            "POL",
            "ROU",
            "TJK",
            "THA",
            "AZE",
            "MNG"
           ],
           "name": "",
           "type": "choropleth",
           "z": [
            5.0008808312301625,
            10.67166309189668,
            1.8219119835589257,
            1.7618978317732903,
            0.43111461532404916,
            1.6159038962419603,
            0.07775598151345559,
            1.0870424539489287,
            3.7381235143295357,
            2.656121510121948,
            20.76120938023269,
            1.0781721264621547,
            4.600506988846752,
            8.117112131176004,
            6.726573723069106,
            0.3623647401134579,
            2.271550279941094,
            4.518604521743763,
            3.017581401511117,
            7.38658790625707,
            1.528695856585254,
            9.029845040007073,
            3.121032259126619,
            2.0683823316095022,
            22.06326097762973,
            2.471757098276139,
            1.9101519116527452,
            6.701990321635343,
            0.21860060847745955,
            1.1478456220560291,
            0.12158239486922293,
            10.801823237680246,
            7.235006030490985,
            0.664675409917788,
            0.06290863087543021,
            0.9355303808261946,
            0.9511428625496515,
            0.12201475646464684
           ]
          }
         ],
         "name": "2021-08-04"
        },
        {
         "data": [
          {
           "coloraxis": "coloraxis",
           "geo": "geo",
           "hovertemplate": "date=2021-08-14<br>Country_code=%{location}<br>pages=%{z}<extra></extra>",
           "locations": [
            "ITA",
            "RUS",
            "CHN",
            "ALB",
            "BGD",
            "BWA",
            "KHM",
            "HRV",
            "GRC",
            "SWE",
            "FIN",
            "NOR",
            "MYS",
            "ISR",
            "LTU",
            "SRB",
            "SVK",
            "SVN",
            "TUR",
            "VNM",
            "BGR",
            "CZE",
            "DNK",
            "GEO",
            "DEU",
            "HUN",
            "ISL",
            "JPN",
            "KAZ",
            "PRK",
            "KGZ",
            "NLD",
            "POL",
            "ROU",
            "TJK",
            "THA",
            "AZE",
            "MNG"
           ],
           "name": "",
           "type": "choropleth",
           "z": [
            3.796497825794308,
            7.063079260041665,
            1.2778683296718871,
            1.8676117016796876,
            0.27627767601752445,
            1.1906660288098654,
            0.04186860543032224,
            1.4329195983872243,
            3.7287782055437115,
            2.6368042627756063,
            12.984798201225672,
            0.7249778091728282,
            5.2307980739540305,
            8.507775281874315,
            3.864201926018423,
            0.5362998153679176,
            1.7403006176968054,
            4.28078323112567,
            2.6417176277276107,
            6.277058707542516,
            1.1969976990243028,
            6.777057612841748,
            1.7662984763189107,
            2.927969794096568,
            15.059967325258054,
            1.5589505350123367,
            1.6372730671309246,
            7.729227552450876,
            0.1706151090555782,
            1.124695794384311,
            0.1823735923038344,
            8.582977381532551,
            4.963182473870731,
            0.7789164959974078,
            0.05242385906285852,
            0.6361033523534921,
            1.1393898874292698,
            0.09151106734848513
           ]
          }
         ],
         "name": "2021-08-14"
        },
        {
         "data": [
          {
           "coloraxis": "coloraxis",
           "geo": "geo",
           "hovertemplate": "date=2021-08-24<br>Country_code=%{location}<br>pages=%{z}<extra></extra>",
           "locations": [
            "ITA",
            "RUS",
            "CHN",
            "ALB",
            "BGD",
            "BWA",
            "KHM",
            "HRV",
            "GRC",
            "SWE",
            "FIN",
            "NOR",
            "MYS",
            "ISR",
            "LTU",
            "SRB",
            "SVK",
            "SVN",
            "TUR",
            "VNM",
            "BGR",
            "CZE",
            "DNK",
            "GEO",
            "DEU",
            "HUN",
            "ISL",
            "JPN",
            "KAZ",
            "PRK",
            "KGZ",
            "NLD",
            "POL",
            "ROU",
            "TJK",
            "THA",
            "AZE",
            "MNG"
           ],
           "name": "",
           "type": "choropleth",
           "z": [
            4.368411543459379,
            7.57809545608637,
            1.3777903763021755,
            3.559033620182046,
            0.31938913754992937,
            4.039759740604901,
            0.04186860543032224,
            1.9270298047276464,
            6.663205164292398,
            2.897587101951216,
            12.894374815423264,
            1.1153504756505048,
            4.903293882672798,
            9.744875259085632,
            4.866032054986162,
            0.9856320931086053,
            2.308188187682079,
            7.610281299778969,
            3.27606185162091,
            5.7253761337372255,
            2.797801850731503,
            10.291779905846573,
            1.6291102451485098,
            2.7667971448802433,
            21.854027959856264,
            2.3179132954788693,
            1.6372730671309246,
            9.122373496170631,
            0.21326888631947272,
            1.1517039266679823,
            0.12158239486922293,
            10.698621104836167,
            7.31680223287801,
            0.997013114876682,
            0.08387817450057362,
            0.6690546521375694,
            1.8725625106446262,
            0.2745332020454554
           ]
          }
         ],
         "name": "2021-08-24"
        },
        {
         "data": [
          {
           "coloraxis": "coloraxis",
           "geo": "geo",
           "hovertemplate": "date=2021-09-03<br>Country_code=%{location}<br>pages=%{z}<extra></extra>",
           "locations": [
            "ITA",
            "RUS",
            "CHN",
            "ALB",
            "BGD",
            "BWA",
            "KHM",
            "HRV",
            "GRC",
            "SWE",
            "FIN",
            "NOR",
            "MYS",
            "ISR",
            "LTU",
            "SRB",
            "SVK",
            "SVN",
            "TUR",
            "VNM",
            "BGR",
            "CZE",
            "DNK",
            "GEO",
            "DEU",
            "HUN",
            "ISL",
            "JPN",
            "KAZ",
            "PRK",
            "KGZ",
            "NLD",
            "POL",
            "ROU",
            "TJK",
            "THA",
            "AZE",
            "MNG"
           ],
           "name": "",
           "type": "choropleth",
           "z": [
            4.719970269906437,
            6.929813613625785,
            1.0412444192473957,
            3.911413186536705,
            0.1949123824211546,
            1.0630946685802372,
            0.029906146735944453,
            2.915250217408491,
            4.728726245626863,
            3.283932048878045,
            10.19975791851153,
            1.1897071740272054,
            4.1741336077447695,
            8.637996332107086,
            4.722913465133629,
            1.2175455267812185,
            2.0517228334951816,
            6.849253169801071,
            3.0709374577264414,
            4.614819593172011,
            2.0190322634144864,
            7.403351212925055,
            1.509070542874409,
            2.2026928726231065,
            18.021696766499716,
            1.866638140606877,
            2.4559096006963865,
            6.395482373812974,
            0.7411093799601677,
            1.2172951050711838,
            0.0455933980759586,
            7.2528165582088695,
            5.942098315341247,
            1.0852903177563882,
            0.010484771812571703,
            0.5171921400892132,
            1.4960684608853891,
            0.24402951292929367
           ]
          }
         ],
         "name": "2021-09-03"
        },
        {
         "data": [
          {
           "coloraxis": "coloraxis",
           "geo": "geo",
           "hovertemplate": "date=2021-09-13<br>Country_code=%{location}<br>pages=%{z}<extra></extra>",
           "locations": [
            "ITA",
            "RUS",
            "CHN",
            "ALB",
            "BGD",
            "BWA",
            "KHM",
            "HRV",
            "GRC",
            "SWE",
            "FIN",
            "NOR",
            "MYS",
            "ISR",
            "LTU",
            "SRB",
            "SVK",
            "SVN",
            "TUR",
            "VNM",
            "BGR",
            "CZE",
            "DNK",
            "GEO",
            "DEU",
            "HUN",
            "ISL",
            "JPN",
            "KAZ",
            "PRK",
            "KGZ",
            "NLD",
            "POL",
            "ROU",
            "TJK",
            "THA",
            "AZE",
            "MNG"
           ],
           "name": "",
           "type": "choropleth",
           "z": [
            3.9966676269770827,
            7.471205302190299,
            1.073630501027567,
            4.6161723192460205,
            0.25684715814376446,
            2.9766650720246637,
            0.04186860543032224,
            2.8905447070914696,
            4.756762171984334,
            3.1197354464341425,
            10.434858721597788,
            1.0224046026796296,
            3.6427117124582407,
            6.120389360940196,
            9.553165872656656,
            1.0436104515267586,
            2.876075757667352,
            15.17299834143432,
            3.0946512604888072,
            4.890147209149325,
            1.9613456273169296,
            10.030045267005788,
            1.6634073029411098,
            2.0683823316095022,
            22.190724770066442,
            2.7897009573904974,
            1.6372730671309246,
            5.592384029906305,
            1.52487253718423,
            1.406352031056883,
            0.16717579294518153,
            10.624086231115443,
            7.298332122661585,
            1.1631819673561288,
            0.10484771812571704,
            0.49713482717716617,
            1.1096666729745934,
            0.24402951292929367
           ]
          }
         ],
         "name": "2021-09-13"
        },
        {
         "data": [
          {
           "coloraxis": "coloraxis",
           "geo": "geo",
           "hovertemplate": "date=2021-09-23<br>Country_code=%{location}<br>pages=%{z}<extra></extra>",
           "locations": [
            "ITA",
            "RUS",
            "CHN",
            "ALB",
            "BGD",
            "BWA",
            "KHM",
            "HRV",
            "GRC",
            "SWE",
            "FIN",
            "NOR",
            "MYS",
            "ISR",
            "LTU",
            "SRB",
            "SVK",
            "SVN",
            "TUR",
            "VNM",
            "BGR",
            "CZE",
            "DNK",
            "GEO",
            "DEU",
            "HUN",
            "ISL",
            "JPN",
            "KAZ",
            "PRK",
            "KGZ",
            "NLD",
            "POL",
            "ROU",
            "TJK",
            "THA",
            "AZE",
            "MNG"
           ],
           "name": "",
           "type": "choropleth",
           "z": [
            4.158149147258984,
            8.586610999014882,
            0.9990078662036709,
            3.2066540538273887,
            0.3114954896637144,
            0.5528092276617232,
            0.011962458694377781,
            3.1623053205787017,
            3.616634500113826,
            2.887928478278045,
            8.969999871598791,
            0.8179236821437036,
            6.553173487806555,
            6.890863908150752,
            8.050420679205049,
            1.5509210876855997,
            3.8652992666739574,
            6.94438168604831,
            2.3678232058222792,
            4.298398303168231,
            1.384479266341362,
            6.982706257645222,
            1.3718823117040082,
            2.0415202234067813,
            18.507502164088685,
            2.5845758869941373,
            2.728788445218208,
            4.365560228415742,
            0.6504701032743918,
            1.4198560971987184,
            0.3495493852490159,
            9.741134650116102,
            7.554275078517757,
            2.7210149593509443,
            0.05242385906285852,
            0.33524365867278644,
            0.8520654810340628,
            0.3660442693939405
           ]
          }
         ],
         "name": "2021-09-23"
        },
        {
         "data": [
          {
           "coloraxis": "coloraxis",
           "geo": "geo",
           "hovertemplate": "date=2021-10-03<br>Country_code=%{location}<br>pages=%{z}<extra></extra>",
           "locations": [
            "ITA",
            "RUS",
            "CHN",
            "ALB",
            "BGD",
            "BWA",
            "KHM",
            "HRV",
            "GRC",
            "SWE",
            "FIN",
            "NOR",
            "MYS",
            "ISR",
            "LTU",
            "SRB",
            "SVK",
            "SVN",
            "TUR",
            "VNM",
            "BGR",
            "CZE",
            "DNK",
            "GEO",
            "DEU",
            "HUN",
            "ISL",
            "JPN",
            "KAZ",
            "PRK",
            "KGZ",
            "NLD",
            "POL",
            "ROU",
            "TJK",
            "THA",
            "AZE",
            "MNG"
           ],
           "name": "",
           "type": "choropleth",
           "z": [
            3.2447692981644747,
            8.296480581296976,
            1.1255757919353695,
            6.977115413822229,
            0.25684715814376446,
            0.17009514697283792,
            0.023924917388755563,
            2.025851845995731,
            3.308239310181639,
            2.095921337078046,
            7.55939505308124,
            0.8922803805204039,
            2.783785625890479,
            5.6103569141951795,
            6.547675485753438,
            1.0581050411312969,
            3.4622822815231187,
            8.181052397262391,
            2.2421400511817375,
            4.1247775304064165,
            1.6152258107315893,
            7.70247651445738,
            1.166099964948407,
            1.826623357785015,
            15.0142727581581,
            2.3179132954788693,
            3.0016672897400283,
            4.131125208892691,
            0.29857644084726187,
            1.1459164697500526,
            0.3495493852490159,
            8.474041796863801,
            6.884073936378915,
            3.7699558406274534,
            0.10484771812571704,
            0.37679094970488386,
            1.278098221551094,
            0.06100737823232342
           ]
          }
         ],
         "name": "2021-10-03"
        },
        {
         "data": [
          {
           "coloraxis": "coloraxis",
           "geo": "geo",
           "hovertemplate": "date=2021-10-13<br>Country_code=%{location}<br>pages=%{z}<extra></extra>",
           "locations": [
            "ITA",
            "RUS",
            "CHN",
            "ALB",
            "BGD",
            "BWA",
            "KHM",
            "HRV",
            "GRC",
            "SWE",
            "FIN",
            "NOR",
            "MYS",
            "ISR",
            "LTU",
            "SRB",
            "SVK",
            "SVN",
            "TUR",
            "VNM",
            "BGR",
            "CZE",
            "DNK",
            "GEO",
            "DEU",
            "HUN",
            "ISL",
            "JPN",
            "KAZ",
            "PRK",
            "KGZ",
            "NLD",
            "POL",
            "ROU",
            "TJK",
            "THA",
            "AZE",
            "MNG"
           ],
           "name": "",
           "type": "choropleth",
           "z": [
            3.4516674960256624,
            12.54571124462,
            0.8199277159662675,
            5.4618832784972,
            0.18216110506649963,
            0.6378568011481422,
            0.0657935228190778,
            2.9399557277255117,
            2.4858521370291413,
            2.2890938105414604,
            11.899717571596785,
            1.4313664437514813,
            3.7261325913694985,
            4.02600080302981,
            6.3687772484377705,
            1.8698020589854427,
            3.627152866357553,
            8.371309429756867,
            2.512477402672714,
            3.7220595249470603,
            2.091140558536432,
            9.936568610276936,
            1.2689911383262076,
            2.7667971448802433,
            16.589532834498574,
            2.287144534919415,
            3.5474249787836696,
            4.094692739642486,
            0.9490465441216538,
            1.4449350771764131,
            0.7294943692153376,
            10.973826792420377,
            6.731035880299965,
            4.5644506665448095,
            0.13630203356343212,
            0.277937050352652,
            1.5257916753400658,
            0.7015848496717193
           ]
          }
         ],
         "name": "2021-10-13"
        },
        {
         "data": [
          {
           "coloraxis": "coloraxis",
           "geo": "geo",
           "hovertemplate": "date=2021-10-23<br>Country_code=%{location}<br>pages=%{z}<extra></extra>",
           "locations": [
            "ITA",
            "RUS",
            "CHN",
            "ALB",
            "BGD",
            "BWA",
            "KHM",
            "HRV",
            "GRC",
            "SWE",
            "FIN",
            "NOR",
            "MYS",
            "ISR",
            "LTU",
            "SRB",
            "SVK",
            "SVN",
            "TUR",
            "VNM",
            "BGR",
            "CZE",
            "DNK",
            "GEO",
            "DEU",
            "HUN",
            "ISL",
            "JPN",
            "KAZ",
            "PRK",
            "KGZ",
            "NLD",
            "POL",
            "ROU",
            "TJK",
            "THA",
            "AZE",
            "MNG"
           ],
           "name": "",
           "type": "choropleth",
           "z": [
            3.0631025878473346,
            14.354514757952208,
            0.8841329459287081,
            2.6428467476599353,
            0.27202725023263946,
            0.2126189337160474,
            0.035887376083133346,
            2.297612459482963,
            2.971808193891981,
            1.3811831852634129,
            10.362520012955862,
            0.5762644124194276,
            2.3883088666074808,
            3.2989332725635103,
            5.009150644838696,
            1.2175455267812185,
            3.9935319437674064,
            8.656694978498576,
            1.93741768568533,
            2.8734751563005596,
            4.355341025365535,
            12.273485028498229,
            1.0975058493632064,
            2.095244439812223,
            14.790609877089912,
            1.6102318026114268,
            1.364394222609104,
            4.014699709332256,
            0.25059094142538046,
            0.8025273592862321,
            0.2735603884557516,
            8.296304790298999,
            7.393321260917483,
            5.021415010863288,
            0.05242385906285852,
            0.17048715975239992,
            1.2285595307932997,
            0.12201475646464684
           ]
          }
         ],
         "name": "2021-10-23"
        },
        {
         "data": [
          {
           "coloraxis": "coloraxis",
           "geo": "geo",
           "hovertemplate": "date=2021-11-02<br>Country_code=%{location}<br>pages=%{z}<extra></extra>",
           "locations": [
            "ITA",
            "RUS",
            "CHN",
            "ALB",
            "BGD",
            "BWA",
            "KHM",
            "HRV",
            "GRC",
            "SWE",
            "FIN",
            "NOR",
            "MYS",
            "ISR",
            "LTU",
            "SRB",
            "SVK",
            "SVN",
            "TUR",
            "VNM",
            "BGR",
            "CZE",
            "DNK",
            "GEO",
            "DEU",
            "HUN",
            "ISL",
            "JPN",
            "KAZ",
            "PRK",
            "KGZ",
            "NLD",
            "POL",
            "ROU",
            "TJK",
            "THA",
            "AZE",
            "MNG"
           ],
           "name": "",
           "type": "choropleth",
           "z": [
            3.50381257028336,
            16.80049464321035,
            0.9868187938487706,
            7.47044680671875,
            0.18641153085138462,
            1.7859990432147985,
            0.11962458694377781,
            3.3846549134318917,
            4.382949820551381,
            1.6709418954585344,
            10.362520012955862,
            0.7807453329553534,
            2.518074678247215,
            3.4074508144241515,
            6.440336543364038,
            1.2755238851993715,
            6.594823393377368,
            18.312239377593144,
            2.2006408963475965,
            3.4189936790018813,
            4.182281117072864,
            22.668089256746537,
            1.166099964948407,
            4.083040446813563,
            23.063731499397115,
            3.3332823939408516,
            3.5474249787836696,
            3.5640459049112554,
            0.3838839953750509,
            1.421785249504695,
            0.5927141749874618,
            16.959550497376945,
            10.071487242299085,
            3.8322691603072463,
            0.04193908725028681,
            0.2535817418165948,
            1.733854176522802,
            0.3355405802777788
           ]
          }
         ],
         "name": "2021-11-02"
        },
        {
         "data": [
          {
           "coloraxis": "coloraxis",
           "geo": "geo",
           "hovertemplate": "date=2021-11-12<br>Country_code=%{location}<br>pages=%{z}<extra></extra>",
           "locations": [
            "ITA",
            "RUS",
            "CHN",
            "ALB",
            "BGD",
            "BWA",
            "KHM",
            "HRV",
            "GRC",
            "SWE",
            "FIN",
            "NOR",
            "MYS",
            "ISR",
            "LTU",
            "SRB",
            "SVK",
            "SVN",
            "TUR",
            "VNM",
            "BGR",
            "CZE",
            "DNK",
            "GEO",
            "DEU",
            "HUN",
            "ISL",
            "JPN",
            "KAZ",
            "PRK",
            "KGZ",
            "NLD",
            "POL",
            "ROU",
            "TJK",
            "THA",
            "AZE",
            "MNG"
           ],
           "name": "",
           "type": "choropleth",
           "z": [
            3.5694144378978825,
            13.336976020214289,
            0.845439727871873,
            2.043801484857017,
            0.16151617982562969,
            0.2551427204592569,
            0.04186860543032224,
            4.446991857063799,
            5.308135390347941,
            2.00899372401951,
            10.290181304313938,
            1.5057231421281816,
            2.6169438680679646,
            2.376534166748055,
            5.7963028890276345,
            1.3190076540129867,
            6.631461301118354,
            17.931725312604197,
            1.9350463054090934,
            3.545356726633261,
            2.4516820341461623,
            20.90138044457124,
            2.0406749386597123,
            2.5787623874611976,
            31.26229882801492,
            3.5076387037777574,
            2.183030756174566,
            3.215561416431044,
            0.36255710674310365,
            1.1652079928098178,
            0.16717579294518153,
            25.737465240948314,
            10.016076911649812,
            2.819677715510616,
            0.06290863087543021,
            0.33237832825677965,
            0.9313273862465336,
            0.3355405802777788
           ]
          }
         ],
         "name": "2021-11-12"
        },
        {
         "data": [
          {
           "coloraxis": "coloraxis",
           "geo": "geo",
           "hovertemplate": "date=2021-11-22<br>Country_code=%{location}<br>pages=%{z}<extra></extra>",
           "locations": [
            "ITA",
            "RUS",
            "CHN",
            "ALB",
            "BGD",
            "BWA",
            "KHM",
            "HRV",
            "GRC",
            "SWE",
            "FIN",
            "NOR",
            "MYS",
            "ISR",
            "LTU",
            "SRB",
            "SVK",
            "SVN",
            "TUR",
            "VNM",
            "BGR",
            "CZE",
            "DNK",
            "GEO",
            "DEU",
            "HUN",
            "ISL",
            "JPN",
            "KAZ",
            "PRK",
            "KGZ",
            "NLD",
            "POL",
            "ROU",
            "TJK",
            "THA",
            "AZE",
            "MNG"
           ],
           "name": "",
           "type": "choropleth",
           "z": [
            6.12115887818586,
            12.698411464471528,
            0.8798809439444406,
            9.338058508398438,
            0.23620223290289452,
            0.2126189337160474,
            0.0657935228190778,
            7.559886157008459,
            7.195887765084357,
            1.719235013824388,
            11.357177256782343,
            0.910869555114579,
            3.964036579375677,
            2.984232401167649,
            7.0843701977004425,
            1.20305093717668,
            12.090509554525175,
            14.649791502074514,
            2.7899288949924,
            5.344232307141763,
            2.6824285785363893,
            33.75442074478835,
            3.138180788022919,
            3.2234529843264967,
            52.42850330415611,
            5.958883295014261,
            2.728788445218208,
            3.6076064659712817,
            1.4235698161824806,
            1.4005645741389532,
            1.155032751257618,
            23.507152481151277,
            13.419854365819532,
            3.541473668468214,
            0.09436294631314533,
            0.3280803326327696,
            1.1096666729745934,
            0.5490664040909108
           ]
          }
         ],
         "name": "2021-11-22"
        },
        {
         "data": [
          {
           "coloraxis": "coloraxis",
           "geo": "geo",
           "hovertemplate": "date=2021-12-02<br>Country_code=%{location}<br>pages=%{z}<extra></extra>",
           "locations": [
            "ITA",
            "RUS",
            "CHN",
            "ALB",
            "BGD",
            "BWA",
            "KHM",
            "HRV",
            "GRC",
            "SWE",
            "FIN",
            "NOR",
            "MYS",
            "ISR",
            "LTU",
            "SRB",
            "SVK",
            "SVN",
            "TUR",
            "VNM",
            "BGR",
            "CZE",
            "DNK",
            "GEO",
            "DEU",
            "HUN",
            "ISL",
            "JPN",
            "KAZ",
            "PRK",
            "KGZ",
            "NLD",
            "POL",
            "ROU",
            "TJK",
            "THA",
            "AZE",
            "MNG"
           ],
           "name": "",
           "type": "choropleth",
           "z": [
            5.170772847360081,
            10.50646921769366,
            0.9578343136560131,
            8.457109592511793,
            0.2823497128530744,
            0.2126189337160474,
            0.07177475216626669,
            4.916396553087201,
            8.223871731524978,
            2.8396353599121915,
            16.746411050605808,
            1.6730257134757576,
            3.2008900204467667,
            3.81981747349459,
            6.189879011122104,
            1.014621272317682,
            9.764002412972605,
            12.985042467747865,
            2.9333974017047164,
            3.990195747969744,
            2.7833801917071135,
            24.21045409277259,
            2.7952102100969163,
            4.754593151881584,
            33.322161813336464,
            4.512751548719923,
            3.5474249787836696,
            4.14775742311561,
            0.6344749368004314,
            1.6339920031621122,
            0.9726591589537834,
            16.420606025857868,
            12.578145057385312,
            1.921327356793606,
            0.08387817450057362,
            0.3968482626169309,
            1.5456071516431833,
            0.6100737823232342
           ]
          }
         ],
         "name": "2021-12-02"
        },
        {
         "data": [
          {
           "coloraxis": "coloraxis",
           "geo": "geo",
           "hovertemplate": "date=2021-12-12<br>Country_code=%{location}<br>pages=%{z}<extra></extra>",
           "locations": [
            "ITA",
            "RUS",
            "CHN",
            "ALB",
            "BGD",
            "BWA",
            "KHM",
            "HRV",
            "GRC",
            "SWE",
            "FIN",
            "NOR",
            "MYS",
            "ISR",
            "LTU",
            "SRB",
            "SVK",
            "SVN",
            "TUR",
            "VNM",
            "BGR",
            "CZE",
            "DNK",
            "GEO",
            "DEU",
            "HUN",
            "ISL",
            "JPN",
            "KAZ",
            "PRK",
            "KGZ",
            "NLD",
            "POL",
            "ROU",
            "TJK",
            "THA",
            "AZE",
            "MNG"
           ],
           "name": "",
           "type": "choropleth",
           "z": [
            4.4861584853315986,
            7.057526524774337,
            0.7903763021756076,
            8.210443896063532,
            0.25684715814376446,
            0.2551427204592569,
            0.035887376083133346,
            3.755237568187208,
            5.579149345136832,
            1.9703592293268268,
            13.997540122212632,
            1.3570097453747811,
            2.314156974241919,
            4.069407819774066,
            6.547675485753438,
            0.507310636158841,
            13.647620633517054,
            10.464136787196082,
            3.346017569769891,
            3.4241303882551892,
            1.8459723551218161,
            14.526272455663554,
            3.6011910682230215,
            3.8412814729890754,
            26.75296654841434,
            2.8512384785094054,
            2.728788445218208,
            3.3502031506165797,
            0.5171770493247214,
            1.2500906942727847,
            0.5167251781941975,
            10.325946736232549,
            11.736435748951095,
            1.4643630124751266,
            0.11533248993828873,
            0.2865330416006721,
            2.0112708447664502,
            0.21352582381313198
           ]
          }
         ],
         "name": "2021-12-12"
        },
        {
         "data": [
          {
           "coloraxis": "coloraxis",
           "geo": "geo",
           "hovertemplate": "date=2021-12-22<br>Country_code=%{location}<br>pages=%{z}<extra></extra>",
           "locations": [
            "ITA",
            "RUS",
            "CHN",
            "ALB",
            "BGD",
            "BWA",
            "KHM",
            "HRV",
            "GRC",
            "SWE",
            "FIN",
            "NOR",
            "MYS",
            "ISR",
            "LTU",
            "SRB",
            "SVK",
            "SVN",
            "TUR",
            "VNM",
            "BGR",
            "CZE",
            "DNK",
            "GEO",
            "DEU",
            "HUN",
            "ISL",
            "JPN",
            "KAZ",
            "PRK",
            "KGZ",
            "NLD",
            "POL",
            "ROU",
            "TJK",
            "THA",
            "AZE",
            "MNG"
           ],
           "name": "",
           "type": "choropleth",
           "z": [
            5.820063126826897,
            6.861098514692596,
            0.8569201332293954,
            4.721886189152419,
            0.17123143876250965,
            0,
            0.1913993391100445,
            2.7917226658233854,
            5.822127373568252,
            3.245297554185362,
            23.491995631465382,
            1.2268855232155556,
            1.473768860765548,
            5.9359095397771044,
            5.188048882154364,
            0.7972024282496072,
            5.404091391795344,
            10.416572529072463,
            4.834058693108378,
            3.599805844718327,
            1.9180806502437622,
            10.375908896902539,
            7.562501243268344,
            3.948729905799959,
            31.793798792703843,
            2.358938309558141,
            3.0016672897400283,
            3.3042665589532794,
            0.3838839953750509,
            1.292532045004268,
            0.4863295794768917,
            16.455006736805892,
            10.530601410535931,
            1.0852903177563882,
            0.010484771812571703,
            0.3366763238807897,
            1.1492976255808287,
            0.18302213469697026
           ]
          }
         ],
         "name": "2021-12-22"
        }
       ],
       "layout": {
        "coloraxis": {
         "cmid": 658.2392475203915,
         "colorbar": {
          "title": {
           "text": "pages"
          }
         },
         "colorscale": [
          [
           0,
           "rgb(231, 250, 90)"
          ],
          [
           0.09090909090909091,
           "rgb(246, 211, 70)"
          ],
          [
           0.18181818181818182,
           "rgb(251, 173, 60)"
          ],
          [
           0.2727272727272727,
           "rgb(246, 139, 69)"
          ],
          [
           0.36363636363636365,
           "rgb(225, 113, 97)"
          ],
          [
           0.45454545454545453,
           "rgb(193, 100, 121)"
          ],
          [
           0.5454545454545454,
           "rgb(158, 89, 135)"
          ],
          [
           0.6363636363636364,
           "rgb(126, 77, 143)"
          ],
          [
           0.7272727272727273,
           "rgb(93, 62, 153)"
          ],
          [
           0.8181818181818182,
           "rgb(53, 50, 155)"
          ],
          [
           0.9090909090909091,
           "rgb(13, 48, 100)"
          ],
          [
           1,
           "rgb(3, 35, 51)"
          ]
         ]
        },
        "geo": {
         "center": {},
         "domain": {
          "x": [
           0,
           1
          ],
          "y": [
           0,
           1
          ]
         }
        },
        "legend": {
         "tracegroupgap": 0
        },
        "margin": {
         "t": 60
        },
        "sliders": [
         {
          "active": 0,
          "currentvalue": {
           "prefix": "date="
          },
          "len": 0.9,
          "pad": {
           "b": 10,
           "t": 60
          },
          "steps": [
           {
            "args": [
             [
              "2020-01-22"
             ],
             {
              "frame": {
               "duration": 0,
               "redraw": true
              },
              "fromcurrent": true,
              "mode": "immediate",
              "transition": {
               "duration": 0,
               "easing": "linear"
              }
             }
            ],
            "label": "2020-01-22",
            "method": "animate"
           },
           {
            "args": [
             [
              "2020-02-01"
             ],
             {
              "frame": {
               "duration": 0,
               "redraw": true
              },
              "fromcurrent": true,
              "mode": "immediate",
              "transition": {
               "duration": 0,
               "easing": "linear"
              }
             }
            ],
            "label": "2020-02-01",
            "method": "animate"
           },
           {
            "args": [
             [
              "2020-02-11"
             ],
             {
              "frame": {
               "duration": 0,
               "redraw": true
              },
              "fromcurrent": true,
              "mode": "immediate",
              "transition": {
               "duration": 0,
               "easing": "linear"
              }
             }
            ],
            "label": "2020-02-11",
            "method": "animate"
           },
           {
            "args": [
             [
              "2020-02-21"
             ],
             {
              "frame": {
               "duration": 0,
               "redraw": true
              },
              "fromcurrent": true,
              "mode": "immediate",
              "transition": {
               "duration": 0,
               "easing": "linear"
              }
             }
            ],
            "label": "2020-02-21",
            "method": "animate"
           },
           {
            "args": [
             [
              "2020-03-02"
             ],
             {
              "frame": {
               "duration": 0,
               "redraw": true
              },
              "fromcurrent": true,
              "mode": "immediate",
              "transition": {
               "duration": 0,
               "easing": "linear"
              }
             }
            ],
            "label": "2020-03-02",
            "method": "animate"
           },
           {
            "args": [
             [
              "2020-03-12"
             ],
             {
              "frame": {
               "duration": 0,
               "redraw": true
              },
              "fromcurrent": true,
              "mode": "immediate",
              "transition": {
               "duration": 0,
               "easing": "linear"
              }
             }
            ],
            "label": "2020-03-12",
            "method": "animate"
           },
           {
            "args": [
             [
              "2020-03-22"
             ],
             {
              "frame": {
               "duration": 0,
               "redraw": true
              },
              "fromcurrent": true,
              "mode": "immediate",
              "transition": {
               "duration": 0,
               "easing": "linear"
              }
             }
            ],
            "label": "2020-03-22",
            "method": "animate"
           },
           {
            "args": [
             [
              "2020-04-01"
             ],
             {
              "frame": {
               "duration": 0,
               "redraw": true
              },
              "fromcurrent": true,
              "mode": "immediate",
              "transition": {
               "duration": 0,
               "easing": "linear"
              }
             }
            ],
            "label": "2020-04-01",
            "method": "animate"
           },
           {
            "args": [
             [
              "2020-04-11"
             ],
             {
              "frame": {
               "duration": 0,
               "redraw": true
              },
              "fromcurrent": true,
              "mode": "immediate",
              "transition": {
               "duration": 0,
               "easing": "linear"
              }
             }
            ],
            "label": "2020-04-11",
            "method": "animate"
           },
           {
            "args": [
             [
              "2020-04-21"
             ],
             {
              "frame": {
               "duration": 0,
               "redraw": true
              },
              "fromcurrent": true,
              "mode": "immediate",
              "transition": {
               "duration": 0,
               "easing": "linear"
              }
             }
            ],
            "label": "2020-04-21",
            "method": "animate"
           },
           {
            "args": [
             [
              "2020-05-01"
             ],
             {
              "frame": {
               "duration": 0,
               "redraw": true
              },
              "fromcurrent": true,
              "mode": "immediate",
              "transition": {
               "duration": 0,
               "easing": "linear"
              }
             }
            ],
            "label": "2020-05-01",
            "method": "animate"
           },
           {
            "args": [
             [
              "2020-05-11"
             ],
             {
              "frame": {
               "duration": 0,
               "redraw": true
              },
              "fromcurrent": true,
              "mode": "immediate",
              "transition": {
               "duration": 0,
               "easing": "linear"
              }
             }
            ],
            "label": "2020-05-11",
            "method": "animate"
           },
           {
            "args": [
             [
              "2020-05-21"
             ],
             {
              "frame": {
               "duration": 0,
               "redraw": true
              },
              "fromcurrent": true,
              "mode": "immediate",
              "transition": {
               "duration": 0,
               "easing": "linear"
              }
             }
            ],
            "label": "2020-05-21",
            "method": "animate"
           },
           {
            "args": [
             [
              "2020-05-31"
             ],
             {
              "frame": {
               "duration": 0,
               "redraw": true
              },
              "fromcurrent": true,
              "mode": "immediate",
              "transition": {
               "duration": 0,
               "easing": "linear"
              }
             }
            ],
            "label": "2020-05-31",
            "method": "animate"
           },
           {
            "args": [
             [
              "2020-06-10"
             ],
             {
              "frame": {
               "duration": 0,
               "redraw": true
              },
              "fromcurrent": true,
              "mode": "immediate",
              "transition": {
               "duration": 0,
               "easing": "linear"
              }
             }
            ],
            "label": "2020-06-10",
            "method": "animate"
           },
           {
            "args": [
             [
              "2020-06-20"
             ],
             {
              "frame": {
               "duration": 0,
               "redraw": true
              },
              "fromcurrent": true,
              "mode": "immediate",
              "transition": {
               "duration": 0,
               "easing": "linear"
              }
             }
            ],
            "label": "2020-06-20",
            "method": "animate"
           },
           {
            "args": [
             [
              "2020-06-30"
             ],
             {
              "frame": {
               "duration": 0,
               "redraw": true
              },
              "fromcurrent": true,
              "mode": "immediate",
              "transition": {
               "duration": 0,
               "easing": "linear"
              }
             }
            ],
            "label": "2020-06-30",
            "method": "animate"
           },
           {
            "args": [
             [
              "2020-07-10"
             ],
             {
              "frame": {
               "duration": 0,
               "redraw": true
              },
              "fromcurrent": true,
              "mode": "immediate",
              "transition": {
               "duration": 0,
               "easing": "linear"
              }
             }
            ],
            "label": "2020-07-10",
            "method": "animate"
           },
           {
            "args": [
             [
              "2020-07-20"
             ],
             {
              "frame": {
               "duration": 0,
               "redraw": true
              },
              "fromcurrent": true,
              "mode": "immediate",
              "transition": {
               "duration": 0,
               "easing": "linear"
              }
             }
            ],
            "label": "2020-07-20",
            "method": "animate"
           },
           {
            "args": [
             [
              "2020-07-30"
             ],
             {
              "frame": {
               "duration": 0,
               "redraw": true
              },
              "fromcurrent": true,
              "mode": "immediate",
              "transition": {
               "duration": 0,
               "easing": "linear"
              }
             }
            ],
            "label": "2020-07-30",
            "method": "animate"
           },
           {
            "args": [
             [
              "2020-08-09"
             ],
             {
              "frame": {
               "duration": 0,
               "redraw": true
              },
              "fromcurrent": true,
              "mode": "immediate",
              "transition": {
               "duration": 0,
               "easing": "linear"
              }
             }
            ],
            "label": "2020-08-09",
            "method": "animate"
           },
           {
            "args": [
             [
              "2020-08-19"
             ],
             {
              "frame": {
               "duration": 0,
               "redraw": true
              },
              "fromcurrent": true,
              "mode": "immediate",
              "transition": {
               "duration": 0,
               "easing": "linear"
              }
             }
            ],
            "label": "2020-08-19",
            "method": "animate"
           },
           {
            "args": [
             [
              "2020-08-29"
             ],
             {
              "frame": {
               "duration": 0,
               "redraw": true
              },
              "fromcurrent": true,
              "mode": "immediate",
              "transition": {
               "duration": 0,
               "easing": "linear"
              }
             }
            ],
            "label": "2020-08-29",
            "method": "animate"
           },
           {
            "args": [
             [
              "2020-09-08"
             ],
             {
              "frame": {
               "duration": 0,
               "redraw": true
              },
              "fromcurrent": true,
              "mode": "immediate",
              "transition": {
               "duration": 0,
               "easing": "linear"
              }
             }
            ],
            "label": "2020-09-08",
            "method": "animate"
           },
           {
            "args": [
             [
              "2020-09-18"
             ],
             {
              "frame": {
               "duration": 0,
               "redraw": true
              },
              "fromcurrent": true,
              "mode": "immediate",
              "transition": {
               "duration": 0,
               "easing": "linear"
              }
             }
            ],
            "label": "2020-09-18",
            "method": "animate"
           },
           {
            "args": [
             [
              "2020-09-28"
             ],
             {
              "frame": {
               "duration": 0,
               "redraw": true
              },
              "fromcurrent": true,
              "mode": "immediate",
              "transition": {
               "duration": 0,
               "easing": "linear"
              }
             }
            ],
            "label": "2020-09-28",
            "method": "animate"
           },
           {
            "args": [
             [
              "2020-10-08"
             ],
             {
              "frame": {
               "duration": 0,
               "redraw": true
              },
              "fromcurrent": true,
              "mode": "immediate",
              "transition": {
               "duration": 0,
               "easing": "linear"
              }
             }
            ],
            "label": "2020-10-08",
            "method": "animate"
           },
           {
            "args": [
             [
              "2020-10-18"
             ],
             {
              "frame": {
               "duration": 0,
               "redraw": true
              },
              "fromcurrent": true,
              "mode": "immediate",
              "transition": {
               "duration": 0,
               "easing": "linear"
              }
             }
            ],
            "label": "2020-10-18",
            "method": "animate"
           },
           {
            "args": [
             [
              "2020-10-28"
             ],
             {
              "frame": {
               "duration": 0,
               "redraw": true
              },
              "fromcurrent": true,
              "mode": "immediate",
              "transition": {
               "duration": 0,
               "easing": "linear"
              }
             }
            ],
            "label": "2020-10-28",
            "method": "animate"
           },
           {
            "args": [
             [
              "2020-11-07"
             ],
             {
              "frame": {
               "duration": 0,
               "redraw": true
              },
              "fromcurrent": true,
              "mode": "immediate",
              "transition": {
               "duration": 0,
               "easing": "linear"
              }
             }
            ],
            "label": "2020-11-07",
            "method": "animate"
           },
           {
            "args": [
             [
              "2020-11-17"
             ],
             {
              "frame": {
               "duration": 0,
               "redraw": true
              },
              "fromcurrent": true,
              "mode": "immediate",
              "transition": {
               "duration": 0,
               "easing": "linear"
              }
             }
            ],
            "label": "2020-11-17",
            "method": "animate"
           },
           {
            "args": [
             [
              "2020-11-27"
             ],
             {
              "frame": {
               "duration": 0,
               "redraw": true
              },
              "fromcurrent": true,
              "mode": "immediate",
              "transition": {
               "duration": 0,
               "easing": "linear"
              }
             }
            ],
            "label": "2020-11-27",
            "method": "animate"
           },
           {
            "args": [
             [
              "2020-12-07"
             ],
             {
              "frame": {
               "duration": 0,
               "redraw": true
              },
              "fromcurrent": true,
              "mode": "immediate",
              "transition": {
               "duration": 0,
               "easing": "linear"
              }
             }
            ],
            "label": "2020-12-07",
            "method": "animate"
           },
           {
            "args": [
             [
              "2020-12-17"
             ],
             {
              "frame": {
               "duration": 0,
               "redraw": true
              },
              "fromcurrent": true,
              "mode": "immediate",
              "transition": {
               "duration": 0,
               "easing": "linear"
              }
             }
            ],
            "label": "2020-12-17",
            "method": "animate"
           },
           {
            "args": [
             [
              "2020-12-27"
             ],
             {
              "frame": {
               "duration": 0,
               "redraw": true
              },
              "fromcurrent": true,
              "mode": "immediate",
              "transition": {
               "duration": 0,
               "easing": "linear"
              }
             }
            ],
            "label": "2020-12-27",
            "method": "animate"
           },
           {
            "args": [
             [
              "2021-01-06"
             ],
             {
              "frame": {
               "duration": 0,
               "redraw": true
              },
              "fromcurrent": true,
              "mode": "immediate",
              "transition": {
               "duration": 0,
               "easing": "linear"
              }
             }
            ],
            "label": "2021-01-06",
            "method": "animate"
           },
           {
            "args": [
             [
              "2021-01-16"
             ],
             {
              "frame": {
               "duration": 0,
               "redraw": true
              },
              "fromcurrent": true,
              "mode": "immediate",
              "transition": {
               "duration": 0,
               "easing": "linear"
              }
             }
            ],
            "label": "2021-01-16",
            "method": "animate"
           },
           {
            "args": [
             [
              "2021-01-26"
             ],
             {
              "frame": {
               "duration": 0,
               "redraw": true
              },
              "fromcurrent": true,
              "mode": "immediate",
              "transition": {
               "duration": 0,
               "easing": "linear"
              }
             }
            ],
            "label": "2021-01-26",
            "method": "animate"
           },
           {
            "args": [
             [
              "2021-02-05"
             ],
             {
              "frame": {
               "duration": 0,
               "redraw": true
              },
              "fromcurrent": true,
              "mode": "immediate",
              "transition": {
               "duration": 0,
               "easing": "linear"
              }
             }
            ],
            "label": "2021-02-05",
            "method": "animate"
           },
           {
            "args": [
             [
              "2021-02-15"
             ],
             {
              "frame": {
               "duration": 0,
               "redraw": true
              },
              "fromcurrent": true,
              "mode": "immediate",
              "transition": {
               "duration": 0,
               "easing": "linear"
              }
             }
            ],
            "label": "2021-02-15",
            "method": "animate"
           },
           {
            "args": [
             [
              "2021-02-25"
             ],
             {
              "frame": {
               "duration": 0,
               "redraw": true
              },
              "fromcurrent": true,
              "mode": "immediate",
              "transition": {
               "duration": 0,
               "easing": "linear"
              }
             }
            ],
            "label": "2021-02-25",
            "method": "animate"
           },
           {
            "args": [
             [
              "2021-03-07"
             ],
             {
              "frame": {
               "duration": 0,
               "redraw": true
              },
              "fromcurrent": true,
              "mode": "immediate",
              "transition": {
               "duration": 0,
               "easing": "linear"
              }
             }
            ],
            "label": "2021-03-07",
            "method": "animate"
           },
           {
            "args": [
             [
              "2021-03-17"
             ],
             {
              "frame": {
               "duration": 0,
               "redraw": true
              },
              "fromcurrent": true,
              "mode": "immediate",
              "transition": {
               "duration": 0,
               "easing": "linear"
              }
             }
            ],
            "label": "2021-03-17",
            "method": "animate"
           },
           {
            "args": [
             [
              "2021-03-27"
             ],
             {
              "frame": {
               "duration": 0,
               "redraw": true
              },
              "fromcurrent": true,
              "mode": "immediate",
              "transition": {
               "duration": 0,
               "easing": "linear"
              }
             }
            ],
            "label": "2021-03-27",
            "method": "animate"
           },
           {
            "args": [
             [
              "2021-04-06"
             ],
             {
              "frame": {
               "duration": 0,
               "redraw": true
              },
              "fromcurrent": true,
              "mode": "immediate",
              "transition": {
               "duration": 0,
               "easing": "linear"
              }
             }
            ],
            "label": "2021-04-06",
            "method": "animate"
           },
           {
            "args": [
             [
              "2021-04-16"
             ],
             {
              "frame": {
               "duration": 0,
               "redraw": true
              },
              "fromcurrent": true,
              "mode": "immediate",
              "transition": {
               "duration": 0,
               "easing": "linear"
              }
             }
            ],
            "label": "2021-04-16",
            "method": "animate"
           },
           {
            "args": [
             [
              "2021-04-26"
             ],
             {
              "frame": {
               "duration": 0,
               "redraw": true
              },
              "fromcurrent": true,
              "mode": "immediate",
              "transition": {
               "duration": 0,
               "easing": "linear"
              }
             }
            ],
            "label": "2021-04-26",
            "method": "animate"
           },
           {
            "args": [
             [
              "2021-05-06"
             ],
             {
              "frame": {
               "duration": 0,
               "redraw": true
              },
              "fromcurrent": true,
              "mode": "immediate",
              "transition": {
               "duration": 0,
               "easing": "linear"
              }
             }
            ],
            "label": "2021-05-06",
            "method": "animate"
           },
           {
            "args": [
             [
              "2021-05-16"
             ],
             {
              "frame": {
               "duration": 0,
               "redraw": true
              },
              "fromcurrent": true,
              "mode": "immediate",
              "transition": {
               "duration": 0,
               "easing": "linear"
              }
             }
            ],
            "label": "2021-05-16",
            "method": "animate"
           },
           {
            "args": [
             [
              "2021-05-26"
             ],
             {
              "frame": {
               "duration": 0,
               "redraw": true
              },
              "fromcurrent": true,
              "mode": "immediate",
              "transition": {
               "duration": 0,
               "easing": "linear"
              }
             }
            ],
            "label": "2021-05-26",
            "method": "animate"
           },
           {
            "args": [
             [
              "2021-06-05"
             ],
             {
              "frame": {
               "duration": 0,
               "redraw": true
              },
              "fromcurrent": true,
              "mode": "immediate",
              "transition": {
               "duration": 0,
               "easing": "linear"
              }
             }
            ],
            "label": "2021-06-05",
            "method": "animate"
           },
           {
            "args": [
             [
              "2021-06-15"
             ],
             {
              "frame": {
               "duration": 0,
               "redraw": true
              },
              "fromcurrent": true,
              "mode": "immediate",
              "transition": {
               "duration": 0,
               "easing": "linear"
              }
             }
            ],
            "label": "2021-06-15",
            "method": "animate"
           },
           {
            "args": [
             [
              "2021-06-25"
             ],
             {
              "frame": {
               "duration": 0,
               "redraw": true
              },
              "fromcurrent": true,
              "mode": "immediate",
              "transition": {
               "duration": 0,
               "easing": "linear"
              }
             }
            ],
            "label": "2021-06-25",
            "method": "animate"
           },
           {
            "args": [
             [
              "2021-07-05"
             ],
             {
              "frame": {
               "duration": 0,
               "redraw": true
              },
              "fromcurrent": true,
              "mode": "immediate",
              "transition": {
               "duration": 0,
               "easing": "linear"
              }
             }
            ],
            "label": "2021-07-05",
            "method": "animate"
           },
           {
            "args": [
             [
              "2021-07-15"
             ],
             {
              "frame": {
               "duration": 0,
               "redraw": true
              },
              "fromcurrent": true,
              "mode": "immediate",
              "transition": {
               "duration": 0,
               "easing": "linear"
              }
             }
            ],
            "label": "2021-07-15",
            "method": "animate"
           },
           {
            "args": [
             [
              "2021-07-25"
             ],
             {
              "frame": {
               "duration": 0,
               "redraw": true
              },
              "fromcurrent": true,
              "mode": "immediate",
              "transition": {
               "duration": 0,
               "easing": "linear"
              }
             }
            ],
            "label": "2021-07-25",
            "method": "animate"
           },
           {
            "args": [
             [
              "2021-08-04"
             ],
             {
              "frame": {
               "duration": 0,
               "redraw": true
              },
              "fromcurrent": true,
              "mode": "immediate",
              "transition": {
               "duration": 0,
               "easing": "linear"
              }
             }
            ],
            "label": "2021-08-04",
            "method": "animate"
           },
           {
            "args": [
             [
              "2021-08-14"
             ],
             {
              "frame": {
               "duration": 0,
               "redraw": true
              },
              "fromcurrent": true,
              "mode": "immediate",
              "transition": {
               "duration": 0,
               "easing": "linear"
              }
             }
            ],
            "label": "2021-08-14",
            "method": "animate"
           },
           {
            "args": [
             [
              "2021-08-24"
             ],
             {
              "frame": {
               "duration": 0,
               "redraw": true
              },
              "fromcurrent": true,
              "mode": "immediate",
              "transition": {
               "duration": 0,
               "easing": "linear"
              }
             }
            ],
            "label": "2021-08-24",
            "method": "animate"
           },
           {
            "args": [
             [
              "2021-09-03"
             ],
             {
              "frame": {
               "duration": 0,
               "redraw": true
              },
              "fromcurrent": true,
              "mode": "immediate",
              "transition": {
               "duration": 0,
               "easing": "linear"
              }
             }
            ],
            "label": "2021-09-03",
            "method": "animate"
           },
           {
            "args": [
             [
              "2021-09-13"
             ],
             {
              "frame": {
               "duration": 0,
               "redraw": true
              },
              "fromcurrent": true,
              "mode": "immediate",
              "transition": {
               "duration": 0,
               "easing": "linear"
              }
             }
            ],
            "label": "2021-09-13",
            "method": "animate"
           },
           {
            "args": [
             [
              "2021-09-23"
             ],
             {
              "frame": {
               "duration": 0,
               "redraw": true
              },
              "fromcurrent": true,
              "mode": "immediate",
              "transition": {
               "duration": 0,
               "easing": "linear"
              }
             }
            ],
            "label": "2021-09-23",
            "method": "animate"
           },
           {
            "args": [
             [
              "2021-10-03"
             ],
             {
              "frame": {
               "duration": 0,
               "redraw": true
              },
              "fromcurrent": true,
              "mode": "immediate",
              "transition": {
               "duration": 0,
               "easing": "linear"
              }
             }
            ],
            "label": "2021-10-03",
            "method": "animate"
           },
           {
            "args": [
             [
              "2021-10-13"
             ],
             {
              "frame": {
               "duration": 0,
               "redraw": true
              },
              "fromcurrent": true,
              "mode": "immediate",
              "transition": {
               "duration": 0,
               "easing": "linear"
              }
             }
            ],
            "label": "2021-10-13",
            "method": "animate"
           },
           {
            "args": [
             [
              "2021-10-23"
             ],
             {
              "frame": {
               "duration": 0,
               "redraw": true
              },
              "fromcurrent": true,
              "mode": "immediate",
              "transition": {
               "duration": 0,
               "easing": "linear"
              }
             }
            ],
            "label": "2021-10-23",
            "method": "animate"
           },
           {
            "args": [
             [
              "2021-11-02"
             ],
             {
              "frame": {
               "duration": 0,
               "redraw": true
              },
              "fromcurrent": true,
              "mode": "immediate",
              "transition": {
               "duration": 0,
               "easing": "linear"
              }
             }
            ],
            "label": "2021-11-02",
            "method": "animate"
           },
           {
            "args": [
             [
              "2021-11-12"
             ],
             {
              "frame": {
               "duration": 0,
               "redraw": true
              },
              "fromcurrent": true,
              "mode": "immediate",
              "transition": {
               "duration": 0,
               "easing": "linear"
              }
             }
            ],
            "label": "2021-11-12",
            "method": "animate"
           },
           {
            "args": [
             [
              "2021-11-22"
             ],
             {
              "frame": {
               "duration": 0,
               "redraw": true
              },
              "fromcurrent": true,
              "mode": "immediate",
              "transition": {
               "duration": 0,
               "easing": "linear"
              }
             }
            ],
            "label": "2021-11-22",
            "method": "animate"
           },
           {
            "args": [
             [
              "2021-12-02"
             ],
             {
              "frame": {
               "duration": 0,
               "redraw": true
              },
              "fromcurrent": true,
              "mode": "immediate",
              "transition": {
               "duration": 0,
               "easing": "linear"
              }
             }
            ],
            "label": "2021-12-02",
            "method": "animate"
           },
           {
            "args": [
             [
              "2021-12-12"
             ],
             {
              "frame": {
               "duration": 0,
               "redraw": true
              },
              "fromcurrent": true,
              "mode": "immediate",
              "transition": {
               "duration": 0,
               "easing": "linear"
              }
             }
            ],
            "label": "2021-12-12",
            "method": "animate"
           },
           {
            "args": [
             [
              "2021-12-22"
             ],
             {
              "frame": {
               "duration": 0,
               "redraw": true
              },
              "fromcurrent": true,
              "mode": "immediate",
              "transition": {
               "duration": 0,
               "easing": "linear"
              }
             }
            ],
            "label": "2021-12-22",
            "method": "animate"
           }
          ],
          "x": 0.1,
          "xanchor": "left",
          "y": 0,
          "yanchor": "top"
         }
        ],
        "template": {
         "data": {
          "bar": [
           {
            "error_x": {
             "color": "#2a3f5f"
            },
            "error_y": {
             "color": "#2a3f5f"
            },
            "marker": {
             "line": {
              "color": "#E5ECF6",
              "width": 0.5
             },
             "pattern": {
              "fillmode": "overlay",
              "size": 10,
              "solidity": 0.2
             }
            },
            "type": "bar"
           }
          ],
          "barpolar": [
           {
            "marker": {
             "line": {
              "color": "#E5ECF6",
              "width": 0.5
             },
             "pattern": {
              "fillmode": "overlay",
              "size": 10,
              "solidity": 0.2
             }
            },
            "type": "barpolar"
           }
          ],
          "carpet": [
           {
            "aaxis": {
             "endlinecolor": "#2a3f5f",
             "gridcolor": "white",
             "linecolor": "white",
             "minorgridcolor": "white",
             "startlinecolor": "#2a3f5f"
            },
            "baxis": {
             "endlinecolor": "#2a3f5f",
             "gridcolor": "white",
             "linecolor": "white",
             "minorgridcolor": "white",
             "startlinecolor": "#2a3f5f"
            },
            "type": "carpet"
           }
          ],
          "choropleth": [
           {
            "colorbar": {
             "outlinewidth": 0,
             "ticks": ""
            },
            "type": "choropleth"
           }
          ],
          "contour": [
           {
            "colorbar": {
             "outlinewidth": 0,
             "ticks": ""
            },
            "colorscale": [
             [
              0,
              "#0d0887"
             ],
             [
              0.1111111111111111,
              "#46039f"
             ],
             [
              0.2222222222222222,
              "#7201a8"
             ],
             [
              0.3333333333333333,
              "#9c179e"
             ],
             [
              0.4444444444444444,
              "#bd3786"
             ],
             [
              0.5555555555555556,
              "#d8576b"
             ],
             [
              0.6666666666666666,
              "#ed7953"
             ],
             [
              0.7777777777777778,
              "#fb9f3a"
             ],
             [
              0.8888888888888888,
              "#fdca26"
             ],
             [
              1,
              "#f0f921"
             ]
            ],
            "type": "contour"
           }
          ],
          "contourcarpet": [
           {
            "colorbar": {
             "outlinewidth": 0,
             "ticks": ""
            },
            "type": "contourcarpet"
           }
          ],
          "heatmap": [
           {
            "colorbar": {
             "outlinewidth": 0,
             "ticks": ""
            },
            "colorscale": [
             [
              0,
              "#0d0887"
             ],
             [
              0.1111111111111111,
              "#46039f"
             ],
             [
              0.2222222222222222,
              "#7201a8"
             ],
             [
              0.3333333333333333,
              "#9c179e"
             ],
             [
              0.4444444444444444,
              "#bd3786"
             ],
             [
              0.5555555555555556,
              "#d8576b"
             ],
             [
              0.6666666666666666,
              "#ed7953"
             ],
             [
              0.7777777777777778,
              "#fb9f3a"
             ],
             [
              0.8888888888888888,
              "#fdca26"
             ],
             [
              1,
              "#f0f921"
             ]
            ],
            "type": "heatmap"
           }
          ],
          "heatmapgl": [
           {
            "colorbar": {
             "outlinewidth": 0,
             "ticks": ""
            },
            "colorscale": [
             [
              0,
              "#0d0887"
             ],
             [
              0.1111111111111111,
              "#46039f"
             ],
             [
              0.2222222222222222,
              "#7201a8"
             ],
             [
              0.3333333333333333,
              "#9c179e"
             ],
             [
              0.4444444444444444,
              "#bd3786"
             ],
             [
              0.5555555555555556,
              "#d8576b"
             ],
             [
              0.6666666666666666,
              "#ed7953"
             ],
             [
              0.7777777777777778,
              "#fb9f3a"
             ],
             [
              0.8888888888888888,
              "#fdca26"
             ],
             [
              1,
              "#f0f921"
             ]
            ],
            "type": "heatmapgl"
           }
          ],
          "histogram": [
           {
            "marker": {
             "pattern": {
              "fillmode": "overlay",
              "size": 10,
              "solidity": 0.2
             }
            },
            "type": "histogram"
           }
          ],
          "histogram2d": [
           {
            "colorbar": {
             "outlinewidth": 0,
             "ticks": ""
            },
            "colorscale": [
             [
              0,
              "#0d0887"
             ],
             [
              0.1111111111111111,
              "#46039f"
             ],
             [
              0.2222222222222222,
              "#7201a8"
             ],
             [
              0.3333333333333333,
              "#9c179e"
             ],
             [
              0.4444444444444444,
              "#bd3786"
             ],
             [
              0.5555555555555556,
              "#d8576b"
             ],
             [
              0.6666666666666666,
              "#ed7953"
             ],
             [
              0.7777777777777778,
              "#fb9f3a"
             ],
             [
              0.8888888888888888,
              "#fdca26"
             ],
             [
              1,
              "#f0f921"
             ]
            ],
            "type": "histogram2d"
           }
          ],
          "histogram2dcontour": [
           {
            "colorbar": {
             "outlinewidth": 0,
             "ticks": ""
            },
            "colorscale": [
             [
              0,
              "#0d0887"
             ],
             [
              0.1111111111111111,
              "#46039f"
             ],
             [
              0.2222222222222222,
              "#7201a8"
             ],
             [
              0.3333333333333333,
              "#9c179e"
             ],
             [
              0.4444444444444444,
              "#bd3786"
             ],
             [
              0.5555555555555556,
              "#d8576b"
             ],
             [
              0.6666666666666666,
              "#ed7953"
             ],
             [
              0.7777777777777778,
              "#fb9f3a"
             ],
             [
              0.8888888888888888,
              "#fdca26"
             ],
             [
              1,
              "#f0f921"
             ]
            ],
            "type": "histogram2dcontour"
           }
          ],
          "mesh3d": [
           {
            "colorbar": {
             "outlinewidth": 0,
             "ticks": ""
            },
            "type": "mesh3d"
           }
          ],
          "parcoords": [
           {
            "line": {
             "colorbar": {
              "outlinewidth": 0,
              "ticks": ""
             }
            },
            "type": "parcoords"
           }
          ],
          "pie": [
           {
            "automargin": true,
            "type": "pie"
           }
          ],
          "scatter": [
           {
            "fillpattern": {
             "fillmode": "overlay",
             "size": 10,
             "solidity": 0.2
            },
            "type": "scatter"
           }
          ],
          "scatter3d": [
           {
            "line": {
             "colorbar": {
              "outlinewidth": 0,
              "ticks": ""
             }
            },
            "marker": {
             "colorbar": {
              "outlinewidth": 0,
              "ticks": ""
             }
            },
            "type": "scatter3d"
           }
          ],
          "scattercarpet": [
           {
            "marker": {
             "colorbar": {
              "outlinewidth": 0,
              "ticks": ""
             }
            },
            "type": "scattercarpet"
           }
          ],
          "scattergeo": [
           {
            "marker": {
             "colorbar": {
              "outlinewidth": 0,
              "ticks": ""
             }
            },
            "type": "scattergeo"
           }
          ],
          "scattergl": [
           {
            "marker": {
             "colorbar": {
              "outlinewidth": 0,
              "ticks": ""
             }
            },
            "type": "scattergl"
           }
          ],
          "scattermapbox": [
           {
            "marker": {
             "colorbar": {
              "outlinewidth": 0,
              "ticks": ""
             }
            },
            "type": "scattermapbox"
           }
          ],
          "scatterpolar": [
           {
            "marker": {
             "colorbar": {
              "outlinewidth": 0,
              "ticks": ""
             }
            },
            "type": "scatterpolar"
           }
          ],
          "scatterpolargl": [
           {
            "marker": {
             "colorbar": {
              "outlinewidth": 0,
              "ticks": ""
             }
            },
            "type": "scatterpolargl"
           }
          ],
          "scatterternary": [
           {
            "marker": {
             "colorbar": {
              "outlinewidth": 0,
              "ticks": ""
             }
            },
            "type": "scatterternary"
           }
          ],
          "surface": [
           {
            "colorbar": {
             "outlinewidth": 0,
             "ticks": ""
            },
            "colorscale": [
             [
              0,
              "#0d0887"
             ],
             [
              0.1111111111111111,
              "#46039f"
             ],
             [
              0.2222222222222222,
              "#7201a8"
             ],
             [
              0.3333333333333333,
              "#9c179e"
             ],
             [
              0.4444444444444444,
              "#bd3786"
             ],
             [
              0.5555555555555556,
              "#d8576b"
             ],
             [
              0.6666666666666666,
              "#ed7953"
             ],
             [
              0.7777777777777778,
              "#fb9f3a"
             ],
             [
              0.8888888888888888,
              "#fdca26"
             ],
             [
              1,
              "#f0f921"
             ]
            ],
            "type": "surface"
           }
          ],
          "table": [
           {
            "cells": {
             "fill": {
              "color": "#EBF0F8"
             },
             "line": {
              "color": "white"
             }
            },
            "header": {
             "fill": {
              "color": "#C8D4E3"
             },
             "line": {
              "color": "white"
             }
            },
            "type": "table"
           }
          ]
         },
         "layout": {
          "annotationdefaults": {
           "arrowcolor": "#2a3f5f",
           "arrowhead": 0,
           "arrowwidth": 1
          },
          "autotypenumbers": "strict",
          "coloraxis": {
           "colorbar": {
            "outlinewidth": 0,
            "ticks": ""
           }
          },
          "colorscale": {
           "diverging": [
            [
             0,
             "#8e0152"
            ],
            [
             0.1,
             "#c51b7d"
            ],
            [
             0.2,
             "#de77ae"
            ],
            [
             0.3,
             "#f1b6da"
            ],
            [
             0.4,
             "#fde0ef"
            ],
            [
             0.5,
             "#f7f7f7"
            ],
            [
             0.6,
             "#e6f5d0"
            ],
            [
             0.7,
             "#b8e186"
            ],
            [
             0.8,
             "#7fbc41"
            ],
            [
             0.9,
             "#4d9221"
            ],
            [
             1,
             "#276419"
            ]
           ],
           "sequential": [
            [
             0,
             "#0d0887"
            ],
            [
             0.1111111111111111,
             "#46039f"
            ],
            [
             0.2222222222222222,
             "#7201a8"
            ],
            [
             0.3333333333333333,
             "#9c179e"
            ],
            [
             0.4444444444444444,
             "#bd3786"
            ],
            [
             0.5555555555555556,
             "#d8576b"
            ],
            [
             0.6666666666666666,
             "#ed7953"
            ],
            [
             0.7777777777777778,
             "#fb9f3a"
            ],
            [
             0.8888888888888888,
             "#fdca26"
            ],
            [
             1,
             "#f0f921"
            ]
           ],
           "sequentialminus": [
            [
             0,
             "#0d0887"
            ],
            [
             0.1111111111111111,
             "#46039f"
            ],
            [
             0.2222222222222222,
             "#7201a8"
            ],
            [
             0.3333333333333333,
             "#9c179e"
            ],
            [
             0.4444444444444444,
             "#bd3786"
            ],
            [
             0.5555555555555556,
             "#d8576b"
            ],
            [
             0.6666666666666666,
             "#ed7953"
            ],
            [
             0.7777777777777778,
             "#fb9f3a"
            ],
            [
             0.8888888888888888,
             "#fdca26"
            ],
            [
             1,
             "#f0f921"
            ]
           ]
          },
          "colorway": [
           "#636efa",
           "#EF553B",
           "#00cc96",
           "#ab63fa",
           "#FFA15A",
           "#19d3f3",
           "#FF6692",
           "#B6E880",
           "#FF97FF",
           "#FECB52"
          ],
          "font": {
           "color": "#2a3f5f"
          },
          "geo": {
           "bgcolor": "white",
           "lakecolor": "white",
           "landcolor": "#E5ECF6",
           "showlakes": true,
           "showland": true,
           "subunitcolor": "white"
          },
          "hoverlabel": {
           "align": "left"
          },
          "hovermode": "closest",
          "mapbox": {
           "style": "light"
          },
          "paper_bgcolor": "white",
          "plot_bgcolor": "#E5ECF6",
          "polar": {
           "angularaxis": {
            "gridcolor": "white",
            "linecolor": "white",
            "ticks": ""
           },
           "bgcolor": "#E5ECF6",
           "radialaxis": {
            "gridcolor": "white",
            "linecolor": "white",
            "ticks": ""
           }
          },
          "scene": {
           "xaxis": {
            "backgroundcolor": "#E5ECF6",
            "gridcolor": "white",
            "gridwidth": 2,
            "linecolor": "white",
            "showbackground": true,
            "ticks": "",
            "zerolinecolor": "white"
           },
           "yaxis": {
            "backgroundcolor": "#E5ECF6",
            "gridcolor": "white",
            "gridwidth": 2,
            "linecolor": "white",
            "showbackground": true,
            "ticks": "",
            "zerolinecolor": "white"
           },
           "zaxis": {
            "backgroundcolor": "#E5ECF6",
            "gridcolor": "white",
            "gridwidth": 2,
            "linecolor": "white",
            "showbackground": true,
            "ticks": "",
            "zerolinecolor": "white"
           }
          },
          "shapedefaults": {
           "line": {
            "color": "#2a3f5f"
           }
          },
          "ternary": {
           "aaxis": {
            "gridcolor": "white",
            "linecolor": "white",
            "ticks": ""
           },
           "baxis": {
            "gridcolor": "white",
            "linecolor": "white",
            "ticks": ""
           },
           "bgcolor": "#E5ECF6",
           "caxis": {
            "gridcolor": "white",
            "linecolor": "white",
            "ticks": ""
           }
          },
          "title": {
           "x": 0.05
          },
          "xaxis": {
           "automargin": true,
           "gridcolor": "white",
           "linecolor": "white",
           "ticks": "",
           "title": {
            "standoff": 15
           },
           "zerolinecolor": "white",
           "zerolinewidth": 2
          },
          "yaxis": {
           "automargin": true,
           "gridcolor": "white",
           "linecolor": "white",
           "ticks": "",
           "title": {
            "standoff": 15
           },
           "zerolinecolor": "white",
           "zerolinewidth": 2
          }
         }
        },
        "title": {
         "font": {
          "color": "red",
          "size": 18
         },
         "text": "Number of pageviews",
         "x": 0.5,
         "y": 1
        },
        "transition": {
         "duration": 10
        },
        "updatemenus": [
         {
          "buttons": [
           {
            "args": [
             null,
             {
              "frame": {
               "duration": 250,
               "redraw": true
              },
              "fromcurrent": true,
              "mode": "immediate",
              "transition": {
               "duration": 0,
               "easing": "linear"
              },
              "visible": false
             }
            ],
            "label": "&#9654;",
            "method": "animate"
           },
           {
            "args": [
             [
              null
             ],
             {
              "frame": {
               "duration": 250,
               "redraw": true
              },
              "fromcurrent": true,
              "mode": "immediate",
              "transition": {
               "duration": 0,
               "easing": "linear"
              }
             }
            ],
            "label": "&#9724;",
            "method": "animate"
           }
          ],
          "direction": "left",
          "pad": {
           "r": 10,
           "t": 70
          },
          "showactive": false,
          "type": "buttons",
          "x": 0.1,
          "xanchor": "right",
          "y": 0,
          "yanchor": "top"
         }
        ]
       }
      },
      "text/html": [
       "<div>                            <div id=\"6d7c9459-8725-4209-95dd-33046f3bf936\" class=\"plotly-graph-div\" style=\"height:525px; width:100%;\"></div>            <script type=\"text/javascript\">                require([\"plotly\"], function(Plotly) {                    window.PLOTLYENV=window.PLOTLYENV || {};                                    if (document.getElementById(\"6d7c9459-8725-4209-95dd-33046f3bf936\")) {                    Plotly.newPlot(                        \"6d7c9459-8725-4209-95dd-33046f3bf936\",                        [{\"coloraxis\":\"coloraxis\",\"geo\":\"geo\",\"hovertemplate\":\"date=2020-01-22<br>Country_code=%{location}<br>pages=%{z}<extra></extra>\",\"locations\":[\"ITA\",\"RUS\",\"CHN\",\"ALB\",\"BGD\",\"BWA\",\"KHM\",\"HRV\",\"GRC\",\"SWE\",\"FIN\",\"NOR\",\"MYS\",\"ISR\",\"LTU\",\"SRB\",\"SVK\",\"SVN\",\"TUR\",\"VNM\",\"BGR\",\"CZE\",\"DNK\",\"GEO\",\"DEU\",\"HUN\",\"ISL\",\"JPN\",\"KAZ\",\"PRK\",\"KGZ\",\"NLD\",\"POL\",\"ROU\",\"TJK\",\"THA\",\"AZE\",\"MNG\"],\"name\":\"\",\"z\":[40.38888316134122,19.77745483840676,5.067677698249593,0.0,0.0,0.0,0.0,8.301051466519093,2.971808193891981,70.7590770296487,47.038245294412214,25.299866622672287,0.8434777756582694,13.412768173975325,7.585285262184311,3.3482501986483504,0.0,10.606829561566938,0.5098467593908764,3.223798727376173,0.0,37.95152263191379,21.88152287167893,0.24175897382448727,38.5974793361652,17.086918364016796,0.27287884452182076,29.638605745242,0.0,17.62666461970746,0.0,32.674941948800274,25.41751024497435,2.217315625272621,0.0,2.151863142421048,0.009907738151558869,0.0],\"type\":\"choropleth\"}],                        {\"template\":{\"data\":{\"histogram2dcontour\":[{\"type\":\"histogram2dcontour\",\"colorbar\":{\"outlinewidth\":0,\"ticks\":\"\"},\"colorscale\":[[0.0,\"#0d0887\"],[0.1111111111111111,\"#46039f\"],[0.2222222222222222,\"#7201a8\"],[0.3333333333333333,\"#9c179e\"],[0.4444444444444444,\"#bd3786\"],[0.5555555555555556,\"#d8576b\"],[0.6666666666666666,\"#ed7953\"],[0.7777777777777778,\"#fb9f3a\"],[0.8888888888888888,\"#fdca26\"],[1.0,\"#f0f921\"]]}],\"choropleth\":[{\"type\":\"choropleth\",\"colorbar\":{\"outlinewidth\":0,\"ticks\":\"\"}}],\"histogram2d\":[{\"type\":\"histogram2d\",\"colorbar\":{\"outlinewidth\":0,\"ticks\":\"\"},\"colorscale\":[[0.0,\"#0d0887\"],[0.1111111111111111,\"#46039f\"],[0.2222222222222222,\"#7201a8\"],[0.3333333333333333,\"#9c179e\"],[0.4444444444444444,\"#bd3786\"],[0.5555555555555556,\"#d8576b\"],[0.6666666666666666,\"#ed7953\"],[0.7777777777777778,\"#fb9f3a\"],[0.8888888888888888,\"#fdca26\"],[1.0,\"#f0f921\"]]}],\"heatmap\":[{\"type\":\"heatmap\",\"colorbar\":{\"outlinewidth\":0,\"ticks\":\"\"},\"colorscale\":[[0.0,\"#0d0887\"],[0.1111111111111111,\"#46039f\"],[0.2222222222222222,\"#7201a8\"],[0.3333333333333333,\"#9c179e\"],[0.4444444444444444,\"#bd3786\"],[0.5555555555555556,\"#d8576b\"],[0.6666666666666666,\"#ed7953\"],[0.7777777777777778,\"#fb9f3a\"],[0.8888888888888888,\"#fdca26\"],[1.0,\"#f0f921\"]]}],\"heatmapgl\":[{\"type\":\"heatmapgl\",\"colorbar\":{\"outlinewidth\":0,\"ticks\":\"\"},\"colorscale\":[[0.0,\"#0d0887\"],[0.1111111111111111,\"#46039f\"],[0.2222222222222222,\"#7201a8\"],[0.3333333333333333,\"#9c179e\"],[0.4444444444444444,\"#bd3786\"],[0.5555555555555556,\"#d8576b\"],[0.6666666666666666,\"#ed7953\"],[0.7777777777777778,\"#fb9f3a\"],[0.8888888888888888,\"#fdca26\"],[1.0,\"#f0f921\"]]}],\"contourcarpet\":[{\"type\":\"contourcarpet\",\"colorbar\":{\"outlinewidth\":0,\"ticks\":\"\"}}],\"contour\":[{\"type\":\"contour\",\"colorbar\":{\"outlinewidth\":0,\"ticks\":\"\"},\"colorscale\":[[0.0,\"#0d0887\"],[0.1111111111111111,\"#46039f\"],[0.2222222222222222,\"#7201a8\"],[0.3333333333333333,\"#9c179e\"],[0.4444444444444444,\"#bd3786\"],[0.5555555555555556,\"#d8576b\"],[0.6666666666666666,\"#ed7953\"],[0.7777777777777778,\"#fb9f3a\"],[0.8888888888888888,\"#fdca26\"],[1.0,\"#f0f921\"]]}],\"surface\":[{\"type\":\"surface\",\"colorbar\":{\"outlinewidth\":0,\"ticks\":\"\"},\"colorscale\":[[0.0,\"#0d0887\"],[0.1111111111111111,\"#46039f\"],[0.2222222222222222,\"#7201a8\"],[0.3333333333333333,\"#9c179e\"],[0.4444444444444444,\"#bd3786\"],[0.5555555555555556,\"#d8576b\"],[0.6666666666666666,\"#ed7953\"],[0.7777777777777778,\"#fb9f3a\"],[0.8888888888888888,\"#fdca26\"],[1.0,\"#f0f921\"]]}],\"mesh3d\":[{\"type\":\"mesh3d\",\"colorbar\":{\"outlinewidth\":0,\"ticks\":\"\"}}],\"scatter\":[{\"fillpattern\":{\"fillmode\":\"overlay\",\"size\":10,\"solidity\":0.2},\"type\":\"scatter\"}],\"parcoords\":[{\"type\":\"parcoords\",\"line\":{\"colorbar\":{\"outlinewidth\":0,\"ticks\":\"\"}}}],\"scatterpolargl\":[{\"type\":\"scatterpolargl\",\"marker\":{\"colorbar\":{\"outlinewidth\":0,\"ticks\":\"\"}}}],\"bar\":[{\"error_x\":{\"color\":\"#2a3f5f\"},\"error_y\":{\"color\":\"#2a3f5f\"},\"marker\":{\"line\":{\"color\":\"#E5ECF6\",\"width\":0.5},\"pattern\":{\"fillmode\":\"overlay\",\"size\":10,\"solidity\":0.2}},\"type\":\"bar\"}],\"scattergeo\":[{\"type\":\"scattergeo\",\"marker\":{\"colorbar\":{\"outlinewidth\":0,\"ticks\":\"\"}}}],\"scatterpolar\":[{\"type\":\"scatterpolar\",\"marker\":{\"colorbar\":{\"outlinewidth\":0,\"ticks\":\"\"}}}],\"histogram\":[{\"marker\":{\"pattern\":{\"fillmode\":\"overlay\",\"size\":10,\"solidity\":0.2}},\"type\":\"histogram\"}],\"scattergl\":[{\"type\":\"scattergl\",\"marker\":{\"colorbar\":{\"outlinewidth\":0,\"ticks\":\"\"}}}],\"scatter3d\":[{\"type\":\"scatter3d\",\"line\":{\"colorbar\":{\"outlinewidth\":0,\"ticks\":\"\"}},\"marker\":{\"colorbar\":{\"outlinewidth\":0,\"ticks\":\"\"}}}],\"scattermapbox\":[{\"type\":\"scattermapbox\",\"marker\":{\"colorbar\":{\"outlinewidth\":0,\"ticks\":\"\"}}}],\"scatterternary\":[{\"type\":\"scatterternary\",\"marker\":{\"colorbar\":{\"outlinewidth\":0,\"ticks\":\"\"}}}],\"scattercarpet\":[{\"type\":\"scattercarpet\",\"marker\":{\"colorbar\":{\"outlinewidth\":0,\"ticks\":\"\"}}}],\"carpet\":[{\"aaxis\":{\"endlinecolor\":\"#2a3f5f\",\"gridcolor\":\"white\",\"linecolor\":\"white\",\"minorgridcolor\":\"white\",\"startlinecolor\":\"#2a3f5f\"},\"baxis\":{\"endlinecolor\":\"#2a3f5f\",\"gridcolor\":\"white\",\"linecolor\":\"white\",\"minorgridcolor\":\"white\",\"startlinecolor\":\"#2a3f5f\"},\"type\":\"carpet\"}],\"table\":[{\"cells\":{\"fill\":{\"color\":\"#EBF0F8\"},\"line\":{\"color\":\"white\"}},\"header\":{\"fill\":{\"color\":\"#C8D4E3\"},\"line\":{\"color\":\"white\"}},\"type\":\"table\"}],\"barpolar\":[{\"marker\":{\"line\":{\"color\":\"#E5ECF6\",\"width\":0.5},\"pattern\":{\"fillmode\":\"overlay\",\"size\":10,\"solidity\":0.2}},\"type\":\"barpolar\"}],\"pie\":[{\"automargin\":true,\"type\":\"pie\"}]},\"layout\":{\"autotypenumbers\":\"strict\",\"colorway\":[\"#636efa\",\"#EF553B\",\"#00cc96\",\"#ab63fa\",\"#FFA15A\",\"#19d3f3\",\"#FF6692\",\"#B6E880\",\"#FF97FF\",\"#FECB52\"],\"font\":{\"color\":\"#2a3f5f\"},\"hovermode\":\"closest\",\"hoverlabel\":{\"align\":\"left\"},\"paper_bgcolor\":\"white\",\"plot_bgcolor\":\"#E5ECF6\",\"polar\":{\"bgcolor\":\"#E5ECF6\",\"angularaxis\":{\"gridcolor\":\"white\",\"linecolor\":\"white\",\"ticks\":\"\"},\"radialaxis\":{\"gridcolor\":\"white\",\"linecolor\":\"white\",\"ticks\":\"\"}},\"ternary\":{\"bgcolor\":\"#E5ECF6\",\"aaxis\":{\"gridcolor\":\"white\",\"linecolor\":\"white\",\"ticks\":\"\"},\"baxis\":{\"gridcolor\":\"white\",\"linecolor\":\"white\",\"ticks\":\"\"},\"caxis\":{\"gridcolor\":\"white\",\"linecolor\":\"white\",\"ticks\":\"\"}},\"coloraxis\":{\"colorbar\":{\"outlinewidth\":0,\"ticks\":\"\"}},\"colorscale\":{\"sequential\":[[0.0,\"#0d0887\"],[0.1111111111111111,\"#46039f\"],[0.2222222222222222,\"#7201a8\"],[0.3333333333333333,\"#9c179e\"],[0.4444444444444444,\"#bd3786\"],[0.5555555555555556,\"#d8576b\"],[0.6666666666666666,\"#ed7953\"],[0.7777777777777778,\"#fb9f3a\"],[0.8888888888888888,\"#fdca26\"],[1.0,\"#f0f921\"]],\"sequentialminus\":[[0.0,\"#0d0887\"],[0.1111111111111111,\"#46039f\"],[0.2222222222222222,\"#7201a8\"],[0.3333333333333333,\"#9c179e\"],[0.4444444444444444,\"#bd3786\"],[0.5555555555555556,\"#d8576b\"],[0.6666666666666666,\"#ed7953\"],[0.7777777777777778,\"#fb9f3a\"],[0.8888888888888888,\"#fdca26\"],[1.0,\"#f0f921\"]],\"diverging\":[[0,\"#8e0152\"],[0.1,\"#c51b7d\"],[0.2,\"#de77ae\"],[0.3,\"#f1b6da\"],[0.4,\"#fde0ef\"],[0.5,\"#f7f7f7\"],[0.6,\"#e6f5d0\"],[0.7,\"#b8e186\"],[0.8,\"#7fbc41\"],[0.9,\"#4d9221\"],[1,\"#276419\"]]},\"xaxis\":{\"gridcolor\":\"white\",\"linecolor\":\"white\",\"ticks\":\"\",\"title\":{\"standoff\":15},\"zerolinecolor\":\"white\",\"automargin\":true,\"zerolinewidth\":2},\"yaxis\":{\"gridcolor\":\"white\",\"linecolor\":\"white\",\"ticks\":\"\",\"title\":{\"standoff\":15},\"zerolinecolor\":\"white\",\"automargin\":true,\"zerolinewidth\":2},\"scene\":{\"xaxis\":{\"backgroundcolor\":\"#E5ECF6\",\"gridcolor\":\"white\",\"linecolor\":\"white\",\"showbackground\":true,\"ticks\":\"\",\"zerolinecolor\":\"white\",\"gridwidth\":2},\"yaxis\":{\"backgroundcolor\":\"#E5ECF6\",\"gridcolor\":\"white\",\"linecolor\":\"white\",\"showbackground\":true,\"ticks\":\"\",\"zerolinecolor\":\"white\",\"gridwidth\":2},\"zaxis\":{\"backgroundcolor\":\"#E5ECF6\",\"gridcolor\":\"white\",\"linecolor\":\"white\",\"showbackground\":true,\"ticks\":\"\",\"zerolinecolor\":\"white\",\"gridwidth\":2}},\"shapedefaults\":{\"line\":{\"color\":\"#2a3f5f\"}},\"annotationdefaults\":{\"arrowcolor\":\"#2a3f5f\",\"arrowhead\":0,\"arrowwidth\":1},\"geo\":{\"bgcolor\":\"white\",\"landcolor\":\"#E5ECF6\",\"subunitcolor\":\"white\",\"showland\":true,\"showlakes\":true,\"lakecolor\":\"white\"},\"title\":{\"x\":0.05},\"mapbox\":{\"style\":\"light\"}}},\"geo\":{\"domain\":{\"x\":[0.0,1.0],\"y\":[0.0,1.0]},\"center\":{}},\"coloraxis\":{\"colorbar\":{\"title\":{\"text\":\"pages\"}},\"colorscale\":[[0.0,\"rgb(231, 250, 90)\"],[0.09090909090909091,\"rgb(246, 211, 70)\"],[0.18181818181818182,\"rgb(251, 173, 60)\"],[0.2727272727272727,\"rgb(246, 139, 69)\"],[0.36363636363636365,\"rgb(225, 113, 97)\"],[0.45454545454545453,\"rgb(193, 100, 121)\"],[0.5454545454545454,\"rgb(158, 89, 135)\"],[0.6363636363636364,\"rgb(126, 77, 143)\"],[0.7272727272727273,\"rgb(93, 62, 153)\"],[0.8181818181818182,\"rgb(53, 50, 155)\"],[0.9090909090909091,\"rgb(13, 48, 100)\"],[1.0,\"rgb(3, 35, 51)\"]],\"cmid\":658.2392475203915},\"legend\":{\"tracegroupgap\":0},\"margin\":{\"t\":60},\"updatemenus\":[{\"buttons\":[{\"args\":[null,{\"frame\":{\"duration\":250,\"redraw\":true},\"mode\":\"immediate\",\"fromcurrent\":true,\"transition\":{\"duration\":0,\"easing\":\"linear\"},\"visible\":false}],\"label\":\"&#9654;\",\"method\":\"animate\"},{\"args\":[[null],{\"frame\":{\"duration\":250,\"redraw\":true},\"mode\":\"immediate\",\"fromcurrent\":true,\"transition\":{\"duration\":0,\"easing\":\"linear\"}}],\"label\":\"&#9724;\",\"method\":\"animate\"}],\"direction\":\"left\",\"pad\":{\"r\":10,\"t\":70},\"showactive\":false,\"type\":\"buttons\",\"x\":0.1,\"xanchor\":\"right\",\"y\":0,\"yanchor\":\"top\"}],\"sliders\":[{\"active\":0,\"currentvalue\":{\"prefix\":\"date=\"},\"len\":0.9,\"pad\":{\"b\":10,\"t\":60},\"steps\":[{\"args\":[[\"2020-01-22\"],{\"frame\":{\"duration\":0,\"redraw\":true},\"mode\":\"immediate\",\"fromcurrent\":true,\"transition\":{\"duration\":0,\"easing\":\"linear\"}}],\"label\":\"2020-01-22\",\"method\":\"animate\"},{\"args\":[[\"2020-02-01\"],{\"frame\":{\"duration\":0,\"redraw\":true},\"mode\":\"immediate\",\"fromcurrent\":true,\"transition\":{\"duration\":0,\"easing\":\"linear\"}}],\"label\":\"2020-02-01\",\"method\":\"animate\"},{\"args\":[[\"2020-02-11\"],{\"frame\":{\"duration\":0,\"redraw\":true},\"mode\":\"immediate\",\"fromcurrent\":true,\"transition\":{\"duration\":0,\"easing\":\"linear\"}}],\"label\":\"2020-02-11\",\"method\":\"animate\"},{\"args\":[[\"2020-02-21\"],{\"frame\":{\"duration\":0,\"redraw\":true},\"mode\":\"immediate\",\"fromcurrent\":true,\"transition\":{\"duration\":0,\"easing\":\"linear\"}}],\"label\":\"2020-02-21\",\"method\":\"animate\"},{\"args\":[[\"2020-03-02\"],{\"frame\":{\"duration\":0,\"redraw\":true},\"mode\":\"immediate\",\"fromcurrent\":true,\"transition\":{\"duration\":0,\"easing\":\"linear\"}}],\"label\":\"2020-03-02\",\"method\":\"animate\"},{\"args\":[[\"2020-03-12\"],{\"frame\":{\"duration\":0,\"redraw\":true},\"mode\":\"immediate\",\"fromcurrent\":true,\"transition\":{\"duration\":0,\"easing\":\"linear\"}}],\"label\":\"2020-03-12\",\"method\":\"animate\"},{\"args\":[[\"2020-03-22\"],{\"frame\":{\"duration\":0,\"redraw\":true},\"mode\":\"immediate\",\"fromcurrent\":true,\"transition\":{\"duration\":0,\"easing\":\"linear\"}}],\"label\":\"2020-03-22\",\"method\":\"animate\"},{\"args\":[[\"2020-04-01\"],{\"frame\":{\"duration\":0,\"redraw\":true},\"mode\":\"immediate\",\"fromcurrent\":true,\"transition\":{\"duration\":0,\"easing\":\"linear\"}}],\"label\":\"2020-04-01\",\"method\":\"animate\"},{\"args\":[[\"2020-04-11\"],{\"frame\":{\"duration\":0,\"redraw\":true},\"mode\":\"immediate\",\"fromcurrent\":true,\"transition\":{\"duration\":0,\"easing\":\"linear\"}}],\"label\":\"2020-04-11\",\"method\":\"animate\"},{\"args\":[[\"2020-04-21\"],{\"frame\":{\"duration\":0,\"redraw\":true},\"mode\":\"immediate\",\"fromcurrent\":true,\"transition\":{\"duration\":0,\"easing\":\"linear\"}}],\"label\":\"2020-04-21\",\"method\":\"animate\"},{\"args\":[[\"2020-05-01\"],{\"frame\":{\"duration\":0,\"redraw\":true},\"mode\":\"immediate\",\"fromcurrent\":true,\"transition\":{\"duration\":0,\"easing\":\"linear\"}}],\"label\":\"2020-05-01\",\"method\":\"animate\"},{\"args\":[[\"2020-05-11\"],{\"frame\":{\"duration\":0,\"redraw\":true},\"mode\":\"immediate\",\"fromcurrent\":true,\"transition\":{\"duration\":0,\"easing\":\"linear\"}}],\"label\":\"2020-05-11\",\"method\":\"animate\"},{\"args\":[[\"2020-05-21\"],{\"frame\":{\"duration\":0,\"redraw\":true},\"mode\":\"immediate\",\"fromcurrent\":true,\"transition\":{\"duration\":0,\"easing\":\"linear\"}}],\"label\":\"2020-05-21\",\"method\":\"animate\"},{\"args\":[[\"2020-05-31\"],{\"frame\":{\"duration\":0,\"redraw\":true},\"mode\":\"immediate\",\"fromcurrent\":true,\"transition\":{\"duration\":0,\"easing\":\"linear\"}}],\"label\":\"2020-05-31\",\"method\":\"animate\"},{\"args\":[[\"2020-06-10\"],{\"frame\":{\"duration\":0,\"redraw\":true},\"mode\":\"immediate\",\"fromcurrent\":true,\"transition\":{\"duration\":0,\"easing\":\"linear\"}}],\"label\":\"2020-06-10\",\"method\":\"animate\"},{\"args\":[[\"2020-06-20\"],{\"frame\":{\"duration\":0,\"redraw\":true},\"mode\":\"immediate\",\"fromcurrent\":true,\"transition\":{\"duration\":0,\"easing\":\"linear\"}}],\"label\":\"2020-06-20\",\"method\":\"animate\"},{\"args\":[[\"2020-06-30\"],{\"frame\":{\"duration\":0,\"redraw\":true},\"mode\":\"immediate\",\"fromcurrent\":true,\"transition\":{\"duration\":0,\"easing\":\"linear\"}}],\"label\":\"2020-06-30\",\"method\":\"animate\"},{\"args\":[[\"2020-07-10\"],{\"frame\":{\"duration\":0,\"redraw\":true},\"mode\":\"immediate\",\"fromcurrent\":true,\"transition\":{\"duration\":0,\"easing\":\"linear\"}}],\"label\":\"2020-07-10\",\"method\":\"animate\"},{\"args\":[[\"2020-07-20\"],{\"frame\":{\"duration\":0,\"redraw\":true},\"mode\":\"immediate\",\"fromcurrent\":true,\"transition\":{\"duration\":0,\"easing\":\"linear\"}}],\"label\":\"2020-07-20\",\"method\":\"animate\"},{\"args\":[[\"2020-07-30\"],{\"frame\":{\"duration\":0,\"redraw\":true},\"mode\":\"immediate\",\"fromcurrent\":true,\"transition\":{\"duration\":0,\"easing\":\"linear\"}}],\"label\":\"2020-07-30\",\"method\":\"animate\"},{\"args\":[[\"2020-08-09\"],{\"frame\":{\"duration\":0,\"redraw\":true},\"mode\":\"immediate\",\"fromcurrent\":true,\"transition\":{\"duration\":0,\"easing\":\"linear\"}}],\"label\":\"2020-08-09\",\"method\":\"animate\"},{\"args\":[[\"2020-08-19\"],{\"frame\":{\"duration\":0,\"redraw\":true},\"mode\":\"immediate\",\"fromcurrent\":true,\"transition\":{\"duration\":0,\"easing\":\"linear\"}}],\"label\":\"2020-08-19\",\"method\":\"animate\"},{\"args\":[[\"2020-08-29\"],{\"frame\":{\"duration\":0,\"redraw\":true},\"mode\":\"immediate\",\"fromcurrent\":true,\"transition\":{\"duration\":0,\"easing\":\"linear\"}}],\"label\":\"2020-08-29\",\"method\":\"animate\"},{\"args\":[[\"2020-09-08\"],{\"frame\":{\"duration\":0,\"redraw\":true},\"mode\":\"immediate\",\"fromcurrent\":true,\"transition\":{\"duration\":0,\"easing\":\"linear\"}}],\"label\":\"2020-09-08\",\"method\":\"animate\"},{\"args\":[[\"2020-09-18\"],{\"frame\":{\"duration\":0,\"redraw\":true},\"mode\":\"immediate\",\"fromcurrent\":true,\"transition\":{\"duration\":0,\"easing\":\"linear\"}}],\"label\":\"2020-09-18\",\"method\":\"animate\"},{\"args\":[[\"2020-09-28\"],{\"frame\":{\"duration\":0,\"redraw\":true},\"mode\":\"immediate\",\"fromcurrent\":true,\"transition\":{\"duration\":0,\"easing\":\"linear\"}}],\"label\":\"2020-09-28\",\"method\":\"animate\"},{\"args\":[[\"2020-10-08\"],{\"frame\":{\"duration\":0,\"redraw\":true},\"mode\":\"immediate\",\"fromcurrent\":true,\"transition\":{\"duration\":0,\"easing\":\"linear\"}}],\"label\":\"2020-10-08\",\"method\":\"animate\"},{\"args\":[[\"2020-10-18\"],{\"frame\":{\"duration\":0,\"redraw\":true},\"mode\":\"immediate\",\"fromcurrent\":true,\"transition\":{\"duration\":0,\"easing\":\"linear\"}}],\"label\":\"2020-10-18\",\"method\":\"animate\"},{\"args\":[[\"2020-10-28\"],{\"frame\":{\"duration\":0,\"redraw\":true},\"mode\":\"immediate\",\"fromcurrent\":true,\"transition\":{\"duration\":0,\"easing\":\"linear\"}}],\"label\":\"2020-10-28\",\"method\":\"animate\"},{\"args\":[[\"2020-11-07\"],{\"frame\":{\"duration\":0,\"redraw\":true},\"mode\":\"immediate\",\"fromcurrent\":true,\"transition\":{\"duration\":0,\"easing\":\"linear\"}}],\"label\":\"2020-11-07\",\"method\":\"animate\"},{\"args\":[[\"2020-11-17\"],{\"frame\":{\"duration\":0,\"redraw\":true},\"mode\":\"immediate\",\"fromcurrent\":true,\"transition\":{\"duration\":0,\"easing\":\"linear\"}}],\"label\":\"2020-11-17\",\"method\":\"animate\"},{\"args\":[[\"2020-11-27\"],{\"frame\":{\"duration\":0,\"redraw\":true},\"mode\":\"immediate\",\"fromcurrent\":true,\"transition\":{\"duration\":0,\"easing\":\"linear\"}}],\"label\":\"2020-11-27\",\"method\":\"animate\"},{\"args\":[[\"2020-12-07\"],{\"frame\":{\"duration\":0,\"redraw\":true},\"mode\":\"immediate\",\"fromcurrent\":true,\"transition\":{\"duration\":0,\"easing\":\"linear\"}}],\"label\":\"2020-12-07\",\"method\":\"animate\"},{\"args\":[[\"2020-12-17\"],{\"frame\":{\"duration\":0,\"redraw\":true},\"mode\":\"immediate\",\"fromcurrent\":true,\"transition\":{\"duration\":0,\"easing\":\"linear\"}}],\"label\":\"2020-12-17\",\"method\":\"animate\"},{\"args\":[[\"2020-12-27\"],{\"frame\":{\"duration\":0,\"redraw\":true},\"mode\":\"immediate\",\"fromcurrent\":true,\"transition\":{\"duration\":0,\"easing\":\"linear\"}}],\"label\":\"2020-12-27\",\"method\":\"animate\"},{\"args\":[[\"2021-01-06\"],{\"frame\":{\"duration\":0,\"redraw\":true},\"mode\":\"immediate\",\"fromcurrent\":true,\"transition\":{\"duration\":0,\"easing\":\"linear\"}}],\"label\":\"2021-01-06\",\"method\":\"animate\"},{\"args\":[[\"2021-01-16\"],{\"frame\":{\"duration\":0,\"redraw\":true},\"mode\":\"immediate\",\"fromcurrent\":true,\"transition\":{\"duration\":0,\"easing\":\"linear\"}}],\"label\":\"2021-01-16\",\"method\":\"animate\"},{\"args\":[[\"2021-01-26\"],{\"frame\":{\"duration\":0,\"redraw\":true},\"mode\":\"immediate\",\"fromcurrent\":true,\"transition\":{\"duration\":0,\"easing\":\"linear\"}}],\"label\":\"2021-01-26\",\"method\":\"animate\"},{\"args\":[[\"2021-02-05\"],{\"frame\":{\"duration\":0,\"redraw\":true},\"mode\":\"immediate\",\"fromcurrent\":true,\"transition\":{\"duration\":0,\"easing\":\"linear\"}}],\"label\":\"2021-02-05\",\"method\":\"animate\"},{\"args\":[[\"2021-02-15\"],{\"frame\":{\"duration\":0,\"redraw\":true},\"mode\":\"immediate\",\"fromcurrent\":true,\"transition\":{\"duration\":0,\"easing\":\"linear\"}}],\"label\":\"2021-02-15\",\"method\":\"animate\"},{\"args\":[[\"2021-02-25\"],{\"frame\":{\"duration\":0,\"redraw\":true},\"mode\":\"immediate\",\"fromcurrent\":true,\"transition\":{\"duration\":0,\"easing\":\"linear\"}}],\"label\":\"2021-02-25\",\"method\":\"animate\"},{\"args\":[[\"2021-03-07\"],{\"frame\":{\"duration\":0,\"redraw\":true},\"mode\":\"immediate\",\"fromcurrent\":true,\"transition\":{\"duration\":0,\"easing\":\"linear\"}}],\"label\":\"2021-03-07\",\"method\":\"animate\"},{\"args\":[[\"2021-03-17\"],{\"frame\":{\"duration\":0,\"redraw\":true},\"mode\":\"immediate\",\"fromcurrent\":true,\"transition\":{\"duration\":0,\"easing\":\"linear\"}}],\"label\":\"2021-03-17\",\"method\":\"animate\"},{\"args\":[[\"2021-03-27\"],{\"frame\":{\"duration\":0,\"redraw\":true},\"mode\":\"immediate\",\"fromcurrent\":true,\"transition\":{\"duration\":0,\"easing\":\"linear\"}}],\"label\":\"2021-03-27\",\"method\":\"animate\"},{\"args\":[[\"2021-04-06\"],{\"frame\":{\"duration\":0,\"redraw\":true},\"mode\":\"immediate\",\"fromcurrent\":true,\"transition\":{\"duration\":0,\"easing\":\"linear\"}}],\"label\":\"2021-04-06\",\"method\":\"animate\"},{\"args\":[[\"2021-04-16\"],{\"frame\":{\"duration\":0,\"redraw\":true},\"mode\":\"immediate\",\"fromcurrent\":true,\"transition\":{\"duration\":0,\"easing\":\"linear\"}}],\"label\":\"2021-04-16\",\"method\":\"animate\"},{\"args\":[[\"2021-04-26\"],{\"frame\":{\"duration\":0,\"redraw\":true},\"mode\":\"immediate\",\"fromcurrent\":true,\"transition\":{\"duration\":0,\"easing\":\"linear\"}}],\"label\":\"2021-04-26\",\"method\":\"animate\"},{\"args\":[[\"2021-05-06\"],{\"frame\":{\"duration\":0,\"redraw\":true},\"mode\":\"immediate\",\"fromcurrent\":true,\"transition\":{\"duration\":0,\"easing\":\"linear\"}}],\"label\":\"2021-05-06\",\"method\":\"animate\"},{\"args\":[[\"2021-05-16\"],{\"frame\":{\"duration\":0,\"redraw\":true},\"mode\":\"immediate\",\"fromcurrent\":true,\"transition\":{\"duration\":0,\"easing\":\"linear\"}}],\"label\":\"2021-05-16\",\"method\":\"animate\"},{\"args\":[[\"2021-05-26\"],{\"frame\":{\"duration\":0,\"redraw\":true},\"mode\":\"immediate\",\"fromcurrent\":true,\"transition\":{\"duration\":0,\"easing\":\"linear\"}}],\"label\":\"2021-05-26\",\"method\":\"animate\"},{\"args\":[[\"2021-06-05\"],{\"frame\":{\"duration\":0,\"redraw\":true},\"mode\":\"immediate\",\"fromcurrent\":true,\"transition\":{\"duration\":0,\"easing\":\"linear\"}}],\"label\":\"2021-06-05\",\"method\":\"animate\"},{\"args\":[[\"2021-06-15\"],{\"frame\":{\"duration\":0,\"redraw\":true},\"mode\":\"immediate\",\"fromcurrent\":true,\"transition\":{\"duration\":0,\"easing\":\"linear\"}}],\"label\":\"2021-06-15\",\"method\":\"animate\"},{\"args\":[[\"2021-06-25\"],{\"frame\":{\"duration\":0,\"redraw\":true},\"mode\":\"immediate\",\"fromcurrent\":true,\"transition\":{\"duration\":0,\"easing\":\"linear\"}}],\"label\":\"2021-06-25\",\"method\":\"animate\"},{\"args\":[[\"2021-07-05\"],{\"frame\":{\"duration\":0,\"redraw\":true},\"mode\":\"immediate\",\"fromcurrent\":true,\"transition\":{\"duration\":0,\"easing\":\"linear\"}}],\"label\":\"2021-07-05\",\"method\":\"animate\"},{\"args\":[[\"2021-07-15\"],{\"frame\":{\"duration\":0,\"redraw\":true},\"mode\":\"immediate\",\"fromcurrent\":true,\"transition\":{\"duration\":0,\"easing\":\"linear\"}}],\"label\":\"2021-07-15\",\"method\":\"animate\"},{\"args\":[[\"2021-07-25\"],{\"frame\":{\"duration\":0,\"redraw\":true},\"mode\":\"immediate\",\"fromcurrent\":true,\"transition\":{\"duration\":0,\"easing\":\"linear\"}}],\"label\":\"2021-07-25\",\"method\":\"animate\"},{\"args\":[[\"2021-08-04\"],{\"frame\":{\"duration\":0,\"redraw\":true},\"mode\":\"immediate\",\"fromcurrent\":true,\"transition\":{\"duration\":0,\"easing\":\"linear\"}}],\"label\":\"2021-08-04\",\"method\":\"animate\"},{\"args\":[[\"2021-08-14\"],{\"frame\":{\"duration\":0,\"redraw\":true},\"mode\":\"immediate\",\"fromcurrent\":true,\"transition\":{\"duration\":0,\"easing\":\"linear\"}}],\"label\":\"2021-08-14\",\"method\":\"animate\"},{\"args\":[[\"2021-08-24\"],{\"frame\":{\"duration\":0,\"redraw\":true},\"mode\":\"immediate\",\"fromcurrent\":true,\"transition\":{\"duration\":0,\"easing\":\"linear\"}}],\"label\":\"2021-08-24\",\"method\":\"animate\"},{\"args\":[[\"2021-09-03\"],{\"frame\":{\"duration\":0,\"redraw\":true},\"mode\":\"immediate\",\"fromcurrent\":true,\"transition\":{\"duration\":0,\"easing\":\"linear\"}}],\"label\":\"2021-09-03\",\"method\":\"animate\"},{\"args\":[[\"2021-09-13\"],{\"frame\":{\"duration\":0,\"redraw\":true},\"mode\":\"immediate\",\"fromcurrent\":true,\"transition\":{\"duration\":0,\"easing\":\"linear\"}}],\"label\":\"2021-09-13\",\"method\":\"animate\"},{\"args\":[[\"2021-09-23\"],{\"frame\":{\"duration\":0,\"redraw\":true},\"mode\":\"immediate\",\"fromcurrent\":true,\"transition\":{\"duration\":0,\"easing\":\"linear\"}}],\"label\":\"2021-09-23\",\"method\":\"animate\"},{\"args\":[[\"2021-10-03\"],{\"frame\":{\"duration\":0,\"redraw\":true},\"mode\":\"immediate\",\"fromcurrent\":true,\"transition\":{\"duration\":0,\"easing\":\"linear\"}}],\"label\":\"2021-10-03\",\"method\":\"animate\"},{\"args\":[[\"2021-10-13\"],{\"frame\":{\"duration\":0,\"redraw\":true},\"mode\":\"immediate\",\"fromcurrent\":true,\"transition\":{\"duration\":0,\"easing\":\"linear\"}}],\"label\":\"2021-10-13\",\"method\":\"animate\"},{\"args\":[[\"2021-10-23\"],{\"frame\":{\"duration\":0,\"redraw\":true},\"mode\":\"immediate\",\"fromcurrent\":true,\"transition\":{\"duration\":0,\"easing\":\"linear\"}}],\"label\":\"2021-10-23\",\"method\":\"animate\"},{\"args\":[[\"2021-11-02\"],{\"frame\":{\"duration\":0,\"redraw\":true},\"mode\":\"immediate\",\"fromcurrent\":true,\"transition\":{\"duration\":0,\"easing\":\"linear\"}}],\"label\":\"2021-11-02\",\"method\":\"animate\"},{\"args\":[[\"2021-11-12\"],{\"frame\":{\"duration\":0,\"redraw\":true},\"mode\":\"immediate\",\"fromcurrent\":true,\"transition\":{\"duration\":0,\"easing\":\"linear\"}}],\"label\":\"2021-11-12\",\"method\":\"animate\"},{\"args\":[[\"2021-11-22\"],{\"frame\":{\"duration\":0,\"redraw\":true},\"mode\":\"immediate\",\"fromcurrent\":true,\"transition\":{\"duration\":0,\"easing\":\"linear\"}}],\"label\":\"2021-11-22\",\"method\":\"animate\"},{\"args\":[[\"2021-12-02\"],{\"frame\":{\"duration\":0,\"redraw\":true},\"mode\":\"immediate\",\"fromcurrent\":true,\"transition\":{\"duration\":0,\"easing\":\"linear\"}}],\"label\":\"2021-12-02\",\"method\":\"animate\"},{\"args\":[[\"2021-12-12\"],{\"frame\":{\"duration\":0,\"redraw\":true},\"mode\":\"immediate\",\"fromcurrent\":true,\"transition\":{\"duration\":0,\"easing\":\"linear\"}}],\"label\":\"2021-12-12\",\"method\":\"animate\"},{\"args\":[[\"2021-12-22\"],{\"frame\":{\"duration\":0,\"redraw\":true},\"mode\":\"immediate\",\"fromcurrent\":true,\"transition\":{\"duration\":0,\"easing\":\"linear\"}}],\"label\":\"2021-12-22\",\"method\":\"animate\"}],\"x\":0.1,\"xanchor\":\"left\",\"y\":0,\"yanchor\":\"top\"}],\"title\":{\"font\":{\"size\":18,\"color\":\"red\"},\"text\":\"Number of pageviews\",\"x\":0.5,\"y\":1},\"transition\":{\"duration\":10}},                        {\"responsive\": true}                    ).then(function(){\n",
       "                            Plotly.addFrames('6d7c9459-8725-4209-95dd-33046f3bf936', [{\"data\":[{\"coloraxis\":\"coloraxis\",\"geo\":\"geo\",\"hovertemplate\":\"date=2020-01-22<br>Country_code=%{location}<br>pages=%{z}<extra></extra>\",\"locations\":[\"ITA\",\"RUS\",\"CHN\",\"ALB\",\"BGD\",\"BWA\",\"KHM\",\"HRV\",\"GRC\",\"SWE\",\"FIN\",\"NOR\",\"MYS\",\"ISR\",\"LTU\",\"SRB\",\"SVK\",\"SVN\",\"TUR\",\"VNM\",\"BGR\",\"CZE\",\"DNK\",\"GEO\",\"DEU\",\"HUN\",\"ISL\",\"JPN\",\"KAZ\",\"PRK\",\"KGZ\",\"NLD\",\"POL\",\"ROU\",\"TJK\",\"THA\",\"AZE\",\"MNG\"],\"name\":\"\",\"z\":[40.38888316134122,19.77745483840676,5.067677698249593,0.0,0.0,0.0,0.0,8.301051466519093,2.971808193891981,70.7590770296487,47.038245294412214,25.299866622672287,0.8434777756582694,13.412768173975325,7.585285262184311,3.3482501986483504,0.0,10.606829561566938,0.5098467593908764,3.223798727376173,0.0,37.95152263191379,21.88152287167893,0.24175897382448727,38.5974793361652,17.086918364016796,0.27287884452182076,29.638605745242,0.0,17.62666461970746,0.0,32.674941948800274,25.41751024497435,2.217315625272621,0.0,2.151863142421048,0.009907738151558869,0.0],\"type\":\"choropleth\"}],\"name\":\"2020-01-22\"},{\"data\":[{\"coloraxis\":\"coloraxis\",\"geo\":\"geo\",\"hovertemplate\":\"date=2020-02-01<br>Country_code=%{location}<br>pages=%{z}<extra></extra>\",\"locations\":[\"ITA\",\"RUS\",\"CHN\",\"ALB\",\"BGD\",\"BWA\",\"KHM\",\"HRV\",\"GRC\",\"SWE\",\"FIN\",\"NOR\",\"MYS\",\"ISR\",\"LTU\",\"SRB\",\"SVK\",\"SVN\",\"TUR\",\"VNM\",\"BGR\",\"CZE\",\"DNK\",\"GEO\",\"DEU\",\"HUN\",\"ISL\",\"JPN\",\"KAZ\",\"PRK\",\"KGZ\",\"NLD\",\"POL\",\"ROU\",\"TJK\",\"THA\",\"AZE\",\"MNG\"],\"name\":\"\",\"z\":[61.458857359790265,83.23341938152677,5.138544397987386,0.24666569644826064,0.04068264679818492,0.0,0.0,8.399873507787177,7.1024346772261175,23.113086449897533,89.4287285585807,7.658739932800134,3.491318265545218,77.77452225152196,12.70177484941241,1.797329110962751,6.246763269838007,8.989644785363907,1.6433665314319876,52.66462529046678,0.0,104.68450787064101,27.31760653180606,5.909663804598578,63.651329481626036,27.3431718838348,3.274546134261849,33.760226831721596,3.380311848163643,11.736962629561145,0.0,36.70555858154402,60.51335824335531,11.839530739160598,0.0,2.2535823721892863,0.5944642890935321,0.0],\"type\":\"choropleth\"}],\"name\":\"2020-02-01\"},{\"data\":[{\"coloraxis\":\"coloraxis\",\"geo\":\"geo\",\"hovertemplate\":\"date=2020-02-11<br>Country_code=%{location}<br>pages=%{z}<extra></extra>\",\"locations\":[\"ITA\",\"RUS\",\"CHN\",\"ALB\",\"BGD\",\"BWA\",\"KHM\",\"HRV\",\"GRC\",\"SWE\",\"FIN\",\"NOR\",\"MYS\",\"ISR\",\"LTU\",\"SRB\",\"SVK\",\"SVN\",\"TUR\",\"VNM\",\"BGR\",\"CZE\",\"DNK\",\"GEO\",\"DEU\",\"HUN\",\"ISL\",\"JPN\",\"KAZ\",\"PRK\",\"KGZ\",\"NLD\",\"POL\",\"ROU\",\"TJK\",\"THA\",\"AZE\",\"MNG\"],\"name\":\"\",\"z\":[18.39375441961044,41.39147686648238,5.56005952802778,0.035237956635465806,0.04371866521595991,0.0,0.0,5.237568187208475,4.055864013047546,7.688264443843893,63.73040231353658,3.234516379386464,3.568559820092679,62.29992078219444,7.728403852036846,1.7828345213582126,2.894394711537845,4.851554328609092,0.4813901960760367,16.580270127827934,2.869910145853449,58.75942641975618,8.334185043601849,2.6056244956639185,46.89104326480659,8.758840505924576,4.911819201392773,16.53479696818495,3.98812817417414,4.535437071350798,0.0,22.37192901986641,27.14050766944941,6.200175308139366,0.0,1.3323786434431255,0.3864017879107958,0.0],\"type\":\"choropleth\"}],\"name\":\"2020-02-11\"},{\"data\":[{\"coloraxis\":\"coloraxis\",\"geo\":\"geo\",\"hovertemplate\":\"date=2020-02-21<br>Country_code=%{location}<br>pages=%{z}<extra></extra>\",\"locations\":[\"ITA\",\"RUS\",\"CHN\",\"ALB\",\"BGD\",\"BWA\",\"KHM\",\"HRV\",\"GRC\",\"SWE\",\"FIN\",\"NOR\",\"MYS\",\"ISR\",\"LTU\",\"SRB\",\"SVK\",\"SVN\",\"TUR\",\"VNM\",\"BGR\",\"CZE\",\"DNK\",\"GEO\",\"DEU\",\"HUN\",\"ISL\",\"JPN\",\"KAZ\",\"PRK\",\"KGZ\",\"NLD\",\"POL\",\"ROU\",\"TJK\",\"THA\",\"AZE\",\"MNG\"],\"name\":\"\",\"z\":[94.78292400879826,38.08621119860518,6.726879739210545,0.0,0.03643222101329993,0.0,0.0,2.025851845995731,3.121333134465162,4.259453039868287,14.069878830854558,5.688287425817575,2.2956190011505284,32.15374765330816,2.433016027493081,1.1885563475721417,2.9859894808903085,5.993096523575938,1.6291382497745677,8.239281642306217,1.4565875614633081,31.52967631464168,4.698696917586228,1.0744843281088323,30.0105081871978,4.820439154314462,6.821971113045518,32.06057294017947,2.1326888631947276,15.94058550428398,0.0878095074055499,12.281053808445376,14.760256650097217,3.3077987196689915,0.0,2.653295965222224,0.6440029798513265,1.0676291190656597],\"type\":\"choropleth\"}],\"name\":\"2020-02-21\"},{\"data\":[{\"coloraxis\":\"coloraxis\",\"geo\":\"geo\",\"hovertemplate\":\"date=2020-03-02<br>Country_code=%{location}<br>pages=%{z}<extra></extra>\",\"locations\":[\"ITA\",\"RUS\",\"CHN\",\"ALB\",\"BGD\",\"BWA\",\"KHM\",\"HRV\",\"GRC\",\"SWE\",\"FIN\",\"NOR\",\"MYS\",\"ISR\",\"LTU\",\"SRB\",\"SVK\",\"SVN\",\"TUR\",\"VNM\",\"BGR\",\"CZE\",\"DNK\",\"GEO\",\"DEU\",\"HUN\",\"ISL\",\"JPN\",\"KAZ\",\"PRK\",\"KGZ\",\"NLD\",\"POL\",\"ROU\",\"TJK\",\"THA\",\"AZE\",\"MNG\"],\"name\":\"\",\"z\":[56.95419578359303,110.6979421056412,8.604776415562327,0.07047591327093161,0.035217813646189935,0.0,0.0,9.11633330698079,7.3547580144433615,18.747388549624368,93.82330510857769,38.4981805845366,6.633504704535914,27.465789844928434,21.28889024056446,1.7683399317536743,56.184231520801085,16.12428350390669,3.9554623007627057,12.85512857732889,6.8358663775604755,286.92659782921027,19.326392066130214,4.0561783386108425,286.0768497722925,16.974099575298798,39.021674766620364,71.08608358875662,2.1326888631947276,7.8053502299809985,0.19757139166248727,109.89880457529456,71.40016892235087,10.167456661086163,0.0,4.501434083546559,2.556196443102188,0.5490664040909108],\"type\":\"choropleth\"}],\"name\":\"2020-03-02\"},{\"data\":[{\"coloraxis\":\"coloraxis\",\"geo\":\"geo\",\"hovertemplate\":\"date=2020-03-12<br>Country_code=%{location}<br>pages=%{z}<extra></extra>\",\"locations\":[\"ITA\",\"RUS\",\"CHN\",\"ALB\",\"BGD\",\"BWA\",\"KHM\",\"HRV\",\"GRC\",\"SWE\",\"FIN\",\"NOR\",\"MYS\",\"ISR\",\"LTU\",\"SRB\",\"SVK\",\"SVN\",\"TUR\",\"VNM\",\"BGR\",\"CZE\",\"DNK\",\"GEO\",\"DEU\",\"HUN\",\"ISL\",\"JPN\",\"KAZ\",\"PRK\",\"KGZ\",\"NLD\",\"POL\",\"ROU\",\"TJK\",\"THA\",\"AZE\",\"MNG\"],\"name\":\"\",\"z\":[440.15152551171684,275.2386758228402,16.567500531500247,0.10571386990639742,0.01639449945598497,0.0,0.0,91.58332674519724,105.78889545552587,41.165054095053605,684.8848087445925,135.0317642520878,18.958167148128723,259.5197013597248,221.51179744425977,32.58383743100213,110.99454150131521,110.34907884679505,19.303035448566202,59.31049972239682,58.768260524385944,1316.478495040783,89.48102378089393,13.135570911130477,726.1516056030727,65.06567232972542,41.47758436731676,103.02864700897348,6.717969919063392,13.641035955559971,0.30733327591942466,326.9328899463922,457.15633655390485,61.68499370635471,0.0,3.515760420440247,1.1393898874292698,1.2811549428787916],\"type\":\"choropleth\"}],\"name\":\"2020-03-12\"},{\"data\":[{\"coloraxis\":\"coloraxis\",\"geo\":\"geo\",\"hovertemplate\":\"date=2020-03-22<br>Country_code=%{location}<br>pages=%{z}<extra></extra>\",\"locations\":[\"ITA\",\"RUS\",\"CHN\",\"ALB\",\"BGD\",\"BWA\",\"KHM\",\"HRV\",\"GRC\",\"SWE\",\"FIN\",\"NOR\",\"MYS\",\"ISR\",\"LTU\",\"SRB\",\"SVK\",\"SVN\",\"TUR\",\"VNM\",\"BGR\",\"CZE\",\"DNK\",\"GEO\",\"DEU\",\"HUN\",\"ISL\",\"JPN\",\"KAZ\",\"PRK\",\"KGZ\",\"NLD\",\"POL\",\"ROU\",\"TJK\",\"THA\",\"AZE\",\"MNG\"],\"name\":\"\",\"z\":[336.5998185317774,314.6721194156809,20.586563673729714,12.192332995871169,3.8581722053084624,0.0,0.3349488434425779,135.13914143410548,216.7457466696123,27.208342887321916,258.32152856031684,54.74511917984562,35.89569522929588,367.5597660361797,124.08381740214715,34.526112438010266,115.26285775314,69.9670236998429,57.58185586757796,76.62326458974648,86.5587974643839,735.2967294948204,59.231018807820554,17.917026171214783,640.3323986349302,52.142792894754734,25.104853696007513,78.05656536856195,1.1196616531772319,45.458544938030705,0.3647471846076688,386.87039532150334,249.502164564988,312.38705710808034,0.0,3.630373637080516,11.681223280687906,0.45755533674242566],\"type\":\"choropleth\"}],\"name\":\"2020-03-22\"},{\"data\":[{\"coloraxis\":\"coloraxis\",\"geo\":\"geo\",\"hovertemplate\":\"date=2020-04-01<br>Country_code=%{location}<br>pages=%{z}<extra></extra>\",\"locations\":[\"ITA\",\"RUS\",\"CHN\",\"ALB\",\"BGD\",\"BWA\",\"KHM\",\"HRV\",\"GRC\",\"SWE\",\"FIN\",\"NOR\",\"MYS\",\"ISR\",\"LTU\",\"SRB\",\"SVK\",\"SVN\",\"TUR\",\"VNM\",\"BGR\",\"CZE\",\"DNK\",\"GEO\",\"DEU\",\"HUN\",\"ISL\",\"JPN\",\"KAZ\",\"PRK\",\"KGZ\",\"NLD\",\"POL\",\"ROU\",\"TJK\",\"THA\",\"AZE\",\"MNG\"],\"name\":\"\",\"z\":[244.75720387144543,328.1624897476552,15.183119552122458,12.75614030203862,3.1119188782193694,0.0,0.10766212824940004,88.47043244525258,150.23518404090404,84.80271585043891,171.55124754432688,68.96583774438956,31.168512090991292,317.12081257935347,125.98013871769321,23.81461072025645,78.88141536634151,85.3778433318953,142.23183189825895,74.1843550362758,50.72097478877678,404.99696294342294,36.25199008677842,28.25893782926229,441.5466018868417,191.21759062348687,21.55742871722384,111.15308765176894,7.208488357598179,39.47238533258557,0.03039559871730573,270.5673250580512,151.42324072859836,173.66722194758205,0.32502792618972276,4.53581804853864,10.94805065747255,0.6100737823232342],\"type\":\"choropleth\"}],\"name\":\"2020-04-01\"},{\"data\":[{\"coloraxis\":\"coloraxis\",\"geo\":\"geo\",\"hovertemplate\":\"date=2020-04-11<br>Country_code=%{location}<br>pages=%{z}<extra></extra>\",\"locations\":[\"ITA\",\"RUS\",\"CHN\",\"ALB\",\"BGD\",\"BWA\",\"KHM\",\"HRV\",\"GRC\",\"SWE\",\"FIN\",\"NOR\",\"MYS\",\"ISR\",\"LTU\",\"SRB\",\"SVK\",\"SVN\",\"TUR\",\"VNM\",\"BGR\",\"CZE\",\"DNK\",\"GEO\",\"DEU\",\"HUN\",\"ISL\",\"JPN\",\"KAZ\",\"PRK\",\"KGZ\",\"NLD\",\"POL\",\"ROU\",\"TJK\",\"THA\",\"AZE\",\"MNG\"],\"name\":\"\",\"z\":[155.87003745210623,161.78796520842099,10.609666217844236,15.293273179792159,4.433801297318601,0.0,0.08373721086064448,42.913471420665665,89.05144742011537,52.5815472767414,85.57669232339815,34.27843795165885,15.69548388404399,231.00129135874815,54.313504849036725,20.97367115776694,33.743513029447534,25.54200661238316,35.85171270628356,40.57589373373146,52.566947143898595,160.02268865412123,18.45181709241891,8.837633598695145,240.49050664705038,110.83933178867318,12.279548003481933,99.02028338124994,0.9597099884376274,18.59124077269572,0.1367801942278758,140.62437290370667,75.4240143623577,60.978776083317065,0.3145431543771511,3.7994281316249126,7.133571469122385,0.518562714974749],\"type\":\"choropleth\"}],\"name\":\"2020-04-11\"},{\"data\":[{\"coloraxis\":\"coloraxis\",\"geo\":\"geo\",\"hovertemplate\":\"date=2020-04-21<br>Country_code=%{location}<br>pages=%{z}<extra></extra>\",\"locations\":[\"ITA\",\"RUS\",\"CHN\",\"ALB\",\"BGD\",\"BWA\",\"KHM\",\"HRV\",\"GRC\",\"SWE\",\"FIN\",\"NOR\",\"MYS\",\"ISR\",\"LTU\",\"SRB\",\"SVK\",\"SVN\",\"TUR\",\"VNM\",\"BGR\",\"CZE\",\"DNK\",\"GEO\",\"DEU\",\"HUN\",\"ISL\",\"JPN\",\"KAZ\",\"PRK\",\"KGZ\",\"NLD\",\"POL\",\"ROU\",\"TJK\",\"THA\",\"AZE\",\"MNG\"],\"name\":\"\",\"z\":[134.9733194681263,117.86235878431164,8.109347317695415,15.222797266521226,5.556520908211794,0.46776165417530435,0.07775598151345559,38.392363032650806,67.64134499179295,38.132246261678006,58.974132220329956,38.572537282913295,13.430761504712446,150.26424021443066,32.52369954398839,16.40787543233737,29.182093515694856,25.161492547394214,19.55084468743293,29.267941983498982,39.02500931999714,117.59363416489543,25.551308055487148,8.783909382289703,251.17341543957616,80.10133998977862,12.825305692525577,83.41926644015174,1.7701317564516237,19.980230432998813,0.03039559871730573,129.97735286529254,70.95688627715667,49.944125723353785,0.12581726175086042,1.4713471686194515,5.112392886204376,0.7015848496717193],\"type\":\"choropleth\"}],\"name\":\"2020-04-21\"},{\"data\":[{\"coloraxis\":\"coloraxis\",\"geo\":\"geo\",\"hovertemplate\":\"date=2020-05-01<br>Country_code=%{location}<br>pages=%{z}<extra></extra>\",\"locations\":[\"ITA\",\"RUS\",\"CHN\",\"ALB\",\"BGD\",\"BWA\",\"KHM\",\"HRV\",\"GRC\",\"SWE\",\"FIN\",\"NOR\",\"MYS\",\"ISR\",\"LTU\",\"SRB\",\"SVK\",\"SVN\",\"TUR\",\"VNM\",\"BGR\",\"CZE\",\"DNK\",\"GEO\",\"DEU\",\"HUN\",\"ISL\",\"JPN\",\"KAZ\",\"PRK\",\"KGZ\",\"NLD\",\"POL\",\"ROU\",\"TJK\",\"THA\",\"AZE\",\"MNG\"],\"name\":\"\",\"z\":[125.6258943826416,76.80474012577737,4.961802848841329,10.818052687088002,4.668181919170831,1.0630946685802372,0.0657935228190778,24.21140011068069,45.37147415517474,33.08078608060971,39.24374943824472,19.927595164955687,10.28548540353985,100.63916832155918,18.17606091127184,10.740490896962891,15.699343467012234,18.645189184458474,18.299941591718106,19.154788805585962,43.81300011609435,73.08939789628914,12.00397022741007,6.554354401463877,184.76357709144244,56.50170064067739,13.916821070612858,60.99428960645013,0.6451383811164051,13.509853598753566,0.015197799358652866,94.59622165524755,52.9115885957096,33.358397135248985,0.5452081342537285,2.7750725079025096,4.3098660959281085,0.8541032952525279],\"type\":\"choropleth\"}],\"name\":\"2020-05-01\"},{\"data\":[{\"coloraxis\":\"coloraxis\",\"geo\":\"geo\",\"hovertemplate\":\"date=2020-05-11<br>Country_code=%{location}<br>pages=%{z}<extra></extra>\",\"locations\":[\"ITA\",\"RUS\",\"CHN\",\"ALB\",\"BGD\",\"BWA\",\"KHM\",\"HRV\",\"GRC\",\"SWE\",\"FIN\",\"NOR\",\"MYS\",\"ISR\",\"LTU\",\"SRB\",\"SVK\",\"SVN\",\"TUR\",\"VNM\",\"BGR\",\"CZE\",\"DNK\",\"GEO\",\"DEU\",\"HUN\",\"ISL\",\"JPN\",\"KAZ\",\"PRK\",\"KGZ\",\"NLD\",\"POL\",\"ROU\",\"TJK\",\"THA\",\"AZE\",\"MNG\"],\"name\":\"\",\"z\":[84.56417155345913,71.89751033327593,4.657288640068032,15.398987049698558,2.8751094416329193,0.7229043746345613,0.17345565106847782,20.110285398055183,32.30673247259301,31.796189132078013,45.06701548391974,20.503859577375117,9.519249182429043,93.05379214550032,20.823754823543723,7.711121669614383,16.853437560853273,17.313389956997153,16.885413256942954,18.232235823691823,42.08240103316765,61.731984103733666,14.096090752758682,5.533594289760487,197.68431718325797,64.80926599172997,16.645609515831065,57.267089600114055,0.70378732485426,19.457430158079177,0.7598899679326433,84.47094573287848,51.555354788389266,24.779930125997534,0.4822995033782983,2.5128947748378945,4.091895856593813,0.3660442693939405],\"type\":\"choropleth\"}],\"name\":\"2020-05-11\"},{\"data\":[{\"coloraxis\":\"coloraxis\",\"geo\":\"geo\",\"hovertemplate\":\"date=2020-05-21<br>Country_code=%{location}<br>pages=%{z}<extra></extra>\",\"locations\":[\"ITA\",\"RUS\",\"CHN\",\"ALB\",\"BGD\",\"BWA\",\"KHM\",\"HRV\",\"GRC\",\"SWE\",\"FIN\",\"NOR\",\"MYS\",\"ISR\",\"LTU\",\"SRB\",\"SVK\",\"SVN\",\"TUR\",\"VNM\",\"BGR\",\"CZE\",\"DNK\",\"GEO\",\"DEU\",\"HUN\",\"ISL\",\"JPN\",\"KAZ\",\"PRK\",\"KGZ\",\"NLD\",\"POL\",\"ROU\",\"TJK\",\"THA\",\"AZE\",\"MNG\"],\"name\":\"\",\"z\":[66.86175989255558,47.60706990634805,3.5889731415207997,17.97135788408756,1.8040021438419014,3.699569446659225,0.029906146735944453,17.491501304450946,25.47531175015579,23.39318653641948,36.36828576972817,16.451419515844947,8.156708160211837,79.43484064198978,16.959552897525302,7.624154131987153,15.60774869765977,15.077869825187083,10.875149946821205,14.140333232506581,31.295000082924542,49.14067844235734,8.265590928016648,5.748491155382253,108.16986272305878,44.019840107058876,32.74546134261849,56.76020307141555,1.146320263967166,11.85078261561376,1.7477469262450795,50.247971791417015,36.97188347893497,19.311936324095733,1.058961953069742,2.637536647934187,4.11171133289693,0.15251844558080854],\"type\":\"choropleth\"}],\"name\":\"2020-05-21\"},{\"data\":[{\"coloraxis\":\"coloraxis\",\"geo\":\"geo\",\"hovertemplate\":\"date=2020-05-31<br>Country_code=%{location}<br>pages=%{z}<extra></extra>\",\"locations\":[\"ITA\",\"RUS\",\"CHN\",\"ALB\",\"BGD\",\"BWA\",\"KHM\",\"HRV\",\"GRC\",\"SWE\",\"FIN\",\"NOR\",\"MYS\",\"ISR\",\"LTU\",\"SRB\",\"SVK\",\"SVN\",\"TUR\",\"VNM\",\"BGR\",\"CZE\",\"DNK\",\"GEO\",\"DEU\",\"HUN\",\"ISL\",\"JPN\",\"KAZ\",\"PRK\",\"KGZ\",\"NLD\",\"POL\",\"ROU\",\"TJK\",\"THA\",\"AZE\",\"MNG\"],\"name\":\"\",\"z\":[52.46467309992222,31.615886428350812,2.7119977322656084,7.505684763354217,2.2903722943694556,0.46776165417530435,0.047849834777511126,14.180962921970117,22.279216145404032,19.906423390404854,24.106874654921754,7.063886345786532,5.786937266695746,86.95510629293226,8.37243750637325,4.971644234356641,13.775853310610502,11.272729175297599,10.56805620104856,10.681273221328896,16.93102769463291,34.763968637459946,6.139173344875436,3.438349849948264,85.69655313013736,33.968711657637236,9.277880713741906,43.38869484638962,0.35189366242713,8.837446713678437,0.3495493852490159,41.842731416449276,32.30686135570081,7.8566710562938535,0.25163452350172083,1.851003448740342,2.308502989313216,0.15251844558080854],\"type\":\"choropleth\"}],\"name\":\"2020-05-31\"},{\"data\":[{\"coloraxis\":\"coloraxis\",\"geo\":\"geo\",\"hovertemplate\":\"date=2020-06-10<br>Country_code=%{location}<br>pages=%{z}<extra></extra>\",\"locations\":[\"ITA\",\"RUS\",\"CHN\",\"ALB\",\"BGD\",\"BWA\",\"KHM\",\"HRV\",\"GRC\",\"SWE\",\"FIN\",\"NOR\",\"MYS\",\"ISR\",\"LTU\",\"SRB\",\"SVK\",\"SVN\",\"TUR\",\"VNM\",\"BGR\",\"CZE\",\"DNK\",\"GEO\",\"DEU\",\"HUN\",\"ISL\",\"JPN\",\"KAZ\",\"PRK\",\"KGZ\",\"NLD\",\"POL\",\"ROU\",\"TJK\",\"THA\",\"AZE\",\"MNG\"],\"name\":\"\",\"z\":[38.43596602543196,26.648964731725602,2.4454680745517683,5.814262844851858,2.154358669253136,3.3168553659703397,0.10168089890221114,10.228081271246738,22.783862819838518,15.115746048512175,16.746411050605808,9.629192439782692,7.359575317282044,57.56855595707046,9.553165872656656,4.275903933338803,12.017233739043206,9.798237173465422,8.586767980252853,9.322099952903567,28.09339177951014,30.445347096586996,6.224915989356936,3.142866659718335,91.46729595941822,29.71236644691276,9.823638402785546,30.218357212440896,0.43186949479693226,7.348141133464564,0.19757139166248727,40.44950262305421,26.628621757737065,4.05036577918652,0.13630203356343212,2.0888258732689,2.655273824617777,0.18302213469697026],\"type\":\"choropleth\"}],\"name\":\"2020-06-10\"},{\"data\":[{\"coloraxis\":\"coloraxis\",\"geo\":\"geo\",\"hovertemplate\":\"date=2020-06-20<br>Country_code=%{location}<br>pages=%{z}<extra></extra>\",\"locations\":[\"ITA\",\"RUS\",\"CHN\",\"ALB\",\"BGD\",\"BWA\",\"KHM\",\"HRV\",\"GRC\",\"SWE\",\"FIN\",\"NOR\",\"MYS\",\"ISR\",\"LTU\",\"SRB\",\"SVK\",\"SVN\",\"TUR\",\"VNM\",\"BGR\",\"CZE\",\"DNK\",\"GEO\",\"DEU\",\"HUN\",\"ISL\",\"JPN\",\"KAZ\",\"PRK\",\"KGZ\",\"NLD\",\"POL\",\"ROU\",\"TJK\",\"THA\",\"AZE\",\"MNG\"],\"name\":\"\",\"z\":[27.453540547093002,21.32319751844929,2.3599319679682518,7.576160676625149,2.117926448239836,0.4252378674320948,0.059812293471888905,9.684560044272274,11.672290673493976,13.058459206126813,14.10604818517552,5.558163203658349,6.262745242708104,53.99832882985535,4.866032054986162,4.174441806107034,6.484909670154413,10.369008270948845,7.123626349814849,6.503073914688073,13.772684368291676,23.892633459894494,5.744757180260534,2.1221065480149437,69.10100785259934,23.220157968867962,6.0033345794800566,26.462644838865526,0.3838839953750509,2.5156146069933816,0.16717579294518153,32.35960209844337,19.46221899376423,2.809292162230651,0.07339340268800192,1.6045850329637639,3.1704762084988376,0.09151106734848513],\"type\":\"choropleth\"}],\"name\":\"2020-06-20\"},{\"data\":[{\"coloraxis\":\"coloraxis\",\"geo\":\"geo\",\"hovertemplate\":\"date=2020-06-30<br>Country_code=%{location}<br>pages=%{z}<extra></extra>\",\"locations\":[\"ITA\",\"RUS\",\"CHN\",\"ALB\",\"BGD\",\"BWA\",\"KHM\",\"HRV\",\"GRC\",\"SWE\",\"FIN\",\"NOR\",\"MYS\",\"ISR\",\"LTU\",\"SRB\",\"SVK\",\"SVN\",\"TUR\",\"VNM\",\"BGR\",\"CZE\",\"DNK\",\"GEO\",\"DEU\",\"HUN\",\"ISL\",\"JPN\",\"KAZ\",\"PRK\",\"KGZ\",\"NLD\",\"POL\",\"ROU\",\"TJK\",\"THA\",\"AZE\",\"MNG\"],\"name\":\"\",\"z\":[27.872383240324186,22.340042164278795,1.9017787541634186,8.386633679240862,1.4627536736839921,2.4663796311061503,0.07177475216626669,10.005731678393548,11.980685863426162,14.961208069741444,19.53145133331995,6.766459552279731,11.52135027629922,55.2245770528806,6.655014428142839,8.479334918654914,6.411633854672442,13.841199113973001,5.7470400994594835,6.39314833666728,17.219460875120692,38.0076086259511,5.247449842267831,2.3638655218394313,78.6571848195289,24.5534709264443,5.730455734958236,22.02738771275374,0.46919154990284007,2.305337005641941,0.33435158589036307,40.98844709457329,21.132444674763786,2.726207735990927,0.09436294631314533,2.2263617332372228,3.50733930565184,0.18302213469697026],\"type\":\"choropleth\"}],\"name\":\"2020-06-30\"},{\"data\":[{\"coloraxis\":\"coloraxis\",\"geo\":\"geo\",\"hovertemplate\":\"date=2020-07-10<br>Country_code=%{location}<br>pages=%{z}<extra></extra>\",\"locations\":[\"ITA\",\"RUS\",\"CHN\",\"ALB\",\"BGD\",\"BWA\",\"KHM\",\"HRV\",\"GRC\",\"SWE\",\"FIN\",\"NOR\",\"MYS\",\"ISR\",\"LTU\",\"SRB\",\"SVK\",\"SVN\",\"TUR\",\"VNM\",\"BGR\",\"CZE\",\"DNK\",\"GEO\",\"DEU\",\"HUN\",\"ISL\",\"JPN\",\"KAZ\",\"PRK\",\"KGZ\",\"NLD\",\"POL\",\"ROU\",\"TJK\",\"THA\",\"AZE\",\"MNG\"],\"name\":\"\",\"z\":[25.00608625532042,20.096737116278142,2.3831053787825103,6.977115413822229,1.549583800432357,1.573380109498751,0.08971844020783336,12.402166179144595,15.569284437182517,13.241973055917056,14.73901188579237,6.431854409584579,7.115492004912069,61.89840587731007,5.724743594101367,8.537313277073068,5.770470469205198,10.89221511030865,5.729254747387708,4.895283918402634,21.978608353169125,30.230350786110638,3.9098645883564234,2.3101413054339894,71.08511405562359,25.02525858835593,4.638940356870953,22.902558984959725,0.5491673822726423,1.670645896975666,0.2887581878144045,27.31989794455752,16.85529486607455,3.022196004469942,0.07339340268800192,2.366762923621552,2.348133941919452,0.06100737823232342],\"type\":\"choropleth\"}],\"name\":\"2020-07-10\"},{\"data\":[{\"coloraxis\":\"coloraxis\",\"geo\":\"geo\",\"hovertemplate\":\"date=2020-07-20<br>Country_code=%{location}<br>pages=%{z}<extra></extra>\",\"locations\":[\"ITA\",\"RUS\",\"CHN\",\"ALB\",\"BGD\",\"BWA\",\"KHM\",\"HRV\",\"GRC\",\"SWE\",\"FIN\",\"NOR\",\"MYS\",\"ISR\",\"LTU\",\"SRB\",\"SVK\",\"SVN\",\"TUR\",\"VNM\",\"BGR\",\"CZE\",\"DNK\",\"GEO\",\"DEU\",\"HUN\",\"ISL\",\"JPN\",\"KAZ\",\"PRK\",\"KGZ\",\"NLD\",\"POL\",\"ROU\",\"TJK\",\"THA\",\"AZE\",\"MNG\"],\"name\":\"\",\"z\":[24.504820702778677,16.844916525348975,2.4902558287860534,12.43899869231943,0.6047748688207788,2.721522351565407,0.07775598151345559,11.290418214878647,12.335807597287467,16.284439512965832,20.688870671590763,6.524800282555454,14.249521982915528,61.26900413451834,6.547675485753438,7.798089207241613,5.165944991478939,15.077869825187083,5.2265221288255415,4.950760378338361,12.09977192146253,33.23095146710678,6.567886567282939,2.498176062853035,70.26742180225601,30.943116869290918,24.83197485148569,22.66337190423013,0.36255710674310365,1.3233984818998925,0.2887581878144045,40.701774503339735,18.84478959510088,3.9101608099069867,0.09436294631314533,3.042980901799138,2.5264732286475113,0.3355405802777788],\"type\":\"choropleth\"}],\"name\":\"2020-07-20\"},{\"data\":[{\"coloraxis\":\"coloraxis\",\"geo\":\"geo\",\"hovertemplate\":\"date=2020-07-30<br>Country_code=%{location}<br>pages=%{z}<extra></extra>\",\"locations\":[\"ITA\",\"RUS\",\"CHN\",\"ALB\",\"BGD\",\"BWA\",\"KHM\",\"HRV\",\"GRC\",\"SWE\",\"FIN\",\"NOR\",\"MYS\",\"ISR\",\"LTU\",\"SRB\",\"SVK\",\"SVN\",\"TUR\",\"VNM\",\"BGR\",\"CZE\",\"DNK\",\"GEO\",\"DEU\",\"HUN\",\"ISL\",\"JPN\",\"KAZ\",\"PRK\",\"KGZ\",\"NLD\",\"POL\",\"ROU\",\"TJK\",\"THA\",\"AZE\",\"MNG\"],\"name\":\"\",\"z\":[24.13307678629638,14.069242983593217,2.2625611225285236,5.215217582048939,0.46693963265379407,0.5953330144049327,0.07177475216626669,7.782235749861648,16.1113123467603,14.864621833009739,19.350604561715137,5.762644124194276,5.342025912502374,32.19715467005241,7.621064909647445,4.37736606057057,4.5064626521412015,6.801688911677453,4.402467482833312,13.822884600652138,12.070928603413751,29.931225484578313,4.218538108489826,1.3699675183387612,66.21984514808653,30.163641601784754,13.916821070612858,22.66495592463231,0.22393233063544637,1.0552463113691561,0.1367801942278758,28.632858412407188,25.892455936253842,4.2476912915058636,0.06290863087543021,2.9813762978549936,1.4267142938244772,0.12201475646464684],\"type\":\"choropleth\"}],\"name\":\"2020-07-30\"},{\"data\":[{\"coloraxis\":\"coloraxis\",\"geo\":\"geo\",\"hovertemplate\":\"date=2020-08-09<br>Country_code=%{location}<br>pages=%{z}<extra></extra>\",\"locations\":[\"ITA\",\"RUS\",\"CHN\",\"ALB\",\"BGD\",\"BWA\",\"KHM\",\"HRV\",\"GRC\",\"SWE\",\"FIN\",\"NOR\",\"MYS\",\"ISR\",\"LTU\",\"SRB\",\"SVK\",\"SVN\",\"TUR\",\"VNM\",\"BGR\",\"CZE\",\"DNK\",\"GEO\",\"DEU\",\"HUN\",\"ISL\",\"JPN\",\"KAZ\",\"PRK\",\"KGZ\",\"NLD\",\"POL\",\"ROU\",\"TJK\",\"THA\",\"AZE\",\"MNG\"],\"name\":\"\",\"z\":[19.1221033600486,10.550197007923872,2.0530791581036074,4.862838015694281,0.5543769630857139,0.8504757348641896,0.08971844020783336,6.546960234010594,25.568764838014026,10.962537869048766,23.29306418270009,7.733096631176835,8.199963430758414,27.69367668283578,5.5458453567857,2.956896279325816,4.103445666990363,5.993096523575938,5.218222297858714,10.278555215869538,7.3406244434140975,20.312477507179477,5.453232189023432,1.692312816771411,49.9922613845639,27.66111574294916,10.915153780872831,19.82718337412186,0.25059094142538046,1.1980035820114188,0.25836258909709875,24.974916148267063,20.96885226998974,2.9027621417503395,0.13630203356343212,1.9613186697566007,1.5356994134916246,0.12201475646464684],\"type\":\"choropleth\"}],\"name\":\"2020-08-09\"},{\"data\":[{\"coloraxis\":\"coloraxis\",\"geo\":\"geo\",\"hovertemplate\":\"date=2020-08-19<br>Country_code=%{location}<br>pages=%{z}<extra></extra>\",\"locations\":[\"ITA\",\"RUS\",\"CHN\",\"ALB\",\"BGD\",\"BWA\",\"KHM\",\"HRV\",\"GRC\",\"SWE\",\"FIN\",\"NOR\",\"MYS\",\"ISR\",\"LTU\",\"SRB\",\"SVK\",\"SVN\",\"TUR\",\"VNM\",\"BGR\",\"CZE\",\"DNK\",\"GEO\",\"DEU\",\"HUN\",\"ISL\",\"JPN\",\"KAZ\",\"PRK\",\"KGZ\",\"NLD\",\"POL\",\"ROU\",\"TJK\",\"THA\",\"AZE\",\"MNG\"],\"name\":\"\",\"z\":[25.43670364273882,11.505267473904349,1.7115725320671815,5.532359191768131,0.543447296781724,2.041141763674055,0.0657935228190778,12.080994545023321,21.51290082496648,10.836975761297547,27.1812697722036,8.12346929765451,3.8342707677359433,21.627546092825906,5.2238285296174976,3.449712325880119,8.481675642038116,10.178751238454371,6.069547817027665,7.518087663141757,9.157753480487134,32.10923158636056,5.933390998119836,1.4236917347442029,62.783132706726946,24.491933405325394,7.094849957567339,18.085552941921893,0.3678888289010905,1.4989513417437557,0.12158239486922293,24.390104062150616,20.05853969503737,2.103074539193001,0.09436294631314533,2.1676224597090847,1.2285595307932997,0.12201475646464684],\"type\":\"choropleth\"}],\"name\":\"2020-08-19\"},{\"data\":[{\"coloraxis\":\"coloraxis\",\"geo\":\"geo\",\"hovertemplate\":\"date=2020-08-29<br>Country_code=%{location}<br>pages=%{z}<extra></extra>\",\"locations\":[\"ITA\",\"RUS\",\"CHN\",\"ALB\",\"BGD\",\"BWA\",\"KHM\",\"HRV\",\"GRC\",\"SWE\",\"FIN\",\"NOR\",\"MYS\",\"ISR\",\"LTU\",\"SRB\",\"SVK\",\"SVN\",\"TUR\",\"VNM\",\"BGR\",\"CZE\",\"DNK\",\"GEO\",\"DEU\",\"HUN\",\"ISL\",\"JPN\",\"KAZ\",\"PRK\",\"KGZ\",\"NLD\",\"POL\",\"ROU\",\"TJK\",\"THA\",\"AZE\",\"MNG\"],\"name\":\"\",\"z\":[24.445947231842567,9.460472711710683,1.6733045142087735,2.7837985742017985,0.500335835249319,5.102854409185138,0.035887376083133346,7.905763301446754,14.494573926812775,10.450630814370719,17.994253774679027,5.000487965833097,4.690107192121806,21.87713643910538,3.8284222785552893,3.000380048139431,5.770470469205198,6.278482072317649,6.179816999872669,4.690842890120971,5.9561451770727345,24.434798068921832,3.4811513659489206,0.9670358952979491,47.76284750552937,46.23519086733956,5.730455734958236,11.584733211363762,0.29857644084726187,1.2481615419668082,0.1367801942278758,20.2161511337901,14.749702301402118,1.8226646006339342,0.08387817450057362,1.391117916971263,0.8421577428825039,0.06100737823232342],\"type\":\"choropleth\"}],\"name\":\"2020-08-29\"},{\"data\":[{\"coloraxis\":\"coloraxis\",\"geo\":\"geo\",\"hovertemplate\":\"date=2020-09-08<br>Country_code=%{location}<br>pages=%{z}<extra></extra>\",\"locations\":[\"ITA\",\"RUS\",\"CHN\",\"ALB\",\"BGD\",\"BWA\",\"KHM\",\"HRV\",\"GRC\",\"SWE\",\"FIN\",\"NOR\",\"MYS\",\"ISR\",\"LTU\",\"SRB\",\"SVK\",\"SVN\",\"TUR\",\"VNM\",\"BGR\",\"CZE\",\"DNK\",\"GEO\",\"DEU\",\"HUN\",\"ISL\",\"JPN\",\"KAZ\",\"PRK\",\"KGZ\",\"NLD\",\"POL\",\"ROU\",\"TJK\",\"THA\",\"AZE\",\"MNG\"],\"name\":\"\",\"z\":[22.467798608389263,11.60660489253309,1.771100559846928,4.3695066227977595,0.5853443509470189,17.09456227077021,0.0657935228190778,8.943394734761641,13.877783546948402,12.0732795914634,21.339919049368092,10.186867677607946,4.832231652489133,28.31222667144144,6.010980773806436,4.319387702152418,9.2693906584693,14.031456146467475,6.899530913710487,4.604546174665394,7.181986194145816,38.08238995133418,5.830499824742035,2.525038171055756,50.11611771117693,42.95318974099781,9.823638402785546,10.063281615067202,0.9810368770695745,1.5047387986616854,0.2127691910211401,25.760399048247,17.158732391058674,2.1550023055928285,0.14678680537600383,1.6346710023318345,0.8520654810340628,0.6100737823232342],\"type\":\"choropleth\"}],\"name\":\"2020-09-08\"},{\"data\":[{\"coloraxis\":\"coloraxis\",\"geo\":\"geo\",\"hovertemplate\":\"date=2020-09-18<br>Country_code=%{location}<br>pages=%{z}<extra></extra>\",\"locations\":[\"ITA\",\"RUS\",\"CHN\",\"ALB\",\"BGD\",\"BWA\",\"KHM\",\"HRV\",\"GRC\",\"SWE\",\"FIN\",\"NOR\",\"MYS\",\"ISR\",\"LTU\",\"SRB\",\"SVK\",\"SVN\",\"TUR\",\"VNM\",\"BGR\",\"CZE\",\"DNK\",\"GEO\",\"DEU\",\"HUN\",\"ISL\",\"JPN\",\"KAZ\",\"PRK\",\"KGZ\",\"NLD\",\"POL\",\"ROU\",\"TJK\",\"THA\",\"AZE\",\"MNG\"],\"name\":\"\",\"z\":[23.31389449069965,11.12074055664186,1.590107008716604,5.814262844851858,0.5798795177950239,5.187901982671557,0.04186860543032224,7.36224207447229,16.09262172918865,9.619989178478038,17.795322325913734,6.413265234990404,3.6983256317324122,32.869963429588395,4.937591349912429,3.130831354580276,11.119604999389063,11.51055046591569,5.36880494539974,4.066219044918704,6.864709695609253,59.2548527004191,7.356718896512744,3.465211958150984,49.80347067312463,34.30716802379123,7.913486491132802,9.142173751197916,1.2849450400748232,1.1304832513022405,0.4255383820422802,24.56784106871542,12.902691279759635,2.2017372953526726,0.11533248993828873,3.077364866791219,1.5753303660978601,0.15251844558080854],\"type\":\"choropleth\"}],\"name\":\"2020-09-18\"},{\"data\":[{\"coloraxis\":\"coloraxis\",\"geo\":\"geo\",\"hovertemplate\":\"date=2020-09-28<br>Country_code=%{location}<br>pages=%{z}<extra></extra>\",\"locations\":[\"ITA\",\"RUS\",\"CHN\",\"ALB\",\"BGD\",\"BWA\",\"KHM\",\"HRV\",\"GRC\",\"SWE\",\"FIN\",\"NOR\",\"MYS\",\"ISR\",\"LTU\",\"SRB\",\"SVK\",\"SVN\",\"TUR\",\"VNM\",\"BGR\",\"CZE\",\"DNK\",\"GEO\",\"DEU\",\"HUN\",\"ISL\",\"JPN\",\"KAZ\",\"PRK\",\"KGZ\",\"NLD\",\"POL\",\"ROU\",\"TJK\",\"THA\",\"AZE\",\"MNG\"],\"name\":\"\",\"z\":[28.873232246238057,13.307824160060813,1.5080433704202396,12.01614321269384,0.47058285475512407,11.949184074841865,0.05383106412470002,7.510475136374416,13.298374402227324,8.992178639721939,23.220725474058163,6.543389457149629,5.990854970701043,34.584540590986535,6.869692312921641,0.9276537346904522,16.798480699241797,10.083622722207133,3.911591765652328,4.376476283818514,6.994504626828756,38.680640554398835,6.75652038514224,3.384625633542822,52.606471618124345,32.625142446541076,6.821971113045518,9.755189646842652,1.0983347645452846,1.09190020518271,0.5167251781941975,35.63340309033053,19.18252875334408,1.6720740780744352,0.06290863087543021,1.3810892605152398,0.901604171791857,0.2745332020454554],\"type\":\"choropleth\"}],\"name\":\"2020-09-28\"},{\"data\":[{\"coloraxis\":\"coloraxis\",\"geo\":\"geo\",\"hovertemplate\":\"date=2020-10-08<br>Country_code=%{location}<br>pages=%{z}<extra></extra>\",\"locations\":[\"ITA\",\"RUS\",\"CHN\",\"ALB\",\"BGD\",\"BWA\",\"KHM\",\"HRV\",\"GRC\",\"SWE\",\"FIN\",\"NOR\",\"MYS\",\"ISR\",\"LTU\",\"SRB\",\"SVK\",\"SVN\",\"TUR\",\"VNM\",\"BGR\",\"CZE\",\"DNK\",\"GEO\",\"DEU\",\"HUN\",\"ISL\",\"JPN\",\"KAZ\",\"PRK\",\"KGZ\",\"NLD\",\"POL\",\"ROU\",\"TJK\",\"THA\",\"AZE\",\"MNG\"],\"name\":\"\",\"z\":[34.15838783713115,15.232541022098506,1.4748068882432146,9.197106681856575,0.5980956283016738,10.205708818370276,0.08373721086064448,13.464503122776506,10.784486338840711,11.097758600473156,44.05427356293278,6.524800282555454,8.527467622039648,31.55690117307463,10.018301289677392,1.0725996307358352,17.36636826922707,19.739167121301698,3.998147145734965,4.123750188555754,8.869320299999352,60.71308854538918,5.350341015645632,4.674006827273421,69.161132282994,28.748278616049866,29.743794052878464,9.601539667830922,0.762436268592115,1.0861127482647805,0.7294943692153376,34.81925293122725,52.53690921703356,3.62975087134792,0.13630203356343212,1.4957024771555087,1.1889285781870642,0.39654795851010216],\"type\":\"choropleth\"}],\"name\":\"2020-10-08\"},{\"data\":[{\"coloraxis\":\"coloraxis\",\"geo\":\"geo\",\"hovertemplate\":\"date=2020-10-18<br>Country_code=%{location}<br>pages=%{z}<extra></extra>\",\"locations\":[\"ITA\",\"RUS\",\"CHN\",\"ALB\",\"BGD\",\"BWA\",\"KHM\",\"HRV\",\"GRC\",\"SWE\",\"FIN\",\"NOR\",\"MYS\",\"ISR\",\"LTU\",\"SRB\",\"SVK\",\"SVN\",\"TUR\",\"VNM\",\"BGR\",\"CZE\",\"DNK\",\"GEO\",\"DEU\",\"HUN\",\"ISL\",\"JPN\",\"KAZ\",\"PRK\",\"KGZ\",\"NLD\",\"POL\",\"ROU\",\"TJK\",\"THA\",\"AZE\",\"MNG\"],\"name\":\"\",\"z\":[35.874128990126366,15.567787413863456,1.6317766281624264,7.329494980176887,0.46693963265379407,4.7626641152394615,0.005981229347188891,12.0562890347063,12.737655875077895,10.576192922121937,23.383487568502495,5.781233298788451,8.382253499490423,38.31754403099261,6.1183197161958365,1.1885563475721417,40.94286190055116,71.29882292730422,4.733275031368322,3.6922666112778737,10.282642884389492,68.705342695706,6.602183625075539,3.33090141713738,68.25084840681863,32.79949875637798,40.93182667827311,8.377091896943632,0.5225087714827082,1.26938221733255,0.5471207769115032,41.37258836682625,50.92209386668328,4.7150411891043085,0.07339340268800192,1.851003448740342,1.4068988175213595,0.2745332020454554],\"type\":\"choropleth\"}],\"name\":\"2020-10-18\"},{\"data\":[{\"coloraxis\":\"coloraxis\",\"geo\":\"geo\",\"hovertemplate\":\"date=2020-10-28<br>Country_code=%{location}<br>pages=%{z}<extra></extra>\",\"locations\":[\"ITA\",\"RUS\",\"CHN\",\"ALB\",\"BGD\",\"BWA\",\"KHM\",\"HRV\",\"GRC\",\"SWE\",\"FIN\",\"NOR\",\"MYS\",\"ISR\",\"LTU\",\"SRB\",\"SVK\",\"SVN\",\"TUR\",\"VNM\",\"BGR\",\"CZE\",\"DNK\",\"GEO\",\"DEU\",\"HUN\",\"ISL\",\"JPN\",\"KAZ\",\"PRK\",\"KGZ\",\"NLD\",\"POL\",\"ROU\",\"TJK\",\"THA\",\"AZE\",\"MNG\"],\"name\":\"\",\"z\":[51.51765126743565,17.806927910413613,1.7081709304797674,12.227570952506634,0.5829155362127989,1.3607611757827034,0.05383106412470002,20.23381294964029,28.895694765767313,17.16337426722437,32.570503566027064,8.346539392784612,7.038250450364608,25.751212683530294,26.584278065108226,1.985758775821749,44.20363568949886,29.537404294767125,6.290086182717672,4.6846788390170016,21.805548444876454,67.98557243889384,9.92899823095776,5.399283748746883,108.78673937890814,36.5122625305521,73.95016686541342,9.4470976786181,0.7571045464341282,1.4796598186839907,0.6990987704980318,43.92397442880486,41.837438227376026,3.941317469746884,0.07339340268800192,1.6862469498199557,2.7147202535271298,0.06100737823232342],\"type\":\"choropleth\"}],\"name\":\"2020-10-28\"},{\"data\":[{\"coloraxis\":\"coloraxis\",\"geo\":\"geo\",\"hovertemplate\":\"date=2020-11-07<br>Country_code=%{location}<br>pages=%{z}<extra></extra>\",\"locations\":[\"ITA\",\"RUS\",\"CHN\",\"ALB\",\"BGD\",\"BWA\",\"KHM\",\"HRV\",\"GRC\",\"SWE\",\"FIN\",\"NOR\",\"MYS\",\"ISR\",\"LTU\",\"SRB\",\"SVK\",\"SVN\",\"TUR\",\"VNM\",\"BGR\",\"CZE\",\"DNK\",\"GEO\",\"DEU\",\"HUN\",\"ISL\",\"JPN\",\"KAZ\",\"PRK\",\"KGZ\",\"NLD\",\"POL\",\"ROU\",\"TJK\",\"THA\",\"AZE\",\"MNG\"],\"name\":\"\",\"z\":[40.18366706264963,13.665975584803492,1.2728367939905039,8.210443896063532,0.6302774235300888,1.8285228299580079,0.059812293471888905,11.80923393153609,31.86750295965929,15.753215210941445,15.408144940730182,8.402306916567138,5.737502671785371,15.735043569793056,11.485266835665868,1.6088994461037527,13.446112140941635,15.17299834143432,5.426903762167537,2.9720999739640757,14.969682067315977,30.28643678014795,8.025511523468447,5.023214233908791,47.44178304722181,39.1891446992246,3.0016672897400283,8.781809109701333,0.44786466127089275,1.0224507221675554,0.5167251781941975,21.953387036665422,31.982315133326487,3.780341393907419,0.10484771812571704,1.05730692350648,1.2582827452479763,0.39654795851010216],\"type\":\"choropleth\"}],\"name\":\"2020-11-07\"},{\"data\":[{\"coloraxis\":\"coloraxis\",\"geo\":\"geo\",\"hovertemplate\":\"date=2020-11-17<br>Country_code=%{location}<br>pages=%{z}<extra></extra>\",\"locations\":[\"ITA\",\"RUS\",\"CHN\",\"ALB\",\"BGD\",\"BWA\",\"KHM\",\"HRV\",\"GRC\",\"SWE\",\"FIN\",\"NOR\",\"MYS\",\"ISR\",\"LTU\",\"SRB\",\"SVK\",\"SVN\",\"TUR\",\"VNM\",\"BGR\",\"CZE\",\"DNK\",\"GEO\",\"DEU\",\"HUN\",\"ISL\",\"JPN\",\"KAZ\",\"PRK\",\"KGZ\",\"NLD\",\"POL\",\"ROU\",\"TJK\",\"THA\",\"AZE\",\"MNG\"],\"name\":\"\",\"z\":[34.33332615076988,35.57706894968118,1.5592799943306639,20.22658710875737,0.8506923606605533,3.359379152713549,0.1375682749853445,13.069214957704165,27.07335955253166,34.42333477118044,45.22977757836407,12.547692851068179,6.77871882708514,12.512072576531995,13.41736779867508,3.7251095283663465,13.48275004868262,21.927122994988153,15.911961653547815,3.705622055336474,19.151963184388844,33.04399815364908,12.261198160854573,5.855939588193136,82.31395267613298,46.173653346220654,5.457576890436416,11.03032607059979,1.5355359815002037,1.5240303217214506,0.9574613595951306,39.09640799243184,46.953658757325705,6.792151845097395,0.15727157718857554,0.9441263720742147,2.2490565604038633,0.6710811605555576],\"type\":\"choropleth\"}],\"name\":\"2020-11-17\"},{\"data\":[{\"coloraxis\":\"coloraxis\",\"geo\":\"geo\",\"hovertemplate\":\"date=2020-11-27<br>Country_code=%{location}<br>pages=%{z}<extra></extra>\",\"locations\":[\"ITA\",\"RUS\",\"CHN\",\"ALB\",\"BGD\",\"BWA\",\"KHM\",\"HRV\",\"GRC\",\"SWE\",\"FIN\",\"NOR\",\"MYS\",\"ISR\",\"LTU\",\"SRB\",\"SVK\",\"SVN\",\"TUR\",\"VNM\",\"BGR\",\"CZE\",\"DNK\",\"GEO\",\"DEU\",\"HUN\",\"ISL\",\"JPN\",\"KAZ\",\"PRK\",\"KGZ\",\"NLD\",\"POL\",\"ROU\",\"TJK\",\"THA\",\"AZE\",\"MNG\"],\"name\":\"\",\"z\":[20.341625258010883,14.167109942679877,1.3621288356601233,8.210443896063532,0.8306546391032384,0.5953330144049327,0.07775598151345559,19.02324294410625,18.513056704717027,14.565204499141444,30.94288262158374,6.245962663642827,5.128839221951383,7.748152488849822,9.48160657773039,3.4787015050891954,11.943957923561234,14.554662985827278,10.071252033176986,3.0696974497769296,8.191502325853058,23.88328579422161,7.253827723134944,4.8889036928951874,51.070893665844366,51.22998633149094,24.559096006963866,10.83786759173458,1.2902767622328102,1.5973381093485584,1.139834951898965,20.405355044004242,18.108623773617666,3.0845093241497348,0.11533248993828873,0.7965618556498686,2.9525059691645428,1.0066217408333364],\"type\":\"choropleth\"}],\"name\":\"2020-11-27\"},{\"data\":[{\"coloraxis\":\"coloraxis\",\"geo\":\"geo\",\"hovertemplate\":\"date=2020-12-07<br>Country_code=%{location}<br>pages=%{z}<extra></extra>\",\"locations\":[\"ITA\",\"RUS\",\"CHN\",\"ALB\",\"BGD\",\"BWA\",\"KHM\",\"HRV\",\"GRC\",\"SWE\",\"FIN\",\"NOR\",\"MYS\",\"ISR\",\"LTU\",\"SRB\",\"SVK\",\"SVN\",\"TUR\",\"VNM\",\"BGR\",\"CZE\",\"DNK\",\"GEO\",\"DEU\",\"HUN\",\"ISL\",\"JPN\",\"KAZ\",\"PRK\",\"KGZ\",\"NLD\",\"POL\",\"ROU\",\"TJK\",\"THA\",\"AZE\",\"MNG\"],\"name\":\"\",\"z\":[19.993430729903032,16.24105656502702,1.6109418184395154,17.40755057792011,0.507015075768424,0.29766650720246635,0.10766212824940004,19.44323661949561,26.587403495668823,18.63148506554632,34.08961644750751,6.431854409584579,6.336897135073666,11.09049277815759,17.42468831454604,3.0873475857666604,17.860980023730374,19.929424153796177,10.164921554088332,4.131968923361048,7.28293780731654,26.369764863209067,9.740364413098458,11.040326471318252,57.58477445480339,44.65572782528759,3.274546134261849,11.993410475126918,1.1356568196511923,1.9407272198123788,1.9757139166248727,31.31038041452857,18.15347975557184,4.626763986224602,0.06290863087543021,1.7435535581400898,4.8448839561122865,0.48805902585858735],\"type\":\"choropleth\"}],\"name\":\"2020-12-07\"},{\"data\":[{\"coloraxis\":\"coloraxis\",\"geo\":\"geo\",\"hovertemplate\":\"date=2020-12-17<br>Country_code=%{location}<br>pages=%{z}<extra></extra>\",\"locations\":[\"ITA\",\"RUS\",\"CHN\",\"ALB\",\"BGD\",\"BWA\",\"KHM\",\"HRV\",\"GRC\",\"SWE\",\"FIN\",\"NOR\",\"MYS\",\"ISR\",\"LTU\",\"SRB\",\"SVK\",\"SVN\",\"TUR\",\"VNM\",\"BGR\",\"CZE\",\"DNK\",\"GEO\",\"DEU\",\"HUN\",\"ISL\",\"JPN\",\"KAZ\",\"PRK\",\"KGZ\",\"NLD\",\"POL\",\"ROU\",\"TJK\",\"THA\",\"AZE\",\"MNG\"],\"name\":\"\",\"z\":[22.884959202450844,14.194873619016521,1.5735950676776984,21.00182215473762,0.4632964105524641,0.29766650720246635,0.05383106412470002,15.16918333465096,19.63449375901589,24.503928258834115,29.532277803066187,6.357497711207879,5.073225302677211,12.642293626764767,19.786145047112853,2.5800369496078197,26.54416415834391,20.642888025650453,7.888396488901163,3.3696812701701235,4.326497707316756,29.1834122307475,10.666384973498664,16.6545070856869,65.44063253017156,35.025105770178484,2.183030756174566,12.105875923681896,0.3039081630052487,1.9523021336482378,1.139834951898965,37.62864432531605,19.929248923522398,2.767749949110789,0.09436294631314533,1.680516288987942,3.200199422953515,0.8235996061363661],\"type\":\"choropleth\"}],\"name\":\"2020-12-17\"},{\"data\":[{\"coloraxis\":\"coloraxis\",\"geo\":\"geo\",\"hovertemplate\":\"date=2020-12-27<br>Country_code=%{location}<br>pages=%{z}<extra></extra>\",\"locations\":[\"ITA\",\"RUS\",\"CHN\",\"ALB\",\"BGD\",\"BWA\",\"KHM\",\"HRV\",\"GRC\",\"SWE\",\"FIN\",\"NOR\",\"MYS\",\"ISR\",\"LTU\",\"SRB\",\"SVK\",\"SVN\",\"TUR\",\"VNM\",\"BGR\",\"CZE\",\"DNK\",\"GEO\",\"DEU\",\"HUN\",\"ISL\",\"JPN\",\"KAZ\",\"PRK\",\"KGZ\",\"NLD\",\"POL\",\"ROU\",\"TJK\",\"THA\",\"AZE\",\"MNG\"],\"name\":\"\",\"z\":[30.222275780259785,11.771104674827694,1.9013535539649917,6.55425993419664,0.39043196852586426,0.2126189337160474,0.0657935228190778,12.377460668827576,27.858365490540866,21.983027480136556,34.79491885676628,8.84844710682734,4.9558181397650705,14.161539212813752,18.319179501124374,1.9132858277990574,31.233816349190036,19.929424153796177,9.177241669035775,4.077519805275982,4.658195864877708,33.43660011191025,10.614939386809763,10.073290576020304,51.82365153438568,48.25567281074371,3.0016672897400283,14.555563475657566,0.33056677379518273,1.9214356967526136,0.5167251781941975,37.06103259467363,22.5863062075138,3.80111250046735,0.13630203356343212,2.5945566916940863,3.130845255892602,0.45755533674242566],\"type\":\"choropleth\"}],\"name\":\"2020-12-27\"},{\"data\":[{\"coloraxis\":\"coloraxis\",\"geo\":\"geo\",\"hovertemplate\":\"date=2021-01-06<br>Country_code=%{location}<br>pages=%{z}<extra></extra>\",\"locations\":[\"ITA\",\"RUS\",\"CHN\",\"ALB\",\"BGD\",\"BWA\",\"KHM\",\"HRV\",\"GRC\",\"SWE\",\"FIN\",\"NOR\",\"MYS\",\"ISR\",\"LTU\",\"SRB\",\"SVK\",\"SVN\",\"TUR\",\"VNM\",\"BGR\",\"CZE\",\"DNK\",\"GEO\",\"DEU\",\"HUN\",\"ISL\",\"JPN\",\"KAZ\",\"PRK\",\"KGZ\",\"NLD\",\"POL\",\"ROU\",\"TJK\",\"THA\",\"AZE\",\"MNG\"],\"name\":\"\",\"z\":[17.88407837122068,12.306943628124879,1.8007937070370632,7.1533051969995585,0.3175675264992644,0.08504757348641896,0.05383106412470002,9.536326982370149,23.400653199702894,11.841472623307302,22.985624670971905,10.688775391650672,5.660261117237911,15.50715673188571,15.313689114221157,1.246534705990295,18.245678055010718,27.111627130462576,6.526038520203217,4.954869745741008,2.985283418048562,40.45669703224702,11.283732013765468,5.855939588193136,65.39253298585581,49.44539821904261,3.5474249787836696,16.783488171327647,0.5171770493247214,1.417926944892742,0.3647471846076688,44.491586159447294,16.810438884120376,3.1468226438295277,0.08387817450057362,3.83237943140899,2.902967278406748,1.1591401864141448],\"type\":\"choropleth\"}],\"name\":\"2021-01-06\"},{\"data\":[{\"coloraxis\":\"coloraxis\",\"geo\":\"geo\",\"hovertemplate\":\"date=2021-01-16<br>Country_code=%{location}<br>pages=%{z}<extra></extra>\",\"locations\":[\"ITA\",\"RUS\",\"CHN\",\"ALB\",\"BGD\",\"BWA\",\"KHM\",\"HRV\",\"GRC\",\"SWE\",\"FIN\",\"NOR\",\"MYS\",\"ISR\",\"LTU\",\"SRB\",\"SVK\",\"SVN\",\"TUR\",\"VNM\",\"BGR\",\"CZE\",\"DNK\",\"GEO\",\"DEU\",\"HUN\",\"ISL\",\"JPN\",\"KAZ\",\"PRK\",\"KGZ\",\"NLD\",\"POL\",\"ROU\",\"TJK\",\"THA\",\"AZE\",\"MNG\"],\"name\":\"\",\"z\":[10.30285741381929,11.561488918486047,1.527744312947346,7.259019066905956,0.26109758392864946,0.08504757348641896,0.05383106412470002,6.695193295912721,7.81267814494873,5.872443193287798,15.932600578384145,4.312688505848619,8.595440190041414,12.65314538095083,11.3063685983502,1.4494589604538315,11.724130477115322,14.840048534568988,6.994386124759953,4.234703108427211,2.148827194633989,21.71462735811225,3.3096660769859194,5.694766938976811,51.125005653199565,31.086704418568374,4.093182667827311,11.958562026278898,0.3039081630052487,0.9703636099061894,0.577516375628809,29.13740217297824,12.541204836952462,3.172786527029441,0.010484771812571703,0.7106019431696668,2.179702393342951,0.3050368911616171],\"type\":\"choropleth\"}],\"name\":\"2021-01-16\"},{\"data\":[{\"coloraxis\":\"coloraxis\",\"geo\":\"geo\",\"hovertemplate\":\"date=2021-01-26<br>Country_code=%{location}<br>pages=%{z}<extra></extra>\",\"locations\":[\"ITA\",\"RUS\",\"CHN\",\"ALB\",\"BGD\",\"BWA\",\"KHM\",\"HRV\",\"GRC\",\"SWE\",\"FIN\",\"NOR\",\"MYS\",\"ISR\",\"LTU\",\"SRB\",\"SVK\",\"SVN\",\"TUR\",\"VNM\",\"BGR\",\"CZE\",\"DNK\",\"GEO\",\"DEU\",\"HUN\",\"ISL\",\"JPN\",\"KAZ\",\"PRK\",\"KGZ\",\"NLD\",\"POL\",\"ROU\",\"TJK\",\"THA\",\"AZE\",\"MNG\"],\"name\":\"\",\"z\":[10.250712339561591,11.631592201236067,1.8730068740698746,10.853290643723467,0.39528959799430424,0.4252378674320948,0.10168089890221114,9.610443513321211,7.644462586803901,7.272943625897552,22.388830324676015,9.629192439782692,11.407032775568979,15.062234810257078,9.624725167582923,1.4204697812447549,11.815725246467785,18.026853828851433,5.276321114626511,4.587081363204147,3.0285483951217294,26.902581806563518,4.184241050697225,8.219805110032567,62.95629106626361,35.876374812323384,4.366061512349132,10.402261981134318,1.439564982656441,1.1034751190185692,1.0942415538230064,30.67396726199008,16.327577431319554,3.1831720803094066,0.07339340268800192,0.9641836849862618,1.9121934632508617,0.39654795851010216],\"type\":\"choropleth\"}],\"name\":\"2021-01-26\"},{\"data\":[{\"coloraxis\":\"coloraxis\",\"geo\":\"geo\",\"hovertemplate\":\"date=2021-02-05<br>Country_code=%{location}<br>pages=%{z}<extra></extra>\",\"locations\":[\"ITA\",\"RUS\",\"CHN\",\"ALB\",\"BGD\",\"BWA\",\"KHM\",\"HRV\",\"GRC\",\"SWE\",\"FIN\",\"NOR\",\"MYS\",\"ISR\",\"LTU\",\"SRB\",\"SVK\",\"SVN\",\"TUR\",\"VNM\",\"BGR\",\"CZE\",\"DNK\",\"GEO\",\"DEU\",\"HUN\",\"ISL\",\"JPN\",\"KAZ\",\"PRK\",\"KGZ\",\"NLD\",\"POL\",\"ROU\",\"TJK\",\"THA\",\"AZE\",\"MNG\"],\"name\":\"\",\"z\":[7.196020247562273,9.89080969492863,1.3522783643965701,10.50091107736881,0.33456922963880437,0.4252378674320948,0.15551196302691117,7.485769626057396,7.3921392495866565,4.887263578624384,16.27620944443329,5.8184116479768,6.219489972161525,14.009614654208853,8.58711539115205,1.5799102668946763,13.20796574062523,12.224014337769969,4.058617342778999,6.293496177153103,2.754536873658335,24.042196110660658,3.0867352013340184,4.217350987827166,46.20802973552309,18.061262448399507,3.0016672897400283,7.623098185504629,0.6291432146424446,0.7427236378009601,0.7446921685739905,25.708797981824958,12.886859756716985,1.7967007174340206,0.06290863087543021,0.7464185733697509,2.2292410841007455,0.3050368911616171],\"type\":\"choropleth\"}],\"name\":\"2021-02-05\"},{\"data\":[{\"coloraxis\":\"coloraxis\",\"geo\":\"geo\",\"hovertemplate\":\"date=2021-02-15<br>Country_code=%{location}<br>pages=%{z}<extra></extra>\",\"locations\":[\"ITA\",\"RUS\",\"CHN\",\"ALB\",\"BGD\",\"BWA\",\"KHM\",\"HRV\",\"GRC\",\"SWE\",\"FIN\",\"NOR\",\"MYS\",\"ISR\",\"LTU\",\"SRB\",\"SVK\",\"SVN\",\"TUR\",\"VNM\",\"BGR\",\"CZE\",\"DNK\",\"GEO\",\"DEU\",\"HUN\",\"ISL\",\"JPN\",\"KAZ\",\"PRK\",\"KGZ\",\"NLD\",\"POL\",\"ROU\",\"TJK\",\"THA\",\"AZE\",\"MNG\"],\"name\":\"\",\"z\":[11.073258833497531,9.822788687903858,1.1697257458720147,11.76947751624558,0.3776806911712093,5.060330622441929,0.035887376083133346,12.995098426753103,8.279943584239922,5.553708612073164,18.844233601221656,5.967125044730201,12.97040183960958,17.10236459723714,10.80545353386633,6.029749275487939,14.43533564994824,15.838897955164978,4.359782637861052,5.20245913175046,3.7640530053655783,28.407555979898035,4.321429281867625,14.210055239239306,50.5658484505291,8.984478083360571,36.292886321402165,6.9776098716151465,1.146320263967166,2.4963230839336163,0.7446921685739905,26.408279104434826,13.369721209517806,2.9962321212700287,0.13630203356343212,0.6303726915214787,2.0707172736758035,3.2943984245454643],\"type\":\"choropleth\"}],\"name\":\"2021-02-15\"},{\"data\":[{\"coloraxis\":\"coloraxis\",\"geo\":\"geo\",\"hovertemplate\":\"date=2021-02-25<br>Country_code=%{location}<br>pages=%{z}<extra></extra>\",\"locations\":[\"ITA\",\"RUS\",\"CHN\",\"ALB\",\"BGD\",\"BWA\",\"KHM\",\"HRV\",\"GRC\",\"SWE\",\"FIN\",\"NOR\",\"MYS\",\"ISR\",\"LTU\",\"SRB\",\"SVK\",\"SVN\",\"TUR\",\"VNM\",\"BGR\",\"CZE\",\"DNK\",\"GEO\",\"DEU\",\"HUN\",\"ISL\",\"JPN\",\"KAZ\",\"PRK\",\"KGZ\",\"NLD\",\"POL\",\"ROU\",\"TJK\",\"THA\",\"AZE\",\"MNG\"],\"name\":\"\",\"z\":[9.508906605766603,11.012462218928956,1.3099000779533698,15.821842529324147,0.15787295772429968,9.10009036304683,0.07775598151345559,8.646928610957387,8.653755935672876,5.3991706333024325,36.89274140738213,3.420408125328215,5.178273816861758,10.482794543737995,9.338487987877857,3.9860121412480365,12.218742231618625,12.176450079646349,4.937213735124672,7.903340857139867,2.379573739024216,41.13907662636763,4.595805744208428,7.252769214734618,46.43289510519917,10.471634843734183,4.366061512349132,5.937700477582151,1.2103009298630079,2.762546102158376,0.6990987704980318,22.136857495054898,14.348637050988323,2.3263639347122576,0.05242385906285852,0.3968482626169309,1.75366965282592,17.082065905050555],\"type\":\"choropleth\"}],\"name\":\"2021-02-25\"},{\"data\":[{\"coloraxis\":\"coloraxis\",\"geo\":\"geo\",\"hovertemplate\":\"date=2021-03-07<br>Country_code=%{location}<br>pages=%{z}<extra></extra>\",\"locations\":[\"ITA\",\"RUS\",\"CHN\",\"ALB\",\"BGD\",\"BWA\",\"KHM\",\"HRV\",\"GRC\",\"SWE\",\"FIN\",\"NOR\",\"MYS\",\"ISR\",\"LTU\",\"SRB\",\"SVK\",\"SVN\",\"TUR\",\"VNM\",\"BGR\",\"CZE\",\"DNK\",\"GEO\",\"DEU\",\"HUN\",\"ISL\",\"JPN\",\"KAZ\",\"PRK\",\"KGZ\",\"NLD\",\"POL\",\"ROU\",\"TJK\",\"THA\",\"AZE\",\"MNG\"],\"name\":\"\",\"z\":[9.858783233044058,9.4785191013295,1.1240875912408759,12.967568041851417,0.11172547777411977,16.073991388933184,0.0657935228190778,8.893983714127598,10.476091148908523,5.476439622687798,23.90794320615646,2.4351818718369356,4.137057661561989,9.289101583270936,6.798133017995374,2.2611559783079773,11.156242907130048,10.606829561566938,5.9545358736301885,3.779590668584111,2.379573739024216,30.968816374268567,3.189626374711819,3.545798282759147,40.60323033413154,9.856259632545102,2.183030756174566,5.4537822447153115,0.23459577495142003,1.1652079928098178,0.37994498396632165,22.738869936645358,13.119055428009185,2.2069300719926552,0.05242385906285852,0.38968493657691416,1.3078214360057707,0.3355405802777788],\"type\":\"choropleth\"}],\"name\":\"2021-03-07\"},{\"data\":[{\"coloraxis\":\"coloraxis\",\"geo\":\"geo\",\"hovertemplate\":\"date=2021-03-17<br>Country_code=%{location}<br>pages=%{z}<extra></extra>\",\"locations\":[\"ITA\",\"RUS\",\"CHN\",\"ALB\",\"BGD\",\"BWA\",\"KHM\",\"HRV\",\"GRC\",\"SWE\",\"FIN\",\"NOR\",\"MYS\",\"ISR\",\"LTU\",\"SRB\",\"SVK\",\"SVN\",\"TUR\",\"VNM\",\"BGR\",\"CZE\",\"DNK\",\"GEO\",\"DEU\",\"HUN\",\"ISL\",\"JPN\",\"KAZ\",\"PRK\",\"KGZ\",\"NLD\",\"POL\",\"ROU\",\"TJK\",\"THA\",\"AZE\",\"MNG\"],\"name\":\"\",\"z\":[11.458459543336653,12.27848585987982,1.1912692225923038,17.05517101156545,0.19612678978826462,15.436134587785041,0.08971844020783336,14.304490473555221,11.22371585177443,5.785515580229261,25.644072213562676,4.163975109095218,5.31112929068339,7.162157762802358,8.944911865783386,2.855434152094048,8.499994595908607,12.176450079646349,5.260907142830973,4.199773485504715,4.61493088780454,29.015154248635568,2.8981013834747174,8.434701975654333,52.373188828193,11.671616505552889,3.0016672897400283,5.2328113986108145,1.1889740412310605,1.280957131168409,9.240262010060944,23.449817962904568,25.83704560560457,3.38049759262875,0.11533248993828873,0.47851017947312247,2.060809535524245,0.9761180517171747],\"type\":\"choropleth\"}],\"name\":\"2021-03-17\"},{\"data\":[{\"coloraxis\":\"coloraxis\",\"geo\":\"geo\",\"hovertemplate\":\"date=2021-03-27<br>Country_code=%{location}<br>pages=%{z}<extra></extra>\",\"locations\":[\"ITA\",\"RUS\",\"CHN\",\"ALB\",\"BGD\",\"BWA\",\"KHM\",\"HRV\",\"GRC\",\"SWE\",\"FIN\",\"NOR\",\"MYS\",\"ISR\",\"LTU\",\"SRB\",\"SVK\",\"SVN\",\"TUR\",\"VNM\",\"BGR\",\"CZE\",\"DNK\",\"GEO\",\"DEU\",\"HUN\",\"ISL\",\"JPN\",\"KAZ\",\"PRK\",\"KGZ\",\"NLD\",\"POL\",\"ROU\",\"TJK\",\"THA\",\"AZE\",\"MNG\"],\"name\":\"\",\"z\":[8.132949485031226,9.932455209433591,1.0011338671958045,10.042817641107755,0.15483693930652467,3.1042364322542926,0.07775598151345559,6.719898806229741,9.672394593327674,4.616822115775604,18.22935457776529,2.5838952685903362,3.3090281968132116,4.15622185326258,6.010980773806436,2.420596463957898,4.817884867939577,9.417723108476475,5.767196831807494,3.1621582163364756,3.4756198248777945,17.143618844071405,2.2464572854153135,5.694766938976811,41.8297687141829,8.666534224246213,3.0016672897400283,5.003128440294311,0.43186949479693226,0.9124890407268937,2.6748126871229045,16.24860247111774,16.699618222821826,2.487340010551722,0.06290863087543021,0.2593124026486083,3.190291684801956,0.5795700932070724],\"type\":\"choropleth\"}],\"name\":\"2021-03-27\"},{\"data\":[{\"coloraxis\":\"coloraxis\",\"geo\":\"geo\",\"hovertemplate\":\"date=2021-04-06<br>Country_code=%{location}<br>pages=%{z}<extra></extra>\",\"locations\":[\"ITA\",\"RUS\",\"CHN\",\"ALB\",\"BGD\",\"BWA\",\"KHM\",\"HRV\",\"GRC\",\"SWE\",\"FIN\",\"NOR\",\"MYS\",\"ISR\",\"LTU\",\"SRB\",\"SVK\",\"SVN\",\"TUR\",\"VNM\",\"BGR\",\"CZE\",\"DNK\",\"GEO\",\"DEU\",\"HUN\",\"ISL\",\"JPN\",\"KAZ\",\"PRK\",\"KGZ\",\"NLD\",\"POL\",\"ROU\",\"TJK\",\"THA\",\"AZE\",\"MNG\"],\"name\":\"\",\"z\":[9.986622769933897,12.9350968052414,1.21033236482177,13.284709651570608,0.13662082879987475,6.931377239143146,0.07775598151345559,9.536326982370149,12.821763654150306,4.124232308443897,20.996310183318947,2.528127744807811,6.265834904890002,4.525181495588762,10.841233181329464,2.2321667990989007,11.559259892280888,15.363255373928794,10.89293529889298,3.3696812701701235,3.7063663692680215,21.82679934618687,1.7320014185263102,7.897459811599918,47.766454971353056,11.6203352379538,6.0033345794800566,5.321516541133049,1.2849450400748232,1.377414746467235,10.638459551057007,18.20370954333056,19.232661909645802,3.027388781109925,0.15727157718857554,0.3366763238807897,3.32900001892378,0.8235996061363661],\"type\":\"choropleth\"}],\"name\":\"2021-04-06\"},{\"data\":[{\"coloraxis\":\"coloraxis\",\"geo\":\"geo\",\"hovertemplate\":\"date=2021-04-16<br>Country_code=%{location}<br>pages=%{z}<extra></extra>\",\"locations\":[\"ITA\",\"RUS\",\"CHN\",\"ALB\",\"BGD\",\"BWA\",\"KHM\",\"HRV\",\"GRC\",\"SWE\",\"FIN\",\"NOR\",\"MYS\",\"ISR\",\"LTU\",\"SRB\",\"SVK\",\"SVN\",\"TUR\",\"VNM\",\"BGR\",\"CZE\",\"DNK\",\"GEO\",\"DEU\",\"HUN\",\"ISL\",\"JPN\",\"KAZ\",\"PRK\",\"KGZ\",\"NLD\",\"POL\",\"ROU\",\"TJK\",\"THA\",\"AZE\",\"MNG\"],\"name\":\"\",\"z\":[7.705696295952027,9.607620196294883,1.1779462830415988,9.796151944659494,0.17123143876250965,1.9135704034444267,0.08373721086064448,7.386947584789312,10.597580163124235,4.713408352507311,16.529394924680034,2.992857109662188,4.344065027749183,4.091111328146195,7.764183499499979,2.0147479550308254,5.184263945349431,8.942080527240288,9.140485274754106,3.0563420057183284,2.350730420975438,16.638844897735602,2.1264175831412127,5.6410427225713695,43.53369507156797,8.63576546368676,4.093182667827311,6.024029589501113,0.8210852123299701,1.232728323518996,2.5836258909709877,17.93423730757102,15.20617788246519,2.0044117830333295,0.06290863087543021,0.6733526477615794,2.6156428720115414,1.25065125376263],\"type\":\"choropleth\"}],\"name\":\"2021-04-16\"},{\"data\":[{\"coloraxis\":\"coloraxis\",\"geo\":\"geo\",\"hovertemplate\":\"date=2021-04-26<br>Country_code=%{location}<br>pages=%{z}<extra></extra>\",\"locations\":[\"ITA\",\"RUS\",\"CHN\",\"ALB\",\"BGD\",\"BWA\",\"KHM\",\"HRV\",\"GRC\",\"SWE\",\"FIN\",\"NOR\",\"MYS\",\"ISR\",\"LTU\",\"SRB\",\"SVK\",\"SVN\",\"TUR\",\"VNM\",\"BGR\",\"CZE\",\"DNK\",\"GEO\",\"DEU\",\"HUN\",\"ISL\",\"JPN\",\"KAZ\",\"PRK\",\"KGZ\",\"NLD\",\"POL\",\"ROU\",\"TJK\",\"THA\",\"AZE\",\"MNG\"],\"name\":\"\",\"z\":[8.237239633546622,11.58022940001328,1.7465806817376515,12.685664388767691,0.14390727300253472,1.1906660288098654,0.07177475216626669,7.164597991936121,14.541300470741895,4.993508439029262,18.75381021541925,2.7883761891262626,6.395600716529736,4.221332378378965,9.302708340414723,1.4494589604538315,4.744609052457607,8.276180913509629,10.042795469862146,5.850711839517943,1.7882857190242594,18.929022987592468,3.0867352013340184,7.440803972153664,48.91242661467555,9.753697097346922,18.282882582961992,7.692795083200672,1.295608484390797,1.1536330789739586,3.525889451207465,18.88599031046642,14.514868042936145,1.7136162911942971,0.09436294631314533,0.8309458206419492,2.2985952511616574,1.0981328081818216],\"type\":\"choropleth\"}],\"name\":\"2021-04-26\"},{\"data\":[{\"coloraxis\":\"coloraxis\",\"geo\":\"geo\",\"hovertemplate\":\"date=2021-05-06<br>Country_code=%{location}<br>pages=%{z}<extra></extra>\",\"locations\":[\"ITA\",\"RUS\",\"CHN\",\"ALB\",\"BGD\",\"BWA\",\"KHM\",\"HRV\",\"GRC\",\"SWE\",\"FIN\",\"NOR\",\"MYS\",\"ISR\",\"LTU\",\"SRB\",\"SVK\",\"SVN\",\"TUR\",\"VNM\",\"BGR\",\"CZE\",\"DNK\",\"GEO\",\"DEU\",\"HUN\",\"ISL\",\"JPN\",\"KAZ\",\"PRK\",\"KGZ\",\"NLD\",\"POL\",\"ROU\",\"TJK\",\"THA\",\"AZE\",\"MNG\"],\"name\":\"\",\"z\":[6.5618688606218845,10.547420640290207,1.6387215647367301,8.703775288960054,0.1603017724585197,3.2318077924839206,0.05383106412470002,5.781089414182939,14.204869354452235,4.887263578624384,15.552822358014033,2.5838952685903362,5.023790707766836,3.515968356284793,6.798133017995374,1.1885563475721417,4.268316251824797,8.038359622891535,7.4153061237919555,8.315304939255178,2.0334539224388757,14.507577124317784,1.9034867074893114,5.103800558516953,41.8670458610276,7.999877745458044,3.8203038233054905,7.77754017471745,0.735777657802181,1.3195401772879394,0.6990987704980318,15.526187541209184,12.528011901083588,2.1601950822328106,0.12581726175086042,0.7507165689937609,2.031086321069568,0.7930959170202043],\"type\":\"choropleth\"}],\"name\":\"2021-05-06\"},{\"data\":[{\"coloraxis\":\"coloraxis\",\"geo\":\"geo\",\"hovertemplate\":\"date=2021-05-16<br>Country_code=%{location}<br>pages=%{z}<extra></extra>\",\"locations\":[\"ITA\",\"RUS\",\"CHN\",\"ALB\",\"BGD\",\"BWA\",\"KHM\",\"HRV\",\"GRC\",\"SWE\",\"FIN\",\"NOR\",\"MYS\",\"ISR\",\"LTU\",\"SRB\",\"SVK\",\"SVN\",\"TUR\",\"VNM\",\"BGR\",\"CZE\",\"DNK\",\"GEO\",\"DEU\",\"HUN\",\"ISL\",\"JPN\",\"KAZ\",\"PRK\",\"KGZ\",\"NLD\",\"POL\",\"ROU\",\"TJK\",\"THA\",\"AZE\",\"MNG\"],\"name\":\"\",\"z\":[6.087516894793797,7.211614928442698,3.8884558146127137,12.650426432132223,0.16819542034473467,6.59118694519747,0.1375682749853445,7.36224207447229,9.37334471218131,4.008328824365848,13.545423193200596,1.5429014913165318,4.974356112856461,1.8122429490727177,4.687133817670495,1.1015888099449118,4.817884867939577,7.610281299778969,6.740648435202632,6.939694201219264,2.768958532682724,14.4982294586449,2.400794045482014,5.399283748746883,34.11460180593828,7.1486087033131485,7.367728802089161,6.693278209423338,0.4798549942188137,1.369698137243329,0.4863295794768917,15.159246624430237,10.018715498823587,2.0355684428732257,0.13630203356343212,0.44985687531305524,1.4465297701275948,0.5490664040909108],\"type\":\"choropleth\"}],\"name\":\"2021-05-16\"},{\"data\":[{\"coloraxis\":\"coloraxis\",\"geo\":\"geo\",\"hovertemplate\":\"date=2021-05-26<br>Country_code=%{location}<br>pages=%{z}<extra></extra>\",\"locations\":[\"ITA\",\"RUS\",\"CHN\",\"ALB\",\"BGD\",\"BWA\",\"KHM\",\"HRV\",\"GRC\",\"SWE\",\"FIN\",\"NOR\",\"MYS\",\"ISR\",\"LTU\",\"SRB\",\"SVK\",\"SVN\",\"TUR\",\"VNM\",\"BGR\",\"CZE\",\"DNK\",\"GEO\",\"DEU\",\"HUN\",\"ISL\",\"JPN\",\"KAZ\",\"PRK\",\"KGZ\",\"NLD\",\"POL\",\"ROU\",\"TJK\",\"THA\",\"AZE\",\"MNG\"],\"name\":\"\",\"z\":[6.654384314950058,8.96419699719321,3.24597831478988,10.959004513629866,0.12629836617943976,10.928613193004837,0.047849834777511126,4.298758795161673,9.111676066178244,4.549211750063409,11.302923225300898,1.6544365388815823,7.748872752201246,3.190415730702868,5.116489587228097,0.9131591450859137,3.846980312803465,5.755275232957845,4.256627595844758,6.992088635603007,1.4421659024389188,12.572610330030553,2.0749719964523123,3.65324671557003,34.67736647443243,5.251201802146818,2.183030756174566,6.123822874838628,0.43186949479693226,1.6089130231844173,0.2887581878144045,16.472207092279906,9.319489897773217,2.0355684428732257,0.04193908725028681,0.4484242101050519,1.208744054490182,0.45755533674242566],\"type\":\"choropleth\"}],\"name\":\"2021-05-26\"},{\"data\":[{\"coloraxis\":\"coloraxis\",\"geo\":\"geo\",\"hovertemplate\":\"date=2021-06-05<br>Country_code=%{location}<br>pages=%{z}<extra></extra>\",\"locations\":[\"ITA\",\"RUS\",\"CHN\",\"ALB\",\"BGD\",\"BWA\",\"KHM\",\"HRV\",\"GRC\",\"SWE\",\"FIN\",\"NOR\",\"MYS\",\"ISR\",\"LTU\",\"SRB\",\"SVK\",\"SVN\",\"TUR\",\"VNM\",\"BGR\",\"CZE\",\"DNK\",\"GEO\",\"DEU\",\"HUN\",\"ISL\",\"JPN\",\"KAZ\",\"PRK\",\"KGZ\",\"NLD\",\"POL\",\"ROU\",\"TJK\",\"THA\",\"AZE\",\"MNG\"],\"name\":\"\",\"z\":[5.478596995397457,6.2162871317740915,2.691588122741124,4.686648232516951,0.1475504951038647,0.7654281613777707,0.05383106412470002,2.4458455213850896,5.149265140988936,2.4049972946195095,7.071108769748241,1.3012422215922557,5.502688345961092,2.886566613493071,2.8623717970506837,0.7972024282496072,2.894394711537845,3.0916767780352057,3.564184555183661,6.0099498263704945,0.9806728136584648,10.35721356555677,1.4233278983929085,3.545798282759147,25.010560555576674,3.9794263656893856,1.9101519116527452,5.584463927895391,0.13862477610765728,0.9935134375779077,0.16717579294518153,15.308316371871685,7.361658214832184,1.18395307391606,0.020969543625143406,0.3280803326327696,1.1592053637323876,0.0],\"type\":\"choropleth\"}],\"name\":\"2021-06-05\"},{\"data\":[{\"coloraxis\":\"coloraxis\",\"geo\":\"geo\",\"hovertemplate\":\"date=2021-06-15<br>Country_code=%{location}<br>pages=%{z}<extra></extra>\",\"locations\":[\"ITA\",\"RUS\",\"CHN\",\"ALB\",\"BGD\",\"BWA\",\"KHM\",\"HRV\",\"GRC\",\"SWE\",\"FIN\",\"NOR\",\"MYS\",\"ISR\",\"LTU\",\"SRB\",\"SVK\",\"SVN\",\"TUR\",\"VNM\",\"BGR\",\"CZE\",\"DNK\",\"GEO\",\"DEU\",\"HUN\",\"ISL\",\"JPN\",\"KAZ\",\"PRK\",\"KGZ\",\"NLD\",\"POL\",\"ROU\",\"TJK\",\"THA\",\"AZE\",\"MNG\"],\"name\":\"\",\"z\":[5.554291458029599,11.159609703513159,2.042874353341365,6.060928541300118,0.17669627191450465,1.403284962525913,0.017943688041566673,3.681121037236145,5.747364903281661,2.8106594888926795,9.18701599752457,1.8960958086058584,6.429587000530618,2.7129385465160443,3.5421850988502213,0.5507944049724559,3.5538770508755815,4.94668284485633,5.949793113077716,5.4870328243837285,1.4710092204876972,10.843292180546797,2.297902872104214,1.9877960070013398,26.421079692635733,4.01019512624884,1.091515378087283,5.729401794695116,0.3145716073212223,1.3928479649150471,0.30395598717305733,15.319783275521026,7.783832162636181,1.459170235835144,0.06290863087543021,0.6776506433855896,0.9412351243980924,0.3050368911616171],\"type\":\"choropleth\"}],\"name\":\"2021-06-15\"},{\"data\":[{\"coloraxis\":\"coloraxis\",\"geo\":\"geo\",\"hovertemplate\":\"date=2021-06-25<br>Country_code=%{location}<br>pages=%{z}<extra></extra>\",\"locations\":[\"ITA\",\"RUS\",\"CHN\",\"ALB\",\"BGD\",\"BWA\",\"KHM\",\"HRV\",\"GRC\",\"SWE\",\"FIN\",\"NOR\",\"MYS\",\"ISR\",\"LTU\",\"SRB\",\"SVK\",\"SVN\",\"TUR\",\"VNM\",\"BGR\",\"CZE\",\"DNK\",\"GEO\",\"DEU\",\"HUN\",\"ISL\",\"JPN\",\"KAZ\",\"PRK\",\"KGZ\",\"NLD\",\"POL\",\"ROU\",\"TJK\",\"THA\",\"AZE\",\"MNG\"],\"name\":\"\",\"z\":[3.6636119913956593,20.849132745001135,1.7673446247608247,2.9247504007436618,0.11597590355900476,1.1906660288098654,0.023924917388755563,2.519962052336153,3.831576602187774,2.1538730791170706,7.794495856167499,1.1525288248388552,4.331706379021589,3.874076244424911,3.077049681829485,0.49281604655430267,2.9310326192788305,2.663598454922639,4.727346580677731,6.704432917417751,1.1248894039023567,9.880482616239625,0.9603176181928056,1.5311401675550862,23.578396623575525,3.733276281213754,2.728788445218208,5.54407140763973,0.20260544200349911,0.7581568562487722,0.227966990379793,12.074649542757218,7.97908761349553,0.7893020492773731,0.08387817450057362,0.5859600700733745,1.1294821492777112,0.3355405802777788],\"type\":\"choropleth\"}],\"name\":\"2021-06-25\"},{\"data\":[{\"coloraxis\":\"coloraxis\",\"geo\":\"geo\",\"hovertemplate\":\"date=2021-07-05<br>Country_code=%{location}<br>pages=%{z}<extra></extra>\",\"locations\":[\"ITA\",\"RUS\",\"CHN\",\"ALB\",\"BGD\",\"BWA\",\"KHM\",\"HRV\",\"GRC\",\"SWE\",\"FIN\",\"NOR\",\"MYS\",\"ISR\",\"LTU\",\"SRB\",\"SVK\",\"SVN\",\"TUR\",\"VNM\",\"BGR\",\"CZE\",\"DNK\",\"GEO\",\"DEU\",\"HUN\",\"ISL\",\"JPN\",\"KAZ\",\"PRK\",\"KGZ\",\"NLD\",\"POL\",\"ROU\",\"TJK\",\"THA\",\"AZE\",\"MNG\"],\"name\":\"\",\"z\":[3.360834140867092,19.018812382508024,1.4755155552405923,2.396181051211675,0.16758821666117968,0.29766650720246635,0.029906146735944453,2.8905447070914696,6.457608371004274,2.0186523476926803,9.20510067468505,0.6692102853903029,5.706606049966388,3.8957797527970395,3.220168271682019,0.507310636158841,2.729524126703411,3.710012133642247,3.2132202743006393,5.569220172436658,1.0383594497560216,9.029845040007073,1.9206352363856112,1.2356569773251573,25.216186107526458,3.364051154500306,1.364394222609104,5.102129715430735,0.11729788747571002,0.9028432791970112,0.16717579294518153,13.416277269730243,7.147932653756412,0.8412298156772005,0.031454315437715104,0.7607452254497845,0.5449255983357377,0.3355405802777788],\"type\":\"choropleth\"}],\"name\":\"2021-07-05\"},{\"data\":[{\"coloraxis\":\"coloraxis\",\"geo\":\"geo\",\"hovertemplate\":\"date=2021-07-15<br>Country_code=%{location}<br>pages=%{z}<extra></extra>\",\"locations\":[\"ITA\",\"RUS\",\"CHN\",\"ALB\",\"BGD\",\"BWA\",\"KHM\",\"HRV\",\"GRC\",\"SWE\",\"FIN\",\"NOR\",\"MYS\",\"ISR\",\"LTU\",\"SRB\",\"SVK\",\"SVN\",\"TUR\",\"VNM\",\"BGR\",\"CZE\",\"DNK\",\"GEO\",\"DEU\",\"HUN\",\"ISL\",\"JPN\",\"KAZ\",\"PRK\",\"KGZ\",\"NLD\",\"POL\",\"ROU\",\"TJK\",\"THA\",\"AZE\",\"MNG\"],\"name\":\"\",\"z\":[3.7376243548581973,15.346372095078735,1.5345475161221742,1.9028496583151533,0.2975298049419494,0.5953330144049327,0.07177475216626669,3.9775871610403986,7.868749997663673,2.984514715009752,9.711471635178532,0.6506211107961278,5.413088142686037,4.915844646287072,3.148608976755752,0.3478701505089195,3.169179019595235,5.94553226545232,2.823128218859713,7.492404116875217,0.908564518536519,11.703277422452233,3.206774903608119,2.4713139546503147,21.721754212987978,3.179438591143582,3.0016672897400283,5.6541608255914335,0.21326888631947272,1.6089130231844173,0.1823735923038344,13.960955193073989,6.7072885957359905,0.7789164959974078,0.08387817450057362,0.8767911072980566,1.288005959702653,0.18302213469697026],\"type\":\"choropleth\"}],\"name\":\"2021-07-15\"},{\"data\":[{\"coloraxis\":\"coloraxis\",\"geo\":\"geo\",\"hovertemplate\":\"date=2021-07-25<br>Country_code=%{location}<br>pages=%{z}<extra></extra>\",\"locations\":[\"ITA\",\"RUS\",\"CHN\",\"ALB\",\"BGD\",\"BWA\",\"KHM\",\"HRV\",\"GRC\",\"SWE\",\"FIN\",\"NOR\",\"MYS\",\"ISR\",\"LTU\",\"SRB\",\"SVK\",\"SVN\",\"TUR\",\"VNM\",\"BGR\",\"CZE\",\"DNK\",\"GEO\",\"DEU\",\"HUN\",\"ISL\",\"JPN\",\"KAZ\",\"PRK\",\"KGZ\",\"NLD\",\"POL\",\"ROU\",\"TJK\",\"THA\",\"AZE\",\"MNG\"],\"name\":\"\",\"z\":[5.621575424813725,9.16617774254228,1.207285096733045,2.0790394414924824,0.21555730766202458,0.5102854409185138,0.047849834777511126,1.3588030674361609,4.971704274058283,1.9413833583073146,11.71887079999197,0.7063886345786531,4.866217936490017,5.7297262102418856,3.399066508997687,0.27539720248622795,2.7478430805739036,2.9014197455407316,3.9732476528344804,7.948543898568977,1.1969976990243028,8.366160777232226,2.315051401000514,1.9877960070013398,19.51879508332711,1.917919408205967,3.274546134261849,4.766317390167986,0.20260544200349911,0.9491429345404477,0.16717579294518153,10.027807241349654,7.166402763972837,0.9087359119969757,0.07339340268800192,0.8753584420900534,1.1195744111261523,0.09151106734848513],\"type\":\"choropleth\"}],\"name\":\"2021-07-25\"},{\"data\":[{\"coloraxis\":\"coloraxis\",\"geo\":\"geo\",\"hovertemplate\":\"date=2021-08-04<br>Country_code=%{location}<br>pages=%{z}<extra></extra>\",\"locations\":[\"ITA\",\"RUS\",\"CHN\",\"ALB\",\"BGD\",\"BWA\",\"KHM\",\"HRV\",\"GRC\",\"SWE\",\"FIN\",\"NOR\",\"MYS\",\"ISR\",\"LTU\",\"SRB\",\"SVK\",\"SVN\",\"TUR\",\"VNM\",\"BGR\",\"CZE\",\"DNK\",\"GEO\",\"DEU\",\"HUN\",\"ISL\",\"JPN\",\"KAZ\",\"PRK\",\"KGZ\",\"NLD\",\"POL\",\"ROU\",\"TJK\",\"THA\",\"AZE\",\"MNG\"],\"name\":\"\",\"z\":[5.0008808312301625,10.67166309189668,1.8219119835589257,1.7618978317732903,0.43111461532404916,1.6159038962419603,0.07775598151345559,1.0870424539489287,3.7381235143295357,2.656121510121948,20.76120938023269,1.0781721264621547,4.600506988846752,8.117112131176004,6.726573723069106,0.3623647401134579,2.271550279941094,4.518604521743763,3.017581401511117,7.38658790625707,1.528695856585254,9.029845040007073,3.121032259126619,2.0683823316095022,22.06326097762973,2.471757098276139,1.9101519116527452,6.701990321635343,0.21860060847745955,1.1478456220560291,0.12158239486922293,10.801823237680246,7.235006030490985,0.664675409917788,0.06290863087543021,0.9355303808261946,0.9511428625496515,0.12201475646464684],\"type\":\"choropleth\"}],\"name\":\"2021-08-04\"},{\"data\":[{\"coloraxis\":\"coloraxis\",\"geo\":\"geo\",\"hovertemplate\":\"date=2021-08-14<br>Country_code=%{location}<br>pages=%{z}<extra></extra>\",\"locations\":[\"ITA\",\"RUS\",\"CHN\",\"ALB\",\"BGD\",\"BWA\",\"KHM\",\"HRV\",\"GRC\",\"SWE\",\"FIN\",\"NOR\",\"MYS\",\"ISR\",\"LTU\",\"SRB\",\"SVK\",\"SVN\",\"TUR\",\"VNM\",\"BGR\",\"CZE\",\"DNK\",\"GEO\",\"DEU\",\"HUN\",\"ISL\",\"JPN\",\"KAZ\",\"PRK\",\"KGZ\",\"NLD\",\"POL\",\"ROU\",\"TJK\",\"THA\",\"AZE\",\"MNG\"],\"name\":\"\",\"z\":[3.796497825794308,7.063079260041665,1.2778683296718871,1.8676117016796876,0.27627767601752445,1.1906660288098654,0.04186860543032224,1.4329195983872243,3.7287782055437115,2.6368042627756063,12.984798201225672,0.7249778091728282,5.2307980739540305,8.507775281874315,3.864201926018423,0.5362998153679176,1.7403006176968054,4.28078323112567,2.6417176277276107,6.277058707542516,1.1969976990243028,6.777057612841748,1.7662984763189107,2.927969794096568,15.059967325258054,1.5589505350123367,1.6372730671309246,7.729227552450876,0.1706151090555782,1.124695794384311,0.1823735923038344,8.582977381532551,4.963182473870731,0.7789164959974078,0.05242385906285852,0.6361033523534921,1.1393898874292698,0.09151106734848513],\"type\":\"choropleth\"}],\"name\":\"2021-08-14\"},{\"data\":[{\"coloraxis\":\"coloraxis\",\"geo\":\"geo\",\"hovertemplate\":\"date=2021-08-24<br>Country_code=%{location}<br>pages=%{z}<extra></extra>\",\"locations\":[\"ITA\",\"RUS\",\"CHN\",\"ALB\",\"BGD\",\"BWA\",\"KHM\",\"HRV\",\"GRC\",\"SWE\",\"FIN\",\"NOR\",\"MYS\",\"ISR\",\"LTU\",\"SRB\",\"SVK\",\"SVN\",\"TUR\",\"VNM\",\"BGR\",\"CZE\",\"DNK\",\"GEO\",\"DEU\",\"HUN\",\"ISL\",\"JPN\",\"KAZ\",\"PRK\",\"KGZ\",\"NLD\",\"POL\",\"ROU\",\"TJK\",\"THA\",\"AZE\",\"MNG\"],\"name\":\"\",\"z\":[4.368411543459379,7.57809545608637,1.3777903763021755,3.559033620182046,0.31938913754992937,4.039759740604901,0.04186860543032224,1.9270298047276464,6.663205164292398,2.897587101951216,12.894374815423264,1.1153504756505048,4.903293882672798,9.744875259085632,4.866032054986162,0.9856320931086053,2.308188187682079,7.610281299778969,3.27606185162091,5.7253761337372255,2.797801850731503,10.291779905846573,1.6291102451485098,2.7667971448802433,21.854027959856264,2.3179132954788693,1.6372730671309246,9.122373496170631,0.21326888631947272,1.1517039266679823,0.12158239486922293,10.698621104836167,7.31680223287801,0.997013114876682,0.08387817450057362,0.6690546521375694,1.8725625106446262,0.2745332020454554],\"type\":\"choropleth\"}],\"name\":\"2021-08-24\"},{\"data\":[{\"coloraxis\":\"coloraxis\",\"geo\":\"geo\",\"hovertemplate\":\"date=2021-09-03<br>Country_code=%{location}<br>pages=%{z}<extra></extra>\",\"locations\":[\"ITA\",\"RUS\",\"CHN\",\"ALB\",\"BGD\",\"BWA\",\"KHM\",\"HRV\",\"GRC\",\"SWE\",\"FIN\",\"NOR\",\"MYS\",\"ISR\",\"LTU\",\"SRB\",\"SVK\",\"SVN\",\"TUR\",\"VNM\",\"BGR\",\"CZE\",\"DNK\",\"GEO\",\"DEU\",\"HUN\",\"ISL\",\"JPN\",\"KAZ\",\"PRK\",\"KGZ\",\"NLD\",\"POL\",\"ROU\",\"TJK\",\"THA\",\"AZE\",\"MNG\"],\"name\":\"\",\"z\":[4.719970269906437,6.929813613625785,1.0412444192473957,3.911413186536705,0.1949123824211546,1.0630946685802372,0.029906146735944453,2.915250217408491,4.728726245626863,3.283932048878045,10.19975791851153,1.1897071740272054,4.1741336077447695,8.637996332107086,4.722913465133629,1.2175455267812185,2.0517228334951816,6.849253169801071,3.0709374577264414,4.614819593172011,2.0190322634144864,7.403351212925055,1.509070542874409,2.2026928726231065,18.021696766499716,1.866638140606877,2.4559096006963865,6.395482373812974,0.7411093799601677,1.2172951050711838,0.0455933980759586,7.2528165582088695,5.942098315341247,1.0852903177563882,0.010484771812571703,0.5171921400892132,1.4960684608853891,0.24402951292929367],\"type\":\"choropleth\"}],\"name\":\"2021-09-03\"},{\"data\":[{\"coloraxis\":\"coloraxis\",\"geo\":\"geo\",\"hovertemplate\":\"date=2021-09-13<br>Country_code=%{location}<br>pages=%{z}<extra></extra>\",\"locations\":[\"ITA\",\"RUS\",\"CHN\",\"ALB\",\"BGD\",\"BWA\",\"KHM\",\"HRV\",\"GRC\",\"SWE\",\"FIN\",\"NOR\",\"MYS\",\"ISR\",\"LTU\",\"SRB\",\"SVK\",\"SVN\",\"TUR\",\"VNM\",\"BGR\",\"CZE\",\"DNK\",\"GEO\",\"DEU\",\"HUN\",\"ISL\",\"JPN\",\"KAZ\",\"PRK\",\"KGZ\",\"NLD\",\"POL\",\"ROU\",\"TJK\",\"THA\",\"AZE\",\"MNG\"],\"name\":\"\",\"z\":[3.9966676269770827,7.471205302190299,1.073630501027567,4.6161723192460205,0.25684715814376446,2.9766650720246637,0.04186860543032224,2.8905447070914696,4.756762171984334,3.1197354464341425,10.434858721597788,1.0224046026796296,3.6427117124582407,6.120389360940196,9.553165872656656,1.0436104515267586,2.876075757667352,15.17299834143432,3.0946512604888072,4.890147209149325,1.9613456273169296,10.030045267005788,1.6634073029411098,2.0683823316095022,22.190724770066442,2.7897009573904974,1.6372730671309246,5.592384029906305,1.52487253718423,1.406352031056883,0.16717579294518153,10.624086231115443,7.298332122661585,1.1631819673561288,0.10484771812571704,0.49713482717716617,1.1096666729745934,0.24402951292929367],\"type\":\"choropleth\"}],\"name\":\"2021-09-13\"},{\"data\":[{\"coloraxis\":\"coloraxis\",\"geo\":\"geo\",\"hovertemplate\":\"date=2021-09-23<br>Country_code=%{location}<br>pages=%{z}<extra></extra>\",\"locations\":[\"ITA\",\"RUS\",\"CHN\",\"ALB\",\"BGD\",\"BWA\",\"KHM\",\"HRV\",\"GRC\",\"SWE\",\"FIN\",\"NOR\",\"MYS\",\"ISR\",\"LTU\",\"SRB\",\"SVK\",\"SVN\",\"TUR\",\"VNM\",\"BGR\",\"CZE\",\"DNK\",\"GEO\",\"DEU\",\"HUN\",\"ISL\",\"JPN\",\"KAZ\",\"PRK\",\"KGZ\",\"NLD\",\"POL\",\"ROU\",\"TJK\",\"THA\",\"AZE\",\"MNG\"],\"name\":\"\",\"z\":[4.158149147258984,8.586610999014882,0.9990078662036709,3.2066540538273887,0.3114954896637144,0.5528092276617232,0.011962458694377781,3.1623053205787017,3.616634500113826,2.887928478278045,8.969999871598791,0.8179236821437036,6.553173487806555,6.890863908150752,8.050420679205049,1.5509210876855997,3.8652992666739574,6.94438168604831,2.3678232058222792,4.298398303168231,1.384479266341362,6.982706257645222,1.3718823117040082,2.0415202234067813,18.507502164088685,2.5845758869941373,2.728788445218208,4.365560228415742,0.6504701032743918,1.4198560971987184,0.3495493852490159,9.741134650116102,7.554275078517757,2.7210149593509443,0.05242385906285852,0.33524365867278644,0.8520654810340628,0.3660442693939405],\"type\":\"choropleth\"}],\"name\":\"2021-09-23\"},{\"data\":[{\"coloraxis\":\"coloraxis\",\"geo\":\"geo\",\"hovertemplate\":\"date=2021-10-03<br>Country_code=%{location}<br>pages=%{z}<extra></extra>\",\"locations\":[\"ITA\",\"RUS\",\"CHN\",\"ALB\",\"BGD\",\"BWA\",\"KHM\",\"HRV\",\"GRC\",\"SWE\",\"FIN\",\"NOR\",\"MYS\",\"ISR\",\"LTU\",\"SRB\",\"SVK\",\"SVN\",\"TUR\",\"VNM\",\"BGR\",\"CZE\",\"DNK\",\"GEO\",\"DEU\",\"HUN\",\"ISL\",\"JPN\",\"KAZ\",\"PRK\",\"KGZ\",\"NLD\",\"POL\",\"ROU\",\"TJK\",\"THA\",\"AZE\",\"MNG\"],\"name\":\"\",\"z\":[3.2447692981644747,8.296480581296976,1.1255757919353695,6.977115413822229,0.25684715814376446,0.17009514697283792,0.023924917388755563,2.025851845995731,3.308239310181639,2.095921337078046,7.55939505308124,0.8922803805204039,2.783785625890479,5.6103569141951795,6.547675485753438,1.0581050411312969,3.4622822815231187,8.181052397262391,2.2421400511817375,4.1247775304064165,1.6152258107315893,7.70247651445738,1.166099964948407,1.826623357785015,15.0142727581581,2.3179132954788693,3.0016672897400283,4.131125208892691,0.29857644084726187,1.1459164697500526,0.3495493852490159,8.474041796863801,6.884073936378915,3.7699558406274534,0.10484771812571704,0.37679094970488386,1.278098221551094,0.06100737823232342],\"type\":\"choropleth\"}],\"name\":\"2021-10-03\"},{\"data\":[{\"coloraxis\":\"coloraxis\",\"geo\":\"geo\",\"hovertemplate\":\"date=2021-10-13<br>Country_code=%{location}<br>pages=%{z}<extra></extra>\",\"locations\":[\"ITA\",\"RUS\",\"CHN\",\"ALB\",\"BGD\",\"BWA\",\"KHM\",\"HRV\",\"GRC\",\"SWE\",\"FIN\",\"NOR\",\"MYS\",\"ISR\",\"LTU\",\"SRB\",\"SVK\",\"SVN\",\"TUR\",\"VNM\",\"BGR\",\"CZE\",\"DNK\",\"GEO\",\"DEU\",\"HUN\",\"ISL\",\"JPN\",\"KAZ\",\"PRK\",\"KGZ\",\"NLD\",\"POL\",\"ROU\",\"TJK\",\"THA\",\"AZE\",\"MNG\"],\"name\":\"\",\"z\":[3.4516674960256624,12.54571124462,0.8199277159662675,5.4618832784972,0.18216110506649963,0.6378568011481422,0.0657935228190778,2.9399557277255117,2.4858521370291413,2.2890938105414604,11.899717571596785,1.4313664437514813,3.7261325913694985,4.02600080302981,6.3687772484377705,1.8698020589854427,3.627152866357553,8.371309429756867,2.512477402672714,3.7220595249470603,2.091140558536432,9.936568610276936,1.2689911383262076,2.7667971448802433,16.589532834498574,2.287144534919415,3.5474249787836696,4.094692739642486,0.9490465441216538,1.4449350771764131,0.7294943692153376,10.973826792420377,6.731035880299965,4.5644506665448095,0.13630203356343212,0.277937050352652,1.5257916753400658,0.7015848496717193],\"type\":\"choropleth\"}],\"name\":\"2021-10-13\"},{\"data\":[{\"coloraxis\":\"coloraxis\",\"geo\":\"geo\",\"hovertemplate\":\"date=2021-10-23<br>Country_code=%{location}<br>pages=%{z}<extra></extra>\",\"locations\":[\"ITA\",\"RUS\",\"CHN\",\"ALB\",\"BGD\",\"BWA\",\"KHM\",\"HRV\",\"GRC\",\"SWE\",\"FIN\",\"NOR\",\"MYS\",\"ISR\",\"LTU\",\"SRB\",\"SVK\",\"SVN\",\"TUR\",\"VNM\",\"BGR\",\"CZE\",\"DNK\",\"GEO\",\"DEU\",\"HUN\",\"ISL\",\"JPN\",\"KAZ\",\"PRK\",\"KGZ\",\"NLD\",\"POL\",\"ROU\",\"TJK\",\"THA\",\"AZE\",\"MNG\"],\"name\":\"\",\"z\":[3.0631025878473346,14.354514757952208,0.8841329459287081,2.6428467476599353,0.27202725023263946,0.2126189337160474,0.035887376083133346,2.297612459482963,2.971808193891981,1.3811831852634129,10.362520012955862,0.5762644124194276,2.3883088666074808,3.2989332725635103,5.009150644838696,1.2175455267812185,3.9935319437674064,8.656694978498576,1.93741768568533,2.8734751563005596,4.355341025365535,12.273485028498229,1.0975058493632064,2.095244439812223,14.790609877089912,1.6102318026114268,1.364394222609104,4.014699709332256,0.25059094142538046,0.8025273592862321,0.2735603884557516,8.296304790298999,7.393321260917483,5.021415010863288,0.05242385906285852,0.17048715975239992,1.2285595307932997,0.12201475646464684],\"type\":\"choropleth\"}],\"name\":\"2021-10-23\"},{\"data\":[{\"coloraxis\":\"coloraxis\",\"geo\":\"geo\",\"hovertemplate\":\"date=2021-11-02<br>Country_code=%{location}<br>pages=%{z}<extra></extra>\",\"locations\":[\"ITA\",\"RUS\",\"CHN\",\"ALB\",\"BGD\",\"BWA\",\"KHM\",\"HRV\",\"GRC\",\"SWE\",\"FIN\",\"NOR\",\"MYS\",\"ISR\",\"LTU\",\"SRB\",\"SVK\",\"SVN\",\"TUR\",\"VNM\",\"BGR\",\"CZE\",\"DNK\",\"GEO\",\"DEU\",\"HUN\",\"ISL\",\"JPN\",\"KAZ\",\"PRK\",\"KGZ\",\"NLD\",\"POL\",\"ROU\",\"TJK\",\"THA\",\"AZE\",\"MNG\"],\"name\":\"\",\"z\":[3.50381257028336,16.80049464321035,0.9868187938487706,7.47044680671875,0.18641153085138462,1.7859990432147985,0.11962458694377781,3.3846549134318917,4.382949820551381,1.6709418954585344,10.362520012955862,0.7807453329553534,2.518074678247215,3.4074508144241515,6.440336543364038,1.2755238851993715,6.594823393377368,18.312239377593144,2.2006408963475965,3.4189936790018813,4.182281117072864,22.668089256746537,1.166099964948407,4.083040446813563,23.063731499397115,3.3332823939408516,3.5474249787836696,3.5640459049112554,0.3838839953750509,1.421785249504695,0.5927141749874618,16.959550497376945,10.071487242299085,3.8322691603072463,0.04193908725028681,0.2535817418165948,1.733854176522802,0.3355405802777788],\"type\":\"choropleth\"}],\"name\":\"2021-11-02\"},{\"data\":[{\"coloraxis\":\"coloraxis\",\"geo\":\"geo\",\"hovertemplate\":\"date=2021-11-12<br>Country_code=%{location}<br>pages=%{z}<extra></extra>\",\"locations\":[\"ITA\",\"RUS\",\"CHN\",\"ALB\",\"BGD\",\"BWA\",\"KHM\",\"HRV\",\"GRC\",\"SWE\",\"FIN\",\"NOR\",\"MYS\",\"ISR\",\"LTU\",\"SRB\",\"SVK\",\"SVN\",\"TUR\",\"VNM\",\"BGR\",\"CZE\",\"DNK\",\"GEO\",\"DEU\",\"HUN\",\"ISL\",\"JPN\",\"KAZ\",\"PRK\",\"KGZ\",\"NLD\",\"POL\",\"ROU\",\"TJK\",\"THA\",\"AZE\",\"MNG\"],\"name\":\"\",\"z\":[3.5694144378978825,13.336976020214289,0.845439727871873,2.043801484857017,0.16151617982562969,0.2551427204592569,0.04186860543032224,4.446991857063799,5.308135390347941,2.00899372401951,10.290181304313938,1.5057231421281816,2.6169438680679646,2.376534166748055,5.7963028890276345,1.3190076540129867,6.631461301118354,17.931725312604197,1.9350463054090934,3.545356726633261,2.4516820341461623,20.90138044457124,2.0406749386597123,2.5787623874611976,31.26229882801492,3.5076387037777574,2.183030756174566,3.215561416431044,0.36255710674310365,1.1652079928098178,0.16717579294518153,25.737465240948314,10.016076911649812,2.819677715510616,0.06290863087543021,0.33237832825677965,0.9313273862465336,0.3355405802777788],\"type\":\"choropleth\"}],\"name\":\"2021-11-12\"},{\"data\":[{\"coloraxis\":\"coloraxis\",\"geo\":\"geo\",\"hovertemplate\":\"date=2021-11-22<br>Country_code=%{location}<br>pages=%{z}<extra></extra>\",\"locations\":[\"ITA\",\"RUS\",\"CHN\",\"ALB\",\"BGD\",\"BWA\",\"KHM\",\"HRV\",\"GRC\",\"SWE\",\"FIN\",\"NOR\",\"MYS\",\"ISR\",\"LTU\",\"SRB\",\"SVK\",\"SVN\",\"TUR\",\"VNM\",\"BGR\",\"CZE\",\"DNK\",\"GEO\",\"DEU\",\"HUN\",\"ISL\",\"JPN\",\"KAZ\",\"PRK\",\"KGZ\",\"NLD\",\"POL\",\"ROU\",\"TJK\",\"THA\",\"AZE\",\"MNG\"],\"name\":\"\",\"z\":[6.12115887818586,12.698411464471528,0.8798809439444406,9.338058508398438,0.23620223290289452,0.2126189337160474,0.0657935228190778,7.559886157008459,7.195887765084357,1.719235013824388,11.357177256782343,0.910869555114579,3.964036579375677,2.984232401167649,7.0843701977004425,1.20305093717668,12.090509554525175,14.649791502074514,2.7899288949924,5.344232307141763,2.6824285785363893,33.75442074478835,3.138180788022919,3.2234529843264967,52.42850330415611,5.958883295014261,2.728788445218208,3.6076064659712817,1.4235698161824806,1.4005645741389532,1.155032751257618,23.507152481151277,13.419854365819532,3.541473668468214,0.09436294631314533,0.3280803326327696,1.1096666729745934,0.5490664040909108],\"type\":\"choropleth\"}],\"name\":\"2021-11-22\"},{\"data\":[{\"coloraxis\":\"coloraxis\",\"geo\":\"geo\",\"hovertemplate\":\"date=2021-12-02<br>Country_code=%{location}<br>pages=%{z}<extra></extra>\",\"locations\":[\"ITA\",\"RUS\",\"CHN\",\"ALB\",\"BGD\",\"BWA\",\"KHM\",\"HRV\",\"GRC\",\"SWE\",\"FIN\",\"NOR\",\"MYS\",\"ISR\",\"LTU\",\"SRB\",\"SVK\",\"SVN\",\"TUR\",\"VNM\",\"BGR\",\"CZE\",\"DNK\",\"GEO\",\"DEU\",\"HUN\",\"ISL\",\"JPN\",\"KAZ\",\"PRK\",\"KGZ\",\"NLD\",\"POL\",\"ROU\",\"TJK\",\"THA\",\"AZE\",\"MNG\"],\"name\":\"\",\"z\":[5.170772847360081,10.50646921769366,0.9578343136560131,8.457109592511793,0.2823497128530744,0.2126189337160474,0.07177475216626669,4.916396553087201,8.223871731524978,2.8396353599121915,16.746411050605808,1.6730257134757576,3.2008900204467667,3.81981747349459,6.189879011122104,1.014621272317682,9.764002412972605,12.985042467747865,2.9333974017047164,3.990195747969744,2.7833801917071135,24.21045409277259,2.7952102100969163,4.754593151881584,33.322161813336464,4.512751548719923,3.5474249787836696,4.14775742311561,0.6344749368004314,1.6339920031621122,0.9726591589537834,16.420606025857868,12.578145057385312,1.921327356793606,0.08387817450057362,0.3968482626169309,1.5456071516431833,0.6100737823232342],\"type\":\"choropleth\"}],\"name\":\"2021-12-02\"},{\"data\":[{\"coloraxis\":\"coloraxis\",\"geo\":\"geo\",\"hovertemplate\":\"date=2021-12-12<br>Country_code=%{location}<br>pages=%{z}<extra></extra>\",\"locations\":[\"ITA\",\"RUS\",\"CHN\",\"ALB\",\"BGD\",\"BWA\",\"KHM\",\"HRV\",\"GRC\",\"SWE\",\"FIN\",\"NOR\",\"MYS\",\"ISR\",\"LTU\",\"SRB\",\"SVK\",\"SVN\",\"TUR\",\"VNM\",\"BGR\",\"CZE\",\"DNK\",\"GEO\",\"DEU\",\"HUN\",\"ISL\",\"JPN\",\"KAZ\",\"PRK\",\"KGZ\",\"NLD\",\"POL\",\"ROU\",\"TJK\",\"THA\",\"AZE\",\"MNG\"],\"name\":\"\",\"z\":[4.4861584853315986,7.057526524774337,0.7903763021756076,8.210443896063532,0.25684715814376446,0.2551427204592569,0.035887376083133346,3.755237568187208,5.579149345136832,1.9703592293268268,13.997540122212632,1.3570097453747811,2.314156974241919,4.069407819774066,6.547675485753438,0.507310636158841,13.647620633517054,10.464136787196082,3.346017569769891,3.4241303882551892,1.8459723551218161,14.526272455663554,3.6011910682230215,3.8412814729890754,26.75296654841434,2.8512384785094054,2.728788445218208,3.3502031506165797,0.5171770493247214,1.2500906942727847,0.5167251781941975,10.325946736232549,11.736435748951095,1.4643630124751266,0.11533248993828873,0.2865330416006721,2.0112708447664502,0.21352582381313198],\"type\":\"choropleth\"}],\"name\":\"2021-12-12\"},{\"data\":[{\"coloraxis\":\"coloraxis\",\"geo\":\"geo\",\"hovertemplate\":\"date=2021-12-22<br>Country_code=%{location}<br>pages=%{z}<extra></extra>\",\"locations\":[\"ITA\",\"RUS\",\"CHN\",\"ALB\",\"BGD\",\"BWA\",\"KHM\",\"HRV\",\"GRC\",\"SWE\",\"FIN\",\"NOR\",\"MYS\",\"ISR\",\"LTU\",\"SRB\",\"SVK\",\"SVN\",\"TUR\",\"VNM\",\"BGR\",\"CZE\",\"DNK\",\"GEO\",\"DEU\",\"HUN\",\"ISL\",\"JPN\",\"KAZ\",\"PRK\",\"KGZ\",\"NLD\",\"POL\",\"ROU\",\"TJK\",\"THA\",\"AZE\",\"MNG\"],\"name\":\"\",\"z\":[5.820063126826897,6.861098514692596,0.8569201332293954,4.721886189152419,0.17123143876250965,0.0,0.1913993391100445,2.7917226658233854,5.822127373568252,3.245297554185362,23.491995631465382,1.2268855232155556,1.473768860765548,5.9359095397771044,5.188048882154364,0.7972024282496072,5.404091391795344,10.416572529072463,4.834058693108378,3.599805844718327,1.9180806502437622,10.375908896902539,7.562501243268344,3.948729905799959,31.793798792703843,2.358938309558141,3.0016672897400283,3.3042665589532794,0.3838839953750509,1.292532045004268,0.4863295794768917,16.455006736805892,10.530601410535931,1.0852903177563882,0.010484771812571703,0.3366763238807897,1.1492976255808287,0.18302213469697026],\"type\":\"choropleth\"}],\"name\":\"2021-12-22\"}]);\n",
       "                        }).then(function(){\n",
       "                            \n",
       "var gd = document.getElementById('6d7c9459-8725-4209-95dd-33046f3bf936');\n",
       "var x = new MutationObserver(function (mutations, observer) {{\n",
       "        var display = window.getComputedStyle(gd).display;\n",
       "        if (!display || display === 'none') {{\n",
       "            console.log([gd, 'removed!']);\n",
       "            Plotly.purge(gd);\n",
       "            observer.disconnect();\n",
       "        }}\n",
       "}});\n",
       "\n",
       "// Listen for the removal of the full notebook cells\n",
       "var notebookContainer = gd.closest('#notebook-container');\n",
       "if (notebookContainer) {{\n",
       "    x.observe(notebookContainer, {childList: true});\n",
       "}}\n",
       "\n",
       "// Listen for the clearing of the current output cell\n",
       "var outputEl = gd.closest('.output');\n",
       "if (outputEl) {{\n",
       "    x.observe(outputEl, {childList: true});\n",
       "}}\n",
       "\n",
       "                        })                };                });            </script>        </div>"
      ]
     },
     "metadata": {},
     "output_type": "display_data"
    }
   ],
   "source": [
    "pageviews = pd.DataFrame({})\n",
    "for country in country_dict.items():\n",
    "    \n",
    "    df = pd.DataFrame(df_pageviews_pearson[country[1]]/float(population_df.loc[country[0]]) * 100000)\n",
    "    df = df.rename(columns = {country[1] : 'pages'})\n",
    "    if (country[0] in list(other_country_name.keys())):\n",
    "        df['Country_code'] = [countries.get(other_country_name[country[0]]).alpha3] * len(df)\n",
    "    else:\n",
    "        df['Country_code'] = [countries.get(country[0]).alpha3] * len(df)\n",
    "        \n",
    "    df['date'] = df.index\n",
    "    #To keep every 10 rows\n",
    "    df = df.iloc[::10,:]\n",
    "    pageviews = pageviews.append(df)\n",
    "\n",
    "fig = px.choropleth(pageviews, locations= \"Country_code\",\n",
    "                    color = pageviews['pages'],\n",
    "                    animation_frame='date',\n",
    "                    color_continuous_midpoint = max(pageviews['pages']/2),\n",
    "color_continuous_scale=px.colors.sequential.thermal_r)\n",
    "\n",
    "fig.update_layout(title={'text':'Number of pageviews',\n",
    "                         'font':{'size':18, 'color':'red'},\n",
    "                         'x':0.5, 'y':1},\n",
    "                  transition = {'duration': 10})\n",
    "\n",
    "fig.layout.updatemenus[0].buttons[0].args[1][\"frame\"][\"duration\"] = 250 # buttons\n",
    "fig.layout.updatemenus[0].buttons[0].args[1][\"transition\"][\"duration\"] = 0\n",
    "fig.layout.updatemenus[0].buttons[1].args[1][\"frame\"][\"duration\"] = 250\n",
    "fig.layout.updatemenus[0].buttons[1].args[1][\"transition\"][\"duration\"] = 0\n",
    "fig.layout.sliders[0].steps[0].args[1][\"frame\"][\"duration\"] = 0 # slider\n",
    "fig.layout.updatemenus[0].buttons[0].args[1][\"visible\"] = False\n",
    "\n",
    "fig.show()"
   ]
  },
  {
   "cell_type": "code",
   "execution_count": 68,
   "metadata": {},
   "outputs": [
    {
     "data": {
      "text/html": [
       "<div>\n",
       "<style scoped>\n",
       "    .dataframe tbody tr th:only-of-type {\n",
       "        vertical-align: middle;\n",
       "    }\n",
       "\n",
       "    .dataframe tbody tr th {\n",
       "        vertical-align: top;\n",
       "    }\n",
       "\n",
       "    .dataframe thead th {\n",
       "        text-align: right;\n",
       "    }\n",
       "</style>\n",
       "<table border=\"1\" class=\"dataframe\">\n",
       "  <thead>\n",
       "    <tr style=\"text-align: right;\">\n",
       "      <th></th>\n",
       "      <th>Pearson correlation</th>\n",
       "      <th>Italy</th>\n",
       "      <th>Russia</th>\n",
       "      <th>China</th>\n",
       "      <th>Albania</th>\n",
       "      <th>Bangladesh</th>\n",
       "      <th>Botswana</th>\n",
       "      <th>Cambodia</th>\n",
       "      <th>Croatia</th>\n",
       "      <th>Greece</th>\n",
       "      <th>...</th>\n",
       "      <th>Kazakhstan</th>\n",
       "      <th>South Korea</th>\n",
       "      <th>Kyrgyzstan</th>\n",
       "      <th>Netherlands</th>\n",
       "      <th>Poland</th>\n",
       "      <th>Romania</th>\n",
       "      <th>Tajikistan</th>\n",
       "      <th>Thailand</th>\n",
       "      <th>Azerbaijan</th>\n",
       "      <th>Mongolia</th>\n",
       "    </tr>\n",
       "  </thead>\n",
       "  <tbody>\n",
       "    <tr>\n",
       "      <th>0</th>\n",
       "      <td>Correlation coefficient:</td>\n",
       "      <td>3.521675e-01</td>\n",
       "      <td>-4.152549e-01</td>\n",
       "      <td>2.524065e-01</td>\n",
       "      <td>4.362506e-01</td>\n",
       "      <td>-1.837249e-01</td>\n",
       "      <td>0.090076</td>\n",
       "      <td>0.038156</td>\n",
       "      <td>-0.178849</td>\n",
       "      <td>-2.323071e-01</td>\n",
       "      <td>...</td>\n",
       "      <td>-0.070473</td>\n",
       "      <td>-0.119840</td>\n",
       "      <td>-0.02383</td>\n",
       "      <td>3.350059e-01</td>\n",
       "      <td>-1.912269e-01</td>\n",
       "      <td>-1.855096e-01</td>\n",
       "      <td>1.931726e-01</td>\n",
       "      <td>-3.206975e-01</td>\n",
       "      <td>-0.031791</td>\n",
       "      <td>-0.049507</td>\n",
       "    </tr>\n",
       "    <tr>\n",
       "      <th>1</th>\n",
       "      <td>P-value:</td>\n",
       "      <td>3.701736e-22</td>\n",
       "      <td>5.717615e-31</td>\n",
       "      <td>8.821325e-12</td>\n",
       "      <td>2.390222e-34</td>\n",
       "      <td>8.269748e-07</td>\n",
       "      <td>0.016359</td>\n",
       "      <td>0.309970</td>\n",
       "      <td>0.000002</td>\n",
       "      <td>3.727934e-10</td>\n",
       "      <td>...</td>\n",
       "      <td>0.060541</td>\n",
       "      <td>0.001378</td>\n",
       "      <td>0.52612</td>\n",
       "      <td>4.421284e-20</td>\n",
       "      <td>2.838458e-07</td>\n",
       "      <td>6.437232e-07</td>\n",
       "      <td>2.135859e-07</td>\n",
       "      <td>1.906605e-18</td>\n",
       "      <td>0.397658</td>\n",
       "      <td>0.187622</td>\n",
       "    </tr>\n",
       "  </tbody>\n",
       "</table>\n",
       "<p>2 rows × 39 columns</p>\n",
       "</div>"
      ],
      "text/plain": [
       "        Pearson correlation         Italy        Russia         China  \\\n",
       "0  Correlation coefficient:  3.521675e-01 -4.152549e-01  2.524065e-01   \n",
       "1                  P-value:  3.701736e-22  5.717615e-31  8.821325e-12   \n",
       "\n",
       "        Albania    Bangladesh  Botswana  Cambodia   Croatia        Greece  \\\n",
       "0  4.362506e-01 -1.837249e-01  0.090076  0.038156 -0.178849 -2.323071e-01   \n",
       "1  2.390222e-34  8.269748e-07  0.016359  0.309970  0.000002  3.727934e-10   \n",
       "\n",
       "   ...  Kazakhstan  South Korea  Kyrgyzstan   Netherlands        Poland  \\\n",
       "0  ...   -0.070473    -0.119840    -0.02383  3.350059e-01 -1.912269e-01   \n",
       "1  ...    0.060541     0.001378     0.52612  4.421284e-20  2.838458e-07   \n",
       "\n",
       "        Romania    Tajikistan      Thailand  Azerbaijan  Mongolia  \n",
       "0 -1.855096e-01  1.931726e-01 -3.206975e-01   -0.031791 -0.049507  \n",
       "1  6.437232e-07  2.135859e-07  1.906605e-18    0.397658  0.187622  \n",
       "\n",
       "[2 rows x 39 columns]"
      ]
     },
     "execution_count": 68,
     "metadata": {},
     "output_type": "execute_result"
    }
   ],
   "source": [
    "pearson_deaths = pd.DataFrame({\"Pearson correlation\":[\"Correlation coefficient:\",\"P-value:\"]})\n",
    "\n",
    "for country in country_dict.items():\n",
    "    corr, p_value = stats.pearsonr(df_pageviews_pearson[country[1]], deaths[country[0]])\n",
    "    output_df = pd.DataFrame({str(country[0]):[corr, p_value] })\n",
    "    pearson_deaths = pd.concat([pearson_deaths, output_df], axis=1)\n",
    "pearson_deaths"
   ]
  },
  {
   "cell_type": "code",
   "execution_count": 81,
   "metadata": {},
   "outputs": [
    {
     "name": "stdout",
     "output_type": "stream",
     "text": [
      "['Italy' 'Russia' 'China' 'Albania' 'Bangladesh' 'Botswana' 'Cambodia'\n",
      " 'Croatia' 'Greece' 'Sweden' 'Finland' 'Norway' 'Malaysia' 'Israel'\n",
      " 'Lithuania' 'Serbia' 'Slovakia' 'Slovenia' 'Turkey' 'Vietnam' 'Bulgaria'\n",
      " 'Czechia' 'Denmark' 'Georgia' 'Germany' 'Hungary' 'Iceland' 'Japan'\n",
      " 'Kazakhstan' 'South Korea' 'Kyrgyzstan' 'Netherlands' 'Poland' 'Romania'\n",
      " 'Tajikistan' 'Thailand' 'Azerbaijan' 'Mongolia']\n",
      "['Europe', 'Europe', 'Asia', 'Europe', 'Asia', 'Africa', 'Asia', 'Europe', 'Europe', 'Europe', 'Europe', 'Europe', 'Asia', 'Asia', 'Europe', 'Europe', 'Europe', 'Europe', 'Asia', 'Asia', 'Europe', 'Europe', 'Europe', 'Asia', 'Europe', 'Europe', 'Europe', 'Asia', 'Asia', 'Asia', 'Asia', 'Europe', 'Europe', 'Europe', 'Asia', 'Asia', 'Asia', 'Asia']\n"
     ]
    }
   ],
   "source": [
    "import pycountry_convert as pc\n",
    "\n",
    "def country_to_continent(country_array):\n",
    "    continent = []\n",
    "    for i in range(len(country_array)):\n",
    "        country_alpha2 = pc.country_name_to_country_alpha2(country_array[i])\n",
    "        country_continent_code = pc.country_alpha2_to_continent_code(country_alpha2)\n",
    "        country_continent_name = pc.convert_continent_code_to_continent_name(country_continent_code)\n",
    "        continent.append(country_continent_name)\n",
    "    return continent"
   ]
  },
  {
   "cell_type": "code",
   "execution_count": 93,
   "metadata": {},
   "outputs": [
    {
     "data": {
      "image/png": "[encoded data removed]",
      "text/plain": [
       "<Figure size 2880x720 with 1 Axes>"
      ]
     },
     "metadata": {
      "needs_background": "light"
     },
     "output_type": "display_data"
    }
   ],
   "source": [
    "pearson_deathsT = pearson_deaths.transpose()\n",
    "pearson_deathsT = pearson_deathsT.drop(index= 'Pearson correlation', axis=0)\n",
    "pearson_deathsT = pearson_deathsT.rename(columns= {0: 'Correlation coefficient', 1: 'P-value'})\n",
    "# create a new figure\n",
    "plt.figure(figsize=(40, 10))\n",
    "\n",
    "# use the scatter() function to plot the points,\n",
    "# with red circles of size 10\n",
    "colors = {'North America':'red', 'Europe':'green', 'Asia':'blue', 'Africa':'red'}\n",
    "plt.bar(pearson_deathsT.index.values, pearson_deathsT['Correlation coefficient'].values, color=[colors[x] for x in country_to_continent(pearson_deathsT.index.values)])\n",
    "\n",
    "# add a title\n",
    "plt.title(\"Scatter Plot pearson death and pageviews\")\n",
    "\n",
    "# add x and y axis labels\n",
    "plt.xlabel(\"Countries\")\n",
    "plt.ylabel(\"Corr coeff (deaths/pageviews)\")\n",
    "\n",
    "# show the plot\n",
    "plt.show()"
   ]
  },
  {
   "cell_type": "code",
   "execution_count": null,
   "metadata": {},
   "outputs": [],
   "source": []
  }
 ],
 "metadata": {
  "kernelspec": {
   "display_name": "Python 3",
   "language": "python",
   "name": "python3"
  },
  "language_info": {
   "codemirror_mode": {
    "name": "ipython",
    "version": 3
   },
   "file_extension": ".py",
   "mimetype": "text/x-python",
   "name": "python",
   "nbconvert_exporter": "python",
   "pygments_lexer": "ipython3",
   "version": "3.8.5"
  }
 },
 "nbformat": 4,
 "nbformat_minor": 4
}
