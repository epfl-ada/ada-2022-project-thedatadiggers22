{
 "cells": [
  {
   "cell_type": "code",
   "execution_count": 4,
   "metadata": {},
   "outputs": [],
   "source": [
    "import pandas as pd\n",
    "import numpy as np\n",
    "import matplotlib.pyplot as plt\n",
    "import seaborn as sn\n",
    "from scipy import stats\n",
    "from helper import *\n",
    "from scipy.stats.mstats import gmean\n",
    "#Importation of all the packages\n",
    "from datetime import datetime\n",
    "import math\n",
    "import json\n",
    "import zipfile  \n",
    "import ssl\n",
    "from scipy import stats\n",
    "from sklearn.cluster import KMeans\n",
    "from sklearn import preprocessing\n",
    "from sklearn import metrics\n",
    "\n",
    "#To dowload data\n",
    "import requests\n",
    "import io\n",
    "import gzip\n",
    "\n",
    "#To create the mapchart\n",
    "import iso3166\n",
    "import plotly\n",
    "from iso3166 import countries\n",
    "import plotly.graph_objects as go\n",
    "import plotly.express as px"
   ]
  },
  {
   "cell_type": "code",
   "execution_count": 23,
   "metadata": {},
   "outputs": [],
   "source": [
    "pageview_df = pd.read_csv(\"page_views_covid_related.csv.gz\")\n",
    "pageview_df_imp_country = pageview_df[[\"date\"] + list(get_country_dict().values())].set_index('date')\n",
    "pageview_df_imp_country.head()\n",
    "country_dict = get_country_dict()\n",
    "inv_country_dict = {v: k for k, v in country_dict.items()}"
   ]
  },
  {
   "cell_type": "code",
   "execution_count": 7,
   "metadata": {},
   "outputs": [],
   "source": [
    "ssl._create_default_https_context = ssl._create_unverified_context\n",
    "death_url = \"https://github.com/owid/covid-19-data/blob/master/public/data/jhu/new_deaths.csv?raw=true\" # Make sure the url is the raw version of the file on GitHub\n",
    "cases_url = \"https://github.com/owid/covid-19-data/blob/master/public/data/jhu/new_cases.csv?raw=true\"\n",
    "\n",
    "# Reading the downloaded content and turning it into a pandas dataframe\n",
    "deaths = pd.read_csv(death_url,index_col=0)\n",
    "cases = pd.read_csv(cases_url,index_col=0)\n",
    "deaths= deaths.interpolate(method ='linear', limit_direction ='forward') \n",
    "cases = cases.interpolate(method ='linear', limit_direction ='forward') \n",
    "deaths = deaths.fillna(0)\n",
    "cases = cases.fillna(0)\n",
    "#Keep only values until July\n",
    "deaths = deaths[deaths.index < '2022-01-01']\n",
    "cases = cases[cases.index < '2022-01-01']"
   ]
  },
  {
   "cell_type": "code",
   "execution_count": 35,
   "metadata": {},
   "outputs": [
    {
     "name": "stderr",
     "output_type": "stream",
     "text": [
      "<ipython-input-35-0dbcafb8cd2d>:10: FutureWarning:\n",
      "\n",
      "The frame.append method is deprecated and will be removed from pandas in a future version. Use pandas.concat instead.\n",
      "\n",
      "<ipython-input-35-0dbcafb8cd2d>:10: FutureWarning:\n",
      "\n",
      "The frame.append method is deprecated and will be removed from pandas in a future version. Use pandas.concat instead.\n",
      "\n",
      "<ipython-input-35-0dbcafb8cd2d>:10: FutureWarning:\n",
      "\n",
      "The frame.append method is deprecated and will be removed from pandas in a future version. Use pandas.concat instead.\n",
      "\n",
      "<ipython-input-35-0dbcafb8cd2d>:10: FutureWarning:\n",
      "\n",
      "The frame.append method is deprecated and will be removed from pandas in a future version. Use pandas.concat instead.\n",
      "\n",
      "<ipython-input-35-0dbcafb8cd2d>:10: FutureWarning:\n",
      "\n",
      "The frame.append method is deprecated and will be removed from pandas in a future version. Use pandas.concat instead.\n",
      "\n",
      "<ipython-input-35-0dbcafb8cd2d>:10: FutureWarning:\n",
      "\n",
      "The frame.append method is deprecated and will be removed from pandas in a future version. Use pandas.concat instead.\n",
      "\n",
      "<ipython-input-35-0dbcafb8cd2d>:10: FutureWarning:\n",
      "\n",
      "The frame.append method is deprecated and will be removed from pandas in a future version. Use pandas.concat instead.\n",
      "\n",
      "<ipython-input-35-0dbcafb8cd2d>:10: FutureWarning:\n",
      "\n",
      "The frame.append method is deprecated and will be removed from pandas in a future version. Use pandas.concat instead.\n",
      "\n",
      "<ipython-input-35-0dbcafb8cd2d>:10: FutureWarning:\n",
      "\n",
      "The frame.append method is deprecated and will be removed from pandas in a future version. Use pandas.concat instead.\n",
      "\n",
      "<ipython-input-35-0dbcafb8cd2d>:10: FutureWarning:\n",
      "\n",
      "The frame.append method is deprecated and will be removed from pandas in a future version. Use pandas.concat instead.\n",
      "\n",
      "<ipython-input-35-0dbcafb8cd2d>:10: FutureWarning:\n",
      "\n",
      "The frame.append method is deprecated and will be removed from pandas in a future version. Use pandas.concat instead.\n",
      "\n",
      "<ipython-input-35-0dbcafb8cd2d>:10: FutureWarning:\n",
      "\n",
      "The frame.append method is deprecated and will be removed from pandas in a future version. Use pandas.concat instead.\n",
      "\n",
      "<ipython-input-35-0dbcafb8cd2d>:10: FutureWarning:\n",
      "\n",
      "The frame.append method is deprecated and will be removed from pandas in a future version. Use pandas.concat instead.\n",
      "\n",
      "<ipython-input-35-0dbcafb8cd2d>:10: FutureWarning:\n",
      "\n",
      "The frame.append method is deprecated and will be removed from pandas in a future version. Use pandas.concat instead.\n",
      "\n",
      "<ipython-input-35-0dbcafb8cd2d>:10: FutureWarning:\n",
      "\n",
      "The frame.append method is deprecated and will be removed from pandas in a future version. Use pandas.concat instead.\n",
      "\n",
      "<ipython-input-35-0dbcafb8cd2d>:10: FutureWarning:\n",
      "\n",
      "The frame.append method is deprecated and will be removed from pandas in a future version. Use pandas.concat instead.\n",
      "\n",
      "<ipython-input-35-0dbcafb8cd2d>:10: FutureWarning:\n",
      "\n",
      "The frame.append method is deprecated and will be removed from pandas in a future version. Use pandas.concat instead.\n",
      "\n",
      "<ipython-input-35-0dbcafb8cd2d>:10: FutureWarning:\n",
      "\n",
      "The frame.append method is deprecated and will be removed from pandas in a future version. Use pandas.concat instead.\n",
      "\n",
      "<ipython-input-35-0dbcafb8cd2d>:10: FutureWarning:\n",
      "\n",
      "The frame.append method is deprecated and will be removed from pandas in a future version. Use pandas.concat instead.\n",
      "\n",
      "<ipython-input-35-0dbcafb8cd2d>:10: FutureWarning:\n",
      "\n",
      "The frame.append method is deprecated and will be removed from pandas in a future version. Use pandas.concat instead.\n",
      "\n",
      "<ipython-input-35-0dbcafb8cd2d>:10: FutureWarning:\n",
      "\n",
      "The frame.append method is deprecated and will be removed from pandas in a future version. Use pandas.concat instead.\n",
      "\n",
      "<ipython-input-35-0dbcafb8cd2d>:10: FutureWarning:\n",
      "\n",
      "The frame.append method is deprecated and will be removed from pandas in a future version. Use pandas.concat instead.\n",
      "\n",
      "<ipython-input-35-0dbcafb8cd2d>:10: FutureWarning:\n",
      "\n",
      "The frame.append method is deprecated and will be removed from pandas in a future version. Use pandas.concat instead.\n",
      "\n",
      "<ipython-input-35-0dbcafb8cd2d>:10: FutureWarning:\n",
      "\n",
      "The frame.append method is deprecated and will be removed from pandas in a future version. Use pandas.concat instead.\n",
      "\n",
      "<ipython-input-35-0dbcafb8cd2d>:10: FutureWarning:\n",
      "\n",
      "The frame.append method is deprecated and will be removed from pandas in a future version. Use pandas.concat instead.\n",
      "\n",
      "<ipython-input-35-0dbcafb8cd2d>:10: FutureWarning:\n",
      "\n",
      "The frame.append method is deprecated and will be removed from pandas in a future version. Use pandas.concat instead.\n",
      "\n",
      "<ipython-input-35-0dbcafb8cd2d>:10: FutureWarning:\n",
      "\n",
      "The frame.append method is deprecated and will be removed from pandas in a future version. Use pandas.concat instead.\n",
      "\n",
      "<ipython-input-35-0dbcafb8cd2d>:10: FutureWarning:\n",
      "\n",
      "The frame.append method is deprecated and will be removed from pandas in a future version. Use pandas.concat instead.\n",
      "\n",
      "<ipython-input-35-0dbcafb8cd2d>:10: FutureWarning:\n",
      "\n",
      "The frame.append method is deprecated and will be removed from pandas in a future version. Use pandas.concat instead.\n",
      "\n",
      "<ipython-input-35-0dbcafb8cd2d>:10: FutureWarning:\n",
      "\n",
      "The frame.append method is deprecated and will be removed from pandas in a future version. Use pandas.concat instead.\n",
      "\n",
      "<ipython-input-35-0dbcafb8cd2d>:10: FutureWarning:\n",
      "\n",
      "The frame.append method is deprecated and will be removed from pandas in a future version. Use pandas.concat instead.\n",
      "\n",
      "<ipython-input-35-0dbcafb8cd2d>:10: FutureWarning:\n",
      "\n",
      "The frame.append method is deprecated and will be removed from pandas in a future version. Use pandas.concat instead.\n",
      "\n",
      "<ipython-input-35-0dbcafb8cd2d>:10: FutureWarning:\n",
      "\n",
      "The frame.append method is deprecated and will be removed from pandas in a future version. Use pandas.concat instead.\n",
      "\n",
      "<ipython-input-35-0dbcafb8cd2d>:10: FutureWarning:\n",
      "\n",
      "The frame.append method is deprecated and will be removed from pandas in a future version. Use pandas.concat instead.\n",
      "\n"
     ]
    },
    {
     "name": "stdout",
     "output_type": "stream",
     "text": [
      "            deaths Country_code        date\n",
      "date                                       \n",
      "2020-01-22     0.0          ITA  2020-01-22\n",
      "2020-02-01     0.0          ITA  2020-02-01\n",
      "2020-02-11     0.0          ITA  2020-02-11\n",
      "2020-02-21     1.0          ITA  2020-02-21\n",
      "2020-03-02    18.0          ITA  2020-03-02\n",
      "...            ...          ...         ...\n",
      "2021-11-12     9.0          MNG  2021-11-12\n",
      "2021-11-22     8.0          MNG  2021-11-22\n",
      "2021-12-02     3.0          MNG  2021-12-02\n",
      "2021-12-12     5.0          MNG  2021-12-12\n",
      "2021-12-22     3.0          MNG  2021-12-22\n",
      "\n",
      "[2414 rows x 3 columns]\n"
     ]
    },
    {
     "data": {
      "application/vnd.plotly.v1+json": {
       "config": {
        "plotlyServerURL": "https://plot.ly"
       },
       "data": [
        {
         "coloraxis": "coloraxis",
         "geo": "geo",
         "hovertemplate": "date=2020-01-22<br>Country_code=%{location}<br>deaths=%{z}<extra></extra>",
         "locations": [
          "ITA",
          "CHN",
          "ALB",
          "BGD",
          "BWA",
          "KHM",
          "HRV",
          "GRC",
          "SWE",
          "FIN",
          "NOR",
          "MYS",
          "ISR",
          "LTU",
          "SRB",
          "SVK",
          "SVN",
          "BGR",
          "CZE",
          "DNK",
          "GEO",
          "DEU",
          "HUN",
          "ISL",
          "JPN",
          "KAZ",
          "KGZ",
          "NLD",
          "POL",
          "ROU",
          "TJK",
          "THA",
          "AZE",
          "MNG"
         ],
         "name": "",
         "type": "choropleth",
         "z": [
          0,
          0,
          0,
          0,
          0,
          0,
          0,
          0,
          0,
          0,
          0,
          0,
          0,
          0,
          0,
          0,
          0,
          0,
          0,
          0,
          0,
          0,
          0,
          0,
          0,
          0,
          0,
          0,
          0,
          0,
          0,
          0,
          0,
          0
         ]
        }
       ],
       "frames": [
        {
         "data": [
          {
           "coloraxis": "coloraxis",
           "geo": "geo",
           "hovertemplate": "date=2020-01-22<br>Country_code=%{location}<br>deaths=%{z}<extra></extra>",
           "locations": [
            "ITA",
            "CHN",
            "ALB",
            "BGD",
            "BWA",
            "KHM",
            "HRV",
            "GRC",
            "SWE",
            "FIN",
            "NOR",
            "MYS",
            "ISR",
            "LTU",
            "SRB",
            "SVK",
            "SVN",
            "BGR",
            "CZE",
            "DNK",
            "GEO",
            "DEU",
            "HUN",
            "ISL",
            "JPN",
            "KAZ",
            "KGZ",
            "NLD",
            "POL",
            "ROU",
            "TJK",
            "THA",
            "AZE",
            "MNG"
           ],
           "name": "",
           "type": "choropleth",
           "z": [
            0,
            0,
            0,
            0,
            0,
            0,
            0,
            0,
            0,
            0,
            0,
            0,
            0,
            0,
            0,
            0,
            0,
            0,
            0,
            0,
            0,
            0,
            0,
            0,
            0,
            0,
            0,
            0,
            0,
            0,
            0,
            0,
            0,
            0
           ]
          }
         ],
         "name": "2020-01-22"
        },
        {
         "data": [
          {
           "coloraxis": "coloraxis",
           "geo": "geo",
           "hovertemplate": "date=2020-02-01<br>Country_code=%{location}<br>deaths=%{z}<extra></extra>",
           "locations": [
            "ITA",
            "CHN",
            "ALB",
            "BGD",
            "BWA",
            "KHM",
            "HRV",
            "GRC",
            "SWE",
            "FIN",
            "NOR",
            "MYS",
            "ISR",
            "LTU",
            "SRB",
            "SVK",
            "SVN",
            "BGR",
            "CZE",
            "DNK",
            "GEO",
            "DEU",
            "HUN",
            "ISL",
            "JPN",
            "KAZ",
            "KGZ",
            "NLD",
            "POL",
            "ROU",
            "TJK",
            "THA",
            "AZE",
            "MNG"
           ],
           "name": "",
           "type": "choropleth",
           "z": [
            0,
            46,
            0,
            0,
            0,
            0,
            0,
            0,
            0,
            0,
            0,
            0,
            0,
            0,
            0,
            0,
            0,
            0,
            0,
            0,
            0,
            0,
            0,
            0,
            0,
            0,
            0,
            0,
            0,
            0,
            0,
            0,
            0,
            0
           ]
          }
         ],
         "name": "2020-02-01"
        },
        {
         "data": [
          {
           "coloraxis": "coloraxis",
           "geo": "geo",
           "hovertemplate": "date=2020-02-11<br>Country_code=%{location}<br>deaths=%{z}<extra></extra>",
           "locations": [
            "ITA",
            "CHN",
            "ALB",
            "BGD",
            "BWA",
            "KHM",
            "HRV",
            "GRC",
            "SWE",
            "FIN",
            "NOR",
            "MYS",
            "ISR",
            "LTU",
            "SRB",
            "SVK",
            "SVN",
            "BGR",
            "CZE",
            "DNK",
            "GEO",
            "DEU",
            "HUN",
            "ISL",
            "JPN",
            "KAZ",
            "KGZ",
            "NLD",
            "POL",
            "ROU",
            "TJK",
            "THA",
            "AZE",
            "MNG"
           ],
           "name": "",
           "type": "choropleth",
           "z": [
            0,
            100,
            0,
            0,
            0,
            0,
            0,
            0,
            0,
            0,
            0,
            0,
            0,
            0,
            0,
            0,
            0,
            0,
            0,
            0,
            0,
            0,
            0,
            0,
            0,
            0,
            0,
            0,
            0,
            0,
            0,
            0,
            0,
            0
           ]
          }
         ],
         "name": "2020-02-11"
        },
        {
         "data": [
          {
           "coloraxis": "coloraxis",
           "geo": "geo",
           "hovertemplate": "date=2020-02-21<br>Country_code=%{location}<br>deaths=%{z}<extra></extra>",
           "locations": [
            "ITA",
            "CHN",
            "ALB",
            "BGD",
            "BWA",
            "KHM",
            "HRV",
            "GRC",
            "SWE",
            "FIN",
            "NOR",
            "MYS",
            "ISR",
            "LTU",
            "SRB",
            "SVK",
            "SVN",
            "BGR",
            "CZE",
            "DNK",
            "GEO",
            "DEU",
            "HUN",
            "ISL",
            "JPN",
            "KAZ",
            "KGZ",
            "NLD",
            "POL",
            "ROU",
            "TJK",
            "THA",
            "AZE",
            "MNG"
           ],
           "name": "",
           "type": "choropleth",
           "z": [
            1,
            0,
            0,
            0,
            0,
            0,
            0,
            0,
            0,
            0,
            0,
            0,
            0,
            0,
            0,
            0,
            0,
            0,
            0,
            0,
            0,
            0,
            0,
            0,
            0,
            0,
            0,
            0,
            0,
            0,
            0,
            0,
            0,
            0
           ]
          }
         ],
         "name": "2020-02-21"
        },
        {
         "data": [
          {
           "coloraxis": "coloraxis",
           "geo": "geo",
           "hovertemplate": "date=2020-03-02<br>Country_code=%{location}<br>deaths=%{z}<extra></extra>",
           "locations": [
            "ITA",
            "CHN",
            "ALB",
            "BGD",
            "BWA",
            "KHM",
            "HRV",
            "GRC",
            "SWE",
            "FIN",
            "NOR",
            "MYS",
            "ISR",
            "LTU",
            "SRB",
            "SVK",
            "SVN",
            "BGR",
            "CZE",
            "DNK",
            "GEO",
            "DEU",
            "HUN",
            "ISL",
            "JPN",
            "KAZ",
            "KGZ",
            "NLD",
            "POL",
            "ROU",
            "TJK",
            "THA",
            "AZE",
            "MNG"
           ],
           "name": "",
           "type": "choropleth",
           "z": [
            18,
            42,
            0,
            0,
            0,
            0,
            0,
            0,
            0,
            0,
            0,
            0,
            0,
            0,
            0,
            0,
            0,
            0,
            0,
            0,
            0,
            0,
            0,
            0,
            0,
            0,
            0,
            0,
            0,
            0,
            0,
            0,
            0,
            0
           ]
          }
         ],
         "name": "2020-03-02"
        },
        {
         "data": [
          {
           "coloraxis": "coloraxis",
           "geo": "geo",
           "hovertemplate": "date=2020-03-12<br>Country_code=%{location}<br>deaths=%{z}<extra></extra>",
           "locations": [
            "ITA",
            "CHN",
            "ALB",
            "BGD",
            "BWA",
            "KHM",
            "HRV",
            "GRC",
            "SWE",
            "FIN",
            "NOR",
            "MYS",
            "ISR",
            "LTU",
            "SRB",
            "SVK",
            "SVN",
            "BGR",
            "CZE",
            "DNK",
            "GEO",
            "DEU",
            "HUN",
            "ISL",
            "JPN",
            "KAZ",
            "KGZ",
            "NLD",
            "POL",
            "ROU",
            "TJK",
            "THA",
            "AZE",
            "MNG"
           ],
           "name": "",
           "type": "choropleth",
           "z": [
            189,
            11,
            0,
            0,
            0,
            0,
            0,
            0,
            1,
            0,
            0,
            0,
            0,
            0,
            0,
            0,
            0,
            0,
            0,
            0,
            0,
            2,
            0,
            0,
            4,
            0,
            0,
            0,
            1,
            0,
            0,
            0,
            0,
            0
           ]
          }
         ],
         "name": "2020-03-12"
        },
        {
         "data": [
          {
           "coloraxis": "coloraxis",
           "geo": "geo",
           "hovertemplate": "date=2020-03-22<br>Country_code=%{location}<br>deaths=%{z}<extra></extra>",
           "locations": [
            "ITA",
            "CHN",
            "ALB",
            "BGD",
            "BWA",
            "KHM",
            "HRV",
            "GRC",
            "SWE",
            "FIN",
            "NOR",
            "MYS",
            "ISR",
            "LTU",
            "SRB",
            "SVK",
            "SVN",
            "BGR",
            "CZE",
            "DNK",
            "GEO",
            "DEU",
            "HUN",
            "ISL",
            "JPN",
            "KAZ",
            "KGZ",
            "NLD",
            "POL",
            "ROU",
            "TJK",
            "THA",
            "AZE",
            "MNG"
           ],
           "name": "",
           "type": "choropleth",
           "z": [
            651,
            15,
            0,
            0,
            0,
            0,
            0,
            2,
            11,
            2,
            0,
            4,
            0,
            0,
            1,
            0,
            1,
            0,
            1,
            0,
            0,
            8,
            2,
            0,
            4,
            0,
            0,
            43,
            2,
            3,
            0,
            0,
            0,
            0
           ]
          }
         ],
         "name": "2020-03-22"
        },
        {
         "data": [
          {
           "coloraxis": "coloraxis",
           "geo": "geo",
           "hovertemplate": "date=2020-04-01<br>Country_code=%{location}<br>deaths=%{z}<extra></extra>",
           "locations": [
            "ITA",
            "CHN",
            "ALB",
            "BGD",
            "BWA",
            "KHM",
            "HRV",
            "GRC",
            "SWE",
            "FIN",
            "NOR",
            "MYS",
            "ISR",
            "LTU",
            "SRB",
            "SVK",
            "SVN",
            "BGR",
            "CZE",
            "DNK",
            "GEO",
            "DEU",
            "HUN",
            "ISL",
            "JPN",
            "KAZ",
            "KGZ",
            "NLD",
            "POL",
            "ROU",
            "TJK",
            "THA",
            "AZE",
            "MNG"
           ],
           "name": "",
           "type": "choropleth",
           "z": [
            727,
            9,
            0,
            1,
            0,
            0,
            0,
            0,
            70,
            7,
            5,
            2,
            8,
            2,
            12,
            1,
            0,
            2,
            8,
            14,
            0,
            149,
            4,
            0,
            5,
            1,
            0,
            135,
            10,
            10,
            0,
            2,
            0,
            0
           ]
          }
         ],
         "name": "2020-04-01"
        },
        {
         "data": [
          {
           "coloraxis": "coloraxis",
           "geo": "geo",
           "hovertemplate": "date=2020-04-11<br>Country_code=%{location}<br>deaths=%{z}<extra></extra>",
           "locations": [
            "ITA",
            "CHN",
            "ALB",
            "BGD",
            "BWA",
            "KHM",
            "HRV",
            "GRC",
            "SWE",
            "FIN",
            "NOR",
            "MYS",
            "ISR",
            "LTU",
            "SRB",
            "SVK",
            "SVN",
            "BGR",
            "CZE",
            "DNK",
            "GEO",
            "DEU",
            "HUN",
            "ISL",
            "JPN",
            "KAZ",
            "KGZ",
            "NLD",
            "POL",
            "ROU",
            "TJK",
            "THA",
            "AZE",
            "MNG"
           ],
           "name": "",
           "type": "choropleth",
           "z": [
            619,
            6,
            0,
            3,
            0,
            0,
            0,
            3,
            17,
            3,
            6,
            3,
            6,
            1,
            3,
            0,
            5,
            3,
            10,
            13,
            0,
            171,
            8,
            1,
            13,
            0,
            0,
            133,
            27,
            21,
            0,
            2,
            1,
            0
           ]
          }
         ],
         "name": "2020-04-11"
        },
        {
         "data": [
          {
           "coloraxis": "coloraxis",
           "geo": "geo",
           "hovertemplate": "date=2020-04-21<br>Country_code=%{location}<br>deaths=%{z}<extra></extra>",
           "locations": [
            "ITA",
            "CHN",
            "ALB",
            "BGD",
            "BWA",
            "KHM",
            "HRV",
            "GRC",
            "SWE",
            "FIN",
            "NOR",
            "MYS",
            "ISR",
            "LTU",
            "SRB",
            "SVK",
            "SVN",
            "BGR",
            "CZE",
            "DNK",
            "GEO",
            "DEU",
            "HUN",
            "ISL",
            "JPN",
            "KAZ",
            "KGZ",
            "NLD",
            "POL",
            "ROU",
            "TJK",
            "THA",
            "AZE",
            "MNG"
           ],
           "name": "",
           "type": "choropleth",
           "z": [
            534,
            3,
            0,
            9,
            0,
            0,
            1,
            5,
            185,
            17,
            1,
            2,
            9,
            0,
            5,
            1,
            0,
            2,
            7,
            6,
            0,
            194,
            14,
            0,
            28,
            0,
            0,
            165,
            21,
            20,
            0,
            2,
            1,
            0
           ]
          }
         ],
         "name": "2020-04-21"
        },
        {
         "data": [
          {
           "coloraxis": "coloraxis",
           "geo": "geo",
           "hovertemplate": "date=2020-05-01<br>Country_code=%{location}<br>deaths=%{z}<extra></extra>",
           "locations": [
            "ITA",
            "CHN",
            "ALB",
            "BGD",
            "BWA",
            "KHM",
            "HRV",
            "GRC",
            "SWE",
            "FIN",
            "NOR",
            "MYS",
            "ISR",
            "LTU",
            "SRB",
            "SVK",
            "SVN",
            "BGR",
            "CZE",
            "DNK",
            "GEO",
            "DEU",
            "HUN",
            "ISL",
            "JPN",
            "KAZ",
            "KGZ",
            "NLD",
            "POL",
            "ROU",
            "TJK",
            "THA",
            "AZE",
            "MNG"
           ],
           "name": "",
           "type": "choropleth",
           "z": [
            269,
            1,
            0,
            2,
            0,
            0,
            6,
            0,
            67,
            4,
            0,
            0,
            4,
            0,
            0,
            0,
            1,
            2,
            4,
            8,
            0,
            193,
            11,
            0,
            29,
            0,
            0,
            98,
            7,
            27,
            0,
            0,
            1,
            0
           ]
          }
         ],
         "name": "2020-05-01"
        },
        {
         "data": [
          {
           "coloraxis": "coloraxis",
           "geo": "geo",
           "hovertemplate": "date=2020-05-11<br>Country_code=%{location}<br>deaths=%{z}<extra></extra>",
           "locations": [
            "ITA",
            "CHN",
            "ALB",
            "BGD",
            "BWA",
            "KHM",
            "HRV",
            "GRC",
            "SWE",
            "FIN",
            "NOR",
            "MYS",
            "ISR",
            "LTU",
            "SRB",
            "SVK",
            "SVN",
            "BGR",
            "CZE",
            "DNK",
            "GEO",
            "DEU",
            "HUN",
            "ISL",
            "JPN",
            "KAZ",
            "KGZ",
            "NLD",
            "POL",
            "ROU",
            "TJK",
            "THA",
            "AZE",
            "MNG"
           ],
           "name": "",
           "type": "choropleth",
           "z": [
            179,
            1,
            0,
            11,
            0,
            0,
            1,
            0,
            31,
            0,
            5,
            0,
            5,
            0,
            3,
            0,
            0,
            2,
            2,
            4,
            0,
            22,
            8,
            0,
            19,
            1,
            0,
            16,
            11,
            21,
            1,
            0,
            0,
            0
           ]
          }
         ],
         "name": "2020-05-11"
        },
        {
         "data": [
          {
           "coloraxis": "coloraxis",
           "geo": "geo",
           "hovertemplate": "date=2020-05-21<br>Country_code=%{location}<br>deaths=%{z}<extra></extra>",
           "locations": [
            "ITA",
            "CHN",
            "ALB",
            "BGD",
            "BWA",
            "KHM",
            "HRV",
            "GRC",
            "SWE",
            "FIN",
            "NOR",
            "MYS",
            "ISR",
            "LTU",
            "SRB",
            "SVK",
            "SVN",
            "BGR",
            "CZE",
            "DNK",
            "GEO",
            "DEU",
            "HUN",
            "ISL",
            "JPN",
            "KAZ",
            "KGZ",
            "NLD",
            "POL",
            "ROU",
            "TJK",
            "THA",
            "AZE",
            "MNG"
           ],
           "name": "",
           "type": "choropleth",
           "z": [
            156,
            0,
            0,
            22,
            0,
            0,
            1,
            2,
            40,
            1,
            1,
            1,
            0,
            0,
            2,
            0,
            1,
            4,
            2,
            7,
            0,
            57,
            3,
            0,
            8,
            0,
            0,
            27,
            10,
            9,
            0,
            0,
            1,
            0
           ]
          }
         ],
         "name": "2020-05-21"
        },
        {
         "data": [
          {
           "coloraxis": "coloraxis",
           "geo": "geo",
           "hovertemplate": "date=2020-05-31<br>Country_code=%{location}<br>deaths=%{z}<extra></extra>",
           "locations": [
            "ITA",
            "CHN",
            "ALB",
            "BGD",
            "BWA",
            "KHM",
            "HRV",
            "GRC",
            "SWE",
            "FIN",
            "NOR",
            "MYS",
            "ISR",
            "LTU",
            "SRB",
            "SVK",
            "SVN",
            "BGR",
            "CZE",
            "DNK",
            "GEO",
            "DEU",
            "HUN",
            "ISL",
            "JPN",
            "KAZ",
            "KGZ",
            "NLD",
            "POL",
            "ROU",
            "TJK",
            "THA",
            "AZE",
            "MNG"
           ],
           "name": "",
           "type": "choropleth",
           "z": [
            75,
            0,
            0,
            40,
            0,
            0,
            0,
            0,
            0,
            0,
            0,
            0,
            0,
            0,
            1,
            0,
            0,
            1,
            1,
            3,
            0,
            11,
            2,
            0,
            3,
            3,
            0,
            5,
            3,
            7,
            0,
            0,
            2,
            0
           ]
          }
         ],
         "name": "2020-05-31"
        },
        {
         "data": [
          {
           "coloraxis": "coloraxis",
           "geo": "geo",
           "hovertemplate": "date=2020-06-10<br>Country_code=%{location}<br>deaths=%{z}<extra></extra>",
           "locations": [
            "ITA",
            "CHN",
            "ALB",
            "BGD",
            "BWA",
            "KHM",
            "HRV",
            "GRC",
            "SWE",
            "FIN",
            "NOR",
            "MYS",
            "ISR",
            "LTU",
            "SRB",
            "SVK",
            "SVN",
            "BGR",
            "CZE",
            "DNK",
            "GEO",
            "DEU",
            "HUN",
            "ISL",
            "JPN",
            "KAZ",
            "KGZ",
            "NLD",
            "POL",
            "ROU",
            "TJK",
            "THA",
            "AZE",
            "MNG"
           ],
           "name": "",
           "type": "choropleth",
           "z": [
            71,
            0,
            0,
            37,
            0,
            0,
            0,
            0,
            78,
            0,
            0,
            1,
            1,
            0,
            1,
            0,
            0,
            0,
            2,
            0,
            0,
            18,
            1,
            0,
            2,
            6,
            2,
            11,
            23,
            6,
            0,
            0,
            4,
            0
           ]
          }
         ],
         "name": "2020-06-10"
        },
        {
         "data": [
          {
           "coloraxis": "coloraxis",
           "geo": "geo",
           "hovertemplate": "date=2020-06-20<br>Country_code=%{location}<br>deaths=%{z}<extra></extra>",
           "locations": [
            "ITA",
            "CHN",
            "ALB",
            "BGD",
            "BWA",
            "KHM",
            "HRV",
            "GRC",
            "SWE",
            "FIN",
            "NOR",
            "MYS",
            "ISR",
            "LTU",
            "SRB",
            "SVK",
            "SVN",
            "BGR",
            "CZE",
            "DNK",
            "GEO",
            "DEU",
            "HUN",
            "ISL",
            "JPN",
            "KAZ",
            "KGZ",
            "NLD",
            "POL",
            "ROU",
            "TJK",
            "THA",
            "AZE",
            "MNG"
           ],
           "name": "",
           "type": "choropleth",
           "z": [
            49,
            0,
            1,
            37,
            0,
            0,
            0,
            1,
            0,
            0,
            0,
            0,
            1,
            0,
            1,
            0,
            0,
            6,
            1,
            0,
            0,
            11,
            2,
            0,
            0,
            5,
            3,
            8,
            12,
            16,
            0,
            0,
            5,
            0
           ]
          }
         ],
         "name": "2020-06-20"
        },
        {
         "data": [
          {
           "coloraxis": "coloraxis",
           "geo": "geo",
           "hovertemplate": "date=2020-06-30<br>Country_code=%{location}<br>deaths=%{z}<extra></extra>",
           "locations": [
            "ITA",
            "CHN",
            "ALB",
            "BGD",
            "BWA",
            "KHM",
            "HRV",
            "GRC",
            "SWE",
            "FIN",
            "NOR",
            "MYS",
            "ISR",
            "LTU",
            "SRB",
            "SVK",
            "SVN",
            "BGR",
            "CZE",
            "DNK",
            "GEO",
            "DEU",
            "HUN",
            "ISL",
            "JPN",
            "KAZ",
            "KGZ",
            "NLD",
            "POL",
            "ROU",
            "TJK",
            "THA",
            "AZE",
            "MNG"
           ],
           "name": "",
           "type": "choropleth",
           "z": [
            23,
            0,
            4,
            64,
            0,
            0,
            0,
            1,
            53,
            1,
            1,
            0,
            1,
            0,
            3,
            0,
            0,
            7,
            1,
            0,
            0,
            12,
            0,
            0,
            0,
            0,
            4,
            6,
            19,
            17,
            0,
            0,
            7,
            0
           ]
          }
         ],
         "name": "2020-06-30"
        },
        {
         "data": [
          {
           "coloraxis": "coloraxis",
           "geo": "geo",
           "hovertemplate": "date=2020-07-10<br>Country_code=%{location}<br>deaths=%{z}<extra></extra>",
           "locations": [
            "ITA",
            "CHN",
            "ALB",
            "BGD",
            "BWA",
            "KHM",
            "HRV",
            "GRC",
            "SWE",
            "FIN",
            "NOR",
            "MYS",
            "ISR",
            "LTU",
            "SRB",
            "SVK",
            "SVN",
            "BGR",
            "CZE",
            "DNK",
            "GEO",
            "DEU",
            "HUN",
            "ISL",
            "JPN",
            "KAZ",
            "KGZ",
            "NLD",
            "POL",
            "ROU",
            "TJK",
            "THA",
            "AZE",
            "MNG"
           ],
           "name": "",
           "type": "choropleth",
           "z": [
            12,
            0,
            2,
            37,
            0,
            0,
            2,
            0,
            26,
            0,
            0,
            1,
            4,
            0,
            18,
            0,
            0,
            5,
            0,
            0,
            0,
            6,
            2,
            0,
            0,
            19,
            3,
            1.5,
            11,
            13,
            0,
            0,
            8,
            0
           ]
          }
         ],
         "name": "2020-07-10"
        },
        {
         "data": [
          {
           "coloraxis": "coloraxis",
           "geo": "geo",
           "hovertemplate": "date=2020-07-20<br>Country_code=%{location}<br>deaths=%{z}<extra></extra>",
           "locations": [
            "ITA",
            "CHN",
            "ALB",
            "BGD",
            "BWA",
            "KHM",
            "HRV",
            "GRC",
            "SWE",
            "FIN",
            "NOR",
            "MYS",
            "ISR",
            "LTU",
            "SRB",
            "SVK",
            "SVN",
            "BGR",
            "CZE",
            "DNK",
            "GEO",
            "DEU",
            "HUN",
            "ISL",
            "JPN",
            "KAZ",
            "KGZ",
            "NLD",
            "POL",
            "ROU",
            "TJK",
            "THA",
            "AZE",
            "MNG"
           ],
           "name": "",
           "type": "choropleth",
           "z": [
            13,
            0,
            1,
            50,
            0,
            0,
            2,
            1,
            0,
            0,
            0,
            0,
            12,
            0,
            10,
            0,
            1,
            8,
            0,
            0,
            0,
            2,
            0,
            0,
            2,
            0,
            0,
            0,
            3,
            12,
            0,
            0,
            9,
            0
           ]
          }
         ],
         "name": "2020-07-20"
        },
        {
         "data": [
          {
           "coloraxis": "coloraxis",
           "geo": "geo",
           "hovertemplate": "date=2020-07-30<br>Country_code=%{location}<br>deaths=%{z}<extra></extra>",
           "locations": [
            "ITA",
            "CHN",
            "ALB",
            "BGD",
            "BWA",
            "KHM",
            "HRV",
            "GRC",
            "SWE",
            "FIN",
            "NOR",
            "MYS",
            "ISR",
            "LTU",
            "SRB",
            "SVK",
            "SVN",
            "BGR",
            "CZE",
            "DNK",
            "GEO",
            "DEU",
            "HUN",
            "ISL",
            "JPN",
            "KAZ",
            "KGZ",
            "NLD",
            "POL",
            "ROU",
            "TJK",
            "THA",
            "AZE",
            "MNG"
           ],
           "name": "",
           "type": "choropleth",
           "z": [
            3,
            0,
            4,
            48,
            0,
            0,
            3,
            0,
            9,
            1,
            0,
            0,
            15,
            0,
            7,
            0,
            0,
            6,
            5,
            1,
            1,
            6,
            0,
            0,
            1,
            0,
            17,
            0,
            15,
            35,
            0,
            0,
            3,
            0
           ]
          }
         ],
         "name": "2020-07-30"
        },
        {
         "data": [
          {
           "coloraxis": "coloraxis",
           "geo": "geo",
           "hovertemplate": "date=2020-08-09<br>Country_code=%{location}<br>deaths=%{z}<extra></extra>",
           "locations": [
            "ITA",
            "CHN",
            "ALB",
            "BGD",
            "BWA",
            "KHM",
            "HRV",
            "GRC",
            "SWE",
            "FIN",
            "NOR",
            "MYS",
            "ISR",
            "LTU",
            "SRB",
            "SVK",
            "SVN",
            "BGR",
            "CZE",
            "DNK",
            "GEO",
            "DEU",
            "HUN",
            "ISL",
            "JPN",
            "KAZ",
            "KGZ",
            "NLD",
            "POL",
            "ROU",
            "TJK",
            "THA",
            "AZE",
            "MNG"
           ],
           "name": "",
           "type": "choropleth",
           "z": [
            2,
            0,
            6,
            34,
            0,
            0,
            0,
            1,
            0,
            0,
            0,
            0,
            7,
            0,
            9,
            0,
            1,
            2,
            1,
            0,
            0,
            1,
            0,
            0,
            5,
            324,
            9,
            0,
            7,
            41,
            0,
            0,
            2,
            0
           ]
          }
         ],
         "name": "2020-08-09"
        },
        {
         "data": [
          {
           "coloraxis": "coloraxis",
           "geo": "geo",
           "hovertemplate": "date=2020-08-19<br>Country_code=%{location}<br>deaths=%{z}<extra></extra>",
           "locations": [
            "ITA",
            "CHN",
            "ALB",
            "BGD",
            "BWA",
            "KHM",
            "HRV",
            "GRC",
            "SWE",
            "FIN",
            "NOR",
            "MYS",
            "ISR",
            "LTU",
            "SRB",
            "SVK",
            "SVN",
            "BGR",
            "CZE",
            "DNK",
            "GEO",
            "DEU",
            "HUN",
            "ISL",
            "JPN",
            "KAZ",
            "KGZ",
            "NLD",
            "POL",
            "ROU",
            "TJK",
            "THA",
            "AZE",
            "MNG"
           ],
           "name": "",
           "type": "choropleth",
           "z": [
            7,
            0,
            2,
            41,
            0,
            0,
            2,
            3,
            12,
            0,
            0,
            0,
            12,
            0,
            3,
            2,
            0,
            8,
            3,
            0,
            0,
            7,
            0,
            0,
            14,
            0,
            0,
            6,
            17,
            32,
            1,
            0,
            1,
            0
           ]
          }
         ],
         "name": "2020-08-19"
        },
        {
         "data": [
          {
           "coloraxis": "coloraxis",
           "geo": "geo",
           "hovertemplate": "date=2020-08-29<br>Country_code=%{location}<br>deaths=%{z}<extra></extra>",
           "locations": [
            "ITA",
            "CHN",
            "ALB",
            "BGD",
            "BWA",
            "KHM",
            "HRV",
            "GRC",
            "SWE",
            "FIN",
            "NOR",
            "MYS",
            "ISR",
            "LTU",
            "SRB",
            "SVK",
            "SVN",
            "BGR",
            "CZE",
            "DNK",
            "GEO",
            "DEU",
            "HUN",
            "ISL",
            "JPN",
            "KAZ",
            "KGZ",
            "NLD",
            "POL",
            "ROU",
            "TJK",
            "THA",
            "AZE",
            "MNG"
           ],
           "name": "",
           "type": "choropleth",
           "z": [
            1,
            0,
            4,
            32,
            0,
            0,
            3,
            1,
            0,
            0,
            0,
            1,
            5,
            0,
            1,
            0,
            0,
            2,
            2,
            0,
            0,
            1,
            0,
            0,
            11,
            0,
            0,
            4,
            14,
            32,
            0,
            0,
            2,
            0
           ]
          }
         ],
         "name": "2020-08-29"
        },
        {
         "data": [
          {
           "coloraxis": "coloraxis",
           "geo": "geo",
           "hovertemplate": "date=2020-09-08<br>Country_code=%{location}<br>deaths=%{z}<extra></extra>",
           "locations": [
            "ITA",
            "CHN",
            "ALB",
            "BGD",
            "BWA",
            "KHM",
            "HRV",
            "GRC",
            "SWE",
            "FIN",
            "NOR",
            "MYS",
            "ISR",
            "LTU",
            "SRB",
            "SVK",
            "SVN",
            "BGR",
            "CZE",
            "DNK",
            "GEO",
            "DEU",
            "HUN",
            "ISL",
            "JPN",
            "KAZ",
            "KGZ",
            "NLD",
            "POL",
            "ROU",
            "TJK",
            "THA",
            "AZE",
            "MNG"
           ],
           "name": "",
           "type": "choropleth",
           "z": [
            10,
            0,
            2,
            36,
            0,
            0,
            2,
            1,
            3,
            0,
            0,
            0,
            20,
            0,
            2,
            0,
            0,
            15,
            4,
            0,
            0,
            4,
            1,
            0,
            18,
            0,
            0,
            1,
            12,
            41,
            0,
            0,
            1,
            0
           ]
          }
         ],
         "name": "2020-09-08"
        },
        {
         "data": [
          {
           "coloraxis": "coloraxis",
           "geo": "geo",
           "hovertemplate": "date=2020-09-18<br>Country_code=%{location}<br>deaths=%{z}<extra></extra>",
           "locations": [
            "ITA",
            "CHN",
            "ALB",
            "BGD",
            "BWA",
            "KHM",
            "HRV",
            "GRC",
            "SWE",
            "FIN",
            "NOR",
            "MYS",
            "ISR",
            "LTU",
            "SRB",
            "SVK",
            "SVN",
            "BGR",
            "CZE",
            "DNK",
            "GEO",
            "DEU",
            "HUN",
            "ISL",
            "JPN",
            "KAZ",
            "KGZ",
            "NLD",
            "POL",
            "ROU",
            "TJK",
            "THA",
            "AZE",
            "MNG"
           ],
           "name": "",
           "type": "choropleth",
           "z": [
            10,
            0,
            6,
            22,
            0,
            0,
            6,
            2,
            1,
            0,
            1,
            1,
            20,
            0,
            1,
            0,
            4,
            4,
            6,
            0,
            0,
            7,
            6,
            0,
            10,
            0,
            0,
            8,
            17,
            48,
            0,
            1,
            1,
            0
           ]
          }
         ],
         "name": "2020-09-18"
        },
        {
         "data": [
          {
           "coloraxis": "coloraxis",
           "geo": "geo",
           "hovertemplate": "date=2020-09-28<br>Country_code=%{location}<br>deaths=%{z}<extra></extra>",
           "locations": [
            "ITA",
            "CHN",
            "ALB",
            "BGD",
            "BWA",
            "KHM",
            "HRV",
            "GRC",
            "SWE",
            "FIN",
            "NOR",
            "MYS",
            "ISR",
            "LTU",
            "SRB",
            "SVK",
            "SVN",
            "BGR",
            "CZE",
            "DNK",
            "GEO",
            "DEU",
            "HUN",
            "ISL",
            "JPN",
            "KAZ",
            "KGZ",
            "NLD",
            "POL",
            "ROU",
            "TJK",
            "THA",
            "AZE",
            "MNG"
           ],
           "name": "",
           "type": "choropleth",
           "z": [
            16,
            0,
            3,
            32,
            0,
            0,
            0,
            4,
            0,
            0,
            4,
            1,
            29,
            1,
            1,
            0,
            2,
            11,
            12,
            0,
            0,
            3,
            13,
            0,
            11,
            0,
            1,
            6,
            15,
            30,
            0,
            0,
            2,
            0
           ]
          }
         ],
         "name": "2020-09-28"
        },
        {
         "data": [
          {
           "coloraxis": "coloraxis",
           "geo": "geo",
           "hovertemplate": "date=2020-10-08<br>Country_code=%{location}<br>deaths=%{z}<extra></extra>",
           "locations": [
            "ITA",
            "CHN",
            "ALB",
            "BGD",
            "BWA",
            "KHM",
            "HRV",
            "GRC",
            "SWE",
            "FIN",
            "NOR",
            "MYS",
            "ISR",
            "LTU",
            "SRB",
            "SVK",
            "SVN",
            "BGR",
            "CZE",
            "DNK",
            "GEO",
            "DEU",
            "HUN",
            "ISL",
            "JPN",
            "KAZ",
            "KGZ",
            "NLD",
            "POL",
            "ROU",
            "TJK",
            "THA",
            "AZE",
            "MNG"
           ],
           "name": "",
           "type": "choropleth",
           "z": [
            22,
            0,
            4,
            20,
            0,
            0,
            1,
            6,
            0,
            2,
            0,
            5,
            47,
            1,
            2,
            2,
            1,
            7,
            40,
            2,
            4,
            16,
            21,
            0,
            3,
            0,
            4,
            13,
            75,
            44,
            0,
            0,
            1,
            0
           ]
          }
         ],
         "name": "2020-10-08"
        },
        {
         "data": [
          {
           "coloraxis": "coloraxis",
           "geo": "geo",
           "hovertemplate": "date=2020-10-18<br>Country_code=%{location}<br>deaths=%{z}<extra></extra>",
           "locations": [
            "ITA",
            "CHN",
            "ALB",
            "BGD",
            "BWA",
            "KHM",
            "HRV",
            "GRC",
            "SWE",
            "FIN",
            "NOR",
            "MYS",
            "ISR",
            "LTU",
            "SRB",
            "SVK",
            "SVN",
            "BGR",
            "CZE",
            "DNK",
            "GEO",
            "DEU",
            "HUN",
            "ISL",
            "JPN",
            "KAZ",
            "KGZ",
            "NLD",
            "POL",
            "ROU",
            "TJK",
            "THA",
            "AZE",
            "MNG"
           ],
           "name": "",
           "type": "choropleth",
           "z": [
            69,
            0,
            3,
            14,
            0,
            0,
            8,
            9,
            0,
            0,
            0,
            2,
            33,
            2,
            2,
            6,
            4,
            18,
            70,
            1,
            8,
            10,
            33,
            0,
            4,
            42,
            3,
            14,
            49,
            60,
            0,
            0,
            3,
            0
           ]
          }
         ],
         "name": "2020-10-18"
        },
        {
         "data": [
          {
           "coloraxis": "coloraxis",
           "geo": "geo",
           "hovertemplate": "date=2020-10-28<br>Country_code=%{location}<br>deaths=%{z}<extra></extra>",
           "locations": [
            "ITA",
            "CHN",
            "ALB",
            "BGD",
            "BWA",
            "KHM",
            "HRV",
            "GRC",
            "SWE",
            "FIN",
            "NOR",
            "MYS",
            "ISR",
            "LTU",
            "SRB",
            "SVK",
            "SVN",
            "BGR",
            "CZE",
            "DNK",
            "GEO",
            "DEU",
            "HUN",
            "ISL",
            "JPN",
            "KAZ",
            "KGZ",
            "NLD",
            "POL",
            "ROU",
            "TJK",
            "THA",
            "AZE",
            "MNG"
           ],
           "name": "",
           "type": "choropleth",
           "z": [
            205,
            0,
            6,
            23,
            0,
            0,
            23,
            10,
            3.5,
            1,
            0,
            10,
            10,
            5,
            5,
            8,
            14,
            36,
            128,
            6,
            15,
            85,
            43,
            1,
            5,
            0,
            2,
            60,
            234,
            107,
            0,
            0,
            11,
            0
           ]
          }
         ],
         "name": "2020-10-28"
        },
        {
         "data": [
          {
           "coloraxis": "coloraxis",
           "geo": "geo",
           "hovertemplate": "date=2020-11-07<br>Country_code=%{location}<br>deaths=%{z}<extra></extra>",
           "locations": [
            "ITA",
            "CHN",
            "ALB",
            "BGD",
            "BWA",
            "KHM",
            "HRV",
            "GRC",
            "SWE",
            "FIN",
            "NOR",
            "MYS",
            "ISR",
            "LTU",
            "SRB",
            "SVK",
            "SVN",
            "BGR",
            "CZE",
            "DNK",
            "GEO",
            "DEU",
            "HUN",
            "ISL",
            "JPN",
            "KAZ",
            "KGZ",
            "NLD",
            "POL",
            "ROU",
            "TJK",
            "THA",
            "AZE",
            "MNG"
           ],
           "name": "",
           "type": "choropleth",
           "z": [
            425,
            0,
            8,
            13,
            0,
            0,
            35,
            34,
            0,
            2,
            0,
            3,
            8,
            10,
            9,
            34,
            34,
            56,
            197,
            2,
            18,
            130,
            107,
            0,
            5,
            0,
            2,
            73,
            349,
            130,
            0,
            0,
            13,
            0
           ]
          }
         ],
         "name": "2020-11-07"
        },
        {
         "data": [
          {
           "coloraxis": "coloraxis",
           "geo": "geo",
           "hovertemplate": "date=2020-11-17<br>Country_code=%{location}<br>deaths=%{z}<extra></extra>",
           "locations": [
            "ITA",
            "CHN",
            "ALB",
            "BGD",
            "BWA",
            "KHM",
            "HRV",
            "GRC",
            "SWE",
            "FIN",
            "NOR",
            "MYS",
            "ISR",
            "LTU",
            "SRB",
            "SVK",
            "SVN",
            "BGR",
            "CZE",
            "DNK",
            "GEO",
            "DEU",
            "HUN",
            "ISL",
            "JPN",
            "KAZ",
            "KGZ",
            "NLD",
            "POL",
            "ROU",
            "TJK",
            "THA",
            "AZE",
            "MNG"
           ],
           "name": "",
           "type": "choropleth",
           "z": [
            731,
            0,
            6,
            39,
            0,
            0,
            31,
            63,
            0,
            1,
            4,
            5,
            12,
            20,
            24,
            31,
            45,
            131,
            142,
            4,
            45,
            267,
            91,
            0,
            14,
            0,
            4,
            86,
            357,
            186,
            0,
            0,
            20,
            0
           ]
          }
         ],
         "name": "2020-11-17"
        },
        {
         "data": [
          {
           "coloraxis": "coloraxis",
           "geo": "geo",
           "hovertemplate": "date=2020-11-27<br>Country_code=%{location}<br>deaths=%{z}<extra></extra>",
           "locations": [
            "ITA",
            "CHN",
            "ALB",
            "BGD",
            "BWA",
            "KHM",
            "HRV",
            "GRC",
            "SWE",
            "FIN",
            "NOR",
            "MYS",
            "ISR",
            "LTU",
            "SRB",
            "SVK",
            "SVN",
            "BGR",
            "CZE",
            "DNK",
            "GEO",
            "DEU",
            "HUN",
            "ISL",
            "JPN",
            "KAZ",
            "KGZ",
            "NLD",
            "POL",
            "ROU",
            "TJK",
            "THA",
            "AZE",
            "MNG"
           ],
           "name": "",
           "type": "choropleth",
           "z": [
            827,
            1,
            18,
            20,
            0,
            0,
            48,
            101,
            59,
            2,
            12,
            2,
            6,
            23,
            57,
            22,
            48,
            151,
            188,
            5,
            37,
            426,
            135,
            0,
            31,
            0,
            0,
            83,
            579,
            172,
            0,
            0,
            35,
            0
           ]
          }
         ],
         "name": "2020-11-27"
        },
        {
         "data": [
          {
           "coloraxis": "coloraxis",
           "geo": "geo",
           "hovertemplate": "date=2020-12-07<br>Country_code=%{location}<br>deaths=%{z}<extra></extra>",
           "locations": [
            "ITA",
            "CHN",
            "ALB",
            "BGD",
            "BWA",
            "KHM",
            "HRV",
            "GRC",
            "SWE",
            "FIN",
            "NOR",
            "MYS",
            "ISR",
            "LTU",
            "SRB",
            "SVK",
            "SVN",
            "BGR",
            "CZE",
            "DNK",
            "GEO",
            "DEU",
            "HUN",
            "ISL",
            "JPN",
            "KAZ",
            "KGZ",
            "NLD",
            "POL",
            "ROU",
            "TJK",
            "THA",
            "AZE",
            "MNG"
           ],
           "name": "",
           "type": "choropleth",
           "z": [
            528,
            0,
            17,
            36,
            2,
            0,
            59,
            89,
            0,
            10,
            5,
            2,
            7,
            44,
            56,
            22,
            52,
            213,
            0,
            9,
            36,
            147,
            116,
            0,
            39,
            0,
            0,
            17,
            92,
            127,
            0,
            0,
            43,
            0
           ]
          }
         ],
         "name": "2020-12-07"
        },
        {
         "data": [
          {
           "coloraxis": "coloraxis",
           "geo": "geo",
           "hovertemplate": "date=2020-12-17<br>Country_code=%{location}<br>deaths=%{z}<extra></extra>",
           "locations": [
            "ITA",
            "CHN",
            "ALB",
            "BGD",
            "BWA",
            "KHM",
            "HRV",
            "GRC",
            "SWE",
            "FIN",
            "NOR",
            "MYS",
            "ISR",
            "LTU",
            "SRB",
            "SVK",
            "SVN",
            "BGR",
            "CZE",
            "DNK",
            "GEO",
            "DEU",
            "HUN",
            "ISL",
            "JPN",
            "KAZ",
            "KGZ",
            "NLD",
            "POL",
            "ROU",
            "TJK",
            "THA",
            "AZE",
            "MNG"
           ],
           "name": "",
           "type": "choropleth",
           "z": [
            683,
            0,
            15,
            36,
            0,
            0,
            85,
            78,
            91,
            4,
            2,
            3,
            16,
            43,
            47,
            69,
            43,
            143,
            154,
            17,
            31,
            698,
            157,
            0,
            38,
            0,
            4,
            75,
            431,
            107,
            0,
            0,
            38,
            0
           ]
          }
         ],
         "name": "2020-12-17"
        },
        {
         "data": [
          {
           "coloraxis": "coloraxis",
           "geo": "geo",
           "hovertemplate": "date=2020-12-27<br>Country_code=%{location}<br>deaths=%{z}<extra></extra>",
           "locations": [
            "ITA",
            "CHN",
            "ALB",
            "BGD",
            "BWA",
            "KHM",
            "HRV",
            "GRC",
            "SWE",
            "FIN",
            "NOR",
            "MYS",
            "ISR",
            "LTU",
            "SRB",
            "SVK",
            "SVN",
            "BGR",
            "CZE",
            "DNK",
            "GEO",
            "DEU",
            "HUN",
            "ISL",
            "JPN",
            "KAZ",
            "KGZ",
            "NLD",
            "POL",
            "ROU",
            "TJK",
            "THA",
            "AZE",
            "MNG"
           ],
           "name": "",
           "type": "choropleth",
           "z": [
            305,
            1,
            10,
            24,
            0,
            0,
            58,
            53,
            0,
            0,
            0,
            1,
            16,
            42,
            47,
            41,
            33,
            41,
            94,
            21,
            25,
            356,
            96,
            0,
            40,
            80,
            4,
            28,
            57,
            122,
            0,
            0,
            45,
            0
           ]
          }
         ],
         "name": "2020-12-27"
        },
        {
         "data": [
          {
           "coloraxis": "coloraxis",
           "geo": "geo",
           "hovertemplate": "date=2021-01-06<br>Country_code=%{location}<br>deaths=%{z}<extra></extra>",
           "locations": [
            "ITA",
            "CHN",
            "ALB",
            "BGD",
            "BWA",
            "KHM",
            "HRV",
            "GRC",
            "SWE",
            "FIN",
            "NOR",
            "MYS",
            "ISR",
            "LTU",
            "SRB",
            "SVK",
            "SVN",
            "BGR",
            "CZE",
            "DNK",
            "GEO",
            "DEU",
            "HUN",
            "ISL",
            "JPN",
            "KAZ",
            "KGZ",
            "NLD",
            "POL",
            "ROU",
            "TJK",
            "THA",
            "AZE",
            "MNG"
           ],
           "name": "",
           "type": "choropleth",
           "z": [
            548,
            1,
            7,
            17,
            0,
            0,
            44,
            48,
            0,
            4,
            13,
            1,
            33,
            35,
            39,
            54,
            31,
            59,
            179,
            30,
            20,
            1019,
            118,
            0,
            65,
            0,
            1,
            137,
            553,
            121,
            0,
            1,
            26,
            0
           ]
          }
         ],
         "name": "2021-01-06"
        },
        {
         "data": [
          {
           "coloraxis": "coloraxis",
           "geo": "geo",
           "hovertemplate": "date=2021-01-16<br>Country_code=%{location}<br>deaths=%{z}<extra></extra>",
           "locations": [
            "ITA",
            "CHN",
            "ALB",
            "BGD",
            "BWA",
            "KHM",
            "HRV",
            "GRC",
            "SWE",
            "FIN",
            "NOR",
            "MYS",
            "ISR",
            "LTU",
            "SRB",
            "SVK",
            "SVN",
            "BGR",
            "CZE",
            "DNK",
            "GEO",
            "DEU",
            "HUN",
            "ISL",
            "JPN",
            "KAZ",
            "KGZ",
            "NLD",
            "POL",
            "ROU",
            "TJK",
            "THA",
            "AZE",
            "MNG"
           ],
           "name": "",
           "type": "choropleth",
           "z": [
            475,
            4,
            5,
            21,
            0,
            0,
            38,
            20,
            0,
            1,
            0,
            8,
            49,
            34,
            22,
            55,
            19,
            17,
            186,
            27,
            23,
            980,
            87,
            0,
            56,
            0,
            2,
            97,
            369,
            66,
            0,
            1,
            15,
            0
           ]
          }
         ],
         "name": "2021-01-16"
        },
        {
         "data": [
          {
           "coloraxis": "coloraxis",
           "geo": "geo",
           "hovertemplate": "date=2021-01-26<br>Country_code=%{location}<br>deaths=%{z}<extra></extra>",
           "locations": [
            "ITA",
            "CHN",
            "ALB",
            "BGD",
            "BWA",
            "KHM",
            "HRV",
            "GRC",
            "SWE",
            "FIN",
            "NOR",
            "MYS",
            "ISR",
            "LTU",
            "SRB",
            "SVK",
            "SVN",
            "BGR",
            "CZE",
            "DNK",
            "GEO",
            "DEU",
            "HUN",
            "ISL",
            "JPN",
            "KAZ",
            "KGZ",
            "NLD",
            "POL",
            "ROU",
            "TJK",
            "THA",
            "AZE",
            "MNG"
           ],
           "name": "",
           "type": "choropleth",
           "z": [
            541,
            1,
            8,
            14,
            0,
            0,
            23,
            21,
            242,
            5,
            2,
            11,
            15,
            17,
            19,
            192,
            27,
            36,
            165,
            20,
            25,
            903,
            89,
            0,
            104,
            0,
            3,
            86,
            264,
            97,
            0,
            0,
            7,
            0
           ]
          }
         ],
         "name": "2021-01-26"
        },
        {
         "data": [
          {
           "coloraxis": "coloraxis",
           "geo": "geo",
           "hovertemplate": "date=2021-02-05<br>Country_code=%{location}<br>deaths=%{z}<extra></extra>",
           "locations": [
            "ITA",
            "CHN",
            "ALB",
            "BGD",
            "BWA",
            "KHM",
            "HRV",
            "GRC",
            "SWE",
            "FIN",
            "NOR",
            "MYS",
            "ISR",
            "LTU",
            "SRB",
            "SVK",
            "SVN",
            "BGR",
            "CZE",
            "DNK",
            "GEO",
            "DEU",
            "HUN",
            "ISL",
            "JPN",
            "KAZ",
            "KGZ",
            "NLD",
            "POL",
            "ROU",
            "TJK",
            "THA",
            "AZE",
            "MNG"
           ],
           "name": "",
           "type": "choropleth",
           "z": [
            377,
            5,
            15,
            7,
            0,
            0,
            16,
            19,
            87,
            1,
            0,
            19,
            19,
            24,
            14,
            74,
            15,
            30,
            150,
            17,
            18,
            855,
            98,
            0,
            106,
            0,
            0,
            60,
            368,
            73,
            0,
            0,
            5,
            0
           ]
          }
         ],
         "name": "2021-02-05"
        },
        {
         "data": [
          {
           "coloraxis": "coloraxis",
           "geo": "geo",
           "hovertemplate": "date=2021-02-15<br>Country_code=%{location}<br>deaths=%{z}<extra></extra>",
           "locations": [
            "ITA",
            "CHN",
            "ALB",
            "BGD",
            "BWA",
            "KHM",
            "HRV",
            "GRC",
            "SWE",
            "FIN",
            "NOR",
            "MYS",
            "ISR",
            "LTU",
            "SRB",
            "SVK",
            "SVN",
            "BGR",
            "CZE",
            "DNK",
            "GEO",
            "DEU",
            "HUN",
            "ISL",
            "JPN",
            "KAZ",
            "KGZ",
            "NLD",
            "POL",
            "ROU",
            "TJK",
            "THA",
            "AZE",
            "MNG"
           ],
           "name": "",
           "type": "choropleth",
           "z": [
            258,
            1,
            12,
            11,
            24,
            0,
            21,
            26,
            0,
            4,
            1,
            11,
            26,
            12,
            15,
            67,
            11,
            47,
            107,
            9,
            11,
            116,
            46,
            0,
            73,
            0,
            0,
            27,
            25,
            79,
            0,
            2,
            3,
            0
           ]
          }
         ],
         "name": "2021-02-15"
        },
        {
         "data": [
          {
           "coloraxis": "coloraxis",
           "geo": "geo",
           "hovertemplate": "date=2021-02-25<br>Country_code=%{location}<br>deaths=%{z}<extra></extra>",
           "locations": [
            "ITA",
            "CHN",
            "ALB",
            "BGD",
            "BWA",
            "KHM",
            "HRV",
            "GRC",
            "SWE",
            "FIN",
            "NOR",
            "MYS",
            "ISR",
            "LTU",
            "SRB",
            "SVK",
            "SVN",
            "BGR",
            "CZE",
            "DNK",
            "GEO",
            "DEU",
            "HUN",
            "ISL",
            "JPN",
            "KAZ",
            "KGZ",
            "NLD",
            "POL",
            "ROU",
            "TJK",
            "THA",
            "AZE",
            "MNG"
           ],
           "name": "",
           "type": "choropleth",
           "z": [
            308,
            0,
            21,
            5,
            10,
            0,
            12,
            39,
            5,
            2,
            0,
            13,
            27,
            9,
            15,
            84,
            7,
            53,
            153,
            6,
            12,
            385,
            120,
            0,
            74,
            0,
            3,
            32,
            286,
            81,
            0,
            0,
            3,
            0
           ]
          }
         ],
         "name": "2021-02-25"
        },
        {
         "data": [
          {
           "coloraxis": "coloraxis",
           "geo": "geo",
           "hovertemplate": "date=2021-03-07<br>Country_code=%{location}<br>deaths=%{z}<extra></extra>",
           "locations": [
            "ITA",
            "CHN",
            "ALB",
            "BGD",
            "BWA",
            "KHM",
            "HRV",
            "GRC",
            "SWE",
            "FIN",
            "NOR",
            "MYS",
            "ISR",
            "LTU",
            "SRB",
            "SVK",
            "SVN",
            "BGR",
            "CZE",
            "DNK",
            "GEO",
            "DEU",
            "HUN",
            "ISL",
            "JPN",
            "KAZ",
            "KGZ",
            "NLD",
            "POL",
            "ROU",
            "TJK",
            "THA",
            "AZE",
            "MNG"
           ],
           "name": "",
           "type": "choropleth",
           "z": [
            207,
            0,
            21,
            11,
            0,
            0,
            5,
            53,
            0,
            1,
            0,
            3,
            35,
            6,
            20,
            97,
            3,
            21,
            159,
            2,
            9,
            96,
            108,
            0,
            24,
            0,
            0,
            30,
            126,
            46,
            0,
            0,
            3,
            1
           ]
          }
         ],
         "name": "2021-03-07"
        },
        {
         "data": [
          {
           "coloraxis": "coloraxis",
           "geo": "geo",
           "hovertemplate": "date=2021-03-17<br>Country_code=%{location}<br>deaths=%{z}<extra></extra>",
           "locations": [
            "ITA",
            "CHN",
            "ALB",
            "BGD",
            "BWA",
            "KHM",
            "HRV",
            "GRC",
            "SWE",
            "FIN",
            "NOR",
            "MYS",
            "ISR",
            "LTU",
            "SRB",
            "SVK",
            "SVN",
            "BGR",
            "CZE",
            "DNK",
            "GEO",
            "DEU",
            "HUN",
            "ISL",
            "JPN",
            "KAZ",
            "KGZ",
            "NLD",
            "POL",
            "ROU",
            "TJK",
            "THA",
            "AZE",
            "MNG"
           ],
           "name": "",
           "type": "choropleth",
           "z": [
            431,
            0,
            15,
            11,
            0,
            0,
            12,
            56,
            56,
            1,
            7,
            2,
            9,
            12,
            32,
            69,
            7,
            136,
            245,
            1,
            7,
            249,
            195,
            0,
            43,
            0,
            0,
            46,
            454,
            89,
            0,
            2,
            9,
            0
           ]
          }
         ],
         "name": "2021-03-17"
        },
        {
         "data": [
          {
           "coloraxis": "coloraxis",
           "geo": "geo",
           "hovertemplate": "date=2021-03-27<br>Country_code=%{location}<br>deaths=%{z}<extra></extra>",
           "locations": [
            "ITA",
            "CHN",
            "ALB",
            "BGD",
            "BWA",
            "KHM",
            "HRV",
            "GRC",
            "SWE",
            "FIN",
            "NOR",
            "MYS",
            "ISR",
            "LTU",
            "SRB",
            "SVK",
            "SVN",
            "BGR",
            "CZE",
            "DNK",
            "GEO",
            "DEU",
            "HUN",
            "ISL",
            "JPN",
            "KAZ",
            "KGZ",
            "NLD",
            "POL",
            "ROU",
            "TJK",
            "THA",
            "AZE",
            "MNG"
           ],
           "name": "",
           "type": "choropleth",
           "z": [
            380,
            0,
            12,
            39,
            0,
            0,
            18,
            72,
            0,
            3,
            0,
            2,
            0,
            9,
            76,
            53,
            3,
            49,
            139,
            2,
            8,
            157,
            253,
            0,
            32,
            0,
            1,
            29,
            448,
            162,
            0,
            1,
            19,
            0
           ]
          }
         ],
         "name": "2021-03-27"
        },
        {
         "data": [
          {
           "coloraxis": "coloraxis",
           "geo": "geo",
           "hovertemplate": "date=2021-04-06<br>Country_code=%{location}<br>deaths=%{z}<extra></extra>",
           "locations": [
            "ITA",
            "CHN",
            "ALB",
            "BGD",
            "BWA",
            "KHM",
            "HRV",
            "GRC",
            "SWE",
            "FIN",
            "NOR",
            "MYS",
            "ISR",
            "LTU",
            "SRB",
            "SVK",
            "SVN",
            "BGR",
            "CZE",
            "DNK",
            "GEO",
            "DEU",
            "HUN",
            "ISL",
            "JPN",
            "KAZ",
            "KGZ",
            "NLD",
            "POL",
            "ROU",
            "TJK",
            "THA",
            "AZE",
            "MNG"
           ],
           "name": "",
           "type": "choropleth",
           "z": [
            421,
            0,
            9,
            66,
            0,
            1,
            30,
            79,
            35,
            0,
            1,
            5,
            9,
            8,
            40,
            0,
            7,
            0,
            112,
            2,
            10,
            90,
            170,
            0,
            28,
            0,
            2,
            20,
            60,
            196,
            0,
            0,
            32,
            1
           ]
          }
         ],
         "name": "2021-04-06"
        },
        {
         "data": [
          {
           "coloraxis": "coloraxis",
           "geo": "geo",
           "hovertemplate": "date=2021-04-16<br>Country_code=%{location}<br>deaths=%{z}<extra></extra>",
           "locations": [
            "ITA",
            "CHN",
            "ALB",
            "BGD",
            "BWA",
            "KHM",
            "HRV",
            "GRC",
            "SWE",
            "FIN",
            "NOR",
            "MYS",
            "ISR",
            "LTU",
            "SRB",
            "SVK",
            "SVN",
            "BGR",
            "CZE",
            "DNK",
            "GEO",
            "DEU",
            "HUN",
            "ISL",
            "JPN",
            "KAZ",
            "KGZ",
            "NLD",
            "POL",
            "ROU",
            "TJK",
            "THA",
            "AZE",
            "MNG"
           ],
           "name": "",
           "type": "choropleth",
           "z": [
            429,
            0,
            2,
            101,
            0,
            2,
            44,
            91,
            27,
            2,
            1,
            2,
            1,
            8,
            39,
            93,
            5,
            121,
            88,
            3,
            8,
            247,
            241,
            0,
            46,
            0,
            4,
            12,
            596,
            137,
            0,
            3,
            32,
            5
           ]
          }
         ],
         "name": "2021-04-16"
        },
        {
         "data": [
          {
           "coloraxis": "coloraxis",
           "geo": "geo",
           "hovertemplate": "date=2021-04-26<br>Country_code=%{location}<br>deaths=%{z}<extra></extra>",
           "locations": [
            "ITA",
            "CHN",
            "ALB",
            "BGD",
            "BWA",
            "KHM",
            "HRV",
            "GRC",
            "SWE",
            "FIN",
            "NOR",
            "MYS",
            "ISR",
            "LTU",
            "SRB",
            "SVK",
            "SVN",
            "BGR",
            "CZE",
            "DNK",
            "GEO",
            "DEU",
            "HUN",
            "ISL",
            "JPN",
            "KAZ",
            "KGZ",
            "NLD",
            "POL",
            "ROU",
            "TJK",
            "THA",
            "AZE",
            "MNG"
           ],
           "name": "",
           "type": "choropleth",
           "z": [
            301,
            0,
            1,
            97,
            0,
            5,
            51,
            80,
            0,
            0,
            0,
            13,
            1,
            11,
            30,
            36,
            6,
            194,
            40,
            2,
            18,
            60,
            176,
            0,
            35,
            0,
            2,
            13,
            22,
            117,
            0,
            8,
            31,
            11
           ]
          }
         ],
         "name": "2021-04-26"
        },
        {
         "data": [
          {
           "coloraxis": "coloraxis",
           "geo": "geo",
           "hovertemplate": "date=2021-05-06<br>Country_code=%{location}<br>deaths=%{z}<extra></extra>",
           "locations": [
            "ITA",
            "CHN",
            "ALB",
            "BGD",
            "BWA",
            "KHM",
            "HRV",
            "GRC",
            "SWE",
            "FIN",
            "NOR",
            "MYS",
            "ISR",
            "LTU",
            "SRB",
            "SVK",
            "SVN",
            "BGR",
            "CZE",
            "DNK",
            "GEO",
            "DEU",
            "HUN",
            "ISL",
            "JPN",
            "KAZ",
            "KGZ",
            "NLD",
            "POL",
            "ROU",
            "TJK",
            "THA",
            "AZE",
            "MNG"
           ],
           "name": "",
           "type": "choropleth",
           "z": [
            258,
            0,
            3,
            41,
            10,
            4,
            40,
            83,
            7,
            1,
            0,
            19,
            4,
            10,
            21,
            34,
            3,
            27,
            42,
            2,
            20,
            250,
            124,
            0,
            65,
            0,
            3,
            24,
            511,
            94,
            0,
            18,
            18,
            3
           ]
          }
         ],
         "name": "2021-05-06"
        },
        {
         "data": [
          {
           "coloraxis": "coloraxis",
           "geo": "geo",
           "hovertemplate": "date=2021-05-16<br>Country_code=%{location}<br>deaths=%{z}<extra></extra>",
           "locations": [
            "ITA",
            "CHN",
            "ALB",
            "BGD",
            "BWA",
            "KHM",
            "HRV",
            "GRC",
            "SWE",
            "FIN",
            "NOR",
            "MYS",
            "ISR",
            "LTU",
            "SRB",
            "SVK",
            "SVN",
            "BGR",
            "CZE",
            "DNK",
            "GEO",
            "DEU",
            "HUN",
            "ISL",
            "JPN",
            "KAZ",
            "KGZ",
            "NLD",
            "POL",
            "ROU",
            "TJK",
            "THA",
            "AZE",
            "MNG"
           ],
           "name": "",
           "type": "choropleth",
           "z": [
            93,
            0,
            3,
            25,
            0,
            3,
            21,
            50,
            0,
            6,
            0,
            36,
            1,
            16,
            17,
            21,
            4,
            9,
            15,
            0,
            16,
            71,
            61,
            0,
            47,
            173,
            8,
            13,
            55,
            38,
            0,
            24,
            11,
            3
           ]
          }
         ],
         "name": "2021-05-16"
        },
        {
         "data": [
          {
           "coloraxis": "coloraxis",
           "geo": "geo",
           "hovertemplate": "date=2021-05-26<br>Country_code=%{location}<br>deaths=%{z}<extra></extra>",
           "locations": [
            "ITA",
            "CHN",
            "ALB",
            "BGD",
            "BWA",
            "KHM",
            "HRV",
            "GRC",
            "SWE",
            "FIN",
            "NOR",
            "MYS",
            "ISR",
            "LTU",
            "SRB",
            "SVK",
            "SVN",
            "BGR",
            "CZE",
            "DNK",
            "GEO",
            "DEU",
            "HUN",
            "ISL",
            "JPN",
            "KAZ",
            "KGZ",
            "NLD",
            "POL",
            "ROU",
            "TJK",
            "THA",
            "AZE",
            "MNG"
           ],
           "name": "",
           "type": "choropleth",
           "z": [
            121,
            0,
            0,
            17,
            0,
            7,
            21,
            44,
            40,
            0,
            1,
            63,
            0,
            9,
            10,
            11,
            5,
            36,
            13,
            1,
            28,
            270,
            41,
            1,
            116,
            0,
            8,
            10,
            209,
            52,
            0,
            41,
            8,
            3
           ]
          }
         ],
         "name": "2021-05-26"
        },
        {
         "data": [
          {
           "coloraxis": "coloraxis",
           "geo": "geo",
           "hovertemplate": "date=2021-06-05<br>Country_code=%{location}<br>deaths=%{z}<extra></extra>",
           "locations": [
            "ITA",
            "CHN",
            "ALB",
            "BGD",
            "BWA",
            "KHM",
            "HRV",
            "GRC",
            "SWE",
            "FIN",
            "NOR",
            "MYS",
            "ISR",
            "LTU",
            "SRB",
            "SVK",
            "SVN",
            "BGR",
            "CZE",
            "DNK",
            "GEO",
            "DEU",
            "HUN",
            "ISL",
            "JPN",
            "KAZ",
            "KGZ",
            "NLD",
            "POL",
            "ROU",
            "TJK",
            "THA",
            "AZE",
            "MNG"
           ],
           "name": "",
           "type": "choropleth",
           "z": [
            57,
            0,
            0,
            43,
            0,
            10,
            13,
            35,
            0,
            1,
            0,
            109,
            1,
            4,
            9,
            13,
            2,
            3,
            15,
            1,
            17,
            122,
            24,
            0,
            64,
            0,
            5,
            9,
            38,
            113,
            0,
            36,
            3,
            3
           ]
          }
         ],
         "name": "2021-06-05"
        },
        {
         "data": [
          {
           "coloraxis": "coloraxis",
           "geo": "geo",
           "hovertemplate": "date=2021-06-15<br>Country_code=%{location}<br>deaths=%{z}<extra></extra>",
           "locations": [
            "ITA",
            "CHN",
            "ALB",
            "BGD",
            "BWA",
            "KHM",
            "HRV",
            "GRC",
            "SWE",
            "FIN",
            "NOR",
            "MYS",
            "ISR",
            "LTU",
            "SRB",
            "SVK",
            "SVN",
            "BGR",
            "CZE",
            "DNK",
            "GEO",
            "DEU",
            "HUN",
            "ISL",
            "JPN",
            "KAZ",
            "KGZ",
            "NLD",
            "POL",
            "ROU",
            "TJK",
            "THA",
            "AZE",
            "MNG"
           ],
           "name": "",
           "type": "choropleth",
           "z": [
            63,
            0,
            1,
            50,
            0,
            13,
            8,
            22,
            0,
            0,
            0,
            101,
            0,
            5,
            6,
            5,
            2,
            17,
            0,
            1,
            23,
            93,
            10,
            0,
            67,
            0,
            6,
            1,
            52,
            96,
            0,
            19,
            3,
            10
           ]
          }
         ],
         "name": "2021-06-15"
        },
        {
         "data": [
          {
           "coloraxis": "coloraxis",
           "geo": "geo",
           "hovertemplate": "date=2021-06-25<br>Country_code=%{location}<br>deaths=%{z}<extra></extra>",
           "locations": [
            "ITA",
            "CHN",
            "ALB",
            "BGD",
            "BWA",
            "KHM",
            "HRV",
            "GRC",
            "SWE",
            "FIN",
            "NOR",
            "MYS",
            "ISR",
            "LTU",
            "SRB",
            "SVK",
            "SVN",
            "BGR",
            "CZE",
            "DNK",
            "GEO",
            "DEU",
            "HUN",
            "ISL",
            "JPN",
            "KAZ",
            "KGZ",
            "NLD",
            "POL",
            "ROU",
            "TJK",
            "THA",
            "AZE",
            "MNG"
           ],
           "name": "",
           "type": "choropleth",
           "z": [
            56,
            0,
            0,
            108,
            0,
            16,
            4,
            21,
            0,
            0,
            0,
            82,
            0,
            3,
            5,
            3,
            0,
            4,
            1,
            0,
            9,
            62,
            8,
            0,
            31,
            0,
            6,
            5,
            36,
            140,
            0,
            44,
            2,
            9
           ]
          }
         ],
         "name": "2021-06-25"
        },
        {
         "data": [
          {
           "coloraxis": "coloraxis",
           "geo": "geo",
           "hovertemplate": "date=2021-07-05<br>Country_code=%{location}<br>deaths=%{z}<extra></extra>",
           "locations": [
            "ITA",
            "CHN",
            "ALB",
            "BGD",
            "BWA",
            "KHM",
            "HRV",
            "GRC",
            "SWE",
            "FIN",
            "NOR",
            "MYS",
            "ISR",
            "LTU",
            "SRB",
            "SVK",
            "SVN",
            "BGR",
            "CZE",
            "DNK",
            "GEO",
            "DEU",
            "HUN",
            "ISL",
            "JPN",
            "KAZ",
            "KGZ",
            "NLD",
            "POL",
            "ROU",
            "TJK",
            "THA",
            "AZE",
            "MNG"
           ],
           "name": "",
           "type": "choropleth",
           "z": [
            31,
            2,
            0,
            164,
            30,
            28,
            1,
            6,
            0,
            0,
            0,
            77,
            1,
            2,
            1,
            0,
            1,
            41,
            1,
            0,
            26,
            1,
            4,
            0,
            19,
            0,
            9,
            1,
            1,
            45,
            2,
            50,
            0,
            3
           ]
          }
         ],
         "name": "2021-07-05"
        },
        {
         "data": [
          {
           "coloraxis": "coloraxis",
           "geo": "geo",
           "hovertemplate": "date=2021-07-15<br>Country_code=%{location}<br>deaths=%{z}<extra></extra>",
           "locations": [
            "ITA",
            "CHN",
            "ALB",
            "BGD",
            "BWA",
            "KHM",
            "HRV",
            "GRC",
            "SWE",
            "FIN",
            "NOR",
            "MYS",
            "ISR",
            "LTU",
            "SRB",
            "SVK",
            "SVN",
            "BGR",
            "CZE",
            "DNK",
            "GEO",
            "DEU",
            "HUN",
            "ISL",
            "JPN",
            "KAZ",
            "KGZ",
            "NLD",
            "POL",
            "ROU",
            "TJK",
            "THA",
            "AZE",
            "MNG"
           ],
           "name": "",
           "type": "choropleth",
           "z": [
            9,
            0,
            0,
            226,
            21,
            39,
            0,
            6,
            1,
            0,
            0,
            110,
            2,
            1,
            1,
            1,
            0,
            5,
            0,
            1,
            11,
            32,
            0,
            0,
            22,
            0,
            10,
            3,
            12,
            3,
            1,
            98,
            2,
            10
           ]
          }
         ],
         "name": "2021-07-15"
        },
        {
         "data": [
          {
           "coloraxis": "coloraxis",
           "geo": "geo",
           "hovertemplate": "date=2021-07-25<br>Country_code=%{location}<br>deaths=%{z}<extra></extra>",
           "locations": [
            "ITA",
            "CHN",
            "ALB",
            "BGD",
            "BWA",
            "KHM",
            "HRV",
            "GRC",
            "SWE",
            "FIN",
            "NOR",
            "MYS",
            "ISR",
            "LTU",
            "SRB",
            "SVK",
            "SVN",
            "BGR",
            "CZE",
            "DNK",
            "GEO",
            "DEU",
            "HUN",
            "ISL",
            "JPN",
            "KAZ",
            "KGZ",
            "NLD",
            "POL",
            "ROU",
            "TJK",
            "THA",
            "AZE",
            "MNG"
           ],
           "name": "",
           "type": "choropleth",
           "z": [
            7,
            0,
            0,
            228,
            0,
            29,
            0,
            8,
            0,
            1,
            0,
            92,
            2,
            0,
            1,
            0,
            1,
            1,
            0,
            0,
            23,
            4,
            0,
            0,
            4,
            539,
            11,
            4,
            1,
            1,
            1,
            129,
            4,
            5
           ]
          }
         ],
         "name": "2021-07-25"
        },
        {
         "data": [
          {
           "coloraxis": "coloraxis",
           "geo": "geo",
           "hovertemplate": "date=2021-08-04<br>Country_code=%{location}<br>deaths=%{z}<extra></extra>",
           "locations": [
            "ITA",
            "CHN",
            "ALB",
            "BGD",
            "BWA",
            "KHM",
            "HRV",
            "GRC",
            "SWE",
            "FIN",
            "NOR",
            "MYS",
            "ISR",
            "LTU",
            "SRB",
            "SVK",
            "SVN",
            "BGR",
            "CZE",
            "DNK",
            "GEO",
            "DEU",
            "HUN",
            "ISL",
            "JPN",
            "KAZ",
            "KGZ",
            "NLD",
            "POL",
            "ROU",
            "TJK",
            "THA",
            "AZE",
            "MNG"
           ],
           "name": "",
           "type": "choropleth",
           "z": [
            21,
            0,
            0,
            241,
            0,
            17,
            0,
            16,
            0,
            3,
            5,
            257,
            8,
            3,
            2,
            0,
            0,
            4,
            3.2,
            0,
            38,
            25,
            3,
            0,
            14,
            0,
            9,
            7,
            4,
            1,
            0,
            188,
            5,
            2
           ]
          }
         ],
         "name": "2021-08-04"
        },
        {
         "data": [
          {
           "coloraxis": "coloraxis",
           "geo": "geo",
           "hovertemplate": "date=2021-08-14<br>Country_code=%{location}<br>deaths=%{z}<extra></extra>",
           "locations": [
            "ITA",
            "CHN",
            "ALB",
            "BGD",
            "BWA",
            "KHM",
            "HRV",
            "GRC",
            "SWE",
            "FIN",
            "NOR",
            "MYS",
            "ISR",
            "LTU",
            "SRB",
            "SVK",
            "SVN",
            "BGR",
            "CZE",
            "DNK",
            "GEO",
            "DEU",
            "HUN",
            "ISL",
            "JPN",
            "KAZ",
            "KGZ",
            "NLD",
            "POL",
            "ROU",
            "TJK",
            "THA",
            "AZE",
            "MNG"
           ],
           "name": "",
           "type": "choropleth",
           "z": [
            34,
            1,
            2,
            178,
            0,
            12,
            2,
            24,
            0,
            2,
            0,
            260,
            11,
            6,
            5,
            0,
            0,
            7,
            1,
            1,
            50,
            11,
            0,
            0,
            18,
            0,
            6,
            7,
            2,
            5,
            0,
            217,
            13,
            5
           ]
          }
         ],
         "name": "2021-08-14"
        },
        {
         "data": [
          {
           "coloraxis": "coloraxis",
           "geo": "geo",
           "hovertemplate": "date=2021-08-24<br>Country_code=%{location}<br>deaths=%{z}<extra></extra>",
           "locations": [
            "ITA",
            "CHN",
            "ALB",
            "BGD",
            "BWA",
            "KHM",
            "HRV",
            "GRC",
            "SWE",
            "FIN",
            "NOR",
            "MYS",
            "ISR",
            "LTU",
            "SRB",
            "SVK",
            "SVN",
            "BGR",
            "CZE",
            "DNK",
            "GEO",
            "DEU",
            "HUN",
            "ISL",
            "JPN",
            "KAZ",
            "KGZ",
            "NLD",
            "POL",
            "ROU",
            "TJK",
            "THA",
            "AZE",
            "MNG"
           ],
           "name": "",
           "type": "choropleth",
           "z": [
            60,
            0,
            2,
            114,
            0,
            13,
            3,
            44,
            2,
            1,
            0,
            211,
            24,
            3,
            8,
            0,
            1,
            33,
            0,
            1,
            60,
            42,
            2,
            0,
            42,
            0,
            5,
            12,
            8,
            14,
            0,
            226,
            30,
            4
           ]
          }
         ],
         "name": "2021-08-24"
        },
        {
         "data": [
          {
           "coloraxis": "coloraxis",
           "geo": "geo",
           "hovertemplate": "date=2021-09-03<br>Country_code=%{location}<br>deaths=%{z}<extra></extra>",
           "locations": [
            "ITA",
            "CHN",
            "ALB",
            "BGD",
            "BWA",
            "KHM",
            "HRV",
            "GRC",
            "SWE",
            "FIN",
            "NOR",
            "MYS",
            "ISR",
            "LTU",
            "SRB",
            "SVK",
            "SVN",
            "BGR",
            "CZE",
            "DNK",
            "GEO",
            "DEU",
            "HUN",
            "ISL",
            "JPN",
            "KAZ",
            "KGZ",
            "NLD",
            "POL",
            "ROU",
            "TJK",
            "THA",
            "AZE",
            "MNG"
           ],
           "name": "",
           "type": "choropleth",
           "z": [
            58,
            1,
            3,
            70,
            0,
            9,
            6,
            36,
            0,
            2,
            0,
            330,
            7,
            8,
            17,
            1,
            0,
            50,
            1,
            3,
            86,
            45,
            1,
            0,
            64,
            0,
            5,
            9,
            5,
            33,
            0,
            271,
            38,
            7
           ]
          }
         ],
         "name": "2021-09-03"
        },
        {
         "data": [
          {
           "coloraxis": "coloraxis",
           "geo": "geo",
           "hovertemplate": "date=2021-09-13<br>Country_code=%{location}<br>deaths=%{z}<extra></extra>",
           "locations": [
            "ITA",
            "CHN",
            "ALB",
            "BGD",
            "BWA",
            "KHM",
            "HRV",
            "GRC",
            "SWE",
            "FIN",
            "NOR",
            "MYS",
            "ISR",
            "LTU",
            "SRB",
            "SVK",
            "SVN",
            "BGR",
            "CZE",
            "DNK",
            "GEO",
            "DEU",
            "HUN",
            "ISL",
            "JPN",
            "KAZ",
            "KGZ",
            "NLD",
            "POL",
            "ROU",
            "TJK",
            "THA",
            "AZE",
            "MNG"
           ],
           "name": "",
           "type": "choropleth",
           "z": [
            36,
            1,
            5,
            41,
            12,
            9,
            7,
            54,
            0,
            5,
            0,
            413,
            23,
            24,
            27,
            2,
            1,
            139,
            1,
            3,
            48,
            12,
            12,
            0,
            49,
            608,
            2,
            5,
            0,
            46,
            0,
            132,
            103,
            10
           ]
          }
         ],
         "name": "2021-09-13"
        },
        {
         "data": [
          {
           "coloraxis": "coloraxis",
           "geo": "geo",
           "hovertemplate": "date=2021-09-23<br>Country_code=%{location}<br>deaths=%{z}<extra></extra>",
           "locations": [
            "ITA",
            "CHN",
            "ALB",
            "BGD",
            "BWA",
            "KHM",
            "HRV",
            "GRC",
            "SWE",
            "FIN",
            "NOR",
            "MYS",
            "ISR",
            "LTU",
            "SRB",
            "SVK",
            "SVN",
            "BGR",
            "CZE",
            "DNK",
            "GEO",
            "DEU",
            "HUN",
            "ISL",
            "JPN",
            "KAZ",
            "KGZ",
            "NLD",
            "POL",
            "ROU",
            "TJK",
            "THA",
            "AZE",
            "MNG"
           ],
           "name": "",
           "type": "choropleth",
           "z": [
            63,
            0,
            8,
            24,
            6,
            22,
            15,
            31,
            4,
            2,
            0,
            116,
            19,
            19,
            41,
            3,
            5,
            99,
            2,
            4,
            47,
            115,
            2,
            0,
            49,
            0,
            0,
            12,
            14,
            113,
            0,
            131,
            24,
            13
           ]
          }
         ],
         "name": "2021-09-23"
        },
        {
         "data": [
          {
           "coloraxis": "coloraxis",
           "geo": "geo",
           "hovertemplate": "date=2021-10-03<br>Country_code=%{location}<br>deaths=%{z}<extra></extra>",
           "locations": [
            "ITA",
            "CHN",
            "ALB",
            "BGD",
            "BWA",
            "KHM",
            "HRV",
            "GRC",
            "SWE",
            "FIN",
            "NOR",
            "MYS",
            "ISR",
            "LTU",
            "SRB",
            "SVK",
            "SVN",
            "BGR",
            "CZE",
            "DNK",
            "GEO",
            "DEU",
            "HUN",
            "ISL",
            "JPN",
            "KAZ",
            "KGZ",
            "NLD",
            "POL",
            "ROU",
            "TJK",
            "THA",
            "AZE",
            "MNG"
           ],
           "name": "",
           "type": "choropleth",
           "z": [
            33,
            1,
            3,
            18,
            0,
            23,
            14,
            31,
            0,
            3,
            0,
            118,
            43,
            26,
            49,
            19,
            5,
            43,
            1,
            0,
            33,
            9,
            0,
            0,
            17,
            0,
            0,
            1,
            6,
            150,
            0,
            77,
            14,
            19
           ]
          }
         ],
         "name": "2021-10-03"
        },
        {
         "data": [
          {
           "coloraxis": "coloraxis",
           "geo": "geo",
           "hovertemplate": "date=2021-10-13<br>Country_code=%{location}<br>deaths=%{z}<extra></extra>",
           "locations": [
            "ITA",
            "CHN",
            "ALB",
            "BGD",
            "BWA",
            "KHM",
            "HRV",
            "GRC",
            "SWE",
            "FIN",
            "NOR",
            "MYS",
            "ISR",
            "LTU",
            "SRB",
            "SVK",
            "SVN",
            "BGR",
            "CZE",
            "DNK",
            "GEO",
            "DEU",
            "HUN",
            "ISL",
            "JPN",
            "KAZ",
            "KGZ",
            "NLD",
            "POL",
            "ROU",
            "TJK",
            "THA",
            "AZE",
            "MNG"
           ],
           "name": "",
           "type": "choropleth",
           "z": [
            37,
            0,
            5,
            17,
            0,
            15,
            27,
            31,
            2,
            3,
            13,
            68,
            7,
            31,
            51,
            20,
            5,
            98,
            6,
            0,
            26,
            92,
            10,
            0,
            33,
            35,
            2,
            12,
            40,
            390,
            0,
            82,
            17,
            17
           ]
          }
         ],
         "name": "2021-10-13"
        },
        {
         "data": [
          {
           "coloraxis": "coloraxis",
           "geo": "geo",
           "hovertemplate": "date=2021-10-23<br>Country_code=%{location}<br>deaths=%{z}<extra></extra>",
           "locations": [
            "ITA",
            "CHN",
            "ALB",
            "BGD",
            "BWA",
            "KHM",
            "HRV",
            "GRC",
            "SWE",
            "FIN",
            "NOR",
            "MYS",
            "ISR",
            "LTU",
            "SRB",
            "SVK",
            "SVN",
            "BGR",
            "CZE",
            "DNK",
            "GEO",
            "DEU",
            "HUN",
            "ISL",
            "JPN",
            "KAZ",
            "KGZ",
            "NLD",
            "POL",
            "ROU",
            "TJK",
            "THA",
            "AZE",
            "MNG"
           ],
           "name": "",
           "type": "choropleth",
           "z": [
            39,
            0,
            7,
            9,
            0,
            10,
            25,
            43,
            0,
            8,
            0,
            42,
            7,
            22,
            60,
            9,
            9,
            58,
            15,
            1,
            42,
            86,
            0,
            0,
            5,
            0,
            3,
            23,
            75,
            446,
            0,
            74,
            22,
            17
           ]
          }
         ],
         "name": "2021-10-23"
        },
        {
         "data": [
          {
           "coloraxis": "coloraxis",
           "geo": "geo",
           "hovertemplate": "date=2021-11-02<br>Country_code=%{location}<br>deaths=%{z}<extra></extra>",
           "locations": [
            "ITA",
            "CHN",
            "ALB",
            "BGD",
            "BWA",
            "KHM",
            "HRV",
            "GRC",
            "SWE",
            "FIN",
            "NOR",
            "MYS",
            "ISR",
            "LTU",
            "SRB",
            "SVK",
            "SVN",
            "BGR",
            "CZE",
            "DNK",
            "GEO",
            "DEU",
            "HUN",
            "ISL",
            "JPN",
            "KAZ",
            "KGZ",
            "NLD",
            "POL",
            "ROU",
            "TJK",
            "THA",
            "AZE",
            "MNG"
           ],
           "name": "",
           "type": "choropleth",
           "z": [
            41,
            0,
            6,
            3,
            0,
            13,
            40,
            60,
            15,
            12,
            0,
            70,
            3,
            26,
            60,
            31,
            10,
            145,
            32,
            0,
            47,
            81,
            39,
            1,
            7,
            25,
            4,
            18,
            9,
            591,
            0,
            78,
            31,
            10
           ]
          }
         ],
         "name": "2021-11-02"
        },
        {
         "data": [
          {
           "coloraxis": "coloraxis",
           "geo": "geo",
           "hovertemplate": "date=2021-11-12<br>Country_code=%{location}<br>deaths=%{z}<extra></extra>",
           "locations": [
            "ITA",
            "CHN",
            "ALB",
            "BGD",
            "BWA",
            "KHM",
            "HRV",
            "GRC",
            "SWE",
            "FIN",
            "NOR",
            "MYS",
            "ISR",
            "LTU",
            "SRB",
            "SVK",
            "SVN",
            "BGR",
            "CZE",
            "DNK",
            "GEO",
            "DEU",
            "HUN",
            "ISL",
            "JPN",
            "KAZ",
            "KGZ",
            "NLD",
            "POL",
            "ROU",
            "TJK",
            "THA",
            "AZE",
            "MNG"
           ],
           "name": "",
           "type": "choropleth",
           "z": [
            68,
            1,
            5,
            5,
            0,
            6,
            53,
            56,
            4,
            6,
            2,
            41,
            2,
            22,
            67,
            41,
            14,
            175,
            66,
            4,
            77,
            191,
            116,
            0,
            1,
            32,
            2,
            32,
            31,
            307,
            0,
            51,
            25,
            9
           ]
          }
         ],
         "name": "2021-11-12"
        },
        {
         "data": [
          {
           "coloraxis": "coloraxis",
           "geo": "geo",
           "hovertemplate": "date=2021-11-22<br>Country_code=%{location}<br>deaths=%{z}<extra></extra>",
           "locations": [
            "ITA",
            "CHN",
            "ALB",
            "BGD",
            "BWA",
            "KHM",
            "HRV",
            "GRC",
            "SWE",
            "FIN",
            "NOR",
            "MYS",
            "ISR",
            "LTU",
            "SRB",
            "SVK",
            "SVN",
            "BGR",
            "CZE",
            "DNK",
            "GEO",
            "DEU",
            "HUN",
            "ISL",
            "JPN",
            "KAZ",
            "KGZ",
            "NLD",
            "POL",
            "ROU",
            "TJK",
            "THA",
            "AZE",
            "MNG"
           ],
           "name": "",
           "type": "choropleth",
           "z": [
            70,
            0,
            14,
            2,
            0,
            5,
            73,
            112,
            0,
            5,
            3,
            61,
            1,
            33,
            56,
            58,
            17,
            254,
            225,
            6,
            55,
            62,
            392,
            0,
            2,
            56,
            4,
            29,
            8,
            154,
            0,
            49,
            33,
            8
           ]
          }
         ],
         "name": "2021-11-22"
        },
        {
         "data": [
          {
           "coloraxis": "coloraxis",
           "geo": "geo",
           "hovertemplate": "date=2021-12-02<br>Country_code=%{location}<br>deaths=%{z}<extra></extra>",
           "locations": [
            "ITA",
            "CHN",
            "ALB",
            "BGD",
            "BWA",
            "KHM",
            "HRV",
            "GRC",
            "SWE",
            "FIN",
            "NOR",
            "MYS",
            "ISR",
            "LTU",
            "SRB",
            "SVK",
            "SVN",
            "BGR",
            "CZE",
            "DNK",
            "GEO",
            "DEU",
            "HUN",
            "ISL",
            "JPN",
            "KAZ",
            "KGZ",
            "NLD",
            "POL",
            "ROU",
            "TJK",
            "THA",
            "AZE",
            "MNG"
           ],
           "name": "",
           "type": "choropleth",
           "z": [
            72,
            0,
            3,
            3,
            1,
            5,
            76,
            91,
            3,
            12,
            1,
            47,
            0,
            25,
            48,
            103,
            15,
            114,
            131,
            3,
            72,
            388,
            218,
            0,
            1,
            15,
            3,
            65,
            503,
            66,
            0,
            33,
            21,
            3
           ]
          }
         ],
         "name": "2021-12-02"
        },
        {
         "data": [
          {
           "coloraxis": "coloraxis",
           "geo": "geo",
           "hovertemplate": "date=2021-12-12<br>Country_code=%{location}<br>deaths=%{z}<extra></extra>",
           "locations": [
            "ITA",
            "CHN",
            "ALB",
            "BGD",
            "BWA",
            "KHM",
            "HRV",
            "GRC",
            "SWE",
            "FIN",
            "NOR",
            "MYS",
            "ISR",
            "LTU",
            "SRB",
            "SVK",
            "SVN",
            "BGR",
            "CZE",
            "DNK",
            "GEO",
            "DEU",
            "HUN",
            "ISL",
            "JPN",
            "KAZ",
            "KGZ",
            "NLD",
            "POL",
            "ROU",
            "TJK",
            "THA",
            "AZE",
            "MNG"
           ],
           "name": "",
           "type": "choropleth",
           "z": [
            66,
            0,
            2,
            6,
            0,
            3,
            45,
            91,
            0,
            7,
            0,
            17,
            6,
            21,
            30,
            50,
            14,
            50,
            74,
            9,
            36,
            132,
            0,
            0,
            0,
            0,
            2,
            38,
            65,
            165,
            0,
            20,
            18,
            5
           ]
          }
         ],
         "name": "2021-12-12"
        },
        {
         "data": [
          {
           "coloraxis": "coloraxis",
           "geo": "geo",
           "hovertemplate": "date=2021-12-22<br>Country_code=%{location}<br>deaths=%{z}<extra></extra>",
           "locations": [
            "ITA",
            "CHN",
            "ALB",
            "BGD",
            "BWA",
            "KHM",
            "HRV",
            "GRC",
            "SWE",
            "FIN",
            "NOR",
            "MYS",
            "ISR",
            "LTU",
            "SRB",
            "SVK",
            "SVN",
            "BGR",
            "CZE",
            "DNK",
            "GEO",
            "DEU",
            "HUN",
            "ISL",
            "JPN",
            "KAZ",
            "KGZ",
            "NLD",
            "POL",
            "ROU",
            "TJK",
            "THA",
            "AZE",
            "MNG"
           ],
           "name": "",
           "type": "choropleth",
           "z": [
            146,
            0,
            2,
            1,
            0,
            1,
            36,
            71,
            17,
            6,
            48,
            29,
            7,
            27,
            27,
            69,
            6,
            56,
            0,
            14,
            52,
            510,
            139,
            0,
            2,
            8,
            2,
            47,
            777,
            62,
            0,
            31,
            16,
            3
           ]
          }
         ],
         "name": "2021-12-22"
        }
       ],
       "layout": {
        "coloraxis": {
         "cmid": 509.5,
         "colorbar": {
          "title": {
           "text": "deaths"
          }
         },
         "colorscale": [
          [
           0,
           "rgb(231, 250, 90)"
          ],
          [
           0.09090909090909091,
           "rgb(246, 211, 70)"
          ],
          [
           0.18181818181818182,
           "rgb(251, 173, 60)"
          ],
          [
           0.2727272727272727,
           "rgb(246, 139, 69)"
          ],
          [
           0.36363636363636365,
           "rgb(225, 113, 97)"
          ],
          [
           0.45454545454545453,
           "rgb(193, 100, 121)"
          ],
          [
           0.5454545454545454,
           "rgb(158, 89, 135)"
          ],
          [
           0.6363636363636364,
           "rgb(126, 77, 143)"
          ],
          [
           0.7272727272727273,
           "rgb(93, 62, 153)"
          ],
          [
           0.8181818181818182,
           "rgb(53, 50, 155)"
          ],
          [
           0.9090909090909091,
           "rgb(13, 48, 100)"
          ],
          [
           1,
           "rgb(3, 35, 51)"
          ]
         ]
        },
        "geo": {
         "center": {},
         "domain": {
          "x": [
           0,
           1
          ],
          "y": [
           0,
           1
          ]
         }
        },
        "legend": {
         "tracegroupgap": 0
        },
        "margin": {
         "t": 60
        },
        "sliders": [
         {
          "active": 0,
          "currentvalue": {
           "prefix": "date="
          },
          "len": 0.9,
          "pad": {
           "b": 10,
           "t": 60
          },
          "steps": [
           {
            "args": [
             [
              "2020-01-22"
             ],
             {
              "frame": {
               "duration": 0,
               "redraw": true
              },
              "fromcurrent": true,
              "mode": "immediate",
              "transition": {
               "duration": 0,
               "easing": "linear"
              }
             }
            ],
            "label": "2020-01-22",
            "method": "animate"
           },
           {
            "args": [
             [
              "2020-02-01"
             ],
             {
              "frame": {
               "duration": 0,
               "redraw": true
              },
              "fromcurrent": true,
              "mode": "immediate",
              "transition": {
               "duration": 0,
               "easing": "linear"
              }
             }
            ],
            "label": "2020-02-01",
            "method": "animate"
           },
           {
            "args": [
             [
              "2020-02-11"
             ],
             {
              "frame": {
               "duration": 0,
               "redraw": true
              },
              "fromcurrent": true,
              "mode": "immediate",
              "transition": {
               "duration": 0,
               "easing": "linear"
              }
             }
            ],
            "label": "2020-02-11",
            "method": "animate"
           },
           {
            "args": [
             [
              "2020-02-21"
             ],
             {
              "frame": {
               "duration": 0,
               "redraw": true
              },
              "fromcurrent": true,
              "mode": "immediate",
              "transition": {
               "duration": 0,
               "easing": "linear"
              }
             }
            ],
            "label": "2020-02-21",
            "method": "animate"
           },
           {
            "args": [
             [
              "2020-03-02"
             ],
             {
              "frame": {
               "duration": 0,
               "redraw": true
              },
              "fromcurrent": true,
              "mode": "immediate",
              "transition": {
               "duration": 0,
               "easing": "linear"
              }
             }
            ],
            "label": "2020-03-02",
            "method": "animate"
           },
           {
            "args": [
             [
              "2020-03-12"
             ],
             {
              "frame": {
               "duration": 0,
               "redraw": true
              },
              "fromcurrent": true,
              "mode": "immediate",
              "transition": {
               "duration": 0,
               "easing": "linear"
              }
             }
            ],
            "label": "2020-03-12",
            "method": "animate"
           },
           {
            "args": [
             [
              "2020-03-22"
             ],
             {
              "frame": {
               "duration": 0,
               "redraw": true
              },
              "fromcurrent": true,
              "mode": "immediate",
              "transition": {
               "duration": 0,
               "easing": "linear"
              }
             }
            ],
            "label": "2020-03-22",
            "method": "animate"
           },
           {
            "args": [
             [
              "2020-04-01"
             ],
             {
              "frame": {
               "duration": 0,
               "redraw": true
              },
              "fromcurrent": true,
              "mode": "immediate",
              "transition": {
               "duration": 0,
               "easing": "linear"
              }
             }
            ],
            "label": "2020-04-01",
            "method": "animate"
           },
           {
            "args": [
             [
              "2020-04-11"
             ],
             {
              "frame": {
               "duration": 0,
               "redraw": true
              },
              "fromcurrent": true,
              "mode": "immediate",
              "transition": {
               "duration": 0,
               "easing": "linear"
              }
             }
            ],
            "label": "2020-04-11",
            "method": "animate"
           },
           {
            "args": [
             [
              "2020-04-21"
             ],
             {
              "frame": {
               "duration": 0,
               "redraw": true
              },
              "fromcurrent": true,
              "mode": "immediate",
              "transition": {
               "duration": 0,
               "easing": "linear"
              }
             }
            ],
            "label": "2020-04-21",
            "method": "animate"
           },
           {
            "args": [
             [
              "2020-05-01"
             ],
             {
              "frame": {
               "duration": 0,
               "redraw": true
              },
              "fromcurrent": true,
              "mode": "immediate",
              "transition": {
               "duration": 0,
               "easing": "linear"
              }
             }
            ],
            "label": "2020-05-01",
            "method": "animate"
           },
           {
            "args": [
             [
              "2020-05-11"
             ],
             {
              "frame": {
               "duration": 0,
               "redraw": true
              },
              "fromcurrent": true,
              "mode": "immediate",
              "transition": {
               "duration": 0,
               "easing": "linear"
              }
             }
            ],
            "label": "2020-05-11",
            "method": "animate"
           },
           {
            "args": [
             [
              "2020-05-21"
             ],
             {
              "frame": {
               "duration": 0,
               "redraw": true
              },
              "fromcurrent": true,
              "mode": "immediate",
              "transition": {
               "duration": 0,
               "easing": "linear"
              }
             }
            ],
            "label": "2020-05-21",
            "method": "animate"
           },
           {
            "args": [
             [
              "2020-05-31"
             ],
             {
              "frame": {
               "duration": 0,
               "redraw": true
              },
              "fromcurrent": true,
              "mode": "immediate",
              "transition": {
               "duration": 0,
               "easing": "linear"
              }
             }
            ],
            "label": "2020-05-31",
            "method": "animate"
           },
           {
            "args": [
             [
              "2020-06-10"
             ],
             {
              "frame": {
               "duration": 0,
               "redraw": true
              },
              "fromcurrent": true,
              "mode": "immediate",
              "transition": {
               "duration": 0,
               "easing": "linear"
              }
             }
            ],
            "label": "2020-06-10",
            "method": "animate"
           },
           {
            "args": [
             [
              "2020-06-20"
             ],
             {
              "frame": {
               "duration": 0,
               "redraw": true
              },
              "fromcurrent": true,
              "mode": "immediate",
              "transition": {
               "duration": 0,
               "easing": "linear"
              }
             }
            ],
            "label": "2020-06-20",
            "method": "animate"
           },
           {
            "args": [
             [
              "2020-06-30"
             ],
             {
              "frame": {
               "duration": 0,
               "redraw": true
              },
              "fromcurrent": true,
              "mode": "immediate",
              "transition": {
               "duration": 0,
               "easing": "linear"
              }
             }
            ],
            "label": "2020-06-30",
            "method": "animate"
           },
           {
            "args": [
             [
              "2020-07-10"
             ],
             {
              "frame": {
               "duration": 0,
               "redraw": true
              },
              "fromcurrent": true,
              "mode": "immediate",
              "transition": {
               "duration": 0,
               "easing": "linear"
              }
             }
            ],
            "label": "2020-07-10",
            "method": "animate"
           },
           {
            "args": [
             [
              "2020-07-20"
             ],
             {
              "frame": {
               "duration": 0,
               "redraw": true
              },
              "fromcurrent": true,
              "mode": "immediate",
              "transition": {
               "duration": 0,
               "easing": "linear"
              }
             }
            ],
            "label": "2020-07-20",
            "method": "animate"
           },
           {
            "args": [
             [
              "2020-07-30"
             ],
             {
              "frame": {
               "duration": 0,
               "redraw": true
              },
              "fromcurrent": true,
              "mode": "immediate",
              "transition": {
               "duration": 0,
               "easing": "linear"
              }
             }
            ],
            "label": "2020-07-30",
            "method": "animate"
           },
           {
            "args": [
             [
              "2020-08-09"
             ],
             {
              "frame": {
               "duration": 0,
               "redraw": true
              },
              "fromcurrent": true,
              "mode": "immediate",
              "transition": {
               "duration": 0,
               "easing": "linear"
              }
             }
            ],
            "label": "2020-08-09",
            "method": "animate"
           },
           {
            "args": [
             [
              "2020-08-19"
             ],
             {
              "frame": {
               "duration": 0,
               "redraw": true
              },
              "fromcurrent": true,
              "mode": "immediate",
              "transition": {
               "duration": 0,
               "easing": "linear"
              }
             }
            ],
            "label": "2020-08-19",
            "method": "animate"
           },
           {
            "args": [
             [
              "2020-08-29"
             ],
             {
              "frame": {
               "duration": 0,
               "redraw": true
              },
              "fromcurrent": true,
              "mode": "immediate",
              "transition": {
               "duration": 0,
               "easing": "linear"
              }
             }
            ],
            "label": "2020-08-29",
            "method": "animate"
           },
           {
            "args": [
             [
              "2020-09-08"
             ],
             {
              "frame": {
               "duration": 0,
               "redraw": true
              },
              "fromcurrent": true,
              "mode": "immediate",
              "transition": {
               "duration": 0,
               "easing": "linear"
              }
             }
            ],
            "label": "2020-09-08",
            "method": "animate"
           },
           {
            "args": [
             [
              "2020-09-18"
             ],
             {
              "frame": {
               "duration": 0,
               "redraw": true
              },
              "fromcurrent": true,
              "mode": "immediate",
              "transition": {
               "duration": 0,
               "easing": "linear"
              }
             }
            ],
            "label": "2020-09-18",
            "method": "animate"
           },
           {
            "args": [
             [
              "2020-09-28"
             ],
             {
              "frame": {
               "duration": 0,
               "redraw": true
              },
              "fromcurrent": true,
              "mode": "immediate",
              "transition": {
               "duration": 0,
               "easing": "linear"
              }
             }
            ],
            "label": "2020-09-28",
            "method": "animate"
           },
           {
            "args": [
             [
              "2020-10-08"
             ],
             {
              "frame": {
               "duration": 0,
               "redraw": true
              },
              "fromcurrent": true,
              "mode": "immediate",
              "transition": {
               "duration": 0,
               "easing": "linear"
              }
             }
            ],
            "label": "2020-10-08",
            "method": "animate"
           },
           {
            "args": [
             [
              "2020-10-18"
             ],
             {
              "frame": {
               "duration": 0,
               "redraw": true
              },
              "fromcurrent": true,
              "mode": "immediate",
              "transition": {
               "duration": 0,
               "easing": "linear"
              }
             }
            ],
            "label": "2020-10-18",
            "method": "animate"
           },
           {
            "args": [
             [
              "2020-10-28"
             ],
             {
              "frame": {
               "duration": 0,
               "redraw": true
              },
              "fromcurrent": true,
              "mode": "immediate",
              "transition": {
               "duration": 0,
               "easing": "linear"
              }
             }
            ],
            "label": "2020-10-28",
            "method": "animate"
           },
           {
            "args": [
             [
              "2020-11-07"
             ],
             {
              "frame": {
               "duration": 0,
               "redraw": true
              },
              "fromcurrent": true,
              "mode": "immediate",
              "transition": {
               "duration": 0,
               "easing": "linear"
              }
             }
            ],
            "label": "2020-11-07",
            "method": "animate"
           },
           {
            "args": [
             [
              "2020-11-17"
             ],
             {
              "frame": {
               "duration": 0,
               "redraw": true
              },
              "fromcurrent": true,
              "mode": "immediate",
              "transition": {
               "duration": 0,
               "easing": "linear"
              }
             }
            ],
            "label": "2020-11-17",
            "method": "animate"
           },
           {
            "args": [
             [
              "2020-11-27"
             ],
             {
              "frame": {
               "duration": 0,
               "redraw": true
              },
              "fromcurrent": true,
              "mode": "immediate",
              "transition": {
               "duration": 0,
               "easing": "linear"
              }
             }
            ],
            "label": "2020-11-27",
            "method": "animate"
           },
           {
            "args": [
             [
              "2020-12-07"
             ],
             {
              "frame": {
               "duration": 0,
               "redraw": true
              },
              "fromcurrent": true,
              "mode": "immediate",
              "transition": {
               "duration": 0,
               "easing": "linear"
              }
             }
            ],
            "label": "2020-12-07",
            "method": "animate"
           },
           {
            "args": [
             [
              "2020-12-17"
             ],
             {
              "frame": {
               "duration": 0,
               "redraw": true
              },
              "fromcurrent": true,
              "mode": "immediate",
              "transition": {
               "duration": 0,
               "easing": "linear"
              }
             }
            ],
            "label": "2020-12-17",
            "method": "animate"
           },
           {
            "args": [
             [
              "2020-12-27"
             ],
             {
              "frame": {
               "duration": 0,
               "redraw": true
              },
              "fromcurrent": true,
              "mode": "immediate",
              "transition": {
               "duration": 0,
               "easing": "linear"
              }
             }
            ],
            "label": "2020-12-27",
            "method": "animate"
           },
           {
            "args": [
             [
              "2021-01-06"
             ],
             {
              "frame": {
               "duration": 0,
               "redraw": true
              },
              "fromcurrent": true,
              "mode": "immediate",
              "transition": {
               "duration": 0,
               "easing": "linear"
              }
             }
            ],
            "label": "2021-01-06",
            "method": "animate"
           },
           {
            "args": [
             [
              "2021-01-16"
             ],
             {
              "frame": {
               "duration": 0,
               "redraw": true
              },
              "fromcurrent": true,
              "mode": "immediate",
              "transition": {
               "duration": 0,
               "easing": "linear"
              }
             }
            ],
            "label": "2021-01-16",
            "method": "animate"
           },
           {
            "args": [
             [
              "2021-01-26"
             ],
             {
              "frame": {
               "duration": 0,
               "redraw": true
              },
              "fromcurrent": true,
              "mode": "immediate",
              "transition": {
               "duration": 0,
               "easing": "linear"
              }
             }
            ],
            "label": "2021-01-26",
            "method": "animate"
           },
           {
            "args": [
             [
              "2021-02-05"
             ],
             {
              "frame": {
               "duration": 0,
               "redraw": true
              },
              "fromcurrent": true,
              "mode": "immediate",
              "transition": {
               "duration": 0,
               "easing": "linear"
              }
             }
            ],
            "label": "2021-02-05",
            "method": "animate"
           },
           {
            "args": [
             [
              "2021-02-15"
             ],
             {
              "frame": {
               "duration": 0,
               "redraw": true
              },
              "fromcurrent": true,
              "mode": "immediate",
              "transition": {
               "duration": 0,
               "easing": "linear"
              }
             }
            ],
            "label": "2021-02-15",
            "method": "animate"
           },
           {
            "args": [
             [
              "2021-02-25"
             ],
             {
              "frame": {
               "duration": 0,
               "redraw": true
              },
              "fromcurrent": true,
              "mode": "immediate",
              "transition": {
               "duration": 0,
               "easing": "linear"
              }
             }
            ],
            "label": "2021-02-25",
            "method": "animate"
           },
           {
            "args": [
             [
              "2021-03-07"
             ],
             {
              "frame": {
               "duration": 0,
               "redraw": true
              },
              "fromcurrent": true,
              "mode": "immediate",
              "transition": {
               "duration": 0,
               "easing": "linear"
              }
             }
            ],
            "label": "2021-03-07",
            "method": "animate"
           },
           {
            "args": [
             [
              "2021-03-17"
             ],
             {
              "frame": {
               "duration": 0,
               "redraw": true
              },
              "fromcurrent": true,
              "mode": "immediate",
              "transition": {
               "duration": 0,
               "easing": "linear"
              }
             }
            ],
            "label": "2021-03-17",
            "method": "animate"
           },
           {
            "args": [
             [
              "2021-03-27"
             ],
             {
              "frame": {
               "duration": 0,
               "redraw": true
              },
              "fromcurrent": true,
              "mode": "immediate",
              "transition": {
               "duration": 0,
               "easing": "linear"
              }
             }
            ],
            "label": "2021-03-27",
            "method": "animate"
           },
           {
            "args": [
             [
              "2021-04-06"
             ],
             {
              "frame": {
               "duration": 0,
               "redraw": true
              },
              "fromcurrent": true,
              "mode": "immediate",
              "transition": {
               "duration": 0,
               "easing": "linear"
              }
             }
            ],
            "label": "2021-04-06",
            "method": "animate"
           },
           {
            "args": [
             [
              "2021-04-16"
             ],
             {
              "frame": {
               "duration": 0,
               "redraw": true
              },
              "fromcurrent": true,
              "mode": "immediate",
              "transition": {
               "duration": 0,
               "easing": "linear"
              }
             }
            ],
            "label": "2021-04-16",
            "method": "animate"
           },
           {
            "args": [
             [
              "2021-04-26"
             ],
             {
              "frame": {
               "duration": 0,
               "redraw": true
              },
              "fromcurrent": true,
              "mode": "immediate",
              "transition": {
               "duration": 0,
               "easing": "linear"
              }
             }
            ],
            "label": "2021-04-26",
            "method": "animate"
           },
           {
            "args": [
             [
              "2021-05-06"
             ],
             {
              "frame": {
               "duration": 0,
               "redraw": true
              },
              "fromcurrent": true,
              "mode": "immediate",
              "transition": {
               "duration": 0,
               "easing": "linear"
              }
             }
            ],
            "label": "2021-05-06",
            "method": "animate"
           },
           {
            "args": [
             [
              "2021-05-16"
             ],
             {
              "frame": {
               "duration": 0,
               "redraw": true
              },
              "fromcurrent": true,
              "mode": "immediate",
              "transition": {
               "duration": 0,
               "easing": "linear"
              }
             }
            ],
            "label": "2021-05-16",
            "method": "animate"
           },
           {
            "args": [
             [
              "2021-05-26"
             ],
             {
              "frame": {
               "duration": 0,
               "redraw": true
              },
              "fromcurrent": true,
              "mode": "immediate",
              "transition": {
               "duration": 0,
               "easing": "linear"
              }
             }
            ],
            "label": "2021-05-26",
            "method": "animate"
           },
           {
            "args": [
             [
              "2021-06-05"
             ],
             {
              "frame": {
               "duration": 0,
               "redraw": true
              },
              "fromcurrent": true,
              "mode": "immediate",
              "transition": {
               "duration": 0,
               "easing": "linear"
              }
             }
            ],
            "label": "2021-06-05",
            "method": "animate"
           },
           {
            "args": [
             [
              "2021-06-15"
             ],
             {
              "frame": {
               "duration": 0,
               "redraw": true
              },
              "fromcurrent": true,
              "mode": "immediate",
              "transition": {
               "duration": 0,
               "easing": "linear"
              }
             }
            ],
            "label": "2021-06-15",
            "method": "animate"
           },
           {
            "args": [
             [
              "2021-06-25"
             ],
             {
              "frame": {
               "duration": 0,
               "redraw": true
              },
              "fromcurrent": true,
              "mode": "immediate",
              "transition": {
               "duration": 0,
               "easing": "linear"
              }
             }
            ],
            "label": "2021-06-25",
            "method": "animate"
           },
           {
            "args": [
             [
              "2021-07-05"
             ],
             {
              "frame": {
               "duration": 0,
               "redraw": true
              },
              "fromcurrent": true,
              "mode": "immediate",
              "transition": {
               "duration": 0,
               "easing": "linear"
              }
             }
            ],
            "label": "2021-07-05",
            "method": "animate"
           },
           {
            "args": [
             [
              "2021-07-15"
             ],
             {
              "frame": {
               "duration": 0,
               "redraw": true
              },
              "fromcurrent": true,
              "mode": "immediate",
              "transition": {
               "duration": 0,
               "easing": "linear"
              }
             }
            ],
            "label": "2021-07-15",
            "method": "animate"
           },
           {
            "args": [
             [
              "2021-07-25"
             ],
             {
              "frame": {
               "duration": 0,
               "redraw": true
              },
              "fromcurrent": true,
              "mode": "immediate",
              "transition": {
               "duration": 0,
               "easing": "linear"
              }
             }
            ],
            "label": "2021-07-25",
            "method": "animate"
           },
           {
            "args": [
             [
              "2021-08-04"
             ],
             {
              "frame": {
               "duration": 0,
               "redraw": true
              },
              "fromcurrent": true,
              "mode": "immediate",
              "transition": {
               "duration": 0,
               "easing": "linear"
              }
             }
            ],
            "label": "2021-08-04",
            "method": "animate"
           },
           {
            "args": [
             [
              "2021-08-14"
             ],
             {
              "frame": {
               "duration": 0,
               "redraw": true
              },
              "fromcurrent": true,
              "mode": "immediate",
              "transition": {
               "duration": 0,
               "easing": "linear"
              }
             }
            ],
            "label": "2021-08-14",
            "method": "animate"
           },
           {
            "args": [
             [
              "2021-08-24"
             ],
             {
              "frame": {
               "duration": 0,
               "redraw": true
              },
              "fromcurrent": true,
              "mode": "immediate",
              "transition": {
               "duration": 0,
               "easing": "linear"
              }
             }
            ],
            "label": "2021-08-24",
            "method": "animate"
           },
           {
            "args": [
             [
              "2021-09-03"
             ],
             {
              "frame": {
               "duration": 0,
               "redraw": true
              },
              "fromcurrent": true,
              "mode": "immediate",
              "transition": {
               "duration": 0,
               "easing": "linear"
              }
             }
            ],
            "label": "2021-09-03",
            "method": "animate"
           },
           {
            "args": [
             [
              "2021-09-13"
             ],
             {
              "frame": {
               "duration": 0,
               "redraw": true
              },
              "fromcurrent": true,
              "mode": "immediate",
              "transition": {
               "duration": 0,
               "easing": "linear"
              }
             }
            ],
            "label": "2021-09-13",
            "method": "animate"
           },
           {
            "args": [
             [
              "2021-09-23"
             ],
             {
              "frame": {
               "duration": 0,
               "redraw": true
              },
              "fromcurrent": true,
              "mode": "immediate",
              "transition": {
               "duration": 0,
               "easing": "linear"
              }
             }
            ],
            "label": "2021-09-23",
            "method": "animate"
           },
           {
            "args": [
             [
              "2021-10-03"
             ],
             {
              "frame": {
               "duration": 0,
               "redraw": true
              },
              "fromcurrent": true,
              "mode": "immediate",
              "transition": {
               "duration": 0,
               "easing": "linear"
              }
             }
            ],
            "label": "2021-10-03",
            "method": "animate"
           },
           {
            "args": [
             [
              "2021-10-13"
             ],
             {
              "frame": {
               "duration": 0,
               "redraw": true
              },
              "fromcurrent": true,
              "mode": "immediate",
              "transition": {
               "duration": 0,
               "easing": "linear"
              }
             }
            ],
            "label": "2021-10-13",
            "method": "animate"
           },
           {
            "args": [
             [
              "2021-10-23"
             ],
             {
              "frame": {
               "duration": 0,
               "redraw": true
              },
              "fromcurrent": true,
              "mode": "immediate",
              "transition": {
               "duration": 0,
               "easing": "linear"
              }
             }
            ],
            "label": "2021-10-23",
            "method": "animate"
           },
           {
            "args": [
             [
              "2021-11-02"
             ],
             {
              "frame": {
               "duration": 0,
               "redraw": true
              },
              "fromcurrent": true,
              "mode": "immediate",
              "transition": {
               "duration": 0,
               "easing": "linear"
              }
             }
            ],
            "label": "2021-11-02",
            "method": "animate"
           },
           {
            "args": [
             [
              "2021-11-12"
             ],
             {
              "frame": {
               "duration": 0,
               "redraw": true
              },
              "fromcurrent": true,
              "mode": "immediate",
              "transition": {
               "duration": 0,
               "easing": "linear"
              }
             }
            ],
            "label": "2021-11-12",
            "method": "animate"
           },
           {
            "args": [
             [
              "2021-11-22"
             ],
             {
              "frame": {
               "duration": 0,
               "redraw": true
              },
              "fromcurrent": true,
              "mode": "immediate",
              "transition": {
               "duration": 0,
               "easing": "linear"
              }
             }
            ],
            "label": "2021-11-22",
            "method": "animate"
           },
           {
            "args": [
             [
              "2021-12-02"
             ],
             {
              "frame": {
               "duration": 0,
               "redraw": true
              },
              "fromcurrent": true,
              "mode": "immediate",
              "transition": {
               "duration": 0,
               "easing": "linear"
              }
             }
            ],
            "label": "2021-12-02",
            "method": "animate"
           },
           {
            "args": [
             [
              "2021-12-12"
             ],
             {
              "frame": {
               "duration": 0,
               "redraw": true
              },
              "fromcurrent": true,
              "mode": "immediate",
              "transition": {
               "duration": 0,
               "easing": "linear"
              }
             }
            ],
            "label": "2021-12-12",
            "method": "animate"
           },
           {
            "args": [
             [
              "2021-12-22"
             ],
             {
              "frame": {
               "duration": 0,
               "redraw": true
              },
              "fromcurrent": true,
              "mode": "immediate",
              "transition": {
               "duration": 0,
               "easing": "linear"
              }
             }
            ],
            "label": "2021-12-22",
            "method": "animate"
           }
          ],
          "x": 0.1,
          "xanchor": "left",
          "y": 0,
          "yanchor": "top"
         }
        ],
        "template": {
         "data": {
          "bar": [
           {
            "error_x": {
             "color": "#2a3f5f"
            },
            "error_y": {
             "color": "#2a3f5f"
            },
            "marker": {
             "line": {
              "color": "#E5ECF6",
              "width": 0.5
             },
             "pattern": {
              "fillmode": "overlay",
              "size": 10,
              "solidity": 0.2
             }
            },
            "type": "bar"
           }
          ],
          "barpolar": [
           {
            "marker": {
             "line": {
              "color": "#E5ECF6",
              "width": 0.5
             },
             "pattern": {
              "fillmode": "overlay",
              "size": 10,
              "solidity": 0.2
             }
            },
            "type": "barpolar"
           }
          ],
          "carpet": [
           {
            "aaxis": {
             "endlinecolor": "#2a3f5f",
             "gridcolor": "white",
             "linecolor": "white",
             "minorgridcolor": "white",
             "startlinecolor": "#2a3f5f"
            },
            "baxis": {
             "endlinecolor": "#2a3f5f",
             "gridcolor": "white",
             "linecolor": "white",
             "minorgridcolor": "white",
             "startlinecolor": "#2a3f5f"
            },
            "type": "carpet"
           }
          ],
          "choropleth": [
           {
            "colorbar": {
             "outlinewidth": 0,
             "ticks": ""
            },
            "type": "choropleth"
           }
          ],
          "contour": [
           {
            "colorbar": {
             "outlinewidth": 0,
             "ticks": ""
            },
            "colorscale": [
             [
              0,
              "#0d0887"
             ],
             [
              0.1111111111111111,
              "#46039f"
             ],
             [
              0.2222222222222222,
              "#7201a8"
             ],
             [
              0.3333333333333333,
              "#9c179e"
             ],
             [
              0.4444444444444444,
              "#bd3786"
             ],
             [
              0.5555555555555556,
              "#d8576b"
             ],
             [
              0.6666666666666666,
              "#ed7953"
             ],
             [
              0.7777777777777778,
              "#fb9f3a"
             ],
             [
              0.8888888888888888,
              "#fdca26"
             ],
             [
              1,
              "#f0f921"
             ]
            ],
            "type": "contour"
           }
          ],
          "contourcarpet": [
           {
            "colorbar": {
             "outlinewidth": 0,
             "ticks": ""
            },
            "type": "contourcarpet"
           }
          ],
          "heatmap": [
           {
            "colorbar": {
             "outlinewidth": 0,
             "ticks": ""
            },
            "colorscale": [
             [
              0,
              "#0d0887"
             ],
             [
              0.1111111111111111,
              "#46039f"
             ],
             [
              0.2222222222222222,
              "#7201a8"
             ],
             [
              0.3333333333333333,
              "#9c179e"
             ],
             [
              0.4444444444444444,
              "#bd3786"
             ],
             [
              0.5555555555555556,
              "#d8576b"
             ],
             [
              0.6666666666666666,
              "#ed7953"
             ],
             [
              0.7777777777777778,
              "#fb9f3a"
             ],
             [
              0.8888888888888888,
              "#fdca26"
             ],
             [
              1,
              "#f0f921"
             ]
            ],
            "type": "heatmap"
           }
          ],
          "heatmapgl": [
           {
            "colorbar": {
             "outlinewidth": 0,
             "ticks": ""
            },
            "colorscale": [
             [
              0,
              "#0d0887"
             ],
             [
              0.1111111111111111,
              "#46039f"
             ],
             [
              0.2222222222222222,
              "#7201a8"
             ],
             [
              0.3333333333333333,
              "#9c179e"
             ],
             [
              0.4444444444444444,
              "#bd3786"
             ],
             [
              0.5555555555555556,
              "#d8576b"
             ],
             [
              0.6666666666666666,
              "#ed7953"
             ],
             [
              0.7777777777777778,
              "#fb9f3a"
             ],
             [
              0.8888888888888888,
              "#fdca26"
             ],
             [
              1,
              "#f0f921"
             ]
            ],
            "type": "heatmapgl"
           }
          ],
          "histogram": [
           {
            "marker": {
             "pattern": {
              "fillmode": "overlay",
              "size": 10,
              "solidity": 0.2
             }
            },
            "type": "histogram"
           }
          ],
          "histogram2d": [
           {
            "colorbar": {
             "outlinewidth": 0,
             "ticks": ""
            },
            "colorscale": [
             [
              0,
              "#0d0887"
             ],
             [
              0.1111111111111111,
              "#46039f"
             ],
             [
              0.2222222222222222,
              "#7201a8"
             ],
             [
              0.3333333333333333,
              "#9c179e"
             ],
             [
              0.4444444444444444,
              "#bd3786"
             ],
             [
              0.5555555555555556,
              "#d8576b"
             ],
             [
              0.6666666666666666,
              "#ed7953"
             ],
             [
              0.7777777777777778,
              "#fb9f3a"
             ],
             [
              0.8888888888888888,
              "#fdca26"
             ],
             [
              1,
              "#f0f921"
             ]
            ],
            "type": "histogram2d"
           }
          ],
          "histogram2dcontour": [
           {
            "colorbar": {
             "outlinewidth": 0,
             "ticks": ""
            },
            "colorscale": [
             [
              0,
              "#0d0887"
             ],
             [
              0.1111111111111111,
              "#46039f"
             ],
             [
              0.2222222222222222,
              "#7201a8"
             ],
             [
              0.3333333333333333,
              "#9c179e"
             ],
             [
              0.4444444444444444,
              "#bd3786"
             ],
             [
              0.5555555555555556,
              "#d8576b"
             ],
             [
              0.6666666666666666,
              "#ed7953"
             ],
             [
              0.7777777777777778,
              "#fb9f3a"
             ],
             [
              0.8888888888888888,
              "#fdca26"
             ],
             [
              1,
              "#f0f921"
             ]
            ],
            "type": "histogram2dcontour"
           }
          ],
          "mesh3d": [
           {
            "colorbar": {
             "outlinewidth": 0,
             "ticks": ""
            },
            "type": "mesh3d"
           }
          ],
          "parcoords": [
           {
            "line": {
             "colorbar": {
              "outlinewidth": 0,
              "ticks": ""
             }
            },
            "type": "parcoords"
           }
          ],
          "pie": [
           {
            "automargin": true,
            "type": "pie"
           }
          ],
          "scatter": [
           {
            "fillpattern": {
             "fillmode": "overlay",
             "size": 10,
             "solidity": 0.2
            },
            "type": "scatter"
           }
          ],
          "scatter3d": [
           {
            "line": {
             "colorbar": {
              "outlinewidth": 0,
              "ticks": ""
             }
            },
            "marker": {
             "colorbar": {
              "outlinewidth": 0,
              "ticks": ""
             }
            },
            "type": "scatter3d"
           }
          ],
          "scattercarpet": [
           {
            "marker": {
             "colorbar": {
              "outlinewidth": 0,
              "ticks": ""
             }
            },
            "type": "scattercarpet"
           }
          ],
          "scattergeo": [
           {
            "marker": {
             "colorbar": {
              "outlinewidth": 0,
              "ticks": ""
             }
            },
            "type": "scattergeo"
           }
          ],
          "scattergl": [
           {
            "marker": {
             "colorbar": {
              "outlinewidth": 0,
              "ticks": ""
             }
            },
            "type": "scattergl"
           }
          ],
          "scattermapbox": [
           {
            "marker": {
             "colorbar": {
              "outlinewidth": 0,
              "ticks": ""
             }
            },
            "type": "scattermapbox"
           }
          ],
          "scatterpolar": [
           {
            "marker": {
             "colorbar": {
              "outlinewidth": 0,
              "ticks": ""
             }
            },
            "type": "scatterpolar"
           }
          ],
          "scatterpolargl": [
           {
            "marker": {
             "colorbar": {
              "outlinewidth": 0,
              "ticks": ""
             }
            },
            "type": "scatterpolargl"
           }
          ],
          "scatterternary": [
           {
            "marker": {
             "colorbar": {
              "outlinewidth": 0,
              "ticks": ""
             }
            },
            "type": "scatterternary"
           }
          ],
          "surface": [
           {
            "colorbar": {
             "outlinewidth": 0,
             "ticks": ""
            },
            "colorscale": [
             [
              0,
              "#0d0887"
             ],
             [
              0.1111111111111111,
              "#46039f"
             ],
             [
              0.2222222222222222,
              "#7201a8"
             ],
             [
              0.3333333333333333,
              "#9c179e"
             ],
             [
              0.4444444444444444,
              "#bd3786"
             ],
             [
              0.5555555555555556,
              "#d8576b"
             ],
             [
              0.6666666666666666,
              "#ed7953"
             ],
             [
              0.7777777777777778,
              "#fb9f3a"
             ],
             [
              0.8888888888888888,
              "#fdca26"
             ],
             [
              1,
              "#f0f921"
             ]
            ],
            "type": "surface"
           }
          ],
          "table": [
           {
            "cells": {
             "fill": {
              "color": "#EBF0F8"
             },
             "line": {
              "color": "white"
             }
            },
            "header": {
             "fill": {
              "color": "#C8D4E3"
             },
             "line": {
              "color": "white"
             }
            },
            "type": "table"
           }
          ]
         },
         "layout": {
          "annotationdefaults": {
           "arrowcolor": "#2a3f5f",
           "arrowhead": 0,
           "arrowwidth": 1
          },
          "autotypenumbers": "strict",
          "coloraxis": {
           "colorbar": {
            "outlinewidth": 0,
            "ticks": ""
           }
          },
          "colorscale": {
           "diverging": [
            [
             0,
             "#8e0152"
            ],
            [
             0.1,
             "#c51b7d"
            ],
            [
             0.2,
             "#de77ae"
            ],
            [
             0.3,
             "#f1b6da"
            ],
            [
             0.4,
             "#fde0ef"
            ],
            [
             0.5,
             "#f7f7f7"
            ],
            [
             0.6,
             "#e6f5d0"
            ],
            [
             0.7,
             "#b8e186"
            ],
            [
             0.8,
             "#7fbc41"
            ],
            [
             0.9,
             "#4d9221"
            ],
            [
             1,
             "#276419"
            ]
           ],
           "sequential": [
            [
             0,
             "#0d0887"
            ],
            [
             0.1111111111111111,
             "#46039f"
            ],
            [
             0.2222222222222222,
             "#7201a8"
            ],
            [
             0.3333333333333333,
             "#9c179e"
            ],
            [
             0.4444444444444444,
             "#bd3786"
            ],
            [
             0.5555555555555556,
             "#d8576b"
            ],
            [
             0.6666666666666666,
             "#ed7953"
            ],
            [
             0.7777777777777778,
             "#fb9f3a"
            ],
            [
             0.8888888888888888,
             "#fdca26"
            ],
            [
             1,
             "#f0f921"
            ]
           ],
           "sequentialminus": [
            [
             0,
             "#0d0887"
            ],
            [
             0.1111111111111111,
             "#46039f"
            ],
            [
             0.2222222222222222,
             "#7201a8"
            ],
            [
             0.3333333333333333,
             "#9c179e"
            ],
            [
             0.4444444444444444,
             "#bd3786"
            ],
            [
             0.5555555555555556,
             "#d8576b"
            ],
            [
             0.6666666666666666,
             "#ed7953"
            ],
            [
             0.7777777777777778,
             "#fb9f3a"
            ],
            [
             0.8888888888888888,
             "#fdca26"
            ],
            [
             1,
             "#f0f921"
            ]
           ]
          },
          "colorway": [
           "#636efa",
           "#EF553B",
           "#00cc96",
           "#ab63fa",
           "#FFA15A",
           "#19d3f3",
           "#FF6692",
           "#B6E880",
           "#FF97FF",
           "#FECB52"
          ],
          "font": {
           "color": "#2a3f5f"
          },
          "geo": {
           "bgcolor": "white",
           "lakecolor": "white",
           "landcolor": "#E5ECF6",
           "showlakes": true,
           "showland": true,
           "subunitcolor": "white"
          },
          "hoverlabel": {
           "align": "left"
          },
          "hovermode": "closest",
          "mapbox": {
           "style": "light"
          },
          "paper_bgcolor": "white",
          "plot_bgcolor": "#E5ECF6",
          "polar": {
           "angularaxis": {
            "gridcolor": "white",
            "linecolor": "white",
            "ticks": ""
           },
           "bgcolor": "#E5ECF6",
           "radialaxis": {
            "gridcolor": "white",
            "linecolor": "white",
            "ticks": ""
           }
          },
          "scene": {
           "xaxis": {
            "backgroundcolor": "#E5ECF6",
            "gridcolor": "white",
            "gridwidth": 2,
            "linecolor": "white",
            "showbackground": true,
            "ticks": "",
            "zerolinecolor": "white"
           },
           "yaxis": {
            "backgroundcolor": "#E5ECF6",
            "gridcolor": "white",
            "gridwidth": 2,
            "linecolor": "white",
            "showbackground": true,
            "ticks": "",
            "zerolinecolor": "white"
           },
           "zaxis": {
            "backgroundcolor": "#E5ECF6",
            "gridcolor": "white",
            "gridwidth": 2,
            "linecolor": "white",
            "showbackground": true,
            "ticks": "",
            "zerolinecolor": "white"
           }
          },
          "shapedefaults": {
           "line": {
            "color": "#2a3f5f"
           }
          },
          "ternary": {
           "aaxis": {
            "gridcolor": "white",
            "linecolor": "white",
            "ticks": ""
           },
           "baxis": {
            "gridcolor": "white",
            "linecolor": "white",
            "ticks": ""
           },
           "bgcolor": "#E5ECF6",
           "caxis": {
            "gridcolor": "white",
            "linecolor": "white",
            "ticks": ""
           }
          },
          "title": {
           "x": 0.05
          },
          "xaxis": {
           "automargin": true,
           "gridcolor": "white",
           "linecolor": "white",
           "ticks": "",
           "title": {
            "standoff": 15
           },
           "zerolinecolor": "white",
           "zerolinewidth": 2
          },
          "yaxis": {
           "automargin": true,
           "gridcolor": "white",
           "linecolor": "white",
           "ticks": "",
           "title": {
            "standoff": 15
           },
           "zerolinecolor": "white",
           "zerolinewidth": 2
          }
         }
        },
        "title": {
         "font": {
          "color": "red",
          "size": 18
         },
         "text": "Number of death of COVID-19 by Date",
         "x": 0.5,
         "y": 1
        },
        "transition": {
         "duration": 10
        },
        "updatemenus": [
         {
          "buttons": [
           {
            "args": [
             null,
             {
              "frame": {
               "duration": 500,
               "redraw": true
              },
              "fromcurrent": true,
              "mode": "immediate",
              "transition": {
               "duration": 500,
               "easing": "linear"
              }
             }
            ],
            "label": "&#9654;",
            "method": "animate"
           },
           {
            "args": [
             [
              null
             ],
             {
              "frame": {
               "duration": 0,
               "redraw": true
              },
              "fromcurrent": true,
              "mode": "immediate",
              "transition": {
               "duration": 0,
               "easing": "linear"
              }
             }
            ],
            "label": "&#9724;",
            "method": "animate"
           }
          ],
          "direction": "left",
          "pad": {
           "r": 10,
           "t": 70
          },
          "showactive": false,
          "type": "buttons",
          "x": 0.1,
          "xanchor": "right",
          "y": 0,
          "yanchor": "top"
         }
        ]
       }
      },
      "text/html": [
       "<div>                            <div id=\"11690491-1a13-466b-9a80-c5c3c4abd569\" class=\"plotly-graph-div\" style=\"height:525px; width:100%;\"></div>            <script type=\"text/javascript\">                require([\"plotly\"], function(Plotly) {                    window.PLOTLYENV=window.PLOTLYENV || {};                                    if (document.getElementById(\"11690491-1a13-466b-9a80-c5c3c4abd569\")) {                    Plotly.newPlot(                        \"11690491-1a13-466b-9a80-c5c3c4abd569\",                        [{\"coloraxis\":\"coloraxis\",\"geo\":\"geo\",\"hovertemplate\":\"date=2020-01-22<br>Country_code=%{location}<br>deaths=%{z}<extra></extra>\",\"locations\":[\"ITA\",\"CHN\",\"ALB\",\"BGD\",\"BWA\",\"KHM\",\"HRV\",\"GRC\",\"SWE\",\"FIN\",\"NOR\",\"MYS\",\"ISR\",\"LTU\",\"SRB\",\"SVK\",\"SVN\",\"BGR\",\"CZE\",\"DNK\",\"GEO\",\"DEU\",\"HUN\",\"ISL\",\"JPN\",\"KAZ\",\"KGZ\",\"NLD\",\"POL\",\"ROU\",\"TJK\",\"THA\",\"AZE\",\"MNG\"],\"name\":\"\",\"z\":[0.0,0.0,0.0,0.0,0.0,0.0,0.0,0.0,0.0,0.0,0.0,0.0,0.0,0.0,0.0,0.0,0.0,0.0,0.0,0.0,0.0,0.0,0.0,0.0,0.0,0.0,0.0,0.0,0.0,0.0,0.0,0.0,0.0,0.0],\"type\":\"choropleth\"}],                        {\"template\":{\"data\":{\"histogram2dcontour\":[{\"type\":\"histogram2dcontour\",\"colorbar\":{\"outlinewidth\":0,\"ticks\":\"\"},\"colorscale\":[[0.0,\"#0d0887\"],[0.1111111111111111,\"#46039f\"],[0.2222222222222222,\"#7201a8\"],[0.3333333333333333,\"#9c179e\"],[0.4444444444444444,\"#bd3786\"],[0.5555555555555556,\"#d8576b\"],[0.6666666666666666,\"#ed7953\"],[0.7777777777777778,\"#fb9f3a\"],[0.8888888888888888,\"#fdca26\"],[1.0,\"#f0f921\"]]}],\"choropleth\":[{\"type\":\"choropleth\",\"colorbar\":{\"outlinewidth\":0,\"ticks\":\"\"}}],\"histogram2d\":[{\"type\":\"histogram2d\",\"colorbar\":{\"outlinewidth\":0,\"ticks\":\"\"},\"colorscale\":[[0.0,\"#0d0887\"],[0.1111111111111111,\"#46039f\"],[0.2222222222222222,\"#7201a8\"],[0.3333333333333333,\"#9c179e\"],[0.4444444444444444,\"#bd3786\"],[0.5555555555555556,\"#d8576b\"],[0.6666666666666666,\"#ed7953\"],[0.7777777777777778,\"#fb9f3a\"],[0.8888888888888888,\"#fdca26\"],[1.0,\"#f0f921\"]]}],\"heatmap\":[{\"type\":\"heatmap\",\"colorbar\":{\"outlinewidth\":0,\"ticks\":\"\"},\"colorscale\":[[0.0,\"#0d0887\"],[0.1111111111111111,\"#46039f\"],[0.2222222222222222,\"#7201a8\"],[0.3333333333333333,\"#9c179e\"],[0.4444444444444444,\"#bd3786\"],[0.5555555555555556,\"#d8576b\"],[0.6666666666666666,\"#ed7953\"],[0.7777777777777778,\"#fb9f3a\"],[0.8888888888888888,\"#fdca26\"],[1.0,\"#f0f921\"]]}],\"heatmapgl\":[{\"type\":\"heatmapgl\",\"colorbar\":{\"outlinewidth\":0,\"ticks\":\"\"},\"colorscale\":[[0.0,\"#0d0887\"],[0.1111111111111111,\"#46039f\"],[0.2222222222222222,\"#7201a8\"],[0.3333333333333333,\"#9c179e\"],[0.4444444444444444,\"#bd3786\"],[0.5555555555555556,\"#d8576b\"],[0.6666666666666666,\"#ed7953\"],[0.7777777777777778,\"#fb9f3a\"],[0.8888888888888888,\"#fdca26\"],[1.0,\"#f0f921\"]]}],\"contourcarpet\":[{\"type\":\"contourcarpet\",\"colorbar\":{\"outlinewidth\":0,\"ticks\":\"\"}}],\"contour\":[{\"type\":\"contour\",\"colorbar\":{\"outlinewidth\":0,\"ticks\":\"\"},\"colorscale\":[[0.0,\"#0d0887\"],[0.1111111111111111,\"#46039f\"],[0.2222222222222222,\"#7201a8\"],[0.3333333333333333,\"#9c179e\"],[0.4444444444444444,\"#bd3786\"],[0.5555555555555556,\"#d8576b\"],[0.6666666666666666,\"#ed7953\"],[0.7777777777777778,\"#fb9f3a\"],[0.8888888888888888,\"#fdca26\"],[1.0,\"#f0f921\"]]}],\"surface\":[{\"type\":\"surface\",\"colorbar\":{\"outlinewidth\":0,\"ticks\":\"\"},\"colorscale\":[[0.0,\"#0d0887\"],[0.1111111111111111,\"#46039f\"],[0.2222222222222222,\"#7201a8\"],[0.3333333333333333,\"#9c179e\"],[0.4444444444444444,\"#bd3786\"],[0.5555555555555556,\"#d8576b\"],[0.6666666666666666,\"#ed7953\"],[0.7777777777777778,\"#fb9f3a\"],[0.8888888888888888,\"#fdca26\"],[1.0,\"#f0f921\"]]}],\"mesh3d\":[{\"type\":\"mesh3d\",\"colorbar\":{\"outlinewidth\":0,\"ticks\":\"\"}}],\"scatter\":[{\"fillpattern\":{\"fillmode\":\"overlay\",\"size\":10,\"solidity\":0.2},\"type\":\"scatter\"}],\"parcoords\":[{\"type\":\"parcoords\",\"line\":{\"colorbar\":{\"outlinewidth\":0,\"ticks\":\"\"}}}],\"scatterpolargl\":[{\"type\":\"scatterpolargl\",\"marker\":{\"colorbar\":{\"outlinewidth\":0,\"ticks\":\"\"}}}],\"bar\":[{\"error_x\":{\"color\":\"#2a3f5f\"},\"error_y\":{\"color\":\"#2a3f5f\"},\"marker\":{\"line\":{\"color\":\"#E5ECF6\",\"width\":0.5},\"pattern\":{\"fillmode\":\"overlay\",\"size\":10,\"solidity\":0.2}},\"type\":\"bar\"}],\"scattergeo\":[{\"type\":\"scattergeo\",\"marker\":{\"colorbar\":{\"outlinewidth\":0,\"ticks\":\"\"}}}],\"scatterpolar\":[{\"type\":\"scatterpolar\",\"marker\":{\"colorbar\":{\"outlinewidth\":0,\"ticks\":\"\"}}}],\"histogram\":[{\"marker\":{\"pattern\":{\"fillmode\":\"overlay\",\"size\":10,\"solidity\":0.2}},\"type\":\"histogram\"}],\"scattergl\":[{\"type\":\"scattergl\",\"marker\":{\"colorbar\":{\"outlinewidth\":0,\"ticks\":\"\"}}}],\"scatter3d\":[{\"type\":\"scatter3d\",\"line\":{\"colorbar\":{\"outlinewidth\":0,\"ticks\":\"\"}},\"marker\":{\"colorbar\":{\"outlinewidth\":0,\"ticks\":\"\"}}}],\"scattermapbox\":[{\"type\":\"scattermapbox\",\"marker\":{\"colorbar\":{\"outlinewidth\":0,\"ticks\":\"\"}}}],\"scatterternary\":[{\"type\":\"scatterternary\",\"marker\":{\"colorbar\":{\"outlinewidth\":0,\"ticks\":\"\"}}}],\"scattercarpet\":[{\"type\":\"scattercarpet\",\"marker\":{\"colorbar\":{\"outlinewidth\":0,\"ticks\":\"\"}}}],\"carpet\":[{\"aaxis\":{\"endlinecolor\":\"#2a3f5f\",\"gridcolor\":\"white\",\"linecolor\":\"white\",\"minorgridcolor\":\"white\",\"startlinecolor\":\"#2a3f5f\"},\"baxis\":{\"endlinecolor\":\"#2a3f5f\",\"gridcolor\":\"white\",\"linecolor\":\"white\",\"minorgridcolor\":\"white\",\"startlinecolor\":\"#2a3f5f\"},\"type\":\"carpet\"}],\"table\":[{\"cells\":{\"fill\":{\"color\":\"#EBF0F8\"},\"line\":{\"color\":\"white\"}},\"header\":{\"fill\":{\"color\":\"#C8D4E3\"},\"line\":{\"color\":\"white\"}},\"type\":\"table\"}],\"barpolar\":[{\"marker\":{\"line\":{\"color\":\"#E5ECF6\",\"width\":0.5},\"pattern\":{\"fillmode\":\"overlay\",\"size\":10,\"solidity\":0.2}},\"type\":\"barpolar\"}],\"pie\":[{\"automargin\":true,\"type\":\"pie\"}]},\"layout\":{\"autotypenumbers\":\"strict\",\"colorway\":[\"#636efa\",\"#EF553B\",\"#00cc96\",\"#ab63fa\",\"#FFA15A\",\"#19d3f3\",\"#FF6692\",\"#B6E880\",\"#FF97FF\",\"#FECB52\"],\"font\":{\"color\":\"#2a3f5f\"},\"hovermode\":\"closest\",\"hoverlabel\":{\"align\":\"left\"},\"paper_bgcolor\":\"white\",\"plot_bgcolor\":\"#E5ECF6\",\"polar\":{\"bgcolor\":\"#E5ECF6\",\"angularaxis\":{\"gridcolor\":\"white\",\"linecolor\":\"white\",\"ticks\":\"\"},\"radialaxis\":{\"gridcolor\":\"white\",\"linecolor\":\"white\",\"ticks\":\"\"}},\"ternary\":{\"bgcolor\":\"#E5ECF6\",\"aaxis\":{\"gridcolor\":\"white\",\"linecolor\":\"white\",\"ticks\":\"\"},\"baxis\":{\"gridcolor\":\"white\",\"linecolor\":\"white\",\"ticks\":\"\"},\"caxis\":{\"gridcolor\":\"white\",\"linecolor\":\"white\",\"ticks\":\"\"}},\"coloraxis\":{\"colorbar\":{\"outlinewidth\":0,\"ticks\":\"\"}},\"colorscale\":{\"sequential\":[[0.0,\"#0d0887\"],[0.1111111111111111,\"#46039f\"],[0.2222222222222222,\"#7201a8\"],[0.3333333333333333,\"#9c179e\"],[0.4444444444444444,\"#bd3786\"],[0.5555555555555556,\"#d8576b\"],[0.6666666666666666,\"#ed7953\"],[0.7777777777777778,\"#fb9f3a\"],[0.8888888888888888,\"#fdca26\"],[1.0,\"#f0f921\"]],\"sequentialminus\":[[0.0,\"#0d0887\"],[0.1111111111111111,\"#46039f\"],[0.2222222222222222,\"#7201a8\"],[0.3333333333333333,\"#9c179e\"],[0.4444444444444444,\"#bd3786\"],[0.5555555555555556,\"#d8576b\"],[0.6666666666666666,\"#ed7953\"],[0.7777777777777778,\"#fb9f3a\"],[0.8888888888888888,\"#fdca26\"],[1.0,\"#f0f921\"]],\"diverging\":[[0,\"#8e0152\"],[0.1,\"#c51b7d\"],[0.2,\"#de77ae\"],[0.3,\"#f1b6da\"],[0.4,\"#fde0ef\"],[0.5,\"#f7f7f7\"],[0.6,\"#e6f5d0\"],[0.7,\"#b8e186\"],[0.8,\"#7fbc41\"],[0.9,\"#4d9221\"],[1,\"#276419\"]]},\"xaxis\":{\"gridcolor\":\"white\",\"linecolor\":\"white\",\"ticks\":\"\",\"title\":{\"standoff\":15},\"zerolinecolor\":\"white\",\"automargin\":true,\"zerolinewidth\":2},\"yaxis\":{\"gridcolor\":\"white\",\"linecolor\":\"white\",\"ticks\":\"\",\"title\":{\"standoff\":15},\"zerolinecolor\":\"white\",\"automargin\":true,\"zerolinewidth\":2},\"scene\":{\"xaxis\":{\"backgroundcolor\":\"#E5ECF6\",\"gridcolor\":\"white\",\"linecolor\":\"white\",\"showbackground\":true,\"ticks\":\"\",\"zerolinecolor\":\"white\",\"gridwidth\":2},\"yaxis\":{\"backgroundcolor\":\"#E5ECF6\",\"gridcolor\":\"white\",\"linecolor\":\"white\",\"showbackground\":true,\"ticks\":\"\",\"zerolinecolor\":\"white\",\"gridwidth\":2},\"zaxis\":{\"backgroundcolor\":\"#E5ECF6\",\"gridcolor\":\"white\",\"linecolor\":\"white\",\"showbackground\":true,\"ticks\":\"\",\"zerolinecolor\":\"white\",\"gridwidth\":2}},\"shapedefaults\":{\"line\":{\"color\":\"#2a3f5f\"}},\"annotationdefaults\":{\"arrowcolor\":\"#2a3f5f\",\"arrowhead\":0,\"arrowwidth\":1},\"geo\":{\"bgcolor\":\"white\",\"landcolor\":\"#E5ECF6\",\"subunitcolor\":\"white\",\"showland\":true,\"showlakes\":true,\"lakecolor\":\"white\"},\"title\":{\"x\":0.05},\"mapbox\":{\"style\":\"light\"}}},\"geo\":{\"domain\":{\"x\":[0.0,1.0],\"y\":[0.0,1.0]},\"center\":{}},\"coloraxis\":{\"colorbar\":{\"title\":{\"text\":\"deaths\"}},\"colorscale\":[[0.0,\"rgb(231, 250, 90)\"],[0.09090909090909091,\"rgb(246, 211, 70)\"],[0.18181818181818182,\"rgb(251, 173, 60)\"],[0.2727272727272727,\"rgb(246, 139, 69)\"],[0.36363636363636365,\"rgb(225, 113, 97)\"],[0.45454545454545453,\"rgb(193, 100, 121)\"],[0.5454545454545454,\"rgb(158, 89, 135)\"],[0.6363636363636364,\"rgb(126, 77, 143)\"],[0.7272727272727273,\"rgb(93, 62, 153)\"],[0.8181818181818182,\"rgb(53, 50, 155)\"],[0.9090909090909091,\"rgb(13, 48, 100)\"],[1.0,\"rgb(3, 35, 51)\"]],\"cmid\":509.5},\"legend\":{\"tracegroupgap\":0},\"margin\":{\"t\":60},\"updatemenus\":[{\"buttons\":[{\"args\":[null,{\"frame\":{\"duration\":500,\"redraw\":true},\"mode\":\"immediate\",\"fromcurrent\":true,\"transition\":{\"duration\":500,\"easing\":\"linear\"}}],\"label\":\"&#9654;\",\"method\":\"animate\"},{\"args\":[[null],{\"frame\":{\"duration\":0,\"redraw\":true},\"mode\":\"immediate\",\"fromcurrent\":true,\"transition\":{\"duration\":0,\"easing\":\"linear\"}}],\"label\":\"&#9724;\",\"method\":\"animate\"}],\"direction\":\"left\",\"pad\":{\"r\":10,\"t\":70},\"showactive\":false,\"type\":\"buttons\",\"x\":0.1,\"xanchor\":\"right\",\"y\":0,\"yanchor\":\"top\"}],\"sliders\":[{\"active\":0,\"currentvalue\":{\"prefix\":\"date=\"},\"len\":0.9,\"pad\":{\"b\":10,\"t\":60},\"steps\":[{\"args\":[[\"2020-01-22\"],{\"frame\":{\"duration\":0,\"redraw\":true},\"mode\":\"immediate\",\"fromcurrent\":true,\"transition\":{\"duration\":0,\"easing\":\"linear\"}}],\"label\":\"2020-01-22\",\"method\":\"animate\"},{\"args\":[[\"2020-02-01\"],{\"frame\":{\"duration\":0,\"redraw\":true},\"mode\":\"immediate\",\"fromcurrent\":true,\"transition\":{\"duration\":0,\"easing\":\"linear\"}}],\"label\":\"2020-02-01\",\"method\":\"animate\"},{\"args\":[[\"2020-02-11\"],{\"frame\":{\"duration\":0,\"redraw\":true},\"mode\":\"immediate\",\"fromcurrent\":true,\"transition\":{\"duration\":0,\"easing\":\"linear\"}}],\"label\":\"2020-02-11\",\"method\":\"animate\"},{\"args\":[[\"2020-02-21\"],{\"frame\":{\"duration\":0,\"redraw\":true},\"mode\":\"immediate\",\"fromcurrent\":true,\"transition\":{\"duration\":0,\"easing\":\"linear\"}}],\"label\":\"2020-02-21\",\"method\":\"animate\"},{\"args\":[[\"2020-03-02\"],{\"frame\":{\"duration\":0,\"redraw\":true},\"mode\":\"immediate\",\"fromcurrent\":true,\"transition\":{\"duration\":0,\"easing\":\"linear\"}}],\"label\":\"2020-03-02\",\"method\":\"animate\"},{\"args\":[[\"2020-03-12\"],{\"frame\":{\"duration\":0,\"redraw\":true},\"mode\":\"immediate\",\"fromcurrent\":true,\"transition\":{\"duration\":0,\"easing\":\"linear\"}}],\"label\":\"2020-03-12\",\"method\":\"animate\"},{\"args\":[[\"2020-03-22\"],{\"frame\":{\"duration\":0,\"redraw\":true},\"mode\":\"immediate\",\"fromcurrent\":true,\"transition\":{\"duration\":0,\"easing\":\"linear\"}}],\"label\":\"2020-03-22\",\"method\":\"animate\"},{\"args\":[[\"2020-04-01\"],{\"frame\":{\"duration\":0,\"redraw\":true},\"mode\":\"immediate\",\"fromcurrent\":true,\"transition\":{\"duration\":0,\"easing\":\"linear\"}}],\"label\":\"2020-04-01\",\"method\":\"animate\"},{\"args\":[[\"2020-04-11\"],{\"frame\":{\"duration\":0,\"redraw\":true},\"mode\":\"immediate\",\"fromcurrent\":true,\"transition\":{\"duration\":0,\"easing\":\"linear\"}}],\"label\":\"2020-04-11\",\"method\":\"animate\"},{\"args\":[[\"2020-04-21\"],{\"frame\":{\"duration\":0,\"redraw\":true},\"mode\":\"immediate\",\"fromcurrent\":true,\"transition\":{\"duration\":0,\"easing\":\"linear\"}}],\"label\":\"2020-04-21\",\"method\":\"animate\"},{\"args\":[[\"2020-05-01\"],{\"frame\":{\"duration\":0,\"redraw\":true},\"mode\":\"immediate\",\"fromcurrent\":true,\"transition\":{\"duration\":0,\"easing\":\"linear\"}}],\"label\":\"2020-05-01\",\"method\":\"animate\"},{\"args\":[[\"2020-05-11\"],{\"frame\":{\"duration\":0,\"redraw\":true},\"mode\":\"immediate\",\"fromcurrent\":true,\"transition\":{\"duration\":0,\"easing\":\"linear\"}}],\"label\":\"2020-05-11\",\"method\":\"animate\"},{\"args\":[[\"2020-05-21\"],{\"frame\":{\"duration\":0,\"redraw\":true},\"mode\":\"immediate\",\"fromcurrent\":true,\"transition\":{\"duration\":0,\"easing\":\"linear\"}}],\"label\":\"2020-05-21\",\"method\":\"animate\"},{\"args\":[[\"2020-05-31\"],{\"frame\":{\"duration\":0,\"redraw\":true},\"mode\":\"immediate\",\"fromcurrent\":true,\"transition\":{\"duration\":0,\"easing\":\"linear\"}}],\"label\":\"2020-05-31\",\"method\":\"animate\"},{\"args\":[[\"2020-06-10\"],{\"frame\":{\"duration\":0,\"redraw\":true},\"mode\":\"immediate\",\"fromcurrent\":true,\"transition\":{\"duration\":0,\"easing\":\"linear\"}}],\"label\":\"2020-06-10\",\"method\":\"animate\"},{\"args\":[[\"2020-06-20\"],{\"frame\":{\"duration\":0,\"redraw\":true},\"mode\":\"immediate\",\"fromcurrent\":true,\"transition\":{\"duration\":0,\"easing\":\"linear\"}}],\"label\":\"2020-06-20\",\"method\":\"animate\"},{\"args\":[[\"2020-06-30\"],{\"frame\":{\"duration\":0,\"redraw\":true},\"mode\":\"immediate\",\"fromcurrent\":true,\"transition\":{\"duration\":0,\"easing\":\"linear\"}}],\"label\":\"2020-06-30\",\"method\":\"animate\"},{\"args\":[[\"2020-07-10\"],{\"frame\":{\"duration\":0,\"redraw\":true},\"mode\":\"immediate\",\"fromcurrent\":true,\"transition\":{\"duration\":0,\"easing\":\"linear\"}}],\"label\":\"2020-07-10\",\"method\":\"animate\"},{\"args\":[[\"2020-07-20\"],{\"frame\":{\"duration\":0,\"redraw\":true},\"mode\":\"immediate\",\"fromcurrent\":true,\"transition\":{\"duration\":0,\"easing\":\"linear\"}}],\"label\":\"2020-07-20\",\"method\":\"animate\"},{\"args\":[[\"2020-07-30\"],{\"frame\":{\"duration\":0,\"redraw\":true},\"mode\":\"immediate\",\"fromcurrent\":true,\"transition\":{\"duration\":0,\"easing\":\"linear\"}}],\"label\":\"2020-07-30\",\"method\":\"animate\"},{\"args\":[[\"2020-08-09\"],{\"frame\":{\"duration\":0,\"redraw\":true},\"mode\":\"immediate\",\"fromcurrent\":true,\"transition\":{\"duration\":0,\"easing\":\"linear\"}}],\"label\":\"2020-08-09\",\"method\":\"animate\"},{\"args\":[[\"2020-08-19\"],{\"frame\":{\"duration\":0,\"redraw\":true},\"mode\":\"immediate\",\"fromcurrent\":true,\"transition\":{\"duration\":0,\"easing\":\"linear\"}}],\"label\":\"2020-08-19\",\"method\":\"animate\"},{\"args\":[[\"2020-08-29\"],{\"frame\":{\"duration\":0,\"redraw\":true},\"mode\":\"immediate\",\"fromcurrent\":true,\"transition\":{\"duration\":0,\"easing\":\"linear\"}}],\"label\":\"2020-08-29\",\"method\":\"animate\"},{\"args\":[[\"2020-09-08\"],{\"frame\":{\"duration\":0,\"redraw\":true},\"mode\":\"immediate\",\"fromcurrent\":true,\"transition\":{\"duration\":0,\"easing\":\"linear\"}}],\"label\":\"2020-09-08\",\"method\":\"animate\"},{\"args\":[[\"2020-09-18\"],{\"frame\":{\"duration\":0,\"redraw\":true},\"mode\":\"immediate\",\"fromcurrent\":true,\"transition\":{\"duration\":0,\"easing\":\"linear\"}}],\"label\":\"2020-09-18\",\"method\":\"animate\"},{\"args\":[[\"2020-09-28\"],{\"frame\":{\"duration\":0,\"redraw\":true},\"mode\":\"immediate\",\"fromcurrent\":true,\"transition\":{\"duration\":0,\"easing\":\"linear\"}}],\"label\":\"2020-09-28\",\"method\":\"animate\"},{\"args\":[[\"2020-10-08\"],{\"frame\":{\"duration\":0,\"redraw\":true},\"mode\":\"immediate\",\"fromcurrent\":true,\"transition\":{\"duration\":0,\"easing\":\"linear\"}}],\"label\":\"2020-10-08\",\"method\":\"animate\"},{\"args\":[[\"2020-10-18\"],{\"frame\":{\"duration\":0,\"redraw\":true},\"mode\":\"immediate\",\"fromcurrent\":true,\"transition\":{\"duration\":0,\"easing\":\"linear\"}}],\"label\":\"2020-10-18\",\"method\":\"animate\"},{\"args\":[[\"2020-10-28\"],{\"frame\":{\"duration\":0,\"redraw\":true},\"mode\":\"immediate\",\"fromcurrent\":true,\"transition\":{\"duration\":0,\"easing\":\"linear\"}}],\"label\":\"2020-10-28\",\"method\":\"animate\"},{\"args\":[[\"2020-11-07\"],{\"frame\":{\"duration\":0,\"redraw\":true},\"mode\":\"immediate\",\"fromcurrent\":true,\"transition\":{\"duration\":0,\"easing\":\"linear\"}}],\"label\":\"2020-11-07\",\"method\":\"animate\"},{\"args\":[[\"2020-11-17\"],{\"frame\":{\"duration\":0,\"redraw\":true},\"mode\":\"immediate\",\"fromcurrent\":true,\"transition\":{\"duration\":0,\"easing\":\"linear\"}}],\"label\":\"2020-11-17\",\"method\":\"animate\"},{\"args\":[[\"2020-11-27\"],{\"frame\":{\"duration\":0,\"redraw\":true},\"mode\":\"immediate\",\"fromcurrent\":true,\"transition\":{\"duration\":0,\"easing\":\"linear\"}}],\"label\":\"2020-11-27\",\"method\":\"animate\"},{\"args\":[[\"2020-12-07\"],{\"frame\":{\"duration\":0,\"redraw\":true},\"mode\":\"immediate\",\"fromcurrent\":true,\"transition\":{\"duration\":0,\"easing\":\"linear\"}}],\"label\":\"2020-12-07\",\"method\":\"animate\"},{\"args\":[[\"2020-12-17\"],{\"frame\":{\"duration\":0,\"redraw\":true},\"mode\":\"immediate\",\"fromcurrent\":true,\"transition\":{\"duration\":0,\"easing\":\"linear\"}}],\"label\":\"2020-12-17\",\"method\":\"animate\"},{\"args\":[[\"2020-12-27\"],{\"frame\":{\"duration\":0,\"redraw\":true},\"mode\":\"immediate\",\"fromcurrent\":true,\"transition\":{\"duration\":0,\"easing\":\"linear\"}}],\"label\":\"2020-12-27\",\"method\":\"animate\"},{\"args\":[[\"2021-01-06\"],{\"frame\":{\"duration\":0,\"redraw\":true},\"mode\":\"immediate\",\"fromcurrent\":true,\"transition\":{\"duration\":0,\"easing\":\"linear\"}}],\"label\":\"2021-01-06\",\"method\":\"animate\"},{\"args\":[[\"2021-01-16\"],{\"frame\":{\"duration\":0,\"redraw\":true},\"mode\":\"immediate\",\"fromcurrent\":true,\"transition\":{\"duration\":0,\"easing\":\"linear\"}}],\"label\":\"2021-01-16\",\"method\":\"animate\"},{\"args\":[[\"2021-01-26\"],{\"frame\":{\"duration\":0,\"redraw\":true},\"mode\":\"immediate\",\"fromcurrent\":true,\"transition\":{\"duration\":0,\"easing\":\"linear\"}}],\"label\":\"2021-01-26\",\"method\":\"animate\"},{\"args\":[[\"2021-02-05\"],{\"frame\":{\"duration\":0,\"redraw\":true},\"mode\":\"immediate\",\"fromcurrent\":true,\"transition\":{\"duration\":0,\"easing\":\"linear\"}}],\"label\":\"2021-02-05\",\"method\":\"animate\"},{\"args\":[[\"2021-02-15\"],{\"frame\":{\"duration\":0,\"redraw\":true},\"mode\":\"immediate\",\"fromcurrent\":true,\"transition\":{\"duration\":0,\"easing\":\"linear\"}}],\"label\":\"2021-02-15\",\"method\":\"animate\"},{\"args\":[[\"2021-02-25\"],{\"frame\":{\"duration\":0,\"redraw\":true},\"mode\":\"immediate\",\"fromcurrent\":true,\"transition\":{\"duration\":0,\"easing\":\"linear\"}}],\"label\":\"2021-02-25\",\"method\":\"animate\"},{\"args\":[[\"2021-03-07\"],{\"frame\":{\"duration\":0,\"redraw\":true},\"mode\":\"immediate\",\"fromcurrent\":true,\"transition\":{\"duration\":0,\"easing\":\"linear\"}}],\"label\":\"2021-03-07\",\"method\":\"animate\"},{\"args\":[[\"2021-03-17\"],{\"frame\":{\"duration\":0,\"redraw\":true},\"mode\":\"immediate\",\"fromcurrent\":true,\"transition\":{\"duration\":0,\"easing\":\"linear\"}}],\"label\":\"2021-03-17\",\"method\":\"animate\"},{\"args\":[[\"2021-03-27\"],{\"frame\":{\"duration\":0,\"redraw\":true},\"mode\":\"immediate\",\"fromcurrent\":true,\"transition\":{\"duration\":0,\"easing\":\"linear\"}}],\"label\":\"2021-03-27\",\"method\":\"animate\"},{\"args\":[[\"2021-04-06\"],{\"frame\":{\"duration\":0,\"redraw\":true},\"mode\":\"immediate\",\"fromcurrent\":true,\"transition\":{\"duration\":0,\"easing\":\"linear\"}}],\"label\":\"2021-04-06\",\"method\":\"animate\"},{\"args\":[[\"2021-04-16\"],{\"frame\":{\"duration\":0,\"redraw\":true},\"mode\":\"immediate\",\"fromcurrent\":true,\"transition\":{\"duration\":0,\"easing\":\"linear\"}}],\"label\":\"2021-04-16\",\"method\":\"animate\"},{\"args\":[[\"2021-04-26\"],{\"frame\":{\"duration\":0,\"redraw\":true},\"mode\":\"immediate\",\"fromcurrent\":true,\"transition\":{\"duration\":0,\"easing\":\"linear\"}}],\"label\":\"2021-04-26\",\"method\":\"animate\"},{\"args\":[[\"2021-05-06\"],{\"frame\":{\"duration\":0,\"redraw\":true},\"mode\":\"immediate\",\"fromcurrent\":true,\"transition\":{\"duration\":0,\"easing\":\"linear\"}}],\"label\":\"2021-05-06\",\"method\":\"animate\"},{\"args\":[[\"2021-05-16\"],{\"frame\":{\"duration\":0,\"redraw\":true},\"mode\":\"immediate\",\"fromcurrent\":true,\"transition\":{\"duration\":0,\"easing\":\"linear\"}}],\"label\":\"2021-05-16\",\"method\":\"animate\"},{\"args\":[[\"2021-05-26\"],{\"frame\":{\"duration\":0,\"redraw\":true},\"mode\":\"immediate\",\"fromcurrent\":true,\"transition\":{\"duration\":0,\"easing\":\"linear\"}}],\"label\":\"2021-05-26\",\"method\":\"animate\"},{\"args\":[[\"2021-06-05\"],{\"frame\":{\"duration\":0,\"redraw\":true},\"mode\":\"immediate\",\"fromcurrent\":true,\"transition\":{\"duration\":0,\"easing\":\"linear\"}}],\"label\":\"2021-06-05\",\"method\":\"animate\"},{\"args\":[[\"2021-06-15\"],{\"frame\":{\"duration\":0,\"redraw\":true},\"mode\":\"immediate\",\"fromcurrent\":true,\"transition\":{\"duration\":0,\"easing\":\"linear\"}}],\"label\":\"2021-06-15\",\"method\":\"animate\"},{\"args\":[[\"2021-06-25\"],{\"frame\":{\"duration\":0,\"redraw\":true},\"mode\":\"immediate\",\"fromcurrent\":true,\"transition\":{\"duration\":0,\"easing\":\"linear\"}}],\"label\":\"2021-06-25\",\"method\":\"animate\"},{\"args\":[[\"2021-07-05\"],{\"frame\":{\"duration\":0,\"redraw\":true},\"mode\":\"immediate\",\"fromcurrent\":true,\"transition\":{\"duration\":0,\"easing\":\"linear\"}}],\"label\":\"2021-07-05\",\"method\":\"animate\"},{\"args\":[[\"2021-07-15\"],{\"frame\":{\"duration\":0,\"redraw\":true},\"mode\":\"immediate\",\"fromcurrent\":true,\"transition\":{\"duration\":0,\"easing\":\"linear\"}}],\"label\":\"2021-07-15\",\"method\":\"animate\"},{\"args\":[[\"2021-07-25\"],{\"frame\":{\"duration\":0,\"redraw\":true},\"mode\":\"immediate\",\"fromcurrent\":true,\"transition\":{\"duration\":0,\"easing\":\"linear\"}}],\"label\":\"2021-07-25\",\"method\":\"animate\"},{\"args\":[[\"2021-08-04\"],{\"frame\":{\"duration\":0,\"redraw\":true},\"mode\":\"immediate\",\"fromcurrent\":true,\"transition\":{\"duration\":0,\"easing\":\"linear\"}}],\"label\":\"2021-08-04\",\"method\":\"animate\"},{\"args\":[[\"2021-08-14\"],{\"frame\":{\"duration\":0,\"redraw\":true},\"mode\":\"immediate\",\"fromcurrent\":true,\"transition\":{\"duration\":0,\"easing\":\"linear\"}}],\"label\":\"2021-08-14\",\"method\":\"animate\"},{\"args\":[[\"2021-08-24\"],{\"frame\":{\"duration\":0,\"redraw\":true},\"mode\":\"immediate\",\"fromcurrent\":true,\"transition\":{\"duration\":0,\"easing\":\"linear\"}}],\"label\":\"2021-08-24\",\"method\":\"animate\"},{\"args\":[[\"2021-09-03\"],{\"frame\":{\"duration\":0,\"redraw\":true},\"mode\":\"immediate\",\"fromcurrent\":true,\"transition\":{\"duration\":0,\"easing\":\"linear\"}}],\"label\":\"2021-09-03\",\"method\":\"animate\"},{\"args\":[[\"2021-09-13\"],{\"frame\":{\"duration\":0,\"redraw\":true},\"mode\":\"immediate\",\"fromcurrent\":true,\"transition\":{\"duration\":0,\"easing\":\"linear\"}}],\"label\":\"2021-09-13\",\"method\":\"animate\"},{\"args\":[[\"2021-09-23\"],{\"frame\":{\"duration\":0,\"redraw\":true},\"mode\":\"immediate\",\"fromcurrent\":true,\"transition\":{\"duration\":0,\"easing\":\"linear\"}}],\"label\":\"2021-09-23\",\"method\":\"animate\"},{\"args\":[[\"2021-10-03\"],{\"frame\":{\"duration\":0,\"redraw\":true},\"mode\":\"immediate\",\"fromcurrent\":true,\"transition\":{\"duration\":0,\"easing\":\"linear\"}}],\"label\":\"2021-10-03\",\"method\":\"animate\"},{\"args\":[[\"2021-10-13\"],{\"frame\":{\"duration\":0,\"redraw\":true},\"mode\":\"immediate\",\"fromcurrent\":true,\"transition\":{\"duration\":0,\"easing\":\"linear\"}}],\"label\":\"2021-10-13\",\"method\":\"animate\"},{\"args\":[[\"2021-10-23\"],{\"frame\":{\"duration\":0,\"redraw\":true},\"mode\":\"immediate\",\"fromcurrent\":true,\"transition\":{\"duration\":0,\"easing\":\"linear\"}}],\"label\":\"2021-10-23\",\"method\":\"animate\"},{\"args\":[[\"2021-11-02\"],{\"frame\":{\"duration\":0,\"redraw\":true},\"mode\":\"immediate\",\"fromcurrent\":true,\"transition\":{\"duration\":0,\"easing\":\"linear\"}}],\"label\":\"2021-11-02\",\"method\":\"animate\"},{\"args\":[[\"2021-11-12\"],{\"frame\":{\"duration\":0,\"redraw\":true},\"mode\":\"immediate\",\"fromcurrent\":true,\"transition\":{\"duration\":0,\"easing\":\"linear\"}}],\"label\":\"2021-11-12\",\"method\":\"animate\"},{\"args\":[[\"2021-11-22\"],{\"frame\":{\"duration\":0,\"redraw\":true},\"mode\":\"immediate\",\"fromcurrent\":true,\"transition\":{\"duration\":0,\"easing\":\"linear\"}}],\"label\":\"2021-11-22\",\"method\":\"animate\"},{\"args\":[[\"2021-12-02\"],{\"frame\":{\"duration\":0,\"redraw\":true},\"mode\":\"immediate\",\"fromcurrent\":true,\"transition\":{\"duration\":0,\"easing\":\"linear\"}}],\"label\":\"2021-12-02\",\"method\":\"animate\"},{\"args\":[[\"2021-12-12\"],{\"frame\":{\"duration\":0,\"redraw\":true},\"mode\":\"immediate\",\"fromcurrent\":true,\"transition\":{\"duration\":0,\"easing\":\"linear\"}}],\"label\":\"2021-12-12\",\"method\":\"animate\"},{\"args\":[[\"2021-12-22\"],{\"frame\":{\"duration\":0,\"redraw\":true},\"mode\":\"immediate\",\"fromcurrent\":true,\"transition\":{\"duration\":0,\"easing\":\"linear\"}}],\"label\":\"2021-12-22\",\"method\":\"animate\"}],\"x\":0.1,\"xanchor\":\"left\",\"y\":0,\"yanchor\":\"top\"}],\"title\":{\"font\":{\"size\":18,\"color\":\"red\"},\"text\":\"Number of death of COVID-19 by Date\",\"x\":0.5,\"y\":1},\"transition\":{\"duration\":10}},                        {\"responsive\": true}                    ).then(function(){\n",
       "                            Plotly.addFrames('11690491-1a13-466b-9a80-c5c3c4abd569', [{\"data\":[{\"coloraxis\":\"coloraxis\",\"geo\":\"geo\",\"hovertemplate\":\"date=2020-01-22<br>Country_code=%{location}<br>deaths=%{z}<extra></extra>\",\"locations\":[\"ITA\",\"CHN\",\"ALB\",\"BGD\",\"BWA\",\"KHM\",\"HRV\",\"GRC\",\"SWE\",\"FIN\",\"NOR\",\"MYS\",\"ISR\",\"LTU\",\"SRB\",\"SVK\",\"SVN\",\"BGR\",\"CZE\",\"DNK\",\"GEO\",\"DEU\",\"HUN\",\"ISL\",\"JPN\",\"KAZ\",\"KGZ\",\"NLD\",\"POL\",\"ROU\",\"TJK\",\"THA\",\"AZE\",\"MNG\"],\"name\":\"\",\"z\":[0.0,0.0,0.0,0.0,0.0,0.0,0.0,0.0,0.0,0.0,0.0,0.0,0.0,0.0,0.0,0.0,0.0,0.0,0.0,0.0,0.0,0.0,0.0,0.0,0.0,0.0,0.0,0.0,0.0,0.0,0.0,0.0,0.0,0.0],\"type\":\"choropleth\"}],\"name\":\"2020-01-22\"},{\"data\":[{\"coloraxis\":\"coloraxis\",\"geo\":\"geo\",\"hovertemplate\":\"date=2020-02-01<br>Country_code=%{location}<br>deaths=%{z}<extra></extra>\",\"locations\":[\"ITA\",\"CHN\",\"ALB\",\"BGD\",\"BWA\",\"KHM\",\"HRV\",\"GRC\",\"SWE\",\"FIN\",\"NOR\",\"MYS\",\"ISR\",\"LTU\",\"SRB\",\"SVK\",\"SVN\",\"BGR\",\"CZE\",\"DNK\",\"GEO\",\"DEU\",\"HUN\",\"ISL\",\"JPN\",\"KAZ\",\"KGZ\",\"NLD\",\"POL\",\"ROU\",\"TJK\",\"THA\",\"AZE\",\"MNG\"],\"name\":\"\",\"z\":[0.0,46.0,0.0,0.0,0.0,0.0,0.0,0.0,0.0,0.0,0.0,0.0,0.0,0.0,0.0,0.0,0.0,0.0,0.0,0.0,0.0,0.0,0.0,0.0,0.0,0.0,0.0,0.0,0.0,0.0,0.0,0.0,0.0,0.0],\"type\":\"choropleth\"}],\"name\":\"2020-02-01\"},{\"data\":[{\"coloraxis\":\"coloraxis\",\"geo\":\"geo\",\"hovertemplate\":\"date=2020-02-11<br>Country_code=%{location}<br>deaths=%{z}<extra></extra>\",\"locations\":[\"ITA\",\"CHN\",\"ALB\",\"BGD\",\"BWA\",\"KHM\",\"HRV\",\"GRC\",\"SWE\",\"FIN\",\"NOR\",\"MYS\",\"ISR\",\"LTU\",\"SRB\",\"SVK\",\"SVN\",\"BGR\",\"CZE\",\"DNK\",\"GEO\",\"DEU\",\"HUN\",\"ISL\",\"JPN\",\"KAZ\",\"KGZ\",\"NLD\",\"POL\",\"ROU\",\"TJK\",\"THA\",\"AZE\",\"MNG\"],\"name\":\"\",\"z\":[0.0,100.0,0.0,0.0,0.0,0.0,0.0,0.0,0.0,0.0,0.0,0.0,0.0,0.0,0.0,0.0,0.0,0.0,0.0,0.0,0.0,0.0,0.0,0.0,0.0,0.0,0.0,0.0,0.0,0.0,0.0,0.0,0.0,0.0],\"type\":\"choropleth\"}],\"name\":\"2020-02-11\"},{\"data\":[{\"coloraxis\":\"coloraxis\",\"geo\":\"geo\",\"hovertemplate\":\"date=2020-02-21<br>Country_code=%{location}<br>deaths=%{z}<extra></extra>\",\"locations\":[\"ITA\",\"CHN\",\"ALB\",\"BGD\",\"BWA\",\"KHM\",\"HRV\",\"GRC\",\"SWE\",\"FIN\",\"NOR\",\"MYS\",\"ISR\",\"LTU\",\"SRB\",\"SVK\",\"SVN\",\"BGR\",\"CZE\",\"DNK\",\"GEO\",\"DEU\",\"HUN\",\"ISL\",\"JPN\",\"KAZ\",\"KGZ\",\"NLD\",\"POL\",\"ROU\",\"TJK\",\"THA\",\"AZE\",\"MNG\"],\"name\":\"\",\"z\":[1.0,0.0,0.0,0.0,0.0,0.0,0.0,0.0,0.0,0.0,0.0,0.0,0.0,0.0,0.0,0.0,0.0,0.0,0.0,0.0,0.0,0.0,0.0,0.0,0.0,0.0,0.0,0.0,0.0,0.0,0.0,0.0,0.0,0.0],\"type\":\"choropleth\"}],\"name\":\"2020-02-21\"},{\"data\":[{\"coloraxis\":\"coloraxis\",\"geo\":\"geo\",\"hovertemplate\":\"date=2020-03-02<br>Country_code=%{location}<br>deaths=%{z}<extra></extra>\",\"locations\":[\"ITA\",\"CHN\",\"ALB\",\"BGD\",\"BWA\",\"KHM\",\"HRV\",\"GRC\",\"SWE\",\"FIN\",\"NOR\",\"MYS\",\"ISR\",\"LTU\",\"SRB\",\"SVK\",\"SVN\",\"BGR\",\"CZE\",\"DNK\",\"GEO\",\"DEU\",\"HUN\",\"ISL\",\"JPN\",\"KAZ\",\"KGZ\",\"NLD\",\"POL\",\"ROU\",\"TJK\",\"THA\",\"AZE\",\"MNG\"],\"name\":\"\",\"z\":[18.0,42.0,0.0,0.0,0.0,0.0,0.0,0.0,0.0,0.0,0.0,0.0,0.0,0.0,0.0,0.0,0.0,0.0,0.0,0.0,0.0,0.0,0.0,0.0,0.0,0.0,0.0,0.0,0.0,0.0,0.0,0.0,0.0,0.0],\"type\":\"choropleth\"}],\"name\":\"2020-03-02\"},{\"data\":[{\"coloraxis\":\"coloraxis\",\"geo\":\"geo\",\"hovertemplate\":\"date=2020-03-12<br>Country_code=%{location}<br>deaths=%{z}<extra></extra>\",\"locations\":[\"ITA\",\"CHN\",\"ALB\",\"BGD\",\"BWA\",\"KHM\",\"HRV\",\"GRC\",\"SWE\",\"FIN\",\"NOR\",\"MYS\",\"ISR\",\"LTU\",\"SRB\",\"SVK\",\"SVN\",\"BGR\",\"CZE\",\"DNK\",\"GEO\",\"DEU\",\"HUN\",\"ISL\",\"JPN\",\"KAZ\",\"KGZ\",\"NLD\",\"POL\",\"ROU\",\"TJK\",\"THA\",\"AZE\",\"MNG\"],\"name\":\"\",\"z\":[189.0,11.0,0.0,0.0,0.0,0.0,0.0,0.0,1.0,0.0,0.0,0.0,0.0,0.0,0.0,0.0,0.0,0.0,0.0,0.0,0.0,2.0,0.0,0.0,4.0,0.0,0.0,0.0,1.0,0.0,0.0,0.0,0.0,0.0],\"type\":\"choropleth\"}],\"name\":\"2020-03-12\"},{\"data\":[{\"coloraxis\":\"coloraxis\",\"geo\":\"geo\",\"hovertemplate\":\"date=2020-03-22<br>Country_code=%{location}<br>deaths=%{z}<extra></extra>\",\"locations\":[\"ITA\",\"CHN\",\"ALB\",\"BGD\",\"BWA\",\"KHM\",\"HRV\",\"GRC\",\"SWE\",\"FIN\",\"NOR\",\"MYS\",\"ISR\",\"LTU\",\"SRB\",\"SVK\",\"SVN\",\"BGR\",\"CZE\",\"DNK\",\"GEO\",\"DEU\",\"HUN\",\"ISL\",\"JPN\",\"KAZ\",\"KGZ\",\"NLD\",\"POL\",\"ROU\",\"TJK\",\"THA\",\"AZE\",\"MNG\"],\"name\":\"\",\"z\":[651.0,15.0,0.0,0.0,0.0,0.0,0.0,2.0,11.0,2.0,0.0,4.0,0.0,0.0,1.0,0.0,1.0,0.0,1.0,0.0,0.0,8.0,2.0,0.0,4.0,0.0,0.0,43.0,2.0,3.0,0.0,0.0,0.0,0.0],\"type\":\"choropleth\"}],\"name\":\"2020-03-22\"},{\"data\":[{\"coloraxis\":\"coloraxis\",\"geo\":\"geo\",\"hovertemplate\":\"date=2020-04-01<br>Country_code=%{location}<br>deaths=%{z}<extra></extra>\",\"locations\":[\"ITA\",\"CHN\",\"ALB\",\"BGD\",\"BWA\",\"KHM\",\"HRV\",\"GRC\",\"SWE\",\"FIN\",\"NOR\",\"MYS\",\"ISR\",\"LTU\",\"SRB\",\"SVK\",\"SVN\",\"BGR\",\"CZE\",\"DNK\",\"GEO\",\"DEU\",\"HUN\",\"ISL\",\"JPN\",\"KAZ\",\"KGZ\",\"NLD\",\"POL\",\"ROU\",\"TJK\",\"THA\",\"AZE\",\"MNG\"],\"name\":\"\",\"z\":[727.0,9.0,0.0,1.0,0.0,0.0,0.0,0.0,70.0,7.0,5.0,2.0,8.0,2.0,12.0,1.0,0.0,2.0,8.0,14.0,0.0,149.0,4.0,0.0,5.0,1.0,0.0,135.0,10.0,10.0,0.0,2.0,0.0,0.0],\"type\":\"choropleth\"}],\"name\":\"2020-04-01\"},{\"data\":[{\"coloraxis\":\"coloraxis\",\"geo\":\"geo\",\"hovertemplate\":\"date=2020-04-11<br>Country_code=%{location}<br>deaths=%{z}<extra></extra>\",\"locations\":[\"ITA\",\"CHN\",\"ALB\",\"BGD\",\"BWA\",\"KHM\",\"HRV\",\"GRC\",\"SWE\",\"FIN\",\"NOR\",\"MYS\",\"ISR\",\"LTU\",\"SRB\",\"SVK\",\"SVN\",\"BGR\",\"CZE\",\"DNK\",\"GEO\",\"DEU\",\"HUN\",\"ISL\",\"JPN\",\"KAZ\",\"KGZ\",\"NLD\",\"POL\",\"ROU\",\"TJK\",\"THA\",\"AZE\",\"MNG\"],\"name\":\"\",\"z\":[619.0,6.0,0.0,3.0,0.0,0.0,0.0,3.0,17.0,3.0,6.0,3.0,6.0,1.0,3.0,0.0,5.0,3.0,10.0,13.0,0.0,171.0,8.0,1.0,13.0,0.0,0.0,133.0,27.0,21.0,0.0,2.0,1.0,0.0],\"type\":\"choropleth\"}],\"name\":\"2020-04-11\"},{\"data\":[{\"coloraxis\":\"coloraxis\",\"geo\":\"geo\",\"hovertemplate\":\"date=2020-04-21<br>Country_code=%{location}<br>deaths=%{z}<extra></extra>\",\"locations\":[\"ITA\",\"CHN\",\"ALB\",\"BGD\",\"BWA\",\"KHM\",\"HRV\",\"GRC\",\"SWE\",\"FIN\",\"NOR\",\"MYS\",\"ISR\",\"LTU\",\"SRB\",\"SVK\",\"SVN\",\"BGR\",\"CZE\",\"DNK\",\"GEO\",\"DEU\",\"HUN\",\"ISL\",\"JPN\",\"KAZ\",\"KGZ\",\"NLD\",\"POL\",\"ROU\",\"TJK\",\"THA\",\"AZE\",\"MNG\"],\"name\":\"\",\"z\":[534.0,3.0,0.0,9.0,0.0,0.0,1.0,5.0,185.0,17.0,1.0,2.0,9.0,0.0,5.0,1.0,0.0,2.0,7.0,6.0,0.0,194.0,14.0,0.0,28.0,0.0,0.0,165.0,21.0,20.0,0.0,2.0,1.0,0.0],\"type\":\"choropleth\"}],\"name\":\"2020-04-21\"},{\"data\":[{\"coloraxis\":\"coloraxis\",\"geo\":\"geo\",\"hovertemplate\":\"date=2020-05-01<br>Country_code=%{location}<br>deaths=%{z}<extra></extra>\",\"locations\":[\"ITA\",\"CHN\",\"ALB\",\"BGD\",\"BWA\",\"KHM\",\"HRV\",\"GRC\",\"SWE\",\"FIN\",\"NOR\",\"MYS\",\"ISR\",\"LTU\",\"SRB\",\"SVK\",\"SVN\",\"BGR\",\"CZE\",\"DNK\",\"GEO\",\"DEU\",\"HUN\",\"ISL\",\"JPN\",\"KAZ\",\"KGZ\",\"NLD\",\"POL\",\"ROU\",\"TJK\",\"THA\",\"AZE\",\"MNG\"],\"name\":\"\",\"z\":[269.0,1.0,0.0,2.0,0.0,0.0,6.0,0.0,67.0,4.0,0.0,0.0,4.0,0.0,0.0,0.0,1.0,2.0,4.0,8.0,0.0,193.0,11.0,0.0,29.0,0.0,0.0,98.0,7.0,27.0,0.0,0.0,1.0,0.0],\"type\":\"choropleth\"}],\"name\":\"2020-05-01\"},{\"data\":[{\"coloraxis\":\"coloraxis\",\"geo\":\"geo\",\"hovertemplate\":\"date=2020-05-11<br>Country_code=%{location}<br>deaths=%{z}<extra></extra>\",\"locations\":[\"ITA\",\"CHN\",\"ALB\",\"BGD\",\"BWA\",\"KHM\",\"HRV\",\"GRC\",\"SWE\",\"FIN\",\"NOR\",\"MYS\",\"ISR\",\"LTU\",\"SRB\",\"SVK\",\"SVN\",\"BGR\",\"CZE\",\"DNK\",\"GEO\",\"DEU\",\"HUN\",\"ISL\",\"JPN\",\"KAZ\",\"KGZ\",\"NLD\",\"POL\",\"ROU\",\"TJK\",\"THA\",\"AZE\",\"MNG\"],\"name\":\"\",\"z\":[179.0,1.0,0.0,11.0,0.0,0.0,1.0,0.0,31.0,0.0,5.0,0.0,5.0,0.0,3.0,0.0,0.0,2.0,2.0,4.0,0.0,22.0,8.0,0.0,19.0,1.0,0.0,16.0,11.0,21.0,1.0,0.0,0.0,0.0],\"type\":\"choropleth\"}],\"name\":\"2020-05-11\"},{\"data\":[{\"coloraxis\":\"coloraxis\",\"geo\":\"geo\",\"hovertemplate\":\"date=2020-05-21<br>Country_code=%{location}<br>deaths=%{z}<extra></extra>\",\"locations\":[\"ITA\",\"CHN\",\"ALB\",\"BGD\",\"BWA\",\"KHM\",\"HRV\",\"GRC\",\"SWE\",\"FIN\",\"NOR\",\"MYS\",\"ISR\",\"LTU\",\"SRB\",\"SVK\",\"SVN\",\"BGR\",\"CZE\",\"DNK\",\"GEO\",\"DEU\",\"HUN\",\"ISL\",\"JPN\",\"KAZ\",\"KGZ\",\"NLD\",\"POL\",\"ROU\",\"TJK\",\"THA\",\"AZE\",\"MNG\"],\"name\":\"\",\"z\":[156.0,0.0,0.0,22.0,0.0,0.0,1.0,2.0,40.0,1.0,1.0,1.0,0.0,0.0,2.0,0.0,1.0,4.0,2.0,7.0,0.0,57.0,3.0,0.0,8.0,0.0,0.0,27.0,10.0,9.0,0.0,0.0,1.0,0.0],\"type\":\"choropleth\"}],\"name\":\"2020-05-21\"},{\"data\":[{\"coloraxis\":\"coloraxis\",\"geo\":\"geo\",\"hovertemplate\":\"date=2020-05-31<br>Country_code=%{location}<br>deaths=%{z}<extra></extra>\",\"locations\":[\"ITA\",\"CHN\",\"ALB\",\"BGD\",\"BWA\",\"KHM\",\"HRV\",\"GRC\",\"SWE\",\"FIN\",\"NOR\",\"MYS\",\"ISR\",\"LTU\",\"SRB\",\"SVK\",\"SVN\",\"BGR\",\"CZE\",\"DNK\",\"GEO\",\"DEU\",\"HUN\",\"ISL\",\"JPN\",\"KAZ\",\"KGZ\",\"NLD\",\"POL\",\"ROU\",\"TJK\",\"THA\",\"AZE\",\"MNG\"],\"name\":\"\",\"z\":[75.0,0.0,0.0,40.0,0.0,0.0,0.0,0.0,0.0,0.0,0.0,0.0,0.0,0.0,1.0,0.0,0.0,1.0,1.0,3.0,0.0,11.0,2.0,0.0,3.0,3.0,0.0,5.0,3.0,7.0,0.0,0.0,2.0,0.0],\"type\":\"choropleth\"}],\"name\":\"2020-05-31\"},{\"data\":[{\"coloraxis\":\"coloraxis\",\"geo\":\"geo\",\"hovertemplate\":\"date=2020-06-10<br>Country_code=%{location}<br>deaths=%{z}<extra></extra>\",\"locations\":[\"ITA\",\"CHN\",\"ALB\",\"BGD\",\"BWA\",\"KHM\",\"HRV\",\"GRC\",\"SWE\",\"FIN\",\"NOR\",\"MYS\",\"ISR\",\"LTU\",\"SRB\",\"SVK\",\"SVN\",\"BGR\",\"CZE\",\"DNK\",\"GEO\",\"DEU\",\"HUN\",\"ISL\",\"JPN\",\"KAZ\",\"KGZ\",\"NLD\",\"POL\",\"ROU\",\"TJK\",\"THA\",\"AZE\",\"MNG\"],\"name\":\"\",\"z\":[71.0,0.0,0.0,37.0,0.0,0.0,0.0,0.0,78.0,0.0,0.0,1.0,1.0,0.0,1.0,0.0,0.0,0.0,2.0,0.0,0.0,18.0,1.0,0.0,2.0,6.0,2.0,11.0,23.0,6.0,0.0,0.0,4.0,0.0],\"type\":\"choropleth\"}],\"name\":\"2020-06-10\"},{\"data\":[{\"coloraxis\":\"coloraxis\",\"geo\":\"geo\",\"hovertemplate\":\"date=2020-06-20<br>Country_code=%{location}<br>deaths=%{z}<extra></extra>\",\"locations\":[\"ITA\",\"CHN\",\"ALB\",\"BGD\",\"BWA\",\"KHM\",\"HRV\",\"GRC\",\"SWE\",\"FIN\",\"NOR\",\"MYS\",\"ISR\",\"LTU\",\"SRB\",\"SVK\",\"SVN\",\"BGR\",\"CZE\",\"DNK\",\"GEO\",\"DEU\",\"HUN\",\"ISL\",\"JPN\",\"KAZ\",\"KGZ\",\"NLD\",\"POL\",\"ROU\",\"TJK\",\"THA\",\"AZE\",\"MNG\"],\"name\":\"\",\"z\":[49.0,0.0,1.0,37.0,0.0,0.0,0.0,1.0,0.0,0.0,0.0,0.0,1.0,0.0,1.0,0.0,0.0,6.0,1.0,0.0,0.0,11.0,2.0,0.0,0.0,5.0,3.0,8.0,12.0,16.0,0.0,0.0,5.0,0.0],\"type\":\"choropleth\"}],\"name\":\"2020-06-20\"},{\"data\":[{\"coloraxis\":\"coloraxis\",\"geo\":\"geo\",\"hovertemplate\":\"date=2020-06-30<br>Country_code=%{location}<br>deaths=%{z}<extra></extra>\",\"locations\":[\"ITA\",\"CHN\",\"ALB\",\"BGD\",\"BWA\",\"KHM\",\"HRV\",\"GRC\",\"SWE\",\"FIN\",\"NOR\",\"MYS\",\"ISR\",\"LTU\",\"SRB\",\"SVK\",\"SVN\",\"BGR\",\"CZE\",\"DNK\",\"GEO\",\"DEU\",\"HUN\",\"ISL\",\"JPN\",\"KAZ\",\"KGZ\",\"NLD\",\"POL\",\"ROU\",\"TJK\",\"THA\",\"AZE\",\"MNG\"],\"name\":\"\",\"z\":[23.0,0.0,4.0,64.0,0.0,0.0,0.0,1.0,53.0,1.0,1.0,0.0,1.0,0.0,3.0,0.0,0.0,7.0,1.0,0.0,0.0,12.0,0.0,0.0,0.0,0.0,4.0,6.0,19.0,17.0,0.0,0.0,7.0,0.0],\"type\":\"choropleth\"}],\"name\":\"2020-06-30\"},{\"data\":[{\"coloraxis\":\"coloraxis\",\"geo\":\"geo\",\"hovertemplate\":\"date=2020-07-10<br>Country_code=%{location}<br>deaths=%{z}<extra></extra>\",\"locations\":[\"ITA\",\"CHN\",\"ALB\",\"BGD\",\"BWA\",\"KHM\",\"HRV\",\"GRC\",\"SWE\",\"FIN\",\"NOR\",\"MYS\",\"ISR\",\"LTU\",\"SRB\",\"SVK\",\"SVN\",\"BGR\",\"CZE\",\"DNK\",\"GEO\",\"DEU\",\"HUN\",\"ISL\",\"JPN\",\"KAZ\",\"KGZ\",\"NLD\",\"POL\",\"ROU\",\"TJK\",\"THA\",\"AZE\",\"MNG\"],\"name\":\"\",\"z\":[12.0,0.0,2.0,37.0,0.0,0.0,2.0,0.0,26.0,0.0,0.0,1.0,4.0,0.0,18.0,0.0,0.0,5.0,0.0,0.0,0.0,6.0,2.0,0.0,0.0,19.0,3.0,1.5,11.0,13.0,0.0,0.0,8.0,0.0],\"type\":\"choropleth\"}],\"name\":\"2020-07-10\"},{\"data\":[{\"coloraxis\":\"coloraxis\",\"geo\":\"geo\",\"hovertemplate\":\"date=2020-07-20<br>Country_code=%{location}<br>deaths=%{z}<extra></extra>\",\"locations\":[\"ITA\",\"CHN\",\"ALB\",\"BGD\",\"BWA\",\"KHM\",\"HRV\",\"GRC\",\"SWE\",\"FIN\",\"NOR\",\"MYS\",\"ISR\",\"LTU\",\"SRB\",\"SVK\",\"SVN\",\"BGR\",\"CZE\",\"DNK\",\"GEO\",\"DEU\",\"HUN\",\"ISL\",\"JPN\",\"KAZ\",\"KGZ\",\"NLD\",\"POL\",\"ROU\",\"TJK\",\"THA\",\"AZE\",\"MNG\"],\"name\":\"\",\"z\":[13.0,0.0,1.0,50.0,0.0,0.0,2.0,1.0,0.0,0.0,0.0,0.0,12.0,0.0,10.0,0.0,1.0,8.0,0.0,0.0,0.0,2.0,0.0,0.0,2.0,0.0,0.0,0.0,3.0,12.0,0.0,0.0,9.0,0.0],\"type\":\"choropleth\"}],\"name\":\"2020-07-20\"},{\"data\":[{\"coloraxis\":\"coloraxis\",\"geo\":\"geo\",\"hovertemplate\":\"date=2020-07-30<br>Country_code=%{location}<br>deaths=%{z}<extra></extra>\",\"locations\":[\"ITA\",\"CHN\",\"ALB\",\"BGD\",\"BWA\",\"KHM\",\"HRV\",\"GRC\",\"SWE\",\"FIN\",\"NOR\",\"MYS\",\"ISR\",\"LTU\",\"SRB\",\"SVK\",\"SVN\",\"BGR\",\"CZE\",\"DNK\",\"GEO\",\"DEU\",\"HUN\",\"ISL\",\"JPN\",\"KAZ\",\"KGZ\",\"NLD\",\"POL\",\"ROU\",\"TJK\",\"THA\",\"AZE\",\"MNG\"],\"name\":\"\",\"z\":[3.0,0.0,4.0,48.0,0.0,0.0,3.0,0.0,9.0,1.0,0.0,0.0,15.0,0.0,7.0,0.0,0.0,6.0,5.0,1.0,1.0,6.0,0.0,0.0,1.0,0.0,17.0,0.0,15.0,35.0,0.0,0.0,3.0,0.0],\"type\":\"choropleth\"}],\"name\":\"2020-07-30\"},{\"data\":[{\"coloraxis\":\"coloraxis\",\"geo\":\"geo\",\"hovertemplate\":\"date=2020-08-09<br>Country_code=%{location}<br>deaths=%{z}<extra></extra>\",\"locations\":[\"ITA\",\"CHN\",\"ALB\",\"BGD\",\"BWA\",\"KHM\",\"HRV\",\"GRC\",\"SWE\",\"FIN\",\"NOR\",\"MYS\",\"ISR\",\"LTU\",\"SRB\",\"SVK\",\"SVN\",\"BGR\",\"CZE\",\"DNK\",\"GEO\",\"DEU\",\"HUN\",\"ISL\",\"JPN\",\"KAZ\",\"KGZ\",\"NLD\",\"POL\",\"ROU\",\"TJK\",\"THA\",\"AZE\",\"MNG\"],\"name\":\"\",\"z\":[2.0,0.0,6.0,34.0,0.0,0.0,0.0,1.0,0.0,0.0,0.0,0.0,7.0,0.0,9.0,0.0,1.0,2.0,1.0,0.0,0.0,1.0,0.0,0.0,5.0,324.0,9.0,0.0,7.0,41.0,0.0,0.0,2.0,0.0],\"type\":\"choropleth\"}],\"name\":\"2020-08-09\"},{\"data\":[{\"coloraxis\":\"coloraxis\",\"geo\":\"geo\",\"hovertemplate\":\"date=2020-08-19<br>Country_code=%{location}<br>deaths=%{z}<extra></extra>\",\"locations\":[\"ITA\",\"CHN\",\"ALB\",\"BGD\",\"BWA\",\"KHM\",\"HRV\",\"GRC\",\"SWE\",\"FIN\",\"NOR\",\"MYS\",\"ISR\",\"LTU\",\"SRB\",\"SVK\",\"SVN\",\"BGR\",\"CZE\",\"DNK\",\"GEO\",\"DEU\",\"HUN\",\"ISL\",\"JPN\",\"KAZ\",\"KGZ\",\"NLD\",\"POL\",\"ROU\",\"TJK\",\"THA\",\"AZE\",\"MNG\"],\"name\":\"\",\"z\":[7.0,0.0,2.0,41.0,0.0,0.0,2.0,3.0,12.0,0.0,0.0,0.0,12.0,0.0,3.0,2.0,0.0,8.0,3.0,0.0,0.0,7.0,0.0,0.0,14.0,0.0,0.0,6.0,17.0,32.0,1.0,0.0,1.0,0.0],\"type\":\"choropleth\"}],\"name\":\"2020-08-19\"},{\"data\":[{\"coloraxis\":\"coloraxis\",\"geo\":\"geo\",\"hovertemplate\":\"date=2020-08-29<br>Country_code=%{location}<br>deaths=%{z}<extra></extra>\",\"locations\":[\"ITA\",\"CHN\",\"ALB\",\"BGD\",\"BWA\",\"KHM\",\"HRV\",\"GRC\",\"SWE\",\"FIN\",\"NOR\",\"MYS\",\"ISR\",\"LTU\",\"SRB\",\"SVK\",\"SVN\",\"BGR\",\"CZE\",\"DNK\",\"GEO\",\"DEU\",\"HUN\",\"ISL\",\"JPN\",\"KAZ\",\"KGZ\",\"NLD\",\"POL\",\"ROU\",\"TJK\",\"THA\",\"AZE\",\"MNG\"],\"name\":\"\",\"z\":[1.0,0.0,4.0,32.0,0.0,0.0,3.0,1.0,0.0,0.0,0.0,1.0,5.0,0.0,1.0,0.0,0.0,2.0,2.0,0.0,0.0,1.0,0.0,0.0,11.0,0.0,0.0,4.0,14.0,32.0,0.0,0.0,2.0,0.0],\"type\":\"choropleth\"}],\"name\":\"2020-08-29\"},{\"data\":[{\"coloraxis\":\"coloraxis\",\"geo\":\"geo\",\"hovertemplate\":\"date=2020-09-08<br>Country_code=%{location}<br>deaths=%{z}<extra></extra>\",\"locations\":[\"ITA\",\"CHN\",\"ALB\",\"BGD\",\"BWA\",\"KHM\",\"HRV\",\"GRC\",\"SWE\",\"FIN\",\"NOR\",\"MYS\",\"ISR\",\"LTU\",\"SRB\",\"SVK\",\"SVN\",\"BGR\",\"CZE\",\"DNK\",\"GEO\",\"DEU\",\"HUN\",\"ISL\",\"JPN\",\"KAZ\",\"KGZ\",\"NLD\",\"POL\",\"ROU\",\"TJK\",\"THA\",\"AZE\",\"MNG\"],\"name\":\"\",\"z\":[10.0,0.0,2.0,36.0,0.0,0.0,2.0,1.0,3.0,0.0,0.0,0.0,20.0,0.0,2.0,0.0,0.0,15.0,4.0,0.0,0.0,4.0,1.0,0.0,18.0,0.0,0.0,1.0,12.0,41.0,0.0,0.0,1.0,0.0],\"type\":\"choropleth\"}],\"name\":\"2020-09-08\"},{\"data\":[{\"coloraxis\":\"coloraxis\",\"geo\":\"geo\",\"hovertemplate\":\"date=2020-09-18<br>Country_code=%{location}<br>deaths=%{z}<extra></extra>\",\"locations\":[\"ITA\",\"CHN\",\"ALB\",\"BGD\",\"BWA\",\"KHM\",\"HRV\",\"GRC\",\"SWE\",\"FIN\",\"NOR\",\"MYS\",\"ISR\",\"LTU\",\"SRB\",\"SVK\",\"SVN\",\"BGR\",\"CZE\",\"DNK\",\"GEO\",\"DEU\",\"HUN\",\"ISL\",\"JPN\",\"KAZ\",\"KGZ\",\"NLD\",\"POL\",\"ROU\",\"TJK\",\"THA\",\"AZE\",\"MNG\"],\"name\":\"\",\"z\":[10.0,0.0,6.0,22.0,0.0,0.0,6.0,2.0,1.0,0.0,1.0,1.0,20.0,0.0,1.0,0.0,4.0,4.0,6.0,0.0,0.0,7.0,6.0,0.0,10.0,0.0,0.0,8.0,17.0,48.0,0.0,1.0,1.0,0.0],\"type\":\"choropleth\"}],\"name\":\"2020-09-18\"},{\"data\":[{\"coloraxis\":\"coloraxis\",\"geo\":\"geo\",\"hovertemplate\":\"date=2020-09-28<br>Country_code=%{location}<br>deaths=%{z}<extra></extra>\",\"locations\":[\"ITA\",\"CHN\",\"ALB\",\"BGD\",\"BWA\",\"KHM\",\"HRV\",\"GRC\",\"SWE\",\"FIN\",\"NOR\",\"MYS\",\"ISR\",\"LTU\",\"SRB\",\"SVK\",\"SVN\",\"BGR\",\"CZE\",\"DNK\",\"GEO\",\"DEU\",\"HUN\",\"ISL\",\"JPN\",\"KAZ\",\"KGZ\",\"NLD\",\"POL\",\"ROU\",\"TJK\",\"THA\",\"AZE\",\"MNG\"],\"name\":\"\",\"z\":[16.0,0.0,3.0,32.0,0.0,0.0,0.0,4.0,0.0,0.0,4.0,1.0,29.0,1.0,1.0,0.0,2.0,11.0,12.0,0.0,0.0,3.0,13.0,0.0,11.0,0.0,1.0,6.0,15.0,30.0,0.0,0.0,2.0,0.0],\"type\":\"choropleth\"}],\"name\":\"2020-09-28\"},{\"data\":[{\"coloraxis\":\"coloraxis\",\"geo\":\"geo\",\"hovertemplate\":\"date=2020-10-08<br>Country_code=%{location}<br>deaths=%{z}<extra></extra>\",\"locations\":[\"ITA\",\"CHN\",\"ALB\",\"BGD\",\"BWA\",\"KHM\",\"HRV\",\"GRC\",\"SWE\",\"FIN\",\"NOR\",\"MYS\",\"ISR\",\"LTU\",\"SRB\",\"SVK\",\"SVN\",\"BGR\",\"CZE\",\"DNK\",\"GEO\",\"DEU\",\"HUN\",\"ISL\",\"JPN\",\"KAZ\",\"KGZ\",\"NLD\",\"POL\",\"ROU\",\"TJK\",\"THA\",\"AZE\",\"MNG\"],\"name\":\"\",\"z\":[22.0,0.0,4.0,20.0,0.0,0.0,1.0,6.0,0.0,2.0,0.0,5.0,47.0,1.0,2.0,2.0,1.0,7.0,40.0,2.0,4.0,16.0,21.0,0.0,3.0,0.0,4.0,13.0,75.0,44.0,0.0,0.0,1.0,0.0],\"type\":\"choropleth\"}],\"name\":\"2020-10-08\"},{\"data\":[{\"coloraxis\":\"coloraxis\",\"geo\":\"geo\",\"hovertemplate\":\"date=2020-10-18<br>Country_code=%{location}<br>deaths=%{z}<extra></extra>\",\"locations\":[\"ITA\",\"CHN\",\"ALB\",\"BGD\",\"BWA\",\"KHM\",\"HRV\",\"GRC\",\"SWE\",\"FIN\",\"NOR\",\"MYS\",\"ISR\",\"LTU\",\"SRB\",\"SVK\",\"SVN\",\"BGR\",\"CZE\",\"DNK\",\"GEO\",\"DEU\",\"HUN\",\"ISL\",\"JPN\",\"KAZ\",\"KGZ\",\"NLD\",\"POL\",\"ROU\",\"TJK\",\"THA\",\"AZE\",\"MNG\"],\"name\":\"\",\"z\":[69.0,0.0,3.0,14.0,0.0,0.0,8.0,9.0,0.0,0.0,0.0,2.0,33.0,2.0,2.0,6.0,4.0,18.0,70.0,1.0,8.0,10.0,33.0,0.0,4.0,42.0,3.0,14.0,49.0,60.0,0.0,0.0,3.0,0.0],\"type\":\"choropleth\"}],\"name\":\"2020-10-18\"},{\"data\":[{\"coloraxis\":\"coloraxis\",\"geo\":\"geo\",\"hovertemplate\":\"date=2020-10-28<br>Country_code=%{location}<br>deaths=%{z}<extra></extra>\",\"locations\":[\"ITA\",\"CHN\",\"ALB\",\"BGD\",\"BWA\",\"KHM\",\"HRV\",\"GRC\",\"SWE\",\"FIN\",\"NOR\",\"MYS\",\"ISR\",\"LTU\",\"SRB\",\"SVK\",\"SVN\",\"BGR\",\"CZE\",\"DNK\",\"GEO\",\"DEU\",\"HUN\",\"ISL\",\"JPN\",\"KAZ\",\"KGZ\",\"NLD\",\"POL\",\"ROU\",\"TJK\",\"THA\",\"AZE\",\"MNG\"],\"name\":\"\",\"z\":[205.0,0.0,6.0,23.0,0.0,0.0,23.0,10.0,3.5,1.0,0.0,10.0,10.0,5.0,5.0,8.0,14.0,36.0,128.0,6.0,15.0,85.0,43.0,1.0,5.0,0.0,2.0,60.0,234.0,107.0,0.0,0.0,11.0,0.0],\"type\":\"choropleth\"}],\"name\":\"2020-10-28\"},{\"data\":[{\"coloraxis\":\"coloraxis\",\"geo\":\"geo\",\"hovertemplate\":\"date=2020-11-07<br>Country_code=%{location}<br>deaths=%{z}<extra></extra>\",\"locations\":[\"ITA\",\"CHN\",\"ALB\",\"BGD\",\"BWA\",\"KHM\",\"HRV\",\"GRC\",\"SWE\",\"FIN\",\"NOR\",\"MYS\",\"ISR\",\"LTU\",\"SRB\",\"SVK\",\"SVN\",\"BGR\",\"CZE\",\"DNK\",\"GEO\",\"DEU\",\"HUN\",\"ISL\",\"JPN\",\"KAZ\",\"KGZ\",\"NLD\",\"POL\",\"ROU\",\"TJK\",\"THA\",\"AZE\",\"MNG\"],\"name\":\"\",\"z\":[425.0,0.0,8.0,13.0,0.0,0.0,35.0,34.0,0.0,2.0,0.0,3.0,8.0,10.0,9.0,34.0,34.0,56.0,197.0,2.0,18.0,130.0,107.0,0.0,5.0,0.0,2.0,73.0,349.0,130.0,0.0,0.0,13.0,0.0],\"type\":\"choropleth\"}],\"name\":\"2020-11-07\"},{\"data\":[{\"coloraxis\":\"coloraxis\",\"geo\":\"geo\",\"hovertemplate\":\"date=2020-11-17<br>Country_code=%{location}<br>deaths=%{z}<extra></extra>\",\"locations\":[\"ITA\",\"CHN\",\"ALB\",\"BGD\",\"BWA\",\"KHM\",\"HRV\",\"GRC\",\"SWE\",\"FIN\",\"NOR\",\"MYS\",\"ISR\",\"LTU\",\"SRB\",\"SVK\",\"SVN\",\"BGR\",\"CZE\",\"DNK\",\"GEO\",\"DEU\",\"HUN\",\"ISL\",\"JPN\",\"KAZ\",\"KGZ\",\"NLD\",\"POL\",\"ROU\",\"TJK\",\"THA\",\"AZE\",\"MNG\"],\"name\":\"\",\"z\":[731.0,0.0,6.0,39.0,0.0,0.0,31.0,63.0,0.0,1.0,4.0,5.0,12.0,20.0,24.0,31.0,45.0,131.0,142.0,4.0,45.0,267.0,91.0,0.0,14.0,0.0,4.0,86.0,357.0,186.0,0.0,0.0,20.0,0.0],\"type\":\"choropleth\"}],\"name\":\"2020-11-17\"},{\"data\":[{\"coloraxis\":\"coloraxis\",\"geo\":\"geo\",\"hovertemplate\":\"date=2020-11-27<br>Country_code=%{location}<br>deaths=%{z}<extra></extra>\",\"locations\":[\"ITA\",\"CHN\",\"ALB\",\"BGD\",\"BWA\",\"KHM\",\"HRV\",\"GRC\",\"SWE\",\"FIN\",\"NOR\",\"MYS\",\"ISR\",\"LTU\",\"SRB\",\"SVK\",\"SVN\",\"BGR\",\"CZE\",\"DNK\",\"GEO\",\"DEU\",\"HUN\",\"ISL\",\"JPN\",\"KAZ\",\"KGZ\",\"NLD\",\"POL\",\"ROU\",\"TJK\",\"THA\",\"AZE\",\"MNG\"],\"name\":\"\",\"z\":[827.0,1.0,18.0,20.0,0.0,0.0,48.0,101.0,59.0,2.0,12.0,2.0,6.0,23.0,57.0,22.0,48.0,151.0,188.0,5.0,37.0,426.0,135.0,0.0,31.0,0.0,0.0,83.0,579.0,172.0,0.0,0.0,35.0,0.0],\"type\":\"choropleth\"}],\"name\":\"2020-11-27\"},{\"data\":[{\"coloraxis\":\"coloraxis\",\"geo\":\"geo\",\"hovertemplate\":\"date=2020-12-07<br>Country_code=%{location}<br>deaths=%{z}<extra></extra>\",\"locations\":[\"ITA\",\"CHN\",\"ALB\",\"BGD\",\"BWA\",\"KHM\",\"HRV\",\"GRC\",\"SWE\",\"FIN\",\"NOR\",\"MYS\",\"ISR\",\"LTU\",\"SRB\",\"SVK\",\"SVN\",\"BGR\",\"CZE\",\"DNK\",\"GEO\",\"DEU\",\"HUN\",\"ISL\",\"JPN\",\"KAZ\",\"KGZ\",\"NLD\",\"POL\",\"ROU\",\"TJK\",\"THA\",\"AZE\",\"MNG\"],\"name\":\"\",\"z\":[528.0,0.0,17.0,36.0,2.0,0.0,59.0,89.0,0.0,10.0,5.0,2.0,7.0,44.0,56.0,22.0,52.0,213.0,0.0,9.0,36.0,147.0,116.0,0.0,39.0,0.0,0.0,17.0,92.0,127.0,0.0,0.0,43.0,0.0],\"type\":\"choropleth\"}],\"name\":\"2020-12-07\"},{\"data\":[{\"coloraxis\":\"coloraxis\",\"geo\":\"geo\",\"hovertemplate\":\"date=2020-12-17<br>Country_code=%{location}<br>deaths=%{z}<extra></extra>\",\"locations\":[\"ITA\",\"CHN\",\"ALB\",\"BGD\",\"BWA\",\"KHM\",\"HRV\",\"GRC\",\"SWE\",\"FIN\",\"NOR\",\"MYS\",\"ISR\",\"LTU\",\"SRB\",\"SVK\",\"SVN\",\"BGR\",\"CZE\",\"DNK\",\"GEO\",\"DEU\",\"HUN\",\"ISL\",\"JPN\",\"KAZ\",\"KGZ\",\"NLD\",\"POL\",\"ROU\",\"TJK\",\"THA\",\"AZE\",\"MNG\"],\"name\":\"\",\"z\":[683.0,0.0,15.0,36.0,0.0,0.0,85.0,78.0,91.0,4.0,2.0,3.0,16.0,43.0,47.0,69.0,43.0,143.0,154.0,17.0,31.0,698.0,157.0,0.0,38.0,0.0,4.0,75.0,431.0,107.0,0.0,0.0,38.0,0.0],\"type\":\"choropleth\"}],\"name\":\"2020-12-17\"},{\"data\":[{\"coloraxis\":\"coloraxis\",\"geo\":\"geo\",\"hovertemplate\":\"date=2020-12-27<br>Country_code=%{location}<br>deaths=%{z}<extra></extra>\",\"locations\":[\"ITA\",\"CHN\",\"ALB\",\"BGD\",\"BWA\",\"KHM\",\"HRV\",\"GRC\",\"SWE\",\"FIN\",\"NOR\",\"MYS\",\"ISR\",\"LTU\",\"SRB\",\"SVK\",\"SVN\",\"BGR\",\"CZE\",\"DNK\",\"GEO\",\"DEU\",\"HUN\",\"ISL\",\"JPN\",\"KAZ\",\"KGZ\",\"NLD\",\"POL\",\"ROU\",\"TJK\",\"THA\",\"AZE\",\"MNG\"],\"name\":\"\",\"z\":[305.0,1.0,10.0,24.0,0.0,0.0,58.0,53.0,0.0,0.0,0.0,1.0,16.0,42.0,47.0,41.0,33.0,41.0,94.0,21.0,25.0,356.0,96.0,0.0,40.0,80.0,4.0,28.0,57.0,122.0,0.0,0.0,45.0,0.0],\"type\":\"choropleth\"}],\"name\":\"2020-12-27\"},{\"data\":[{\"coloraxis\":\"coloraxis\",\"geo\":\"geo\",\"hovertemplate\":\"date=2021-01-06<br>Country_code=%{location}<br>deaths=%{z}<extra></extra>\",\"locations\":[\"ITA\",\"CHN\",\"ALB\",\"BGD\",\"BWA\",\"KHM\",\"HRV\",\"GRC\",\"SWE\",\"FIN\",\"NOR\",\"MYS\",\"ISR\",\"LTU\",\"SRB\",\"SVK\",\"SVN\",\"BGR\",\"CZE\",\"DNK\",\"GEO\",\"DEU\",\"HUN\",\"ISL\",\"JPN\",\"KAZ\",\"KGZ\",\"NLD\",\"POL\",\"ROU\",\"TJK\",\"THA\",\"AZE\",\"MNG\"],\"name\":\"\",\"z\":[548.0,1.0,7.0,17.0,0.0,0.0,44.0,48.0,0.0,4.0,13.0,1.0,33.0,35.0,39.0,54.0,31.0,59.0,179.0,30.0,20.0,1019.0,118.0,0.0,65.0,0.0,1.0,137.0,553.0,121.0,0.0,1.0,26.0,0.0],\"type\":\"choropleth\"}],\"name\":\"2021-01-06\"},{\"data\":[{\"coloraxis\":\"coloraxis\",\"geo\":\"geo\",\"hovertemplate\":\"date=2021-01-16<br>Country_code=%{location}<br>deaths=%{z}<extra></extra>\",\"locations\":[\"ITA\",\"CHN\",\"ALB\",\"BGD\",\"BWA\",\"KHM\",\"HRV\",\"GRC\",\"SWE\",\"FIN\",\"NOR\",\"MYS\",\"ISR\",\"LTU\",\"SRB\",\"SVK\",\"SVN\",\"BGR\",\"CZE\",\"DNK\",\"GEO\",\"DEU\",\"HUN\",\"ISL\",\"JPN\",\"KAZ\",\"KGZ\",\"NLD\",\"POL\",\"ROU\",\"TJK\",\"THA\",\"AZE\",\"MNG\"],\"name\":\"\",\"z\":[475.0,4.0,5.0,21.0,0.0,0.0,38.0,20.0,0.0,1.0,0.0,8.0,49.0,34.0,22.0,55.0,19.0,17.0,186.0,27.0,23.0,980.0,87.0,0.0,56.0,0.0,2.0,97.0,369.0,66.0,0.0,1.0,15.0,0.0],\"type\":\"choropleth\"}],\"name\":\"2021-01-16\"},{\"data\":[{\"coloraxis\":\"coloraxis\",\"geo\":\"geo\",\"hovertemplate\":\"date=2021-01-26<br>Country_code=%{location}<br>deaths=%{z}<extra></extra>\",\"locations\":[\"ITA\",\"CHN\",\"ALB\",\"BGD\",\"BWA\",\"KHM\",\"HRV\",\"GRC\",\"SWE\",\"FIN\",\"NOR\",\"MYS\",\"ISR\",\"LTU\",\"SRB\",\"SVK\",\"SVN\",\"BGR\",\"CZE\",\"DNK\",\"GEO\",\"DEU\",\"HUN\",\"ISL\",\"JPN\",\"KAZ\",\"KGZ\",\"NLD\",\"POL\",\"ROU\",\"TJK\",\"THA\",\"AZE\",\"MNG\"],\"name\":\"\",\"z\":[541.0,1.0,8.0,14.0,0.0,0.0,23.0,21.0,242.0,5.0,2.0,11.0,15.0,17.0,19.0,192.0,27.0,36.0,165.0,20.0,25.0,903.0,89.0,0.0,104.0,0.0,3.0,86.0,264.0,97.0,0.0,0.0,7.0,0.0],\"type\":\"choropleth\"}],\"name\":\"2021-01-26\"},{\"data\":[{\"coloraxis\":\"coloraxis\",\"geo\":\"geo\",\"hovertemplate\":\"date=2021-02-05<br>Country_code=%{location}<br>deaths=%{z}<extra></extra>\",\"locations\":[\"ITA\",\"CHN\",\"ALB\",\"BGD\",\"BWA\",\"KHM\",\"HRV\",\"GRC\",\"SWE\",\"FIN\",\"NOR\",\"MYS\",\"ISR\",\"LTU\",\"SRB\",\"SVK\",\"SVN\",\"BGR\",\"CZE\",\"DNK\",\"GEO\",\"DEU\",\"HUN\",\"ISL\",\"JPN\",\"KAZ\",\"KGZ\",\"NLD\",\"POL\",\"ROU\",\"TJK\",\"THA\",\"AZE\",\"MNG\"],\"name\":\"\",\"z\":[377.0,5.0,15.0,7.0,0.0,0.0,16.0,19.0,87.0,1.0,0.0,19.0,19.0,24.0,14.0,74.0,15.0,30.0,150.0,17.0,18.0,855.0,98.0,0.0,106.0,0.0,0.0,60.0,368.0,73.0,0.0,0.0,5.0,0.0],\"type\":\"choropleth\"}],\"name\":\"2021-02-05\"},{\"data\":[{\"coloraxis\":\"coloraxis\",\"geo\":\"geo\",\"hovertemplate\":\"date=2021-02-15<br>Country_code=%{location}<br>deaths=%{z}<extra></extra>\",\"locations\":[\"ITA\",\"CHN\",\"ALB\",\"BGD\",\"BWA\",\"KHM\",\"HRV\",\"GRC\",\"SWE\",\"FIN\",\"NOR\",\"MYS\",\"ISR\",\"LTU\",\"SRB\",\"SVK\",\"SVN\",\"BGR\",\"CZE\",\"DNK\",\"GEO\",\"DEU\",\"HUN\",\"ISL\",\"JPN\",\"KAZ\",\"KGZ\",\"NLD\",\"POL\",\"ROU\",\"TJK\",\"THA\",\"AZE\",\"MNG\"],\"name\":\"\",\"z\":[258.0,1.0,12.0,11.0,24.0,0.0,21.0,26.0,0.0,4.0,1.0,11.0,26.0,12.0,15.0,67.0,11.0,47.0,107.0,9.0,11.0,116.0,46.0,0.0,73.0,0.0,0.0,27.0,25.0,79.0,0.0,2.0,3.0,0.0],\"type\":\"choropleth\"}],\"name\":\"2021-02-15\"},{\"data\":[{\"coloraxis\":\"coloraxis\",\"geo\":\"geo\",\"hovertemplate\":\"date=2021-02-25<br>Country_code=%{location}<br>deaths=%{z}<extra></extra>\",\"locations\":[\"ITA\",\"CHN\",\"ALB\",\"BGD\",\"BWA\",\"KHM\",\"HRV\",\"GRC\",\"SWE\",\"FIN\",\"NOR\",\"MYS\",\"ISR\",\"LTU\",\"SRB\",\"SVK\",\"SVN\",\"BGR\",\"CZE\",\"DNK\",\"GEO\",\"DEU\",\"HUN\",\"ISL\",\"JPN\",\"KAZ\",\"KGZ\",\"NLD\",\"POL\",\"ROU\",\"TJK\",\"THA\",\"AZE\",\"MNG\"],\"name\":\"\",\"z\":[308.0,0.0,21.0,5.0,10.0,0.0,12.0,39.0,5.0,2.0,0.0,13.0,27.0,9.0,15.0,84.0,7.0,53.0,153.0,6.0,12.0,385.0,120.0,0.0,74.0,0.0,3.0,32.0,286.0,81.0,0.0,0.0,3.0,0.0],\"type\":\"choropleth\"}],\"name\":\"2021-02-25\"},{\"data\":[{\"coloraxis\":\"coloraxis\",\"geo\":\"geo\",\"hovertemplate\":\"date=2021-03-07<br>Country_code=%{location}<br>deaths=%{z}<extra></extra>\",\"locations\":[\"ITA\",\"CHN\",\"ALB\",\"BGD\",\"BWA\",\"KHM\",\"HRV\",\"GRC\",\"SWE\",\"FIN\",\"NOR\",\"MYS\",\"ISR\",\"LTU\",\"SRB\",\"SVK\",\"SVN\",\"BGR\",\"CZE\",\"DNK\",\"GEO\",\"DEU\",\"HUN\",\"ISL\",\"JPN\",\"KAZ\",\"KGZ\",\"NLD\",\"POL\",\"ROU\",\"TJK\",\"THA\",\"AZE\",\"MNG\"],\"name\":\"\",\"z\":[207.0,0.0,21.0,11.0,0.0,0.0,5.0,53.0,0.0,1.0,0.0,3.0,35.0,6.0,20.0,97.0,3.0,21.0,159.0,2.0,9.0,96.0,108.0,0.0,24.0,0.0,0.0,30.0,126.0,46.0,0.0,0.0,3.0,1.0],\"type\":\"choropleth\"}],\"name\":\"2021-03-07\"},{\"data\":[{\"coloraxis\":\"coloraxis\",\"geo\":\"geo\",\"hovertemplate\":\"date=2021-03-17<br>Country_code=%{location}<br>deaths=%{z}<extra></extra>\",\"locations\":[\"ITA\",\"CHN\",\"ALB\",\"BGD\",\"BWA\",\"KHM\",\"HRV\",\"GRC\",\"SWE\",\"FIN\",\"NOR\",\"MYS\",\"ISR\",\"LTU\",\"SRB\",\"SVK\",\"SVN\",\"BGR\",\"CZE\",\"DNK\",\"GEO\",\"DEU\",\"HUN\",\"ISL\",\"JPN\",\"KAZ\",\"KGZ\",\"NLD\",\"POL\",\"ROU\",\"TJK\",\"THA\",\"AZE\",\"MNG\"],\"name\":\"\",\"z\":[431.0,0.0,15.0,11.0,0.0,0.0,12.0,56.0,56.0,1.0,7.0,2.0,9.0,12.0,32.0,69.0,7.0,136.0,245.0,1.0,7.0,249.0,195.0,0.0,43.0,0.0,0.0,46.0,454.0,89.0,0.0,2.0,9.0,0.0],\"type\":\"choropleth\"}],\"name\":\"2021-03-17\"},{\"data\":[{\"coloraxis\":\"coloraxis\",\"geo\":\"geo\",\"hovertemplate\":\"date=2021-03-27<br>Country_code=%{location}<br>deaths=%{z}<extra></extra>\",\"locations\":[\"ITA\",\"CHN\",\"ALB\",\"BGD\",\"BWA\",\"KHM\",\"HRV\",\"GRC\",\"SWE\",\"FIN\",\"NOR\",\"MYS\",\"ISR\",\"LTU\",\"SRB\",\"SVK\",\"SVN\",\"BGR\",\"CZE\",\"DNK\",\"GEO\",\"DEU\",\"HUN\",\"ISL\",\"JPN\",\"KAZ\",\"KGZ\",\"NLD\",\"POL\",\"ROU\",\"TJK\",\"THA\",\"AZE\",\"MNG\"],\"name\":\"\",\"z\":[380.0,0.0,12.0,39.0,0.0,0.0,18.0,72.0,0.0,3.0,0.0,2.0,0.0,9.0,76.0,53.0,3.0,49.0,139.0,2.0,8.0,157.0,253.0,0.0,32.0,0.0,1.0,29.0,448.0,162.0,0.0,1.0,19.0,0.0],\"type\":\"choropleth\"}],\"name\":\"2021-03-27\"},{\"data\":[{\"coloraxis\":\"coloraxis\",\"geo\":\"geo\",\"hovertemplate\":\"date=2021-04-06<br>Country_code=%{location}<br>deaths=%{z}<extra></extra>\",\"locations\":[\"ITA\",\"CHN\",\"ALB\",\"BGD\",\"BWA\",\"KHM\",\"HRV\",\"GRC\",\"SWE\",\"FIN\",\"NOR\",\"MYS\",\"ISR\",\"LTU\",\"SRB\",\"SVK\",\"SVN\",\"BGR\",\"CZE\",\"DNK\",\"GEO\",\"DEU\",\"HUN\",\"ISL\",\"JPN\",\"KAZ\",\"KGZ\",\"NLD\",\"POL\",\"ROU\",\"TJK\",\"THA\",\"AZE\",\"MNG\"],\"name\":\"\",\"z\":[421.0,0.0,9.0,66.0,0.0,1.0,30.0,79.0,35.0,0.0,1.0,5.0,9.0,8.0,40.0,0.0,7.0,0.0,112.0,2.0,10.0,90.0,170.0,0.0,28.0,0.0,2.0,20.0,60.0,196.0,0.0,0.0,32.0,1.0],\"type\":\"choropleth\"}],\"name\":\"2021-04-06\"},{\"data\":[{\"coloraxis\":\"coloraxis\",\"geo\":\"geo\",\"hovertemplate\":\"date=2021-04-16<br>Country_code=%{location}<br>deaths=%{z}<extra></extra>\",\"locations\":[\"ITA\",\"CHN\",\"ALB\",\"BGD\",\"BWA\",\"KHM\",\"HRV\",\"GRC\",\"SWE\",\"FIN\",\"NOR\",\"MYS\",\"ISR\",\"LTU\",\"SRB\",\"SVK\",\"SVN\",\"BGR\",\"CZE\",\"DNK\",\"GEO\",\"DEU\",\"HUN\",\"ISL\",\"JPN\",\"KAZ\",\"KGZ\",\"NLD\",\"POL\",\"ROU\",\"TJK\",\"THA\",\"AZE\",\"MNG\"],\"name\":\"\",\"z\":[429.0,0.0,2.0,101.0,0.0,2.0,44.0,91.0,27.0,2.0,1.0,2.0,1.0,8.0,39.0,93.0,5.0,121.0,88.0,3.0,8.0,247.0,241.0,0.0,46.0,0.0,4.0,12.0,596.0,137.0,0.0,3.0,32.0,5.0],\"type\":\"choropleth\"}],\"name\":\"2021-04-16\"},{\"data\":[{\"coloraxis\":\"coloraxis\",\"geo\":\"geo\",\"hovertemplate\":\"date=2021-04-26<br>Country_code=%{location}<br>deaths=%{z}<extra></extra>\",\"locations\":[\"ITA\",\"CHN\",\"ALB\",\"BGD\",\"BWA\",\"KHM\",\"HRV\",\"GRC\",\"SWE\",\"FIN\",\"NOR\",\"MYS\",\"ISR\",\"LTU\",\"SRB\",\"SVK\",\"SVN\",\"BGR\",\"CZE\",\"DNK\",\"GEO\",\"DEU\",\"HUN\",\"ISL\",\"JPN\",\"KAZ\",\"KGZ\",\"NLD\",\"POL\",\"ROU\",\"TJK\",\"THA\",\"AZE\",\"MNG\"],\"name\":\"\",\"z\":[301.0,0.0,1.0,97.0,0.0,5.0,51.0,80.0,0.0,0.0,0.0,13.0,1.0,11.0,30.0,36.0,6.0,194.0,40.0,2.0,18.0,60.0,176.0,0.0,35.0,0.0,2.0,13.0,22.0,117.0,0.0,8.0,31.0,11.0],\"type\":\"choropleth\"}],\"name\":\"2021-04-26\"},{\"data\":[{\"coloraxis\":\"coloraxis\",\"geo\":\"geo\",\"hovertemplate\":\"date=2021-05-06<br>Country_code=%{location}<br>deaths=%{z}<extra></extra>\",\"locations\":[\"ITA\",\"CHN\",\"ALB\",\"BGD\",\"BWA\",\"KHM\",\"HRV\",\"GRC\",\"SWE\",\"FIN\",\"NOR\",\"MYS\",\"ISR\",\"LTU\",\"SRB\",\"SVK\",\"SVN\",\"BGR\",\"CZE\",\"DNK\",\"GEO\",\"DEU\",\"HUN\",\"ISL\",\"JPN\",\"KAZ\",\"KGZ\",\"NLD\",\"POL\",\"ROU\",\"TJK\",\"THA\",\"AZE\",\"MNG\"],\"name\":\"\",\"z\":[258.0,0.0,3.0,41.0,10.0,4.0,40.0,83.0,7.0,1.0,0.0,19.0,4.0,10.0,21.0,34.0,3.0,27.0,42.0,2.0,20.0,250.0,124.0,0.0,65.0,0.0,3.0,24.0,511.0,94.0,0.0,18.0,18.0,3.0],\"type\":\"choropleth\"}],\"name\":\"2021-05-06\"},{\"data\":[{\"coloraxis\":\"coloraxis\",\"geo\":\"geo\",\"hovertemplate\":\"date=2021-05-16<br>Country_code=%{location}<br>deaths=%{z}<extra></extra>\",\"locations\":[\"ITA\",\"CHN\",\"ALB\",\"BGD\",\"BWA\",\"KHM\",\"HRV\",\"GRC\",\"SWE\",\"FIN\",\"NOR\",\"MYS\",\"ISR\",\"LTU\",\"SRB\",\"SVK\",\"SVN\",\"BGR\",\"CZE\",\"DNK\",\"GEO\",\"DEU\",\"HUN\",\"ISL\",\"JPN\",\"KAZ\",\"KGZ\",\"NLD\",\"POL\",\"ROU\",\"TJK\",\"THA\",\"AZE\",\"MNG\"],\"name\":\"\",\"z\":[93.0,0.0,3.0,25.0,0.0,3.0,21.0,50.0,0.0,6.0,0.0,36.0,1.0,16.0,17.0,21.0,4.0,9.0,15.0,0.0,16.0,71.0,61.0,0.0,47.0,173.0,8.0,13.0,55.0,38.0,0.0,24.0,11.0,3.0],\"type\":\"choropleth\"}],\"name\":\"2021-05-16\"},{\"data\":[{\"coloraxis\":\"coloraxis\",\"geo\":\"geo\",\"hovertemplate\":\"date=2021-05-26<br>Country_code=%{location}<br>deaths=%{z}<extra></extra>\",\"locations\":[\"ITA\",\"CHN\",\"ALB\",\"BGD\",\"BWA\",\"KHM\",\"HRV\",\"GRC\",\"SWE\",\"FIN\",\"NOR\",\"MYS\",\"ISR\",\"LTU\",\"SRB\",\"SVK\",\"SVN\",\"BGR\",\"CZE\",\"DNK\",\"GEO\",\"DEU\",\"HUN\",\"ISL\",\"JPN\",\"KAZ\",\"KGZ\",\"NLD\",\"POL\",\"ROU\",\"TJK\",\"THA\",\"AZE\",\"MNG\"],\"name\":\"\",\"z\":[121.0,0.0,0.0,17.0,0.0,7.0,21.0,44.0,40.0,0.0,1.0,63.0,0.0,9.0,10.0,11.0,5.0,36.0,13.0,1.0,28.0,270.0,41.0,1.0,116.0,0.0,8.0,10.0,209.0,52.0,0.0,41.0,8.0,3.0],\"type\":\"choropleth\"}],\"name\":\"2021-05-26\"},{\"data\":[{\"coloraxis\":\"coloraxis\",\"geo\":\"geo\",\"hovertemplate\":\"date=2021-06-05<br>Country_code=%{location}<br>deaths=%{z}<extra></extra>\",\"locations\":[\"ITA\",\"CHN\",\"ALB\",\"BGD\",\"BWA\",\"KHM\",\"HRV\",\"GRC\",\"SWE\",\"FIN\",\"NOR\",\"MYS\",\"ISR\",\"LTU\",\"SRB\",\"SVK\",\"SVN\",\"BGR\",\"CZE\",\"DNK\",\"GEO\",\"DEU\",\"HUN\",\"ISL\",\"JPN\",\"KAZ\",\"KGZ\",\"NLD\",\"POL\",\"ROU\",\"TJK\",\"THA\",\"AZE\",\"MNG\"],\"name\":\"\",\"z\":[57.0,0.0,0.0,43.0,0.0,10.0,13.0,35.0,0.0,1.0,0.0,109.0,1.0,4.0,9.0,13.0,2.0,3.0,15.0,1.0,17.0,122.0,24.0,0.0,64.0,0.0,5.0,9.0,38.0,113.0,0.0,36.0,3.0,3.0],\"type\":\"choropleth\"}],\"name\":\"2021-06-05\"},{\"data\":[{\"coloraxis\":\"coloraxis\",\"geo\":\"geo\",\"hovertemplate\":\"date=2021-06-15<br>Country_code=%{location}<br>deaths=%{z}<extra></extra>\",\"locations\":[\"ITA\",\"CHN\",\"ALB\",\"BGD\",\"BWA\",\"KHM\",\"HRV\",\"GRC\",\"SWE\",\"FIN\",\"NOR\",\"MYS\",\"ISR\",\"LTU\",\"SRB\",\"SVK\",\"SVN\",\"BGR\",\"CZE\",\"DNK\",\"GEO\",\"DEU\",\"HUN\",\"ISL\",\"JPN\",\"KAZ\",\"KGZ\",\"NLD\",\"POL\",\"ROU\",\"TJK\",\"THA\",\"AZE\",\"MNG\"],\"name\":\"\",\"z\":[63.0,0.0,1.0,50.0,0.0,13.0,8.0,22.0,0.0,0.0,0.0,101.0,0.0,5.0,6.0,5.0,2.0,17.0,0.0,1.0,23.0,93.0,10.0,0.0,67.0,0.0,6.0,1.0,52.0,96.0,0.0,19.0,3.0,10.0],\"type\":\"choropleth\"}],\"name\":\"2021-06-15\"},{\"data\":[{\"coloraxis\":\"coloraxis\",\"geo\":\"geo\",\"hovertemplate\":\"date=2021-06-25<br>Country_code=%{location}<br>deaths=%{z}<extra></extra>\",\"locations\":[\"ITA\",\"CHN\",\"ALB\",\"BGD\",\"BWA\",\"KHM\",\"HRV\",\"GRC\",\"SWE\",\"FIN\",\"NOR\",\"MYS\",\"ISR\",\"LTU\",\"SRB\",\"SVK\",\"SVN\",\"BGR\",\"CZE\",\"DNK\",\"GEO\",\"DEU\",\"HUN\",\"ISL\",\"JPN\",\"KAZ\",\"KGZ\",\"NLD\",\"POL\",\"ROU\",\"TJK\",\"THA\",\"AZE\",\"MNG\"],\"name\":\"\",\"z\":[56.0,0.0,0.0,108.0,0.0,16.0,4.0,21.0,0.0,0.0,0.0,82.0,0.0,3.0,5.0,3.0,0.0,4.0,1.0,0.0,9.0,62.0,8.0,0.0,31.0,0.0,6.0,5.0,36.0,140.0,0.0,44.0,2.0,9.0],\"type\":\"choropleth\"}],\"name\":\"2021-06-25\"},{\"data\":[{\"coloraxis\":\"coloraxis\",\"geo\":\"geo\",\"hovertemplate\":\"date=2021-07-05<br>Country_code=%{location}<br>deaths=%{z}<extra></extra>\",\"locations\":[\"ITA\",\"CHN\",\"ALB\",\"BGD\",\"BWA\",\"KHM\",\"HRV\",\"GRC\",\"SWE\",\"FIN\",\"NOR\",\"MYS\",\"ISR\",\"LTU\",\"SRB\",\"SVK\",\"SVN\",\"BGR\",\"CZE\",\"DNK\",\"GEO\",\"DEU\",\"HUN\",\"ISL\",\"JPN\",\"KAZ\",\"KGZ\",\"NLD\",\"POL\",\"ROU\",\"TJK\",\"THA\",\"AZE\",\"MNG\"],\"name\":\"\",\"z\":[31.0,2.0,0.0,164.0,30.0,28.0,1.0,6.0,0.0,0.0,0.0,77.0,1.0,2.0,1.0,0.0,1.0,41.0,1.0,0.0,26.0,1.0,4.0,0.0,19.0,0.0,9.0,1.0,1.0,45.0,2.0,50.0,0.0,3.0],\"type\":\"choropleth\"}],\"name\":\"2021-07-05\"},{\"data\":[{\"coloraxis\":\"coloraxis\",\"geo\":\"geo\",\"hovertemplate\":\"date=2021-07-15<br>Country_code=%{location}<br>deaths=%{z}<extra></extra>\",\"locations\":[\"ITA\",\"CHN\",\"ALB\",\"BGD\",\"BWA\",\"KHM\",\"HRV\",\"GRC\",\"SWE\",\"FIN\",\"NOR\",\"MYS\",\"ISR\",\"LTU\",\"SRB\",\"SVK\",\"SVN\",\"BGR\",\"CZE\",\"DNK\",\"GEO\",\"DEU\",\"HUN\",\"ISL\",\"JPN\",\"KAZ\",\"KGZ\",\"NLD\",\"POL\",\"ROU\",\"TJK\",\"THA\",\"AZE\",\"MNG\"],\"name\":\"\",\"z\":[9.0,0.0,0.0,226.0,21.0,39.0,0.0,6.0,1.0,0.0,0.0,110.0,2.0,1.0,1.0,1.0,0.0,5.0,0.0,1.0,11.0,32.0,0.0,0.0,22.0,0.0,10.0,3.0,12.0,3.0,1.0,98.0,2.0,10.0],\"type\":\"choropleth\"}],\"name\":\"2021-07-15\"},{\"data\":[{\"coloraxis\":\"coloraxis\",\"geo\":\"geo\",\"hovertemplate\":\"date=2021-07-25<br>Country_code=%{location}<br>deaths=%{z}<extra></extra>\",\"locations\":[\"ITA\",\"CHN\",\"ALB\",\"BGD\",\"BWA\",\"KHM\",\"HRV\",\"GRC\",\"SWE\",\"FIN\",\"NOR\",\"MYS\",\"ISR\",\"LTU\",\"SRB\",\"SVK\",\"SVN\",\"BGR\",\"CZE\",\"DNK\",\"GEO\",\"DEU\",\"HUN\",\"ISL\",\"JPN\",\"KAZ\",\"KGZ\",\"NLD\",\"POL\",\"ROU\",\"TJK\",\"THA\",\"AZE\",\"MNG\"],\"name\":\"\",\"z\":[7.0,0.0,0.0,228.0,0.0,29.0,0.0,8.0,0.0,1.0,0.0,92.0,2.0,0.0,1.0,0.0,1.0,1.0,0.0,0.0,23.0,4.0,0.0,0.0,4.0,539.0,11.0,4.0,1.0,1.0,1.0,129.0,4.0,5.0],\"type\":\"choropleth\"}],\"name\":\"2021-07-25\"},{\"data\":[{\"coloraxis\":\"coloraxis\",\"geo\":\"geo\",\"hovertemplate\":\"date=2021-08-04<br>Country_code=%{location}<br>deaths=%{z}<extra></extra>\",\"locations\":[\"ITA\",\"CHN\",\"ALB\",\"BGD\",\"BWA\",\"KHM\",\"HRV\",\"GRC\",\"SWE\",\"FIN\",\"NOR\",\"MYS\",\"ISR\",\"LTU\",\"SRB\",\"SVK\",\"SVN\",\"BGR\",\"CZE\",\"DNK\",\"GEO\",\"DEU\",\"HUN\",\"ISL\",\"JPN\",\"KAZ\",\"KGZ\",\"NLD\",\"POL\",\"ROU\",\"TJK\",\"THA\",\"AZE\",\"MNG\"],\"name\":\"\",\"z\":[21.0,0.0,0.0,241.0,0.0,17.0,0.0,16.0,0.0,3.0,5.0,257.0,8.0,3.0,2.0,0.0,0.0,4.0,3.2,0.0,38.0,25.0,3.0,0.0,14.0,0.0,9.0,7.0,4.0,1.0,0.0,188.0,5.0,2.0],\"type\":\"choropleth\"}],\"name\":\"2021-08-04\"},{\"data\":[{\"coloraxis\":\"coloraxis\",\"geo\":\"geo\",\"hovertemplate\":\"date=2021-08-14<br>Country_code=%{location}<br>deaths=%{z}<extra></extra>\",\"locations\":[\"ITA\",\"CHN\",\"ALB\",\"BGD\",\"BWA\",\"KHM\",\"HRV\",\"GRC\",\"SWE\",\"FIN\",\"NOR\",\"MYS\",\"ISR\",\"LTU\",\"SRB\",\"SVK\",\"SVN\",\"BGR\",\"CZE\",\"DNK\",\"GEO\",\"DEU\",\"HUN\",\"ISL\",\"JPN\",\"KAZ\",\"KGZ\",\"NLD\",\"POL\",\"ROU\",\"TJK\",\"THA\",\"AZE\",\"MNG\"],\"name\":\"\",\"z\":[34.0,1.0,2.0,178.0,0.0,12.0,2.0,24.0,0.0,2.0,0.0,260.0,11.0,6.0,5.0,0.0,0.0,7.0,1.0,1.0,50.0,11.0,0.0,0.0,18.0,0.0,6.0,7.0,2.0,5.0,0.0,217.0,13.0,5.0],\"type\":\"choropleth\"}],\"name\":\"2021-08-14\"},{\"data\":[{\"coloraxis\":\"coloraxis\",\"geo\":\"geo\",\"hovertemplate\":\"date=2021-08-24<br>Country_code=%{location}<br>deaths=%{z}<extra></extra>\",\"locations\":[\"ITA\",\"CHN\",\"ALB\",\"BGD\",\"BWA\",\"KHM\",\"HRV\",\"GRC\",\"SWE\",\"FIN\",\"NOR\",\"MYS\",\"ISR\",\"LTU\",\"SRB\",\"SVK\",\"SVN\",\"BGR\",\"CZE\",\"DNK\",\"GEO\",\"DEU\",\"HUN\",\"ISL\",\"JPN\",\"KAZ\",\"KGZ\",\"NLD\",\"POL\",\"ROU\",\"TJK\",\"THA\",\"AZE\",\"MNG\"],\"name\":\"\",\"z\":[60.0,0.0,2.0,114.0,0.0,13.0,3.0,44.0,2.0,1.0,0.0,211.0,24.0,3.0,8.0,0.0,1.0,33.0,0.0,1.0,60.0,42.0,2.0,0.0,42.0,0.0,5.0,12.0,8.0,14.0,0.0,226.0,30.0,4.0],\"type\":\"choropleth\"}],\"name\":\"2021-08-24\"},{\"data\":[{\"coloraxis\":\"coloraxis\",\"geo\":\"geo\",\"hovertemplate\":\"date=2021-09-03<br>Country_code=%{location}<br>deaths=%{z}<extra></extra>\",\"locations\":[\"ITA\",\"CHN\",\"ALB\",\"BGD\",\"BWA\",\"KHM\",\"HRV\",\"GRC\",\"SWE\",\"FIN\",\"NOR\",\"MYS\",\"ISR\",\"LTU\",\"SRB\",\"SVK\",\"SVN\",\"BGR\",\"CZE\",\"DNK\",\"GEO\",\"DEU\",\"HUN\",\"ISL\",\"JPN\",\"KAZ\",\"KGZ\",\"NLD\",\"POL\",\"ROU\",\"TJK\",\"THA\",\"AZE\",\"MNG\"],\"name\":\"\",\"z\":[58.0,1.0,3.0,70.0,0.0,9.0,6.0,36.0,0.0,2.0,0.0,330.0,7.0,8.0,17.0,1.0,0.0,50.0,1.0,3.0,86.0,45.0,1.0,0.0,64.0,0.0,5.0,9.0,5.0,33.0,0.0,271.0,38.0,7.0],\"type\":\"choropleth\"}],\"name\":\"2021-09-03\"},{\"data\":[{\"coloraxis\":\"coloraxis\",\"geo\":\"geo\",\"hovertemplate\":\"date=2021-09-13<br>Country_code=%{location}<br>deaths=%{z}<extra></extra>\",\"locations\":[\"ITA\",\"CHN\",\"ALB\",\"BGD\",\"BWA\",\"KHM\",\"HRV\",\"GRC\",\"SWE\",\"FIN\",\"NOR\",\"MYS\",\"ISR\",\"LTU\",\"SRB\",\"SVK\",\"SVN\",\"BGR\",\"CZE\",\"DNK\",\"GEO\",\"DEU\",\"HUN\",\"ISL\",\"JPN\",\"KAZ\",\"KGZ\",\"NLD\",\"POL\",\"ROU\",\"TJK\",\"THA\",\"AZE\",\"MNG\"],\"name\":\"\",\"z\":[36.0,1.0,5.0,41.0,12.0,9.0,7.0,54.0,0.0,5.0,0.0,413.0,23.0,24.0,27.0,2.0,1.0,139.0,1.0,3.0,48.0,12.0,12.0,0.0,49.0,608.0,2.0,5.0,0.0,46.0,0.0,132.0,103.0,10.0],\"type\":\"choropleth\"}],\"name\":\"2021-09-13\"},{\"data\":[{\"coloraxis\":\"coloraxis\",\"geo\":\"geo\",\"hovertemplate\":\"date=2021-09-23<br>Country_code=%{location}<br>deaths=%{z}<extra></extra>\",\"locations\":[\"ITA\",\"CHN\",\"ALB\",\"BGD\",\"BWA\",\"KHM\",\"HRV\",\"GRC\",\"SWE\",\"FIN\",\"NOR\",\"MYS\",\"ISR\",\"LTU\",\"SRB\",\"SVK\",\"SVN\",\"BGR\",\"CZE\",\"DNK\",\"GEO\",\"DEU\",\"HUN\",\"ISL\",\"JPN\",\"KAZ\",\"KGZ\",\"NLD\",\"POL\",\"ROU\",\"TJK\",\"THA\",\"AZE\",\"MNG\"],\"name\":\"\",\"z\":[63.0,0.0,8.0,24.0,6.0,22.0,15.0,31.0,4.0,2.0,0.0,116.0,19.0,19.0,41.0,3.0,5.0,99.0,2.0,4.0,47.0,115.0,2.0,0.0,49.0,0.0,0.0,12.0,14.0,113.0,0.0,131.0,24.0,13.0],\"type\":\"choropleth\"}],\"name\":\"2021-09-23\"},{\"data\":[{\"coloraxis\":\"coloraxis\",\"geo\":\"geo\",\"hovertemplate\":\"date=2021-10-03<br>Country_code=%{location}<br>deaths=%{z}<extra></extra>\",\"locations\":[\"ITA\",\"CHN\",\"ALB\",\"BGD\",\"BWA\",\"KHM\",\"HRV\",\"GRC\",\"SWE\",\"FIN\",\"NOR\",\"MYS\",\"ISR\",\"LTU\",\"SRB\",\"SVK\",\"SVN\",\"BGR\",\"CZE\",\"DNK\",\"GEO\",\"DEU\",\"HUN\",\"ISL\",\"JPN\",\"KAZ\",\"KGZ\",\"NLD\",\"POL\",\"ROU\",\"TJK\",\"THA\",\"AZE\",\"MNG\"],\"name\":\"\",\"z\":[33.0,1.0,3.0,18.0,0.0,23.0,14.0,31.0,0.0,3.0,0.0,118.0,43.0,26.0,49.0,19.0,5.0,43.0,1.0,0.0,33.0,9.0,0.0,0.0,17.0,0.0,0.0,1.0,6.0,150.0,0.0,77.0,14.0,19.0],\"type\":\"choropleth\"}],\"name\":\"2021-10-03\"},{\"data\":[{\"coloraxis\":\"coloraxis\",\"geo\":\"geo\",\"hovertemplate\":\"date=2021-10-13<br>Country_code=%{location}<br>deaths=%{z}<extra></extra>\",\"locations\":[\"ITA\",\"CHN\",\"ALB\",\"BGD\",\"BWA\",\"KHM\",\"HRV\",\"GRC\",\"SWE\",\"FIN\",\"NOR\",\"MYS\",\"ISR\",\"LTU\",\"SRB\",\"SVK\",\"SVN\",\"BGR\",\"CZE\",\"DNK\",\"GEO\",\"DEU\",\"HUN\",\"ISL\",\"JPN\",\"KAZ\",\"KGZ\",\"NLD\",\"POL\",\"ROU\",\"TJK\",\"THA\",\"AZE\",\"MNG\"],\"name\":\"\",\"z\":[37.0,0.0,5.0,17.0,0.0,15.0,27.0,31.0,2.0,3.0,13.0,68.0,7.0,31.0,51.0,20.0,5.0,98.0,6.0,0.0,26.0,92.0,10.0,0.0,33.0,35.0,2.0,12.0,40.0,390.0,0.0,82.0,17.0,17.0],\"type\":\"choropleth\"}],\"name\":\"2021-10-13\"},{\"data\":[{\"coloraxis\":\"coloraxis\",\"geo\":\"geo\",\"hovertemplate\":\"date=2021-10-23<br>Country_code=%{location}<br>deaths=%{z}<extra></extra>\",\"locations\":[\"ITA\",\"CHN\",\"ALB\",\"BGD\",\"BWA\",\"KHM\",\"HRV\",\"GRC\",\"SWE\",\"FIN\",\"NOR\",\"MYS\",\"ISR\",\"LTU\",\"SRB\",\"SVK\",\"SVN\",\"BGR\",\"CZE\",\"DNK\",\"GEO\",\"DEU\",\"HUN\",\"ISL\",\"JPN\",\"KAZ\",\"KGZ\",\"NLD\",\"POL\",\"ROU\",\"TJK\",\"THA\",\"AZE\",\"MNG\"],\"name\":\"\",\"z\":[39.0,0.0,7.0,9.0,0.0,10.0,25.0,43.0,0.0,8.0,0.0,42.0,7.0,22.0,60.0,9.0,9.0,58.0,15.0,1.0,42.0,86.0,0.0,0.0,5.0,0.0,3.0,23.0,75.0,446.0,0.0,74.0,22.0,17.0],\"type\":\"choropleth\"}],\"name\":\"2021-10-23\"},{\"data\":[{\"coloraxis\":\"coloraxis\",\"geo\":\"geo\",\"hovertemplate\":\"date=2021-11-02<br>Country_code=%{location}<br>deaths=%{z}<extra></extra>\",\"locations\":[\"ITA\",\"CHN\",\"ALB\",\"BGD\",\"BWA\",\"KHM\",\"HRV\",\"GRC\",\"SWE\",\"FIN\",\"NOR\",\"MYS\",\"ISR\",\"LTU\",\"SRB\",\"SVK\",\"SVN\",\"BGR\",\"CZE\",\"DNK\",\"GEO\",\"DEU\",\"HUN\",\"ISL\",\"JPN\",\"KAZ\",\"KGZ\",\"NLD\",\"POL\",\"ROU\",\"TJK\",\"THA\",\"AZE\",\"MNG\"],\"name\":\"\",\"z\":[41.0,0.0,6.0,3.0,0.0,13.0,40.0,60.0,15.0,12.0,0.0,70.0,3.0,26.0,60.0,31.0,10.0,145.0,32.0,0.0,47.0,81.0,39.0,1.0,7.0,25.0,4.0,18.0,9.0,591.0,0.0,78.0,31.0,10.0],\"type\":\"choropleth\"}],\"name\":\"2021-11-02\"},{\"data\":[{\"coloraxis\":\"coloraxis\",\"geo\":\"geo\",\"hovertemplate\":\"date=2021-11-12<br>Country_code=%{location}<br>deaths=%{z}<extra></extra>\",\"locations\":[\"ITA\",\"CHN\",\"ALB\",\"BGD\",\"BWA\",\"KHM\",\"HRV\",\"GRC\",\"SWE\",\"FIN\",\"NOR\",\"MYS\",\"ISR\",\"LTU\",\"SRB\",\"SVK\",\"SVN\",\"BGR\",\"CZE\",\"DNK\",\"GEO\",\"DEU\",\"HUN\",\"ISL\",\"JPN\",\"KAZ\",\"KGZ\",\"NLD\",\"POL\",\"ROU\",\"TJK\",\"THA\",\"AZE\",\"MNG\"],\"name\":\"\",\"z\":[68.0,1.0,5.0,5.0,0.0,6.0,53.0,56.0,4.0,6.0,2.0,41.0,2.0,22.0,67.0,41.0,14.0,175.0,66.0,4.0,77.0,191.0,116.0,0.0,1.0,32.0,2.0,32.0,31.0,307.0,0.0,51.0,25.0,9.0],\"type\":\"choropleth\"}],\"name\":\"2021-11-12\"},{\"data\":[{\"coloraxis\":\"coloraxis\",\"geo\":\"geo\",\"hovertemplate\":\"date=2021-11-22<br>Country_code=%{location}<br>deaths=%{z}<extra></extra>\",\"locations\":[\"ITA\",\"CHN\",\"ALB\",\"BGD\",\"BWA\",\"KHM\",\"HRV\",\"GRC\",\"SWE\",\"FIN\",\"NOR\",\"MYS\",\"ISR\",\"LTU\",\"SRB\",\"SVK\",\"SVN\",\"BGR\",\"CZE\",\"DNK\",\"GEO\",\"DEU\",\"HUN\",\"ISL\",\"JPN\",\"KAZ\",\"KGZ\",\"NLD\",\"POL\",\"ROU\",\"TJK\",\"THA\",\"AZE\",\"MNG\"],\"name\":\"\",\"z\":[70.0,0.0,14.0,2.0,0.0,5.0,73.0,112.0,0.0,5.0,3.0,61.0,1.0,33.0,56.0,58.0,17.0,254.0,225.0,6.0,55.0,62.0,392.0,0.0,2.0,56.0,4.0,29.0,8.0,154.0,0.0,49.0,33.0,8.0],\"type\":\"choropleth\"}],\"name\":\"2021-11-22\"},{\"data\":[{\"coloraxis\":\"coloraxis\",\"geo\":\"geo\",\"hovertemplate\":\"date=2021-12-02<br>Country_code=%{location}<br>deaths=%{z}<extra></extra>\",\"locations\":[\"ITA\",\"CHN\",\"ALB\",\"BGD\",\"BWA\",\"KHM\",\"HRV\",\"GRC\",\"SWE\",\"FIN\",\"NOR\",\"MYS\",\"ISR\",\"LTU\",\"SRB\",\"SVK\",\"SVN\",\"BGR\",\"CZE\",\"DNK\",\"GEO\",\"DEU\",\"HUN\",\"ISL\",\"JPN\",\"KAZ\",\"KGZ\",\"NLD\",\"POL\",\"ROU\",\"TJK\",\"THA\",\"AZE\",\"MNG\"],\"name\":\"\",\"z\":[72.0,0.0,3.0,3.0,1.0,5.0,76.0,91.0,3.0,12.0,1.0,47.0,0.0,25.0,48.0,103.0,15.0,114.0,131.0,3.0,72.0,388.0,218.0,0.0,1.0,15.0,3.0,65.0,503.0,66.0,0.0,33.0,21.0,3.0],\"type\":\"choropleth\"}],\"name\":\"2021-12-02\"},{\"data\":[{\"coloraxis\":\"coloraxis\",\"geo\":\"geo\",\"hovertemplate\":\"date=2021-12-12<br>Country_code=%{location}<br>deaths=%{z}<extra></extra>\",\"locations\":[\"ITA\",\"CHN\",\"ALB\",\"BGD\",\"BWA\",\"KHM\",\"HRV\",\"GRC\",\"SWE\",\"FIN\",\"NOR\",\"MYS\",\"ISR\",\"LTU\",\"SRB\",\"SVK\",\"SVN\",\"BGR\",\"CZE\",\"DNK\",\"GEO\",\"DEU\",\"HUN\",\"ISL\",\"JPN\",\"KAZ\",\"KGZ\",\"NLD\",\"POL\",\"ROU\",\"TJK\",\"THA\",\"AZE\",\"MNG\"],\"name\":\"\",\"z\":[66.0,0.0,2.0,6.0,0.0,3.0,45.0,91.0,0.0,7.0,0.0,17.0,6.0,21.0,30.0,50.0,14.0,50.0,74.0,9.0,36.0,132.0,0.0,0.0,0.0,0.0,2.0,38.0,65.0,165.0,0.0,20.0,18.0,5.0],\"type\":\"choropleth\"}],\"name\":\"2021-12-12\"},{\"data\":[{\"coloraxis\":\"coloraxis\",\"geo\":\"geo\",\"hovertemplate\":\"date=2021-12-22<br>Country_code=%{location}<br>deaths=%{z}<extra></extra>\",\"locations\":[\"ITA\",\"CHN\",\"ALB\",\"BGD\",\"BWA\",\"KHM\",\"HRV\",\"GRC\",\"SWE\",\"FIN\",\"NOR\",\"MYS\",\"ISR\",\"LTU\",\"SRB\",\"SVK\",\"SVN\",\"BGR\",\"CZE\",\"DNK\",\"GEO\",\"DEU\",\"HUN\",\"ISL\",\"JPN\",\"KAZ\",\"KGZ\",\"NLD\",\"POL\",\"ROU\",\"TJK\",\"THA\",\"AZE\",\"MNG\"],\"name\":\"\",\"z\":[146.0,0.0,2.0,1.0,0.0,1.0,36.0,71.0,17.0,6.0,48.0,29.0,7.0,27.0,27.0,69.0,6.0,56.0,0.0,14.0,52.0,510.0,139.0,0.0,2.0,8.0,2.0,47.0,777.0,62.0,0.0,31.0,16.0,3.0],\"type\":\"choropleth\"}],\"name\":\"2021-12-22\"}]);\n",
       "                        }).then(function(){\n",
       "                            \n",
       "var gd = document.getElementById('11690491-1a13-466b-9a80-c5c3c4abd569');\n",
       "var x = new MutationObserver(function (mutations, observer) {{\n",
       "        var display = window.getComputedStyle(gd).display;\n",
       "        if (!display || display === 'none') {{\n",
       "            console.log([gd, 'removed!']);\n",
       "            Plotly.purge(gd);\n",
       "            observer.disconnect();\n",
       "        }}\n",
       "}});\n",
       "\n",
       "// Listen for the removal of the full notebook cells\n",
       "var notebookContainer = gd.closest('#notebook-container');\n",
       "if (notebookContainer) {{\n",
       "    x.observe(notebookContainer, {childList: true});\n",
       "}}\n",
       "\n",
       "// Listen for the clearing of the current output cell\n",
       "var outputEl = gd.closest('.output');\n",
       "if (outputEl) {{\n",
       "    x.observe(outputEl, {childList: true});\n",
       "}}\n",
       "\n",
       "                        })                };                });            </script>        </div>"
      ]
     },
     "metadata": {},
     "output_type": "display_data"
    }
   ],
   "source": [
    "covid_death = pd.DataFrame({})\n",
    "for country in list(country_dict.keys()):\n",
    "    if (country in countries):\n",
    "        df = pd.DataFrame(deaths[country])\n",
    "        df = df.rename(columns = {country : 'deaths'})\n",
    "        df['Country_code'] = [countries.get(country).alpha3] * len(df)\n",
    "        df['date'] = df.index\n",
    "        #To keep every 10 rows\n",
    "        df = df.iloc[::10,:]\n",
    "        covid_death = covid_death.append(df)\n",
    "\n",
    "\n",
    "fig = px.choropleth(covid_death, locations= \"Country_code\",\n",
    "                    color = covid_death['deaths'],\n",
    "                    animation_frame='date',\n",
    "                    color_continuous_midpoint = max(covid_death['deaths']/2),\n",
    "color_continuous_scale=px.colors.sequential.thermal_r)\n",
    "#fig.update_layout(margin=dict(l=20,r=0,b=0,t=70,pad=0),paper_bgcolor=\"white\",height= 700,title_text = 'Number of daily COVID-19 cases worldwide',font_size=18)\n",
    "#fig.layout.updatemenus[0].buttons[0].args[1]['frame']['duration'] = 10\n",
    "#fig.layout.updatemenus[0].buttons[0].args[1]['transition']['duration'] = 1\n",
    "fig.update_layout(title={'text':'Number of death of COVID-19 by Date',\n",
    "                         'font':{'size':18, 'color':'red'},\n",
    "                         'x':0.5, 'y':1},\n",
    "                  transition = {'duration': 10})\n",
    "fig.show()"
   ]
  },
  {
   "cell_type": "code",
   "execution_count": 24,
   "metadata": {},
   "outputs": [],
   "source": [
    "df_pageviews_pearson = pageview_df_imp_country.loc[pageview_df_imp_country.index < '2022-01-01']\n",
    "df_pageviews_pearson = df_pageviews_pearson.interpolate(method ='linear', limit_direction ='forward') \n",
    "df_pageviews_pearson = df_pageviews_pearson.fillna(0)"
   ]
  },
  {
   "cell_type": "code",
   "execution_count": 37,
   "metadata": {},
   "outputs": [
    {
     "name": "stderr",
     "output_type": "stream",
     "text": [
      "<ipython-input-37-98a122e2f4c1>:10: FutureWarning:\n",
      "\n",
      "The frame.append method is deprecated and will be removed from pandas in a future version. Use pandas.concat instead.\n",
      "\n",
      "<ipython-input-37-98a122e2f4c1>:10: FutureWarning:\n",
      "\n",
      "The frame.append method is deprecated and will be removed from pandas in a future version. Use pandas.concat instead.\n",
      "\n",
      "<ipython-input-37-98a122e2f4c1>:10: FutureWarning:\n",
      "\n",
      "The frame.append method is deprecated and will be removed from pandas in a future version. Use pandas.concat instead.\n",
      "\n",
      "<ipython-input-37-98a122e2f4c1>:10: FutureWarning:\n",
      "\n",
      "The frame.append method is deprecated and will be removed from pandas in a future version. Use pandas.concat instead.\n",
      "\n",
      "<ipython-input-37-98a122e2f4c1>:10: FutureWarning:\n",
      "\n",
      "The frame.append method is deprecated and will be removed from pandas in a future version. Use pandas.concat instead.\n",
      "\n",
      "<ipython-input-37-98a122e2f4c1>:10: FutureWarning:\n",
      "\n",
      "The frame.append method is deprecated and will be removed from pandas in a future version. Use pandas.concat instead.\n",
      "\n",
      "<ipython-input-37-98a122e2f4c1>:10: FutureWarning:\n",
      "\n",
      "The frame.append method is deprecated and will be removed from pandas in a future version. Use pandas.concat instead.\n",
      "\n",
      "<ipython-input-37-98a122e2f4c1>:10: FutureWarning:\n",
      "\n",
      "The frame.append method is deprecated and will be removed from pandas in a future version. Use pandas.concat instead.\n",
      "\n",
      "<ipython-input-37-98a122e2f4c1>:10: FutureWarning:\n",
      "\n",
      "The frame.append method is deprecated and will be removed from pandas in a future version. Use pandas.concat instead.\n",
      "\n",
      "<ipython-input-37-98a122e2f4c1>:10: FutureWarning:\n",
      "\n",
      "The frame.append method is deprecated and will be removed from pandas in a future version. Use pandas.concat instead.\n",
      "\n",
      "<ipython-input-37-98a122e2f4c1>:10: FutureWarning:\n",
      "\n",
      "The frame.append method is deprecated and will be removed from pandas in a future version. Use pandas.concat instead.\n",
      "\n",
      "<ipython-input-37-98a122e2f4c1>:10: FutureWarning:\n",
      "\n",
      "The frame.append method is deprecated and will be removed from pandas in a future version. Use pandas.concat instead.\n",
      "\n",
      "<ipython-input-37-98a122e2f4c1>:10: FutureWarning:\n",
      "\n",
      "The frame.append method is deprecated and will be removed from pandas in a future version. Use pandas.concat instead.\n",
      "\n",
      "<ipython-input-37-98a122e2f4c1>:10: FutureWarning:\n",
      "\n",
      "The frame.append method is deprecated and will be removed from pandas in a future version. Use pandas.concat instead.\n",
      "\n",
      "<ipython-input-37-98a122e2f4c1>:10: FutureWarning:\n",
      "\n",
      "The frame.append method is deprecated and will be removed from pandas in a future version. Use pandas.concat instead.\n",
      "\n",
      "<ipython-input-37-98a122e2f4c1>:10: FutureWarning:\n",
      "\n",
      "The frame.append method is deprecated and will be removed from pandas in a future version. Use pandas.concat instead.\n",
      "\n",
      "<ipython-input-37-98a122e2f4c1>:10: FutureWarning:\n",
      "\n",
      "The frame.append method is deprecated and will be removed from pandas in a future version. Use pandas.concat instead.\n",
      "\n",
      "<ipython-input-37-98a122e2f4c1>:10: FutureWarning:\n",
      "\n",
      "The frame.append method is deprecated and will be removed from pandas in a future version. Use pandas.concat instead.\n",
      "\n",
      "<ipython-input-37-98a122e2f4c1>:10: FutureWarning:\n",
      "\n",
      "The frame.append method is deprecated and will be removed from pandas in a future version. Use pandas.concat instead.\n",
      "\n",
      "<ipython-input-37-98a122e2f4c1>:10: FutureWarning:\n",
      "\n",
      "The frame.append method is deprecated and will be removed from pandas in a future version. Use pandas.concat instead.\n",
      "\n",
      "<ipython-input-37-98a122e2f4c1>:10: FutureWarning:\n",
      "\n",
      "The frame.append method is deprecated and will be removed from pandas in a future version. Use pandas.concat instead.\n",
      "\n",
      "<ipython-input-37-98a122e2f4c1>:10: FutureWarning:\n",
      "\n",
      "The frame.append method is deprecated and will be removed from pandas in a future version. Use pandas.concat instead.\n",
      "\n",
      "<ipython-input-37-98a122e2f4c1>:10: FutureWarning:\n",
      "\n",
      "The frame.append method is deprecated and will be removed from pandas in a future version. Use pandas.concat instead.\n",
      "\n",
      "<ipython-input-37-98a122e2f4c1>:10: FutureWarning:\n",
      "\n",
      "The frame.append method is deprecated and will be removed from pandas in a future version. Use pandas.concat instead.\n",
      "\n",
      "<ipython-input-37-98a122e2f4c1>:10: FutureWarning:\n",
      "\n",
      "The frame.append method is deprecated and will be removed from pandas in a future version. Use pandas.concat instead.\n",
      "\n",
      "<ipython-input-37-98a122e2f4c1>:10: FutureWarning:\n",
      "\n",
      "The frame.append method is deprecated and will be removed from pandas in a future version. Use pandas.concat instead.\n",
      "\n",
      "<ipython-input-37-98a122e2f4c1>:10: FutureWarning:\n",
      "\n",
      "The frame.append method is deprecated and will be removed from pandas in a future version. Use pandas.concat instead.\n",
      "\n",
      "<ipython-input-37-98a122e2f4c1>:10: FutureWarning:\n",
      "\n",
      "The frame.append method is deprecated and will be removed from pandas in a future version. Use pandas.concat instead.\n",
      "\n",
      "<ipython-input-37-98a122e2f4c1>:10: FutureWarning:\n",
      "\n",
      "The frame.append method is deprecated and will be removed from pandas in a future version. Use pandas.concat instead.\n",
      "\n",
      "<ipython-input-37-98a122e2f4c1>:10: FutureWarning:\n",
      "\n",
      "The frame.append method is deprecated and will be removed from pandas in a future version. Use pandas.concat instead.\n",
      "\n",
      "<ipython-input-37-98a122e2f4c1>:10: FutureWarning:\n",
      "\n",
      "The frame.append method is deprecated and will be removed from pandas in a future version. Use pandas.concat instead.\n",
      "\n",
      "<ipython-input-37-98a122e2f4c1>:10: FutureWarning:\n",
      "\n",
      "The frame.append method is deprecated and will be removed from pandas in a future version. Use pandas.concat instead.\n",
      "\n",
      "<ipython-input-37-98a122e2f4c1>:10: FutureWarning:\n",
      "\n",
      "The frame.append method is deprecated and will be removed from pandas in a future version. Use pandas.concat instead.\n",
      "\n",
      "<ipython-input-37-98a122e2f4c1>:10: FutureWarning:\n",
      "\n",
      "The frame.append method is deprecated and will be removed from pandas in a future version. Use pandas.concat instead.\n",
      "\n"
     ]
    },
    {
     "name": "stdout",
     "output_type": "stream",
     "text": [
      "              pages Country_code        date\n",
      "date                                        \n",
      "2020-01-01    252.0          ITA  2020-01-01\n",
      "2020-01-11   3094.0          ITA  2020-01-11\n",
      "2020-01-21  29010.0          ITA  2020-01-21\n",
      "2020-01-31  90986.0          ITA  2020-01-31\n",
      "2020-02-10   9809.0          ITA  2020-02-10\n",
      "...             ...          ...         ...\n",
      "2021-11-21     16.0          MNG  2021-11-21\n",
      "2021-12-01     17.0          MNG  2021-12-01\n",
      "2021-12-11      9.0          MNG  2021-12-11\n",
      "2021-12-21      3.0          MNG  2021-12-21\n",
      "2021-12-31      1.0          MNG  2021-12-31\n",
      "\n",
      "[2516 rows x 3 columns]\n"
     ]
    },
    {
     "data": {
      "application/vnd.plotly.v1+json": {
       "config": {
        "plotlyServerURL": "https://plot.ly"
       },
       "data": [
        {
         "coloraxis": "coloraxis",
         "geo": "geo",
         "hovertemplate": "date=2020-01-01<br>Country_code=%{location}<br>pages=%{z}<extra></extra>",
         "locations": [
          "ITA",
          "CHN",
          "ALB",
          "BGD",
          "BWA",
          "KHM",
          "HRV",
          "GRC",
          "SWE",
          "FIN",
          "NOR",
          "MYS",
          "ISR",
          "LTU",
          "SRB",
          "SVK",
          "SVN",
          "BGR",
          "CZE",
          "DNK",
          "GEO",
          "DEU",
          "HUN",
          "ISL",
          "JPN",
          "KAZ",
          "KGZ",
          "NLD",
          "POL",
          "ROU",
          "TJK",
          "THA",
          "AZE",
          "MNG"
         ],
         "name": "",
         "type": "choropleth",
         "z": [
          252,
          4821,
          0,
          0,
          0,
          0,
          10,
          14,
          56,
          60,
          13,
          10,
          58,
          4,
          7,
          0,
          6,
          0,
          51,
          15,
          2,
          2747,
          54,
          0,
          887,
          0,
          0,
          131,
          357,
          17,
          0,
          4,
          0,
          0
         ]
        }
       ],
       "frames": [
        {
         "data": [
          {
           "coloraxis": "coloraxis",
           "geo": "geo",
           "hovertemplate": "date=2020-01-01<br>Country_code=%{location}<br>pages=%{z}<extra></extra>",
           "locations": [
            "ITA",
            "CHN",
            "ALB",
            "BGD",
            "BWA",
            "KHM",
            "HRV",
            "GRC",
            "SWE",
            "FIN",
            "NOR",
            "MYS",
            "ISR",
            "LTU",
            "SRB",
            "SVK",
            "SVN",
            "BGR",
            "CZE",
            "DNK",
            "GEO",
            "DEU",
            "HUN",
            "ISL",
            "JPN",
            "KAZ",
            "KGZ",
            "NLD",
            "POL",
            "ROU",
            "TJK",
            "THA",
            "AZE",
            "MNG"
           ],
           "name": "",
           "type": "choropleth",
           "z": [
            252,
            4821,
            0,
            0,
            0,
            0,
            10,
            14,
            56,
            60,
            13,
            10,
            58,
            4,
            7,
            0,
            6,
            0,
            51,
            15,
            2,
            2747,
            54,
            0,
            887,
            0,
            0,
            131,
            357,
            17,
            0,
            4,
            0,
            0
           ]
          }
         ],
         "name": "2020-01-01"
        },
        {
         "data": [
          {
           "coloraxis": "coloraxis",
           "geo": "geo",
           "hovertemplate": "date=2020-01-11<br>Country_code=%{location}<br>pages=%{z}<extra></extra>",
           "locations": [
            "ITA",
            "CHN",
            "ALB",
            "BGD",
            "BWA",
            "KHM",
            "HRV",
            "GRC",
            "SWE",
            "FIN",
            "NOR",
            "MYS",
            "ISR",
            "LTU",
            "SRB",
            "SVK",
            "SVN",
            "BGR",
            "CZE",
            "DNK",
            "GEO",
            "DEU",
            "HUN",
            "ISL",
            "JPN",
            "KAZ",
            "KGZ",
            "NLD",
            "POL",
            "ROU",
            "TJK",
            "THA",
            "AZE",
            "MNG"
           ],
           "name": "",
           "type": "choropleth",
           "z": [
            3094,
            3813,
            2,
            0,
            0,
            0,
            25,
            19,
            237,
            366,
            38,
            29,
            257,
            4,
            31,
            0,
            17,
            0,
            140,
            37,
            2,
            2064,
            137,
            0,
            2356,
            0,
            0,
            886,
            376,
            61,
            0,
            11,
            2,
            0
           ]
          }
         ],
         "name": "2020-01-11"
        },
        {
         "data": [
          {
           "coloraxis": "coloraxis",
           "geo": "geo",
           "hovertemplate": "date=2020-01-21<br>Country_code=%{location}<br>pages=%{z}<extra></extra>",
           "locations": [
            "ITA",
            "CHN",
            "ALB",
            "BGD",
            "BWA",
            "KHM",
            "HRV",
            "GRC",
            "SWE",
            "FIN",
            "NOR",
            "MYS",
            "ISR",
            "LTU",
            "SRB",
            "SVK",
            "SVN",
            "BGR",
            "CZE",
            "DNK",
            "GEO",
            "DEU",
            "HUN",
            "ISL",
            "JPN",
            "KAZ",
            "KGZ",
            "NLD",
            "POL",
            "ROU",
            "TJK",
            "THA",
            "AZE",
            "MNG"
           ],
           "name": "",
           "type": "choropleth",
           "z": [
            29010,
            68941,
            2,
            0,
            0,
            0,
            363,
            124,
            5863,
            2089,
            1389,
            242,
            1582,
            161,
            189,
            0,
            175,
            0,
            1804,
            591,
            4,
            24740,
            1308,
            1,
            23299,
            0,
            0,
            4084,
            8534,
            460,
            0,
            1073,
            2,
            0
           ]
          }
         ],
         "name": "2020-01-21"
        },
        {
         "data": [
          {
           "coloraxis": "coloraxis",
           "geo": "geo",
           "hovertemplate": "date=2020-01-31<br>Country_code=%{location}<br>pages=%{z}<extra></extra>",
           "locations": [
            "ITA",
            "CHN",
            "ALB",
            "BGD",
            "BWA",
            "KHM",
            "HRV",
            "GRC",
            "SWE",
            "FIN",
            "NOR",
            "MYS",
            "ISR",
            "LTU",
            "SRB",
            "SVK",
            "SVN",
            "BGR",
            "CZE",
            "DNK",
            "GEO",
            "DEU",
            "HUN",
            "ISL",
            "JPN",
            "KAZ",
            "KGZ",
            "NLD",
            "POL",
            "ROU",
            "TJK",
            "THA",
            "AZE",
            "MNG"
           ],
           "name": "",
           "type": "choropleth",
           "z": [
            90986,
            82271,
            1,
            112,
            0,
            0,
            1077,
            1370,
            7058,
            8734,
            745,
            1494,
            5792,
            512,
            151,
            325,
            285,
            0,
            15283,
            2634,
            244,
            82855,
            4573,
            31,
            85217,
            1049,
            0,
            9397,
            36218,
            2379,
            0,
            3120,
            71,
            0
           ]
          }
         ],
         "name": "2020-01-31"
        },
        {
         "data": [
          {
           "coloraxis": "coloraxis",
           "geo": "geo",
           "hovertemplate": "date=2020-02-10<br>Country_code=%{location}<br>pages=%{z}<extra></extra>",
           "locations": [
            "ITA",
            "CHN",
            "ALB",
            "BGD",
            "BWA",
            "KHM",
            "HRV",
            "GRC",
            "SWE",
            "FIN",
            "NOR",
            "MYS",
            "ISR",
            "LTU",
            "SRB",
            "SVK",
            "SVN",
            "BGR",
            "CZE",
            "DNK",
            "GEO",
            "DEU",
            "HUN",
            "ISL",
            "JPN",
            "KAZ",
            "KGZ",
            "NLD",
            "POL",
            "ROU",
            "TJK",
            "THA",
            "AZE",
            "MNG"
           ],
           "name": "",
           "type": "choropleth",
           "z": [
            9809,
            95071,
            0,
            76,
            0,
            0,
            198,
            382,
            788,
            2445,
            114,
            1472,
            6075,
            397,
            150,
            136,
            133,
            185,
            5676,
            352,
            36,
            44907,
            990,
            19,
            21354,
            642,
            0.25,
            2482,
            9620,
            1237,
            0,
            605,
            30,
            0
           ]
          }
         ],
         "name": "2020-02-10"
        },
        {
         "data": [
          {
           "coloraxis": "coloraxis",
           "geo": "geo",
           "hovertemplate": "date=2020-02-20<br>Country_code=%{location}<br>pages=%{z}<extra></extra>",
           "locations": [
            "ITA",
            "CHN",
            "ALB",
            "BGD",
            "BWA",
            "KHM",
            "HRV",
            "GRC",
            "SWE",
            "FIN",
            "NOR",
            "MYS",
            "ISR",
            "LTU",
            "SRB",
            "SVK",
            "SVN",
            "BGR",
            "CZE",
            "DNK",
            "GEO",
            "DEU",
            "HUN",
            "ISL",
            "JPN",
            "KAZ",
            "KGZ",
            "NLD",
            "POL",
            "ROU",
            "TJK",
            "THA",
            "AZE",
            "MNG"
           ],
           "name": "",
           "type": "choropleth",
           "z": [
            5915,
            91836,
            3,
            55,
            0,
            0,
            78,
            378,
            271,
            733,
            242,
            778,
            2365,
            84,
            71,
            134,
            120,
            87,
            3133,
            247,
            34,
            23702,
            407,
            10,
            38298,
            561,
            5.055555555555555,
            1604,
            5201,
            484,
            0,
            1743,
            53,
            54
           ]
          }
         ],
         "name": "2020-02-20"
        },
        {
         "data": [
          {
           "coloraxis": "coloraxis",
           "geo": "geo",
           "hovertemplate": "date=2020-03-01<br>Country_code=%{location}<br>pages=%{z}<extra></extra>",
           "locations": [
            "ITA",
            "CHN",
            "ALB",
            "BGD",
            "BWA",
            "KHM",
            "HRV",
            "GRC",
            "SWE",
            "FIN",
            "NOR",
            "MYS",
            "ISR",
            "LTU",
            "SRB",
            "SVK",
            "SVN",
            "BGR",
            "CZE",
            "DNK",
            "GEO",
            "DEU",
            "HUN",
            "ISL",
            "JPN",
            "KAZ",
            "KGZ",
            "NLD",
            "POL",
            "ROU",
            "TJK",
            "THA",
            "AZE",
            "MNG"
           ],
           "name": "",
           "type": "choropleth",
           "z": [
            32825,
            111374,
            6,
            56,
            0,
            0,
            335,
            1089,
            1761,
            5233,
            2166,
            1165,
            3365,
            753,
            136,
            2862,
            421,
            635,
            29001,
            1017,
            223,
            183240,
            2003,
            97,
            83142,
            131,
            12.277777777777777,
            18843,
            27497,
            2190,
            0,
            2032,
            150,
            25
           ]
          }
         ],
         "name": "2020-03-01"
        },
        {
         "data": [
          {
           "coloraxis": "coloraxis",
           "geo": "geo",
           "hovertemplate": "date=2020-03-11<br>Country_code=%{location}<br>pages=%{z}<extra></extra>",
           "locations": [
            "ITA",
            "CHN",
            "ALB",
            "BGD",
            "BWA",
            "KHM",
            "HRV",
            "GRC",
            "SWE",
            "FIN",
            "NOR",
            "MYS",
            "ISR",
            "LTU",
            "SRB",
            "SVK",
            "SVN",
            "BGR",
            "CZE",
            "DNK",
            "GEO",
            "DEU",
            "HUN",
            "ISL",
            "JPN",
            "KAZ",
            "KGZ",
            "NLD",
            "POL",
            "ROU",
            "TJK",
            "THA",
            "AZE",
            "MNG"
           ],
           "name": "",
           "type": "choropleth",
           "z": [
            151686,
            134639,
            3,
            21,
            0,
            0,
            2644,
            8334,
            3500,
            15255,
            6711,
            3595,
            17588,
            2213,
            1650,
            6126,
            2435,
            4190,
            116163,
            6167,
            755,
            440044,
            7538,
            140,
            121842,
            753,
            19.5,
            36564,
            149371,
            20735,
            0,
            2624,
            115,
            35
           ]
          }
         ],
         "name": "2020-03-11"
        },
        {
         "data": [
          {
           "coloraxis": "coloraxis",
           "geo": "geo",
           "hovertemplate": "date=2020-03-21<br>Country_code=%{location}<br>pages=%{z}<extra></extra>",
           "locations": [
            "ITA",
            "CHN",
            "ALB",
            "BGD",
            "BWA",
            "KHM",
            "HRV",
            "GRC",
            "SWE",
            "FIN",
            "NOR",
            "MYS",
            "ISR",
            "LTU",
            "SRB",
            "SVK",
            "SVN",
            "BGR",
            "CZE",
            "DNK",
            "GEO",
            "DEU",
            "HUN",
            "ISL",
            "JPN",
            "KAZ",
            "KGZ",
            "NLD",
            "POL",
            "ROU",
            "TJK",
            "THA",
            "AZE",
            "MNG"
           ],
           "name": "",
           "type": "choropleth",
           "z": [
            194089,
            294471,
            335,
            4672,
            0,
            46,
            6877,
            21414,
            2770,
            13086,
            2906,
            13714,
            36309,
            3589,
            2263,
            6742,
            1268,
            6081,
            78586,
            3737,
            767,
            511629,
            5319,
            134,
            89092,
            257,
            36,
            60914,
            88506,
            50354,
            0,
            2427,
            1197,
            24
           ]
          }
         ],
         "name": "2020-03-21"
        },
        {
         "data": [
          {
           "coloraxis": "coloraxis",
           "geo": "geo",
           "hovertemplate": "date=2020-03-31<br>Country_code=%{location}<br>pages=%{z}<extra></extra>",
           "locations": [
            "ITA",
            "CHN",
            "ALB",
            "BGD",
            "BWA",
            "KHM",
            "HRV",
            "GRC",
            "SWE",
            "FIN",
            "NOR",
            "MYS",
            "ISR",
            "LTU",
            "SRB",
            "SVK",
            "SVN",
            "BGR",
            "CZE",
            "DNK",
            "GEO",
            "DEU",
            "HUN",
            "ISL",
            "JPN",
            "KAZ",
            "KGZ",
            "NLD",
            "POL",
            "ROU",
            "TJK",
            "THA",
            "AZE",
            "MNG"
           ],
           "name": "",
           "type": "choropleth",
           "z": [
            146705,
            235335,
            390,
            4805,
            0,
            16,
            3385,
            15002,
            9277,
            9428,
            2957,
            7075,
            31732,
            3059,
            1558,
            4853,
            1141,
            3433,
            47222,
            1840,
            618,
            367501,
            19286,
            84,
            132485,
            739,
            27,
            50889,
            61713,
            39132,
            34,
            3377,
            1494,
            27
           ]
          }
         ],
         "name": "2020-03-31"
        },
        {
         "data": [
          {
           "coloraxis": "coloraxis",
           "geo": "geo",
           "hovertemplate": "date=2020-04-10<br>Country_code=%{location}<br>pages=%{z}<extra></extra>",
           "locations": [
            "ITA",
            "CHN",
            "ALB",
            "BGD",
            "BWA",
            "KHM",
            "HRV",
            "GRC",
            "SWE",
            "FIN",
            "NOR",
            "MYS",
            "ISR",
            "LTU",
            "SRB",
            "SVK",
            "SVN",
            "BGR",
            "CZE",
            "DNK",
            "GEO",
            "DEU",
            "HUN",
            "ISL",
            "JPN",
            "KAZ",
            "KGZ",
            "NLD",
            "POL",
            "ROU",
            "TJK",
            "THA",
            "AZE",
            "MNG"
           ],
           "name": "",
           "type": "choropleth",
           "z": [
            97080,
            150894,
            282,
            7740,
            0,
            6,
            1979,
            10349,
            4943,
            4465,
            2042,
            5464,
            20358,
            1797,
            1355,
            2357,
            582,
            3738,
            20047,
            1278,
            326,
            218386,
            12000,
            56,
            142756,
            329,
            8,
            27280,
            31745,
            13638,
            43,
            2654,
            690,
            20
           ]
          }
         ],
         "name": "2020-04-10"
        },
        {
         "data": [
          {
           "coloraxis": "coloraxis",
           "geo": "geo",
           "hovertemplate": "date=2020-04-20<br>Country_code=%{location}<br>pages=%{z}<extra></extra>",
           "locations": [
            "ITA",
            "CHN",
            "ALB",
            "BGD",
            "BWA",
            "KHM",
            "HRV",
            "GRC",
            "SWE",
            "FIN",
            "NOR",
            "MYS",
            "ISR",
            "LTU",
            "SRB",
            "SVK",
            "SVN",
            "BGR",
            "CZE",
            "DNK",
            "GEO",
            "DEU",
            "HUN",
            "ISL",
            "JPN",
            "KAZ",
            "KGZ",
            "NLD",
            "POL",
            "ROU",
            "TJK",
            "THA",
            "AZE",
            "MNG"
           ],
           "name": "",
           "type": "choropleth",
           "z": [
            85334,
            120561,
            362,
            9370,
            41,
            4,
            1861,
            9007,
            4082,
            3471,
            2005,
            4845,
            13255,
            1107,
            1175,
            1412,
            672,
            3063,
            13189,
            1092,
            304,
            220524,
            8394,
            61,
            115669,
            312,
            3,
            21573,
            28466,
            10601,
            8,
            1270,
            553,
            22
           ]
          }
         ],
         "name": "2020-04-20"
        },
        {
         "data": [
          {
           "coloraxis": "coloraxis",
           "geo": "geo",
           "hovertemplate": "date=2020-04-30<br>Country_code=%{location}<br>pages=%{z}<extra></extra>",
           "locations": [
            "ITA",
            "CHN",
            "ALB",
            "BGD",
            "BWA",
            "KHM",
            "HRV",
            "GRC",
            "SWE",
            "FIN",
            "NOR",
            "MYS",
            "ISR",
            "LTU",
            "SRB",
            "SVK",
            "SVN",
            "BGR",
            "CZE",
            "DNK",
            "GEO",
            "DEU",
            "HUN",
            "ISL",
            "JPN",
            "KAZ",
            "KGZ",
            "NLD",
            "POL",
            "ROU",
            "TJK",
            "THA",
            "AZE",
            "MNG"
           ],
           "name": "",
           "type": "choropleth",
           "z": [
            58067,
            74150,
            393,
            7905,
            14,
            14,
            1083,
            4862,
            3210,
            2458,
            1206,
            3343,
            11408,
            668,
            817,
            1217,
            405,
            2105,
            8018,
            883,
            290,
            160123,
            5592,
            51,
            91237,
            210,
            2,
            16158,
            18023,
            6858,
            32,
            1884,
            468,
            13
           ]
          }
         ],
         "name": "2020-04-30"
        },
        {
         "data": [
          {
           "coloraxis": "coloraxis",
           "geo": "geo",
           "hovertemplate": "date=2020-05-10<br>Country_code=%{location}<br>pages=%{z}<extra></extra>",
           "locations": [
            "ITA",
            "CHN",
            "ALB",
            "BGD",
            "BWA",
            "KHM",
            "HRV",
            "GRC",
            "SWE",
            "FIN",
            "NOR",
            "MYS",
            "ISR",
            "LTU",
            "SRB",
            "SVK",
            "SVN",
            "BGR",
            "CZE",
            "DNK",
            "GEO",
            "DEU",
            "HUN",
            "ISL",
            "JPN",
            "KAZ",
            "KGZ",
            "NLD",
            "POL",
            "ROU",
            "TJK",
            "THA",
            "AZE",
            "MNG"
           ],
           "name": "",
           "type": "choropleth",
           "z": [
            48865,
            59927,
            439,
            4224,
            21,
            55,
            883,
            3549,
            3101,
            2215,
            819,
            2699,
            9629,
            504,
            611,
            840,
            340,
            2750,
            6013,
            782,
            175,
            136324,
            4926,
            75,
            75064,
            109,
            20,
            13809,
            18595,
            4259,
            48,
            1641,
            473,
            10
           ]
          }
         ],
         "name": "2020-05-10"
        },
        {
         "data": [
          {
           "coloraxis": "coloraxis",
           "geo": "geo",
           "hovertemplate": "date=2020-05-20<br>Country_code=%{location}<br>pages=%{z}<extra></extra>",
           "locations": [
            "ITA",
            "CHN",
            "ALB",
            "BGD",
            "BWA",
            "KHM",
            "HRV",
            "GRC",
            "SWE",
            "FIN",
            "NOR",
            "MYS",
            "ISR",
            "LTU",
            "SRB",
            "SVK",
            "SVN",
            "BGR",
            "CZE",
            "DNK",
            "GEO",
            "DEU",
            "HUN",
            "ISL",
            "JPN",
            "KAZ",
            "KGZ",
            "NLD",
            "POL",
            "ROU",
            "TJK",
            "THA",
            "AZE",
            "MNG"
           ],
           "name": "",
           "type": "choropleth",
           "z": [
            42388,
            49143,
            398,
            3703,
            45,
            13,
            858,
            2999,
            2523,
            1887,
            964,
            2975,
            7713,
            383,
            565,
            964,
            345,
            2077,
            5503,
            620,
            205,
            105499,
            4606,
            84,
            58050,
            168,
            49,
            9526,
            15385,
            3978,
            60,
            1978,
            404,
            14
           ]
          }
         ],
         "name": "2020-05-20"
        },
        {
         "data": [
          {
           "coloraxis": "coloraxis",
           "geo": "geo",
           "hovertemplate": "date=2020-05-30<br>Country_code=%{location}<br>pages=%{z}<extra></extra>",
           "locations": [
            "ITA",
            "CHN",
            "ALB",
            "BGD",
            "BWA",
            "KHM",
            "HRV",
            "GRC",
            "SWE",
            "FIN",
            "NOR",
            "MYS",
            "ISR",
            "LTU",
            "SRB",
            "SVK",
            "SVN",
            "BGR",
            "CZE",
            "DNK",
            "GEO",
            "DEU",
            "HUN",
            "ISL",
            "JPN",
            "KAZ",
            "KGZ",
            "NLD",
            "POL",
            "ROU",
            "TJK",
            "THA",
            "AZE",
            "MNG"
           ],
           "name": "",
           "type": "choropleth",
           "z": [
            27913,
            36431,
            164,
            3561,
            7,
            9,
            399,
            2169,
            2076,
            1105,
            362,
            1659,
            7534,
            217,
            250,
            460,
            157,
            1086,
            2876,
            323,
            88,
            65642,
            3309,
            20,
            45369,
            67,
            19,
            5936,
            10718,
            2534,
            18,
            1069,
            218,
            2
           ]
          }
         ],
         "name": "2020-05-30"
        },
        {
         "data": [
          {
           "coloraxis": "coloraxis",
           "geo": "geo",
           "hovertemplate": "date=2020-06-09<br>Country_code=%{location}<br>pages=%{z}<extra></extra>",
           "locations": [
            "ITA",
            "CHN",
            "ALB",
            "BGD",
            "BWA",
            "KHM",
            "HRV",
            "GRC",
            "SWE",
            "FIN",
            "NOR",
            "MYS",
            "ISR",
            "LTU",
            "SRB",
            "SVK",
            "SVN",
            "BGR",
            "CZE",
            "DNK",
            "GEO",
            "DEU",
            "HUN",
            "ISL",
            "JPN",
            "KAZ",
            "KGZ",
            "NLD",
            "POL",
            "ROU",
            "TJK",
            "THA",
            "AZE",
            "MNG"
           ],
           "name": "",
           "type": "choropleth",
           "z": [
            23459,
            36555,
            227,
            3589,
            66,
            11,
            461,
            3139,
            1909,
            1096,
            506,
            2624,
            5939,
            268,
            260,
            730,
            205,
            2039,
            3260,
            407,
            140,
            82833,
            2988,
            32,
            37557,
            87,
            28,
            7703,
            12576,
            816,
            13,
            1256,
            274,
            9
           ]
          }
         ],
         "name": "2020-06-09"
        },
        {
         "data": [
          {
           "coloraxis": "coloraxis",
           "geo": "geo",
           "hovertemplate": "date=2020-06-19<br>Country_code=%{location}<br>pages=%{z}<extra></extra>",
           "locations": [
            "ITA",
            "CHN",
            "ALB",
            "BGD",
            "BWA",
            "KHM",
            "HRV",
            "GRC",
            "SWE",
            "FIN",
            "NOR",
            "MYS",
            "ISR",
            "LTU",
            "SRB",
            "SVK",
            "SVN",
            "BGR",
            "CZE",
            "DNK",
            "GEO",
            "DEU",
            "HUN",
            "ISL",
            "JPN",
            "KAZ",
            "KGZ",
            "NLD",
            "POL",
            "ROU",
            "TJK",
            "THA",
            "AZE",
            "MNG"
           ],
           "name": "",
           "type": "choropleth",
           "z": [
            18720,
            32324,
            184,
            3290,
            13,
            9,
            375,
            1450,
            1541,
            803,
            331,
            2210,
            4471,
            123,
            268,
            438,
            245,
            1429,
            2991,
            329,
            104,
            66143,
            2159,
            32,
            35965,
            55,
            13,
            6309,
            8716,
            589,
            7,
            1087,
            359,
            4
           ]
          }
         ],
         "name": "2020-06-19"
        },
        {
         "data": [
          {
           "coloraxis": "coloraxis",
           "geo": "geo",
           "hovertemplate": "date=2020-06-29<br>Country_code=%{location}<br>pages=%{z}<extra></extra>",
           "locations": [
            "ITA",
            "CHN",
            "ALB",
            "BGD",
            "BWA",
            "KHM",
            "HRV",
            "GRC",
            "SWE",
            "FIN",
            "NOR",
            "MYS",
            "ISR",
            "LTU",
            "SRB",
            "SVK",
            "SVN",
            "BGR",
            "CZE",
            "DNK",
            "GEO",
            "DEU",
            "HUN",
            "ISL",
            "JPN",
            "KAZ",
            "KGZ",
            "NLD",
            "POL",
            "ROU",
            "TJK",
            "THA",
            "AZE",
            "MNG"
           ],
           "name": "",
           "type": "choropleth",
           "z": [
            16538,
            31835,
            160,
            2468,
            76,
            10,
            406,
            1236,
            1420,
            913,
            357,
            3846,
            4873,
            144,
            522,
            391,
            351,
            1210,
            4618,
            263,
            70,
            73047,
            2349,
            26,
            29972,
            68,
            16,
            6132,
            8261,
            543,
            7,
            1138,
            430,
            5
           ]
          }
         ],
         "name": "2020-06-29"
        },
        {
         "data": [
          {
           "coloraxis": "coloraxis",
           "geo": "geo",
           "hovertemplate": "date=2020-07-09<br>Country_code=%{location}<br>pages=%{z}<extra></extra>",
           "locations": [
            "ITA",
            "CHN",
            "ALB",
            "BGD",
            "BWA",
            "KHM",
            "HRV",
            "GRC",
            "SWE",
            "FIN",
            "NOR",
            "MYS",
            "ISR",
            "LTU",
            "SRB",
            "SVK",
            "SVN",
            "BGR",
            "CZE",
            "DNK",
            "GEO",
            "DEU",
            "HUN",
            "ISL",
            "JPN",
            "KAZ",
            "KGZ",
            "NLD",
            "POL",
            "ROU",
            "TJK",
            "THA",
            "AZE",
            "MNG"
           ],
           "name": "",
           "type": "choropleth",
           "z": [
            14931,
            32629,
            206,
            2514,
            82,
            13,
            468,
            1478,
            1432,
            846,
            274,
            2928,
            6625,
            182,
            473,
            454,
            231,
            1671,
            3243,
            194,
            90,
            64357,
            2810,
            24,
            30758,
            91,
            13,
            5217,
            7431,
            693,
            7,
            1953,
            260,
            6
           ]
          }
         ],
         "name": "2020-07-09"
        },
        {
         "data": [
          {
           "coloraxis": "coloraxis",
           "geo": "geo",
           "hovertemplate": "date=2020-07-19<br>Country_code=%{location}<br>pages=%{z}<extra></extra>",
           "locations": [
            "ITA",
            "CHN",
            "ALB",
            "BGD",
            "BWA",
            "KHM",
            "HRV",
            "GRC",
            "SWE",
            "FIN",
            "NOR",
            "MYS",
            "ISR",
            "LTU",
            "SRB",
            "SVK",
            "SVN",
            "BGR",
            "CZE",
            "DNK",
            "GEO",
            "DEU",
            "HUN",
            "ISL",
            "JPN",
            "KAZ",
            "KGZ",
            "NLD",
            "POL",
            "ROU",
            "TJK",
            "THA",
            "AZE",
            "MNG"
           ],
           "name": "",
           "type": "choropleth",
           "z": [
            14556,
            34893,
            245,
            1163,
            68,
            18,
            430,
            1270,
            1320,
            1114,
            339,
            5309,
            6833,
            126,
            515,
            324,
            243,
            730,
            3467,
            299,
            106,
            49726,
            2812,
            54,
            31169,
            57,
            28,
            6279,
            6074,
            789,
            8,
            1765,
            259,
            9
           ]
          }
         ],
         "name": "2020-07-19"
        },
        {
         "data": [
          {
           "coloraxis": "coloraxis",
           "geo": "geo",
           "hovertemplate": "date=2020-07-29<br>Country_code=%{location}<br>pages=%{z}<extra></extra>",
           "locations": [
            "ITA",
            "CHN",
            "ALB",
            "BGD",
            "BWA",
            "KHM",
            "HRV",
            "GRC",
            "SWE",
            "FIN",
            "NOR",
            "MYS",
            "ISR",
            "LTU",
            "SRB",
            "SVK",
            "SVN",
            "BGR",
            "CZE",
            "DNK",
            "GEO",
            "DEU",
            "HUN",
            "ISL",
            "JPN",
            "KAZ",
            "KGZ",
            "NLD",
            "POL",
            "ROU",
            "TJK",
            "THA",
            "AZE",
            "MNG"
           ],
           "name": "",
           "type": "choropleth",
           "z": [
            14785,
            32960,
            164,
            824,
            11,
            22,
            343,
            1769,
            1634,
            1211,
            326,
            1920,
            2851,
            196,
            381,
            300,
            155,
            692,
            3649,
            239,
            75,
            57683,
            2240,
            29,
            29600,
            83,
            17,
            6038,
            7634,
            773,
            7,
            2196,
            193,
            9
           ]
          }
         ],
         "name": "2020-07-29"
        },
        {
         "data": [
          {
           "coloraxis": "coloraxis",
           "geo": "geo",
           "hovertemplate": "date=2020-08-08<br>Country_code=%{location}<br>pages=%{z}<extra></extra>",
           "locations": [
            "ITA",
            "CHN",
            "ALB",
            "BGD",
            "BWA",
            "KHM",
            "HRV",
            "GRC",
            "SWE",
            "FIN",
            "NOR",
            "MYS",
            "ISR",
            "LTU",
            "SRB",
            "SVK",
            "SVN",
            "BGR",
            "CZE",
            "DNK",
            "GEO",
            "DEU",
            "HUN",
            "ISL",
            "JPN",
            "KAZ",
            "KGZ",
            "NLD",
            "POL",
            "ROU",
            "TJK",
            "THA",
            "AZE",
            "MNG"
           ],
           "name": "",
           "type": "choropleth",
           "z": [
            11280,
            25605,
            117,
            959,
            25,
            11,
            236,
            2221,
            914,
            1062,
            299,
            2211,
            2031,
            152,
            213,
            215,
            94,
            482,
            2215,
            239,
            34,
            38551,
            2421,
            19,
            24424,
            28,
            5,
            3697,
            7943,
            445,
            4,
            1141,
            158,
            2
           ]
          }
         ],
         "name": "2020-08-08"
        },
        {
         "data": [
          {
           "coloraxis": "coloraxis",
           "geo": "geo",
           "hovertemplate": "date=2020-08-18<br>Country_code=%{location}<br>pages=%{z}<extra></extra>",
           "locations": [
            "ITA",
            "CHN",
            "ALB",
            "BGD",
            "BWA",
            "KHM",
            "HRV",
            "GRC",
            "SWE",
            "FIN",
            "NOR",
            "MYS",
            "ISR",
            "LTU",
            "SRB",
            "SVK",
            "SVN",
            "BGR",
            "CZE",
            "DNK",
            "GEO",
            "DEU",
            "HUN",
            "ISL",
            "JPN",
            "KAZ",
            "KGZ",
            "NLD",
            "POL",
            "ROU",
            "TJK",
            "THA",
            "AZE",
            "MNG"
           ],
           "name": "",
           "type": "choropleth",
           "z": [
            15006,
            24764,
            99,
            971,
            59,
            7,
            376,
            2637,
            1131,
            1419,
            443,
            1977,
            2084,
            154,
            216,
            359,
            203,
            596,
            3608,
            322,
            31,
            54684,
            2598,
            18,
            22855,
            39,
            7,
            4466,
            7524,
            381,
            5,
            1404,
            105,
            2
           ]
          }
         ],
         "name": "2020-08-18"
        },
        {
         "data": [
          {
           "coloraxis": "coloraxis",
           "geo": "geo",
           "hovertemplate": "date=2020-08-28<br>Country_code=%{location}<br>pages=%{z}<extra></extra>",
           "locations": [
            "ITA",
            "CHN",
            "ALB",
            "BGD",
            "BWA",
            "KHM",
            "HRV",
            "GRC",
            "SWE",
            "FIN",
            "NOR",
            "MYS",
            "ISR",
            "LTU",
            "SRB",
            "SVK",
            "SVN",
            "BGR",
            "CZE",
            "DNK",
            "GEO",
            "DEU",
            "HUN",
            "ISL",
            "JPN",
            "KAZ",
            "KGZ",
            "NLD",
            "POL",
            "ROU",
            "TJK",
            "THA",
            "AZE",
            "MNG"
           ],
           "name": "",
           "type": "choropleth",
           "z": [
            15984,
            23971,
            111,
            1021,
            97,
            6,
            420,
            1782,
            1068,
            1057,
            475,
            1284,
            1869,
            153,
            167,
            362,
            150,
            469,
            3050,
            277,
            78,
            43658,
            4619,
            16,
            16032,
            54,
            9,
            4208,
            6261,
            355,
            9,
            1336,
            109,
            5
           ]
          }
         ],
         "name": "2020-08-28"
        },
        {
         "data": [
          {
           "coloraxis": "coloraxis",
           "geo": "geo",
           "hovertemplate": "date=2020-09-07<br>Country_code=%{location}<br>pages=%{z}<extra></extra>",
           "locations": [
            "ITA",
            "CHN",
            "ALB",
            "BGD",
            "BWA",
            "KHM",
            "HRV",
            "GRC",
            "SWE",
            "FIN",
            "NOR",
            "MYS",
            "ISR",
            "LTU",
            "SRB",
            "SVK",
            "SVN",
            "BGR",
            "CZE",
            "DNK",
            "GEO",
            "DEU",
            "HUN",
            "ISL",
            "JPN",
            "KAZ",
            "KGZ",
            "NLD",
            "POL",
            "ROU",
            "TJK",
            "THA",
            "AZE",
            "MNG"
           ],
           "name": "",
           "type": "choropleth",
           "z": [
            14715,
            23416,
            113,
            951,
            320,
            8,
            384,
            1431,
            1458,
            1234,
            510,
            1530,
            2600,
            153,
            246,
            520,
            291,
            382,
            4122,
            291,
            64,
            43502,
            4731,
            14,
            12800,
            248,
            26,
            4628,
            6976,
            381,
            1,
            1012,
            82,
            16
           ]
          }
         ],
         "name": "2020-09-07"
        },
        {
         "data": [
          {
           "coloraxis": "coloraxis",
           "geo": "geo",
           "hovertemplate": "date=2020-09-17<br>Country_code=%{location}<br>pages=%{z}<extra></extra>",
           "locations": [
            "ITA",
            "CHN",
            "ALB",
            "BGD",
            "BWA",
            "KHM",
            "HRV",
            "GRC",
            "SWE",
            "FIN",
            "NOR",
            "MYS",
            "ISR",
            "LTU",
            "SRB",
            "SVK",
            "SVN",
            "BGR",
            "CZE",
            "DNK",
            "GEO",
            "DEU",
            "HUN",
            "ISL",
            "JPN",
            "KAZ",
            "KGZ",
            "NLD",
            "POL",
            "ROU",
            "TJK",
            "THA",
            "AZE",
            "MNG"
           ],
           "name": "",
           "type": "choropleth",
           "z": [
            13308,
            22904,
            310,
            750,
            315,
            3,
            334,
            1951,
            1030,
            959,
            370,
            1403,
            3011,
            182,
            245,
            557,
            283,
            521,
            6023,
            373,
            159,
            44720,
            4078,
            25,
            11555,
            251,
            23,
            4190,
            5547,
            452,
            7,
            1493,
            186,
            2
           ]
          }
         ],
         "name": "2020-09-17"
        },
        {
         "data": [
          {
           "coloraxis": "coloraxis",
           "geo": "geo",
           "hovertemplate": "date=2020-09-27<br>Country_code=%{location}<br>pages=%{z}<extra></extra>",
           "locations": [
            "ITA",
            "CHN",
            "ALB",
            "BGD",
            "BWA",
            "KHM",
            "HRV",
            "GRC",
            "SWE",
            "FIN",
            "NOR",
            "MYS",
            "ISR",
            "LTU",
            "SRB",
            "SVK",
            "SVN",
            "BGR",
            "CZE",
            "DNK",
            "GEO",
            "DEU",
            "HUN",
            "ISL",
            "JPN",
            "KAZ",
            "KGZ",
            "NLD",
            "POL",
            "ROU",
            "TJK",
            "THA",
            "AZE",
            "MNG"
           ],
           "name": "",
           "type": "choropleth",
           "z": [
            14189,
            20685,
            283,
            796,
            222,
            6,
            257,
            1526,
            984,
            1269,
            276,
            1810,
            2973,
            144,
            124,
            704,
            206,
            442,
            3170,
            309,
            121,
            35399,
            2849,
            27,
            12138,
            98,
            17,
            4192,
            6545,
            306,
            6,
            867,
            55,
            8
           ]
          }
         ],
         "name": "2020-09-27"
        },
        {
         "data": [
          {
           "coloraxis": "coloraxis",
           "geo": "geo",
           "hovertemplate": "date=2020-10-07<br>Country_code=%{location}<br>pages=%{z}<extra></extra>",
           "locations": [
            "ITA",
            "CHN",
            "ALB",
            "BGD",
            "BWA",
            "KHM",
            "HRV",
            "GRC",
            "SWE",
            "FIN",
            "NOR",
            "MYS",
            "ISR",
            "LTU",
            "SRB",
            "SVK",
            "SVN",
            "BGR",
            "CZE",
            "DNK",
            "GEO",
            "DEU",
            "HUN",
            "ISL",
            "JPN",
            "KAZ",
            "KGZ",
            "NLD",
            "POL",
            "ROU",
            "TJK",
            "THA",
            "AZE",
            "MNG"
           ],
           "name": "",
           "type": "choropleth",
           "z": [
            19392,
            20824,
            259,
            845,
            225,
            11,
            398,
            1238,
            1191,
            1967,
            421,
            2904,
            3130,
            238,
            89,
            770,
            404,
            668,
            5840,
            376,
            156,
            46462,
            3149,
            97,
            11814,
            116,
            30,
            6148,
            12459,
            753,
            16,
            1190,
            117,
            16
           ]
          }
         ],
         "name": "2020-10-07"
        },
        {
         "data": [
          {
           "coloraxis": "coloraxis",
           "geo": "geo",
           "hovertemplate": "date=2020-10-17<br>Country_code=%{location}<br>pages=%{z}<extra></extra>",
           "locations": [
            "ITA",
            "CHN",
            "ALB",
            "BGD",
            "BWA",
            "KHM",
            "HRV",
            "GRC",
            "SWE",
            "FIN",
            "NOR",
            "MYS",
            "ISR",
            "LTU",
            "SRB",
            "SVK",
            "SVN",
            "BGR",
            "CZE",
            "DNK",
            "GEO",
            "DEU",
            "HUN",
            "ISL",
            "JPN",
            "KAZ",
            "KGZ",
            "NLD",
            "POL",
            "ROU",
            "TJK",
            "THA",
            "AZE",
            "MNG"
           ],
           "name": "",
           "type": "choropleth",
           "z": [
            19301,
            21823,
            134,
            781,
            65,
            5,
            3236,
            1348,
            993,
            1823,
            431,
            3245,
            3375,
            160,
            80,
            1652,
            805,
            839,
            11258,
            308,
            84,
            57264,
            3434,
            19,
            11045,
            64,
            18,
            7443,
            16456,
            729,
            8,
            1671,
            159,
            3
           ]
          }
         ],
         "name": "2020-10-17"
        },
        {
         "data": [
          {
           "coloraxis": "coloraxis",
           "geo": "geo",
           "hovertemplate": "date=2020-10-27<br>Country_code=%{location}<br>pages=%{z}<extra></extra>",
           "locations": [
            "ITA",
            "CHN",
            "ALB",
            "BGD",
            "BWA",
            "KHM",
            "HRV",
            "GRC",
            "SWE",
            "FIN",
            "NOR",
            "MYS",
            "ISR",
            "LTU",
            "SRB",
            "SVK",
            "SVN",
            "BGR",
            "CZE",
            "DNK",
            "GEO",
            "DEU",
            "HUN",
            "ISL",
            "JPN",
            "KAZ",
            "KGZ",
            "NLD",
            "POL",
            "ROU",
            "TJK",
            "THA",
            "AZE",
            "MNG"
           ],
           "name": "",
           "type": "choropleth",
           "z": [
            27511,
            22919,
            328,
            939,
            23,
            7,
            945,
            2214,
            1706,
            1725,
            679,
            2369,
            2803,
            380,
            109,
            2680,
            1413,
            2155,
            7614,
            1057,
            151,
            71706,
            4083,
            29,
            10940,
            125,
            38,
            7520,
            15143,
            757,
            8,
            3062,
            125,
            11
           ]
          }
         ],
         "name": "2020-10-27"
        },
        {
         "data": [
          {
           "coloraxis": "coloraxis",
           "geo": "geo",
           "hovertemplate": "date=2020-11-06<br>Country_code=%{location}<br>pages=%{z}<extra></extra>",
           "locations": [
            "ITA",
            "CHN",
            "ALB",
            "BGD",
            "BWA",
            "KHM",
            "HRV",
            "GRC",
            "SWE",
            "FIN",
            "NOR",
            "MYS",
            "ISR",
            "LTU",
            "SRB",
            "SVK",
            "SVN",
            "BGR",
            "CZE",
            "DNK",
            "GEO",
            "DEU",
            "HUN",
            "ISL",
            "JPN",
            "KAZ",
            "KGZ",
            "NLD",
            "POL",
            "ROU",
            "TJK",
            "THA",
            "AZE",
            "MNG"
           ],
           "name": "",
           "type": "choropleth",
           "z": [
            21512,
            19036,
            265,
            1071,
            53,
            10,
            520,
            3170,
            2264,
            959,
            592,
            1751,
            1117,
            338,
            130,
            666,
            361,
            1073,
            4102,
            599,
            161,
            45812,
            4307,
            5,
            13060,
            139,
            17,
            3922,
            14042,
            779,
            3,
            720,
            178,
            14
           ]
          }
         ],
         "name": "2020-11-06"
        },
        {
         "data": [
          {
           "coloraxis": "coloraxis",
           "geo": "geo",
           "hovertemplate": "date=2020-11-16<br>Country_code=%{location}<br>pages=%{z}<extra></extra>",
           "locations": [
            "ITA",
            "CHN",
            "ALB",
            "BGD",
            "BWA",
            "KHM",
            "HRV",
            "GRC",
            "SWE",
            "FIN",
            "NOR",
            "MYS",
            "ISR",
            "LTU",
            "SRB",
            "SVK",
            "SVN",
            "BGR",
            "CZE",
            "DNK",
            "GEO",
            "DEU",
            "HUN",
            "ISL",
            "JPN",
            "KAZ",
            "KGZ",
            "NLD",
            "POL",
            "ROU",
            "TJK",
            "THA",
            "AZE",
            "MNG"
           ],
           "name": "",
           "type": "choropleth",
           "z": [
            21533,
            22734,
            367,
            969,
            72,
            11,
            505,
            2783,
            2993,
            1447,
            516,
            2006,
            1287,
            293,
            262,
            846,
            413,
            987,
            3653,
            539,
            183,
            64505,
            5047,
            23,
            13447,
            261,
            89,
            5065,
            11348,
            766,
            18,
            747,
            186,
            22
           ]
          }
         ],
         "name": "2020-11-16"
        },
        {
         "data": [
          {
           "coloraxis": "coloraxis",
           "geo": "geo",
           "hovertemplate": "date=2020-11-26<br>Country_code=%{location}<br>pages=%{z}<extra></extra>",
           "locations": [
            "ITA",
            "CHN",
            "ALB",
            "BGD",
            "BWA",
            "KHM",
            "HRV",
            "GRC",
            "SWE",
            "FIN",
            "NOR",
            "MYS",
            "ISR",
            "LTU",
            "SRB",
            "SVK",
            "SVN",
            "BGR",
            "CZE",
            "DNK",
            "GEO",
            "DEU",
            "HUN",
            "ISL",
            "JPN",
            "KAZ",
            "KGZ",
            "NLD",
            "POL",
            "ROU",
            "TJK",
            "THA",
            "AZE",
            "MNG"
           ],
           "name": "",
           "type": "choropleth",
           "z": [
            12798,
            20230,
            362,
            1329,
            26,
            12,
            708,
            1839,
            1912,
            1935,
            493,
            1864,
            751,
            291,
            220,
            657,
            280,
            602,
            2915,
            400,
            212,
            45541,
            3503,
            202,
            14741,
            278,
            111,
            4011,
            8004,
            645,
            18,
            711,
            314,
            16
           ]
          }
         ],
         "name": "2020-11-26"
        },
        {
         "data": [
          {
           "coloraxis": "coloraxis",
           "geo": "geo",
           "hovertemplate": "date=2020-12-06<br>Country_code=%{location}<br>pages=%{z}<extra></extra>",
           "locations": [
            "ITA",
            "CHN",
            "ALB",
            "BGD",
            "BWA",
            "KHM",
            "HRV",
            "GRC",
            "SWE",
            "FIN",
            "NOR",
            "MYS",
            "ISR",
            "LTU",
            "SRB",
            "SVK",
            "SVN",
            "BGR",
            "CZE",
            "DNK",
            "GEO",
            "DEU",
            "HUN",
            "ISL",
            "JPN",
            "KAZ",
            "KGZ",
            "NLD",
            "POL",
            "ROU",
            "TJK",
            "THA",
            "AZE",
            "MNG"
           ],
           "name": "",
           "type": "choropleth",
           "z": [
            12505,
            21284,
            598,
            906,
            6,
            26,
            625,
            2670,
            1661,
            1595,
            323,
            1894,
            904,
            388,
            204,
            851,
            512,
            353,
            2550,
            406,
            440,
            43294,
            3885,
            18,
            15822,
            127,
            59,
            4107,
            5785,
            968,
            10,
            914,
            383,
            17
           ]
          }
         ],
         "name": "2020-12-06"
        },
        {
         "data": [
          {
           "coloraxis": "coloraxis",
           "geo": "geo",
           "hovertemplate": "date=2020-12-16<br>Country_code=%{location}<br>pages=%{z}<extra></extra>",
           "locations": [
            "ITA",
            "CHN",
            "ALB",
            "BGD",
            "BWA",
            "KHM",
            "HRV",
            "GRC",
            "SWE",
            "FIN",
            "NOR",
            "MYS",
            "ISR",
            "LTU",
            "SRB",
            "SVK",
            "SVN",
            "BGR",
            "CZE",
            "DNK",
            "GEO",
            "DEU",
            "HUN",
            "ISL",
            "JPN",
            "KAZ",
            "KGZ",
            "NLD",
            "POL",
            "ROU",
            "TJK",
            "THA",
            "AZE",
            "MNG"
           ],
           "name": "",
           "type": "choropleth",
           "z": [
            13109,
            21789,
            506,
            642,
            13,
            19,
            658,
            2032,
            2287,
            1486,
            301,
            1849,
            1189,
            681,
            172,
            1479,
            474,
            363,
            3440,
            623,
            585,
            56179,
            3524,
            20,
            20427,
            62,
            84,
            6938,
            6805,
            667,
            18,
            1245,
            407,
            23
           ]
          }
         ],
         "name": "2020-12-16"
        },
        {
         "data": [
          {
           "coloraxis": "coloraxis",
           "geo": "geo",
           "hovertemplate": "date=2020-12-26<br>Country_code=%{location}<br>pages=%{z}<extra></extra>",
           "locations": [
            "ITA",
            "CHN",
            "ALB",
            "BGD",
            "BWA",
            "KHM",
            "HRV",
            "GRC",
            "SWE",
            "FIN",
            "NOR",
            "MYS",
            "ISR",
            "LTU",
            "SRB",
            "SVK",
            "SVN",
            "BGR",
            "CZE",
            "DNK",
            "GEO",
            "DEU",
            "HUN",
            "ISL",
            "JPN",
            "KAZ",
            "KGZ",
            "NLD",
            "POL",
            "ROU",
            "TJK",
            "THA",
            "AZE",
            "MNG"
           ],
           "name": "",
           "type": "choropleth",
           "z": [
            13658,
            25813,
            205,
            627,
            11,
            14,
            518,
            2323,
            2064,
            1456,
            411,
            1367,
            1193,
            502,
            134,
            1515,
            365,
            273,
            3275,
            507,
            345,
            38288,
            3908,
            15,
            16766,
            54,
            13,
            5299,
            6248,
            609,
            14,
            1675,
            315,
            22
           ]
          }
         ],
         "name": "2020-12-26"
        },
        {
         "data": [
          {
           "coloraxis": "coloraxis",
           "geo": "geo",
           "hovertemplate": "date=2021-01-05<br>Country_code=%{location}<br>pages=%{z}<extra></extra>",
           "locations": [
            "ITA",
            "CHN",
            "ALB",
            "BGD",
            "BWA",
            "KHM",
            "HRV",
            "GRC",
            "SWE",
            "FIN",
            "NOR",
            "MYS",
            "ISR",
            "LTU",
            "SRB",
            "SVK",
            "SVN",
            "BGR",
            "CZE",
            "DNK",
            "GEO",
            "DEU",
            "HUN",
            "ISL",
            "JPN",
            "KAZ",
            "KGZ",
            "NLD",
            "POL",
            "ROU",
            "TJK",
            "THA",
            "AZE",
            "MNG"
           ],
           "name": "",
           "type": "choropleth",
           "z": [
            11069,
            24990,
            196,
            541,
            5,
            8,
            416,
            2186,
            1270,
            1348,
            427,
            1886,
            1616,
            442,
            116,
            1113,
            512,
            226,
            4320,
            754,
            300,
            56755,
            5014,
            24,
            21263,
            80,
            19,
            8128,
            6856,
            664,
            5,
            2776,
            288,
            13
           ]
          }
         ],
         "name": "2021-01-05"
        },
        {
         "data": [
          {
           "coloraxis": "coloraxis",
           "geo": "geo",
           "hovertemplate": "date=2021-01-15<br>Country_code=%{location}<br>pages=%{z}<extra></extra>",
           "locations": [
            "ITA",
            "CHN",
            "ALB",
            "BGD",
            "BWA",
            "KHM",
            "HRV",
            "GRC",
            "SWE",
            "FIN",
            "NOR",
            "MYS",
            "ISR",
            "LTU",
            "SRB",
            "SVK",
            "SVN",
            "BGR",
            "CZE",
            "DNK",
            "GEO",
            "DEU",
            "HUN",
            "ISL",
            "JPN",
            "KAZ",
            "KGZ",
            "NLD",
            "POL",
            "ROU",
            "TJK",
            "THA",
            "AZE",
            "MNG"
           ],
           "name": "",
           "type": "choropleth",
           "z": [
            6501,
            23312,
            211,
            502,
            6,
            13,
            279,
            969,
            697,
            1000,
            283,
            2905,
            990,
            438,
            90,
            680,
            377,
            173,
            2916,
            248,
            241,
            53481,
            3790,
            13,
            16872,
            102,
            80,
            5721,
            5919,
            711,
            10,
            757,
            224,
            17
           ]
          }
         ],
         "name": "2021-01-15"
        },
        {
         "data": [
          {
           "coloraxis": "coloraxis",
           "geo": "geo",
           "hovertemplate": "date=2021-01-25<br>Country_code=%{location}<br>pages=%{z}<extra></extra>",
           "locations": [
            "ITA",
            "CHN",
            "ALB",
            "BGD",
            "BWA",
            "KHM",
            "HRV",
            "GRC",
            "SWE",
            "FIN",
            "NOR",
            "MYS",
            "ISR",
            "LTU",
            "SRB",
            "SVK",
            "SVN",
            "BGR",
            "CZE",
            "DNK",
            "GEO",
            "DEU",
            "HUN",
            "ISL",
            "JPN",
            "KAZ",
            "KGZ",
            "NLD",
            "POL",
            "ROU",
            "TJK",
            "THA",
            "AZE",
            "MNG"
           ],
           "name": "",
           "type": "choropleth",
           "z": [
            6560,
            30231,
            243,
            615,
            7,
            11,
            456,
            746,
            591,
            1050,
            507,
            4697,
            1310,
            317,
            142,
            831,
            442,
            243,
            2718,
            174,
            223,
            56135,
            3364,
            7,
            13569,
            243,
            117,
            5602,
            6508,
            706,
            18,
            776,
            240,
            18
           ]
          }
         ],
         "name": "2021-01-25"
        },
        {
         "data": [
          {
           "coloraxis": "coloraxis",
           "geo": "geo",
           "hovertemplate": "date=2021-02-04<br>Country_code=%{location}<br>pages=%{z}<extra></extra>",
           "locations": [
            "ITA",
            "CHN",
            "ALB",
            "BGD",
            "BWA",
            "KHM",
            "HRV",
            "GRC",
            "SWE",
            "FIN",
            "NOR",
            "MYS",
            "ISR",
            "LTU",
            "SRB",
            "SVK",
            "SVN",
            "BGR",
            "CZE",
            "DNK",
            "GEO",
            "DEU",
            "HUN",
            "ISL",
            "JPN",
            "KAZ",
            "KGZ",
            "NLD",
            "POL",
            "ROU",
            "TJK",
            "THA",
            "AZE",
            "MNG"
           ],
           "name": "",
           "type": "choropleth",
           "z": [
            4669,
            20972,
            396,
            539,
            37,
            22,
            305,
            754,
            562,
            1064,
            290,
            2363,
            1231,
            262,
            89,
            668,
            296,
            182,
            2560,
            182,
            237,
            40811,
            1708,
            15,
            10809,
            164,
            63,
            5073,
            5317,
            347,
            11,
            523,
            207,
            13
           ]
          }
         ],
         "name": "2021-02-04"
        },
        {
         "data": [
          {
           "coloraxis": "coloraxis",
           "geo": "geo",
           "hovertemplate": "date=2021-02-14<br>Country_code=%{location}<br>pages=%{z}<extra></extra>",
           "locations": [
            "ITA",
            "CHN",
            "ALB",
            "BGD",
            "BWA",
            "KHM",
            "HRV",
            "GRC",
            "SWE",
            "FIN",
            "NOR",
            "MYS",
            "ISR",
            "LTU",
            "SRB",
            "SVK",
            "SVN",
            "BGR",
            "CZE",
            "DNK",
            "GEO",
            "DEU",
            "HUN",
            "ISL",
            "JPN",
            "KAZ",
            "KGZ",
            "NLD",
            "POL",
            "ROU",
            "TJK",
            "THA",
            "AZE",
            "MNG"
           ],
           "name": "",
           "type": "choropleth",
           "z": [
            5049,
            15250,
            242,
            540,
            49,
            4,
            403,
            787,
            439,
            922,
            224,
            2972,
            1298,
            162,
            151,
            590,
            223,
            161,
            2522,
            177,
            355,
            34277,
            773,
            60,
            8616,
            102,
            54,
            3456,
            4004,
            426,
            11,
            347,
            151,
            40
           ]
          }
         ],
         "name": "2021-02-14"
        },
        {
         "data": [
          {
           "coloraxis": "coloraxis",
           "geo": "geo",
           "hovertemplate": "date=2021-02-24<br>Country_code=%{location}<br>pages=%{z}<extra></extra>",
           "locations": [
            "ITA",
            "CHN",
            "ALB",
            "BGD",
            "BWA",
            "KHM",
            "HRV",
            "GRC",
            "SWE",
            "FIN",
            "NOR",
            "MYS",
            "ISR",
            "LTU",
            "SRB",
            "SVK",
            "SVN",
            "BGR",
            "CZE",
            "DNK",
            "GEO",
            "DEU",
            "HUN",
            "ISL",
            "JPN",
            "KAZ",
            "KGZ",
            "NLD",
            "POL",
            "ROU",
            "TJK",
            "THA",
            "AZE",
            "MNG"
           ],
           "name": "",
           "type": "choropleth",
           "z": [
            5578,
            18905,
            413,
            335,
            179,
            13,
            327,
            904,
            640,
            1374,
            181,
            1926,
            1008,
            269,
            383,
            681,
            210,
            174,
            4777,
            236,
            232,
            38932,
            813,
            22,
            8077,
            276,
            46,
            4097,
            6264,
            482,
            8,
            333,
            133,
            875
           ]
          }
         ],
         "name": "2021-02-24"
        },
        {
         "data": [
          {
           "coloraxis": "coloraxis",
           "geo": "geo",
           "hovertemplate": "date=2021-03-06<br>Country_code=%{location}<br>pages=%{z}<extra></extra>",
           "locations": [
            "ITA",
            "CHN",
            "ALB",
            "BGD",
            "BWA",
            "KHM",
            "HRV",
            "GRC",
            "SWE",
            "FIN",
            "NOR",
            "MYS",
            "ISR",
            "LTU",
            "SRB",
            "SVK",
            "SVN",
            "BGR",
            "CZE",
            "DNK",
            "GEO",
            "DEU",
            "HUN",
            "ISL",
            "JPN",
            "KAZ",
            "KGZ",
            "NLD",
            "POL",
            "ROU",
            "TJK",
            "THA",
            "AZE",
            "MNG"
           ],
           "name": "",
           "type": "choropleth",
           "z": [
            5756,
            15694,
            292,
            201,
            134,
            11,
            314,
            935,
            472,
            1499,
            137,
            1066,
            699,
            174,
            168,
            514,
            192,
            231,
            3331,
            136,
            120,
            30126,
            870,
            15,
            6745,
            69,
            19,
            3574,
            4405,
            344,
            6,
            314,
            133,
            26
           ]
          }
         ],
         "name": "2021-03-06"
        },
        {
         "data": [
          {
           "coloraxis": "coloraxis",
           "geo": "geo",
           "hovertemplate": "date=2021-03-16<br>Country_code=%{location}<br>pages=%{z}<extra></extra>",
           "locations": [
            "ITA",
            "CHN",
            "ALB",
            "BGD",
            "BWA",
            "KHM",
            "HRV",
            "GRC",
            "SWE",
            "FIN",
            "NOR",
            "MYS",
            "ISR",
            "LTU",
            "SRB",
            "SVK",
            "SVN",
            "BGR",
            "CZE",
            "DNK",
            "GEO",
            "DEU",
            "HUN",
            "ISL",
            "JPN",
            "KAZ",
            "KGZ",
            "NLD",
            "POL",
            "ROU",
            "TJK",
            "THA",
            "AZE",
            "MNG"
           ],
           "name": "",
           "type": "choropleth",
           "z": [
            7091,
            17171,
            609,
            260,
            265,
            25,
            504,
            1576,
            572,
            1432,
            208,
            1825,
            679,
            387,
            210,
            504,
            252,
            356,
            3346,
            193,
            284,
            45698,
            1225,
            27,
            7092,
            235,
            371,
            4656,
            6534,
            695,
            8,
            356,
            141,
            17
           ]
          }
         ],
         "name": "2021-03-16"
        },
        {
         "data": [
          {
           "coloraxis": "coloraxis",
           "geo": "geo",
           "hovertemplate": "date=2021-03-26<br>Country_code=%{location}<br>pages=%{z}<extra></extra>",
           "locations": [
            "ITA",
            "CHN",
            "ALB",
            "BGD",
            "BWA",
            "KHM",
            "HRV",
            "GRC",
            "SWE",
            "FIN",
            "NOR",
            "MYS",
            "ISR",
            "LTU",
            "SRB",
            "SVK",
            "SVN",
            "BGR",
            "CZE",
            "DNK",
            "GEO",
            "DEU",
            "HUN",
            "ISL",
            "JPN",
            "KAZ",
            "KGZ",
            "NLD",
            "POL",
            "ROU",
            "TJK",
            "THA",
            "AZE",
            "MNG"
           ],
           "name": "",
           "type": "choropleth",
           "z": [
            5568,
            15275,
            312,
            191,
            79,
            7,
            410,
            958,
            514,
            1179,
            191,
            1170,
            410,
            267,
            169,
            320,
            208,
            273,
            2284,
            111,
            215,
            38427,
            1014,
            14,
            5708,
            132,
            318,
            3112,
            7531,
            527,
            5,
            218,
            337,
            19
           ]
          }
         ],
         "name": "2021-03-26"
        },
        {
         "data": [
          {
           "coloraxis": "coloraxis",
           "geo": "geo",
           "hovertemplate": "date=2021-04-05<br>Country_code=%{location}<br>pages=%{z}<extra></extra>",
           "locations": [
            "ITA",
            "CHN",
            "ALB",
            "BGD",
            "BWA",
            "KHM",
            "HRV",
            "GRC",
            "SWE",
            "FIN",
            "NOR",
            "MYS",
            "ISR",
            "LTU",
            "SRB",
            "SVK",
            "SVN",
            "BGR",
            "CZE",
            "DNK",
            "GEO",
            "DEU",
            "HUN",
            "ISL",
            "JPN",
            "KAZ",
            "KGZ",
            "NLD",
            "POL",
            "ROU",
            "TJK",
            "THA",
            "AZE",
            "MNG"
           ],
           "name": "",
           "type": "choropleth",
           "z": [
            4790,
            14813,
            260,
            142,
            200,
            8,
            293,
            1316,
            384,
            929,
            107,
            1825,
            448,
            245,
            127,
            264,
            271,
            209,
            2047,
            84,
            322,
            36695,
            910,
            23,
            6287,
            257,
            858,
            3191,
            9852,
            534,
            6,
            257,
            237,
            27
           ]
          }
         ],
         "name": "2021-04-05"
        },
        {
         "data": [
          {
           "coloraxis": "coloraxis",
           "geo": "geo",
           "hovertemplate": "date=2021-04-15<br>Country_code=%{location}<br>pages=%{z}<extra></extra>",
           "locations": [
            "ITA",
            "CHN",
            "ALB",
            "BGD",
            "BWA",
            "KHM",
            "HRV",
            "GRC",
            "SWE",
            "FIN",
            "NOR",
            "MYS",
            "ISR",
            "LTU",
            "SRB",
            "SVK",
            "SVN",
            "BGR",
            "CZE",
            "DNK",
            "GEO",
            "DEU",
            "HUN",
            "ISL",
            "JPN",
            "KAZ",
            "KGZ",
            "NLD",
            "POL",
            "ROU",
            "TJK",
            "THA",
            "AZE",
            "MNG"
           ],
           "name": "",
           "type": "choropleth",
           "z": [
            5017,
            16891,
            335,
            224,
            141,
            12,
            362,
            1173,
            573,
            954,
            144,
            1458,
            342,
            251,
            130,
            301,
            191,
            202,
            1981,
            134,
            255,
            40097,
            951,
            10,
            9374,
            231,
            335,
            3374,
            5857,
            447,
            9,
            457,
            231,
            50
           ]
          }
         ],
         "name": "2021-04-15"
        },
        {
         "data": [
          {
           "coloraxis": "coloraxis",
           "geo": "geo",
           "hovertemplate": "date=2021-04-25<br>Country_code=%{location}<br>pages=%{z}<extra></extra>",
           "locations": [
            "ITA",
            "CHN",
            "ALB",
            "BGD",
            "BWA",
            "KHM",
            "HRV",
            "GRC",
            "SWE",
            "FIN",
            "NOR",
            "MYS",
            "ISR",
            "LTU",
            "SRB",
            "SVK",
            "SVN",
            "BGR",
            "CZE",
            "DNK",
            "GEO",
            "DEU",
            "HUN",
            "ISL",
            "JPN",
            "KAZ",
            "KGZ",
            "NLD",
            "POL",
            "ROU",
            "TJK",
            "THA",
            "AZE",
            "MNG"
           ],
           "name": "",
           "type": "choropleth",
           "z": [
            4240,
            22875,
            310,
            251,
            13,
            18,
            271,
            1218,
            427,
            998,
            77,
            1544,
            545,
            296,
            77,
            264,
            131,
            91,
            1568,
            112,
            187,
            33536,
            763,
            103,
            10224,
            205,
            192,
            3250,
            6121,
            368,
            7,
            560,
            150,
            20
           ]
          }
         ],
         "name": "2021-04-25"
        },
        {
         "data": [
          {
           "coloraxis": "coloraxis",
           "geo": "geo",
           "hovertemplate": "date=2021-05-05<br>Country_code=%{location}<br>pages=%{z}<extra></extra>",
           "locations": [
            "ITA",
            "CHN",
            "ALB",
            "BGD",
            "BWA",
            "KHM",
            "HRV",
            "GRC",
            "SWE",
            "FIN",
            "NOR",
            "MYS",
            "ISR",
            "LTU",
            "SRB",
            "SVK",
            "SVN",
            "BGR",
            "CZE",
            "DNK",
            "GEO",
            "DEU",
            "HUN",
            "ISL",
            "JPN",
            "KAZ",
            "KGZ",
            "NLD",
            "POL",
            "ROU",
            "TJK",
            "THA",
            "AZE",
            "MNG"
           ],
           "name": "",
           "type": "choropleth",
           "z": [
            4069,
            22304,
            274,
            245,
            62,
            19,
            265,
            1647,
            585,
            947,
            184,
            1865,
            372,
            237,
            72,
            206,
            144,
            139,
            1661,
            154,
            229,
            34756,
            759,
            17,
            10452,
            174,
            29,
            2716,
            4972,
            382,
            9,
            578,
            209,
            20
           ]
          }
         ],
         "name": "2021-05-05"
        },
        {
         "data": [
          {
           "coloraxis": "coloraxis",
           "geo": "geo",
           "hovertemplate": "date=2021-05-15<br>Country_code=%{location}<br>pages=%{z}<extra></extra>",
           "locations": [
            "ITA",
            "CHN",
            "ALB",
            "BGD",
            "BWA",
            "KHM",
            "HRV",
            "GRC",
            "SWE",
            "FIN",
            "NOR",
            "MYS",
            "ISR",
            "LTU",
            "SRB",
            "SVK",
            "SVN",
            "BGR",
            "CZE",
            "DNK",
            "GEO",
            "DEU",
            "HUN",
            "ISL",
            "JPN",
            "KAZ",
            "KGZ",
            "NLD",
            "POL",
            "ROU",
            "TJK",
            "THA",
            "AZE",
            "MNG"
           ],
           "name": "",
           "type": "choropleth",
           "z": [
            3145,
            57559,
            244,
            165,
            43,
            21,
            231,
            1023,
            381,
            611,
            76,
            1381,
            188,
            115,
            84,
            203,
            84,
            95,
            1299,
            88,
            130,
            24945,
            632,
            13,
            8754,
            52,
            11,
            2414,
            3159,
            260,
            10,
            295,
            117,
            22
           ]
          }
         ],
         "name": "2021-05-15"
        },
        {
         "data": [
          {
           "coloraxis": "coloraxis",
           "geo": "geo",
           "hovertemplate": "date=2021-05-25<br>Country_code=%{location}<br>pages=%{z}<extra></extra>",
           "locations": [
            "ITA",
            "CHN",
            "ALB",
            "BGD",
            "BWA",
            "KHM",
            "HRV",
            "GRC",
            "SWE",
            "FIN",
            "NOR",
            "MYS",
            "ISR",
            "LTU",
            "SRB",
            "SVK",
            "SVN",
            "BGR",
            "CZE",
            "DNK",
            "GEO",
            "DEU",
            "HUN",
            "ISL",
            "JPN",
            "KAZ",
            "KGZ",
            "NLD",
            "POL",
            "ROU",
            "TJK",
            "THA",
            "AZE",
            "MNG"
           ],
           "name": "",
           "type": "choropleth",
           "z": [
            3963,
            44090,
            333,
            327,
            220,
            22,
            192,
            965,
            380,
            638,
            115,
            3049,
            244,
            169,
            62,
            273,
            216,
            106,
            1453,
            170,
            167,
            29757,
            619,
            140,
            7897,
            82,
            18,
            3094,
            3832,
            362,
            14,
            369,
            141,
            24
           ]
          }
         ],
         "name": "2021-05-25"
        },
        {
         "data": [
          {
           "coloraxis": "coloraxis",
           "geo": "geo",
           "hovertemplate": "date=2021-06-04<br>Country_code=%{location}<br>pages=%{z}<extra></extra>",
           "locations": [
            "ITA",
            "CHN",
            "ALB",
            "BGD",
            "BWA",
            "KHM",
            "HRV",
            "GRC",
            "SWE",
            "FIN",
            "NOR",
            "MYS",
            "ISR",
            "LTU",
            "SRB",
            "SVK",
            "SVN",
            "BGR",
            "CZE",
            "DNK",
            "GEO",
            "DEU",
            "HUN",
            "ISL",
            "JPN",
            "KAZ",
            "KGZ",
            "NLD",
            "POL",
            "ROU",
            "TJK",
            "THA",
            "AZE",
            "MNG"
           ],
           "name": "",
           "type": "choropleth",
           "z": [
            3493,
            37801,
            185,
            265,
            64,
            12,
            147,
            635,
            311,
            522,
            73,
            1879,
            246,
            140,
            52,
            143,
            95,
            91,
            1290,
            105,
            159,
            21311,
            453,
            13,
            8418,
            32,
            11,
            2846,
            2875,
            240,
            5,
            375,
            115,
            5
           ]
          }
         ],
         "name": "2021-06-04"
        },
        {
         "data": [
          {
           "coloraxis": "coloraxis",
           "geo": "geo",
           "hovertemplate": "date=2021-06-14<br>Country_code=%{location}<br>pages=%{z}<extra></extra>",
           "locations": [
            "ITA",
            "CHN",
            "ALB",
            "BGD",
            "BWA",
            "KHM",
            "HRV",
            "GRC",
            "SWE",
            "FIN",
            "NOR",
            "MYS",
            "ISR",
            "LTU",
            "SRB",
            "SVK",
            "SVN",
            "BGR",
            "CZE",
            "DNK",
            "GEO",
            "DEU",
            "HUN",
            "ISL",
            "JPN",
            "KAZ",
            "KGZ",
            "NLD",
            "POL",
            "ROU",
            "TJK",
            "THA",
            "AZE",
            "MNG"
           ],
           "name": "",
           "type": "choropleth",
           "z": [
            3018,
            27981,
            180,
            194,
            85,
            10,
            136,
            617,
            258,
            397,
            80,
            2076,
            249,
            118,
            52,
            162,
            105,
            117,
            1286,
            155,
            78,
            24335,
            445,
            11,
            7047,
            58,
            27,
            2840,
            2975,
            248,
            12,
            431,
            117,
            11
           ]
          }
         ],
         "name": "2021-06-14"
        },
        {
         "data": [
          {
           "coloraxis": "coloraxis",
           "geo": "geo",
           "hovertemplate": "date=2021-06-24<br>Country_code=%{location}<br>pages=%{z}<extra></extra>",
           "locations": [
            "ITA",
            "CHN",
            "ALB",
            "BGD",
            "BWA",
            "KHM",
            "HRV",
            "GRC",
            "SWE",
            "FIN",
            "NOR",
            "MYS",
            "ISR",
            "LTU",
            "SRB",
            "SVK",
            "SVN",
            "BGR",
            "CZE",
            "DNK",
            "GEO",
            "DEU",
            "HUN",
            "ISL",
            "JPN",
            "KAZ",
            "KGZ",
            "NLD",
            "POL",
            "ROU",
            "TJK",
            "THA",
            "AZE",
            "MNG"
           ],
           "name": "",
           "type": "choropleth",
           "z": [
            2510,
            25566,
            86,
            212,
            61,
            10,
            87,
            434,
            208,
            422,
            46,
            1581,
            332,
            82,
            53,
            203,
            101,
            64,
            1143,
            84,
            83,
            20254,
            407,
            5,
            6897,
            38,
            14,
            2221,
            3008,
            175,
            5,
            441,
            116,
            9
           ]
          }
         ],
         "name": "2021-06-24"
        },
        {
         "data": [
          {
           "coloraxis": "coloraxis",
           "geo": "geo",
           "hovertemplate": "date=2021-07-04<br>Country_code=%{location}<br>pages=%{z}<extra></extra>",
           "locations": [
            "ITA",
            "CHN",
            "ALB",
            "BGD",
            "BWA",
            "KHM",
            "HRV",
            "GRC",
            "SWE",
            "FIN",
            "NOR",
            "MYS",
            "ISR",
            "LTU",
            "SRB",
            "SVK",
            "SVN",
            "BGR",
            "CZE",
            "DNK",
            "GEO",
            "DEU",
            "HUN",
            "ISL",
            "JPN",
            "KAZ",
            "KGZ",
            "NLD",
            "POL",
            "ROU",
            "TJK",
            "THA",
            "AZE",
            "MNG"
           ],
           "name": "",
           "type": "choropleth",
           "z": [
            1993,
            18487,
            80,
            245,
            10,
            17,
            99,
            586,
            223,
            462,
            51,
            1570,
            360,
            67,
            38,
            162,
            53,
            64,
            968,
            94,
            52,
            16882,
            217,
            7,
            6211,
            27,
            7,
            2161,
            2482,
            204,
            2,
            594,
            78,
            5
           ]
          }
         ],
         "name": "2021-07-04"
        },
        {
         "data": [
          {
           "coloraxis": "coloraxis",
           "geo": "geo",
           "hovertemplate": "date=2021-07-14<br>Country_code=%{location}<br>pages=%{z}<extra></extra>",
           "locations": [
            "ITA",
            "CHN",
            "ALB",
            "BGD",
            "BWA",
            "KHM",
            "HRV",
            "GRC",
            "SWE",
            "FIN",
            "NOR",
            "MYS",
            "ISR",
            "LTU",
            "SRB",
            "SVK",
            "SVN",
            "BGR",
            "CZE",
            "DNK",
            "GEO",
            "DEU",
            "HUN",
            "ISL",
            "JPN",
            "KAZ",
            "KGZ",
            "NLD",
            "POL",
            "ROU",
            "TJK",
            "THA",
            "AZE",
            "MNG"
           ],
           "name": "",
           "type": "choropleth",
           "z": [
            2310,
            19830,
            55,
            548,
            2,
            12,
            129,
            698,
            250,
            484,
            56,
            1968,
            419,
            100,
            42,
            178,
            116,
            52,
            1378,
            126,
            61,
            19650,
            338,
            3,
            7598,
            35,
            6,
            2584,
            2626,
            174,
            5,
            618,
            121,
            3
           ]
          }
         ],
         "name": "2021-07-14"
        },
        {
         "data": [
          {
           "coloraxis": "coloraxis",
           "geo": "geo",
           "hovertemplate": "date=2021-07-24<br>Country_code=%{location}<br>pages=%{z}<extra></extra>",
           "locations": [
            "ITA",
            "CHN",
            "ALB",
            "BGD",
            "BWA",
            "KHM",
            "HRV",
            "GRC",
            "SWE",
            "FIN",
            "NOR",
            "MYS",
            "ISR",
            "LTU",
            "SRB",
            "SVK",
            "SVN",
            "BGR",
            "CZE",
            "DNK",
            "GEO",
            "DEU",
            "HUN",
            "ISL",
            "JPN",
            "KAZ",
            "KGZ",
            "NLD",
            "POL",
            "ROU",
            "TJK",
            "THA",
            "AZE",
            "MNG"
           ],
           "name": "",
           "type": "choropleth",
           "z": [
            2999,
            16895,
            27,
            337,
            6,
            3,
            59,
            501,
            209,
            729,
            46,
            1356,
            469,
            80,
            26,
            120,
            84,
            58,
            817,
            100,
            58,
            13565,
            188,
            16,
            5839,
            23,
            9,
            1656,
            1922,
            142,
            5,
            527,
            138,
            7
           ]
          }
         ],
         "name": "2021-07-24"
        },
        {
         "data": [
          {
           "coloraxis": "coloraxis",
           "geo": "geo",
           "hovertemplate": "date=2021-08-03<br>Country_code=%{location}<br>pages=%{z}<extra></extra>",
           "locations": [
            "ITA",
            "CHN",
            "ALB",
            "BGD",
            "BWA",
            "KHM",
            "HRV",
            "GRC",
            "SWE",
            "FIN",
            "NOR",
            "MYS",
            "ISR",
            "LTU",
            "SRB",
            "SVK",
            "SVN",
            "BGR",
            "CZE",
            "DNK",
            "GEO",
            "DEU",
            "HUN",
            "ISL",
            "JPN",
            "KAZ",
            "KGZ",
            "NLD",
            "POL",
            "ROU",
            "TJK",
            "THA",
            "AZE",
            "MNG"
           ],
           "name": "",
           "type": "choropleth",
           "z": [
            2883,
            27746,
            37,
            700,
            41,
            13,
            56,
            386,
            292,
            927,
            57,
            1634,
            590,
            110,
            29,
            151,
            106,
            65,
            1150,
            97,
            111,
            18234,
            223,
            3,
            8786,
            36,
            7,
            1927,
            2367,
            169,
            5,
            635,
            87,
            6
           ]
          }
         ],
         "name": "2021-08-03"
        },
        {
         "data": [
          {
           "coloraxis": "coloraxis",
           "geo": "geo",
           "hovertemplate": "date=2021-08-13<br>Country_code=%{location}<br>pages=%{z}<extra></extra>",
           "locations": [
            "ITA",
            "CHN",
            "ALB",
            "BGD",
            "BWA",
            "KHM",
            "HRV",
            "GRC",
            "SWE",
            "FIN",
            "NOR",
            "MYS",
            "ISR",
            "LTU",
            "SRB",
            "SVK",
            "SVN",
            "BGR",
            "CZE",
            "DNK",
            "GEO",
            "DEU",
            "HUN",
            "ISL",
            "JPN",
            "KAZ",
            "KGZ",
            "NLD",
            "POL",
            "ROU",
            "TJK",
            "THA",
            "AZE",
            "MNG"
           ],
           "name": "",
           "type": "choropleth",
           "z": [
            2739,
            21236,
            109,
            424,
            32,
            26,
            83,
            494,
            280,
            849,
            39,
            1886,
            744,
            164,
            36,
            145,
            162,
            116,
            977,
            131,
            127,
            16634,
            216,
            36,
            10843,
            54,
            12,
            1819,
            2205,
            198,
            7,
            599,
            157,
            8
           ]
          }
         ],
         "name": "2021-08-13"
        },
        {
         "data": [
          {
           "coloraxis": "coloraxis",
           "geo": "geo",
           "hovertemplate": "date=2021-08-23<br>Country_code=%{location}<br>pages=%{z}<extra></extra>",
           "locations": [
            "ITA",
            "CHN",
            "ALB",
            "BGD",
            "BWA",
            "KHM",
            "HRV",
            "GRC",
            "SWE",
            "FIN",
            "NOR",
            "MYS",
            "ISR",
            "LTU",
            "SRB",
            "SVK",
            "SVN",
            "BGR",
            "CZE",
            "DNK",
            "GEO",
            "DEU",
            "HUN",
            "ISL",
            "JPN",
            "KAZ",
            "KGZ",
            "NLD",
            "POL",
            "ROU",
            "TJK",
            "THA",
            "AZE",
            "MNG"
           ],
           "name": "",
           "type": "choropleth",
           "z": [
            2692,
            18168,
            74,
            447,
            79,
            6,
            81,
            578,
            286,
            746,
            55,
            1652,
            875,
            132,
            55,
            158,
            141,
            144,
            927,
            112,
            79,
            18746,
            265,
            11,
            12201,
            28,
            13,
            1537,
            2618,
            195,
            12,
            448,
            138,
            10
           ]
          }
         ],
         "name": "2021-08-23"
        },
        {
         "data": [
          {
           "coloraxis": "coloraxis",
           "geo": "geo",
           "hovertemplate": "date=2021-09-02<br>Country_code=%{location}<br>pages=%{z}<extra></extra>",
           "locations": [
            "ITA",
            "CHN",
            "ALB",
            "BGD",
            "BWA",
            "KHM",
            "HRV",
            "GRC",
            "SWE",
            "FIN",
            "NOR",
            "MYS",
            "ISR",
            "LTU",
            "SRB",
            "SVK",
            "SVN",
            "BGR",
            "CZE",
            "DNK",
            "GEO",
            "DEU",
            "HUN",
            "ISL",
            "JPN",
            "KAZ",
            "KGZ",
            "NLD",
            "POL",
            "ROU",
            "TJK",
            "THA",
            "AZE",
            "MNG"
           ],
           "name": "",
           "type": "choropleth",
           "z": [
            3429,
            14882,
            130,
            486,
            53,
            5,
            83,
            500,
            438,
            580,
            56,
            1373,
            827,
            110,
            62,
            114,
            172,
            121,
            983,
            92,
            86,
            15533,
            224,
            6,
            9481,
            244,
            7,
            1468,
            2591,
            266,
            12,
            370,
            133,
            7
           ]
          }
         ],
         "name": "2021-09-02"
        },
        {
         "data": [
          {
           "coloraxis": "coloraxis",
           "geo": "geo",
           "hovertemplate": "date=2021-09-12<br>Country_code=%{location}<br>pages=%{z}<extra></extra>",
           "locations": [
            "ITA",
            "CHN",
            "ALB",
            "BGD",
            "BWA",
            "KHM",
            "HRV",
            "GRC",
            "SWE",
            "FIN",
            "NOR",
            "MYS",
            "ISR",
            "LTU",
            "SRB",
            "SVK",
            "SVN",
            "BGR",
            "CZE",
            "DNK",
            "GEO",
            "DEU",
            "HUN",
            "ISL",
            "JPN",
            "KAZ",
            "KGZ",
            "NLD",
            "POL",
            "ROU",
            "TJK",
            "THA",
            "AZE",
            "MNG"
           ],
           "name": "",
           "type": "choropleth",
           "z": [
            2226,
            15128,
            109,
            422,
            90,
            5,
            91,
            475,
            256,
            572,
            31,
            1012,
            593,
            97,
            84,
            146,
            263,
            89,
            731,
            77,
            47,
            14850,
            201,
            4,
            7110,
            229,
            8,
            1435,
            2557,
            207,
            3,
            346,
            95,
            6
           ]
          }
         ],
         "name": "2021-09-12"
        },
        {
         "data": [
          {
           "coloraxis": "coloraxis",
           "geo": "geo",
           "hovertemplate": "date=2021-09-22<br>Country_code=%{location}<br>pages=%{z}<extra></extra>",
           "locations": [
            "ITA",
            "CHN",
            "ALB",
            "BGD",
            "BWA",
            "KHM",
            "HRV",
            "GRC",
            "SWE",
            "FIN",
            "NOR",
            "MYS",
            "ISR",
            "LTU",
            "SRB",
            "SVK",
            "SVN",
            "BGR",
            "CZE",
            "DNK",
            "GEO",
            "DEU",
            "HUN",
            "ISL",
            "JPN",
            "KAZ",
            "KGZ",
            "NLD",
            "POL",
            "ROU",
            "TJK",
            "THA",
            "AZE",
            "MNG"
           ],
           "name": "",
           "type": "choropleth",
           "z": [
            2750,
            13666,
            118,
            449,
            45,
            12,
            121,
            487,
            240,
            593,
            60,
            1656,
            743,
            161,
            124,
            257,
            204,
            122,
            999,
            101,
            81,
            16129,
            245,
            5,
            5962,
            148,
            49,
            1858,
            2756,
            468,
            20,
            221,
            115,
            10
           ]
          }
         ],
         "name": "2021-09-22"
        },
        {
         "data": [
          {
           "coloraxis": "coloraxis",
           "geo": "geo",
           "hovertemplate": "date=2021-10-02<br>Country_code=%{location}<br>pages=%{z}<extra></extra>",
           "locations": [
            "ITA",
            "CHN",
            "ALB",
            "BGD",
            "BWA",
            "KHM",
            "HRV",
            "GRC",
            "SWE",
            "FIN",
            "NOR",
            "MYS",
            "ISR",
            "LTU",
            "SRB",
            "SVK",
            "SVN",
            "BGR",
            "CZE",
            "DNK",
            "GEO",
            "DEU",
            "HUN",
            "ISL",
            "JPN",
            "KAZ",
            "KGZ",
            "NLD",
            "POL",
            "ROU",
            "TJK",
            "THA",
            "AZE",
            "MNG"
           ],
           "name": "",
           "type": "choropleth",
           "z": [
            1957,
            12337,
            126,
            526,
            5,
            9,
            93,
            302,
            209,
            481,
            59,
            905,
            521,
            152,
            73,
            184,
            153,
            137,
            789,
            56,
            43,
            10228,
            189,
            9,
            5422,
            63,
            21,
            1366,
            2104,
            515,
            6,
            238,
            135,
            7
           ]
          }
         ],
         "name": "2021-10-02"
        },
        {
         "data": [
          {
           "coloraxis": "coloraxis",
           "geo": "geo",
           "hovertemplate": "date=2021-10-12<br>Country_code=%{location}<br>pages=%{z}<extra></extra>",
           "locations": [
            "ITA",
            "CHN",
            "ALB",
            "BGD",
            "BWA",
            "KHM",
            "HRV",
            "GRC",
            "SWE",
            "FIN",
            "NOR",
            "MYS",
            "ISR",
            "LTU",
            "SRB",
            "SVK",
            "SVN",
            "BGR",
            "CZE",
            "DNK",
            "GEO",
            "DEU",
            "HUN",
            "ISL",
            "JPN",
            "KAZ",
            "KGZ",
            "NLD",
            "POL",
            "ROU",
            "TJK",
            "THA",
            "AZE",
            "MNG"
           ],
           "name": "",
           "type": "choropleth",
           "z": [
            2185,
            11750,
            135,
            339,
            10,
            6,
            102,
            267,
            254,
            620,
            28,
            1060,
            378,
            153,
            129,
            265,
            193,
            123,
            1007,
            76,
            91,
            14484,
            271,
            9,
            5234,
            222,
            57,
            1840,
            2701,
            921,
            12,
            231,
            67,
            21
           ]
          }
         ],
         "name": "2021-10-12"
        },
        {
         "data": [
          {
           "coloraxis": "coloraxis",
           "geo": "geo",
           "hovertemplate": "date=2021-10-22<br>Country_code=%{location}<br>pages=%{z}<extra></extra>",
           "locations": [
            "ITA",
            "CHN",
            "ALB",
            "BGD",
            "BWA",
            "KHM",
            "HRV",
            "GRC",
            "SWE",
            "FIN",
            "NOR",
            "MYS",
            "ISR",
            "LTU",
            "SRB",
            "SVK",
            "SVN",
            "BGR",
            "CZE",
            "DNK",
            "GEO",
            "DEU",
            "HUN",
            "ISL",
            "JPN",
            "KAZ",
            "KGZ",
            "NLD",
            "POL",
            "ROU",
            "TJK",
            "THA",
            "AZE",
            "MNG"
           ],
           "name": "",
           "type": "choropleth",
           "z": [
            1908,
            13664,
            65,
            415,
            12,
            14,
            84,
            270,
            151,
            526,
            37,
            839,
            258,
            223,
            71,
            202,
            214,
            302,
            1561,
            64,
            89,
            14333,
            216,
            13,
            4531,
            86,
            41,
            1677,
            3010,
            1257,
            8,
            181,
            93,
            8
           ]
          }
         ],
         "name": "2021-10-22"
        },
        {
         "data": [
          {
           "coloraxis": "coloraxis",
           "geo": "geo",
           "hovertemplate": "date=2021-11-01<br>Country_code=%{location}<br>pages=%{z}<extra></extra>",
           "locations": [
            "ITA",
            "CHN",
            "ALB",
            "BGD",
            "BWA",
            "KHM",
            "HRV",
            "GRC",
            "SWE",
            "FIN",
            "NOR",
            "MYS",
            "ISR",
            "LTU",
            "SRB",
            "SVK",
            "SVN",
            "BGR",
            "CZE",
            "DNK",
            "GEO",
            "DEU",
            "HUN",
            "ISL",
            "JPN",
            "KAZ",
            "KGZ",
            "NLD",
            "POL",
            "ROU",
            "TJK",
            "THA",
            "AZE",
            "MNG"
           ],
           "name": "",
           "type": "choropleth",
           "z": [
            2242,
            14287,
            125,
            316,
            24,
            13,
            114,
            360,
            206,
            609,
            30,
            1052,
            257,
            173,
            97,
            377,
            338,
            253,
            1802,
            81,
            150,
            19093,
            319,
            6,
            4232,
            65,
            73,
            2491,
            3648,
            911,
            9,
            201,
            179,
            8
           ]
          }
         ],
         "name": "2021-11-01"
        },
        {
         "data": [
          {
           "coloraxis": "coloraxis",
           "geo": "geo",
           "hovertemplate": "date=2021-11-11<br>Country_code=%{location}<br>pages=%{z}<extra></extra>",
           "locations": [
            "ITA",
            "CHN",
            "ALB",
            "BGD",
            "BWA",
            "KHM",
            "HRV",
            "GRC",
            "SWE",
            "FIN",
            "NOR",
            "MYS",
            "ISR",
            "LTU",
            "SRB",
            "SVK",
            "SVN",
            "BGR",
            "CZE",
            "DNK",
            "GEO",
            "DEU",
            "HUN",
            "ISL",
            "JPN",
            "KAZ",
            "KGZ",
            "NLD",
            "POL",
            "ROU",
            "TJK",
            "THA",
            "AZE",
            "MNG"
           ],
           "name": "",
           "type": "choropleth",
           "z": [
            2293,
            12762,
            148,
            301,
            9,
            8,
            233,
            639,
            257,
            564,
            50,
            981,
            240,
            166,
            101,
            464,
            386,
            220,
            2546,
            100,
            134,
            26972,
            395,
            11,
            4320,
            104,
            25,
            4327,
            3432,
            589,
            5,
            187,
            160,
            3
           ]
          }
         ],
         "name": "2021-11-11"
        },
        {
         "data": [
          {
           "coloraxis": "coloraxis",
           "geo": "geo",
           "hovertemplate": "date=2021-11-21<br>Country_code=%{location}<br>pages=%{z}<extra></extra>",
           "locations": [
            "ITA",
            "CHN",
            "ALB",
            "BGD",
            "BWA",
            "KHM",
            "HRV",
            "GRC",
            "SWE",
            "FIN",
            "NOR",
            "MYS",
            "ISR",
            "LTU",
            "SRB",
            "SVK",
            "SVN",
            "BGR",
            "CZE",
            "DNK",
            "GEO",
            "DEU",
            "HUN",
            "ISL",
            "JPN",
            "KAZ",
            "KGZ",
            "NLD",
            "POL",
            "ROU",
            "TJK",
            "THA",
            "AZE",
            "MNG"
           ],
           "name": "",
           "type": "choropleth",
           "z": [
            2559,
            11643,
            178,
            441,
            7,
            6,
            268,
            772,
            183,
            584,
            58,
            930,
            250,
            168,
            97,
            579,
            369,
            159,
            3046,
            135,
            178,
            36006,
            496,
            8,
            4360,
            101,
            56,
            3585,
            4598,
            583,
            3,
            194,
            127,
            16
           ]
          }
         ],
         "name": "2021-11-21"
        },
        {
         "data": [
          {
           "coloraxis": "coloraxis",
           "geo": "geo",
           "hovertemplate": "date=2021-12-01<br>Country_code=%{location}<br>pages=%{z}<extra></extra>",
           "locations": [
            "ITA",
            "CHN",
            "ALB",
            "BGD",
            "BWA",
            "KHM",
            "HRV",
            "GRC",
            "SWE",
            "FIN",
            "NOR",
            "MYS",
            "ISR",
            "LTU",
            "SRB",
            "SVK",
            "SVN",
            "BGR",
            "CZE",
            "DNK",
            "GEO",
            "DEU",
            "HUN",
            "ISL",
            "JPN",
            "KAZ",
            "KGZ",
            "NLD",
            "POL",
            "ROU",
            "TJK",
            "THA",
            "AZE",
            "MNG"
           ],
           "name": "",
           "type": "choropleth",
           "z": [
            2885,
            15096,
            247,
            519,
            5,
            13,
            191,
            751,
            241,
            858,
            103,
            1195,
            528,
            168,
            85,
            567,
            244,
            180,
            2892,
            186,
            193,
            31901,
            445,
            5,
            5799,
            67,
            56,
            3272,
            5231,
            330,
            16,
            255,
            95,
            17
           ]
          }
         ],
         "name": "2021-12-01"
        },
        {
         "data": [
          {
           "coloraxis": "coloraxis",
           "geo": "geo",
           "hovertemplate": "date=2021-12-11<br>Country_code=%{location}<br>pages=%{z}<extra></extra>",
           "locations": [
            "ITA",
            "CHN",
            "ALB",
            "BGD",
            "BWA",
            "KHM",
            "HRV",
            "GRC",
            "SWE",
            "FIN",
            "NOR",
            "MYS",
            "ISR",
            "LTU",
            "SRB",
            "SVK",
            "SVN",
            "BGR",
            "CZE",
            "DNK",
            "GEO",
            "DEU",
            "HUN",
            "ISL",
            "JPN",
            "KAZ",
            "KGZ",
            "NLD",
            "POL",
            "ROU",
            "TJK",
            "THA",
            "AZE",
            "MNG"
           ],
           "name": "",
           "type": "choropleth",
           "z": [
            2538,
            10659,
            179,
            393,
            1,
            13,
            146,
            647,
            237,
            719,
            56,
            645,
            389,
            151,
            46,
            366,
            189,
            125,
            1570,
            171,
            105,
            19650,
            316,
            8,
            3871,
            81,
            24,
            1759,
            4003,
            268,
            6,
            192,
            143,
            9
           ]
          }
         ],
         "name": "2021-12-11"
        },
        {
         "data": [
          {
           "coloraxis": "coloraxis",
           "geo": "geo",
           "hovertemplate": "date=2021-12-21<br>Country_code=%{location}<br>pages=%{z}<extra></extra>",
           "locations": [
            "ITA",
            "CHN",
            "ALB",
            "BGD",
            "BWA",
            "KHM",
            "HRV",
            "GRC",
            "SWE",
            "FIN",
            "NOR",
            "MYS",
            "ISR",
            "LTU",
            "SRB",
            "SVK",
            "SVN",
            "BGR",
            "CZE",
            "DNK",
            "GEO",
            "DEU",
            "HUN",
            "ISL",
            "JPN",
            "KAZ",
            "KGZ",
            "NLD",
            "POL",
            "ROU",
            "TJK",
            "THA",
            "AZE",
            "MNG"
           ],
           "name": "",
           "type": "choropleth",
           "z": [
            3536,
            12545,
            204,
            269,
            2,
            18,
            137,
            685,
            315,
            1318,
            81,
            569,
            513,
            159,
            30,
            282,
            233,
            101,
            1404,
            269,
            175,
            27523,
            221,
            7,
            3993,
            90,
            16,
            3194,
            4106,
            227,
            1,
            266,
            176,
            3
           ]
          }
         ],
         "name": "2021-12-21"
        },
        {
         "data": [
          {
           "coloraxis": "coloraxis",
           "geo": "geo",
           "hovertemplate": "date=2021-12-31<br>Country_code=%{location}<br>pages=%{z}<extra></extra>",
           "locations": [
            "ITA",
            "CHN",
            "ALB",
            "BGD",
            "BWA",
            "KHM",
            "HRV",
            "GRC",
            "SWE",
            "FIN",
            "NOR",
            "MYS",
            "ISR",
            "LTU",
            "SRB",
            "SVK",
            "SVN",
            "BGR",
            "CZE",
            "DNK",
            "GEO",
            "DEU",
            "HUN",
            "ISL",
            "JPN",
            "KAZ",
            "KGZ",
            "NLD",
            "POL",
            "ROU",
            "TJK",
            "THA",
            "AZE",
            "MNG"
           ],
           "name": "",
           "type": "choropleth",
           "z": [
            4856,
            13347,
            71,
            137,
            6,
            4,
            102,
            1273,
            376,
            948,
            89,
            617,
            543,
            266,
            31,
            270,
            199,
            139,
            1184,
            204,
            68,
            16622,
            190,
            17,
            4514,
            18,
            14,
            2548,
            3361,
            205,
            7,
            125,
            51,
            1
           ]
          }
         ],
         "name": "2021-12-31"
        }
       ],
       "layout": {
        "coloraxis": {
         "cmid": 255814.5,
         "colorbar": {
          "title": {
           "text": "pages"
          }
         },
         "colorscale": [
          [
           0,
           "rgb(231, 250, 90)"
          ],
          [
           0.09090909090909091,
           "rgb(246, 211, 70)"
          ],
          [
           0.18181818181818182,
           "rgb(251, 173, 60)"
          ],
          [
           0.2727272727272727,
           "rgb(246, 139, 69)"
          ],
          [
           0.36363636363636365,
           "rgb(225, 113, 97)"
          ],
          [
           0.45454545454545453,
           "rgb(193, 100, 121)"
          ],
          [
           0.5454545454545454,
           "rgb(158, 89, 135)"
          ],
          [
           0.6363636363636364,
           "rgb(126, 77, 143)"
          ],
          [
           0.7272727272727273,
           "rgb(93, 62, 153)"
          ],
          [
           0.8181818181818182,
           "rgb(53, 50, 155)"
          ],
          [
           0.9090909090909091,
           "rgb(13, 48, 100)"
          ],
          [
           1,
           "rgb(3, 35, 51)"
          ]
         ]
        },
        "geo": {
         "center": {},
         "domain": {
          "x": [
           0,
           1
          ],
          "y": [
           0,
           1
          ]
         }
        },
        "legend": {
         "tracegroupgap": 0
        },
        "margin": {
         "t": 60
        },
        "sliders": [
         {
          "active": 0,
          "currentvalue": {
           "prefix": "date="
          },
          "len": 0.9,
          "pad": {
           "b": 10,
           "t": 60
          },
          "steps": [
           {
            "args": [
             [
              "2020-01-01"
             ],
             {
              "frame": {
               "duration": 0,
               "redraw": true
              },
              "fromcurrent": true,
              "mode": "immediate",
              "transition": {
               "duration": 0,
               "easing": "linear"
              }
             }
            ],
            "label": "2020-01-01",
            "method": "animate"
           },
           {
            "args": [
             [
              "2020-01-11"
             ],
             {
              "frame": {
               "duration": 0,
               "redraw": true
              },
              "fromcurrent": true,
              "mode": "immediate",
              "transition": {
               "duration": 0,
               "easing": "linear"
              }
             }
            ],
            "label": "2020-01-11",
            "method": "animate"
           },
           {
            "args": [
             [
              "2020-01-21"
             ],
             {
              "frame": {
               "duration": 0,
               "redraw": true
              },
              "fromcurrent": true,
              "mode": "immediate",
              "transition": {
               "duration": 0,
               "easing": "linear"
              }
             }
            ],
            "label": "2020-01-21",
            "method": "animate"
           },
           {
            "args": [
             [
              "2020-01-31"
             ],
             {
              "frame": {
               "duration": 0,
               "redraw": true
              },
              "fromcurrent": true,
              "mode": "immediate",
              "transition": {
               "duration": 0,
               "easing": "linear"
              }
             }
            ],
            "label": "2020-01-31",
            "method": "animate"
           },
           {
            "args": [
             [
              "2020-02-10"
             ],
             {
              "frame": {
               "duration": 0,
               "redraw": true
              },
              "fromcurrent": true,
              "mode": "immediate",
              "transition": {
               "duration": 0,
               "easing": "linear"
              }
             }
            ],
            "label": "2020-02-10",
            "method": "animate"
           },
           {
            "args": [
             [
              "2020-02-20"
             ],
             {
              "frame": {
               "duration": 0,
               "redraw": true
              },
              "fromcurrent": true,
              "mode": "immediate",
              "transition": {
               "duration": 0,
               "easing": "linear"
              }
             }
            ],
            "label": "2020-02-20",
            "method": "animate"
           },
           {
            "args": [
             [
              "2020-03-01"
             ],
             {
              "frame": {
               "duration": 0,
               "redraw": true
              },
              "fromcurrent": true,
              "mode": "immediate",
              "transition": {
               "duration": 0,
               "easing": "linear"
              }
             }
            ],
            "label": "2020-03-01",
            "method": "animate"
           },
           {
            "args": [
             [
              "2020-03-11"
             ],
             {
              "frame": {
               "duration": 0,
               "redraw": true
              },
              "fromcurrent": true,
              "mode": "immediate",
              "transition": {
               "duration": 0,
               "easing": "linear"
              }
             }
            ],
            "label": "2020-03-11",
            "method": "animate"
           },
           {
            "args": [
             [
              "2020-03-21"
             ],
             {
              "frame": {
               "duration": 0,
               "redraw": true
              },
              "fromcurrent": true,
              "mode": "immediate",
              "transition": {
               "duration": 0,
               "easing": "linear"
              }
             }
            ],
            "label": "2020-03-21",
            "method": "animate"
           },
           {
            "args": [
             [
              "2020-03-31"
             ],
             {
              "frame": {
               "duration": 0,
               "redraw": true
              },
              "fromcurrent": true,
              "mode": "immediate",
              "transition": {
               "duration": 0,
               "easing": "linear"
              }
             }
            ],
            "label": "2020-03-31",
            "method": "animate"
           },
           {
            "args": [
             [
              "2020-04-10"
             ],
             {
              "frame": {
               "duration": 0,
               "redraw": true
              },
              "fromcurrent": true,
              "mode": "immediate",
              "transition": {
               "duration": 0,
               "easing": "linear"
              }
             }
            ],
            "label": "2020-04-10",
            "method": "animate"
           },
           {
            "args": [
             [
              "2020-04-20"
             ],
             {
              "frame": {
               "duration": 0,
               "redraw": true
              },
              "fromcurrent": true,
              "mode": "immediate",
              "transition": {
               "duration": 0,
               "easing": "linear"
              }
             }
            ],
            "label": "2020-04-20",
            "method": "animate"
           },
           {
            "args": [
             [
              "2020-04-30"
             ],
             {
              "frame": {
               "duration": 0,
               "redraw": true
              },
              "fromcurrent": true,
              "mode": "immediate",
              "transition": {
               "duration": 0,
               "easing": "linear"
              }
             }
            ],
            "label": "2020-04-30",
            "method": "animate"
           },
           {
            "args": [
             [
              "2020-05-10"
             ],
             {
              "frame": {
               "duration": 0,
               "redraw": true
              },
              "fromcurrent": true,
              "mode": "immediate",
              "transition": {
               "duration": 0,
               "easing": "linear"
              }
             }
            ],
            "label": "2020-05-10",
            "method": "animate"
           },
           {
            "args": [
             [
              "2020-05-20"
             ],
             {
              "frame": {
               "duration": 0,
               "redraw": true
              },
              "fromcurrent": true,
              "mode": "immediate",
              "transition": {
               "duration": 0,
               "easing": "linear"
              }
             }
            ],
            "label": "2020-05-20",
            "method": "animate"
           },
           {
            "args": [
             [
              "2020-05-30"
             ],
             {
              "frame": {
               "duration": 0,
               "redraw": true
              },
              "fromcurrent": true,
              "mode": "immediate",
              "transition": {
               "duration": 0,
               "easing": "linear"
              }
             }
            ],
            "label": "2020-05-30",
            "method": "animate"
           },
           {
            "args": [
             [
              "2020-06-09"
             ],
             {
              "frame": {
               "duration": 0,
               "redraw": true
              },
              "fromcurrent": true,
              "mode": "immediate",
              "transition": {
               "duration": 0,
               "easing": "linear"
              }
             }
            ],
            "label": "2020-06-09",
            "method": "animate"
           },
           {
            "args": [
             [
              "2020-06-19"
             ],
             {
              "frame": {
               "duration": 0,
               "redraw": true
              },
              "fromcurrent": true,
              "mode": "immediate",
              "transition": {
               "duration": 0,
               "easing": "linear"
              }
             }
            ],
            "label": "2020-06-19",
            "method": "animate"
           },
           {
            "args": [
             [
              "2020-06-29"
             ],
             {
              "frame": {
               "duration": 0,
               "redraw": true
              },
              "fromcurrent": true,
              "mode": "immediate",
              "transition": {
               "duration": 0,
               "easing": "linear"
              }
             }
            ],
            "label": "2020-06-29",
            "method": "animate"
           },
           {
            "args": [
             [
              "2020-07-09"
             ],
             {
              "frame": {
               "duration": 0,
               "redraw": true
              },
              "fromcurrent": true,
              "mode": "immediate",
              "transition": {
               "duration": 0,
               "easing": "linear"
              }
             }
            ],
            "label": "2020-07-09",
            "method": "animate"
           },
           {
            "args": [
             [
              "2020-07-19"
             ],
             {
              "frame": {
               "duration": 0,
               "redraw": true
              },
              "fromcurrent": true,
              "mode": "immediate",
              "transition": {
               "duration": 0,
               "easing": "linear"
              }
             }
            ],
            "label": "2020-07-19",
            "method": "animate"
           },
           {
            "args": [
             [
              "2020-07-29"
             ],
             {
              "frame": {
               "duration": 0,
               "redraw": true
              },
              "fromcurrent": true,
              "mode": "immediate",
              "transition": {
               "duration": 0,
               "easing": "linear"
              }
             }
            ],
            "label": "2020-07-29",
            "method": "animate"
           },
           {
            "args": [
             [
              "2020-08-08"
             ],
             {
              "frame": {
               "duration": 0,
               "redraw": true
              },
              "fromcurrent": true,
              "mode": "immediate",
              "transition": {
               "duration": 0,
               "easing": "linear"
              }
             }
            ],
            "label": "2020-08-08",
            "method": "animate"
           },
           {
            "args": [
             [
              "2020-08-18"
             ],
             {
              "frame": {
               "duration": 0,
               "redraw": true
              },
              "fromcurrent": true,
              "mode": "immediate",
              "transition": {
               "duration": 0,
               "easing": "linear"
              }
             }
            ],
            "label": "2020-08-18",
            "method": "animate"
           },
           {
            "args": [
             [
              "2020-08-28"
             ],
             {
              "frame": {
               "duration": 0,
               "redraw": true
              },
              "fromcurrent": true,
              "mode": "immediate",
              "transition": {
               "duration": 0,
               "easing": "linear"
              }
             }
            ],
            "label": "2020-08-28",
            "method": "animate"
           },
           {
            "args": [
             [
              "2020-09-07"
             ],
             {
              "frame": {
               "duration": 0,
               "redraw": true
              },
              "fromcurrent": true,
              "mode": "immediate",
              "transition": {
               "duration": 0,
               "easing": "linear"
              }
             }
            ],
            "label": "2020-09-07",
            "method": "animate"
           },
           {
            "args": [
             [
              "2020-09-17"
             ],
             {
              "frame": {
               "duration": 0,
               "redraw": true
              },
              "fromcurrent": true,
              "mode": "immediate",
              "transition": {
               "duration": 0,
               "easing": "linear"
              }
             }
            ],
            "label": "2020-09-17",
            "method": "animate"
           },
           {
            "args": [
             [
              "2020-09-27"
             ],
             {
              "frame": {
               "duration": 0,
               "redraw": true
              },
              "fromcurrent": true,
              "mode": "immediate",
              "transition": {
               "duration": 0,
               "easing": "linear"
              }
             }
            ],
            "label": "2020-09-27",
            "method": "animate"
           },
           {
            "args": [
             [
              "2020-10-07"
             ],
             {
              "frame": {
               "duration": 0,
               "redraw": true
              },
              "fromcurrent": true,
              "mode": "immediate",
              "transition": {
               "duration": 0,
               "easing": "linear"
              }
             }
            ],
            "label": "2020-10-07",
            "method": "animate"
           },
           {
            "args": [
             [
              "2020-10-17"
             ],
             {
              "frame": {
               "duration": 0,
               "redraw": true
              },
              "fromcurrent": true,
              "mode": "immediate",
              "transition": {
               "duration": 0,
               "easing": "linear"
              }
             }
            ],
            "label": "2020-10-17",
            "method": "animate"
           },
           {
            "args": [
             [
              "2020-10-27"
             ],
             {
              "frame": {
               "duration": 0,
               "redraw": true
              },
              "fromcurrent": true,
              "mode": "immediate",
              "transition": {
               "duration": 0,
               "easing": "linear"
              }
             }
            ],
            "label": "2020-10-27",
            "method": "animate"
           },
           {
            "args": [
             [
              "2020-11-06"
             ],
             {
              "frame": {
               "duration": 0,
               "redraw": true
              },
              "fromcurrent": true,
              "mode": "immediate",
              "transition": {
               "duration": 0,
               "easing": "linear"
              }
             }
            ],
            "label": "2020-11-06",
            "method": "animate"
           },
           {
            "args": [
             [
              "2020-11-16"
             ],
             {
              "frame": {
               "duration": 0,
               "redraw": true
              },
              "fromcurrent": true,
              "mode": "immediate",
              "transition": {
               "duration": 0,
               "easing": "linear"
              }
             }
            ],
            "label": "2020-11-16",
            "method": "animate"
           },
           {
            "args": [
             [
              "2020-11-26"
             ],
             {
              "frame": {
               "duration": 0,
               "redraw": true
              },
              "fromcurrent": true,
              "mode": "immediate",
              "transition": {
               "duration": 0,
               "easing": "linear"
              }
             }
            ],
            "label": "2020-11-26",
            "method": "animate"
           },
           {
            "args": [
             [
              "2020-12-06"
             ],
             {
              "frame": {
               "duration": 0,
               "redraw": true
              },
              "fromcurrent": true,
              "mode": "immediate",
              "transition": {
               "duration": 0,
               "easing": "linear"
              }
             }
            ],
            "label": "2020-12-06",
            "method": "animate"
           },
           {
            "args": [
             [
              "2020-12-16"
             ],
             {
              "frame": {
               "duration": 0,
               "redraw": true
              },
              "fromcurrent": true,
              "mode": "immediate",
              "transition": {
               "duration": 0,
               "easing": "linear"
              }
             }
            ],
            "label": "2020-12-16",
            "method": "animate"
           },
           {
            "args": [
             [
              "2020-12-26"
             ],
             {
              "frame": {
               "duration": 0,
               "redraw": true
              },
              "fromcurrent": true,
              "mode": "immediate",
              "transition": {
               "duration": 0,
               "easing": "linear"
              }
             }
            ],
            "label": "2020-12-26",
            "method": "animate"
           },
           {
            "args": [
             [
              "2021-01-05"
             ],
             {
              "frame": {
               "duration": 0,
               "redraw": true
              },
              "fromcurrent": true,
              "mode": "immediate",
              "transition": {
               "duration": 0,
               "easing": "linear"
              }
             }
            ],
            "label": "2021-01-05",
            "method": "animate"
           },
           {
            "args": [
             [
              "2021-01-15"
             ],
             {
              "frame": {
               "duration": 0,
               "redraw": true
              },
              "fromcurrent": true,
              "mode": "immediate",
              "transition": {
               "duration": 0,
               "easing": "linear"
              }
             }
            ],
            "label": "2021-01-15",
            "method": "animate"
           },
           {
            "args": [
             [
              "2021-01-25"
             ],
             {
              "frame": {
               "duration": 0,
               "redraw": true
              },
              "fromcurrent": true,
              "mode": "immediate",
              "transition": {
               "duration": 0,
               "easing": "linear"
              }
             }
            ],
            "label": "2021-01-25",
            "method": "animate"
           },
           {
            "args": [
             [
              "2021-02-04"
             ],
             {
              "frame": {
               "duration": 0,
               "redraw": true
              },
              "fromcurrent": true,
              "mode": "immediate",
              "transition": {
               "duration": 0,
               "easing": "linear"
              }
             }
            ],
            "label": "2021-02-04",
            "method": "animate"
           },
           {
            "args": [
             [
              "2021-02-14"
             ],
             {
              "frame": {
               "duration": 0,
               "redraw": true
              },
              "fromcurrent": true,
              "mode": "immediate",
              "transition": {
               "duration": 0,
               "easing": "linear"
              }
             }
            ],
            "label": "2021-02-14",
            "method": "animate"
           },
           {
            "args": [
             [
              "2021-02-24"
             ],
             {
              "frame": {
               "duration": 0,
               "redraw": true
              },
              "fromcurrent": true,
              "mode": "immediate",
              "transition": {
               "duration": 0,
               "easing": "linear"
              }
             }
            ],
            "label": "2021-02-24",
            "method": "animate"
           },
           {
            "args": [
             [
              "2021-03-06"
             ],
             {
              "frame": {
               "duration": 0,
               "redraw": true
              },
              "fromcurrent": true,
              "mode": "immediate",
              "transition": {
               "duration": 0,
               "easing": "linear"
              }
             }
            ],
            "label": "2021-03-06",
            "method": "animate"
           },
           {
            "args": [
             [
              "2021-03-16"
             ],
             {
              "frame": {
               "duration": 0,
               "redraw": true
              },
              "fromcurrent": true,
              "mode": "immediate",
              "transition": {
               "duration": 0,
               "easing": "linear"
              }
             }
            ],
            "label": "2021-03-16",
            "method": "animate"
           },
           {
            "args": [
             [
              "2021-03-26"
             ],
             {
              "frame": {
               "duration": 0,
               "redraw": true
              },
              "fromcurrent": true,
              "mode": "immediate",
              "transition": {
               "duration": 0,
               "easing": "linear"
              }
             }
            ],
            "label": "2021-03-26",
            "method": "animate"
           },
           {
            "args": [
             [
              "2021-04-05"
             ],
             {
              "frame": {
               "duration": 0,
               "redraw": true
              },
              "fromcurrent": true,
              "mode": "immediate",
              "transition": {
               "duration": 0,
               "easing": "linear"
              }
             }
            ],
            "label": "2021-04-05",
            "method": "animate"
           },
           {
            "args": [
             [
              "2021-04-15"
             ],
             {
              "frame": {
               "duration": 0,
               "redraw": true
              },
              "fromcurrent": true,
              "mode": "immediate",
              "transition": {
               "duration": 0,
               "easing": "linear"
              }
             }
            ],
            "label": "2021-04-15",
            "method": "animate"
           },
           {
            "args": [
             [
              "2021-04-25"
             ],
             {
              "frame": {
               "duration": 0,
               "redraw": true
              },
              "fromcurrent": true,
              "mode": "immediate",
              "transition": {
               "duration": 0,
               "easing": "linear"
              }
             }
            ],
            "label": "2021-04-25",
            "method": "animate"
           },
           {
            "args": [
             [
              "2021-05-05"
             ],
             {
              "frame": {
               "duration": 0,
               "redraw": true
              },
              "fromcurrent": true,
              "mode": "immediate",
              "transition": {
               "duration": 0,
               "easing": "linear"
              }
             }
            ],
            "label": "2021-05-05",
            "method": "animate"
           },
           {
            "args": [
             [
              "2021-05-15"
             ],
             {
              "frame": {
               "duration": 0,
               "redraw": true
              },
              "fromcurrent": true,
              "mode": "immediate",
              "transition": {
               "duration": 0,
               "easing": "linear"
              }
             }
            ],
            "label": "2021-05-15",
            "method": "animate"
           },
           {
            "args": [
             [
              "2021-05-25"
             ],
             {
              "frame": {
               "duration": 0,
               "redraw": true
              },
              "fromcurrent": true,
              "mode": "immediate",
              "transition": {
               "duration": 0,
               "easing": "linear"
              }
             }
            ],
            "label": "2021-05-25",
            "method": "animate"
           },
           {
            "args": [
             [
              "2021-06-04"
             ],
             {
              "frame": {
               "duration": 0,
               "redraw": true
              },
              "fromcurrent": true,
              "mode": "immediate",
              "transition": {
               "duration": 0,
               "easing": "linear"
              }
             }
            ],
            "label": "2021-06-04",
            "method": "animate"
           },
           {
            "args": [
             [
              "2021-06-14"
             ],
             {
              "frame": {
               "duration": 0,
               "redraw": true
              },
              "fromcurrent": true,
              "mode": "immediate",
              "transition": {
               "duration": 0,
               "easing": "linear"
              }
             }
            ],
            "label": "2021-06-14",
            "method": "animate"
           },
           {
            "args": [
             [
              "2021-06-24"
             ],
             {
              "frame": {
               "duration": 0,
               "redraw": true
              },
              "fromcurrent": true,
              "mode": "immediate",
              "transition": {
               "duration": 0,
               "easing": "linear"
              }
             }
            ],
            "label": "2021-06-24",
            "method": "animate"
           },
           {
            "args": [
             [
              "2021-07-04"
             ],
             {
              "frame": {
               "duration": 0,
               "redraw": true
              },
              "fromcurrent": true,
              "mode": "immediate",
              "transition": {
               "duration": 0,
               "easing": "linear"
              }
             }
            ],
            "label": "2021-07-04",
            "method": "animate"
           },
           {
            "args": [
             [
              "2021-07-14"
             ],
             {
              "frame": {
               "duration": 0,
               "redraw": true
              },
              "fromcurrent": true,
              "mode": "immediate",
              "transition": {
               "duration": 0,
               "easing": "linear"
              }
             }
            ],
            "label": "2021-07-14",
            "method": "animate"
           },
           {
            "args": [
             [
              "2021-07-24"
             ],
             {
              "frame": {
               "duration": 0,
               "redraw": true
              },
              "fromcurrent": true,
              "mode": "immediate",
              "transition": {
               "duration": 0,
               "easing": "linear"
              }
             }
            ],
            "label": "2021-07-24",
            "method": "animate"
           },
           {
            "args": [
             [
              "2021-08-03"
             ],
             {
              "frame": {
               "duration": 0,
               "redraw": true
              },
              "fromcurrent": true,
              "mode": "immediate",
              "transition": {
               "duration": 0,
               "easing": "linear"
              }
             }
            ],
            "label": "2021-08-03",
            "method": "animate"
           },
           {
            "args": [
             [
              "2021-08-13"
             ],
             {
              "frame": {
               "duration": 0,
               "redraw": true
              },
              "fromcurrent": true,
              "mode": "immediate",
              "transition": {
               "duration": 0,
               "easing": "linear"
              }
             }
            ],
            "label": "2021-08-13",
            "method": "animate"
           },
           {
            "args": [
             [
              "2021-08-23"
             ],
             {
              "frame": {
               "duration": 0,
               "redraw": true
              },
              "fromcurrent": true,
              "mode": "immediate",
              "transition": {
               "duration": 0,
               "easing": "linear"
              }
             }
            ],
            "label": "2021-08-23",
            "method": "animate"
           },
           {
            "args": [
             [
              "2021-09-02"
             ],
             {
              "frame": {
               "duration": 0,
               "redraw": true
              },
              "fromcurrent": true,
              "mode": "immediate",
              "transition": {
               "duration": 0,
               "easing": "linear"
              }
             }
            ],
            "label": "2021-09-02",
            "method": "animate"
           },
           {
            "args": [
             [
              "2021-09-12"
             ],
             {
              "frame": {
               "duration": 0,
               "redraw": true
              },
              "fromcurrent": true,
              "mode": "immediate",
              "transition": {
               "duration": 0,
               "easing": "linear"
              }
             }
            ],
            "label": "2021-09-12",
            "method": "animate"
           },
           {
            "args": [
             [
              "2021-09-22"
             ],
             {
              "frame": {
               "duration": 0,
               "redraw": true
              },
              "fromcurrent": true,
              "mode": "immediate",
              "transition": {
               "duration": 0,
               "easing": "linear"
              }
             }
            ],
            "label": "2021-09-22",
            "method": "animate"
           },
           {
            "args": [
             [
              "2021-10-02"
             ],
             {
              "frame": {
               "duration": 0,
               "redraw": true
              },
              "fromcurrent": true,
              "mode": "immediate",
              "transition": {
               "duration": 0,
               "easing": "linear"
              }
             }
            ],
            "label": "2021-10-02",
            "method": "animate"
           },
           {
            "args": [
             [
              "2021-10-12"
             ],
             {
              "frame": {
               "duration": 0,
               "redraw": true
              },
              "fromcurrent": true,
              "mode": "immediate",
              "transition": {
               "duration": 0,
               "easing": "linear"
              }
             }
            ],
            "label": "2021-10-12",
            "method": "animate"
           },
           {
            "args": [
             [
              "2021-10-22"
             ],
             {
              "frame": {
               "duration": 0,
               "redraw": true
              },
              "fromcurrent": true,
              "mode": "immediate",
              "transition": {
               "duration": 0,
               "easing": "linear"
              }
             }
            ],
            "label": "2021-10-22",
            "method": "animate"
           },
           {
            "args": [
             [
              "2021-11-01"
             ],
             {
              "frame": {
               "duration": 0,
               "redraw": true
              },
              "fromcurrent": true,
              "mode": "immediate",
              "transition": {
               "duration": 0,
               "easing": "linear"
              }
             }
            ],
            "label": "2021-11-01",
            "method": "animate"
           },
           {
            "args": [
             [
              "2021-11-11"
             ],
             {
              "frame": {
               "duration": 0,
               "redraw": true
              },
              "fromcurrent": true,
              "mode": "immediate",
              "transition": {
               "duration": 0,
               "easing": "linear"
              }
             }
            ],
            "label": "2021-11-11",
            "method": "animate"
           },
           {
            "args": [
             [
              "2021-11-21"
             ],
             {
              "frame": {
               "duration": 0,
               "redraw": true
              },
              "fromcurrent": true,
              "mode": "immediate",
              "transition": {
               "duration": 0,
               "easing": "linear"
              }
             }
            ],
            "label": "2021-11-21",
            "method": "animate"
           },
           {
            "args": [
             [
              "2021-12-01"
             ],
             {
              "frame": {
               "duration": 0,
               "redraw": true
              },
              "fromcurrent": true,
              "mode": "immediate",
              "transition": {
               "duration": 0,
               "easing": "linear"
              }
             }
            ],
            "label": "2021-12-01",
            "method": "animate"
           },
           {
            "args": [
             [
              "2021-12-11"
             ],
             {
              "frame": {
               "duration": 0,
               "redraw": true
              },
              "fromcurrent": true,
              "mode": "immediate",
              "transition": {
               "duration": 0,
               "easing": "linear"
              }
             }
            ],
            "label": "2021-12-11",
            "method": "animate"
           },
           {
            "args": [
             [
              "2021-12-21"
             ],
             {
              "frame": {
               "duration": 0,
               "redraw": true
              },
              "fromcurrent": true,
              "mode": "immediate",
              "transition": {
               "duration": 0,
               "easing": "linear"
              }
             }
            ],
            "label": "2021-12-21",
            "method": "animate"
           },
           {
            "args": [
             [
              "2021-12-31"
             ],
             {
              "frame": {
               "duration": 0,
               "redraw": true
              },
              "fromcurrent": true,
              "mode": "immediate",
              "transition": {
               "duration": 0,
               "easing": "linear"
              }
             }
            ],
            "label": "2021-12-31",
            "method": "animate"
           }
          ],
          "x": 0.1,
          "xanchor": "left",
          "y": 0,
          "yanchor": "top"
         }
        ],
        "template": {
         "data": {
          "bar": [
           {
            "error_x": {
             "color": "#2a3f5f"
            },
            "error_y": {
             "color": "#2a3f5f"
            },
            "marker": {
             "line": {
              "color": "#E5ECF6",
              "width": 0.5
             },
             "pattern": {
              "fillmode": "overlay",
              "size": 10,
              "solidity": 0.2
             }
            },
            "type": "bar"
           }
          ],
          "barpolar": [
           {
            "marker": {
             "line": {
              "color": "#E5ECF6",
              "width": 0.5
             },
             "pattern": {
              "fillmode": "overlay",
              "size": 10,
              "solidity": 0.2
             }
            },
            "type": "barpolar"
           }
          ],
          "carpet": [
           {
            "aaxis": {
             "endlinecolor": "#2a3f5f",
             "gridcolor": "white",
             "linecolor": "white",
             "minorgridcolor": "white",
             "startlinecolor": "#2a3f5f"
            },
            "baxis": {
             "endlinecolor": "#2a3f5f",
             "gridcolor": "white",
             "linecolor": "white",
             "minorgridcolor": "white",
             "startlinecolor": "#2a3f5f"
            },
            "type": "carpet"
           }
          ],
          "choropleth": [
           {
            "colorbar": {
             "outlinewidth": 0,
             "ticks": ""
            },
            "type": "choropleth"
           }
          ],
          "contour": [
           {
            "colorbar": {
             "outlinewidth": 0,
             "ticks": ""
            },
            "colorscale": [
             [
              0,
              "#0d0887"
             ],
             [
              0.1111111111111111,
              "#46039f"
             ],
             [
              0.2222222222222222,
              "#7201a8"
             ],
             [
              0.3333333333333333,
              "#9c179e"
             ],
             [
              0.4444444444444444,
              "#bd3786"
             ],
             [
              0.5555555555555556,
              "#d8576b"
             ],
             [
              0.6666666666666666,
              "#ed7953"
             ],
             [
              0.7777777777777778,
              "#fb9f3a"
             ],
             [
              0.8888888888888888,
              "#fdca26"
             ],
             [
              1,
              "#f0f921"
             ]
            ],
            "type": "contour"
           }
          ],
          "contourcarpet": [
           {
            "colorbar": {
             "outlinewidth": 0,
             "ticks": ""
            },
            "type": "contourcarpet"
           }
          ],
          "heatmap": [
           {
            "colorbar": {
             "outlinewidth": 0,
             "ticks": ""
            },
            "colorscale": [
             [
              0,
              "#0d0887"
             ],
             [
              0.1111111111111111,
              "#46039f"
             ],
             [
              0.2222222222222222,
              "#7201a8"
             ],
             [
              0.3333333333333333,
              "#9c179e"
             ],
             [
              0.4444444444444444,
              "#bd3786"
             ],
             [
              0.5555555555555556,
              "#d8576b"
             ],
             [
              0.6666666666666666,
              "#ed7953"
             ],
             [
              0.7777777777777778,
              "#fb9f3a"
             ],
             [
              0.8888888888888888,
              "#fdca26"
             ],
             [
              1,
              "#f0f921"
             ]
            ],
            "type": "heatmap"
           }
          ],
          "heatmapgl": [
           {
            "colorbar": {
             "outlinewidth": 0,
             "ticks": ""
            },
            "colorscale": [
             [
              0,
              "#0d0887"
             ],
             [
              0.1111111111111111,
              "#46039f"
             ],
             [
              0.2222222222222222,
              "#7201a8"
             ],
             [
              0.3333333333333333,
              "#9c179e"
             ],
             [
              0.4444444444444444,
              "#bd3786"
             ],
             [
              0.5555555555555556,
              "#d8576b"
             ],
             [
              0.6666666666666666,
              "#ed7953"
             ],
             [
              0.7777777777777778,
              "#fb9f3a"
             ],
             [
              0.8888888888888888,
              "#fdca26"
             ],
             [
              1,
              "#f0f921"
             ]
            ],
            "type": "heatmapgl"
           }
          ],
          "histogram": [
           {
            "marker": {
             "pattern": {
              "fillmode": "overlay",
              "size": 10,
              "solidity": 0.2
             }
            },
            "type": "histogram"
           }
          ],
          "histogram2d": [
           {
            "colorbar": {
             "outlinewidth": 0,
             "ticks": ""
            },
            "colorscale": [
             [
              0,
              "#0d0887"
             ],
             [
              0.1111111111111111,
              "#46039f"
             ],
             [
              0.2222222222222222,
              "#7201a8"
             ],
             [
              0.3333333333333333,
              "#9c179e"
             ],
             [
              0.4444444444444444,
              "#bd3786"
             ],
             [
              0.5555555555555556,
              "#d8576b"
             ],
             [
              0.6666666666666666,
              "#ed7953"
             ],
             [
              0.7777777777777778,
              "#fb9f3a"
             ],
             [
              0.8888888888888888,
              "#fdca26"
             ],
             [
              1,
              "#f0f921"
             ]
            ],
            "type": "histogram2d"
           }
          ],
          "histogram2dcontour": [
           {
            "colorbar": {
             "outlinewidth": 0,
             "ticks": ""
            },
            "colorscale": [
             [
              0,
              "#0d0887"
             ],
             [
              0.1111111111111111,
              "#46039f"
             ],
             [
              0.2222222222222222,
              "#7201a8"
             ],
             [
              0.3333333333333333,
              "#9c179e"
             ],
             [
              0.4444444444444444,
              "#bd3786"
             ],
             [
              0.5555555555555556,
              "#d8576b"
             ],
             [
              0.6666666666666666,
              "#ed7953"
             ],
             [
              0.7777777777777778,
              "#fb9f3a"
             ],
             [
              0.8888888888888888,
              "#fdca26"
             ],
             [
              1,
              "#f0f921"
             ]
            ],
            "type": "histogram2dcontour"
           }
          ],
          "mesh3d": [
           {
            "colorbar": {
             "outlinewidth": 0,
             "ticks": ""
            },
            "type": "mesh3d"
           }
          ],
          "parcoords": [
           {
            "line": {
             "colorbar": {
              "outlinewidth": 0,
              "ticks": ""
             }
            },
            "type": "parcoords"
           }
          ],
          "pie": [
           {
            "automargin": true,
            "type": "pie"
           }
          ],
          "scatter": [
           {
            "fillpattern": {
             "fillmode": "overlay",
             "size": 10,
             "solidity": 0.2
            },
            "type": "scatter"
           }
          ],
          "scatter3d": [
           {
            "line": {
             "colorbar": {
              "outlinewidth": 0,
              "ticks": ""
             }
            },
            "marker": {
             "colorbar": {
              "outlinewidth": 0,
              "ticks": ""
             }
            },
            "type": "scatter3d"
           }
          ],
          "scattercarpet": [
           {
            "marker": {
             "colorbar": {
              "outlinewidth": 0,
              "ticks": ""
             }
            },
            "type": "scattercarpet"
           }
          ],
          "scattergeo": [
           {
            "marker": {
             "colorbar": {
              "outlinewidth": 0,
              "ticks": ""
             }
            },
            "type": "scattergeo"
           }
          ],
          "scattergl": [
           {
            "marker": {
             "colorbar": {
              "outlinewidth": 0,
              "ticks": ""
             }
            },
            "type": "scattergl"
           }
          ],
          "scattermapbox": [
           {
            "marker": {
             "colorbar": {
              "outlinewidth": 0,
              "ticks": ""
             }
            },
            "type": "scattermapbox"
           }
          ],
          "scatterpolar": [
           {
            "marker": {
             "colorbar": {
              "outlinewidth": 0,
              "ticks": ""
             }
            },
            "type": "scatterpolar"
           }
          ],
          "scatterpolargl": [
           {
            "marker": {
             "colorbar": {
              "outlinewidth": 0,
              "ticks": ""
             }
            },
            "type": "scatterpolargl"
           }
          ],
          "scatterternary": [
           {
            "marker": {
             "colorbar": {
              "outlinewidth": 0,
              "ticks": ""
             }
            },
            "type": "scatterternary"
           }
          ],
          "surface": [
           {
            "colorbar": {
             "outlinewidth": 0,
             "ticks": ""
            },
            "colorscale": [
             [
              0,
              "#0d0887"
             ],
             [
              0.1111111111111111,
              "#46039f"
             ],
             [
              0.2222222222222222,
              "#7201a8"
             ],
             [
              0.3333333333333333,
              "#9c179e"
             ],
             [
              0.4444444444444444,
              "#bd3786"
             ],
             [
              0.5555555555555556,
              "#d8576b"
             ],
             [
              0.6666666666666666,
              "#ed7953"
             ],
             [
              0.7777777777777778,
              "#fb9f3a"
             ],
             [
              0.8888888888888888,
              "#fdca26"
             ],
             [
              1,
              "#f0f921"
             ]
            ],
            "type": "surface"
           }
          ],
          "table": [
           {
            "cells": {
             "fill": {
              "color": "#EBF0F8"
             },
             "line": {
              "color": "white"
             }
            },
            "header": {
             "fill": {
              "color": "#C8D4E3"
             },
             "line": {
              "color": "white"
             }
            },
            "type": "table"
           }
          ]
         },
         "layout": {
          "annotationdefaults": {
           "arrowcolor": "#2a3f5f",
           "arrowhead": 0,
           "arrowwidth": 1
          },
          "autotypenumbers": "strict",
          "coloraxis": {
           "colorbar": {
            "outlinewidth": 0,
            "ticks": ""
           }
          },
          "colorscale": {
           "diverging": [
            [
             0,
             "#8e0152"
            ],
            [
             0.1,
             "#c51b7d"
            ],
            [
             0.2,
             "#de77ae"
            ],
            [
             0.3,
             "#f1b6da"
            ],
            [
             0.4,
             "#fde0ef"
            ],
            [
             0.5,
             "#f7f7f7"
            ],
            [
             0.6,
             "#e6f5d0"
            ],
            [
             0.7,
             "#b8e186"
            ],
            [
             0.8,
             "#7fbc41"
            ],
            [
             0.9,
             "#4d9221"
            ],
            [
             1,
             "#276419"
            ]
           ],
           "sequential": [
            [
             0,
             "#0d0887"
            ],
            [
             0.1111111111111111,
             "#46039f"
            ],
            [
             0.2222222222222222,
             "#7201a8"
            ],
            [
             0.3333333333333333,
             "#9c179e"
            ],
            [
             0.4444444444444444,
             "#bd3786"
            ],
            [
             0.5555555555555556,
             "#d8576b"
            ],
            [
             0.6666666666666666,
             "#ed7953"
            ],
            [
             0.7777777777777778,
             "#fb9f3a"
            ],
            [
             0.8888888888888888,
             "#fdca26"
            ],
            [
             1,
             "#f0f921"
            ]
           ],
           "sequentialminus": [
            [
             0,
             "#0d0887"
            ],
            [
             0.1111111111111111,
             "#46039f"
            ],
            [
             0.2222222222222222,
             "#7201a8"
            ],
            [
             0.3333333333333333,
             "#9c179e"
            ],
            [
             0.4444444444444444,
             "#bd3786"
            ],
            [
             0.5555555555555556,
             "#d8576b"
            ],
            [
             0.6666666666666666,
             "#ed7953"
            ],
            [
             0.7777777777777778,
             "#fb9f3a"
            ],
            [
             0.8888888888888888,
             "#fdca26"
            ],
            [
             1,
             "#f0f921"
            ]
           ]
          },
          "colorway": [
           "#636efa",
           "#EF553B",
           "#00cc96",
           "#ab63fa",
           "#FFA15A",
           "#19d3f3",
           "#FF6692",
           "#B6E880",
           "#FF97FF",
           "#FECB52"
          ],
          "font": {
           "color": "#2a3f5f"
          },
          "geo": {
           "bgcolor": "white",
           "lakecolor": "white",
           "landcolor": "#E5ECF6",
           "showlakes": true,
           "showland": true,
           "subunitcolor": "white"
          },
          "hoverlabel": {
           "align": "left"
          },
          "hovermode": "closest",
          "mapbox": {
           "style": "light"
          },
          "paper_bgcolor": "white",
          "plot_bgcolor": "#E5ECF6",
          "polar": {
           "angularaxis": {
            "gridcolor": "white",
            "linecolor": "white",
            "ticks": ""
           },
           "bgcolor": "#E5ECF6",
           "radialaxis": {
            "gridcolor": "white",
            "linecolor": "white",
            "ticks": ""
           }
          },
          "scene": {
           "xaxis": {
            "backgroundcolor": "#E5ECF6",
            "gridcolor": "white",
            "gridwidth": 2,
            "linecolor": "white",
            "showbackground": true,
            "ticks": "",
            "zerolinecolor": "white"
           },
           "yaxis": {
            "backgroundcolor": "#E5ECF6",
            "gridcolor": "white",
            "gridwidth": 2,
            "linecolor": "white",
            "showbackground": true,
            "ticks": "",
            "zerolinecolor": "white"
           },
           "zaxis": {
            "backgroundcolor": "#E5ECF6",
            "gridcolor": "white",
            "gridwidth": 2,
            "linecolor": "white",
            "showbackground": true,
            "ticks": "",
            "zerolinecolor": "white"
           }
          },
          "shapedefaults": {
           "line": {
            "color": "#2a3f5f"
           }
          },
          "ternary": {
           "aaxis": {
            "gridcolor": "white",
            "linecolor": "white",
            "ticks": ""
           },
           "baxis": {
            "gridcolor": "white",
            "linecolor": "white",
            "ticks": ""
           },
           "bgcolor": "#E5ECF6",
           "caxis": {
            "gridcolor": "white",
            "linecolor": "white",
            "ticks": ""
           }
          },
          "title": {
           "x": 0.05
          },
          "xaxis": {
           "automargin": true,
           "gridcolor": "white",
           "linecolor": "white",
           "ticks": "",
           "title": {
            "standoff": 15
           },
           "zerolinecolor": "white",
           "zerolinewidth": 2
          },
          "yaxis": {
           "automargin": true,
           "gridcolor": "white",
           "linecolor": "white",
           "ticks": "",
           "title": {
            "standoff": 15
           },
           "zerolinecolor": "white",
           "zerolinewidth": 2
          }
         }
        },
        "title": {
         "font": {
          "color": "red",
          "size": 18
         },
         "text": "Number of pageviews",
         "x": 0.5,
         "y": 1
        },
        "transition": {
         "duration": 10
        },
        "updatemenus": [
         {
          "buttons": [
           {
            "args": [
             null,
             {
              "frame": {
               "duration": 500,
               "redraw": true
              },
              "fromcurrent": true,
              "mode": "immediate",
              "transition": {
               "duration": 500,
               "easing": "linear"
              }
             }
            ],
            "label": "&#9654;",
            "method": "animate"
           },
           {
            "args": [
             [
              null
             ],
             {
              "frame": {
               "duration": 0,
               "redraw": true
              },
              "fromcurrent": true,
              "mode": "immediate",
              "transition": {
               "duration": 0,
               "easing": "linear"
              }
             }
            ],
            "label": "&#9724;",
            "method": "animate"
           }
          ],
          "direction": "left",
          "pad": {
           "r": 10,
           "t": 70
          },
          "showactive": false,
          "type": "buttons",
          "x": 0.1,
          "xanchor": "right",
          "y": 0,
          "yanchor": "top"
         }
        ]
       }
      },
      "text/html": [
       "<div>                            <div id=\"f4bf070d-e918-4a91-8b88-e34ec1a85313\" class=\"plotly-graph-div\" style=\"height:525px; width:100%;\"></div>            <script type=\"text/javascript\">                require([\"plotly\"], function(Plotly) {                    window.PLOTLYENV=window.PLOTLYENV || {};                                    if (document.getElementById(\"f4bf070d-e918-4a91-8b88-e34ec1a85313\")) {                    Plotly.newPlot(                        \"f4bf070d-e918-4a91-8b88-e34ec1a85313\",                        [{\"coloraxis\":\"coloraxis\",\"geo\":\"geo\",\"hovertemplate\":\"date=2020-01-01<br>Country_code=%{location}<br>pages=%{z}<extra></extra>\",\"locations\":[\"ITA\",\"CHN\",\"ALB\",\"BGD\",\"BWA\",\"KHM\",\"HRV\",\"GRC\",\"SWE\",\"FIN\",\"NOR\",\"MYS\",\"ISR\",\"LTU\",\"SRB\",\"SVK\",\"SVN\",\"BGR\",\"CZE\",\"DNK\",\"GEO\",\"DEU\",\"HUN\",\"ISL\",\"JPN\",\"KAZ\",\"KGZ\",\"NLD\",\"POL\",\"ROU\",\"TJK\",\"THA\",\"AZE\",\"MNG\"],\"name\":\"\",\"z\":[252.0,4821.0,0.0,0.0,0.0,0.0,10.0,14.0,56.0,60.0,13.0,10.0,58.0,4.0,7.0,0.0,6.0,0.0,51.0,15.0,2.0,2747.0,54.0,0.0,887.0,0.0,0.0,131.0,357.0,17.0,0.0,4.0,0.0,0.0],\"type\":\"choropleth\"}],                        {\"template\":{\"data\":{\"histogram2dcontour\":[{\"type\":\"histogram2dcontour\",\"colorbar\":{\"outlinewidth\":0,\"ticks\":\"\"},\"colorscale\":[[0.0,\"#0d0887\"],[0.1111111111111111,\"#46039f\"],[0.2222222222222222,\"#7201a8\"],[0.3333333333333333,\"#9c179e\"],[0.4444444444444444,\"#bd3786\"],[0.5555555555555556,\"#d8576b\"],[0.6666666666666666,\"#ed7953\"],[0.7777777777777778,\"#fb9f3a\"],[0.8888888888888888,\"#fdca26\"],[1.0,\"#f0f921\"]]}],\"choropleth\":[{\"type\":\"choropleth\",\"colorbar\":{\"outlinewidth\":0,\"ticks\":\"\"}}],\"histogram2d\":[{\"type\":\"histogram2d\",\"colorbar\":{\"outlinewidth\":0,\"ticks\":\"\"},\"colorscale\":[[0.0,\"#0d0887\"],[0.1111111111111111,\"#46039f\"],[0.2222222222222222,\"#7201a8\"],[0.3333333333333333,\"#9c179e\"],[0.4444444444444444,\"#bd3786\"],[0.5555555555555556,\"#d8576b\"],[0.6666666666666666,\"#ed7953\"],[0.7777777777777778,\"#fb9f3a\"],[0.8888888888888888,\"#fdca26\"],[1.0,\"#f0f921\"]]}],\"heatmap\":[{\"type\":\"heatmap\",\"colorbar\":{\"outlinewidth\":0,\"ticks\":\"\"},\"colorscale\":[[0.0,\"#0d0887\"],[0.1111111111111111,\"#46039f\"],[0.2222222222222222,\"#7201a8\"],[0.3333333333333333,\"#9c179e\"],[0.4444444444444444,\"#bd3786\"],[0.5555555555555556,\"#d8576b\"],[0.6666666666666666,\"#ed7953\"],[0.7777777777777778,\"#fb9f3a\"],[0.8888888888888888,\"#fdca26\"],[1.0,\"#f0f921\"]]}],\"heatmapgl\":[{\"type\":\"heatmapgl\",\"colorbar\":{\"outlinewidth\":0,\"ticks\":\"\"},\"colorscale\":[[0.0,\"#0d0887\"],[0.1111111111111111,\"#46039f\"],[0.2222222222222222,\"#7201a8\"],[0.3333333333333333,\"#9c179e\"],[0.4444444444444444,\"#bd3786\"],[0.5555555555555556,\"#d8576b\"],[0.6666666666666666,\"#ed7953\"],[0.7777777777777778,\"#fb9f3a\"],[0.8888888888888888,\"#fdca26\"],[1.0,\"#f0f921\"]]}],\"contourcarpet\":[{\"type\":\"contourcarpet\",\"colorbar\":{\"outlinewidth\":0,\"ticks\":\"\"}}],\"contour\":[{\"type\":\"contour\",\"colorbar\":{\"outlinewidth\":0,\"ticks\":\"\"},\"colorscale\":[[0.0,\"#0d0887\"],[0.1111111111111111,\"#46039f\"],[0.2222222222222222,\"#7201a8\"],[0.3333333333333333,\"#9c179e\"],[0.4444444444444444,\"#bd3786\"],[0.5555555555555556,\"#d8576b\"],[0.6666666666666666,\"#ed7953\"],[0.7777777777777778,\"#fb9f3a\"],[0.8888888888888888,\"#fdca26\"],[1.0,\"#f0f921\"]]}],\"surface\":[{\"type\":\"surface\",\"colorbar\":{\"outlinewidth\":0,\"ticks\":\"\"},\"colorscale\":[[0.0,\"#0d0887\"],[0.1111111111111111,\"#46039f\"],[0.2222222222222222,\"#7201a8\"],[0.3333333333333333,\"#9c179e\"],[0.4444444444444444,\"#bd3786\"],[0.5555555555555556,\"#d8576b\"],[0.6666666666666666,\"#ed7953\"],[0.7777777777777778,\"#fb9f3a\"],[0.8888888888888888,\"#fdca26\"],[1.0,\"#f0f921\"]]}],\"mesh3d\":[{\"type\":\"mesh3d\",\"colorbar\":{\"outlinewidth\":0,\"ticks\":\"\"}}],\"scatter\":[{\"fillpattern\":{\"fillmode\":\"overlay\",\"size\":10,\"solidity\":0.2},\"type\":\"scatter\"}],\"parcoords\":[{\"type\":\"parcoords\",\"line\":{\"colorbar\":{\"outlinewidth\":0,\"ticks\":\"\"}}}],\"scatterpolargl\":[{\"type\":\"scatterpolargl\",\"marker\":{\"colorbar\":{\"outlinewidth\":0,\"ticks\":\"\"}}}],\"bar\":[{\"error_x\":{\"color\":\"#2a3f5f\"},\"error_y\":{\"color\":\"#2a3f5f\"},\"marker\":{\"line\":{\"color\":\"#E5ECF6\",\"width\":0.5},\"pattern\":{\"fillmode\":\"overlay\",\"size\":10,\"solidity\":0.2}},\"type\":\"bar\"}],\"scattergeo\":[{\"type\":\"scattergeo\",\"marker\":{\"colorbar\":{\"outlinewidth\":0,\"ticks\":\"\"}}}],\"scatterpolar\":[{\"type\":\"scatterpolar\",\"marker\":{\"colorbar\":{\"outlinewidth\":0,\"ticks\":\"\"}}}],\"histogram\":[{\"marker\":{\"pattern\":{\"fillmode\":\"overlay\",\"size\":10,\"solidity\":0.2}},\"type\":\"histogram\"}],\"scattergl\":[{\"type\":\"scattergl\",\"marker\":{\"colorbar\":{\"outlinewidth\":0,\"ticks\":\"\"}}}],\"scatter3d\":[{\"type\":\"scatter3d\",\"line\":{\"colorbar\":{\"outlinewidth\":0,\"ticks\":\"\"}},\"marker\":{\"colorbar\":{\"outlinewidth\":0,\"ticks\":\"\"}}}],\"scattermapbox\":[{\"type\":\"scattermapbox\",\"marker\":{\"colorbar\":{\"outlinewidth\":0,\"ticks\":\"\"}}}],\"scatterternary\":[{\"type\":\"scatterternary\",\"marker\":{\"colorbar\":{\"outlinewidth\":0,\"ticks\":\"\"}}}],\"scattercarpet\":[{\"type\":\"scattercarpet\",\"marker\":{\"colorbar\":{\"outlinewidth\":0,\"ticks\":\"\"}}}],\"carpet\":[{\"aaxis\":{\"endlinecolor\":\"#2a3f5f\",\"gridcolor\":\"white\",\"linecolor\":\"white\",\"minorgridcolor\":\"white\",\"startlinecolor\":\"#2a3f5f\"},\"baxis\":{\"endlinecolor\":\"#2a3f5f\",\"gridcolor\":\"white\",\"linecolor\":\"white\",\"minorgridcolor\":\"white\",\"startlinecolor\":\"#2a3f5f\"},\"type\":\"carpet\"}],\"table\":[{\"cells\":{\"fill\":{\"color\":\"#EBF0F8\"},\"line\":{\"color\":\"white\"}},\"header\":{\"fill\":{\"color\":\"#C8D4E3\"},\"line\":{\"color\":\"white\"}},\"type\":\"table\"}],\"barpolar\":[{\"marker\":{\"line\":{\"color\":\"#E5ECF6\",\"width\":0.5},\"pattern\":{\"fillmode\":\"overlay\",\"size\":10,\"solidity\":0.2}},\"type\":\"barpolar\"}],\"pie\":[{\"automargin\":true,\"type\":\"pie\"}]},\"layout\":{\"autotypenumbers\":\"strict\",\"colorway\":[\"#636efa\",\"#EF553B\",\"#00cc96\",\"#ab63fa\",\"#FFA15A\",\"#19d3f3\",\"#FF6692\",\"#B6E880\",\"#FF97FF\",\"#FECB52\"],\"font\":{\"color\":\"#2a3f5f\"},\"hovermode\":\"closest\",\"hoverlabel\":{\"align\":\"left\"},\"paper_bgcolor\":\"white\",\"plot_bgcolor\":\"#E5ECF6\",\"polar\":{\"bgcolor\":\"#E5ECF6\",\"angularaxis\":{\"gridcolor\":\"white\",\"linecolor\":\"white\",\"ticks\":\"\"},\"radialaxis\":{\"gridcolor\":\"white\",\"linecolor\":\"white\",\"ticks\":\"\"}},\"ternary\":{\"bgcolor\":\"#E5ECF6\",\"aaxis\":{\"gridcolor\":\"white\",\"linecolor\":\"white\",\"ticks\":\"\"},\"baxis\":{\"gridcolor\":\"white\",\"linecolor\":\"white\",\"ticks\":\"\"},\"caxis\":{\"gridcolor\":\"white\",\"linecolor\":\"white\",\"ticks\":\"\"}},\"coloraxis\":{\"colorbar\":{\"outlinewidth\":0,\"ticks\":\"\"}},\"colorscale\":{\"sequential\":[[0.0,\"#0d0887\"],[0.1111111111111111,\"#46039f\"],[0.2222222222222222,\"#7201a8\"],[0.3333333333333333,\"#9c179e\"],[0.4444444444444444,\"#bd3786\"],[0.5555555555555556,\"#d8576b\"],[0.6666666666666666,\"#ed7953\"],[0.7777777777777778,\"#fb9f3a\"],[0.8888888888888888,\"#fdca26\"],[1.0,\"#f0f921\"]],\"sequentialminus\":[[0.0,\"#0d0887\"],[0.1111111111111111,\"#46039f\"],[0.2222222222222222,\"#7201a8\"],[0.3333333333333333,\"#9c179e\"],[0.4444444444444444,\"#bd3786\"],[0.5555555555555556,\"#d8576b\"],[0.6666666666666666,\"#ed7953\"],[0.7777777777777778,\"#fb9f3a\"],[0.8888888888888888,\"#fdca26\"],[1.0,\"#f0f921\"]],\"diverging\":[[0,\"#8e0152\"],[0.1,\"#c51b7d\"],[0.2,\"#de77ae\"],[0.3,\"#f1b6da\"],[0.4,\"#fde0ef\"],[0.5,\"#f7f7f7\"],[0.6,\"#e6f5d0\"],[0.7,\"#b8e186\"],[0.8,\"#7fbc41\"],[0.9,\"#4d9221\"],[1,\"#276419\"]]},\"xaxis\":{\"gridcolor\":\"white\",\"linecolor\":\"white\",\"ticks\":\"\",\"title\":{\"standoff\":15},\"zerolinecolor\":\"white\",\"automargin\":true,\"zerolinewidth\":2},\"yaxis\":{\"gridcolor\":\"white\",\"linecolor\":\"white\",\"ticks\":\"\",\"title\":{\"standoff\":15},\"zerolinecolor\":\"white\",\"automargin\":true,\"zerolinewidth\":2},\"scene\":{\"xaxis\":{\"backgroundcolor\":\"#E5ECF6\",\"gridcolor\":\"white\",\"linecolor\":\"white\",\"showbackground\":true,\"ticks\":\"\",\"zerolinecolor\":\"white\",\"gridwidth\":2},\"yaxis\":{\"backgroundcolor\":\"#E5ECF6\",\"gridcolor\":\"white\",\"linecolor\":\"white\",\"showbackground\":true,\"ticks\":\"\",\"zerolinecolor\":\"white\",\"gridwidth\":2},\"zaxis\":{\"backgroundcolor\":\"#E5ECF6\",\"gridcolor\":\"white\",\"linecolor\":\"white\",\"showbackground\":true,\"ticks\":\"\",\"zerolinecolor\":\"white\",\"gridwidth\":2}},\"shapedefaults\":{\"line\":{\"color\":\"#2a3f5f\"}},\"annotationdefaults\":{\"arrowcolor\":\"#2a3f5f\",\"arrowhead\":0,\"arrowwidth\":1},\"geo\":{\"bgcolor\":\"white\",\"landcolor\":\"#E5ECF6\",\"subunitcolor\":\"white\",\"showland\":true,\"showlakes\":true,\"lakecolor\":\"white\"},\"title\":{\"x\":0.05},\"mapbox\":{\"style\":\"light\"}}},\"geo\":{\"domain\":{\"x\":[0.0,1.0],\"y\":[0.0,1.0]},\"center\":{}},\"coloraxis\":{\"colorbar\":{\"title\":{\"text\":\"pages\"}},\"colorscale\":[[0.0,\"rgb(231, 250, 90)\"],[0.09090909090909091,\"rgb(246, 211, 70)\"],[0.18181818181818182,\"rgb(251, 173, 60)\"],[0.2727272727272727,\"rgb(246, 139, 69)\"],[0.36363636363636365,\"rgb(225, 113, 97)\"],[0.45454545454545453,\"rgb(193, 100, 121)\"],[0.5454545454545454,\"rgb(158, 89, 135)\"],[0.6363636363636364,\"rgb(126, 77, 143)\"],[0.7272727272727273,\"rgb(93, 62, 153)\"],[0.8181818181818182,\"rgb(53, 50, 155)\"],[0.9090909090909091,\"rgb(13, 48, 100)\"],[1.0,\"rgb(3, 35, 51)\"]],\"cmid\":255814.5},\"legend\":{\"tracegroupgap\":0},\"margin\":{\"t\":60},\"updatemenus\":[{\"buttons\":[{\"args\":[null,{\"frame\":{\"duration\":500,\"redraw\":true},\"mode\":\"immediate\",\"fromcurrent\":true,\"transition\":{\"duration\":500,\"easing\":\"linear\"}}],\"label\":\"&#9654;\",\"method\":\"animate\"},{\"args\":[[null],{\"frame\":{\"duration\":0,\"redraw\":true},\"mode\":\"immediate\",\"fromcurrent\":true,\"transition\":{\"duration\":0,\"easing\":\"linear\"}}],\"label\":\"&#9724;\",\"method\":\"animate\"}],\"direction\":\"left\",\"pad\":{\"r\":10,\"t\":70},\"showactive\":false,\"type\":\"buttons\",\"x\":0.1,\"xanchor\":\"right\",\"y\":0,\"yanchor\":\"top\"}],\"sliders\":[{\"active\":0,\"currentvalue\":{\"prefix\":\"date=\"},\"len\":0.9,\"pad\":{\"b\":10,\"t\":60},\"steps\":[{\"args\":[[\"2020-01-01\"],{\"frame\":{\"duration\":0,\"redraw\":true},\"mode\":\"immediate\",\"fromcurrent\":true,\"transition\":{\"duration\":0,\"easing\":\"linear\"}}],\"label\":\"2020-01-01\",\"method\":\"animate\"},{\"args\":[[\"2020-01-11\"],{\"frame\":{\"duration\":0,\"redraw\":true},\"mode\":\"immediate\",\"fromcurrent\":true,\"transition\":{\"duration\":0,\"easing\":\"linear\"}}],\"label\":\"2020-01-11\",\"method\":\"animate\"},{\"args\":[[\"2020-01-21\"],{\"frame\":{\"duration\":0,\"redraw\":true},\"mode\":\"immediate\",\"fromcurrent\":true,\"transition\":{\"duration\":0,\"easing\":\"linear\"}}],\"label\":\"2020-01-21\",\"method\":\"animate\"},{\"args\":[[\"2020-01-31\"],{\"frame\":{\"duration\":0,\"redraw\":true},\"mode\":\"immediate\",\"fromcurrent\":true,\"transition\":{\"duration\":0,\"easing\":\"linear\"}}],\"label\":\"2020-01-31\",\"method\":\"animate\"},{\"args\":[[\"2020-02-10\"],{\"frame\":{\"duration\":0,\"redraw\":true},\"mode\":\"immediate\",\"fromcurrent\":true,\"transition\":{\"duration\":0,\"easing\":\"linear\"}}],\"label\":\"2020-02-10\",\"method\":\"animate\"},{\"args\":[[\"2020-02-20\"],{\"frame\":{\"duration\":0,\"redraw\":true},\"mode\":\"immediate\",\"fromcurrent\":true,\"transition\":{\"duration\":0,\"easing\":\"linear\"}}],\"label\":\"2020-02-20\",\"method\":\"animate\"},{\"args\":[[\"2020-03-01\"],{\"frame\":{\"duration\":0,\"redraw\":true},\"mode\":\"immediate\",\"fromcurrent\":true,\"transition\":{\"duration\":0,\"easing\":\"linear\"}}],\"label\":\"2020-03-01\",\"method\":\"animate\"},{\"args\":[[\"2020-03-11\"],{\"frame\":{\"duration\":0,\"redraw\":true},\"mode\":\"immediate\",\"fromcurrent\":true,\"transition\":{\"duration\":0,\"easing\":\"linear\"}}],\"label\":\"2020-03-11\",\"method\":\"animate\"},{\"args\":[[\"2020-03-21\"],{\"frame\":{\"duration\":0,\"redraw\":true},\"mode\":\"immediate\",\"fromcurrent\":true,\"transition\":{\"duration\":0,\"easing\":\"linear\"}}],\"label\":\"2020-03-21\",\"method\":\"animate\"},{\"args\":[[\"2020-03-31\"],{\"frame\":{\"duration\":0,\"redraw\":true},\"mode\":\"immediate\",\"fromcurrent\":true,\"transition\":{\"duration\":0,\"easing\":\"linear\"}}],\"label\":\"2020-03-31\",\"method\":\"animate\"},{\"args\":[[\"2020-04-10\"],{\"frame\":{\"duration\":0,\"redraw\":true},\"mode\":\"immediate\",\"fromcurrent\":true,\"transition\":{\"duration\":0,\"easing\":\"linear\"}}],\"label\":\"2020-04-10\",\"method\":\"animate\"},{\"args\":[[\"2020-04-20\"],{\"frame\":{\"duration\":0,\"redraw\":true},\"mode\":\"immediate\",\"fromcurrent\":true,\"transition\":{\"duration\":0,\"easing\":\"linear\"}}],\"label\":\"2020-04-20\",\"method\":\"animate\"},{\"args\":[[\"2020-04-30\"],{\"frame\":{\"duration\":0,\"redraw\":true},\"mode\":\"immediate\",\"fromcurrent\":true,\"transition\":{\"duration\":0,\"easing\":\"linear\"}}],\"label\":\"2020-04-30\",\"method\":\"animate\"},{\"args\":[[\"2020-05-10\"],{\"frame\":{\"duration\":0,\"redraw\":true},\"mode\":\"immediate\",\"fromcurrent\":true,\"transition\":{\"duration\":0,\"easing\":\"linear\"}}],\"label\":\"2020-05-10\",\"method\":\"animate\"},{\"args\":[[\"2020-05-20\"],{\"frame\":{\"duration\":0,\"redraw\":true},\"mode\":\"immediate\",\"fromcurrent\":true,\"transition\":{\"duration\":0,\"easing\":\"linear\"}}],\"label\":\"2020-05-20\",\"method\":\"animate\"},{\"args\":[[\"2020-05-30\"],{\"frame\":{\"duration\":0,\"redraw\":true},\"mode\":\"immediate\",\"fromcurrent\":true,\"transition\":{\"duration\":0,\"easing\":\"linear\"}}],\"label\":\"2020-05-30\",\"method\":\"animate\"},{\"args\":[[\"2020-06-09\"],{\"frame\":{\"duration\":0,\"redraw\":true},\"mode\":\"immediate\",\"fromcurrent\":true,\"transition\":{\"duration\":0,\"easing\":\"linear\"}}],\"label\":\"2020-06-09\",\"method\":\"animate\"},{\"args\":[[\"2020-06-19\"],{\"frame\":{\"duration\":0,\"redraw\":true},\"mode\":\"immediate\",\"fromcurrent\":true,\"transition\":{\"duration\":0,\"easing\":\"linear\"}}],\"label\":\"2020-06-19\",\"method\":\"animate\"},{\"args\":[[\"2020-06-29\"],{\"frame\":{\"duration\":0,\"redraw\":true},\"mode\":\"immediate\",\"fromcurrent\":true,\"transition\":{\"duration\":0,\"easing\":\"linear\"}}],\"label\":\"2020-06-29\",\"method\":\"animate\"},{\"args\":[[\"2020-07-09\"],{\"frame\":{\"duration\":0,\"redraw\":true},\"mode\":\"immediate\",\"fromcurrent\":true,\"transition\":{\"duration\":0,\"easing\":\"linear\"}}],\"label\":\"2020-07-09\",\"method\":\"animate\"},{\"args\":[[\"2020-07-19\"],{\"frame\":{\"duration\":0,\"redraw\":true},\"mode\":\"immediate\",\"fromcurrent\":true,\"transition\":{\"duration\":0,\"easing\":\"linear\"}}],\"label\":\"2020-07-19\",\"method\":\"animate\"},{\"args\":[[\"2020-07-29\"],{\"frame\":{\"duration\":0,\"redraw\":true},\"mode\":\"immediate\",\"fromcurrent\":true,\"transition\":{\"duration\":0,\"easing\":\"linear\"}}],\"label\":\"2020-07-29\",\"method\":\"animate\"},{\"args\":[[\"2020-08-08\"],{\"frame\":{\"duration\":0,\"redraw\":true},\"mode\":\"immediate\",\"fromcurrent\":true,\"transition\":{\"duration\":0,\"easing\":\"linear\"}}],\"label\":\"2020-08-08\",\"method\":\"animate\"},{\"args\":[[\"2020-08-18\"],{\"frame\":{\"duration\":0,\"redraw\":true},\"mode\":\"immediate\",\"fromcurrent\":true,\"transition\":{\"duration\":0,\"easing\":\"linear\"}}],\"label\":\"2020-08-18\",\"method\":\"animate\"},{\"args\":[[\"2020-08-28\"],{\"frame\":{\"duration\":0,\"redraw\":true},\"mode\":\"immediate\",\"fromcurrent\":true,\"transition\":{\"duration\":0,\"easing\":\"linear\"}}],\"label\":\"2020-08-28\",\"method\":\"animate\"},{\"args\":[[\"2020-09-07\"],{\"frame\":{\"duration\":0,\"redraw\":true},\"mode\":\"immediate\",\"fromcurrent\":true,\"transition\":{\"duration\":0,\"easing\":\"linear\"}}],\"label\":\"2020-09-07\",\"method\":\"animate\"},{\"args\":[[\"2020-09-17\"],{\"frame\":{\"duration\":0,\"redraw\":true},\"mode\":\"immediate\",\"fromcurrent\":true,\"transition\":{\"duration\":0,\"easing\":\"linear\"}}],\"label\":\"2020-09-17\",\"method\":\"animate\"},{\"args\":[[\"2020-09-27\"],{\"frame\":{\"duration\":0,\"redraw\":true},\"mode\":\"immediate\",\"fromcurrent\":true,\"transition\":{\"duration\":0,\"easing\":\"linear\"}}],\"label\":\"2020-09-27\",\"method\":\"animate\"},{\"args\":[[\"2020-10-07\"],{\"frame\":{\"duration\":0,\"redraw\":true},\"mode\":\"immediate\",\"fromcurrent\":true,\"transition\":{\"duration\":0,\"easing\":\"linear\"}}],\"label\":\"2020-10-07\",\"method\":\"animate\"},{\"args\":[[\"2020-10-17\"],{\"frame\":{\"duration\":0,\"redraw\":true},\"mode\":\"immediate\",\"fromcurrent\":true,\"transition\":{\"duration\":0,\"easing\":\"linear\"}}],\"label\":\"2020-10-17\",\"method\":\"animate\"},{\"args\":[[\"2020-10-27\"],{\"frame\":{\"duration\":0,\"redraw\":true},\"mode\":\"immediate\",\"fromcurrent\":true,\"transition\":{\"duration\":0,\"easing\":\"linear\"}}],\"label\":\"2020-10-27\",\"method\":\"animate\"},{\"args\":[[\"2020-11-06\"],{\"frame\":{\"duration\":0,\"redraw\":true},\"mode\":\"immediate\",\"fromcurrent\":true,\"transition\":{\"duration\":0,\"easing\":\"linear\"}}],\"label\":\"2020-11-06\",\"method\":\"animate\"},{\"args\":[[\"2020-11-16\"],{\"frame\":{\"duration\":0,\"redraw\":true},\"mode\":\"immediate\",\"fromcurrent\":true,\"transition\":{\"duration\":0,\"easing\":\"linear\"}}],\"label\":\"2020-11-16\",\"method\":\"animate\"},{\"args\":[[\"2020-11-26\"],{\"frame\":{\"duration\":0,\"redraw\":true},\"mode\":\"immediate\",\"fromcurrent\":true,\"transition\":{\"duration\":0,\"easing\":\"linear\"}}],\"label\":\"2020-11-26\",\"method\":\"animate\"},{\"args\":[[\"2020-12-06\"],{\"frame\":{\"duration\":0,\"redraw\":true},\"mode\":\"immediate\",\"fromcurrent\":true,\"transition\":{\"duration\":0,\"easing\":\"linear\"}}],\"label\":\"2020-12-06\",\"method\":\"animate\"},{\"args\":[[\"2020-12-16\"],{\"frame\":{\"duration\":0,\"redraw\":true},\"mode\":\"immediate\",\"fromcurrent\":true,\"transition\":{\"duration\":0,\"easing\":\"linear\"}}],\"label\":\"2020-12-16\",\"method\":\"animate\"},{\"args\":[[\"2020-12-26\"],{\"frame\":{\"duration\":0,\"redraw\":true},\"mode\":\"immediate\",\"fromcurrent\":true,\"transition\":{\"duration\":0,\"easing\":\"linear\"}}],\"label\":\"2020-12-26\",\"method\":\"animate\"},{\"args\":[[\"2021-01-05\"],{\"frame\":{\"duration\":0,\"redraw\":true},\"mode\":\"immediate\",\"fromcurrent\":true,\"transition\":{\"duration\":0,\"easing\":\"linear\"}}],\"label\":\"2021-01-05\",\"method\":\"animate\"},{\"args\":[[\"2021-01-15\"],{\"frame\":{\"duration\":0,\"redraw\":true},\"mode\":\"immediate\",\"fromcurrent\":true,\"transition\":{\"duration\":0,\"easing\":\"linear\"}}],\"label\":\"2021-01-15\",\"method\":\"animate\"},{\"args\":[[\"2021-01-25\"],{\"frame\":{\"duration\":0,\"redraw\":true},\"mode\":\"immediate\",\"fromcurrent\":true,\"transition\":{\"duration\":0,\"easing\":\"linear\"}}],\"label\":\"2021-01-25\",\"method\":\"animate\"},{\"args\":[[\"2021-02-04\"],{\"frame\":{\"duration\":0,\"redraw\":true},\"mode\":\"immediate\",\"fromcurrent\":true,\"transition\":{\"duration\":0,\"easing\":\"linear\"}}],\"label\":\"2021-02-04\",\"method\":\"animate\"},{\"args\":[[\"2021-02-14\"],{\"frame\":{\"duration\":0,\"redraw\":true},\"mode\":\"immediate\",\"fromcurrent\":true,\"transition\":{\"duration\":0,\"easing\":\"linear\"}}],\"label\":\"2021-02-14\",\"method\":\"animate\"},{\"args\":[[\"2021-02-24\"],{\"frame\":{\"duration\":0,\"redraw\":true},\"mode\":\"immediate\",\"fromcurrent\":true,\"transition\":{\"duration\":0,\"easing\":\"linear\"}}],\"label\":\"2021-02-24\",\"method\":\"animate\"},{\"args\":[[\"2021-03-06\"],{\"frame\":{\"duration\":0,\"redraw\":true},\"mode\":\"immediate\",\"fromcurrent\":true,\"transition\":{\"duration\":0,\"easing\":\"linear\"}}],\"label\":\"2021-03-06\",\"method\":\"animate\"},{\"args\":[[\"2021-03-16\"],{\"frame\":{\"duration\":0,\"redraw\":true},\"mode\":\"immediate\",\"fromcurrent\":true,\"transition\":{\"duration\":0,\"easing\":\"linear\"}}],\"label\":\"2021-03-16\",\"method\":\"animate\"},{\"args\":[[\"2021-03-26\"],{\"frame\":{\"duration\":0,\"redraw\":true},\"mode\":\"immediate\",\"fromcurrent\":true,\"transition\":{\"duration\":0,\"easing\":\"linear\"}}],\"label\":\"2021-03-26\",\"method\":\"animate\"},{\"args\":[[\"2021-04-05\"],{\"frame\":{\"duration\":0,\"redraw\":true},\"mode\":\"immediate\",\"fromcurrent\":true,\"transition\":{\"duration\":0,\"easing\":\"linear\"}}],\"label\":\"2021-04-05\",\"method\":\"animate\"},{\"args\":[[\"2021-04-15\"],{\"frame\":{\"duration\":0,\"redraw\":true},\"mode\":\"immediate\",\"fromcurrent\":true,\"transition\":{\"duration\":0,\"easing\":\"linear\"}}],\"label\":\"2021-04-15\",\"method\":\"animate\"},{\"args\":[[\"2021-04-25\"],{\"frame\":{\"duration\":0,\"redraw\":true},\"mode\":\"immediate\",\"fromcurrent\":true,\"transition\":{\"duration\":0,\"easing\":\"linear\"}}],\"label\":\"2021-04-25\",\"method\":\"animate\"},{\"args\":[[\"2021-05-05\"],{\"frame\":{\"duration\":0,\"redraw\":true},\"mode\":\"immediate\",\"fromcurrent\":true,\"transition\":{\"duration\":0,\"easing\":\"linear\"}}],\"label\":\"2021-05-05\",\"method\":\"animate\"},{\"args\":[[\"2021-05-15\"],{\"frame\":{\"duration\":0,\"redraw\":true},\"mode\":\"immediate\",\"fromcurrent\":true,\"transition\":{\"duration\":0,\"easing\":\"linear\"}}],\"label\":\"2021-05-15\",\"method\":\"animate\"},{\"args\":[[\"2021-05-25\"],{\"frame\":{\"duration\":0,\"redraw\":true},\"mode\":\"immediate\",\"fromcurrent\":true,\"transition\":{\"duration\":0,\"easing\":\"linear\"}}],\"label\":\"2021-05-25\",\"method\":\"animate\"},{\"args\":[[\"2021-06-04\"],{\"frame\":{\"duration\":0,\"redraw\":true},\"mode\":\"immediate\",\"fromcurrent\":true,\"transition\":{\"duration\":0,\"easing\":\"linear\"}}],\"label\":\"2021-06-04\",\"method\":\"animate\"},{\"args\":[[\"2021-06-14\"],{\"frame\":{\"duration\":0,\"redraw\":true},\"mode\":\"immediate\",\"fromcurrent\":true,\"transition\":{\"duration\":0,\"easing\":\"linear\"}}],\"label\":\"2021-06-14\",\"method\":\"animate\"},{\"args\":[[\"2021-06-24\"],{\"frame\":{\"duration\":0,\"redraw\":true},\"mode\":\"immediate\",\"fromcurrent\":true,\"transition\":{\"duration\":0,\"easing\":\"linear\"}}],\"label\":\"2021-06-24\",\"method\":\"animate\"},{\"args\":[[\"2021-07-04\"],{\"frame\":{\"duration\":0,\"redraw\":true},\"mode\":\"immediate\",\"fromcurrent\":true,\"transition\":{\"duration\":0,\"easing\":\"linear\"}}],\"label\":\"2021-07-04\",\"method\":\"animate\"},{\"args\":[[\"2021-07-14\"],{\"frame\":{\"duration\":0,\"redraw\":true},\"mode\":\"immediate\",\"fromcurrent\":true,\"transition\":{\"duration\":0,\"easing\":\"linear\"}}],\"label\":\"2021-07-14\",\"method\":\"animate\"},{\"args\":[[\"2021-07-24\"],{\"frame\":{\"duration\":0,\"redraw\":true},\"mode\":\"immediate\",\"fromcurrent\":true,\"transition\":{\"duration\":0,\"easing\":\"linear\"}}],\"label\":\"2021-07-24\",\"method\":\"animate\"},{\"args\":[[\"2021-08-03\"],{\"frame\":{\"duration\":0,\"redraw\":true},\"mode\":\"immediate\",\"fromcurrent\":true,\"transition\":{\"duration\":0,\"easing\":\"linear\"}}],\"label\":\"2021-08-03\",\"method\":\"animate\"},{\"args\":[[\"2021-08-13\"],{\"frame\":{\"duration\":0,\"redraw\":true},\"mode\":\"immediate\",\"fromcurrent\":true,\"transition\":{\"duration\":0,\"easing\":\"linear\"}}],\"label\":\"2021-08-13\",\"method\":\"animate\"},{\"args\":[[\"2021-08-23\"],{\"frame\":{\"duration\":0,\"redraw\":true},\"mode\":\"immediate\",\"fromcurrent\":true,\"transition\":{\"duration\":0,\"easing\":\"linear\"}}],\"label\":\"2021-08-23\",\"method\":\"animate\"},{\"args\":[[\"2021-09-02\"],{\"frame\":{\"duration\":0,\"redraw\":true},\"mode\":\"immediate\",\"fromcurrent\":true,\"transition\":{\"duration\":0,\"easing\":\"linear\"}}],\"label\":\"2021-09-02\",\"method\":\"animate\"},{\"args\":[[\"2021-09-12\"],{\"frame\":{\"duration\":0,\"redraw\":true},\"mode\":\"immediate\",\"fromcurrent\":true,\"transition\":{\"duration\":0,\"easing\":\"linear\"}}],\"label\":\"2021-09-12\",\"method\":\"animate\"},{\"args\":[[\"2021-09-22\"],{\"frame\":{\"duration\":0,\"redraw\":true},\"mode\":\"immediate\",\"fromcurrent\":true,\"transition\":{\"duration\":0,\"easing\":\"linear\"}}],\"label\":\"2021-09-22\",\"method\":\"animate\"},{\"args\":[[\"2021-10-02\"],{\"frame\":{\"duration\":0,\"redraw\":true},\"mode\":\"immediate\",\"fromcurrent\":true,\"transition\":{\"duration\":0,\"easing\":\"linear\"}}],\"label\":\"2021-10-02\",\"method\":\"animate\"},{\"args\":[[\"2021-10-12\"],{\"frame\":{\"duration\":0,\"redraw\":true},\"mode\":\"immediate\",\"fromcurrent\":true,\"transition\":{\"duration\":0,\"easing\":\"linear\"}}],\"label\":\"2021-10-12\",\"method\":\"animate\"},{\"args\":[[\"2021-10-22\"],{\"frame\":{\"duration\":0,\"redraw\":true},\"mode\":\"immediate\",\"fromcurrent\":true,\"transition\":{\"duration\":0,\"easing\":\"linear\"}}],\"label\":\"2021-10-22\",\"method\":\"animate\"},{\"args\":[[\"2021-11-01\"],{\"frame\":{\"duration\":0,\"redraw\":true},\"mode\":\"immediate\",\"fromcurrent\":true,\"transition\":{\"duration\":0,\"easing\":\"linear\"}}],\"label\":\"2021-11-01\",\"method\":\"animate\"},{\"args\":[[\"2021-11-11\"],{\"frame\":{\"duration\":0,\"redraw\":true},\"mode\":\"immediate\",\"fromcurrent\":true,\"transition\":{\"duration\":0,\"easing\":\"linear\"}}],\"label\":\"2021-11-11\",\"method\":\"animate\"},{\"args\":[[\"2021-11-21\"],{\"frame\":{\"duration\":0,\"redraw\":true},\"mode\":\"immediate\",\"fromcurrent\":true,\"transition\":{\"duration\":0,\"easing\":\"linear\"}}],\"label\":\"2021-11-21\",\"method\":\"animate\"},{\"args\":[[\"2021-12-01\"],{\"frame\":{\"duration\":0,\"redraw\":true},\"mode\":\"immediate\",\"fromcurrent\":true,\"transition\":{\"duration\":0,\"easing\":\"linear\"}}],\"label\":\"2021-12-01\",\"method\":\"animate\"},{\"args\":[[\"2021-12-11\"],{\"frame\":{\"duration\":0,\"redraw\":true},\"mode\":\"immediate\",\"fromcurrent\":true,\"transition\":{\"duration\":0,\"easing\":\"linear\"}}],\"label\":\"2021-12-11\",\"method\":\"animate\"},{\"args\":[[\"2021-12-21\"],{\"frame\":{\"duration\":0,\"redraw\":true},\"mode\":\"immediate\",\"fromcurrent\":true,\"transition\":{\"duration\":0,\"easing\":\"linear\"}}],\"label\":\"2021-12-21\",\"method\":\"animate\"},{\"args\":[[\"2021-12-31\"],{\"frame\":{\"duration\":0,\"redraw\":true},\"mode\":\"immediate\",\"fromcurrent\":true,\"transition\":{\"duration\":0,\"easing\":\"linear\"}}],\"label\":\"2021-12-31\",\"method\":\"animate\"}],\"x\":0.1,\"xanchor\":\"left\",\"y\":0,\"yanchor\":\"top\"}],\"title\":{\"font\":{\"size\":18,\"color\":\"red\"},\"text\":\"Number of pageviews\",\"x\":0.5,\"y\":1},\"transition\":{\"duration\":10}},                        {\"responsive\": true}                    ).then(function(){\n",
       "                            Plotly.addFrames('f4bf070d-e918-4a91-8b88-e34ec1a85313', [{\"data\":[{\"coloraxis\":\"coloraxis\",\"geo\":\"geo\",\"hovertemplate\":\"date=2020-01-01<br>Country_code=%{location}<br>pages=%{z}<extra></extra>\",\"locations\":[\"ITA\",\"CHN\",\"ALB\",\"BGD\",\"BWA\",\"KHM\",\"HRV\",\"GRC\",\"SWE\",\"FIN\",\"NOR\",\"MYS\",\"ISR\",\"LTU\",\"SRB\",\"SVK\",\"SVN\",\"BGR\",\"CZE\",\"DNK\",\"GEO\",\"DEU\",\"HUN\",\"ISL\",\"JPN\",\"KAZ\",\"KGZ\",\"NLD\",\"POL\",\"ROU\",\"TJK\",\"THA\",\"AZE\",\"MNG\"],\"name\":\"\",\"z\":[252.0,4821.0,0.0,0.0,0.0,0.0,10.0,14.0,56.0,60.0,13.0,10.0,58.0,4.0,7.0,0.0,6.0,0.0,51.0,15.0,2.0,2747.0,54.0,0.0,887.0,0.0,0.0,131.0,357.0,17.0,0.0,4.0,0.0,0.0],\"type\":\"choropleth\"}],\"name\":\"2020-01-01\"},{\"data\":[{\"coloraxis\":\"coloraxis\",\"geo\":\"geo\",\"hovertemplate\":\"date=2020-01-11<br>Country_code=%{location}<br>pages=%{z}<extra></extra>\",\"locations\":[\"ITA\",\"CHN\",\"ALB\",\"BGD\",\"BWA\",\"KHM\",\"HRV\",\"GRC\",\"SWE\",\"FIN\",\"NOR\",\"MYS\",\"ISR\",\"LTU\",\"SRB\",\"SVK\",\"SVN\",\"BGR\",\"CZE\",\"DNK\",\"GEO\",\"DEU\",\"HUN\",\"ISL\",\"JPN\",\"KAZ\",\"KGZ\",\"NLD\",\"POL\",\"ROU\",\"TJK\",\"THA\",\"AZE\",\"MNG\"],\"name\":\"\",\"z\":[3094.0,3813.0,2.0,0.0,0.0,0.0,25.0,19.0,237.0,366.0,38.0,29.0,257.0,4.0,31.0,0.0,17.0,0.0,140.0,37.0,2.0,2064.0,137.0,0.0,2356.0,0.0,0.0,886.0,376.0,61.0,0.0,11.0,2.0,0.0],\"type\":\"choropleth\"}],\"name\":\"2020-01-11\"},{\"data\":[{\"coloraxis\":\"coloraxis\",\"geo\":\"geo\",\"hovertemplate\":\"date=2020-01-21<br>Country_code=%{location}<br>pages=%{z}<extra></extra>\",\"locations\":[\"ITA\",\"CHN\",\"ALB\",\"BGD\",\"BWA\",\"KHM\",\"HRV\",\"GRC\",\"SWE\",\"FIN\",\"NOR\",\"MYS\",\"ISR\",\"LTU\",\"SRB\",\"SVK\",\"SVN\",\"BGR\",\"CZE\",\"DNK\",\"GEO\",\"DEU\",\"HUN\",\"ISL\",\"JPN\",\"KAZ\",\"KGZ\",\"NLD\",\"POL\",\"ROU\",\"TJK\",\"THA\",\"AZE\",\"MNG\"],\"name\":\"\",\"z\":[29010.0,68941.0,2.0,0.0,0.0,0.0,363.0,124.0,5863.0,2089.0,1389.0,242.0,1582.0,161.0,189.0,0.0,175.0,0.0,1804.0,591.0,4.0,24740.0,1308.0,1.0,23299.0,0.0,0.0,4084.0,8534.0,460.0,0.0,1073.0,2.0,0.0],\"type\":\"choropleth\"}],\"name\":\"2020-01-21\"},{\"data\":[{\"coloraxis\":\"coloraxis\",\"geo\":\"geo\",\"hovertemplate\":\"date=2020-01-31<br>Country_code=%{location}<br>pages=%{z}<extra></extra>\",\"locations\":[\"ITA\",\"CHN\",\"ALB\",\"BGD\",\"BWA\",\"KHM\",\"HRV\",\"GRC\",\"SWE\",\"FIN\",\"NOR\",\"MYS\",\"ISR\",\"LTU\",\"SRB\",\"SVK\",\"SVN\",\"BGR\",\"CZE\",\"DNK\",\"GEO\",\"DEU\",\"HUN\",\"ISL\",\"JPN\",\"KAZ\",\"KGZ\",\"NLD\",\"POL\",\"ROU\",\"TJK\",\"THA\",\"AZE\",\"MNG\"],\"name\":\"\",\"z\":[90986.0,82271.0,1.0,112.0,0.0,0.0,1077.0,1370.0,7058.0,8734.0,745.0,1494.0,5792.0,512.0,151.0,325.0,285.0,0.0,15283.0,2634.0,244.0,82855.0,4573.0,31.0,85217.0,1049.0,0.0,9397.0,36218.0,2379.0,0.0,3120.0,71.0,0.0],\"type\":\"choropleth\"}],\"name\":\"2020-01-31\"},{\"data\":[{\"coloraxis\":\"coloraxis\",\"geo\":\"geo\",\"hovertemplate\":\"date=2020-02-10<br>Country_code=%{location}<br>pages=%{z}<extra></extra>\",\"locations\":[\"ITA\",\"CHN\",\"ALB\",\"BGD\",\"BWA\",\"KHM\",\"HRV\",\"GRC\",\"SWE\",\"FIN\",\"NOR\",\"MYS\",\"ISR\",\"LTU\",\"SRB\",\"SVK\",\"SVN\",\"BGR\",\"CZE\",\"DNK\",\"GEO\",\"DEU\",\"HUN\",\"ISL\",\"JPN\",\"KAZ\",\"KGZ\",\"NLD\",\"POL\",\"ROU\",\"TJK\",\"THA\",\"AZE\",\"MNG\"],\"name\":\"\",\"z\":[9809.0,95071.0,0.0,76.0,0.0,0.0,198.0,382.0,788.0,2445.0,114.0,1472.0,6075.0,397.0,150.0,136.0,133.0,185.0,5676.0,352.0,36.0,44907.0,990.0,19.0,21354.0,642.0,0.25,2482.0,9620.0,1237.0,0.0,605.0,30.0,0.0],\"type\":\"choropleth\"}],\"name\":\"2020-02-10\"},{\"data\":[{\"coloraxis\":\"coloraxis\",\"geo\":\"geo\",\"hovertemplate\":\"date=2020-02-20<br>Country_code=%{location}<br>pages=%{z}<extra></extra>\",\"locations\":[\"ITA\",\"CHN\",\"ALB\",\"BGD\",\"BWA\",\"KHM\",\"HRV\",\"GRC\",\"SWE\",\"FIN\",\"NOR\",\"MYS\",\"ISR\",\"LTU\",\"SRB\",\"SVK\",\"SVN\",\"BGR\",\"CZE\",\"DNK\",\"GEO\",\"DEU\",\"HUN\",\"ISL\",\"JPN\",\"KAZ\",\"KGZ\",\"NLD\",\"POL\",\"ROU\",\"TJK\",\"THA\",\"AZE\",\"MNG\"],\"name\":\"\",\"z\":[5915.0,91836.0,3.0,55.0,0.0,0.0,78.0,378.0,271.0,733.0,242.0,778.0,2365.0,84.0,71.0,134.0,120.0,87.0,3133.0,247.0,34.0,23702.0,407.0,10.0,38298.0,561.0,5.055555555555555,1604.0,5201.0,484.0,0.0,1743.0,53.0,54.0],\"type\":\"choropleth\"}],\"name\":\"2020-02-20\"},{\"data\":[{\"coloraxis\":\"coloraxis\",\"geo\":\"geo\",\"hovertemplate\":\"date=2020-03-01<br>Country_code=%{location}<br>pages=%{z}<extra></extra>\",\"locations\":[\"ITA\",\"CHN\",\"ALB\",\"BGD\",\"BWA\",\"KHM\",\"HRV\",\"GRC\",\"SWE\",\"FIN\",\"NOR\",\"MYS\",\"ISR\",\"LTU\",\"SRB\",\"SVK\",\"SVN\",\"BGR\",\"CZE\",\"DNK\",\"GEO\",\"DEU\",\"HUN\",\"ISL\",\"JPN\",\"KAZ\",\"KGZ\",\"NLD\",\"POL\",\"ROU\",\"TJK\",\"THA\",\"AZE\",\"MNG\"],\"name\":\"\",\"z\":[32825.0,111374.0,6.0,56.0,0.0,0.0,335.0,1089.0,1761.0,5233.0,2166.0,1165.0,3365.0,753.0,136.0,2862.0,421.0,635.0,29001.0,1017.0,223.0,183240.0,2003.0,97.0,83142.0,131.0,12.277777777777777,18843.0,27497.0,2190.0,0.0,2032.0,150.0,25.0],\"type\":\"choropleth\"}],\"name\":\"2020-03-01\"},{\"data\":[{\"coloraxis\":\"coloraxis\",\"geo\":\"geo\",\"hovertemplate\":\"date=2020-03-11<br>Country_code=%{location}<br>pages=%{z}<extra></extra>\",\"locations\":[\"ITA\",\"CHN\",\"ALB\",\"BGD\",\"BWA\",\"KHM\",\"HRV\",\"GRC\",\"SWE\",\"FIN\",\"NOR\",\"MYS\",\"ISR\",\"LTU\",\"SRB\",\"SVK\",\"SVN\",\"BGR\",\"CZE\",\"DNK\",\"GEO\",\"DEU\",\"HUN\",\"ISL\",\"JPN\",\"KAZ\",\"KGZ\",\"NLD\",\"POL\",\"ROU\",\"TJK\",\"THA\",\"AZE\",\"MNG\"],\"name\":\"\",\"z\":[151686.0,134639.0,3.0,21.0,0.0,0.0,2644.0,8334.0,3500.0,15255.0,6711.0,3595.0,17588.0,2213.0,1650.0,6126.0,2435.0,4190.0,116163.0,6167.0,755.0,440044.0,7538.0,140.0,121842.0,753.0,19.5,36564.0,149371.0,20735.0,0.0,2624.0,115.0,35.0],\"type\":\"choropleth\"}],\"name\":\"2020-03-11\"},{\"data\":[{\"coloraxis\":\"coloraxis\",\"geo\":\"geo\",\"hovertemplate\":\"date=2020-03-21<br>Country_code=%{location}<br>pages=%{z}<extra></extra>\",\"locations\":[\"ITA\",\"CHN\",\"ALB\",\"BGD\",\"BWA\",\"KHM\",\"HRV\",\"GRC\",\"SWE\",\"FIN\",\"NOR\",\"MYS\",\"ISR\",\"LTU\",\"SRB\",\"SVK\",\"SVN\",\"BGR\",\"CZE\",\"DNK\",\"GEO\",\"DEU\",\"HUN\",\"ISL\",\"JPN\",\"KAZ\",\"KGZ\",\"NLD\",\"POL\",\"ROU\",\"TJK\",\"THA\",\"AZE\",\"MNG\"],\"name\":\"\",\"z\":[194089.0,294471.0,335.0,4672.0,0.0,46.0,6877.0,21414.0,2770.0,13086.0,2906.0,13714.0,36309.0,3589.0,2263.0,6742.0,1268.0,6081.0,78586.0,3737.0,767.0,511629.0,5319.0,134.0,89092.0,257.0,36.0,60914.0,88506.0,50354.0,0.0,2427.0,1197.0,24.0],\"type\":\"choropleth\"}],\"name\":\"2020-03-21\"},{\"data\":[{\"coloraxis\":\"coloraxis\",\"geo\":\"geo\",\"hovertemplate\":\"date=2020-03-31<br>Country_code=%{location}<br>pages=%{z}<extra></extra>\",\"locations\":[\"ITA\",\"CHN\",\"ALB\",\"BGD\",\"BWA\",\"KHM\",\"HRV\",\"GRC\",\"SWE\",\"FIN\",\"NOR\",\"MYS\",\"ISR\",\"LTU\",\"SRB\",\"SVK\",\"SVN\",\"BGR\",\"CZE\",\"DNK\",\"GEO\",\"DEU\",\"HUN\",\"ISL\",\"JPN\",\"KAZ\",\"KGZ\",\"NLD\",\"POL\",\"ROU\",\"TJK\",\"THA\",\"AZE\",\"MNG\"],\"name\":\"\",\"z\":[146705.0,235335.0,390.0,4805.0,0.0,16.0,3385.0,15002.0,9277.0,9428.0,2957.0,7075.0,31732.0,3059.0,1558.0,4853.0,1141.0,3433.0,47222.0,1840.0,618.0,367501.0,19286.0,84.0,132485.0,739.0,27.0,50889.0,61713.0,39132.0,34.0,3377.0,1494.0,27.0],\"type\":\"choropleth\"}],\"name\":\"2020-03-31\"},{\"data\":[{\"coloraxis\":\"coloraxis\",\"geo\":\"geo\",\"hovertemplate\":\"date=2020-04-10<br>Country_code=%{location}<br>pages=%{z}<extra></extra>\",\"locations\":[\"ITA\",\"CHN\",\"ALB\",\"BGD\",\"BWA\",\"KHM\",\"HRV\",\"GRC\",\"SWE\",\"FIN\",\"NOR\",\"MYS\",\"ISR\",\"LTU\",\"SRB\",\"SVK\",\"SVN\",\"BGR\",\"CZE\",\"DNK\",\"GEO\",\"DEU\",\"HUN\",\"ISL\",\"JPN\",\"KAZ\",\"KGZ\",\"NLD\",\"POL\",\"ROU\",\"TJK\",\"THA\",\"AZE\",\"MNG\"],\"name\":\"\",\"z\":[97080.0,150894.0,282.0,7740.0,0.0,6.0,1979.0,10349.0,4943.0,4465.0,2042.0,5464.0,20358.0,1797.0,1355.0,2357.0,582.0,3738.0,20047.0,1278.0,326.0,218386.0,12000.0,56.0,142756.0,329.0,8.0,27280.0,31745.0,13638.0,43.0,2654.0,690.0,20.0],\"type\":\"choropleth\"}],\"name\":\"2020-04-10\"},{\"data\":[{\"coloraxis\":\"coloraxis\",\"geo\":\"geo\",\"hovertemplate\":\"date=2020-04-20<br>Country_code=%{location}<br>pages=%{z}<extra></extra>\",\"locations\":[\"ITA\",\"CHN\",\"ALB\",\"BGD\",\"BWA\",\"KHM\",\"HRV\",\"GRC\",\"SWE\",\"FIN\",\"NOR\",\"MYS\",\"ISR\",\"LTU\",\"SRB\",\"SVK\",\"SVN\",\"BGR\",\"CZE\",\"DNK\",\"GEO\",\"DEU\",\"HUN\",\"ISL\",\"JPN\",\"KAZ\",\"KGZ\",\"NLD\",\"POL\",\"ROU\",\"TJK\",\"THA\",\"AZE\",\"MNG\"],\"name\":\"\",\"z\":[85334.0,120561.0,362.0,9370.0,41.0,4.0,1861.0,9007.0,4082.0,3471.0,2005.0,4845.0,13255.0,1107.0,1175.0,1412.0,672.0,3063.0,13189.0,1092.0,304.0,220524.0,8394.0,61.0,115669.0,312.0,3.0,21573.0,28466.0,10601.0,8.0,1270.0,553.0,22.0],\"type\":\"choropleth\"}],\"name\":\"2020-04-20\"},{\"data\":[{\"coloraxis\":\"coloraxis\",\"geo\":\"geo\",\"hovertemplate\":\"date=2020-04-30<br>Country_code=%{location}<br>pages=%{z}<extra></extra>\",\"locations\":[\"ITA\",\"CHN\",\"ALB\",\"BGD\",\"BWA\",\"KHM\",\"HRV\",\"GRC\",\"SWE\",\"FIN\",\"NOR\",\"MYS\",\"ISR\",\"LTU\",\"SRB\",\"SVK\",\"SVN\",\"BGR\",\"CZE\",\"DNK\",\"GEO\",\"DEU\",\"HUN\",\"ISL\",\"JPN\",\"KAZ\",\"KGZ\",\"NLD\",\"POL\",\"ROU\",\"TJK\",\"THA\",\"AZE\",\"MNG\"],\"name\":\"\",\"z\":[58067.0,74150.0,393.0,7905.0,14.0,14.0,1083.0,4862.0,3210.0,2458.0,1206.0,3343.0,11408.0,668.0,817.0,1217.0,405.0,2105.0,8018.0,883.0,290.0,160123.0,5592.0,51.0,91237.0,210.0,2.0,16158.0,18023.0,6858.0,32.0,1884.0,468.0,13.0],\"type\":\"choropleth\"}],\"name\":\"2020-04-30\"},{\"data\":[{\"coloraxis\":\"coloraxis\",\"geo\":\"geo\",\"hovertemplate\":\"date=2020-05-10<br>Country_code=%{location}<br>pages=%{z}<extra></extra>\",\"locations\":[\"ITA\",\"CHN\",\"ALB\",\"BGD\",\"BWA\",\"KHM\",\"HRV\",\"GRC\",\"SWE\",\"FIN\",\"NOR\",\"MYS\",\"ISR\",\"LTU\",\"SRB\",\"SVK\",\"SVN\",\"BGR\",\"CZE\",\"DNK\",\"GEO\",\"DEU\",\"HUN\",\"ISL\",\"JPN\",\"KAZ\",\"KGZ\",\"NLD\",\"POL\",\"ROU\",\"TJK\",\"THA\",\"AZE\",\"MNG\"],\"name\":\"\",\"z\":[48865.0,59927.0,439.0,4224.0,21.0,55.0,883.0,3549.0,3101.0,2215.0,819.0,2699.0,9629.0,504.0,611.0,840.0,340.0,2750.0,6013.0,782.0,175.0,136324.0,4926.0,75.0,75064.0,109.0,20.0,13809.0,18595.0,4259.0,48.0,1641.0,473.0,10.0],\"type\":\"choropleth\"}],\"name\":\"2020-05-10\"},{\"data\":[{\"coloraxis\":\"coloraxis\",\"geo\":\"geo\",\"hovertemplate\":\"date=2020-05-20<br>Country_code=%{location}<br>pages=%{z}<extra></extra>\",\"locations\":[\"ITA\",\"CHN\",\"ALB\",\"BGD\",\"BWA\",\"KHM\",\"HRV\",\"GRC\",\"SWE\",\"FIN\",\"NOR\",\"MYS\",\"ISR\",\"LTU\",\"SRB\",\"SVK\",\"SVN\",\"BGR\",\"CZE\",\"DNK\",\"GEO\",\"DEU\",\"HUN\",\"ISL\",\"JPN\",\"KAZ\",\"KGZ\",\"NLD\",\"POL\",\"ROU\",\"TJK\",\"THA\",\"AZE\",\"MNG\"],\"name\":\"\",\"z\":[42388.0,49143.0,398.0,3703.0,45.0,13.0,858.0,2999.0,2523.0,1887.0,964.0,2975.0,7713.0,383.0,565.0,964.0,345.0,2077.0,5503.0,620.0,205.0,105499.0,4606.0,84.0,58050.0,168.0,49.0,9526.0,15385.0,3978.0,60.0,1978.0,404.0,14.0],\"type\":\"choropleth\"}],\"name\":\"2020-05-20\"},{\"data\":[{\"coloraxis\":\"coloraxis\",\"geo\":\"geo\",\"hovertemplate\":\"date=2020-05-30<br>Country_code=%{location}<br>pages=%{z}<extra></extra>\",\"locations\":[\"ITA\",\"CHN\",\"ALB\",\"BGD\",\"BWA\",\"KHM\",\"HRV\",\"GRC\",\"SWE\",\"FIN\",\"NOR\",\"MYS\",\"ISR\",\"LTU\",\"SRB\",\"SVK\",\"SVN\",\"BGR\",\"CZE\",\"DNK\",\"GEO\",\"DEU\",\"HUN\",\"ISL\",\"JPN\",\"KAZ\",\"KGZ\",\"NLD\",\"POL\",\"ROU\",\"TJK\",\"THA\",\"AZE\",\"MNG\"],\"name\":\"\",\"z\":[27913.0,36431.0,164.0,3561.0,7.0,9.0,399.0,2169.0,2076.0,1105.0,362.0,1659.0,7534.0,217.0,250.0,460.0,157.0,1086.0,2876.0,323.0,88.0,65642.0,3309.0,20.0,45369.0,67.0,19.0,5936.0,10718.0,2534.0,18.0,1069.0,218.0,2.0],\"type\":\"choropleth\"}],\"name\":\"2020-05-30\"},{\"data\":[{\"coloraxis\":\"coloraxis\",\"geo\":\"geo\",\"hovertemplate\":\"date=2020-06-09<br>Country_code=%{location}<br>pages=%{z}<extra></extra>\",\"locations\":[\"ITA\",\"CHN\",\"ALB\",\"BGD\",\"BWA\",\"KHM\",\"HRV\",\"GRC\",\"SWE\",\"FIN\",\"NOR\",\"MYS\",\"ISR\",\"LTU\",\"SRB\",\"SVK\",\"SVN\",\"BGR\",\"CZE\",\"DNK\",\"GEO\",\"DEU\",\"HUN\",\"ISL\",\"JPN\",\"KAZ\",\"KGZ\",\"NLD\",\"POL\",\"ROU\",\"TJK\",\"THA\",\"AZE\",\"MNG\"],\"name\":\"\",\"z\":[23459.0,36555.0,227.0,3589.0,66.0,11.0,461.0,3139.0,1909.0,1096.0,506.0,2624.0,5939.0,268.0,260.0,730.0,205.0,2039.0,3260.0,407.0,140.0,82833.0,2988.0,32.0,37557.0,87.0,28.0,7703.0,12576.0,816.0,13.0,1256.0,274.0,9.0],\"type\":\"choropleth\"}],\"name\":\"2020-06-09\"},{\"data\":[{\"coloraxis\":\"coloraxis\",\"geo\":\"geo\",\"hovertemplate\":\"date=2020-06-19<br>Country_code=%{location}<br>pages=%{z}<extra></extra>\",\"locations\":[\"ITA\",\"CHN\",\"ALB\",\"BGD\",\"BWA\",\"KHM\",\"HRV\",\"GRC\",\"SWE\",\"FIN\",\"NOR\",\"MYS\",\"ISR\",\"LTU\",\"SRB\",\"SVK\",\"SVN\",\"BGR\",\"CZE\",\"DNK\",\"GEO\",\"DEU\",\"HUN\",\"ISL\",\"JPN\",\"KAZ\",\"KGZ\",\"NLD\",\"POL\",\"ROU\",\"TJK\",\"THA\",\"AZE\",\"MNG\"],\"name\":\"\",\"z\":[18720.0,32324.0,184.0,3290.0,13.0,9.0,375.0,1450.0,1541.0,803.0,331.0,2210.0,4471.0,123.0,268.0,438.0,245.0,1429.0,2991.0,329.0,104.0,66143.0,2159.0,32.0,35965.0,55.0,13.0,6309.0,8716.0,589.0,7.0,1087.0,359.0,4.0],\"type\":\"choropleth\"}],\"name\":\"2020-06-19\"},{\"data\":[{\"coloraxis\":\"coloraxis\",\"geo\":\"geo\",\"hovertemplate\":\"date=2020-06-29<br>Country_code=%{location}<br>pages=%{z}<extra></extra>\",\"locations\":[\"ITA\",\"CHN\",\"ALB\",\"BGD\",\"BWA\",\"KHM\",\"HRV\",\"GRC\",\"SWE\",\"FIN\",\"NOR\",\"MYS\",\"ISR\",\"LTU\",\"SRB\",\"SVK\",\"SVN\",\"BGR\",\"CZE\",\"DNK\",\"GEO\",\"DEU\",\"HUN\",\"ISL\",\"JPN\",\"KAZ\",\"KGZ\",\"NLD\",\"POL\",\"ROU\",\"TJK\",\"THA\",\"AZE\",\"MNG\"],\"name\":\"\",\"z\":[16538.0,31835.0,160.0,2468.0,76.0,10.0,406.0,1236.0,1420.0,913.0,357.0,3846.0,4873.0,144.0,522.0,391.0,351.0,1210.0,4618.0,263.0,70.0,73047.0,2349.0,26.0,29972.0,68.0,16.0,6132.0,8261.0,543.0,7.0,1138.0,430.0,5.0],\"type\":\"choropleth\"}],\"name\":\"2020-06-29\"},{\"data\":[{\"coloraxis\":\"coloraxis\",\"geo\":\"geo\",\"hovertemplate\":\"date=2020-07-09<br>Country_code=%{location}<br>pages=%{z}<extra></extra>\",\"locations\":[\"ITA\",\"CHN\",\"ALB\",\"BGD\",\"BWA\",\"KHM\",\"HRV\",\"GRC\",\"SWE\",\"FIN\",\"NOR\",\"MYS\",\"ISR\",\"LTU\",\"SRB\",\"SVK\",\"SVN\",\"BGR\",\"CZE\",\"DNK\",\"GEO\",\"DEU\",\"HUN\",\"ISL\",\"JPN\",\"KAZ\",\"KGZ\",\"NLD\",\"POL\",\"ROU\",\"TJK\",\"THA\",\"AZE\",\"MNG\"],\"name\":\"\",\"z\":[14931.0,32629.0,206.0,2514.0,82.0,13.0,468.0,1478.0,1432.0,846.0,274.0,2928.0,6625.0,182.0,473.0,454.0,231.0,1671.0,3243.0,194.0,90.0,64357.0,2810.0,24.0,30758.0,91.0,13.0,5217.0,7431.0,693.0,7.0,1953.0,260.0,6.0],\"type\":\"choropleth\"}],\"name\":\"2020-07-09\"},{\"data\":[{\"coloraxis\":\"coloraxis\",\"geo\":\"geo\",\"hovertemplate\":\"date=2020-07-19<br>Country_code=%{location}<br>pages=%{z}<extra></extra>\",\"locations\":[\"ITA\",\"CHN\",\"ALB\",\"BGD\",\"BWA\",\"KHM\",\"HRV\",\"GRC\",\"SWE\",\"FIN\",\"NOR\",\"MYS\",\"ISR\",\"LTU\",\"SRB\",\"SVK\",\"SVN\",\"BGR\",\"CZE\",\"DNK\",\"GEO\",\"DEU\",\"HUN\",\"ISL\",\"JPN\",\"KAZ\",\"KGZ\",\"NLD\",\"POL\",\"ROU\",\"TJK\",\"THA\",\"AZE\",\"MNG\"],\"name\":\"\",\"z\":[14556.0,34893.0,245.0,1163.0,68.0,18.0,430.0,1270.0,1320.0,1114.0,339.0,5309.0,6833.0,126.0,515.0,324.0,243.0,730.0,3467.0,299.0,106.0,49726.0,2812.0,54.0,31169.0,57.0,28.0,6279.0,6074.0,789.0,8.0,1765.0,259.0,9.0],\"type\":\"choropleth\"}],\"name\":\"2020-07-19\"},{\"data\":[{\"coloraxis\":\"coloraxis\",\"geo\":\"geo\",\"hovertemplate\":\"date=2020-07-29<br>Country_code=%{location}<br>pages=%{z}<extra></extra>\",\"locations\":[\"ITA\",\"CHN\",\"ALB\",\"BGD\",\"BWA\",\"KHM\",\"HRV\",\"GRC\",\"SWE\",\"FIN\",\"NOR\",\"MYS\",\"ISR\",\"LTU\",\"SRB\",\"SVK\",\"SVN\",\"BGR\",\"CZE\",\"DNK\",\"GEO\",\"DEU\",\"HUN\",\"ISL\",\"JPN\",\"KAZ\",\"KGZ\",\"NLD\",\"POL\",\"ROU\",\"TJK\",\"THA\",\"AZE\",\"MNG\"],\"name\":\"\",\"z\":[14785.0,32960.0,164.0,824.0,11.0,22.0,343.0,1769.0,1634.0,1211.0,326.0,1920.0,2851.0,196.0,381.0,300.0,155.0,692.0,3649.0,239.0,75.0,57683.0,2240.0,29.0,29600.0,83.0,17.0,6038.0,7634.0,773.0,7.0,2196.0,193.0,9.0],\"type\":\"choropleth\"}],\"name\":\"2020-07-29\"},{\"data\":[{\"coloraxis\":\"coloraxis\",\"geo\":\"geo\",\"hovertemplate\":\"date=2020-08-08<br>Country_code=%{location}<br>pages=%{z}<extra></extra>\",\"locations\":[\"ITA\",\"CHN\",\"ALB\",\"BGD\",\"BWA\",\"KHM\",\"HRV\",\"GRC\",\"SWE\",\"FIN\",\"NOR\",\"MYS\",\"ISR\",\"LTU\",\"SRB\",\"SVK\",\"SVN\",\"BGR\",\"CZE\",\"DNK\",\"GEO\",\"DEU\",\"HUN\",\"ISL\",\"JPN\",\"KAZ\",\"KGZ\",\"NLD\",\"POL\",\"ROU\",\"TJK\",\"THA\",\"AZE\",\"MNG\"],\"name\":\"\",\"z\":[11280.0,25605.0,117.0,959.0,25.0,11.0,236.0,2221.0,914.0,1062.0,299.0,2211.0,2031.0,152.0,213.0,215.0,94.0,482.0,2215.0,239.0,34.0,38551.0,2421.0,19.0,24424.0,28.0,5.0,3697.0,7943.0,445.0,4.0,1141.0,158.0,2.0],\"type\":\"choropleth\"}],\"name\":\"2020-08-08\"},{\"data\":[{\"coloraxis\":\"coloraxis\",\"geo\":\"geo\",\"hovertemplate\":\"date=2020-08-18<br>Country_code=%{location}<br>pages=%{z}<extra></extra>\",\"locations\":[\"ITA\",\"CHN\",\"ALB\",\"BGD\",\"BWA\",\"KHM\",\"HRV\",\"GRC\",\"SWE\",\"FIN\",\"NOR\",\"MYS\",\"ISR\",\"LTU\",\"SRB\",\"SVK\",\"SVN\",\"BGR\",\"CZE\",\"DNK\",\"GEO\",\"DEU\",\"HUN\",\"ISL\",\"JPN\",\"KAZ\",\"KGZ\",\"NLD\",\"POL\",\"ROU\",\"TJK\",\"THA\",\"AZE\",\"MNG\"],\"name\":\"\",\"z\":[15006.0,24764.0,99.0,971.0,59.0,7.0,376.0,2637.0,1131.0,1419.0,443.0,1977.0,2084.0,154.0,216.0,359.0,203.0,596.0,3608.0,322.0,31.0,54684.0,2598.0,18.0,22855.0,39.0,7.0,4466.0,7524.0,381.0,5.0,1404.0,105.0,2.0],\"type\":\"choropleth\"}],\"name\":\"2020-08-18\"},{\"data\":[{\"coloraxis\":\"coloraxis\",\"geo\":\"geo\",\"hovertemplate\":\"date=2020-08-28<br>Country_code=%{location}<br>pages=%{z}<extra></extra>\",\"locations\":[\"ITA\",\"CHN\",\"ALB\",\"BGD\",\"BWA\",\"KHM\",\"HRV\",\"GRC\",\"SWE\",\"FIN\",\"NOR\",\"MYS\",\"ISR\",\"LTU\",\"SRB\",\"SVK\",\"SVN\",\"BGR\",\"CZE\",\"DNK\",\"GEO\",\"DEU\",\"HUN\",\"ISL\",\"JPN\",\"KAZ\",\"KGZ\",\"NLD\",\"POL\",\"ROU\",\"TJK\",\"THA\",\"AZE\",\"MNG\"],\"name\":\"\",\"z\":[15984.0,23971.0,111.0,1021.0,97.0,6.0,420.0,1782.0,1068.0,1057.0,475.0,1284.0,1869.0,153.0,167.0,362.0,150.0,469.0,3050.0,277.0,78.0,43658.0,4619.0,16.0,16032.0,54.0,9.0,4208.0,6261.0,355.0,9.0,1336.0,109.0,5.0],\"type\":\"choropleth\"}],\"name\":\"2020-08-28\"},{\"data\":[{\"coloraxis\":\"coloraxis\",\"geo\":\"geo\",\"hovertemplate\":\"date=2020-09-07<br>Country_code=%{location}<br>pages=%{z}<extra></extra>\",\"locations\":[\"ITA\",\"CHN\",\"ALB\",\"BGD\",\"BWA\",\"KHM\",\"HRV\",\"GRC\",\"SWE\",\"FIN\",\"NOR\",\"MYS\",\"ISR\",\"LTU\",\"SRB\",\"SVK\",\"SVN\",\"BGR\",\"CZE\",\"DNK\",\"GEO\",\"DEU\",\"HUN\",\"ISL\",\"JPN\",\"KAZ\",\"KGZ\",\"NLD\",\"POL\",\"ROU\",\"TJK\",\"THA\",\"AZE\",\"MNG\"],\"name\":\"\",\"z\":[14715.0,23416.0,113.0,951.0,320.0,8.0,384.0,1431.0,1458.0,1234.0,510.0,1530.0,2600.0,153.0,246.0,520.0,291.0,382.0,4122.0,291.0,64.0,43502.0,4731.0,14.0,12800.0,248.0,26.0,4628.0,6976.0,381.0,1.0,1012.0,82.0,16.0],\"type\":\"choropleth\"}],\"name\":\"2020-09-07\"},{\"data\":[{\"coloraxis\":\"coloraxis\",\"geo\":\"geo\",\"hovertemplate\":\"date=2020-09-17<br>Country_code=%{location}<br>pages=%{z}<extra></extra>\",\"locations\":[\"ITA\",\"CHN\",\"ALB\",\"BGD\",\"BWA\",\"KHM\",\"HRV\",\"GRC\",\"SWE\",\"FIN\",\"NOR\",\"MYS\",\"ISR\",\"LTU\",\"SRB\",\"SVK\",\"SVN\",\"BGR\",\"CZE\",\"DNK\",\"GEO\",\"DEU\",\"HUN\",\"ISL\",\"JPN\",\"KAZ\",\"KGZ\",\"NLD\",\"POL\",\"ROU\",\"TJK\",\"THA\",\"AZE\",\"MNG\"],\"name\":\"\",\"z\":[13308.0,22904.0,310.0,750.0,315.0,3.0,334.0,1951.0,1030.0,959.0,370.0,1403.0,3011.0,182.0,245.0,557.0,283.0,521.0,6023.0,373.0,159.0,44720.0,4078.0,25.0,11555.0,251.0,23.0,4190.0,5547.0,452.0,7.0,1493.0,186.0,2.0],\"type\":\"choropleth\"}],\"name\":\"2020-09-17\"},{\"data\":[{\"coloraxis\":\"coloraxis\",\"geo\":\"geo\",\"hovertemplate\":\"date=2020-09-27<br>Country_code=%{location}<br>pages=%{z}<extra></extra>\",\"locations\":[\"ITA\",\"CHN\",\"ALB\",\"BGD\",\"BWA\",\"KHM\",\"HRV\",\"GRC\",\"SWE\",\"FIN\",\"NOR\",\"MYS\",\"ISR\",\"LTU\",\"SRB\",\"SVK\",\"SVN\",\"BGR\",\"CZE\",\"DNK\",\"GEO\",\"DEU\",\"HUN\",\"ISL\",\"JPN\",\"KAZ\",\"KGZ\",\"NLD\",\"POL\",\"ROU\",\"TJK\",\"THA\",\"AZE\",\"MNG\"],\"name\":\"\",\"z\":[14189.0,20685.0,283.0,796.0,222.0,6.0,257.0,1526.0,984.0,1269.0,276.0,1810.0,2973.0,144.0,124.0,704.0,206.0,442.0,3170.0,309.0,121.0,35399.0,2849.0,27.0,12138.0,98.0,17.0,4192.0,6545.0,306.0,6.0,867.0,55.0,8.0],\"type\":\"choropleth\"}],\"name\":\"2020-09-27\"},{\"data\":[{\"coloraxis\":\"coloraxis\",\"geo\":\"geo\",\"hovertemplate\":\"date=2020-10-07<br>Country_code=%{location}<br>pages=%{z}<extra></extra>\",\"locations\":[\"ITA\",\"CHN\",\"ALB\",\"BGD\",\"BWA\",\"KHM\",\"HRV\",\"GRC\",\"SWE\",\"FIN\",\"NOR\",\"MYS\",\"ISR\",\"LTU\",\"SRB\",\"SVK\",\"SVN\",\"BGR\",\"CZE\",\"DNK\",\"GEO\",\"DEU\",\"HUN\",\"ISL\",\"JPN\",\"KAZ\",\"KGZ\",\"NLD\",\"POL\",\"ROU\",\"TJK\",\"THA\",\"AZE\",\"MNG\"],\"name\":\"\",\"z\":[19392.0,20824.0,259.0,845.0,225.0,11.0,398.0,1238.0,1191.0,1967.0,421.0,2904.0,3130.0,238.0,89.0,770.0,404.0,668.0,5840.0,376.0,156.0,46462.0,3149.0,97.0,11814.0,116.0,30.0,6148.0,12459.0,753.0,16.0,1190.0,117.0,16.0],\"type\":\"choropleth\"}],\"name\":\"2020-10-07\"},{\"data\":[{\"coloraxis\":\"coloraxis\",\"geo\":\"geo\",\"hovertemplate\":\"date=2020-10-17<br>Country_code=%{location}<br>pages=%{z}<extra></extra>\",\"locations\":[\"ITA\",\"CHN\",\"ALB\",\"BGD\",\"BWA\",\"KHM\",\"HRV\",\"GRC\",\"SWE\",\"FIN\",\"NOR\",\"MYS\",\"ISR\",\"LTU\",\"SRB\",\"SVK\",\"SVN\",\"BGR\",\"CZE\",\"DNK\",\"GEO\",\"DEU\",\"HUN\",\"ISL\",\"JPN\",\"KAZ\",\"KGZ\",\"NLD\",\"POL\",\"ROU\",\"TJK\",\"THA\",\"AZE\",\"MNG\"],\"name\":\"\",\"z\":[19301.0,21823.0,134.0,781.0,65.0,5.0,3236.0,1348.0,993.0,1823.0,431.0,3245.0,3375.0,160.0,80.0,1652.0,805.0,839.0,11258.0,308.0,84.0,57264.0,3434.0,19.0,11045.0,64.0,18.0,7443.0,16456.0,729.0,8.0,1671.0,159.0,3.0],\"type\":\"choropleth\"}],\"name\":\"2020-10-17\"},{\"data\":[{\"coloraxis\":\"coloraxis\",\"geo\":\"geo\",\"hovertemplate\":\"date=2020-10-27<br>Country_code=%{location}<br>pages=%{z}<extra></extra>\",\"locations\":[\"ITA\",\"CHN\",\"ALB\",\"BGD\",\"BWA\",\"KHM\",\"HRV\",\"GRC\",\"SWE\",\"FIN\",\"NOR\",\"MYS\",\"ISR\",\"LTU\",\"SRB\",\"SVK\",\"SVN\",\"BGR\",\"CZE\",\"DNK\",\"GEO\",\"DEU\",\"HUN\",\"ISL\",\"JPN\",\"KAZ\",\"KGZ\",\"NLD\",\"POL\",\"ROU\",\"TJK\",\"THA\",\"AZE\",\"MNG\"],\"name\":\"\",\"z\":[27511.0,22919.0,328.0,939.0,23.0,7.0,945.0,2214.0,1706.0,1725.0,679.0,2369.0,2803.0,380.0,109.0,2680.0,1413.0,2155.0,7614.0,1057.0,151.0,71706.0,4083.0,29.0,10940.0,125.0,38.0,7520.0,15143.0,757.0,8.0,3062.0,125.0,11.0],\"type\":\"choropleth\"}],\"name\":\"2020-10-27\"},{\"data\":[{\"coloraxis\":\"coloraxis\",\"geo\":\"geo\",\"hovertemplate\":\"date=2020-11-06<br>Country_code=%{location}<br>pages=%{z}<extra></extra>\",\"locations\":[\"ITA\",\"CHN\",\"ALB\",\"BGD\",\"BWA\",\"KHM\",\"HRV\",\"GRC\",\"SWE\",\"FIN\",\"NOR\",\"MYS\",\"ISR\",\"LTU\",\"SRB\",\"SVK\",\"SVN\",\"BGR\",\"CZE\",\"DNK\",\"GEO\",\"DEU\",\"HUN\",\"ISL\",\"JPN\",\"KAZ\",\"KGZ\",\"NLD\",\"POL\",\"ROU\",\"TJK\",\"THA\",\"AZE\",\"MNG\"],\"name\":\"\",\"z\":[21512.0,19036.0,265.0,1071.0,53.0,10.0,520.0,3170.0,2264.0,959.0,592.0,1751.0,1117.0,338.0,130.0,666.0,361.0,1073.0,4102.0,599.0,161.0,45812.0,4307.0,5.0,13060.0,139.0,17.0,3922.0,14042.0,779.0,3.0,720.0,178.0,14.0],\"type\":\"choropleth\"}],\"name\":\"2020-11-06\"},{\"data\":[{\"coloraxis\":\"coloraxis\",\"geo\":\"geo\",\"hovertemplate\":\"date=2020-11-16<br>Country_code=%{location}<br>pages=%{z}<extra></extra>\",\"locations\":[\"ITA\",\"CHN\",\"ALB\",\"BGD\",\"BWA\",\"KHM\",\"HRV\",\"GRC\",\"SWE\",\"FIN\",\"NOR\",\"MYS\",\"ISR\",\"LTU\",\"SRB\",\"SVK\",\"SVN\",\"BGR\",\"CZE\",\"DNK\",\"GEO\",\"DEU\",\"HUN\",\"ISL\",\"JPN\",\"KAZ\",\"KGZ\",\"NLD\",\"POL\",\"ROU\",\"TJK\",\"THA\",\"AZE\",\"MNG\"],\"name\":\"\",\"z\":[21533.0,22734.0,367.0,969.0,72.0,11.0,505.0,2783.0,2993.0,1447.0,516.0,2006.0,1287.0,293.0,262.0,846.0,413.0,987.0,3653.0,539.0,183.0,64505.0,5047.0,23.0,13447.0,261.0,89.0,5065.0,11348.0,766.0,18.0,747.0,186.0,22.0],\"type\":\"choropleth\"}],\"name\":\"2020-11-16\"},{\"data\":[{\"coloraxis\":\"coloraxis\",\"geo\":\"geo\",\"hovertemplate\":\"date=2020-11-26<br>Country_code=%{location}<br>pages=%{z}<extra></extra>\",\"locations\":[\"ITA\",\"CHN\",\"ALB\",\"BGD\",\"BWA\",\"KHM\",\"HRV\",\"GRC\",\"SWE\",\"FIN\",\"NOR\",\"MYS\",\"ISR\",\"LTU\",\"SRB\",\"SVK\",\"SVN\",\"BGR\",\"CZE\",\"DNK\",\"GEO\",\"DEU\",\"HUN\",\"ISL\",\"JPN\",\"KAZ\",\"KGZ\",\"NLD\",\"POL\",\"ROU\",\"TJK\",\"THA\",\"AZE\",\"MNG\"],\"name\":\"\",\"z\":[12798.0,20230.0,362.0,1329.0,26.0,12.0,708.0,1839.0,1912.0,1935.0,493.0,1864.0,751.0,291.0,220.0,657.0,280.0,602.0,2915.0,400.0,212.0,45541.0,3503.0,202.0,14741.0,278.0,111.0,4011.0,8004.0,645.0,18.0,711.0,314.0,16.0],\"type\":\"choropleth\"}],\"name\":\"2020-11-26\"},{\"data\":[{\"coloraxis\":\"coloraxis\",\"geo\":\"geo\",\"hovertemplate\":\"date=2020-12-06<br>Country_code=%{location}<br>pages=%{z}<extra></extra>\",\"locations\":[\"ITA\",\"CHN\",\"ALB\",\"BGD\",\"BWA\",\"KHM\",\"HRV\",\"GRC\",\"SWE\",\"FIN\",\"NOR\",\"MYS\",\"ISR\",\"LTU\",\"SRB\",\"SVK\",\"SVN\",\"BGR\",\"CZE\",\"DNK\",\"GEO\",\"DEU\",\"HUN\",\"ISL\",\"JPN\",\"KAZ\",\"KGZ\",\"NLD\",\"POL\",\"ROU\",\"TJK\",\"THA\",\"AZE\",\"MNG\"],\"name\":\"\",\"z\":[12505.0,21284.0,598.0,906.0,6.0,26.0,625.0,2670.0,1661.0,1595.0,323.0,1894.0,904.0,388.0,204.0,851.0,512.0,353.0,2550.0,406.0,440.0,43294.0,3885.0,18.0,15822.0,127.0,59.0,4107.0,5785.0,968.0,10.0,914.0,383.0,17.0],\"type\":\"choropleth\"}],\"name\":\"2020-12-06\"},{\"data\":[{\"coloraxis\":\"coloraxis\",\"geo\":\"geo\",\"hovertemplate\":\"date=2020-12-16<br>Country_code=%{location}<br>pages=%{z}<extra></extra>\",\"locations\":[\"ITA\",\"CHN\",\"ALB\",\"BGD\",\"BWA\",\"KHM\",\"HRV\",\"GRC\",\"SWE\",\"FIN\",\"NOR\",\"MYS\",\"ISR\",\"LTU\",\"SRB\",\"SVK\",\"SVN\",\"BGR\",\"CZE\",\"DNK\",\"GEO\",\"DEU\",\"HUN\",\"ISL\",\"JPN\",\"KAZ\",\"KGZ\",\"NLD\",\"POL\",\"ROU\",\"TJK\",\"THA\",\"AZE\",\"MNG\"],\"name\":\"\",\"z\":[13109.0,21789.0,506.0,642.0,13.0,19.0,658.0,2032.0,2287.0,1486.0,301.0,1849.0,1189.0,681.0,172.0,1479.0,474.0,363.0,3440.0,623.0,585.0,56179.0,3524.0,20.0,20427.0,62.0,84.0,6938.0,6805.0,667.0,18.0,1245.0,407.0,23.0],\"type\":\"choropleth\"}],\"name\":\"2020-12-16\"},{\"data\":[{\"coloraxis\":\"coloraxis\",\"geo\":\"geo\",\"hovertemplate\":\"date=2020-12-26<br>Country_code=%{location}<br>pages=%{z}<extra></extra>\",\"locations\":[\"ITA\",\"CHN\",\"ALB\",\"BGD\",\"BWA\",\"KHM\",\"HRV\",\"GRC\",\"SWE\",\"FIN\",\"NOR\",\"MYS\",\"ISR\",\"LTU\",\"SRB\",\"SVK\",\"SVN\",\"BGR\",\"CZE\",\"DNK\",\"GEO\",\"DEU\",\"HUN\",\"ISL\",\"JPN\",\"KAZ\",\"KGZ\",\"NLD\",\"POL\",\"ROU\",\"TJK\",\"THA\",\"AZE\",\"MNG\"],\"name\":\"\",\"z\":[13658.0,25813.0,205.0,627.0,11.0,14.0,518.0,2323.0,2064.0,1456.0,411.0,1367.0,1193.0,502.0,134.0,1515.0,365.0,273.0,3275.0,507.0,345.0,38288.0,3908.0,15.0,16766.0,54.0,13.0,5299.0,6248.0,609.0,14.0,1675.0,315.0,22.0],\"type\":\"choropleth\"}],\"name\":\"2020-12-26\"},{\"data\":[{\"coloraxis\":\"coloraxis\",\"geo\":\"geo\",\"hovertemplate\":\"date=2021-01-05<br>Country_code=%{location}<br>pages=%{z}<extra></extra>\",\"locations\":[\"ITA\",\"CHN\",\"ALB\",\"BGD\",\"BWA\",\"KHM\",\"HRV\",\"GRC\",\"SWE\",\"FIN\",\"NOR\",\"MYS\",\"ISR\",\"LTU\",\"SRB\",\"SVK\",\"SVN\",\"BGR\",\"CZE\",\"DNK\",\"GEO\",\"DEU\",\"HUN\",\"ISL\",\"JPN\",\"KAZ\",\"KGZ\",\"NLD\",\"POL\",\"ROU\",\"TJK\",\"THA\",\"AZE\",\"MNG\"],\"name\":\"\",\"z\":[11069.0,24990.0,196.0,541.0,5.0,8.0,416.0,2186.0,1270.0,1348.0,427.0,1886.0,1616.0,442.0,116.0,1113.0,512.0,226.0,4320.0,754.0,300.0,56755.0,5014.0,24.0,21263.0,80.0,19.0,8128.0,6856.0,664.0,5.0,2776.0,288.0,13.0],\"type\":\"choropleth\"}],\"name\":\"2021-01-05\"},{\"data\":[{\"coloraxis\":\"coloraxis\",\"geo\":\"geo\",\"hovertemplate\":\"date=2021-01-15<br>Country_code=%{location}<br>pages=%{z}<extra></extra>\",\"locations\":[\"ITA\",\"CHN\",\"ALB\",\"BGD\",\"BWA\",\"KHM\",\"HRV\",\"GRC\",\"SWE\",\"FIN\",\"NOR\",\"MYS\",\"ISR\",\"LTU\",\"SRB\",\"SVK\",\"SVN\",\"BGR\",\"CZE\",\"DNK\",\"GEO\",\"DEU\",\"HUN\",\"ISL\",\"JPN\",\"KAZ\",\"KGZ\",\"NLD\",\"POL\",\"ROU\",\"TJK\",\"THA\",\"AZE\",\"MNG\"],\"name\":\"\",\"z\":[6501.0,23312.0,211.0,502.0,6.0,13.0,279.0,969.0,697.0,1000.0,283.0,2905.0,990.0,438.0,90.0,680.0,377.0,173.0,2916.0,248.0,241.0,53481.0,3790.0,13.0,16872.0,102.0,80.0,5721.0,5919.0,711.0,10.0,757.0,224.0,17.0],\"type\":\"choropleth\"}],\"name\":\"2021-01-15\"},{\"data\":[{\"coloraxis\":\"coloraxis\",\"geo\":\"geo\",\"hovertemplate\":\"date=2021-01-25<br>Country_code=%{location}<br>pages=%{z}<extra></extra>\",\"locations\":[\"ITA\",\"CHN\",\"ALB\",\"BGD\",\"BWA\",\"KHM\",\"HRV\",\"GRC\",\"SWE\",\"FIN\",\"NOR\",\"MYS\",\"ISR\",\"LTU\",\"SRB\",\"SVK\",\"SVN\",\"BGR\",\"CZE\",\"DNK\",\"GEO\",\"DEU\",\"HUN\",\"ISL\",\"JPN\",\"KAZ\",\"KGZ\",\"NLD\",\"POL\",\"ROU\",\"TJK\",\"THA\",\"AZE\",\"MNG\"],\"name\":\"\",\"z\":[6560.0,30231.0,243.0,615.0,7.0,11.0,456.0,746.0,591.0,1050.0,507.0,4697.0,1310.0,317.0,142.0,831.0,442.0,243.0,2718.0,174.0,223.0,56135.0,3364.0,7.0,13569.0,243.0,117.0,5602.0,6508.0,706.0,18.0,776.0,240.0,18.0],\"type\":\"choropleth\"}],\"name\":\"2021-01-25\"},{\"data\":[{\"coloraxis\":\"coloraxis\",\"geo\":\"geo\",\"hovertemplate\":\"date=2021-02-04<br>Country_code=%{location}<br>pages=%{z}<extra></extra>\",\"locations\":[\"ITA\",\"CHN\",\"ALB\",\"BGD\",\"BWA\",\"KHM\",\"HRV\",\"GRC\",\"SWE\",\"FIN\",\"NOR\",\"MYS\",\"ISR\",\"LTU\",\"SRB\",\"SVK\",\"SVN\",\"BGR\",\"CZE\",\"DNK\",\"GEO\",\"DEU\",\"HUN\",\"ISL\",\"JPN\",\"KAZ\",\"KGZ\",\"NLD\",\"POL\",\"ROU\",\"TJK\",\"THA\",\"AZE\",\"MNG\"],\"name\":\"\",\"z\":[4669.0,20972.0,396.0,539.0,37.0,22.0,305.0,754.0,562.0,1064.0,290.0,2363.0,1231.0,262.0,89.0,668.0,296.0,182.0,2560.0,182.0,237.0,40811.0,1708.0,15.0,10809.0,164.0,63.0,5073.0,5317.0,347.0,11.0,523.0,207.0,13.0],\"type\":\"choropleth\"}],\"name\":\"2021-02-04\"},{\"data\":[{\"coloraxis\":\"coloraxis\",\"geo\":\"geo\",\"hovertemplate\":\"date=2021-02-14<br>Country_code=%{location}<br>pages=%{z}<extra></extra>\",\"locations\":[\"ITA\",\"CHN\",\"ALB\",\"BGD\",\"BWA\",\"KHM\",\"HRV\",\"GRC\",\"SWE\",\"FIN\",\"NOR\",\"MYS\",\"ISR\",\"LTU\",\"SRB\",\"SVK\",\"SVN\",\"BGR\",\"CZE\",\"DNK\",\"GEO\",\"DEU\",\"HUN\",\"ISL\",\"JPN\",\"KAZ\",\"KGZ\",\"NLD\",\"POL\",\"ROU\",\"TJK\",\"THA\",\"AZE\",\"MNG\"],\"name\":\"\",\"z\":[5049.0,15250.0,242.0,540.0,49.0,4.0,403.0,787.0,439.0,922.0,224.0,2972.0,1298.0,162.0,151.0,590.0,223.0,161.0,2522.0,177.0,355.0,34277.0,773.0,60.0,8616.0,102.0,54.0,3456.0,4004.0,426.0,11.0,347.0,151.0,40.0],\"type\":\"choropleth\"}],\"name\":\"2021-02-14\"},{\"data\":[{\"coloraxis\":\"coloraxis\",\"geo\":\"geo\",\"hovertemplate\":\"date=2021-02-24<br>Country_code=%{location}<br>pages=%{z}<extra></extra>\",\"locations\":[\"ITA\",\"CHN\",\"ALB\",\"BGD\",\"BWA\",\"KHM\",\"HRV\",\"GRC\",\"SWE\",\"FIN\",\"NOR\",\"MYS\",\"ISR\",\"LTU\",\"SRB\",\"SVK\",\"SVN\",\"BGR\",\"CZE\",\"DNK\",\"GEO\",\"DEU\",\"HUN\",\"ISL\",\"JPN\",\"KAZ\",\"KGZ\",\"NLD\",\"POL\",\"ROU\",\"TJK\",\"THA\",\"AZE\",\"MNG\"],\"name\":\"\",\"z\":[5578.0,18905.0,413.0,335.0,179.0,13.0,327.0,904.0,640.0,1374.0,181.0,1926.0,1008.0,269.0,383.0,681.0,210.0,174.0,4777.0,236.0,232.0,38932.0,813.0,22.0,8077.0,276.0,46.0,4097.0,6264.0,482.0,8.0,333.0,133.0,875.0],\"type\":\"choropleth\"}],\"name\":\"2021-02-24\"},{\"data\":[{\"coloraxis\":\"coloraxis\",\"geo\":\"geo\",\"hovertemplate\":\"date=2021-03-06<br>Country_code=%{location}<br>pages=%{z}<extra></extra>\",\"locations\":[\"ITA\",\"CHN\",\"ALB\",\"BGD\",\"BWA\",\"KHM\",\"HRV\",\"GRC\",\"SWE\",\"FIN\",\"NOR\",\"MYS\",\"ISR\",\"LTU\",\"SRB\",\"SVK\",\"SVN\",\"BGR\",\"CZE\",\"DNK\",\"GEO\",\"DEU\",\"HUN\",\"ISL\",\"JPN\",\"KAZ\",\"KGZ\",\"NLD\",\"POL\",\"ROU\",\"TJK\",\"THA\",\"AZE\",\"MNG\"],\"name\":\"\",\"z\":[5756.0,15694.0,292.0,201.0,134.0,11.0,314.0,935.0,472.0,1499.0,137.0,1066.0,699.0,174.0,168.0,514.0,192.0,231.0,3331.0,136.0,120.0,30126.0,870.0,15.0,6745.0,69.0,19.0,3574.0,4405.0,344.0,6.0,314.0,133.0,26.0],\"type\":\"choropleth\"}],\"name\":\"2021-03-06\"},{\"data\":[{\"coloraxis\":\"coloraxis\",\"geo\":\"geo\",\"hovertemplate\":\"date=2021-03-16<br>Country_code=%{location}<br>pages=%{z}<extra></extra>\",\"locations\":[\"ITA\",\"CHN\",\"ALB\",\"BGD\",\"BWA\",\"KHM\",\"HRV\",\"GRC\",\"SWE\",\"FIN\",\"NOR\",\"MYS\",\"ISR\",\"LTU\",\"SRB\",\"SVK\",\"SVN\",\"BGR\",\"CZE\",\"DNK\",\"GEO\",\"DEU\",\"HUN\",\"ISL\",\"JPN\",\"KAZ\",\"KGZ\",\"NLD\",\"POL\",\"ROU\",\"TJK\",\"THA\",\"AZE\",\"MNG\"],\"name\":\"\",\"z\":[7091.0,17171.0,609.0,260.0,265.0,25.0,504.0,1576.0,572.0,1432.0,208.0,1825.0,679.0,387.0,210.0,504.0,252.0,356.0,3346.0,193.0,284.0,45698.0,1225.0,27.0,7092.0,235.0,371.0,4656.0,6534.0,695.0,8.0,356.0,141.0,17.0],\"type\":\"choropleth\"}],\"name\":\"2021-03-16\"},{\"data\":[{\"coloraxis\":\"coloraxis\",\"geo\":\"geo\",\"hovertemplate\":\"date=2021-03-26<br>Country_code=%{location}<br>pages=%{z}<extra></extra>\",\"locations\":[\"ITA\",\"CHN\",\"ALB\",\"BGD\",\"BWA\",\"KHM\",\"HRV\",\"GRC\",\"SWE\",\"FIN\",\"NOR\",\"MYS\",\"ISR\",\"LTU\",\"SRB\",\"SVK\",\"SVN\",\"BGR\",\"CZE\",\"DNK\",\"GEO\",\"DEU\",\"HUN\",\"ISL\",\"JPN\",\"KAZ\",\"KGZ\",\"NLD\",\"POL\",\"ROU\",\"TJK\",\"THA\",\"AZE\",\"MNG\"],\"name\":\"\",\"z\":[5568.0,15275.0,312.0,191.0,79.0,7.0,410.0,958.0,514.0,1179.0,191.0,1170.0,410.0,267.0,169.0,320.0,208.0,273.0,2284.0,111.0,215.0,38427.0,1014.0,14.0,5708.0,132.0,318.0,3112.0,7531.0,527.0,5.0,218.0,337.0,19.0],\"type\":\"choropleth\"}],\"name\":\"2021-03-26\"},{\"data\":[{\"coloraxis\":\"coloraxis\",\"geo\":\"geo\",\"hovertemplate\":\"date=2021-04-05<br>Country_code=%{location}<br>pages=%{z}<extra></extra>\",\"locations\":[\"ITA\",\"CHN\",\"ALB\",\"BGD\",\"BWA\",\"KHM\",\"HRV\",\"GRC\",\"SWE\",\"FIN\",\"NOR\",\"MYS\",\"ISR\",\"LTU\",\"SRB\",\"SVK\",\"SVN\",\"BGR\",\"CZE\",\"DNK\",\"GEO\",\"DEU\",\"HUN\",\"ISL\",\"JPN\",\"KAZ\",\"KGZ\",\"NLD\",\"POL\",\"ROU\",\"TJK\",\"THA\",\"AZE\",\"MNG\"],\"name\":\"\",\"z\":[4790.0,14813.0,260.0,142.0,200.0,8.0,293.0,1316.0,384.0,929.0,107.0,1825.0,448.0,245.0,127.0,264.0,271.0,209.0,2047.0,84.0,322.0,36695.0,910.0,23.0,6287.0,257.0,858.0,3191.0,9852.0,534.0,6.0,257.0,237.0,27.0],\"type\":\"choropleth\"}],\"name\":\"2021-04-05\"},{\"data\":[{\"coloraxis\":\"coloraxis\",\"geo\":\"geo\",\"hovertemplate\":\"date=2021-04-15<br>Country_code=%{location}<br>pages=%{z}<extra></extra>\",\"locations\":[\"ITA\",\"CHN\",\"ALB\",\"BGD\",\"BWA\",\"KHM\",\"HRV\",\"GRC\",\"SWE\",\"FIN\",\"NOR\",\"MYS\",\"ISR\",\"LTU\",\"SRB\",\"SVK\",\"SVN\",\"BGR\",\"CZE\",\"DNK\",\"GEO\",\"DEU\",\"HUN\",\"ISL\",\"JPN\",\"KAZ\",\"KGZ\",\"NLD\",\"POL\",\"ROU\",\"TJK\",\"THA\",\"AZE\",\"MNG\"],\"name\":\"\",\"z\":[5017.0,16891.0,335.0,224.0,141.0,12.0,362.0,1173.0,573.0,954.0,144.0,1458.0,342.0,251.0,130.0,301.0,191.0,202.0,1981.0,134.0,255.0,40097.0,951.0,10.0,9374.0,231.0,335.0,3374.0,5857.0,447.0,9.0,457.0,231.0,50.0],\"type\":\"choropleth\"}],\"name\":\"2021-04-15\"},{\"data\":[{\"coloraxis\":\"coloraxis\",\"geo\":\"geo\",\"hovertemplate\":\"date=2021-04-25<br>Country_code=%{location}<br>pages=%{z}<extra></extra>\",\"locations\":[\"ITA\",\"CHN\",\"ALB\",\"BGD\",\"BWA\",\"KHM\",\"HRV\",\"GRC\",\"SWE\",\"FIN\",\"NOR\",\"MYS\",\"ISR\",\"LTU\",\"SRB\",\"SVK\",\"SVN\",\"BGR\",\"CZE\",\"DNK\",\"GEO\",\"DEU\",\"HUN\",\"ISL\",\"JPN\",\"KAZ\",\"KGZ\",\"NLD\",\"POL\",\"ROU\",\"TJK\",\"THA\",\"AZE\",\"MNG\"],\"name\":\"\",\"z\":[4240.0,22875.0,310.0,251.0,13.0,18.0,271.0,1218.0,427.0,998.0,77.0,1544.0,545.0,296.0,77.0,264.0,131.0,91.0,1568.0,112.0,187.0,33536.0,763.0,103.0,10224.0,205.0,192.0,3250.0,6121.0,368.0,7.0,560.0,150.0,20.0],\"type\":\"choropleth\"}],\"name\":\"2021-04-25\"},{\"data\":[{\"coloraxis\":\"coloraxis\",\"geo\":\"geo\",\"hovertemplate\":\"date=2021-05-05<br>Country_code=%{location}<br>pages=%{z}<extra></extra>\",\"locations\":[\"ITA\",\"CHN\",\"ALB\",\"BGD\",\"BWA\",\"KHM\",\"HRV\",\"GRC\",\"SWE\",\"FIN\",\"NOR\",\"MYS\",\"ISR\",\"LTU\",\"SRB\",\"SVK\",\"SVN\",\"BGR\",\"CZE\",\"DNK\",\"GEO\",\"DEU\",\"HUN\",\"ISL\",\"JPN\",\"KAZ\",\"KGZ\",\"NLD\",\"POL\",\"ROU\",\"TJK\",\"THA\",\"AZE\",\"MNG\"],\"name\":\"\",\"z\":[4069.0,22304.0,274.0,245.0,62.0,19.0,265.0,1647.0,585.0,947.0,184.0,1865.0,372.0,237.0,72.0,206.0,144.0,139.0,1661.0,154.0,229.0,34756.0,759.0,17.0,10452.0,174.0,29.0,2716.0,4972.0,382.0,9.0,578.0,209.0,20.0],\"type\":\"choropleth\"}],\"name\":\"2021-05-05\"},{\"data\":[{\"coloraxis\":\"coloraxis\",\"geo\":\"geo\",\"hovertemplate\":\"date=2021-05-15<br>Country_code=%{location}<br>pages=%{z}<extra></extra>\",\"locations\":[\"ITA\",\"CHN\",\"ALB\",\"BGD\",\"BWA\",\"KHM\",\"HRV\",\"GRC\",\"SWE\",\"FIN\",\"NOR\",\"MYS\",\"ISR\",\"LTU\",\"SRB\",\"SVK\",\"SVN\",\"BGR\",\"CZE\",\"DNK\",\"GEO\",\"DEU\",\"HUN\",\"ISL\",\"JPN\",\"KAZ\",\"KGZ\",\"NLD\",\"POL\",\"ROU\",\"TJK\",\"THA\",\"AZE\",\"MNG\"],\"name\":\"\",\"z\":[3145.0,57559.0,244.0,165.0,43.0,21.0,231.0,1023.0,381.0,611.0,76.0,1381.0,188.0,115.0,84.0,203.0,84.0,95.0,1299.0,88.0,130.0,24945.0,632.0,13.0,8754.0,52.0,11.0,2414.0,3159.0,260.0,10.0,295.0,117.0,22.0],\"type\":\"choropleth\"}],\"name\":\"2021-05-15\"},{\"data\":[{\"coloraxis\":\"coloraxis\",\"geo\":\"geo\",\"hovertemplate\":\"date=2021-05-25<br>Country_code=%{location}<br>pages=%{z}<extra></extra>\",\"locations\":[\"ITA\",\"CHN\",\"ALB\",\"BGD\",\"BWA\",\"KHM\",\"HRV\",\"GRC\",\"SWE\",\"FIN\",\"NOR\",\"MYS\",\"ISR\",\"LTU\",\"SRB\",\"SVK\",\"SVN\",\"BGR\",\"CZE\",\"DNK\",\"GEO\",\"DEU\",\"HUN\",\"ISL\",\"JPN\",\"KAZ\",\"KGZ\",\"NLD\",\"POL\",\"ROU\",\"TJK\",\"THA\",\"AZE\",\"MNG\"],\"name\":\"\",\"z\":[3963.0,44090.0,333.0,327.0,220.0,22.0,192.0,965.0,380.0,638.0,115.0,3049.0,244.0,169.0,62.0,273.0,216.0,106.0,1453.0,170.0,167.0,29757.0,619.0,140.0,7897.0,82.0,18.0,3094.0,3832.0,362.0,14.0,369.0,141.0,24.0],\"type\":\"choropleth\"}],\"name\":\"2021-05-25\"},{\"data\":[{\"coloraxis\":\"coloraxis\",\"geo\":\"geo\",\"hovertemplate\":\"date=2021-06-04<br>Country_code=%{location}<br>pages=%{z}<extra></extra>\",\"locations\":[\"ITA\",\"CHN\",\"ALB\",\"BGD\",\"BWA\",\"KHM\",\"HRV\",\"GRC\",\"SWE\",\"FIN\",\"NOR\",\"MYS\",\"ISR\",\"LTU\",\"SRB\",\"SVK\",\"SVN\",\"BGR\",\"CZE\",\"DNK\",\"GEO\",\"DEU\",\"HUN\",\"ISL\",\"JPN\",\"KAZ\",\"KGZ\",\"NLD\",\"POL\",\"ROU\",\"TJK\",\"THA\",\"AZE\",\"MNG\"],\"name\":\"\",\"z\":[3493.0,37801.0,185.0,265.0,64.0,12.0,147.0,635.0,311.0,522.0,73.0,1879.0,246.0,140.0,52.0,143.0,95.0,91.0,1290.0,105.0,159.0,21311.0,453.0,13.0,8418.0,32.0,11.0,2846.0,2875.0,240.0,5.0,375.0,115.0,5.0],\"type\":\"choropleth\"}],\"name\":\"2021-06-04\"},{\"data\":[{\"coloraxis\":\"coloraxis\",\"geo\":\"geo\",\"hovertemplate\":\"date=2021-06-14<br>Country_code=%{location}<br>pages=%{z}<extra></extra>\",\"locations\":[\"ITA\",\"CHN\",\"ALB\",\"BGD\",\"BWA\",\"KHM\",\"HRV\",\"GRC\",\"SWE\",\"FIN\",\"NOR\",\"MYS\",\"ISR\",\"LTU\",\"SRB\",\"SVK\",\"SVN\",\"BGR\",\"CZE\",\"DNK\",\"GEO\",\"DEU\",\"HUN\",\"ISL\",\"JPN\",\"KAZ\",\"KGZ\",\"NLD\",\"POL\",\"ROU\",\"TJK\",\"THA\",\"AZE\",\"MNG\"],\"name\":\"\",\"z\":[3018.0,27981.0,180.0,194.0,85.0,10.0,136.0,617.0,258.0,397.0,80.0,2076.0,249.0,118.0,52.0,162.0,105.0,117.0,1286.0,155.0,78.0,24335.0,445.0,11.0,7047.0,58.0,27.0,2840.0,2975.0,248.0,12.0,431.0,117.0,11.0],\"type\":\"choropleth\"}],\"name\":\"2021-06-14\"},{\"data\":[{\"coloraxis\":\"coloraxis\",\"geo\":\"geo\",\"hovertemplate\":\"date=2021-06-24<br>Country_code=%{location}<br>pages=%{z}<extra></extra>\",\"locations\":[\"ITA\",\"CHN\",\"ALB\",\"BGD\",\"BWA\",\"KHM\",\"HRV\",\"GRC\",\"SWE\",\"FIN\",\"NOR\",\"MYS\",\"ISR\",\"LTU\",\"SRB\",\"SVK\",\"SVN\",\"BGR\",\"CZE\",\"DNK\",\"GEO\",\"DEU\",\"HUN\",\"ISL\",\"JPN\",\"KAZ\",\"KGZ\",\"NLD\",\"POL\",\"ROU\",\"TJK\",\"THA\",\"AZE\",\"MNG\"],\"name\":\"\",\"z\":[2510.0,25566.0,86.0,212.0,61.0,10.0,87.0,434.0,208.0,422.0,46.0,1581.0,332.0,82.0,53.0,203.0,101.0,64.0,1143.0,84.0,83.0,20254.0,407.0,5.0,6897.0,38.0,14.0,2221.0,3008.0,175.0,5.0,441.0,116.0,9.0],\"type\":\"choropleth\"}],\"name\":\"2021-06-24\"},{\"data\":[{\"coloraxis\":\"coloraxis\",\"geo\":\"geo\",\"hovertemplate\":\"date=2021-07-04<br>Country_code=%{location}<br>pages=%{z}<extra></extra>\",\"locations\":[\"ITA\",\"CHN\",\"ALB\",\"BGD\",\"BWA\",\"KHM\",\"HRV\",\"GRC\",\"SWE\",\"FIN\",\"NOR\",\"MYS\",\"ISR\",\"LTU\",\"SRB\",\"SVK\",\"SVN\",\"BGR\",\"CZE\",\"DNK\",\"GEO\",\"DEU\",\"HUN\",\"ISL\",\"JPN\",\"KAZ\",\"KGZ\",\"NLD\",\"POL\",\"ROU\",\"TJK\",\"THA\",\"AZE\",\"MNG\"],\"name\":\"\",\"z\":[1993.0,18487.0,80.0,245.0,10.0,17.0,99.0,586.0,223.0,462.0,51.0,1570.0,360.0,67.0,38.0,162.0,53.0,64.0,968.0,94.0,52.0,16882.0,217.0,7.0,6211.0,27.0,7.0,2161.0,2482.0,204.0,2.0,594.0,78.0,5.0],\"type\":\"choropleth\"}],\"name\":\"2021-07-04\"},{\"data\":[{\"coloraxis\":\"coloraxis\",\"geo\":\"geo\",\"hovertemplate\":\"date=2021-07-14<br>Country_code=%{location}<br>pages=%{z}<extra></extra>\",\"locations\":[\"ITA\",\"CHN\",\"ALB\",\"BGD\",\"BWA\",\"KHM\",\"HRV\",\"GRC\",\"SWE\",\"FIN\",\"NOR\",\"MYS\",\"ISR\",\"LTU\",\"SRB\",\"SVK\",\"SVN\",\"BGR\",\"CZE\",\"DNK\",\"GEO\",\"DEU\",\"HUN\",\"ISL\",\"JPN\",\"KAZ\",\"KGZ\",\"NLD\",\"POL\",\"ROU\",\"TJK\",\"THA\",\"AZE\",\"MNG\"],\"name\":\"\",\"z\":[2310.0,19830.0,55.0,548.0,2.0,12.0,129.0,698.0,250.0,484.0,56.0,1968.0,419.0,100.0,42.0,178.0,116.0,52.0,1378.0,126.0,61.0,19650.0,338.0,3.0,7598.0,35.0,6.0,2584.0,2626.0,174.0,5.0,618.0,121.0,3.0],\"type\":\"choropleth\"}],\"name\":\"2021-07-14\"},{\"data\":[{\"coloraxis\":\"coloraxis\",\"geo\":\"geo\",\"hovertemplate\":\"date=2021-07-24<br>Country_code=%{location}<br>pages=%{z}<extra></extra>\",\"locations\":[\"ITA\",\"CHN\",\"ALB\",\"BGD\",\"BWA\",\"KHM\",\"HRV\",\"GRC\",\"SWE\",\"FIN\",\"NOR\",\"MYS\",\"ISR\",\"LTU\",\"SRB\",\"SVK\",\"SVN\",\"BGR\",\"CZE\",\"DNK\",\"GEO\",\"DEU\",\"HUN\",\"ISL\",\"JPN\",\"KAZ\",\"KGZ\",\"NLD\",\"POL\",\"ROU\",\"TJK\",\"THA\",\"AZE\",\"MNG\"],\"name\":\"\",\"z\":[2999.0,16895.0,27.0,337.0,6.0,3.0,59.0,501.0,209.0,729.0,46.0,1356.0,469.0,80.0,26.0,120.0,84.0,58.0,817.0,100.0,58.0,13565.0,188.0,16.0,5839.0,23.0,9.0,1656.0,1922.0,142.0,5.0,527.0,138.0,7.0],\"type\":\"choropleth\"}],\"name\":\"2021-07-24\"},{\"data\":[{\"coloraxis\":\"coloraxis\",\"geo\":\"geo\",\"hovertemplate\":\"date=2021-08-03<br>Country_code=%{location}<br>pages=%{z}<extra></extra>\",\"locations\":[\"ITA\",\"CHN\",\"ALB\",\"BGD\",\"BWA\",\"KHM\",\"HRV\",\"GRC\",\"SWE\",\"FIN\",\"NOR\",\"MYS\",\"ISR\",\"LTU\",\"SRB\",\"SVK\",\"SVN\",\"BGR\",\"CZE\",\"DNK\",\"GEO\",\"DEU\",\"HUN\",\"ISL\",\"JPN\",\"KAZ\",\"KGZ\",\"NLD\",\"POL\",\"ROU\",\"TJK\",\"THA\",\"AZE\",\"MNG\"],\"name\":\"\",\"z\":[2883.0,27746.0,37.0,700.0,41.0,13.0,56.0,386.0,292.0,927.0,57.0,1634.0,590.0,110.0,29.0,151.0,106.0,65.0,1150.0,97.0,111.0,18234.0,223.0,3.0,8786.0,36.0,7.0,1927.0,2367.0,169.0,5.0,635.0,87.0,6.0],\"type\":\"choropleth\"}],\"name\":\"2021-08-03\"},{\"data\":[{\"coloraxis\":\"coloraxis\",\"geo\":\"geo\",\"hovertemplate\":\"date=2021-08-13<br>Country_code=%{location}<br>pages=%{z}<extra></extra>\",\"locations\":[\"ITA\",\"CHN\",\"ALB\",\"BGD\",\"BWA\",\"KHM\",\"HRV\",\"GRC\",\"SWE\",\"FIN\",\"NOR\",\"MYS\",\"ISR\",\"LTU\",\"SRB\",\"SVK\",\"SVN\",\"BGR\",\"CZE\",\"DNK\",\"GEO\",\"DEU\",\"HUN\",\"ISL\",\"JPN\",\"KAZ\",\"KGZ\",\"NLD\",\"POL\",\"ROU\",\"TJK\",\"THA\",\"AZE\",\"MNG\"],\"name\":\"\",\"z\":[2739.0,21236.0,109.0,424.0,32.0,26.0,83.0,494.0,280.0,849.0,39.0,1886.0,744.0,164.0,36.0,145.0,162.0,116.0,977.0,131.0,127.0,16634.0,216.0,36.0,10843.0,54.0,12.0,1819.0,2205.0,198.0,7.0,599.0,157.0,8.0],\"type\":\"choropleth\"}],\"name\":\"2021-08-13\"},{\"data\":[{\"coloraxis\":\"coloraxis\",\"geo\":\"geo\",\"hovertemplate\":\"date=2021-08-23<br>Country_code=%{location}<br>pages=%{z}<extra></extra>\",\"locations\":[\"ITA\",\"CHN\",\"ALB\",\"BGD\",\"BWA\",\"KHM\",\"HRV\",\"GRC\",\"SWE\",\"FIN\",\"NOR\",\"MYS\",\"ISR\",\"LTU\",\"SRB\",\"SVK\",\"SVN\",\"BGR\",\"CZE\",\"DNK\",\"GEO\",\"DEU\",\"HUN\",\"ISL\",\"JPN\",\"KAZ\",\"KGZ\",\"NLD\",\"POL\",\"ROU\",\"TJK\",\"THA\",\"AZE\",\"MNG\"],\"name\":\"\",\"z\":[2692.0,18168.0,74.0,447.0,79.0,6.0,81.0,578.0,286.0,746.0,55.0,1652.0,875.0,132.0,55.0,158.0,141.0,144.0,927.0,112.0,79.0,18746.0,265.0,11.0,12201.0,28.0,13.0,1537.0,2618.0,195.0,12.0,448.0,138.0,10.0],\"type\":\"choropleth\"}],\"name\":\"2021-08-23\"},{\"data\":[{\"coloraxis\":\"coloraxis\",\"geo\":\"geo\",\"hovertemplate\":\"date=2021-09-02<br>Country_code=%{location}<br>pages=%{z}<extra></extra>\",\"locations\":[\"ITA\",\"CHN\",\"ALB\",\"BGD\",\"BWA\",\"KHM\",\"HRV\",\"GRC\",\"SWE\",\"FIN\",\"NOR\",\"MYS\",\"ISR\",\"LTU\",\"SRB\",\"SVK\",\"SVN\",\"BGR\",\"CZE\",\"DNK\",\"GEO\",\"DEU\",\"HUN\",\"ISL\",\"JPN\",\"KAZ\",\"KGZ\",\"NLD\",\"POL\",\"ROU\",\"TJK\",\"THA\",\"AZE\",\"MNG\"],\"name\":\"\",\"z\":[3429.0,14882.0,130.0,486.0,53.0,5.0,83.0,500.0,438.0,580.0,56.0,1373.0,827.0,110.0,62.0,114.0,172.0,121.0,983.0,92.0,86.0,15533.0,224.0,6.0,9481.0,244.0,7.0,1468.0,2591.0,266.0,12.0,370.0,133.0,7.0],\"type\":\"choropleth\"}],\"name\":\"2021-09-02\"},{\"data\":[{\"coloraxis\":\"coloraxis\",\"geo\":\"geo\",\"hovertemplate\":\"date=2021-09-12<br>Country_code=%{location}<br>pages=%{z}<extra></extra>\",\"locations\":[\"ITA\",\"CHN\",\"ALB\",\"BGD\",\"BWA\",\"KHM\",\"HRV\",\"GRC\",\"SWE\",\"FIN\",\"NOR\",\"MYS\",\"ISR\",\"LTU\",\"SRB\",\"SVK\",\"SVN\",\"BGR\",\"CZE\",\"DNK\",\"GEO\",\"DEU\",\"HUN\",\"ISL\",\"JPN\",\"KAZ\",\"KGZ\",\"NLD\",\"POL\",\"ROU\",\"TJK\",\"THA\",\"AZE\",\"MNG\"],\"name\":\"\",\"z\":[2226.0,15128.0,109.0,422.0,90.0,5.0,91.0,475.0,256.0,572.0,31.0,1012.0,593.0,97.0,84.0,146.0,263.0,89.0,731.0,77.0,47.0,14850.0,201.0,4.0,7110.0,229.0,8.0,1435.0,2557.0,207.0,3.0,346.0,95.0,6.0],\"type\":\"choropleth\"}],\"name\":\"2021-09-12\"},{\"data\":[{\"coloraxis\":\"coloraxis\",\"geo\":\"geo\",\"hovertemplate\":\"date=2021-09-22<br>Country_code=%{location}<br>pages=%{z}<extra></extra>\",\"locations\":[\"ITA\",\"CHN\",\"ALB\",\"BGD\",\"BWA\",\"KHM\",\"HRV\",\"GRC\",\"SWE\",\"FIN\",\"NOR\",\"MYS\",\"ISR\",\"LTU\",\"SRB\",\"SVK\",\"SVN\",\"BGR\",\"CZE\",\"DNK\",\"GEO\",\"DEU\",\"HUN\",\"ISL\",\"JPN\",\"KAZ\",\"KGZ\",\"NLD\",\"POL\",\"ROU\",\"TJK\",\"THA\",\"AZE\",\"MNG\"],\"name\":\"\",\"z\":[2750.0,13666.0,118.0,449.0,45.0,12.0,121.0,487.0,240.0,593.0,60.0,1656.0,743.0,161.0,124.0,257.0,204.0,122.0,999.0,101.0,81.0,16129.0,245.0,5.0,5962.0,148.0,49.0,1858.0,2756.0,468.0,20.0,221.0,115.0,10.0],\"type\":\"choropleth\"}],\"name\":\"2021-09-22\"},{\"data\":[{\"coloraxis\":\"coloraxis\",\"geo\":\"geo\",\"hovertemplate\":\"date=2021-10-02<br>Country_code=%{location}<br>pages=%{z}<extra></extra>\",\"locations\":[\"ITA\",\"CHN\",\"ALB\",\"BGD\",\"BWA\",\"KHM\",\"HRV\",\"GRC\",\"SWE\",\"FIN\",\"NOR\",\"MYS\",\"ISR\",\"LTU\",\"SRB\",\"SVK\",\"SVN\",\"BGR\",\"CZE\",\"DNK\",\"GEO\",\"DEU\",\"HUN\",\"ISL\",\"JPN\",\"KAZ\",\"KGZ\",\"NLD\",\"POL\",\"ROU\",\"TJK\",\"THA\",\"AZE\",\"MNG\"],\"name\":\"\",\"z\":[1957.0,12337.0,126.0,526.0,5.0,9.0,93.0,302.0,209.0,481.0,59.0,905.0,521.0,152.0,73.0,184.0,153.0,137.0,789.0,56.0,43.0,10228.0,189.0,9.0,5422.0,63.0,21.0,1366.0,2104.0,515.0,6.0,238.0,135.0,7.0],\"type\":\"choropleth\"}],\"name\":\"2021-10-02\"},{\"data\":[{\"coloraxis\":\"coloraxis\",\"geo\":\"geo\",\"hovertemplate\":\"date=2021-10-12<br>Country_code=%{location}<br>pages=%{z}<extra></extra>\",\"locations\":[\"ITA\",\"CHN\",\"ALB\",\"BGD\",\"BWA\",\"KHM\",\"HRV\",\"GRC\",\"SWE\",\"FIN\",\"NOR\",\"MYS\",\"ISR\",\"LTU\",\"SRB\",\"SVK\",\"SVN\",\"BGR\",\"CZE\",\"DNK\",\"GEO\",\"DEU\",\"HUN\",\"ISL\",\"JPN\",\"KAZ\",\"KGZ\",\"NLD\",\"POL\",\"ROU\",\"TJK\",\"THA\",\"AZE\",\"MNG\"],\"name\":\"\",\"z\":[2185.0,11750.0,135.0,339.0,10.0,6.0,102.0,267.0,254.0,620.0,28.0,1060.0,378.0,153.0,129.0,265.0,193.0,123.0,1007.0,76.0,91.0,14484.0,271.0,9.0,5234.0,222.0,57.0,1840.0,2701.0,921.0,12.0,231.0,67.0,21.0],\"type\":\"choropleth\"}],\"name\":\"2021-10-12\"},{\"data\":[{\"coloraxis\":\"coloraxis\",\"geo\":\"geo\",\"hovertemplate\":\"date=2021-10-22<br>Country_code=%{location}<br>pages=%{z}<extra></extra>\",\"locations\":[\"ITA\",\"CHN\",\"ALB\",\"BGD\",\"BWA\",\"KHM\",\"HRV\",\"GRC\",\"SWE\",\"FIN\",\"NOR\",\"MYS\",\"ISR\",\"LTU\",\"SRB\",\"SVK\",\"SVN\",\"BGR\",\"CZE\",\"DNK\",\"GEO\",\"DEU\",\"HUN\",\"ISL\",\"JPN\",\"KAZ\",\"KGZ\",\"NLD\",\"POL\",\"ROU\",\"TJK\",\"THA\",\"AZE\",\"MNG\"],\"name\":\"\",\"z\":[1908.0,13664.0,65.0,415.0,12.0,14.0,84.0,270.0,151.0,526.0,37.0,839.0,258.0,223.0,71.0,202.0,214.0,302.0,1561.0,64.0,89.0,14333.0,216.0,13.0,4531.0,86.0,41.0,1677.0,3010.0,1257.0,8.0,181.0,93.0,8.0],\"type\":\"choropleth\"}],\"name\":\"2021-10-22\"},{\"data\":[{\"coloraxis\":\"coloraxis\",\"geo\":\"geo\",\"hovertemplate\":\"date=2021-11-01<br>Country_code=%{location}<br>pages=%{z}<extra></extra>\",\"locations\":[\"ITA\",\"CHN\",\"ALB\",\"BGD\",\"BWA\",\"KHM\",\"HRV\",\"GRC\",\"SWE\",\"FIN\",\"NOR\",\"MYS\",\"ISR\",\"LTU\",\"SRB\",\"SVK\",\"SVN\",\"BGR\",\"CZE\",\"DNK\",\"GEO\",\"DEU\",\"HUN\",\"ISL\",\"JPN\",\"KAZ\",\"KGZ\",\"NLD\",\"POL\",\"ROU\",\"TJK\",\"THA\",\"AZE\",\"MNG\"],\"name\":\"\",\"z\":[2242.0,14287.0,125.0,316.0,24.0,13.0,114.0,360.0,206.0,609.0,30.0,1052.0,257.0,173.0,97.0,377.0,338.0,253.0,1802.0,81.0,150.0,19093.0,319.0,6.0,4232.0,65.0,73.0,2491.0,3648.0,911.0,9.0,201.0,179.0,8.0],\"type\":\"choropleth\"}],\"name\":\"2021-11-01\"},{\"data\":[{\"coloraxis\":\"coloraxis\",\"geo\":\"geo\",\"hovertemplate\":\"date=2021-11-11<br>Country_code=%{location}<br>pages=%{z}<extra></extra>\",\"locations\":[\"ITA\",\"CHN\",\"ALB\",\"BGD\",\"BWA\",\"KHM\",\"HRV\",\"GRC\",\"SWE\",\"FIN\",\"NOR\",\"MYS\",\"ISR\",\"LTU\",\"SRB\",\"SVK\",\"SVN\",\"BGR\",\"CZE\",\"DNK\",\"GEO\",\"DEU\",\"HUN\",\"ISL\",\"JPN\",\"KAZ\",\"KGZ\",\"NLD\",\"POL\",\"ROU\",\"TJK\",\"THA\",\"AZE\",\"MNG\"],\"name\":\"\",\"z\":[2293.0,12762.0,148.0,301.0,9.0,8.0,233.0,639.0,257.0,564.0,50.0,981.0,240.0,166.0,101.0,464.0,386.0,220.0,2546.0,100.0,134.0,26972.0,395.0,11.0,4320.0,104.0,25.0,4327.0,3432.0,589.0,5.0,187.0,160.0,3.0],\"type\":\"choropleth\"}],\"name\":\"2021-11-11\"},{\"data\":[{\"coloraxis\":\"coloraxis\",\"geo\":\"geo\",\"hovertemplate\":\"date=2021-11-21<br>Country_code=%{location}<br>pages=%{z}<extra></extra>\",\"locations\":[\"ITA\",\"CHN\",\"ALB\",\"BGD\",\"BWA\",\"KHM\",\"HRV\",\"GRC\",\"SWE\",\"FIN\",\"NOR\",\"MYS\",\"ISR\",\"LTU\",\"SRB\",\"SVK\",\"SVN\",\"BGR\",\"CZE\",\"DNK\",\"GEO\",\"DEU\",\"HUN\",\"ISL\",\"JPN\",\"KAZ\",\"KGZ\",\"NLD\",\"POL\",\"ROU\",\"TJK\",\"THA\",\"AZE\",\"MNG\"],\"name\":\"\",\"z\":[2559.0,11643.0,178.0,441.0,7.0,6.0,268.0,772.0,183.0,584.0,58.0,930.0,250.0,168.0,97.0,579.0,369.0,159.0,3046.0,135.0,178.0,36006.0,496.0,8.0,4360.0,101.0,56.0,3585.0,4598.0,583.0,3.0,194.0,127.0,16.0],\"type\":\"choropleth\"}],\"name\":\"2021-11-21\"},{\"data\":[{\"coloraxis\":\"coloraxis\",\"geo\":\"geo\",\"hovertemplate\":\"date=2021-12-01<br>Country_code=%{location}<br>pages=%{z}<extra></extra>\",\"locations\":[\"ITA\",\"CHN\",\"ALB\",\"BGD\",\"BWA\",\"KHM\",\"HRV\",\"GRC\",\"SWE\",\"FIN\",\"NOR\",\"MYS\",\"ISR\",\"LTU\",\"SRB\",\"SVK\",\"SVN\",\"BGR\",\"CZE\",\"DNK\",\"GEO\",\"DEU\",\"HUN\",\"ISL\",\"JPN\",\"KAZ\",\"KGZ\",\"NLD\",\"POL\",\"ROU\",\"TJK\",\"THA\",\"AZE\",\"MNG\"],\"name\":\"\",\"z\":[2885.0,15096.0,247.0,519.0,5.0,13.0,191.0,751.0,241.0,858.0,103.0,1195.0,528.0,168.0,85.0,567.0,244.0,180.0,2892.0,186.0,193.0,31901.0,445.0,5.0,5799.0,67.0,56.0,3272.0,5231.0,330.0,16.0,255.0,95.0,17.0],\"type\":\"choropleth\"}],\"name\":\"2021-12-01\"},{\"data\":[{\"coloraxis\":\"coloraxis\",\"geo\":\"geo\",\"hovertemplate\":\"date=2021-12-11<br>Country_code=%{location}<br>pages=%{z}<extra></extra>\",\"locations\":[\"ITA\",\"CHN\",\"ALB\",\"BGD\",\"BWA\",\"KHM\",\"HRV\",\"GRC\",\"SWE\",\"FIN\",\"NOR\",\"MYS\",\"ISR\",\"LTU\",\"SRB\",\"SVK\",\"SVN\",\"BGR\",\"CZE\",\"DNK\",\"GEO\",\"DEU\",\"HUN\",\"ISL\",\"JPN\",\"KAZ\",\"KGZ\",\"NLD\",\"POL\",\"ROU\",\"TJK\",\"THA\",\"AZE\",\"MNG\"],\"name\":\"\",\"z\":[2538.0,10659.0,179.0,393.0,1.0,13.0,146.0,647.0,237.0,719.0,56.0,645.0,389.0,151.0,46.0,366.0,189.0,125.0,1570.0,171.0,105.0,19650.0,316.0,8.0,3871.0,81.0,24.0,1759.0,4003.0,268.0,6.0,192.0,143.0,9.0],\"type\":\"choropleth\"}],\"name\":\"2021-12-11\"},{\"data\":[{\"coloraxis\":\"coloraxis\",\"geo\":\"geo\",\"hovertemplate\":\"date=2021-12-21<br>Country_code=%{location}<br>pages=%{z}<extra></extra>\",\"locations\":[\"ITA\",\"CHN\",\"ALB\",\"BGD\",\"BWA\",\"KHM\",\"HRV\",\"GRC\",\"SWE\",\"FIN\",\"NOR\",\"MYS\",\"ISR\",\"LTU\",\"SRB\",\"SVK\",\"SVN\",\"BGR\",\"CZE\",\"DNK\",\"GEO\",\"DEU\",\"HUN\",\"ISL\",\"JPN\",\"KAZ\",\"KGZ\",\"NLD\",\"POL\",\"ROU\",\"TJK\",\"THA\",\"AZE\",\"MNG\"],\"name\":\"\",\"z\":[3536.0,12545.0,204.0,269.0,2.0,18.0,137.0,685.0,315.0,1318.0,81.0,569.0,513.0,159.0,30.0,282.0,233.0,101.0,1404.0,269.0,175.0,27523.0,221.0,7.0,3993.0,90.0,16.0,3194.0,4106.0,227.0,1.0,266.0,176.0,3.0],\"type\":\"choropleth\"}],\"name\":\"2021-12-21\"},{\"data\":[{\"coloraxis\":\"coloraxis\",\"geo\":\"geo\",\"hovertemplate\":\"date=2021-12-31<br>Country_code=%{location}<br>pages=%{z}<extra></extra>\",\"locations\":[\"ITA\",\"CHN\",\"ALB\",\"BGD\",\"BWA\",\"KHM\",\"HRV\",\"GRC\",\"SWE\",\"FIN\",\"NOR\",\"MYS\",\"ISR\",\"LTU\",\"SRB\",\"SVK\",\"SVN\",\"BGR\",\"CZE\",\"DNK\",\"GEO\",\"DEU\",\"HUN\",\"ISL\",\"JPN\",\"KAZ\",\"KGZ\",\"NLD\",\"POL\",\"ROU\",\"TJK\",\"THA\",\"AZE\",\"MNG\"],\"name\":\"\",\"z\":[4856.0,13347.0,71.0,137.0,6.0,4.0,102.0,1273.0,376.0,948.0,89.0,617.0,543.0,266.0,31.0,270.0,199.0,139.0,1184.0,204.0,68.0,16622.0,190.0,17.0,4514.0,18.0,14.0,2548.0,3361.0,205.0,7.0,125.0,51.0,1.0],\"type\":\"choropleth\"}],\"name\":\"2021-12-31\"}]);\n",
       "                        }).then(function(){\n",
       "                            \n",
       "var gd = document.getElementById('f4bf070d-e918-4a91-8b88-e34ec1a85313');\n",
       "var x = new MutationObserver(function (mutations, observer) {{\n",
       "        var display = window.getComputedStyle(gd).display;\n",
       "        if (!display || display === 'none') {{\n",
       "            console.log([gd, 'removed!']);\n",
       "            Plotly.purge(gd);\n",
       "            observer.disconnect();\n",
       "        }}\n",
       "}});\n",
       "\n",
       "// Listen for the removal of the full notebook cells\n",
       "var notebookContainer = gd.closest('#notebook-container');\n",
       "if (notebookContainer) {{\n",
       "    x.observe(notebookContainer, {childList: true});\n",
       "}}\n",
       "\n",
       "// Listen for the clearing of the current output cell\n",
       "var outputEl = gd.closest('.output');\n",
       "if (outputEl) {{\n",
       "    x.observe(outputEl, {childList: true});\n",
       "}}\n",
       "\n",
       "                        })                };                });            </script>        </div>"
      ]
     },
     "metadata": {},
     "output_type": "display_data"
    }
   ],
   "source": [
    "pageviews = pd.DataFrame({})\n",
    "for country in country_dict.items():\n",
    "    if (country[0] in countries):\n",
    "        df = pd.DataFrame(df_pageviews_pearson[country[1]])\n",
    "        df = df.rename(columns = {country[1] : 'pages'})\n",
    "        df['Country_code'] = [countries.get(country[0]).alpha3] * len(df)\n",
    "        df['date'] = df.index\n",
    "        #To keep every 10 rows\n",
    "        df = df.iloc[::10,:]\n",
    "        pageviews = pageviews.append(df)\n",
    "print(pageviews)\n",
    "\n",
    "\n",
    "fig = px.choropleth(pageviews, locations= \"Country_code\",\n",
    "                    color = pageviews['pages'],\n",
    "                    animation_frame='date',\n",
    "                    color_continuous_midpoint = max(pageviews['pages']/2),\n",
    "color_continuous_scale=px.colors.sequential.thermal_r)\n",
    "#fig.update_layout(margin=dict(l=20,r=0,b=0,t=70,pad=0),paper_bgcolor=\"white\",height= 700,title_text = 'Number of daily COVID-19 cases worldwide',font_size=18)\n",
    "#fig.layout.updatemenus[0].buttons[0].args[1]['frame']['duration'] = 10\n",
    "#fig.layout.updatemenus[0].buttons[0].args[1]['transition']['duration'] = 1\n",
    "fig.update_layout(title={'text':'Number of pageviews',\n",
    "                         'font':{'size':18, 'color':'red'},\n",
    "                         'x':0.5, 'y':1},\n",
    "                  transition = {'duration': 10})\n",
    "fig.show()"
   ]
  },
  {
   "cell_type": "code",
   "execution_count": null,
   "metadata": {},
   "outputs": [],
   "source": []
  }
 ],
 "metadata": {
  "kernelspec": {
   "display_name": "Python 3",
   "language": "python",
   "name": "python3"
  },
  "language_info": {
   "codemirror_mode": {
    "name": "ipython",
    "version": 3
   },
   "file_extension": ".py",
   "mimetype": "text/x-python",
   "name": "python",
   "nbconvert_exporter": "python",
   "pygments_lexer": "ipython3",
   "version": "3.8.5"
  }
 },
 "nbformat": 4,
 "nbformat_minor": 4
}
