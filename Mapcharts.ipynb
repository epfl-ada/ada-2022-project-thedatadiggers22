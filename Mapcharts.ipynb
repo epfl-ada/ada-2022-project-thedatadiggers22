{
 "cells": [
  {
   "cell_type": "code",
   "execution_count": 1,
   "metadata": {},
   "outputs": [
    {
     "name": "stderr",
     "output_type": "stream",
     "text": [
      "/Users/arthurnussbaumer/opt/anaconda3/lib/python3.8/site-packages/pandas/core/computation/expressions.py:20: UserWarning: Pandas requires version '2.7.3' or newer of 'numexpr' (version '2.7.1' currently installed).\n",
      "  from pandas.core.computation.check import NUMEXPR_INSTALLED\n"
     ]
    }
   ],
   "source": [
    "import pandas as pd\n",
    "import numpy as np\n",
    "import matplotlib.pyplot as plt\n",
    "import seaborn as sn\n",
    "from scipy import stats\n",
    "from helper import *\n",
    "from scipy.stats.mstats import gmean\n",
    "#Importation of all the packages\n",
    "from datetime import datetime\n",
    "import math\n",
    "import json\n",
    "import zipfile  \n",
    "import ssl\n",
    "from scipy import stats\n",
    "from sklearn.cluster import KMeans\n",
    "from sklearn import preprocessing\n",
    "from sklearn import metrics\n",
    "\n",
    "#To dowload data\n",
    "import requests\n",
    "import io\n",
    "import gzip\n",
    "\n",
    "#To create the mapchart\n",
    "import iso3166\n",
    "import plotly\n",
    "from iso3166 import countries\n",
    "import plotly.graph_objects as go\n",
    "import plotly.express as px"
   ]
  },
  {
   "cell_type": "code",
   "execution_count": 2,
   "metadata": {},
   "outputs": [],
   "source": [
    "# Download pageviews\n",
    "pageview_df = pd.read_csv(\"page_views_covid_related.csv.gz\")\n",
    "pageview_df_imp_country = pageview_df[[\"date\"] + list(get_country_dict('original').values())].set_index('date')\n",
    "pageview_df_imp_country.head()\n",
    "country_dict = get_country_dict('original')\n",
    "inv_country_dict = {v: k for k, v in country_dict.items()}"
   ]
  },
  {
   "cell_type": "code",
   "execution_count": null,
   "metadata": {},
   "outputs": [],
   "source": [
    "# Download covid data\n",
    "ssl._create_default_https_context = ssl._create_unverified_context\n",
    "death_url = \"https://github.com/owid/covid-19-data/blob/master/public/data/jhu/new_deaths.csv?raw=true\" # Make sure the url is the raw version of the file on GitHub\n",
    "cases_url = \"https://github.com/owid/covid-19-data/blob/master/public/data/jhu/new_cases.csv?raw=true\"\n",
    "\n",
    "# Reading the downloaded content and turning it into a pandas dataframe\n",
    "deaths = pd.read_csv(death_url,index_col=0)\n",
    "cases = pd.read_csv(cases_url,index_col=0)\n",
    "deaths= deaths.interpolate(method ='linear', limit_direction ='forward') \n",
    "cases = cases.interpolate(method ='linear', limit_direction ='forward') \n",
    "deaths = deaths.fillna(0)\n",
    "cases = cases.fillna(0)\n",
    "#Keep only values until July\n",
    "deaths = deaths[deaths.index < '2022-01-01']\n",
    "cases = cases[cases.index < '2022-01-01']"
   ]
  },
  {
   "cell_type": "code",
   "execution_count": null,
   "metadata": {},
   "outputs": [],
   "source": [
    "# Download \n",
    "population_df = pd.read_csv(\"Population_countries.csv\")\n",
    "population_df = population_df[[\"Country Name\", \"2020\"]]\n",
    "population_df = population_df.set_index(\"Country Name\")\n",
    "population_df = population_df.rename({\"Russian Federation\": \"Russia\", \"Slovak Republic\": \"Slovakia\", \"Turkiye\": \"Turkey\",\"Korea, Rep.\": \"South Korea\", \"Kyrgyz Republic\": 'Kyrgyzstan'})"
   ]
  },
  {
   "cell_type": "code",
   "execution_count": null,
   "metadata": {},
   "outputs": [],
   "source": [
    "other_country_name = {\"Russia\": \"Russian Federation\", \"Turkey\":\"Türkiye\", \"Vietnam\" : \"Viet Nam\", \"South Korea\" : \"Korea, Democratic People's Republic of\" }"
   ]
  },
  {
   "cell_type": "code",
   "execution_count": null,
   "metadata": {},
   "outputs": [],
   "source": [
    "covid_death = pd.DataFrame({})\n",
    "for country in list(country_dict.keys()):\n",
    "    \n",
    "    df = pd.DataFrame(deaths[country]/float(population_df.loc[country]) * 100000)\n",
    "    df = df.rename(columns = {country : 'deaths'})\n",
    "    \n",
    "    if (country in list(other_country_name.keys())):\n",
    "        df['Country_code'] = [countries.get(other_country_name[country]).alpha3] * len(df)\n",
    "    else:\n",
    "         df['Country_code'] = [countries.get(country).alpha3] * len(df)\n",
    "    df['date'] = df.index\n",
    "    #To keep every 5 rows\n",
    "    df = df.iloc[::5,:]\n",
    "    covid_death = covid_death.append(df)\n",
    "\n",
    "\n",
    "fig = px.choropleth(covid_death, locations= \"Country_code\",\n",
    "                    color = covid_death['deaths'],\n",
    "                    animation_frame='date',\n",
    "                    color_continuous_midpoint = max(covid_death['deaths']/2),\n",
    "color_continuous_scale=px.colors.sequential.thermal_r)\n",
    "fig.update_layout(title={'text':'Number of death of COVID-19 by Date',\n",
    "                         'font':{'size':18, 'color':'red'},\n",
    "                         'x':0.5, 'y':1},\n",
    "                  transition = {'duration': 10})\n",
    "fig.layout.updatemenus[0].buttons[0].args[1][\"frame\"][\"duration\"] = 200 # buttons\n",
    "fig.layout.updatemenus[0].buttons[0].args[1][\"transition\"][\"duration\"] = 0\n",
    "fig.layout.updatemenus[0].buttons[1].args[1][\"frame\"][\"duration\"] = 200\n",
    "fig.layout.updatemenus[0].buttons[1].args[1][\"transition\"][\"duration\"] = 0\n",
    "fig.layout.sliders[0].steps[0].args[1][\"frame\"][\"duration\"] = 0 # slider\n",
    "fig.layout.updatemenus[0].buttons[0].args[1][\"visible\"] = False\n",
    "\n",
    "fig.show()\n",
    "fig.write_html(\"/Users/arthurnussbaumer/Documents/Master_Data_Science/MA_3/Applied_data_Analysis/Project/death_mapchart.html\")"
   ]
  },
  {
   "cell_type": "code",
   "execution_count": null,
   "metadata": {},
   "outputs": [],
   "source": [
    "df_pageviews_pearson = pageview_df_imp_country.loc[pageview_df_imp_country.index < '2022-01-01']\n",
    "df_pageviews_pearson = df_pageviews_pearson.loc[df_pageviews_pearson.index >= '2020-01-22']\n",
    "df_pageviews_pearson = df_pageviews_pearson.interpolate(method ='linear', limit_direction ='forward') \n",
    "df_pageviews_pearson = df_pageviews_pearson.fillna(0)"
   ]
  },
  {
   "cell_type": "code",
   "execution_count": null,
   "metadata": {},
   "outputs": [],
   "source": [
    "pageviews = pd.DataFrame({})\n",
    "for country in country_dict.items():\n",
    "    \n",
    "    df = pd.DataFrame(df_pageviews_pearson[country[1]]/float(population_df.loc[country[0]]) * 100000)\n",
    "    df = df.rename(columns = {country[1] : 'pages'})\n",
    "    if (country[0] in list(other_country_name.keys())):\n",
    "        df['Country_code'] = [countries.get(other_country_name[country[0]]).alpha3] * len(df)\n",
    "    else:\n",
    "        df['Country_code'] = [countries.get(country[0]).alpha3] * len(df)\n",
    "        \n",
    "    df['date'] = df.index\n",
    "    #To keep every 5 rows\n",
    "    df = df.iloc[::5,:]\n",
    "    pageviews = pageviews.append(df)\n",
    "\n",
    "fig = px.choropleth(pageviews, locations= \"Country_code\",\n",
    "                    color = pageviews['pages'],\n",
    "                    animation_frame='date',\n",
    "                    color_continuous_midpoint = max(pageviews['pages']/2),\n",
    "color_continuous_scale=px.colors.sequential.thermal_r)\n",
    "\n",
    "fig.update_layout(title={'text':'Number of pageviews',\n",
    "                         'font':{'size':18, 'color':'red'},\n",
    "                         'x':0.5, 'y':1},\n",
    "                  transition = {'duration': 10})\n",
    "\n",
    "fig.layout.updatemenus[0].buttons[0].args[1][\"frame\"][\"duration\"] = 50 # buttons\n",
    "fig.layout.updatemenus[0].buttons[0].args[1][\"transition\"][\"duration\"] = 0\n",
    "fig.layout.updatemenus[0].buttons[1].args[1][\"frame\"][\"duration\"] = 50\n",
    "fig.layout.updatemenus[0].buttons[1].args[1][\"transition\"][\"duration\"] = 0\n",
    "fig.layout.sliders[0].steps[0].args[1][\"frame\"][\"duration\"] = 0 # slider\n",
    "fig.layout.updatemenus[0].buttons[0].args[1][\"visible\"] = False\n",
    "\n",
    "fig.show()"
   ]
  },
  {
   "cell_type": "code",
   "execution_count": null,
   "metadata": {},
   "outputs": [],
   "source": [
    "pearson_deaths = pd.DataFrame({\"Pearson correlation\":[\"Correlation coefficient:\",\"P-value:\"]})\n",
    "\n",
    "for country in country_dict.items():\n",
    "    corr, p_value = stats.pearsonr(df_pageviews_pearson[country[1]], deaths[country[0]])\n",
    "    output_df = pd.DataFrame({str(country[0]):[corr, p_value] })\n",
    "    pearson_deaths = pd.concat([pearson_deaths, output_df], axis=1)\n",
    "pearson_deaths"
   ]
  },
  {
   "cell_type": "code",
   "execution_count": null,
   "metadata": {},
   "outputs": [],
   "source": [
    "import pycountry_convert as pc\n",
    "\n",
    "def country_to_continent(country_array):\n",
    "    continent = []\n",
    "    for i in range(len(country_array)):\n",
    "        country_alpha2 = pc.country_name_to_country_alpha2(country_array[i])\n",
    "        country_continent_code = pc.country_alpha2_to_continent_code(country_alpha2)\n",
    "        country_continent_name = pc.convert_continent_code_to_continent_name(country_continent_code)\n",
    "        continent.append(country_continent_name)\n",
    "    return continent"
   ]
  },
  {
   "cell_type": "code",
   "execution_count": null,
   "metadata": {},
   "outputs": [],
   "source": [
    "pearson_deathsT = pearson_deaths.transpose()\n",
    "pearson_deathsT = pearson_deathsT.drop(index= 'Pearson correlation', axis=0)\n",
    "pearson_deathsT = pearson_deathsT.rename(columns= {0: 'Correlation coefficient', 1: 'P-value'})\n",
    "# create a new figure\n",
    "plt.figure(figsize=(40, 10))\n",
    "\n",
    "# use the scatter() function to plot the points,\n",
    "# with red circles of size 10\n",
    "colors = {'North America':'red', 'Europe':'green', 'Asia':'blue', 'Africa':'red'}\n",
    "plt.bar(pearson_deathsT.index.values, pearson_deathsT['Correlation coefficient'].values, color=[colors[x] for x in country_to_continent(pearson_deathsT.index.values)])\n",
    "\n",
    "# add a title\n",
    "plt.title(\"Scatter Plot pearson death and pageviews\")\n",
    "\n",
    "# add x and y axis labels\n",
    "plt.xlabel(\"Countries\")\n",
    "plt.ylabel(\"Corr coeff (deaths/pageviews)\")\n",
    "\n",
    "# show the plot\n",
    "plt.show()"
   ]
  }
 ],
 "metadata": {
  "kernelspec": {
   "display_name": "Python 3",
   "language": "python",
   "name": "python3"
  },
  "language_info": {
   "codemirror_mode": {
    "name": "ipython",
    "version": 3
   },
   "file_extension": ".py",
   "mimetype": "text/x-python",
   "name": "python",
   "nbconvert_exporter": "python",
   "pygments_lexer": "ipython3",
   "version": "3.8.5"
  }
 },
 "nbformat": 4,
 "nbformat_minor": 4
}
