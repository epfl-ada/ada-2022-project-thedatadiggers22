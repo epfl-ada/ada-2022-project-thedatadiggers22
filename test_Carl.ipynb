{
 "cells": [
  {
   "cell_type": "markdown",
   "metadata": {},
   "source": [
    "# Test Carl\n"
   ]
  },
  {
   "cell_type": "code",
   "execution_count": 1,
   "metadata": {},
   "outputs": [],
   "source": [
    "#imports (too many, but alright for testing)\n",
    "import pandas as pd\n",
    "import os\n",
    "import gzip\n",
    "import json\n",
    "import pickle\n",
    "import numpy as np\n",
    "import matplotlib.pyplot as plt\n",
    "import seaborn as sn\n",
    "import requests\n",
    "import datetime\n",
    "from scipy import stats\n",
    "from load_helper_CoronaWiki import *"
   ]
  },
  {
   "cell_type": "code",
   "execution_count": 7,
   "metadata": {},
   "outputs": [],
   "source": [
    "url = 'https://wikimedia.org/api/rest_v1/metrics/pageviews/per-article/en.wikipedia.org/all-access/user/Paris/daily/20200101/20200701'\n",
    "header = {'User-Agent' : 'Carl Piening (academic project; carl.piening@epfl.ch; https://github.com/epfl-ada/ada-2022-project-thedatadiggers22)'}\n",
    "r = requests.get(url, headers = header)\n"
   ]
  },
  {
   "cell_type": "code",
   "execution_count": 8,
   "metadata": {},
   "outputs": [],
   "source": [
    "# Serializing json\n",
    "json_object = json.dumps(r.json(), indent =1)\n",
    " \n",
    "# Writing to sample.json\n",
    "with open(\"paris.json\", \"w\") as outfile:\n",
    "    outfile.write(json_object)"
   ]
  },
  {
   "cell_type": "code",
   "execution_count": 12,
   "metadata": {},
   "outputs": [],
   "source": [
    "df1 = pd.json_normalize(json.load(open('paris.json')), record_path = ['items']).set_index(['timestamp', 'article']).drop(labels = ['project', 'granularity'\n",
    ", 'access', 'agent'], axis = 1)\n",
    "df2 = pd.json_normalize(json.load(open('berlin.json')), record_path = ['items']).set_index(['timestamp', 'article']).drop(labels = ['project', 'granularity'\n",
    ", 'access', 'agent'], axis = 1)"
   ]
  },
  {
   "cell_type": "code",
   "execution_count": 18,
   "metadata": {},
   "outputs": [],
   "source": [
    "df_final = pd.concat([df1,df2])"
   ]
  },
  {
   "cell_type": "code",
   "execution_count": 19,
   "metadata": {},
   "outputs": [
    {
     "data": {
      "text/html": [
       "<div>\n",
       "<style scoped>\n",
       "    .dataframe tbody tr th:only-of-type {\n",
       "        vertical-align: middle;\n",
       "    }\n",
       "\n",
       "    .dataframe tbody tr th {\n",
       "        vertical-align: top;\n",
       "    }\n",
       "\n",
       "    .dataframe thead th {\n",
       "        text-align: right;\n",
       "    }\n",
       "</style>\n",
       "<table border=\"1\" class=\"dataframe\">\n",
       "  <thead>\n",
       "    <tr style=\"text-align: right;\">\n",
       "      <th></th>\n",
       "      <th></th>\n",
       "      <th>views</th>\n",
       "    </tr>\n",
       "    <tr>\n",
       "      <th>timestamp</th>\n",
       "      <th>article</th>\n",
       "      <th></th>\n",
       "    </tr>\n",
       "  </thead>\n",
       "  <tbody>\n",
       "    <tr>\n",
       "      <th>2020010100</th>\n",
       "      <th>Paris</th>\n",
       "      <td>7057</td>\n",
       "    </tr>\n",
       "    <tr>\n",
       "      <th>2020010200</th>\n",
       "      <th>Paris</th>\n",
       "      <td>6462</td>\n",
       "    </tr>\n",
       "    <tr>\n",
       "      <th>2020010300</th>\n",
       "      <th>Paris</th>\n",
       "      <td>6090</td>\n",
       "    </tr>\n",
       "    <tr>\n",
       "      <th>2020010400</th>\n",
       "      <th>Paris</th>\n",
       "      <td>5906</td>\n",
       "    </tr>\n",
       "    <tr>\n",
       "      <th>2020010500</th>\n",
       "      <th>Paris</th>\n",
       "      <td>5852</td>\n",
       "    </tr>\n",
       "    <tr>\n",
       "      <th>...</th>\n",
       "      <th>...</th>\n",
       "      <td>...</td>\n",
       "    </tr>\n",
       "    <tr>\n",
       "      <th>2020062700</th>\n",
       "      <th>Berlin</th>\n",
       "      <td>3440</td>\n",
       "    </tr>\n",
       "    <tr>\n",
       "      <th>2020062800</th>\n",
       "      <th>Berlin</th>\n",
       "      <td>3418</td>\n",
       "    </tr>\n",
       "    <tr>\n",
       "      <th>2020062900</th>\n",
       "      <th>Berlin</th>\n",
       "      <td>3474</td>\n",
       "    </tr>\n",
       "    <tr>\n",
       "      <th>2020063000</th>\n",
       "      <th>Berlin</th>\n",
       "      <td>3197</td>\n",
       "    </tr>\n",
       "    <tr>\n",
       "      <th>2020070100</th>\n",
       "      <th>Berlin</th>\n",
       "      <td>3256</td>\n",
       "    </tr>\n",
       "  </tbody>\n",
       "</table>\n",
       "<p>366 rows × 1 columns</p>\n",
       "</div>"
      ],
      "text/plain": [
       "                    views\n",
       "timestamp  article       \n",
       "2020010100 Paris     7057\n",
       "2020010200 Paris     6462\n",
       "2020010300 Paris     6090\n",
       "2020010400 Paris     5906\n",
       "2020010500 Paris     5852\n",
       "...                   ...\n",
       "2020062700 Berlin    3440\n",
       "2020062800 Berlin    3418\n",
       "2020062900 Berlin    3474\n",
       "2020063000 Berlin    3197\n",
       "2020070100 Berlin    3256\n",
       "\n",
       "[366 rows x 1 columns]"
      ]
     },
     "execution_count": 19,
     "metadata": {},
     "output_type": "execute_result"
    }
   ],
   "source": [
    "df_final"
   ]
  },
  {
   "cell_type": "code",
   "execution_count": null,
   "metadata": {},
   "outputs": [],
   "source": [
    "df_berlin\n",
    "new_df = df_Berlin.set_index(['timestamp']).drop(labels = ['project', 'granularity'\n",
    "                                                , 'access', 'agent'], axis = 1)"
   ]
  },
  {
   "cell_type": "code",
   "execution_count": null,
   "metadata": {},
   "outputs": [],
   "source": [
    "df = pd.json_normalize(r.json(), record_path = ['items'])\n",
    "#Create new df, named after article title\n",
    "locals()['df_'+df['article'][0].lower()] = df.set_index(['timestamp']).drop(labels = ['project', 'granularity'\n",
    ", 'access', 'agent'], axis = 1)"
   ]
  },
  {
   "cell_type": "code",
   "execution_count": null,
   "metadata": {},
   "outputs": [],
   "source": [
    "df_berlin"
   ]
  },
  {
   "cell_type": "code",
   "execution_count": 20,
   "metadata": {},
   "outputs": [],
   "source": [
    "def json_to_df(json_obj, return_df):\n",
    "    #Create df from json with nested list\n",
    "    df = pd.json_normalize(json_obj, record_path = ['items']).set_index(['timestamp', 'article']).drop(labels = ['project', 'granularity'\n",
    "    , 'access', 'agent'], axis = 1)\n",
    "    return_df = pd.concat(return_df,df)\n",
    "    return return_df"
   ]
  },
  {
   "cell_type": "code",
   "execution_count": 6,
   "metadata": {},
   "outputs": [
    {
     "ename": "NameError",
     "evalue": "name 'df_berlin' is not defined",
     "output_type": "error",
     "traceback": [
      "\u001b[1;31m---------------------------------------------------------------------------\u001b[0m",
      "\u001b[1;31mNameError\u001b[0m                                 Traceback (most recent call last)",
      "\u001b[1;32mc:\\Users\\cpien\\OneDrive\\Documents\\EPFL\\Master\\MA3\\ADA\\Project\\ada-2022-project-thedatadiggers22\\test_Carl.ipynb Cellule 12\u001b[0m in \u001b[0;36m<cell line: 1>\u001b[1;34m()\u001b[0m\n\u001b[1;32m----> <a href='vscode-notebook-cell:/c%3A/Users/cpien/OneDrive/Documents/EPFL/Master/MA3/ADA/Project/ada-2022-project-thedatadiggers22/test_Carl.ipynb#X14sZmlsZQ%3D%3D?line=0'>1</a>\u001b[0m json_to_df(r\u001b[39m.\u001b[39;49mjson())\n",
      "\u001b[1;32mc:\\Users\\cpien\\OneDrive\\Documents\\EPFL\\Master\\MA3\\ADA\\Project\\ada-2022-project-thedatadiggers22\\test_Carl.ipynb Cellule 12\u001b[0m in \u001b[0;36mjson_to_df\u001b[1;34m(json_obj)\u001b[0m\n\u001b[0;32m      <a href='vscode-notebook-cell:/c%3A/Users/cpien/OneDrive/Documents/EPFL/Master/MA3/ADA/Project/ada-2022-project-thedatadiggers22/test_Carl.ipynb#X14sZmlsZQ%3D%3D?line=3'>4</a>\u001b[0m \u001b[39m#Create new df, named after article title\u001b[39;00m\n\u001b[0;32m      <a href='vscode-notebook-cell:/c%3A/Users/cpien/OneDrive/Documents/EPFL/Master/MA3/ADA/Project/ada-2022-project-thedatadiggers22/test_Carl.ipynb#X14sZmlsZQ%3D%3D?line=4'>5</a>\u001b[0m \u001b[39mlocals\u001b[39m()[\u001b[39m'\u001b[39m\u001b[39mdf_\u001b[39m\u001b[39m'\u001b[39m\u001b[39m+\u001b[39mdf[\u001b[39m'\u001b[39m\u001b[39marticle\u001b[39m\u001b[39m'\u001b[39m][\u001b[39m0\u001b[39m]\u001b[39m.\u001b[39mlower()] \u001b[39m=\u001b[39m df\u001b[39m.\u001b[39mset_index([\u001b[39m'\u001b[39m\u001b[39mtimestamp\u001b[39m\u001b[39m'\u001b[39m])\u001b[39m.\u001b[39mdrop(labels \u001b[39m=\u001b[39m [\u001b[39m'\u001b[39m\u001b[39mproject\u001b[39m\u001b[39m'\u001b[39m, \u001b[39m'\u001b[39m\u001b[39mgranularity\u001b[39m\u001b[39m'\u001b[39m\n\u001b[0;32m      <a href='vscode-notebook-cell:/c%3A/Users/cpien/OneDrive/Documents/EPFL/Master/MA3/ADA/Project/ada-2022-project-thedatadiggers22/test_Carl.ipynb#X14sZmlsZQ%3D%3D?line=5'>6</a>\u001b[0m     , \u001b[39m'\u001b[39m\u001b[39maccess\u001b[39m\u001b[39m'\u001b[39m, \u001b[39m'\u001b[39m\u001b[39magent\u001b[39m\u001b[39m'\u001b[39m], axis \u001b[39m=\u001b[39m \u001b[39m1\u001b[39m)\n\u001b[1;32m----> <a href='vscode-notebook-cell:/c%3A/Users/cpien/OneDrive/Documents/EPFL/Master/MA3/ADA/Project/ada-2022-project-thedatadiggers22/test_Carl.ipynb#X14sZmlsZQ%3D%3D?line=6'>7</a>\u001b[0m \u001b[39mprint\u001b[39m(df_berlin)\n\u001b[0;32m      <a href='vscode-notebook-cell:/c%3A/Users/cpien/OneDrive/Documents/EPFL/Master/MA3/ADA/Project/ada-2022-project-thedatadiggers22/test_Carl.ipynb#X14sZmlsZQ%3D%3D?line=7'>8</a>\u001b[0m \u001b[39mreturn\u001b[39;00m df_berlin\u001b[39m.\u001b[39mhead()\n",
      "\u001b[1;31mNameError\u001b[0m: name 'df_berlin' is not defined"
     ]
    }
   ],
   "source": [
    "df_paris = "
   ]
  },
  {
   "cell_type": "markdown",
   "metadata": {},
   "source": [
    "## Data pipeline\n"
   ]
  },
  {
   "cell_type": "code",
   "execution_count": 41,
   "metadata": {},
   "outputs": [],
   "source": [
    "'''\n",
    "Function to be used within data fetching script\n",
    "Inputs : \n",
    "    - json_obj : dict that was fetched in the given iteration of the script\n",
    "    - return_df : final df that will be return at the end of the script\n",
    "Output : concatenated df\n",
    "'''\n",
    "def json_to_df(json_obj, return_df):\n",
    "    #Create df from json with nested list\n",
    "    df = pd.json_normalize(json_obj, record_path = ['items']).set_index(['timestamp', 'article']).drop(labels = ['project', 'granularity'\n",
    "    , 'access', 'agent'], axis = 1)\n",
    "    #concatenation\n",
    "    return  pd.concat([return_df, df])\n"
   ]
  },
  {
   "cell_type": "markdown",
   "metadata": {},
   "source": [
    "### Testing"
   ]
  },
  {
   "cell_type": "code",
   "execution_count": 42,
   "metadata": {},
   "outputs": [
    {
     "name": "stdout",
     "output_type": "stream",
     "text": [
      "ping1\n",
      "ping2\n",
      "ping1\n",
      "ping2\n",
      "ping1\n",
      "ping2\n",
      "ping1\n",
      "ping2\n",
      "ping1\n",
      "ping2\n"
     ]
    }
   ],
   "source": [
    "titles = ['Berlin', 'Paris', 'London', 'Tokyo', 'Geneva']\n",
    "return_df = pd.DataFrame()\n",
    "for name in titles :\n",
    "    url = 'https://wikimedia.org/api/rest_v1/metrics/pageviews/per-article/en.wikipedia.org/all-access/user/'+name+'/daily/20200101/20200701'\n",
    "    header = {'User-Agent' : 'Carl Piening (academic project; carl.piening@epfl.ch; https://github.com/epfl-ada/ada-2022-project-thedatadiggers22)'}\n",
    "    r = requests.get(url, headers = header)\n",
    "    return_df = json_to_df(r.json(), return_df)\n"
   ]
  },
  {
   "cell_type": "code",
   "execution_count": 49,
   "metadata": {},
   "outputs": [],
   "source": [
    "test_df = return_df.groupby(['timestamp'])['views'].sum().to_frame()"
   ]
  },
  {
   "cell_type": "code",
   "execution_count": 50,
   "metadata": {},
   "outputs": [
    {
     "data": {
      "text/html": [
       "<div>\n",
       "<style scoped>\n",
       "    .dataframe tbody tr th:only-of-type {\n",
       "        vertical-align: middle;\n",
       "    }\n",
       "\n",
       "    .dataframe tbody tr th {\n",
       "        vertical-align: top;\n",
       "    }\n",
       "\n",
       "    .dataframe thead th {\n",
       "        text-align: right;\n",
       "    }\n",
       "</style>\n",
       "<table border=\"1\" class=\"dataframe\">\n",
       "  <thead>\n",
       "    <tr style=\"text-align: right;\">\n",
       "      <th></th>\n",
       "      <th>views</th>\n",
       "    </tr>\n",
       "    <tr>\n",
       "      <th>timestamp</th>\n",
       "      <th></th>\n",
       "    </tr>\n",
       "  </thead>\n",
       "  <tbody>\n",
       "    <tr>\n",
       "      <th>2020010100</th>\n",
       "      <td>28645</td>\n",
       "    </tr>\n",
       "    <tr>\n",
       "      <th>2020010200</th>\n",
       "      <td>30662</td>\n",
       "    </tr>\n",
       "    <tr>\n",
       "      <th>2020010300</th>\n",
       "      <td>29209</td>\n",
       "    </tr>\n",
       "    <tr>\n",
       "      <th>2020010400</th>\n",
       "      <td>28947</td>\n",
       "    </tr>\n",
       "    <tr>\n",
       "      <th>2020010500</th>\n",
       "      <td>29566</td>\n",
       "    </tr>\n",
       "    <tr>\n",
       "      <th>...</th>\n",
       "      <td>...</td>\n",
       "    </tr>\n",
       "    <tr>\n",
       "      <th>2020062700</th>\n",
       "      <td>21188</td>\n",
       "    </tr>\n",
       "    <tr>\n",
       "      <th>2020062800</th>\n",
       "      <td>22734</td>\n",
       "    </tr>\n",
       "    <tr>\n",
       "      <th>2020062900</th>\n",
       "      <td>22839</td>\n",
       "    </tr>\n",
       "    <tr>\n",
       "      <th>2020063000</th>\n",
       "      <td>21568</td>\n",
       "    </tr>\n",
       "    <tr>\n",
       "      <th>2020070100</th>\n",
       "      <td>21392</td>\n",
       "    </tr>\n",
       "  </tbody>\n",
       "</table>\n",
       "<p>183 rows × 1 columns</p>\n",
       "</div>"
      ],
      "text/plain": [
       "            views\n",
       "timestamp        \n",
       "2020010100  28645\n",
       "2020010200  30662\n",
       "2020010300  29209\n",
       "2020010400  28947\n",
       "2020010500  29566\n",
       "...           ...\n",
       "2020062700  21188\n",
       "2020062800  22734\n",
       "2020062900  22839\n",
       "2020063000  21568\n",
       "2020070100  21392\n",
       "\n",
       "[183 rows x 1 columns]"
      ]
     },
     "execution_count": 50,
     "metadata": {},
     "output_type": "execute_result"
    }
   ],
   "source": [
    "test_df"
   ]
  },
  {
   "cell_type": "code",
   "execution_count": null,
   "metadata": {},
   "outputs": [],
   "source": []
  }
 ],
 "metadata": {
  "kernelspec": {
   "display_name": "Python 3.9.13 ('ada')",
   "language": "python",
   "name": "python3"
  },
  "language_info": {
   "codemirror_mode": {
    "name": "ipython",
    "version": 3
   },
   "file_extension": ".py",
   "mimetype": "text/x-python",
   "name": "python",
   "nbconvert_exporter": "python",
   "pygments_lexer": "ipython3",
   "version": "3.9.13"
  },
  "orig_nbformat": 4,
  "vscode": {
   "interpreter": {
    "hash": "ee3a1451dba3bfe2ccb5b363569821480fd7b3eca1773056339fe96429f848db"
   }
  }
 },
 "nbformat": 4,
 "nbformat_minor": 2
}
