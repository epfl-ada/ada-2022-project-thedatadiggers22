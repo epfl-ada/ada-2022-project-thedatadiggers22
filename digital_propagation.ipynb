{
 "cells": [
  {
   "cell_type": "code",
   "execution_count": 295,
   "metadata": {},
   "outputs": [],
   "source": [
    "import pandas as pd\n",
    "import numpy as np\n",
    "import matplotlib.pyplot as plt\n",
    "import seaborn as sn\n",
    "from scipy import stats\n",
    "from helper import *\n",
    "from scipy.stats.mstats import gmean\n",
    "#Importation of all the packages\n",
    "import datetime\n",
    "import math\n",
    "import json\n",
    "import zipfile  \n",
    "import ssl\n",
    "from scipy import stats\n",
    "import statsmodels.formula.api as smf\n",
    "import statsmodels.api as sm\n",
    "import plotly.express as px\n",
    "\n",
    "#To dowload data\n",
    "import requests\n",
    "import io\n",
    "import gzip\n",
    "\n",
    "#To create the mapchart\n",
    "import iso3166\n",
    "import plotly\n",
    "from iso3166 import countries\n",
    "import plotly.graph_objects as go"
   ]
  },
  {
   "cell_type": "code",
   "execution_count": 296,
   "metadata": {},
   "outputs": [],
   "source": [
    "pageview_df = pd.read_csv(\"page_views_covid_related.csv.gz\")\n",
    "population_df = pd.read_csv(\"Population_countries.csv\")"
   ]
  },
  {
   "cell_type": "code",
   "execution_count": 297,
   "metadata": {},
   "outputs": [],
   "source": [
    "\n",
    "def get_pageviews_df(raw_pageview_df: pd.DataFrame, population_df: pd.DataFrame, country_dict: dict, start: str, end: str):\n",
    "    '''\n",
    "    Function to get the different pageviews dataset\n",
    "    \n",
    "    Inputs : \n",
    "\n",
    "        - raw_pageview_df : raw dataset from csv\n",
    "        - population_df : raw population dataset from csv\n",
    "        - country_dict : countries we are interested in with language code\n",
    "        - start : start date (yyyy-mm-dd)\n",
    "        - end : end date (yyyy-mm-dd)\n",
    "        \n",
    "    Output : df_pageviews, df_pageviews_cumul, df_pageviews100k, df_pageviews_cumul100k\n",
    "    '''\n",
    "    #inv_country_dict = {v: k for k, v in country_dict.items()}\n",
    "    pageview_df_imp_country = raw_pageview_df[[\"date\"] + list(country_dict.values())].set_index('date')\n",
    "    df_pageviews = pageview_df_imp_country.loc[pageview_df_imp_country.index < end]\n",
    "    df_pageviews = df_pageviews.loc[df_pageviews.index >= start]\n",
    "    df_pageviews = df_pageviews.interpolate(method ='linear', limit_direction ='forward') \n",
    "    df_pageviews = df_pageviews.fillna(0)\n",
    "\n",
    "    df_pageviews_cumul = df_pageviews.cumsum()\n",
    "\n",
    "    COUNTRY_OWN_LANG_POP = {\"Italy\" : \"it\", \"Russian Federation\": \"ru\", \"China\": \"zh\", \"Albania\": \"sq\", \n",
    "    \"Bangladesh\": \"bn\", \"Botswana\": \"tn\", \"Cambodia\": \"km\", \"Croatia\": \"hr\", \"Greece\": \"el\", \"Sweden\": \"sv\", \"Finland\": \"fi\", \"Norway\": \"no\",\n",
    "    \"Malaysia\": \"ms\", \"Israel\": \"he\", \"Lithuania\": \"lt\", \"Serbia\": \"sr\", \"Slovak Republic\": \"sk\", \"Slovenia\": \"sl\", \"Turkiye\": \"tr\",\n",
    "    \"Vietnam\": \"vi\", \"Bulgaria\": \"bg\", \"Czechia\": \"cs\", \"Denmark\": \"da\", \"Georgia\": \"ka\", \"Germany\": \"de\", \n",
    "    \"Hungary\": \"hu\", \"Iceland\": \"is\", \"Japan\": \"ja\", \"Kazakhstan\": \"kk\", \"Korea, Rep.\": \"ko\", \"Kyrgyz Republic\": 'ky', \"Netherlands\": \"nl\", \"Poland\": \"pl\", \n",
    "    \"Romania\": \"ro\", \"Tajikistan\": \"tg\", \"Thailand\": \"th\", \"Azerbaijan\": \"az\", \"Mongolia\": \"mn\"}\n",
    "\n",
    "    population_df = population_df[[\"Country Name\", \"2020\"]]\n",
    "    population_df = population_df.set_index(\"Country Name\")\n",
    "    population_df = population_df.transpose()\n",
    "    population_df = population_df[list(COUNTRY_OWN_LANG_POP.keys())]\n",
    "    population_df = population_df.rename(columns= COUNTRY_OWN_LANG_POP)\n",
    "\n",
    "    df_pageviews_cumul100k = df_pageviews_cumul/population_df.values * 100000\n",
    "    df_pageviews100k = df_pageviews/population_df.values * 100000\n",
    "    return df_pageviews, df_pageviews_cumul, df_pageviews100k, df_pageviews_cumul100k"
   ]
  },
  {
   "cell_type": "code",
   "execution_count": 298,
   "metadata": {},
   "outputs": [],
   "source": [
    "\n",
    "def get_cases_deaths_df(population_df: pd.DataFrame, country_dict: dict, start: str, end: str):\n",
    "    '''\n",
    "    Function to get the different COVID cases and deaths dataset\n",
    "    \n",
    "    Inputs : \n",
    "\n",
    "        - population_df : raw population dataset from csv\n",
    "        - country_dict : countries we are interested in with language code\n",
    "        - start : start date (yyyy-mm-dd)\n",
    "        - end : end date (yyyy-mm-dd)\n",
    "\n",
    "    Output : deaths, cases, deaths_cumul, cases_cumul, deaths100k, deaths100k_cumul, cases100k, cases100k_cumul\n",
    "    '''\n",
    "    ssl._create_default_https_context = ssl._create_unverified_context\n",
    "    death_url = \"https://github.com/owid/covid-19-data/blob/master/public/data/jhu/new_deaths.csv?raw=true\" # Make sure the url is the raw version of the file on GitHub\n",
    "    cases_url = \"https://github.com/owid/covid-19-data/blob/master/public/data/jhu/new_cases.csv?raw=true\"\n",
    "\n",
    "    # Reading the downloaded content and turning it into a pandas dataframe\n",
    "    deaths = pd.read_csv(death_url,index_col=0)\n",
    "    cases = pd.read_csv(cases_url,index_col=0)\n",
    "    deaths= deaths.interpolate(method ='linear', limit_direction ='forward') \n",
    "    cases = cases.interpolate(method ='linear', limit_direction ='forward') \n",
    "    deaths = deaths.fillna(0)\n",
    "    cases = cases.fillna(0)\n",
    "    #Keep only values between start and end\n",
    "    deaths = deaths[deaths.index < end]\n",
    "    cases = cases[cases.index < end] \n",
    "    deaths = deaths[deaths.index >= start]\n",
    "    cases = cases[cases.index >= start]\n",
    "\n",
    "    deaths = deaths.rename(columns= country_dict)[country_dict.values()]\n",
    "    cases = cases.rename(columns= country_dict)[country_dict.values()]\n",
    "\n",
    "    deaths_cumul = deaths.cumsum()\n",
    "    cases_cumul = cases.cumsum()\n",
    "    \n",
    "    COUNTRY_OWN_LANG_POP = {\"Italy\" : \"it\", \"Russian Federation\": \"ru\", \"China\": \"zh\", \"Albania\": \"sq\", \n",
    "    \"Bangladesh\": \"bn\", \"Botswana\": \"tn\", \"Cambodia\": \"km\", \"Croatia\": \"hr\", \"Greece\": \"el\", \"Sweden\": \"sv\", \"Finland\": \"fi\", \"Norway\": \"no\",\n",
    "    \"Malaysia\": \"ms\", \"Israel\": \"he\", \"Lithuania\": \"lt\", \"Serbia\": \"sr\", \"Slovak Republic\": \"sk\", \"Slovenia\": \"sl\", \"Turkiye\": \"tr\",\n",
    "    \"Vietnam\": \"vi\", \"Bulgaria\": \"bg\", \"Czechia\": \"cs\", \"Denmark\": \"da\", \"Georgia\": \"ka\", \"Germany\": \"de\", \n",
    "    \"Hungary\": \"hu\", \"Iceland\": \"is\", \"Japan\": \"ja\", \"Kazakhstan\": \"kk\", \"Korea, Rep.\": \"ko\", \"Kyrgyz Republic\": 'ky', \"Netherlands\": \"nl\", \"Poland\": \"pl\", \n",
    "    \"Romania\": \"ro\", \"Tajikistan\": \"tg\", \"Thailand\": \"th\", \"Azerbaijan\": \"az\", \"Mongolia\": \"mn\"}\n",
    "\n",
    "    population_df = population_df[[\"Country Name\", \"2020\"]]\n",
    "    population_df = population_df.set_index(\"Country Name\")\n",
    "    population_df = population_df.transpose()\n",
    "    population_df = population_df[list(COUNTRY_OWN_LANG_POP.keys())]\n",
    "    population_df = population_df.rename(columns= COUNTRY_OWN_LANG_POP)\n",
    "\n",
    "    deaths100k = deaths/population_df.values * 100000\n",
    "    deaths100k_cumul = deaths_cumul/population_df.values * 100000\n",
    "    cases100k = cases/population_df.values * 100000\n",
    "    cases100k_cumul = cases_cumul/population_df.values * 100000\n",
    "    return deaths, cases, deaths_cumul, cases_cumul, deaths100k, deaths100k_cumul, cases100k, cases100k_cumul\n",
    "    "
   ]
  },
  {
   "attachments": {},
   "cell_type": "markdown",
   "metadata": {},
   "source": [
    "### Cumul pageviews, cases and deaths during 1st wave beteween 2020-01-22 and 2020-05-22."
   ]
  },
  {
   "cell_type": "code",
   "execution_count": 299,
   "metadata": {},
   "outputs": [],
   "source": [
    "_, _, _, df_pageviews_cumul100k = get_pageviews_df(pageview_df, population_df, get_country_dict('original'), '2020-01-22', '2020-05-22')\n",
    "_, _, _, _, _, deaths100k_cumul, _, cases100k_cumul = get_cases_deaths_df(population_df, get_country_dict('original'), '2020-01-22', '2020-05-22')"
   ]
  },
  {
   "cell_type": "code",
   "execution_count": 300,
   "metadata": {},
   "outputs": [
    {
     "name": "stdout",
     "output_type": "stream",
     "text": [
      "Our model summary is:\n"
     ]
    },
    {
     "data": {
      "text/html": [
       "<table class=\"simpletable\">\n",
       "<caption>OLS Regression Results</caption>\n",
       "<tr>\n",
       "  <th>Dep. Variable:</th>            <td>y</td>        <th>  R-squared:         </th> <td>   0.512</td>\n",
       "</tr>\n",
       "<tr>\n",
       "  <th>Model:</th>                   <td>OLS</td>       <th>  Adj. R-squared:    </th> <td>   0.497</td>\n",
       "</tr>\n",
       "<tr>\n",
       "  <th>Method:</th>             <td>Least Squares</td>  <th>  F-statistic:       </th> <td>   34.63</td>\n",
       "</tr>\n",
       "<tr>\n",
       "  <th>Date:</th>             <td>Wed, 21 Dec 2022</td> <th>  Prob (F-statistic):</th> <td>1.35e-06</td>\n",
       "</tr>\n",
       "<tr>\n",
       "  <th>Time:</th>                 <td>10:10:52</td>     <th>  Log-Likelihood:    </th> <td> -59.005</td>\n",
       "</tr>\n",
       "<tr>\n",
       "  <th>No. Observations:</th>      <td>    35</td>      <th>  AIC:               </th> <td>   122.0</td>\n",
       "</tr>\n",
       "<tr>\n",
       "  <th>Df Residuals:</th>          <td>    33</td>      <th>  BIC:               </th> <td>   125.1</td>\n",
       "</tr>\n",
       "<tr>\n",
       "  <th>Df Model:</th>              <td>     1</td>      <th>                     </th>     <td> </td>   \n",
       "</tr>\n",
       "<tr>\n",
       "  <th>Covariance Type:</th>      <td>nonrobust</td>    <th>                     </th>     <td> </td>   \n",
       "</tr>\n",
       "</table>\n",
       "<table class=\"simpletable\">\n",
       "<tr>\n",
       "      <td></td>         <th>coef</th>     <th>std err</th>      <th>t</th>      <th>P>|t|</th>  <th>[0.025</th>    <th>0.975]</th>  \n",
       "</tr>\n",
       "<tr>\n",
       "  <th>Intercept</th> <td>    7.4383</td> <td>    0.237</td> <td>   31.445</td> <td> 0.000</td> <td>    6.957</td> <td>    7.920</td>\n",
       "</tr>\n",
       "<tr>\n",
       "  <th>x</th>         <td>    0.7979</td> <td>    0.136</td> <td>    5.885</td> <td> 0.000</td> <td>    0.522</td> <td>    1.074</td>\n",
       "</tr>\n",
       "</table>\n",
       "<table class=\"simpletable\">\n",
       "<tr>\n",
       "  <th>Omnibus:</th>       <td> 6.063</td> <th>  Durbin-Watson:     </th> <td>   2.411</td>\n",
       "</tr>\n",
       "<tr>\n",
       "  <th>Prob(Omnibus):</th> <td> 0.048</td> <th>  Jarque-Bera (JB):  </th> <td>   4.561</td>\n",
       "</tr>\n",
       "<tr>\n",
       "  <th>Skew:</th>          <td>-0.810</td> <th>  Prob(JB):          </th> <td>   0.102</td>\n",
       "</tr>\n",
       "<tr>\n",
       "  <th>Kurtosis:</th>      <td> 3.711</td> <th>  Cond. No.          </th> <td>    1.88</td>\n",
       "</tr>\n",
       "</table><br/><br/>Notes:<br/>[1] Standard Errors assume that the covariance matrix of the errors is correctly specified."
      ],
      "text/plain": [
       "<class 'statsmodels.iolib.summary.Summary'>\n",
       "\"\"\"\n",
       "                            OLS Regression Results                            \n",
       "==============================================================================\n",
       "Dep. Variable:                      y   R-squared:                       0.512\n",
       "Model:                            OLS   Adj. R-squared:                  0.497\n",
       "Method:                 Least Squares   F-statistic:                     34.63\n",
       "Date:                Wed, 21 Dec 2022   Prob (F-statistic):           1.35e-06\n",
       "Time:                        10:10:52   Log-Likelihood:                -59.005\n",
       "No. Observations:                  35   AIC:                             122.0\n",
       "Df Residuals:                      33   BIC:                             125.1\n",
       "Df Model:                           1                                         \n",
       "Covariance Type:            nonrobust                                         \n",
       "==============================================================================\n",
       "                 coef    std err          t      P>|t|      [0.025      0.975]\n",
       "------------------------------------------------------------------------------\n",
       "Intercept      7.4383      0.237     31.445      0.000       6.957       7.920\n",
       "x              0.7979      0.136      5.885      0.000       0.522       1.074\n",
       "==============================================================================\n",
       "Omnibus:                        6.063   Durbin-Watson:                   2.411\n",
       "Prob(Omnibus):                  0.048   Jarque-Bera (JB):                4.561\n",
       "Skew:                          -0.810   Prob(JB):                        0.102\n",
       "Kurtosis:                       3.711   Cond. No.                         1.88\n",
       "==============================================================================\n",
       "\n",
       "Notes:\n",
       "[1] Standard Errors assume that the covariance matrix of the errors is correctly specified.\n",
       "\"\"\""
      ]
     },
     "execution_count": 300,
     "metadata": {},
     "output_type": "execute_result"
    }
   ],
   "source": [
    "data = pd.DataFrame()\n",
    "data['y'] = np.log(df_pageviews_cumul100k.max().transpose().replace(0, np.nan))\n",
    "data['x2'] = np.log(cases100k_cumul.max().transpose().replace(0, np.nan))\n",
    "data['x'] = np.log(deaths100k_cumul.max().transpose().replace(0, np.nan))\n",
    "data = data.dropna()\n",
    "data = data.rename(index= {v: k for k, v in get_country_dict('original').items()}).reset_index().rename(columns = {'index': 'Country'})\n",
    "\n",
    "#We apply a linear regression using as estimates OLS\n",
    "model = smf.ols('y ~ x', data=data).fit()\n",
    "\n",
    "results = model.summary()\n",
    "\n",
    "#Show the results of the linear regression\n",
    "print(\"Our model summary is:\")\n",
    "results"
   ]
  },
  {
   "cell_type": "code",
   "execution_count": 301,
   "metadata": {},
   "outputs": [
    {
     "data": {
      "application/vnd.plotly.v1+json": {
       "config": {
        "plotlyServerURL": "https://plot.ly"
       },
       "data": [
        {
         "hovertemplate": "<b>%{hovertext}</b><br><br>x=%{x}<br>y=%{y}<extra></extra>",
         "hovertext": [
          "Italy",
          "Russia",
          "China",
          "Albania",
          "Bangladesh",
          "Botswana",
          "Croatia",
          "Greece",
          "Sweden",
          "Finland",
          "Norway",
          "Malaysia",
          "Israel",
          "Lithuania",
          "Serbia",
          "Slovakia",
          "Slovenia",
          "Turkey",
          "Bulgaria",
          "Czechia",
          "Denmark",
          "Georgia",
          "Germany",
          "Hungary",
          "Iceland",
          "Japan",
          "Kazakhstan",
          "South Korea",
          "Kyrgyzstan",
          "Netherlands",
          "Poland",
          "Romania",
          "Tajikistan",
          "Thailand",
          "Azerbaijan"
         ],
         "legendgroup": "",
         "marker": {
          "color": "#636efa",
          "symbol": "circle"
         },
         "mode": "markers",
         "name": "",
         "orientation": "v",
         "showlegend": false,
         "type": "scatter",
         "x": [
          4.0008517464459254,
          0.7659285844379639,
          -1.4256823336716264,
          0.08835574065220375,
          -1.3953790910362913,
          -3.157691671543203,
          0.8739820080322972,
          0.4510831836745404,
          3.6914413070397756,
          1.6977367524061309,
          1.4744096353811362,
          -1.0347613919322476,
          1.1149261334048466,
          0.4982653426360715,
          1.248740259638123,
          -0.6676145143304404,
          1.6177654145599878,
          1.6170086612301517,
          0.5484676392739751,
          1.0655552738675904,
          2.2832961036890183,
          -1.1321319526191407,
          2.2820430105961598,
          1.579227728553619,
          1.003857717731264,
          -0.42434151254592223,
          -1.678732924938524,
          -0.674725489105538,
          -1.5475473110321398,
          3.5024500536164265,
          0.9418441379376559,
          1.792234322437426,
          -0.7736417441731667,
          -2.522867096840927,
          -0.8302495617675314
         ],
         "xaxis": "x",
         "y": [
          9.738432009878567,
          9.705630106489572,
          7.040578400503145,
          6.891431275783025,
          5.598794456074647,
          3.5491706650595436,
          8.503557080048243,
          8.866440065397978,
          8.361958033005994,
          9.50814583066661,
          8.34299492332786,
          7.320234046025152,
          9.835399424213534,
          8.645087744251668,
          7.356054813373959,
          8.540348032859779,
          8.255641469917613,
          7.792851955736222,
          8.342961247868242,
          10.353895391092568,
          8.1999645721298,
          6.800140463308023,
          10.330620135493826,
          8.967413064694204,
          7.758228689814044,
          9.058702484844815,
          5.6709020439965725,
          7.883894604746356,
          3.069339678623173,
          9.661714122904451,
          9.438352226370807,
          8.994184803134267,
          3.0789207343443517,
          6.066998853629784,
          6.276021199310021
         ],
         "yaxis": "y"
        },
        {
         "hovertemplate": "<b>OLS trendline</b><br>y = 0.797948 * x + 7.4383<br>R<sup>2</sup>=0.512040<br><br>x=%{x}<br>y=%{y} <b>(trend)</b><extra></extra>",
         "legendgroup": "",
         "marker": {
          "color": "#636efa",
          "symbol": "circle"
         },
         "mode": "lines",
         "name": "",
         "showlegend": false,
         "type": "scatter",
         "x": [
          -3.157691671543203,
          -2.522867096840927,
          -1.678732924938524,
          -1.5475473110321398,
          -1.4256823336716264,
          -1.3953790910362913,
          -1.1321319526191407,
          -1.0347613919322476,
          -0.8302495617675314,
          -0.7736417441731667,
          -0.674725489105538,
          -0.6676145143304404,
          -0.42434151254592223,
          0.08835574065220375,
          0.4510831836745404,
          0.4982653426360715,
          0.5484676392739751,
          0.7659285844379639,
          0.8739820080322972,
          0.9418441379376559,
          1.003857717731264,
          1.0655552738675904,
          1.1149261334048466,
          1.248740259638123,
          1.4744096353811362,
          1.579227728553619,
          1.6170086612301517,
          1.6177654145599878,
          1.6977367524061309,
          1.792234322437426,
          2.2820430105961598,
          2.2832961036890183,
          3.5024500536164265,
          3.6914413070397756,
          4.0008517464459254
         ],
         "xaxis": "x",
         "y": [
          4.918621514061414,
          5.425178576592983,
          6.0987538342961685,
          6.20343314551846,
          6.300675072528247,
          6.324855487380233,
          6.5349130410264085,
          6.612609694817318,
          6.775799520903965,
          6.820969621337416,
          6.899899659020946,
          6.905573847824205,
          7.099693077116797,
          7.508798875627901,
          7.798236549213797,
          7.835885463260106,
          7.875944290423755,
          8.04946683820677,
          8.1356878621457,
          8.189838319692363,
          8.239321937795914,
          8.288553385422926,
          8.32794876893274,
          8.434725496569264,
          8.614797945927933,
          8.698437344107367,
          8.72858456751204,
          8.729188417392935,
          8.793001394395379,
          8.868405550754439,
          9.259247462305346,
          9.260247365556564,
          10.233068942192315,
          10.383874153574041,
          10.630767625484275
         ],
         "yaxis": "y"
        }
       ],
       "layout": {
        "annotations": [
         {
          "showarrow": false,
          "text": "    The x axis shows the log of the cumulative deaths for 100k of population.",
          "x": 0,
          "xref": "paper",
          "y": 1.13,
          "yref": "paper"
         },
         {
          "showarrow": false,
          "text": "    The y axis shows the log of the cumulative pageviews for 100k of population.",
          "x": 0,
          "xref": "paper",
          "y": 1.09,
          "yref": "paper"
         }
        ],
        "legend": {
         "tracegroupgap": 0
        },
        "margin": {
         "b": 0,
         "l": 20,
         "r": 20,
         "t": 100
        },
        "template": {
         "data": {
          "bar": [
           {
            "error_x": {
             "color": "#2a3f5f"
            },
            "error_y": {
             "color": "#2a3f5f"
            },
            "marker": {
             "line": {
              "color": "#E5ECF6",
              "width": 0.5
             },
             "pattern": {
              "fillmode": "overlay",
              "size": 10,
              "solidity": 0.2
             }
            },
            "type": "bar"
           }
          ],
          "barpolar": [
           {
            "marker": {
             "line": {
              "color": "#E5ECF6",
              "width": 0.5
             },
             "pattern": {
              "fillmode": "overlay",
              "size": 10,
              "solidity": 0.2
             }
            },
            "type": "barpolar"
           }
          ],
          "carpet": [
           {
            "aaxis": {
             "endlinecolor": "#2a3f5f",
             "gridcolor": "white",
             "linecolor": "white",
             "minorgridcolor": "white",
             "startlinecolor": "#2a3f5f"
            },
            "baxis": {
             "endlinecolor": "#2a3f5f",
             "gridcolor": "white",
             "linecolor": "white",
             "minorgridcolor": "white",
             "startlinecolor": "#2a3f5f"
            },
            "type": "carpet"
           }
          ],
          "choropleth": [
           {
            "colorbar": {
             "outlinewidth": 0,
             "ticks": ""
            },
            "type": "choropleth"
           }
          ],
          "contour": [
           {
            "colorbar": {
             "outlinewidth": 0,
             "ticks": ""
            },
            "colorscale": [
             [
              0,
              "#0d0887"
             ],
             [
              0.1111111111111111,
              "#46039f"
             ],
             [
              0.2222222222222222,
              "#7201a8"
             ],
             [
              0.3333333333333333,
              "#9c179e"
             ],
             [
              0.4444444444444444,
              "#bd3786"
             ],
             [
              0.5555555555555556,
              "#d8576b"
             ],
             [
              0.6666666666666666,
              "#ed7953"
             ],
             [
              0.7777777777777778,
              "#fb9f3a"
             ],
             [
              0.8888888888888888,
              "#fdca26"
             ],
             [
              1,
              "#f0f921"
             ]
            ],
            "type": "contour"
           }
          ],
          "contourcarpet": [
           {
            "colorbar": {
             "outlinewidth": 0,
             "ticks": ""
            },
            "type": "contourcarpet"
           }
          ],
          "heatmap": [
           {
            "colorbar": {
             "outlinewidth": 0,
             "ticks": ""
            },
            "colorscale": [
             [
              0,
              "#0d0887"
             ],
             [
              0.1111111111111111,
              "#46039f"
             ],
             [
              0.2222222222222222,
              "#7201a8"
             ],
             [
              0.3333333333333333,
              "#9c179e"
             ],
             [
              0.4444444444444444,
              "#bd3786"
             ],
             [
              0.5555555555555556,
              "#d8576b"
             ],
             [
              0.6666666666666666,
              "#ed7953"
             ],
             [
              0.7777777777777778,
              "#fb9f3a"
             ],
             [
              0.8888888888888888,
              "#fdca26"
             ],
             [
              1,
              "#f0f921"
             ]
            ],
            "type": "heatmap"
           }
          ],
          "heatmapgl": [
           {
            "colorbar": {
             "outlinewidth": 0,
             "ticks": ""
            },
            "colorscale": [
             [
              0,
              "#0d0887"
             ],
             [
              0.1111111111111111,
              "#46039f"
             ],
             [
              0.2222222222222222,
              "#7201a8"
             ],
             [
              0.3333333333333333,
              "#9c179e"
             ],
             [
              0.4444444444444444,
              "#bd3786"
             ],
             [
              0.5555555555555556,
              "#d8576b"
             ],
             [
              0.6666666666666666,
              "#ed7953"
             ],
             [
              0.7777777777777778,
              "#fb9f3a"
             ],
             [
              0.8888888888888888,
              "#fdca26"
             ],
             [
              1,
              "#f0f921"
             ]
            ],
            "type": "heatmapgl"
           }
          ],
          "histogram": [
           {
            "marker": {
             "pattern": {
              "fillmode": "overlay",
              "size": 10,
              "solidity": 0.2
             }
            },
            "type": "histogram"
           }
          ],
          "histogram2d": [
           {
            "colorbar": {
             "outlinewidth": 0,
             "ticks": ""
            },
            "colorscale": [
             [
              0,
              "#0d0887"
             ],
             [
              0.1111111111111111,
              "#46039f"
             ],
             [
              0.2222222222222222,
              "#7201a8"
             ],
             [
              0.3333333333333333,
              "#9c179e"
             ],
             [
              0.4444444444444444,
              "#bd3786"
             ],
             [
              0.5555555555555556,
              "#d8576b"
             ],
             [
              0.6666666666666666,
              "#ed7953"
             ],
             [
              0.7777777777777778,
              "#fb9f3a"
             ],
             [
              0.8888888888888888,
              "#fdca26"
             ],
             [
              1,
              "#f0f921"
             ]
            ],
            "type": "histogram2d"
           }
          ],
          "histogram2dcontour": [
           {
            "colorbar": {
             "outlinewidth": 0,
             "ticks": ""
            },
            "colorscale": [
             [
              0,
              "#0d0887"
             ],
             [
              0.1111111111111111,
              "#46039f"
             ],
             [
              0.2222222222222222,
              "#7201a8"
             ],
             [
              0.3333333333333333,
              "#9c179e"
             ],
             [
              0.4444444444444444,
              "#bd3786"
             ],
             [
              0.5555555555555556,
              "#d8576b"
             ],
             [
              0.6666666666666666,
              "#ed7953"
             ],
             [
              0.7777777777777778,
              "#fb9f3a"
             ],
             [
              0.8888888888888888,
              "#fdca26"
             ],
             [
              1,
              "#f0f921"
             ]
            ],
            "type": "histogram2dcontour"
           }
          ],
          "mesh3d": [
           {
            "colorbar": {
             "outlinewidth": 0,
             "ticks": ""
            },
            "type": "mesh3d"
           }
          ],
          "parcoords": [
           {
            "line": {
             "colorbar": {
              "outlinewidth": 0,
              "ticks": ""
             }
            },
            "type": "parcoords"
           }
          ],
          "pie": [
           {
            "automargin": true,
            "type": "pie"
           }
          ],
          "scatter": [
           {
            "fillpattern": {
             "fillmode": "overlay",
             "size": 10,
             "solidity": 0.2
            },
            "type": "scatter"
           }
          ],
          "scatter3d": [
           {
            "line": {
             "colorbar": {
              "outlinewidth": 0,
              "ticks": ""
             }
            },
            "marker": {
             "colorbar": {
              "outlinewidth": 0,
              "ticks": ""
             }
            },
            "type": "scatter3d"
           }
          ],
          "scattercarpet": [
           {
            "marker": {
             "colorbar": {
              "outlinewidth": 0,
              "ticks": ""
             }
            },
            "type": "scattercarpet"
           }
          ],
          "scattergeo": [
           {
            "marker": {
             "colorbar": {
              "outlinewidth": 0,
              "ticks": ""
             }
            },
            "type": "scattergeo"
           }
          ],
          "scattergl": [
           {
            "marker": {
             "colorbar": {
              "outlinewidth": 0,
              "ticks": ""
             }
            },
            "type": "scattergl"
           }
          ],
          "scattermapbox": [
           {
            "marker": {
             "colorbar": {
              "outlinewidth": 0,
              "ticks": ""
             }
            },
            "type": "scattermapbox"
           }
          ],
          "scatterpolar": [
           {
            "marker": {
             "colorbar": {
              "outlinewidth": 0,
              "ticks": ""
             }
            },
            "type": "scatterpolar"
           }
          ],
          "scatterpolargl": [
           {
            "marker": {
             "colorbar": {
              "outlinewidth": 0,
              "ticks": ""
             }
            },
            "type": "scatterpolargl"
           }
          ],
          "scatterternary": [
           {
            "marker": {
             "colorbar": {
              "outlinewidth": 0,
              "ticks": ""
             }
            },
            "type": "scatterternary"
           }
          ],
          "surface": [
           {
            "colorbar": {
             "outlinewidth": 0,
             "ticks": ""
            },
            "colorscale": [
             [
              0,
              "#0d0887"
             ],
             [
              0.1111111111111111,
              "#46039f"
             ],
             [
              0.2222222222222222,
              "#7201a8"
             ],
             [
              0.3333333333333333,
              "#9c179e"
             ],
             [
              0.4444444444444444,
              "#bd3786"
             ],
             [
              0.5555555555555556,
              "#d8576b"
             ],
             [
              0.6666666666666666,
              "#ed7953"
             ],
             [
              0.7777777777777778,
              "#fb9f3a"
             ],
             [
              0.8888888888888888,
              "#fdca26"
             ],
             [
              1,
              "#f0f921"
             ]
            ],
            "type": "surface"
           }
          ],
          "table": [
           {
            "cells": {
             "fill": {
              "color": "#EBF0F8"
             },
             "line": {
              "color": "white"
             }
            },
            "header": {
             "fill": {
              "color": "#C8D4E3"
             },
             "line": {
              "color": "white"
             }
            },
            "type": "table"
           }
          ]
         },
         "layout": {
          "annotationdefaults": {
           "arrowcolor": "#2a3f5f",
           "arrowhead": 0,
           "arrowwidth": 1
          },
          "autotypenumbers": "strict",
          "coloraxis": {
           "colorbar": {
            "outlinewidth": 0,
            "ticks": ""
           }
          },
          "colorscale": {
           "diverging": [
            [
             0,
             "#8e0152"
            ],
            [
             0.1,
             "#c51b7d"
            ],
            [
             0.2,
             "#de77ae"
            ],
            [
             0.3,
             "#f1b6da"
            ],
            [
             0.4,
             "#fde0ef"
            ],
            [
             0.5,
             "#f7f7f7"
            ],
            [
             0.6,
             "#e6f5d0"
            ],
            [
             0.7,
             "#b8e186"
            ],
            [
             0.8,
             "#7fbc41"
            ],
            [
             0.9,
             "#4d9221"
            ],
            [
             1,
             "#276419"
            ]
           ],
           "sequential": [
            [
             0,
             "#0d0887"
            ],
            [
             0.1111111111111111,
             "#46039f"
            ],
            [
             0.2222222222222222,
             "#7201a8"
            ],
            [
             0.3333333333333333,
             "#9c179e"
            ],
            [
             0.4444444444444444,
             "#bd3786"
            ],
            [
             0.5555555555555556,
             "#d8576b"
            ],
            [
             0.6666666666666666,
             "#ed7953"
            ],
            [
             0.7777777777777778,
             "#fb9f3a"
            ],
            [
             0.8888888888888888,
             "#fdca26"
            ],
            [
             1,
             "#f0f921"
            ]
           ],
           "sequentialminus": [
            [
             0,
             "#0d0887"
            ],
            [
             0.1111111111111111,
             "#46039f"
            ],
            [
             0.2222222222222222,
             "#7201a8"
            ],
            [
             0.3333333333333333,
             "#9c179e"
            ],
            [
             0.4444444444444444,
             "#bd3786"
            ],
            [
             0.5555555555555556,
             "#d8576b"
            ],
            [
             0.6666666666666666,
             "#ed7953"
            ],
            [
             0.7777777777777778,
             "#fb9f3a"
            ],
            [
             0.8888888888888888,
             "#fdca26"
            ],
            [
             1,
             "#f0f921"
            ]
           ]
          },
          "colorway": [
           "#636efa",
           "#EF553B",
           "#00cc96",
           "#ab63fa",
           "#FFA15A",
           "#19d3f3",
           "#FF6692",
           "#B6E880",
           "#FF97FF",
           "#FECB52"
          ],
          "font": {
           "color": "#2a3f5f"
          },
          "geo": {
           "bgcolor": "white",
           "lakecolor": "white",
           "landcolor": "#E5ECF6",
           "showlakes": true,
           "showland": true,
           "subunitcolor": "white"
          },
          "hoverlabel": {
           "align": "left"
          },
          "hovermode": "closest",
          "mapbox": {
           "style": "light"
          },
          "paper_bgcolor": "white",
          "plot_bgcolor": "#E5ECF6",
          "polar": {
           "angularaxis": {
            "gridcolor": "white",
            "linecolor": "white",
            "ticks": ""
           },
           "bgcolor": "#E5ECF6",
           "radialaxis": {
            "gridcolor": "white",
            "linecolor": "white",
            "ticks": ""
           }
          },
          "scene": {
           "xaxis": {
            "backgroundcolor": "#E5ECF6",
            "gridcolor": "white",
            "gridwidth": 2,
            "linecolor": "white",
            "showbackground": true,
            "ticks": "",
            "zerolinecolor": "white"
           },
           "yaxis": {
            "backgroundcolor": "#E5ECF6",
            "gridcolor": "white",
            "gridwidth": 2,
            "linecolor": "white",
            "showbackground": true,
            "ticks": "",
            "zerolinecolor": "white"
           },
           "zaxis": {
            "backgroundcolor": "#E5ECF6",
            "gridcolor": "white",
            "gridwidth": 2,
            "linecolor": "white",
            "showbackground": true,
            "ticks": "",
            "zerolinecolor": "white"
           }
          },
          "shapedefaults": {
           "line": {
            "color": "#2a3f5f"
           }
          },
          "ternary": {
           "aaxis": {
            "gridcolor": "white",
            "linecolor": "white",
            "ticks": ""
           },
           "baxis": {
            "gridcolor": "white",
            "linecolor": "white",
            "ticks": ""
           },
           "bgcolor": "#E5ECF6",
           "caxis": {
            "gridcolor": "white",
            "linecolor": "white",
            "ticks": ""
           }
          },
          "title": {
           "x": 0.05
          },
          "xaxis": {
           "automargin": true,
           "gridcolor": "white",
           "linecolor": "white",
           "ticks": "",
           "title": {
            "standoff": 15
           },
           "zerolinecolor": "white",
           "zerolinewidth": 2
          },
          "yaxis": {
           "automargin": true,
           "gridcolor": "white",
           "linecolor": "white",
           "ticks": "",
           "title": {
            "standoff": 15
           },
           "zerolinecolor": "white",
           "zerolinewidth": 2
          }
         }
        },
        "title": {
         "text": "Relationship between Log of cumulative deaths and Log of cumulative pageviews"
        },
        "xaxis": {
         "anchor": "y",
         "domain": [
          0,
          1
         ],
         "title": {
          "text": "x"
         }
        },
        "yaxis": {
         "anchor": "x",
         "domain": [
          0,
          1
         ],
         "title": {
          "text": "y"
         }
        }
       }
      }
     },
     "metadata": {},
     "output_type": "display_data"
    }
   ],
   "source": [
    "fig = px.scatter(data, x='x', y=\"y\", hover_name= 'Country',trendline=\"ols\", title='Relationship between Log of cumulative deaths and Log of cumulative pageviews')\n",
    "\n",
    "fig.update_layout(margin=dict(l=20, r=20, t=100, b=0))  \n",
    "fig.add_annotation(xref='paper',yref='paper',x=0, y=1.13,showarrow=False,text = \"    The x axis shows the log of the cumulative deaths for 100k of population.\")\n",
    "fig.add_annotation(xref='paper',yref='paper',x=0, y=1.09,showarrow=False,text = \"    The y axis shows the log of the cumulative pageviews for 100k of population.\")\n",
    "fig.show()\n"
   ]
  },
  {
   "cell_type": "code",
   "execution_count": 302,
   "metadata": {},
   "outputs": [
    {
     "name": "stdout",
     "output_type": "stream",
     "text": [
      "Our model summary is:\n"
     ]
    },
    {
     "data": {
      "text/html": [
       "<table class=\"simpletable\">\n",
       "<caption>OLS Regression Results</caption>\n",
       "<tr>\n",
       "  <th>Dep. Variable:</th>            <td>y</td>        <th>  R-squared:         </th> <td>   0.373</td>\n",
       "</tr>\n",
       "<tr>\n",
       "  <th>Model:</th>                   <td>OLS</td>       <th>  Adj. R-squared:    </th> <td>   0.354</td>\n",
       "</tr>\n",
       "<tr>\n",
       "  <th>Method:</th>             <td>Least Squares</td>  <th>  F-statistic:       </th> <td>   19.65</td>\n",
       "</tr>\n",
       "<tr>\n",
       "  <th>Date:</th>             <td>Wed, 21 Dec 2022</td> <th>  Prob (F-statistic):</th> <td>9.71e-05</td>\n",
       "</tr>\n",
       "<tr>\n",
       "  <th>Time:</th>                 <td>10:10:52</td>     <th>  Log-Likelihood:    </th> <td> -63.387</td>\n",
       "</tr>\n",
       "<tr>\n",
       "  <th>No. Observations:</th>      <td>    35</td>      <th>  AIC:               </th> <td>   130.8</td>\n",
       "</tr>\n",
       "<tr>\n",
       "  <th>Df Residuals:</th>          <td>    33</td>      <th>  BIC:               </th> <td>   133.9</td>\n",
       "</tr>\n",
       "<tr>\n",
       "  <th>Df Model:</th>              <td>     1</td>      <th>                     </th>     <td> </td>   \n",
       "</tr>\n",
       "<tr>\n",
       "  <th>Covariance Type:</th>      <td>nonrobust</td>    <th>                     </th>     <td> </td>   \n",
       "</tr>\n",
       "</table>\n",
       "<table class=\"simpletable\">\n",
       "<tr>\n",
       "      <td></td>         <th>coef</th>     <th>std err</th>      <th>t</th>      <th>P>|t|</th>  <th>[0.025</th>    <th>0.975]</th>  \n",
       "</tr>\n",
       "<tr>\n",
       "  <th>Intercept</th> <td>    4.4021</td> <td>    0.814</td> <td>    5.410</td> <td> 0.000</td> <td>    2.747</td> <td>    6.057</td>\n",
       "</tr>\n",
       "<tr>\n",
       "  <th>x2</th>        <td>    0.8640</td> <td>    0.195</td> <td>    4.433</td> <td> 0.000</td> <td>    0.467</td> <td>    1.261</td>\n",
       "</tr>\n",
       "</table>\n",
       "<table class=\"simpletable\">\n",
       "<tr>\n",
       "  <th>Omnibus:</th>       <td> 7.102</td> <th>  Durbin-Watson:     </th> <td>   2.588</td>\n",
       "</tr>\n",
       "<tr>\n",
       "  <th>Prob(Omnibus):</th> <td> 0.029</td> <th>  Jarque-Bera (JB):  </th> <td>   5.666</td>\n",
       "</tr>\n",
       "<tr>\n",
       "  <th>Skew:</th>          <td>-0.921</td> <th>  Prob(JB):          </th> <td>  0.0588</td>\n",
       "</tr>\n",
       "<tr>\n",
       "  <th>Kurtosis:</th>      <td> 3.703</td> <th>  Cond. No.          </th> <td>    13.9</td>\n",
       "</tr>\n",
       "</table><br/><br/>Notes:<br/>[1] Standard Errors assume that the covariance matrix of the errors is correctly specified."
      ],
      "text/plain": [
       "<class 'statsmodels.iolib.summary.Summary'>\n",
       "\"\"\"\n",
       "                            OLS Regression Results                            \n",
       "==============================================================================\n",
       "Dep. Variable:                      y   R-squared:                       0.373\n",
       "Model:                            OLS   Adj. R-squared:                  0.354\n",
       "Method:                 Least Squares   F-statistic:                     19.65\n",
       "Date:                Wed, 21 Dec 2022   Prob (F-statistic):           9.71e-05\n",
       "Time:                        10:10:52   Log-Likelihood:                -63.387\n",
       "No. Observations:                  35   AIC:                             130.8\n",
       "Df Residuals:                      33   BIC:                             133.9\n",
       "Df Model:                           1                                         \n",
       "Covariance Type:            nonrobust                                         \n",
       "==============================================================================\n",
       "                 coef    std err          t      P>|t|      [0.025      0.975]\n",
       "------------------------------------------------------------------------------\n",
       "Intercept      4.4021      0.814      5.410      0.000       2.747       6.057\n",
       "x2             0.8640      0.195      4.433      0.000       0.467       1.261\n",
       "==============================================================================\n",
       "Omnibus:                        7.102   Durbin-Watson:                   2.588\n",
       "Prob(Omnibus):                  0.029   Jarque-Bera (JB):                5.666\n",
       "Skew:                          -0.921   Prob(JB):                       0.0588\n",
       "Kurtosis:                       3.703   Cond. No.                         13.9\n",
       "==============================================================================\n",
       "\n",
       "Notes:\n",
       "[1] Standard Errors assume that the covariance matrix of the errors is correctly specified.\n",
       "\"\"\""
      ]
     },
     "execution_count": 302,
     "metadata": {},
     "output_type": "execute_result"
    }
   ],
   "source": [
    "model = smf.ols('y ~ x2', data=data).fit()\n",
    "\n",
    "results = model.summary()\n",
    "\n",
    "#Show the results of the linear regression\n",
    "print(\"Our model summary is:\")\n",
    "results"
   ]
  },
  {
   "cell_type": "code",
   "execution_count": 303,
   "metadata": {},
   "outputs": [
    {
     "data": {
      "application/vnd.plotly.v1+json": {
       "config": {
        "plotlyServerURL": "https://plot.ly"
       },
       "data": [
        {
         "hovertemplate": "<b>%{hovertext}</b><br><br>x2=%{x}<br>y=%{y}<extra></extra>",
         "hovertext": [
          "Italy",
          "Russia",
          "China",
          "Albania",
          "Bangladesh",
          "Botswana",
          "Croatia",
          "Greece",
          "Sweden",
          "Finland",
          "Norway",
          "Malaysia",
          "Israel",
          "Lithuania",
          "Serbia",
          "Slovakia",
          "Slovenia",
          "Turkey",
          "Bulgaria",
          "Czechia",
          "Denmark",
          "Georgia",
          "Germany",
          "Hungary",
          "Iceland",
          "Japan",
          "Kazakhstan",
          "South Korea",
          "Kyrgyzstan",
          "Netherlands",
          "Poland",
          "Romania",
          "Tajikistan",
          "Thailand",
          "Azerbaijan"
         ],
         "legendgroup": "",
         "marker": {
          "color": "#636efa",
          "symbol": "circle"
         },
         "mode": "markers",
         "name": "",
         "orientation": "v",
         "showlegend": false,
         "type": "scatter",
         "x": [
          5.949414463546382,
          5.395496988243507,
          1.8025086608179028,
          3.5306331480578237,
          2.851398991263273,
          0.20960415844327093,
          4.012161991019044,
          3.2832455554847813,
          5.771484786978923,
          4.801788735041974,
          5.0399186649019585,
          3.0823651570999746,
          5.198327285831704,
          3.9993736351884883,
          5.064279840106373,
          3.3147338078184356,
          4.245982529622381,
          5.204338221826216,
          3.5150285355276862,
          4.404637390244898,
          5.256217733895811,
          2.9636005348778083,
          5.359140869397574,
          3.620145988237119,
          6.198479847940535,
          2.5616583240898376,
          3.6524664260841058,
          3.0677126838074624,
          2.9934652336553977,
          5.552202171398002,
          3.973100445955641,
          4.514314818113186,
          3.1107297299244694,
          1.4690887201125047,
          3.6148052210501196
         ],
         "xaxis": "x",
         "y": [
          9.738432009878567,
          9.705630106489572,
          7.040578400503145,
          6.891431275783025,
          5.598794456074647,
          3.5491706650595436,
          8.503557080048243,
          8.866440065397978,
          8.361958033005994,
          9.50814583066661,
          8.34299492332786,
          7.320234046025152,
          9.835399424213534,
          8.645087744251668,
          7.356054813373959,
          8.540348032859779,
          8.255641469917613,
          7.792851955736222,
          8.342961247868242,
          10.353895391092568,
          8.1999645721298,
          6.800140463308023,
          10.330620135493826,
          8.967413064694204,
          7.758228689814044,
          9.058702484844815,
          5.6709020439965725,
          7.883894604746356,
          3.069339678623173,
          9.661714122904451,
          9.438352226370807,
          8.994184803134267,
          3.0789207343443517,
          6.066998853629784,
          6.276021199310021
         ],
         "yaxis": "y"
        },
        {
         "hovertemplate": "<b>OLS trendline</b><br>y = 0.863954 * x2 + 4.40214<br>R<sup>2</sup>=0.373188<br><br>x2=%{x}<br>y=%{y} <b>(trend)</b><extra></extra>",
         "legendgroup": "",
         "marker": {
          "color": "#636efa",
          "symbol": "circle"
         },
         "mode": "lines",
         "name": "",
         "showlegend": false,
         "type": "scatter",
         "x": [
          0.20960415844327093,
          1.4690887201125047,
          1.8025086608179028,
          2.5616583240898376,
          2.851398991263273,
          2.9636005348778083,
          2.9934652336553977,
          3.0677126838074624,
          3.0823651570999746,
          3.1107297299244694,
          3.2832455554847813,
          3.3147338078184356,
          3.5150285355276862,
          3.5306331480578237,
          3.6148052210501196,
          3.620145988237119,
          3.6524664260841058,
          3.973100445955641,
          3.9993736351884883,
          4.012161991019044,
          4.245982529622381,
          4.404637390244898,
          4.514314818113186,
          4.801788735041974,
          5.0399186649019585,
          5.064279840106373,
          5.198327285831704,
          5.204338221826216,
          5.256217733895811,
          5.359140869397574,
          5.395496988243507,
          5.552202171398002,
          5.771484786978923,
          5.949414463546382,
          6.198479847940535
         ],
         "xaxis": "x",
         "y": [
          4.583228937644208,
          5.671365772587989,
          5.9594252931473175,
          6.615295747602558,
          6.865618381263708,
          6.962555363470712,
          6.988357092045556,
          7.052503480075941,
          7.065162544266043,
          7.089668232892247,
          7.238713985508793,
          7.265918389814347,
          7.43896383848314,
          7.452445507259265,
          7.525166313757366,
          7.529780491397886,
          7.557703865779073,
          7.834716937774108,
          7.8574157669982,
          7.868464319287838,
          8.070474529308582,
          8.207545044613216,
          8.302301306704434,
          8.550665572226837,
          8.756398898437528,
          8.777445835326784,
          8.893256673953136,
          8.898449846674087,
          8.943271363173677,
          9.032192226768027,
          9.063602244243288,
          9.198988327730511,
          9.388438439735204,
          9.5421615110574,
          9.757342567909358
         ],
         "yaxis": "y"
        }
       ],
       "layout": {
        "annotations": [
         {
          "showarrow": false,
          "text": "    The x axis shows the log of the cumulative cases for 100k of population.",
          "x": 0,
          "xref": "paper",
          "y": 1.13,
          "yref": "paper"
         },
         {
          "showarrow": false,
          "text": "    The y axis shows the log of the cumulative pageviews for 100k of population.",
          "x": 0,
          "xref": "paper",
          "y": 1.09,
          "yref": "paper"
         }
        ],
        "legend": {
         "tracegroupgap": 0
        },
        "margin": {
         "b": 0,
         "l": 20,
         "r": 20,
         "t": 100
        },
        "template": {
         "data": {
          "bar": [
           {
            "error_x": {
             "color": "#2a3f5f"
            },
            "error_y": {
             "color": "#2a3f5f"
            },
            "marker": {
             "line": {
              "color": "#E5ECF6",
              "width": 0.5
             },
             "pattern": {
              "fillmode": "overlay",
              "size": 10,
              "solidity": 0.2
             }
            },
            "type": "bar"
           }
          ],
          "barpolar": [
           {
            "marker": {
             "line": {
              "color": "#E5ECF6",
              "width": 0.5
             },
             "pattern": {
              "fillmode": "overlay",
              "size": 10,
              "solidity": 0.2
             }
            },
            "type": "barpolar"
           }
          ],
          "carpet": [
           {
            "aaxis": {
             "endlinecolor": "#2a3f5f",
             "gridcolor": "white",
             "linecolor": "white",
             "minorgridcolor": "white",
             "startlinecolor": "#2a3f5f"
            },
            "baxis": {
             "endlinecolor": "#2a3f5f",
             "gridcolor": "white",
             "linecolor": "white",
             "minorgridcolor": "white",
             "startlinecolor": "#2a3f5f"
            },
            "type": "carpet"
           }
          ],
          "choropleth": [
           {
            "colorbar": {
             "outlinewidth": 0,
             "ticks": ""
            },
            "type": "choropleth"
           }
          ],
          "contour": [
           {
            "colorbar": {
             "outlinewidth": 0,
             "ticks": ""
            },
            "colorscale": [
             [
              0,
              "#0d0887"
             ],
             [
              0.1111111111111111,
              "#46039f"
             ],
             [
              0.2222222222222222,
              "#7201a8"
             ],
             [
              0.3333333333333333,
              "#9c179e"
             ],
             [
              0.4444444444444444,
              "#bd3786"
             ],
             [
              0.5555555555555556,
              "#d8576b"
             ],
             [
              0.6666666666666666,
              "#ed7953"
             ],
             [
              0.7777777777777778,
              "#fb9f3a"
             ],
             [
              0.8888888888888888,
              "#fdca26"
             ],
             [
              1,
              "#f0f921"
             ]
            ],
            "type": "contour"
           }
          ],
          "contourcarpet": [
           {
            "colorbar": {
             "outlinewidth": 0,
             "ticks": ""
            },
            "type": "contourcarpet"
           }
          ],
          "heatmap": [
           {
            "colorbar": {
             "outlinewidth": 0,
             "ticks": ""
            },
            "colorscale": [
             [
              0,
              "#0d0887"
             ],
             [
              0.1111111111111111,
              "#46039f"
             ],
             [
              0.2222222222222222,
              "#7201a8"
             ],
             [
              0.3333333333333333,
              "#9c179e"
             ],
             [
              0.4444444444444444,
              "#bd3786"
             ],
             [
              0.5555555555555556,
              "#d8576b"
             ],
             [
              0.6666666666666666,
              "#ed7953"
             ],
             [
              0.7777777777777778,
              "#fb9f3a"
             ],
             [
              0.8888888888888888,
              "#fdca26"
             ],
             [
              1,
              "#f0f921"
             ]
            ],
            "type": "heatmap"
           }
          ],
          "heatmapgl": [
           {
            "colorbar": {
             "outlinewidth": 0,
             "ticks": ""
            },
            "colorscale": [
             [
              0,
              "#0d0887"
             ],
             [
              0.1111111111111111,
              "#46039f"
             ],
             [
              0.2222222222222222,
              "#7201a8"
             ],
             [
              0.3333333333333333,
              "#9c179e"
             ],
             [
              0.4444444444444444,
              "#bd3786"
             ],
             [
              0.5555555555555556,
              "#d8576b"
             ],
             [
              0.6666666666666666,
              "#ed7953"
             ],
             [
              0.7777777777777778,
              "#fb9f3a"
             ],
             [
              0.8888888888888888,
              "#fdca26"
             ],
             [
              1,
              "#f0f921"
             ]
            ],
            "type": "heatmapgl"
           }
          ],
          "histogram": [
           {
            "marker": {
             "pattern": {
              "fillmode": "overlay",
              "size": 10,
              "solidity": 0.2
             }
            },
            "type": "histogram"
           }
          ],
          "histogram2d": [
           {
            "colorbar": {
             "outlinewidth": 0,
             "ticks": ""
            },
            "colorscale": [
             [
              0,
              "#0d0887"
             ],
             [
              0.1111111111111111,
              "#46039f"
             ],
             [
              0.2222222222222222,
              "#7201a8"
             ],
             [
              0.3333333333333333,
              "#9c179e"
             ],
             [
              0.4444444444444444,
              "#bd3786"
             ],
             [
              0.5555555555555556,
              "#d8576b"
             ],
             [
              0.6666666666666666,
              "#ed7953"
             ],
             [
              0.7777777777777778,
              "#fb9f3a"
             ],
             [
              0.8888888888888888,
              "#fdca26"
             ],
             [
              1,
              "#f0f921"
             ]
            ],
            "type": "histogram2d"
           }
          ],
          "histogram2dcontour": [
           {
            "colorbar": {
             "outlinewidth": 0,
             "ticks": ""
            },
            "colorscale": [
             [
              0,
              "#0d0887"
             ],
             [
              0.1111111111111111,
              "#46039f"
             ],
             [
              0.2222222222222222,
              "#7201a8"
             ],
             [
              0.3333333333333333,
              "#9c179e"
             ],
             [
              0.4444444444444444,
              "#bd3786"
             ],
             [
              0.5555555555555556,
              "#d8576b"
             ],
             [
              0.6666666666666666,
              "#ed7953"
             ],
             [
              0.7777777777777778,
              "#fb9f3a"
             ],
             [
              0.8888888888888888,
              "#fdca26"
             ],
             [
              1,
              "#f0f921"
             ]
            ],
            "type": "histogram2dcontour"
           }
          ],
          "mesh3d": [
           {
            "colorbar": {
             "outlinewidth": 0,
             "ticks": ""
            },
            "type": "mesh3d"
           }
          ],
          "parcoords": [
           {
            "line": {
             "colorbar": {
              "outlinewidth": 0,
              "ticks": ""
             }
            },
            "type": "parcoords"
           }
          ],
          "pie": [
           {
            "automargin": true,
            "type": "pie"
           }
          ],
          "scatter": [
           {
            "fillpattern": {
             "fillmode": "overlay",
             "size": 10,
             "solidity": 0.2
            },
            "type": "scatter"
           }
          ],
          "scatter3d": [
           {
            "line": {
             "colorbar": {
              "outlinewidth": 0,
              "ticks": ""
             }
            },
            "marker": {
             "colorbar": {
              "outlinewidth": 0,
              "ticks": ""
             }
            },
            "type": "scatter3d"
           }
          ],
          "scattercarpet": [
           {
            "marker": {
             "colorbar": {
              "outlinewidth": 0,
              "ticks": ""
             }
            },
            "type": "scattercarpet"
           }
          ],
          "scattergeo": [
           {
            "marker": {
             "colorbar": {
              "outlinewidth": 0,
              "ticks": ""
             }
            },
            "type": "scattergeo"
           }
          ],
          "scattergl": [
           {
            "marker": {
             "colorbar": {
              "outlinewidth": 0,
              "ticks": ""
             }
            },
            "type": "scattergl"
           }
          ],
          "scattermapbox": [
           {
            "marker": {
             "colorbar": {
              "outlinewidth": 0,
              "ticks": ""
             }
            },
            "type": "scattermapbox"
           }
          ],
          "scatterpolar": [
           {
            "marker": {
             "colorbar": {
              "outlinewidth": 0,
              "ticks": ""
             }
            },
            "type": "scatterpolar"
           }
          ],
          "scatterpolargl": [
           {
            "marker": {
             "colorbar": {
              "outlinewidth": 0,
              "ticks": ""
             }
            },
            "type": "scatterpolargl"
           }
          ],
          "scatterternary": [
           {
            "marker": {
             "colorbar": {
              "outlinewidth": 0,
              "ticks": ""
             }
            },
            "type": "scatterternary"
           }
          ],
          "surface": [
           {
            "colorbar": {
             "outlinewidth": 0,
             "ticks": ""
            },
            "colorscale": [
             [
              0,
              "#0d0887"
             ],
             [
              0.1111111111111111,
              "#46039f"
             ],
             [
              0.2222222222222222,
              "#7201a8"
             ],
             [
              0.3333333333333333,
              "#9c179e"
             ],
             [
              0.4444444444444444,
              "#bd3786"
             ],
             [
              0.5555555555555556,
              "#d8576b"
             ],
             [
              0.6666666666666666,
              "#ed7953"
             ],
             [
              0.7777777777777778,
              "#fb9f3a"
             ],
             [
              0.8888888888888888,
              "#fdca26"
             ],
             [
              1,
              "#f0f921"
             ]
            ],
            "type": "surface"
           }
          ],
          "table": [
           {
            "cells": {
             "fill": {
              "color": "#EBF0F8"
             },
             "line": {
              "color": "white"
             }
            },
            "header": {
             "fill": {
              "color": "#C8D4E3"
             },
             "line": {
              "color": "white"
             }
            },
            "type": "table"
           }
          ]
         },
         "layout": {
          "annotationdefaults": {
           "arrowcolor": "#2a3f5f",
           "arrowhead": 0,
           "arrowwidth": 1
          },
          "autotypenumbers": "strict",
          "coloraxis": {
           "colorbar": {
            "outlinewidth": 0,
            "ticks": ""
           }
          },
          "colorscale": {
           "diverging": [
            [
             0,
             "#8e0152"
            ],
            [
             0.1,
             "#c51b7d"
            ],
            [
             0.2,
             "#de77ae"
            ],
            [
             0.3,
             "#f1b6da"
            ],
            [
             0.4,
             "#fde0ef"
            ],
            [
             0.5,
             "#f7f7f7"
            ],
            [
             0.6,
             "#e6f5d0"
            ],
            [
             0.7,
             "#b8e186"
            ],
            [
             0.8,
             "#7fbc41"
            ],
            [
             0.9,
             "#4d9221"
            ],
            [
             1,
             "#276419"
            ]
           ],
           "sequential": [
            [
             0,
             "#0d0887"
            ],
            [
             0.1111111111111111,
             "#46039f"
            ],
            [
             0.2222222222222222,
             "#7201a8"
            ],
            [
             0.3333333333333333,
             "#9c179e"
            ],
            [
             0.4444444444444444,
             "#bd3786"
            ],
            [
             0.5555555555555556,
             "#d8576b"
            ],
            [
             0.6666666666666666,
             "#ed7953"
            ],
            [
             0.7777777777777778,
             "#fb9f3a"
            ],
            [
             0.8888888888888888,
             "#fdca26"
            ],
            [
             1,
             "#f0f921"
            ]
           ],
           "sequentialminus": [
            [
             0,
             "#0d0887"
            ],
            [
             0.1111111111111111,
             "#46039f"
            ],
            [
             0.2222222222222222,
             "#7201a8"
            ],
            [
             0.3333333333333333,
             "#9c179e"
            ],
            [
             0.4444444444444444,
             "#bd3786"
            ],
            [
             0.5555555555555556,
             "#d8576b"
            ],
            [
             0.6666666666666666,
             "#ed7953"
            ],
            [
             0.7777777777777778,
             "#fb9f3a"
            ],
            [
             0.8888888888888888,
             "#fdca26"
            ],
            [
             1,
             "#f0f921"
            ]
           ]
          },
          "colorway": [
           "#636efa",
           "#EF553B",
           "#00cc96",
           "#ab63fa",
           "#FFA15A",
           "#19d3f3",
           "#FF6692",
           "#B6E880",
           "#FF97FF",
           "#FECB52"
          ],
          "font": {
           "color": "#2a3f5f"
          },
          "geo": {
           "bgcolor": "white",
           "lakecolor": "white",
           "landcolor": "#E5ECF6",
           "showlakes": true,
           "showland": true,
           "subunitcolor": "white"
          },
          "hoverlabel": {
           "align": "left"
          },
          "hovermode": "closest",
          "mapbox": {
           "style": "light"
          },
          "paper_bgcolor": "white",
          "plot_bgcolor": "#E5ECF6",
          "polar": {
           "angularaxis": {
            "gridcolor": "white",
            "linecolor": "white",
            "ticks": ""
           },
           "bgcolor": "#E5ECF6",
           "radialaxis": {
            "gridcolor": "white",
            "linecolor": "white",
            "ticks": ""
           }
          },
          "scene": {
           "xaxis": {
            "backgroundcolor": "#E5ECF6",
            "gridcolor": "white",
            "gridwidth": 2,
            "linecolor": "white",
            "showbackground": true,
            "ticks": "",
            "zerolinecolor": "white"
           },
           "yaxis": {
            "backgroundcolor": "#E5ECF6",
            "gridcolor": "white",
            "gridwidth": 2,
            "linecolor": "white",
            "showbackground": true,
            "ticks": "",
            "zerolinecolor": "white"
           },
           "zaxis": {
            "backgroundcolor": "#E5ECF6",
            "gridcolor": "white",
            "gridwidth": 2,
            "linecolor": "white",
            "showbackground": true,
            "ticks": "",
            "zerolinecolor": "white"
           }
          },
          "shapedefaults": {
           "line": {
            "color": "#2a3f5f"
           }
          },
          "ternary": {
           "aaxis": {
            "gridcolor": "white",
            "linecolor": "white",
            "ticks": ""
           },
           "baxis": {
            "gridcolor": "white",
            "linecolor": "white",
            "ticks": ""
           },
           "bgcolor": "#E5ECF6",
           "caxis": {
            "gridcolor": "white",
            "linecolor": "white",
            "ticks": ""
           }
          },
          "title": {
           "x": 0.05
          },
          "xaxis": {
           "automargin": true,
           "gridcolor": "white",
           "linecolor": "white",
           "ticks": "",
           "title": {
            "standoff": 15
           },
           "zerolinecolor": "white",
           "zerolinewidth": 2
          },
          "yaxis": {
           "automargin": true,
           "gridcolor": "white",
           "linecolor": "white",
           "ticks": "",
           "title": {
            "standoff": 15
           },
           "zerolinecolor": "white",
           "zerolinewidth": 2
          }
         }
        },
        "title": {
         "text": "Relationship between Log of cumulative cases and Log of cumulative pageviews"
        },
        "xaxis": {
         "anchor": "y",
         "domain": [
          0,
          1
         ],
         "title": {
          "text": "x2"
         }
        },
        "yaxis": {
         "anchor": "x",
         "domain": [
          0,
          1
         ],
         "title": {
          "text": "y"
         }
        }
       }
      }
     },
     "metadata": {},
     "output_type": "display_data"
    }
   ],
   "source": [
    "fig = px.scatter(data, x='x2', y=\"y\", hover_name= 'Country',trendline=\"ols\", title='Relationship between Log of cumulative cases and Log of cumulative pageviews')\n",
    "\n",
    "fig.update_layout(margin=dict(l=20, r=20, t=100, b=0))  \n",
    "fig.add_annotation(xref='paper',yref='paper',x=0, y=1.13,showarrow=False,text = \"    The x axis shows the log of the cumulative cases for 100k of population.\")\n",
    "fig.add_annotation(xref='paper',yref='paper',x=0, y=1.09,showarrow=False,text = \"    The y axis shows the log of the cumulative pageviews for 100k of population.\")\n",
    "fig.show()\n"
   ]
  },
  {
   "attachments": {},
   "cell_type": "markdown",
   "metadata": {},
   "source": [
    "### Cumul pageviews, cases and deaths during 1st wave beteween 2022-02-01 and 2022-07-01."
   ]
  },
  {
   "cell_type": "code",
   "execution_count": 304,
   "metadata": {},
   "outputs": [],
   "source": [
    "_, _, _, df_pageviews_cumul100k = get_pageviews_df(pageview_df, population_df, get_country_dict('original'), '2022-02-01', '2022-07-01')\n",
    "_, _, _, _, _, deaths100k_cumul, _, cases100k_cumul = get_cases_deaths_df(population_df, get_country_dict('original'), '2022-02-01', '2022-07-01')"
   ]
  },
  {
   "cell_type": "code",
   "execution_count": 305,
   "metadata": {},
   "outputs": [
    {
     "name": "stdout",
     "output_type": "stream",
     "text": [
      "Our model summary is:\n"
     ]
    },
    {
     "data": {
      "text/html": [
       "<table class=\"simpletable\">\n",
       "<caption>OLS Regression Results</caption>\n",
       "<tr>\n",
       "  <th>Dep. Variable:</th>            <td>y</td>        <th>  R-squared:         </th> <td>   0.271</td>\n",
       "</tr>\n",
       "<tr>\n",
       "  <th>Model:</th>                   <td>OLS</td>       <th>  Adj. R-squared:    </th> <td>   0.251</td>\n",
       "</tr>\n",
       "<tr>\n",
       "  <th>Method:</th>             <td>Least Squares</td>  <th>  F-statistic:       </th> <td>   13.04</td>\n",
       "</tr>\n",
       "<tr>\n",
       "  <th>Date:</th>             <td>Wed, 21 Dec 2022</td> <th>  Prob (F-statistic):</th> <td>0.000947</td>\n",
       "</tr>\n",
       "<tr>\n",
       "  <th>Time:</th>                 <td>10:10:54</td>     <th>  Log-Likelihood:    </th> <td> -51.947</td>\n",
       "</tr>\n",
       "<tr>\n",
       "  <th>No. Observations:</th>      <td>    37</td>      <th>  AIC:               </th> <td>   107.9</td>\n",
       "</tr>\n",
       "<tr>\n",
       "  <th>Df Residuals:</th>          <td>    35</td>      <th>  BIC:               </th> <td>   111.1</td>\n",
       "</tr>\n",
       "<tr>\n",
       "  <th>Df Model:</th>              <td>     1</td>      <th>                     </th>     <td> </td>   \n",
       "</tr>\n",
       "<tr>\n",
       "  <th>Covariance Type:</th>      <td>nonrobust</td>    <th>                     </th>     <td> </td>   \n",
       "</tr>\n",
       "</table>\n",
       "<table class=\"simpletable\">\n",
       "<tr>\n",
       "      <td></td>         <th>coef</th>     <th>std err</th>      <th>t</th>      <th>P>|t|</th>  <th>[0.025</th>    <th>0.975]</th>  \n",
       "</tr>\n",
       "<tr>\n",
       "  <th>Intercept</th> <td>    4.4250</td> <td>    0.314</td> <td>   14.081</td> <td> 0.000</td> <td>    3.787</td> <td>    5.063</td>\n",
       "</tr>\n",
       "<tr>\n",
       "  <th>x</th>         <td>    0.3696</td> <td>    0.102</td> <td>    3.611</td> <td> 0.001</td> <td>    0.162</td> <td>    0.577</td>\n",
       "</tr>\n",
       "</table>\n",
       "<table class=\"simpletable\">\n",
       "<tr>\n",
       "  <th>Omnibus:</th>       <td> 3.640</td> <th>  Durbin-Watson:     </th> <td>   2.142</td>\n",
       "</tr>\n",
       "<tr>\n",
       "  <th>Prob(Omnibus):</th> <td> 0.162</td> <th>  Jarque-Bera (JB):  </th> <td>   1.596</td>\n",
       "</tr>\n",
       "<tr>\n",
       "  <th>Skew:</th>          <td> 0.010</td> <th>  Prob(JB):          </th> <td>   0.450</td>\n",
       "</tr>\n",
       "<tr>\n",
       "  <th>Kurtosis:</th>      <td> 1.983</td> <th>  Cond. No.          </th> <td>    6.25</td>\n",
       "</tr>\n",
       "</table><br/><br/>Notes:<br/>[1] Standard Errors assume that the covariance matrix of the errors is correctly specified."
      ],
      "text/plain": [
       "<class 'statsmodels.iolib.summary.Summary'>\n",
       "\"\"\"\n",
       "                            OLS Regression Results                            \n",
       "==============================================================================\n",
       "Dep. Variable:                      y   R-squared:                       0.271\n",
       "Model:                            OLS   Adj. R-squared:                  0.251\n",
       "Method:                 Least Squares   F-statistic:                     13.04\n",
       "Date:                Wed, 21 Dec 2022   Prob (F-statistic):           0.000947\n",
       "Time:                        10:10:54   Log-Likelihood:                -51.947\n",
       "No. Observations:                  37   AIC:                             107.9\n",
       "Df Residuals:                      35   BIC:                             111.1\n",
       "Df Model:                           1                                         \n",
       "Covariance Type:            nonrobust                                         \n",
       "==============================================================================\n",
       "                 coef    std err          t      P>|t|      [0.025      0.975]\n",
       "------------------------------------------------------------------------------\n",
       "Intercept      4.4250      0.314     14.081      0.000       3.787       5.063\n",
       "x              0.3696      0.102      3.611      0.001       0.162       0.577\n",
       "==============================================================================\n",
       "Omnibus:                        3.640   Durbin-Watson:                   2.142\n",
       "Prob(Omnibus):                  0.162   Jarque-Bera (JB):                1.596\n",
       "Skew:                           0.010   Prob(JB):                        0.450\n",
       "Kurtosis:                       1.983   Cond. No.                         6.25\n",
       "==============================================================================\n",
       "\n",
       "Notes:\n",
       "[1] Standard Errors assume that the covariance matrix of the errors is correctly specified.\n",
       "\"\"\""
      ]
     },
     "execution_count": 305,
     "metadata": {},
     "output_type": "execute_result"
    }
   ],
   "source": [
    "data = pd.DataFrame()\n",
    "data['y'] = np.log(df_pageviews_cumul100k.max().transpose().replace(0, np.nan))\n",
    "data['x2'] = np.log(cases100k_cumul.max().transpose().replace(0, np.nan))\n",
    "data['x'] = np.log(deaths100k_cumul.max().transpose().replace(0, np.nan))\n",
    "data = data.dropna()\n",
    "data = data.rename(index= {v: k for k, v in get_country_dict('original').items()}).reset_index().rename(columns = {'index': 'Country'})\n",
    "\n",
    "#We apply a linear regression using as estimates OLS\n",
    "model = smf.ols('y ~ x', data=data).fit()\n",
    "\n",
    "results = model.summary()\n",
    "\n",
    "#Show the results of the linear regression\n",
    "print(\"Our model summary is:\")\n",
    "results"
   ]
  },
  {
   "cell_type": "code",
   "execution_count": 306,
   "metadata": {},
   "outputs": [
    {
     "data": {
      "application/vnd.plotly.v1+json": {
       "config": {
        "plotlyServerURL": "https://plot.ly"
       },
       "data": [
        {
         "hovertemplate": "<b>%{hovertext}</b><br><br>x=%{x}<br>y=%{y}<extra></extra>",
         "hovertext": [
          "Italy",
          "Russia",
          "China",
          "Albania",
          "Bangladesh",
          "Botswana",
          "Cambodia",
          "Croatia",
          "Greece",
          "Sweden",
          "Finland",
          "Norway",
          "Malaysia",
          "Israel",
          "Lithuania",
          "Serbia",
          "Slovakia",
          "Slovenia",
          "Turkey",
          "Vietnam",
          "Bulgaria",
          "Czechia",
          "Denmark",
          "Georgia",
          "Germany",
          "Hungary",
          "Iceland",
          "Japan",
          "Kazakhstan",
          "South Korea",
          "Kyrgyzstan",
          "Netherlands",
          "Poland",
          "Romania",
          "Thailand",
          "Azerbaijan",
          "Mongolia"
         ],
         "legendgroup": "",
         "marker": {
          "color": "#636efa",
          "symbol": "circle"
         },
         "mode": "markers",
         "name": "",
         "orientation": "v",
         "showlegend": false,
         "type": "scatter",
         "x": [
          3.6044722474639994,
          3.5211850041245136,
          -3.1249904360186234,
          1.6913211385806866,
          -0.7799285161914284,
          1.9722070433798702,
          -1.4055570889902405,
          4.012608918400785,
          4.141746759581978,
          3.452335288918262,
          3.8886870888238767,
          3.3866278324261763,
          2.4596359076062972,
          3.1652558369967165,
          3.8304698528112753,
          3.58886546037208,
          3.7482094999267317,
          3.6200100382303293,
          2.622708458179918,
          1.6965665741646963,
          4.039150187435666,
          3.3694277825528105,
          3.840335952704035,
          3.91183065423511,
          3.3565966659374253,
          3.9845907239450375,
          3.045078046590902,
          2.2898239313018958,
          1.0003297392904338,
          3.5353236314918064,
          0.5229255606649359,
          1.8524779578599133,
          3.3888323812097054,
          3.390187855995822,
          2.5154760040586215,
          2.276169924461374,
          0.9168115992093134
         ],
         "xaxis": "x",
         "y": [
          5.988258766242144,
          6.471736542181867,
          5.094470781544285,
          6.385049124277816,
          2.4675669443916797,
          5.837721303890111,
          3.0298947123572217,
          5.719791286427448,
          5.9424039398624,
          5.2321959614885465,
          6.831468388166923,
          4.478194505955709,
          5.601835414466063,
          5.911745531040549,
          6.35694356110532,
          4.048250233388993,
          5.972634732495206,
          6.662163885978761,
          5.6205734421154,
          5.5066965751903565,
          4.924958144489962,
          6.7602682963570695,
          5.05741337737829,
          5.63233015653652,
          7.415353861695576,
          5.21659131983929,
          6.517689608429019,
          6.112076334556713,
          3.5718936728833817,
          4.903316234735909,
          3.7817148593653185,
          6.689080984880944,
          6.577232474234917,
          4.870096556893869,
          3.6692762625793813,
          4.7973715519231055,
          3.673264742791703
         ],
         "yaxis": "y"
        },
        {
         "hovertemplate": "<b>OLS trendline</b><br>y = 0.369616 * x + 4.42501<br>R<sup>2</sup>=0.271402<br><br>x=%{x}<br>y=%{y} <b>(trend)</b><extra></extra>",
         "legendgroup": "",
         "marker": {
          "color": "#636efa",
          "symbol": "circle"
         },
         "mode": "lines",
         "name": "",
         "showlegend": false,
         "type": "scatter",
         "x": [
          -3.1249904360186234,
          -1.4055570889902405,
          -0.7799285161914284,
          0.5229255606649359,
          0.9168115992093134,
          1.0003297392904338,
          1.6913211385806866,
          1.6965665741646963,
          1.8524779578599133,
          1.9722070433798702,
          2.276169924461374,
          2.2898239313018958,
          2.4596359076062972,
          2.5154760040586215,
          2.622708458179918,
          3.045078046590902,
          3.1652558369967165,
          3.3565966659374253,
          3.3694277825528105,
          3.3866278324261763,
          3.3888323812097054,
          3.390187855995822,
          3.452335288918262,
          3.5211850041245136,
          3.5353236314918064,
          3.58886546037208,
          3.6044722474639994,
          3.6200100382303293,
          3.7482094999267317,
          3.8304698528112753,
          3.840335952704035,
          3.8886870888238767,
          3.91183065423511,
          3.9845907239450375,
          4.012608918400785,
          4.039150187435666,
          4.141746759581978
         ],
         "xaxis": "x",
         "y": [
          3.2699589884252833,
          3.9054892602111893,
          4.13673166201468,
          4.618287522841097,
          4.7638741497152415,
          4.794743800089616,
          5.050145355812386,
          5.052084153328499,
          5.10971151307791,
          5.153965312384921,
          5.266314891250781,
          5.2713616321979195,
          5.3341268749680175,
          5.3547662744168125,
          5.394401117389793,
          5.550515723274835,
          5.594935371138031,
          5.665658024755625,
          5.670400612215607,
          5.676758027808159,
          5.677572864562363,
          5.678073869885255,
          5.701044562528999,
          5.726492526704542,
          5.731718391207487,
          5.751508313927668,
          5.757276833922569,
          5.763019851763734,
          5.810404438596094,
          5.840809190554795,
          5.844455860056204,
          5.862327219089985,
          5.870881453798365,
          5.897774748009407,
          5.908130724161775,
          5.917940804879607,
          5.955862151172638
         ],
         "yaxis": "y"
        }
       ],
       "layout": {
        "annotations": [
         {
          "showarrow": false,
          "text": "    The x axis shows the log of the cumulative deaths for 100k of population.",
          "x": 0,
          "xref": "paper",
          "y": 1.13,
          "yref": "paper"
         },
         {
          "showarrow": false,
          "text": "    The y axis shows the log of the cumulative pageviews for 100k of population.",
          "x": 0,
          "xref": "paper",
          "y": 1.09,
          "yref": "paper"
         }
        ],
        "legend": {
         "tracegroupgap": 0
        },
        "margin": {
         "b": 0,
         "l": 20,
         "r": 20,
         "t": 100
        },
        "template": {
         "data": {
          "bar": [
           {
            "error_x": {
             "color": "#2a3f5f"
            },
            "error_y": {
             "color": "#2a3f5f"
            },
            "marker": {
             "line": {
              "color": "#E5ECF6",
              "width": 0.5
             },
             "pattern": {
              "fillmode": "overlay",
              "size": 10,
              "solidity": 0.2
             }
            },
            "type": "bar"
           }
          ],
          "barpolar": [
           {
            "marker": {
             "line": {
              "color": "#E5ECF6",
              "width": 0.5
             },
             "pattern": {
              "fillmode": "overlay",
              "size": 10,
              "solidity": 0.2
             }
            },
            "type": "barpolar"
           }
          ],
          "carpet": [
           {
            "aaxis": {
             "endlinecolor": "#2a3f5f",
             "gridcolor": "white",
             "linecolor": "white",
             "minorgridcolor": "white",
             "startlinecolor": "#2a3f5f"
            },
            "baxis": {
             "endlinecolor": "#2a3f5f",
             "gridcolor": "white",
             "linecolor": "white",
             "minorgridcolor": "white",
             "startlinecolor": "#2a3f5f"
            },
            "type": "carpet"
           }
          ],
          "choropleth": [
           {
            "colorbar": {
             "outlinewidth": 0,
             "ticks": ""
            },
            "type": "choropleth"
           }
          ],
          "contour": [
           {
            "colorbar": {
             "outlinewidth": 0,
             "ticks": ""
            },
            "colorscale": [
             [
              0,
              "#0d0887"
             ],
             [
              0.1111111111111111,
              "#46039f"
             ],
             [
              0.2222222222222222,
              "#7201a8"
             ],
             [
              0.3333333333333333,
              "#9c179e"
             ],
             [
              0.4444444444444444,
              "#bd3786"
             ],
             [
              0.5555555555555556,
              "#d8576b"
             ],
             [
              0.6666666666666666,
              "#ed7953"
             ],
             [
              0.7777777777777778,
              "#fb9f3a"
             ],
             [
              0.8888888888888888,
              "#fdca26"
             ],
             [
              1,
              "#f0f921"
             ]
            ],
            "type": "contour"
           }
          ],
          "contourcarpet": [
           {
            "colorbar": {
             "outlinewidth": 0,
             "ticks": ""
            },
            "type": "contourcarpet"
           }
          ],
          "heatmap": [
           {
            "colorbar": {
             "outlinewidth": 0,
             "ticks": ""
            },
            "colorscale": [
             [
              0,
              "#0d0887"
             ],
             [
              0.1111111111111111,
              "#46039f"
             ],
             [
              0.2222222222222222,
              "#7201a8"
             ],
             [
              0.3333333333333333,
              "#9c179e"
             ],
             [
              0.4444444444444444,
              "#bd3786"
             ],
             [
              0.5555555555555556,
              "#d8576b"
             ],
             [
              0.6666666666666666,
              "#ed7953"
             ],
             [
              0.7777777777777778,
              "#fb9f3a"
             ],
             [
              0.8888888888888888,
              "#fdca26"
             ],
             [
              1,
              "#f0f921"
             ]
            ],
            "type": "heatmap"
           }
          ],
          "heatmapgl": [
           {
            "colorbar": {
             "outlinewidth": 0,
             "ticks": ""
            },
            "colorscale": [
             [
              0,
              "#0d0887"
             ],
             [
              0.1111111111111111,
              "#46039f"
             ],
             [
              0.2222222222222222,
              "#7201a8"
             ],
             [
              0.3333333333333333,
              "#9c179e"
             ],
             [
              0.4444444444444444,
              "#bd3786"
             ],
             [
              0.5555555555555556,
              "#d8576b"
             ],
             [
              0.6666666666666666,
              "#ed7953"
             ],
             [
              0.7777777777777778,
              "#fb9f3a"
             ],
             [
              0.8888888888888888,
              "#fdca26"
             ],
             [
              1,
              "#f0f921"
             ]
            ],
            "type": "heatmapgl"
           }
          ],
          "histogram": [
           {
            "marker": {
             "pattern": {
              "fillmode": "overlay",
              "size": 10,
              "solidity": 0.2
             }
            },
            "type": "histogram"
           }
          ],
          "histogram2d": [
           {
            "colorbar": {
             "outlinewidth": 0,
             "ticks": ""
            },
            "colorscale": [
             [
              0,
              "#0d0887"
             ],
             [
              0.1111111111111111,
              "#46039f"
             ],
             [
              0.2222222222222222,
              "#7201a8"
             ],
             [
              0.3333333333333333,
              "#9c179e"
             ],
             [
              0.4444444444444444,
              "#bd3786"
             ],
             [
              0.5555555555555556,
              "#d8576b"
             ],
             [
              0.6666666666666666,
              "#ed7953"
             ],
             [
              0.7777777777777778,
              "#fb9f3a"
             ],
             [
              0.8888888888888888,
              "#fdca26"
             ],
             [
              1,
              "#f0f921"
             ]
            ],
            "type": "histogram2d"
           }
          ],
          "histogram2dcontour": [
           {
            "colorbar": {
             "outlinewidth": 0,
             "ticks": ""
            },
            "colorscale": [
             [
              0,
              "#0d0887"
             ],
             [
              0.1111111111111111,
              "#46039f"
             ],
             [
              0.2222222222222222,
              "#7201a8"
             ],
             [
              0.3333333333333333,
              "#9c179e"
             ],
             [
              0.4444444444444444,
              "#bd3786"
             ],
             [
              0.5555555555555556,
              "#d8576b"
             ],
             [
              0.6666666666666666,
              "#ed7953"
             ],
             [
              0.7777777777777778,
              "#fb9f3a"
             ],
             [
              0.8888888888888888,
              "#fdca26"
             ],
             [
              1,
              "#f0f921"
             ]
            ],
            "type": "histogram2dcontour"
           }
          ],
          "mesh3d": [
           {
            "colorbar": {
             "outlinewidth": 0,
             "ticks": ""
            },
            "type": "mesh3d"
           }
          ],
          "parcoords": [
           {
            "line": {
             "colorbar": {
              "outlinewidth": 0,
              "ticks": ""
             }
            },
            "type": "parcoords"
           }
          ],
          "pie": [
           {
            "automargin": true,
            "type": "pie"
           }
          ],
          "scatter": [
           {
            "fillpattern": {
             "fillmode": "overlay",
             "size": 10,
             "solidity": 0.2
            },
            "type": "scatter"
           }
          ],
          "scatter3d": [
           {
            "line": {
             "colorbar": {
              "outlinewidth": 0,
              "ticks": ""
             }
            },
            "marker": {
             "colorbar": {
              "outlinewidth": 0,
              "ticks": ""
             }
            },
            "type": "scatter3d"
           }
          ],
          "scattercarpet": [
           {
            "marker": {
             "colorbar": {
              "outlinewidth": 0,
              "ticks": ""
             }
            },
            "type": "scattercarpet"
           }
          ],
          "scattergeo": [
           {
            "marker": {
             "colorbar": {
              "outlinewidth": 0,
              "ticks": ""
             }
            },
            "type": "scattergeo"
           }
          ],
          "scattergl": [
           {
            "marker": {
             "colorbar": {
              "outlinewidth": 0,
              "ticks": ""
             }
            },
            "type": "scattergl"
           }
          ],
          "scattermapbox": [
           {
            "marker": {
             "colorbar": {
              "outlinewidth": 0,
              "ticks": ""
             }
            },
            "type": "scattermapbox"
           }
          ],
          "scatterpolar": [
           {
            "marker": {
             "colorbar": {
              "outlinewidth": 0,
              "ticks": ""
             }
            },
            "type": "scatterpolar"
           }
          ],
          "scatterpolargl": [
           {
            "marker": {
             "colorbar": {
              "outlinewidth": 0,
              "ticks": ""
             }
            },
            "type": "scatterpolargl"
           }
          ],
          "scatterternary": [
           {
            "marker": {
             "colorbar": {
              "outlinewidth": 0,
              "ticks": ""
             }
            },
            "type": "scatterternary"
           }
          ],
          "surface": [
           {
            "colorbar": {
             "outlinewidth": 0,
             "ticks": ""
            },
            "colorscale": [
             [
              0,
              "#0d0887"
             ],
             [
              0.1111111111111111,
              "#46039f"
             ],
             [
              0.2222222222222222,
              "#7201a8"
             ],
             [
              0.3333333333333333,
              "#9c179e"
             ],
             [
              0.4444444444444444,
              "#bd3786"
             ],
             [
              0.5555555555555556,
              "#d8576b"
             ],
             [
              0.6666666666666666,
              "#ed7953"
             ],
             [
              0.7777777777777778,
              "#fb9f3a"
             ],
             [
              0.8888888888888888,
              "#fdca26"
             ],
             [
              1,
              "#f0f921"
             ]
            ],
            "type": "surface"
           }
          ],
          "table": [
           {
            "cells": {
             "fill": {
              "color": "#EBF0F8"
             },
             "line": {
              "color": "white"
             }
            },
            "header": {
             "fill": {
              "color": "#C8D4E3"
             },
             "line": {
              "color": "white"
             }
            },
            "type": "table"
           }
          ]
         },
         "layout": {
          "annotationdefaults": {
           "arrowcolor": "#2a3f5f",
           "arrowhead": 0,
           "arrowwidth": 1
          },
          "autotypenumbers": "strict",
          "coloraxis": {
           "colorbar": {
            "outlinewidth": 0,
            "ticks": ""
           }
          },
          "colorscale": {
           "diverging": [
            [
             0,
             "#8e0152"
            ],
            [
             0.1,
             "#c51b7d"
            ],
            [
             0.2,
             "#de77ae"
            ],
            [
             0.3,
             "#f1b6da"
            ],
            [
             0.4,
             "#fde0ef"
            ],
            [
             0.5,
             "#f7f7f7"
            ],
            [
             0.6,
             "#e6f5d0"
            ],
            [
             0.7,
             "#b8e186"
            ],
            [
             0.8,
             "#7fbc41"
            ],
            [
             0.9,
             "#4d9221"
            ],
            [
             1,
             "#276419"
            ]
           ],
           "sequential": [
            [
             0,
             "#0d0887"
            ],
            [
             0.1111111111111111,
             "#46039f"
            ],
            [
             0.2222222222222222,
             "#7201a8"
            ],
            [
             0.3333333333333333,
             "#9c179e"
            ],
            [
             0.4444444444444444,
             "#bd3786"
            ],
            [
             0.5555555555555556,
             "#d8576b"
            ],
            [
             0.6666666666666666,
             "#ed7953"
            ],
            [
             0.7777777777777778,
             "#fb9f3a"
            ],
            [
             0.8888888888888888,
             "#fdca26"
            ],
            [
             1,
             "#f0f921"
            ]
           ],
           "sequentialminus": [
            [
             0,
             "#0d0887"
            ],
            [
             0.1111111111111111,
             "#46039f"
            ],
            [
             0.2222222222222222,
             "#7201a8"
            ],
            [
             0.3333333333333333,
             "#9c179e"
            ],
            [
             0.4444444444444444,
             "#bd3786"
            ],
            [
             0.5555555555555556,
             "#d8576b"
            ],
            [
             0.6666666666666666,
             "#ed7953"
            ],
            [
             0.7777777777777778,
             "#fb9f3a"
            ],
            [
             0.8888888888888888,
             "#fdca26"
            ],
            [
             1,
             "#f0f921"
            ]
           ]
          },
          "colorway": [
           "#636efa",
           "#EF553B",
           "#00cc96",
           "#ab63fa",
           "#FFA15A",
           "#19d3f3",
           "#FF6692",
           "#B6E880",
           "#FF97FF",
           "#FECB52"
          ],
          "font": {
           "color": "#2a3f5f"
          },
          "geo": {
           "bgcolor": "white",
           "lakecolor": "white",
           "landcolor": "#E5ECF6",
           "showlakes": true,
           "showland": true,
           "subunitcolor": "white"
          },
          "hoverlabel": {
           "align": "left"
          },
          "hovermode": "closest",
          "mapbox": {
           "style": "light"
          },
          "paper_bgcolor": "white",
          "plot_bgcolor": "#E5ECF6",
          "polar": {
           "angularaxis": {
            "gridcolor": "white",
            "linecolor": "white",
            "ticks": ""
           },
           "bgcolor": "#E5ECF6",
           "radialaxis": {
            "gridcolor": "white",
            "linecolor": "white",
            "ticks": ""
           }
          },
          "scene": {
           "xaxis": {
            "backgroundcolor": "#E5ECF6",
            "gridcolor": "white",
            "gridwidth": 2,
            "linecolor": "white",
            "showbackground": true,
            "ticks": "",
            "zerolinecolor": "white"
           },
           "yaxis": {
            "backgroundcolor": "#E5ECF6",
            "gridcolor": "white",
            "gridwidth": 2,
            "linecolor": "white",
            "showbackground": true,
            "ticks": "",
            "zerolinecolor": "white"
           },
           "zaxis": {
            "backgroundcolor": "#E5ECF6",
            "gridcolor": "white",
            "gridwidth": 2,
            "linecolor": "white",
            "showbackground": true,
            "ticks": "",
            "zerolinecolor": "white"
           }
          },
          "shapedefaults": {
           "line": {
            "color": "#2a3f5f"
           }
          },
          "ternary": {
           "aaxis": {
            "gridcolor": "white",
            "linecolor": "white",
            "ticks": ""
           },
           "baxis": {
            "gridcolor": "white",
            "linecolor": "white",
            "ticks": ""
           },
           "bgcolor": "#E5ECF6",
           "caxis": {
            "gridcolor": "white",
            "linecolor": "white",
            "ticks": ""
           }
          },
          "title": {
           "x": 0.05
          },
          "xaxis": {
           "automargin": true,
           "gridcolor": "white",
           "linecolor": "white",
           "ticks": "",
           "title": {
            "standoff": 15
           },
           "zerolinecolor": "white",
           "zerolinewidth": 2
          },
          "yaxis": {
           "automargin": true,
           "gridcolor": "white",
           "linecolor": "white",
           "ticks": "",
           "title": {
            "standoff": 15
           },
           "zerolinecolor": "white",
           "zerolinewidth": 2
          }
         }
        },
        "title": {
         "text": "Relationship between Log of cumulative deaths and Log of cumulative pageviews"
        },
        "xaxis": {
         "anchor": "y",
         "domain": [
          0,
          1
         ],
         "title": {
          "text": "x"
         }
        },
        "yaxis": {
         "anchor": "x",
         "domain": [
          0,
          1
         ],
         "title": {
          "text": "y"
         }
        }
       }
      }
     },
     "metadata": {},
     "output_type": "display_data"
    }
   ],
   "source": [
    "fig = px.scatter(data, x='x', y=\"y\", hover_name= 'Country',trendline=\"ols\", title='Relationship between Log of cumulative deaths and Log of cumulative pageviews')\n",
    "\n",
    "fig.update_layout(margin=dict(l=20, r=20, t=100, b=0))  \n",
    "fig.add_annotation(xref='paper',yref='paper',x=0, y=1.13,showarrow=False,text = \"    The x axis shows the log of the cumulative deaths for 100k of population.\")\n",
    "fig.add_annotation(xref='paper',yref='paper',x=0, y=1.09,showarrow=False,text = \"    The y axis shows the log of the cumulative pageviews for 100k of population.\")\n",
    "fig.show()"
   ]
  },
  {
   "cell_type": "code",
   "execution_count": 307,
   "metadata": {},
   "outputs": [
    {
     "name": "stdout",
     "output_type": "stream",
     "text": [
      "Our model summary is:\n"
     ]
    },
    {
     "data": {
      "text/html": [
       "<table class=\"simpletable\">\n",
       "<caption>OLS Regression Results</caption>\n",
       "<tr>\n",
       "  <th>Dep. Variable:</th>            <td>y</td>        <th>  R-squared:         </th> <td>   0.405</td>\n",
       "</tr>\n",
       "<tr>\n",
       "  <th>Model:</th>                   <td>OLS</td>       <th>  Adj. R-squared:    </th> <td>   0.388</td>\n",
       "</tr>\n",
       "<tr>\n",
       "  <th>Method:</th>             <td>Least Squares</td>  <th>  F-statistic:       </th> <td>   23.86</td>\n",
       "</tr>\n",
       "<tr>\n",
       "  <th>Date:</th>             <td>Wed, 21 Dec 2022</td> <th>  Prob (F-statistic):</th> <td>2.27e-05</td>\n",
       "</tr>\n",
       "<tr>\n",
       "  <th>Time:</th>                 <td>10:10:54</td>     <th>  Log-Likelihood:    </th> <td> -48.188</td>\n",
       "</tr>\n",
       "<tr>\n",
       "  <th>No. Observations:</th>      <td>    37</td>      <th>  AIC:               </th> <td>   100.4</td>\n",
       "</tr>\n",
       "<tr>\n",
       "  <th>Df Residuals:</th>          <td>    35</td>      <th>  BIC:               </th> <td>   103.6</td>\n",
       "</tr>\n",
       "<tr>\n",
       "  <th>Df Model:</th>              <td>     1</td>      <th>                     </th>     <td> </td>   \n",
       "</tr>\n",
       "<tr>\n",
       "  <th>Covariance Type:</th>      <td>nonrobust</td>    <th>                     </th>     <td> </td>   \n",
       "</tr>\n",
       "</table>\n",
       "<table class=\"simpletable\">\n",
       "<tr>\n",
       "      <td></td>         <th>coef</th>     <th>std err</th>      <th>t</th>      <th>P>|t|</th>  <th>[0.025</th>    <th>0.975]</th>  \n",
       "</tr>\n",
       "<tr>\n",
       "  <th>Intercept</th> <td>    1.8711</td> <td>    0.735</td> <td>    2.544</td> <td> 0.016</td> <td>    0.378</td> <td>    3.364</td>\n",
       "</tr>\n",
       "<tr>\n",
       "  <th>x2</th>        <td>    0.4225</td> <td>    0.086</td> <td>    4.885</td> <td> 0.000</td> <td>    0.247</td> <td>    0.598</td>\n",
       "</tr>\n",
       "</table>\n",
       "<table class=\"simpletable\">\n",
       "<tr>\n",
       "  <th>Omnibus:</th>       <td> 1.090</td> <th>  Durbin-Watson:     </th> <td>   2.013</td>\n",
       "</tr>\n",
       "<tr>\n",
       "  <th>Prob(Omnibus):</th> <td> 0.580</td> <th>  Jarque-Bera (JB):  </th> <td>   0.925</td>\n",
       "</tr>\n",
       "<tr>\n",
       "  <th>Skew:</th>          <td>-0.128</td> <th>  Prob(JB):          </th> <td>   0.630</td>\n",
       "</tr>\n",
       "<tr>\n",
       "  <th>Kurtosis:</th>      <td> 2.269</td> <th>  Cond. No.          </th> <td>    42.1</td>\n",
       "</tr>\n",
       "</table><br/><br/>Notes:<br/>[1] Standard Errors assume that the covariance matrix of the errors is correctly specified."
      ],
      "text/plain": [
       "<class 'statsmodels.iolib.summary.Summary'>\n",
       "\"\"\"\n",
       "                            OLS Regression Results                            \n",
       "==============================================================================\n",
       "Dep. Variable:                      y   R-squared:                       0.405\n",
       "Model:                            OLS   Adj. R-squared:                  0.388\n",
       "Method:                 Least Squares   F-statistic:                     23.86\n",
       "Date:                Wed, 21 Dec 2022   Prob (F-statistic):           2.27e-05\n",
       "Time:                        10:10:54   Log-Likelihood:                -48.188\n",
       "No. Observations:                  37   AIC:                             100.4\n",
       "Df Residuals:                      35   BIC:                             103.6\n",
       "Df Model:                           1                                         \n",
       "Covariance Type:            nonrobust                                         \n",
       "==============================================================================\n",
       "                 coef    std err          t      P>|t|      [0.025      0.975]\n",
       "------------------------------------------------------------------------------\n",
       "Intercept      1.8711      0.735      2.544      0.016       0.378       3.364\n",
       "x2             0.4225      0.086      4.885      0.000       0.247       0.598\n",
       "==============================================================================\n",
       "Omnibus:                        1.090   Durbin-Watson:                   2.013\n",
       "Prob(Omnibus):                  0.580   Jarque-Bera (JB):                0.925\n",
       "Skew:                          -0.128   Prob(JB):                        0.630\n",
       "Kurtosis:                       2.269   Cond. No.                         42.1\n",
       "==============================================================================\n",
       "\n",
       "Notes:\n",
       "[1] Standard Errors assume that the covariance matrix of the errors is correctly specified.\n",
       "\"\"\""
      ]
     },
     "execution_count": 307,
     "metadata": {},
     "output_type": "execute_result"
    }
   ],
   "source": [
    "model = smf.ols('y ~ x2', data=data).fit()\n",
    "\n",
    "results = model.summary()\n",
    "\n",
    "#Show the results of the linear regression\n",
    "print(\"Our model summary is:\")\n",
    "results"
   ]
  },
  {
   "cell_type": "code",
   "execution_count": 308,
   "metadata": {},
   "outputs": [],
   "source": [
    "from statsmodels.regression.rolling import RollingOLS\n",
    "import statsmodels.api as sm\n",
    "\n",
    "_, _, df_pageviews_100k, df_pageviews_cumul100k = get_pageviews_df(pageview_df, population_df, get_country_dict('original'), '2020-01-22', '2022-07-01')\n",
    "_, _, _, _, deaths100k, deaths100k_cumul, cases100k, cases100k_cumul = get_cases_deaths_df(population_df, get_country_dict('original'), '2020-01-22', '2022-07-01')"
   ]
  },
  {
   "cell_type": "code",
   "execution_count": 309,
   "metadata": {},
   "outputs": [],
   "source": [
    "data = pd.DataFrame()\n",
    "deaths100k = deaths100k.rename(columns= {v: k for k, v in get_country_dict('original').items()}).reset_index().rename(columns = {'index': 'Country'})\n",
    "deaths100k = deaths100k.drop('date', axis= 1)\n",
    "df_pageviews_100k = df_pageviews_100k.rename(columns= {v: k for k, v in get_country_dict('original').items()}).reset_index().rename(columns = {'index': 'Country'})\n",
    "df_pageviews_100k = df_pageviews_100k.drop('date', axis= 1)\n",
    "\n",
    "df_pageviews_100k_rollingcumul = df_pageviews_100k.rolling(60, min_periods=1).sum()\n",
    "df_pageviews_100k_rollingcumul = df_pageviews_100k_rollingcumul.loc[df_pageviews_100k_rollingcumul.index % 60 == 59]\n",
    "df_pageviews_100k_rollingcumul = df_pageviews_100k_rollingcumul.reset_index().drop('index', axis= 1)\n",
    "\n",
    "deaths100k_rollingcumul = deaths100k.rolling(60, min_periods=1).sum()\n",
    "deaths100k_rollingcumul = deaths100k_rollingcumul.loc[deaths100k_rollingcumul.index % 60 == 59]\n",
    "deaths100k_rollingcumul = deaths100k_rollingcumul.reset_index().drop('index', axis= 1)"
   ]
  },
  {
   "cell_type": "code",
   "execution_count": 324,
   "metadata": {},
   "outputs": [
    {
     "data": {
      "text/html": [
       "<div>\n",
       "<style scoped>\n",
       "    .dataframe tbody tr th:only-of-type {\n",
       "        vertical-align: middle;\n",
       "    }\n",
       "\n",
       "    .dataframe tbody tr th {\n",
       "        vertical-align: top;\n",
       "    }\n",
       "\n",
       "    .dataframe thead th {\n",
       "        text-align: right;\n",
       "    }\n",
       "</style>\n",
       "<table border=\"1\" class=\"dataframe\">\n",
       "  <thead>\n",
       "    <tr style=\"text-align: right;\">\n",
       "      <th></th>\n",
       "      <th>country</th>\n",
       "      <th>Log of Pageviews</th>\n",
       "      <th>Log of Deaths</th>\n",
       "      <th>i</th>\n",
       "      <th>Date</th>\n",
       "    </tr>\n",
       "  </thead>\n",
       "  <tbody>\n",
       "    <tr>\n",
       "      <th>0</th>\n",
       "      <td>Italy</td>\n",
       "      <td>8.893485</td>\n",
       "      <td>2.095085</td>\n",
       "      <td>0</td>\n",
       "      <td>2020-03-21</td>\n",
       "    </tr>\n",
       "    <tr>\n",
       "      <th>1</th>\n",
       "      <td>Russia</td>\n",
       "      <td>8.812605</td>\n",
       "      <td>-4.538064</td>\n",
       "      <td>0</td>\n",
       "      <td>2020-03-21</td>\n",
       "    </tr>\n",
       "    <tr>\n",
       "      <th>2</th>\n",
       "      <td>China</td>\n",
       "      <td>6.335957</td>\n",
       "      <td>-1.428455</td>\n",
       "      <td>0</td>\n",
       "      <td>2020-03-21</td>\n",
       "    </tr>\n",
       "    <tr>\n",
       "      <th>3</th>\n",
       "      <td>Albania</td>\n",
       "      <td>4.759460</td>\n",
       "      <td>-2.519797</td>\n",
       "      <td>0</td>\n",
       "      <td>2020-03-21</td>\n",
       "    </tr>\n",
       "    <tr>\n",
       "      <th>4</th>\n",
       "      <td>Bangladesh</td>\n",
       "      <td>2.609923</td>\n",
       "      <td>-4.490556</td>\n",
       "      <td>0</td>\n",
       "      <td>2020-03-21</td>\n",
       "    </tr>\n",
       "    <tr>\n",
       "      <th>...</th>\n",
       "      <td>...</td>\n",
       "      <td>...</td>\n",
       "      <td>...</td>\n",
       "      <td>...</td>\n",
       "      <td>...</td>\n",
       "    </tr>\n",
       "    <tr>\n",
       "      <th>527</th>\n",
       "      <td>Romania</td>\n",
       "      <td>3.854435</td>\n",
       "      <td>1.914946</td>\n",
       "      <td>13</td>\n",
       "      <td>2022-04-27</td>\n",
       "    </tr>\n",
       "    <tr>\n",
       "      <th>528</th>\n",
       "      <td>Tajikistan</td>\n",
       "      <td>1.268032</td>\n",
       "      <td>-4.605170</td>\n",
       "      <td>13</td>\n",
       "      <td>2022-04-27</td>\n",
       "    </tr>\n",
       "    <tr>\n",
       "      <th>529</th>\n",
       "      <td>Thailand</td>\n",
       "      <td>2.946923</td>\n",
       "      <td>2.087287</td>\n",
       "      <td>13</td>\n",
       "      <td>2022-04-27</td>\n",
       "    </tr>\n",
       "    <tr>\n",
       "      <th>530</th>\n",
       "      <td>Azerbaijan</td>\n",
       "      <td>4.123657</td>\n",
       "      <td>0.181428</td>\n",
       "      <td>13</td>\n",
       "      <td>2022-04-27</td>\n",
       "    </tr>\n",
       "    <tr>\n",
       "      <th>531</th>\n",
       "      <td>Mongolia</td>\n",
       "      <td>3.037067</td>\n",
       "      <td>-1.644950</td>\n",
       "      <td>13</td>\n",
       "      <td>2022-04-27</td>\n",
       "    </tr>\n",
       "  </tbody>\n",
       "</table>\n",
       "<p>532 rows × 5 columns</p>\n",
       "</div>"
      ],
      "text/plain": [
       "        country  Log of Pageviews  Log of Deaths   i        Date\n",
       "0         Italy          8.893485       2.095085   0  2020-03-21\n",
       "1        Russia          8.812605      -4.538064   0  2020-03-21\n",
       "2         China          6.335957      -1.428455   0  2020-03-21\n",
       "3       Albania          4.759460      -2.519797   0  2020-03-21\n",
       "4    Bangladesh          2.609923      -4.490556   0  2020-03-21\n",
       "..          ...               ...            ...  ..         ...\n",
       "527     Romania          3.854435       1.914946  13  2022-04-27\n",
       "528  Tajikistan          1.268032      -4.605170  13  2022-04-27\n",
       "529    Thailand          2.946923       2.087287  13  2022-04-27\n",
       "530  Azerbaijan          4.123657       0.181428  13  2022-04-27\n",
       "531    Mongolia          3.037067      -1.644950  13  2022-04-27\n",
       "\n",
       "[532 rows x 5 columns]"
      ]
     },
     "execution_count": 324,
     "metadata": {},
     "output_type": "execute_result"
    }
   ],
   "source": [
    "data = pd.DataFrame()\n",
    "data_tmp = pd.DataFrame()\n",
    "for i in df_pageviews_100k_rollingcumul.index.values:\n",
    "    if i == 0:\n",
    "        data['Log of Pageviews'] = np.log(df_pageviews_100k_rollingcumul.transpose()[i] + 0.01)\n",
    "        data['Log of Deaths'] = np.log(deaths100k_rollingcumul.transpose()[i] + 0.01)\n",
    "        data['i'] = i\n",
    "    else:\n",
    "        data_tmp ['Log of Pageviews'] = np.log(df_pageviews_100k_rollingcumul.transpose()[i] + 0.01)\n",
    "        data_tmp ['Log of Deaths'] = np.log(deaths100k_rollingcumul.transpose()[i] + 0.01)\n",
    "        data_tmp ['i'] = i\n",
    "        data = pd.concat([data, data_tmp], axis= 0)\n",
    "\n",
    "data = data.reset_index().rename(columns= {'index' : 'country'}).dropna()\n",
    "data['Date'] = data['i'].apply(lambda x:pd.to_datetime('2020-01-22') + datetime.timedelta(days= x * 59 + 59))\n",
    "data['Date'] = data['Date'].astype(str)\n",
    "data\n"
   ]
  },
  {
   "cell_type": "code",
   "execution_count": 339,
   "metadata": {},
   "outputs": [
    {
     "data": {
      "application/vnd.plotly.v1+json": {
       "config": {
        "plotlyServerURL": "https://plot.ly"
       },
       "data": [
        {
         "hovertemplate": "<b>%{hovertext}</b><br><br>Date=2020-03-21<br>Log of Deaths=%{x}<br>Log of Pageviews=%{y}<extra></extra>",
         "hovertext": [
          "Italy",
          "Russia",
          "China",
          "Albania",
          "Bangladesh",
          "Botswana",
          "Cambodia",
          "Croatia",
          "Greece",
          "Sweden",
          "Finland",
          "Norway",
          "Malaysia",
          "Israel",
          "Lithuania",
          "Serbia",
          "Slovakia",
          "Slovenia",
          "Turkey",
          "Vietnam",
          "Bulgaria",
          "Czechia",
          "Denmark",
          "Georgia",
          "Germany",
          "Hungary",
          "Iceland",
          "Japan",
          "Kazakhstan",
          "South Korea",
          "Kyrgyzstan",
          "Netherlands",
          "Poland",
          "Romania",
          "Tajikistan",
          "Thailand",
          "Azerbaijan",
          "Mongolia"
         ],
         "legendgroup": "",
         "marker": {
          "color": "orange",
          "size": 10,
          "symbol": "circle"
         },
         "mode": "markers",
         "name": "",
         "orientation": "v",
         "showlegend": false,
         "type": "scatter",
         "x": [
          2.09508461005868,
          -4.538063848101651,
          -1.4284548599951084,
          -2.5197973533567617,
          -4.490555955285379,
          -4.605170185988091,
          -4.605170185988091,
          -3.360856805875097,
          -2.0288319729400084,
          -0.72717447810262,
          -1.8664135095388175,
          -1.9652259486544577,
          -3.4537240066064534,
          -3.87031720065218,
          -4.605170185988091,
          -3.7093030182863593,
          -4.605170185988091,
          -2.854853422568869,
          -3.8790133079213884,
          -4.605170185988091,
          -2.9324762543486647,
          -4.605170185988091,
          -1.4570135404538727,
          -4.605170185988091,
          -2.710298257523679,
          -2.9754392943573684,
          -1.2627365842349905,
          -3.256775862276197,
          -4.605170185988091,
          -1.5761311174113404,
          -4.605170185988091,
          -0.23603953805895606,
          -3.7639075350864464,
          -4.605170185988091,
          -4.605170185988091,
          -4.47128065180362,
          -3.9166467709978434,
          -4.605170185988091
         ],
         "xaxis": "x",
         "y": [
          8.893484950763607,
          8.812605065776365,
          6.335956654552035,
          4.759459779766594,
          2.6099230195150023,
          -4.605170185988091,
          -0.3858129525953018,
          7.452279225156858,
          7.624448689800947,
          7.2486321187284455,
          8.963621503306028,
          7.636608815748905,
          6.310413892247315,
          8.846388370639309,
          7.823647410391721,
          6.266410759972477,
          7.8999155756194925,
          7.552465177829196,
          6.140503176167827,
          7.43121474106338,
          7.0254873523439025,
          9.876676723832109,
          7.693165659212125,
          5.841049911773486,
          9.531632627245441,
          7.607867756650844,
          7.035032436625605,
          8.197146169743492,
          5.1146971905482905,
          7.093394797500724,
          2.0808956542368873,
          8.795708656661887,
          8.826218736443458,
          7.865366405828237,
          -4.605170185988091,
          5.341497787690751,
          4.6335831400315595,
          3.272044480727464
         ],
         "yaxis": "y"
        },
        {
         "hovertemplate": "<b>OLS trendline</b><br>Log of Pageviews = 0.833279 * Log of Deaths + 8.86452<br>R<sup>2</sup>=0.152893<br><br>Date=2020-03-21<br>Log of Deaths=%{x}<br>Log of Pageviews=%{y} <b>(trend)</b><extra></extra>",
         "legendgroup": "",
         "line": {
          "color": "black"
         },
         "marker": {
          "color": "orange",
          "size": 10,
          "symbol": "circle"
         },
         "mode": "lines",
         "name": "",
         "showlegend": false,
         "type": "scatter",
         "x": [
          -4.605170185988091,
          -4.605170185988091,
          -4.605170185988091,
          -4.605170185988091,
          -4.605170185988091,
          -4.605170185988091,
          -4.605170185988091,
          -4.605170185988091,
          -4.605170185988091,
          -4.605170185988091,
          -4.605170185988091,
          -4.605170185988091,
          -4.538063848101651,
          -4.490555955285379,
          -4.47128065180362,
          -3.9166467709978434,
          -3.8790133079213884,
          -3.87031720065218,
          -3.7639075350864464,
          -3.7093030182863593,
          -3.4537240066064534,
          -3.360856805875097,
          -3.256775862276197,
          -2.9754392943573684,
          -2.9324762543486647,
          -2.854853422568869,
          -2.710298257523679,
          -2.5197973533567617,
          -2.0288319729400084,
          -1.9652259486544577,
          -1.8664135095388175,
          -1.5761311174113404,
          -1.4570135404538727,
          -1.4284548599951084,
          -1.2627365842349905,
          -0.72717447810262,
          -0.23603953805895606,
          2.09508461005868
         ],
         "xaxis": "x",
         "y": [
          5.027132169738639,
          5.027132169738639,
          5.027132169738639,
          5.027132169738639,
          5.027132169738639,
          5.027132169738639,
          5.027132169738639,
          5.027132169738639,
          5.027132169738639,
          5.027132169738639,
          5.027132169738639,
          5.027132169738639,
          5.083050442206147,
          5.122637750626302,
          5.138699447716834,
          5.600863968139525,
          5.632223125984889,
          5.639469405710496,
          5.728138298391698,
          5.773639071411843,
          5.9866075817227244,
          6.063991828834801,
          6.150720247433469,
          6.3851519770650444,
          6.420952157091329,
          6.485633598425641,
          6.60608831790775,
          6.7648286366320285,
          7.173939560859738,
          7.226941097057307,
          7.309279383837282,
          7.551165476965673,
          7.65042359972673,
          7.6742209357981475,
          7.812310421659849,
          8.258582841183946,
          8.667835055813066,
          10.61031082450455
         ],
         "yaxis": "y"
        }
       ],
       "frames": [
        {
         "data": [
          {
           "hovertemplate": "<b>%{hovertext}</b><br><br>Date=2020-03-21<br>Log of Deaths=%{x}<br>Log of Pageviews=%{y}<extra></extra>",
           "hovertext": [
            "Italy",
            "Russia",
            "China",
            "Albania",
            "Bangladesh",
            "Botswana",
            "Cambodia",
            "Croatia",
            "Greece",
            "Sweden",
            "Finland",
            "Norway",
            "Malaysia",
            "Israel",
            "Lithuania",
            "Serbia",
            "Slovakia",
            "Slovenia",
            "Turkey",
            "Vietnam",
            "Bulgaria",
            "Czechia",
            "Denmark",
            "Georgia",
            "Germany",
            "Hungary",
            "Iceland",
            "Japan",
            "Kazakhstan",
            "South Korea",
            "Kyrgyzstan",
            "Netherlands",
            "Poland",
            "Romania",
            "Tajikistan",
            "Thailand",
            "Azerbaijan",
            "Mongolia"
           ],
           "legendgroup": "",
           "marker": {
            "color": "#636efa",
            "symbol": "circle"
           },
           "mode": "markers",
           "name": "",
           "orientation": "v",
           "showlegend": false,
           "type": "scatter",
           "x": [
            2.09508461005868,
            -4.538063848101651,
            -1.4284548599951084,
            -2.5197973533567617,
            -4.490555955285379,
            -4.605170185988091,
            -4.605170185988091,
            -3.360856805875097,
            -2.0288319729400084,
            -0.72717447810262,
            -1.8664135095388175,
            -1.9652259486544577,
            -3.4537240066064534,
            -3.87031720065218,
            -4.605170185988091,
            -3.7093030182863593,
            -4.605170185988091,
            -2.854853422568869,
            -3.8790133079213884,
            -4.605170185988091,
            -2.9324762543486647,
            -4.605170185988091,
            -1.4570135404538727,
            -4.605170185988091,
            -2.710298257523679,
            -2.9754392943573684,
            -1.2627365842349905,
            -3.256775862276197,
            -4.605170185988091,
            -1.5761311174113404,
            -4.605170185988091,
            -0.23603953805895606,
            -3.7639075350864464,
            -4.605170185988091,
            -4.605170185988091,
            -4.47128065180362,
            -3.9166467709978434,
            -4.605170185988091
           ],
           "xaxis": "x",
           "y": [
            8.893484950763607,
            8.812605065776365,
            6.335956654552035,
            4.759459779766594,
            2.6099230195150023,
            -4.605170185988091,
            -0.3858129525953018,
            7.452279225156858,
            7.624448689800947,
            7.2486321187284455,
            8.963621503306028,
            7.636608815748905,
            6.310413892247315,
            8.846388370639309,
            7.823647410391721,
            6.266410759972477,
            7.8999155756194925,
            7.552465177829196,
            6.140503176167827,
            7.43121474106338,
            7.0254873523439025,
            9.876676723832109,
            7.693165659212125,
            5.841049911773486,
            9.531632627245441,
            7.607867756650844,
            7.035032436625605,
            8.197146169743492,
            5.1146971905482905,
            7.093394797500724,
            2.0808956542368873,
            8.795708656661887,
            8.826218736443458,
            7.865366405828237,
            -4.605170185988091,
            5.341497787690751,
            4.6335831400315595,
            3.272044480727464
           ],
           "yaxis": "y"
          },
          {
           "hovertemplate": "<b>OLS trendline</b><br>Log of Pageviews = 0.833279 * Log of Deaths + 8.86452<br>R<sup>2</sup>=0.152893<br><br>Date=2020-03-21<br>Log of Deaths=%{x}<br>Log of Pageviews=%{y} <b>(trend)</b><extra></extra>",
           "legendgroup": "",
           "line": {
            "color": "black"
           },
           "marker": {
            "color": "#636efa",
            "symbol": "circle"
           },
           "mode": "lines",
           "name": "",
           "showlegend": false,
           "type": "scatter",
           "x": [
            -4.605170185988091,
            -4.605170185988091,
            -4.605170185988091,
            -4.605170185988091,
            -4.605170185988091,
            -4.605170185988091,
            -4.605170185988091,
            -4.605170185988091,
            -4.605170185988091,
            -4.605170185988091,
            -4.605170185988091,
            -4.605170185988091,
            -4.538063848101651,
            -4.490555955285379,
            -4.47128065180362,
            -3.9166467709978434,
            -3.8790133079213884,
            -3.87031720065218,
            -3.7639075350864464,
            -3.7093030182863593,
            -3.4537240066064534,
            -3.360856805875097,
            -3.256775862276197,
            -2.9754392943573684,
            -2.9324762543486647,
            -2.854853422568869,
            -2.710298257523679,
            -2.5197973533567617,
            -2.0288319729400084,
            -1.9652259486544577,
            -1.8664135095388175,
            -1.5761311174113404,
            -1.4570135404538727,
            -1.4284548599951084,
            -1.2627365842349905,
            -0.72717447810262,
            -0.23603953805895606,
            2.09508461005868
           ],
           "xaxis": "x",
           "y": [
            5.027132169738639,
            5.027132169738639,
            5.027132169738639,
            5.027132169738639,
            5.027132169738639,
            5.027132169738639,
            5.027132169738639,
            5.027132169738639,
            5.027132169738639,
            5.027132169738639,
            5.027132169738639,
            5.027132169738639,
            5.083050442206147,
            5.122637750626302,
            5.138699447716834,
            5.600863968139525,
            5.632223125984889,
            5.639469405710496,
            5.728138298391698,
            5.773639071411843,
            5.9866075817227244,
            6.063991828834801,
            6.150720247433469,
            6.3851519770650444,
            6.420952157091329,
            6.485633598425641,
            6.60608831790775,
            6.7648286366320285,
            7.173939560859738,
            7.226941097057307,
            7.309279383837282,
            7.551165476965673,
            7.65042359972673,
            7.6742209357981475,
            7.812310421659849,
            8.258582841183946,
            8.667835055813066,
            10.61031082450455
           ],
           "yaxis": "y"
          }
         ],
         "name": "2020-03-21"
        },
        {
         "data": [
          {
           "hovertemplate": "<b>%{hovertext}</b><br><br>Date=2020-05-19<br>Log of Deaths=%{x}<br>Log of Pageviews=%{y}<extra></extra>",
           "hovertext": [
            "Italy",
            "Russia",
            "China",
            "Albania",
            "Bangladesh",
            "Botswana",
            "Cambodia",
            "Croatia",
            "Greece",
            "Sweden",
            "Finland",
            "Norway",
            "Malaysia",
            "Israel",
            "Lithuania",
            "Serbia",
            "Slovakia",
            "Slovenia",
            "Turkey",
            "Vietnam",
            "Bulgaria",
            "Czechia",
            "Denmark",
            "Georgia",
            "Germany",
            "Hungary",
            "Iceland",
            "Japan",
            "Kazakhstan",
            "South Korea",
            "Kyrgyzstan",
            "Netherlands",
            "Poland",
            "Romania",
            "Tajikistan",
            "Thailand",
            "Azerbaijan",
            "Mongolia"
           ],
           "legendgroup": "",
           "marker": {
            "color": "#636efa",
            "symbol": "circle"
           },
           "mode": "markers",
           "name": "",
           "orientation": "v",
           "showlegend": false,
           "type": "scatter",
           "x": [
            3.83462644292094,
            0.728585296735816,
            -3.879292620958456,
            0.03140248261645903,
            -1.414010059243133,
            -2.946489131171645,
            -4.605170185988091,
            0.8573995857698842,
            0.364526609739827,
            3.670027568314157,
            1.6693677815344181,
            1.442141147915845,
            -1.0770645571197566,
            1.1146467705432597,
            0.5043227961209691,
            1.2390884776701023,
            -0.6483063124636602,
            1.6007367357239124,
            1.6104998587479564,
            -4.605170185988091,
            0.49448126126357284,
            1.0625549183620377,
            2.2487610147420853,
            -1.1015807950286391,
            2.270228816415989,
            1.5664080950145416,
            0.9025607457962503,
            -0.46306459651051485,
            -1.6265318064622716,
            -1.1315818395798178,
            -1.5016190613652851,
            3.4742041153574985,
            0.9302440994001377,
            1.7860959292966405,
            -0.7521968787444748,
            -2.421407070711796,
            -0.8530225429729463,
            -4.605170185988091
           ],
           "xaxis": "x",
           "y": [
            9.170115056019645,
            9.174065392763067,
            6.3525768140682395,
            6.744264440865279,
            5.540159354471201,
            3.4370434361987154,
            1.8615716101813553,
            8.06809687274747,
            8.52056539847508,
            7.955605994472693,
            8.633917139593274,
            7.6551620030661125,
            6.8587205951003245,
            9.363482187074068,
            8.060294535919514,
            6.938730059659237,
            7.785090028096589,
            7.5646472252156505,
            7.57459768713823,
            7.825210403627199,
            8.021023780437613,
            9.380843210797114,
            7.271890542620512,
            6.306465881499624,
            9.726743366895672,
            8.663076568942872,
            7.066720791220075,
            8.498148835199824,
            4.809901959729169,
            7.27126617276607,
            2.4671070478477257,
            9.110367340458545,
            8.65059835459623,
            8.599941674957224,
            3.029455693394057,
            5.393360698983641,
            6.051371942669546,
            3.592076386833825
           ],
           "yaxis": "y"
          },
          {
           "hovertemplate": "<b>OLS trendline</b><br>Log of Pageviews = 0.645871 * Log of Deaths + 7.08269<br>R<sup>2</sup>=0.489536<br><br>Date=2020-05-19<br>Log of Deaths=%{x}<br>Log of Pageviews=%{y} <b>(trend)</b><extra></extra>",
           "legendgroup": "",
           "line": {
            "color": "black"
           },
           "marker": {
            "color": "#636efa",
            "symbol": "circle"
           },
           "mode": "lines",
           "name": "",
           "showlegend": false,
           "type": "scatter",
           "x": [
            -4.605170185988091,
            -4.605170185988091,
            -4.605170185988091,
            -3.879292620958456,
            -2.946489131171645,
            -2.421407070711796,
            -1.6265318064622716,
            -1.5016190613652851,
            -1.414010059243133,
            -1.1315818395798178,
            -1.1015807950286391,
            -1.0770645571197566,
            -0.8530225429729463,
            -0.7521968787444748,
            -0.6483063124636602,
            -0.46306459651051485,
            0.03140248261645903,
            0.364526609739827,
            0.49448126126357284,
            0.5043227961209691,
            0.728585296735816,
            0.8573995857698842,
            0.9025607457962503,
            0.9302440994001377,
            1.0625549183620377,
            1.1146467705432597,
            1.2390884776701023,
            1.442141147915845,
            1.5664080950145416,
            1.6007367357239124,
            1.6104998587479564,
            1.6693677815344181,
            1.7860959292966405,
            2.2487610147420853,
            2.270228816415989,
            3.4742041153574985,
            3.670027568314157,
            3.83462644292094
           ],
           "xaxis": "x",
           "y": [
            4.108339302914022,
            4.108339302914022,
            4.108339302914022,
            4.577162546566772,
            5.179633236998709,
            5.518768494276712,
            6.032155348531649,
            6.112832863792157,
            6.16941697456628,
            6.3518291614427556,
            6.371205965048581,
            6.38704029129358,
            6.5317425232498945,
            6.596862892337353,
            6.6639627926720655,
            6.7836050385781075,
            7.102966968308426,
            7.3181221698755,
            7.4020561061070715,
            7.408412467725959,
            7.553257105490231,
            7.636454514699743,
            7.66562279672237,
            7.683502671038681,
            7.7689583874080625,
            7.802603002263301,
            7.882976287775314,
            8.01412211192415,
            8.09438252500808,
            8.116554397322249,
            8.122860115014634,
            8.16088119713297,
            8.236272518611859,
            8.535094463982983,
            8.548959893774082,
            9.3265725823609,
            9.453049264960498,
            9.559358898998566
           ],
           "yaxis": "y"
          }
         ],
         "name": "2020-05-19"
        },
        {
         "data": [
          {
           "hovertemplate": "<b>%{hovertext}</b><br><br>Date=2020-07-17<br>Log of Deaths=%{x}<br>Log of Pageviews=%{y}<extra></extra>",
           "hovertext": [
            "Italy",
            "Russia",
            "China",
            "Albania",
            "Bangladesh",
            "Botswana",
            "Cambodia",
            "Croatia",
            "Greece",
            "Sweden",
            "Finland",
            "Norway",
            "Malaysia",
            "Israel",
            "Lithuania",
            "Serbia",
            "Slovakia",
            "Slovenia",
            "Turkey",
            "Vietnam",
            "Bulgaria",
            "Czechia",
            "Denmark",
            "Georgia",
            "Germany",
            "Hungary",
            "Iceland",
            "Japan",
            "Kazakhstan",
            "South Korea",
            "Kyrgyzstan",
            "Netherlands",
            "Poland",
            "Romania",
            "Tajikistan",
            "Thailand",
            "Azerbaijan",
            "Mongolia"
           ],
           "legendgroup": "",
           "marker": {
            "color": "#636efa",
            "symbol": "circle"
           },
           "mode": "markers",
           "name": "",
           "orientation": "v",
           "showlegend": false,
           "type": "scatter",
           "x": [
            1.5417539478417803,
            1.8718719337913583,
            -4.577217838554759,
            1.0523150851040028,
            0.31135852626528265,
            -4.605170185988091,
            -4.605170185988091,
            -0.505950447425879,
            -1.303172168535064,
            2.849527721907839,
            -1.8664135095388175,
            -0.9153594994115374,
            -3.2752620759208977,
            0.5259242036770783,
            -0.4808558916096676,
            1.2369871060316644,
            -4.605170185988091,
            -1.0701711781938983,
            0.41517830541646794,
            -4.605170185988091,
            0.9796730575581403,
            -0.43029826648845776,
            -0.012613064223235408,
            -2.4014520198409346,
            0.19465648868458438,
            0.2641226740949219,
            -4.605170185988091,
            -1.9445071372533496,
            1.0792416116115264,
            -2.634806145638965,
            2.7445331150229646,
            0.8231135621148589,
            0.5634624992962705,
            1.520486618631778,
            -1.922082071097555,
            -4.353219150250863,
            1.1285938381526515,
            -4.605170185988091
           ],
           "xaxis": "x",
           "y": [
            7.6990401851421835,
            7.352842987194078,
            5.001881483845124,
            6.13947926587608,
            4.684792269139792,
            4.712564096140877,
            1.4127274345278809,
            6.612063135660225,
            6.927662337908857,
            6.958896569629889,
            7.09747971186968,
            6.178733204181163,
            6.240779621436656,
            8.26492375396857,
            6.060307209357227,
            5.915691396561283,
            6.264538765301193,
            6.52514909571442,
            6.087675820168601,
            6.192274379975325,
            7.048225774768971,
            7.5610400690466735,
            5.834619249909431,
            5.185088730093432,
            8.555892773060018,
            7.46620039258684,
            6.215547258978862,
            7.464461802761916,
            3.2683793203881315,
            5.715039569298734,
            2.9131402996911215,
            7.736097751443576,
            7.300176242281673,
            5.858283320018509,
            2.376520810570524,
            4.846654630532749,
            5.176551846667145,
            2.492334072234629
           ],
           "yaxis": "y"
          },
          {
           "hovertemplate": "<b>OLS trendline</b><br>Log of Pageviews = 0.238871 * Log of Deaths + 6.15779<br>R<sup>2</sup>=0.112079<br><br>Date=2020-07-17<br>Log of Deaths=%{x}<br>Log of Pageviews=%{y} <b>(trend)</b><extra></extra>",
           "legendgroup": "",
           "line": {
            "color": "black"
           },
           "marker": {
            "color": "#636efa",
            "symbol": "circle"
           },
           "mode": "lines",
           "name": "",
           "showlegend": false,
           "type": "scatter",
           "x": [
            -4.605170185988091,
            -4.605170185988091,
            -4.605170185988091,
            -4.605170185988091,
            -4.605170185988091,
            -4.605170185988091,
            -4.577217838554759,
            -4.353219150250863,
            -3.2752620759208977,
            -2.634806145638965,
            -2.4014520198409346,
            -1.9445071372533496,
            -1.922082071097555,
            -1.8664135095388175,
            -1.303172168535064,
            -1.0701711781938983,
            -0.9153594994115374,
            -0.505950447425879,
            -0.4808558916096676,
            -0.43029826648845776,
            -0.012613064223235408,
            0.19465648868458438,
            0.2641226740949219,
            0.31135852626528265,
            0.41517830541646794,
            0.5259242036770783,
            0.5634624992962705,
            0.8231135621148589,
            0.9796730575581403,
            1.0523150851040028,
            1.0792416116115264,
            1.1285938381526515,
            1.2369871060316644,
            1.520486618631778,
            1.5417539478417803,
            1.8718719337913583,
            2.7445331150229646,
            2.849527721907839
           ],
           "xaxis": "x",
           "y": [
            5.057749637692574,
            5.057749637692574,
            5.057749637692574,
            5.057749637692574,
            5.057749637692574,
            5.057749637692574,
            5.064426638735322,
            5.117933396224883,
            5.37542592083324,
            5.528412174475292,
            5.584153673288554,
            5.693304486643048,
            5.698661181298588,
            5.711958778019668,
            5.846500716945205,
            5.902157861991066,
            5.939137859578916,
            6.036933748583891,
            6.042928106508633,
            6.055004849489104,
            6.154777669561439,
            6.204288324228141,
            6.220881771112229,
            6.232165039358261,
            6.256964558443506,
            6.283418525500468,
            6.292385330152211,
            6.354408400712751,
            6.3918059007552825,
            6.409157963755639,
            6.4155899260799885,
            6.427378734474809,
            6.4532707267084195,
            6.520990496783695,
            6.52607064182877,
            6.604926206345213,
            6.813379526086825,
            6.838459677273599
           ],
           "yaxis": "y"
          }
         ],
         "name": "2020-07-17"
        },
        {
         "data": [
          {
           "hovertemplate": "<b>%{hovertext}</b><br><br>Date=2020-09-14<br>Log of Deaths=%{x}<br>Log of Pageviews=%{y}<extra></extra>",
           "hovertext": [
            "Italy",
            "Russia",
            "China",
            "Albania",
            "Bangladesh",
            "Botswana",
            "Cambodia",
            "Croatia",
            "Greece",
            "Sweden",
            "Finland",
            "Norway",
            "Malaysia",
            "Israel",
            "Lithuania",
            "Serbia",
            "Slovakia",
            "Slovenia",
            "Turkey",
            "Vietnam",
            "Bulgaria",
            "Czechia",
            "Denmark",
            "Georgia",
            "Germany",
            "Hungary",
            "Iceland",
            "Japan",
            "Kazakhstan",
            "South Korea",
            "Kyrgyzstan",
            "Netherlands",
            "Poland",
            "Romania",
            "Tajikistan",
            "Thailand",
            "Azerbaijan",
            "Mongolia"
           ],
           "legendgroup": "",
           "marker": {
            "color": "#636efa",
            "symbol": "circle"
           },
           "mode": "markers",
           "name": "",
           "orientation": "v",
           "showlegend": false,
           "type": "scatter",
           "x": [
            0.04030357949446479,
            1.5350753581546939,
            -4.591096348734976,
            2.115160917073614,
            0.31535326042047884,
            -0.6533776931674989,
            -4.605170185988091,
            1.0733800214382643,
            0.2104517103157755,
            0.9342833747667008,
            -1.2061256715233741,
            -1.5395344931206842,
            -3.5565196893787276,
            2.161085074425682,
            -1.2165948627263503,
            1.3521067775428448,
            -1.553490127281059,
            0.14110208308692143,
            0.7759700869405768,
            -3.047068146760654,
            1.8695419170455294,
            0.2659361052996683,
            -0.8637820293053502,
            -2.141755911424024,
            -0.9889983400601249,
            -0.3607274502215692,
            -4.605170185988091,
            -0.895554395646897,
            2.021422407269429,
            -1.7941944105885415,
            1.965400108317421,
            -0.054013439753161,
            0.5126268000563068,
            2.474914174129294,
            -1.7273414922241828,
            -4.605170185988091,
            0.7700985822460378,
            -4.605170185988091
           ],
           "xaxis": "x",
           "y": [
            7.2523961772008425,
            6.589620983912753,
            4.737280202732681,
            5.824437156472036,
            3.5120623460954836,
            5.852517712496961,
            1.485724684390999,
            6.312437972502249,
            6.959897295644342,
            6.544670537117246,
            7.205146471927811,
            6.106968865789813,
            5.954503637953696,
            7.473100912206342,
            5.81726724591732,
            5.467066510941482,
            6.014160420348608,
            6.3238228446805325,
            5.871010798017996,
            6.222805101726833,
            6.201357131263921,
            7.584199249164262,
            5.685750453799803,
            4.876757452604975,
            8.149315821458655,
            7.569655665707168,
            6.202927317810708,
            6.9281978523331205,
            3.477671172731493,
            4.360804014009595,
            2.5940647033336703,
            7.396290600545106,
            7.024403083668292,
            5.03087633157397,
            1.590538118501282,
            4.7708546595719685,
            4.469091066535489,
            2.405397889394567
           ],
           "yaxis": "y"
          },
          {
           "hovertemplate": "<b>OLS trendline</b><br>Log of Pageviews = 0.212692 * Log of Deaths + 5.76226<br>R<sup>2</sup>=0.074135<br><br>Date=2020-09-14<br>Log of Deaths=%{x}<br>Log of Pageviews=%{y} <b>(trend)</b><extra></extra>",
           "legendgroup": "",
           "line": {
            "color": "black"
           },
           "marker": {
            "color": "#636efa",
            "symbol": "circle"
           },
           "mode": "lines",
           "name": "",
           "showlegend": false,
           "type": "scatter",
           "x": [
            -4.605170185988091,
            -4.605170185988091,
            -4.605170185988091,
            -4.605170185988091,
            -4.591096348734976,
            -3.5565196893787276,
            -3.047068146760654,
            -2.141755911424024,
            -1.7941944105885415,
            -1.7273414922241828,
            -1.553490127281059,
            -1.5395344931206842,
            -1.2165948627263503,
            -1.2061256715233741,
            -0.9889983400601249,
            -0.895554395646897,
            -0.8637820293053502,
            -0.6533776931674989,
            -0.3607274502215692,
            -0.054013439753161,
            0.04030357949446479,
            0.14110208308692143,
            0.2104517103157755,
            0.2659361052996683,
            0.31535326042047884,
            0.5126268000563068,
            0.7700985822460378,
            0.7759700869405768,
            0.9342833747667008,
            1.0733800214382643,
            1.3521067775428448,
            1.5350753581546939,
            1.8695419170455294,
            1.965400108317421,
            2.021422407269429,
            2.115160917073614,
            2.161085074425682,
            2.474914174129294
           ],
           "xaxis": "x",
           "y": [
            4.782778513964407,
            4.782778513964407,
            4.782778513964407,
            4.782778513964407,
            4.7857719091397595,
            5.005818277799057,
            5.114174638777411,
            5.306727474845269,
            5.380651089352687,
            5.3948701825318315,
            5.431847008943129,
            5.434815263244593,
            5.503501998366441,
            5.505728713502705,
            5.551909999725518,
            5.571784796296056,
            5.578542530267669,
            5.623293887935175,
            5.685538307104252,
            5.750773979695684,
            5.770834472459095,
            5.792273526280019,
            5.807023649919075,
            5.818824747037446,
            5.8293353896616225,
            5.871293929550238,
            5.9260561650894985,
            5.927304988243312,
            5.9609769871054645,
            5.990561756601239,
            6.049844758952329,
            6.088760745871496,
            6.15989916858412,
            6.180287456590495,
            6.192202961678349,
            6.212140410005068,
            6.221908119306908,
            6.288657115763455
           ],
           "yaxis": "y"
          }
         ],
         "name": "2020-09-14"
        },
        {
         "data": [
          {
           "hovertemplate": "<b>%{hovertext}</b><br><br>Date=2020-11-12<br>Log of Deaths=%{x}<br>Log of Pageviews=%{y}<extra></extra>",
           "hovertext": [
            "Italy",
            "Russia",
            "China",
            "Albania",
            "Bangladesh",
            "Botswana",
            "Cambodia",
            "Croatia",
            "Greece",
            "Sweden",
            "Finland",
            "Norway",
            "Malaysia",
            "Israel",
            "Lithuania",
            "Serbia",
            "Slovakia",
            "Slovenia",
            "Turkey",
            "Vietnam",
            "Bulgaria",
            "Czechia",
            "Denmark",
            "Georgia",
            "Germany",
            "Hungary",
            "Iceland",
            "Japan",
            "Kazakhstan",
            "South Korea",
            "Kyrgyzstan",
            "Netherlands",
            "Poland",
            "Romania",
            "Tajikistan",
            "Thailand",
            "Azerbaijan",
            "Mongolia"
           ],
           "legendgroup": "",
           "marker": {
            "color": "#636efa",
            "symbol": "circle"
           },
           "mode": "markers",
           "name": "",
           "orientation": "v",
           "showlegend": false,
           "type": "scatter",
           "x": [
            2.8306895227056668,
            2.288260585019013,
            -4.5635293077956405,
            2.3043415180233326,
            -0.182279723788273,
            -0.31074004313028175,
            -4.605170185988091,
            3.0379029921001175,
            2.0617941611316657,
            1.1080079765821313,
            0.0046464324210213955,
            -0.6339411859087245,
            -0.5473204636098011,
            2.8010097018041966,
            2.1472562228033953,
            1.4451338999232992,
            2.1895653798623766,
            3.4985406265978334,
            1.62764474398314,
            -4.605170185988091,
            3.0964099897986634,
            4.014825311634156,
            0.798479798258848,
            2.954365612852051,
            1.3426307859091786,
            3.2553062119330742,
            1.411762933021637,
            -1.0780209905277625,
            0.6736637603215909,
            -1.445149565132885,
            0.7597267003536073,
            2.5664253591870603,
            3.0794611545148127,
            3.2085505072202745,
            -1.9964449603680765,
            -4.353219150250863,
            1.4138617630883403,
            -4.605170185988091
           ],
           "xaxis": "x",
           "y": [
            7.636253160166835,
            6.79404256648175,
            4.514568922366297,
            6.350357254659266,
            3.513673382032255,
            5.857270494867059,
            1.1587765012520232,
            6.786297481527649,
            7.017789686767081,
            6.726850820064864,
            7.370645206469378,
            6.191750463587744,
            6.026515076365712,
            7.493967933977059,
            6.441137720261782,
            4.620069797544281,
            7.328889639421714,
            7.121377811474039,
            5.736321076348229,
            5.455647921904437,
            6.61381545207009,
            8.05436076407577,
            6.139177242439417,
            5.486537187738141,
            8.269192170468822,
            7.693840152551201,
            6.974363314065183,
            6.3220458991799955,
            3.8091269556870833,
            4.306756201771652,
            3.566442770020852,
            7.595731137909555,
            7.615193856728165,
            5.2697390904521315,
            1.7130696476786396,
            4.512385468574832,
            4.37961025598917,
            2.9158625296655725
           ],
           "yaxis": "y"
          },
          {
           "hovertemplate": "<b>OLS trendline</b><br>Log of Pageviews = 0.460382 * Log of Deaths + 5.49873<br>R<sup>2</sup>=0.452023<br><br>Date=2020-11-12<br>Log of Deaths=%{x}<br>Log of Pageviews=%{y} <b>(trend)</b><extra></extra>",
           "legendgroup": "",
           "line": {
            "color": "black"
           },
           "marker": {
            "color": "#636efa",
            "symbol": "circle"
           },
           "mode": "lines",
           "name": "",
           "showlegend": false,
           "type": "scatter",
           "x": [
            -4.605170185988091,
            -4.605170185988091,
            -4.605170185988091,
            -4.5635293077956405,
            -4.353219150250863,
            -1.9964449603680765,
            -1.445149565132885,
            -1.0780209905277625,
            -0.6339411859087245,
            -0.5473204636098011,
            -0.31074004313028175,
            -0.182279723788273,
            0.0046464324210213955,
            0.6736637603215909,
            0.7597267003536073,
            0.798479798258848,
            1.1080079765821313,
            1.3426307859091786,
            1.411762933021637,
            1.4138617630883403,
            1.4451338999232992,
            1.62764474398314,
            2.0617941611316657,
            2.1472562228033953,
            2.1895653798623766,
            2.288260585019013,
            2.3043415180233326,
            2.5664253591870603,
            2.8010097018041966,
            2.8306895227056668,
            2.954365612852051,
            3.0379029921001175,
            3.0794611545148127,
            3.0964099897986634,
            3.2085505072202745,
            3.2553062119330742,
            3.4985406265978334,
            4.014825311634156
           ],
           "xaxis": "x",
           "y": [
            3.378595964133357,
            3.378595964133357,
            3.378595964133357,
            3.39776667112079,
            3.494589662896761,
            4.579605863106952,
            4.833412289492338,
            5.002431643453629,
            5.206877951575238,
            5.246756565051107,
            5.355673910622336,
            5.4148147176494135,
            5.500872138254564,
            5.808875612711128,
            5.848497433322248,
            5.866338658508786,
            6.008839832080707,
            6.116855928892822,
            6.148683118741698,
            6.1496493821341085,
            6.164046508183256,
            6.248071198952978,
            6.447945736335531,
            6.487290923420171,
            6.506769293907806,
            6.552206780849796,
            6.559610151482029,
            6.680268810549447,
            6.7882671979842275,
            6.801931250584461,
            6.858869485042195,
            6.897328583158745,
            6.916461209298525,
            6.924264146438883,
            6.975891611906184,
            6.99741709249037,
            7.1093978166059175,
            7.347085945400592
           ],
           "yaxis": "y"
          }
         ],
         "name": "2020-11-12"
        },
        {
         "data": [
          {
           "hovertemplate": "<b>%{hovertext}</b><br><br>Date=2021-01-10<br>Log of Deaths=%{x}<br>Log of Pageviews=%{y}<extra></extra>",
           "hovertext": [
            "Italy",
            "Russia",
            "China",
            "Albania",
            "Bangladesh",
            "Botswana",
            "Cambodia",
            "Croatia",
            "Greece",
            "Sweden",
            "Finland",
            "Norway",
            "Malaysia",
            "Israel",
            "Lithuania",
            "Serbia",
            "Slovakia",
            "Slovenia",
            "Turkey",
            "Vietnam",
            "Bulgaria",
            "Czechia",
            "Denmark",
            "Georgia",
            "Germany",
            "Hungary",
            "Iceland",
            "Japan",
            "Kazakhstan",
            "South Korea",
            "Kyrgyzstan",
            "Netherlands",
            "Poland",
            "Romania",
            "Tajikistan",
            "Thailand",
            "Azerbaijan",
            "Mongolia"
           ],
           "legendgroup": "",
           "marker": {
            "color": "#636efa",
            "symbol": "circle"
           },
           "mode": "markers",
           "name": "",
           "orientation": "v",
           "showlegend": false,
           "type": "scatter",
           "x": [
            4.0923304292927405,
            3.0489103029580145,
            -4.361142138708795,
            3.1068650007090644,
            0.010014157345999405,
            0.561599679561318,
            -4.605170185988091,
            4.450721075728242,
            3.6834556265296823,
            3.6933747316151906,
            1.6276302796620978,
            1.4244053083503754,
            -0.15843577615137464,
            2.53267908208911,
            4.312282118638556,
            3.6591032854945875,
            3.9505233279454157,
            4.690725221472002,
            2.661166827380342,
            -4.605170185988091,
            4.489352343424752,
            4.265124474852863,
            2.7975248188966537,
            4.060997231383829,
            3.6642575029476885,
            4.405824906763256,
            0.09668684820437061,
            0.6937038483635469,
            1.0233481948771916,
            0.36563637780055036,
            1.004450347291902,
            3.214824202957804,
            4.077373686352286,
            3.7298209690732915,
            -2.6185482536225124,
            -3.7161827362570765,
            2.9859677971829472,
            -3.2063622197300776
           ],
           "xaxis": "x",
           "y": [
            7.1724021249704775,
            6.769115385551656,
            4.583961178806389,
            6.620562484941629,
            3.421089651625001,
            3.9417042418447417,
            1.5307253488411332,
            6.695544609383034,
            7.107993847891015,
            7.008234134713531,
            7.4344751646316185,
            6.081685600425371,
            5.887944494621691,
            6.593352074765134,
            6.801969868808938,
            5.046696902512525,
            7.052839984824139,
            7.046374685159482,
            6.3466753840602035,
            5.467072591196542,
            6.00612553084266,
            7.492101418146895,
            6.19299414065318,
            6.3075435009442415,
            8.142547447001164,
            7.776592773247331,
            6.414179967988562,
            6.709640816601744,
            3.8937334502638787,
            4.597422573081166,
            4.028579803866547,
            7.601675443257684,
            7.033358340394736,
            5.37030606408302,
            2.4137938525229874,
            4.787849921313003,
            5.396242609229325,
            3.6021071662936595
           ],
           "yaxis": "y"
          },
          {
           "hovertemplate": "<b>OLS trendline</b><br>Log of Pageviews = 0.394188 * Log of Deaths + 5.17663<br>R<sup>2</sup>=0.521645<br><br>Date=2021-01-10<br>Log of Deaths=%{x}<br>Log of Pageviews=%{y} <b>(trend)</b><extra></extra>",
           "legendgroup": "",
           "line": {
            "color": "black"
           },
           "marker": {
            "color": "#636efa",
            "symbol": "circle"
           },
           "mode": "lines",
           "name": "",
           "showlegend": false,
           "type": "scatter",
           "x": [
            -4.605170185988091,
            -4.605170185988091,
            -4.361142138708795,
            -3.7161827362570765,
            -3.2063622197300776,
            -2.6185482536225124,
            -0.15843577615137464,
            0.010014157345999405,
            0.09668684820437061,
            0.36563637780055036,
            0.561599679561318,
            0.6937038483635469,
            1.004450347291902,
            1.0233481948771916,
            1.4244053083503754,
            1.6276302796620978,
            2.53267908208911,
            2.661166827380342,
            2.7975248188966537,
            2.9859677971829472,
            3.0489103029580145,
            3.1068650007090644,
            3.214824202957804,
            3.6591032854945875,
            3.6642575029476885,
            3.6834556265296823,
            3.6933747316151906,
            3.7298209690732915,
            3.9505233279454157,
            4.060997231383829,
            4.077373686352286,
            4.0923304292927405,
            4.265124474852863,
            4.312282118638556,
            4.405824906763256,
            4.450721075728242,
            4.489352343424752,
            4.690725221472002
           ],
           "xaxis": "x",
           "y": [
            3.361325059291403,
            3.361325059291403,
            3.457517890595576,
            3.7117528922266465,
            3.912717820186585,
            4.144426799176639,
            5.114172642628098,
            5.180573518333859,
            5.214738818689174,
            5.320755389399885,
            5.398001693823686,
            5.450075519623009,
            5.5725679375357995,
            5.580017234799172,
            5.738108977489349,
            5.818217742035622,
            6.174976761109624,
            6.22562503758953,
            6.279375667573025,
            6.353657553703938,
            6.378468709255059,
            6.401313732711197,
            6.443869911992345,
            6.618999219114657,
            6.621030947743799,
            6.628598610082898,
            6.632508598351938,
            6.6468752533760895,
            6.733873387451723,
            6.77742083077,
            6.783876226318603,
            6.789771988984295,
            6.857885259816262,
            6.87647421843784,
            6.913347625974897,
            6.931045139255039,
            6.946273106113879,
            7.025651798453555
           ],
           "yaxis": "y"
          }
         ],
         "name": "2021-01-10"
        },
        {
         "data": [
          {
           "hovertemplate": "<b>%{hovertext}</b><br><br>Date=2021-03-10<br>Log of Deaths=%{x}<br>Log of Pageviews=%{y}<extra></extra>",
           "hovertext": [
            "Italy",
            "Russia",
            "China",
            "Albania",
            "Bangladesh",
            "Botswana",
            "Cambodia",
            "Croatia",
            "Greece",
            "Sweden",
            "Finland",
            "Norway",
            "Malaysia",
            "Israel",
            "Lithuania",
            "Serbia",
            "Slovakia",
            "Slovenia",
            "Turkey",
            "Vietnam",
            "Bulgaria",
            "Czechia",
            "Denmark",
            "Georgia",
            "Germany",
            "Hungary",
            "Iceland",
            "Japan",
            "Kazakhstan",
            "South Korea",
            "Kyrgyzstan",
            "Netherlands",
            "Poland",
            "Romania",
            "Tajikistan",
            "Thailand",
            "Azerbaijan",
            "Mongolia"
           ],
           "legendgroup": "",
           "marker": {
            "color": "#636efa",
            "symbol": "circle"
           },
           "mode": "markers",
           "name": "",
           "orientation": "v",
           "showlegend": false,
           "type": "scatter",
           "x": [
            3.596522403536706,
            2.961732602646366,
            -4.236050849851809,
            3.3542183040648563,
            -0.784616390035785,
            2.772522708526347,
            -4.136340411240738,
            3.34452897717001,
            2.8092775727661556,
            3.315182556853534,
            1.1380139058427867,
            0.8394345898966884,
            0.6821442749282485,
            3.1446284777630815,
            3.6052662311832746,
            2.742078667898991,
            4.577065813914287,
            3.6638870204042395,
            1.9566420037244692,
            -4.605170185988091,
            3.8074270746040053,
            4.499913277168874,
            2.4497333419285234,
            3.0233237425961215,
            3.5402555541143665,
            4.12794176130945,
            -4.605170185988091,
            1.2213853891152633,
            1.208261018050783,
            -0.12997368570198514,
            0.45449228161167793,
            2.9258167559531434,
            3.6606585495118917,
            3.1737434098154167,
            -4.605170185988091,
            -3.330143370949105,
            1.1413324861378127,
            -2.2875874485283867
           ],
           "xaxis": "x",
           "y": [
            6.368121407885261,
            6.470264210706942,
            4.412103652965366,
            6.620609444798572,
            2.711164813627384,
            5.686678570147757,
            2.1162535720541356,
            6.285094263540615,
            6.242299847066405,
            5.760321351422922,
            7.158386276228895,
            5.663325093727599,
            6.065597450206052,
            6.587659057200647,
            6.3241551122955775,
            4.899553999557634,
            6.572357681726862,
            6.7328292944607995,
            5.743009058732027,
            5.82702370522697,
            5.152111110551028,
            7.453264178955031,
            5.399882305961661,
            5.89742584872257,
            7.994146124629934,
            7.0162951737059185,
            6.075924615428902,
            6.142478408789296,
            4.024942455088014,
            4.332347498410789,
            4.25103828632523,
            7.373693320935763,
            6.738123229319149,
            5.007502462377304,
            1.731798408433185,
            3.6708813729186254,
            4.7918798250144805,
            4.780445389506486
           ],
           "yaxis": "y"
          },
          {
           "hovertemplate": "<b>OLS trendline</b><br>Log of Pageviews = 0.328757 * Log of Deaths + 5.1397<br>R<sup>2</sup>=0.440205<br><br>Date=2021-03-10<br>Log of Deaths=%{x}<br>Log of Pageviews=%{y} <b>(trend)</b><extra></extra>",
           "legendgroup": "",
           "line": {
            "color": "black"
           },
           "marker": {
            "color": "#636efa",
            "symbol": "circle"
           },
           "mode": "lines",
           "name": "",
           "showlegend": false,
           "type": "scatter",
           "x": [
            -4.605170185988091,
            -4.605170185988091,
            -4.605170185988091,
            -4.236050849851809,
            -4.136340411240738,
            -3.330143370949105,
            -2.2875874485283867,
            -0.784616390035785,
            -0.12997368570198514,
            0.45449228161167793,
            0.6821442749282485,
            0.8394345898966884,
            1.1380139058427867,
            1.1413324861378127,
            1.208261018050783,
            1.2213853891152633,
            1.9566420037244692,
            2.4497333419285234,
            2.742078667898991,
            2.772522708526347,
            2.8092775727661556,
            2.9258167559531434,
            2.961732602646366,
            3.0233237425961215,
            3.1446284777630815,
            3.1737434098154167,
            3.315182556853534,
            3.34452897717001,
            3.3542183040648563,
            3.5402555541143665,
            3.596522403536706,
            3.6052662311832746,
            3.6606585495118917,
            3.6638870204042395,
            3.8074270746040053,
            4.12794176130945,
            4.499913277168874,
            4.577065813914287
           ],
           "xaxis": "x",
           "y": [
            3.625719261152981,
            3.625719261152981,
            3.625719261152981,
            3.747069954404828,
            3.7798504935566206,
            4.044893692758887,
            4.387641610719116,
            4.88175438680571,
            5.096972984765693,
            5.289120464922187,
            5.363962730023495,
            5.415673076501183,
            5.513833219938762,
            5.51492422758856,
            5.536927474102226,
            5.5412422074993986,
            5.7829632206405,
            5.945070620252452,
            6.041181293691557,
            6.051189995685302,
            6.063273427300035,
            6.101586539852675,
            6.113394138285666,
            6.133642677983719,
            6.173522500756826,
            6.183094248543095,
            6.229593407123312,
            6.239241258376896,
            6.242426695769965,
            6.303587808326366,
            6.322085948402066,
            6.324960545971763,
            6.343171177526223,
            6.344232561047961,
            6.391422408290529,
            6.496793965999291,
            6.619082334286818,
            6.644446797493205
           ],
           "yaxis": "y"
          }
         ],
         "name": "2021-03-10"
        },
        {
         "data": [
          {
           "hovertemplate": "<b>%{hovertext}</b><br><br>Date=2021-05-08<br>Log of Deaths=%{x}<br>Log of Pageviews=%{y}<extra></extra>",
           "hovertext": [
            "Italy",
            "Russia",
            "China",
            "Albania",
            "Bangladesh",
            "Botswana",
            "Cambodia",
            "Croatia",
            "Greece",
            "Sweden",
            "Finland",
            "Norway",
            "Malaysia",
            "Israel",
            "Lithuania",
            "Serbia",
            "Slovakia",
            "Slovenia",
            "Turkey",
            "Vietnam",
            "Bulgaria",
            "Czechia",
            "Denmark",
            "Georgia",
            "Germany",
            "Hungary",
            "Iceland",
            "Japan",
            "Kazakhstan",
            "South Korea",
            "Kyrgyzstan",
            "Netherlands",
            "Poland",
            "Romania",
            "Tajikistan",
            "Thailand",
            "Azerbaijan",
            "Mongolia"
           ],
           "legendgroup": "",
           "marker": {
            "color": "#636efa",
            "symbol": "circle"
           },
           "mode": "markers",
           "name": "",
           "orientation": "v",
           "showlegend": false,
           "type": "scatter",
           "x": [
            3.5677952079270736,
            2.73315634793367,
            -4.570350151373768,
            2.518805594057046,
            0.7662151869466879,
            2.5924499592197816,
            -0.12413625440305429,
            3.8953643275692977,
            3.662807318827088,
            2.366823123192546,
            0.7626694675189692,
            0.9092098096219677,
            0.6914721699930126,
            1.3399796318502573,
            3.1773187185652865,
            3.3085993737115986,
            4.170521082404613,
            2.8924170996940024,
            2.8731907120446345,
            -4.507377467447199,
            4.404218908500287,
            4.064514185785852,
            0.6124210600277572,
            3.027235741943385,
            2.7002586987639674,
            4.803499120387196,
            -4.605170185988091,
            0.795947611102842,
            2.9169280678140344,
            -0.860764748454213,
            1.163631277274293,
            2.022997644244966,
            4.149745972639551,
            3.6999715016621058,
            -4.605170185988091,
            -0.366175208572927,
            2.67926485535108,
            1.7482765685095931
           ],
           "xaxis": "x",
           "y": [
            6.226846906399918,
            6.449831431372173,
            4.457076148288009,
            6.515902401190121,
            2.1504326734617485,
            5.657713234923734,
            1.6615559798768431,
            6.1639868160559095,
            6.554028808628821,
            5.644722903831762,
            6.973137110802383,
            4.945124869049007,
            5.66492351675783,
            5.552663578868812,
            6.21330877465753,
            4.678316962472287,
            5.800835143302382,
            6.439431462737111,
            6.191016823398073,
            5.609371698736253,
            5.146755311800884,
            6.99794200262335,
            4.874207703977064,
            5.915412244577203,
            7.8581875170619995,
            6.307755704442988,
            5.918742942572682,
            5.921474574070621,
            4.025989637848709,
            4.314138759214722,
            5.486819095051979,
            6.979342958986988,
            6.858735872894047,
            4.939020261289043,
            1.7187251980748797,
            3.582403540643083,
            4.986050210675035,
            3.85502315964236
           ],
           "yaxis": "y"
          },
          {
           "hovertemplate": "<b>OLS trendline</b><br>Log of Pageviews = 0.249081 * Log of Deaths + 4.99865<br>R<sup>2</sup>=0.203619<br><br>Date=2021-05-08<br>Log of Deaths=%{x}<br>Log of Pageviews=%{y} <b>(trend)</b><extra></extra>",
           "legendgroup": "",
           "line": {
            "color": "black"
           },
           "marker": {
            "color": "#636efa",
            "symbol": "circle"
           },
           "mode": "lines",
           "name": "",
           "showlegend": false,
           "type": "scatter",
           "x": [
            -4.605170185988091,
            -4.605170185988091,
            -4.570350151373768,
            -4.507377467447199,
            -0.860764748454213,
            -0.366175208572927,
            -0.12413625440305429,
            0.6124210600277572,
            0.6914721699930126,
            0.7626694675189692,
            0.7662151869466879,
            0.795947611102842,
            0.9092098096219677,
            1.163631277274293,
            1.3399796318502573,
            1.7482765685095931,
            2.022997644244966,
            2.366823123192546,
            2.518805594057046,
            2.5924499592197816,
            2.67926485535108,
            2.7002586987639674,
            2.73315634793367,
            2.8731907120446345,
            2.8924170996940024,
            2.9169280678140344,
            3.027235741943385,
            3.1773187185652865,
            3.3085993737115986,
            3.5677952079270736,
            3.662807318827088,
            3.6999715016621058,
            3.8953643275692977,
            4.064514185785852,
            4.149745972639551,
            4.170521082404613,
            4.404218908500287,
            4.803499120387196
           ],
           "xaxis": "x",
           "y": [
            3.851587896739544,
            3.851587896739544,
            3.860260918333966,
            3.875946240120786,
            4.784249497387263,
            4.907442532870383,
            4.967729924869217,
            5.151192622834496,
            5.170882780853744,
            5.188616700585493,
            5.189499873204504,
            5.196905665864307,
            5.225117168364768,
            5.288488813668232,
            5.3324139017481,
            5.434113058219537,
            5.50254095752196,
            5.58818147559308,
            5.626037476208291,
            5.644380914876246,
            5.66600488731637,
            5.6712340623957935,
            5.679428253608263,
            5.714308203537893,
            5.719097138331114,
            5.725202363617645,
            5.752677949163468,
            5.790060821168469,
            5.822760385359755,
            5.887321236382299,
            5.910986982229332,
            5.92024388745178,
            5.968912598360849,
            6.011044675173954,
            6.032274324601392,
            6.037449017206228,
            6.0956587896762295,
            6.195112048074089
           ],
           "yaxis": "y"
          }
         ],
         "name": "2021-05-08"
        },
        {
         "data": [
          {
           "hovertemplate": "<b>%{hovertext}</b><br><br>Date=2021-07-06<br>Log of Deaths=%{x}<br>Log of Pageviews=%{y}<extra></extra>",
           "hovertext": [
            "Italy",
            "Russia",
            "China",
            "Albania",
            "Bangladesh",
            "Botswana",
            "Cambodia",
            "Croatia",
            "Greece",
            "Sweden",
            "Finland",
            "Norway",
            "Malaysia",
            "Israel",
            "Lithuania",
            "Serbia",
            "Slovakia",
            "Slovenia",
            "Turkey",
            "Vietnam",
            "Bulgaria",
            "Czechia",
            "Denmark",
            "Georgia",
            "Germany",
            "Hungary",
            "Iceland",
            "Japan",
            "Kazakhstan",
            "South Korea",
            "Kyrgyzstan",
            "Netherlands",
            "Poland",
            "Romania",
            "Tajikistan",
            "Thailand",
            "Azerbaijan",
            "Mongolia"
           ],
           "legendgroup": "",
           "marker": {
            "color": "#636efa",
            "symbol": "circle"
           },
           "mode": "markers",
           "name": "",
           "orientation": "v",
           "showlegend": false,
           "type": "scatter",
           "x": [
            1.8481633800586563,
            3.0141555296261755,
            -4.5567546731188795,
            -0.039338897812933114,
            1.0993785791788722,
            3.0412649033175816,
            1.6150722939112896,
            2.602631063955328,
            2.605796492973293,
            1.2804277992708755,
            -0.3100816313275046,
            -0.8265619727459302,
            2.6628271149609963,
            -0.3274075861224846,
            2.4070974132572664,
            1.7911368598928021,
            1.770206401359091,
            1.6102869724765754,
            1.9347875943135455,
            -2.164660761753486,
            2.5729836416944325,
            1.4620046301730332,
            -0.4392873314704309,
            3.3549791642438347,
            1.8464835885991333,
            2.2224993417784242,
            -1.2627365842349905,
            1.02942651580684,
            1.8550583822298043,
            -1.2060655061781993,
            1.8971154027388766,
            0.6755467335124543,
            2.243870243753035,
            3.2072905126075333,
            -1.5644135708494489,
            1.2249464744366803,
            0.7837656411433507,
            2.5367498703872764
           ],
           "xaxis": "x",
           "y": [
            5.668268966103748,
            6.600028981043392,
            4.9147620479028875,
            5.8044581185884425,
            2.286272647766539,
            5.369300386285746,
            1.472094402435895,
            5.411491803458459,
            5.937510630062814,
            5.139325218377895,
            6.367234953756353,
            4.392878903765641,
            5.9326829233102885,
            5.299549448429618,
            5.5772741168128315,
            3.811188462905532,
            5.351286775985023,
            5.784753862687774,
            5.541490488659471,
            5.913930446077536,
            4.4731918750754405,
            6.553601874803291,
            4.866842721954834,
            5.149413704385182,
            7.374234961337158,
            5.576127082057868,
            5.552496330632509,
            5.862406198576968,
            2.9391773508220913,
            4.310959285774016,
            2.6176306389982558,
            6.77625715493091,
            6.198721981301232,
            4.3278739499474925,
            1.4030547899982106,
            3.617747638159711,
            4.210975087819117,
            2.822421955497574
           ],
           "yaxis": "y"
          },
          {
           "hovertemplate": "<b>OLS trendline</b><br>Log of Pageviews = 0.0710182 * Log of Deaths + 4.84526<br>R<sup>2</sup>=0.007192<br><br>Date=2021-07-06<br>Log of Deaths=%{x}<br>Log of Pageviews=%{y} <b>(trend)</b><extra></extra>",
           "legendgroup": "",
           "line": {
            "color": "black"
           },
           "marker": {
            "color": "#636efa",
            "symbol": "circle"
           },
           "mode": "lines",
           "name": "",
           "showlegend": false,
           "type": "scatter",
           "x": [
            -4.5567546731188795,
            -2.164660761753486,
            -1.5644135708494489,
            -1.2627365842349905,
            -1.2060655061781993,
            -0.8265619727459302,
            -0.4392873314704309,
            -0.3274075861224846,
            -0.3100816313275046,
            -0.039338897812933114,
            0.6755467335124543,
            0.7837656411433507,
            1.02942651580684,
            1.0993785791788722,
            1.2249464744366803,
            1.2804277992708755,
            1.4620046301730332,
            1.6102869724765754,
            1.6150722939112896,
            1.770206401359091,
            1.7911368598928021,
            1.8464835885991333,
            1.8481633800586563,
            1.8550583822298043,
            1.8971154027388766,
            1.9347875943135455,
            2.2224993417784242,
            2.243870243753035,
            2.4070974132572664,
            2.5367498703872764,
            2.5729836416944325,
            2.602631063955328,
            2.605796492973293,
            2.6628271149609963,
            3.0141555296261755,
            3.0412649033175816,
            3.2072905126075333,
            3.3549791642438347
           ],
           "xaxis": "x",
           "y": [
            4.521643467724527,
            4.6915256211072895,
            4.734154083505126,
            4.755578633715546,
            4.759603310476382,
            4.786554960313174,
            4.814058500077157,
            4.822003995849426,
            4.823234453606957,
            4.8424621094960765,
            4.893231985166481,
            4.900917494910775,
            4.918363882860446,
            4.92333175101259,
            4.932249354264195,
            4.936189536917803,
            4.94908479278193,
            4.9596155346978215,
            4.959955379511646,
            4.9709727213104475,
            4.972459164359402,
            4.97638978824112,
            4.976509083971535,
            4.9769987544693555,
            4.97998556747657,
            4.982660977918002,
            5.003093742275883,
            5.004611464815926,
            5.016203561143835,
            5.025411242541277,
            5.027984498994793,
            5.030090004933335,
            5.03031480793768,
            5.03436501885373,
            5.059315723064923,
            5.0612409814160575,
            5.073031817841357,
            5.083520396927222
           ],
           "yaxis": "y"
          }
         ],
         "name": "2021-07-06"
        },
        {
         "data": [
          {
           "hovertemplate": "<b>%{hovertext}</b><br><br>Date=2021-09-03<br>Log of Deaths=%{x}<br>Log of Pageviews=%{y}<extra></extra>",
           "hovertext": [
            "Italy",
            "Russia",
            "China",
            "Albania",
            "Bangladesh",
            "Botswana",
            "Cambodia",
            "Croatia",
            "Greece",
            "Sweden",
            "Finland",
            "Norway",
            "Malaysia",
            "Israel",
            "Lithuania",
            "Serbia",
            "Slovakia",
            "Slovenia",
            "Turkey",
            "Vietnam",
            "Bulgaria",
            "Czechia",
            "Denmark",
            "Georgia",
            "Germany",
            "Hungary",
            "Iceland",
            "Japan",
            "Kazakhstan",
            "South Korea",
            "Kyrgyzstan",
            "Netherlands",
            "Poland",
            "Romania",
            "Tajikistan",
            "Thailand",
            "Azerbaijan",
            "Mongolia"
           ],
           "legendgroup": "",
           "marker": {
            "color": "#636efa",
            "symbol": "circle"
           },
           "mode": "markers",
           "name": "",
           "orientation": "v",
           "showlegend": false,
           "type": "scatter",
           "x": [
            1.2590923431426455,
            3.473363501398726,
            -4.466434796904279,
            1.1235332417837178,
            1.7931859829133954,
            3.819809014033633,
            1.8428035567895364,
            1.6339433144525675,
            2.540202488123645,
            -0.4883077651777008,
            0.43644526779483733,
            -0.53398437543952,
            3.782094720218357,
            2.3255545088819565,
            2.3265925123034674,
            1.922341974951397,
            -0.4289946921226507,
            0.7432827998838604,
            2.424500416730923,
            2.7450237091848217,
            2.9796609645957086,
            -0.04697187365255008,
            0.2188897812760454,
            4.281510717612613,
            0.4675521730129896,
            -0.2761402602326628,
            -0.1879736595969934,
            0.3637999823977261,
            3.6494033440858584,
            -0.4975191902497986,
            1.8993924885596156,
            0.6154223871277483,
            -0.41689147397104126,
            1.3594874775015666,
            -1.7881365767041937,
            2.7954262011204176,
            2.336384492353027,
            2.388746001430856
           ],
           "xaxis": "x",
           "y": [
            5.623785235138464,
            6.267616607327659,
            4.374787246666929,
            5.130798853169579,
            2.8287125604388366,
            4.804457572007027,
            2.5492786214546226,
            4.73729216720912,
            5.663364997468065,
            5.0658660893121805,
            6.681560010229407,
            3.9509616050471754,
            5.6461176889365365,
            6.107581573062095,
            5.664575556613413,
            3.7652590262833368,
            5.029903843876873,
            5.900598308216017,
            5.224999086271352,
            5.913291897254243,
            4.578080091473238,
            6.297878542536437,
            4.638590268695524,
            4.946536574241868,
            7.072897731076202,
            4.962074178185361,
            5.154955332673373,
            6.068770394416831,
            3.1942537923544196,
            4.26097898221771,
            2.0071025271642764,
            6.381820665759832,
            5.9444278311009855,
            4.048333863463698,
            1.3769404931156168,
            3.8184044889743616,
            4.292361949363665,
            2.2979948390666487
           ],
           "yaxis": "y"
          },
          {
           "hovertemplate": "<b>OLS trendline</b><br>Log of Pageviews = 0.0109006 * Log of Deaths + 4.78277<br>R<sup>2</sup>=0.000205<br><br>Date=2021-09-03<br>Log of Deaths=%{x}<br>Log of Pageviews=%{y} <b>(trend)</b><extra></extra>",
           "legendgroup": "",
           "line": {
            "color": "black"
           },
           "marker": {
            "color": "#636efa",
            "symbol": "circle"
           },
           "mode": "lines",
           "name": "",
           "showlegend": false,
           "type": "scatter",
           "x": [
            -4.466434796904279,
            -1.7881365767041937,
            -0.53398437543952,
            -0.4975191902497986,
            -0.4883077651777008,
            -0.4289946921226507,
            -0.41689147397104126,
            -0.2761402602326628,
            -0.1879736595969934,
            -0.04697187365255008,
            0.2188897812760454,
            0.3637999823977261,
            0.43644526779483733,
            0.4675521730129896,
            0.6154223871277483,
            0.7432827998838604,
            1.1235332417837178,
            1.2590923431426455,
            1.3594874775015666,
            1.6339433144525675,
            1.7931859829133954,
            1.8428035567895364,
            1.8993924885596156,
            1.922341974951397,
            2.3255545088819565,
            2.3265925123034674,
            2.336384492353027,
            2.388746001430856,
            2.424500416730923,
            2.540202488123645,
            2.7450237091848217,
            2.7954262011204176,
            2.9796609645957086,
            3.473363501398726,
            3.6494033440858584,
            3.782094720218357,
            3.819809014033633,
            4.281510717612613
           ],
           "xaxis": "x",
           "y": [
            4.734088045867618,
            4.763283125338415,
            4.77695414707462,
            4.777351639770355,
            4.777452049905788,
            4.778098598474741,
            4.7782305309134525,
            4.779764804744392,
            4.780725874311931,
            4.782262879532307,
            4.7851609332611025,
            4.786740542583907,
            4.7875324203756895,
            4.78787150456097,
            4.7894833798256,
            4.790877136085985,
            4.795022097161023,
            4.79649977380932,
            4.797594141831515,
            4.800585877371111,
            4.802321719304541,
            4.802862581035896,
            4.803479434808091,
            4.8037295981670365,
            4.80812486001015,
            4.80813617487873,
            4.808242913416496,
            4.808813685710338,
            4.809203430582005,
            4.810464653527146,
            4.812697329403599,
            4.813246747219168,
            4.815255018187791,
            4.820636676095857,
            4.822555617443955,
            4.8240020341432075,
            4.824413142882637,
            4.829445972246495
           ],
           "yaxis": "y"
          }
         ],
         "name": "2021-09-03"
        },
        {
         "data": [
          {
           "hovertemplate": "<b>%{hovertext}</b><br><br>Date=2021-11-01<br>Log of Deaths=%{x}<br>Log of Pageviews=%{y}<extra></extra>",
           "hovertext": [
            "Italy",
            "Russia",
            "China",
            "Albania",
            "Bangladesh",
            "Botswana",
            "Cambodia",
            "Croatia",
            "Greece",
            "Sweden",
            "Finland",
            "Norway",
            "Malaysia",
            "Israel",
            "Lithuania",
            "Serbia",
            "Slovakia",
            "Slovenia",
            "Turkey",
            "Vietnam",
            "Bulgaria",
            "Czechia",
            "Denmark",
            "Georgia",
            "Germany",
            "Hungary",
            "Iceland",
            "Japan",
            "Kazakhstan",
            "South Korea",
            "Kyrgyzstan",
            "Netherlands",
            "Poland",
            "Romania",
            "Tajikistan",
            "Thailand",
            "Azerbaijan",
            "Mongolia"
           ],
           "legendgroup": "",
           "marker": {
            "color": "#636efa",
            "symbol": "circle"
           },
           "mode": "markers",
           "name": "",
           "orientation": "v",
           "showlegend": false,
           "type": "scatter",
           "x": [
            1.515124081036771,
            3.690026680032207,
            -4.454172979366224,
            2.7303667336294746,
            -0.5064505497920246,
            1.2993863405840755,
            1.5799670351989776,
            3.4549832596571455,
            3.107033606371129,
            1.2897790216980873,
            1.5268186212835795,
            0.8354116682507345,
            3.3059037684665653,
            2.1045090121093564,
            4.031811934679659,
            3.807655105881695,
            2.742525952162561,
            2.9855168422257754,
            2.7377661663232953,
            2.052452826906505,
            4.529502489575743,
            2.103957935018581,
            0.8656275495303764,
            4.228523183782619,
            1.710518264988922,
            2.8382981656171933,
            -1.2627365842349905,
            0.19380166220825426,
            2.7749083302994326,
            0.2949388607287545,
            0.6469592106559425,
            1.2597686480369692,
            2.102545289220266,
            4.49321958818232,
            -4.605170185988091,
            2.0709857167787438,
            2.587484060793444,
            3.2124553754451273
           ],
           "xaxis": "x",
           "y": [
            5.398934877160687,
            6.569626386765692,
            4.040803524878519,
            5.780379435438448,
            2.651897368564567,
            3.9029865303095477,
            1.2484950885287793,
            5.184629564192899,
            5.368674658827854,
            4.891362224545366,
            6.438558890149484,
            3.870577284201068,
            5.267558711312708,
            5.543151945510821,
            5.96515799721296,
            4.483160326293545,
            5.617754616972942,
            6.524381727532283,
            4.910501786739087,
            5.440024866457524,
            5.069866049774105,
            6.59264373843287,
            4.420805142113809,
            5.077693438804991,
            7.015801160151909,
            5.075477393669481,
            5.167474340041329,
            5.499718832911848,
            3.5799337201965016,
            4.276346995524543,
            3.428032065857459,
            6.5480472006630315,
            6.180526114289202,
            5.463747717058514,
            1.581953523049133,
            2.9497771563357515,
            4.25860990804833,
            3.2197964040152653
           ],
           "yaxis": "y"
          },
          {
           "hovertemplate": "<b>OLS trendline</b><br>Log of Pageviews = 0.279741 * Log of Deaths + 4.34095<br>R<sup>2</sup>=0.175816<br><br>Date=2021-11-01<br>Log of Deaths=%{x}<br>Log of Pageviews=%{y} <b>(trend)</b><extra></extra>",
           "legendgroup": "",
           "line": {
            "color": "black"
           },
           "marker": {
            "color": "#636efa",
            "symbol": "circle"
           },
           "mode": "lines",
           "name": "",
           "showlegend": false,
           "type": "scatter",
           "x": [
            -4.605170185988091,
            -4.454172979366224,
            -1.2627365842349905,
            -0.5064505497920246,
            0.19380166220825426,
            0.2949388607287545,
            0.6469592106559425,
            0.8354116682507345,
            0.8656275495303764,
            1.2597686480369692,
            1.2897790216980873,
            1.2993863405840755,
            1.515124081036771,
            1.5268186212835795,
            1.5799670351989776,
            1.710518264988922,
            2.052452826906505,
            2.0709857167787438,
            2.102545289220266,
            2.103957935018581,
            2.1045090121093564,
            2.587484060793444,
            2.7303667336294746,
            2.7377661663232953,
            2.742525952162561,
            2.7749083302994326,
            2.8382981656171933,
            2.9855168422257754,
            3.107033606371129,
            3.2124553754451273,
            3.3059037684665653,
            3.4549832596571455,
            3.690026680032207,
            3.807655105881695,
            4.031811934679659,
            4.228523183782619,
            4.49321958818232,
            4.529502489575743
           ],
           "xaxis": "x",
           "y": [
            3.0526925668248284,
            3.0949326783542315,
            3.98770832821727,
            4.199272549554162,
            4.39516181264282,
            4.423454035001447,
            4.521928564260657,
            4.574646445636625,
            4.583099066872245,
            4.693356497004261,
            4.701751629330511,
            4.704439190447181,
            4.764789884487793,
            4.7680613270221395,
            4.782929118166246,
            4.8194496514264245,
            4.915102772131671,
            4.9202871815169775,
            4.929115688279282,
            4.929510863245808,
            4.929665022109382,
            5.064772951446272,
            5.104743095075003,
            5.10681301987185,
            5.108144527183837,
            5.1172032064448,
            5.134935943185805,
            5.17611904490192,
            5.210112267591437,
            5.239603060056652,
            5.265744408176779,
            5.307448056048931,
            5.373199340546251,
            5.4061048355422825,
            5.468810693884514,
            5.523838897962523,
            5.597885338247175,
            5.608035153834867
           ],
           "yaxis": "y"
          }
         ],
         "name": "2021-11-01"
        },
        {
         "data": [
          {
           "hovertemplate": "<b>%{hovertext}</b><br><br>Date=2021-12-30<br>Log of Deaths=%{x}<br>Log of Pageviews=%{y}<extra></extra>",
           "hovertext": [
            "Italy",
            "Russia",
            "China",
            "Albania",
            "Bangladesh",
            "Botswana",
            "Cambodia",
            "Croatia",
            "Greece",
            "Sweden",
            "Finland",
            "Norway",
            "Malaysia",
            "Israel",
            "Lithuania",
            "Serbia",
            "Slovakia",
            "Slovenia",
            "Turkey",
            "Vietnam",
            "Bulgaria",
            "Czechia",
            "Denmark",
            "Georgia",
            "Germany",
            "Hungary",
            "Iceland",
            "Japan",
            "Kazakhstan",
            "South Korea",
            "Kyrgyzstan",
            "Netherlands",
            "Poland",
            "Romania",
            "Tajikistan",
            "Thailand",
            "Azerbaijan",
            "Mongolia"
           ],
           "legendgroup": "",
           "marker": {
            "color": "#636efa",
            "symbol": "circle"
           },
           "mode": "markers",
           "name": "",
           "orientation": "v",
           "showlegend": false,
           "type": "scatter",
           "x": [
            2.415102125817425,
            3.786320529656179,
            -4.448097995614019,
            2.2276010166483684,
            -2.0384813473485415,
            1.2993863405840755,
            -0.003101963832889797,
            4.369365779270203,
            3.828197252599352,
            1.063996163910728,
            2.203023130987018,
            2.012613493154668,
            1.9001294481674944,
            0.373825346136991,
            3.8414954067854334,
            3.4986918072321744,
            4.184568049012236,
            3.610037215810852,
            2.562881858584647,
            2.485856823182676,
            4.413170744427329,
            3.909616038302347,
            2.3253757245202302,
            4.523093909808917,
            3.0081096448521416,
            4.431652804631506,
            0.3180130686658989,
            -2.591002949541981,
            1.5192117251283934,
            1.7781664197806482,
            0.6227952726560249,
            2.6328682650073127,
            4.02616699773668,
            3.5675569279446093,
            -4.605170185988091,
            1.0334906576960414,
            2.3758258794490423,
            1.923200857108048
           ],
           "xaxis": "x",
           "y": [
            5.93121053244323,
            6.2881809377436095,
            4.0572784657178405,
            5.847184629498346,
            2.5331476103402104,
            2.372670165346045,
            1.528133572301043,
            5.587627882505605,
            6.16530836471757,
            5.083082340540193,
            6.878953748797988,
            4.375723191713125,
            5.081883624062765,
            5.833581369889113,
            5.995191155130207,
            3.925592230819134,
            6.197328169765233,
            6.672881525554245,
            5.264286429555247,
            5.413022420800935,
            4.960224319768696,
            7.088866935179789,
            5.342904239545966,
            5.355599283370696,
            7.556713844194359,
            5.3877665407866475,
            6.093942710659911,
            5.378232586935944,
            3.2403874777947923,
            4.361616528077686,
            3.5279202066026287,
            6.972681149569912,
            6.559377346571687,
            4.692739385374812,
            1.503517759270789,
            2.9844934476259897,
            4.3067526039998425,
            2.9982752249764824
           ],
           "yaxis": "y"
          },
          {
           "hovertemplate": "<b>OLS trendline</b><br>Log of Pageviews = 0.378014 * Log of Deaths + 4.24278<br>R<sup>2</sup>=0.313879<br><br>Date=2021-12-30<br>Log of Deaths=%{x}<br>Log of Pageviews=%{y} <b>(trend)</b><extra></extra>",
           "legendgroup": "",
           "line": {
            "color": "black"
           },
           "marker": {
            "color": "#636efa",
            "symbol": "circle"
           },
           "mode": "lines",
           "name": "",
           "showlegend": false,
           "type": "scatter",
           "x": [
            -4.605170185988091,
            -4.448097995614019,
            -2.591002949541981,
            -2.0384813473485415,
            -0.003101963832889797,
            0.3180130686658989,
            0.373825346136991,
            0.6227952726560249,
            1.0334906576960414,
            1.063996163910728,
            1.2993863405840755,
            1.5192117251283934,
            1.7781664197806482,
            1.9001294481674944,
            1.923200857108048,
            2.012613493154668,
            2.203023130987018,
            2.2276010166483684,
            2.3253757245202302,
            2.3758258794490423,
            2.415102125817425,
            2.485856823182676,
            2.562881858584647,
            2.6328682650073127,
            3.0081096448521416,
            3.4986918072321744,
            3.5675569279446093,
            3.610037215810852,
            3.786320529656179,
            3.828197252599352,
            3.8414954067854334,
            3.909616038302347,
            4.02616699773668,
            4.184568049012236,
            4.369365779270203,
            4.413170744427329,
            4.431652804631506,
            4.523093909808917
           ],
           "xaxis": "x",
           "y": [
            2.501955972823194,
            2.561331496532593,
            3.263339857631115,
            3.4722008877909576,
            4.241603266122496,
            4.362989319122515,
            4.384087154432306,
            4.478201330466605,
            4.633450031803932,
            4.644981547365049,
            4.733962384665037,
            4.817059508992739,
            4.914948069503468,
            4.961051830241808,
            4.969773151217193,
            5.003572400332283,
            5.075549953702411,
            5.084840744321278,
            5.121800975611104,
            5.140871852276061,
            5.15571883245701,
            5.182465115175528,
            5.211581674923217,
            5.23803753272967,
            5.37988411545487,
            5.565331155726183,
            5.591363151573913,
            5.607421305047022,
            5.674058906877539,
            5.689888904218652,
            5.69491579578543,
            5.720666364120278,
            5.764724285759784,
            5.824602137804801,
            5.894458310232547,
            5.911017210576919,
            5.9180036924056765,
            5.952569731725207
           ],
           "yaxis": "y"
          }
         ],
         "name": "2021-12-30"
        },
        {
         "data": [
          {
           "hovertemplate": "<b>%{hovertext}</b><br><br>Date=2022-02-27<br>Log of Deaths=%{x}<br>Log of Pageviews=%{y}<extra></extra>",
           "hovertext": [
            "Italy",
            "Russia",
            "China",
            "Albania",
            "Bangladesh",
            "Botswana",
            "Cambodia",
            "Croatia",
            "Greece",
            "Sweden",
            "Finland",
            "Norway",
            "Malaysia",
            "Israel",
            "Lithuania",
            "Serbia",
            "Slovakia",
            "Slovenia",
            "Turkey",
            "Vietnam",
            "Bulgaria",
            "Czechia",
            "Denmark",
            "Georgia",
            "Germany",
            "Hungary",
            "Iceland",
            "Japan",
            "Kazakhstan",
            "South Korea",
            "Kyrgyzstan",
            "Netherlands",
            "Poland",
            "Romania",
            "Tajikistan",
            "Thailand",
            "Azerbaijan",
            "Mongolia"
           ],
           "legendgroup": "",
           "marker": {
            "color": "#636efa",
            "symbol": "circle"
           },
           "mode": "markers",
           "name": "",
           "orientation": "v",
           "showlegend": false,
           "type": "scatter",
           "x": [
            3.3759346820527436,
            3.371051155036928,
            -4.466434796904279,
            2.1526991385070846,
            -0.48255619034017133,
            1.6482550793026771,
            -1.6636993948224932,
            4.078489019110671,
            3.843325920400729,
            3.1524593991816197,
            2.448079158407719,
            2.01509465037377,
            1.7960124571327831,
            3.120974651920348,
            3.618789355623495,
            3.635685575957369,
            3.5277306529548973,
            3.553121741154573,
            2.6866038479256926,
            1.930086814057292,
            4.1498113520114845,
            3.142202975102901,
            3.3622425874066377,
            4.118120355631649,
            2.6048783565958122,
            3.8769330733756577,
            2.463324617015751,
            1.7868589434778466,
            1.326773661998271,
            2.0521324951986557,
            0.841595419122425,
            1.2548766225965704,
            3.5766146546464093,
            3.3056729469600965,
            -4.605170185988091,
            0.915706347675701,
            2.4181932842846074,
            1.1576304971539302
           ],
           "xaxis": "x",
           "y": [
            5.7623975236982,
            6.096249166094204,
            4.245999759214567,
            5.83798331840675,
            2.089209002729037,
            5.32039371414547,
            2.345765646150645,
            5.357555748509097,
            5.676223876826795,
            4.961534338691034,
            6.544438090987781,
            4.274938919669563,
            5.036784054758078,
            5.9306029655624775,
            5.953705318311619,
            3.662457505185049,
            5.844690300181842,
            6.307485717322272,
            5.071951902799477,
            5.068577123780932,
            4.66881742127852,
            6.535157534209296,
            5.018660203396806,
            5.161498682756273,
            7.054752238554052,
            5.1829761248857045,
            6.32444361300466,
            5.594868992226141,
            3.2169458137969453,
            4.094519463933933,
            3.3383116170482974,
            6.402986290808304,
            6.288083125340109,
            4.388942148078647,
            1.38746818706403,
            3.0956544158640757,
            4.089567002859937,
            2.8314500933008686
           ],
           "yaxis": "y"
          },
          {
           "hovertemplate": "<b>OLS trendline</b><br>Log of Pageviews = 0.423867 * Log of Deaths + 3.99191<br>R<sup>2</sup>=0.398503<br><br>Date=2022-02-27<br>Log of Deaths=%{x}<br>Log of Pageviews=%{y} <b>(trend)</b><extra></extra>",
           "legendgroup": "",
           "line": {
            "color": "black"
           },
           "marker": {
            "color": "#636efa",
            "symbol": "circle"
           },
           "mode": "lines",
           "name": "",
           "showlegend": false,
           "type": "scatter",
           "x": [
            -4.605170185988091,
            -4.466434796904279,
            -1.6636993948224932,
            -0.48255619034017133,
            0.841595419122425,
            0.915706347675701,
            1.1576304971539302,
            1.2548766225965704,
            1.326773661998271,
            1.6482550793026771,
            1.7868589434778466,
            1.7960124571327831,
            1.930086814057292,
            2.01509465037377,
            2.0521324951986557,
            2.1526991385070846,
            2.4181932842846074,
            2.448079158407719,
            2.463324617015751,
            2.6048783565958122,
            2.6866038479256926,
            3.120974651920348,
            3.142202975102901,
            3.1524593991816197,
            3.3056729469600965,
            3.3622425874066377,
            3.371051155036928,
            3.3759346820527436,
            3.5277306529548973,
            3.553121741154573,
            3.5766146546464093,
            3.618789355623495,
            3.635685575957369,
            3.843325920400729,
            3.8769330733756577,
            4.078489019110671,
            4.118120355631649,
            4.1498113520114845
           ],
           "xaxis": "x",
           "y": [
            2.0399293753649625,
            2.0987347747866067,
            3.286722755942834,
            3.787370776411376,
            4.348635388155248,
            4.380048589818246,
            4.482592333946966,
            4.523811789823556,
            4.554286596195394,
            4.690552067291605,
            4.749301717600945,
            4.753181593025267,
            4.810011333174572,
            4.8460433780736585,
            4.8617425105951275,
            4.904369425525056,
            5.016903721133826,
            5.029571366905251,
            5.03603341879217,
            5.096033424923296,
            5.130674191005556,
            5.31478978540934,
            5.323787778149661,
            5.328135141274311,
            5.393077359214663,
            5.417055381863145,
            5.420789045935828,
            5.4228590135096955,
            5.4872003669195655,
            5.49796281976734,
            5.507920698363341,
            5.525797176404193,
            5.532958932261953,
            5.620970891371125,
            5.635215865686374,
            5.7206488469395875,
            5.737447275870521,
            5.7508800539993965
           ],
           "yaxis": "y"
          }
         ],
         "name": "2022-02-27"
        },
        {
         "data": [
          {
           "hovertemplate": "<b>%{hovertext}</b><br><br>Date=2022-04-27<br>Log of Deaths=%{x}<br>Log of Pageviews=%{y}<extra></extra>",
           "hovertext": [
            "Italy",
            "Russia",
            "China",
            "Albania",
            "Bangladesh",
            "Botswana",
            "Cambodia",
            "Croatia",
            "Greece",
            "Sweden",
            "Finland",
            "Norway",
            "Malaysia",
            "Israel",
            "Lithuania",
            "Serbia",
            "Slovakia",
            "Slovenia",
            "Turkey",
            "Vietnam",
            "Bulgaria",
            "Czechia",
            "Denmark",
            "Georgia",
            "Germany",
            "Hungary",
            "Iceland",
            "Japan",
            "Kazakhstan",
            "South Korea",
            "Kyrgyzstan",
            "Netherlands",
            "Poland",
            "Romania",
            "Tajikistan",
            "Thailand",
            "Azerbaijan",
            "Mongolia"
           ],
           "legendgroup": "",
           "marker": {
            "color": "#636efa",
            "symbol": "circle"
           },
           "mode": "markers",
           "name": "",
           "orientation": "v",
           "showlegend": false,
           "type": "scatter",
           "x": [
            2.610417194797736,
            2.4754122742510734,
            -2.9836729019597996,
            -0.8373513719905505,
            -3.7567951471854966,
            1.108294880305393,
            -2.5797424409205996,
            2.68177169914002,
            3.3241331817019133,
            2.2945275065255584,
            3.298897426198657,
            2.8681632848979426,
            1.796012457132783,
            1.4539916238519628,
            2.9201385959888313,
            1.9515905504410147,
            3.045561901553427,
            2.3351920616317026,
            1.1458026739320557,
            0.6365956578417861,
            2.605464806407804,
            2.360939394394449,
            3.0045269855531127,
            2.1077623339751255,
            2.6842144625345155,
            2.8065877085363202,
            2.4157381044243906,
            1.1492624739047106,
            -1.9428634174116517,
            3.248760625534197,
            -1.1585024711370404,
            1.2283737794248424,
            2.016435623511757,
            1.914946177258538,
            -4.605170185988091,
            2.087287076600715,
            0.18142830645385027,
            -1.6449504091042968
           ],
           "xaxis": "x",
           "y": [
            4.9301334533547445,
            5.4703654630252565,
            4.34817222351539,
            5.481731610893974,
            1.4505086299324434,
            4.593024288346358,
            1.90789418650008,
            4.712969689477682,
            4.929641522864406,
            4.332817864041512,
            5.995092118528439,
            3.319701769255734,
            4.589577412493588,
            4.843823401975759,
            5.461912248812662,
            2.9780859344182433,
            4.9434972073784325,
            5.757181080757693,
            4.718728348699318,
            4.5771155427379036,
            4.04918184581858,
            5.8195637734339,
            3.8544521858631415,
            4.697149949519517,
            6.456974582082313,
            4.014837349593745,
            5.081457272080971,
            5.120810517813035,
            2.684502384448019,
            4.136077758501842,
            2.8386296188821634,
            5.643221934712269,
            5.596869861075545,
            3.854435292246459,
            1.268032331196665,
            2.946923011609502,
            4.123656527771709,
            3.037067080547696
           ],
           "yaxis": "y"
          },
          {
           "hovertemplate": "<b>OLS trendline</b><br>Log of Pageviews = 0.388129 * Log of Deaths + 3.85829<br>R<sup>2</sup>=0.435028<br><br>Date=2022-04-27<br>Log of Deaths=%{x}<br>Log of Pageviews=%{y} <b>(trend)</b><extra></extra>",
           "legendgroup": "",
           "line": {
            "color": "black"
           },
           "marker": {
            "color": "#636efa",
            "symbol": "circle"
           },
           "mode": "lines",
           "name": "",
           "showlegend": false,
           "type": "scatter",
           "x": [
            -4.605170185988091,
            -3.7567951471854966,
            -2.9836729019597996,
            -2.5797424409205996,
            -1.9428634174116517,
            -1.6449504091042968,
            -1.1585024711370404,
            -0.8373513719905505,
            0.18142830645385027,
            0.6365956578417861,
            1.108294880305393,
            1.1458026739320557,
            1.1492624739047106,
            1.2283737794248424,
            1.4539916238519628,
            1.796012457132783,
            1.914946177258538,
            1.9515905504410147,
            2.016435623511757,
            2.087287076600715,
            2.1077623339751255,
            2.2945275065255584,
            2.3351920616317026,
            2.360939394394449,
            2.4157381044243906,
            2.4754122742510734,
            2.605464806407804,
            2.610417194797736,
            2.68177169914002,
            2.6842144625345155,
            2.8065877085363202,
            2.8681632848979426,
            2.9201385959888313,
            3.0045269855531127,
            3.045561901553427,
            3.248760625534197,
            3.298897426198657,
            3.3241331817019133
           ],
           "xaxis": "x",
           "y": [
            2.0708966416868835,
            2.4001751836658185,
            2.700245970801074,
            2.857022899857818,
            3.104213807989653,
            3.219842340802757,
            3.4086466554471304,
            3.5332945538944283,
            3.928711995206015,
            4.105375422306571,
            4.288455339939031,
            4.30301318409209,
            4.304356031109539,
            4.335061384454784,
            4.422630102839341,
            4.555378140155575,
            4.60153970805179,
            4.615762434112057,
            4.640930655875616,
            4.6684301249820495,
            4.676377156172883,
            4.748866044809505,
            4.764649118100383,
            4.774642392070265,
            4.795911333889267,
            4.819072580667657,
            4.869549676539878,
            4.871471839679721,
            4.8991665573208945,
            4.9001146634439525,
            4.947611209402655,
            4.9715104462713935,
            4.991683546459566,
            5.024437086585989,
            5.040363907499865,
            5.119231126010683,
            5.138690647881556,
            5.148485364130607
           ],
           "yaxis": "y"
          }
         ],
         "name": "2022-04-27"
        }
       ],
       "layout": {
        "height": 600,
        "legend": {
         "tracegroupgap": 0
        },
        "margin": {
         "t": 60
        },
        "sliders": [
         {
          "active": 0,
          "currentvalue": {
           "prefix": "Date="
          },
          "len": 0.9,
          "pad": {
           "b": 10,
           "t": 60
          },
          "steps": [
           {
            "args": [
             [
              "2020-03-21"
             ],
             {
              "frame": {
               "duration": 0,
               "redraw": false
              },
              "fromcurrent": true,
              "mode": "immediate",
              "transition": {
               "duration": 0,
               "easing": "linear"
              }
             }
            ],
            "label": "2020-03-21",
            "method": "animate"
           },
           {
            "args": [
             [
              "2020-05-19"
             ],
             {
              "frame": {
               "duration": 0,
               "redraw": false
              },
              "fromcurrent": true,
              "mode": "immediate",
              "transition": {
               "duration": 0,
               "easing": "linear"
              }
             }
            ],
            "label": "2020-05-19",
            "method": "animate"
           },
           {
            "args": [
             [
              "2020-07-17"
             ],
             {
              "frame": {
               "duration": 0,
               "redraw": false
              },
              "fromcurrent": true,
              "mode": "immediate",
              "transition": {
               "duration": 0,
               "easing": "linear"
              }
             }
            ],
            "label": "2020-07-17",
            "method": "animate"
           },
           {
            "args": [
             [
              "2020-09-14"
             ],
             {
              "frame": {
               "duration": 0,
               "redraw": false
              },
              "fromcurrent": true,
              "mode": "immediate",
              "transition": {
               "duration": 0,
               "easing": "linear"
              }
             }
            ],
            "label": "2020-09-14",
            "method": "animate"
           },
           {
            "args": [
             [
              "2020-11-12"
             ],
             {
              "frame": {
               "duration": 0,
               "redraw": false
              },
              "fromcurrent": true,
              "mode": "immediate",
              "transition": {
               "duration": 0,
               "easing": "linear"
              }
             }
            ],
            "label": "2020-11-12",
            "method": "animate"
           },
           {
            "args": [
             [
              "2021-01-10"
             ],
             {
              "frame": {
               "duration": 0,
               "redraw": false
              },
              "fromcurrent": true,
              "mode": "immediate",
              "transition": {
               "duration": 0,
               "easing": "linear"
              }
             }
            ],
            "label": "2021-01-10",
            "method": "animate"
           },
           {
            "args": [
             [
              "2021-03-10"
             ],
             {
              "frame": {
               "duration": 0,
               "redraw": false
              },
              "fromcurrent": true,
              "mode": "immediate",
              "transition": {
               "duration": 0,
               "easing": "linear"
              }
             }
            ],
            "label": "2021-03-10",
            "method": "animate"
           },
           {
            "args": [
             [
              "2021-05-08"
             ],
             {
              "frame": {
               "duration": 0,
               "redraw": false
              },
              "fromcurrent": true,
              "mode": "immediate",
              "transition": {
               "duration": 0,
               "easing": "linear"
              }
             }
            ],
            "label": "2021-05-08",
            "method": "animate"
           },
           {
            "args": [
             [
              "2021-07-06"
             ],
             {
              "frame": {
               "duration": 0,
               "redraw": false
              },
              "fromcurrent": true,
              "mode": "immediate",
              "transition": {
               "duration": 0,
               "easing": "linear"
              }
             }
            ],
            "label": "2021-07-06",
            "method": "animate"
           },
           {
            "args": [
             [
              "2021-09-03"
             ],
             {
              "frame": {
               "duration": 0,
               "redraw": false
              },
              "fromcurrent": true,
              "mode": "immediate",
              "transition": {
               "duration": 0,
               "easing": "linear"
              }
             }
            ],
            "label": "2021-09-03",
            "method": "animate"
           },
           {
            "args": [
             [
              "2021-11-01"
             ],
             {
              "frame": {
               "duration": 0,
               "redraw": false
              },
              "fromcurrent": true,
              "mode": "immediate",
              "transition": {
               "duration": 0,
               "easing": "linear"
              }
             }
            ],
            "label": "2021-11-01",
            "method": "animate"
           },
           {
            "args": [
             [
              "2021-12-30"
             ],
             {
              "frame": {
               "duration": 0,
               "redraw": false
              },
              "fromcurrent": true,
              "mode": "immediate",
              "transition": {
               "duration": 0,
               "easing": "linear"
              }
             }
            ],
            "label": "2021-12-30",
            "method": "animate"
           },
           {
            "args": [
             [
              "2022-02-27"
             ],
             {
              "frame": {
               "duration": 0,
               "redraw": false
              },
              "fromcurrent": true,
              "mode": "immediate",
              "transition": {
               "duration": 0,
               "easing": "linear"
              }
             }
            ],
            "label": "2022-02-27",
            "method": "animate"
           },
           {
            "args": [
             [
              "2022-04-27"
             ],
             {
              "frame": {
               "duration": 0,
               "redraw": false
              },
              "fromcurrent": true,
              "mode": "immediate",
              "transition": {
               "duration": 0,
               "easing": "linear"
              }
             }
            ],
            "label": "2022-04-27",
            "method": "animate"
           }
          ],
          "x": 0.1,
          "xanchor": "left",
          "y": 0,
          "yanchor": "top"
         }
        ],
        "template": {
         "data": {
          "bar": [
           {
            "error_x": {
             "color": "#2a3f5f"
            },
            "error_y": {
             "color": "#2a3f5f"
            },
            "marker": {
             "line": {
              "color": "#E5ECF6",
              "width": 0.5
             },
             "pattern": {
              "fillmode": "overlay",
              "size": 10,
              "solidity": 0.2
             }
            },
            "type": "bar"
           }
          ],
          "barpolar": [
           {
            "marker": {
             "line": {
              "color": "#E5ECF6",
              "width": 0.5
             },
             "pattern": {
              "fillmode": "overlay",
              "size": 10,
              "solidity": 0.2
             }
            },
            "type": "barpolar"
           }
          ],
          "carpet": [
           {
            "aaxis": {
             "endlinecolor": "#2a3f5f",
             "gridcolor": "white",
             "linecolor": "white",
             "minorgridcolor": "white",
             "startlinecolor": "#2a3f5f"
            },
            "baxis": {
             "endlinecolor": "#2a3f5f",
             "gridcolor": "white",
             "linecolor": "white",
             "minorgridcolor": "white",
             "startlinecolor": "#2a3f5f"
            },
            "type": "carpet"
           }
          ],
          "choropleth": [
           {
            "colorbar": {
             "outlinewidth": 0,
             "ticks": ""
            },
            "type": "choropleth"
           }
          ],
          "contour": [
           {
            "colorbar": {
             "outlinewidth": 0,
             "ticks": ""
            },
            "colorscale": [
             [
              0,
              "#0d0887"
             ],
             [
              0.1111111111111111,
              "#46039f"
             ],
             [
              0.2222222222222222,
              "#7201a8"
             ],
             [
              0.3333333333333333,
              "#9c179e"
             ],
             [
              0.4444444444444444,
              "#bd3786"
             ],
             [
              0.5555555555555556,
              "#d8576b"
             ],
             [
              0.6666666666666666,
              "#ed7953"
             ],
             [
              0.7777777777777778,
              "#fb9f3a"
             ],
             [
              0.8888888888888888,
              "#fdca26"
             ],
             [
              1,
              "#f0f921"
             ]
            ],
            "type": "contour"
           }
          ],
          "contourcarpet": [
           {
            "colorbar": {
             "outlinewidth": 0,
             "ticks": ""
            },
            "type": "contourcarpet"
           }
          ],
          "heatmap": [
           {
            "colorbar": {
             "outlinewidth": 0,
             "ticks": ""
            },
            "colorscale": [
             [
              0,
              "#0d0887"
             ],
             [
              0.1111111111111111,
              "#46039f"
             ],
             [
              0.2222222222222222,
              "#7201a8"
             ],
             [
              0.3333333333333333,
              "#9c179e"
             ],
             [
              0.4444444444444444,
              "#bd3786"
             ],
             [
              0.5555555555555556,
              "#d8576b"
             ],
             [
              0.6666666666666666,
              "#ed7953"
             ],
             [
              0.7777777777777778,
              "#fb9f3a"
             ],
             [
              0.8888888888888888,
              "#fdca26"
             ],
             [
              1,
              "#f0f921"
             ]
            ],
            "type": "heatmap"
           }
          ],
          "heatmapgl": [
           {
            "colorbar": {
             "outlinewidth": 0,
             "ticks": ""
            },
            "colorscale": [
             [
              0,
              "#0d0887"
             ],
             [
              0.1111111111111111,
              "#46039f"
             ],
             [
              0.2222222222222222,
              "#7201a8"
             ],
             [
              0.3333333333333333,
              "#9c179e"
             ],
             [
              0.4444444444444444,
              "#bd3786"
             ],
             [
              0.5555555555555556,
              "#d8576b"
             ],
             [
              0.6666666666666666,
              "#ed7953"
             ],
             [
              0.7777777777777778,
              "#fb9f3a"
             ],
             [
              0.8888888888888888,
              "#fdca26"
             ],
             [
              1,
              "#f0f921"
             ]
            ],
            "type": "heatmapgl"
           }
          ],
          "histogram": [
           {
            "marker": {
             "pattern": {
              "fillmode": "overlay",
              "size": 10,
              "solidity": 0.2
             }
            },
            "type": "histogram"
           }
          ],
          "histogram2d": [
           {
            "colorbar": {
             "outlinewidth": 0,
             "ticks": ""
            },
            "colorscale": [
             [
              0,
              "#0d0887"
             ],
             [
              0.1111111111111111,
              "#46039f"
             ],
             [
              0.2222222222222222,
              "#7201a8"
             ],
             [
              0.3333333333333333,
              "#9c179e"
             ],
             [
              0.4444444444444444,
              "#bd3786"
             ],
             [
              0.5555555555555556,
              "#d8576b"
             ],
             [
              0.6666666666666666,
              "#ed7953"
             ],
             [
              0.7777777777777778,
              "#fb9f3a"
             ],
             [
              0.8888888888888888,
              "#fdca26"
             ],
             [
              1,
              "#f0f921"
             ]
            ],
            "type": "histogram2d"
           }
          ],
          "histogram2dcontour": [
           {
            "colorbar": {
             "outlinewidth": 0,
             "ticks": ""
            },
            "colorscale": [
             [
              0,
              "#0d0887"
             ],
             [
              0.1111111111111111,
              "#46039f"
             ],
             [
              0.2222222222222222,
              "#7201a8"
             ],
             [
              0.3333333333333333,
              "#9c179e"
             ],
             [
              0.4444444444444444,
              "#bd3786"
             ],
             [
              0.5555555555555556,
              "#d8576b"
             ],
             [
              0.6666666666666666,
              "#ed7953"
             ],
             [
              0.7777777777777778,
              "#fb9f3a"
             ],
             [
              0.8888888888888888,
              "#fdca26"
             ],
             [
              1,
              "#f0f921"
             ]
            ],
            "type": "histogram2dcontour"
           }
          ],
          "mesh3d": [
           {
            "colorbar": {
             "outlinewidth": 0,
             "ticks": ""
            },
            "type": "mesh3d"
           }
          ],
          "parcoords": [
           {
            "line": {
             "colorbar": {
              "outlinewidth": 0,
              "ticks": ""
             }
            },
            "type": "parcoords"
           }
          ],
          "pie": [
           {
            "automargin": true,
            "type": "pie"
           }
          ],
          "scatter": [
           {
            "fillpattern": {
             "fillmode": "overlay",
             "size": 10,
             "solidity": 0.2
            },
            "type": "scatter"
           }
          ],
          "scatter3d": [
           {
            "line": {
             "colorbar": {
              "outlinewidth": 0,
              "ticks": ""
             }
            },
            "marker": {
             "colorbar": {
              "outlinewidth": 0,
              "ticks": ""
             }
            },
            "type": "scatter3d"
           }
          ],
          "scattercarpet": [
           {
            "marker": {
             "colorbar": {
              "outlinewidth": 0,
              "ticks": ""
             }
            },
            "type": "scattercarpet"
           }
          ],
          "scattergeo": [
           {
            "marker": {
             "colorbar": {
              "outlinewidth": 0,
              "ticks": ""
             }
            },
            "type": "scattergeo"
           }
          ],
          "scattergl": [
           {
            "marker": {
             "colorbar": {
              "outlinewidth": 0,
              "ticks": ""
             }
            },
            "type": "scattergl"
           }
          ],
          "scattermapbox": [
           {
            "marker": {
             "colorbar": {
              "outlinewidth": 0,
              "ticks": ""
             }
            },
            "type": "scattermapbox"
           }
          ],
          "scatterpolar": [
           {
            "marker": {
             "colorbar": {
              "outlinewidth": 0,
              "ticks": ""
             }
            },
            "type": "scatterpolar"
           }
          ],
          "scatterpolargl": [
           {
            "marker": {
             "colorbar": {
              "outlinewidth": 0,
              "ticks": ""
             }
            },
            "type": "scatterpolargl"
           }
          ],
          "scatterternary": [
           {
            "marker": {
             "colorbar": {
              "outlinewidth": 0,
              "ticks": ""
             }
            },
            "type": "scatterternary"
           }
          ],
          "surface": [
           {
            "colorbar": {
             "outlinewidth": 0,
             "ticks": ""
            },
            "colorscale": [
             [
              0,
              "#0d0887"
             ],
             [
              0.1111111111111111,
              "#46039f"
             ],
             [
              0.2222222222222222,
              "#7201a8"
             ],
             [
              0.3333333333333333,
              "#9c179e"
             ],
             [
              0.4444444444444444,
              "#bd3786"
             ],
             [
              0.5555555555555556,
              "#d8576b"
             ],
             [
              0.6666666666666666,
              "#ed7953"
             ],
             [
              0.7777777777777778,
              "#fb9f3a"
             ],
             [
              0.8888888888888888,
              "#fdca26"
             ],
             [
              1,
              "#f0f921"
             ]
            ],
            "type": "surface"
           }
          ],
          "table": [
           {
            "cells": {
             "fill": {
              "color": "#EBF0F8"
             },
             "line": {
              "color": "white"
             }
            },
            "header": {
             "fill": {
              "color": "#C8D4E3"
             },
             "line": {
              "color": "white"
             }
            },
            "type": "table"
           }
          ]
         },
         "layout": {
          "annotationdefaults": {
           "arrowcolor": "#2a3f5f",
           "arrowhead": 0,
           "arrowwidth": 1
          },
          "autotypenumbers": "strict",
          "coloraxis": {
           "colorbar": {
            "outlinewidth": 0,
            "ticks": ""
           }
          },
          "colorscale": {
           "diverging": [
            [
             0,
             "#8e0152"
            ],
            [
             0.1,
             "#c51b7d"
            ],
            [
             0.2,
             "#de77ae"
            ],
            [
             0.3,
             "#f1b6da"
            ],
            [
             0.4,
             "#fde0ef"
            ],
            [
             0.5,
             "#f7f7f7"
            ],
            [
             0.6,
             "#e6f5d0"
            ],
            [
             0.7,
             "#b8e186"
            ],
            [
             0.8,
             "#7fbc41"
            ],
            [
             0.9,
             "#4d9221"
            ],
            [
             1,
             "#276419"
            ]
           ],
           "sequential": [
            [
             0,
             "#0d0887"
            ],
            [
             0.1111111111111111,
             "#46039f"
            ],
            [
             0.2222222222222222,
             "#7201a8"
            ],
            [
             0.3333333333333333,
             "#9c179e"
            ],
            [
             0.4444444444444444,
             "#bd3786"
            ],
            [
             0.5555555555555556,
             "#d8576b"
            ],
            [
             0.6666666666666666,
             "#ed7953"
            ],
            [
             0.7777777777777778,
             "#fb9f3a"
            ],
            [
             0.8888888888888888,
             "#fdca26"
            ],
            [
             1,
             "#f0f921"
            ]
           ],
           "sequentialminus": [
            [
             0,
             "#0d0887"
            ],
            [
             0.1111111111111111,
             "#46039f"
            ],
            [
             0.2222222222222222,
             "#7201a8"
            ],
            [
             0.3333333333333333,
             "#9c179e"
            ],
            [
             0.4444444444444444,
             "#bd3786"
            ],
            [
             0.5555555555555556,
             "#d8576b"
            ],
            [
             0.6666666666666666,
             "#ed7953"
            ],
            [
             0.7777777777777778,
             "#fb9f3a"
            ],
            [
             0.8888888888888888,
             "#fdca26"
            ],
            [
             1,
             "#f0f921"
            ]
           ]
          },
          "colorway": [
           "#636efa",
           "#EF553B",
           "#00cc96",
           "#ab63fa",
           "#FFA15A",
           "#19d3f3",
           "#FF6692",
           "#B6E880",
           "#FF97FF",
           "#FECB52"
          ],
          "font": {
           "color": "#2a3f5f"
          },
          "geo": {
           "bgcolor": "white",
           "lakecolor": "white",
           "landcolor": "#E5ECF6",
           "showlakes": true,
           "showland": true,
           "subunitcolor": "white"
          },
          "hoverlabel": {
           "align": "left"
          },
          "hovermode": "closest",
          "mapbox": {
           "style": "light"
          },
          "paper_bgcolor": "white",
          "plot_bgcolor": "#E5ECF6",
          "polar": {
           "angularaxis": {
            "gridcolor": "white",
            "linecolor": "white",
            "ticks": ""
           },
           "bgcolor": "#E5ECF6",
           "radialaxis": {
            "gridcolor": "white",
            "linecolor": "white",
            "ticks": ""
           }
          },
          "scene": {
           "xaxis": {
            "backgroundcolor": "#E5ECF6",
            "gridcolor": "white",
            "gridwidth": 2,
            "linecolor": "white",
            "showbackground": true,
            "ticks": "",
            "zerolinecolor": "white"
           },
           "yaxis": {
            "backgroundcolor": "#E5ECF6",
            "gridcolor": "white",
            "gridwidth": 2,
            "linecolor": "white",
            "showbackground": true,
            "ticks": "",
            "zerolinecolor": "white"
           },
           "zaxis": {
            "backgroundcolor": "#E5ECF6",
            "gridcolor": "white",
            "gridwidth": 2,
            "linecolor": "white",
            "showbackground": true,
            "ticks": "",
            "zerolinecolor": "white"
           }
          },
          "shapedefaults": {
           "line": {
            "color": "#2a3f5f"
           }
          },
          "ternary": {
           "aaxis": {
            "gridcolor": "white",
            "linecolor": "white",
            "ticks": ""
           },
           "baxis": {
            "gridcolor": "white",
            "linecolor": "white",
            "ticks": ""
           },
           "bgcolor": "#E5ECF6",
           "caxis": {
            "gridcolor": "white",
            "linecolor": "white",
            "ticks": ""
           }
          },
          "title": {
           "x": 0.05
          },
          "xaxis": {
           "automargin": true,
           "gridcolor": "white",
           "linecolor": "white",
           "ticks": "",
           "title": {
            "standoff": 15
           },
           "zerolinecolor": "white",
           "zerolinewidth": 2
          },
          "yaxis": {
           "automargin": true,
           "gridcolor": "white",
           "linecolor": "white",
           "ticks": "",
           "title": {
            "standoff": 15
           },
           "zerolinecolor": "white",
           "zerolinewidth": 2
          }
         }
        },
        "updatemenus": [
         {
          "buttons": [
           {
            "args": [
             null,
             {
              "frame": {
               "duration": 2000,
               "redraw": false
              },
              "fromcurrent": true,
              "mode": "immediate",
              "transition": {
               "duration": 500,
               "easing": "linear"
              }
             }
            ],
            "label": "&#9654;",
            "method": "animate"
           },
           {
            "args": [
             [
              null
             ],
             {
              "frame": {
               "duration": 0,
               "redraw": false
              },
              "fromcurrent": true,
              "mode": "immediate",
              "transition": {
               "duration": 0,
               "easing": "linear"
              }
             }
            ],
            "label": "&#9724;",
            "method": "animate"
           }
          ],
          "direction": "left",
          "pad": {
           "r": 10,
           "t": 70
          },
          "showactive": false,
          "type": "buttons",
          "x": 0.1,
          "xanchor": "right",
          "y": 0,
          "yanchor": "top"
         }
        ],
        "width": 1200,
        "xaxis": {
         "anchor": "y",
         "domain": [
          0,
          1
         ],
         "title": {
          "text": "Log of Deaths"
         }
        },
        "yaxis": {
         "anchor": "x",
         "domain": [
          0,
          1
         ],
         "title": {
          "text": "Log of Pageviews"
         }
        }
       }
      }
     },
     "metadata": {},
     "output_type": "display_data"
    },
    {
     "name": "stdout",
     "output_type": "stream",
     "text": [
      "Regression on 2 months cumulative log-pageviews and log-deaths until 2020-03-21\n",
      "Intercept= 8.9, Coefficient= 0.83\n",
      "Pvalues of intercept= 5.8e-09, Pvalues of coefficient= 0.015 \n",
      "\n",
      "Regression on 2 months cumulative log-pageviews and log-deaths until 2020-05-19\n",
      "Intercept= 7.1, Coefficient= 0.65\n",
      "Pvalues of intercept= 6.8e-27, Pvalues of coefficient= 1e-06 \n",
      "\n",
      "Regression on 2 months cumulative log-pageviews and log-deaths until 2020-07-17\n",
      "Intercept= 6.2, Coefficient= 0.24\n",
      "Pvalues of intercept= 1.9e-22, Pvalues of coefficient= 0.04 \n",
      "\n",
      "Regression on 2 months cumulative log-pageviews and log-deaths until 2020-09-14\n",
      "Intercept= 5.8, Coefficient= 0.21\n",
      "Pvalues of intercept= 1e-21, Pvalues of coefficient= 0.098 \n",
      "\n",
      "Regression on 2 months cumulative log-pageviews and log-deaths until 2020-11-12\n",
      "Intercept= 5.5, Coefficient= 0.46\n",
      "Pvalues of intercept= 2.5e-24, Pvalues of coefficient= 3.8e-06 \n",
      "\n",
      "Regression on 2 months cumulative log-pageviews and log-deaths until 2021-01-10\n",
      "Intercept= 5.2, Coefficient= 0.39\n",
      "Pvalues of intercept= 2.4e-24, Pvalues of coefficient= 3.1e-07 \n",
      "\n",
      "Regression on 2 months cumulative log-pageviews and log-deaths until 2021-03-10\n",
      "Intercept= 5.1, Coefficient= 0.33\n",
      "Pvalues of intercept= 3.1e-25, Pvalues of coefficient= 5.6e-06 \n",
      "\n",
      "Regression on 2 months cumulative log-pageviews and log-deaths until 2021-05-08\n",
      "Intercept= 5.0, Coefficient= 0.25\n",
      "Pvalues of intercept= 2.8e-21, Pvalues of coefficient= 0.0045 \n",
      "\n",
      "Regression on 2 months cumulative log-pageviews and log-deaths until 2021-07-06\n",
      "Intercept= 4.8, Coefficient= 0.071\n",
      "Pvalues of intercept= 8.4e-19, Pvalues of coefficient= 0.61 \n",
      "\n",
      "Regression on 2 months cumulative log-pageviews and log-deaths until 2021-09-03\n",
      "Intercept= 4.8, Coefficient= 0.011\n",
      "Pvalues of intercept= 4.1e-19, Pvalues of coefficient= 0.93 \n",
      "\n",
      "Regression on 2 months cumulative log-pageviews and log-deaths until 2021-11-01\n",
      "Intercept= 4.3, Coefficient= 0.28\n",
      "Pvalues of intercept= 9e-18, Pvalues of coefficient= 0.0088 \n",
      "\n",
      "Regression on 2 months cumulative log-pageviews and log-deaths until 2021-12-30\n",
      "Intercept= 4.2, Coefficient= 0.38\n",
      "Pvalues of intercept= 2.6e-17, Pvalues of coefficient= 0.00025 \n",
      "\n",
      "Regression on 2 months cumulative log-pageviews and log-deaths until 2022-02-27\n",
      "Intercept= 4.0, Coefficient= 0.42\n",
      "Pvalues of intercept= 1.2e-17, Pvalues of coefficient= 2.1e-05 \n",
      "\n",
      "Regression on 2 months cumulative log-pageviews and log-deaths until 2022-04-27\n",
      "Intercept= 3.9, Coefficient= 0.39\n",
      "Pvalues of intercept= 3.2e-22, Pvalues of coefficient= 6.7e-06 \n",
      "\n"
     ]
    }
   ],
   "source": [
    "\n",
    "fig = px.scatter(data, x=\"Log of Deaths\", y=\"Log of Pageviews\", animation_frame=\"Date\", hover_name=\"country\", trendline=\"ols\", trendline_color_override= 'black') #animation_group='i'\n",
    "fig.update_traces(marker_size=10, marker_color= 'orange')\n",
    "fig.update_layout(height=600, width= 1200)\n",
    "fig.layout.updatemenus[0].buttons[0].args[1][\"frame\"][\"duration\"] = 2000\n",
    "fig.show()\n",
    "\n",
    "\n",
    "results = px.get_trendline_results(fig)\n",
    "for i in range(14):\n",
    "    results1 = results.iloc[i][\"px_fit_results\"].params\n",
    "    results2 = results.iloc[i][\"px_fit_results\"].pvalues\n",
    "    date = results.iloc[i][\"Date\"]\n",
    "    print('Regression on 2 months cumulative log-pageviews and log-deaths until {}'.format(date))\n",
    "    print('Intercept= {:.2}, Coefficient= {:.2}'.format(results1[0], results1[1]))\n",
    "    print('Pvalues of intercept= {:.2}, Pvalues of coefficient= {:.2} \\n'.format(results2[0], results2[1]))"
   ]
  }
 ],
 "metadata": {
  "kernelspec": {
   "display_name": "Python 3",
   "language": "python",
   "name": "python3"
  },
  "language_info": {
   "codemirror_mode": {
    "name": "ipython",
    "version": 3
   },
   "file_extension": ".py",
   "mimetype": "text/x-python",
   "name": "python",
   "nbconvert_exporter": "python",
   "pygments_lexer": "ipython3",
   "version": "3.9.7"
  },
  "vscode": {
   "interpreter": {
    "hash": "aee8b7b246df8f9039afb4144a1f6fd8d2ca17a180786b69acc140d282b71a49"
   }
  }
 },
 "nbformat": 4,
 "nbformat_minor": 2
}
