{
 "cells": [
  {
   "cell_type": "code",
   "execution_count": 116,
   "metadata": {},
   "outputs": [],
   "source": [
    "import pandas as pd\n",
    "import numpy as np\n",
    "import matplotlib.pyplot as plt\n",
    "import seaborn as sn\n",
    "from scipy import stats\n",
    "from helper import *\n",
    "from scipy.stats.mstats import gmean\n",
    "#Importation of all the packages\n",
    "import datetime\n",
    "import math\n",
    "import json\n",
    "import zipfile  \n",
    "import ssl\n",
    "from scipy import stats\n",
    "import statsmodels.formula.api as smf\n",
    "import statsmodels.api as sm\n",
    "import plotly.express as px\n",
    "\n",
    "#To dowload data\n",
    "import requests\n",
    "import io\n",
    "import gzip\n",
    "\n",
    "#To create the mapchart\n",
    "import iso3166\n",
    "import plotly\n",
    "from iso3166 import countries\n",
    "import plotly.graph_objects as go"
   ]
  },
  {
   "cell_type": "code",
   "execution_count": 117,
   "metadata": {},
   "outputs": [],
   "source": [
    "pageview_df = pd.read_csv(\"page_views_covid_related.csv.gz\")\n",
    "population_df = pd.read_csv(\"Population_countries.csv\")"
   ]
  },
  {
   "cell_type": "code",
   "execution_count": 118,
   "metadata": {},
   "outputs": [],
   "source": [
    "\n",
    "def get_pageviews_df(raw_pageview_df: pd.DataFrame, population_df: pd.DataFrame, country_dict: dict, start: str, end: str):\n",
    "    '''\n",
    "    Function to get the different pageviews dataset\n",
    "    \n",
    "    Inputs : \n",
    "\n",
    "        - raw_pageview_df : raw dataset from csv\n",
    "        - population_df : raw population dataset from csv\n",
    "        - country_dict : countries we are interested in with language code\n",
    "        - start : start date (yyyy-mm-dd)\n",
    "        - end : end date (yyyy-mm-dd)\n",
    "        \n",
    "    Output : df_pageviews, df_pageviews_cumul, df_pageviews100k, df_pageviews_cumul100k\n",
    "    '''\n",
    "    #inv_country_dict = {v: k for k, v in country_dict.items()}\n",
    "    pageview_df_imp_country = raw_pageview_df[[\"date\"] + list(country_dict.values())].set_index('date')\n",
    "    df_pageviews = pageview_df_imp_country.loc[pageview_df_imp_country.index < end]\n",
    "    df_pageviews = df_pageviews.loc[df_pageviews.index >= start]\n",
    "    df_pageviews = df_pageviews.interpolate(method ='linear', limit_direction ='forward') \n",
    "    df_pageviews = df_pageviews.fillna(0)\n",
    "\n",
    "    df_pageviews_cumul = df_pageviews.cumsum()\n",
    "\n",
    "    COUNTRY_OWN_LANG_POP = {\"Italy\" : \"it\", \"Russian Federation\": \"ru\", \"China\": \"zh\", \"Albania\": \"sq\", \n",
    "    \"Bangladesh\": \"bn\", \"Botswana\": \"tn\", \"Cambodia\": \"km\", \"Croatia\": \"hr\", \"Greece\": \"el\", \"Sweden\": \"sv\", \"Finland\": \"fi\", \"Norway\": \"no\",\n",
    "    \"Malaysia\": \"ms\", \"Israel\": \"he\", \"Lithuania\": \"lt\", \"Serbia\": \"sr\", \"Slovak Republic\": \"sk\", \"Slovenia\": \"sl\", \"Turkiye\": \"tr\",\n",
    "    \"Vietnam\": \"vi\", \"Bulgaria\": \"bg\", \"Czechia\": \"cs\", \"Denmark\": \"da\", \"Georgia\": \"ka\", \"Germany\": \"de\", \n",
    "    \"Hungary\": \"hu\", \"Iceland\": \"is\", \"Japan\": \"ja\", \"Kazakhstan\": \"kk\", \"Korea, Rep.\": \"ko\", \"Kyrgyz Republic\": 'ky', \"Netherlands\": \"nl\", \"Poland\": \"pl\", \n",
    "    \"Romania\": \"ro\", \"Tajikistan\": \"tg\", \"Thailand\": \"th\", \"Azerbaijan\": \"az\", \"Mongolia\": \"mn\"}\n",
    "\n",
    "    population_df = population_df[[\"Country Name\", \"2020\"]]\n",
    "    population_df = population_df.set_index(\"Country Name\")\n",
    "    population_df = population_df.transpose()\n",
    "    population_df = population_df[list(COUNTRY_OWN_LANG_POP.keys())]\n",
    "    population_df = population_df.rename(columns= COUNTRY_OWN_LANG_POP)\n",
    "\n",
    "    df_pageviews_cumul100k = df_pageviews_cumul/population_df.values * 100000\n",
    "    df_pageviews100k = df_pageviews/population_df.values * 100000\n",
    "    return df_pageviews, df_pageviews_cumul, df_pageviews100k, df_pageviews_cumul100k"
   ]
  },
  {
   "cell_type": "code",
   "execution_count": 119,
   "metadata": {},
   "outputs": [],
   "source": [
    "\n",
    "def get_cases_deaths_df(population_df: pd.DataFrame, country_dict: dict, start: str, end: str):\n",
    "    '''\n",
    "    Function to get the different COVID cases and deaths dataset\n",
    "    \n",
    "    Inputs : \n",
    "\n",
    "        - population_df : raw population dataset from csv\n",
    "        - country_dict : countries we are interested in with language code\n",
    "        - start : start date (yyyy-mm-dd)\n",
    "        - end : end date (yyyy-mm-dd)\n",
    "\n",
    "    Output : deaths, cases, deaths_cumul, cases_cumul, deaths100k, deaths100k_cumul, cases100k, cases100k_cumul\n",
    "    '''\n",
    "    ssl._create_default_https_context = ssl._create_unverified_context\n",
    "    death_url = \"https://github.com/owid/covid-19-data/blob/master/public/data/jhu/new_deaths.csv?raw=true\" # Make sure the url is the raw version of the file on GitHub\n",
    "    cases_url = \"https://github.com/owid/covid-19-data/blob/master/public/data/jhu/new_cases.csv?raw=true\"\n",
    "\n",
    "    # Reading the downloaded content and turning it into a pandas dataframe\n",
    "    deaths = pd.read_csv(death_url,index_col=0)\n",
    "    cases = pd.read_csv(cases_url,index_col=0)\n",
    "    deaths= deaths.interpolate(method ='linear', limit_direction ='forward') \n",
    "    cases = cases.interpolate(method ='linear', limit_direction ='forward') \n",
    "    deaths = deaths.fillna(0)\n",
    "    cases = cases.fillna(0)\n",
    "    #Keep only values between start and end\n",
    "    deaths = deaths[deaths.index < end]\n",
    "    cases = cases[cases.index < end] \n",
    "    deaths = deaths[deaths.index >= start]\n",
    "    cases = cases[cases.index >= start]\n",
    "\n",
    "    deaths = deaths.rename(columns= country_dict)[country_dict.values()]\n",
    "    cases = cases.rename(columns= country_dict)[country_dict.values()]\n",
    "\n",
    "    deaths_cumul = deaths.cumsum()\n",
    "    cases_cumul = cases.cumsum()\n",
    "    \n",
    "    COUNTRY_OWN_LANG_POP = {\"Italy\" : \"it\", \"Russian Federation\": \"ru\", \"China\": \"zh\", \"Albania\": \"sq\", \n",
    "    \"Bangladesh\": \"bn\", \"Botswana\": \"tn\", \"Cambodia\": \"km\", \"Croatia\": \"hr\", \"Greece\": \"el\", \"Sweden\": \"sv\", \"Finland\": \"fi\", \"Norway\": \"no\",\n",
    "    \"Malaysia\": \"ms\", \"Israel\": \"he\", \"Lithuania\": \"lt\", \"Serbia\": \"sr\", \"Slovak Republic\": \"sk\", \"Slovenia\": \"sl\", \"Turkiye\": \"tr\",\n",
    "    \"Vietnam\": \"vi\", \"Bulgaria\": \"bg\", \"Czechia\": \"cs\", \"Denmark\": \"da\", \"Georgia\": \"ka\", \"Germany\": \"de\", \n",
    "    \"Hungary\": \"hu\", \"Iceland\": \"is\", \"Japan\": \"ja\", \"Kazakhstan\": \"kk\", \"Korea, Rep.\": \"ko\", \"Kyrgyz Republic\": 'ky', \"Netherlands\": \"nl\", \"Poland\": \"pl\", \n",
    "    \"Romania\": \"ro\", \"Tajikistan\": \"tg\", \"Thailand\": \"th\", \"Azerbaijan\": \"az\", \"Mongolia\": \"mn\"}\n",
    "\n",
    "    population_df = population_df[[\"Country Name\", \"2020\"]]\n",
    "    population_df = population_df.set_index(\"Country Name\")\n",
    "    population_df = population_df.transpose()\n",
    "    population_df = population_df[list(COUNTRY_OWN_LANG_POP.keys())]\n",
    "    population_df = population_df.rename(columns= COUNTRY_OWN_LANG_POP)\n",
    "\n",
    "    deaths100k = deaths/population_df.values * 100000\n",
    "    deaths100k_cumul = deaths_cumul/population_df.values * 100000\n",
    "    cases100k = cases/population_df.values * 100000\n",
    "    cases100k_cumul = cases_cumul/population_df.values * 100000\n",
    "    return deaths, cases, deaths_cumul, cases_cumul, deaths100k, deaths100k_cumul, cases100k, cases100k_cumul\n",
    "    "
   ]
  },
  {
   "attachments": {},
   "cell_type": "markdown",
   "metadata": {},
   "source": [
    "### Cumul pageviews, cases and deaths during 1st wave beteween 2020-01-22 and 2020-05-22."
   ]
  },
  {
   "cell_type": "code",
   "execution_count": 120,
   "metadata": {},
   "outputs": [],
   "source": [
    "_, _, _, df_pageviews_cumul100k = get_pageviews_df(pageview_df, population_df, get_country_dict('original'), '2020-01-22', '2020-05-22')\n",
    "_, _, _, _, _, deaths100k_cumul, _, cases100k_cumul = get_cases_deaths_df(population_df, get_country_dict('original'), '2020-01-22', '2020-05-22')"
   ]
  },
  {
   "cell_type": "code",
   "execution_count": 121,
   "metadata": {},
   "outputs": [
    {
     "name": "stdout",
     "output_type": "stream",
     "text": [
      "Our model summary is:\n"
     ]
    },
    {
     "data": {
      "text/html": [
       "<table class=\"simpletable\">\n",
       "<caption>OLS Regression Results</caption>\n",
       "<tr>\n",
       "  <th>Dep. Variable:</th>            <td>y</td>        <th>  R-squared:         </th> <td>   0.512</td>\n",
       "</tr>\n",
       "<tr>\n",
       "  <th>Model:</th>                   <td>OLS</td>       <th>  Adj. R-squared:    </th> <td>   0.497</td>\n",
       "</tr>\n",
       "<tr>\n",
       "  <th>Method:</th>             <td>Least Squares</td>  <th>  F-statistic:       </th> <td>   34.63</td>\n",
       "</tr>\n",
       "<tr>\n",
       "  <th>Date:</th>             <td>Thu, 22 Dec 2022</td> <th>  Prob (F-statistic):</th> <td>1.35e-06</td>\n",
       "</tr>\n",
       "<tr>\n",
       "  <th>Time:</th>                 <td>14:20:11</td>     <th>  Log-Likelihood:    </th> <td> -59.005</td>\n",
       "</tr>\n",
       "<tr>\n",
       "  <th>No. Observations:</th>      <td>    35</td>      <th>  AIC:               </th> <td>   122.0</td>\n",
       "</tr>\n",
       "<tr>\n",
       "  <th>Df Residuals:</th>          <td>    33</td>      <th>  BIC:               </th> <td>   125.1</td>\n",
       "</tr>\n",
       "<tr>\n",
       "  <th>Df Model:</th>              <td>     1</td>      <th>                     </th>     <td> </td>   \n",
       "</tr>\n",
       "<tr>\n",
       "  <th>Covariance Type:</th>      <td>nonrobust</td>    <th>                     </th>     <td> </td>   \n",
       "</tr>\n",
       "</table>\n",
       "<table class=\"simpletable\">\n",
       "<tr>\n",
       "      <td></td>         <th>coef</th>     <th>std err</th>      <th>t</th>      <th>P>|t|</th>  <th>[0.025</th>    <th>0.975]</th>  \n",
       "</tr>\n",
       "<tr>\n",
       "  <th>Intercept</th> <td>    7.4383</td> <td>    0.237</td> <td>   31.445</td> <td> 0.000</td> <td>    6.957</td> <td>    7.920</td>\n",
       "</tr>\n",
       "<tr>\n",
       "  <th>x</th>         <td>    0.7979</td> <td>    0.136</td> <td>    5.885</td> <td> 0.000</td> <td>    0.522</td> <td>    1.074</td>\n",
       "</tr>\n",
       "</table>\n",
       "<table class=\"simpletable\">\n",
       "<tr>\n",
       "  <th>Omnibus:</th>       <td> 6.063</td> <th>  Durbin-Watson:     </th> <td>   2.411</td>\n",
       "</tr>\n",
       "<tr>\n",
       "  <th>Prob(Omnibus):</th> <td> 0.048</td> <th>  Jarque-Bera (JB):  </th> <td>   4.561</td>\n",
       "</tr>\n",
       "<tr>\n",
       "  <th>Skew:</th>          <td>-0.810</td> <th>  Prob(JB):          </th> <td>   0.102</td>\n",
       "</tr>\n",
       "<tr>\n",
       "  <th>Kurtosis:</th>      <td> 3.711</td> <th>  Cond. No.          </th> <td>    1.88</td>\n",
       "</tr>\n",
       "</table><br/><br/>Notes:<br/>[1] Standard Errors assume that the covariance matrix of the errors is correctly specified."
      ],
      "text/plain": [
       "<class 'statsmodels.iolib.summary.Summary'>\n",
       "\"\"\"\n",
       "                            OLS Regression Results                            \n",
       "==============================================================================\n",
       "Dep. Variable:                      y   R-squared:                       0.512\n",
       "Model:                            OLS   Adj. R-squared:                  0.497\n",
       "Method:                 Least Squares   F-statistic:                     34.63\n",
       "Date:                Thu, 22 Dec 2022   Prob (F-statistic):           1.35e-06\n",
       "Time:                        14:20:11   Log-Likelihood:                -59.005\n",
       "No. Observations:                  35   AIC:                             122.0\n",
       "Df Residuals:                      33   BIC:                             125.1\n",
       "Df Model:                           1                                         \n",
       "Covariance Type:            nonrobust                                         \n",
       "==============================================================================\n",
       "                 coef    std err          t      P>|t|      [0.025      0.975]\n",
       "------------------------------------------------------------------------------\n",
       "Intercept      7.4383      0.237     31.445      0.000       6.957       7.920\n",
       "x              0.7979      0.136      5.885      0.000       0.522       1.074\n",
       "==============================================================================\n",
       "Omnibus:                        6.063   Durbin-Watson:                   2.411\n",
       "Prob(Omnibus):                  0.048   Jarque-Bera (JB):                4.561\n",
       "Skew:                          -0.810   Prob(JB):                        0.102\n",
       "Kurtosis:                       3.711   Cond. No.                         1.88\n",
       "==============================================================================\n",
       "\n",
       "Notes:\n",
       "[1] Standard Errors assume that the covariance matrix of the errors is correctly specified.\n",
       "\"\"\""
      ]
     },
     "execution_count": 121,
     "metadata": {},
     "output_type": "execute_result"
    }
   ],
   "source": [
    "data = pd.DataFrame()\n",
    "data['y'] = np.log(df_pageviews_cumul100k.max().transpose().replace(0, np.nan))\n",
    "data['x2'] = np.log(cases100k_cumul.max().transpose().replace(0, np.nan))\n",
    "data['x'] = np.log(deaths100k_cumul.max().transpose().replace(0, np.nan))\n",
    "data = data.dropna()\n",
    "data = data.rename(index= {v: k for k, v in get_country_dict('original').items()}).reset_index().rename(columns = {'index': 'Country'})\n",
    "\n",
    "#We apply a linear regression using as estimates OLS\n",
    "model = smf.ols('y ~ x', data=data).fit()\n",
    "\n",
    "results = model.summary()\n",
    "\n",
    "#Show the results of the linear regression\n",
    "print(\"Our model summary is:\")\n",
    "results"
   ]
  },
  {
   "cell_type": "code",
   "execution_count": 122,
   "metadata": {},
   "outputs": [
    {
     "data": {
      "application/vnd.plotly.v1+json": {
       "config": {
        "plotlyServerURL": "https://plot.ly"
       },
       "data": [
        {
         "hovertemplate": "<b>%{hovertext}</b><br><br>x=%{x}<br>y=%{y}<extra></extra>",
         "hovertext": [
          "Italy",
          "Russia",
          "China",
          "Albania",
          "Bangladesh",
          "Botswana",
          "Croatia",
          "Greece",
          "Sweden",
          "Finland",
          "Norway",
          "Malaysia",
          "Israel",
          "Lithuania",
          "Serbia",
          "Slovakia",
          "Slovenia",
          "Turkey",
          "Bulgaria",
          "Czechia",
          "Denmark",
          "Georgia",
          "Germany",
          "Hungary",
          "Iceland",
          "Japan",
          "Kazakhstan",
          "South Korea",
          "Kyrgyzstan",
          "Netherlands",
          "Poland",
          "Romania",
          "Tajikistan",
          "Thailand",
          "Azerbaijan"
         ],
         "legendgroup": "",
         "marker": {
          "color": "#636efa",
          "symbol": "circle"
         },
         "mode": "markers",
         "name": "",
         "orientation": "v",
         "showlegend": false,
         "type": "scatter",
         "x": [
          4.0008517464459254,
          0.7659285844379639,
          -1.4256823336716264,
          0.08835574065220375,
          -1.3953790910362913,
          -3.157691671543203,
          0.8739820080322972,
          0.4510831836745404,
          3.6914413070397756,
          1.6977367524061309,
          1.4744096353811362,
          -1.0347613919322476,
          1.1149261334048466,
          0.4982653426360715,
          1.248740259638123,
          -0.6676145143304404,
          1.6177654145599878,
          1.6170086612301517,
          0.5484676392739751,
          1.0655552738675904,
          2.2832961036890183,
          -1.1321319526191407,
          2.2820430105961598,
          1.579227728553619,
          1.003857717731264,
          -0.42434151254592223,
          -1.678732924938524,
          -0.674725489105538,
          -1.5475473110321398,
          3.5024500536164265,
          0.9418441379376559,
          1.792234322437426,
          -0.7736417441731667,
          -2.522867096840927,
          -0.8302495617675314
         ],
         "xaxis": "x",
         "y": [
          9.738432009878567,
          9.705630106489572,
          7.040578400503145,
          6.891431275783025,
          5.598794456074647,
          3.5491706650595436,
          8.503557080048243,
          8.866440065397978,
          8.361958033005994,
          9.50814583066661,
          8.34299492332786,
          7.320234046025152,
          9.835399424213534,
          8.645087744251668,
          7.356054813373959,
          8.540348032859779,
          8.255641469917613,
          7.792851955736222,
          8.342961247868242,
          10.353895391092568,
          8.1999645721298,
          6.800140463308023,
          10.330620135493826,
          8.967413064694204,
          7.758228689814044,
          9.058702484844815,
          5.6709020439965725,
          7.883894604746356,
          3.069339678623173,
          9.661714122904451,
          9.438352226370807,
          8.994184803134267,
          3.0789207343443517,
          6.066998853629784,
          6.276021199310021
         ],
         "yaxis": "y"
        },
        {
         "hovertemplate": "<b>OLS trendline</b><br>y = 0.797948 * x + 7.4383<br>R<sup>2</sup>=0.512040<br><br>x=%{x}<br>y=%{y} <b>(trend)</b><extra></extra>",
         "legendgroup": "",
         "marker": {
          "color": "#636efa",
          "symbol": "circle"
         },
         "mode": "lines",
         "name": "",
         "showlegend": false,
         "type": "scatter",
         "x": [
          -3.157691671543203,
          -2.522867096840927,
          -1.678732924938524,
          -1.5475473110321398,
          -1.4256823336716264,
          -1.3953790910362913,
          -1.1321319526191407,
          -1.0347613919322476,
          -0.8302495617675314,
          -0.7736417441731667,
          -0.674725489105538,
          -0.6676145143304404,
          -0.42434151254592223,
          0.08835574065220375,
          0.4510831836745404,
          0.4982653426360715,
          0.5484676392739751,
          0.7659285844379639,
          0.8739820080322972,
          0.9418441379376559,
          1.003857717731264,
          1.0655552738675904,
          1.1149261334048466,
          1.248740259638123,
          1.4744096353811362,
          1.579227728553619,
          1.6170086612301517,
          1.6177654145599878,
          1.6977367524061309,
          1.792234322437426,
          2.2820430105961598,
          2.2832961036890183,
          3.5024500536164265,
          3.6914413070397756,
          4.0008517464459254
         ],
         "xaxis": "x",
         "y": [
          4.918621514061414,
          5.425178576592983,
          6.0987538342961685,
          6.20343314551846,
          6.300675072528247,
          6.324855487380233,
          6.5349130410264085,
          6.612609694817318,
          6.775799520903965,
          6.820969621337416,
          6.899899659020946,
          6.905573847824205,
          7.099693077116797,
          7.508798875627901,
          7.798236549213797,
          7.835885463260106,
          7.875944290423755,
          8.04946683820677,
          8.1356878621457,
          8.189838319692363,
          8.239321937795914,
          8.288553385422926,
          8.32794876893274,
          8.434725496569264,
          8.614797945927933,
          8.698437344107367,
          8.72858456751204,
          8.729188417392935,
          8.793001394395379,
          8.868405550754439,
          9.259247462305346,
          9.260247365556564,
          10.233068942192315,
          10.383874153574041,
          10.630767625484275
         ],
         "yaxis": "y"
        }
       ],
       "layout": {
        "annotations": [
         {
          "showarrow": false,
          "text": "    The x axis shows the log of the cumulative deaths for 100k of population.",
          "x": 0,
          "xref": "paper",
          "y": 1.13,
          "yref": "paper"
         },
         {
          "showarrow": false,
          "text": "    The y axis shows the log of the cumulative pageviews for 100k of population.",
          "x": 0,
          "xref": "paper",
          "y": 1.09,
          "yref": "paper"
         }
        ],
        "legend": {
         "tracegroupgap": 0
        },
        "margin": {
         "b": 0,
         "l": 20,
         "r": 20,
         "t": 100
        },
        "template": {
         "data": {
          "bar": [
           {
            "error_x": {
             "color": "#2a3f5f"
            },
            "error_y": {
             "color": "#2a3f5f"
            },
            "marker": {
             "line": {
              "color": "#E5ECF6",
              "width": 0.5
             },
             "pattern": {
              "fillmode": "overlay",
              "size": 10,
              "solidity": 0.2
             }
            },
            "type": "bar"
           }
          ],
          "barpolar": [
           {
            "marker": {
             "line": {
              "color": "#E5ECF6",
              "width": 0.5
             },
             "pattern": {
              "fillmode": "overlay",
              "size": 10,
              "solidity": 0.2
             }
            },
            "type": "barpolar"
           }
          ],
          "carpet": [
           {
            "aaxis": {
             "endlinecolor": "#2a3f5f",
             "gridcolor": "white",
             "linecolor": "white",
             "minorgridcolor": "white",
             "startlinecolor": "#2a3f5f"
            },
            "baxis": {
             "endlinecolor": "#2a3f5f",
             "gridcolor": "white",
             "linecolor": "white",
             "minorgridcolor": "white",
             "startlinecolor": "#2a3f5f"
            },
            "type": "carpet"
           }
          ],
          "choropleth": [
           {
            "colorbar": {
             "outlinewidth": 0,
             "ticks": ""
            },
            "type": "choropleth"
           }
          ],
          "contour": [
           {
            "colorbar": {
             "outlinewidth": 0,
             "ticks": ""
            },
            "colorscale": [
             [
              0,
              "#0d0887"
             ],
             [
              0.1111111111111111,
              "#46039f"
             ],
             [
              0.2222222222222222,
              "#7201a8"
             ],
             [
              0.3333333333333333,
              "#9c179e"
             ],
             [
              0.4444444444444444,
              "#bd3786"
             ],
             [
              0.5555555555555556,
              "#d8576b"
             ],
             [
              0.6666666666666666,
              "#ed7953"
             ],
             [
              0.7777777777777778,
              "#fb9f3a"
             ],
             [
              0.8888888888888888,
              "#fdca26"
             ],
             [
              1,
              "#f0f921"
             ]
            ],
            "type": "contour"
           }
          ],
          "contourcarpet": [
           {
            "colorbar": {
             "outlinewidth": 0,
             "ticks": ""
            },
            "type": "contourcarpet"
           }
          ],
          "heatmap": [
           {
            "colorbar": {
             "outlinewidth": 0,
             "ticks": ""
            },
            "colorscale": [
             [
              0,
              "#0d0887"
             ],
             [
              0.1111111111111111,
              "#46039f"
             ],
             [
              0.2222222222222222,
              "#7201a8"
             ],
             [
              0.3333333333333333,
              "#9c179e"
             ],
             [
              0.4444444444444444,
              "#bd3786"
             ],
             [
              0.5555555555555556,
              "#d8576b"
             ],
             [
              0.6666666666666666,
              "#ed7953"
             ],
             [
              0.7777777777777778,
              "#fb9f3a"
             ],
             [
              0.8888888888888888,
              "#fdca26"
             ],
             [
              1,
              "#f0f921"
             ]
            ],
            "type": "heatmap"
           }
          ],
          "heatmapgl": [
           {
            "colorbar": {
             "outlinewidth": 0,
             "ticks": ""
            },
            "colorscale": [
             [
              0,
              "#0d0887"
             ],
             [
              0.1111111111111111,
              "#46039f"
             ],
             [
              0.2222222222222222,
              "#7201a8"
             ],
             [
              0.3333333333333333,
              "#9c179e"
             ],
             [
              0.4444444444444444,
              "#bd3786"
             ],
             [
              0.5555555555555556,
              "#d8576b"
             ],
             [
              0.6666666666666666,
              "#ed7953"
             ],
             [
              0.7777777777777778,
              "#fb9f3a"
             ],
             [
              0.8888888888888888,
              "#fdca26"
             ],
             [
              1,
              "#f0f921"
             ]
            ],
            "type": "heatmapgl"
           }
          ],
          "histogram": [
           {
            "marker": {
             "pattern": {
              "fillmode": "overlay",
              "size": 10,
              "solidity": 0.2
             }
            },
            "type": "histogram"
           }
          ],
          "histogram2d": [
           {
            "colorbar": {
             "outlinewidth": 0,
             "ticks": ""
            },
            "colorscale": [
             [
              0,
              "#0d0887"
             ],
             [
              0.1111111111111111,
              "#46039f"
             ],
             [
              0.2222222222222222,
              "#7201a8"
             ],
             [
              0.3333333333333333,
              "#9c179e"
             ],
             [
              0.4444444444444444,
              "#bd3786"
             ],
             [
              0.5555555555555556,
              "#d8576b"
             ],
             [
              0.6666666666666666,
              "#ed7953"
             ],
             [
              0.7777777777777778,
              "#fb9f3a"
             ],
             [
              0.8888888888888888,
              "#fdca26"
             ],
             [
              1,
              "#f0f921"
             ]
            ],
            "type": "histogram2d"
           }
          ],
          "histogram2dcontour": [
           {
            "colorbar": {
             "outlinewidth": 0,
             "ticks": ""
            },
            "colorscale": [
             [
              0,
              "#0d0887"
             ],
             [
              0.1111111111111111,
              "#46039f"
             ],
             [
              0.2222222222222222,
              "#7201a8"
             ],
             [
              0.3333333333333333,
              "#9c179e"
             ],
             [
              0.4444444444444444,
              "#bd3786"
             ],
             [
              0.5555555555555556,
              "#d8576b"
             ],
             [
              0.6666666666666666,
              "#ed7953"
             ],
             [
              0.7777777777777778,
              "#fb9f3a"
             ],
             [
              0.8888888888888888,
              "#fdca26"
             ],
             [
              1,
              "#f0f921"
             ]
            ],
            "type": "histogram2dcontour"
           }
          ],
          "mesh3d": [
           {
            "colorbar": {
             "outlinewidth": 0,
             "ticks": ""
            },
            "type": "mesh3d"
           }
          ],
          "parcoords": [
           {
            "line": {
             "colorbar": {
              "outlinewidth": 0,
              "ticks": ""
             }
            },
            "type": "parcoords"
           }
          ],
          "pie": [
           {
            "automargin": true,
            "type": "pie"
           }
          ],
          "scatter": [
           {
            "fillpattern": {
             "fillmode": "overlay",
             "size": 10,
             "solidity": 0.2
            },
            "type": "scatter"
           }
          ],
          "scatter3d": [
           {
            "line": {
             "colorbar": {
              "outlinewidth": 0,
              "ticks": ""
             }
            },
            "marker": {
             "colorbar": {
              "outlinewidth": 0,
              "ticks": ""
             }
            },
            "type": "scatter3d"
           }
          ],
          "scattercarpet": [
           {
            "marker": {
             "colorbar": {
              "outlinewidth": 0,
              "ticks": ""
             }
            },
            "type": "scattercarpet"
           }
          ],
          "scattergeo": [
           {
            "marker": {
             "colorbar": {
              "outlinewidth": 0,
              "ticks": ""
             }
            },
            "type": "scattergeo"
           }
          ],
          "scattergl": [
           {
            "marker": {
             "colorbar": {
              "outlinewidth": 0,
              "ticks": ""
             }
            },
            "type": "scattergl"
           }
          ],
          "scattermapbox": [
           {
            "marker": {
             "colorbar": {
              "outlinewidth": 0,
              "ticks": ""
             }
            },
            "type": "scattermapbox"
           }
          ],
          "scatterpolar": [
           {
            "marker": {
             "colorbar": {
              "outlinewidth": 0,
              "ticks": ""
             }
            },
            "type": "scatterpolar"
           }
          ],
          "scatterpolargl": [
           {
            "marker": {
             "colorbar": {
              "outlinewidth": 0,
              "ticks": ""
             }
            },
            "type": "scatterpolargl"
           }
          ],
          "scatterternary": [
           {
            "marker": {
             "colorbar": {
              "outlinewidth": 0,
              "ticks": ""
             }
            },
            "type": "scatterternary"
           }
          ],
          "surface": [
           {
            "colorbar": {
             "outlinewidth": 0,
             "ticks": ""
            },
            "colorscale": [
             [
              0,
              "#0d0887"
             ],
             [
              0.1111111111111111,
              "#46039f"
             ],
             [
              0.2222222222222222,
              "#7201a8"
             ],
             [
              0.3333333333333333,
              "#9c179e"
             ],
             [
              0.4444444444444444,
              "#bd3786"
             ],
             [
              0.5555555555555556,
              "#d8576b"
             ],
             [
              0.6666666666666666,
              "#ed7953"
             ],
             [
              0.7777777777777778,
              "#fb9f3a"
             ],
             [
              0.8888888888888888,
              "#fdca26"
             ],
             [
              1,
              "#f0f921"
             ]
            ],
            "type": "surface"
           }
          ],
          "table": [
           {
            "cells": {
             "fill": {
              "color": "#EBF0F8"
             },
             "line": {
              "color": "white"
             }
            },
            "header": {
             "fill": {
              "color": "#C8D4E3"
             },
             "line": {
              "color": "white"
             }
            },
            "type": "table"
           }
          ]
         },
         "layout": {
          "annotationdefaults": {
           "arrowcolor": "#2a3f5f",
           "arrowhead": 0,
           "arrowwidth": 1
          },
          "autotypenumbers": "strict",
          "coloraxis": {
           "colorbar": {
            "outlinewidth": 0,
            "ticks": ""
           }
          },
          "colorscale": {
           "diverging": [
            [
             0,
             "#8e0152"
            ],
            [
             0.1,
             "#c51b7d"
            ],
            [
             0.2,
             "#de77ae"
            ],
            [
             0.3,
             "#f1b6da"
            ],
            [
             0.4,
             "#fde0ef"
            ],
            [
             0.5,
             "#f7f7f7"
            ],
            [
             0.6,
             "#e6f5d0"
            ],
            [
             0.7,
             "#b8e186"
            ],
            [
             0.8,
             "#7fbc41"
            ],
            [
             0.9,
             "#4d9221"
            ],
            [
             1,
             "#276419"
            ]
           ],
           "sequential": [
            [
             0,
             "#0d0887"
            ],
            [
             0.1111111111111111,
             "#46039f"
            ],
            [
             0.2222222222222222,
             "#7201a8"
            ],
            [
             0.3333333333333333,
             "#9c179e"
            ],
            [
             0.4444444444444444,
             "#bd3786"
            ],
            [
             0.5555555555555556,
             "#d8576b"
            ],
            [
             0.6666666666666666,
             "#ed7953"
            ],
            [
             0.7777777777777778,
             "#fb9f3a"
            ],
            [
             0.8888888888888888,
             "#fdca26"
            ],
            [
             1,
             "#f0f921"
            ]
           ],
           "sequentialminus": [
            [
             0,
             "#0d0887"
            ],
            [
             0.1111111111111111,
             "#46039f"
            ],
            [
             0.2222222222222222,
             "#7201a8"
            ],
            [
             0.3333333333333333,
             "#9c179e"
            ],
            [
             0.4444444444444444,
             "#bd3786"
            ],
            [
             0.5555555555555556,
             "#d8576b"
            ],
            [
             0.6666666666666666,
             "#ed7953"
            ],
            [
             0.7777777777777778,
             "#fb9f3a"
            ],
            [
             0.8888888888888888,
             "#fdca26"
            ],
            [
             1,
             "#f0f921"
            ]
           ]
          },
          "colorway": [
           "#636efa",
           "#EF553B",
           "#00cc96",
           "#ab63fa",
           "#FFA15A",
           "#19d3f3",
           "#FF6692",
           "#B6E880",
           "#FF97FF",
           "#FECB52"
          ],
          "font": {
           "color": "#2a3f5f"
          },
          "geo": {
           "bgcolor": "white",
           "lakecolor": "white",
           "landcolor": "#E5ECF6",
           "showlakes": true,
           "showland": true,
           "subunitcolor": "white"
          },
          "hoverlabel": {
           "align": "left"
          },
          "hovermode": "closest",
          "mapbox": {
           "style": "light"
          },
          "paper_bgcolor": "white",
          "plot_bgcolor": "#E5ECF6",
          "polar": {
           "angularaxis": {
            "gridcolor": "white",
            "linecolor": "white",
            "ticks": ""
           },
           "bgcolor": "#E5ECF6",
           "radialaxis": {
            "gridcolor": "white",
            "linecolor": "white",
            "ticks": ""
           }
          },
          "scene": {
           "xaxis": {
            "backgroundcolor": "#E5ECF6",
            "gridcolor": "white",
            "gridwidth": 2,
            "linecolor": "white",
            "showbackground": true,
            "ticks": "",
            "zerolinecolor": "white"
           },
           "yaxis": {
            "backgroundcolor": "#E5ECF6",
            "gridcolor": "white",
            "gridwidth": 2,
            "linecolor": "white",
            "showbackground": true,
            "ticks": "",
            "zerolinecolor": "white"
           },
           "zaxis": {
            "backgroundcolor": "#E5ECF6",
            "gridcolor": "white",
            "gridwidth": 2,
            "linecolor": "white",
            "showbackground": true,
            "ticks": "",
            "zerolinecolor": "white"
           }
          },
          "shapedefaults": {
           "line": {
            "color": "#2a3f5f"
           }
          },
          "ternary": {
           "aaxis": {
            "gridcolor": "white",
            "linecolor": "white",
            "ticks": ""
           },
           "baxis": {
            "gridcolor": "white",
            "linecolor": "white",
            "ticks": ""
           },
           "bgcolor": "#E5ECF6",
           "caxis": {
            "gridcolor": "white",
            "linecolor": "white",
            "ticks": ""
           }
          },
          "title": {
           "x": 0.05
          },
          "xaxis": {
           "automargin": true,
           "gridcolor": "white",
           "linecolor": "white",
           "ticks": "",
           "title": {
            "standoff": 15
           },
           "zerolinecolor": "white",
           "zerolinewidth": 2
          },
          "yaxis": {
           "automargin": true,
           "gridcolor": "white",
           "linecolor": "white",
           "ticks": "",
           "title": {
            "standoff": 15
           },
           "zerolinecolor": "white",
           "zerolinewidth": 2
          }
         }
        },
        "title": {
         "text": "Relationship between Log of cumulative deaths and Log of cumulative pageviews"
        },
        "xaxis": {
         "anchor": "y",
         "domain": [
          0,
          1
         ],
         "title": {
          "text": "x"
         }
        },
        "yaxis": {
         "anchor": "x",
         "domain": [
          0,
          1
         ],
         "title": {
          "text": "y"
         }
        }
       }
      }
     },
     "metadata": {},
     "output_type": "display_data"
    }
   ],
   "source": [
    "fig = px.scatter(data, x='x', y=\"y\", hover_name= 'Country',trendline=\"ols\", title='Relationship between Log of cumulative deaths and Log of cumulative pageviews')\n",
    "\n",
    "fig.update_layout(margin=dict(l=20, r=20, t=100, b=0))  \n",
    "fig.add_annotation(xref='paper',yref='paper',x=0, y=1.13,showarrow=False,text = \"    The x axis shows the log of the cumulative deaths for 100k of population.\")\n",
    "fig.add_annotation(xref='paper',yref='paper',x=0, y=1.09,showarrow=False,text = \"    The y axis shows the log of the cumulative pageviews for 100k of population.\")\n",
    "fig.show()\n"
   ]
  },
  {
   "cell_type": "code",
   "execution_count": 123,
   "metadata": {},
   "outputs": [
    {
     "name": "stdout",
     "output_type": "stream",
     "text": [
      "Our model summary is:\n"
     ]
    },
    {
     "data": {
      "text/html": [
       "<table class=\"simpletable\">\n",
       "<caption>OLS Regression Results</caption>\n",
       "<tr>\n",
       "  <th>Dep. Variable:</th>            <td>y</td>        <th>  R-squared:         </th> <td>   0.373</td>\n",
       "</tr>\n",
       "<tr>\n",
       "  <th>Model:</th>                   <td>OLS</td>       <th>  Adj. R-squared:    </th> <td>   0.354</td>\n",
       "</tr>\n",
       "<tr>\n",
       "  <th>Method:</th>             <td>Least Squares</td>  <th>  F-statistic:       </th> <td>   19.65</td>\n",
       "</tr>\n",
       "<tr>\n",
       "  <th>Date:</th>             <td>Thu, 22 Dec 2022</td> <th>  Prob (F-statistic):</th> <td>9.71e-05</td>\n",
       "</tr>\n",
       "<tr>\n",
       "  <th>Time:</th>                 <td>14:20:12</td>     <th>  Log-Likelihood:    </th> <td> -63.387</td>\n",
       "</tr>\n",
       "<tr>\n",
       "  <th>No. Observations:</th>      <td>    35</td>      <th>  AIC:               </th> <td>   130.8</td>\n",
       "</tr>\n",
       "<tr>\n",
       "  <th>Df Residuals:</th>          <td>    33</td>      <th>  BIC:               </th> <td>   133.9</td>\n",
       "</tr>\n",
       "<tr>\n",
       "  <th>Df Model:</th>              <td>     1</td>      <th>                     </th>     <td> </td>   \n",
       "</tr>\n",
       "<tr>\n",
       "  <th>Covariance Type:</th>      <td>nonrobust</td>    <th>                     </th>     <td> </td>   \n",
       "</tr>\n",
       "</table>\n",
       "<table class=\"simpletable\">\n",
       "<tr>\n",
       "      <td></td>         <th>coef</th>     <th>std err</th>      <th>t</th>      <th>P>|t|</th>  <th>[0.025</th>    <th>0.975]</th>  \n",
       "</tr>\n",
       "<tr>\n",
       "  <th>Intercept</th> <td>    4.4021</td> <td>    0.814</td> <td>    5.410</td> <td> 0.000</td> <td>    2.747</td> <td>    6.057</td>\n",
       "</tr>\n",
       "<tr>\n",
       "  <th>x2</th>        <td>    0.8640</td> <td>    0.195</td> <td>    4.433</td> <td> 0.000</td> <td>    0.467</td> <td>    1.261</td>\n",
       "</tr>\n",
       "</table>\n",
       "<table class=\"simpletable\">\n",
       "<tr>\n",
       "  <th>Omnibus:</th>       <td> 7.102</td> <th>  Durbin-Watson:     </th> <td>   2.588</td>\n",
       "</tr>\n",
       "<tr>\n",
       "  <th>Prob(Omnibus):</th> <td> 0.029</td> <th>  Jarque-Bera (JB):  </th> <td>   5.666</td>\n",
       "</tr>\n",
       "<tr>\n",
       "  <th>Skew:</th>          <td>-0.921</td> <th>  Prob(JB):          </th> <td>  0.0588</td>\n",
       "</tr>\n",
       "<tr>\n",
       "  <th>Kurtosis:</th>      <td> 3.703</td> <th>  Cond. No.          </th> <td>    13.9</td>\n",
       "</tr>\n",
       "</table><br/><br/>Notes:<br/>[1] Standard Errors assume that the covariance matrix of the errors is correctly specified."
      ],
      "text/plain": [
       "<class 'statsmodels.iolib.summary.Summary'>\n",
       "\"\"\"\n",
       "                            OLS Regression Results                            \n",
       "==============================================================================\n",
       "Dep. Variable:                      y   R-squared:                       0.373\n",
       "Model:                            OLS   Adj. R-squared:                  0.354\n",
       "Method:                 Least Squares   F-statistic:                     19.65\n",
       "Date:                Thu, 22 Dec 2022   Prob (F-statistic):           9.71e-05\n",
       "Time:                        14:20:12   Log-Likelihood:                -63.387\n",
       "No. Observations:                  35   AIC:                             130.8\n",
       "Df Residuals:                      33   BIC:                             133.9\n",
       "Df Model:                           1                                         \n",
       "Covariance Type:            nonrobust                                         \n",
       "==============================================================================\n",
       "                 coef    std err          t      P>|t|      [0.025      0.975]\n",
       "------------------------------------------------------------------------------\n",
       "Intercept      4.4021      0.814      5.410      0.000       2.747       6.057\n",
       "x2             0.8640      0.195      4.433      0.000       0.467       1.261\n",
       "==============================================================================\n",
       "Omnibus:                        7.102   Durbin-Watson:                   2.588\n",
       "Prob(Omnibus):                  0.029   Jarque-Bera (JB):                5.666\n",
       "Skew:                          -0.921   Prob(JB):                       0.0588\n",
       "Kurtosis:                       3.703   Cond. No.                         13.9\n",
       "==============================================================================\n",
       "\n",
       "Notes:\n",
       "[1] Standard Errors assume that the covariance matrix of the errors is correctly specified.\n",
       "\"\"\""
      ]
     },
     "execution_count": 123,
     "metadata": {},
     "output_type": "execute_result"
    }
   ],
   "source": [
    "model = smf.ols('y ~ x2', data=data).fit()\n",
    "\n",
    "results = model.summary()\n",
    "\n",
    "#Show the results of the linear regression\n",
    "print(\"Our model summary is:\")\n",
    "results"
   ]
  },
  {
   "cell_type": "code",
   "execution_count": 124,
   "metadata": {},
   "outputs": [
    {
     "data": {
      "application/vnd.plotly.v1+json": {
       "config": {
        "plotlyServerURL": "https://plot.ly"
       },
       "data": [
        {
         "hovertemplate": "<b>%{hovertext}</b><br><br>x2=%{x}<br>y=%{y}<extra></extra>",
         "hovertext": [
          "Italy",
          "Russia",
          "China",
          "Albania",
          "Bangladesh",
          "Botswana",
          "Croatia",
          "Greece",
          "Sweden",
          "Finland",
          "Norway",
          "Malaysia",
          "Israel",
          "Lithuania",
          "Serbia",
          "Slovakia",
          "Slovenia",
          "Turkey",
          "Bulgaria",
          "Czechia",
          "Denmark",
          "Georgia",
          "Germany",
          "Hungary",
          "Iceland",
          "Japan",
          "Kazakhstan",
          "South Korea",
          "Kyrgyzstan",
          "Netherlands",
          "Poland",
          "Romania",
          "Tajikistan",
          "Thailand",
          "Azerbaijan"
         ],
         "legendgroup": "",
         "marker": {
          "color": "#636efa",
          "symbol": "circle"
         },
         "mode": "markers",
         "name": "",
         "orientation": "v",
         "showlegend": false,
         "type": "scatter",
         "x": [
          5.949414463546382,
          5.395496988243507,
          1.8025086608179028,
          3.5306331480578237,
          2.851398991263273,
          0.20960415844327093,
          4.012161991019044,
          3.2832455554847813,
          5.771484786978923,
          4.801788735041974,
          5.0399186649019585,
          3.0823651570999746,
          5.198327285831704,
          3.9993736351884883,
          5.064279840106373,
          3.3147338078184356,
          4.245982529622381,
          5.204338221826216,
          3.5150285355276862,
          4.404637390244898,
          5.256217733895811,
          2.9636005348778083,
          5.359140869397574,
          3.620145988237119,
          6.198479847940535,
          2.5616583240898376,
          3.6524664260841058,
          3.0677126838074624,
          2.9934652336553977,
          5.552202171398002,
          3.973100445955641,
          4.514314818113186,
          3.1107297299244694,
          1.4690887201125047,
          3.6148052210501196
         ],
         "xaxis": "x",
         "y": [
          9.738432009878567,
          9.705630106489572,
          7.040578400503145,
          6.891431275783025,
          5.598794456074647,
          3.5491706650595436,
          8.503557080048243,
          8.866440065397978,
          8.361958033005994,
          9.50814583066661,
          8.34299492332786,
          7.320234046025152,
          9.835399424213534,
          8.645087744251668,
          7.356054813373959,
          8.540348032859779,
          8.255641469917613,
          7.792851955736222,
          8.342961247868242,
          10.353895391092568,
          8.1999645721298,
          6.800140463308023,
          10.330620135493826,
          8.967413064694204,
          7.758228689814044,
          9.058702484844815,
          5.6709020439965725,
          7.883894604746356,
          3.069339678623173,
          9.661714122904451,
          9.438352226370807,
          8.994184803134267,
          3.0789207343443517,
          6.066998853629784,
          6.276021199310021
         ],
         "yaxis": "y"
        },
        {
         "hovertemplate": "<b>OLS trendline</b><br>y = 0.863954 * x2 + 4.40214<br>R<sup>2</sup>=0.373188<br><br>x2=%{x}<br>y=%{y} <b>(trend)</b><extra></extra>",
         "legendgroup": "",
         "marker": {
          "color": "#636efa",
          "symbol": "circle"
         },
         "mode": "lines",
         "name": "",
         "showlegend": false,
         "type": "scatter",
         "x": [
          0.20960415844327093,
          1.4690887201125047,
          1.8025086608179028,
          2.5616583240898376,
          2.851398991263273,
          2.9636005348778083,
          2.9934652336553977,
          3.0677126838074624,
          3.0823651570999746,
          3.1107297299244694,
          3.2832455554847813,
          3.3147338078184356,
          3.5150285355276862,
          3.5306331480578237,
          3.6148052210501196,
          3.620145988237119,
          3.6524664260841058,
          3.973100445955641,
          3.9993736351884883,
          4.012161991019044,
          4.245982529622381,
          4.404637390244898,
          4.514314818113186,
          4.801788735041974,
          5.0399186649019585,
          5.064279840106373,
          5.198327285831704,
          5.204338221826216,
          5.256217733895811,
          5.359140869397574,
          5.395496988243507,
          5.552202171398002,
          5.771484786978923,
          5.949414463546382,
          6.198479847940535
         ],
         "xaxis": "x",
         "y": [
          4.583228937644208,
          5.671365772587989,
          5.9594252931473175,
          6.615295747602558,
          6.865618381263708,
          6.962555363470712,
          6.988357092045556,
          7.052503480075941,
          7.065162544266043,
          7.089668232892247,
          7.238713985508793,
          7.265918389814347,
          7.43896383848314,
          7.452445507259265,
          7.525166313757366,
          7.529780491397886,
          7.557703865779073,
          7.834716937774108,
          7.8574157669982,
          7.868464319287838,
          8.070474529308582,
          8.207545044613216,
          8.302301306704434,
          8.550665572226837,
          8.756398898437528,
          8.777445835326784,
          8.893256673953136,
          8.898449846674087,
          8.943271363173677,
          9.032192226768027,
          9.063602244243288,
          9.198988327730511,
          9.388438439735204,
          9.5421615110574,
          9.757342567909358
         ],
         "yaxis": "y"
        }
       ],
       "layout": {
        "annotations": [
         {
          "showarrow": false,
          "text": "    The x axis shows the log of the cumulative cases for 100k of population.",
          "x": 0,
          "xref": "paper",
          "y": 1.13,
          "yref": "paper"
         },
         {
          "showarrow": false,
          "text": "    The y axis shows the log of the cumulative pageviews for 100k of population.",
          "x": 0,
          "xref": "paper",
          "y": 1.09,
          "yref": "paper"
         }
        ],
        "legend": {
         "tracegroupgap": 0
        },
        "margin": {
         "b": 0,
         "l": 20,
         "r": 20,
         "t": 100
        },
        "template": {
         "data": {
          "bar": [
           {
            "error_x": {
             "color": "#2a3f5f"
            },
            "error_y": {
             "color": "#2a3f5f"
            },
            "marker": {
             "line": {
              "color": "#E5ECF6",
              "width": 0.5
             },
             "pattern": {
              "fillmode": "overlay",
              "size": 10,
              "solidity": 0.2
             }
            },
            "type": "bar"
           }
          ],
          "barpolar": [
           {
            "marker": {
             "line": {
              "color": "#E5ECF6",
              "width": 0.5
             },
             "pattern": {
              "fillmode": "overlay",
              "size": 10,
              "solidity": 0.2
             }
            },
            "type": "barpolar"
           }
          ],
          "carpet": [
           {
            "aaxis": {
             "endlinecolor": "#2a3f5f",
             "gridcolor": "white",
             "linecolor": "white",
             "minorgridcolor": "white",
             "startlinecolor": "#2a3f5f"
            },
            "baxis": {
             "endlinecolor": "#2a3f5f",
             "gridcolor": "white",
             "linecolor": "white",
             "minorgridcolor": "white",
             "startlinecolor": "#2a3f5f"
            },
            "type": "carpet"
           }
          ],
          "choropleth": [
           {
            "colorbar": {
             "outlinewidth": 0,
             "ticks": ""
            },
            "type": "choropleth"
           }
          ],
          "contour": [
           {
            "colorbar": {
             "outlinewidth": 0,
             "ticks": ""
            },
            "colorscale": [
             [
              0,
              "#0d0887"
             ],
             [
              0.1111111111111111,
              "#46039f"
             ],
             [
              0.2222222222222222,
              "#7201a8"
             ],
             [
              0.3333333333333333,
              "#9c179e"
             ],
             [
              0.4444444444444444,
              "#bd3786"
             ],
             [
              0.5555555555555556,
              "#d8576b"
             ],
             [
              0.6666666666666666,
              "#ed7953"
             ],
             [
              0.7777777777777778,
              "#fb9f3a"
             ],
             [
              0.8888888888888888,
              "#fdca26"
             ],
             [
              1,
              "#f0f921"
             ]
            ],
            "type": "contour"
           }
          ],
          "contourcarpet": [
           {
            "colorbar": {
             "outlinewidth": 0,
             "ticks": ""
            },
            "type": "contourcarpet"
           }
          ],
          "heatmap": [
           {
            "colorbar": {
             "outlinewidth": 0,
             "ticks": ""
            },
            "colorscale": [
             [
              0,
              "#0d0887"
             ],
             [
              0.1111111111111111,
              "#46039f"
             ],
             [
              0.2222222222222222,
              "#7201a8"
             ],
             [
              0.3333333333333333,
              "#9c179e"
             ],
             [
              0.4444444444444444,
              "#bd3786"
             ],
             [
              0.5555555555555556,
              "#d8576b"
             ],
             [
              0.6666666666666666,
              "#ed7953"
             ],
             [
              0.7777777777777778,
              "#fb9f3a"
             ],
             [
              0.8888888888888888,
              "#fdca26"
             ],
             [
              1,
              "#f0f921"
             ]
            ],
            "type": "heatmap"
           }
          ],
          "heatmapgl": [
           {
            "colorbar": {
             "outlinewidth": 0,
             "ticks": ""
            },
            "colorscale": [
             [
              0,
              "#0d0887"
             ],
             [
              0.1111111111111111,
              "#46039f"
             ],
             [
              0.2222222222222222,
              "#7201a8"
             ],
             [
              0.3333333333333333,
              "#9c179e"
             ],
             [
              0.4444444444444444,
              "#bd3786"
             ],
             [
              0.5555555555555556,
              "#d8576b"
             ],
             [
              0.6666666666666666,
              "#ed7953"
             ],
             [
              0.7777777777777778,
              "#fb9f3a"
             ],
             [
              0.8888888888888888,
              "#fdca26"
             ],
             [
              1,
              "#f0f921"
             ]
            ],
            "type": "heatmapgl"
           }
          ],
          "histogram": [
           {
            "marker": {
             "pattern": {
              "fillmode": "overlay",
              "size": 10,
              "solidity": 0.2
             }
            },
            "type": "histogram"
           }
          ],
          "histogram2d": [
           {
            "colorbar": {
             "outlinewidth": 0,
             "ticks": ""
            },
            "colorscale": [
             [
              0,
              "#0d0887"
             ],
             [
              0.1111111111111111,
              "#46039f"
             ],
             [
              0.2222222222222222,
              "#7201a8"
             ],
             [
              0.3333333333333333,
              "#9c179e"
             ],
             [
              0.4444444444444444,
              "#bd3786"
             ],
             [
              0.5555555555555556,
              "#d8576b"
             ],
             [
              0.6666666666666666,
              "#ed7953"
             ],
             [
              0.7777777777777778,
              "#fb9f3a"
             ],
             [
              0.8888888888888888,
              "#fdca26"
             ],
             [
              1,
              "#f0f921"
             ]
            ],
            "type": "histogram2d"
           }
          ],
          "histogram2dcontour": [
           {
            "colorbar": {
             "outlinewidth": 0,
             "ticks": ""
            },
            "colorscale": [
             [
              0,
              "#0d0887"
             ],
             [
              0.1111111111111111,
              "#46039f"
             ],
             [
              0.2222222222222222,
              "#7201a8"
             ],
             [
              0.3333333333333333,
              "#9c179e"
             ],
             [
              0.4444444444444444,
              "#bd3786"
             ],
             [
              0.5555555555555556,
              "#d8576b"
             ],
             [
              0.6666666666666666,
              "#ed7953"
             ],
             [
              0.7777777777777778,
              "#fb9f3a"
             ],
             [
              0.8888888888888888,
              "#fdca26"
             ],
             [
              1,
              "#f0f921"
             ]
            ],
            "type": "histogram2dcontour"
           }
          ],
          "mesh3d": [
           {
            "colorbar": {
             "outlinewidth": 0,
             "ticks": ""
            },
            "type": "mesh3d"
           }
          ],
          "parcoords": [
           {
            "line": {
             "colorbar": {
              "outlinewidth": 0,
              "ticks": ""
             }
            },
            "type": "parcoords"
           }
          ],
          "pie": [
           {
            "automargin": true,
            "type": "pie"
           }
          ],
          "scatter": [
           {
            "fillpattern": {
             "fillmode": "overlay",
             "size": 10,
             "solidity": 0.2
            },
            "type": "scatter"
           }
          ],
          "scatter3d": [
           {
            "line": {
             "colorbar": {
              "outlinewidth": 0,
              "ticks": ""
             }
            },
            "marker": {
             "colorbar": {
              "outlinewidth": 0,
              "ticks": ""
             }
            },
            "type": "scatter3d"
           }
          ],
          "scattercarpet": [
           {
            "marker": {
             "colorbar": {
              "outlinewidth": 0,
              "ticks": ""
             }
            },
            "type": "scattercarpet"
           }
          ],
          "scattergeo": [
           {
            "marker": {
             "colorbar": {
              "outlinewidth": 0,
              "ticks": ""
             }
            },
            "type": "scattergeo"
           }
          ],
          "scattergl": [
           {
            "marker": {
             "colorbar": {
              "outlinewidth": 0,
              "ticks": ""
             }
            },
            "type": "scattergl"
           }
          ],
          "scattermapbox": [
           {
            "marker": {
             "colorbar": {
              "outlinewidth": 0,
              "ticks": ""
             }
            },
            "type": "scattermapbox"
           }
          ],
          "scatterpolar": [
           {
            "marker": {
             "colorbar": {
              "outlinewidth": 0,
              "ticks": ""
             }
            },
            "type": "scatterpolar"
           }
          ],
          "scatterpolargl": [
           {
            "marker": {
             "colorbar": {
              "outlinewidth": 0,
              "ticks": ""
             }
            },
            "type": "scatterpolargl"
           }
          ],
          "scatterternary": [
           {
            "marker": {
             "colorbar": {
              "outlinewidth": 0,
              "ticks": ""
             }
            },
            "type": "scatterternary"
           }
          ],
          "surface": [
           {
            "colorbar": {
             "outlinewidth": 0,
             "ticks": ""
            },
            "colorscale": [
             [
              0,
              "#0d0887"
             ],
             [
              0.1111111111111111,
              "#46039f"
             ],
             [
              0.2222222222222222,
              "#7201a8"
             ],
             [
              0.3333333333333333,
              "#9c179e"
             ],
             [
              0.4444444444444444,
              "#bd3786"
             ],
             [
              0.5555555555555556,
              "#d8576b"
             ],
             [
              0.6666666666666666,
              "#ed7953"
             ],
             [
              0.7777777777777778,
              "#fb9f3a"
             ],
             [
              0.8888888888888888,
              "#fdca26"
             ],
             [
              1,
              "#f0f921"
             ]
            ],
            "type": "surface"
           }
          ],
          "table": [
           {
            "cells": {
             "fill": {
              "color": "#EBF0F8"
             },
             "line": {
              "color": "white"
             }
            },
            "header": {
             "fill": {
              "color": "#C8D4E3"
             },
             "line": {
              "color": "white"
             }
            },
            "type": "table"
           }
          ]
         },
         "layout": {
          "annotationdefaults": {
           "arrowcolor": "#2a3f5f",
           "arrowhead": 0,
           "arrowwidth": 1
          },
          "autotypenumbers": "strict",
          "coloraxis": {
           "colorbar": {
            "outlinewidth": 0,
            "ticks": ""
           }
          },
          "colorscale": {
           "diverging": [
            [
             0,
             "#8e0152"
            ],
            [
             0.1,
             "#c51b7d"
            ],
            [
             0.2,
             "#de77ae"
            ],
            [
             0.3,
             "#f1b6da"
            ],
            [
             0.4,
             "#fde0ef"
            ],
            [
             0.5,
             "#f7f7f7"
            ],
            [
             0.6,
             "#e6f5d0"
            ],
            [
             0.7,
             "#b8e186"
            ],
            [
             0.8,
             "#7fbc41"
            ],
            [
             0.9,
             "#4d9221"
            ],
            [
             1,
             "#276419"
            ]
           ],
           "sequential": [
            [
             0,
             "#0d0887"
            ],
            [
             0.1111111111111111,
             "#46039f"
            ],
            [
             0.2222222222222222,
             "#7201a8"
            ],
            [
             0.3333333333333333,
             "#9c179e"
            ],
            [
             0.4444444444444444,
             "#bd3786"
            ],
            [
             0.5555555555555556,
             "#d8576b"
            ],
            [
             0.6666666666666666,
             "#ed7953"
            ],
            [
             0.7777777777777778,
             "#fb9f3a"
            ],
            [
             0.8888888888888888,
             "#fdca26"
            ],
            [
             1,
             "#f0f921"
            ]
           ],
           "sequentialminus": [
            [
             0,
             "#0d0887"
            ],
            [
             0.1111111111111111,
             "#46039f"
            ],
            [
             0.2222222222222222,
             "#7201a8"
            ],
            [
             0.3333333333333333,
             "#9c179e"
            ],
            [
             0.4444444444444444,
             "#bd3786"
            ],
            [
             0.5555555555555556,
             "#d8576b"
            ],
            [
             0.6666666666666666,
             "#ed7953"
            ],
            [
             0.7777777777777778,
             "#fb9f3a"
            ],
            [
             0.8888888888888888,
             "#fdca26"
            ],
            [
             1,
             "#f0f921"
            ]
           ]
          },
          "colorway": [
           "#636efa",
           "#EF553B",
           "#00cc96",
           "#ab63fa",
           "#FFA15A",
           "#19d3f3",
           "#FF6692",
           "#B6E880",
           "#FF97FF",
           "#FECB52"
          ],
          "font": {
           "color": "#2a3f5f"
          },
          "geo": {
           "bgcolor": "white",
           "lakecolor": "white",
           "landcolor": "#E5ECF6",
           "showlakes": true,
           "showland": true,
           "subunitcolor": "white"
          },
          "hoverlabel": {
           "align": "left"
          },
          "hovermode": "closest",
          "mapbox": {
           "style": "light"
          },
          "paper_bgcolor": "white",
          "plot_bgcolor": "#E5ECF6",
          "polar": {
           "angularaxis": {
            "gridcolor": "white",
            "linecolor": "white",
            "ticks": ""
           },
           "bgcolor": "#E5ECF6",
           "radialaxis": {
            "gridcolor": "white",
            "linecolor": "white",
            "ticks": ""
           }
          },
          "scene": {
           "xaxis": {
            "backgroundcolor": "#E5ECF6",
            "gridcolor": "white",
            "gridwidth": 2,
            "linecolor": "white",
            "showbackground": true,
            "ticks": "",
            "zerolinecolor": "white"
           },
           "yaxis": {
            "backgroundcolor": "#E5ECF6",
            "gridcolor": "white",
            "gridwidth": 2,
            "linecolor": "white",
            "showbackground": true,
            "ticks": "",
            "zerolinecolor": "white"
           },
           "zaxis": {
            "backgroundcolor": "#E5ECF6",
            "gridcolor": "white",
            "gridwidth": 2,
            "linecolor": "white",
            "showbackground": true,
            "ticks": "",
            "zerolinecolor": "white"
           }
          },
          "shapedefaults": {
           "line": {
            "color": "#2a3f5f"
           }
          },
          "ternary": {
           "aaxis": {
            "gridcolor": "white",
            "linecolor": "white",
            "ticks": ""
           },
           "baxis": {
            "gridcolor": "white",
            "linecolor": "white",
            "ticks": ""
           },
           "bgcolor": "#E5ECF6",
           "caxis": {
            "gridcolor": "white",
            "linecolor": "white",
            "ticks": ""
           }
          },
          "title": {
           "x": 0.05
          },
          "xaxis": {
           "automargin": true,
           "gridcolor": "white",
           "linecolor": "white",
           "ticks": "",
           "title": {
            "standoff": 15
           },
           "zerolinecolor": "white",
           "zerolinewidth": 2
          },
          "yaxis": {
           "automargin": true,
           "gridcolor": "white",
           "linecolor": "white",
           "ticks": "",
           "title": {
            "standoff": 15
           },
           "zerolinecolor": "white",
           "zerolinewidth": 2
          }
         }
        },
        "title": {
         "text": "Relationship between Log of cumulative cases and Log of cumulative pageviews"
        },
        "xaxis": {
         "anchor": "y",
         "domain": [
          0,
          1
         ],
         "title": {
          "text": "x2"
         }
        },
        "yaxis": {
         "anchor": "x",
         "domain": [
          0,
          1
         ],
         "title": {
          "text": "y"
         }
        }
       }
      }
     },
     "metadata": {},
     "output_type": "display_data"
    }
   ],
   "source": [
    "fig = px.scatter(data, x='x2', y=\"y\", hover_name= 'Country',trendline=\"ols\", title='Relationship between Log of cumulative cases and Log of cumulative pageviews')\n",
    "\n",
    "fig.update_layout(margin=dict(l=20, r=20, t=100, b=0))  \n",
    "fig.add_annotation(xref='paper',yref='paper',x=0, y=1.13,showarrow=False,text = \"    The x axis shows the log of the cumulative cases for 100k of population.\")\n",
    "fig.add_annotation(xref='paper',yref='paper',x=0, y=1.09,showarrow=False,text = \"    The y axis shows the log of the cumulative pageviews for 100k of population.\")\n",
    "fig.show()\n"
   ]
  },
  {
   "attachments": {},
   "cell_type": "markdown",
   "metadata": {},
   "source": [
    "### Cumul pageviews, cases and deaths during 1st wave beteween 2022-02-01 and 2022-07-01."
   ]
  },
  {
   "cell_type": "code",
   "execution_count": 125,
   "metadata": {},
   "outputs": [],
   "source": [
    "_, _, _, df_pageviews_cumul100k = get_pageviews_df(pageview_df, population_df, get_country_dict('original'), '2022-02-01', '2022-07-01')\n",
    "_, _, _, _, _, deaths100k_cumul, _, cases100k_cumul = get_cases_deaths_df(population_df, get_country_dict('original'), '2022-02-01', '2022-07-01')"
   ]
  },
  {
   "cell_type": "code",
   "execution_count": 126,
   "metadata": {},
   "outputs": [
    {
     "name": "stdout",
     "output_type": "stream",
     "text": [
      "Our model summary is:\n"
     ]
    },
    {
     "data": {
      "text/html": [
       "<table class=\"simpletable\">\n",
       "<caption>OLS Regression Results</caption>\n",
       "<tr>\n",
       "  <th>Dep. Variable:</th>            <td>y</td>        <th>  R-squared:         </th> <td>   0.271</td>\n",
       "</tr>\n",
       "<tr>\n",
       "  <th>Model:</th>                   <td>OLS</td>       <th>  Adj. R-squared:    </th> <td>   0.251</td>\n",
       "</tr>\n",
       "<tr>\n",
       "  <th>Method:</th>             <td>Least Squares</td>  <th>  F-statistic:       </th> <td>   13.04</td>\n",
       "</tr>\n",
       "<tr>\n",
       "  <th>Date:</th>             <td>Thu, 22 Dec 2022</td> <th>  Prob (F-statistic):</th> <td>0.000947</td>\n",
       "</tr>\n",
       "<tr>\n",
       "  <th>Time:</th>                 <td>14:20:13</td>     <th>  Log-Likelihood:    </th> <td> -51.947</td>\n",
       "</tr>\n",
       "<tr>\n",
       "  <th>No. Observations:</th>      <td>    37</td>      <th>  AIC:               </th> <td>   107.9</td>\n",
       "</tr>\n",
       "<tr>\n",
       "  <th>Df Residuals:</th>          <td>    35</td>      <th>  BIC:               </th> <td>   111.1</td>\n",
       "</tr>\n",
       "<tr>\n",
       "  <th>Df Model:</th>              <td>     1</td>      <th>                     </th>     <td> </td>   \n",
       "</tr>\n",
       "<tr>\n",
       "  <th>Covariance Type:</th>      <td>nonrobust</td>    <th>                     </th>     <td> </td>   \n",
       "</tr>\n",
       "</table>\n",
       "<table class=\"simpletable\">\n",
       "<tr>\n",
       "      <td></td>         <th>coef</th>     <th>std err</th>      <th>t</th>      <th>P>|t|</th>  <th>[0.025</th>    <th>0.975]</th>  \n",
       "</tr>\n",
       "<tr>\n",
       "  <th>Intercept</th> <td>    4.4250</td> <td>    0.314</td> <td>   14.081</td> <td> 0.000</td> <td>    3.787</td> <td>    5.063</td>\n",
       "</tr>\n",
       "<tr>\n",
       "  <th>x</th>         <td>    0.3696</td> <td>    0.102</td> <td>    3.611</td> <td> 0.001</td> <td>    0.162</td> <td>    0.577</td>\n",
       "</tr>\n",
       "</table>\n",
       "<table class=\"simpletable\">\n",
       "<tr>\n",
       "  <th>Omnibus:</th>       <td> 3.640</td> <th>  Durbin-Watson:     </th> <td>   2.142</td>\n",
       "</tr>\n",
       "<tr>\n",
       "  <th>Prob(Omnibus):</th> <td> 0.162</td> <th>  Jarque-Bera (JB):  </th> <td>   1.596</td>\n",
       "</tr>\n",
       "<tr>\n",
       "  <th>Skew:</th>          <td> 0.010</td> <th>  Prob(JB):          </th> <td>   0.450</td>\n",
       "</tr>\n",
       "<tr>\n",
       "  <th>Kurtosis:</th>      <td> 1.983</td> <th>  Cond. No.          </th> <td>    6.25</td>\n",
       "</tr>\n",
       "</table><br/><br/>Notes:<br/>[1] Standard Errors assume that the covariance matrix of the errors is correctly specified."
      ],
      "text/plain": [
       "<class 'statsmodels.iolib.summary.Summary'>\n",
       "\"\"\"\n",
       "                            OLS Regression Results                            \n",
       "==============================================================================\n",
       "Dep. Variable:                      y   R-squared:                       0.271\n",
       "Model:                            OLS   Adj. R-squared:                  0.251\n",
       "Method:                 Least Squares   F-statistic:                     13.04\n",
       "Date:                Thu, 22 Dec 2022   Prob (F-statistic):           0.000947\n",
       "Time:                        14:20:13   Log-Likelihood:                -51.947\n",
       "No. Observations:                  37   AIC:                             107.9\n",
       "Df Residuals:                      35   BIC:                             111.1\n",
       "Df Model:                           1                                         \n",
       "Covariance Type:            nonrobust                                         \n",
       "==============================================================================\n",
       "                 coef    std err          t      P>|t|      [0.025      0.975]\n",
       "------------------------------------------------------------------------------\n",
       "Intercept      4.4250      0.314     14.081      0.000       3.787       5.063\n",
       "x              0.3696      0.102      3.611      0.001       0.162       0.577\n",
       "==============================================================================\n",
       "Omnibus:                        3.640   Durbin-Watson:                   2.142\n",
       "Prob(Omnibus):                  0.162   Jarque-Bera (JB):                1.596\n",
       "Skew:                           0.010   Prob(JB):                        0.450\n",
       "Kurtosis:                       1.983   Cond. No.                         6.25\n",
       "==============================================================================\n",
       "\n",
       "Notes:\n",
       "[1] Standard Errors assume that the covariance matrix of the errors is correctly specified.\n",
       "\"\"\""
      ]
     },
     "execution_count": 126,
     "metadata": {},
     "output_type": "execute_result"
    }
   ],
   "source": [
    "data = pd.DataFrame()\n",
    "data['y'] = np.log(df_pageviews_cumul100k.max().transpose().replace(0, np.nan))\n",
    "data['x2'] = np.log(cases100k_cumul.max().transpose().replace(0, np.nan))\n",
    "data['x'] = np.log(deaths100k_cumul.max().transpose().replace(0, np.nan))\n",
    "data = data.dropna()\n",
    "data = data.rename(index= {v: k for k, v in get_country_dict('original').items()}).reset_index().rename(columns = {'index': 'Country'})\n",
    "\n",
    "#We apply a linear regression using as estimates OLS\n",
    "model = smf.ols('y ~ x', data=data).fit()\n",
    "\n",
    "results = model.summary()\n",
    "\n",
    "#Show the results of the linear regression\n",
    "print(\"Our model summary is:\")\n",
    "results"
   ]
  },
  {
   "cell_type": "code",
   "execution_count": 127,
   "metadata": {},
   "outputs": [
    {
     "data": {
      "application/vnd.plotly.v1+json": {
       "config": {
        "plotlyServerURL": "https://plot.ly"
       },
       "data": [
        {
         "hovertemplate": "<b>%{hovertext}</b><br><br>x=%{x}<br>y=%{y}<extra></extra>",
         "hovertext": [
          "Italy",
          "Russia",
          "China",
          "Albania",
          "Bangladesh",
          "Botswana",
          "Cambodia",
          "Croatia",
          "Greece",
          "Sweden",
          "Finland",
          "Norway",
          "Malaysia",
          "Israel",
          "Lithuania",
          "Serbia",
          "Slovakia",
          "Slovenia",
          "Turkey",
          "Vietnam",
          "Bulgaria",
          "Czechia",
          "Denmark",
          "Georgia",
          "Germany",
          "Hungary",
          "Iceland",
          "Japan",
          "Kazakhstan",
          "South Korea",
          "Kyrgyzstan",
          "Netherlands",
          "Poland",
          "Romania",
          "Thailand",
          "Azerbaijan",
          "Mongolia"
         ],
         "legendgroup": "",
         "marker": {
          "color": "#636efa",
          "symbol": "circle"
         },
         "mode": "markers",
         "name": "",
         "orientation": "v",
         "showlegend": false,
         "type": "scatter",
         "x": [
          3.6044722474639994,
          3.5211850041245136,
          -3.1249904360186234,
          1.6913211385806866,
          -0.7799285161914284,
          1.9722070433798702,
          -1.4055570889902405,
          4.012608918400785,
          4.141746759581978,
          3.452335288918262,
          3.8886870888238767,
          3.3866278324261763,
          2.4596359076062972,
          3.1652558369967165,
          3.8304698528112753,
          3.58886546037208,
          3.7482094999267317,
          3.6200100382303293,
          2.622708458179918,
          1.6965665741646963,
          4.039150187435666,
          3.3694277825528105,
          3.840335952704035,
          3.91183065423511,
          3.3565966659374253,
          3.9845907239450375,
          3.045078046590902,
          2.2898239313018958,
          1.0003297392904338,
          3.5353236314918064,
          0.5229255606649359,
          1.8524779578599133,
          3.3888323812097054,
          3.390187855995822,
          2.5154760040586215,
          2.276169924461374,
          0.9168115992093134
         ],
         "xaxis": "x",
         "y": [
          5.988258766242144,
          6.471736542181867,
          5.094470781544285,
          6.385049124277816,
          2.4675669443916797,
          5.837721303890111,
          3.0298947123572217,
          5.719791286427448,
          5.9424039398624,
          5.2321959614885465,
          6.831468388166923,
          4.478194505955709,
          5.601835414466063,
          5.911745531040549,
          6.35694356110532,
          4.048250233388993,
          5.972634732495206,
          6.662163885978761,
          5.6205734421154,
          5.5066965751903565,
          4.924958144489962,
          6.7602682963570695,
          5.05741337737829,
          5.63233015653652,
          7.415353861695576,
          5.21659131983929,
          6.517689608429019,
          6.112076334556713,
          3.5718936728833817,
          4.903316234735909,
          3.7817148593653185,
          6.689080984880944,
          6.577232474234917,
          4.870096556893869,
          3.6692762625793813,
          4.7973715519231055,
          3.673264742791703
         ],
         "yaxis": "y"
        },
        {
         "hovertemplate": "<b>OLS trendline</b><br>y = 0.369616 * x + 4.42501<br>R<sup>2</sup>=0.271402<br><br>x=%{x}<br>y=%{y} <b>(trend)</b><extra></extra>",
         "legendgroup": "",
         "marker": {
          "color": "#636efa",
          "symbol": "circle"
         },
         "mode": "lines",
         "name": "",
         "showlegend": false,
         "type": "scatter",
         "x": [
          -3.1249904360186234,
          -1.4055570889902405,
          -0.7799285161914284,
          0.5229255606649359,
          0.9168115992093134,
          1.0003297392904338,
          1.6913211385806866,
          1.6965665741646963,
          1.8524779578599133,
          1.9722070433798702,
          2.276169924461374,
          2.2898239313018958,
          2.4596359076062972,
          2.5154760040586215,
          2.622708458179918,
          3.045078046590902,
          3.1652558369967165,
          3.3565966659374253,
          3.3694277825528105,
          3.3866278324261763,
          3.3888323812097054,
          3.390187855995822,
          3.452335288918262,
          3.5211850041245136,
          3.5353236314918064,
          3.58886546037208,
          3.6044722474639994,
          3.6200100382303293,
          3.7482094999267317,
          3.8304698528112753,
          3.840335952704035,
          3.8886870888238767,
          3.91183065423511,
          3.9845907239450375,
          4.012608918400785,
          4.039150187435666,
          4.141746759581978
         ],
         "xaxis": "x",
         "y": [
          3.2699589884252833,
          3.9054892602111893,
          4.13673166201468,
          4.618287522841097,
          4.7638741497152415,
          4.794743800089616,
          5.050145355812386,
          5.052084153328499,
          5.10971151307791,
          5.153965312384921,
          5.266314891250781,
          5.2713616321979195,
          5.3341268749680175,
          5.3547662744168125,
          5.394401117389793,
          5.550515723274835,
          5.594935371138031,
          5.665658024755625,
          5.670400612215607,
          5.676758027808159,
          5.677572864562363,
          5.678073869885255,
          5.701044562528999,
          5.726492526704542,
          5.731718391207487,
          5.751508313927668,
          5.757276833922569,
          5.763019851763734,
          5.810404438596094,
          5.840809190554795,
          5.844455860056204,
          5.862327219089985,
          5.870881453798365,
          5.897774748009407,
          5.908130724161775,
          5.917940804879607,
          5.955862151172638
         ],
         "yaxis": "y"
        }
       ],
       "layout": {
        "annotations": [
         {
          "showarrow": false,
          "text": "    The x axis shows the log of the cumulative deaths for 100k of population.",
          "x": 0,
          "xref": "paper",
          "y": 1.13,
          "yref": "paper"
         },
         {
          "showarrow": false,
          "text": "    The y axis shows the log of the cumulative pageviews for 100k of population.",
          "x": 0,
          "xref": "paper",
          "y": 1.09,
          "yref": "paper"
         }
        ],
        "legend": {
         "tracegroupgap": 0
        },
        "margin": {
         "b": 0,
         "l": 20,
         "r": 20,
         "t": 100
        },
        "template": {
         "data": {
          "bar": [
           {
            "error_x": {
             "color": "#2a3f5f"
            },
            "error_y": {
             "color": "#2a3f5f"
            },
            "marker": {
             "line": {
              "color": "#E5ECF6",
              "width": 0.5
             },
             "pattern": {
              "fillmode": "overlay",
              "size": 10,
              "solidity": 0.2
             }
            },
            "type": "bar"
           }
          ],
          "barpolar": [
           {
            "marker": {
             "line": {
              "color": "#E5ECF6",
              "width": 0.5
             },
             "pattern": {
              "fillmode": "overlay",
              "size": 10,
              "solidity": 0.2
             }
            },
            "type": "barpolar"
           }
          ],
          "carpet": [
           {
            "aaxis": {
             "endlinecolor": "#2a3f5f",
             "gridcolor": "white",
             "linecolor": "white",
             "minorgridcolor": "white",
             "startlinecolor": "#2a3f5f"
            },
            "baxis": {
             "endlinecolor": "#2a3f5f",
             "gridcolor": "white",
             "linecolor": "white",
             "minorgridcolor": "white",
             "startlinecolor": "#2a3f5f"
            },
            "type": "carpet"
           }
          ],
          "choropleth": [
           {
            "colorbar": {
             "outlinewidth": 0,
             "ticks": ""
            },
            "type": "choropleth"
           }
          ],
          "contour": [
           {
            "colorbar": {
             "outlinewidth": 0,
             "ticks": ""
            },
            "colorscale": [
             [
              0,
              "#0d0887"
             ],
             [
              0.1111111111111111,
              "#46039f"
             ],
             [
              0.2222222222222222,
              "#7201a8"
             ],
             [
              0.3333333333333333,
              "#9c179e"
             ],
             [
              0.4444444444444444,
              "#bd3786"
             ],
             [
              0.5555555555555556,
              "#d8576b"
             ],
             [
              0.6666666666666666,
              "#ed7953"
             ],
             [
              0.7777777777777778,
              "#fb9f3a"
             ],
             [
              0.8888888888888888,
              "#fdca26"
             ],
             [
              1,
              "#f0f921"
             ]
            ],
            "type": "contour"
           }
          ],
          "contourcarpet": [
           {
            "colorbar": {
             "outlinewidth": 0,
             "ticks": ""
            },
            "type": "contourcarpet"
           }
          ],
          "heatmap": [
           {
            "colorbar": {
             "outlinewidth": 0,
             "ticks": ""
            },
            "colorscale": [
             [
              0,
              "#0d0887"
             ],
             [
              0.1111111111111111,
              "#46039f"
             ],
             [
              0.2222222222222222,
              "#7201a8"
             ],
             [
              0.3333333333333333,
              "#9c179e"
             ],
             [
              0.4444444444444444,
              "#bd3786"
             ],
             [
              0.5555555555555556,
              "#d8576b"
             ],
             [
              0.6666666666666666,
              "#ed7953"
             ],
             [
              0.7777777777777778,
              "#fb9f3a"
             ],
             [
              0.8888888888888888,
              "#fdca26"
             ],
             [
              1,
              "#f0f921"
             ]
            ],
            "type": "heatmap"
           }
          ],
          "heatmapgl": [
           {
            "colorbar": {
             "outlinewidth": 0,
             "ticks": ""
            },
            "colorscale": [
             [
              0,
              "#0d0887"
             ],
             [
              0.1111111111111111,
              "#46039f"
             ],
             [
              0.2222222222222222,
              "#7201a8"
             ],
             [
              0.3333333333333333,
              "#9c179e"
             ],
             [
              0.4444444444444444,
              "#bd3786"
             ],
             [
              0.5555555555555556,
              "#d8576b"
             ],
             [
              0.6666666666666666,
              "#ed7953"
             ],
             [
              0.7777777777777778,
              "#fb9f3a"
             ],
             [
              0.8888888888888888,
              "#fdca26"
             ],
             [
              1,
              "#f0f921"
             ]
            ],
            "type": "heatmapgl"
           }
          ],
          "histogram": [
           {
            "marker": {
             "pattern": {
              "fillmode": "overlay",
              "size": 10,
              "solidity": 0.2
             }
            },
            "type": "histogram"
           }
          ],
          "histogram2d": [
           {
            "colorbar": {
             "outlinewidth": 0,
             "ticks": ""
            },
            "colorscale": [
             [
              0,
              "#0d0887"
             ],
             [
              0.1111111111111111,
              "#46039f"
             ],
             [
              0.2222222222222222,
              "#7201a8"
             ],
             [
              0.3333333333333333,
              "#9c179e"
             ],
             [
              0.4444444444444444,
              "#bd3786"
             ],
             [
              0.5555555555555556,
              "#d8576b"
             ],
             [
              0.6666666666666666,
              "#ed7953"
             ],
             [
              0.7777777777777778,
              "#fb9f3a"
             ],
             [
              0.8888888888888888,
              "#fdca26"
             ],
             [
              1,
              "#f0f921"
             ]
            ],
            "type": "histogram2d"
           }
          ],
          "histogram2dcontour": [
           {
            "colorbar": {
             "outlinewidth": 0,
             "ticks": ""
            },
            "colorscale": [
             [
              0,
              "#0d0887"
             ],
             [
              0.1111111111111111,
              "#46039f"
             ],
             [
              0.2222222222222222,
              "#7201a8"
             ],
             [
              0.3333333333333333,
              "#9c179e"
             ],
             [
              0.4444444444444444,
              "#bd3786"
             ],
             [
              0.5555555555555556,
              "#d8576b"
             ],
             [
              0.6666666666666666,
              "#ed7953"
             ],
             [
              0.7777777777777778,
              "#fb9f3a"
             ],
             [
              0.8888888888888888,
              "#fdca26"
             ],
             [
              1,
              "#f0f921"
             ]
            ],
            "type": "histogram2dcontour"
           }
          ],
          "mesh3d": [
           {
            "colorbar": {
             "outlinewidth": 0,
             "ticks": ""
            },
            "type": "mesh3d"
           }
          ],
          "parcoords": [
           {
            "line": {
             "colorbar": {
              "outlinewidth": 0,
              "ticks": ""
             }
            },
            "type": "parcoords"
           }
          ],
          "pie": [
           {
            "automargin": true,
            "type": "pie"
           }
          ],
          "scatter": [
           {
            "fillpattern": {
             "fillmode": "overlay",
             "size": 10,
             "solidity": 0.2
            },
            "type": "scatter"
           }
          ],
          "scatter3d": [
           {
            "line": {
             "colorbar": {
              "outlinewidth": 0,
              "ticks": ""
             }
            },
            "marker": {
             "colorbar": {
              "outlinewidth": 0,
              "ticks": ""
             }
            },
            "type": "scatter3d"
           }
          ],
          "scattercarpet": [
           {
            "marker": {
             "colorbar": {
              "outlinewidth": 0,
              "ticks": ""
             }
            },
            "type": "scattercarpet"
           }
          ],
          "scattergeo": [
           {
            "marker": {
             "colorbar": {
              "outlinewidth": 0,
              "ticks": ""
             }
            },
            "type": "scattergeo"
           }
          ],
          "scattergl": [
           {
            "marker": {
             "colorbar": {
              "outlinewidth": 0,
              "ticks": ""
             }
            },
            "type": "scattergl"
           }
          ],
          "scattermapbox": [
           {
            "marker": {
             "colorbar": {
              "outlinewidth": 0,
              "ticks": ""
             }
            },
            "type": "scattermapbox"
           }
          ],
          "scatterpolar": [
           {
            "marker": {
             "colorbar": {
              "outlinewidth": 0,
              "ticks": ""
             }
            },
            "type": "scatterpolar"
           }
          ],
          "scatterpolargl": [
           {
            "marker": {
             "colorbar": {
              "outlinewidth": 0,
              "ticks": ""
             }
            },
            "type": "scatterpolargl"
           }
          ],
          "scatterternary": [
           {
            "marker": {
             "colorbar": {
              "outlinewidth": 0,
              "ticks": ""
             }
            },
            "type": "scatterternary"
           }
          ],
          "surface": [
           {
            "colorbar": {
             "outlinewidth": 0,
             "ticks": ""
            },
            "colorscale": [
             [
              0,
              "#0d0887"
             ],
             [
              0.1111111111111111,
              "#46039f"
             ],
             [
              0.2222222222222222,
              "#7201a8"
             ],
             [
              0.3333333333333333,
              "#9c179e"
             ],
             [
              0.4444444444444444,
              "#bd3786"
             ],
             [
              0.5555555555555556,
              "#d8576b"
             ],
             [
              0.6666666666666666,
              "#ed7953"
             ],
             [
              0.7777777777777778,
              "#fb9f3a"
             ],
             [
              0.8888888888888888,
              "#fdca26"
             ],
             [
              1,
              "#f0f921"
             ]
            ],
            "type": "surface"
           }
          ],
          "table": [
           {
            "cells": {
             "fill": {
              "color": "#EBF0F8"
             },
             "line": {
              "color": "white"
             }
            },
            "header": {
             "fill": {
              "color": "#C8D4E3"
             },
             "line": {
              "color": "white"
             }
            },
            "type": "table"
           }
          ]
         },
         "layout": {
          "annotationdefaults": {
           "arrowcolor": "#2a3f5f",
           "arrowhead": 0,
           "arrowwidth": 1
          },
          "autotypenumbers": "strict",
          "coloraxis": {
           "colorbar": {
            "outlinewidth": 0,
            "ticks": ""
           }
          },
          "colorscale": {
           "diverging": [
            [
             0,
             "#8e0152"
            ],
            [
             0.1,
             "#c51b7d"
            ],
            [
             0.2,
             "#de77ae"
            ],
            [
             0.3,
             "#f1b6da"
            ],
            [
             0.4,
             "#fde0ef"
            ],
            [
             0.5,
             "#f7f7f7"
            ],
            [
             0.6,
             "#e6f5d0"
            ],
            [
             0.7,
             "#b8e186"
            ],
            [
             0.8,
             "#7fbc41"
            ],
            [
             0.9,
             "#4d9221"
            ],
            [
             1,
             "#276419"
            ]
           ],
           "sequential": [
            [
             0,
             "#0d0887"
            ],
            [
             0.1111111111111111,
             "#46039f"
            ],
            [
             0.2222222222222222,
             "#7201a8"
            ],
            [
             0.3333333333333333,
             "#9c179e"
            ],
            [
             0.4444444444444444,
             "#bd3786"
            ],
            [
             0.5555555555555556,
             "#d8576b"
            ],
            [
             0.6666666666666666,
             "#ed7953"
            ],
            [
             0.7777777777777778,
             "#fb9f3a"
            ],
            [
             0.8888888888888888,
             "#fdca26"
            ],
            [
             1,
             "#f0f921"
            ]
           ],
           "sequentialminus": [
            [
             0,
             "#0d0887"
            ],
            [
             0.1111111111111111,
             "#46039f"
            ],
            [
             0.2222222222222222,
             "#7201a8"
            ],
            [
             0.3333333333333333,
             "#9c179e"
            ],
            [
             0.4444444444444444,
             "#bd3786"
            ],
            [
             0.5555555555555556,
             "#d8576b"
            ],
            [
             0.6666666666666666,
             "#ed7953"
            ],
            [
             0.7777777777777778,
             "#fb9f3a"
            ],
            [
             0.8888888888888888,
             "#fdca26"
            ],
            [
             1,
             "#f0f921"
            ]
           ]
          },
          "colorway": [
           "#636efa",
           "#EF553B",
           "#00cc96",
           "#ab63fa",
           "#FFA15A",
           "#19d3f3",
           "#FF6692",
           "#B6E880",
           "#FF97FF",
           "#FECB52"
          ],
          "font": {
           "color": "#2a3f5f"
          },
          "geo": {
           "bgcolor": "white",
           "lakecolor": "white",
           "landcolor": "#E5ECF6",
           "showlakes": true,
           "showland": true,
           "subunitcolor": "white"
          },
          "hoverlabel": {
           "align": "left"
          },
          "hovermode": "closest",
          "mapbox": {
           "style": "light"
          },
          "paper_bgcolor": "white",
          "plot_bgcolor": "#E5ECF6",
          "polar": {
           "angularaxis": {
            "gridcolor": "white",
            "linecolor": "white",
            "ticks": ""
           },
           "bgcolor": "#E5ECF6",
           "radialaxis": {
            "gridcolor": "white",
            "linecolor": "white",
            "ticks": ""
           }
          },
          "scene": {
           "xaxis": {
            "backgroundcolor": "#E5ECF6",
            "gridcolor": "white",
            "gridwidth": 2,
            "linecolor": "white",
            "showbackground": true,
            "ticks": "",
            "zerolinecolor": "white"
           },
           "yaxis": {
            "backgroundcolor": "#E5ECF6",
            "gridcolor": "white",
            "gridwidth": 2,
            "linecolor": "white",
            "showbackground": true,
            "ticks": "",
            "zerolinecolor": "white"
           },
           "zaxis": {
            "backgroundcolor": "#E5ECF6",
            "gridcolor": "white",
            "gridwidth": 2,
            "linecolor": "white",
            "showbackground": true,
            "ticks": "",
            "zerolinecolor": "white"
           }
          },
          "shapedefaults": {
           "line": {
            "color": "#2a3f5f"
           }
          },
          "ternary": {
           "aaxis": {
            "gridcolor": "white",
            "linecolor": "white",
            "ticks": ""
           },
           "baxis": {
            "gridcolor": "white",
            "linecolor": "white",
            "ticks": ""
           },
           "bgcolor": "#E5ECF6",
           "caxis": {
            "gridcolor": "white",
            "linecolor": "white",
            "ticks": ""
           }
          },
          "title": {
           "x": 0.05
          },
          "xaxis": {
           "automargin": true,
           "gridcolor": "white",
           "linecolor": "white",
           "ticks": "",
           "title": {
            "standoff": 15
           },
           "zerolinecolor": "white",
           "zerolinewidth": 2
          },
          "yaxis": {
           "automargin": true,
           "gridcolor": "white",
           "linecolor": "white",
           "ticks": "",
           "title": {
            "standoff": 15
           },
           "zerolinecolor": "white",
           "zerolinewidth": 2
          }
         }
        },
        "title": {
         "text": "Relationship between Log of cumulative deaths and Log of cumulative pageviews"
        },
        "xaxis": {
         "anchor": "y",
         "domain": [
          0,
          1
         ],
         "title": {
          "text": "x"
         }
        },
        "yaxis": {
         "anchor": "x",
         "domain": [
          0,
          1
         ],
         "title": {
          "text": "y"
         }
        }
       }
      }
     },
     "metadata": {},
     "output_type": "display_data"
    }
   ],
   "source": [
    "fig = px.scatter(data, x='x', y=\"y\", hover_name= 'Country',trendline=\"ols\", title='Relationship between Log of cumulative deaths and Log of cumulative pageviews')\n",
    "\n",
    "fig.update_layout(margin=dict(l=20, r=20, t=100, b=0))  \n",
    "fig.add_annotation(xref='paper',yref='paper',x=0, y=1.13,showarrow=False,text = \"    The x axis shows the log of the cumulative deaths for 100k of population.\")\n",
    "fig.add_annotation(xref='paper',yref='paper',x=0, y=1.09,showarrow=False,text = \"    The y axis shows the log of the cumulative pageviews for 100k of population.\")\n",
    "fig.show()"
   ]
  },
  {
   "cell_type": "code",
   "execution_count": 128,
   "metadata": {},
   "outputs": [
    {
     "name": "stdout",
     "output_type": "stream",
     "text": [
      "Our model summary is:\n"
     ]
    },
    {
     "data": {
      "text/html": [
       "<table class=\"simpletable\">\n",
       "<caption>OLS Regression Results</caption>\n",
       "<tr>\n",
       "  <th>Dep. Variable:</th>            <td>y</td>        <th>  R-squared:         </th> <td>   0.405</td>\n",
       "</tr>\n",
       "<tr>\n",
       "  <th>Model:</th>                   <td>OLS</td>       <th>  Adj. R-squared:    </th> <td>   0.388</td>\n",
       "</tr>\n",
       "<tr>\n",
       "  <th>Method:</th>             <td>Least Squares</td>  <th>  F-statistic:       </th> <td>   23.86</td>\n",
       "</tr>\n",
       "<tr>\n",
       "  <th>Date:</th>             <td>Thu, 22 Dec 2022</td> <th>  Prob (F-statistic):</th> <td>2.27e-05</td>\n",
       "</tr>\n",
       "<tr>\n",
       "  <th>Time:</th>                 <td>14:20:13</td>     <th>  Log-Likelihood:    </th> <td> -48.188</td>\n",
       "</tr>\n",
       "<tr>\n",
       "  <th>No. Observations:</th>      <td>    37</td>      <th>  AIC:               </th> <td>   100.4</td>\n",
       "</tr>\n",
       "<tr>\n",
       "  <th>Df Residuals:</th>          <td>    35</td>      <th>  BIC:               </th> <td>   103.6</td>\n",
       "</tr>\n",
       "<tr>\n",
       "  <th>Df Model:</th>              <td>     1</td>      <th>                     </th>     <td> </td>   \n",
       "</tr>\n",
       "<tr>\n",
       "  <th>Covariance Type:</th>      <td>nonrobust</td>    <th>                     </th>     <td> </td>   \n",
       "</tr>\n",
       "</table>\n",
       "<table class=\"simpletable\">\n",
       "<tr>\n",
       "      <td></td>         <th>coef</th>     <th>std err</th>      <th>t</th>      <th>P>|t|</th>  <th>[0.025</th>    <th>0.975]</th>  \n",
       "</tr>\n",
       "<tr>\n",
       "  <th>Intercept</th> <td>    1.8711</td> <td>    0.735</td> <td>    2.544</td> <td> 0.016</td> <td>    0.378</td> <td>    3.364</td>\n",
       "</tr>\n",
       "<tr>\n",
       "  <th>x2</th>        <td>    0.4225</td> <td>    0.086</td> <td>    4.885</td> <td> 0.000</td> <td>    0.247</td> <td>    0.598</td>\n",
       "</tr>\n",
       "</table>\n",
       "<table class=\"simpletable\">\n",
       "<tr>\n",
       "  <th>Omnibus:</th>       <td> 1.090</td> <th>  Durbin-Watson:     </th> <td>   2.013</td>\n",
       "</tr>\n",
       "<tr>\n",
       "  <th>Prob(Omnibus):</th> <td> 0.580</td> <th>  Jarque-Bera (JB):  </th> <td>   0.925</td>\n",
       "</tr>\n",
       "<tr>\n",
       "  <th>Skew:</th>          <td>-0.128</td> <th>  Prob(JB):          </th> <td>   0.630</td>\n",
       "</tr>\n",
       "<tr>\n",
       "  <th>Kurtosis:</th>      <td> 2.269</td> <th>  Cond. No.          </th> <td>    42.1</td>\n",
       "</tr>\n",
       "</table><br/><br/>Notes:<br/>[1] Standard Errors assume that the covariance matrix of the errors is correctly specified."
      ],
      "text/plain": [
       "<class 'statsmodels.iolib.summary.Summary'>\n",
       "\"\"\"\n",
       "                            OLS Regression Results                            \n",
       "==============================================================================\n",
       "Dep. Variable:                      y   R-squared:                       0.405\n",
       "Model:                            OLS   Adj. R-squared:                  0.388\n",
       "Method:                 Least Squares   F-statistic:                     23.86\n",
       "Date:                Thu, 22 Dec 2022   Prob (F-statistic):           2.27e-05\n",
       "Time:                        14:20:13   Log-Likelihood:                -48.188\n",
       "No. Observations:                  37   AIC:                             100.4\n",
       "Df Residuals:                      35   BIC:                             103.6\n",
       "Df Model:                           1                                         \n",
       "Covariance Type:            nonrobust                                         \n",
       "==============================================================================\n",
       "                 coef    std err          t      P>|t|      [0.025      0.975]\n",
       "------------------------------------------------------------------------------\n",
       "Intercept      1.8711      0.735      2.544      0.016       0.378       3.364\n",
       "x2             0.4225      0.086      4.885      0.000       0.247       0.598\n",
       "==============================================================================\n",
       "Omnibus:                        1.090   Durbin-Watson:                   2.013\n",
       "Prob(Omnibus):                  0.580   Jarque-Bera (JB):                0.925\n",
       "Skew:                          -0.128   Prob(JB):                        0.630\n",
       "Kurtosis:                       2.269   Cond. No.                         42.1\n",
       "==============================================================================\n",
       "\n",
       "Notes:\n",
       "[1] Standard Errors assume that the covariance matrix of the errors is correctly specified.\n",
       "\"\"\""
      ]
     },
     "execution_count": 128,
     "metadata": {},
     "output_type": "execute_result"
    }
   ],
   "source": [
    "model = smf.ols('y ~ x2', data=data).fit()\n",
    "\n",
    "results = model.summary()\n",
    "\n",
    "#Show the results of the linear regression\n",
    "print(\"Our model summary is:\")\n",
    "results"
   ]
  },
  {
   "cell_type": "code",
   "execution_count": 129,
   "metadata": {},
   "outputs": [],
   "source": [
    "from statsmodels.regression.rolling import RollingOLS\n",
    "import statsmodels.api as sm\n",
    "\n",
    "_, _, df_pageviews_100k, df_pageviews_cumul100k = get_pageviews_df(pageview_df, population_df, get_country_dict('original'), '2020-01-22', '2022-07-01')\n",
    "_, _, _, _, deaths100k, deaths100k_cumul, cases100k, cases100k_cumul = get_cases_deaths_df(population_df, get_country_dict('original'), '2020-01-22', '2022-07-01')"
   ]
  },
  {
   "cell_type": "code",
   "execution_count": 130,
   "metadata": {},
   "outputs": [],
   "source": [
    "data = pd.DataFrame()\n",
    "deaths100k = deaths100k.rename(columns= {v: k for k, v in get_country_dict('original').items()}).reset_index().rename(columns = {'index': 'Country'})\n",
    "deaths100k = deaths100k.drop('date', axis= 1)\n",
    "df_pageviews_100k = df_pageviews_100k.rename(columns= {v: k for k, v in get_country_dict('original').items()}).reset_index().rename(columns = {'index': 'Country'})\n",
    "df_pageviews_100k = df_pageviews_100k.drop('date', axis= 1)\n",
    "\n",
    "df_pageviews_100k_rollingcumul = df_pageviews_100k.rolling(60, min_periods=1).sum()\n",
    "df_pageviews_100k_rollingcumul = df_pageviews_100k_rollingcumul.loc[df_pageviews_100k_rollingcumul.index % 60 == 59]\n",
    "df_pageviews_100k_rollingcumul = df_pageviews_100k_rollingcumul.reset_index().drop('index', axis= 1)\n",
    "\n",
    "deaths100k_rollingcumul = deaths100k.rolling(60, min_periods=1).sum()\n",
    "deaths100k_rollingcumul = deaths100k_rollingcumul.loc[deaths100k_rollingcumul.index % 60 == 59]\n",
    "deaths100k_rollingcumul = deaths100k_rollingcumul.reset_index().drop('index', axis= 1)"
   ]
  },
  {
   "cell_type": "code",
   "execution_count": 131,
   "metadata": {},
   "outputs": [
    {
     "data": {
      "text/html": [
       "<div>\n",
       "<style scoped>\n",
       "    .dataframe tbody tr th:only-of-type {\n",
       "        vertical-align: middle;\n",
       "    }\n",
       "\n",
       "    .dataframe tbody tr th {\n",
       "        vertical-align: top;\n",
       "    }\n",
       "\n",
       "    .dataframe thead th {\n",
       "        text-align: right;\n",
       "    }\n",
       "</style>\n",
       "<table border=\"1\" class=\"dataframe\">\n",
       "  <thead>\n",
       "    <tr style=\"text-align: right;\">\n",
       "      <th></th>\n",
       "      <th>country</th>\n",
       "      <th>Log of Pageviews</th>\n",
       "      <th>Log of Deaths</th>\n",
       "      <th>i</th>\n",
       "      <th>Date</th>\n",
       "    </tr>\n",
       "  </thead>\n",
       "  <tbody>\n",
       "    <tr>\n",
       "      <th>0</th>\n",
       "      <td>Italy</td>\n",
       "      <td>8.893485</td>\n",
       "      <td>2.095085</td>\n",
       "      <td>0</td>\n",
       "      <td>2020-03-21</td>\n",
       "    </tr>\n",
       "    <tr>\n",
       "      <th>1</th>\n",
       "      <td>Russia</td>\n",
       "      <td>8.812605</td>\n",
       "      <td>-4.538064</td>\n",
       "      <td>0</td>\n",
       "      <td>2020-03-21</td>\n",
       "    </tr>\n",
       "    <tr>\n",
       "      <th>2</th>\n",
       "      <td>China</td>\n",
       "      <td>6.335957</td>\n",
       "      <td>-1.428455</td>\n",
       "      <td>0</td>\n",
       "      <td>2020-03-21</td>\n",
       "    </tr>\n",
       "    <tr>\n",
       "      <th>3</th>\n",
       "      <td>Albania</td>\n",
       "      <td>4.759460</td>\n",
       "      <td>-2.519797</td>\n",
       "      <td>0</td>\n",
       "      <td>2020-03-21</td>\n",
       "    </tr>\n",
       "    <tr>\n",
       "      <th>4</th>\n",
       "      <td>Bangladesh</td>\n",
       "      <td>2.609923</td>\n",
       "      <td>-4.490556</td>\n",
       "      <td>0</td>\n",
       "      <td>2020-03-21</td>\n",
       "    </tr>\n",
       "    <tr>\n",
       "      <th>...</th>\n",
       "      <td>...</td>\n",
       "      <td>...</td>\n",
       "      <td>...</td>\n",
       "      <td>...</td>\n",
       "      <td>...</td>\n",
       "    </tr>\n",
       "    <tr>\n",
       "      <th>527</th>\n",
       "      <td>Romania</td>\n",
       "      <td>3.854435</td>\n",
       "      <td>1.914946</td>\n",
       "      <td>13</td>\n",
       "      <td>2022-04-27</td>\n",
       "    </tr>\n",
       "    <tr>\n",
       "      <th>528</th>\n",
       "      <td>Tajikistan</td>\n",
       "      <td>1.268032</td>\n",
       "      <td>-4.605170</td>\n",
       "      <td>13</td>\n",
       "      <td>2022-04-27</td>\n",
       "    </tr>\n",
       "    <tr>\n",
       "      <th>529</th>\n",
       "      <td>Thailand</td>\n",
       "      <td>2.946923</td>\n",
       "      <td>2.087287</td>\n",
       "      <td>13</td>\n",
       "      <td>2022-04-27</td>\n",
       "    </tr>\n",
       "    <tr>\n",
       "      <th>530</th>\n",
       "      <td>Azerbaijan</td>\n",
       "      <td>4.123657</td>\n",
       "      <td>0.181428</td>\n",
       "      <td>13</td>\n",
       "      <td>2022-04-27</td>\n",
       "    </tr>\n",
       "    <tr>\n",
       "      <th>531</th>\n",
       "      <td>Mongolia</td>\n",
       "      <td>3.037067</td>\n",
       "      <td>-1.644950</td>\n",
       "      <td>13</td>\n",
       "      <td>2022-04-27</td>\n",
       "    </tr>\n",
       "  </tbody>\n",
       "</table>\n",
       "<p>532 rows × 5 columns</p>\n",
       "</div>"
      ],
      "text/plain": [
       "        country  Log of Pageviews  Log of Deaths   i        Date\n",
       "0         Italy          8.893485       2.095085   0  2020-03-21\n",
       "1        Russia          8.812605      -4.538064   0  2020-03-21\n",
       "2         China          6.335957      -1.428455   0  2020-03-21\n",
       "3       Albania          4.759460      -2.519797   0  2020-03-21\n",
       "4    Bangladesh          2.609923      -4.490556   0  2020-03-21\n",
       "..          ...               ...            ...  ..         ...\n",
       "527     Romania          3.854435       1.914946  13  2022-04-27\n",
       "528  Tajikistan          1.268032      -4.605170  13  2022-04-27\n",
       "529    Thailand          2.946923       2.087287  13  2022-04-27\n",
       "530  Azerbaijan          4.123657       0.181428  13  2022-04-27\n",
       "531    Mongolia          3.037067      -1.644950  13  2022-04-27\n",
       "\n",
       "[532 rows x 5 columns]"
      ]
     },
     "execution_count": 131,
     "metadata": {},
     "output_type": "execute_result"
    }
   ],
   "source": [
    "data = pd.DataFrame()\n",
    "data_tmp = pd.DataFrame()\n",
    "for i in df_pageviews_100k_rollingcumul.index.values:\n",
    "    if i == 0:\n",
    "        data['Log of Pageviews'] = np.log(df_pageviews_100k_rollingcumul.transpose()[i] + 0.01)\n",
    "        data['Log of Deaths'] = np.log(deaths100k_rollingcumul.transpose()[i] + 0.01)\n",
    "        data['i'] = i\n",
    "    else:\n",
    "        data_tmp ['Log of Pageviews'] = np.log(df_pageviews_100k_rollingcumul.transpose()[i] + 0.01)\n",
    "        data_tmp ['Log of Deaths'] = np.log(deaths100k_rollingcumul.transpose()[i] + 0.01)\n",
    "        data_tmp ['i'] = i\n",
    "        data = pd.concat([data, data_tmp], axis= 0)\n",
    "\n",
    "data = data.reset_index().rename(columns= {'index' : 'country'}).dropna()\n",
    "data['Date'] = data['i'].apply(lambda x:pd.to_datetime('2020-01-22') + datetime.timedelta(days= x * 59 + 59))\n",
    "data['Date'] = data['Date'].astype(str)\n",
    "data\n"
   ]
  },
  {
   "cell_type": "code",
   "execution_count": 132,
   "metadata": {},
   "outputs": [
    {
     "data": {
      "text/html": [
       "<div>\n",
       "<style scoped>\n",
       "    .dataframe tbody tr th:only-of-type {\n",
       "        vertical-align: middle;\n",
       "    }\n",
       "\n",
       "    .dataframe tbody tr th {\n",
       "        vertical-align: top;\n",
       "    }\n",
       "\n",
       "    .dataframe thead th {\n",
       "        text-align: right;\n",
       "    }\n",
       "</style>\n",
       "<table border=\"1\" class=\"dataframe\">\n",
       "  <thead>\n",
       "    <tr style=\"text-align: right;\">\n",
       "      <th></th>\n",
       "      <th>country</th>\n",
       "      <th>Log of Pageviews</th>\n",
       "      <th>Log of Deaths</th>\n",
       "      <th>i</th>\n",
       "      <th>Date</th>\n",
       "      <th>Data points</th>\n",
       "    </tr>\n",
       "  </thead>\n",
       "  <tbody>\n",
       "    <tr>\n",
       "      <th>0</th>\n",
       "      <td>Italy</td>\n",
       "      <td>8.893485</td>\n",
       "      <td>2.095085</td>\n",
       "      <td>0</td>\n",
       "      <td>2020-03-21</td>\n",
       "      <td>Other</td>\n",
       "    </tr>\n",
       "    <tr>\n",
       "      <th>1</th>\n",
       "      <td>Russia</td>\n",
       "      <td>8.812605</td>\n",
       "      <td>-4.538064</td>\n",
       "      <td>0</td>\n",
       "      <td>2020-03-21</td>\n",
       "      <td>Other</td>\n",
       "    </tr>\n",
       "    <tr>\n",
       "      <th>2</th>\n",
       "      <td>China</td>\n",
       "      <td>6.335957</td>\n",
       "      <td>-1.428455</td>\n",
       "      <td>0</td>\n",
       "      <td>2020-03-21</td>\n",
       "      <td>Other</td>\n",
       "    </tr>\n",
       "    <tr>\n",
       "      <th>3</th>\n",
       "      <td>Albania</td>\n",
       "      <td>4.759460</td>\n",
       "      <td>-2.519797</td>\n",
       "      <td>0</td>\n",
       "      <td>2020-03-21</td>\n",
       "      <td>Other</td>\n",
       "    </tr>\n",
       "    <tr>\n",
       "      <th>4</th>\n",
       "      <td>Bangladesh</td>\n",
       "      <td>2.609923</td>\n",
       "      <td>-4.490556</td>\n",
       "      <td>0</td>\n",
       "      <td>2020-03-21</td>\n",
       "      <td>Bangladesh</td>\n",
       "    </tr>\n",
       "    <tr>\n",
       "      <th>...</th>\n",
       "      <td>...</td>\n",
       "      <td>...</td>\n",
       "      <td>...</td>\n",
       "      <td>...</td>\n",
       "      <td>...</td>\n",
       "      <td>...</td>\n",
       "    </tr>\n",
       "    <tr>\n",
       "      <th>527</th>\n",
       "      <td>Romania</td>\n",
       "      <td>3.854435</td>\n",
       "      <td>1.914946</td>\n",
       "      <td>13</td>\n",
       "      <td>2022-04-27</td>\n",
       "      <td>Other</td>\n",
       "    </tr>\n",
       "    <tr>\n",
       "      <th>528</th>\n",
       "      <td>Tajikistan</td>\n",
       "      <td>1.268032</td>\n",
       "      <td>-4.605170</td>\n",
       "      <td>13</td>\n",
       "      <td>2022-04-27</td>\n",
       "      <td>Other</td>\n",
       "    </tr>\n",
       "    <tr>\n",
       "      <th>529</th>\n",
       "      <td>Thailand</td>\n",
       "      <td>2.946923</td>\n",
       "      <td>2.087287</td>\n",
       "      <td>13</td>\n",
       "      <td>2022-04-27</td>\n",
       "      <td>Thailand</td>\n",
       "    </tr>\n",
       "    <tr>\n",
       "      <th>530</th>\n",
       "      <td>Azerbaijan</td>\n",
       "      <td>4.123657</td>\n",
       "      <td>0.181428</td>\n",
       "      <td>13</td>\n",
       "      <td>2022-04-27</td>\n",
       "      <td>Other</td>\n",
       "    </tr>\n",
       "    <tr>\n",
       "      <th>531</th>\n",
       "      <td>Mongolia</td>\n",
       "      <td>3.037067</td>\n",
       "      <td>-1.644950</td>\n",
       "      <td>13</td>\n",
       "      <td>2022-04-27</td>\n",
       "      <td>Other</td>\n",
       "    </tr>\n",
       "  </tbody>\n",
       "</table>\n",
       "<p>532 rows × 6 columns</p>\n",
       "</div>"
      ],
      "text/plain": [
       "        country  Log of Pageviews  Log of Deaths   i        Date Data points\n",
       "0         Italy          8.893485       2.095085   0  2020-03-21       Other\n",
       "1        Russia          8.812605      -4.538064   0  2020-03-21       Other\n",
       "2         China          6.335957      -1.428455   0  2020-03-21       Other\n",
       "3       Albania          4.759460      -2.519797   0  2020-03-21       Other\n",
       "4    Bangladesh          2.609923      -4.490556   0  2020-03-21  Bangladesh\n",
       "..          ...               ...            ...  ..         ...         ...\n",
       "527     Romania          3.854435       1.914946  13  2022-04-27       Other\n",
       "528  Tajikistan          1.268032      -4.605170  13  2022-04-27       Other\n",
       "529    Thailand          2.946923       2.087287  13  2022-04-27    Thailand\n",
       "530  Azerbaijan          4.123657       0.181428  13  2022-04-27       Other\n",
       "531    Mongolia          3.037067      -1.644950  13  2022-04-27       Other\n",
       "\n",
       "[532 rows x 6 columns]"
      ]
     },
     "execution_count": 132,
     "metadata": {},
     "output_type": "execute_result"
    }
   ],
   "source": [
    "data['Data points']  = np.where(data['country']== 'Germany', 'Germany', 'Other')\n",
    "data['Data points']  = np.where(data['country']== 'Bangladesh', 'Bangladesh', data['Data points'])\n",
    "data['Data points']  = np.where(data['country']== 'Sweden', 'Sweden', data['Data points'])\n",
    "data['Data points']  = np.where(data['country']==  'Thailand', 'Thailand', data['Data points'])\n",
    "data"
   ]
  },
  {
   "cell_type": "code",
   "execution_count": 134,
   "metadata": {},
   "outputs": [
    {
     "data": {
      "application/vnd.plotly.v1+json": {
       "config": {
        "plotlyServerURL": "https://plot.ly"
       },
       "data": [
        {
         "hovertemplate": "<b>%{hovertext}</b><br><br>Data points=Other<br>Period=2020-03-21<br>Log of Deaths=%{x}<br>Log of Pageviews=%{y}<extra></extra>",
         "hovertext": [
          "Italy",
          "Russia",
          "China",
          "Albania",
          "Botswana",
          "Cambodia",
          "Croatia",
          "Greece",
          "Finland",
          "Norway",
          "Malaysia",
          "Israel",
          "Lithuania",
          "Serbia",
          "Slovakia",
          "Slovenia",
          "Turkey",
          "Vietnam",
          "Bulgaria",
          "Czechia",
          "Denmark",
          "Georgia",
          "Hungary",
          "Iceland",
          "Japan",
          "Kazakhstan",
          "South Korea",
          "Kyrgyzstan",
          "Netherlands",
          "Poland",
          "Romania",
          "Tajikistan",
          "Azerbaijan",
          "Mongolia"
         ],
         "legendgroup": "Other",
         "marker": {
          "color": "#636efa",
          "size": 10,
          "symbol": "circle"
         },
         "mode": "markers",
         "name": "Other",
         "orientation": "v",
         "showlegend": true,
         "type": "scatter",
         "x": [
          2.09508461005868,
          -4.538063848101651,
          -1.4284548599951084,
          -2.5197973533567617,
          -4.605170185988091,
          -4.605170185988091,
          -3.360856805875097,
          -2.0288319729400084,
          -1.8664135095388175,
          -1.9652259486544577,
          -3.4537240066064534,
          -3.87031720065218,
          -4.605170185988091,
          -3.7093030182863593,
          -4.605170185988091,
          -2.854853422568869,
          -3.8790133079213884,
          -4.605170185988091,
          -2.9324762543486647,
          -4.605170185988091,
          -1.4570135404538727,
          -4.605170185988091,
          -2.9754392943573684,
          -1.2627365842349905,
          -3.256775862276197,
          -4.605170185988091,
          -1.5761311174113404,
          -4.605170185988091,
          -0.23603953805895606,
          -3.7639075350864464,
          -4.605170185988091,
          -4.605170185988091,
          -3.9166467709978434,
          -4.605170185988091
         ],
         "xaxis": "x",
         "y": [
          8.893484950763607,
          8.812605065776365,
          6.335956654552035,
          4.759459779766594,
          -4.605170185988091,
          -0.3858129525953018,
          7.452279225156858,
          7.624448689800947,
          8.963621503306028,
          7.636608815748905,
          6.310413892247315,
          8.846388370639309,
          7.823647410391721,
          6.266410759972477,
          7.8999155756194925,
          7.552465177829196,
          6.140503176167827,
          7.43121474106338,
          7.0254873523439025,
          9.876676723832109,
          7.693165659212125,
          5.841049911773486,
          7.607867756650844,
          7.035032436625605,
          8.197146169743492,
          5.1146971905482905,
          7.093394797500724,
          2.0808956542368873,
          8.795708656661887,
          8.826218736443458,
          7.865366405828237,
          -4.605170185988091,
          4.6335831400315595,
          3.272044480727464
         ],
         "yaxis": "y"
        },
        {
         "hovertemplate": "<b>OLS trendline</b><br>Log of Pageviews = 0.81012 * Log of Deaths + 8.80118<br>R<sup>2</sup>=0.137853<br><br>Data points=Other<br>Period=2020-03-21<br>Log of Deaths=%{x}<br>Log of Pageviews=%{y} <b>(trend)</b><extra></extra>",
         "legendgroup": "Other",
         "line": {
          "color": "black"
         },
         "marker": {
          "color": "#636efa",
          "size": 10,
          "symbol": "circle"
         },
         "mode": "lines",
         "name": "Other",
         "showlegend": false,
         "type": "scatter",
         "x": [
          -4.605170185988091,
          -4.605170185988091,
          -4.605170185988091,
          -4.605170185988091,
          -4.605170185988091,
          -4.605170185988091,
          -4.605170185988091,
          -4.605170185988091,
          -4.605170185988091,
          -4.605170185988091,
          -4.605170185988091,
          -4.605170185988091,
          -4.538063848101651,
          -3.9166467709978434,
          -3.8790133079213884,
          -3.87031720065218,
          -3.7639075350864464,
          -3.7093030182863593,
          -3.4537240066064534,
          -3.360856805875097,
          -3.256775862276197,
          -2.9754392943573684,
          -2.9324762543486647,
          -2.854853422568869,
          -2.5197973533567617,
          -2.0288319729400084,
          -1.9652259486544577,
          -1.8664135095388175,
          -1.5761311174113404,
          -1.4570135404538727,
          -1.4284548599951084,
          -1.2627365842349905,
          -0.23603953805895606,
          2.09508461005868
         ],
         "xaxis": "x",
         "y": [
          5.07044185211208,
          5.07044185211208,
          5.07044185211208,
          5.07044185211208,
          5.07044185211208,
          5.07044185211208,
          5.07044185211208,
          5.07044185211208,
          5.07044185211208,
          5.07044185211208,
          5.07044185211208,
          5.07044185211208,
          5.124806012786043,
          5.628228176611831,
          5.658715783264846,
          5.665760670345724,
          5.751965227743382,
          5.796201417920642,
          6.003250988698468,
          6.078484529685971,
          6.1628025437382865,
          6.3907188160832735,
          6.4255240175536255,
          6.488407796221237,
          6.759843290321031,
          7.157583975731362,
          7.209112463695394,
          7.28916235891929,
          7.524325818936223,
          7.620825304629622,
          7.64396125187389,
          7.77821287778262,
          8.60996029449087,
          10.498449694011969
         ],
         "yaxis": "y"
        },
        {
         "hovertemplate": "<b>%{hovertext}</b><br><br>Data points=Bangladesh<br>Period=2020-03-21<br>Log of Deaths=%{x}<br>Log of Pageviews=%{y}<extra></extra>",
         "hovertext": [
          "Bangladesh"
         ],
         "legendgroup": "Bangladesh",
         "marker": {
          "color": "#EF553B",
          "size": 10,
          "symbol": "circle"
         },
         "mode": "markers",
         "name": "Bangladesh",
         "orientation": "v",
         "showlegend": true,
         "type": "scatter",
         "x": [
          -4.490555955285379
         ],
         "xaxis": "x",
         "y": [
          2.6099230195150023
         ],
         "yaxis": "y"
        },
        {
         "hovertemplate": "Data points=Bangladesh<br>Period=2020-03-21<extra></extra>",
         "legendgroup": "Bangladesh",
         "line": {
          "color": "black"
         },
         "marker": {
          "color": "#EF553B",
          "size": 10,
          "symbol": "circle"
         },
         "mode": "lines",
         "name": "Bangladesh",
         "showlegend": false,
         "type": "scatter",
         "xaxis": "x",
         "yaxis": "y"
        },
        {
         "hovertemplate": "<b>%{hovertext}</b><br><br>Data points=Sweden<br>Period=2020-03-21<br>Log of Deaths=%{x}<br>Log of Pageviews=%{y}<extra></extra>",
         "hovertext": [
          "Sweden"
         ],
         "legendgroup": "Sweden",
         "marker": {
          "color": "#00cc96",
          "size": 10,
          "symbol": "circle"
         },
         "mode": "markers",
         "name": "Sweden",
         "orientation": "v",
         "showlegend": true,
         "type": "scatter",
         "x": [
          -0.72717447810262
         ],
         "xaxis": "x",
         "y": [
          7.2486321187284455
         ],
         "yaxis": "y"
        },
        {
         "hovertemplate": "Data points=Sweden<br>Period=2020-03-21<extra></extra>",
         "legendgroup": "Sweden",
         "line": {
          "color": "black"
         },
         "marker": {
          "color": "#00cc96",
          "size": 10,
          "symbol": "circle"
         },
         "mode": "lines",
         "name": "Sweden",
         "showlegend": false,
         "type": "scatter",
         "xaxis": "x",
         "yaxis": "y"
        },
        {
         "hovertemplate": "<b>%{hovertext}</b><br><br>Data points=Germany<br>Period=2020-03-21<br>Log of Deaths=%{x}<br>Log of Pageviews=%{y}<extra></extra>",
         "hovertext": [
          "Germany"
         ],
         "legendgroup": "Germany",
         "marker": {
          "color": "#ab63fa",
          "size": 10,
          "symbol": "circle"
         },
         "mode": "markers",
         "name": "Germany",
         "orientation": "v",
         "showlegend": true,
         "type": "scatter",
         "x": [
          -2.710298257523679
         ],
         "xaxis": "x",
         "y": [
          9.531632627245441
         ],
         "yaxis": "y"
        },
        {
         "hovertemplate": "Data points=Germany<br>Period=2020-03-21<extra></extra>",
         "legendgroup": "Germany",
         "line": {
          "color": "black"
         },
         "marker": {
          "color": "#ab63fa",
          "size": 10,
          "symbol": "circle"
         },
         "mode": "lines",
         "name": "Germany",
         "showlegend": false,
         "type": "scatter",
         "xaxis": "x",
         "yaxis": "y"
        },
        {
         "hovertemplate": "<b>%{hovertext}</b><br><br>Data points=Thailand<br>Period=2020-03-21<br>Log of Deaths=%{x}<br>Log of Pageviews=%{y}<extra></extra>",
         "hovertext": [
          "Thailand"
         ],
         "legendgroup": "Thailand",
         "marker": {
          "color": "#FFA15A",
          "size": 10,
          "symbol": "circle"
         },
         "mode": "markers",
         "name": "Thailand",
         "orientation": "v",
         "showlegend": true,
         "type": "scatter",
         "x": [
          -4.47128065180362
         ],
         "xaxis": "x",
         "y": [
          5.341497787690751
         ],
         "yaxis": "y"
        },
        {
         "hovertemplate": "Data points=Thailand<br>Period=2020-03-21<extra></extra>",
         "legendgroup": "Thailand",
         "line": {
          "color": "black"
         },
         "marker": {
          "color": "#FFA15A",
          "size": 10,
          "symbol": "circle"
         },
         "mode": "lines",
         "name": "Thailand",
         "showlegend": false,
         "type": "scatter",
         "xaxis": "x",
         "yaxis": "y"
        }
       ],
       "frames": [
        {
         "data": [
          {
           "hovertemplate": "<b>%{hovertext}</b><br><br>Data points=Other<br>Period=2020-03-21<br>Log of Deaths=%{x}<br>Log of Pageviews=%{y}<extra></extra>",
           "hovertext": [
            "Italy",
            "Russia",
            "China",
            "Albania",
            "Botswana",
            "Cambodia",
            "Croatia",
            "Greece",
            "Finland",
            "Norway",
            "Malaysia",
            "Israel",
            "Lithuania",
            "Serbia",
            "Slovakia",
            "Slovenia",
            "Turkey",
            "Vietnam",
            "Bulgaria",
            "Czechia",
            "Denmark",
            "Georgia",
            "Hungary",
            "Iceland",
            "Japan",
            "Kazakhstan",
            "South Korea",
            "Kyrgyzstan",
            "Netherlands",
            "Poland",
            "Romania",
            "Tajikistan",
            "Azerbaijan",
            "Mongolia"
           ],
           "legendgroup": "Other",
           "marker": {
            "color": "#636efa",
            "symbol": "circle"
           },
           "mode": "markers",
           "name": "Other",
           "orientation": "v",
           "showlegend": true,
           "type": "scatter",
           "x": [
            2.09508461005868,
            -4.538063848101651,
            -1.4284548599951084,
            -2.5197973533567617,
            -4.605170185988091,
            -4.605170185988091,
            -3.360856805875097,
            -2.0288319729400084,
            -1.8664135095388175,
            -1.9652259486544577,
            -3.4537240066064534,
            -3.87031720065218,
            -4.605170185988091,
            -3.7093030182863593,
            -4.605170185988091,
            -2.854853422568869,
            -3.8790133079213884,
            -4.605170185988091,
            -2.9324762543486647,
            -4.605170185988091,
            -1.4570135404538727,
            -4.605170185988091,
            -2.9754392943573684,
            -1.2627365842349905,
            -3.256775862276197,
            -4.605170185988091,
            -1.5761311174113404,
            -4.605170185988091,
            -0.23603953805895606,
            -3.7639075350864464,
            -4.605170185988091,
            -4.605170185988091,
            -3.9166467709978434,
            -4.605170185988091
           ],
           "xaxis": "x",
           "y": [
            8.893484950763607,
            8.812605065776365,
            6.335956654552035,
            4.759459779766594,
            -4.605170185988091,
            -0.3858129525953018,
            7.452279225156858,
            7.624448689800947,
            8.963621503306028,
            7.636608815748905,
            6.310413892247315,
            8.846388370639309,
            7.823647410391721,
            6.266410759972477,
            7.8999155756194925,
            7.552465177829196,
            6.140503176167827,
            7.43121474106338,
            7.0254873523439025,
            9.876676723832109,
            7.693165659212125,
            5.841049911773486,
            7.607867756650844,
            7.035032436625605,
            8.197146169743492,
            5.1146971905482905,
            7.093394797500724,
            2.0808956542368873,
            8.795708656661887,
            8.826218736443458,
            7.865366405828237,
            -4.605170185988091,
            4.6335831400315595,
            3.272044480727464
           ],
           "yaxis": "y"
          },
          {
           "hovertemplate": "<b>OLS trendline</b><br>Log of Pageviews = 0.81012 * Log of Deaths + 8.80118<br>R<sup>2</sup>=0.137853<br><br>Data points=Other<br>Period=2020-03-21<br>Log of Deaths=%{x}<br>Log of Pageviews=%{y} <b>(trend)</b><extra></extra>",
           "legendgroup": "Other",
           "line": {
            "color": "black"
           },
           "marker": {
            "color": "#636efa",
            "symbol": "circle"
           },
           "mode": "lines",
           "name": "Other",
           "showlegend": false,
           "type": "scatter",
           "x": [
            -4.605170185988091,
            -4.605170185988091,
            -4.605170185988091,
            -4.605170185988091,
            -4.605170185988091,
            -4.605170185988091,
            -4.605170185988091,
            -4.605170185988091,
            -4.605170185988091,
            -4.605170185988091,
            -4.605170185988091,
            -4.605170185988091,
            -4.538063848101651,
            -3.9166467709978434,
            -3.8790133079213884,
            -3.87031720065218,
            -3.7639075350864464,
            -3.7093030182863593,
            -3.4537240066064534,
            -3.360856805875097,
            -3.256775862276197,
            -2.9754392943573684,
            -2.9324762543486647,
            -2.854853422568869,
            -2.5197973533567617,
            -2.0288319729400084,
            -1.9652259486544577,
            -1.8664135095388175,
            -1.5761311174113404,
            -1.4570135404538727,
            -1.4284548599951084,
            -1.2627365842349905,
            -0.23603953805895606,
            2.09508461005868
           ],
           "xaxis": "x",
           "y": [
            5.07044185211208,
            5.07044185211208,
            5.07044185211208,
            5.07044185211208,
            5.07044185211208,
            5.07044185211208,
            5.07044185211208,
            5.07044185211208,
            5.07044185211208,
            5.07044185211208,
            5.07044185211208,
            5.07044185211208,
            5.124806012786043,
            5.628228176611831,
            5.658715783264846,
            5.665760670345724,
            5.751965227743382,
            5.796201417920642,
            6.003250988698468,
            6.078484529685971,
            6.1628025437382865,
            6.3907188160832735,
            6.4255240175536255,
            6.488407796221237,
            6.759843290321031,
            7.157583975731362,
            7.209112463695394,
            7.28916235891929,
            7.524325818936223,
            7.620825304629622,
            7.64396125187389,
            7.77821287778262,
            8.60996029449087,
            10.498449694011969
           ],
           "yaxis": "y"
          },
          {
           "hovertemplate": "<b>%{hovertext}</b><br><br>Data points=Bangladesh<br>Period=2020-03-21<br>Log of Deaths=%{x}<br>Log of Pageviews=%{y}<extra></extra>",
           "hovertext": [
            "Bangladesh"
           ],
           "legendgroup": "Bangladesh",
           "marker": {
            "color": "#EF553B",
            "symbol": "circle"
           },
           "mode": "markers",
           "name": "Bangladesh",
           "orientation": "v",
           "showlegend": true,
           "type": "scatter",
           "x": [
            -4.490555955285379
           ],
           "xaxis": "x",
           "y": [
            2.6099230195150023
           ],
           "yaxis": "y"
          },
          {
           "hovertemplate": "Data points=Bangladesh<br>Period=2020-03-21<extra></extra>",
           "legendgroup": "Bangladesh",
           "line": {
            "color": "black"
           },
           "marker": {
            "color": "#EF553B",
            "symbol": "circle"
           },
           "mode": "lines",
           "name": "Bangladesh",
           "showlegend": false,
           "type": "scatter",
           "xaxis": "x",
           "yaxis": "y"
          },
          {
           "hovertemplate": "<b>%{hovertext}</b><br><br>Data points=Sweden<br>Period=2020-03-21<br>Log of Deaths=%{x}<br>Log of Pageviews=%{y}<extra></extra>",
           "hovertext": [
            "Sweden"
           ],
           "legendgroup": "Sweden",
           "marker": {
            "color": "#00cc96",
            "symbol": "circle"
           },
           "mode": "markers",
           "name": "Sweden",
           "orientation": "v",
           "showlegend": true,
           "type": "scatter",
           "x": [
            -0.72717447810262
           ],
           "xaxis": "x",
           "y": [
            7.2486321187284455
           ],
           "yaxis": "y"
          },
          {
           "hovertemplate": "Data points=Sweden<br>Period=2020-03-21<extra></extra>",
           "legendgroup": "Sweden",
           "line": {
            "color": "black"
           },
           "marker": {
            "color": "#00cc96",
            "symbol": "circle"
           },
           "mode": "lines",
           "name": "Sweden",
           "showlegend": false,
           "type": "scatter",
           "xaxis": "x",
           "yaxis": "y"
          },
          {
           "hovertemplate": "<b>%{hovertext}</b><br><br>Data points=Germany<br>Period=2020-03-21<br>Log of Deaths=%{x}<br>Log of Pageviews=%{y}<extra></extra>",
           "hovertext": [
            "Germany"
           ],
           "legendgroup": "Germany",
           "marker": {
            "color": "#ab63fa",
            "symbol": "circle"
           },
           "mode": "markers",
           "name": "Germany",
           "orientation": "v",
           "showlegend": true,
           "type": "scatter",
           "x": [
            -2.710298257523679
           ],
           "xaxis": "x",
           "y": [
            9.531632627245441
           ],
           "yaxis": "y"
          },
          {
           "hovertemplate": "Data points=Germany<br>Period=2020-03-21<extra></extra>",
           "legendgroup": "Germany",
           "line": {
            "color": "black"
           },
           "marker": {
            "color": "#ab63fa",
            "symbol": "circle"
           },
           "mode": "lines",
           "name": "Germany",
           "showlegend": false,
           "type": "scatter",
           "xaxis": "x",
           "yaxis": "y"
          },
          {
           "hovertemplate": "<b>%{hovertext}</b><br><br>Data points=Thailand<br>Period=2020-03-21<br>Log of Deaths=%{x}<br>Log of Pageviews=%{y}<extra></extra>",
           "hovertext": [
            "Thailand"
           ],
           "legendgroup": "Thailand",
           "marker": {
            "color": "#FFA15A",
            "symbol": "circle"
           },
           "mode": "markers",
           "name": "Thailand",
           "orientation": "v",
           "showlegend": true,
           "type": "scatter",
           "x": [
            -4.47128065180362
           ],
           "xaxis": "x",
           "y": [
            5.341497787690751
           ],
           "yaxis": "y"
          },
          {
           "hovertemplate": "Data points=Thailand<br>Period=2020-03-21<extra></extra>",
           "legendgroup": "Thailand",
           "line": {
            "color": "black"
           },
           "marker": {
            "color": "#FFA15A",
            "symbol": "circle"
           },
           "mode": "lines",
           "name": "Thailand",
           "showlegend": false,
           "type": "scatter",
           "xaxis": "x",
           "yaxis": "y"
          }
         ],
         "name": "2020-03-21"
        },
        {
         "data": [
          {
           "hovertemplate": "<b>%{hovertext}</b><br><br>Data points=Other<br>Period=2020-05-19<br>Log of Deaths=%{x}<br>Log of Pageviews=%{y}<extra></extra>",
           "hovertext": [
            "Italy",
            "Russia",
            "China",
            "Albania",
            "Botswana",
            "Cambodia",
            "Croatia",
            "Greece",
            "Finland",
            "Norway",
            "Malaysia",
            "Israel",
            "Lithuania",
            "Serbia",
            "Slovakia",
            "Slovenia",
            "Turkey",
            "Vietnam",
            "Bulgaria",
            "Czechia",
            "Denmark",
            "Georgia",
            "Hungary",
            "Iceland",
            "Japan",
            "Kazakhstan",
            "South Korea",
            "Kyrgyzstan",
            "Netherlands",
            "Poland",
            "Romania",
            "Tajikistan",
            "Azerbaijan",
            "Mongolia"
           ],
           "legendgroup": "Other",
           "marker": {
            "color": "#636efa",
            "symbol": "circle"
           },
           "mode": "markers",
           "name": "Other",
           "orientation": "v",
           "showlegend": true,
           "type": "scatter",
           "x": [
            3.83462644292094,
            0.728585296735816,
            -3.879292620958456,
            0.03140248261645903,
            -2.946489131171645,
            -4.605170185988091,
            0.8573995857698842,
            0.364526609739827,
            1.6693677815344181,
            1.442141147915845,
            -1.0770645571197566,
            1.1146467705432597,
            0.5043227961209691,
            1.2390884776701023,
            -0.6483063124636602,
            1.6007367357239124,
            1.6104998587479564,
            -4.605170185988091,
            0.49448126126357284,
            1.0625549183620377,
            2.2487610147420853,
            -1.1015807950286391,
            1.5664080950145416,
            0.9025607457962503,
            -0.46306459651051485,
            -1.6265318064622716,
            -1.1315818395798178,
            -1.5016190613652851,
            3.4742041153574985,
            0.9302440994001377,
            1.7860959292966405,
            -0.7521968787444748,
            -0.8530225429729463,
            -4.605170185988091
           ],
           "xaxis": "x",
           "y": [
            9.170115056019645,
            9.174065392763067,
            6.3525768140682395,
            6.744264440865279,
            3.4370434361987154,
            1.8615716101813553,
            8.06809687274747,
            8.52056539847508,
            8.633917139593274,
            7.6551620030661125,
            6.8587205951003245,
            9.363482187074068,
            8.060294535919514,
            6.938730059659237,
            7.785090028096589,
            7.5646472252156505,
            7.57459768713823,
            7.825210403627199,
            8.021023780437613,
            9.380843210797114,
            7.271890542620512,
            6.306465881499624,
            8.663076568942872,
            7.066720791220075,
            8.498148835199824,
            4.809901959729169,
            7.27126617276607,
            2.4671070478477257,
            9.110367340458545,
            8.65059835459623,
            8.599941674957224,
            3.029455693394057,
            6.051371942669546,
            3.592076386833825
           ],
           "yaxis": "y"
          },
          {
           "hovertemplate": "<b>OLS trendline</b><br>Log of Pageviews = 0.657021 * Log of Deaths + 7.11505<br>R<sup>2</sup>=0.471386<br><br>Data points=Other<br>Period=2020-05-19<br>Log of Deaths=%{x}<br>Log of Pageviews=%{y} <b>(trend)</b><extra></extra>",
           "legendgroup": "Other",
           "line": {
            "color": "black"
           },
           "marker": {
            "color": "#636efa",
            "symbol": "circle"
           },
           "mode": "lines",
           "name": "Other",
           "showlegend": false,
           "type": "scatter",
           "x": [
            -4.605170185988091,
            -4.605170185988091,
            -4.605170185988091,
            -3.879292620958456,
            -2.946489131171645,
            -1.6265318064622716,
            -1.5016190613652851,
            -1.1315818395798178,
            -1.1015807950286391,
            -1.0770645571197566,
            -0.8530225429729463,
            -0.7521968787444748,
            -0.6483063124636602,
            -0.46306459651051485,
            0.03140248261645903,
            0.364526609739827,
            0.49448126126357284,
            0.5043227961209691,
            0.728585296735816,
            0.8573995857698842,
            0.9025607457962503,
            0.9302440994001377,
            1.0625549183620377,
            1.1146467705432597,
            1.2390884776701023,
            1.442141147915845,
            1.5664080950145416,
            1.6007367357239124,
            1.6104998587479564,
            1.6693677815344181,
            1.7860959292966405,
            2.2487610147420853,
            3.4742041153574985,
            3.83462644292094
           ],
           "xaxis": "x",
           "y": [
            4.089355733551907,
            4.089355733551907,
            4.089355733551907,
            4.566272353301496,
            5.179143598635528,
            6.04638294565737,
            6.128453210706635,
            6.371575342451055,
            6.391286651142241,
            6.407394328078094,
            6.554594579492978,
            6.6208391326854805,
            6.689097390112811,
            6.810805040638393,
            7.135680170158427,
            7.354549632886928,
            7.4399325350612235,
            7.446398627641376,
            7.593743743240115,
            7.6783774035999945,
            7.708049222679931,
            7.726237760334432,
            7.813168713398166,
            7.8473941410124635,
            7.929154924342885,
            8.062564741356274,
            8.14421070372252,
            8.166765332872743,
            8.173179907251601,
            8.21185735383428,
            8.288550168631659,
            8.592530728518213,
            9.397672269457143,
            9.634477216220882
           ],
           "yaxis": "y"
          },
          {
           "hovertemplate": "<b>%{hovertext}</b><br><br>Data points=Bangladesh<br>Period=2020-05-19<br>Log of Deaths=%{x}<br>Log of Pageviews=%{y}<extra></extra>",
           "hovertext": [
            "Bangladesh"
           ],
           "legendgroup": "Bangladesh",
           "marker": {
            "color": "#EF553B",
            "symbol": "circle"
           },
           "mode": "markers",
           "name": "Bangladesh",
           "orientation": "v",
           "showlegend": true,
           "type": "scatter",
           "x": [
            -1.414010059243133
           ],
           "xaxis": "x",
           "y": [
            5.540159354471201
           ],
           "yaxis": "y"
          },
          {
           "hovertemplate": "Data points=Bangladesh<br>Period=2020-05-19<extra></extra>",
           "legendgroup": "Bangladesh",
           "line": {
            "color": "black"
           },
           "marker": {
            "color": "#EF553B",
            "symbol": "circle"
           },
           "mode": "lines",
           "name": "Bangladesh",
           "showlegend": false,
           "type": "scatter",
           "xaxis": "x",
           "yaxis": "y"
          },
          {
           "hovertemplate": "<b>%{hovertext}</b><br><br>Data points=Sweden<br>Period=2020-05-19<br>Log of Deaths=%{x}<br>Log of Pageviews=%{y}<extra></extra>",
           "hovertext": [
            "Sweden"
           ],
           "legendgroup": "Sweden",
           "marker": {
            "color": "#00cc96",
            "symbol": "circle"
           },
           "mode": "markers",
           "name": "Sweden",
           "orientation": "v",
           "showlegend": true,
           "type": "scatter",
           "x": [
            3.670027568314157
           ],
           "xaxis": "x",
           "y": [
            7.955605994472693
           ],
           "yaxis": "y"
          },
          {
           "hovertemplate": "Data points=Sweden<br>Period=2020-05-19<extra></extra>",
           "legendgroup": "Sweden",
           "line": {
            "color": "black"
           },
           "marker": {
            "color": "#00cc96",
            "symbol": "circle"
           },
           "mode": "lines",
           "name": "Sweden",
           "showlegend": false,
           "type": "scatter",
           "xaxis": "x",
           "yaxis": "y"
          },
          {
           "hovertemplate": "<b>%{hovertext}</b><br><br>Data points=Germany<br>Period=2020-05-19<br>Log of Deaths=%{x}<br>Log of Pageviews=%{y}<extra></extra>",
           "hovertext": [
            "Germany"
           ],
           "legendgroup": "Germany",
           "marker": {
            "color": "#ab63fa",
            "symbol": "circle"
           },
           "mode": "markers",
           "name": "Germany",
           "orientation": "v",
           "showlegend": true,
           "type": "scatter",
           "x": [
            2.270228816415989
           ],
           "xaxis": "x",
           "y": [
            9.726743366895672
           ],
           "yaxis": "y"
          },
          {
           "hovertemplate": "Data points=Germany<br>Period=2020-05-19<extra></extra>",
           "legendgroup": "Germany",
           "line": {
            "color": "black"
           },
           "marker": {
            "color": "#ab63fa",
            "symbol": "circle"
           },
           "mode": "lines",
           "name": "Germany",
           "showlegend": false,
           "type": "scatter",
           "xaxis": "x",
           "yaxis": "y"
          },
          {
           "hovertemplate": "<b>%{hovertext}</b><br><br>Data points=Thailand<br>Period=2020-05-19<br>Log of Deaths=%{x}<br>Log of Pageviews=%{y}<extra></extra>",
           "hovertext": [
            "Thailand"
           ],
           "legendgroup": "Thailand",
           "marker": {
            "color": "#FFA15A",
            "symbol": "circle"
           },
           "mode": "markers",
           "name": "Thailand",
           "orientation": "v",
           "showlegend": true,
           "type": "scatter",
           "x": [
            -2.421407070711796
           ],
           "xaxis": "x",
           "y": [
            5.393360698983641
           ],
           "yaxis": "y"
          },
          {
           "hovertemplate": "Data points=Thailand<br>Period=2020-05-19<extra></extra>",
           "legendgroup": "Thailand",
           "line": {
            "color": "black"
           },
           "marker": {
            "color": "#FFA15A",
            "symbol": "circle"
           },
           "mode": "lines",
           "name": "Thailand",
           "showlegend": false,
           "type": "scatter",
           "xaxis": "x",
           "yaxis": "y"
          }
         ],
         "name": "2020-05-19"
        },
        {
         "data": [
          {
           "hovertemplate": "<b>%{hovertext}</b><br><br>Data points=Other<br>Period=2020-07-17<br>Log of Deaths=%{x}<br>Log of Pageviews=%{y}<extra></extra>",
           "hovertext": [
            "Italy",
            "Russia",
            "China",
            "Albania",
            "Botswana",
            "Cambodia",
            "Croatia",
            "Greece",
            "Finland",
            "Norway",
            "Malaysia",
            "Israel",
            "Lithuania",
            "Serbia",
            "Slovakia",
            "Slovenia",
            "Turkey",
            "Vietnam",
            "Bulgaria",
            "Czechia",
            "Denmark",
            "Georgia",
            "Hungary",
            "Iceland",
            "Japan",
            "Kazakhstan",
            "South Korea",
            "Kyrgyzstan",
            "Netherlands",
            "Poland",
            "Romania",
            "Tajikistan",
            "Azerbaijan",
            "Mongolia"
           ],
           "legendgroup": "Other",
           "marker": {
            "color": "#636efa",
            "symbol": "circle"
           },
           "mode": "markers",
           "name": "Other",
           "orientation": "v",
           "showlegend": true,
           "type": "scatter",
           "x": [
            1.5417539478417803,
            1.8718719337913583,
            -4.577217838554759,
            1.0523150851040028,
            -4.605170185988091,
            -4.605170185988091,
            -0.505950447425879,
            -1.303172168535064,
            -1.8664135095388175,
            -0.9153594994115374,
            -3.2752620759208977,
            0.5259242036770783,
            -0.4808558916096676,
            1.2369871060316644,
            -4.605170185988091,
            -1.0701711781938983,
            0.41517830541646794,
            -4.605170185988091,
            0.9796730575581403,
            -0.43029826648845776,
            -0.012613064223235408,
            -2.4014520198409346,
            0.2641226740949219,
            -4.605170185988091,
            -1.9445071372533496,
            1.0792416116115264,
            -2.634806145638965,
            2.7445331150229646,
            0.8231135621148589,
            0.5634624992962705,
            1.520486618631778,
            -1.922082071097555,
            1.1285938381526515,
            -4.605170185988091
           ],
           "xaxis": "x",
           "y": [
            7.6990401851421835,
            7.352842987194078,
            5.001881483845124,
            6.13947926587608,
            4.712564096140877,
            1.4127274345278809,
            6.612063135660225,
            6.927662337908857,
            7.09747971186968,
            6.178733204181163,
            6.240779621436656,
            8.26492375396857,
            6.060307209357227,
            5.915691396561283,
            6.264538765301193,
            6.52514909571442,
            6.087675820168601,
            6.192274379975325,
            7.048225774768971,
            7.5610400690466735,
            5.834619249909431,
            5.185088730093432,
            7.46620039258684,
            6.215547258978862,
            7.464461802761916,
            3.2683793203881315,
            5.715039569298734,
            2.9131402996911215,
            7.736097751443576,
            7.300176242281673,
            5.858283320018509,
            2.376520810570524,
            5.176551846667145,
            2.492334072234629
           ],
           "yaxis": "y"
          },
          {
           "hovertemplate": "<b>OLS trendline</b><br>Log of Pageviews = 0.22634 * Log of Deaths + 6.12559<br>R<sup>2</sup>=0.096148<br><br>Data points=Other<br>Period=2020-07-17<br>Log of Deaths=%{x}<br>Log of Pageviews=%{y} <b>(trend)</b><extra></extra>",
           "legendgroup": "Other",
           "line": {
            "color": "black"
           },
           "marker": {
            "color": "#636efa",
            "symbol": "circle"
           },
           "mode": "lines",
           "name": "Other",
           "showlegend": false,
           "type": "scatter",
           "x": [
            -4.605170185988091,
            -4.605170185988091,
            -4.605170185988091,
            -4.605170185988091,
            -4.605170185988091,
            -4.605170185988091,
            -4.577217838554759,
            -3.2752620759208977,
            -2.634806145638965,
            -2.4014520198409346,
            -1.9445071372533496,
            -1.922082071097555,
            -1.8664135095388175,
            -1.303172168535064,
            -1.0701711781938983,
            -0.9153594994115374,
            -0.505950447425879,
            -0.4808558916096676,
            -0.43029826648845776,
            -0.012613064223235408,
            0.2641226740949219,
            0.41517830541646794,
            0.5259242036770783,
            0.5634624992962705,
            0.8231135621148589,
            0.9796730575581403,
            1.0523150851040028,
            1.0792416116115264,
            1.1285938381526515,
            1.2369871060316644,
            1.520486618631778,
            1.5417539478417803,
            1.8718719337913583,
            2.7445331150229646
           ],
           "xaxis": "x",
           "y": [
            5.083257729975751,
            5.083257729975751,
            5.083257729975751,
            5.083257729975751,
            5.083257729975751,
            5.083257729975751,
            5.089584459054763,
            5.384268882346582,
            5.529229557567337,
            5.582046886663408,
            5.685471705744099,
            5.690547391014721,
            5.703147402804088,
            5.830631342359782,
            5.883368742842733,
            5.918408789202317,
            6.011074357294105,
            6.0167542543541295,
            6.028197457748158,
            6.122736248143042,
            6.1853725632859975,
            6.219562466567289,
            6.244628672422733,
            6.25312508321746,
            6.311894456109988,
            6.347330102965015,
            6.363771885864608,
            6.369866430827541,
            6.381036804532879,
            6.405570516468702,
            6.469737743014916,
            6.474551386322219,
            6.5492702293887515,
            6.7467881975877315
           ],
           "yaxis": "y"
          },
          {
           "hovertemplate": "<b>%{hovertext}</b><br><br>Data points=Bangladesh<br>Period=2020-07-17<br>Log of Deaths=%{x}<br>Log of Pageviews=%{y}<extra></extra>",
           "hovertext": [
            "Bangladesh"
           ],
           "legendgroup": "Bangladesh",
           "marker": {
            "color": "#EF553B",
            "symbol": "circle"
           },
           "mode": "markers",
           "name": "Bangladesh",
           "orientation": "v",
           "showlegend": true,
           "type": "scatter",
           "x": [
            0.31135852626528265
           ],
           "xaxis": "x",
           "y": [
            4.684792269139792
           ],
           "yaxis": "y"
          },
          {
           "hovertemplate": "Data points=Bangladesh<br>Period=2020-07-17<extra></extra>",
           "legendgroup": "Bangladesh",
           "line": {
            "color": "black"
           },
           "marker": {
            "color": "#EF553B",
            "symbol": "circle"
           },
           "mode": "lines",
           "name": "Bangladesh",
           "showlegend": false,
           "type": "scatter",
           "xaxis": "x",
           "yaxis": "y"
          },
          {
           "hovertemplate": "<b>%{hovertext}</b><br><br>Data points=Sweden<br>Period=2020-07-17<br>Log of Deaths=%{x}<br>Log of Pageviews=%{y}<extra></extra>",
           "hovertext": [
            "Sweden"
           ],
           "legendgroup": "Sweden",
           "marker": {
            "color": "#00cc96",
            "symbol": "circle"
           },
           "mode": "markers",
           "name": "Sweden",
           "orientation": "v",
           "showlegend": true,
           "type": "scatter",
           "x": [
            2.849527721907839
           ],
           "xaxis": "x",
           "y": [
            6.958896569629889
           ],
           "yaxis": "y"
          },
          {
           "hovertemplate": "Data points=Sweden<br>Period=2020-07-17<extra></extra>",
           "legendgroup": "Sweden",
           "line": {
            "color": "black"
           },
           "marker": {
            "color": "#00cc96",
            "symbol": "circle"
           },
           "mode": "lines",
           "name": "Sweden",
           "showlegend": false,
           "type": "scatter",
           "xaxis": "x",
           "yaxis": "y"
          },
          {
           "hovertemplate": "<b>%{hovertext}</b><br><br>Data points=Germany<br>Period=2020-07-17<br>Log of Deaths=%{x}<br>Log of Pageviews=%{y}<extra></extra>",
           "hovertext": [
            "Germany"
           ],
           "legendgroup": "Germany",
           "marker": {
            "color": "#ab63fa",
            "symbol": "circle"
           },
           "mode": "markers",
           "name": "Germany",
           "orientation": "v",
           "showlegend": true,
           "type": "scatter",
           "x": [
            0.19465648868458438
           ],
           "xaxis": "x",
           "y": [
            8.555892773060018
           ],
           "yaxis": "y"
          },
          {
           "hovertemplate": "Data points=Germany<br>Period=2020-07-17<extra></extra>",
           "legendgroup": "Germany",
           "line": {
            "color": "black"
           },
           "marker": {
            "color": "#ab63fa",
            "symbol": "circle"
           },
           "mode": "lines",
           "name": "Germany",
           "showlegend": false,
           "type": "scatter",
           "xaxis": "x",
           "yaxis": "y"
          },
          {
           "hovertemplate": "<b>%{hovertext}</b><br><br>Data points=Thailand<br>Period=2020-07-17<br>Log of Deaths=%{x}<br>Log of Pageviews=%{y}<extra></extra>",
           "hovertext": [
            "Thailand"
           ],
           "legendgroup": "Thailand",
           "marker": {
            "color": "#FFA15A",
            "symbol": "circle"
           },
           "mode": "markers",
           "name": "Thailand",
           "orientation": "v",
           "showlegend": true,
           "type": "scatter",
           "x": [
            -4.353219150250863
           ],
           "xaxis": "x",
           "y": [
            4.846654630532749
           ],
           "yaxis": "y"
          },
          {
           "hovertemplate": "Data points=Thailand<br>Period=2020-07-17<extra></extra>",
           "legendgroup": "Thailand",
           "line": {
            "color": "black"
           },
           "marker": {
            "color": "#FFA15A",
            "symbol": "circle"
           },
           "mode": "lines",
           "name": "Thailand",
           "showlegend": false,
           "type": "scatter",
           "xaxis": "x",
           "yaxis": "y"
          }
         ],
         "name": "2020-07-17"
        },
        {
         "data": [
          {
           "hovertemplate": "<b>%{hovertext}</b><br><br>Data points=Other<br>Period=2020-09-14<br>Log of Deaths=%{x}<br>Log of Pageviews=%{y}<extra></extra>",
           "hovertext": [
            "Italy",
            "Russia",
            "China",
            "Albania",
            "Botswana",
            "Cambodia",
            "Croatia",
            "Greece",
            "Finland",
            "Norway",
            "Malaysia",
            "Israel",
            "Lithuania",
            "Serbia",
            "Slovakia",
            "Slovenia",
            "Turkey",
            "Vietnam",
            "Bulgaria",
            "Czechia",
            "Denmark",
            "Georgia",
            "Hungary",
            "Iceland",
            "Japan",
            "Kazakhstan",
            "South Korea",
            "Kyrgyzstan",
            "Netherlands",
            "Poland",
            "Romania",
            "Tajikistan",
            "Azerbaijan",
            "Mongolia"
           ],
           "legendgroup": "Other",
           "marker": {
            "color": "#636efa",
            "symbol": "circle"
           },
           "mode": "markers",
           "name": "Other",
           "orientation": "v",
           "showlegend": true,
           "type": "scatter",
           "x": [
            0.04030357949446479,
            1.5350753581546939,
            -4.591096348734976,
            2.115160917073614,
            -0.6533776931674989,
            -4.605170185988091,
            1.0733800214382643,
            0.2104517103157755,
            -1.2061256715233741,
            -1.5395344931206842,
            -3.5565196893787276,
            2.161085074425682,
            -1.2165948627263503,
            1.3521067775428448,
            -1.553490127281059,
            0.14110208308692143,
            0.7759700869405768,
            -3.047068146760654,
            1.8695419170455294,
            0.2659361052996683,
            -0.8637820293053502,
            -2.141755911424024,
            -0.3607274502215692,
            -4.605170185988091,
            -0.895554395646897,
            2.021422407269429,
            -1.7941944105885415,
            1.965400108317421,
            -0.054013439753161,
            0.5126268000563068,
            2.474914174129294,
            -1.7273414922241828,
            0.7700985822460378,
            -4.605170185988091
           ],
           "xaxis": "x",
           "y": [
            7.2523961772008425,
            6.589620983912753,
            4.737280202732681,
            5.824437156472036,
            5.852517712496961,
            1.485724684390999,
            6.312437972502249,
            6.959897295644342,
            7.205146471927811,
            6.106968865789813,
            5.954503637953696,
            7.473100912206342,
            5.81726724591732,
            5.467066510941482,
            6.014160420348608,
            6.3238228446805325,
            5.871010798017996,
            6.222805101726833,
            6.201357131263921,
            7.584199249164262,
            5.685750453799803,
            4.876757452604975,
            7.569655665707168,
            6.202927317810708,
            6.9281978523331205,
            3.477671172731493,
            4.360804014009595,
            2.5940647033336703,
            7.396290600545106,
            7.024403083668292,
            5.03087633157397,
            1.590538118501282,
            4.469091066535489,
            2.405397889394567
           ],
           "yaxis": "y"
          },
          {
           "hovertemplate": "<b>OLS trendline</b><br>Log of Pageviews = 0.227446 * Log of Deaths + 5.74577<br>R<sup>2</sup>=0.085344<br><br>Data points=Other<br>Period=2020-09-14<br>Log of Deaths=%{x}<br>Log of Pageviews=%{y} <b>(trend)</b><extra></extra>",
           "legendgroup": "Other",
           "line": {
            "color": "black"
           },
           "marker": {
            "color": "#636efa",
            "symbol": "circle"
           },
           "mode": "lines",
           "name": "Other",
           "showlegend": false,
           "type": "scatter",
           "x": [
            -4.605170185988091,
            -4.605170185988091,
            -4.605170185988091,
            -4.591096348734976,
            -3.5565196893787276,
            -3.047068146760654,
            -2.141755911424024,
            -1.7941944105885415,
            -1.7273414922241828,
            -1.553490127281059,
            -1.5395344931206842,
            -1.2165948627263503,
            -1.2061256715233741,
            -0.895554395646897,
            -0.8637820293053502,
            -0.6533776931674989,
            -0.3607274502215692,
            -0.054013439753161,
            0.04030357949446479,
            0.14110208308692143,
            0.2104517103157755,
            0.2659361052996683,
            0.5126268000563068,
            0.7700985822460378,
            0.7759700869405768,
            1.0733800214382643,
            1.3521067775428448,
            1.5350753581546939,
            1.8695419170455294,
            1.965400108317421,
            2.021422407269429,
            2.115160917073614,
            2.161085074425682,
            2.474914174129294
           ],
           "xaxis": "x",
           "y": [
            4.698339376980278,
            4.698339376980278,
            4.698339376980278,
            4.701540421314445,
            4.93685121069857,
            5.052724155987139,
            5.258634210896674,
            5.337685840741115,
            5.352891299757307,
            5.392433175702709,
            5.395607335162944,
            5.469058807960322,
            5.471439988343532,
            5.542078322801997,
            5.549304834763984,
            5.597160554278522,
            5.663722813399961,
            5.733483826531071,
            5.754935897821106,
            5.777862159722122,
            5.793635486308545,
            5.806255215029551,
            5.862364138029053,
            5.920925181102364,
            5.922260634006747,
            5.989905468079147,
            6.053300879533969,
            6.094916433825574,
            6.170989665599589,
            6.192792270996813,
            6.205534344066308,
            6.226854835436603,
            6.237300122038217,
            6.3086794369639145
           ],
           "yaxis": "y"
          },
          {
           "hovertemplate": "<b>%{hovertext}</b><br><br>Data points=Bangladesh<br>Period=2020-09-14<br>Log of Deaths=%{x}<br>Log of Pageviews=%{y}<extra></extra>",
           "hovertext": [
            "Bangladesh"
           ],
           "legendgroup": "Bangladesh",
           "marker": {
            "color": "#EF553B",
            "symbol": "circle"
           },
           "mode": "markers",
           "name": "Bangladesh",
           "orientation": "v",
           "showlegend": true,
           "type": "scatter",
           "x": [
            0.31535326042047884
           ],
           "xaxis": "x",
           "y": [
            3.5120623460954836
           ],
           "yaxis": "y"
          },
          {
           "hovertemplate": "Data points=Bangladesh<br>Period=2020-09-14<extra></extra>",
           "legendgroup": "Bangladesh",
           "line": {
            "color": "black"
           },
           "marker": {
            "color": "#EF553B",
            "symbol": "circle"
           },
           "mode": "lines",
           "name": "Bangladesh",
           "showlegend": false,
           "type": "scatter",
           "xaxis": "x",
           "yaxis": "y"
          },
          {
           "hovertemplate": "<b>%{hovertext}</b><br><br>Data points=Sweden<br>Period=2020-09-14<br>Log of Deaths=%{x}<br>Log of Pageviews=%{y}<extra></extra>",
           "hovertext": [
            "Sweden"
           ],
           "legendgroup": "Sweden",
           "marker": {
            "color": "#00cc96",
            "symbol": "circle"
           },
           "mode": "markers",
           "name": "Sweden",
           "orientation": "v",
           "showlegend": true,
           "type": "scatter",
           "x": [
            0.9342833747667008
           ],
           "xaxis": "x",
           "y": [
            6.544670537117246
           ],
           "yaxis": "y"
          },
          {
           "hovertemplate": "Data points=Sweden<br>Period=2020-09-14<extra></extra>",
           "legendgroup": "Sweden",
           "line": {
            "color": "black"
           },
           "marker": {
            "color": "#00cc96",
            "symbol": "circle"
           },
           "mode": "lines",
           "name": "Sweden",
           "showlegend": false,
           "type": "scatter",
           "xaxis": "x",
           "yaxis": "y"
          },
          {
           "hovertemplate": "<b>%{hovertext}</b><br><br>Data points=Germany<br>Period=2020-09-14<br>Log of Deaths=%{x}<br>Log of Pageviews=%{y}<extra></extra>",
           "hovertext": [
            "Germany"
           ],
           "legendgroup": "Germany",
           "marker": {
            "color": "#ab63fa",
            "symbol": "circle"
           },
           "mode": "markers",
           "name": "Germany",
           "orientation": "v",
           "showlegend": true,
           "type": "scatter",
           "x": [
            -0.9889983400601249
           ],
           "xaxis": "x",
           "y": [
            8.149315821458655
           ],
           "yaxis": "y"
          },
          {
           "hovertemplate": "Data points=Germany<br>Period=2020-09-14<extra></extra>",
           "legendgroup": "Germany",
           "line": {
            "color": "black"
           },
           "marker": {
            "color": "#ab63fa",
            "symbol": "circle"
           },
           "mode": "lines",
           "name": "Germany",
           "showlegend": false,
           "type": "scatter",
           "xaxis": "x",
           "yaxis": "y"
          },
          {
           "hovertemplate": "<b>%{hovertext}</b><br><br>Data points=Thailand<br>Period=2020-09-14<br>Log of Deaths=%{x}<br>Log of Pageviews=%{y}<extra></extra>",
           "hovertext": [
            "Thailand"
           ],
           "legendgroup": "Thailand",
           "marker": {
            "color": "#FFA15A",
            "symbol": "circle"
           },
           "mode": "markers",
           "name": "Thailand",
           "orientation": "v",
           "showlegend": true,
           "type": "scatter",
           "x": [
            -4.605170185988091
           ],
           "xaxis": "x",
           "y": [
            4.7708546595719685
           ],
           "yaxis": "y"
          },
          {
           "hovertemplate": "Data points=Thailand<br>Period=2020-09-14<extra></extra>",
           "legendgroup": "Thailand",
           "line": {
            "color": "black"
           },
           "marker": {
            "color": "#FFA15A",
            "symbol": "circle"
           },
           "mode": "lines",
           "name": "Thailand",
           "showlegend": false,
           "type": "scatter",
           "xaxis": "x",
           "yaxis": "y"
          }
         ],
         "name": "2020-09-14"
        },
        {
         "data": [
          {
           "hovertemplate": "<b>%{hovertext}</b><br><br>Data points=Other<br>Period=2020-11-12<br>Log of Deaths=%{x}<br>Log of Pageviews=%{y}<extra></extra>",
           "hovertext": [
            "Italy",
            "Russia",
            "China",
            "Albania",
            "Botswana",
            "Cambodia",
            "Croatia",
            "Greece",
            "Finland",
            "Norway",
            "Malaysia",
            "Israel",
            "Lithuania",
            "Serbia",
            "Slovakia",
            "Slovenia",
            "Turkey",
            "Vietnam",
            "Bulgaria",
            "Czechia",
            "Denmark",
            "Georgia",
            "Hungary",
            "Iceland",
            "Japan",
            "Kazakhstan",
            "South Korea",
            "Kyrgyzstan",
            "Netherlands",
            "Poland",
            "Romania",
            "Tajikistan",
            "Azerbaijan",
            "Mongolia"
           ],
           "legendgroup": "Other",
           "marker": {
            "color": "#636efa",
            "symbol": "circle"
           },
           "mode": "markers",
           "name": "Other",
           "orientation": "v",
           "showlegend": true,
           "type": "scatter",
           "x": [
            2.8306895227056668,
            2.288260585019013,
            -4.5635293077956405,
            2.3043415180233326,
            -0.31074004313028175,
            -4.605170185988091,
            3.0379029921001175,
            2.0617941611316657,
            0.0046464324210213955,
            -0.6339411859087245,
            -0.5473204636098011,
            2.8010097018041966,
            2.1472562228033953,
            1.4451338999232992,
            2.1895653798623766,
            3.4985406265978334,
            1.62764474398314,
            -4.605170185988091,
            3.0964099897986634,
            4.014825311634156,
            0.798479798258848,
            2.954365612852051,
            3.2553062119330742,
            1.411762933021637,
            -1.0780209905277625,
            0.6736637603215909,
            -1.445149565132885,
            0.7597267003536073,
            2.5664253591870603,
            3.0794611545148127,
            3.2085505072202745,
            -1.9964449603680765,
            1.4138617630883403,
            -4.605170185988091
           ],
           "xaxis": "x",
           "y": [
            7.636253160166835,
            6.79404256648175,
            4.514568922366297,
            6.350357254659266,
            5.857270494867059,
            1.1587765012520232,
            6.786297481527649,
            7.017789686767081,
            7.370645206469378,
            6.191750463587744,
            6.026515076365712,
            7.493967933977059,
            6.441137720261782,
            4.620069797544281,
            7.328889639421714,
            7.121377811474039,
            5.736321076348229,
            5.455647921904437,
            6.61381545207009,
            8.05436076407577,
            6.139177242439417,
            5.486537187738141,
            7.693840152551201,
            6.974363314065183,
            6.3220458991799955,
            3.8091269556870833,
            4.306756201771652,
            3.566442770020852,
            7.595731137909555,
            7.615193856728165,
            5.2697390904521315,
            1.7130696476786396,
            4.37961025598917,
            2.9158625296655725
           ],
           "yaxis": "y"
          },
          {
           "hovertemplate": "<b>OLS trendline</b><br>Log of Pageviews = 0.470329 * Log of Deaths + 5.43178<br>R<sup>2</sup>=0.475919<br><br>Data points=Other<br>Period=2020-11-12<br>Log of Deaths=%{x}<br>Log of Pageviews=%{y} <b>(trend)</b><extra></extra>",
           "legendgroup": "Other",
           "line": {
            "color": "black"
           },
           "marker": {
            "color": "#636efa",
            "symbol": "circle"
           },
           "mode": "lines",
           "name": "Other",
           "showlegend": false,
           "type": "scatter",
           "x": [
            -4.605170185988091,
            -4.605170185988091,
            -4.605170185988091,
            -4.5635293077956405,
            -1.9964449603680765,
            -1.445149565132885,
            -1.0780209905277625,
            -0.6339411859087245,
            -0.5473204636098011,
            -0.31074004313028175,
            0.0046464324210213955,
            0.6736637603215909,
            0.7597267003536073,
            0.798479798258848,
            1.411762933021637,
            1.4138617630883403,
            1.4451338999232992,
            1.62764474398314,
            2.0617941611316657,
            2.1472562228033953,
            2.1895653798623766,
            2.288260585019013,
            2.3043415180233326,
            2.5664253591870603,
            2.8010097018041966,
            2.8306895227056668,
            2.954365612852051,
            3.0379029921001175,
            3.0794611545148127,
            3.0964099897986634,
            3.2085505072202745,
            3.2553062119330742,
            3.4985406265978334,
            4.014825311634156
           ],
           "xaxis": "x",
           "y": [
            3.2658393087413438,
            3.2658393087413438,
            3.2658393087413438,
            3.2854242212997695,
            4.492798432816476,
            4.752088644219887,
            4.924759859224293,
            5.133623469214238,
            5.174363706827183,
            5.285634339178234,
            5.433969744527642,
            5.748627994683856,
            5.789105891121537,
            5.8073325968680996,
            6.0957774397548254,
            6.096764580399204,
            6.111472773213899,
            6.197312915810233,
            6.401505976601325,
            6.441701262521282,
            6.4616004860100675,
            6.508019703059123,
            6.515583032182297,
            6.638848662855251,
            6.749180481903328,
            6.763139762358907,
            6.821308214039739,
            6.86059826600195,
            6.880144274931421,
            6.888115803664972,
            6.940858740973078,
            6.962849304768963,
            7.07724950354462,
            7.320073162665338
           ],
           "yaxis": "y"
          },
          {
           "hovertemplate": "<b>%{hovertext}</b><br><br>Data points=Bangladesh<br>Period=2020-11-12<br>Log of Deaths=%{x}<br>Log of Pageviews=%{y}<extra></extra>",
           "hovertext": [
            "Bangladesh"
           ],
           "legendgroup": "Bangladesh",
           "marker": {
            "color": "#EF553B",
            "symbol": "circle"
           },
           "mode": "markers",
           "name": "Bangladesh",
           "orientation": "v",
           "showlegend": true,
           "type": "scatter",
           "x": [
            -0.182279723788273
           ],
           "xaxis": "x",
           "y": [
            3.513673382032255
           ],
           "yaxis": "y"
          },
          {
           "hovertemplate": "Data points=Bangladesh<br>Period=2020-11-12<extra></extra>",
           "legendgroup": "Bangladesh",
           "line": {
            "color": "black"
           },
           "marker": {
            "color": "#EF553B",
            "symbol": "circle"
           },
           "mode": "lines",
           "name": "Bangladesh",
           "showlegend": false,
           "type": "scatter",
           "xaxis": "x",
           "yaxis": "y"
          },
          {
           "hovertemplate": "<b>%{hovertext}</b><br><br>Data points=Sweden<br>Period=2020-11-12<br>Log of Deaths=%{x}<br>Log of Pageviews=%{y}<extra></extra>",
           "hovertext": [
            "Sweden"
           ],
           "legendgroup": "Sweden",
           "marker": {
            "color": "#00cc96",
            "symbol": "circle"
           },
           "mode": "markers",
           "name": "Sweden",
           "orientation": "v",
           "showlegend": true,
           "type": "scatter",
           "x": [
            1.1080079765821313
           ],
           "xaxis": "x",
           "y": [
            6.726850820064864
           ],
           "yaxis": "y"
          },
          {
           "hovertemplate": "Data points=Sweden<br>Period=2020-11-12<extra></extra>",
           "legendgroup": "Sweden",
           "line": {
            "color": "black"
           },
           "marker": {
            "color": "#00cc96",
            "symbol": "circle"
           },
           "mode": "lines",
           "name": "Sweden",
           "showlegend": false,
           "type": "scatter",
           "xaxis": "x",
           "yaxis": "y"
          },
          {
           "hovertemplate": "<b>%{hovertext}</b><br><br>Data points=Germany<br>Period=2020-11-12<br>Log of Deaths=%{x}<br>Log of Pageviews=%{y}<extra></extra>",
           "hovertext": [
            "Germany"
           ],
           "legendgroup": "Germany",
           "marker": {
            "color": "#ab63fa",
            "symbol": "circle"
           },
           "mode": "markers",
           "name": "Germany",
           "orientation": "v",
           "showlegend": true,
           "type": "scatter",
           "x": [
            1.3426307859091786
           ],
           "xaxis": "x",
           "y": [
            8.269192170468822
           ],
           "yaxis": "y"
          },
          {
           "hovertemplate": "Data points=Germany<br>Period=2020-11-12<extra></extra>",
           "legendgroup": "Germany",
           "line": {
            "color": "black"
           },
           "marker": {
            "color": "#ab63fa",
            "symbol": "circle"
           },
           "mode": "lines",
           "name": "Germany",
           "showlegend": false,
           "type": "scatter",
           "xaxis": "x",
           "yaxis": "y"
          },
          {
           "hovertemplate": "<b>%{hovertext}</b><br><br>Data points=Thailand<br>Period=2020-11-12<br>Log of Deaths=%{x}<br>Log of Pageviews=%{y}<extra></extra>",
           "hovertext": [
            "Thailand"
           ],
           "legendgroup": "Thailand",
           "marker": {
            "color": "#FFA15A",
            "symbol": "circle"
           },
           "mode": "markers",
           "name": "Thailand",
           "orientation": "v",
           "showlegend": true,
           "type": "scatter",
           "x": [
            -4.353219150250863
           ],
           "xaxis": "x",
           "y": [
            4.512385468574832
           ],
           "yaxis": "y"
          },
          {
           "hovertemplate": "Data points=Thailand<br>Period=2020-11-12<extra></extra>",
           "legendgroup": "Thailand",
           "line": {
            "color": "black"
           },
           "marker": {
            "color": "#FFA15A",
            "symbol": "circle"
           },
           "mode": "lines",
           "name": "Thailand",
           "showlegend": false,
           "type": "scatter",
           "xaxis": "x",
           "yaxis": "y"
          }
         ],
         "name": "2020-11-12"
        },
        {
         "data": [
          {
           "hovertemplate": "<b>%{hovertext}</b><br><br>Data points=Other<br>Period=2021-01-10<br>Log of Deaths=%{x}<br>Log of Pageviews=%{y}<extra></extra>",
           "hovertext": [
            "Italy",
            "Russia",
            "China",
            "Albania",
            "Botswana",
            "Cambodia",
            "Croatia",
            "Greece",
            "Finland",
            "Norway",
            "Malaysia",
            "Israel",
            "Lithuania",
            "Serbia",
            "Slovakia",
            "Slovenia",
            "Turkey",
            "Vietnam",
            "Bulgaria",
            "Czechia",
            "Denmark",
            "Georgia",
            "Hungary",
            "Iceland",
            "Japan",
            "Kazakhstan",
            "South Korea",
            "Kyrgyzstan",
            "Netherlands",
            "Poland",
            "Romania",
            "Tajikistan",
            "Azerbaijan",
            "Mongolia"
           ],
           "legendgroup": "Other",
           "marker": {
            "color": "#636efa",
            "symbol": "circle"
           },
           "mode": "markers",
           "name": "Other",
           "orientation": "v",
           "showlegend": true,
           "type": "scatter",
           "x": [
            4.0923304292927405,
            3.0489103029580145,
            -4.361142138708795,
            3.1068650007090644,
            0.561599679561318,
            -4.605170185988091,
            4.450721075728242,
            3.6834556265296823,
            1.6276302796620978,
            1.4244053083503754,
            -0.15843577615137464,
            2.53267908208911,
            4.312282118638556,
            3.6591032854945875,
            3.9505233279454157,
            4.690725221472002,
            2.661166827380342,
            -4.605170185988091,
            4.489352343424752,
            4.265124474852863,
            2.7975248188966537,
            4.060997231383829,
            4.405824906763256,
            0.09668684820437061,
            0.6937038483635469,
            1.0233481948771916,
            0.36563637780055036,
            1.004450347291902,
            3.214824202957804,
            4.077373686352286,
            3.7298209690732915,
            -2.6185482536225124,
            2.9859677971829472,
            -3.2063622197300776
           ],
           "xaxis": "x",
           "y": [
            7.1724021249704775,
            6.769115385551656,
            4.583961178806389,
            6.620562484941629,
            3.9417042418447417,
            1.5307253488411332,
            6.695544609383034,
            7.107993847891015,
            7.4344751646316185,
            6.081685600425371,
            5.887944494621691,
            6.593352074765134,
            6.801969868808938,
            5.046696902512525,
            7.052839984824139,
            7.046374685159482,
            6.3466753840602035,
            5.467072591196542,
            6.00612553084266,
            7.492101418146895,
            6.19299414065318,
            6.3075435009442415,
            7.776592773247331,
            6.414179967988562,
            6.709640816601744,
            3.8937334502638787,
            4.597422573081166,
            4.028579803866547,
            7.601675443257684,
            7.033358340394736,
            5.37030606408302,
            2.4137938525229874,
            5.396242609229325,
            3.6021071662936595
           ],
           "yaxis": "y"
          },
          {
           "hovertemplate": "<b>OLS trendline</b><br>Log of Pageviews = 0.391286 * Log of Deaths + 5.14617<br>R<sup>2</sup>=0.524789<br><br>Data points=Other<br>Period=2021-01-10<br>Log of Deaths=%{x}<br>Log of Pageviews=%{y} <b>(trend)</b><extra></extra>",
           "legendgroup": "Other",
           "line": {
            "color": "black"
           },
           "marker": {
            "color": "#636efa",
            "symbol": "circle"
           },
           "mode": "lines",
           "name": "Other",
           "showlegend": false,
           "type": "scatter",
           "x": [
            -4.605170185988091,
            -4.605170185988091,
            -4.361142138708795,
            -3.2063622197300776,
            -2.6185482536225124,
            -0.15843577615137464,
            0.09668684820437061,
            0.36563637780055036,
            0.561599679561318,
            0.6937038483635469,
            1.004450347291902,
            1.0233481948771916,
            1.4244053083503754,
            1.6276302796620978,
            2.53267908208911,
            2.661166827380342,
            2.7975248188966537,
            2.9859677971829472,
            3.0489103029580145,
            3.1068650007090644,
            3.214824202957804,
            3.6591032854945875,
            3.6834556265296823,
            3.7298209690732915,
            3.9505233279454157,
            4.060997231383829,
            4.077373686352286,
            4.0923304292927405,
            4.265124474852863,
            4.312282118638556,
            4.405824906763256,
            4.450721075728242,
            4.489352343424752,
            4.690725221472002
           ],
           "xaxis": "x",
           "y": [
            3.3442322718395694,
            3.3442322718395694,
            3.439716972047747,
            3.891565911542423,
            4.121569146653024,
            5.084176129779339,
            5.1840019800229005,
            5.289238101407053,
            5.365915751083182,
            5.4176062313167686,
            5.539196911657521,
            5.546591370332986,
            5.703519308220858,
            5.783038345794051,
            6.137171055279717,
            6.187446480487363,
            6.240801420979192,
            6.314536475160931,
            6.339164981438348,
            6.361841829456892,
            6.404084728075986,
            6.577924807024928,
            6.587453531321287,
            6.6055956296668885,
            6.691953320133604,
            6.735180185521626,
            6.741588059167995,
            6.747440419712952,
            6.815052269342608,
            6.833504383882734,
            6.870106344929045,
            6.887673576572754,
            6.902789441555443,
            6.981583781406028
           ],
           "yaxis": "y"
          },
          {
           "hovertemplate": "<b>%{hovertext}</b><br><br>Data points=Bangladesh<br>Period=2021-01-10<br>Log of Deaths=%{x}<br>Log of Pageviews=%{y}<extra></extra>",
           "hovertext": [
            "Bangladesh"
           ],
           "legendgroup": "Bangladesh",
           "marker": {
            "color": "#EF553B",
            "symbol": "circle"
           },
           "mode": "markers",
           "name": "Bangladesh",
           "orientation": "v",
           "showlegend": true,
           "type": "scatter",
           "x": [
            0.010014157345999405
           ],
           "xaxis": "x",
           "y": [
            3.421089651625001
           ],
           "yaxis": "y"
          },
          {
           "hovertemplate": "Data points=Bangladesh<br>Period=2021-01-10<extra></extra>",
           "legendgroup": "Bangladesh",
           "line": {
            "color": "black"
           },
           "marker": {
            "color": "#EF553B",
            "symbol": "circle"
           },
           "mode": "lines",
           "name": "Bangladesh",
           "showlegend": false,
           "type": "scatter",
           "xaxis": "x",
           "yaxis": "y"
          },
          {
           "hovertemplate": "<b>%{hovertext}</b><br><br>Data points=Sweden<br>Period=2021-01-10<br>Log of Deaths=%{x}<br>Log of Pageviews=%{y}<extra></extra>",
           "hovertext": [
            "Sweden"
           ],
           "legendgroup": "Sweden",
           "marker": {
            "color": "#00cc96",
            "symbol": "circle"
           },
           "mode": "markers",
           "name": "Sweden",
           "orientation": "v",
           "showlegend": true,
           "type": "scatter",
           "x": [
            3.6933747316151906
           ],
           "xaxis": "x",
           "y": [
            7.008234134713531
           ],
           "yaxis": "y"
          },
          {
           "hovertemplate": "Data points=Sweden<br>Period=2021-01-10<extra></extra>",
           "legendgroup": "Sweden",
           "line": {
            "color": "black"
           },
           "marker": {
            "color": "#00cc96",
            "symbol": "circle"
           },
           "mode": "lines",
           "name": "Sweden",
           "showlegend": false,
           "type": "scatter",
           "xaxis": "x",
           "yaxis": "y"
          },
          {
           "hovertemplate": "<b>%{hovertext}</b><br><br>Data points=Germany<br>Period=2021-01-10<br>Log of Deaths=%{x}<br>Log of Pageviews=%{y}<extra></extra>",
           "hovertext": [
            "Germany"
           ],
           "legendgroup": "Germany",
           "marker": {
            "color": "#ab63fa",
            "symbol": "circle"
           },
           "mode": "markers",
           "name": "Germany",
           "orientation": "v",
           "showlegend": true,
           "type": "scatter",
           "x": [
            3.6642575029476885
           ],
           "xaxis": "x",
           "y": [
            8.142547447001164
           ],
           "yaxis": "y"
          },
          {
           "hovertemplate": "Data points=Germany<br>Period=2021-01-10<extra></extra>",
           "legendgroup": "Germany",
           "line": {
            "color": "black"
           },
           "marker": {
            "color": "#ab63fa",
            "symbol": "circle"
           },
           "mode": "lines",
           "name": "Germany",
           "showlegend": false,
           "type": "scatter",
           "xaxis": "x",
           "yaxis": "y"
          },
          {
           "hovertemplate": "<b>%{hovertext}</b><br><br>Data points=Thailand<br>Period=2021-01-10<br>Log of Deaths=%{x}<br>Log of Pageviews=%{y}<extra></extra>",
           "hovertext": [
            "Thailand"
           ],
           "legendgroup": "Thailand",
           "marker": {
            "color": "#FFA15A",
            "symbol": "circle"
           },
           "mode": "markers",
           "name": "Thailand",
           "orientation": "v",
           "showlegend": true,
           "type": "scatter",
           "x": [
            -3.7161827362570765
           ],
           "xaxis": "x",
           "y": [
            4.787849921313003
           ],
           "yaxis": "y"
          },
          {
           "hovertemplate": "Data points=Thailand<br>Period=2021-01-10<extra></extra>",
           "legendgroup": "Thailand",
           "line": {
            "color": "black"
           },
           "marker": {
            "color": "#FFA15A",
            "symbol": "circle"
           },
           "mode": "lines",
           "name": "Thailand",
           "showlegend": false,
           "type": "scatter",
           "xaxis": "x",
           "yaxis": "y"
          }
         ],
         "name": "2021-01-10"
        },
        {
         "data": [
          {
           "hovertemplate": "<b>%{hovertext}</b><br><br>Data points=Other<br>Period=2021-03-10<br>Log of Deaths=%{x}<br>Log of Pageviews=%{y}<extra></extra>",
           "hovertext": [
            "Italy",
            "Russia",
            "China",
            "Albania",
            "Botswana",
            "Cambodia",
            "Croatia",
            "Greece",
            "Finland",
            "Norway",
            "Malaysia",
            "Israel",
            "Lithuania",
            "Serbia",
            "Slovakia",
            "Slovenia",
            "Turkey",
            "Vietnam",
            "Bulgaria",
            "Czechia",
            "Denmark",
            "Georgia",
            "Hungary",
            "Iceland",
            "Japan",
            "Kazakhstan",
            "South Korea",
            "Kyrgyzstan",
            "Netherlands",
            "Poland",
            "Romania",
            "Tajikistan",
            "Azerbaijan",
            "Mongolia"
           ],
           "legendgroup": "Other",
           "marker": {
            "color": "#636efa",
            "symbol": "circle"
           },
           "mode": "markers",
           "name": "Other",
           "orientation": "v",
           "showlegend": true,
           "type": "scatter",
           "x": [
            3.596522403536706,
            2.961732602646366,
            -4.236050849851809,
            3.3542183040648563,
            2.772522708526347,
            -4.136340411240738,
            3.34452897717001,
            2.8092775727661556,
            1.1380139058427867,
            0.8394345898966884,
            0.6821442749282485,
            3.1446284777630815,
            3.6052662311832746,
            2.742078667898991,
            4.577065813914287,
            3.6638870204042395,
            1.9566420037244692,
            -4.605170185988091,
            3.8074270746040053,
            4.499913277168874,
            2.4497333419285234,
            3.0233237425961215,
            4.12794176130945,
            -4.605170185988091,
            1.2213853891152633,
            1.208261018050783,
            -0.12997368570198514,
            0.45449228161167793,
            2.9258167559531434,
            3.6606585495118917,
            3.1737434098154167,
            -4.605170185988091,
            1.1413324861378127,
            -2.2875874485283867
           ],
           "xaxis": "x",
           "y": [
            6.368121407885261,
            6.470264210706942,
            4.412103652965366,
            6.620609444798572,
            5.686678570147757,
            2.1162535720541356,
            6.285094263540615,
            6.242299847066405,
            7.158386276228895,
            5.663325093727599,
            6.065597450206052,
            6.587659057200647,
            6.3241551122955775,
            4.899553999557634,
            6.572357681726862,
            6.7328292944607995,
            5.743009058732027,
            5.82702370522697,
            5.152111110551028,
            7.453264178955031,
            5.399882305961661,
            5.89742584872257,
            7.0162951737059185,
            6.075924615428902,
            6.142478408789296,
            4.024942455088014,
            4.332347498410789,
            4.25103828632523,
            7.373693320935763,
            6.738123229319149,
            5.007502462377304,
            1.731798408433185,
            4.7918798250144805,
            4.780445389506486
           ],
           "yaxis": "y"
          },
          {
           "hovertemplate": "<b>OLS trendline</b><br>Log of Pageviews = 0.294421 * Log of Deaths + 5.22738<br>R<sup>2</sup>=0.410176<br><br>Data points=Other<br>Period=2021-03-10<br>Log of Deaths=%{x}<br>Log of Pageviews=%{y} <b>(trend)</b><extra></extra>",
           "legendgroup": "Other",
           "line": {
            "color": "black"
           },
           "marker": {
            "color": "#636efa",
            "symbol": "circle"
           },
           "mode": "lines",
           "name": "Other",
           "showlegend": false,
           "type": "scatter",
           "x": [
            -4.605170185988091,
            -4.605170185988091,
            -4.605170185988091,
            -4.236050849851809,
            -4.136340411240738,
            -2.2875874485283867,
            -0.12997368570198514,
            0.45449228161167793,
            0.6821442749282485,
            0.8394345898966884,
            1.1380139058427867,
            1.1413324861378127,
            1.208261018050783,
            1.2213853891152633,
            1.9566420037244692,
            2.4497333419285234,
            2.742078667898991,
            2.772522708526347,
            2.8092775727661556,
            2.9258167559531434,
            2.961732602646366,
            3.0233237425961215,
            3.1446284777630815,
            3.1737434098154167,
            3.34452897717001,
            3.3542183040648563,
            3.596522403536706,
            3.6052662311832746,
            3.6606585495118917,
            3.6638870204042395,
            3.8074270746040053,
            4.12794176130945,
            4.499913277168874,
            4.577065813914287
           ],
           "xaxis": "x",
           "y": [
            3.8715177799511933,
            3.8715177799511933,
            3.8715177799511933,
            3.9801943468392555,
            4.009551216258725,
            4.553863327119081,
            5.189110612912408,
            5.361189798618107,
            5.428215377223219,
            5.474524984339549,
            5.562433072115335,
            5.563410132589005,
            5.5831153129008655,
            5.586979406298904,
            5.8034545590066084,
            5.948631114532468,
            6.034703783346847,
            6.043667155063468,
            6.054488567194921,
            6.088800176197233,
            6.099374563755343,
            6.117508302590391,
            6.153222991241499,
            6.161795045184126,
            6.212077941031323,
            6.2149306845191346,
            6.286270154158249,
            6.288844522599731,
            6.305153196783362,
            6.3061037271363665,
            6.348364965641622,
            6.442731292133633,
            6.552247601267938,
            6.574962945600648
           ],
           "yaxis": "y"
          },
          {
           "hovertemplate": "<b>%{hovertext}</b><br><br>Data points=Bangladesh<br>Period=2021-03-10<br>Log of Deaths=%{x}<br>Log of Pageviews=%{y}<extra></extra>",
           "hovertext": [
            "Bangladesh"
           ],
           "legendgroup": "Bangladesh",
           "marker": {
            "color": "#EF553B",
            "symbol": "circle"
           },
           "mode": "markers",
           "name": "Bangladesh",
           "orientation": "v",
           "showlegend": true,
           "type": "scatter",
           "x": [
            -0.784616390035785
           ],
           "xaxis": "x",
           "y": [
            2.711164813627384
           ],
           "yaxis": "y"
          },
          {
           "hovertemplate": "Data points=Bangladesh<br>Period=2021-03-10<extra></extra>",
           "legendgroup": "Bangladesh",
           "line": {
            "color": "black"
           },
           "marker": {
            "color": "#EF553B",
            "symbol": "circle"
           },
           "mode": "lines",
           "name": "Bangladesh",
           "showlegend": false,
           "type": "scatter",
           "xaxis": "x",
           "yaxis": "y"
          },
          {
           "hovertemplate": "<b>%{hovertext}</b><br><br>Data points=Sweden<br>Period=2021-03-10<br>Log of Deaths=%{x}<br>Log of Pageviews=%{y}<extra></extra>",
           "hovertext": [
            "Sweden"
           ],
           "legendgroup": "Sweden",
           "marker": {
            "color": "#00cc96",
            "symbol": "circle"
           },
           "mode": "markers",
           "name": "Sweden",
           "orientation": "v",
           "showlegend": true,
           "type": "scatter",
           "x": [
            3.315182556853534
           ],
           "xaxis": "x",
           "y": [
            5.760321351422922
           ],
           "yaxis": "y"
          },
          {
           "hovertemplate": "Data points=Sweden<br>Period=2021-03-10<extra></extra>",
           "legendgroup": "Sweden",
           "line": {
            "color": "black"
           },
           "marker": {
            "color": "#00cc96",
            "symbol": "circle"
           },
           "mode": "lines",
           "name": "Sweden",
           "showlegend": false,
           "type": "scatter",
           "xaxis": "x",
           "yaxis": "y"
          },
          {
           "hovertemplate": "<b>%{hovertext}</b><br><br>Data points=Germany<br>Period=2021-03-10<br>Log of Deaths=%{x}<br>Log of Pageviews=%{y}<extra></extra>",
           "hovertext": [
            "Germany"
           ],
           "legendgroup": "Germany",
           "marker": {
            "color": "#ab63fa",
            "symbol": "circle"
           },
           "mode": "markers",
           "name": "Germany",
           "orientation": "v",
           "showlegend": true,
           "type": "scatter",
           "x": [
            3.5402555541143665
           ],
           "xaxis": "x",
           "y": [
            7.994146124629934
           ],
           "yaxis": "y"
          },
          {
           "hovertemplate": "Data points=Germany<br>Period=2021-03-10<extra></extra>",
           "legendgroup": "Germany",
           "line": {
            "color": "black"
           },
           "marker": {
            "color": "#ab63fa",
            "symbol": "circle"
           },
           "mode": "lines",
           "name": "Germany",
           "showlegend": false,
           "type": "scatter",
           "xaxis": "x",
           "yaxis": "y"
          },
          {
           "hovertemplate": "<b>%{hovertext}</b><br><br>Data points=Thailand<br>Period=2021-03-10<br>Log of Deaths=%{x}<br>Log of Pageviews=%{y}<extra></extra>",
           "hovertext": [
            "Thailand"
           ],
           "legendgroup": "Thailand",
           "marker": {
            "color": "#FFA15A",
            "symbol": "circle"
           },
           "mode": "markers",
           "name": "Thailand",
           "orientation": "v",
           "showlegend": true,
           "type": "scatter",
           "x": [
            -3.330143370949105
           ],
           "xaxis": "x",
           "y": [
            3.6708813729186254
           ],
           "yaxis": "y"
          },
          {
           "hovertemplate": "Data points=Thailand<br>Period=2021-03-10<extra></extra>",
           "legendgroup": "Thailand",
           "line": {
            "color": "black"
           },
           "marker": {
            "color": "#FFA15A",
            "symbol": "circle"
           },
           "mode": "lines",
           "name": "Thailand",
           "showlegend": false,
           "type": "scatter",
           "xaxis": "x",
           "yaxis": "y"
          }
         ],
         "name": "2021-03-10"
        },
        {
         "data": [
          {
           "hovertemplate": "<b>%{hovertext}</b><br><br>Data points=Other<br>Period=2021-05-08<br>Log of Deaths=%{x}<br>Log of Pageviews=%{y}<extra></extra>",
           "hovertext": [
            "Italy",
            "Russia",
            "China",
            "Albania",
            "Botswana",
            "Cambodia",
            "Croatia",
            "Greece",
            "Finland",
            "Norway",
            "Malaysia",
            "Israel",
            "Lithuania",
            "Serbia",
            "Slovakia",
            "Slovenia",
            "Turkey",
            "Vietnam",
            "Bulgaria",
            "Czechia",
            "Denmark",
            "Georgia",
            "Hungary",
            "Iceland",
            "Japan",
            "Kazakhstan",
            "South Korea",
            "Kyrgyzstan",
            "Netherlands",
            "Poland",
            "Romania",
            "Tajikistan",
            "Azerbaijan",
            "Mongolia"
           ],
           "legendgroup": "Other",
           "marker": {
            "color": "#636efa",
            "symbol": "circle"
           },
           "mode": "markers",
           "name": "Other",
           "orientation": "v",
           "showlegend": true,
           "type": "scatter",
           "x": [
            3.5677952079270736,
            2.73315634793367,
            -4.570350151373768,
            2.518805594057046,
            2.5924499592197816,
            -0.12413625440305429,
            3.8953643275692977,
            3.662807318827088,
            0.7626694675189692,
            0.9092098096219677,
            0.6914721699930126,
            1.3399796318502573,
            3.1773187185652865,
            3.3085993737115986,
            4.170521082404613,
            2.8924170996940024,
            2.8731907120446345,
            -4.507377467447199,
            4.404218908500287,
            4.064514185785852,
            0.6124210600277572,
            3.027235741943385,
            4.803499120387196,
            -4.605170185988091,
            0.795947611102842,
            2.9169280678140344,
            -0.860764748454213,
            1.163631277274293,
            2.022997644244966,
            4.149745972639551,
            3.6999715016621058,
            -4.605170185988091,
            2.67926485535108,
            1.7482765685095931
           ],
           "xaxis": "x",
           "y": [
            6.226846906399918,
            6.449831431372173,
            4.457076148288009,
            6.515902401190121,
            5.657713234923734,
            1.6615559798768431,
            6.1639868160559095,
            6.554028808628821,
            6.973137110802383,
            4.945124869049007,
            5.66492351675783,
            5.552663578868812,
            6.21330877465753,
            4.678316962472287,
            5.800835143302382,
            6.439431462737111,
            6.191016823398073,
            5.609371698736253,
            5.146755311800884,
            6.99794200262335,
            4.874207703977064,
            5.915412244577203,
            6.307755704442988,
            5.918742942572682,
            5.921474574070621,
            4.025989637848709,
            4.314138759214722,
            5.486819095051979,
            6.979342958986988,
            6.858735872894047,
            4.939020261289043,
            1.7187251980748797,
            4.986050210675035,
            3.85502315964236
           ],
           "yaxis": "y"
          },
          {
           "hovertemplate": "<b>OLS trendline</b><br>Log of Pageviews = 0.216703 * Log of Deaths + 5.11427<br>R<sup>2</sup>=0.205895<br><br>Data points=Other<br>Period=2021-05-08<br>Log of Deaths=%{x}<br>Log of Pageviews=%{y} <b>(trend)</b><extra></extra>",
           "legendgroup": "Other",
           "line": {
            "color": "black"
           },
           "marker": {
            "color": "#636efa",
            "symbol": "circle"
           },
           "mode": "lines",
           "name": "Other",
           "showlegend": false,
           "type": "scatter",
           "x": [
            -4.605170185988091,
            -4.605170185988091,
            -4.570350151373768,
            -4.507377467447199,
            -0.860764748454213,
            -0.12413625440305429,
            0.6124210600277572,
            0.6914721699930126,
            0.7626694675189692,
            0.795947611102842,
            0.9092098096219677,
            1.163631277274293,
            1.3399796318502573,
            1.7482765685095931,
            2.022997644244966,
            2.518805594057046,
            2.5924499592197816,
            2.67926485535108,
            2.73315634793367,
            2.8731907120446345,
            2.8924170996940024,
            2.9169280678140344,
            3.027235741943385,
            3.1773187185652865,
            3.3085993737115986,
            3.5677952079270736,
            3.662807318827088,
            3.6999715016621058,
            3.8953643275692977,
            4.064514185785852,
            4.149745972639551,
            4.170521082404613,
            4.404218908500287,
            4.803499120387196
           ],
           "xaxis": "x",
           "y": [
            4.116311046978983,
            4.116311046978983,
            4.123856654943757,
            4.137503028092509,
            4.927735153983664,
            5.087364800919903,
            5.246979023014777,
            5.2641096402466365,
            5.2795383123095085,
            5.286749787773582,
            5.3112940524970345,
            5.3664279624425815,
            5.404643190072362,
            5.493122384633021,
            5.552655281717145,
            5.660098380396934,
            5.676057339498718,
            5.69487039293089,
            5.7065488441492445,
            5.736894719013571,
            5.74106113600275,
            5.746372737737768,
            5.770276747992363,
            5.802800187911902,
            5.831249107278723,
            5.887417637056349,
            5.9080070519922625,
            5.916060644043801,
            5.9584028668404025,
            5.995058158299367,
            6.013528147110655,
            6.018030176917593,
            6.068673210374331,
            6.155198453107755
           ],
           "yaxis": "y"
          },
          {
           "hovertemplate": "<b>%{hovertext}</b><br><br>Data points=Bangladesh<br>Period=2021-05-08<br>Log of Deaths=%{x}<br>Log of Pageviews=%{y}<extra></extra>",
           "hovertext": [
            "Bangladesh"
           ],
           "legendgroup": "Bangladesh",
           "marker": {
            "color": "#EF553B",
            "symbol": "circle"
           },
           "mode": "markers",
           "name": "Bangladesh",
           "orientation": "v",
           "showlegend": true,
           "type": "scatter",
           "x": [
            0.7662151869466879
           ],
           "xaxis": "x",
           "y": [
            2.1504326734617485
           ],
           "yaxis": "y"
          },
          {
           "hovertemplate": "Data points=Bangladesh<br>Period=2021-05-08<extra></extra>",
           "legendgroup": "Bangladesh",
           "line": {
            "color": "black"
           },
           "marker": {
            "color": "#EF553B",
            "symbol": "circle"
           },
           "mode": "lines",
           "name": "Bangladesh",
           "showlegend": false,
           "type": "scatter",
           "xaxis": "x",
           "yaxis": "y"
          },
          {
           "hovertemplate": "<b>%{hovertext}</b><br><br>Data points=Sweden<br>Period=2021-05-08<br>Log of Deaths=%{x}<br>Log of Pageviews=%{y}<extra></extra>",
           "hovertext": [
            "Sweden"
           ],
           "legendgroup": "Sweden",
           "marker": {
            "color": "#00cc96",
            "symbol": "circle"
           },
           "mode": "markers",
           "name": "Sweden",
           "orientation": "v",
           "showlegend": true,
           "type": "scatter",
           "x": [
            2.366823123192546
           ],
           "xaxis": "x",
           "y": [
            5.644722903831762
           ],
           "yaxis": "y"
          },
          {
           "hovertemplate": "Data points=Sweden<br>Period=2021-05-08<extra></extra>",
           "legendgroup": "Sweden",
           "line": {
            "color": "black"
           },
           "marker": {
            "color": "#00cc96",
            "symbol": "circle"
           },
           "mode": "lines",
           "name": "Sweden",
           "showlegend": false,
           "type": "scatter",
           "xaxis": "x",
           "yaxis": "y"
          },
          {
           "hovertemplate": "<b>%{hovertext}</b><br><br>Data points=Germany<br>Period=2021-05-08<br>Log of Deaths=%{x}<br>Log of Pageviews=%{y}<extra></extra>",
           "hovertext": [
            "Germany"
           ],
           "legendgroup": "Germany",
           "marker": {
            "color": "#ab63fa",
            "symbol": "circle"
           },
           "mode": "markers",
           "name": "Germany",
           "orientation": "v",
           "showlegend": true,
           "type": "scatter",
           "x": [
            2.7002586987639674
           ],
           "xaxis": "x",
           "y": [
            7.8581875170619995
           ],
           "yaxis": "y"
          },
          {
           "hovertemplate": "Data points=Germany<br>Period=2021-05-08<extra></extra>",
           "legendgroup": "Germany",
           "line": {
            "color": "black"
           },
           "marker": {
            "color": "#ab63fa",
            "symbol": "circle"
           },
           "mode": "lines",
           "name": "Germany",
           "showlegend": false,
           "type": "scatter",
           "xaxis": "x",
           "yaxis": "y"
          },
          {
           "hovertemplate": "<b>%{hovertext}</b><br><br>Data points=Thailand<br>Period=2021-05-08<br>Log of Deaths=%{x}<br>Log of Pageviews=%{y}<extra></extra>",
           "hovertext": [
            "Thailand"
           ],
           "legendgroup": "Thailand",
           "marker": {
            "color": "#FFA15A",
            "symbol": "circle"
           },
           "mode": "markers",
           "name": "Thailand",
           "orientation": "v",
           "showlegend": true,
           "type": "scatter",
           "x": [
            -0.366175208572927
           ],
           "xaxis": "x",
           "y": [
            3.582403540643083
           ],
           "yaxis": "y"
          },
          {
           "hovertemplate": "Data points=Thailand<br>Period=2021-05-08<extra></extra>",
           "legendgroup": "Thailand",
           "line": {
            "color": "black"
           },
           "marker": {
            "color": "#FFA15A",
            "symbol": "circle"
           },
           "mode": "lines",
           "name": "Thailand",
           "showlegend": false,
           "type": "scatter",
           "xaxis": "x",
           "yaxis": "y"
          }
         ],
         "name": "2021-05-08"
        },
        {
         "data": [
          {
           "hovertemplate": "<b>%{hovertext}</b><br><br>Data points=Other<br>Period=2021-07-06<br>Log of Deaths=%{x}<br>Log of Pageviews=%{y}<extra></extra>",
           "hovertext": [
            "Italy",
            "Russia",
            "China",
            "Albania",
            "Botswana",
            "Cambodia",
            "Croatia",
            "Greece",
            "Finland",
            "Norway",
            "Malaysia",
            "Israel",
            "Lithuania",
            "Serbia",
            "Slovakia",
            "Slovenia",
            "Turkey",
            "Vietnam",
            "Bulgaria",
            "Czechia",
            "Denmark",
            "Georgia",
            "Hungary",
            "Iceland",
            "Japan",
            "Kazakhstan",
            "South Korea",
            "Kyrgyzstan",
            "Netherlands",
            "Poland",
            "Romania",
            "Tajikistan",
            "Azerbaijan",
            "Mongolia"
           ],
           "legendgroup": "Other",
           "marker": {
            "color": "#636efa",
            "symbol": "circle"
           },
           "mode": "markers",
           "name": "Other",
           "orientation": "v",
           "showlegend": true,
           "type": "scatter",
           "x": [
            1.8481633800586563,
            3.0141555296261755,
            -4.5567546731188795,
            -0.039338897812933114,
            3.0412649033175816,
            1.6150722939112896,
            2.602631063955328,
            2.605796492973293,
            -0.3100816313275046,
            -0.8265619727459302,
            2.6628271149609963,
            -0.3274075861224846,
            2.4070974132572664,
            1.7911368598928021,
            1.770206401359091,
            1.6102869724765754,
            1.9347875943135455,
            -2.164660761753486,
            2.5729836416944325,
            1.4620046301730332,
            -0.4392873314704309,
            3.3549791642438347,
            2.2224993417784242,
            -1.2627365842349905,
            1.02942651580684,
            1.8550583822298043,
            -1.2060655061781993,
            1.8971154027388766,
            0.6755467335124543,
            2.243870243753035,
            3.2072905126075333,
            -1.5644135708494489,
            0.7837656411433507,
            2.5367498703872764
           ],
           "xaxis": "x",
           "y": [
            5.668268966103748,
            6.600028981043392,
            4.9147620479028875,
            5.8044581185884425,
            5.369300386285746,
            1.472094402435895,
            5.411491803458459,
            5.937510630062814,
            6.367234953756353,
            4.392878903765641,
            5.9326829233102885,
            5.299549448429618,
            5.5772741168128315,
            3.811188462905532,
            5.351286775985023,
            5.784753862687774,
            5.541490488659471,
            5.913930446077536,
            4.4731918750754405,
            6.553601874803291,
            4.866842721954834,
            5.149413704385182,
            5.576127082057868,
            5.552496330632509,
            5.862406198576968,
            2.9391773508220913,
            4.310959285774016,
            2.6176306389982558,
            6.77625715493091,
            6.198721981301232,
            4.3278739499474925,
            1.4030547899982106,
            4.210975087819117,
            2.822421955497574
           ],
           "yaxis": "y"
          },
          {
           "hovertemplate": "<b>OLS trendline</b><br>Log of Pageviews = 0.0554901 * Log of Deaths + 4.90236<br>R<sup>2</sup>=0.005412<br><br>Data points=Other<br>Period=2021-07-06<br>Log of Deaths=%{x}<br>Log of Pageviews=%{y} <b>(trend)</b><extra></extra>",
           "legendgroup": "Other",
           "line": {
            "color": "black"
           },
           "marker": {
            "color": "#636efa",
            "symbol": "circle"
           },
           "mode": "lines",
           "name": "Other",
           "showlegend": false,
           "type": "scatter",
           "x": [
            -4.5567546731188795,
            -2.164660761753486,
            -1.5644135708494489,
            -1.2627365842349905,
            -1.2060655061781993,
            -0.8265619727459302,
            -0.4392873314704309,
            -0.3274075861224846,
            -0.3100816313275046,
            -0.039338897812933114,
            0.6755467335124543,
            0.7837656411433507,
            1.02942651580684,
            1.4620046301730332,
            1.6102869724765754,
            1.6150722939112896,
            1.770206401359091,
            1.7911368598928021,
            1.8481633800586563,
            1.8550583822298043,
            1.8971154027388766,
            1.9347875943135455,
            2.2224993417784242,
            2.243870243753035,
            2.4070974132572664,
            2.5367498703872764,
            2.5729836416944325,
            2.602631063955328,
            2.605796492973293,
            2.6628271149609963,
            3.0141555296261755,
            3.0412649033175816,
            3.2072905126075333,
            3.3549791642438347
           ],
           "xaxis": "x",
           "y": [
            4.64950076439929,
            4.782238232711027,
            4.815545993791509,
            4.832286072122406,
            4.835430754441112,
            4.8564894336191395,
            4.877979332146954,
            4.884187547502668,
            4.885148966017486,
            4.9001725003527286,
            4.93984155698287,
            4.945846632182525,
            4.959478372312438,
            4.98348216391745,
            4.991710362074382,
            4.991975899915219,
            5.000584303027481,
            5.0017457357217285,
            5.004910141549392,
            5.0052927457305465,
            5.007626492913541,
            5.009716925614205,
            5.025682071790358,
            5.026867944723762,
            5.035925432448947,
            5.043119856897781,
            5.045130471551263,
            5.046775609208352,
            5.046951259099006,
            5.050115892537068,
            5.069611132287925,
            5.071115433441912,
            5.0803282067980735,
            5.088523461015909
           ],
           "yaxis": "y"
          },
          {
           "hovertemplate": "<b>%{hovertext}</b><br><br>Data points=Bangladesh<br>Period=2021-07-06<br>Log of Deaths=%{x}<br>Log of Pageviews=%{y}<extra></extra>",
           "hovertext": [
            "Bangladesh"
           ],
           "legendgroup": "Bangladesh",
           "marker": {
            "color": "#EF553B",
            "symbol": "circle"
           },
           "mode": "markers",
           "name": "Bangladesh",
           "orientation": "v",
           "showlegend": true,
           "type": "scatter",
           "x": [
            1.0993785791788722
           ],
           "xaxis": "x",
           "y": [
            2.286272647766539
           ],
           "yaxis": "y"
          },
          {
           "hovertemplate": "Data points=Bangladesh<br>Period=2021-07-06<extra></extra>",
           "legendgroup": "Bangladesh",
           "line": {
            "color": "black"
           },
           "marker": {
            "color": "#EF553B",
            "symbol": "circle"
           },
           "mode": "lines",
           "name": "Bangladesh",
           "showlegend": false,
           "type": "scatter",
           "xaxis": "x",
           "yaxis": "y"
          },
          {
           "hovertemplate": "<b>%{hovertext}</b><br><br>Data points=Sweden<br>Period=2021-07-06<br>Log of Deaths=%{x}<br>Log of Pageviews=%{y}<extra></extra>",
           "hovertext": [
            "Sweden"
           ],
           "legendgroup": "Sweden",
           "marker": {
            "color": "#00cc96",
            "symbol": "circle"
           },
           "mode": "markers",
           "name": "Sweden",
           "orientation": "v",
           "showlegend": true,
           "type": "scatter",
           "x": [
            1.2804277992708755
           ],
           "xaxis": "x",
           "y": [
            5.139325218377895
           ],
           "yaxis": "y"
          },
          {
           "hovertemplate": "Data points=Sweden<br>Period=2021-07-06<extra></extra>",
           "legendgroup": "Sweden",
           "line": {
            "color": "black"
           },
           "marker": {
            "color": "#00cc96",
            "symbol": "circle"
           },
           "mode": "lines",
           "name": "Sweden",
           "showlegend": false,
           "type": "scatter",
           "xaxis": "x",
           "yaxis": "y"
          },
          {
           "hovertemplate": "<b>%{hovertext}</b><br><br>Data points=Germany<br>Period=2021-07-06<br>Log of Deaths=%{x}<br>Log of Pageviews=%{y}<extra></extra>",
           "hovertext": [
            "Germany"
           ],
           "legendgroup": "Germany",
           "marker": {
            "color": "#ab63fa",
            "symbol": "circle"
           },
           "mode": "markers",
           "name": "Germany",
           "orientation": "v",
           "showlegend": true,
           "type": "scatter",
           "x": [
            1.8464835885991333
           ],
           "xaxis": "x",
           "y": [
            7.374234961337158
           ],
           "yaxis": "y"
          },
          {
           "hovertemplate": "Data points=Germany<br>Period=2021-07-06<extra></extra>",
           "legendgroup": "Germany",
           "line": {
            "color": "black"
           },
           "marker": {
            "color": "#ab63fa",
            "symbol": "circle"
           },
           "mode": "lines",
           "name": "Germany",
           "showlegend": false,
           "type": "scatter",
           "xaxis": "x",
           "yaxis": "y"
          },
          {
           "hovertemplate": "<b>%{hovertext}</b><br><br>Data points=Thailand<br>Period=2021-07-06<br>Log of Deaths=%{x}<br>Log of Pageviews=%{y}<extra></extra>",
           "hovertext": [
            "Thailand"
           ],
           "legendgroup": "Thailand",
           "marker": {
            "color": "#FFA15A",
            "symbol": "circle"
           },
           "mode": "markers",
           "name": "Thailand",
           "orientation": "v",
           "showlegend": true,
           "type": "scatter",
           "x": [
            1.2249464744366803
           ],
           "xaxis": "x",
           "y": [
            3.617747638159711
           ],
           "yaxis": "y"
          },
          {
           "hovertemplate": "Data points=Thailand<br>Period=2021-07-06<extra></extra>",
           "legendgroup": "Thailand",
           "line": {
            "color": "black"
           },
           "marker": {
            "color": "#FFA15A",
            "symbol": "circle"
           },
           "mode": "lines",
           "name": "Thailand",
           "showlegend": false,
           "type": "scatter",
           "xaxis": "x",
           "yaxis": "y"
          }
         ],
         "name": "2021-07-06"
        },
        {
         "data": [
          {
           "hovertemplate": "<b>%{hovertext}</b><br><br>Data points=Other<br>Period=2021-09-03<br>Log of Deaths=%{x}<br>Log of Pageviews=%{y}<extra></extra>",
           "hovertext": [
            "Italy",
            "Russia",
            "China",
            "Albania",
            "Botswana",
            "Cambodia",
            "Croatia",
            "Greece",
            "Finland",
            "Norway",
            "Malaysia",
            "Israel",
            "Lithuania",
            "Serbia",
            "Slovakia",
            "Slovenia",
            "Turkey",
            "Vietnam",
            "Bulgaria",
            "Czechia",
            "Denmark",
            "Georgia",
            "Hungary",
            "Iceland",
            "Japan",
            "Kazakhstan",
            "South Korea",
            "Kyrgyzstan",
            "Netherlands",
            "Poland",
            "Romania",
            "Tajikistan",
            "Azerbaijan",
            "Mongolia"
           ],
           "legendgroup": "Other",
           "marker": {
            "color": "#636efa",
            "symbol": "circle"
           },
           "mode": "markers",
           "name": "Other",
           "orientation": "v",
           "showlegend": true,
           "type": "scatter",
           "x": [
            1.2590923431426455,
            3.473363501398726,
            -4.466434796904279,
            1.1235332417837178,
            3.819809014033633,
            1.8428035567895364,
            1.6339433144525675,
            2.540202488123645,
            0.43644526779483733,
            -0.53398437543952,
            3.782094720218357,
            2.3255545088819565,
            2.3265925123034674,
            1.922341974951397,
            -0.4289946921226507,
            0.7432827998838604,
            2.424500416730923,
            2.7450237091848217,
            2.9796609645957086,
            -0.04697187365255008,
            0.2188897812760454,
            4.281510717612613,
            -0.2761402602326628,
            -0.1879736595969934,
            0.3637999823977261,
            3.6494033440858584,
            -0.4975191902497986,
            1.8993924885596156,
            0.6154223871277483,
            -0.41689147397104126,
            1.3594874775015666,
            -1.7881365767041937,
            2.336384492353027,
            2.388746001430856
           ],
           "xaxis": "x",
           "y": [
            5.623785235138464,
            6.267616607327659,
            4.374787246666929,
            5.130798853169579,
            4.804457572007027,
            2.5492786214546226,
            4.73729216720912,
            5.663364997468065,
            6.681560010229407,
            3.9509616050471754,
            5.6461176889365365,
            6.107581573062095,
            5.664575556613413,
            3.7652590262833368,
            5.029903843876873,
            5.900598308216017,
            5.224999086271352,
            5.913291897254243,
            4.578080091473238,
            6.297878542536437,
            4.638590268695524,
            4.946536574241868,
            4.962074178185361,
            5.154955332673373,
            6.068770394416831,
            3.1942537923544196,
            4.26097898221771,
            2.0071025271642764,
            6.381820665759832,
            5.9444278311009855,
            4.048333863463698,
            1.3769404931156168,
            4.292361949363665,
            2.2979948390666487
           ],
           "yaxis": "y"
          },
          {
           "hovertemplate": "<b>OLS trendline</b><br>Log of Pageviews = 0.0551686 * Log of Deaths + 4.7373<br>R<sup>2</sup>=0.005838<br><br>Data points=Other<br>Period=2021-09-03<br>Log of Deaths=%{x}<br>Log of Pageviews=%{y} <b>(trend)</b><extra></extra>",
           "legendgroup": "Other",
           "line": {
            "color": "black"
           },
           "marker": {
            "color": "#636efa",
            "symbol": "circle"
           },
           "mode": "lines",
           "name": "Other",
           "showlegend": false,
           "type": "scatter",
           "x": [
            -4.466434796904279,
            -1.7881365767041937,
            -0.53398437543952,
            -0.4975191902497986,
            -0.4289946921226507,
            -0.41689147397104126,
            -0.2761402602326628,
            -0.1879736595969934,
            -0.04697187365255008,
            0.2188897812760454,
            0.3637999823977261,
            0.43644526779483733,
            0.6154223871277483,
            0.7432827998838604,
            1.1235332417837178,
            1.2590923431426455,
            1.3594874775015666,
            1.6339433144525675,
            1.8428035567895364,
            1.8993924885596156,
            1.922341974951397,
            2.3255545088819565,
            2.3265925123034674,
            2.336384492353027,
            2.388746001430856,
            2.424500416730923,
            2.540202488123645,
            2.7450237091848217,
            2.9796609645957086,
            3.473363501398726,
            3.6494033440858584,
            3.782094720218357,
            3.819809014033633,
            4.281510717612613
           ],
           "xaxis": "x",
           "y": [
            4.490895669831572,
            4.638653568682025,
            4.7078433596843485,
            4.709855092024006,
            4.713635491005227,
            4.714303208315392,
            4.722068252344387,
            4.7269322781501995,
            4.734711145890983,
            4.74937835480031,
            4.757372844240749,
            4.761380581187558,
            4.771254493993639,
            4.778308370889238,
            4.799286246283518,
            4.8067648488662265,
            4.812303505463838,
            4.827444843157029,
            4.838967365304993,
            4.842089296086814,
            4.843355386570455,
            4.8656000478835235,
            4.865657313054148,
            4.866197522649478,
            4.8690862325413145,
            4.871058752718313,
            4.877441871234651,
            4.888741566330488,
            4.901686169582683,
            4.928923035494389,
            4.938634902930672,
            4.9459552971963445,
            4.948035941080115,
            4.973507366592771
           ],
           "yaxis": "y"
          },
          {
           "hovertemplate": "<b>%{hovertext}</b><br><br>Data points=Bangladesh<br>Period=2021-09-03<br>Log of Deaths=%{x}<br>Log of Pageviews=%{y}<extra></extra>",
           "hovertext": [
            "Bangladesh"
           ],
           "legendgroup": "Bangladesh",
           "marker": {
            "color": "#EF553B",
            "symbol": "circle"
           },
           "mode": "markers",
           "name": "Bangladesh",
           "orientation": "v",
           "showlegend": true,
           "type": "scatter",
           "x": [
            1.7931859829133954
           ],
           "xaxis": "x",
           "y": [
            2.8287125604388366
           ],
           "yaxis": "y"
          },
          {
           "hovertemplate": "Data points=Bangladesh<br>Period=2021-09-03<extra></extra>",
           "legendgroup": "Bangladesh",
           "line": {
            "color": "black"
           },
           "marker": {
            "color": "#EF553B",
            "symbol": "circle"
           },
           "mode": "lines",
           "name": "Bangladesh",
           "showlegend": false,
           "type": "scatter",
           "xaxis": "x",
           "yaxis": "y"
          },
          {
           "hovertemplate": "<b>%{hovertext}</b><br><br>Data points=Sweden<br>Period=2021-09-03<br>Log of Deaths=%{x}<br>Log of Pageviews=%{y}<extra></extra>",
           "hovertext": [
            "Sweden"
           ],
           "legendgroup": "Sweden",
           "marker": {
            "color": "#00cc96",
            "symbol": "circle"
           },
           "mode": "markers",
           "name": "Sweden",
           "orientation": "v",
           "showlegend": true,
           "type": "scatter",
           "x": [
            -0.4883077651777008
           ],
           "xaxis": "x",
           "y": [
            5.0658660893121805
           ],
           "yaxis": "y"
          },
          {
           "hovertemplate": "Data points=Sweden<br>Period=2021-09-03<extra></extra>",
           "legendgroup": "Sweden",
           "line": {
            "color": "black"
           },
           "marker": {
            "color": "#00cc96",
            "symbol": "circle"
           },
           "mode": "lines",
           "name": "Sweden",
           "showlegend": false,
           "type": "scatter",
           "xaxis": "x",
           "yaxis": "y"
          },
          {
           "hovertemplate": "<b>%{hovertext}</b><br><br>Data points=Germany<br>Period=2021-09-03<br>Log of Deaths=%{x}<br>Log of Pageviews=%{y}<extra></extra>",
           "hovertext": [
            "Germany"
           ],
           "legendgroup": "Germany",
           "marker": {
            "color": "#ab63fa",
            "symbol": "circle"
           },
           "mode": "markers",
           "name": "Germany",
           "orientation": "v",
           "showlegend": true,
           "type": "scatter",
           "x": [
            0.4675521730129896
           ],
           "xaxis": "x",
           "y": [
            7.072897731076202
           ],
           "yaxis": "y"
          },
          {
           "hovertemplate": "Data points=Germany<br>Period=2021-09-03<extra></extra>",
           "legendgroup": "Germany",
           "line": {
            "color": "black"
           },
           "marker": {
            "color": "#ab63fa",
            "symbol": "circle"
           },
           "mode": "lines",
           "name": "Germany",
           "showlegend": false,
           "type": "scatter",
           "xaxis": "x",
           "yaxis": "y"
          },
          {
           "hovertemplate": "<b>%{hovertext}</b><br><br>Data points=Thailand<br>Period=2021-09-03<br>Log of Deaths=%{x}<br>Log of Pageviews=%{y}<extra></extra>",
           "hovertext": [
            "Thailand"
           ],
           "legendgroup": "Thailand",
           "marker": {
            "color": "#FFA15A",
            "symbol": "circle"
           },
           "mode": "markers",
           "name": "Thailand",
           "orientation": "v",
           "showlegend": true,
           "type": "scatter",
           "x": [
            2.7954262011204176
           ],
           "xaxis": "x",
           "y": [
            3.8184044889743616
           ],
           "yaxis": "y"
          },
          {
           "hovertemplate": "Data points=Thailand<br>Period=2021-09-03<extra></extra>",
           "legendgroup": "Thailand",
           "line": {
            "color": "black"
           },
           "marker": {
            "color": "#FFA15A",
            "symbol": "circle"
           },
           "mode": "lines",
           "name": "Thailand",
           "showlegend": false,
           "type": "scatter",
           "xaxis": "x",
           "yaxis": "y"
          }
         ],
         "name": "2021-09-03"
        },
        {
         "data": [
          {
           "hovertemplate": "<b>%{hovertext}</b><br><br>Data points=Other<br>Period=2021-11-01<br>Log of Deaths=%{x}<br>Log of Pageviews=%{y}<extra></extra>",
           "hovertext": [
            "Italy",
            "Russia",
            "China",
            "Albania",
            "Botswana",
            "Cambodia",
            "Croatia",
            "Greece",
            "Finland",
            "Norway",
            "Malaysia",
            "Israel",
            "Lithuania",
            "Serbia",
            "Slovakia",
            "Slovenia",
            "Turkey",
            "Vietnam",
            "Bulgaria",
            "Czechia",
            "Denmark",
            "Georgia",
            "Hungary",
            "Iceland",
            "Japan",
            "Kazakhstan",
            "South Korea",
            "Kyrgyzstan",
            "Netherlands",
            "Poland",
            "Romania",
            "Tajikistan",
            "Azerbaijan",
            "Mongolia"
           ],
           "legendgroup": "Other",
           "marker": {
            "color": "#636efa",
            "symbol": "circle"
           },
           "mode": "markers",
           "name": "Other",
           "orientation": "v",
           "showlegend": true,
           "type": "scatter",
           "x": [
            1.515124081036771,
            3.690026680032207,
            -4.454172979366224,
            2.7303667336294746,
            1.2993863405840755,
            1.5799670351989776,
            3.4549832596571455,
            3.107033606371129,
            1.5268186212835795,
            0.8354116682507345,
            3.3059037684665653,
            2.1045090121093564,
            4.031811934679659,
            3.807655105881695,
            2.742525952162561,
            2.9855168422257754,
            2.7377661663232953,
            2.052452826906505,
            4.529502489575743,
            2.103957935018581,
            0.8656275495303764,
            4.228523183782619,
            2.8382981656171933,
            -1.2627365842349905,
            0.19380166220825426,
            2.7749083302994326,
            0.2949388607287545,
            0.6469592106559425,
            1.2597686480369692,
            2.102545289220266,
            4.49321958818232,
            -4.605170185988091,
            2.587484060793444,
            3.2124553754451273
           ],
           "xaxis": "x",
           "y": [
            5.398934877160687,
            6.569626386765692,
            4.040803524878519,
            5.780379435438448,
            3.9029865303095477,
            1.2484950885287793,
            5.184629564192899,
            5.368674658827854,
            6.438558890149484,
            3.870577284201068,
            5.267558711312708,
            5.543151945510821,
            5.96515799721296,
            4.483160326293545,
            5.617754616972942,
            6.524381727532283,
            4.910501786739087,
            5.440024866457524,
            5.069866049774105,
            6.59264373843287,
            4.420805142113809,
            5.077693438804991,
            5.075477393669481,
            5.167474340041329,
            5.499718832911848,
            3.5799337201965016,
            4.276346995524543,
            3.428032065857459,
            6.5480472006630315,
            6.180526114289202,
            5.463747717058514,
            1.581953523049133,
            4.25860990804833,
            3.2197964040152653
           ],
           "yaxis": "y"
          },
          {
           "hovertemplate": "<b>OLS trendline</b><br>Log of Pageviews = 0.260114 * Log of Deaths + 4.41195<br>R<sup>2</sup>=0.181300<br><br>Data points=Other<br>Period=2021-11-01<br>Log of Deaths=%{x}<br>Log of Pageviews=%{y} <b>(trend)</b><extra></extra>",
           "legendgroup": "Other",
           "line": {
            "color": "black"
           },
           "marker": {
            "color": "#636efa",
            "symbol": "circle"
           },
           "mode": "lines",
           "name": "Other",
           "showlegend": false,
           "type": "scatter",
           "x": [
            -4.605170185988091,
            -4.454172979366224,
            -1.2627365842349905,
            0.19380166220825426,
            0.2949388607287545,
            0.6469592106559425,
            0.8354116682507345,
            0.8656275495303764,
            1.2597686480369692,
            1.2993863405840755,
            1.515124081036771,
            1.5268186212835795,
            1.5799670351989776,
            2.052452826906505,
            2.102545289220266,
            2.103957935018581,
            2.1045090121093564,
            2.587484060793444,
            2.7303667336294746,
            2.7377661663232953,
            2.742525952162561,
            2.7749083302994326,
            2.8382981656171933,
            2.9855168422257754,
            3.107033606371129,
            3.2124553754451273,
            3.3059037684665653,
            3.4549832596571455,
            3.690026680032207,
            3.807655105881695,
            4.031811934679659,
            4.228523183782619,
            4.49321958818232,
            4.529502489575743
           ],
           "xaxis": "x",
           "y": [
            3.2140777865839247,
            3.253354220607026,
            4.083490378861913,
            4.462355853385645,
            4.488663018887848,
            4.580228315743492,
            4.6292473716770814,
            4.637106934738415,
            4.7396284130996245,
            4.749933515573279,
            4.806049845926347,
            4.809091755433882,
            4.822916383182183,
            4.9458163853744495,
            4.958846118408174,
            4.959213566857962,
            4.959356909529537,
            5.084985310602868,
            5.12215104365343,
            5.124075737073322,
            5.12531382232445,
            5.13373692078341,
            5.150225481997845,
            5.188519068800846,
            5.220127237431461,
            5.247548878203946,
            5.271856080470692,
            5.310633690540045,
            5.371771691695546,
            5.402368450473266,
            5.460674700595881,
            5.5118419809042,
            5.580693127863441,
            5.590130805649853
           ],
           "yaxis": "y"
          },
          {
           "hovertemplate": "<b>%{hovertext}</b><br><br>Data points=Bangladesh<br>Period=2021-11-01<br>Log of Deaths=%{x}<br>Log of Pageviews=%{y}<extra></extra>",
           "hovertext": [
            "Bangladesh"
           ],
           "legendgroup": "Bangladesh",
           "marker": {
            "color": "#EF553B",
            "symbol": "circle"
           },
           "mode": "markers",
           "name": "Bangladesh",
           "orientation": "v",
           "showlegend": true,
           "type": "scatter",
           "x": [
            -0.5064505497920246
           ],
           "xaxis": "x",
           "y": [
            2.651897368564567
           ],
           "yaxis": "y"
          },
          {
           "hovertemplate": "Data points=Bangladesh<br>Period=2021-11-01<extra></extra>",
           "legendgroup": "Bangladesh",
           "line": {
            "color": "black"
           },
           "marker": {
            "color": "#EF553B",
            "symbol": "circle"
           },
           "mode": "lines",
           "name": "Bangladesh",
           "showlegend": false,
           "type": "scatter",
           "xaxis": "x",
           "yaxis": "y"
          },
          {
           "hovertemplate": "<b>%{hovertext}</b><br><br>Data points=Sweden<br>Period=2021-11-01<br>Log of Deaths=%{x}<br>Log of Pageviews=%{y}<extra></extra>",
           "hovertext": [
            "Sweden"
           ],
           "legendgroup": "Sweden",
           "marker": {
            "color": "#00cc96",
            "symbol": "circle"
           },
           "mode": "markers",
           "name": "Sweden",
           "orientation": "v",
           "showlegend": true,
           "type": "scatter",
           "x": [
            1.2897790216980873
           ],
           "xaxis": "x",
           "y": [
            4.891362224545366
           ],
           "yaxis": "y"
          },
          {
           "hovertemplate": "Data points=Sweden<br>Period=2021-11-01<extra></extra>",
           "legendgroup": "Sweden",
           "line": {
            "color": "black"
           },
           "marker": {
            "color": "#00cc96",
            "symbol": "circle"
           },
           "mode": "lines",
           "name": "Sweden",
           "showlegend": false,
           "type": "scatter",
           "xaxis": "x",
           "yaxis": "y"
          },
          {
           "hovertemplate": "<b>%{hovertext}</b><br><br>Data points=Germany<br>Period=2021-11-01<br>Log of Deaths=%{x}<br>Log of Pageviews=%{y}<extra></extra>",
           "hovertext": [
            "Germany"
           ],
           "legendgroup": "Germany",
           "marker": {
            "color": "#ab63fa",
            "symbol": "circle"
           },
           "mode": "markers",
           "name": "Germany",
           "orientation": "v",
           "showlegend": true,
           "type": "scatter",
           "x": [
            1.710518264988922
           ],
           "xaxis": "x",
           "y": [
            7.015801160151909
           ],
           "yaxis": "y"
          },
          {
           "hovertemplate": "Data points=Germany<br>Period=2021-11-01<extra></extra>",
           "legendgroup": "Germany",
           "line": {
            "color": "black"
           },
           "marker": {
            "color": "#ab63fa",
            "symbol": "circle"
           },
           "mode": "lines",
           "name": "Germany",
           "showlegend": false,
           "type": "scatter",
           "xaxis": "x",
           "yaxis": "y"
          },
          {
           "hovertemplate": "<b>%{hovertext}</b><br><br>Data points=Thailand<br>Period=2021-11-01<br>Log of Deaths=%{x}<br>Log of Pageviews=%{y}<extra></extra>",
           "hovertext": [
            "Thailand"
           ],
           "legendgroup": "Thailand",
           "marker": {
            "color": "#FFA15A",
            "symbol": "circle"
           },
           "mode": "markers",
           "name": "Thailand",
           "orientation": "v",
           "showlegend": true,
           "type": "scatter",
           "x": [
            2.0709857167787438
           ],
           "xaxis": "x",
           "y": [
            2.9497771563357515
           ],
           "yaxis": "y"
          },
          {
           "hovertemplate": "Data points=Thailand<br>Period=2021-11-01<extra></extra>",
           "legendgroup": "Thailand",
           "line": {
            "color": "black"
           },
           "marker": {
            "color": "#FFA15A",
            "symbol": "circle"
           },
           "mode": "lines",
           "name": "Thailand",
           "showlegend": false,
           "type": "scatter",
           "xaxis": "x",
           "yaxis": "y"
          }
         ],
         "name": "2021-11-01"
        },
        {
         "data": [
          {
           "hovertemplate": "<b>%{hovertext}</b><br><br>Data points=Other<br>Period=2021-12-30<br>Log of Deaths=%{x}<br>Log of Pageviews=%{y}<extra></extra>",
           "hovertext": [
            "Italy",
            "Russia",
            "China",
            "Albania",
            "Botswana",
            "Cambodia",
            "Croatia",
            "Greece",
            "Finland",
            "Norway",
            "Malaysia",
            "Israel",
            "Lithuania",
            "Serbia",
            "Slovakia",
            "Slovenia",
            "Turkey",
            "Vietnam",
            "Bulgaria",
            "Czechia",
            "Denmark",
            "Georgia",
            "Hungary",
            "Iceland",
            "Japan",
            "Kazakhstan",
            "South Korea",
            "Kyrgyzstan",
            "Netherlands",
            "Poland",
            "Romania",
            "Tajikistan",
            "Azerbaijan",
            "Mongolia"
           ],
           "legendgroup": "Other",
           "marker": {
            "color": "#636efa",
            "symbol": "circle"
           },
           "mode": "markers",
           "name": "Other",
           "orientation": "v",
           "showlegend": true,
           "type": "scatter",
           "x": [
            2.415102125817425,
            3.786320529656179,
            -4.448097995614019,
            2.2276010166483684,
            1.2993863405840755,
            -0.003101963832889797,
            4.369365779270203,
            3.828197252599352,
            2.203023130987018,
            2.012613493154668,
            1.9001294481674944,
            0.373825346136991,
            3.8414954067854334,
            3.4986918072321744,
            4.184568049012236,
            3.610037215810852,
            2.562881858584647,
            2.485856823182676,
            4.413170744427329,
            3.909616038302347,
            2.3253757245202302,
            4.523093909808917,
            4.431652804631506,
            0.3180130686658989,
            -2.591002949541981,
            1.5192117251283934,
            1.7781664197806482,
            0.6227952726560249,
            2.6328682650073127,
            4.02616699773668,
            3.5675569279446093,
            -4.605170185988091,
            2.3758258794490423,
            1.923200857108048
           ],
           "xaxis": "x",
           "y": [
            5.93121053244323,
            6.2881809377436095,
            4.0572784657178405,
            5.847184629498346,
            2.372670165346045,
            1.528133572301043,
            5.587627882505605,
            6.16530836471757,
            6.878953748797988,
            4.375723191713125,
            5.081883624062765,
            5.833581369889113,
            5.995191155130207,
            3.925592230819134,
            6.197328169765233,
            6.672881525554245,
            5.264286429555247,
            5.413022420800935,
            4.960224319768696,
            7.088866935179789,
            5.342904239545966,
            5.355599283370696,
            5.3877665407866475,
            6.093942710659911,
            5.378232586935944,
            3.2403874777947923,
            4.361616528077686,
            3.5279202066026287,
            6.972681149569912,
            6.559377346571687,
            4.692739385374812,
            1.503517759270789,
            4.3067526039998425,
            2.9982752249764824
           ],
           "yaxis": "y"
          },
          {
           "hovertemplate": "<b>OLS trendline</b><br>Log of Pageviews = 0.336595 * Log of Deaths + 4.32887<br>R<sup>2</sup>=0.276573<br><br>Data points=Other<br>Period=2021-12-30<br>Log of Deaths=%{x}<br>Log of Pageviews=%{y} <b>(trend)</b><extra></extra>",
           "legendgroup": "Other",
           "line": {
            "color": "black"
           },
           "marker": {
            "color": "#636efa",
            "symbol": "circle"
           },
           "mode": "lines",
           "name": "Other",
           "showlegend": false,
           "type": "scatter",
           "x": [
            -4.605170185988091,
            -4.448097995614019,
            -2.591002949541981,
            -0.003101963832889797,
            0.3180130686658989,
            0.373825346136991,
            0.6227952726560249,
            1.2993863405840755,
            1.5192117251283934,
            1.7781664197806482,
            1.9001294481674944,
            1.923200857108048,
            2.012613493154668,
            2.203023130987018,
            2.2276010166483684,
            2.3253757245202302,
            2.3758258794490423,
            2.415102125817425,
            2.485856823182676,
            2.562881858584647,
            2.6328682650073127,
            3.4986918072321744,
            3.5675569279446093,
            3.610037215810852,
            3.786320529656179,
            3.828197252599352,
            3.8414954067854334,
            3.909616038302347,
            4.02616699773668,
            4.184568049012236,
            4.369365779270203,
            4.413170744427329,
            4.431652804631506,
            4.523093909808917
           ],
           "xaxis": "x",
           "y": [
            2.77878907388179,
            2.831658758886136,
            3.4567473240556446,
            4.3278213799469665,
            4.4359070351984755,
            4.454693158459662,
            4.538495145044738,
            4.766232191003798,
            4.840224275847964,
            4.927387083624797,
            4.96843920671312,
            4.976204923358368,
            5.006300753128966,
            5.070391650123611,
            5.078664439023376,
            5.111574898820661,
            5.128556159431813,
            5.141776340348017,
            5.165592004682804,
            5.191518232294786,
            5.215075293881184,
            5.506507009691343,
            5.5296866523205175,
            5.543985296994878,
            5.6033213465675535,
            5.61741683441774,
            5.621892924178015,
            5.644821975603472,
            5.6840524243390025,
            5.73736939703386,
            5.799571355031574,
            5.814315879214805,
            5.820536844866963,
            5.8513154468312285
           ],
           "yaxis": "y"
          },
          {
           "hovertemplate": "<b>%{hovertext}</b><br><br>Data points=Bangladesh<br>Period=2021-12-30<br>Log of Deaths=%{x}<br>Log of Pageviews=%{y}<extra></extra>",
           "hovertext": [
            "Bangladesh"
           ],
           "legendgroup": "Bangladesh",
           "marker": {
            "color": "#EF553B",
            "symbol": "circle"
           },
           "mode": "markers",
           "name": "Bangladesh",
           "orientation": "v",
           "showlegend": true,
           "type": "scatter",
           "x": [
            -2.0384813473485415
           ],
           "xaxis": "x",
           "y": [
            2.5331476103402104
           ],
           "yaxis": "y"
          },
          {
           "hovertemplate": "Data points=Bangladesh<br>Period=2021-12-30<extra></extra>",
           "legendgroup": "Bangladesh",
           "line": {
            "color": "black"
           },
           "marker": {
            "color": "#EF553B",
            "symbol": "circle"
           },
           "mode": "lines",
           "name": "Bangladesh",
           "showlegend": false,
           "type": "scatter",
           "xaxis": "x",
           "yaxis": "y"
          },
          {
           "hovertemplate": "<b>%{hovertext}</b><br><br>Data points=Sweden<br>Period=2021-12-30<br>Log of Deaths=%{x}<br>Log of Pageviews=%{y}<extra></extra>",
           "hovertext": [
            "Sweden"
           ],
           "legendgroup": "Sweden",
           "marker": {
            "color": "#00cc96",
            "symbol": "circle"
           },
           "mode": "markers",
           "name": "Sweden",
           "orientation": "v",
           "showlegend": true,
           "type": "scatter",
           "x": [
            1.063996163910728
           ],
           "xaxis": "x",
           "y": [
            5.083082340540193
           ],
           "yaxis": "y"
          },
          {
           "hovertemplate": "Data points=Sweden<br>Period=2021-12-30<extra></extra>",
           "legendgroup": "Sweden",
           "line": {
            "color": "black"
           },
           "marker": {
            "color": "#00cc96",
            "symbol": "circle"
           },
           "mode": "lines",
           "name": "Sweden",
           "showlegend": false,
           "type": "scatter",
           "xaxis": "x",
           "yaxis": "y"
          },
          {
           "hovertemplate": "<b>%{hovertext}</b><br><br>Data points=Germany<br>Period=2021-12-30<br>Log of Deaths=%{x}<br>Log of Pageviews=%{y}<extra></extra>",
           "hovertext": [
            "Germany"
           ],
           "legendgroup": "Germany",
           "marker": {
            "color": "#ab63fa",
            "symbol": "circle"
           },
           "mode": "markers",
           "name": "Germany",
           "orientation": "v",
           "showlegend": true,
           "type": "scatter",
           "x": [
            3.0081096448521416
           ],
           "xaxis": "x",
           "y": [
            7.556713844194359
           ],
           "yaxis": "y"
          },
          {
           "hovertemplate": "Data points=Germany<br>Period=2021-12-30<extra></extra>",
           "legendgroup": "Germany",
           "line": {
            "color": "black"
           },
           "marker": {
            "color": "#ab63fa",
            "symbol": "circle"
           },
           "mode": "lines",
           "name": "Germany",
           "showlegend": false,
           "type": "scatter",
           "xaxis": "x",
           "yaxis": "y"
          },
          {
           "hovertemplate": "<b>%{hovertext}</b><br><br>Data points=Thailand<br>Period=2021-12-30<br>Log of Deaths=%{x}<br>Log of Pageviews=%{y}<extra></extra>",
           "hovertext": [
            "Thailand"
           ],
           "legendgroup": "Thailand",
           "marker": {
            "color": "#FFA15A",
            "symbol": "circle"
           },
           "mode": "markers",
           "name": "Thailand",
           "orientation": "v",
           "showlegend": true,
           "type": "scatter",
           "x": [
            1.0334906576960414
           ],
           "xaxis": "x",
           "y": [
            2.9844934476259897
           ],
           "yaxis": "y"
          },
          {
           "hovertemplate": "Data points=Thailand<br>Period=2021-12-30<extra></extra>",
           "legendgroup": "Thailand",
           "line": {
            "color": "black"
           },
           "marker": {
            "color": "#FFA15A",
            "symbol": "circle"
           },
           "mode": "lines",
           "name": "Thailand",
           "showlegend": false,
           "type": "scatter",
           "xaxis": "x",
           "yaxis": "y"
          }
         ],
         "name": "2021-12-30"
        },
        {
         "data": [
          {
           "hovertemplate": "<b>%{hovertext}</b><br><br>Data points=Other<br>Period=2022-02-27<br>Log of Deaths=%{x}<br>Log of Pageviews=%{y}<extra></extra>",
           "hovertext": [
            "Italy",
            "Russia",
            "China",
            "Albania",
            "Botswana",
            "Cambodia",
            "Croatia",
            "Greece",
            "Finland",
            "Norway",
            "Malaysia",
            "Israel",
            "Lithuania",
            "Serbia",
            "Slovakia",
            "Slovenia",
            "Turkey",
            "Vietnam",
            "Bulgaria",
            "Czechia",
            "Denmark",
            "Georgia",
            "Hungary",
            "Iceland",
            "Japan",
            "Kazakhstan",
            "South Korea",
            "Kyrgyzstan",
            "Netherlands",
            "Poland",
            "Romania",
            "Tajikistan",
            "Azerbaijan",
            "Mongolia"
           ],
           "legendgroup": "Other",
           "marker": {
            "color": "#636efa",
            "symbol": "circle"
           },
           "mode": "markers",
           "name": "Other",
           "orientation": "v",
           "showlegend": true,
           "type": "scatter",
           "x": [
            3.3759346820527436,
            3.371051155036928,
            -4.466434796904279,
            2.1526991385070846,
            1.6482550793026771,
            -1.6636993948224932,
            4.078489019110671,
            3.843325920400729,
            2.448079158407719,
            2.01509465037377,
            1.7960124571327831,
            3.120974651920348,
            3.618789355623495,
            3.635685575957369,
            3.5277306529548973,
            3.553121741154573,
            2.6866038479256926,
            1.930086814057292,
            4.1498113520114845,
            3.142202975102901,
            3.3622425874066377,
            4.118120355631649,
            3.8769330733756577,
            2.463324617015751,
            1.7868589434778466,
            1.326773661998271,
            2.0521324951986557,
            0.841595419122425,
            1.2548766225965704,
            3.5766146546464093,
            3.3056729469600965,
            -4.605170185988091,
            2.4181932842846074,
            1.1576304971539302
           ],
           "xaxis": "x",
           "y": [
            5.7623975236982,
            6.096249166094204,
            4.245999759214567,
            5.83798331840675,
            5.32039371414547,
            2.345765646150645,
            5.357555748509097,
            5.676223876826795,
            6.544438090987781,
            4.274938919669563,
            5.036784054758078,
            5.9306029655624775,
            5.953705318311619,
            3.662457505185049,
            5.844690300181842,
            6.307485717322272,
            5.071951902799477,
            5.068577123780932,
            4.66881742127852,
            6.535157534209296,
            5.018660203396806,
            5.161498682756273,
            5.1829761248857045,
            6.32444361300466,
            5.594868992226141,
            3.2169458137969453,
            4.094519463933933,
            3.3383116170482974,
            6.402986290808304,
            6.288083125340109,
            4.388942148078647,
            1.38746818706403,
            4.089567002859937,
            2.8314500933008686
           ],
           "yaxis": "y"
          },
          {
           "hovertemplate": "<b>OLS trendline</b><br>Log of Pageviews = 0.377859 * Log of Deaths + 4.13416<br>R<sup>2</sup>=0.384923<br><br>Data points=Other<br>Period=2022-02-27<br>Log of Deaths=%{x}<br>Log of Pageviews=%{y} <b>(trend)</b><extra></extra>",
           "legendgroup": "Other",
           "line": {
            "color": "black"
           },
           "marker": {
            "color": "#636efa",
            "symbol": "circle"
           },
           "mode": "lines",
           "name": "Other",
           "showlegend": false,
           "type": "scatter",
           "x": [
            -4.605170185988091,
            -4.466434796904279,
            -1.6636993948224932,
            0.841595419122425,
            1.1576304971539302,
            1.2548766225965704,
            1.326773661998271,
            1.6482550793026771,
            1.7868589434778466,
            1.7960124571327831,
            1.930086814057292,
            2.01509465037377,
            2.0521324951986557,
            2.1526991385070846,
            2.4181932842846074,
            2.448079158407719,
            2.463324617015751,
            2.6866038479256926,
            3.120974651920348,
            3.142202975102901,
            3.3056729469600965,
            3.3622425874066377,
            3.371051155036928,
            3.3759346820527436,
            3.5277306529548973,
            3.553121741154573,
            3.5766146546464093,
            3.618789355623495,
            3.635685575957369,
            3.843325920400729,
            3.8769330733756577,
            4.078489019110671,
            4.118120355631649,
            4.1498113520114845
           ],
           "xaxis": "x",
           "y": [
            2.394056882560588,
            2.4464792380345735,
            3.505516824029981,
            4.452163935275775,
            4.571580497352865,
            4.608325779072889,
            4.635492691437016,
            4.756967199473542,
            4.809339857133869,
            4.812798590697265,
            4.863459735233333,
            4.895580674547271,
            4.909575741560976,
            4.947575709407357,
            5.047894947188882,
            5.0591875807936075,
            5.064948207954363,
            5.149316178448524,
            5.313446908501636,
            5.321468212304086,
            5.383236741809152,
            5.404612065150283,
            5.4079404579027095,
            5.409785740428535,
            5.4671431486478905,
            5.476737388879347,
            5.48561438753356,
            5.501550459657841,
            5.507934841280716,
            5.586393524526811,
            5.5990922752302525,
            5.675251916292224,
            5.690226956364781,
            5.702201670880807
           ],
           "yaxis": "y"
          },
          {
           "hovertemplate": "<b>%{hovertext}</b><br><br>Data points=Bangladesh<br>Period=2022-02-27<br>Log of Deaths=%{x}<br>Log of Pageviews=%{y}<extra></extra>",
           "hovertext": [
            "Bangladesh"
           ],
           "legendgroup": "Bangladesh",
           "marker": {
            "color": "#EF553B",
            "symbol": "circle"
           },
           "mode": "markers",
           "name": "Bangladesh",
           "orientation": "v",
           "showlegend": true,
           "type": "scatter",
           "x": [
            -0.48255619034017133
           ],
           "xaxis": "x",
           "y": [
            2.089209002729037
           ],
           "yaxis": "y"
          },
          {
           "hovertemplate": "Data points=Bangladesh<br>Period=2022-02-27<extra></extra>",
           "legendgroup": "Bangladesh",
           "line": {
            "color": "black"
           },
           "marker": {
            "color": "#EF553B",
            "symbol": "circle"
           },
           "mode": "lines",
           "name": "Bangladesh",
           "showlegend": false,
           "type": "scatter",
           "xaxis": "x",
           "yaxis": "y"
          },
          {
           "hovertemplate": "<b>%{hovertext}</b><br><br>Data points=Sweden<br>Period=2022-02-27<br>Log of Deaths=%{x}<br>Log of Pageviews=%{y}<extra></extra>",
           "hovertext": [
            "Sweden"
           ],
           "legendgroup": "Sweden",
           "marker": {
            "color": "#00cc96",
            "symbol": "circle"
           },
           "mode": "markers",
           "name": "Sweden",
           "orientation": "v",
           "showlegend": true,
           "type": "scatter",
           "x": [
            3.1524593991816197
           ],
           "xaxis": "x",
           "y": [
            4.961534338691034
           ],
           "yaxis": "y"
          },
          {
           "hovertemplate": "Data points=Sweden<br>Period=2022-02-27<extra></extra>",
           "legendgroup": "Sweden",
           "line": {
            "color": "black"
           },
           "marker": {
            "color": "#00cc96",
            "symbol": "circle"
           },
           "mode": "lines",
           "name": "Sweden",
           "showlegend": false,
           "type": "scatter",
           "xaxis": "x",
           "yaxis": "y"
          },
          {
           "hovertemplate": "<b>%{hovertext}</b><br><br>Data points=Germany<br>Period=2022-02-27<br>Log of Deaths=%{x}<br>Log of Pageviews=%{y}<extra></extra>",
           "hovertext": [
            "Germany"
           ],
           "legendgroup": "Germany",
           "marker": {
            "color": "#ab63fa",
            "symbol": "circle"
           },
           "mode": "markers",
           "name": "Germany",
           "orientation": "v",
           "showlegend": true,
           "type": "scatter",
           "x": [
            2.6048783565958122
           ],
           "xaxis": "x",
           "y": [
            7.054752238554052
           ],
           "yaxis": "y"
          },
          {
           "hovertemplate": "Data points=Germany<br>Period=2022-02-27<extra></extra>",
           "legendgroup": "Germany",
           "line": {
            "color": "black"
           },
           "marker": {
            "color": "#ab63fa",
            "symbol": "circle"
           },
           "mode": "lines",
           "name": "Germany",
           "showlegend": false,
           "type": "scatter",
           "xaxis": "x",
           "yaxis": "y"
          },
          {
           "hovertemplate": "<b>%{hovertext}</b><br><br>Data points=Thailand<br>Period=2022-02-27<br>Log of Deaths=%{x}<br>Log of Pageviews=%{y}<extra></extra>",
           "hovertext": [
            "Thailand"
           ],
           "legendgroup": "Thailand",
           "marker": {
            "color": "#FFA15A",
            "symbol": "circle"
           },
           "mode": "markers",
           "name": "Thailand",
           "orientation": "v",
           "showlegend": true,
           "type": "scatter",
           "x": [
            0.915706347675701
           ],
           "xaxis": "x",
           "y": [
            3.0956544158640757
           ],
           "yaxis": "y"
          },
          {
           "hovertemplate": "Data points=Thailand<br>Period=2022-02-27<extra></extra>",
           "legendgroup": "Thailand",
           "line": {
            "color": "black"
           },
           "marker": {
            "color": "#FFA15A",
            "symbol": "circle"
           },
           "mode": "lines",
           "name": "Thailand",
           "showlegend": false,
           "type": "scatter",
           "xaxis": "x",
           "yaxis": "y"
          }
         ],
         "name": "2022-02-27"
        },
        {
         "data": [
          {
           "hovertemplate": "<b>%{hovertext}</b><br><br>Data points=Other<br>Period=2022-02-27 to 2022-04-27<br>Log of Deaths=%{x}<br>Log of Pageviews=%{y}<extra></extra>",
           "hovertext": [
            "Italy",
            "Russia",
            "China",
            "Albania",
            "Botswana",
            "Cambodia",
            "Croatia",
            "Greece",
            "Finland",
            "Norway",
            "Malaysia",
            "Israel",
            "Lithuania",
            "Serbia",
            "Slovakia",
            "Slovenia",
            "Turkey",
            "Vietnam",
            "Bulgaria",
            "Czechia",
            "Denmark",
            "Georgia",
            "Hungary",
            "Iceland",
            "Japan",
            "Kazakhstan",
            "South Korea",
            "Kyrgyzstan",
            "Netherlands",
            "Poland",
            "Romania",
            "Tajikistan",
            "Azerbaijan",
            "Mongolia"
           ],
           "legendgroup": "Other",
           "marker": {
            "color": "#636efa",
            "symbol": "circle"
           },
           "mode": "markers",
           "name": "Other",
           "orientation": "v",
           "showlegend": true,
           "type": "scatter",
           "x": [
            2.610417194797736,
            2.4754122742510734,
            -2.9836729019597996,
            -0.8373513719905505,
            1.108294880305393,
            -2.5797424409205996,
            2.68177169914002,
            3.3241331817019133,
            3.298897426198657,
            2.8681632848979426,
            1.796012457132783,
            1.4539916238519628,
            2.9201385959888313,
            1.9515905504410147,
            3.045561901553427,
            2.3351920616317026,
            1.1458026739320557,
            0.6365956578417861,
            2.605464806407804,
            2.360939394394449,
            3.0045269855531127,
            2.1077623339751255,
            2.8065877085363202,
            2.4157381044243906,
            1.1492624739047106,
            -1.9428634174116517,
            3.248760625534197,
            -1.1585024711370404,
            1.2283737794248424,
            2.016435623511757,
            1.914946177258538,
            -4.605170185988091,
            0.18142830645385027,
            -1.6449504091042968
           ],
           "xaxis": "x",
           "y": [
            4.9301334533547445,
            5.4703654630252565,
            4.34817222351539,
            5.481731610893974,
            4.593024288346358,
            1.90789418650008,
            4.712969689477682,
            4.929641522864406,
            5.995092118528439,
            3.319701769255734,
            4.589577412493588,
            4.843823401975759,
            5.461912248812662,
            2.9780859344182433,
            4.9434972073784325,
            5.757181080757693,
            4.718728348699318,
            4.5771155427379036,
            4.04918184581858,
            5.8195637734339,
            3.8544521858631415,
            4.697149949519517,
            4.014837349593745,
            5.081457272080971,
            5.120810517813035,
            2.684502384448019,
            4.136077758501842,
            2.8386296188821634,
            5.643221934712269,
            5.596869861075545,
            3.854435292246459,
            1.268032331196665,
            4.123656527771709,
            3.037067080547696
           ],
           "yaxis": "y"
          },
          {
           "hovertemplate": "<b>OLS trendline</b><br>Log of Pageviews = 0.350781 * Log of Deaths + 3.95047<br>R<sup>2</sup>=0.395799<br><br>Data points=Other<br>Period=2022-02-27 to 2022-04-27<br>Log of Deaths=%{x}<br>Log of Pageviews=%{y} <b>(trend)</b><extra></extra>",
           "legendgroup": "Other",
           "line": {
            "color": "black"
           },
           "marker": {
            "color": "#636efa",
            "symbol": "circle"
           },
           "mode": "lines",
           "name": "Other",
           "showlegend": false,
           "type": "scatter",
           "x": [
            -4.605170185988091,
            -2.9836729019597996,
            -2.5797424409205996,
            -1.9428634174116517,
            -1.6449504091042968,
            -1.1585024711370404,
            -0.8373513719905505,
            0.18142830645385027,
            0.6365956578417861,
            1.108294880305393,
            1.1458026739320557,
            1.1492624739047106,
            1.2283737794248424,
            1.4539916238519628,
            1.796012457132783,
            1.914946177258538,
            1.9515905504410147,
            2.016435623511757,
            2.1077623339751255,
            2.3351920616317026,
            2.360939394394449,
            2.4157381044243906,
            2.4754122742510734,
            2.605464806407804,
            2.610417194797736,
            2.68177169914002,
            2.8065877085363202,
            2.8681632848979426,
            2.9201385959888313,
            3.0045269855531127,
            3.045561901553427,
            3.248760625534197,
            3.298897426198657,
            3.3241331817019133
           ],
           "xaxis": "x",
           "y": [
            2.3350690742592093,
            2.9038588275615576,
            3.0455497878541444,
            3.268954579359657,
            3.373456676384288,
            3.544093164866994,
            3.656746732810388,
            4.014114856506688,
            4.17377872277235,
            4.339241648316975,
            4.3523986538167465,
            4.353612284448327,
            4.381362993865758,
            4.460505351572026,
            4.580479616902135,
            4.622199255902455,
            4.6350533902804045,
            4.657799782444042,
            4.689835418658816,
            4.769613349810224,
            4.778645014059413,
            4.797867337196325,
            4.818799876935103,
            4.864419779237993,
            4.866156980896184,
            4.891186755118829,
            4.934969786945027,
            4.956569303165719,
            4.974801232792981,
            5.00440304079762,
            5.018797292319656,
            5.090075458014295,
            5.107662473892891,
            5.116514686775688
           ],
           "yaxis": "y"
          },
          {
           "hovertemplate": "<b>%{hovertext}</b><br><br>Data points=Bangladesh<br>Period=2022-02-27 to 2022-04-27<br>Log of Deaths=%{x}<br>Log of Pageviews=%{y}<extra></extra>",
           "hovertext": [
            "Bangladesh"
           ],
           "legendgroup": "Bangladesh",
           "marker": {
            "color": "#EF553B",
            "symbol": "circle"
           },
           "mode": "markers",
           "name": "Bangladesh",
           "orientation": "v",
           "showlegend": true,
           "type": "scatter",
           "x": [
            -3.7567951471854966
           ],
           "xaxis": "x",
           "y": [
            1.4505086299324434
           ],
           "yaxis": "y"
          },
          {
           "hovertemplate": "Data points=Bangladesh<br>Period=2022-02-27 to 2022-04-27<extra></extra>",
           "legendgroup": "Bangladesh",
           "line": {
            "color": "black"
           },
           "marker": {
            "color": "#EF553B",
            "symbol": "circle"
           },
           "mode": "lines",
           "name": "Bangladesh",
           "showlegend": false,
           "type": "scatter",
           "xaxis": "x",
           "yaxis": "y"
          },
          {
           "hovertemplate": "<b>%{hovertext}</b><br><br>Data points=Sweden<br>Period=2022-02-27 to 2022-04-27<br>Log of Deaths=%{x}<br>Log of Pageviews=%{y}<extra></extra>",
           "hovertext": [
            "Sweden"
           ],
           "legendgroup": "Sweden",
           "marker": {
            "color": "#00cc96",
            "symbol": "circle"
           },
           "mode": "markers",
           "name": "Sweden",
           "orientation": "v",
           "showlegend": true,
           "type": "scatter",
           "x": [
            2.2945275065255584
           ],
           "xaxis": "x",
           "y": [
            4.332817864041512
           ],
           "yaxis": "y"
          },
          {
           "hovertemplate": "Data points=Sweden<br>Period=2022-02-27 to 2022-04-27<extra></extra>",
           "legendgroup": "Sweden",
           "line": {
            "color": "black"
           },
           "marker": {
            "color": "#00cc96",
            "symbol": "circle"
           },
           "mode": "lines",
           "name": "Sweden",
           "showlegend": false,
           "type": "scatter",
           "xaxis": "x",
           "yaxis": "y"
          },
          {
           "hovertemplate": "<b>%{hovertext}</b><br><br>Data points=Germany<br>Period=2022-02-27 to 2022-04-27<br>Log of Deaths=%{x}<br>Log of Pageviews=%{y}<extra></extra>",
           "hovertext": [
            "Germany"
           ],
           "legendgroup": "Germany",
           "marker": {
            "color": "#ab63fa",
            "symbol": "circle"
           },
           "mode": "markers",
           "name": "Germany",
           "orientation": "v",
           "showlegend": true,
           "type": "scatter",
           "x": [
            2.6842144625345155
           ],
           "xaxis": "x",
           "y": [
            6.456974582082313
           ],
           "yaxis": "y"
          },
          {
           "hovertemplate": "Data points=Germany<br>Period=2022-02-27 to 2022-04-27<extra></extra>",
           "legendgroup": "Germany",
           "line": {
            "color": "black"
           },
           "marker": {
            "color": "#ab63fa",
            "symbol": "circle"
           },
           "mode": "lines",
           "name": "Germany",
           "showlegend": false,
           "type": "scatter",
           "xaxis": "x",
           "yaxis": "y"
          },
          {
           "hovertemplate": "<b>%{hovertext}</b><br><br>Data points=Thailand<br>Period=2022-02-27 to 2022-04-27<br>Log of Deaths=%{x}<br>Log of Pageviews=%{y}<extra></extra>",
           "hovertext": [
            "Thailand"
           ],
           "legendgroup": "Thailand",
           "marker": {
            "color": "#FFA15A",
            "symbol": "circle"
           },
           "mode": "markers",
           "name": "Thailand",
           "orientation": "v",
           "showlegend": true,
           "type": "scatter",
           "x": [
            2.087287076600715
           ],
           "xaxis": "x",
           "y": [
            2.946923011609502
           ],
           "yaxis": "y"
          },
          {
           "hovertemplate": "Data points=Thailand<br>Period=2022-02-27 to 2022-04-27<extra></extra>",
           "legendgroup": "Thailand",
           "line": {
            "color": "black"
           },
           "marker": {
            "color": "#FFA15A",
            "symbol": "circle"
           },
           "mode": "lines",
           "name": "Thailand",
           "showlegend": false,
           "type": "scatter",
           "xaxis": "x",
           "yaxis": "y"
          }
         ],
         "name": "2022-02-27 to 2022-04-27"
        }
       ],
       "layout": {
        "height": 500,
        "legend": {
         "title": {
          "text": "Data points"
         },
         "tracegroupgap": 0
        },
        "sliders": [
         {
          "active": 0,
          "currentvalue": {
           "prefix": "Period="
          },
          "len": 0.9,
          "pad": {
           "b": 10,
           "t": 60
          },
          "steps": [
           {
            "args": [
             [
              "2020-03-21"
             ],
             {
              "frame": {
               "duration": 0,
               "redraw": false
              },
              "fromcurrent": true,
              "mode": "immediate",
              "transition": {
               "duration": 0,
               "easing": "linear"
              }
             }
            ],
            "label": "2020-03-21",
            "method": "animate"
           },
           {
            "args": [
             [
              "2020-05-19"
             ],
             {
              "frame": {
               "duration": 0,
               "redraw": false
              },
              "fromcurrent": true,
              "mode": "immediate",
              "transition": {
               "duration": 0,
               "easing": "linear"
              }
             }
            ],
            "label": "2020-05-19",
            "method": "animate"
           },
           {
            "args": [
             [
              "2020-07-17"
             ],
             {
              "frame": {
               "duration": 0,
               "redraw": false
              },
              "fromcurrent": true,
              "mode": "immediate",
              "transition": {
               "duration": 0,
               "easing": "linear"
              }
             }
            ],
            "label": "2020-07-17",
            "method": "animate"
           },
           {
            "args": [
             [
              "2020-09-14"
             ],
             {
              "frame": {
               "duration": 0,
               "redraw": false
              },
              "fromcurrent": true,
              "mode": "immediate",
              "transition": {
               "duration": 0,
               "easing": "linear"
              }
             }
            ],
            "label": "2020-09-14",
            "method": "animate"
           },
           {
            "args": [
             [
              "2020-11-12"
             ],
             {
              "frame": {
               "duration": 0,
               "redraw": false
              },
              "fromcurrent": true,
              "mode": "immediate",
              "transition": {
               "duration": 0,
               "easing": "linear"
              }
             }
            ],
            "label": "2020-11-12",
            "method": "animate"
           },
           {
            "args": [
             [
              "2021-01-10"
             ],
             {
              "frame": {
               "duration": 0,
               "redraw": false
              },
              "fromcurrent": true,
              "mode": "immediate",
              "transition": {
               "duration": 0,
               "easing": "linear"
              }
             }
            ],
            "label": "2021-01-10",
            "method": "animate"
           },
           {
            "args": [
             [
              "2021-03-10"
             ],
             {
              "frame": {
               "duration": 0,
               "redraw": false
              },
              "fromcurrent": true,
              "mode": "immediate",
              "transition": {
               "duration": 0,
               "easing": "linear"
              }
             }
            ],
            "label": "2021-03-10",
            "method": "animate"
           },
           {
            "args": [
             [
              "2021-05-08"
             ],
             {
              "frame": {
               "duration": 0,
               "redraw": false
              },
              "fromcurrent": true,
              "mode": "immediate",
              "transition": {
               "duration": 0,
               "easing": "linear"
              }
             }
            ],
            "label": "2021-05-08",
            "method": "animate"
           },
           {
            "args": [
             [
              "2021-07-06"
             ],
             {
              "frame": {
               "duration": 0,
               "redraw": false
              },
              "fromcurrent": true,
              "mode": "immediate",
              "transition": {
               "duration": 0,
               "easing": "linear"
              }
             }
            ],
            "label": "2021-07-06",
            "method": "animate"
           },
           {
            "args": [
             [
              "2021-09-03"
             ],
             {
              "frame": {
               "duration": 0,
               "redraw": false
              },
              "fromcurrent": true,
              "mode": "immediate",
              "transition": {
               "duration": 0,
               "easing": "linear"
              }
             }
            ],
            "label": "2021-09-03",
            "method": "animate"
           },
           {
            "args": [
             [
              "2021-11-01"
             ],
             {
              "frame": {
               "duration": 0,
               "redraw": false
              },
              "fromcurrent": true,
              "mode": "immediate",
              "transition": {
               "duration": 0,
               "easing": "linear"
              }
             }
            ],
            "label": "2021-11-01",
            "method": "animate"
           },
           {
            "args": [
             [
              "2021-12-30"
             ],
             {
              "frame": {
               "duration": 0,
               "redraw": false
              },
              "fromcurrent": true,
              "mode": "immediate",
              "transition": {
               "duration": 0,
               "easing": "linear"
              }
             }
            ],
            "label": "2021-12-30",
            "method": "animate"
           },
           {
            "args": [
             [
              "2022-02-27"
             ],
             {
              "frame": {
               "duration": 0,
               "redraw": false
              },
              "fromcurrent": true,
              "mode": "immediate",
              "transition": {
               "duration": 0,
               "easing": "linear"
              }
             }
            ],
            "label": "2022-02-27",
            "method": "animate"
           },
           {
            "args": [
             [
              "2022-02-27 to 2022-04-27"
             ],
             {
              "frame": {
               "duration": 0,
               "redraw": false
              },
              "fromcurrent": true,
              "mode": "immediate",
              "transition": {
               "duration": 0,
               "easing": "linear"
              }
             }
            ],
            "label": "2022-02-27 to 2022-04-27",
            "method": "animate"
           }
          ],
          "x": 0.1,
          "xanchor": "left",
          "y": 0,
          "yanchor": "top"
         }
        ],
        "template": {
         "data": {
          "bar": [
           {
            "error_x": {
             "color": "#2a3f5f"
            },
            "error_y": {
             "color": "#2a3f5f"
            },
            "marker": {
             "line": {
              "color": "#E5ECF6",
              "width": 0.5
             },
             "pattern": {
              "fillmode": "overlay",
              "size": 10,
              "solidity": 0.2
             }
            },
            "type": "bar"
           }
          ],
          "barpolar": [
           {
            "marker": {
             "line": {
              "color": "#E5ECF6",
              "width": 0.5
             },
             "pattern": {
              "fillmode": "overlay",
              "size": 10,
              "solidity": 0.2
             }
            },
            "type": "barpolar"
           }
          ],
          "carpet": [
           {
            "aaxis": {
             "endlinecolor": "#2a3f5f",
             "gridcolor": "white",
             "linecolor": "white",
             "minorgridcolor": "white",
             "startlinecolor": "#2a3f5f"
            },
            "baxis": {
             "endlinecolor": "#2a3f5f",
             "gridcolor": "white",
             "linecolor": "white",
             "minorgridcolor": "white",
             "startlinecolor": "#2a3f5f"
            },
            "type": "carpet"
           }
          ],
          "choropleth": [
           {
            "colorbar": {
             "outlinewidth": 0,
             "ticks": ""
            },
            "type": "choropleth"
           }
          ],
          "contour": [
           {
            "colorbar": {
             "outlinewidth": 0,
             "ticks": ""
            },
            "colorscale": [
             [
              0,
              "#0d0887"
             ],
             [
              0.1111111111111111,
              "#46039f"
             ],
             [
              0.2222222222222222,
              "#7201a8"
             ],
             [
              0.3333333333333333,
              "#9c179e"
             ],
             [
              0.4444444444444444,
              "#bd3786"
             ],
             [
              0.5555555555555556,
              "#d8576b"
             ],
             [
              0.6666666666666666,
              "#ed7953"
             ],
             [
              0.7777777777777778,
              "#fb9f3a"
             ],
             [
              0.8888888888888888,
              "#fdca26"
             ],
             [
              1,
              "#f0f921"
             ]
            ],
            "type": "contour"
           }
          ],
          "contourcarpet": [
           {
            "colorbar": {
             "outlinewidth": 0,
             "ticks": ""
            },
            "type": "contourcarpet"
           }
          ],
          "heatmap": [
           {
            "colorbar": {
             "outlinewidth": 0,
             "ticks": ""
            },
            "colorscale": [
             [
              0,
              "#0d0887"
             ],
             [
              0.1111111111111111,
              "#46039f"
             ],
             [
              0.2222222222222222,
              "#7201a8"
             ],
             [
              0.3333333333333333,
              "#9c179e"
             ],
             [
              0.4444444444444444,
              "#bd3786"
             ],
             [
              0.5555555555555556,
              "#d8576b"
             ],
             [
              0.6666666666666666,
              "#ed7953"
             ],
             [
              0.7777777777777778,
              "#fb9f3a"
             ],
             [
              0.8888888888888888,
              "#fdca26"
             ],
             [
              1,
              "#f0f921"
             ]
            ],
            "type": "heatmap"
           }
          ],
          "heatmapgl": [
           {
            "colorbar": {
             "outlinewidth": 0,
             "ticks": ""
            },
            "colorscale": [
             [
              0,
              "#0d0887"
             ],
             [
              0.1111111111111111,
              "#46039f"
             ],
             [
              0.2222222222222222,
              "#7201a8"
             ],
             [
              0.3333333333333333,
              "#9c179e"
             ],
             [
              0.4444444444444444,
              "#bd3786"
             ],
             [
              0.5555555555555556,
              "#d8576b"
             ],
             [
              0.6666666666666666,
              "#ed7953"
             ],
             [
              0.7777777777777778,
              "#fb9f3a"
             ],
             [
              0.8888888888888888,
              "#fdca26"
             ],
             [
              1,
              "#f0f921"
             ]
            ],
            "type": "heatmapgl"
           }
          ],
          "histogram": [
           {
            "marker": {
             "pattern": {
              "fillmode": "overlay",
              "size": 10,
              "solidity": 0.2
             }
            },
            "type": "histogram"
           }
          ],
          "histogram2d": [
           {
            "colorbar": {
             "outlinewidth": 0,
             "ticks": ""
            },
            "colorscale": [
             [
              0,
              "#0d0887"
             ],
             [
              0.1111111111111111,
              "#46039f"
             ],
             [
              0.2222222222222222,
              "#7201a8"
             ],
             [
              0.3333333333333333,
              "#9c179e"
             ],
             [
              0.4444444444444444,
              "#bd3786"
             ],
             [
              0.5555555555555556,
              "#d8576b"
             ],
             [
              0.6666666666666666,
              "#ed7953"
             ],
             [
              0.7777777777777778,
              "#fb9f3a"
             ],
             [
              0.8888888888888888,
              "#fdca26"
             ],
             [
              1,
              "#f0f921"
             ]
            ],
            "type": "histogram2d"
           }
          ],
          "histogram2dcontour": [
           {
            "colorbar": {
             "outlinewidth": 0,
             "ticks": ""
            },
            "colorscale": [
             [
              0,
              "#0d0887"
             ],
             [
              0.1111111111111111,
              "#46039f"
             ],
             [
              0.2222222222222222,
              "#7201a8"
             ],
             [
              0.3333333333333333,
              "#9c179e"
             ],
             [
              0.4444444444444444,
              "#bd3786"
             ],
             [
              0.5555555555555556,
              "#d8576b"
             ],
             [
              0.6666666666666666,
              "#ed7953"
             ],
             [
              0.7777777777777778,
              "#fb9f3a"
             ],
             [
              0.8888888888888888,
              "#fdca26"
             ],
             [
              1,
              "#f0f921"
             ]
            ],
            "type": "histogram2dcontour"
           }
          ],
          "mesh3d": [
           {
            "colorbar": {
             "outlinewidth": 0,
             "ticks": ""
            },
            "type": "mesh3d"
           }
          ],
          "parcoords": [
           {
            "line": {
             "colorbar": {
              "outlinewidth": 0,
              "ticks": ""
             }
            },
            "type": "parcoords"
           }
          ],
          "pie": [
           {
            "automargin": true,
            "type": "pie"
           }
          ],
          "scatter": [
           {
            "fillpattern": {
             "fillmode": "overlay",
             "size": 10,
             "solidity": 0.2
            },
            "type": "scatter"
           }
          ],
          "scatter3d": [
           {
            "line": {
             "colorbar": {
              "outlinewidth": 0,
              "ticks": ""
             }
            },
            "marker": {
             "colorbar": {
              "outlinewidth": 0,
              "ticks": ""
             }
            },
            "type": "scatter3d"
           }
          ],
          "scattercarpet": [
           {
            "marker": {
             "colorbar": {
              "outlinewidth": 0,
              "ticks": ""
             }
            },
            "type": "scattercarpet"
           }
          ],
          "scattergeo": [
           {
            "marker": {
             "colorbar": {
              "outlinewidth": 0,
              "ticks": ""
             }
            },
            "type": "scattergeo"
           }
          ],
          "scattergl": [
           {
            "marker": {
             "colorbar": {
              "outlinewidth": 0,
              "ticks": ""
             }
            },
            "type": "scattergl"
           }
          ],
          "scattermapbox": [
           {
            "marker": {
             "colorbar": {
              "outlinewidth": 0,
              "ticks": ""
             }
            },
            "type": "scattermapbox"
           }
          ],
          "scatterpolar": [
           {
            "marker": {
             "colorbar": {
              "outlinewidth": 0,
              "ticks": ""
             }
            },
            "type": "scatterpolar"
           }
          ],
          "scatterpolargl": [
           {
            "marker": {
             "colorbar": {
              "outlinewidth": 0,
              "ticks": ""
             }
            },
            "type": "scatterpolargl"
           }
          ],
          "scatterternary": [
           {
            "marker": {
             "colorbar": {
              "outlinewidth": 0,
              "ticks": ""
             }
            },
            "type": "scatterternary"
           }
          ],
          "surface": [
           {
            "colorbar": {
             "outlinewidth": 0,
             "ticks": ""
            },
            "colorscale": [
             [
              0,
              "#0d0887"
             ],
             [
              0.1111111111111111,
              "#46039f"
             ],
             [
              0.2222222222222222,
              "#7201a8"
             ],
             [
              0.3333333333333333,
              "#9c179e"
             ],
             [
              0.4444444444444444,
              "#bd3786"
             ],
             [
              0.5555555555555556,
              "#d8576b"
             ],
             [
              0.6666666666666666,
              "#ed7953"
             ],
             [
              0.7777777777777778,
              "#fb9f3a"
             ],
             [
              0.8888888888888888,
              "#fdca26"
             ],
             [
              1,
              "#f0f921"
             ]
            ],
            "type": "surface"
           }
          ],
          "table": [
           {
            "cells": {
             "fill": {
              "color": "#EBF0F8"
             },
             "line": {
              "color": "white"
             }
            },
            "header": {
             "fill": {
              "color": "#C8D4E3"
             },
             "line": {
              "color": "white"
             }
            },
            "type": "table"
           }
          ]
         },
         "layout": {
          "annotationdefaults": {
           "arrowcolor": "#2a3f5f",
           "arrowhead": 0,
           "arrowwidth": 1
          },
          "autotypenumbers": "strict",
          "coloraxis": {
           "colorbar": {
            "outlinewidth": 0,
            "ticks": ""
           }
          },
          "colorscale": {
           "diverging": [
            [
             0,
             "#8e0152"
            ],
            [
             0.1,
             "#c51b7d"
            ],
            [
             0.2,
             "#de77ae"
            ],
            [
             0.3,
             "#f1b6da"
            ],
            [
             0.4,
             "#fde0ef"
            ],
            [
             0.5,
             "#f7f7f7"
            ],
            [
             0.6,
             "#e6f5d0"
            ],
            [
             0.7,
             "#b8e186"
            ],
            [
             0.8,
             "#7fbc41"
            ],
            [
             0.9,
             "#4d9221"
            ],
            [
             1,
             "#276419"
            ]
           ],
           "sequential": [
            [
             0,
             "#0d0887"
            ],
            [
             0.1111111111111111,
             "#46039f"
            ],
            [
             0.2222222222222222,
             "#7201a8"
            ],
            [
             0.3333333333333333,
             "#9c179e"
            ],
            [
             0.4444444444444444,
             "#bd3786"
            ],
            [
             0.5555555555555556,
             "#d8576b"
            ],
            [
             0.6666666666666666,
             "#ed7953"
            ],
            [
             0.7777777777777778,
             "#fb9f3a"
            ],
            [
             0.8888888888888888,
             "#fdca26"
            ],
            [
             1,
             "#f0f921"
            ]
           ],
           "sequentialminus": [
            [
             0,
             "#0d0887"
            ],
            [
             0.1111111111111111,
             "#46039f"
            ],
            [
             0.2222222222222222,
             "#7201a8"
            ],
            [
             0.3333333333333333,
             "#9c179e"
            ],
            [
             0.4444444444444444,
             "#bd3786"
            ],
            [
             0.5555555555555556,
             "#d8576b"
            ],
            [
             0.6666666666666666,
             "#ed7953"
            ],
            [
             0.7777777777777778,
             "#fb9f3a"
            ],
            [
             0.8888888888888888,
             "#fdca26"
            ],
            [
             1,
             "#f0f921"
            ]
           ]
          },
          "colorway": [
           "#636efa",
           "#EF553B",
           "#00cc96",
           "#ab63fa",
           "#FFA15A",
           "#19d3f3",
           "#FF6692",
           "#B6E880",
           "#FF97FF",
           "#FECB52"
          ],
          "font": {
           "color": "#2a3f5f"
          },
          "geo": {
           "bgcolor": "white",
           "lakecolor": "white",
           "landcolor": "#E5ECF6",
           "showlakes": true,
           "showland": true,
           "subunitcolor": "white"
          },
          "hoverlabel": {
           "align": "left"
          },
          "hovermode": "closest",
          "mapbox": {
           "style": "light"
          },
          "paper_bgcolor": "white",
          "plot_bgcolor": "#E5ECF6",
          "polar": {
           "angularaxis": {
            "gridcolor": "white",
            "linecolor": "white",
            "ticks": ""
           },
           "bgcolor": "#E5ECF6",
           "radialaxis": {
            "gridcolor": "white",
            "linecolor": "white",
            "ticks": ""
           }
          },
          "scene": {
           "xaxis": {
            "backgroundcolor": "#E5ECF6",
            "gridcolor": "white",
            "gridwidth": 2,
            "linecolor": "white",
            "showbackground": true,
            "ticks": "",
            "zerolinecolor": "white"
           },
           "yaxis": {
            "backgroundcolor": "#E5ECF6",
            "gridcolor": "white",
            "gridwidth": 2,
            "linecolor": "white",
            "showbackground": true,
            "ticks": "",
            "zerolinecolor": "white"
           },
           "zaxis": {
            "backgroundcolor": "#E5ECF6",
            "gridcolor": "white",
            "gridwidth": 2,
            "linecolor": "white",
            "showbackground": true,
            "ticks": "",
            "zerolinecolor": "white"
           }
          },
          "shapedefaults": {
           "line": {
            "color": "#2a3f5f"
           }
          },
          "ternary": {
           "aaxis": {
            "gridcolor": "white",
            "linecolor": "white",
            "ticks": ""
           },
           "baxis": {
            "gridcolor": "white",
            "linecolor": "white",
            "ticks": ""
           },
           "bgcolor": "#E5ECF6",
           "caxis": {
            "gridcolor": "white",
            "linecolor": "white",
            "ticks": ""
           }
          },
          "title": {
           "x": 0.05
          },
          "xaxis": {
           "automargin": true,
           "gridcolor": "white",
           "linecolor": "white",
           "ticks": "",
           "title": {
            "standoff": 15
           },
           "zerolinecolor": "white",
           "zerolinewidth": 2
          },
          "yaxis": {
           "automargin": true,
           "gridcolor": "white",
           "linecolor": "white",
           "ticks": "",
           "title": {
            "standoff": 15
           },
           "zerolinecolor": "white",
           "zerolinewidth": 2
          }
         }
        },
        "title": {
         "text": "<span style=\"font-size: 14px;\"><b>Relationship between Log of cumulative deaths and Log of cumulative pageviews</b></span><br><span style=\"font-size: 10px; line-height: 20%;\">Each data points represent the log of the 2 months cumulative sum of pageviews and deaths per 100k inhabitants</span>"
        },
        "updatemenus": [
         {
          "buttons": [
           {
            "args": [
             null,
             {
              "frame": {
               "duration": 2000,
               "redraw": false
              },
              "fromcurrent": true,
              "mode": "immediate",
              "transition": {
               "duration": 500,
               "easing": "linear"
              }
             }
            ],
            "label": "&#9654;",
            "method": "animate"
           },
           {
            "args": [
             [
              null
             ],
             {
              "frame": {
               "duration": 0,
               "redraw": false
              },
              "fromcurrent": true,
              "mode": "immediate",
              "transition": {
               "duration": 0,
               "easing": "linear"
              }
             }
            ],
            "label": "&#9724;",
            "method": "animate"
           }
          ],
          "direction": "left",
          "pad": {
           "r": 10,
           "t": 70
          },
          "showactive": false,
          "type": "buttons",
          "x": 0.1,
          "xanchor": "right",
          "y": 0,
          "yanchor": "top"
         }
        ],
        "width": 800,
        "xaxis": {
         "anchor": "y",
         "domain": [
          0,
          1
         ],
         "range": [
          -5,
          5
         ],
         "title": {
          "text": "Log of Deaths"
         }
        },
        "yaxis": {
         "anchor": "x",
         "domain": [
          0,
          1
         ],
         "range": [
          -5,
          12
         ],
         "title": {
          "text": "Log of Pageviews"
         }
        }
       }
      }
     },
     "metadata": {},
     "output_type": "display_data"
    },
    {
     "data": {
      "text/html": [
       "<div>\n",
       "<style scoped>\n",
       "    .dataframe tbody tr th:only-of-type {\n",
       "        vertical-align: middle;\n",
       "    }\n",
       "\n",
       "    .dataframe tbody tr th {\n",
       "        vertical-align: top;\n",
       "    }\n",
       "\n",
       "    .dataframe thead th {\n",
       "        text-align: right;\n",
       "    }\n",
       "</style>\n",
       "<table border=\"1\" class=\"dataframe\">\n",
       "  <thead>\n",
       "    <tr style=\"text-align: right;\">\n",
       "      <th></th>\n",
       "      <th>Intercept</th>\n",
       "      <th>Intercept p-value</th>\n",
       "      <th>Coefficient</th>\n",
       "      <th>Coefficient p-value</th>\n",
       "    </tr>\n",
       "    <tr>\n",
       "      <th>Period</th>\n",
       "      <th></th>\n",
       "      <th></th>\n",
       "      <th></th>\n",
       "      <th></th>\n",
       "    </tr>\n",
       "  </thead>\n",
       "  <tbody>\n",
       "    <tr>\n",
       "      <th>22-01-2020 to 2020-03-21</th>\n",
       "      <td>8.801</td>\n",
       "      <td>0.0</td>\n",
       "      <td>0.810</td>\n",
       "      <td>0.031</td>\n",
       "    </tr>\n",
       "    <tr>\n",
       "      <th>2020-03-21 to 2020-05-19</th>\n",
       "      <td>7.115</td>\n",
       "      <td>0.0</td>\n",
       "      <td>0.657</td>\n",
       "      <td>0.000</td>\n",
       "    </tr>\n",
       "    <tr>\n",
       "      <th>2020-05-19 to 2020-07-17</th>\n",
       "      <td>6.126</td>\n",
       "      <td>0.0</td>\n",
       "      <td>0.226</td>\n",
       "      <td>0.074</td>\n",
       "    </tr>\n",
       "    <tr>\n",
       "      <th>2020-07-17 to 2020-09-14</th>\n",
       "      <td>5.746</td>\n",
       "      <td>0.0</td>\n",
       "      <td>0.227</td>\n",
       "      <td>0.094</td>\n",
       "    </tr>\n",
       "    <tr>\n",
       "      <th>2020-09-14 to 2020-11-12</th>\n",
       "      <td>5.432</td>\n",
       "      <td>0.0</td>\n",
       "      <td>0.470</td>\n",
       "      <td>0.000</td>\n",
       "    </tr>\n",
       "    <tr>\n",
       "      <th>2020-11-12 to 2021-01-10</th>\n",
       "      <td>5.146</td>\n",
       "      <td>0.0</td>\n",
       "      <td>0.391</td>\n",
       "      <td>0.000</td>\n",
       "    </tr>\n",
       "    <tr>\n",
       "      <th>2021-01-10 to 2021-03-10</th>\n",
       "      <td>5.227</td>\n",
       "      <td>0.0</td>\n",
       "      <td>0.294</td>\n",
       "      <td>0.000</td>\n",
       "    </tr>\n",
       "    <tr>\n",
       "      <th>2021-03-10 to 2021-05-08</th>\n",
       "      <td>5.114</td>\n",
       "      <td>0.0</td>\n",
       "      <td>0.217</td>\n",
       "      <td>0.007</td>\n",
       "    </tr>\n",
       "    <tr>\n",
       "      <th>2021-05-08 to 2021-07-06</th>\n",
       "      <td>4.902</td>\n",
       "      <td>0.0</td>\n",
       "      <td>0.055</td>\n",
       "      <td>0.679</td>\n",
       "    </tr>\n",
       "    <tr>\n",
       "      <th>2021-07-06 to 2021-09-03</th>\n",
       "      <td>4.737</td>\n",
       "      <td>0.0</td>\n",
       "      <td>0.055</td>\n",
       "      <td>0.668</td>\n",
       "    </tr>\n",
       "    <tr>\n",
       "      <th>2021-09-03 to 2021-11-01</th>\n",
       "      <td>4.412</td>\n",
       "      <td>0.0</td>\n",
       "      <td>0.260</td>\n",
       "      <td>0.012</td>\n",
       "    </tr>\n",
       "    <tr>\n",
       "      <th>2021-11-01 to 2021-12-30</th>\n",
       "      <td>4.329</td>\n",
       "      <td>0.0</td>\n",
       "      <td>0.337</td>\n",
       "      <td>0.001</td>\n",
       "    </tr>\n",
       "    <tr>\n",
       "      <th>2021-12-30 to 2022-02-27</th>\n",
       "      <td>4.134</td>\n",
       "      <td>0.0</td>\n",
       "      <td>0.378</td>\n",
       "      <td>0.000</td>\n",
       "    </tr>\n",
       "    <tr>\n",
       "      <th>2022-02-27 to 2022-04-27</th>\n",
       "      <td>3.950</td>\n",
       "      <td>0.0</td>\n",
       "      <td>0.351</td>\n",
       "      <td>0.000</td>\n",
       "    </tr>\n",
       "  </tbody>\n",
       "</table>\n",
       "</div>"
      ],
      "text/plain": [
       "                          Intercept  Intercept p-value  Coefficient  \\\n",
       "Period                                                                \n",
       "22-01-2020 to 2020-03-21      8.801                0.0        0.810   \n",
       "2020-03-21 to 2020-05-19      7.115                0.0        0.657   \n",
       "2020-05-19 to 2020-07-17      6.126                0.0        0.226   \n",
       "2020-07-17 to 2020-09-14      5.746                0.0        0.227   \n",
       "2020-09-14 to 2020-11-12      5.432                0.0        0.470   \n",
       "2020-11-12 to 2021-01-10      5.146                0.0        0.391   \n",
       "2021-01-10 to 2021-03-10      5.227                0.0        0.294   \n",
       "2021-03-10 to 2021-05-08      5.114                0.0        0.217   \n",
       "2021-05-08 to 2021-07-06      4.902                0.0        0.055   \n",
       "2021-07-06 to 2021-09-03      4.737                0.0        0.055   \n",
       "2021-09-03 to 2021-11-01      4.412                0.0        0.260   \n",
       "2021-11-01 to 2021-12-30      4.329                0.0        0.337   \n",
       "2021-12-30 to 2022-02-27      4.134                0.0        0.378   \n",
       "2022-02-27 to 2022-04-27      3.950                0.0        0.351   \n",
       "\n",
       "                          Coefficient p-value  \n",
       "Period                                         \n",
       "22-01-2020 to 2020-03-21                0.031  \n",
       "2020-03-21 to 2020-05-19                0.000  \n",
       "2020-05-19 to 2020-07-17                0.074  \n",
       "2020-07-17 to 2020-09-14                0.094  \n",
       "2020-09-14 to 2020-11-12                0.000  \n",
       "2020-11-12 to 2021-01-10                0.000  \n",
       "2021-01-10 to 2021-03-10                0.000  \n",
       "2021-03-10 to 2021-05-08                0.007  \n",
       "2021-05-08 to 2021-07-06                0.679  \n",
       "2021-07-06 to 2021-09-03                0.668  \n",
       "2021-09-03 to 2021-11-01                0.012  \n",
       "2021-11-01 to 2021-12-30                0.001  \n",
       "2021-12-30 to 2022-02-27                0.000  \n",
       "2022-02-27 to 2022-04-27                0.000  "
      ]
     },
     "execution_count": 134,
     "metadata": {},
     "output_type": "execute_result"
    }
   ],
   "source": [
    "\n",
    "fig = px.scatter(data, x=\"Log of Deaths\", y=\"Log of Pageviews\", animation_frame=\"Date\", hover_name=\"country\", trendline=\"ols\",\n",
    " trendline_color_override= 'black', range_x= [-5, 5], range_y=[-5, 12], color=\"Data points\",\n",
    "        title= format_title(\"Relationship between Log of cumulative deaths and Log of cumulative pageviews\",\n",
    "         \"Each data points represent the log of the 2 months cumulative sum of pageviews and deaths per 100k inhabitants\", 10, 14))\n",
    "\n",
    "results = px.get_trendline_results(fig)\n",
    "tab_result = pd.DataFrame(columns= ['Period', 'Intercept', 'Intercept p-value', 'Coefficient', 'Coefficient p-value'])\n",
    "date_end = '22-01-2020'\n",
    "for i in range(14):\n",
    "    results1 = results.iloc[i][\"px_fit_results\"].params\n",
    "    results2 = results.iloc[i][\"px_fit_results\"].pvalues\n",
    "    date_begin = date_end\n",
    "    date_end = results.iloc[i][\"Date\"]\n",
    "    data['Period'] = np.where(data['i'] == i,\"{} to {}\".format(date_begin, date_end), data['Date'])\n",
    "    period = \"{} to {}\".format(date_begin, date_end)\n",
    "    tab_result = pd.concat([tab_result, pd.DataFrame({'Period': [period], 'Intercept': [results1[0]], 'Intercept p-value': [results2[0]],\n",
    "                 'Coefficient': [results1[1]], 'Coefficient p-value': [results2[1]]})], axis= 0)\n",
    "\n",
    "fig = px.scatter(data, x=\"Log of Deaths\", y=\"Log of Pageviews\", animation_frame=\"Period\", hover_name=\"country\", trendline=\"ols\",\n",
    " trendline_color_override= 'black', range_x= [-5, 5], range_y=[-5, 12], color=\"Data points\",\n",
    "        title= format_title(\"Relationship between Log of cumulative deaths and Log of cumulative pageviews\",\n",
    "         \"Each data points represent the log of the 2 months cumulative sum of pageviews and deaths per 100k inhabitants\", 10, 14))\n",
    "fig.update_traces(marker_size=10)\n",
    "fig.update_layout(height=500, width= 800)\n",
    "fig.layout.updatemenus[0].buttons[0].args[1][\"frame\"][\"duration\"] = 2000\n",
    "fig.show()\n",
    "fig.write_html(\"data/regressionDeathsPageviews.html\",default_width= 500, default_height= 800)\n",
    "tab_result = tab_result.set_index('Period').round(3)\n",
    "tab_result.to_html('data/table_res_reg.html')\n",
    "tab_result\n"
   ]
  }
 ],
 "metadata": {
  "kernelspec": {
   "display_name": "Python 3",
   "language": "python",
   "name": "python3"
  },
  "language_info": {
   "codemirror_mode": {
    "name": "ipython",
    "version": 3
   },
   "file_extension": ".py",
   "mimetype": "text/x-python",
   "name": "python",
   "nbconvert_exporter": "python",
   "pygments_lexer": "ipython3",
   "version": "3.9.7"
  },
  "vscode": {
   "interpreter": {
    "hash": "aee8b7b246df8f9039afb4144a1f6fd8d2ca17a180786b69acc140d282b71a49"
   }
  }
 },
 "nbformat": 4,
 "nbformat_minor": 2
}
