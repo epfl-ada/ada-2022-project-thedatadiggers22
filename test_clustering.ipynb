{
 "cells": [
  {
   "cell_type": "code",
   "execution_count": 35,
   "metadata": {},
   "outputs": [],
   "source": [
    "import pandas as pd\n",
    "import numpy as np\n",
    "import matplotlib.pyplot as plt\n",
    "import seaborn as sn\n",
    "from scipy import stats\n",
    "from helper import *\n",
    "from scipy.stats.mstats import gmean\n",
    "#Importation of all the packages\n",
    "from datetime import datetime\n",
    "import math\n",
    "import json\n",
    "import zipfile  \n",
    "import ssl\n",
    "from scipy import stats\n",
    "from sklearn.cluster import KMeans\n",
    "from sklearn import preprocessing\n",
    "from sklearn import metrics\n",
    "\n",
    "#To dowload data\n",
    "import requests\n",
    "import io\n",
    "import gzip\n",
    "\n",
    "#To create the mapchart\n",
    "import iso3166\n",
    "import plotly\n",
    "from iso3166 import countries\n",
    "import plotly.graph_objects as go"
   ]
  },
  {
   "cell_type": "code",
   "execution_count": 36,
   "metadata": {},
   "outputs": [],
   "source": [
    "pageview_df = pd.read_csv(\"page_views_covid_related.csv.gz\")\n",
    "pageview_df_imp_country = pageview_df[[\"date\"] + list(get_country_dict().values())].set_index('date')\n",
    "pageview_df_imp_country.head()\n",
    "country_dict = get_country_dict()\n",
    "inv_country_dict = {v: k for k, v in country_dict.items()}"
   ]
  },
  {
   "cell_type": "code",
   "execution_count": 37,
   "metadata": {},
   "outputs": [],
   "source": [
    "#Normalisation different Mean/Max;Min; Correlation pageviews avec covid cases\n",
    "\n",
    "#Population per country\n",
    "#Population per languages\n"
   ]
  },
  {
   "cell_type": "code",
   "execution_count": 38,
   "metadata": {},
   "outputs": [],
   "source": [
    "ssl._create_default_https_context = ssl._create_unverified_context\n",
    "death_url = \"https://github.com/owid/covid-19-data/blob/master/public/data/jhu/new_deaths.csv?raw=true\" # Make sure the url is the raw version of the file on GitHub\n",
    "cases_url = \"https://github.com/owid/covid-19-data/blob/master/public/data/jhu/new_cases.csv?raw=true\"\n",
    "\n",
    "# Reading the downloaded content and turning it into a pandas dataframe\n",
    "deaths = pd.read_csv(death_url,index_col=0)\n",
    "cases = pd.read_csv(cases_url,index_col=0)\n",
    "deaths= deaths.interpolate(method ='linear', limit_direction ='forward') \n",
    "cases = cases.interpolate(method ='linear', limit_direction ='forward') \n",
    "deaths = deaths.fillna(0)\n",
    "cases = cases.fillna(0)\n",
    "#Keep only values until July\n",
    "deaths = deaths[deaths.index < '2020-08-31']\n",
    "cases = cases[cases.index < '2020-08-31']\n"
   ]
  },
  {
   "cell_type": "code",
   "execution_count": 39,
   "metadata": {},
   "outputs": [],
   "source": [
    "df_pageviews_pearson = pageview_df_imp_country.loc[pageview_df_imp_country.index < '2020-08-31']\n",
    "df_pageviews_pearson = df_pageviews_pearson.loc[df_pageviews_pearson.index >= '2020-01-22']\n",
    "df_pageviews_pearson = df_pageviews_pearson.interpolate(method ='linear', limit_direction ='forward') \n",
    "df_pageviews_pearson = df_pageviews_pearson.fillna(0)"
   ]
  },
  {
   "cell_type": "code",
   "execution_count": 40,
   "metadata": {},
   "outputs": [
    {
     "name": "stderr",
     "output_type": "stream",
     "text": [
      "/Library/Frameworks/Python.framework/Versions/3.9/lib/python3.9/site-packages/scipy/stats/stats.py:4023: PearsonRConstantInputWarning:\n",
      "\n",
      "An input array is constant; the correlation coefficient is not defined.\n",
      "\n",
      "/Library/Frameworks/Python.framework/Versions/3.9/lib/python3.9/site-packages/scipy/stats/stats.py:4023: PearsonRConstantInputWarning:\n",
      "\n",
      "An input array is constant; the correlation coefficient is not defined.\n",
      "\n"
     ]
    },
    {
     "data": {
      "text/html": [
       "<div>\n",
       "<style scoped>\n",
       "    .dataframe tbody tr th:only-of-type {\n",
       "        vertical-align: middle;\n",
       "    }\n",
       "\n",
       "    .dataframe tbody tr th {\n",
       "        vertical-align: top;\n",
       "    }\n",
       "\n",
       "    .dataframe thead th {\n",
       "        text-align: right;\n",
       "    }\n",
       "</style>\n",
       "<table border=\"1\" class=\"dataframe\">\n",
       "  <thead>\n",
       "    <tr style=\"text-align: right;\">\n",
       "      <th></th>\n",
       "      <th>Pearson correlation</th>\n",
       "      <th>Italy</th>\n",
       "      <th>Russia</th>\n",
       "      <th>China</th>\n",
       "      <th>Albania</th>\n",
       "      <th>Bangladesh</th>\n",
       "      <th>Botswana</th>\n",
       "      <th>Cambodia</th>\n",
       "      <th>Croatia</th>\n",
       "      <th>Greece</th>\n",
       "      <th>...</th>\n",
       "      <th>Kazakhstan</th>\n",
       "      <th>South Korea</th>\n",
       "      <th>Kyrgyzstan</th>\n",
       "      <th>Netherlands</th>\n",
       "      <th>Poland</th>\n",
       "      <th>Romania</th>\n",
       "      <th>Tajikistan</th>\n",
       "      <th>Thailand</th>\n",
       "      <th>Azerbaijan</th>\n",
       "      <th>Mongolia</th>\n",
       "    </tr>\n",
       "  </thead>\n",
       "  <tbody>\n",
       "    <tr>\n",
       "      <th>0</th>\n",
       "      <td>Correlation coefficient:</td>\n",
       "      <td>7.649793e-01</td>\n",
       "      <td>-5.879579e-01</td>\n",
       "      <td>0.089888</td>\n",
       "      <td>-0.075668</td>\n",
       "      <td>-0.160419</td>\n",
       "      <td>0.189628</td>\n",
       "      <td>NaN</td>\n",
       "      <td>0.024396</td>\n",
       "      <td>3.650353e-01</td>\n",
       "      <td>...</td>\n",
       "      <td>-0.120604</td>\n",
       "      <td>4.765756e-01</td>\n",
       "      <td>0.069496</td>\n",
       "      <td>4.767521e-01</td>\n",
       "      <td>-0.258035</td>\n",
       "      <td>-0.241334</td>\n",
       "      <td>0.291979</td>\n",
       "      <td>0.214635</td>\n",
       "      <td>-0.163240</td>\n",
       "      <td>NaN</td>\n",
       "    </tr>\n",
       "    <tr>\n",
       "      <th>1</th>\n",
       "      <td>P-value:</td>\n",
       "      <td>6.430361e-44</td>\n",
       "      <td>4.933171e-22</td>\n",
       "      <td>0.182060</td>\n",
       "      <td>0.261574</td>\n",
       "      <td>0.016748</td>\n",
       "      <td>0.004579</td>\n",
       "      <td>NaN</td>\n",
       "      <td>0.717731</td>\n",
       "      <td>2.109927e-08</td>\n",
       "      <td>...</td>\n",
       "      <td>0.072913</td>\n",
       "      <td>5.466895e-14</td>\n",
       "      <td>0.302601</td>\n",
       "      <td>5.335652e-14</td>\n",
       "      <td>0.000101</td>\n",
       "      <td>0.000284</td>\n",
       "      <td>0.000010</td>\n",
       "      <td>0.001293</td>\n",
       "      <td>0.014898</td>\n",
       "      <td>NaN</td>\n",
       "    </tr>\n",
       "  </tbody>\n",
       "</table>\n",
       "<p>2 rows × 39 columns</p>\n",
       "</div>"
      ],
      "text/plain": [
       "        Pearson correlation         Italy        Russia     China   Albania  \\\n",
       "0  Correlation coefficient:  7.649793e-01 -5.879579e-01  0.089888 -0.075668   \n",
       "1                  P-value:  6.430361e-44  4.933171e-22  0.182060  0.261574   \n",
       "\n",
       "   Bangladesh  Botswana  Cambodia   Croatia        Greece  ...  Kazakhstan  \\\n",
       "0   -0.160419  0.189628       NaN  0.024396  3.650353e-01  ...   -0.120604   \n",
       "1    0.016748  0.004579       NaN  0.717731  2.109927e-08  ...    0.072913   \n",
       "\n",
       "    South Korea  Kyrgyzstan   Netherlands    Poland   Romania  Tajikistan  \\\n",
       "0  4.765756e-01    0.069496  4.767521e-01 -0.258035 -0.241334    0.291979   \n",
       "1  5.466895e-14    0.302601  5.335652e-14  0.000101  0.000284    0.000010   \n",
       "\n",
       "   Thailand  Azerbaijan  Mongolia  \n",
       "0  0.214635   -0.163240       NaN  \n",
       "1  0.001293    0.014898       NaN  \n",
       "\n",
       "[2 rows x 39 columns]"
      ]
     },
     "execution_count": 40,
     "metadata": {},
     "output_type": "execute_result"
    }
   ],
   "source": [
    "pearson_deaths = pd.DataFrame({\"Pearson correlation\":[\"Correlation coefficient:\",\"P-value:\"]})\n",
    "\n",
    "for country in country_dict.items():\n",
    "    corr, p_value = stats.pearsonr(df_pageviews_pearson[country[1]], deaths[country[0]])\n",
    "    output_df = pd.DataFrame({str(country[0]):[corr, p_value] })\n",
    "    pearson_deaths = pd.concat([pearson_deaths, output_df], axis=1)\n",
    "pearson_deaths"
   ]
  },
  {
   "cell_type": "code",
   "execution_count": 41,
   "metadata": {},
   "outputs": [
    {
     "data": {
      "text/html": [
       "<div>\n",
       "<style scoped>\n",
       "    .dataframe tbody tr th:only-of-type {\n",
       "        vertical-align: middle;\n",
       "    }\n",
       "\n",
       "    .dataframe tbody tr th {\n",
       "        vertical-align: top;\n",
       "    }\n",
       "\n",
       "    .dataframe thead th {\n",
       "        text-align: right;\n",
       "    }\n",
       "</style>\n",
       "<table border=\"1\" class=\"dataframe\">\n",
       "  <thead>\n",
       "    <tr style=\"text-align: right;\">\n",
       "      <th></th>\n",
       "      <th>Pearson correlation</th>\n",
       "      <th>Italy</th>\n",
       "      <th>Russia</th>\n",
       "      <th>China</th>\n",
       "      <th>Albania</th>\n",
       "      <th>Bangladesh</th>\n",
       "      <th>Botswana</th>\n",
       "      <th>Cambodia</th>\n",
       "      <th>Croatia</th>\n",
       "      <th>Greece</th>\n",
       "      <th>...</th>\n",
       "      <th>Kazakhstan</th>\n",
       "      <th>South Korea</th>\n",
       "      <th>Kyrgyzstan</th>\n",
       "      <th>Netherlands</th>\n",
       "      <th>Poland</th>\n",
       "      <th>Romania</th>\n",
       "      <th>Tajikistan</th>\n",
       "      <th>Thailand</th>\n",
       "      <th>Azerbaijan</th>\n",
       "      <th>Mongolia</th>\n",
       "    </tr>\n",
       "  </thead>\n",
       "  <tbody>\n",
       "    <tr>\n",
       "      <th>0</th>\n",
       "      <td>Correlation coefficient:</td>\n",
       "      <td>8.405926e-01</td>\n",
       "      <td>-5.115834e-01</td>\n",
       "      <td>0.004844</td>\n",
       "      <td>-0.084170</td>\n",
       "      <td>-0.147660</td>\n",
       "      <td>3.314176e-01</td>\n",
       "      <td>0.249994</td>\n",
       "      <td>-0.024175</td>\n",
       "      <td>0.090575</td>\n",
       "      <td>...</td>\n",
       "      <td>-0.202300</td>\n",
       "      <td>-0.078737</td>\n",
       "      <td>0.083035</td>\n",
       "      <td>4.956838e-01</td>\n",
       "      <td>-4.192132e-01</td>\n",
       "      <td>-0.254933</td>\n",
       "      <td>4.181667e-01</td>\n",
       "      <td>5.312515e-01</td>\n",
       "      <td>-0.135019</td>\n",
       "      <td>0.006728</td>\n",
       "    </tr>\n",
       "    <tr>\n",
       "      <th>1</th>\n",
       "      <td>P-value:</td>\n",
       "      <td>1.683168e-60</td>\n",
       "      <td>3.314676e-16</td>\n",
       "      <td>0.942788</td>\n",
       "      <td>0.211578</td>\n",
       "      <td>0.027825</td>\n",
       "      <td>4.333591e-07</td>\n",
       "      <td>0.000167</td>\n",
       "      <td>0.720177</td>\n",
       "      <td>0.178728</td>\n",
       "      <td>...</td>\n",
       "      <td>0.002457</td>\n",
       "      <td>0.242669</td>\n",
       "      <td>0.217823</td>\n",
       "      <td>3.621734e-15</td>\n",
       "      <td>7.347582e-11</td>\n",
       "      <td>0.000123</td>\n",
       "      <td>8.278287e-11</td>\n",
       "      <td>1.440780e-17</td>\n",
       "      <td>0.044475</td>\n",
       "      <td>0.920593</td>\n",
       "    </tr>\n",
       "  </tbody>\n",
       "</table>\n",
       "<p>2 rows × 39 columns</p>\n",
       "</div>"
      ],
      "text/plain": [
       "        Pearson correlation         Italy        Russia     China   Albania  \\\n",
       "0  Correlation coefficient:  8.405926e-01 -5.115834e-01  0.004844 -0.084170   \n",
       "1                  P-value:  1.683168e-60  3.314676e-16  0.942788  0.211578   \n",
       "\n",
       "   Bangladesh      Botswana  Cambodia   Croatia    Greece  ...  Kazakhstan  \\\n",
       "0   -0.147660  3.314176e-01  0.249994 -0.024175  0.090575  ...   -0.202300   \n",
       "1    0.027825  4.333591e-07  0.000167  0.720177  0.178728  ...    0.002457   \n",
       "\n",
       "   South Korea  Kyrgyzstan   Netherlands        Poland   Romania  \\\n",
       "0    -0.078737    0.083035  4.956838e-01 -4.192132e-01 -0.254933   \n",
       "1     0.242669    0.217823  3.621734e-15  7.347582e-11  0.000123   \n",
       "\n",
       "     Tajikistan      Thailand  Azerbaijan  Mongolia  \n",
       "0  4.181667e-01  5.312515e-01   -0.135019  0.006728  \n",
       "1  8.278287e-11  1.440780e-17    0.044475  0.920593  \n",
       "\n",
       "[2 rows x 39 columns]"
      ]
     },
     "execution_count": 41,
     "metadata": {},
     "output_type": "execute_result"
    }
   ],
   "source": [
    "pearson_cases = pd.DataFrame({\"Pearson correlation\":[\"Correlation coefficient:\",\"P-value:\"]})\n",
    "\n",
    "for country in country_dict.items():\n",
    "    corr, p_value = stats.pearsonr(df_pageviews_pearson[country[1]], cases[country[0]])\n",
    "    output_df = pd.DataFrame({str(country[0]):[corr, p_value] })\n",
    "    pearson_cases = pd.concat([pearson_cases, output_df], axis=1)\n",
    "pearson_cases"
   ]
  },
  {
   "cell_type": "code",
   "execution_count": 42,
   "metadata": {},
   "outputs": [],
   "source": [
    "pearson_cases_Kmeans = pearson_cases.rename(columns= country_dict).loc[0]\n",
    "pearson_deaths_Kmeans = pearson_deaths.rename(columns= country_dict).loc[0]"
   ]
  },
  {
   "cell_type": "code",
   "execution_count": 43,
   "metadata": {},
   "outputs": [
    {
     "data": {
      "image/png": "[encoded data removed]",
      "text/plain": [
       "<Figure size 640x480 with 1 Axes>"
      ]
     },
     "metadata": {},
     "output_type": "display_data"
    }
   ],
   "source": [
    "# create a new figure\n",
    "plt.figure()\n",
    "\n",
    "# use the scatter() function to plot the points,\n",
    "# with red circles of size 10\n",
    "plt.scatter(pearson_deaths.loc[1][1:], pearson_deaths.loc[0][1:], color=\"red\", s=10)\n",
    "\n",
    "# add a title\n",
    "plt.title(\"Scatter Plot pearson death and pageviews\")\n",
    "\n",
    "# add x and y axis labels\n",
    "plt.xlabel(\"Corr coeff\")\n",
    "plt.ylabel(\"P-value\")\n",
    "\n",
    "# show the plot\n",
    "plt.show()"
   ]
  },
  {
   "cell_type": "code",
   "execution_count": 44,
   "metadata": {},
   "outputs": [
    {
     "data": {
      "image/png": "[encoded data removed]",
      "text/plain": [
       "<Figure size 4000x1000 with 1 Axes>"
      ]
     },
     "metadata": {},
     "output_type": "display_data"
    }
   ],
   "source": [
    "pearson_deathsT = pearson_deaths.transpose()\n",
    "pearson_deathsT = pearson_deathsT.drop(index= 'Pearson correlation', axis=0)\n",
    "pearson_deathsT = pearson_deathsT.rename(columns= {0: 'Correlation coefficient', 1: 'P-value'})\n",
    "# create a new figure\n",
    "plt.figure(figsize=(40, 10))\n",
    "\n",
    "# use the scatter() function to plot the points,\n",
    "# with red circles of size 10\n",
    "plt.bar(pearson_deathsT.index.values, pearson_deathsT['Correlation coefficient'].values, color=\"red\")\n",
    "\n",
    "# add a title\n",
    "plt.title(\"Scatter Plot pearson death and pageviews\")\n",
    "\n",
    "# add x and y axis labels\n",
    "plt.xlabel(\"Countries\")\n",
    "plt.ylabel(\"Corr coeff (deaths/pageviews)\")\n",
    "\n",
    "# show the plot\n",
    "plt.show()"
   ]
  },
  {
   "cell_type": "markdown",
   "metadata": {},
   "source": [
    "### Loading population by countries"
   ]
  },
  {
   "cell_type": "code",
   "execution_count": 45,
   "metadata": {},
   "outputs": [
    {
     "data": {
      "text/html": [
       "<div>\n",
       "<style scoped>\n",
       "    .dataframe tbody tr th:only-of-type {\n",
       "        vertical-align: middle;\n",
       "    }\n",
       "\n",
       "    .dataframe tbody tr th {\n",
       "        vertical-align: top;\n",
       "    }\n",
       "\n",
       "    .dataframe thead th {\n",
       "        text-align: right;\n",
       "    }\n",
       "</style>\n",
       "<table border=\"1\" class=\"dataframe\">\n",
       "  <thead>\n",
       "    <tr style=\"text-align: right;\">\n",
       "      <th></th>\n",
       "      <th>2020</th>\n",
       "    </tr>\n",
       "    <tr>\n",
       "      <th>Country Name</th>\n",
       "      <th></th>\n",
       "    </tr>\n",
       "  </thead>\n",
       "  <tbody>\n",
       "    <tr>\n",
       "      <th>it</th>\n",
       "      <td>5.944953e+07</td>\n",
       "    </tr>\n",
       "    <tr>\n",
       "      <th>ru</th>\n",
       "      <td>1.440731e+08</td>\n",
       "    </tr>\n",
       "    <tr>\n",
       "      <th>zh</th>\n",
       "      <td>1.411100e+09</td>\n",
       "    </tr>\n",
       "    <tr>\n",
       "      <th>sq</th>\n",
       "      <td>2.837849e+06</td>\n",
       "    </tr>\n",
       "    <tr>\n",
       "      <th>bn</th>\n",
       "      <td>1.646894e+08</td>\n",
       "    </tr>\n",
       "  </tbody>\n",
       "</table>\n",
       "</div>"
      ],
      "text/plain": [
       "                      2020\n",
       "Country Name              \n",
       "it            5.944953e+07\n",
       "ru            1.440731e+08\n",
       "zh            1.411100e+09\n",
       "sq            2.837849e+06\n",
       "bn            1.646894e+08"
      ]
     },
     "execution_count": 45,
     "metadata": {},
     "output_type": "execute_result"
    }
   ],
   "source": [
    "COUNTRY_OWN_LANG_POP = {\"Italy\" : \"it\", \"Russian Federation\": \"ru\", \"China\": \"zh\", \"Albania\": \"sq\", \n",
    " \"Bangladesh\": \"bn\", \"Botswana\": \"tn\", \"Cambodia\": \"km\", \"Croatia\": \"hr\", \"Greece\": \"el\", \"Sweden\": \"sv\", \"Finland\": \"fi\", \"Norway\": \"no\",\n",
    " \"Malaysia\": \"ms\", \"Israel\": \"he\", \"Lithuania\": \"lt\", \"Serbia\": \"sr\", \"Slovak Republic\": \"sk\", \"Slovenia\": \"sl\", \"Turkiye\": \"tr\",\n",
    " \"Vietnam\": \"vi\", \"Bulgaria\": \"bg\", \"Czechia\": \"cs\", \"Denmark\": \"da\", \"Georgia\": \"ka\", \"Germany\": \"de\", \n",
    " \"Hungary\": \"hu\", \"Iceland\": \"is\", \"Japan\": \"ja\", \"Kazakhstan\": \"kk\", \"Korea, Rep.\": \"ko\", \"Kyrgyz Republic\": 'ky', \"Netherlands\": \"nl\", \"Poland\": \"pl\", \n",
    " \"Romania\": \"ro\", \"Tajikistan\": \"tg\", \"Thailand\": \"th\", \"Azerbaijan\": \"az\", \"Mongolia\": \"mn\"}\n",
    "\n",
    "#changed_name_countries = {\"Russian Federation\": \"Russia\", \"Slovak Republic\": \"Slovakia\", \"Turkiye\": \"Turkey\",\n",
    "# \"Korea, Rep.\": \"South Korea\", \"Kyrgyz Republic\": 'Kyrgyzstan'}\n",
    "\n",
    "population_df = pd.read_csv(\"Population_countries.csv\")\n",
    "population_df = population_df[[\"Country Name\", \"2020\"]]\n",
    "population_df = population_df.set_index(\"Country Name\")\n",
    "population_df = population_df.transpose()\n",
    "population_df = population_df[list(COUNTRY_OWN_LANG_POP.keys())]\n",
    "population_df = population_df.rename(columns= COUNTRY_OWN_LANG_POP)\n",
    "population_df = population_df.transpose()\n",
    "population_df.head()"
   ]
  },
  {
   "cell_type": "markdown",
   "metadata": {},
   "source": [
    "## Check different metrics for pageviews, death and cases"
   ]
  },
  {
   "cell_type": "markdown",
   "metadata": {},
   "source": [
    "### 1. Pageviews"
   ]
  },
  {
   "cell_type": "code",
   "execution_count": 46,
   "metadata": {},
   "outputs": [],
   "source": [
    "\n",
    "pageviews_amean = (df_pageviews_pearson.mean()/population_df['2020']) * 100000\n",
    "pageviews_max = (df_pageviews_pearson.max()/population_df['2020']) * 100000\n",
    "pageviews_min = (df_pageviews_pearson.min()/population_df['2020']) * 100000\n"
   ]
  },
  {
   "cell_type": "code",
   "execution_count": 47,
   "metadata": {},
   "outputs": [
    {
     "data": {
      "image/png": "[encoded data removed]",
      "text/plain": [
       "<Figure size 1200x800 with 1 Axes>"
      ]
     },
     "metadata": {},
     "output_type": "display_data"
    }
   ],
   "source": [
    "\n",
    "# create a new figure\n",
    "plt.figure(figsize=(12, 8))\n",
    "# use the scatter() function to plot the points,\n",
    "# with red circles of size 10\n",
    "plt.scatter(pageviews_max.index, pageviews_max.values, color=\"red\", s= 15)\n",
    "plt.scatter(pageviews_min.index, pageviews_min.values, color=\"blue\", s= 15)\n",
    "plt.scatter(pageviews_amean.index, pageviews_amean.values, color=\"green\", s= 15)\n",
    "# add a title\n",
    "plt.title(\"Scatter Plot pageviews metrics per countries\")\n",
    "\n",
    "# add x and y axis labels\n",
    "plt.xlabel(\"Languages\")\n",
    "plt.ylabel(\"Pageviews\")\n",
    "plt.legend([\"Max\", \"Min\", \"Arithmetic Mean\"])\n",
    "\n",
    "# show the plot\n",
    "plt.show()"
   ]
  },
  {
   "cell_type": "markdown",
   "metadata": {},
   "source": [
    "### 1. Covid-19 dataset\n",
    "We have to select the variable between covid cases and covid deaths that create the most variability between the countries. Moreover, we also have to choose a represenative metric such as mean, min or max. \n",
    "\n",
    "Let's first plot the covid deaths for all the countries per 100 000 people, looking at the mean,min,max. "
   ]
  },
  {
   "cell_type": "code",
   "execution_count": 48,
   "metadata": {},
   "outputs": [],
   "source": [
    "deaths_lang_code = deaths.rename(columns= country_dict)[country_dict.values()]\n",
    "deaths_amean = (deaths_lang_code.mean()/population_df['2020']) * 100000\n",
    "deaths_max = (deaths_lang_code.max()/population_df['2020']) * 100000\n",
    "deaths_min = (deaths_lang_code.min()/population_df['2020']) * 100000\n"
   ]
  },
  {
   "cell_type": "code",
   "execution_count": 49,
   "metadata": {},
   "outputs": [
    {
     "data": {
      "image/png": "[encoded data removed]",
      "text/plain": [
       "<Figure size 1200x800 with 1 Axes>"
      ]
     },
     "metadata": {},
     "output_type": "display_data"
    }
   ],
   "source": [
    "# create a new figure\n",
    "plt.figure(figsize=(12, 8))\n",
    "# use the scatter() function to plot the points,\n",
    "# with red circles of size 10\n",
    "plt.scatter(deaths_max.index, deaths_max.values, color=\"red\", s= 15)\n",
    "plt.scatter(deaths_min.index, deaths_min.values, color=\"blue\", s= 15)\n",
    "plt.scatter(deaths_amean.index, deaths_amean.values, color=\"green\", s= 15)\n",
    "# add a title\n",
    "plt.title(\"Scatter Plot pageviews metrics per countries\")\n",
    "\n",
    "# add x and y axis labels\n",
    "plt.xlabel(\"Languages\")\n",
    "plt.ylabel(\"Deaths for 100000 pop\")\n",
    "plt.legend([\"Max\", \"Min\", \"Arithmetic Mean\"])\n",
    "\n",
    "# show the plot\n",
    "plt.show()\n"
   ]
  },
  {
   "cell_type": "markdown",
   "metadata": {},
   "source": [
    "Now, let's look at covid cases for 100 000 people per country"
   ]
  },
  {
   "cell_type": "code",
   "execution_count": 50,
   "metadata": {},
   "outputs": [],
   "source": [
    "cases_lang_code = cases.rename(columns= country_dict)[country_dict.values()]\n",
    "cases_amean = (cases_lang_code.mean()/population_df['2020']) * 100000\n",
    "cases_max = (cases_lang_code.max()/population_df['2020']) * 100000\n",
    "cases_min = (cases_lang_code.min()/population_df['2020']) * 100000"
   ]
  },
  {
   "cell_type": "markdown",
   "metadata": {},
   "source": [
    "Looking at both plots, we see that the max value gives much more variance between the countries than mean or min, therefore this metric is chosen for the clustering. Moreover, we also see that covid cases also shows more variance than covid deaths between the countries, therefore the max of covid cases is chosen for the clustering of countries. "
   ]
  },
  {
   "cell_type": "code",
   "execution_count": 51,
   "metadata": {},
   "outputs": [],
   "source": [
    "data_folder = 'data_2/'\n",
    "df_trust_gov = pd.read_csv(data_folder+'share-who-trust-government.csv.zip') \n",
    "df_trust_science = pd.read_csv(data_folder+'share-people-trust-science.csv.zip')\n",
    "df_trust_journalists = pd.read_csv(data_folder+'share-people-trust-journalists-country.csv.zip')\n"
   ]
  },
  {
   "cell_type": "code",
   "execution_count": 52,
   "metadata": {},
   "outputs": [
    {
     "data": {
      "text/html": [
       "<div>\n",
       "<style scoped>\n",
       "    .dataframe tbody tr th:only-of-type {\n",
       "        vertical-align: middle;\n",
       "    }\n",
       "\n",
       "    .dataframe tbody tr th {\n",
       "        vertical-align: top;\n",
       "    }\n",
       "\n",
       "    .dataframe thead th {\n",
       "        text-align: right;\n",
       "    }\n",
       "</style>\n",
       "<table border=\"1\" class=\"dataframe\">\n",
       "  <thead>\n",
       "    <tr style=\"text-align: right;\">\n",
       "      <th>Entity</th>\n",
       "      <th>it</th>\n",
       "      <th>ru</th>\n",
       "      <th>sq</th>\n",
       "      <th>bn</th>\n",
       "      <th>km</th>\n",
       "      <th>hr</th>\n",
       "      <th>el</th>\n",
       "      <th>sv</th>\n",
       "      <th>fi</th>\n",
       "      <th>no</th>\n",
       "      <th>...</th>\n",
       "      <th>hu</th>\n",
       "      <th>ja</th>\n",
       "      <th>kk</th>\n",
       "      <th>ko</th>\n",
       "      <th>ky</th>\n",
       "      <th>nl</th>\n",
       "      <th>pl</th>\n",
       "      <th>ro</th>\n",
       "      <th>th</th>\n",
       "      <th>mn</th>\n",
       "    </tr>\n",
       "  </thead>\n",
       "  <tbody>\n",
       "    <tr>\n",
       "      <th>Trust the national government in this country</th>\n",
       "      <td>52.3</td>\n",
       "      <td>47.0</td>\n",
       "      <td>41.4</td>\n",
       "      <td>83.0</td>\n",
       "      <td>83.8</td>\n",
       "      <td>42.0</td>\n",
       "      <td>40.7</td>\n",
       "      <td>64.7</td>\n",
       "      <td>80.7</td>\n",
       "      <td>94.3</td>\n",
       "      <td>...</td>\n",
       "      <td>48.6</td>\n",
       "      <td>49.5</td>\n",
       "      <td>72.2</td>\n",
       "      <td>52.8</td>\n",
       "      <td>57.6</td>\n",
       "      <td>78.5</td>\n",
       "      <td>33.6</td>\n",
       "      <td>24.3</td>\n",
       "      <td>55.6</td>\n",
       "      <td>54.8</td>\n",
       "    </tr>\n",
       "  </tbody>\n",
       "</table>\n",
       "<p>1 rows × 32 columns</p>\n",
       "</div>"
      ],
      "text/plain": [
       "Entity                                           it    ru    sq    bn    km  \\\n",
       "Trust the national government in this country  52.3  47.0  41.4  83.0  83.8   \n",
       "\n",
       "Entity                                           hr    el    sv    fi    no  \\\n",
       "Trust the national government in this country  42.0  40.7  64.7  80.7  94.3   \n",
       "\n",
       "Entity                                         ...    hu    ja    kk    ko  \\\n",
       "Trust the national government in this country  ...  48.6  49.5  72.2  52.8   \n",
       "\n",
       "Entity                                           ky    nl    pl    ro    th  \\\n",
       "Trust the national government in this country  57.6  78.5  33.6  24.3  55.6   \n",
       "\n",
       "Entity                                           mn  \n",
       "Trust the national government in this country  54.8  \n",
       "\n",
       "[1 rows x 32 columns]"
      ]
     },
     "execution_count": 52,
     "metadata": {},
     "output_type": "execute_result"
    }
   ],
   "source": [
    "COUNTRY_OWN_LANG_TRUST_JOURN = {\"Italy\" : \"it\", \"Russia\": \"ru\", \"China\": \"zh\", \"Albania\": \"sq\", \n",
    "\"Bangladesh\": \"bn\", \"Cambodia\": \"km\", \"Croatia\": \"hr\", \"Greece\": \"el\", \"Sweden\": \"sv\", \"Finland\": \"fi\", \"Norway\": \"no\",\n",
    " \"Malaysia\": \"ms\", \"Israel\": \"he\", \"Lithuania\": \"lt\", \"Serbia\": \"sr\", \"Slovakia\": \"sk\", \"Slovenia\": \"sl\", \"Turkey\": \"tr\",\n",
    " \"Vietnam\": \"vi\", \"Bulgaria\": \"bg\", \"Czechia\": \"cs\", \"Denmark\": \"da\", \"Georgia\": \"ka\", \"Germany\": \"de\", \n",
    " \"Hungary\": \"hu\", \"Japan\": \"ja\", \"Kazakhstan\": \"kk\", \"South Korea\": \"ko\", \"Kyrgyzstan\": 'ky', \"Netherlands\": \"nl\", \"Poland\": \"pl\", \n",
    " \"Romania\": \"ro\", \"Tajikistan\": \"tg\", \"Thailand\": \"th\", \"Mongolia\": \"mn\"}\n",
    "\n",
    "COUNTRY_OWN_LANG_TRUST_GOV = {\"Italy\" : \"it\", \"Russia\": \"ru\", \"Albania\": \"sq\", \n",
    "\"Bangladesh\": \"bn\", \"Cambodia\": \"km\", \"Croatia\": \"hr\", \"Greece\": \"el\", \"Sweden\": \"sv\", \"Finland\": \"fi\", \"Norway\": \"no\",\n",
    " \"Malaysia\": \"ms\", \"Israel\": \"he\", \"Lithuania\": \"lt\", \"Serbia\": \"sr\", \"Slovakia\": \"sk\", \"Slovenia\": \"sl\", \"Turkey\": \"tr\", \"Bulgaria\": \"bg\", \"Czechia\": \"cs\", \"Denmark\": \"da\", \"Georgia\": \"ka\", \"Germany\": \"de\", \n",
    " \"Hungary\": \"hu\", \"Japan\": \"ja\", \"Kazakhstan\": \"kk\", \"South Korea\": \"ko\", \"Kyrgyzstan\": 'ky', \"Netherlands\": \"nl\", \"Poland\": \"pl\", \n",
    " \"Romania\": \"ro\", \"Thailand\": \"th\", \"Mongolia\": \"mn\"}\n",
    "\n",
    "\n",
    "df_trust_journalists = df_trust_journalists.set_index(\"Entity\")[[\"Trust journalists in this country\"]].transpose()[COUNTRY_OWN_LANG_TRUST_JOURN.keys()].rename(columns= COUNTRY_OWN_LANG_TRUST_JOURN)\n",
    "df_trust_gov = df_trust_gov.set_index(\"Entity\")[[\"Trust the national government in this country\"]].transpose()[COUNTRY_OWN_LANG_TRUST_GOV.keys()].rename(columns= COUNTRY_OWN_LANG_TRUST_GOV)\n",
    "df_trust_gov.head()"
   ]
  },
  {
   "cell_type": "code",
   "execution_count": 53,
   "metadata": {},
   "outputs": [],
   "source": [
    "\n",
    "#df_clustering_J_C_P = pd.concat([pageviews_amean.to_frame().rename(columns= {0: 'Max pageview'}).transpose(), cases_amean.to_frame().rename(columns= {0: 'Max cases'}).transpose()], axis= 0)\n",
    "#df_clustering_J_C_P = pd.concat([pageviews_max.to_frame().rename(columns= {0: 'Max pageview'}).transpose(), cases_max.to_frame().rename(columns= {0: 'Max cases'}).transpose()], axis= 0)\n",
    "\n",
    "#df_clustering_J_C_P = df_clustering_J_C_P.transpose().dropna()\n",
    "#df_clustering_J_C_P"
   ]
  },
  {
   "cell_type": "code",
   "execution_count": 54,
   "metadata": {},
   "outputs": [],
   "source": [
    "# import hdbscan\n",
    "# clusterer = hdbscan.HDBSCAN(algorithm='best', approx_min_span_tree=True, metric= 'chebyshev')\n",
    "# clusterer.fit(DF_ARRAY)\n",
    "\n",
    "# # px.scatter_3d(x=umap_data[:,0], y=umap_data[:,1], z=umap_data[:,2], color=clusterer.labels_.astype(str), title=\"UMAP => HDBSCAN\")\n",
    "# df_clustering_J_C_P['cluster'] = clusterer.labels_"
   ]
  },
  {
   "cell_type": "markdown",
   "metadata": {},
   "source": [
    "# Clustering\n",
    "### Max pageviews/ Max cases/ Trust Journ"
   ]
  },
  {
   "cell_type": "code",
   "execution_count": 55,
   "metadata": {},
   "outputs": [],
   "source": [
    "df_clustering_MP_MC_J = pd.concat([pageviews_max.to_frame().rename(columns= {0: 'Max pageview'}).transpose(), cases_max.to_frame().rename(columns= {0: 'Max cases'}).transpose(), df_trust_journalists], axis= 0)\n",
    "df_clustering_MP_MC_J = df_clustering_MP_MC_J.transpose().dropna()\n",
    "\n",
    "#quantile filter: discard 1% upper / lower values (robust option of removing outliers)\n",
    "lim = np.logical_and(df_clustering_MP_MC_J < df_clustering_MP_MC_J.quantile(0.99, numeric_only=False),\n",
    "                     df_clustering_MP_MC_J > df_clustering_MP_MC_J.quantile(0.01, numeric_only=False))\n",
    "\n",
    "# replace outliers with nan\n",
    "df_clustering_MP_MC_J= df_clustering_MP_MC_J.where(lim, np.nan).dropna()\n",
    "\n",
    "# df_clustering_MP_MC_J = df_clustering_MP_MC_J.loc[df_clustering_MP_MC_J['Max cases'] <= 100]\n",
    "# Create dataframe for clustering with covid max cases, pageviews max, and trust in journalists\n",
    "\n",
    "# Preprocessing the data\n",
    "df_array = np.array(df_clustering_MP_MC_J.iloc[:,:])          # Getting only the numeric features from the dataset\n",
    "df_norm  = preprocessing.normalize(df_array) # Normalizing the data\n",
    "\n",
    "# Creating our Model\n",
    "kmeans = KMeans(n_clusters = 6)\n",
    "\n",
    "# Training our model\n",
    "kmeans.fit(df_norm)\n",
    "\n",
    "# You can see the labels (clusters) assigned for each data point with the function labels_\n",
    "kmeans.labels_\n",
    "\n",
    "# Assigning the labels to the initial dataset\n",
    "df_clustering_MP_MC_J['cluster'] = kmeans.labels_"
   ]
  },
  {
   "cell_type": "code",
   "execution_count": 56,
   "metadata": {},
   "outputs": [
    {
     "data": {
      "image/png": "[encoded data removed]",
      "text/plain": [
       "<Figure size 640x480 with 1 Axes>"
      ]
     },
     "metadata": {},
     "output_type": "display_data"
    }
   ],
   "source": [
    "# Amount of values to be tested for K\n",
    "Ks = range(2, 10)\n",
    "\n",
    "# List to hold on the metrics for each value of K\n",
    "results = []\n",
    "\n",
    "# Executing the loop\n",
    "for K in Ks:\n",
    "    \n",
    "    model = KMeans(n_clusters = K)\n",
    "    model.fit(df_norm)\n",
    "    \n",
    "    results.append(metrics.silhouette_score(df_array ,model.labels_))\n",
    "    \n",
    "# Plotting the final result\n",
    "plt.plot(Ks, results, 'o-')\n",
    "plt.xlabel(\"Values of K\")\n",
    "plt.ylabel(\"silhouette score\")\n",
    "plt.show()"
   ]
  },
  {
   "cell_type": "code",
   "execution_count": 57,
   "metadata": {},
   "outputs": [
    {
     "data": {
      "application/vnd.plotly.v1+json": {
       "config": {
        "plotlyServerURL": "https://plot.ly"
       },
       "data": [
        {
         "marker": {
          "line": {
           "width": 1
          },
          "size": 8
         },
         "mode": "markers",
         "name": "Cluster 0",
         "type": "scatter3d",
         "x": [
          47.4,
          32.1,
          80.4,
          64.7,
          48.8,
          78.6,
          42.3,
          27.4,
          75.7,
          66.7,
          53
         ],
         "y": [
          440.15152551171684,
          388.0001531722023,
          684.8848087445925,
          484.48741739102127,
          221.51179744425977,
          793.4837527134607,
          261.65753979759694,
          124.10622614808146,
          386.87039532150334,
          457.15633655390485,
          380.9524798624122
         ],
         "z": [
          11.02952425508785,
          8.090335284497412,
          3.77969752654062,
          23.05997764538638,
          3.3275072140714195,
          7.568463298081618,
          2.9948260277868575,
          1.6417086123860183,
          7.671358541409855,
          2.382644217918804,
          7.809936066534008
         ]
        },
        {
         "marker": {
          "line": {
           "width": 1
          },
          "size": 8
         },
         "mode": "markers",
         "name": "Cluster 4",
         "type": "scatter3d",
         "x": [
          61.2,
          53.8,
          65.8
         ],
         "y": [
          26.195804691375525,
          22.904671813052772,
          28.25893782926229
         ],
         "z": [
          1.0724257671320248,
          6.272356281112914,
          1.128208544514274
         ]
        },
        {
         "marker": {
          "line": {
           "width": 1
          },
          "size": 8
         },
         "mode": "markers",
         "name": "Cluster 1",
         "type": "scatter3d",
         "x": [
          60.4,
          54.3,
          69.4,
          60
         ],
         "y": [
          7.975013179811355,
          1.5622310000731838,
          14.449861287921896,
          1.7082065905050559
         ],
         "z": [
          2.44035160420754,
          4.267302127716683,
          0.2693410591046318,
          1.1286364972979832
         ]
        },
        {
         "marker": {
          "line": {
           "width": 1
          },
          "size": 8
         },
         "mode": "markers",
         "name": "Cluster 2",
         "type": "scatter3d",
         "x": [
          54,
          61.2,
          64.4,
          47.5,
          52.3,
          46.1
         ],
         "y": [
          169.89979445015416,
          164.08286981800302,
          115.81896853101118,
          142.23183189825895,
          121.32941737218624,
          140.5651784794988
         ],
         "z": [
          8.844572693493557,
          2.2532313260706007,
          3.3294980686532987,
          6.092075929651913,
          5.047580658536216,
          1.271176372751681
         ]
        },
        {
         "marker": {
          "line": {
           "width": 1
          },
          "size": 8
         },
         "mode": "markers",
         "name": "Cluster 5",
         "type": "scatter3d",
         "x": [
          70.6,
          46.7,
          30.1,
          68.4
         ],
         "y": [
          89.60305181600476,
          46.48087786447988,
          44.62884139237347,
          105.75497770348272
         ],
         "z": [
          16.400342997043882,
          0.8558364243858632,
          12.726249672784638,
          6.68792626955704
         ]
        },
        {
         "marker": {
          "line": {
           "width": 1
          },
          "size": 8
         },
         "mode": "markers",
         "name": "Cluster 3",
         "type": "scatter3d",
         "x": [
          60.2
         ],
         "y": [
          21.97202701306368
         ],
         "z": [
          100.00711251735876
         ]
        }
       ],
       "layout": {
        "autosize": true,
        "font": {
         "color": "black",
         "family": "Gilroy",
         "size": 12
        },
        "height": 800,
        "scene": {
         "xaxis": {
          "title": {
           "font": {
            "color": "black"
           },
           "text": "Trust journalists in this country"
          }
         },
         "yaxis": {
          "title": {
           "font": {
            "color": "black"
           },
           "text": "Max pageview"
          }
         },
         "zaxis": {
          "title": {
           "font": {
            "color": "black"
           },
           "text": "Max cases"
          }
         }
        },
        "showlegend": true,
        "template": {
         "data": {
          "bar": [
           {
            "error_x": {
             "color": "#2a3f5f"
            },
            "error_y": {
             "color": "#2a3f5f"
            },
            "marker": {
             "line": {
              "color": "#E5ECF6",
              "width": 0.5
             },
             "pattern": {
              "fillmode": "overlay",
              "size": 10,
              "solidity": 0.2
             }
            },
            "type": "bar"
           }
          ],
          "barpolar": [
           {
            "marker": {
             "line": {
              "color": "#E5ECF6",
              "width": 0.5
             },
             "pattern": {
              "fillmode": "overlay",
              "size": 10,
              "solidity": 0.2
             }
            },
            "type": "barpolar"
           }
          ],
          "carpet": [
           {
            "aaxis": {
             "endlinecolor": "#2a3f5f",
             "gridcolor": "white",
             "linecolor": "white",
             "minorgridcolor": "white",
             "startlinecolor": "#2a3f5f"
            },
            "baxis": {
             "endlinecolor": "#2a3f5f",
             "gridcolor": "white",
             "linecolor": "white",
             "minorgridcolor": "white",
             "startlinecolor": "#2a3f5f"
            },
            "type": "carpet"
           }
          ],
          "choropleth": [
           {
            "colorbar": {
             "outlinewidth": 0,
             "ticks": ""
            },
            "type": "choropleth"
           }
          ],
          "contour": [
           {
            "colorbar": {
             "outlinewidth": 0,
             "ticks": ""
            },
            "colorscale": [
             [
              0,
              "#0d0887"
             ],
             [
              0.1111111111111111,
              "#46039f"
             ],
             [
              0.2222222222222222,
              "#7201a8"
             ],
             [
              0.3333333333333333,
              "#9c179e"
             ],
             [
              0.4444444444444444,
              "#bd3786"
             ],
             [
              0.5555555555555556,
              "#d8576b"
             ],
             [
              0.6666666666666666,
              "#ed7953"
             ],
             [
              0.7777777777777778,
              "#fb9f3a"
             ],
             [
              0.8888888888888888,
              "#fdca26"
             ],
             [
              1,
              "#f0f921"
             ]
            ],
            "type": "contour"
           }
          ],
          "contourcarpet": [
           {
            "colorbar": {
             "outlinewidth": 0,
             "ticks": ""
            },
            "type": "contourcarpet"
           }
          ],
          "heatmap": [
           {
            "colorbar": {
             "outlinewidth": 0,
             "ticks": ""
            },
            "colorscale": [
             [
              0,
              "#0d0887"
             ],
             [
              0.1111111111111111,
              "#46039f"
             ],
             [
              0.2222222222222222,
              "#7201a8"
             ],
             [
              0.3333333333333333,
              "#9c179e"
             ],
             [
              0.4444444444444444,
              "#bd3786"
             ],
             [
              0.5555555555555556,
              "#d8576b"
             ],
             [
              0.6666666666666666,
              "#ed7953"
             ],
             [
              0.7777777777777778,
              "#fb9f3a"
             ],
             [
              0.8888888888888888,
              "#fdca26"
             ],
             [
              1,
              "#f0f921"
             ]
            ],
            "type": "heatmap"
           }
          ],
          "heatmapgl": [
           {
            "colorbar": {
             "outlinewidth": 0,
             "ticks": ""
            },
            "colorscale": [
             [
              0,
              "#0d0887"
             ],
             [
              0.1111111111111111,
              "#46039f"
             ],
             [
              0.2222222222222222,
              "#7201a8"
             ],
             [
              0.3333333333333333,
              "#9c179e"
             ],
             [
              0.4444444444444444,
              "#bd3786"
             ],
             [
              0.5555555555555556,
              "#d8576b"
             ],
             [
              0.6666666666666666,
              "#ed7953"
             ],
             [
              0.7777777777777778,
              "#fb9f3a"
             ],
             [
              0.8888888888888888,
              "#fdca26"
             ],
             [
              1,
              "#f0f921"
             ]
            ],
            "type": "heatmapgl"
           }
          ],
          "histogram": [
           {
            "marker": {
             "pattern": {
              "fillmode": "overlay",
              "size": 10,
              "solidity": 0.2
             }
            },
            "type": "histogram"
           }
          ],
          "histogram2d": [
           {
            "colorbar": {
             "outlinewidth": 0,
             "ticks": ""
            },
            "colorscale": [
             [
              0,
              "#0d0887"
             ],
             [
              0.1111111111111111,
              "#46039f"
             ],
             [
              0.2222222222222222,
              "#7201a8"
             ],
             [
              0.3333333333333333,
              "#9c179e"
             ],
             [
              0.4444444444444444,
              "#bd3786"
             ],
             [
              0.5555555555555556,
              "#d8576b"
             ],
             [
              0.6666666666666666,
              "#ed7953"
             ],
             [
              0.7777777777777778,
              "#fb9f3a"
             ],
             [
              0.8888888888888888,
              "#fdca26"
             ],
             [
              1,
              "#f0f921"
             ]
            ],
            "type": "histogram2d"
           }
          ],
          "histogram2dcontour": [
           {
            "colorbar": {
             "outlinewidth": 0,
             "ticks": ""
            },
            "colorscale": [
             [
              0,
              "#0d0887"
             ],
             [
              0.1111111111111111,
              "#46039f"
             ],
             [
              0.2222222222222222,
              "#7201a8"
             ],
             [
              0.3333333333333333,
              "#9c179e"
             ],
             [
              0.4444444444444444,
              "#bd3786"
             ],
             [
              0.5555555555555556,
              "#d8576b"
             ],
             [
              0.6666666666666666,
              "#ed7953"
             ],
             [
              0.7777777777777778,
              "#fb9f3a"
             ],
             [
              0.8888888888888888,
              "#fdca26"
             ],
             [
              1,
              "#f0f921"
             ]
            ],
            "type": "histogram2dcontour"
           }
          ],
          "mesh3d": [
           {
            "colorbar": {
             "outlinewidth": 0,
             "ticks": ""
            },
            "type": "mesh3d"
           }
          ],
          "parcoords": [
           {
            "line": {
             "colorbar": {
              "outlinewidth": 0,
              "ticks": ""
             }
            },
            "type": "parcoords"
           }
          ],
          "pie": [
           {
            "automargin": true,
            "type": "pie"
           }
          ],
          "scatter": [
           {
            "fillpattern": {
             "fillmode": "overlay",
             "size": 10,
             "solidity": 0.2
            },
            "type": "scatter"
           }
          ],
          "scatter3d": [
           {
            "line": {
             "colorbar": {
              "outlinewidth": 0,
              "ticks": ""
             }
            },
            "marker": {
             "colorbar": {
              "outlinewidth": 0,
              "ticks": ""
             }
            },
            "type": "scatter3d"
           }
          ],
          "scattercarpet": [
           {
            "marker": {
             "colorbar": {
              "outlinewidth": 0,
              "ticks": ""
             }
            },
            "type": "scattercarpet"
           }
          ],
          "scattergeo": [
           {
            "marker": {
             "colorbar": {
              "outlinewidth": 0,
              "ticks": ""
             }
            },
            "type": "scattergeo"
           }
          ],
          "scattergl": [
           {
            "marker": {
             "colorbar": {
              "outlinewidth": 0,
              "ticks": ""
             }
            },
            "type": "scattergl"
           }
          ],
          "scattermapbox": [
           {
            "marker": {
             "colorbar": {
              "outlinewidth": 0,
              "ticks": ""
             }
            },
            "type": "scattermapbox"
           }
          ],
          "scatterpolar": [
           {
            "marker": {
             "colorbar": {
              "outlinewidth": 0,
              "ticks": ""
             }
            },
            "type": "scatterpolar"
           }
          ],
          "scatterpolargl": [
           {
            "marker": {
             "colorbar": {
              "outlinewidth": 0,
              "ticks": ""
             }
            },
            "type": "scatterpolargl"
           }
          ],
          "scatterternary": [
           {
            "marker": {
             "colorbar": {
              "outlinewidth": 0,
              "ticks": ""
             }
            },
            "type": "scatterternary"
           }
          ],
          "surface": [
           {
            "colorbar": {
             "outlinewidth": 0,
             "ticks": ""
            },
            "colorscale": [
             [
              0,
              "#0d0887"
             ],
             [
              0.1111111111111111,
              "#46039f"
             ],
             [
              0.2222222222222222,
              "#7201a8"
             ],
             [
              0.3333333333333333,
              "#9c179e"
             ],
             [
              0.4444444444444444,
              "#bd3786"
             ],
             [
              0.5555555555555556,
              "#d8576b"
             ],
             [
              0.6666666666666666,
              "#ed7953"
             ],
             [
              0.7777777777777778,
              "#fb9f3a"
             ],
             [
              0.8888888888888888,
              "#fdca26"
             ],
             [
              1,
              "#f0f921"
             ]
            ],
            "type": "surface"
           }
          ],
          "table": [
           {
            "cells": {
             "fill": {
              "color": "#EBF0F8"
             },
             "line": {
              "color": "white"
             }
            },
            "header": {
             "fill": {
              "color": "#C8D4E3"
             },
             "line": {
              "color": "white"
             }
            },
            "type": "table"
           }
          ]
         },
         "layout": {
          "annotationdefaults": {
           "arrowcolor": "#2a3f5f",
           "arrowhead": 0,
           "arrowwidth": 1
          },
          "autotypenumbers": "strict",
          "coloraxis": {
           "colorbar": {
            "outlinewidth": 0,
            "ticks": ""
           }
          },
          "colorscale": {
           "diverging": [
            [
             0,
             "#8e0152"
            ],
            [
             0.1,
             "#c51b7d"
            ],
            [
             0.2,
             "#de77ae"
            ],
            [
             0.3,
             "#f1b6da"
            ],
            [
             0.4,
             "#fde0ef"
            ],
            [
             0.5,
             "#f7f7f7"
            ],
            [
             0.6,
             "#e6f5d0"
            ],
            [
             0.7,
             "#b8e186"
            ],
            [
             0.8,
             "#7fbc41"
            ],
            [
             0.9,
             "#4d9221"
            ],
            [
             1,
             "#276419"
            ]
           ],
           "sequential": [
            [
             0,
             "#0d0887"
            ],
            [
             0.1111111111111111,
             "#46039f"
            ],
            [
             0.2222222222222222,
             "#7201a8"
            ],
            [
             0.3333333333333333,
             "#9c179e"
            ],
            [
             0.4444444444444444,
             "#bd3786"
            ],
            [
             0.5555555555555556,
             "#d8576b"
            ],
            [
             0.6666666666666666,
             "#ed7953"
            ],
            [
             0.7777777777777778,
             "#fb9f3a"
            ],
            [
             0.8888888888888888,
             "#fdca26"
            ],
            [
             1,
             "#f0f921"
            ]
           ],
           "sequentialminus": [
            [
             0,
             "#0d0887"
            ],
            [
             0.1111111111111111,
             "#46039f"
            ],
            [
             0.2222222222222222,
             "#7201a8"
            ],
            [
             0.3333333333333333,
             "#9c179e"
            ],
            [
             0.4444444444444444,
             "#bd3786"
            ],
            [
             0.5555555555555556,
             "#d8576b"
            ],
            [
             0.6666666666666666,
             "#ed7953"
            ],
            [
             0.7777777777777778,
             "#fb9f3a"
            ],
            [
             0.8888888888888888,
             "#fdca26"
            ],
            [
             1,
             "#f0f921"
            ]
           ]
          },
          "colorway": [
           "#636efa",
           "#EF553B",
           "#00cc96",
           "#ab63fa",
           "#FFA15A",
           "#19d3f3",
           "#FF6692",
           "#B6E880",
           "#FF97FF",
           "#FECB52"
          ],
          "font": {
           "color": "#2a3f5f"
          },
          "geo": {
           "bgcolor": "white",
           "lakecolor": "white",
           "landcolor": "#E5ECF6",
           "showlakes": true,
           "showland": true,
           "subunitcolor": "white"
          },
          "hoverlabel": {
           "align": "left"
          },
          "hovermode": "closest",
          "mapbox": {
           "style": "light"
          },
          "paper_bgcolor": "white",
          "plot_bgcolor": "#E5ECF6",
          "polar": {
           "angularaxis": {
            "gridcolor": "white",
            "linecolor": "white",
            "ticks": ""
           },
           "bgcolor": "#E5ECF6",
           "radialaxis": {
            "gridcolor": "white",
            "linecolor": "white",
            "ticks": ""
           }
          },
          "scene": {
           "xaxis": {
            "backgroundcolor": "#E5ECF6",
            "gridcolor": "white",
            "gridwidth": 2,
            "linecolor": "white",
            "showbackground": true,
            "ticks": "",
            "zerolinecolor": "white"
           },
           "yaxis": {
            "backgroundcolor": "#E5ECF6",
            "gridcolor": "white",
            "gridwidth": 2,
            "linecolor": "white",
            "showbackground": true,
            "ticks": "",
            "zerolinecolor": "white"
           },
           "zaxis": {
            "backgroundcolor": "#E5ECF6",
            "gridcolor": "white",
            "gridwidth": 2,
            "linecolor": "white",
            "showbackground": true,
            "ticks": "",
            "zerolinecolor": "white"
           }
          },
          "shapedefaults": {
           "line": {
            "color": "#2a3f5f"
           }
          },
          "ternary": {
           "aaxis": {
            "gridcolor": "white",
            "linecolor": "white",
            "ticks": ""
           },
           "baxis": {
            "gridcolor": "white",
            "linecolor": "white",
            "ticks": ""
           },
           "bgcolor": "#E5ECF6",
           "caxis": {
            "gridcolor": "white",
            "linecolor": "white",
            "ticks": ""
           }
          },
          "title": {
           "x": 0.05
          },
          "xaxis": {
           "automargin": true,
           "gridcolor": "white",
           "linecolor": "white",
           "ticks": "",
           "title": {
            "standoff": 15
           },
           "zerolinecolor": "white",
           "zerolinewidth": 2
          },
          "yaxis": {
           "automargin": true,
           "gridcolor": "white",
           "linecolor": "white",
           "ticks": "",
           "title": {
            "standoff": 15
           },
           "zerolinecolor": "white",
           "zerolinewidth": 2
          }
         }
        },
        "width": 800
       }
      }
     },
     "metadata": {},
     "output_type": "display_data"
    }
   ],
   "source": [
    "PLOT = go.Figure()\n",
    "\n",
    "for C in list(df_clustering_MP_MC_J.cluster.unique()):\n",
    "    \n",
    "    PLOT.add_trace(go.Scatter3d(x = df_clustering_MP_MC_J[df_clustering_MP_MC_J.cluster == C][\"Trust journalists in this country\"],\n",
    "                                y = df_clustering_MP_MC_J[df_clustering_MP_MC_J.cluster == C]['Max pageview'],\n",
    "                                z = df_clustering_MP_MC_J[df_clustering_MP_MC_J.cluster == C]['Max cases'],\n",
    "                                mode = 'markers', marker_size = 8, marker_line_width = 1,\n",
    "                                name = 'Cluster ' + str(C)))\n",
    "PLOT.update_layout(width = 800, height = 800, autosize = True, showlegend = True,\n",
    "                   scene = dict(xaxis=dict(title = 'Trust journalists in this country', titlefont_color = 'black'),\n",
    "                                yaxis=dict(title = 'Max pageview', titlefont_color = 'black'),\n",
    "                                zaxis=dict(title = 'Max cases', titlefont_color = 'black')),\n",
    "                   font = dict(family = \"Gilroy\", color  = 'black', size = 12))"
   ]
  },
  {
   "cell_type": "code",
   "execution_count": 59,
   "metadata": {},
   "outputs": [
    {
     "data": {
      "text/html": [
       "<div>\n",
       "<style scoped>\n",
       "    .dataframe tbody tr th:only-of-type {\n",
       "        vertical-align: middle;\n",
       "    }\n",
       "\n",
       "    .dataframe tbody tr th {\n",
       "        vertical-align: top;\n",
       "    }\n",
       "\n",
       "    .dataframe thead th {\n",
       "        text-align: right;\n",
       "    }\n",
       "</style>\n",
       "<table border=\"1\" class=\"dataframe\">\n",
       "  <thead>\n",
       "    <tr style=\"text-align: right;\">\n",
       "      <th></th>\n",
       "      <th>cluster</th>\n",
       "    </tr>\n",
       "  </thead>\n",
       "  <tbody>\n",
       "    <tr>\n",
       "      <th>Italy</th>\n",
       "      <td>0</td>\n",
       "    </tr>\n",
       "    <tr>\n",
       "      <th>Russia</th>\n",
       "      <td>0</td>\n",
       "    </tr>\n",
       "    <tr>\n",
       "      <th>China</th>\n",
       "      <td>4</td>\n",
       "    </tr>\n",
       "    <tr>\n",
       "      <th>Albania</th>\n",
       "      <td>4</td>\n",
       "    </tr>\n",
       "    <tr>\n",
       "      <th>Bangladesh</th>\n",
       "      <td>1</td>\n",
       "    </tr>\n",
       "    <tr>\n",
       "      <th>Croatia</th>\n",
       "      <td>2</td>\n",
       "    </tr>\n",
       "    <tr>\n",
       "      <th>Sweden</th>\n",
       "      <td>5</td>\n",
       "    </tr>\n",
       "    <tr>\n",
       "      <th>Finland</th>\n",
       "      <td>0</td>\n",
       "    </tr>\n",
       "    <tr>\n",
       "      <th>Malaysia</th>\n",
       "      <td>5</td>\n",
       "    </tr>\n",
       "    <tr>\n",
       "      <th>Israel</th>\n",
       "      <td>0</td>\n",
       "    </tr>\n",
       "    <tr>\n",
       "      <th>Lithuania</th>\n",
       "      <td>0</td>\n",
       "    </tr>\n",
       "    <tr>\n",
       "      <th>Serbia</th>\n",
       "      <td>5</td>\n",
       "    </tr>\n",
       "    <tr>\n",
       "      <th>Slovakia</th>\n",
       "      <td>2</td>\n",
       "    </tr>\n",
       "    <tr>\n",
       "      <th>Slovenia</th>\n",
       "      <td>2</td>\n",
       "    </tr>\n",
       "    <tr>\n",
       "      <th>Turkey</th>\n",
       "      <td>2</td>\n",
       "    </tr>\n",
       "    <tr>\n",
       "      <th>Bulgaria</th>\n",
       "      <td>2</td>\n",
       "    </tr>\n",
       "    <tr>\n",
       "      <th>Denmark</th>\n",
       "      <td>5</td>\n",
       "    </tr>\n",
       "    <tr>\n",
       "      <th>Georgia</th>\n",
       "      <td>4</td>\n",
       "    </tr>\n",
       "    <tr>\n",
       "      <th>Germany</th>\n",
       "      <td>0</td>\n",
       "    </tr>\n",
       "    <tr>\n",
       "      <th>Hungary</th>\n",
       "      <td>0</td>\n",
       "    </tr>\n",
       "    <tr>\n",
       "      <th>Japan</th>\n",
       "      <td>2</td>\n",
       "    </tr>\n",
       "    <tr>\n",
       "      <th>Kazakhstan</th>\n",
       "      <td>3</td>\n",
       "    </tr>\n",
       "    <tr>\n",
       "      <th>South Korea</th>\n",
       "      <td>0</td>\n",
       "    </tr>\n",
       "    <tr>\n",
       "      <th>Netherlands</th>\n",
       "      <td>0</td>\n",
       "    </tr>\n",
       "    <tr>\n",
       "      <th>Poland</th>\n",
       "      <td>0</td>\n",
       "    </tr>\n",
       "    <tr>\n",
       "      <th>Romania</th>\n",
       "      <td>0</td>\n",
       "    </tr>\n",
       "    <tr>\n",
       "      <th>Tajikistan</th>\n",
       "      <td>1</td>\n",
       "    </tr>\n",
       "    <tr>\n",
       "      <th>Thailand</th>\n",
       "      <td>1</td>\n",
       "    </tr>\n",
       "    <tr>\n",
       "      <th>Mongolia</th>\n",
       "      <td>1</td>\n",
       "    </tr>\n",
       "  </tbody>\n",
       "</table>\n",
       "</div>"
      ],
      "text/plain": [
       "             cluster\n",
       "Italy              0\n",
       "Russia             0\n",
       "China              4\n",
       "Albania            4\n",
       "Bangladesh         1\n",
       "Croatia            2\n",
       "Sweden             5\n",
       "Finland            0\n",
       "Malaysia           5\n",
       "Israel             0\n",
       "Lithuania          0\n",
       "Serbia             5\n",
       "Slovakia           2\n",
       "Slovenia           2\n",
       "Turkey             2\n",
       "Bulgaria           2\n",
       "Denmark            5\n",
       "Georgia            4\n",
       "Germany            0\n",
       "Hungary            0\n",
       "Japan              2\n",
       "Kazakhstan         3\n",
       "South Korea        0\n",
       "Netherlands        0\n",
       "Poland             0\n",
       "Romania            0\n",
       "Tajikistan         1\n",
       "Thailand           1\n",
       "Mongolia           1"
      ]
     },
     "execution_count": 59,
     "metadata": {},
     "output_type": "execute_result"
    }
   ],
   "source": [
    "df_clustering_MP_MC_J['cluster'].to_frame().rename(index= inv_country_dict).head(40)"
   ]
  },
  {
   "cell_type": "markdown",
   "metadata": {},
   "source": [
    "## Clustering Pearson cases/trust government"
   ]
  },
  {
   "cell_type": "code",
   "execution_count": 84,
   "metadata": {},
   "outputs": [],
   "source": [
    "df_clustering_Pears__G = pd.concat([pearson_cases_Kmeans.to_frame().rename(columns= {0: 'Pearsons cases'}).transpose(), df_trust_gov], axis= 0)\n",
    "df_clustering_Pears__G = df_clustering_Pears__G.transpose().dropna()\n",
    "# Create dataframe for clustering with covid max cases, pageviews max, and trust in journalists\n",
    "#lim = np.logical_and(df_clustering_Pears__G  < df_clustering_Pears__G .quantile(0.99, numeric_only=False),\n",
    "#                     df_clustering_Pears__G  > df_clustering_Pears__G .quantile(0.01, numeric_only=False))\n",
    "\n",
    "# replace outliers with nan\n",
    "#df_clustering_Pears__G  = df_clustering_Pears__G .where(lim, np.nan).dropna()\n",
    "\n",
    "# Preprocessing the data\n",
    "df_array = np.array(df_clustering_Pears__G.iloc[:,:])          # Getting only the numeric features from the dataset\n",
    "df_norm  = preprocessing.normalize(df_array) # Normalizing the data\n",
    "\n",
    "# Creating our Model\n",
    "kmeans = KMeans(n_clusters = 2)\n",
    "\n",
    "# Training our model\n",
    "kmeans.fit(df_norm)\n",
    "\n",
    "# You can see the labels (clusters) assigned for each data point with the function labels_\n",
    "kmeans.labels_\n",
    "\n",
    "# Assigning the labels to the initial dataset\n",
    "df_clustering_Pears__G['cluster'] = kmeans.labels_"
   ]
  },
  {
   "cell_type": "code",
   "execution_count": 85,
   "metadata": {},
   "outputs": [
    {
     "data": {
      "image/png": "[encoded data removed]",
      "text/plain": [
       "<Figure size 640x480 with 1 Axes>"
      ]
     },
     "metadata": {},
     "output_type": "display_data"
    }
   ],
   "source": [
    "# Amount of values to be tested for K\n",
    "Ks = range(2, 10)\n",
    "\n",
    "# List to hold on the metrics for each value of K\n",
    "results = []\n",
    "\n",
    "# Executing the loop\n",
    "for K in Ks:\n",
    "    \n",
    "    model = KMeans(n_clusters = K)\n",
    "    model.fit(df_norm)\n",
    "    \n",
    "    results.append(metrics.silhouette_score(df_array ,model.labels_))\n",
    "    \n",
    "# Plotting the final result\n",
    "plt.plot(Ks, results, 'o-')\n",
    "plt.xlabel(\"Values of K\")\n",
    "plt.ylabel(\"silhouette score\")\n",
    "plt.show()"
   ]
  },
  {
   "cell_type": "code",
   "execution_count": 91,
   "metadata": {},
   "outputs": [
    {
     "data": {
      "text/html": [
       "<div>\n",
       "<style scoped>\n",
       "    .dataframe tbody tr th:only-of-type {\n",
       "        vertical-align: middle;\n",
       "    }\n",
       "\n",
       "    .dataframe tbody tr th {\n",
       "        vertical-align: top;\n",
       "    }\n",
       "\n",
       "    .dataframe thead th {\n",
       "        text-align: right;\n",
       "    }\n",
       "</style>\n",
       "<table border=\"1\" class=\"dataframe\">\n",
       "  <thead>\n",
       "    <tr style=\"text-align: right;\">\n",
       "      <th></th>\n",
       "      <th>cluster</th>\n",
       "    </tr>\n",
       "  </thead>\n",
       "  <tbody>\n",
       "    <tr>\n",
       "      <th>Italy</th>\n",
       "      <td>0</td>\n",
       "    </tr>\n",
       "    <tr>\n",
       "      <th>Russia</th>\n",
       "      <td>1</td>\n",
       "    </tr>\n",
       "    <tr>\n",
       "      <th>Albania</th>\n",
       "      <td>1</td>\n",
       "    </tr>\n",
       "    <tr>\n",
       "      <th>Bangladesh</th>\n",
       "      <td>1</td>\n",
       "    </tr>\n",
       "    <tr>\n",
       "      <th>Cambodia</th>\n",
       "      <td>0</td>\n",
       "    </tr>\n",
       "    <tr>\n",
       "      <th>Croatia</th>\n",
       "      <td>1</td>\n",
       "    </tr>\n",
       "    <tr>\n",
       "      <th>Greece</th>\n",
       "      <td>0</td>\n",
       "    </tr>\n",
       "    <tr>\n",
       "      <th>Sweden</th>\n",
       "      <td>0</td>\n",
       "    </tr>\n",
       "    <tr>\n",
       "      <th>Finland</th>\n",
       "      <td>0</td>\n",
       "    </tr>\n",
       "    <tr>\n",
       "      <th>Norway</th>\n",
       "      <td>0</td>\n",
       "    </tr>\n",
       "    <tr>\n",
       "      <th>Malaysia</th>\n",
       "      <td>0</td>\n",
       "    </tr>\n",
       "    <tr>\n",
       "      <th>Israel</th>\n",
       "      <td>1</td>\n",
       "    </tr>\n",
       "    <tr>\n",
       "      <th>Lithuania</th>\n",
       "      <td>0</td>\n",
       "    </tr>\n",
       "    <tr>\n",
       "      <th>Serbia</th>\n",
       "      <td>0</td>\n",
       "    </tr>\n",
       "    <tr>\n",
       "      <th>Slovakia</th>\n",
       "      <td>1</td>\n",
       "    </tr>\n",
       "    <tr>\n",
       "      <th>Slovenia</th>\n",
       "      <td>0</td>\n",
       "    </tr>\n",
       "    <tr>\n",
       "      <th>Turkey</th>\n",
       "      <td>0</td>\n",
       "    </tr>\n",
       "    <tr>\n",
       "      <th>Bulgaria</th>\n",
       "      <td>1</td>\n",
       "    </tr>\n",
       "    <tr>\n",
       "      <th>Czechia</th>\n",
       "      <td>1</td>\n",
       "    </tr>\n",
       "    <tr>\n",
       "      <th>Denmark</th>\n",
       "      <td>0</td>\n",
       "    </tr>\n",
       "    <tr>\n",
       "      <th>Georgia</th>\n",
       "      <td>0</td>\n",
       "    </tr>\n",
       "    <tr>\n",
       "      <th>Germany</th>\n",
       "      <td>0</td>\n",
       "    </tr>\n",
       "    <tr>\n",
       "      <th>Hungary</th>\n",
       "      <td>0</td>\n",
       "    </tr>\n",
       "    <tr>\n",
       "      <th>Japan</th>\n",
       "      <td>1</td>\n",
       "    </tr>\n",
       "    <tr>\n",
       "      <th>Kazakhstan</th>\n",
       "      <td>1</td>\n",
       "    </tr>\n",
       "    <tr>\n",
       "      <th>South Korea</th>\n",
       "      <td>1</td>\n",
       "    </tr>\n",
       "    <tr>\n",
       "      <th>Kyrgyzstan</th>\n",
       "      <td>0</td>\n",
       "    </tr>\n",
       "    <tr>\n",
       "      <th>Netherlands</th>\n",
       "      <td>0</td>\n",
       "    </tr>\n",
       "    <tr>\n",
       "      <th>Poland</th>\n",
       "      <td>1</td>\n",
       "    </tr>\n",
       "    <tr>\n",
       "      <th>Romania</th>\n",
       "      <td>1</td>\n",
       "    </tr>\n",
       "    <tr>\n",
       "      <th>Thailand</th>\n",
       "      <td>0</td>\n",
       "    </tr>\n",
       "    <tr>\n",
       "      <th>Mongolia</th>\n",
       "      <td>1</td>\n",
       "    </tr>\n",
       "  </tbody>\n",
       "</table>\n",
       "</div>"
      ],
      "text/plain": [
       "             cluster\n",
       "Italy              0\n",
       "Russia             1\n",
       "Albania            1\n",
       "Bangladesh         1\n",
       "Cambodia           0\n",
       "Croatia            1\n",
       "Greece             0\n",
       "Sweden             0\n",
       "Finland            0\n",
       "Norway             0\n",
       "Malaysia           0\n",
       "Israel             1\n",
       "Lithuania          0\n",
       "Serbia             0\n",
       "Slovakia           1\n",
       "Slovenia           0\n",
       "Turkey             0\n",
       "Bulgaria           1\n",
       "Czechia            1\n",
       "Denmark            0\n",
       "Georgia            0\n",
       "Germany            0\n",
       "Hungary            0\n",
       "Japan              1\n",
       "Kazakhstan         1\n",
       "South Korea        1\n",
       "Kyrgyzstan         0\n",
       "Netherlands        0\n",
       "Poland             1\n",
       "Romania            1\n",
       "Thailand           0\n",
       "Mongolia           1"
      ]
     },
     "execution_count": 91,
     "metadata": {},
     "output_type": "execute_result"
    }
   ],
   "source": [
    "df_clustering_Pears__G['cluster'].to_frame().rename(index= inv_country_dict).head(40)"
   ]
  },
  {
   "cell_type": "code",
   "execution_count": 86,
   "metadata": {},
   "outputs": [
    {
     "data": {
      "image/png": "[encoded data removed]",
      "text/plain": [
       "<Figure size 640x480 with 1 Axes>"
      ]
     },
     "metadata": {},
     "output_type": "display_data"
    }
   ],
   "source": [
    "#plot 2d\n",
    "for i in list(df_clustering_Pears__G.cluster.unique()):\n",
    "    plt.scatter(df_clustering_Pears__G[df_clustering_Pears__G.cluster == i][\"Pearsons cases\"], df_clustering_Pears__G[df_clustering_Pears__G.cluster == i][\"Trust the national government in this country\"], label = i)\n",
    "plt.xlabel(\"Pearsons cases\")\n",
    "plt.ylabel(\"Trust in government\")\n",
    "plt.legend()\n",
    "plt.show()"
   ]
  },
  {
   "cell_type": "markdown",
   "metadata": {},
   "source": [
    "## Clustering Pearson cases/Journalists"
   ]
  },
  {
   "cell_type": "code",
   "execution_count": 89,
   "metadata": {},
   "outputs": [],
   "source": [
    "df_clustering_Pears__J = pd.concat([pearson_cases_Kmeans.to_frame().rename(columns= {0: 'Pearsons cases'}).transpose(), df_trust_journalists], axis= 0)\n",
    "df_clustering_Pears__J = df_clustering_Pears__J.transpose().dropna()\n",
    "# Create dataframe for clustering with covid max cases, pageviews max, and trust in journalists\n",
    "#lim = np.logical_and(df_clustering_Pears__G  < df_clustering_Pears__G .quantile(0.99, numeric_only=False),\n",
    "#                     df_clustering_Pears__G  > df_clustering_Pears__G .quantile(0.01, numeric_only=False))\n",
    "\n",
    "# replace outliers with nan\n",
    "#df_clustering_Pears__G  = df_clustering_Pears__G .where(lim, np.nan).dropna()\n",
    "\n",
    "# Preprocessing the data\n",
    "df_array = np.array(df_clustering_Pears__J.iloc[:,:])          # Getting only the numeric features from the dataset\n",
    "df_norm  = preprocessing.normalize(df_array) # Normalizing the data\n",
    "\n",
    "# Creating our Model\n",
    "kmeans = KMeans(n_clusters = 2)\n",
    "\n",
    "# Training our model\n",
    "kmeans.fit(df_norm)\n",
    "\n",
    "# You can see the labels (clusters) assigned for each data point with the function labels_\n",
    "kmeans.labels_\n",
    "\n",
    "# Assigning the labels to the initial dataset\n",
    "df_clustering_Pears__J['cluster'] = kmeans.labels_"
   ]
  },
  {
   "cell_type": "code",
   "execution_count": 64,
   "metadata": {},
   "outputs": [
    {
     "data": {
      "image/png": "[encoded data removed]",
      "text/plain": [
       "<Figure size 640x480 with 1 Axes>"
      ]
     },
     "metadata": {},
     "output_type": "display_data"
    }
   ],
   "source": [
    "# Amount of values to be tested for K\n",
    "Ks = range(2, 10)\n",
    "\n",
    "# List to hold on the metrics for each value of K\n",
    "results = []\n",
    "\n",
    "# Executing the loop\n",
    "for K in Ks:\n",
    "    \n",
    "    model = KMeans(n_clusters = K)\n",
    "    model.fit(df_norm)\n",
    "    \n",
    "    results.append(metrics.silhouette_score(df_array ,model.labels_))\n",
    "    \n",
    "# Plotting the final result\n",
    "plt.plot(Ks, results, 'o-')\n",
    "plt.xlabel(\"Values of K\")\n",
    "plt.ylabel(\"silhouette score\")\n",
    "plt.show()"
   ]
  },
  {
   "cell_type": "code",
   "execution_count": 90,
   "metadata": {},
   "outputs": [
    {
     "data": {
      "image/png": "[encoded data removed]",
      "text/plain": [
       "<Figure size 640x480 with 1 Axes>"
      ]
     },
     "metadata": {},
     "output_type": "display_data"
    }
   ],
   "source": [
    "#plot 2d\n",
    "for i in list(df_clustering_Pears__J.cluster.unique()):\n",
    "    plt.scatter(df_clustering_Pears__J[df_clustering_Pears__J.cluster == i][\"Pearsons cases\"], df_clustering_Pears__J[df_clustering_Pears__J.cluster == i][\"Trust journalists in this country\"], label = i)\n",
    "plt.xlabel(\"Pearsons cases\")\n",
    "plt.ylabel(\"Trust in Journalists\")\n",
    "plt.legend()\n",
    "plt.show()"
   ]
  },
  {
   "cell_type": "markdown",
   "metadata": {},
   "source": [
    "## Clustering Max pageviews/Max cases/ trust government"
   ]
  },
  {
   "cell_type": "code",
   "execution_count": 66,
   "metadata": {},
   "outputs": [],
   "source": [
    "df_clustering_MP_MC_G = pd.concat([pageviews_max.to_frame().rename(columns= {0: 'Max pageview'}).transpose(), cases_max.to_frame().rename(columns= {0: 'Max cases'}).transpose(), df_trust_gov], axis= 0)\n",
    "df_clustering_MP_MC_G= df_clustering_MP_MC_G.transpose().dropna()\n",
    "\n",
    "#drop outliers\n",
    "# Create dataframe for clustering with covid max cases, pageviews max, and trust in journalists\n",
    "lim = np.logical_and(df_clustering_MP_MC_G   < df_clustering_MP_MC_G.quantile(0.99, numeric_only=False),\n",
    "                    df_clustering_MP_MC_G  > df_clustering_MP_MC_G.quantile(0.01, numeric_only=False))\n",
    "\n",
    "# replace outliers with nan\n",
    "df_clustering_MP_MC_G   = df_clustering_MP_MC_G .where(lim, np.nan).dropna()\n",
    "# Create dataframe for clustering with covid max cases, pageviews max, and trust in journalists\n",
    "\n",
    "# Preprocessing the data\n",
    "DF_ARRAY = np.array(df_clustering_MP_MC_G.iloc[:,:])          # Getting only the numeric features from the dataset\n",
    "DF_NORM  = preprocessing.normalize(DF_ARRAY) # Normalizing the data\n",
    "\n",
    "# Creating our Model\n",
    "kmeans = KMeans(n_clusters = 2)\n",
    "\n",
    "# Training our model\n",
    "kmeans.fit(DF_NORM)\n",
    "\n",
    "# You can see the labels (clusters) assigned for each data point with the function labels_\n",
    "kmeans.labels_\n",
    "\n",
    "# Assigning the labels to the initial dataset\n",
    "df_clustering_MP_MC_G['cluster'] = kmeans.labels_\n",
    "\n",
    "\n"
   ]
  },
  {
   "cell_type": "code",
   "execution_count": 67,
   "metadata": {},
   "outputs": [
    {
     "data": {
      "image/png": "[encoded data removed]",
      "text/plain": [
       "<Figure size 640x480 with 1 Axes>"
      ]
     },
     "metadata": {},
     "output_type": "display_data"
    }
   ],
   "source": [
    "# Amount of values to be tested for K\n",
    "Ks = range(2, 10)\n",
    "\n",
    "# List to hold on the metrics for each value of K\n",
    "results = []\n",
    "\n",
    "# Executing the loop\n",
    "for K in Ks:\n",
    "    \n",
    "    model = KMeans(n_clusters = K)\n",
    "    model.fit(DF_NORM)\n",
    "    \n",
    "    results.append(metrics.silhouette_score(DF_NORM, model.labels_))\n",
    "    \n",
    "# Plotting the final result\n",
    "plt.plot(Ks, results, 'o-')\n",
    "plt.xlabel(\"Values of K\")\n",
    "plt.ylabel(\"silhouette score\")\n",
    "plt.show()"
   ]
  },
  {
   "cell_type": "code",
   "execution_count": 68,
   "metadata": {},
   "outputs": [
    {
     "data": {
      "application/vnd.plotly.v1+json": {
       "config": {
        "plotlyServerURL": "https://plot.ly"
       },
       "data": [
        {
         "marker": {
          "line": {
           "width": 1
          },
          "size": 8
         },
         "mode": "markers",
         "name": "Cluster 0",
         "type": "scatter3d",
         "x": [
          52.3,
          47,
          42,
          40.7,
          64.7,
          80.7,
          51.1,
          55.1,
          53.5,
          48.1,
          54.9,
          40.4,
          79.3,
          82,
          48.6,
          49.5,
          52.8,
          78.5,
          33.6
         ],
         "y": [
          440.15152551171684,
          388.0001531722023,
          169.89979445015416,
          216.7457466696123,
          89.60305181600476,
          684.8848087445925,
          484.48741739102127,
          221.51179744425977,
          164.08286981800302,
          115.81896853101118,
          142.23183189825895,
          121.32941737218624,
          105.75497770348272,
          793.4837527134607,
          261.65753979759694,
          140.5651784794988,
          124.10622614808146,
          386.87039532150334,
          457.15633655390485
         ],
         "z": [
          11.02952425508785,
          8.090335284497412,
          8.844572693493557,
          5.083847979488168,
          16.400342997043882,
          3.77969752654062,
          23.05997764538638,
          3.3275072140714195,
          2.2532313260706007,
          3.3294980686532987,
          6.092075929651913,
          5.047580658536216,
          6.68792626955704,
          7.568463298081618,
          2.9948260277868575,
          1.271176372751681,
          1.6417086123860183,
          7.671358541409855,
          2.382644217918804
         ]
        },
        {
         "marker": {
          "line": {
           "width": 1
          },
          "size": 8
         },
         "mode": "markers",
         "name": "Cluster 1",
         "type": "scatter3d",
         "x": [
          41.4,
          83,
          57.6,
          57,
          57.6,
          72.2,
          55.6,
          54.8
         ],
         "y": [
          22.904671813052772,
          7.975013179811355,
          46.48087786447988,
          44.62884139237347,
          28.25893782926229,
          21.97202701306368,
          14.449861287921896,
          1.7082065905050559
         ],
         "z": [
          6.272356281112914,
          2.44035160420754,
          0.8558364243858632,
          12.726249672784638,
          1.128208544514274,
          100.00711251735876,
          0.2693410591046318,
          1.1286364972979832
         ]
        }
       ],
       "layout": {
        "autosize": true,
        "font": {
         "color": "black",
         "family": "Gilroy",
         "size": 12
        },
        "height": 800,
        "scene": {
         "xaxis": {
          "title": {
           "font": {
            "color": "black"
           },
           "text": "Trust gov in this country"
          }
         },
         "yaxis": {
          "title": {
           "font": {
            "color": "black"
           },
           "text": "Max pageview"
          }
         },
         "zaxis": {
          "title": {
           "font": {
            "color": "black"
           },
           "text": "Max cases"
          }
         }
        },
        "showlegend": true,
        "template": {
         "data": {
          "bar": [
           {
            "error_x": {
             "color": "#2a3f5f"
            },
            "error_y": {
             "color": "#2a3f5f"
            },
            "marker": {
             "line": {
              "color": "#E5ECF6",
              "width": 0.5
             },
             "pattern": {
              "fillmode": "overlay",
              "size": 10,
              "solidity": 0.2
             }
            },
            "type": "bar"
           }
          ],
          "barpolar": [
           {
            "marker": {
             "line": {
              "color": "#E5ECF6",
              "width": 0.5
             },
             "pattern": {
              "fillmode": "overlay",
              "size": 10,
              "solidity": 0.2
             }
            },
            "type": "barpolar"
           }
          ],
          "carpet": [
           {
            "aaxis": {
             "endlinecolor": "#2a3f5f",
             "gridcolor": "white",
             "linecolor": "white",
             "minorgridcolor": "white",
             "startlinecolor": "#2a3f5f"
            },
            "baxis": {
             "endlinecolor": "#2a3f5f",
             "gridcolor": "white",
             "linecolor": "white",
             "minorgridcolor": "white",
             "startlinecolor": "#2a3f5f"
            },
            "type": "carpet"
           }
          ],
          "choropleth": [
           {
            "colorbar": {
             "outlinewidth": 0,
             "ticks": ""
            },
            "type": "choropleth"
           }
          ],
          "contour": [
           {
            "colorbar": {
             "outlinewidth": 0,
             "ticks": ""
            },
            "colorscale": [
             [
              0,
              "#0d0887"
             ],
             [
              0.1111111111111111,
              "#46039f"
             ],
             [
              0.2222222222222222,
              "#7201a8"
             ],
             [
              0.3333333333333333,
              "#9c179e"
             ],
             [
              0.4444444444444444,
              "#bd3786"
             ],
             [
              0.5555555555555556,
              "#d8576b"
             ],
             [
              0.6666666666666666,
              "#ed7953"
             ],
             [
              0.7777777777777778,
              "#fb9f3a"
             ],
             [
              0.8888888888888888,
              "#fdca26"
             ],
             [
              1,
              "#f0f921"
             ]
            ],
            "type": "contour"
           }
          ],
          "contourcarpet": [
           {
            "colorbar": {
             "outlinewidth": 0,
             "ticks": ""
            },
            "type": "contourcarpet"
           }
          ],
          "heatmap": [
           {
            "colorbar": {
             "outlinewidth": 0,
             "ticks": ""
            },
            "colorscale": [
             [
              0,
              "#0d0887"
             ],
             [
              0.1111111111111111,
              "#46039f"
             ],
             [
              0.2222222222222222,
              "#7201a8"
             ],
             [
              0.3333333333333333,
              "#9c179e"
             ],
             [
              0.4444444444444444,
              "#bd3786"
             ],
             [
              0.5555555555555556,
              "#d8576b"
             ],
             [
              0.6666666666666666,
              "#ed7953"
             ],
             [
              0.7777777777777778,
              "#fb9f3a"
             ],
             [
              0.8888888888888888,
              "#fdca26"
             ],
             [
              1,
              "#f0f921"
             ]
            ],
            "type": "heatmap"
           }
          ],
          "heatmapgl": [
           {
            "colorbar": {
             "outlinewidth": 0,
             "ticks": ""
            },
            "colorscale": [
             [
              0,
              "#0d0887"
             ],
             [
              0.1111111111111111,
              "#46039f"
             ],
             [
              0.2222222222222222,
              "#7201a8"
             ],
             [
              0.3333333333333333,
              "#9c179e"
             ],
             [
              0.4444444444444444,
              "#bd3786"
             ],
             [
              0.5555555555555556,
              "#d8576b"
             ],
             [
              0.6666666666666666,
              "#ed7953"
             ],
             [
              0.7777777777777778,
              "#fb9f3a"
             ],
             [
              0.8888888888888888,
              "#fdca26"
             ],
             [
              1,
              "#f0f921"
             ]
            ],
            "type": "heatmapgl"
           }
          ],
          "histogram": [
           {
            "marker": {
             "pattern": {
              "fillmode": "overlay",
              "size": 10,
              "solidity": 0.2
             }
            },
            "type": "histogram"
           }
          ],
          "histogram2d": [
           {
            "colorbar": {
             "outlinewidth": 0,
             "ticks": ""
            },
            "colorscale": [
             [
              0,
              "#0d0887"
             ],
             [
              0.1111111111111111,
              "#46039f"
             ],
             [
              0.2222222222222222,
              "#7201a8"
             ],
             [
              0.3333333333333333,
              "#9c179e"
             ],
             [
              0.4444444444444444,
              "#bd3786"
             ],
             [
              0.5555555555555556,
              "#d8576b"
             ],
             [
              0.6666666666666666,
              "#ed7953"
             ],
             [
              0.7777777777777778,
              "#fb9f3a"
             ],
             [
              0.8888888888888888,
              "#fdca26"
             ],
             [
              1,
              "#f0f921"
             ]
            ],
            "type": "histogram2d"
           }
          ],
          "histogram2dcontour": [
           {
            "colorbar": {
             "outlinewidth": 0,
             "ticks": ""
            },
            "colorscale": [
             [
              0,
              "#0d0887"
             ],
             [
              0.1111111111111111,
              "#46039f"
             ],
             [
              0.2222222222222222,
              "#7201a8"
             ],
             [
              0.3333333333333333,
              "#9c179e"
             ],
             [
              0.4444444444444444,
              "#bd3786"
             ],
             [
              0.5555555555555556,
              "#d8576b"
             ],
             [
              0.6666666666666666,
              "#ed7953"
             ],
             [
              0.7777777777777778,
              "#fb9f3a"
             ],
             [
              0.8888888888888888,
              "#fdca26"
             ],
             [
              1,
              "#f0f921"
             ]
            ],
            "type": "histogram2dcontour"
           }
          ],
          "mesh3d": [
           {
            "colorbar": {
             "outlinewidth": 0,
             "ticks": ""
            },
            "type": "mesh3d"
           }
          ],
          "parcoords": [
           {
            "line": {
             "colorbar": {
              "outlinewidth": 0,
              "ticks": ""
             }
            },
            "type": "parcoords"
           }
          ],
          "pie": [
           {
            "automargin": true,
            "type": "pie"
           }
          ],
          "scatter": [
           {
            "fillpattern": {
             "fillmode": "overlay",
             "size": 10,
             "solidity": 0.2
            },
            "type": "scatter"
           }
          ],
          "scatter3d": [
           {
            "line": {
             "colorbar": {
              "outlinewidth": 0,
              "ticks": ""
             }
            },
            "marker": {
             "colorbar": {
              "outlinewidth": 0,
              "ticks": ""
             }
            },
            "type": "scatter3d"
           }
          ],
          "scattercarpet": [
           {
            "marker": {
             "colorbar": {
              "outlinewidth": 0,
              "ticks": ""
             }
            },
            "type": "scattercarpet"
           }
          ],
          "scattergeo": [
           {
            "marker": {
             "colorbar": {
              "outlinewidth": 0,
              "ticks": ""
             }
            },
            "type": "scattergeo"
           }
          ],
          "scattergl": [
           {
            "marker": {
             "colorbar": {
              "outlinewidth": 0,
              "ticks": ""
             }
            },
            "type": "scattergl"
           }
          ],
          "scattermapbox": [
           {
            "marker": {
             "colorbar": {
              "outlinewidth": 0,
              "ticks": ""
             }
            },
            "type": "scattermapbox"
           }
          ],
          "scatterpolar": [
           {
            "marker": {
             "colorbar": {
              "outlinewidth": 0,
              "ticks": ""
             }
            },
            "type": "scatterpolar"
           }
          ],
          "scatterpolargl": [
           {
            "marker": {
             "colorbar": {
              "outlinewidth": 0,
              "ticks": ""
             }
            },
            "type": "scatterpolargl"
           }
          ],
          "scatterternary": [
           {
            "marker": {
             "colorbar": {
              "outlinewidth": 0,
              "ticks": ""
             }
            },
            "type": "scatterternary"
           }
          ],
          "surface": [
           {
            "colorbar": {
             "outlinewidth": 0,
             "ticks": ""
            },
            "colorscale": [
             [
              0,
              "#0d0887"
             ],
             [
              0.1111111111111111,
              "#46039f"
             ],
             [
              0.2222222222222222,
              "#7201a8"
             ],
             [
              0.3333333333333333,
              "#9c179e"
             ],
             [
              0.4444444444444444,
              "#bd3786"
             ],
             [
              0.5555555555555556,
              "#d8576b"
             ],
             [
              0.6666666666666666,
              "#ed7953"
             ],
             [
              0.7777777777777778,
              "#fb9f3a"
             ],
             [
              0.8888888888888888,
              "#fdca26"
             ],
             [
              1,
              "#f0f921"
             ]
            ],
            "type": "surface"
           }
          ],
          "table": [
           {
            "cells": {
             "fill": {
              "color": "#EBF0F8"
             },
             "line": {
              "color": "white"
             }
            },
            "header": {
             "fill": {
              "color": "#C8D4E3"
             },
             "line": {
              "color": "white"
             }
            },
            "type": "table"
           }
          ]
         },
         "layout": {
          "annotationdefaults": {
           "arrowcolor": "#2a3f5f",
           "arrowhead": 0,
           "arrowwidth": 1
          },
          "autotypenumbers": "strict",
          "coloraxis": {
           "colorbar": {
            "outlinewidth": 0,
            "ticks": ""
           }
          },
          "colorscale": {
           "diverging": [
            [
             0,
             "#8e0152"
            ],
            [
             0.1,
             "#c51b7d"
            ],
            [
             0.2,
             "#de77ae"
            ],
            [
             0.3,
             "#f1b6da"
            ],
            [
             0.4,
             "#fde0ef"
            ],
            [
             0.5,
             "#f7f7f7"
            ],
            [
             0.6,
             "#e6f5d0"
            ],
            [
             0.7,
             "#b8e186"
            ],
            [
             0.8,
             "#7fbc41"
            ],
            [
             0.9,
             "#4d9221"
            ],
            [
             1,
             "#276419"
            ]
           ],
           "sequential": [
            [
             0,
             "#0d0887"
            ],
            [
             0.1111111111111111,
             "#46039f"
            ],
            [
             0.2222222222222222,
             "#7201a8"
            ],
            [
             0.3333333333333333,
             "#9c179e"
            ],
            [
             0.4444444444444444,
             "#bd3786"
            ],
            [
             0.5555555555555556,
             "#d8576b"
            ],
            [
             0.6666666666666666,
             "#ed7953"
            ],
            [
             0.7777777777777778,
             "#fb9f3a"
            ],
            [
             0.8888888888888888,
             "#fdca26"
            ],
            [
             1,
             "#f0f921"
            ]
           ],
           "sequentialminus": [
            [
             0,
             "#0d0887"
            ],
            [
             0.1111111111111111,
             "#46039f"
            ],
            [
             0.2222222222222222,
             "#7201a8"
            ],
            [
             0.3333333333333333,
             "#9c179e"
            ],
            [
             0.4444444444444444,
             "#bd3786"
            ],
            [
             0.5555555555555556,
             "#d8576b"
            ],
            [
             0.6666666666666666,
             "#ed7953"
            ],
            [
             0.7777777777777778,
             "#fb9f3a"
            ],
            [
             0.8888888888888888,
             "#fdca26"
            ],
            [
             1,
             "#f0f921"
            ]
           ]
          },
          "colorway": [
           "#636efa",
           "#EF553B",
           "#00cc96",
           "#ab63fa",
           "#FFA15A",
           "#19d3f3",
           "#FF6692",
           "#B6E880",
           "#FF97FF",
           "#FECB52"
          ],
          "font": {
           "color": "#2a3f5f"
          },
          "geo": {
           "bgcolor": "white",
           "lakecolor": "white",
           "landcolor": "#E5ECF6",
           "showlakes": true,
           "showland": true,
           "subunitcolor": "white"
          },
          "hoverlabel": {
           "align": "left"
          },
          "hovermode": "closest",
          "mapbox": {
           "style": "light"
          },
          "paper_bgcolor": "white",
          "plot_bgcolor": "#E5ECF6",
          "polar": {
           "angularaxis": {
            "gridcolor": "white",
            "linecolor": "white",
            "ticks": ""
           },
           "bgcolor": "#E5ECF6",
           "radialaxis": {
            "gridcolor": "white",
            "linecolor": "white",
            "ticks": ""
           }
          },
          "scene": {
           "xaxis": {
            "backgroundcolor": "#E5ECF6",
            "gridcolor": "white",
            "gridwidth": 2,
            "linecolor": "white",
            "showbackground": true,
            "ticks": "",
            "zerolinecolor": "white"
           },
           "yaxis": {
            "backgroundcolor": "#E5ECF6",
            "gridcolor": "white",
            "gridwidth": 2,
            "linecolor": "white",
            "showbackground": true,
            "ticks": "",
            "zerolinecolor": "white"
           },
           "zaxis": {
            "backgroundcolor": "#E5ECF6",
            "gridcolor": "white",
            "gridwidth": 2,
            "linecolor": "white",
            "showbackground": true,
            "ticks": "",
            "zerolinecolor": "white"
           }
          },
          "shapedefaults": {
           "line": {
            "color": "#2a3f5f"
           }
          },
          "ternary": {
           "aaxis": {
            "gridcolor": "white",
            "linecolor": "white",
            "ticks": ""
           },
           "baxis": {
            "gridcolor": "white",
            "linecolor": "white",
            "ticks": ""
           },
           "bgcolor": "#E5ECF6",
           "caxis": {
            "gridcolor": "white",
            "linecolor": "white",
            "ticks": ""
           }
          },
          "title": {
           "x": 0.05
          },
          "xaxis": {
           "automargin": true,
           "gridcolor": "white",
           "linecolor": "white",
           "ticks": "",
           "title": {
            "standoff": 15
           },
           "zerolinecolor": "white",
           "zerolinewidth": 2
          },
          "yaxis": {
           "automargin": true,
           "gridcolor": "white",
           "linecolor": "white",
           "ticks": "",
           "title": {
            "standoff": 15
           },
           "zerolinecolor": "white",
           "zerolinewidth": 2
          }
         }
        },
        "width": 800
       }
      }
     },
     "metadata": {},
     "output_type": "display_data"
    }
   ],
   "source": [
    "PLOT = go.Figure()\n",
    "\n",
    "for C in list(df_clustering_MP_MC_G.cluster.unique()):\n",
    "    \n",
    "    PLOT.add_trace(go.Scatter3d(x = df_clustering_MP_MC_G[df_clustering_MP_MC_G.cluster == C][\"Trust the national government in this country\"],\n",
    "                                y = df_clustering_MP_MC_G[df_clustering_MP_MC_G.cluster == C]['Max pageview'],\n",
    "                                z = df_clustering_MP_MC_G[df_clustering_MP_MC_G.cluster == C]['Max cases'],\n",
    "                                mode = 'markers', marker_size = 8, marker_line_width = 1,\n",
    "                                name = 'Cluster ' + str(C)))\n",
    "PLOT.update_layout(width = 800, height = 800, autosize = True, showlegend = True,\n",
    "                   scene = dict(xaxis=dict(title = 'Trust gov in this country', titlefont_color = 'black'),\n",
    "                                yaxis=dict(title = 'Max pageview', titlefont_color = 'black'),\n",
    "                                zaxis=dict(title = 'Max cases', titlefont_color = 'black')),\n",
    "                   font = dict(family = \"Gilroy\", color  = 'black', size = 12))"
   ]
  },
  {
   "cell_type": "markdown",
   "metadata": {},
   "source": [
    "## Clustering Mean pageviews/Mean cases/ trust government"
   ]
  },
  {
   "cell_type": "code",
   "execution_count": 92,
   "metadata": {},
   "outputs": [],
   "source": [
    "df_clustering_MeanP_MeanC_P = pd.concat([pageviews_amean.to_frame().rename(columns= {0: 'Mean pageview'}).transpose(), cases_amean.to_frame().rename(columns= {0: 'Mean cases'}).transpose(), df_trust_gov], axis= 0)\n",
    "df_clustering_MeanP_MeanC_P= df_clustering_MeanP_MeanC_P.transpose().dropna()\n",
    "\n",
    "# Preprocessing the data\n",
    "DF_ARRAY = np.array(df_clustering_MeanP_MeanC_P.iloc[:,:])          # Getting only the numeric features from the dataset\n",
    "DF_NORM  = preprocessing.normalize(DF_ARRAY) # Normalizing the data\n",
    "# x = df_clustering_MeanP_MeanC_P.values\n",
    "# DF_NORM  = preprocessing.normalize(x)\n",
    "# Creating our Model\n",
    "kmeans = KMeans(n_clusters =5)\n",
    "\n",
    "# Training our model\n",
    "kmeans.fit(DF_NORM)\n",
    "\n",
    "# You can see the labels (clusters) assigned for each data point with the function labels_\n",
    "kmeans.labels_\n",
    "\n",
    "# Assigning the labels to the initial dataset\n",
    "df_clustering_MeanP_MeanC_P ['cluster'] = kmeans.labels_\n",
    "\n",
    "centroids = kmeans.cluster_centers_ "
   ]
  },
  {
   "cell_type": "code",
   "execution_count": 93,
   "metadata": {},
   "outputs": [
    {
     "data": {
      "image/png": "[encoded data removed]",
      "text/plain": [
       "<Figure size 640x480 with 1 Axes>"
      ]
     },
     "metadata": {},
     "output_type": "display_data"
    }
   ],
   "source": [
    "\n",
    "# Amount of values to be tested for K\n",
    "Ks = range(2, 10)\n",
    "\n",
    "# List to hold on the metrics for each value of K\n",
    "results = []\n",
    "\n",
    "# Executing the loop\n",
    "for K in Ks:\n",
    "    \n",
    "    model = KMeans(n_clusters = K)\n",
    "    model.fit(DF_NORM)\n",
    "    \n",
    "    results.append(metrics.silhouette_score(DF_NORM,model.labels_))\n",
    "    \n",
    "# Plotting the final result\n",
    "plt.plot(Ks, results, 'o-')\n",
    "plt.xlabel(\"Values of K\")\n",
    "plt.ylabel(\"silhouette score\")\n",
    "plt.show()"
   ]
  },
  {
   "cell_type": "code",
   "execution_count": 95,
   "metadata": {},
   "outputs": [
    {
     "data": {
      "text/html": [
       "<div>\n",
       "<style scoped>\n",
       "    .dataframe tbody tr th:only-of-type {\n",
       "        vertical-align: middle;\n",
       "    }\n",
       "\n",
       "    .dataframe tbody tr th {\n",
       "        vertical-align: top;\n",
       "    }\n",
       "\n",
       "    .dataframe thead th {\n",
       "        text-align: right;\n",
       "    }\n",
       "</style>\n",
       "<table border=\"1\" class=\"dataframe\">\n",
       "  <thead>\n",
       "    <tr style=\"text-align: right;\">\n",
       "      <th></th>\n",
       "      <th>cluster</th>\n",
       "    </tr>\n",
       "  </thead>\n",
       "  <tbody>\n",
       "    <tr>\n",
       "      <th>Italy</th>\n",
       "      <td>1</td>\n",
       "    </tr>\n",
       "    <tr>\n",
       "      <th>Russia</th>\n",
       "      <td>1</td>\n",
       "    </tr>\n",
       "    <tr>\n",
       "      <th>Albania</th>\n",
       "      <td>4</td>\n",
       "    </tr>\n",
       "    <tr>\n",
       "      <th>Bangladesh</th>\n",
       "      <td>0</td>\n",
       "    </tr>\n",
       "    <tr>\n",
       "      <th>Cambodia</th>\n",
       "      <td>0</td>\n",
       "    </tr>\n",
       "    <tr>\n",
       "      <th>Croatia</th>\n",
       "      <td>2</td>\n",
       "    </tr>\n",
       "    <tr>\n",
       "      <th>Greece</th>\n",
       "      <td>3</td>\n",
       "    </tr>\n",
       "    <tr>\n",
       "      <th>Sweden</th>\n",
       "      <td>2</td>\n",
       "    </tr>\n",
       "    <tr>\n",
       "      <th>Finland</th>\n",
       "      <td>3</td>\n",
       "    </tr>\n",
       "    <tr>\n",
       "      <th>Norway</th>\n",
       "      <td>4</td>\n",
       "    </tr>\n",
       "    <tr>\n",
       "      <th>Malaysia</th>\n",
       "      <td>4</td>\n",
       "    </tr>\n",
       "    <tr>\n",
       "      <th>Israel</th>\n",
       "      <td>1</td>\n",
       "    </tr>\n",
       "    <tr>\n",
       "      <th>Lithuania</th>\n",
       "      <td>2</td>\n",
       "    </tr>\n",
       "    <tr>\n",
       "      <th>Serbia</th>\n",
       "      <td>4</td>\n",
       "    </tr>\n",
       "    <tr>\n",
       "      <th>Slovakia</th>\n",
       "      <td>2</td>\n",
       "    </tr>\n",
       "    <tr>\n",
       "      <th>Slovenia</th>\n",
       "      <td>2</td>\n",
       "    </tr>\n",
       "    <tr>\n",
       "      <th>Turkey</th>\n",
       "      <td>4</td>\n",
       "    </tr>\n",
       "    <tr>\n",
       "      <th>Bulgaria</th>\n",
       "      <td>2</td>\n",
       "    </tr>\n",
       "    <tr>\n",
       "      <th>Czechia</th>\n",
       "      <td>1</td>\n",
       "    </tr>\n",
       "    <tr>\n",
       "      <th>Denmark</th>\n",
       "      <td>4</td>\n",
       "    </tr>\n",
       "    <tr>\n",
       "      <th>Georgia</th>\n",
       "      <td>0</td>\n",
       "    </tr>\n",
       "    <tr>\n",
       "      <th>Germany</th>\n",
       "      <td>1</td>\n",
       "    </tr>\n",
       "    <tr>\n",
       "      <th>Hungary</th>\n",
       "      <td>3</td>\n",
       "    </tr>\n",
       "    <tr>\n",
       "      <th>Japan</th>\n",
       "      <td>3</td>\n",
       "    </tr>\n",
       "    <tr>\n",
       "      <th>Kazakhstan</th>\n",
       "      <td>0</td>\n",
       "    </tr>\n",
       "    <tr>\n",
       "      <th>South Korea</th>\n",
       "      <td>4</td>\n",
       "    </tr>\n",
       "    <tr>\n",
       "      <th>Kyrgyzstan</th>\n",
       "      <td>0</td>\n",
       "    </tr>\n",
       "    <tr>\n",
       "      <th>Netherlands</th>\n",
       "      <td>3</td>\n",
       "    </tr>\n",
       "    <tr>\n",
       "      <th>Poland</th>\n",
       "      <td>1</td>\n",
       "    </tr>\n",
       "    <tr>\n",
       "      <th>Romania</th>\n",
       "      <td>1</td>\n",
       "    </tr>\n",
       "    <tr>\n",
       "      <th>Thailand</th>\n",
       "      <td>0</td>\n",
       "    </tr>\n",
       "    <tr>\n",
       "      <th>Mongolia</th>\n",
       "      <td>0</td>\n",
       "    </tr>\n",
       "  </tbody>\n",
       "</table>\n",
       "</div>"
      ],
      "text/plain": [
       "             cluster\n",
       "Italy              1\n",
       "Russia             1\n",
       "Albania            4\n",
       "Bangladesh         0\n",
       "Cambodia           0\n",
       "Croatia            2\n",
       "Greece             3\n",
       "Sweden             2\n",
       "Finland            3\n",
       "Norway             4\n",
       "Malaysia           4\n",
       "Israel             1\n",
       "Lithuania          2\n",
       "Serbia             4\n",
       "Slovakia           2\n",
       "Slovenia           2\n",
       "Turkey             4\n",
       "Bulgaria           2\n",
       "Czechia            1\n",
       "Denmark            4\n",
       "Georgia            0\n",
       "Germany            1\n",
       "Hungary            3\n",
       "Japan              3\n",
       "Kazakhstan         0\n",
       "South Korea        4\n",
       "Kyrgyzstan         0\n",
       "Netherlands        3\n",
       "Poland             1\n",
       "Romania            1\n",
       "Thailand           0\n",
       "Mongolia           0"
      ]
     },
     "execution_count": 95,
     "metadata": {},
     "output_type": "execute_result"
    }
   ],
   "source": [
    "df_clustering_MeanP_MeanC_P['cluster'].to_frame().rename(index= inv_country_dict).head(40)"
   ]
  },
  {
   "cell_type": "code",
   "execution_count": 94,
   "metadata": {},
   "outputs": [
    {
     "data": {
      "application/vnd.plotly.v1+json": {
       "config": {
        "plotlyServerURL": "https://plot.ly"
       },
       "data": [
        {
         "marker": {
          "line": {
           "width": 1
          },
          "size": 8
         },
         "mode": "markers",
         "name": "Cluster 1",
         "type": "scatter3d",
         "x": [
          52.3,
          47,
          51.1,
          45.8,
          82,
          33.6,
          24.3
         ],
         "y": [
          90.50555797714946,
          83.09503558892135,
          106.71908357229188,
          155.32914992788176,
          172.6044618674976,
          66.79617898442001,
          38.28882160048374
         ],
         "z": [
          2.0356695957327733,
          3.0873645801963563,
          5.610674645736664,
          1.0260115741044726,
          1.3095805099955706,
          0.7947852446411382,
          2.029978021175226
         ]
        },
        {
         "marker": {
          "line": {
           "width": 1
          },
          "size": 8
         },
         "mode": "markers",
         "name": "Cluster 4",
         "type": "scatter3d",
         "x": [
          41.4,
          94.3,
          57.6,
          57,
          54.9,
          79.3,
          52.8
         ],
         "y": [
          7.528065627703769,
          22.363195711896097,
          10.454428688341945,
          9.461049555113643,
          13.892971690927887,
          18.805602057937172,
          13.50861094659251
         ],
         "z": [
          1.4888830326156273,
          0.8911918252513756,
          0.12990498561189134,
          2.047850463722271,
          1.4342898370771242,
          1.304755863006329,
          0.17332825177931377
         ]
        },
        {
         "marker": {
          "line": {
           "width": 1
          },
          "size": 8
         },
         "mode": "markers",
         "name": "Cluster 0",
         "type": "scatter3d",
         "x": [
          83,
          83.8,
          57.6,
          72.2,
          57.6,
          55.6,
          54.8
         ],
         "y": [
          1.8031651874132175,
          0.06509301848111874,
          5.17301283730955,
          1.4743892940486973,
          0.20486222784130048,
          2.9093300168543204,
          0.36494503735371847
         ],
         "z": [
          0.8501453303150083,
          0.007355295548570123,
          0.177749715990076,
          3.1383429259036553,
          2.999853909442201,
          0.022067561616069785,
          0.041358605513354386
         ]
        },
        {
         "marker": {
          "line": {
           "width": 1
          },
          "size": 8
         },
         "mode": "markers",
         "name": "Cluster 2",
         "type": "scatter3d",
         "x": [
          42,
          64.7,
          55.1,
          53.5,
          48.1,
          40.4
         ],
         "y": [
          27.193755835842165,
          26.131884928215655,
          28.515412010618437,
          26.465772238627835,
          21.861132943177008,
          25.668669152999662
         ],
         "z": [
          1.1265490132396607,
          3.652787055639943,
          0.4590109728603799,
          0.3198390324415751,
          0.6138360338926449,
          1.051741709931806
         ]
        },
        {
         "marker": {
          "line": {
           "width": 1
          },
          "size": 8
         },
         "mode": "markers",
         "name": "Cluster 3",
         "type": "scatter3d",
         "x": [
          40.7,
          80.7,
          48.6,
          49.5,
          78.5
         ],
         "y": [
          39.994680212440855,
          70.32984315193713,
          48.19496687774803,
          50.10254748297375,
          86.36254578690722
         ],
         "z": [
          0.42660071727720167,
          0.6666891796458562,
          0.27539426680916723,
          0.24240863573674182,
          1.836951477177375
         ]
        }
       ],
       "layout": {
        "autosize": true,
        "font": {
         "color": "black",
         "family": "Gilroy",
         "size": 12
        },
        "height": 800,
        "scene": {
         "xaxis": {
          "title": {
           "font": {
            "color": "black"
           },
           "text": "Trust gov in this country"
          }
         },
         "yaxis": {
          "title": {
           "font": {
            "color": "black"
           },
           "text": "Mean pageview"
          }
         },
         "zaxis": {
          "title": {
           "font": {
            "color": "black"
           },
           "text": "Mean cases"
          }
         }
        },
        "showlegend": true,
        "template": {
         "data": {
          "bar": [
           {
            "error_x": {
             "color": "#2a3f5f"
            },
            "error_y": {
             "color": "#2a3f5f"
            },
            "marker": {
             "line": {
              "color": "#E5ECF6",
              "width": 0.5
             },
             "pattern": {
              "fillmode": "overlay",
              "size": 10,
              "solidity": 0.2
             }
            },
            "type": "bar"
           }
          ],
          "barpolar": [
           {
            "marker": {
             "line": {
              "color": "#E5ECF6",
              "width": 0.5
             },
             "pattern": {
              "fillmode": "overlay",
              "size": 10,
              "solidity": 0.2
             }
            },
            "type": "barpolar"
           }
          ],
          "carpet": [
           {
            "aaxis": {
             "endlinecolor": "#2a3f5f",
             "gridcolor": "white",
             "linecolor": "white",
             "minorgridcolor": "white",
             "startlinecolor": "#2a3f5f"
            },
            "baxis": {
             "endlinecolor": "#2a3f5f",
             "gridcolor": "white",
             "linecolor": "white",
             "minorgridcolor": "white",
             "startlinecolor": "#2a3f5f"
            },
            "type": "carpet"
           }
          ],
          "choropleth": [
           {
            "colorbar": {
             "outlinewidth": 0,
             "ticks": ""
            },
            "type": "choropleth"
           }
          ],
          "contour": [
           {
            "colorbar": {
             "outlinewidth": 0,
             "ticks": ""
            },
            "colorscale": [
             [
              0,
              "#0d0887"
             ],
             [
              0.1111111111111111,
              "#46039f"
             ],
             [
              0.2222222222222222,
              "#7201a8"
             ],
             [
              0.3333333333333333,
              "#9c179e"
             ],
             [
              0.4444444444444444,
              "#bd3786"
             ],
             [
              0.5555555555555556,
              "#d8576b"
             ],
             [
              0.6666666666666666,
              "#ed7953"
             ],
             [
              0.7777777777777778,
              "#fb9f3a"
             ],
             [
              0.8888888888888888,
              "#fdca26"
             ],
             [
              1,
              "#f0f921"
             ]
            ],
            "type": "contour"
           }
          ],
          "contourcarpet": [
           {
            "colorbar": {
             "outlinewidth": 0,
             "ticks": ""
            },
            "type": "contourcarpet"
           }
          ],
          "heatmap": [
           {
            "colorbar": {
             "outlinewidth": 0,
             "ticks": ""
            },
            "colorscale": [
             [
              0,
              "#0d0887"
             ],
             [
              0.1111111111111111,
              "#46039f"
             ],
             [
              0.2222222222222222,
              "#7201a8"
             ],
             [
              0.3333333333333333,
              "#9c179e"
             ],
             [
              0.4444444444444444,
              "#bd3786"
             ],
             [
              0.5555555555555556,
              "#d8576b"
             ],
             [
              0.6666666666666666,
              "#ed7953"
             ],
             [
              0.7777777777777778,
              "#fb9f3a"
             ],
             [
              0.8888888888888888,
              "#fdca26"
             ],
             [
              1,
              "#f0f921"
             ]
            ],
            "type": "heatmap"
           }
          ],
          "heatmapgl": [
           {
            "colorbar": {
             "outlinewidth": 0,
             "ticks": ""
            },
            "colorscale": [
             [
              0,
              "#0d0887"
             ],
             [
              0.1111111111111111,
              "#46039f"
             ],
             [
              0.2222222222222222,
              "#7201a8"
             ],
             [
              0.3333333333333333,
              "#9c179e"
             ],
             [
              0.4444444444444444,
              "#bd3786"
             ],
             [
              0.5555555555555556,
              "#d8576b"
             ],
             [
              0.6666666666666666,
              "#ed7953"
             ],
             [
              0.7777777777777778,
              "#fb9f3a"
             ],
             [
              0.8888888888888888,
              "#fdca26"
             ],
             [
              1,
              "#f0f921"
             ]
            ],
            "type": "heatmapgl"
           }
          ],
          "histogram": [
           {
            "marker": {
             "pattern": {
              "fillmode": "overlay",
              "size": 10,
              "solidity": 0.2
             }
            },
            "type": "histogram"
           }
          ],
          "histogram2d": [
           {
            "colorbar": {
             "outlinewidth": 0,
             "ticks": ""
            },
            "colorscale": [
             [
              0,
              "#0d0887"
             ],
             [
              0.1111111111111111,
              "#46039f"
             ],
             [
              0.2222222222222222,
              "#7201a8"
             ],
             [
              0.3333333333333333,
              "#9c179e"
             ],
             [
              0.4444444444444444,
              "#bd3786"
             ],
             [
              0.5555555555555556,
              "#d8576b"
             ],
             [
              0.6666666666666666,
              "#ed7953"
             ],
             [
              0.7777777777777778,
              "#fb9f3a"
             ],
             [
              0.8888888888888888,
              "#fdca26"
             ],
             [
              1,
              "#f0f921"
             ]
            ],
            "type": "histogram2d"
           }
          ],
          "histogram2dcontour": [
           {
            "colorbar": {
             "outlinewidth": 0,
             "ticks": ""
            },
            "colorscale": [
             [
              0,
              "#0d0887"
             ],
             [
              0.1111111111111111,
              "#46039f"
             ],
             [
              0.2222222222222222,
              "#7201a8"
             ],
             [
              0.3333333333333333,
              "#9c179e"
             ],
             [
              0.4444444444444444,
              "#bd3786"
             ],
             [
              0.5555555555555556,
              "#d8576b"
             ],
             [
              0.6666666666666666,
              "#ed7953"
             ],
             [
              0.7777777777777778,
              "#fb9f3a"
             ],
             [
              0.8888888888888888,
              "#fdca26"
             ],
             [
              1,
              "#f0f921"
             ]
            ],
            "type": "histogram2dcontour"
           }
          ],
          "mesh3d": [
           {
            "colorbar": {
             "outlinewidth": 0,
             "ticks": ""
            },
            "type": "mesh3d"
           }
          ],
          "parcoords": [
           {
            "line": {
             "colorbar": {
              "outlinewidth": 0,
              "ticks": ""
             }
            },
            "type": "parcoords"
           }
          ],
          "pie": [
           {
            "automargin": true,
            "type": "pie"
           }
          ],
          "scatter": [
           {
            "fillpattern": {
             "fillmode": "overlay",
             "size": 10,
             "solidity": 0.2
            },
            "type": "scatter"
           }
          ],
          "scatter3d": [
           {
            "line": {
             "colorbar": {
              "outlinewidth": 0,
              "ticks": ""
             }
            },
            "marker": {
             "colorbar": {
              "outlinewidth": 0,
              "ticks": ""
             }
            },
            "type": "scatter3d"
           }
          ],
          "scattercarpet": [
           {
            "marker": {
             "colorbar": {
              "outlinewidth": 0,
              "ticks": ""
             }
            },
            "type": "scattercarpet"
           }
          ],
          "scattergeo": [
           {
            "marker": {
             "colorbar": {
              "outlinewidth": 0,
              "ticks": ""
             }
            },
            "type": "scattergeo"
           }
          ],
          "scattergl": [
           {
            "marker": {
             "colorbar": {
              "outlinewidth": 0,
              "ticks": ""
             }
            },
            "type": "scattergl"
           }
          ],
          "scattermapbox": [
           {
            "marker": {
             "colorbar": {
              "outlinewidth": 0,
              "ticks": ""
             }
            },
            "type": "scattermapbox"
           }
          ],
          "scatterpolar": [
           {
            "marker": {
             "colorbar": {
              "outlinewidth": 0,
              "ticks": ""
             }
            },
            "type": "scatterpolar"
           }
          ],
          "scatterpolargl": [
           {
            "marker": {
             "colorbar": {
              "outlinewidth": 0,
              "ticks": ""
             }
            },
            "type": "scatterpolargl"
           }
          ],
          "scatterternary": [
           {
            "marker": {
             "colorbar": {
              "outlinewidth": 0,
              "ticks": ""
             }
            },
            "type": "scatterternary"
           }
          ],
          "surface": [
           {
            "colorbar": {
             "outlinewidth": 0,
             "ticks": ""
            },
            "colorscale": [
             [
              0,
              "#0d0887"
             ],
             [
              0.1111111111111111,
              "#46039f"
             ],
             [
              0.2222222222222222,
              "#7201a8"
             ],
             [
              0.3333333333333333,
              "#9c179e"
             ],
             [
              0.4444444444444444,
              "#bd3786"
             ],
             [
              0.5555555555555556,
              "#d8576b"
             ],
             [
              0.6666666666666666,
              "#ed7953"
             ],
             [
              0.7777777777777778,
              "#fb9f3a"
             ],
             [
              0.8888888888888888,
              "#fdca26"
             ],
             [
              1,
              "#f0f921"
             ]
            ],
            "type": "surface"
           }
          ],
          "table": [
           {
            "cells": {
             "fill": {
              "color": "#EBF0F8"
             },
             "line": {
              "color": "white"
             }
            },
            "header": {
             "fill": {
              "color": "#C8D4E3"
             },
             "line": {
              "color": "white"
             }
            },
            "type": "table"
           }
          ]
         },
         "layout": {
          "annotationdefaults": {
           "arrowcolor": "#2a3f5f",
           "arrowhead": 0,
           "arrowwidth": 1
          },
          "autotypenumbers": "strict",
          "coloraxis": {
           "colorbar": {
            "outlinewidth": 0,
            "ticks": ""
           }
          },
          "colorscale": {
           "diverging": [
            [
             0,
             "#8e0152"
            ],
            [
             0.1,
             "#c51b7d"
            ],
            [
             0.2,
             "#de77ae"
            ],
            [
             0.3,
             "#f1b6da"
            ],
            [
             0.4,
             "#fde0ef"
            ],
            [
             0.5,
             "#f7f7f7"
            ],
            [
             0.6,
             "#e6f5d0"
            ],
            [
             0.7,
             "#b8e186"
            ],
            [
             0.8,
             "#7fbc41"
            ],
            [
             0.9,
             "#4d9221"
            ],
            [
             1,
             "#276419"
            ]
           ],
           "sequential": [
            [
             0,
             "#0d0887"
            ],
            [
             0.1111111111111111,
             "#46039f"
            ],
            [
             0.2222222222222222,
             "#7201a8"
            ],
            [
             0.3333333333333333,
             "#9c179e"
            ],
            [
             0.4444444444444444,
             "#bd3786"
            ],
            [
             0.5555555555555556,
             "#d8576b"
            ],
            [
             0.6666666666666666,
             "#ed7953"
            ],
            [
             0.7777777777777778,
             "#fb9f3a"
            ],
            [
             0.8888888888888888,
             "#fdca26"
            ],
            [
             1,
             "#f0f921"
            ]
           ],
           "sequentialminus": [
            [
             0,
             "#0d0887"
            ],
            [
             0.1111111111111111,
             "#46039f"
            ],
            [
             0.2222222222222222,
             "#7201a8"
            ],
            [
             0.3333333333333333,
             "#9c179e"
            ],
            [
             0.4444444444444444,
             "#bd3786"
            ],
            [
             0.5555555555555556,
             "#d8576b"
            ],
            [
             0.6666666666666666,
             "#ed7953"
            ],
            [
             0.7777777777777778,
             "#fb9f3a"
            ],
            [
             0.8888888888888888,
             "#fdca26"
            ],
            [
             1,
             "#f0f921"
            ]
           ]
          },
          "colorway": [
           "#636efa",
           "#EF553B",
           "#00cc96",
           "#ab63fa",
           "#FFA15A",
           "#19d3f3",
           "#FF6692",
           "#B6E880",
           "#FF97FF",
           "#FECB52"
          ],
          "font": {
           "color": "#2a3f5f"
          },
          "geo": {
           "bgcolor": "white",
           "lakecolor": "white",
           "landcolor": "#E5ECF6",
           "showlakes": true,
           "showland": true,
           "subunitcolor": "white"
          },
          "hoverlabel": {
           "align": "left"
          },
          "hovermode": "closest",
          "mapbox": {
           "style": "light"
          },
          "paper_bgcolor": "white",
          "plot_bgcolor": "#E5ECF6",
          "polar": {
           "angularaxis": {
            "gridcolor": "white",
            "linecolor": "white",
            "ticks": ""
           },
           "bgcolor": "#E5ECF6",
           "radialaxis": {
            "gridcolor": "white",
            "linecolor": "white",
            "ticks": ""
           }
          },
          "scene": {
           "xaxis": {
            "backgroundcolor": "#E5ECF6",
            "gridcolor": "white",
            "gridwidth": 2,
            "linecolor": "white",
            "showbackground": true,
            "ticks": "",
            "zerolinecolor": "white"
           },
           "yaxis": {
            "backgroundcolor": "#E5ECF6",
            "gridcolor": "white",
            "gridwidth": 2,
            "linecolor": "white",
            "showbackground": true,
            "ticks": "",
            "zerolinecolor": "white"
           },
           "zaxis": {
            "backgroundcolor": "#E5ECF6",
            "gridcolor": "white",
            "gridwidth": 2,
            "linecolor": "white",
            "showbackground": true,
            "ticks": "",
            "zerolinecolor": "white"
           }
          },
          "shapedefaults": {
           "line": {
            "color": "#2a3f5f"
           }
          },
          "ternary": {
           "aaxis": {
            "gridcolor": "white",
            "linecolor": "white",
            "ticks": ""
           },
           "baxis": {
            "gridcolor": "white",
            "linecolor": "white",
            "ticks": ""
           },
           "bgcolor": "#E5ECF6",
           "caxis": {
            "gridcolor": "white",
            "linecolor": "white",
            "ticks": ""
           }
          },
          "title": {
           "x": 0.05
          },
          "xaxis": {
           "automargin": true,
           "gridcolor": "white",
           "linecolor": "white",
           "ticks": "",
           "title": {
            "standoff": 15
           },
           "zerolinecolor": "white",
           "zerolinewidth": 2
          },
          "yaxis": {
           "automargin": true,
           "gridcolor": "white",
           "linecolor": "white",
           "ticks": "",
           "title": {
            "standoff": 15
           },
           "zerolinecolor": "white",
           "zerolinewidth": 2
          }
         }
        },
        "width": 800
       }
      }
     },
     "metadata": {},
     "output_type": "display_data"
    }
   ],
   "source": [
    "PLOT = go.Figure()\n",
    "\n",
    "for C in list(df_clustering_MeanP_MeanC_P.cluster.unique()):\n",
    "    \n",
    "    PLOT.add_trace(go.Scatter3d(x = df_clustering_MeanP_MeanC_P[df_clustering_MeanP_MeanC_P.cluster == C][\"Trust the national government in this country\"],\n",
    "                                y = df_clustering_MeanP_MeanC_P[df_clustering_MeanP_MeanC_P.cluster == C]['Mean pageview'],\n",
    "                                z = df_clustering_MeanP_MeanC_P[df_clustering_MeanP_MeanC_P.cluster == C]['Mean cases'],\n",
    "                                mode = 'markers', marker_size = 8, marker_line_width = 1,\n",
    "                                name = 'Cluster ' + str(C)))\n",
    "PLOT.update_layout(width = 800, height = 800, autosize = True, showlegend = True,\n",
    "                   scene = dict(xaxis=dict(title = 'Trust gov in this country', titlefont_color = 'black'),\n",
    "                                yaxis=dict(title = 'Mean pageview', titlefont_color = 'black'),\n",
    "                                zaxis=dict(title = 'Mean cases', titlefont_color = 'black')),\n",
    "                   font = dict(family = \"Gilroy\", color  = 'black', size = 12))"
   ]
  },
  {
   "cell_type": "markdown",
   "metadata": {},
   "source": [
    "## Clustering Mean pageviews/Mean cases/ trust journalists"
   ]
  },
  {
   "cell_type": "code",
   "execution_count": 72,
   "metadata": {},
   "outputs": [],
   "source": [
    "df_clustering_MeanP_MeanC_J = pd.concat([pageviews_amean.to_frame().rename(columns= {0: 'Mean pageview'}).transpose(), cases_amean.to_frame().rename(columns= {0: 'Mean cases'}).transpose(), df_trust_journalists], axis= 0)\n",
    "df_clustering_MeanP_MeanC_J= df_clustering_MeanP_MeanC_J.transpose().dropna()\n",
    "\n",
    "# # OPTION 2: quantile filter: discard 1% upper / lower values (robust option of removing outliers)\n",
    "# lim = np.logical_and(df_clustering_MeanP_MeanC_J < df_clustering_MeanP_MeanC_J.quantile(0.99, numeric_only=False),\n",
    "#                      df_clustering_MeanP_MeanC_J > df_clustering_MeanP_MeanC_J.quantile(0.01, numeric_only=False))\n",
    "\n",
    "# # replace outliers with nan\n",
    "# df_clustering_MeanP_MeanC_J= df_clustering_MeanP_MeanC_J.where(lim, np.nan).dropna()\n",
    "# Preprocessing the data\n",
    "DF_ARRAY = np.array(df_clustering_MeanP_MeanC_J.iloc[:,:])          # Getting only the numeric features from the dataset\n",
    "DF_NORM  = preprocessing.normalize(DF_ARRAY) # Normalizing the data\n",
    "\n",
    "# Creating our Model\n",
    "kmeans = KMeans(n_clusters = 5)\n",
    "\n",
    "# Training our model\n",
    "kmeans.fit(DF_NORM)\n",
    "\n",
    "# You can see the labels (clusters) assigned for each data point with the function labels_\n",
    "kmeans.labels_\n",
    "\n",
    "# Assigning the labels to the initial dataset\n",
    "df_clustering_MeanP_MeanC_J ['cluster'] = kmeans.labels_"
   ]
  },
  {
   "cell_type": "code",
   "execution_count": 73,
   "metadata": {},
   "outputs": [
    {
     "data": {
      "image/png": "[encoded data removed]",
      "text/plain": [
       "<Figure size 640x480 with 1 Axes>"
      ]
     },
     "metadata": {},
     "output_type": "display_data"
    }
   ],
   "source": [
    "\n",
    "# Amount of values to be tested for K\n",
    "Ks = range(2, 10)\n",
    "\n",
    "# List to hold on the metrics for each value of K\n",
    "results = []\n",
    "\n",
    "# Executing the loop\n",
    "for K in Ks:\n",
    "    \n",
    "    model = KMeans(n_clusters = K)\n",
    "    model.fit(DF_NORM)\n",
    "    \n",
    "    results.append(metrics.silhouette_score(DF_NORM,model.labels_))\n",
    "    \n",
    "# Plotting the final result\n",
    "plt.plot(Ks, results, 'o-')\n",
    "plt.xlabel(\"Values of K\")\n",
    "plt.ylabel(\"silhouette score\")\n",
    "plt.show()"
   ]
  },
  {
   "cell_type": "code",
   "execution_count": 97,
   "metadata": {},
   "outputs": [
    {
     "data": {
      "text/html": [
       "<div>\n",
       "<style scoped>\n",
       "    .dataframe tbody tr th:only-of-type {\n",
       "        vertical-align: middle;\n",
       "    }\n",
       "\n",
       "    .dataframe tbody tr th {\n",
       "        vertical-align: top;\n",
       "    }\n",
       "\n",
       "    .dataframe thead th {\n",
       "        text-align: right;\n",
       "    }\n",
       "</style>\n",
       "<table border=\"1\" class=\"dataframe\">\n",
       "  <thead>\n",
       "    <tr style=\"text-align: right;\">\n",
       "      <th></th>\n",
       "      <th>cluster</th>\n",
       "    </tr>\n",
       "  </thead>\n",
       "  <tbody>\n",
       "    <tr>\n",
       "      <th>Italy</th>\n",
       "      <td>1</td>\n",
       "    </tr>\n",
       "    <tr>\n",
       "      <th>Russia</th>\n",
       "      <td>1</td>\n",
       "    </tr>\n",
       "    <tr>\n",
       "      <th>Albania</th>\n",
       "      <td>4</td>\n",
       "    </tr>\n",
       "    <tr>\n",
       "      <th>Bangladesh</th>\n",
       "      <td>0</td>\n",
       "    </tr>\n",
       "    <tr>\n",
       "      <th>Cambodia</th>\n",
       "      <td>0</td>\n",
       "    </tr>\n",
       "    <tr>\n",
       "      <th>Croatia</th>\n",
       "      <td>2</td>\n",
       "    </tr>\n",
       "    <tr>\n",
       "      <th>Greece</th>\n",
       "      <td>3</td>\n",
       "    </tr>\n",
       "    <tr>\n",
       "      <th>Sweden</th>\n",
       "      <td>2</td>\n",
       "    </tr>\n",
       "    <tr>\n",
       "      <th>Finland</th>\n",
       "      <td>3</td>\n",
       "    </tr>\n",
       "    <tr>\n",
       "      <th>Norway</th>\n",
       "      <td>4</td>\n",
       "    </tr>\n",
       "    <tr>\n",
       "      <th>Malaysia</th>\n",
       "      <td>4</td>\n",
       "    </tr>\n",
       "    <tr>\n",
       "      <th>Israel</th>\n",
       "      <td>1</td>\n",
       "    </tr>\n",
       "    <tr>\n",
       "      <th>Lithuania</th>\n",
       "      <td>2</td>\n",
       "    </tr>\n",
       "    <tr>\n",
       "      <th>Serbia</th>\n",
       "      <td>4</td>\n",
       "    </tr>\n",
       "    <tr>\n",
       "      <th>Slovakia</th>\n",
       "      <td>2</td>\n",
       "    </tr>\n",
       "    <tr>\n",
       "      <th>Slovenia</th>\n",
       "      <td>2</td>\n",
       "    </tr>\n",
       "    <tr>\n",
       "      <th>Turkey</th>\n",
       "      <td>4</td>\n",
       "    </tr>\n",
       "    <tr>\n",
       "      <th>Bulgaria</th>\n",
       "      <td>2</td>\n",
       "    </tr>\n",
       "    <tr>\n",
       "      <th>Czechia</th>\n",
       "      <td>1</td>\n",
       "    </tr>\n",
       "    <tr>\n",
       "      <th>Denmark</th>\n",
       "      <td>4</td>\n",
       "    </tr>\n",
       "    <tr>\n",
       "      <th>Georgia</th>\n",
       "      <td>0</td>\n",
       "    </tr>\n",
       "    <tr>\n",
       "      <th>Germany</th>\n",
       "      <td>1</td>\n",
       "    </tr>\n",
       "    <tr>\n",
       "      <th>Hungary</th>\n",
       "      <td>3</td>\n",
       "    </tr>\n",
       "    <tr>\n",
       "      <th>Japan</th>\n",
       "      <td>3</td>\n",
       "    </tr>\n",
       "    <tr>\n",
       "      <th>Kazakhstan</th>\n",
       "      <td>0</td>\n",
       "    </tr>\n",
       "    <tr>\n",
       "      <th>South Korea</th>\n",
       "      <td>4</td>\n",
       "    </tr>\n",
       "    <tr>\n",
       "      <th>Kyrgyzstan</th>\n",
       "      <td>0</td>\n",
       "    </tr>\n",
       "    <tr>\n",
       "      <th>Netherlands</th>\n",
       "      <td>3</td>\n",
       "    </tr>\n",
       "    <tr>\n",
       "      <th>Poland</th>\n",
       "      <td>1</td>\n",
       "    </tr>\n",
       "    <tr>\n",
       "      <th>Romania</th>\n",
       "      <td>1</td>\n",
       "    </tr>\n",
       "    <tr>\n",
       "      <th>Thailand</th>\n",
       "      <td>0</td>\n",
       "    </tr>\n",
       "    <tr>\n",
       "      <th>Mongolia</th>\n",
       "      <td>0</td>\n",
       "    </tr>\n",
       "  </tbody>\n",
       "</table>\n",
       "</div>"
      ],
      "text/plain": [
       "             cluster\n",
       "Italy              1\n",
       "Russia             1\n",
       "Albania            4\n",
       "Bangladesh         0\n",
       "Cambodia           0\n",
       "Croatia            2\n",
       "Greece             3\n",
       "Sweden             2\n",
       "Finland            3\n",
       "Norway             4\n",
       "Malaysia           4\n",
       "Israel             1\n",
       "Lithuania          2\n",
       "Serbia             4\n",
       "Slovakia           2\n",
       "Slovenia           2\n",
       "Turkey             4\n",
       "Bulgaria           2\n",
       "Czechia            1\n",
       "Denmark            4\n",
       "Georgia            0\n",
       "Germany            1\n",
       "Hungary            3\n",
       "Japan              3\n",
       "Kazakhstan         0\n",
       "South Korea        4\n",
       "Kyrgyzstan         0\n",
       "Netherlands        3\n",
       "Poland             1\n",
       "Romania            1\n",
       "Thailand           0\n",
       "Mongolia           0"
      ]
     },
     "execution_count": 97,
     "metadata": {},
     "output_type": "execute_result"
    }
   ],
   "source": [
    "df_clustering_MeanP_MeanC_P['cluster'].to_frame().rename(index= inv_country_dict).head(40)"
   ]
  },
  {
   "cell_type": "code",
   "execution_count": 74,
   "metadata": {},
   "outputs": [
    {
     "data": {
      "application/vnd.plotly.v1+json": {
       "config": {
        "plotlyServerURL": "https://plot.ly"
       },
       "data": [
        {
         "marker": {
          "line": {
           "width": 1
          },
          "size": 8
         },
         "mode": "markers",
         "name": "Cluster 2",
         "type": "scatter3d",
         "x": [
          47.4,
          32.1,
          11.3,
          64.7,
          53.7,
          78.6
         ],
         "y": [
          90.50555797714946,
          83.09503558892135,
          39.994680212440855,
          106.71908357229188,
          155.32914992788176,
          172.6044618674976
         ],
         "z": [
          2.0356695957327733,
          3.0873645801963563,
          0.42660071727720167,
          5.610674645736664,
          1.0260115741044726,
          1.3095805099955706
         ]
        },
        {
         "marker": {
          "line": {
           "width": 1
          },
          "size": 8
         },
         "mode": "markers",
         "name": "Cluster 1",
         "type": "scatter3d",
         "x": [
          61.2,
          53.8,
          60.4,
          73.7,
          65.8,
          60.2,
          62,
          54.3,
          69.4,
          60
         ],
         "y": [
          6.180435874894099,
          7.528065627703769,
          1.8031651874132175,
          0.06509301848111874,
          5.17301283730955,
          1.4743892940486973,
          0.20486222784130048,
          0.1561853170458316,
          2.9093300168543204,
          0.36494503735371847
         ],
         "z": [
          0.028386263096772626,
          1.4888830326156273,
          0.8501453303150083,
          0.007355295548570123,
          0.177749715990076,
          3.1383429259036553,
          2.999853909442201,
          0.40219962502639917,
          0.022067561616069785,
          0.041358605513354386
         ]
        },
        {
         "marker": {
          "line": {
           "width": 1
          },
          "size": 8
         },
         "mode": "markers",
         "name": "Cluster 3",
         "type": "scatter3d",
         "x": [
          80.4,
          42.3,
          46.1,
          75.7,
          66.7
         ],
         "y": [
          70.32984315193713,
          48.19496687774803,
          50.10254748297375,
          86.36254578690722,
          66.79617898442001
         ],
         "z": [
          0.6666891796458562,
          0.27539426680916723,
          0.24240863573674182,
          1.836951477177375,
          0.7947852446411382
         ]
        },
        {
         "marker": {
          "line": {
           "width": 1
          },
          "size": 8
         },
         "mode": "markers",
         "name": "Cluster 0",
         "type": "scatter3d",
         "x": [
          54,
          48.8,
          61.2,
          47.6,
          52.3,
          27.4,
          53
         ],
         "y": [
          27.193755835842165,
          28.515412010618437,
          26.465772238627835,
          22.97401080574244,
          25.668669152999662,
          13.50861094659251,
          38.28882160048374
         ],
         "z": [
          1.1265490132396607,
          0.4590109728603799,
          0.3198390324415751,
          0.004812772633730126,
          1.051741709931806,
          0.17332825177931377,
          2.029978021175226
         ]
        },
        {
         "marker": {
          "line": {
           "width": 1
          },
          "size": 8
         },
         "mode": "markers",
         "name": "Cluster 4",
         "type": "scatter3d",
         "x": [
          70.6,
          84.7,
          46.7,
          30.1,
          64.4,
          47.5,
          68.4
         ],
         "y": [
          26.131884928215655,
          22.363195711896097,
          10.454428688341945,
          9.461049555113643,
          21.861132943177008,
          13.892971690927887,
          18.805602057937172
         ],
         "z": [
          3.652787055639943,
          0.8911918252513756,
          0.12990498561189134,
          2.047850463722271,
          0.6138360338926449,
          1.4342898370771242,
          1.304755863006329
         ]
        }
       ],
       "layout": {
        "autosize": true,
        "font": {
         "color": "black",
         "family": "Gilroy",
         "size": 12
        },
        "height": 800,
        "scene": {
         "xaxis": {
          "title": {
           "font": {
            "color": "black"
           },
           "text": "Trust Journalists in this country"
          }
         },
         "yaxis": {
          "title": {
           "font": {
            "color": "black"
           },
           "text": "Mean pageview"
          }
         },
         "zaxis": {
          "title": {
           "font": {
            "color": "black"
           },
           "text": "Mean cases"
          }
         }
        },
        "showlegend": true,
        "template": {
         "data": {
          "bar": [
           {
            "error_x": {
             "color": "#2a3f5f"
            },
            "error_y": {
             "color": "#2a3f5f"
            },
            "marker": {
             "line": {
              "color": "#E5ECF6",
              "width": 0.5
             },
             "pattern": {
              "fillmode": "overlay",
              "size": 10,
              "solidity": 0.2
             }
            },
            "type": "bar"
           }
          ],
          "barpolar": [
           {
            "marker": {
             "line": {
              "color": "#E5ECF6",
              "width": 0.5
             },
             "pattern": {
              "fillmode": "overlay",
              "size": 10,
              "solidity": 0.2
             }
            },
            "type": "barpolar"
           }
          ],
          "carpet": [
           {
            "aaxis": {
             "endlinecolor": "#2a3f5f",
             "gridcolor": "white",
             "linecolor": "white",
             "minorgridcolor": "white",
             "startlinecolor": "#2a3f5f"
            },
            "baxis": {
             "endlinecolor": "#2a3f5f",
             "gridcolor": "white",
             "linecolor": "white",
             "minorgridcolor": "white",
             "startlinecolor": "#2a3f5f"
            },
            "type": "carpet"
           }
          ],
          "choropleth": [
           {
            "colorbar": {
             "outlinewidth": 0,
             "ticks": ""
            },
            "type": "choropleth"
           }
          ],
          "contour": [
           {
            "colorbar": {
             "outlinewidth": 0,
             "ticks": ""
            },
            "colorscale": [
             [
              0,
              "#0d0887"
             ],
             [
              0.1111111111111111,
              "#46039f"
             ],
             [
              0.2222222222222222,
              "#7201a8"
             ],
             [
              0.3333333333333333,
              "#9c179e"
             ],
             [
              0.4444444444444444,
              "#bd3786"
             ],
             [
              0.5555555555555556,
              "#d8576b"
             ],
             [
              0.6666666666666666,
              "#ed7953"
             ],
             [
              0.7777777777777778,
              "#fb9f3a"
             ],
             [
              0.8888888888888888,
              "#fdca26"
             ],
             [
              1,
              "#f0f921"
             ]
            ],
            "type": "contour"
           }
          ],
          "contourcarpet": [
           {
            "colorbar": {
             "outlinewidth": 0,
             "ticks": ""
            },
            "type": "contourcarpet"
           }
          ],
          "heatmap": [
           {
            "colorbar": {
             "outlinewidth": 0,
             "ticks": ""
            },
            "colorscale": [
             [
              0,
              "#0d0887"
             ],
             [
              0.1111111111111111,
              "#46039f"
             ],
             [
              0.2222222222222222,
              "#7201a8"
             ],
             [
              0.3333333333333333,
              "#9c179e"
             ],
             [
              0.4444444444444444,
              "#bd3786"
             ],
             [
              0.5555555555555556,
              "#d8576b"
             ],
             [
              0.6666666666666666,
              "#ed7953"
             ],
             [
              0.7777777777777778,
              "#fb9f3a"
             ],
             [
              0.8888888888888888,
              "#fdca26"
             ],
             [
              1,
              "#f0f921"
             ]
            ],
            "type": "heatmap"
           }
          ],
          "heatmapgl": [
           {
            "colorbar": {
             "outlinewidth": 0,
             "ticks": ""
            },
            "colorscale": [
             [
              0,
              "#0d0887"
             ],
             [
              0.1111111111111111,
              "#46039f"
             ],
             [
              0.2222222222222222,
              "#7201a8"
             ],
             [
              0.3333333333333333,
              "#9c179e"
             ],
             [
              0.4444444444444444,
              "#bd3786"
             ],
             [
              0.5555555555555556,
              "#d8576b"
             ],
             [
              0.6666666666666666,
              "#ed7953"
             ],
             [
              0.7777777777777778,
              "#fb9f3a"
             ],
             [
              0.8888888888888888,
              "#fdca26"
             ],
             [
              1,
              "#f0f921"
             ]
            ],
            "type": "heatmapgl"
           }
          ],
          "histogram": [
           {
            "marker": {
             "pattern": {
              "fillmode": "overlay",
              "size": 10,
              "solidity": 0.2
             }
            },
            "type": "histogram"
           }
          ],
          "histogram2d": [
           {
            "colorbar": {
             "outlinewidth": 0,
             "ticks": ""
            },
            "colorscale": [
             [
              0,
              "#0d0887"
             ],
             [
              0.1111111111111111,
              "#46039f"
             ],
             [
              0.2222222222222222,
              "#7201a8"
             ],
             [
              0.3333333333333333,
              "#9c179e"
             ],
             [
              0.4444444444444444,
              "#bd3786"
             ],
             [
              0.5555555555555556,
              "#d8576b"
             ],
             [
              0.6666666666666666,
              "#ed7953"
             ],
             [
              0.7777777777777778,
              "#fb9f3a"
             ],
             [
              0.8888888888888888,
              "#fdca26"
             ],
             [
              1,
              "#f0f921"
             ]
            ],
            "type": "histogram2d"
           }
          ],
          "histogram2dcontour": [
           {
            "colorbar": {
             "outlinewidth": 0,
             "ticks": ""
            },
            "colorscale": [
             [
              0,
              "#0d0887"
             ],
             [
              0.1111111111111111,
              "#46039f"
             ],
             [
              0.2222222222222222,
              "#7201a8"
             ],
             [
              0.3333333333333333,
              "#9c179e"
             ],
             [
              0.4444444444444444,
              "#bd3786"
             ],
             [
              0.5555555555555556,
              "#d8576b"
             ],
             [
              0.6666666666666666,
              "#ed7953"
             ],
             [
              0.7777777777777778,
              "#fb9f3a"
             ],
             [
              0.8888888888888888,
              "#fdca26"
             ],
             [
              1,
              "#f0f921"
             ]
            ],
            "type": "histogram2dcontour"
           }
          ],
          "mesh3d": [
           {
            "colorbar": {
             "outlinewidth": 0,
             "ticks": ""
            },
            "type": "mesh3d"
           }
          ],
          "parcoords": [
           {
            "line": {
             "colorbar": {
              "outlinewidth": 0,
              "ticks": ""
             }
            },
            "type": "parcoords"
           }
          ],
          "pie": [
           {
            "automargin": true,
            "type": "pie"
           }
          ],
          "scatter": [
           {
            "fillpattern": {
             "fillmode": "overlay",
             "size": 10,
             "solidity": 0.2
            },
            "type": "scatter"
           }
          ],
          "scatter3d": [
           {
            "line": {
             "colorbar": {
              "outlinewidth": 0,
              "ticks": ""
             }
            },
            "marker": {
             "colorbar": {
              "outlinewidth": 0,
              "ticks": ""
             }
            },
            "type": "scatter3d"
           }
          ],
          "scattercarpet": [
           {
            "marker": {
             "colorbar": {
              "outlinewidth": 0,
              "ticks": ""
             }
            },
            "type": "scattercarpet"
           }
          ],
          "scattergeo": [
           {
            "marker": {
             "colorbar": {
              "outlinewidth": 0,
              "ticks": ""
             }
            },
            "type": "scattergeo"
           }
          ],
          "scattergl": [
           {
            "marker": {
             "colorbar": {
              "outlinewidth": 0,
              "ticks": ""
             }
            },
            "type": "scattergl"
           }
          ],
          "scattermapbox": [
           {
            "marker": {
             "colorbar": {
              "outlinewidth": 0,
              "ticks": ""
             }
            },
            "type": "scattermapbox"
           }
          ],
          "scatterpolar": [
           {
            "marker": {
             "colorbar": {
              "outlinewidth": 0,
              "ticks": ""
             }
            },
            "type": "scatterpolar"
           }
          ],
          "scatterpolargl": [
           {
            "marker": {
             "colorbar": {
              "outlinewidth": 0,
              "ticks": ""
             }
            },
            "type": "scatterpolargl"
           }
          ],
          "scatterternary": [
           {
            "marker": {
             "colorbar": {
              "outlinewidth": 0,
              "ticks": ""
             }
            },
            "type": "scatterternary"
           }
          ],
          "surface": [
           {
            "colorbar": {
             "outlinewidth": 0,
             "ticks": ""
            },
            "colorscale": [
             [
              0,
              "#0d0887"
             ],
             [
              0.1111111111111111,
              "#46039f"
             ],
             [
              0.2222222222222222,
              "#7201a8"
             ],
             [
              0.3333333333333333,
              "#9c179e"
             ],
             [
              0.4444444444444444,
              "#bd3786"
             ],
             [
              0.5555555555555556,
              "#d8576b"
             ],
             [
              0.6666666666666666,
              "#ed7953"
             ],
             [
              0.7777777777777778,
              "#fb9f3a"
             ],
             [
              0.8888888888888888,
              "#fdca26"
             ],
             [
              1,
              "#f0f921"
             ]
            ],
            "type": "surface"
           }
          ],
          "table": [
           {
            "cells": {
             "fill": {
              "color": "#EBF0F8"
             },
             "line": {
              "color": "white"
             }
            },
            "header": {
             "fill": {
              "color": "#C8D4E3"
             },
             "line": {
              "color": "white"
             }
            },
            "type": "table"
           }
          ]
         },
         "layout": {
          "annotationdefaults": {
           "arrowcolor": "#2a3f5f",
           "arrowhead": 0,
           "arrowwidth": 1
          },
          "autotypenumbers": "strict",
          "coloraxis": {
           "colorbar": {
            "outlinewidth": 0,
            "ticks": ""
           }
          },
          "colorscale": {
           "diverging": [
            [
             0,
             "#8e0152"
            ],
            [
             0.1,
             "#c51b7d"
            ],
            [
             0.2,
             "#de77ae"
            ],
            [
             0.3,
             "#f1b6da"
            ],
            [
             0.4,
             "#fde0ef"
            ],
            [
             0.5,
             "#f7f7f7"
            ],
            [
             0.6,
             "#e6f5d0"
            ],
            [
             0.7,
             "#b8e186"
            ],
            [
             0.8,
             "#7fbc41"
            ],
            [
             0.9,
             "#4d9221"
            ],
            [
             1,
             "#276419"
            ]
           ],
           "sequential": [
            [
             0,
             "#0d0887"
            ],
            [
             0.1111111111111111,
             "#46039f"
            ],
            [
             0.2222222222222222,
             "#7201a8"
            ],
            [
             0.3333333333333333,
             "#9c179e"
            ],
            [
             0.4444444444444444,
             "#bd3786"
            ],
            [
             0.5555555555555556,
             "#d8576b"
            ],
            [
             0.6666666666666666,
             "#ed7953"
            ],
            [
             0.7777777777777778,
             "#fb9f3a"
            ],
            [
             0.8888888888888888,
             "#fdca26"
            ],
            [
             1,
             "#f0f921"
            ]
           ],
           "sequentialminus": [
            [
             0,
             "#0d0887"
            ],
            [
             0.1111111111111111,
             "#46039f"
            ],
            [
             0.2222222222222222,
             "#7201a8"
            ],
            [
             0.3333333333333333,
             "#9c179e"
            ],
            [
             0.4444444444444444,
             "#bd3786"
            ],
            [
             0.5555555555555556,
             "#d8576b"
            ],
            [
             0.6666666666666666,
             "#ed7953"
            ],
            [
             0.7777777777777778,
             "#fb9f3a"
            ],
            [
             0.8888888888888888,
             "#fdca26"
            ],
            [
             1,
             "#f0f921"
            ]
           ]
          },
          "colorway": [
           "#636efa",
           "#EF553B",
           "#00cc96",
           "#ab63fa",
           "#FFA15A",
           "#19d3f3",
           "#FF6692",
           "#B6E880",
           "#FF97FF",
           "#FECB52"
          ],
          "font": {
           "color": "#2a3f5f"
          },
          "geo": {
           "bgcolor": "white",
           "lakecolor": "white",
           "landcolor": "#E5ECF6",
           "showlakes": true,
           "showland": true,
           "subunitcolor": "white"
          },
          "hoverlabel": {
           "align": "left"
          },
          "hovermode": "closest",
          "mapbox": {
           "style": "light"
          },
          "paper_bgcolor": "white",
          "plot_bgcolor": "#E5ECF6",
          "polar": {
           "angularaxis": {
            "gridcolor": "white",
            "linecolor": "white",
            "ticks": ""
           },
           "bgcolor": "#E5ECF6",
           "radialaxis": {
            "gridcolor": "white",
            "linecolor": "white",
            "ticks": ""
           }
          },
          "scene": {
           "xaxis": {
            "backgroundcolor": "#E5ECF6",
            "gridcolor": "white",
            "gridwidth": 2,
            "linecolor": "white",
            "showbackground": true,
            "ticks": "",
            "zerolinecolor": "white"
           },
           "yaxis": {
            "backgroundcolor": "#E5ECF6",
            "gridcolor": "white",
            "gridwidth": 2,
            "linecolor": "white",
            "showbackground": true,
            "ticks": "",
            "zerolinecolor": "white"
           },
           "zaxis": {
            "backgroundcolor": "#E5ECF6",
            "gridcolor": "white",
            "gridwidth": 2,
            "linecolor": "white",
            "showbackground": true,
            "ticks": "",
            "zerolinecolor": "white"
           }
          },
          "shapedefaults": {
           "line": {
            "color": "#2a3f5f"
           }
          },
          "ternary": {
           "aaxis": {
            "gridcolor": "white",
            "linecolor": "white",
            "ticks": ""
           },
           "baxis": {
            "gridcolor": "white",
            "linecolor": "white",
            "ticks": ""
           },
           "bgcolor": "#E5ECF6",
           "caxis": {
            "gridcolor": "white",
            "linecolor": "white",
            "ticks": ""
           }
          },
          "title": {
           "x": 0.05
          },
          "xaxis": {
           "automargin": true,
           "gridcolor": "white",
           "linecolor": "white",
           "ticks": "",
           "title": {
            "standoff": 15
           },
           "zerolinecolor": "white",
           "zerolinewidth": 2
          },
          "yaxis": {
           "automargin": true,
           "gridcolor": "white",
           "linecolor": "white",
           "ticks": "",
           "title": {
            "standoff": 15
           },
           "zerolinecolor": "white",
           "zerolinewidth": 2
          }
         }
        },
        "width": 800
       }
      }
     },
     "metadata": {},
     "output_type": "display_data"
    }
   ],
   "source": [
    "PLOT = go.Figure()\n",
    "\n",
    "for C in list(df_clustering_MeanP_MeanC_P.cluster.unique()):\n",
    "    \n",
    "    PLOT.add_trace(go.Scatter3d(x = df_clustering_MeanP_MeanC_J[df_clustering_MeanP_MeanC_J.cluster == C][\"Trust journalists in this country\"],\n",
    "                                y = df_clustering_MeanP_MeanC_J[df_clustering_MeanP_MeanC_J.cluster == C]['Mean pageview'],\n",
    "                                z = df_clustering_MeanP_MeanC_J[df_clustering_MeanP_MeanC_J.cluster == C]['Mean cases'],\n",
    "                                mode = 'markers', marker_size = 8, marker_line_width = 1,\n",
    "                                name = 'Cluster ' + str(C)))\n",
    "PLOT.update_layout(width = 800, height = 800, autosize = True, showlegend = True,\n",
    "                   scene = dict(xaxis=dict(title = 'Trust Journalists in this country', titlefont_color = 'black'),\n",
    "                                yaxis=dict(title = 'Mean pageview', titlefont_color = 'black'),\n",
    "                                zaxis=dict(title = 'Mean cases', titlefont_color = 'black')),\n",
    "                   font = dict(family = \"Gilroy\", color  = 'black', size = 12))"
   ]
  },
  {
   "cell_type": "code",
   "execution_count": 75,
   "metadata": {},
   "outputs": [],
   "source": [
    "from numpy import unique\n",
    "from numpy import where\n",
    "from matplotlib import pyplot\n",
    "from sklearn.datasets import make_classification\n",
    "from sklearn.cluster import AffinityPropagation\n",
    "\n",
    "# initialize the data set we'll work with\n",
    "training_data  = preprocessing.normalize(df_clustering_MP_MC_J.values)\n",
    "\n",
    "# define the model\n",
    "model = AffinityPropagation(damping=0.6)\n",
    "\n",
    "# train the model\n",
    "model.fit(training_data)\n",
    "\n",
    "# assign each data point to a cluster\n",
    "result = model.predict(training_data)\n",
    "\n",
    "df_clustering_MP_MC_J['cluster'] = result"
   ]
  },
  {
   "cell_type": "markdown",
   "metadata": {},
   "source": [
    "### Feature selection for mobility"
   ]
  },
  {
   "cell_type": "code",
   "execution_count": 76,
   "metadata": {},
   "outputs": [
    {
     "name": "stderr",
     "output_type": "stream",
     "text": [
      "/var/folders/n2/lkxf5xgn5qd0l88pblwqxc6h0000gn/T/ipykernel_3354/3845124504.py:4: DtypeWarning:\n",
      "\n",
      "Columns (4) have mixed types. Specify dtype option on import or set low_memory=False.\n",
      "\n"
     ]
    }
   ],
   "source": [
    "data_folder = 'data_2/'\n",
    "\n",
    "#Download mobility and intervention files\n",
    "google_mobility = pd.read_csv(data_folder+'Global_Mobility_Report.csv.zip')\n",
    "interventions = pd.read_csv(data_folder+'interventions.csv.zip')\n",
    "\n",
    "#Download file with covid pageviews #MODIFY WITH THE NEW DATA\n",
    "file = gzip.open(data_folder+'aggregated_timeseries.json.gz')\n",
    "data = json.load(file)"
   ]
  },
  {
   "cell_type": "code",
   "execution_count": 77,
   "metadata": {},
   "outputs": [
    {
     "data": {
      "text/html": [
       "<div>\n",
       "<style scoped>\n",
       "    .dataframe tbody tr th:only-of-type {\n",
       "        vertical-align: middle;\n",
       "    }\n",
       "\n",
       "    .dataframe tbody tr th {\n",
       "        vertical-align: top;\n",
       "    }\n",
       "\n",
       "    .dataframe thead th {\n",
       "        text-align: right;\n",
       "    }\n",
       "</style>\n",
       "<table border=\"1\" class=\"dataframe\">\n",
       "  <thead>\n",
       "    <tr style=\"text-align: right;\">\n",
       "      <th></th>\n",
       "      <th>country_region_code</th>\n",
       "      <th>country_region</th>\n",
       "      <th>date</th>\n",
       "      <th>Retail and Recreations</th>\n",
       "      <th>Grocery and Pharmacy</th>\n",
       "      <th>Parks</th>\n",
       "      <th>Transit stations</th>\n",
       "      <th>Workplace</th>\n",
       "      <th>Residential</th>\n",
       "    </tr>\n",
       "  </thead>\n",
       "  <tbody>\n",
       "    <tr>\n",
       "      <th>0</th>\n",
       "      <td>AE</td>\n",
       "      <td>United Arab Emirates</td>\n",
       "      <td>2020-02-15</td>\n",
       "      <td>0.0</td>\n",
       "      <td>4.0</td>\n",
       "      <td>5.0</td>\n",
       "      <td>0.0</td>\n",
       "      <td>2.0</td>\n",
       "      <td>1.0</td>\n",
       "    </tr>\n",
       "    <tr>\n",
       "      <th>1</th>\n",
       "      <td>AE</td>\n",
       "      <td>United Arab Emirates</td>\n",
       "      <td>2020-02-16</td>\n",
       "      <td>1.0</td>\n",
       "      <td>4.0</td>\n",
       "      <td>4.0</td>\n",
       "      <td>1.0</td>\n",
       "      <td>2.0</td>\n",
       "      <td>1.0</td>\n",
       "    </tr>\n",
       "    <tr>\n",
       "      <th>2</th>\n",
       "      <td>AE</td>\n",
       "      <td>United Arab Emirates</td>\n",
       "      <td>2020-02-17</td>\n",
       "      <td>-1.0</td>\n",
       "      <td>1.0</td>\n",
       "      <td>5.0</td>\n",
       "      <td>1.0</td>\n",
       "      <td>2.0</td>\n",
       "      <td>1.0</td>\n",
       "    </tr>\n",
       "    <tr>\n",
       "      <th>3</th>\n",
       "      <td>AE</td>\n",
       "      <td>United Arab Emirates</td>\n",
       "      <td>2020-02-18</td>\n",
       "      <td>-2.0</td>\n",
       "      <td>1.0</td>\n",
       "      <td>5.0</td>\n",
       "      <td>0.0</td>\n",
       "      <td>2.0</td>\n",
       "      <td>1.0</td>\n",
       "    </tr>\n",
       "    <tr>\n",
       "      <th>4</th>\n",
       "      <td>AE</td>\n",
       "      <td>United Arab Emirates</td>\n",
       "      <td>2020-02-19</td>\n",
       "      <td>-2.0</td>\n",
       "      <td>0.0</td>\n",
       "      <td>4.0</td>\n",
       "      <td>-1.0</td>\n",
       "      <td>2.0</td>\n",
       "      <td>1.0</td>\n",
       "    </tr>\n",
       "    <tr>\n",
       "      <th>...</th>\n",
       "      <td>...</td>\n",
       "      <td>...</td>\n",
       "      <td>...</td>\n",
       "      <td>...</td>\n",
       "      <td>...</td>\n",
       "      <td>...</td>\n",
       "      <td>...</td>\n",
       "      <td>...</td>\n",
       "      <td>...</td>\n",
       "    </tr>\n",
       "    <tr>\n",
       "      <th>2111390</th>\n",
       "      <td>ZW</td>\n",
       "      <td>Zimbabwe</td>\n",
       "      <td>2020-07-27</td>\n",
       "      <td>NaN</td>\n",
       "      <td>NaN</td>\n",
       "      <td>NaN</td>\n",
       "      <td>NaN</td>\n",
       "      <td>-4.0</td>\n",
       "      <td>NaN</td>\n",
       "    </tr>\n",
       "    <tr>\n",
       "      <th>2111391</th>\n",
       "      <td>ZW</td>\n",
       "      <td>Zimbabwe</td>\n",
       "      <td>2020-07-28</td>\n",
       "      <td>NaN</td>\n",
       "      <td>NaN</td>\n",
       "      <td>NaN</td>\n",
       "      <td>NaN</td>\n",
       "      <td>0.0</td>\n",
       "      <td>NaN</td>\n",
       "    </tr>\n",
       "    <tr>\n",
       "      <th>2111392</th>\n",
       "      <td>ZW</td>\n",
       "      <td>Zimbabwe</td>\n",
       "      <td>2020-07-29</td>\n",
       "      <td>NaN</td>\n",
       "      <td>NaN</td>\n",
       "      <td>NaN</td>\n",
       "      <td>NaN</td>\n",
       "      <td>-18.0</td>\n",
       "      <td>NaN</td>\n",
       "    </tr>\n",
       "    <tr>\n",
       "      <th>2111393</th>\n",
       "      <td>ZW</td>\n",
       "      <td>Zimbabwe</td>\n",
       "      <td>2020-07-30</td>\n",
       "      <td>NaN</td>\n",
       "      <td>NaN</td>\n",
       "      <td>NaN</td>\n",
       "      <td>NaN</td>\n",
       "      <td>-12.0</td>\n",
       "      <td>NaN</td>\n",
       "    </tr>\n",
       "    <tr>\n",
       "      <th>2111394</th>\n",
       "      <td>ZW</td>\n",
       "      <td>Zimbabwe</td>\n",
       "      <td>2020-07-31</td>\n",
       "      <td>NaN</td>\n",
       "      <td>NaN</td>\n",
       "      <td>NaN</td>\n",
       "      <td>NaN</td>\n",
       "      <td>-46.0</td>\n",
       "      <td>NaN</td>\n",
       "    </tr>\n",
       "  </tbody>\n",
       "</table>\n",
       "<p>1824757 rows × 9 columns</p>\n",
       "</div>"
      ],
      "text/plain": [
       "        country_region_code        country_region       date  \\\n",
       "0                        AE  United Arab Emirates 2020-02-15   \n",
       "1                        AE  United Arab Emirates 2020-02-16   \n",
       "2                        AE  United Arab Emirates 2020-02-17   \n",
       "3                        AE  United Arab Emirates 2020-02-18   \n",
       "4                        AE  United Arab Emirates 2020-02-19   \n",
       "...                     ...                   ...        ...   \n",
       "2111390                  ZW              Zimbabwe 2020-07-27   \n",
       "2111391                  ZW              Zimbabwe 2020-07-28   \n",
       "2111392                  ZW              Zimbabwe 2020-07-29   \n",
       "2111393                  ZW              Zimbabwe 2020-07-30   \n",
       "2111394                  ZW              Zimbabwe 2020-07-31   \n",
       "\n",
       "         Retail and Recreations  Grocery and Pharmacy  Parks  \\\n",
       "0                           0.0                   4.0    5.0   \n",
       "1                           1.0                   4.0    4.0   \n",
       "2                          -1.0                   1.0    5.0   \n",
       "3                          -2.0                   1.0    5.0   \n",
       "4                          -2.0                   0.0    4.0   \n",
       "...                         ...                   ...    ...   \n",
       "2111390                     NaN                   NaN    NaN   \n",
       "2111391                     NaN                   NaN    NaN   \n",
       "2111392                     NaN                   NaN    NaN   \n",
       "2111393                     NaN                   NaN    NaN   \n",
       "2111394                     NaN                   NaN    NaN   \n",
       "\n",
       "         Transit stations  Workplace  Residential  \n",
       "0                     0.0        2.0          1.0  \n",
       "1                     1.0        2.0          1.0  \n",
       "2                     1.0        2.0          1.0  \n",
       "3                     0.0        2.0          1.0  \n",
       "4                    -1.0        2.0          1.0  \n",
       "...                   ...        ...          ...  \n",
       "2111390               NaN       -4.0          NaN  \n",
       "2111391               NaN        0.0          NaN  \n",
       "2111392               NaN      -18.0          NaN  \n",
       "2111393               NaN      -12.0          NaN  \n",
       "2111394               NaN      -46.0          NaN  \n",
       "\n",
       "[1824757 rows x 9 columns]"
      ]
     },
     "execution_count": 77,
     "metadata": {},
     "output_type": "execute_result"
    }
   ],
   "source": [
    "#Change name of the columns\n",
    "names = [\"Retail and Recreations\", \"Grocery and Pharmacy\", \"Parks\",\"Transit stations\", \"Workplace\", \"Residential\"]\n",
    "google_mobility = google_mobility.rename(dict(zip(google_mobility.columns[8:],names)), axis = 1)\n",
    "\n",
    "#Transform date string to datetime\n",
    "google_mobility['date'] = pd.to_datetime(google_mobility['date'])\n",
    "\n",
    "#Delete columns about region\n",
    "google_mobility = google_mobility.drop(google_mobility.iloc[:,2:7], axis = 1)\n",
    "\n",
    "#Keep same dates as for corona wikipedia pages\n",
    "google_mobility = google_mobility.loc[(google_mobility['date'] < \"2020-08-01\") & (google_mobility['date'] > \"2020-01-21\")]\n",
    "\n",
    "#Regroup all data per country and per date and take the average\n",
    "mobility = google_mobility.groupby([\"country_region_code\",\"country_region\",\"date\"]).mean()\n",
    "\n",
    "google_mobility"
   ]
  },
  {
   "cell_type": "code",
   "execution_count": 78,
   "metadata": {},
   "outputs": [],
   "source": [
    "# Calculate total mobility \n",
    "\n",
    "google_mobility[\"total mobility average per day\"] = google_mobility[['Retail and Recreations','Grocery and Pharmacy','Parks',\n",
    "     'Transit stations','Workplace' ,'Residential']].mean(axis=1).reset_index(drop=True) \n",
    "     "
   ]
  },
  {
   "cell_type": "code",
   "execution_count": 79,
   "metadata": {},
   "outputs": [
    {
     "data": {
      "text/html": [
       "<div>\n",
       "<style scoped>\n",
       "    .dataframe tbody tr th:only-of-type {\n",
       "        vertical-align: middle;\n",
       "    }\n",
       "\n",
       "    .dataframe tbody tr th {\n",
       "        vertical-align: top;\n",
       "    }\n",
       "\n",
       "    .dataframe thead th {\n",
       "        text-align: right;\n",
       "    }\n",
       "</style>\n",
       "<table border=\"1\" class=\"dataframe\">\n",
       "  <thead>\n",
       "    <tr style=\"text-align: right;\">\n",
       "      <th></th>\n",
       "      <th>country_region_code</th>\n",
       "      <th>country_region</th>\n",
       "      <th>date</th>\n",
       "      <th>Retail and Recreations</th>\n",
       "      <th>Grocery and Pharmacy</th>\n",
       "      <th>Parks</th>\n",
       "      <th>Transit stations</th>\n",
       "      <th>Workplace</th>\n",
       "      <th>Residential</th>\n",
       "      <th>total mobility average per day</th>\n",
       "    </tr>\n",
       "  </thead>\n",
       "  <tbody>\n",
       "    <tr>\n",
       "      <th>0</th>\n",
       "      <td>AE</td>\n",
       "      <td>United Arab Emirates</td>\n",
       "      <td>2020-02-15</td>\n",
       "      <td>0.0</td>\n",
       "      <td>4.0</td>\n",
       "      <td>5.0</td>\n",
       "      <td>0.0</td>\n",
       "      <td>2.0</td>\n",
       "      <td>1.0</td>\n",
       "      <td>2.000000</td>\n",
       "    </tr>\n",
       "    <tr>\n",
       "      <th>1</th>\n",
       "      <td>AE</td>\n",
       "      <td>United Arab Emirates</td>\n",
       "      <td>2020-02-16</td>\n",
       "      <td>1.0</td>\n",
       "      <td>4.0</td>\n",
       "      <td>4.0</td>\n",
       "      <td>1.0</td>\n",
       "      <td>2.0</td>\n",
       "      <td>1.0</td>\n",
       "      <td>2.166667</td>\n",
       "    </tr>\n",
       "    <tr>\n",
       "      <th>2</th>\n",
       "      <td>AE</td>\n",
       "      <td>United Arab Emirates</td>\n",
       "      <td>2020-02-17</td>\n",
       "      <td>-1.0</td>\n",
       "      <td>1.0</td>\n",
       "      <td>5.0</td>\n",
       "      <td>1.0</td>\n",
       "      <td>2.0</td>\n",
       "      <td>1.0</td>\n",
       "      <td>1.500000</td>\n",
       "    </tr>\n",
       "    <tr>\n",
       "      <th>3</th>\n",
       "      <td>AE</td>\n",
       "      <td>United Arab Emirates</td>\n",
       "      <td>2020-02-18</td>\n",
       "      <td>-2.0</td>\n",
       "      <td>1.0</td>\n",
       "      <td>5.0</td>\n",
       "      <td>0.0</td>\n",
       "      <td>2.0</td>\n",
       "      <td>1.0</td>\n",
       "      <td>1.166667</td>\n",
       "    </tr>\n",
       "    <tr>\n",
       "      <th>4</th>\n",
       "      <td>AE</td>\n",
       "      <td>United Arab Emirates</td>\n",
       "      <td>2020-02-19</td>\n",
       "      <td>-2.0</td>\n",
       "      <td>0.0</td>\n",
       "      <td>4.0</td>\n",
       "      <td>-1.0</td>\n",
       "      <td>2.0</td>\n",
       "      <td>1.0</td>\n",
       "      <td>0.666667</td>\n",
       "    </tr>\n",
       "    <tr>\n",
       "      <th>5</th>\n",
       "      <td>AE</td>\n",
       "      <td>United Arab Emirates</td>\n",
       "      <td>2020-02-20</td>\n",
       "      <td>-2.0</td>\n",
       "      <td>1.0</td>\n",
       "      <td>6.0</td>\n",
       "      <td>1.0</td>\n",
       "      <td>1.0</td>\n",
       "      <td>1.0</td>\n",
       "      <td>1.333333</td>\n",
       "    </tr>\n",
       "    <tr>\n",
       "      <th>6</th>\n",
       "      <td>AE</td>\n",
       "      <td>United Arab Emirates</td>\n",
       "      <td>2020-02-21</td>\n",
       "      <td>-3.0</td>\n",
       "      <td>2.0</td>\n",
       "      <td>6.0</td>\n",
       "      <td>0.0</td>\n",
       "      <td>-1.0</td>\n",
       "      <td>1.0</td>\n",
       "      <td>0.833333</td>\n",
       "    </tr>\n",
       "    <tr>\n",
       "      <th>7</th>\n",
       "      <td>AE</td>\n",
       "      <td>United Arab Emirates</td>\n",
       "      <td>2020-02-22</td>\n",
       "      <td>-2.0</td>\n",
       "      <td>2.0</td>\n",
       "      <td>4.0</td>\n",
       "      <td>-2.0</td>\n",
       "      <td>3.0</td>\n",
       "      <td>1.0</td>\n",
       "      <td>1.000000</td>\n",
       "    </tr>\n",
       "    <tr>\n",
       "      <th>8</th>\n",
       "      <td>AE</td>\n",
       "      <td>United Arab Emirates</td>\n",
       "      <td>2020-02-23</td>\n",
       "      <td>-1.0</td>\n",
       "      <td>3.0</td>\n",
       "      <td>3.0</td>\n",
       "      <td>-1.0</td>\n",
       "      <td>4.0</td>\n",
       "      <td>1.0</td>\n",
       "      <td>1.500000</td>\n",
       "    </tr>\n",
       "    <tr>\n",
       "      <th>9</th>\n",
       "      <td>AE</td>\n",
       "      <td>United Arab Emirates</td>\n",
       "      <td>2020-02-24</td>\n",
       "      <td>-3.0</td>\n",
       "      <td>0.0</td>\n",
       "      <td>5.0</td>\n",
       "      <td>-1.0</td>\n",
       "      <td>3.0</td>\n",
       "      <td>1.0</td>\n",
       "      <td>0.833333</td>\n",
       "    </tr>\n",
       "    <tr>\n",
       "      <th>10</th>\n",
       "      <td>AE</td>\n",
       "      <td>United Arab Emirates</td>\n",
       "      <td>2020-02-25</td>\n",
       "      <td>-3.0</td>\n",
       "      <td>2.0</td>\n",
       "      <td>3.0</td>\n",
       "      <td>-2.0</td>\n",
       "      <td>3.0</td>\n",
       "      <td>1.0</td>\n",
       "      <td>0.666667</td>\n",
       "    </tr>\n",
       "    <tr>\n",
       "      <th>11</th>\n",
       "      <td>AE</td>\n",
       "      <td>United Arab Emirates</td>\n",
       "      <td>2020-02-26</td>\n",
       "      <td>-2.0</td>\n",
       "      <td>1.0</td>\n",
       "      <td>-3.0</td>\n",
       "      <td>-2.0</td>\n",
       "      <td>3.0</td>\n",
       "      <td>1.0</td>\n",
       "      <td>-0.333333</td>\n",
       "    </tr>\n",
       "    <tr>\n",
       "      <th>12</th>\n",
       "      <td>AE</td>\n",
       "      <td>United Arab Emirates</td>\n",
       "      <td>2020-02-27</td>\n",
       "      <td>1.0</td>\n",
       "      <td>5.0</td>\n",
       "      <td>-1.0</td>\n",
       "      <td>-1.0</td>\n",
       "      <td>3.0</td>\n",
       "      <td>1.0</td>\n",
       "      <td>1.333333</td>\n",
       "    </tr>\n",
       "    <tr>\n",
       "      <th>13</th>\n",
       "      <td>AE</td>\n",
       "      <td>United Arab Emirates</td>\n",
       "      <td>2020-02-28</td>\n",
       "      <td>1.0</td>\n",
       "      <td>5.0</td>\n",
       "      <td>-1.0</td>\n",
       "      <td>-1.0</td>\n",
       "      <td>1.0</td>\n",
       "      <td>1.0</td>\n",
       "      <td>1.000000</td>\n",
       "    </tr>\n",
       "    <tr>\n",
       "      <th>14</th>\n",
       "      <td>AE</td>\n",
       "      <td>United Arab Emirates</td>\n",
       "      <td>2020-02-29</td>\n",
       "      <td>2.0</td>\n",
       "      <td>7.0</td>\n",
       "      <td>-1.0</td>\n",
       "      <td>-1.0</td>\n",
       "      <td>5.0</td>\n",
       "      <td>0.0</td>\n",
       "      <td>2.000000</td>\n",
       "    </tr>\n",
       "    <tr>\n",
       "      <th>15</th>\n",
       "      <td>AE</td>\n",
       "      <td>United Arab Emirates</td>\n",
       "      <td>2020-03-01</td>\n",
       "      <td>3.0</td>\n",
       "      <td>10.0</td>\n",
       "      <td>2.0</td>\n",
       "      <td>-1.0</td>\n",
       "      <td>4.0</td>\n",
       "      <td>1.0</td>\n",
       "      <td>3.166667</td>\n",
       "    </tr>\n",
       "    <tr>\n",
       "      <th>16</th>\n",
       "      <td>AE</td>\n",
       "      <td>United Arab Emirates</td>\n",
       "      <td>2020-03-02</td>\n",
       "      <td>0.0</td>\n",
       "      <td>7.0</td>\n",
       "      <td>1.0</td>\n",
       "      <td>-2.0</td>\n",
       "      <td>4.0</td>\n",
       "      <td>1.0</td>\n",
       "      <td>1.833333</td>\n",
       "    </tr>\n",
       "    <tr>\n",
       "      <th>17</th>\n",
       "      <td>AE</td>\n",
       "      <td>United Arab Emirates</td>\n",
       "      <td>2020-03-03</td>\n",
       "      <td>0.0</td>\n",
       "      <td>6.0</td>\n",
       "      <td>0.0</td>\n",
       "      <td>-5.0</td>\n",
       "      <td>4.0</td>\n",
       "      <td>1.0</td>\n",
       "      <td>1.000000</td>\n",
       "    </tr>\n",
       "    <tr>\n",
       "      <th>18</th>\n",
       "      <td>AE</td>\n",
       "      <td>United Arab Emirates</td>\n",
       "      <td>2020-03-04</td>\n",
       "      <td>-1.0</td>\n",
       "      <td>7.0</td>\n",
       "      <td>-2.0</td>\n",
       "      <td>-5.0</td>\n",
       "      <td>3.0</td>\n",
       "      <td>2.0</td>\n",
       "      <td>0.666667</td>\n",
       "    </tr>\n",
       "    <tr>\n",
       "      <th>19</th>\n",
       "      <td>AE</td>\n",
       "      <td>United Arab Emirates</td>\n",
       "      <td>2020-03-05</td>\n",
       "      <td>-3.0</td>\n",
       "      <td>6.0</td>\n",
       "      <td>-2.0</td>\n",
       "      <td>-5.0</td>\n",
       "      <td>3.0</td>\n",
       "      <td>2.0</td>\n",
       "      <td>0.166667</td>\n",
       "    </tr>\n",
       "    <tr>\n",
       "      <th>20</th>\n",
       "      <td>AE</td>\n",
       "      <td>United Arab Emirates</td>\n",
       "      <td>2020-03-06</td>\n",
       "      <td>-7.0</td>\n",
       "      <td>5.0</td>\n",
       "      <td>-8.0</td>\n",
       "      <td>-9.0</td>\n",
       "      <td>0.0</td>\n",
       "      <td>3.0</td>\n",
       "      <td>-2.666667</td>\n",
       "    </tr>\n",
       "    <tr>\n",
       "      <th>21</th>\n",
       "      <td>AE</td>\n",
       "      <td>United Arab Emirates</td>\n",
       "      <td>2020-03-07</td>\n",
       "      <td>-3.0</td>\n",
       "      <td>6.0</td>\n",
       "      <td>1.0</td>\n",
       "      <td>-8.0</td>\n",
       "      <td>4.0</td>\n",
       "      <td>2.0</td>\n",
       "      <td>0.333333</td>\n",
       "    </tr>\n",
       "    <tr>\n",
       "      <th>22</th>\n",
       "      <td>AE</td>\n",
       "      <td>United Arab Emirates</td>\n",
       "      <td>2020-03-08</td>\n",
       "      <td>1.0</td>\n",
       "      <td>8.0</td>\n",
       "      <td>6.0</td>\n",
       "      <td>-9.0</td>\n",
       "      <td>-1.0</td>\n",
       "      <td>3.0</td>\n",
       "      <td>1.333333</td>\n",
       "    </tr>\n",
       "    <tr>\n",
       "      <th>23</th>\n",
       "      <td>AE</td>\n",
       "      <td>United Arab Emirates</td>\n",
       "      <td>2020-03-09</td>\n",
       "      <td>-3.0</td>\n",
       "      <td>4.0</td>\n",
       "      <td>4.0</td>\n",
       "      <td>-10.0</td>\n",
       "      <td>-1.0</td>\n",
       "      <td>4.0</td>\n",
       "      <td>-0.333333</td>\n",
       "    </tr>\n",
       "    <tr>\n",
       "      <th>24</th>\n",
       "      <td>AE</td>\n",
       "      <td>United Arab Emirates</td>\n",
       "      <td>2020-03-10</td>\n",
       "      <td>-4.0</td>\n",
       "      <td>6.0</td>\n",
       "      <td>3.0</td>\n",
       "      <td>-11.0</td>\n",
       "      <td>-2.0</td>\n",
       "      <td>4.0</td>\n",
       "      <td>-0.666667</td>\n",
       "    </tr>\n",
       "    <tr>\n",
       "      <th>25</th>\n",
       "      <td>AE</td>\n",
       "      <td>United Arab Emirates</td>\n",
       "      <td>2020-03-11</td>\n",
       "      <td>-4.0</td>\n",
       "      <td>5.0</td>\n",
       "      <td>0.0</td>\n",
       "      <td>-12.0</td>\n",
       "      <td>-2.0</td>\n",
       "      <td>4.0</td>\n",
       "      <td>-1.500000</td>\n",
       "    </tr>\n",
       "    <tr>\n",
       "      <th>26</th>\n",
       "      <td>AE</td>\n",
       "      <td>United Arab Emirates</td>\n",
       "      <td>2020-03-12</td>\n",
       "      <td>-8.0</td>\n",
       "      <td>6.0</td>\n",
       "      <td>-6.0</td>\n",
       "      <td>-15.0</td>\n",
       "      <td>-3.0</td>\n",
       "      <td>5.0</td>\n",
       "      <td>-3.500000</td>\n",
       "    </tr>\n",
       "    <tr>\n",
       "      <th>27</th>\n",
       "      <td>AE</td>\n",
       "      <td>United Arab Emirates</td>\n",
       "      <td>2020-03-13</td>\n",
       "      <td>-16.0</td>\n",
       "      <td>3.0</td>\n",
       "      <td>-15.0</td>\n",
       "      <td>-20.0</td>\n",
       "      <td>-2.0</td>\n",
       "      <td>5.0</td>\n",
       "      <td>-7.500000</td>\n",
       "    </tr>\n",
       "    <tr>\n",
       "      <th>28</th>\n",
       "      <td>AE</td>\n",
       "      <td>United Arab Emirates</td>\n",
       "      <td>2020-03-14</td>\n",
       "      <td>-12.0</td>\n",
       "      <td>4.0</td>\n",
       "      <td>-12.0</td>\n",
       "      <td>-17.0</td>\n",
       "      <td>2.0</td>\n",
       "      <td>4.0</td>\n",
       "      <td>-5.166667</td>\n",
       "    </tr>\n",
       "    <tr>\n",
       "      <th>29</th>\n",
       "      <td>AE</td>\n",
       "      <td>United Arab Emirates</td>\n",
       "      <td>2020-03-15</td>\n",
       "      <td>-6.0</td>\n",
       "      <td>11.0</td>\n",
       "      <td>-11.0</td>\n",
       "      <td>-15.0</td>\n",
       "      <td>-4.0</td>\n",
       "      <td>5.0</td>\n",
       "      <td>-3.333333</td>\n",
       "    </tr>\n",
       "  </tbody>\n",
       "</table>\n",
       "</div>"
      ],
      "text/plain": [
       "   country_region_code        country_region       date  \\\n",
       "0                   AE  United Arab Emirates 2020-02-15   \n",
       "1                   AE  United Arab Emirates 2020-02-16   \n",
       "2                   AE  United Arab Emirates 2020-02-17   \n",
       "3                   AE  United Arab Emirates 2020-02-18   \n",
       "4                   AE  United Arab Emirates 2020-02-19   \n",
       "5                   AE  United Arab Emirates 2020-02-20   \n",
       "6                   AE  United Arab Emirates 2020-02-21   \n",
       "7                   AE  United Arab Emirates 2020-02-22   \n",
       "8                   AE  United Arab Emirates 2020-02-23   \n",
       "9                   AE  United Arab Emirates 2020-02-24   \n",
       "10                  AE  United Arab Emirates 2020-02-25   \n",
       "11                  AE  United Arab Emirates 2020-02-26   \n",
       "12                  AE  United Arab Emirates 2020-02-27   \n",
       "13                  AE  United Arab Emirates 2020-02-28   \n",
       "14                  AE  United Arab Emirates 2020-02-29   \n",
       "15                  AE  United Arab Emirates 2020-03-01   \n",
       "16                  AE  United Arab Emirates 2020-03-02   \n",
       "17                  AE  United Arab Emirates 2020-03-03   \n",
       "18                  AE  United Arab Emirates 2020-03-04   \n",
       "19                  AE  United Arab Emirates 2020-03-05   \n",
       "20                  AE  United Arab Emirates 2020-03-06   \n",
       "21                  AE  United Arab Emirates 2020-03-07   \n",
       "22                  AE  United Arab Emirates 2020-03-08   \n",
       "23                  AE  United Arab Emirates 2020-03-09   \n",
       "24                  AE  United Arab Emirates 2020-03-10   \n",
       "25                  AE  United Arab Emirates 2020-03-11   \n",
       "26                  AE  United Arab Emirates 2020-03-12   \n",
       "27                  AE  United Arab Emirates 2020-03-13   \n",
       "28                  AE  United Arab Emirates 2020-03-14   \n",
       "29                  AE  United Arab Emirates 2020-03-15   \n",
       "\n",
       "    Retail and Recreations  Grocery and Pharmacy  Parks  Transit stations  \\\n",
       "0                      0.0                   4.0    5.0               0.0   \n",
       "1                      1.0                   4.0    4.0               1.0   \n",
       "2                     -1.0                   1.0    5.0               1.0   \n",
       "3                     -2.0                   1.0    5.0               0.0   \n",
       "4                     -2.0                   0.0    4.0              -1.0   \n",
       "5                     -2.0                   1.0    6.0               1.0   \n",
       "6                     -3.0                   2.0    6.0               0.0   \n",
       "7                     -2.0                   2.0    4.0              -2.0   \n",
       "8                     -1.0                   3.0    3.0              -1.0   \n",
       "9                     -3.0                   0.0    5.0              -1.0   \n",
       "10                    -3.0                   2.0    3.0              -2.0   \n",
       "11                    -2.0                   1.0   -3.0              -2.0   \n",
       "12                     1.0                   5.0   -1.0              -1.0   \n",
       "13                     1.0                   5.0   -1.0              -1.0   \n",
       "14                     2.0                   7.0   -1.0              -1.0   \n",
       "15                     3.0                  10.0    2.0              -1.0   \n",
       "16                     0.0                   7.0    1.0              -2.0   \n",
       "17                     0.0                   6.0    0.0              -5.0   \n",
       "18                    -1.0                   7.0   -2.0              -5.0   \n",
       "19                    -3.0                   6.0   -2.0              -5.0   \n",
       "20                    -7.0                   5.0   -8.0              -9.0   \n",
       "21                    -3.0                   6.0    1.0              -8.0   \n",
       "22                     1.0                   8.0    6.0              -9.0   \n",
       "23                    -3.0                   4.0    4.0             -10.0   \n",
       "24                    -4.0                   6.0    3.0             -11.0   \n",
       "25                    -4.0                   5.0    0.0             -12.0   \n",
       "26                    -8.0                   6.0   -6.0             -15.0   \n",
       "27                   -16.0                   3.0  -15.0             -20.0   \n",
       "28                   -12.0                   4.0  -12.0             -17.0   \n",
       "29                    -6.0                  11.0  -11.0             -15.0   \n",
       "\n",
       "    Workplace  Residential  total mobility average per day  \n",
       "0         2.0          1.0                        2.000000  \n",
       "1         2.0          1.0                        2.166667  \n",
       "2         2.0          1.0                        1.500000  \n",
       "3         2.0          1.0                        1.166667  \n",
       "4         2.0          1.0                        0.666667  \n",
       "5         1.0          1.0                        1.333333  \n",
       "6        -1.0          1.0                        0.833333  \n",
       "7         3.0          1.0                        1.000000  \n",
       "8         4.0          1.0                        1.500000  \n",
       "9         3.0          1.0                        0.833333  \n",
       "10        3.0          1.0                        0.666667  \n",
       "11        3.0          1.0                       -0.333333  \n",
       "12        3.0          1.0                        1.333333  \n",
       "13        1.0          1.0                        1.000000  \n",
       "14        5.0          0.0                        2.000000  \n",
       "15        4.0          1.0                        3.166667  \n",
       "16        4.0          1.0                        1.833333  \n",
       "17        4.0          1.0                        1.000000  \n",
       "18        3.0          2.0                        0.666667  \n",
       "19        3.0          2.0                        0.166667  \n",
       "20        0.0          3.0                       -2.666667  \n",
       "21        4.0          2.0                        0.333333  \n",
       "22       -1.0          3.0                        1.333333  \n",
       "23       -1.0          4.0                       -0.333333  \n",
       "24       -2.0          4.0                       -0.666667  \n",
       "25       -2.0          4.0                       -1.500000  \n",
       "26       -3.0          5.0                       -3.500000  \n",
       "27       -2.0          5.0                       -7.500000  \n",
       "28        2.0          4.0                       -5.166667  \n",
       "29       -4.0          5.0                       -3.333333  "
      ]
     },
     "execution_count": 79,
     "metadata": {},
     "output_type": "execute_result"
    }
   ],
   "source": [
    "google_mobility.head(30)"
   ]
  },
  {
   "cell_type": "code",
   "execution_count": 80,
   "metadata": {},
   "outputs": [],
   "source": [
    "mean_mobility = google_mobility.groupby('country_region')[\"total mobility average per day\"].mean()"
   ]
  },
  {
   "cell_type": "code",
   "execution_count": 81,
   "metadata": {},
   "outputs": [
    {
     "data": {
      "text/plain": [
       "country_region\n",
       "Afghanistan              -23.758401\n",
       "Angola                   -23.212230\n",
       "Antigua and Barbuda      -28.419296\n",
       "Argentina                -29.509541\n",
       "Aruba                    -28.092262\n",
       "Australia                -13.738029\n",
       "Austria                  -13.063883\n",
       "Bahrain                  -29.785714\n",
       "Bangladesh               -18.721726\n",
       "Barbados                 -12.212191\n",
       "Belarus                  -29.995437\n",
       "Belgium                  -21.882320\n",
       "Belize                   -42.369140\n",
       "Benin                    -25.903176\n",
       "Bolivia                  -23.371249\n",
       "Bosnia and Herzegovina   -10.145833\n",
       "Botswana                 -44.586457\n",
       "Brazil                   -16.548082\n",
       "Bulgaria                 -26.893113\n",
       "Burkina Faso             -39.952467\n",
       "Cambodia                 -23.542590\n",
       "Cameroon                 -39.611957\n",
       "Canada                   -30.047731\n",
       "Cape Verde               -14.675433\n",
       "Chile                    -25.688970\n",
       "Colombia                 -20.393585\n",
       "Costa Rica                -5.250992\n",
       "Croatia                  -17.987185\n",
       "Czechia                  -23.029319\n",
       "Côte d'Ivoire             -7.281480\n",
       "Denmark                  -18.814684\n",
       "Dominican Republic       -18.539045\n",
       "Ecuador                  -19.017025\n",
       "Egypt                    -20.176055\n",
       "El Salvador              -11.761911\n",
       "Estonia                  -18.456795\n",
       "Fiji                     -10.054563\n",
       "Finland                  -26.350612\n",
       "France                   -15.990154\n",
       "Gabon                    -25.544338\n",
       "Georgia                   -2.789295\n",
       "Germany                  -20.845804\n",
       "Ghana                     -4.343452\n",
       "Greece                   -13.955791\n",
       "Guatemala                -12.969720\n",
       "Guinea-Bissau            -13.327976\n",
       "Haiti                    -13.382078\n",
       "Honduras                 -16.476193\n",
       "Hong Kong                -15.003968\n",
       "Hungary                  -17.599509\n",
       "India                    -16.610157\n",
       "Indonesia                -11.954646\n",
       "Iraq                     -23.863790\n",
       "Ireland                  -10.860430\n",
       "Israel                   -13.064638\n",
       "Italy                    -19.391867\n",
       "Jamaica                  -15.620139\n",
       "Japan                    -17.487915\n",
       "Jordan                   -15.260240\n",
       "Kazakhstan               -31.391865\n",
       "Name: total mobility average per day, dtype: float64"
      ]
     },
     "execution_count": 81,
     "metadata": {},
     "output_type": "execute_result"
    }
   ],
   "source": [
    "mean_mobility.head(60)"
   ]
  },
  {
   "cell_type": "code",
   "execution_count": 82,
   "metadata": {},
   "outputs": [
    {
     "name": "stdout",
     "output_type": "stream",
     "text": [
      "Italy\n",
      "Russia\n",
      "China\n",
      "Albania\n",
      "Bangladesh\n",
      "Botswana\n",
      "Cambodia\n",
      "Croatia\n",
      "Greece\n",
      "Sweden\n",
      "Finland\n",
      "Norway\n",
      "Malaysia\n",
      "Israel\n",
      "Lithuania\n",
      "Serbia\n",
      "Slovakia\n",
      "Slovenia\n",
      "Turkey\n",
      "Vietnam\n",
      "Bulgaria\n",
      "Czechia\n",
      "Denmark\n",
      "Georgia\n",
      "Germany\n",
      "Hungary\n",
      "Iceland\n",
      "Japan\n",
      "Kazakhstan\n",
      "South Korea\n",
      "Kyrgyzstan\n",
      "Netherlands\n",
      "Poland\n",
      "Romania\n",
      "Tajikistan\n",
      "Thailand\n",
      "Azerbaijan\n",
      "Mongolia\n"
     ]
    },
    {
     "data": {
      "text/html": [
       "<div>\n",
       "<style scoped>\n",
       "    .dataframe tbody tr th:only-of-type {\n",
       "        vertical-align: middle;\n",
       "    }\n",
       "\n",
       "    .dataframe tbody tr th {\n",
       "        vertical-align: top;\n",
       "    }\n",
       "\n",
       "    .dataframe thead th {\n",
       "        text-align: right;\n",
       "    }\n",
       "</style>\n",
       "<table border=\"1\" class=\"dataframe\">\n",
       "  <thead>\n",
       "    <tr style=\"text-align: right;\">\n",
       "      <th></th>\n",
       "      <th>mobility</th>\n",
       "      <th>Italy</th>\n",
       "      <th>Russia</th>\n",
       "      <th>Bangladesh</th>\n",
       "      <th>Botswana</th>\n",
       "      <th>Cambodia</th>\n",
       "      <th>Croatia</th>\n",
       "      <th>Greece</th>\n",
       "      <th>Sweden</th>\n",
       "      <th>Finland</th>\n",
       "      <th>...</th>\n",
       "      <th>Japan</th>\n",
       "      <th>Kazakhstan</th>\n",
       "      <th>South Korea</th>\n",
       "      <th>Kyrgyzstan</th>\n",
       "      <th>Netherlands</th>\n",
       "      <th>Poland</th>\n",
       "      <th>Romania</th>\n",
       "      <th>Tajikistan</th>\n",
       "      <th>Thailand</th>\n",
       "      <th>Mongolia</th>\n",
       "    </tr>\n",
       "  </thead>\n",
       "  <tbody>\n",
       "    <tr>\n",
       "      <th>0</th>\n",
       "      <td>mean mobility:</td>\n",
       "      <td>-19.391867</td>\n",
       "      <td>-8.751243</td>\n",
       "      <td>-18.721726</td>\n",
       "      <td>-44.586457</td>\n",
       "      <td>-23.54259</td>\n",
       "      <td>-17.987185</td>\n",
       "      <td>-13.955791</td>\n",
       "      <td>-11.431941</td>\n",
       "      <td>-26.350612</td>\n",
       "      <td>...</td>\n",
       "      <td>-17.487915</td>\n",
       "      <td>-31.391865</td>\n",
       "      <td>-25.472718</td>\n",
       "      <td>-24.463678</td>\n",
       "      <td>-17.268463</td>\n",
       "      <td>-20.110294</td>\n",
       "      <td>-12.062076</td>\n",
       "      <td>-12.084921</td>\n",
       "      <td>-1.225794</td>\n",
       "      <td>-44.971415</td>\n",
       "    </tr>\n",
       "  </tbody>\n",
       "</table>\n",
       "<p>1 rows × 35 columns</p>\n",
       "</div>"
      ],
      "text/plain": [
       "         mobility      Italy    Russia  Bangladesh   Botswana  Cambodia  \\\n",
       "0  mean mobility: -19.391867 -8.751243  -18.721726 -44.586457 -23.54259   \n",
       "\n",
       "     Croatia     Greece     Sweden    Finland  ...      Japan  Kazakhstan  \\\n",
       "0 -17.987185 -13.955791 -11.431941 -26.350612  ... -17.487915  -31.391865   \n",
       "\n",
       "   South Korea  Kyrgyzstan  Netherlands     Poland    Romania  Tajikistan  \\\n",
       "0   -25.472718  -24.463678   -17.268463 -20.110294 -12.062076  -12.084921   \n",
       "\n",
       "   Thailand   Mongolia  \n",
       "0 -1.225794 -44.971415  \n",
       "\n",
       "[1 rows x 35 columns]"
      ]
     },
     "execution_count": 82,
     "metadata": {},
     "output_type": "execute_result"
    }
   ],
   "source": [
    "# Plot moblity for the 40 countries \n",
    "mobility_countries= pd.DataFrame({\"mobility\":[\"mean mobility:\"]})\n",
    "for country in country_dict.items():\n",
    "    print(str(country[0]))\n",
    "    if str(country[0])== 'China' or str(country[0])== 'Albania' or str(country[0])== 'Iceland' or str(country[0])== 'Azerbaijan':\n",
    "        pass\n",
    "    else:\n",
    "        output_df = pd.DataFrame({str(country[0]):[mean_mobility[str(country[0])]] })\n",
    "        mobility_countries = pd.concat([mobility_countries, output_df], axis=1)\n",
    "mobility_countries"
   ]
  },
  {
   "cell_type": "code",
   "execution_count": 83,
   "metadata": {},
   "outputs": [
    {
     "data": {
      "image/png": "[encoded data removed]",
      "text/plain": [
       "<Figure size 4000x1000 with 1 Axes>"
      ]
     },
     "metadata": {},
     "output_type": "display_data"
    }
   ],
   "source": [
    "# x = []\n",
    "# y = []\n",
    "# for column in mobility_countries:\n",
    "#     x.append(mobility_countries[column].values)\n",
    "#     y.append(column)\n",
    "\n",
    "mobility_countriesT = mobility_countries.transpose()\n",
    "mobility_countriesT = mobility_countriesT.drop(index= \"mobility\", axis=0)\n",
    "mobility_countriesT = mobility_countriesT.rename(columns= {0: 'mean mobility:'})\n",
    "# create a new figure\n",
    "plt.figure(figsize=(40, 10))\n",
    "\n",
    "# use the scatter() function to plot the points,\n",
    "# with red circles of size 10\n",
    "plt.bar(mobility_countriesT.index.values, mobility_countriesT['mean mobility:'].values, color=\"red\")\n",
    "\n",
    "# add a title\n",
    "plt.title(\"Bar Plot of mean mobility per country\")\n",
    "\n",
    "# add x and y axis labels\n",
    "plt.xlabel(\"Countries\")\n",
    "plt.ylabel(\"Mean mobility)\")\n",
    "\n",
    "# show the plot\n",
    "plt.show()"
   ]
  },
  {
   "cell_type": "code",
   "execution_count": null,
   "metadata": {},
   "outputs": [],
   "source": []
  }
 ],
 "metadata": {
  "kernelspec": {
   "display_name": "Python 3.9.7 64-bit",
   "language": "python",
   "name": "python3"
  },
  "language_info": {
   "codemirror_mode": {
    "name": "ipython",
    "version": 3
   },
   "file_extension": ".py",
   "mimetype": "text/x-python",
   "name": "python",
   "nbconvert_exporter": "python",
   "pygments_lexer": "ipython3",
   "version": "3.9.7"
  },
  "orig_nbformat": 4,
  "vscode": {
   "interpreter": {
    "hash": "aee8b7b246df8f9039afb4144a1f6fd8d2ca17a180786b69acc140d282b71a49"
   }
  }
 },
 "nbformat": 4,
 "nbformat_minor": 2
}
