{
 "cells": [
  {
   "cell_type": "markdown",
   "metadata": {},
   "source": []
  },
  {
   "cell_type": "markdown",
   "metadata": {},
   "source": []
  },
  {
   "cell_type": "markdown",
   "metadata": {},
   "source": []
  },
  {
   "cell_type": "code",
   "execution_count": null,
   "metadata": {},
   "outputs": [],
   "source": [
    "import pandas as pd\n",
    "import numpy as np\n",
    "import matplotlib.pyplot as plt\n",
    "import seaborn as sn\n",
    "from scipy import stats\n",
    "from helper import *\n",
    "from scipy.stats.mstats import gmean\n",
    "#Importation of all the packages\n",
    "from datetime import datetime\n",
    "import math\n",
    "import json\n",
    "import zipfile  \n",
    "import ssl\n",
    "from scipy import stats\n",
    "\n",
    "#To dowload data\n",
    "import requests\n",
    "import io\n",
    "import gzip\n",
    "\n",
    "#To create the mapchart\n",
    "import iso3166\n",
    "import plotly\n",
    "from iso3166 import countries\n",
    "import plotly.graph_objects as go"
   ]
  },
  {
   "cell_type": "code",
   "execution_count": null,
   "metadata": {},
   "outputs": [],
   "source": [
    "pageview_df = pd.read_csv(\"page_views_covid_related.csv.gz\")\n",
    "pageview_df_imp_country = pageview_df[[\"date\"] + list(get_country_dict().values())].set_index('date')\n",
    "pageview_df_imp_country.head()\n",
    "country_dict = get_country_dict()"
   ]
  },
  {
   "cell_type": "code",
   "execution_count": null,
   "metadata": {},
   "outputs": [],
   "source": [
    "#Normalisation different Mean/Max;Min; Correlation pageviews avec covid cases\n",
    "\n",
    "#Population per country\n",
    "#Population per languages\n"
   ]
  },
  {
   "cell_type": "code",
   "execution_count": null,
   "metadata": {},
   "outputs": [],
   "source": [
    "ssl._create_default_https_context = ssl._create_unverified_context\n",
    "death_url = \"https://github.com/owid/covid-19-data/blob/master/public/data/jhu/new_deaths.csv?raw=true\" # Make sure the url is the raw version of the file on GitHub\n",
    "cases_url = \"https://github.com/owid/covid-19-data/blob/master/public/data/jhu/new_cases.csv?raw=true\"\n",
    "\n",
    "# Reading the downloaded content and turning it into a pandas dataframe\n",
    "deaths = pd.read_csv(death_url,index_col=0)\n",
    "cases = pd.read_csv(cases_url,index_col=0)\n",
    "deaths= deaths.interpolate(method ='linear', limit_direction ='forward') \n",
    "cases = cases.interpolate(method ='linear', limit_direction ='forward') \n",
    "deaths = deaths.fillna(0)\n",
    "cases = cases.fillna(0)\n",
    "#Keep only values until July\n",
    "deaths = deaths[deaths.index < '2020-08-31']\n",
    "cases = cases[cases.index < '2020-08-31']\n"
   ]
  },
  {
   "cell_type": "code",
   "execution_count": null,
   "metadata": {},
   "outputs": [],
   "source": [
    "df_pageviews_pearson = pageview_df_imp_country.loc[pageview_df_imp_country.index < '2020-08-31']\n",
    "df_pageviews_pearson = df_pageviews_pearson.loc[df_pageviews_pearson.index >= '2020-01-22']\n",
    "df_pageviews_pearson = df_pageviews_pearson.interpolate(method ='linear', limit_direction ='forward') \n",
    "df_pageviews_pearson = df_pageviews_pearson.fillna(0)"
   ]
  },
  {
   "cell_type": "code",
   "execution_count": null,
   "metadata": {},
   "outputs": [],
   "source": [
    "pearson_deaths = pd.DataFrame({\"Pearson correlation\":[\"Correlation coefficient:\",\"P-value:\"]})\n",
    "\n",
    "for country in country_dict.items():\n",
    "    corr, p_value = stats.pearsonr(df_pageviews_pearson[country[1]], deaths[country[0]])\n",
    "    output_df = pd.DataFrame({str(country[0]):[corr, p_value] })\n",
    "    pearson_deaths = pd.concat([pearson_deaths, output_df], axis=1)\n",
    "pearson_deaths"
   ]
  },
  {
   "cell_type": "code",
   "execution_count": null,
   "metadata": {},
   "outputs": [],
   "source": [
    "pearson_cases = pd.DataFrame({\"Pearson correlation\":[\"Correlation coefficient:\",\"P-value:\"]})\n",
    "\n",
    "for country in country_dict.items():\n",
    "    corr, p_value = stats.pearsonr(df_pageviews_pearson[country[1]], cases[country[0]])\n",
    "    output_df = pd.DataFrame({str(country[0]):[corr, p_value] })\n",
    "    pearson_cases = pd.concat([pearson_cases, output_df], axis=1)\n",
    "pearson_cases"
   ]
  },
  {
   "cell_type": "code",
   "execution_count": null,
   "metadata": {},
   "outputs": [],
   "source": [
    "# create a new figure\n",
    "plt.figure()\n",
    "\n",
    "# use the scatter() function to plot the points,\n",
    "# with red circles of size 10\n",
    "plt.scatter(pearson_deaths.loc[1][1:], pearson_deaths.loc[0][1:], color=\"red\", s=10)\n",
    "\n",
    "# add a title\n",
    "plt.title(\"Scatter Plot pearson death and pageviews\")\n",
    "\n",
    "# add x and y axis labels\n",
    "plt.xlabel(\"Corr coeff\")\n",
    "plt.ylabel(\"P-value\")\n",
    "\n",
    "# show the plot\n",
    "plt.show()"
   ]
  },
  {
   "cell_type": "code",
   "execution_count": null,
   "metadata": {},
   "outputs": [],
   "source": [
    "pearson_deathsT = pearson_deaths.transpose()\n",
    "pearson_deathsT = pearson_deathsT.drop(index= 'Pearson correlation', axis=0)\n",
    "pearson_deathsT = pearson_deathsT.rename(columns= {0: 'Correlation coefficient', 1: 'P-value'})\n",
    "# create a new figure\n",
    "plt.figure(figsize=(40, 10))\n",
    "\n",
    "# use the scatter() function to plot the points,\n",
    "# with red circles of size 10\n",
    "plt.bar(pearson_deathsT.index.values, pearson_deathsT['Correlation coefficient'].values, color=\"red\")\n",
    "\n",
    "# add a title\n",
    "plt.title(\"Scatter Plot pearson death and pageviews\")\n",
    "\n",
    "# add x and y axis labels\n",
    "plt.xlabel(\"Countries\")\n",
    "plt.ylabel(\"Corr coeff (deaths/pageviews)\")\n",
    "\n",
    "# show the plot\n",
    "plt.show()"
   ]
  },
  {
   "cell_type": "markdown",
   "metadata": {},
   "source": [
    "### Loading population by countries"
   ]
  },
  {
   "cell_type": "code",
   "execution_count": null,
   "metadata": {},
   "outputs": [],
   "source": [
    "COUNTRY_OWN_LANG_POP = {\"Italy\" : \"it\", \"Russian Federation\": \"ru\", \"China\": \"zh\", \"Albania\": \"sq\", \n",
    " \"Bangladesh\": \"bn\", \"Botswana\": \"tn\", \"Cambodia\": \"km\", \"Croatia\": \"hr\", \"Greece\": \"el\", \"Sweden\": \"sv\", \"Finland\": \"fi\", \"Norway\": \"no\",\n",
    " \"Malaysia\": \"ms\", \"Israel\": \"he\", \"Lithuania\": \"lt\", \"Serbia\": \"sr\", \"Slovak Republic\": \"sk\", \"Slovenia\": \"sl\", \"Turkiye\": \"tr\",\n",
    " \"Vietnam\": \"vi\", \"Bulgaria\": \"bg\", \"Czechia\": \"cs\", \"Denmark\": \"da\", \"Georgia\": \"ka\", \"Germany\": \"de\", \n",
    " \"Hungary\": \"hu\", \"Iceland\": \"is\", \"Japan\": \"ja\", \"Kazakhstan\": \"kk\", \"Korea, Rep.\": \"ko\", \"Kyrgyz Republic\": 'ky', \"Netherlands\": \"nl\", \"Poland\": \"pl\", \n",
    " \"Romania\": \"ro\", \"Tajikistan\": \"tg\", \"Thailand\": \"th\", \"Azerbaijan\": \"az\", \"Mongolia\": \"mn\"}\n",
    "\n",
    "#changed_name_countries = {\"Russian Federation\": \"Russia\", \"Slovak Republic\": \"Slovakia\", \"Turkiye\": \"Turkey\",\n",
    "# \"Korea, Rep.\": \"South Korea\", \"Kyrgyz Republic\": 'Kyrgyzstan'}\n",
    "\n",
    "population_df = pd.read_csv(\"Population_countries.csv\")\n",
    "population_df = population_df[[\"Country Name\", \"2020\"]]\n",
    "population_df = population_df.set_index(\"Country Name\")\n",
    "population_df = population_df.transpose()\n",
    "population_df = population_df[list(COUNTRY_OWN_LANG_POP.keys())]\n",
    "population_df = population_df.rename(columns= COUNTRY_OWN_LANG_POP)\n",
    "population_df = population_df.transpose()\n",
    "population_df.head()"
   ]
  },
  {
   "cell_type": "code",
   "execution_count": null,
   "metadata": {},
   "outputs": [],
   "source": [
    "population_df['2020']"
   ]
  },
  {
   "cell_type": "markdown",
   "metadata": {},
   "source": [
    "## Check different metrics for pageviews, death and cases"
   ]
  },
  {
   "cell_type": "markdown",
   "metadata": {},
   "source": [
    "### 1. Pageviews"
   ]
  },
  {
   "cell_type": "code",
   "execution_count": null,
   "metadata": {},
   "outputs": [],
   "source": [
    "\n",
    "pageviews_amean = (df_pageviews_pearson.mean()/population_df['2020']) * 100000\n",
    "pageviews_max = (df_pageviews_pearson.max()/population_df['2020']) * 100000\n",
    "pageviews_min = (df_pageviews_pearson.min()/population_df['2020']) * 100000\n"
   ]
  },
  {
   "cell_type": "code",
   "execution_count": null,
   "metadata": {},
   "outputs": [],
   "source": [
    "\n",
    "# create a new figure\n",
    "plt.figure(figsize=(12, 8))\n",
    "# use the scatter() function to plot the points,\n",
    "# with red circles of size 10\n",
    "plt.scatter(pageviews_max.index, pageviews_max.values, color=\"red\", s= 15)\n",
    "plt.scatter(pageviews_min.index, pageviews_min.values, color=\"blue\", s= 15)\n",
    "plt.scatter(pageviews_amean.index, pageviews_amean.values, color=\"green\", s= 15)\n",
    "# add a title\n",
    "plt.title(\"Scatter Plot pageviews metrics per countries\")\n",
    "\n",
    "# add x and y axis labels\n",
    "plt.xlabel(\"Languages\")\n",
    "plt.ylabel(\"Pageviews\")\n",
    "plt.legend([\"Max\", \"Min\", \"Arithmetic Mean\"])\n",
    "\n",
    "# show the plot\n",
    "plt.show()"
   ]
  },
  {
   "cell_type": "markdown",
   "metadata": {},
   "source": [
    "### 1. Covid-19 dataset\n",
    "We have to select the variable between covid cases and covid deaths that create the most variability between the countries. Moreover, we also have to choose a represenative metric such as mean, min or max. \n",
    "\n",
    "Let's first plot the covid deaths for all the countries per 100 000 people, looking at the mean,min,max. "
   ]
  },
  {
   "cell_type": "code",
   "execution_count": null,
   "metadata": {},
   "outputs": [],
   "source": [
    "deaths_lang_code = deaths.rename(columns= country_dict)[country_dict.values()]\n",
    "deaths_amean = (deaths_lang_code.mean()/population_df['2020']) * 100000\n",
    "deaths_max = (deaths_lang_code.max()/population_df['2020']) * 100000\n",
    "deaths_min = (deaths_lang_code.min()/population_df['2020']) * 100000\n"
   ]
  },
  {
   "cell_type": "code",
   "execution_count": null,
   "metadata": {},
   "outputs": [],
   "source": [
    "# create a new figure\n",
    "plt.figure(figsize=(12, 8))\n",
    "# use the scatter() function to plot the points,\n",
    "# with red circles of size 10\n",
    "plt.scatter(deaths_max.index, deaths_max.values, color=\"red\", s= 15)\n",
    "plt.scatter(deaths_min.index, deaths_min.values, color=\"blue\", s= 15)\n",
    "plt.scatter(deaths_amean.index, deaths_amean.values, color=\"green\", s= 15)\n",
    "# add a title\n",
    "plt.title(\"Scatter Plot pageviews metrics per countries\")\n",
    "\n",
    "# add x and y axis labels\n",
    "plt.xlabel(\"Languages\")\n",
    "plt.ylabel(\"Deaths for 100000 pop\")\n",
    "plt.legend([\"Max\", \"Min\", \"Arithmetic Mean\"])\n",
    "\n",
    "# show the plot\n",
    "plt.show()\n"
   ]
  },
  {
   "cell_type": "markdown",
   "metadata": {},
   "source": [
    "Now, let's look at covid cases for 100 000 people per country"
   ]
  },
  {
   "cell_type": "code",
   "execution_count": null,
   "metadata": {},
   "outputs": [],
   "source": [
    "cases_lang_code = cases.rename(columns= country_dict)[country_dict.values()]\n",
    "cases_amean = (cases_lang_code.mean()/population_df['2020']) * 100000\n",
    "cases_max = (cases_lang_code.max()/population_df['2020']) * 100000\n",
    "cases_min = (cases_lang_code.min()/population_df['2020']) * 100000"
   ]
  },
  {
   "cell_type": "markdown",
   "metadata": {},
   "source": [
    "Looking at both plots, we see that the max value gives much more variance between the countries than mean or min, therefore this metric is chosen for the clustering. Moreover, we also see that covid cases also shows more variance than covid deaths between the countries, therefore the max of covid cases is chosen for the clustering of countries. "
   ]
  },
  {
   "cell_type": "code",
   "execution_count": 356,
   "metadata": {},
   "outputs": [],
   "source": [
    "data_folder = 'data_2/'\n",
    "df_trust_gov = pd.read_csv(data_folder+'share-who-trust-government.csv.zip') \n",
    "df_trust_science = pd.read_csv(data_folder+'share-people-trust-science.csv.zip')\n",
    "df_trust_journalists = pd.read_csv(data_folder+'share-people-trust-journalists-country.csv.zip')\n"
   ]
  },
  {
   "cell_type": "code",
   "execution_count": 357,
   "metadata": {},
   "outputs": [
    {
     "data": {
      "text/html": [
       "<div>\n",
       "<style scoped>\n",
       "    .dataframe tbody tr th:only-of-type {\n",
       "        vertical-align: middle;\n",
       "    }\n",
       "\n",
       "    .dataframe tbody tr th {\n",
       "        vertical-align: top;\n",
       "    }\n",
       "\n",
       "    .dataframe thead th {\n",
       "        text-align: right;\n",
       "    }\n",
       "</style>\n",
       "<table border=\"1\" class=\"dataframe\">\n",
       "  <thead>\n",
       "    <tr style=\"text-align: right;\">\n",
       "      <th>Entity</th>\n",
       "      <th>it</th>\n",
       "      <th>ru</th>\n",
       "      <th>zh</th>\n",
       "      <th>sq</th>\n",
       "      <th>bn</th>\n",
       "      <th>km</th>\n",
       "      <th>hr</th>\n",
       "      <th>el</th>\n",
       "      <th>sv</th>\n",
       "      <th>fi</th>\n",
       "      <th>...</th>\n",
       "      <th>ja</th>\n",
       "      <th>kk</th>\n",
       "      <th>ko</th>\n",
       "      <th>ky</th>\n",
       "      <th>nl</th>\n",
       "      <th>pl</th>\n",
       "      <th>ro</th>\n",
       "      <th>tg</th>\n",
       "      <th>th</th>\n",
       "      <th>mn</th>\n",
       "    </tr>\n",
       "  </thead>\n",
       "  <tbody>\n",
       "    <tr>\n",
       "      <th>Trust journalists in this country</th>\n",
       "      <td>47.4</td>\n",
       "      <td>32.1</td>\n",
       "      <td>61.2</td>\n",
       "      <td>53.8</td>\n",
       "      <td>60.4</td>\n",
       "      <td>73.7</td>\n",
       "      <td>54.0</td>\n",
       "      <td>11.3</td>\n",
       "      <td>70.6</td>\n",
       "      <td>80.4</td>\n",
       "      <td>...</td>\n",
       "      <td>46.1</td>\n",
       "      <td>60.2</td>\n",
       "      <td>27.4</td>\n",
       "      <td>62.0</td>\n",
       "      <td>75.7</td>\n",
       "      <td>66.7</td>\n",
       "      <td>53.0</td>\n",
       "      <td>54.3</td>\n",
       "      <td>69.4</td>\n",
       "      <td>60.0</td>\n",
       "    </tr>\n",
       "  </tbody>\n",
       "</table>\n",
       "<p>1 rows × 35 columns</p>\n",
       "</div>"
      ],
      "text/plain": [
       "Entity                               it    ru    zh    sq    bn    km    hr  \\\n",
       "Trust journalists in this country  47.4  32.1  61.2  53.8  60.4  73.7  54.0   \n",
       "\n",
       "Entity                               el    sv    fi  ...    ja    kk    ko  \\\n",
       "Trust journalists in this country  11.3  70.6  80.4  ...  46.1  60.2  27.4   \n",
       "\n",
       "Entity                               ky    nl    pl    ro    tg    th    mn  \n",
       "Trust journalists in this country  62.0  75.7  66.7  53.0  54.3  69.4  60.0  \n",
       "\n",
       "[1 rows x 35 columns]"
      ]
     },
     "execution_count": 357,
     "metadata": {},
     "output_type": "execute_result"
    }
   ],
   "source": [
    "COUNTRY_OWN_LANG_TRUST_JOURN = {\"Italy\" : \"it\", \"Russia\": \"ru\", \"China\": \"zh\", \"Albania\": \"sq\", \n",
    "\"Bangladesh\": \"bn\", \"Cambodia\": \"km\", \"Croatia\": \"hr\", \"Greece\": \"el\", \"Sweden\": \"sv\", \"Finland\": \"fi\", \"Norway\": \"no\",\n",
    " \"Malaysia\": \"ms\", \"Israel\": \"he\", \"Lithuania\": \"lt\", \"Serbia\": \"sr\", \"Slovakia\": \"sk\", \"Slovenia\": \"sl\", \"Turkey\": \"tr\",\n",
    " \"Vietnam\": \"vi\", \"Bulgaria\": \"bg\", \"Czechia\": \"cs\", \"Denmark\": \"da\", \"Georgia\": \"ka\", \"Germany\": \"de\", \n",
    " \"Hungary\": \"hu\", \"Japan\": \"ja\", \"Kazakhstan\": \"kk\", \"South Korea\": \"ko\", \"Kyrgyzstan\": 'ky', \"Netherlands\": \"nl\", \"Poland\": \"pl\", \n",
    " \"Romania\": \"ro\", \"Tajikistan\": \"tg\", \"Thailand\": \"th\", \"Mongolia\": \"mn\"}\n",
    "\n",
    "#df_trust_gov = df_trust_gov.set_index(\"Entity\").transpose()[country_dict.keys()]\n",
    "df_trust_journalists = df_trust_journalists.set_index(\"Entity\")[[\"Trust journalists in this country\"]].transpose()[COUNTRY_OWN_LANG_TRUST_JOURN.keys()].rename(columns= COUNTRY_OWN_LANG_TRUST_JOURN)\n",
    "df_trust_journalists.head(60)"
   ]
  },
  {
   "cell_type": "code",
   "execution_count": null,
   "metadata": {},
   "outputs": [],
   "source": []
  },
  {
   "cell_type": "code",
   "execution_count": null,
   "metadata": {},
   "outputs": [],
   "source": [
    "from sklearn.cluster import KMeans\n",
    "# Create dataframe for clustering with covid max cases, pageviews max, and trust in journalists\n",
    "\n",
    "# Preprocessing the data\n",
    "DF_ARRAY = np.array(DF.iloc[:,2:5])          # Getting only the numeric features from the dataset\n",
    "DF_NORM  = preprocessing.normalize(DF_ARRAY) # Normalizing the data\n",
    "\n",
    "# Creating our Model\n",
    "kmeans = KMeans(n_clusters = 3)\n",
    "\n",
    "# Training our model\n",
    "kmeans.fit(DF_NORM)"
   ]
  },
  {
   "cell_type": "code",
   "execution_count": null,
   "metadata": {},
   "outputs": [],
   "source": [
    "import plotly.graph_objects as go\n",
    "\n",
    "PLOT = go.Figure()\n",
    "\n",
    "for C in list(DF.cluster.unique()):\n",
    "    \n",
    "    PLOT.add_trace(go.Scatter3d(x = DF[DF.cluster == C]['Annual Income (k$)'],\n",
    "                                y = DF[DF.cluster == C]['Age'],\n",
    "                                z = DF[DF.cluster == C]['Spending Score (1-100)'],\n",
    "                                mode = 'markers', marker_size = 8, marker_line_width = 1,\n",
    "                                name = 'Cluster ' + str(C)))\n"
   ]
  },
  {
   "cell_type": "markdown",
   "metadata": {},
   "source": [
    "### Feature selection for mobility"
   ]
  },
  {
   "cell_type": "code",
   "execution_count": null,
   "metadata": {},
   "outputs": [],
   "source": [
    "data_folder = 'data_2/'\n",
    "\n",
    "#Download mobility and intervention files\n",
    "google_mobility = pd.read_csv(data_folder+'Global_Mobility_Report.csv.zip')\n",
    "interventions = pd.read_csv(data_folder+'interventions.csv.zip')\n",
    "\n",
    "#Download file with covid pageviews #MODIFY WITH THE NEW DATA\n",
    "file = gzip.open(data_folder+'aggregated_timeseries.json.gz')\n",
    "data = json.load(file)"
   ]
  },
  {
   "cell_type": "code",
   "execution_count": null,
   "metadata": {},
   "outputs": [],
   "source": [
    "#Change name of the columns\n",
    "names = [\"Retail and Recreations\", \"Grocery and Pharmacy\", \"Parks\",\"Transit stations\", \"Workplace\", \"Residential\"]\n",
    "google_mobility = google_mobility.rename(dict(zip(google_mobility.columns[8:],names)), axis = 1)\n",
    "\n",
    "#Transform date string to datetime\n",
    "google_mobility['date'] = pd.to_datetime(google_mobility['date'])\n",
    "\n",
    "#Delete columns about region\n",
    "google_mobility = google_mobility.drop(google_mobility.iloc[:,2:7], axis = 1)\n",
    "\n",
    "#Keep same dates as for corona wikipedia pages\n",
    "google_mobility = google_mobility.loc[(google_mobility['date'] < \"2020-08-01\") & (google_mobility['date'] > \"2020-01-21\")]\n",
    "\n",
    "#Regroup all data per country and per date and take the average\n",
    "mobility = google_mobility.groupby([\"country_region_code\",\"country_region\",\"date\"]).mean()\n",
    "\n",
    "google_mobility"
   ]
  },
  {
   "cell_type": "code",
   "execution_count": null,
   "metadata": {},
   "outputs": [],
   "source": [
    "# Calculate total mobility \n",
    "\n",
    "google_mobility[\"total mobility average per day\"] = google_mobility[['Retail and Recreations','Grocery and Pharmacy','Parks',\n",
    "     'Transit stations','Workplace' ,'Residential']].mean(axis=1).reset_index(drop=True) \n",
    "     "
   ]
  },
  {
   "cell_type": "code",
   "execution_count": null,
   "metadata": {},
   "outputs": [],
   "source": [
    "google_mobility.head(30)"
   ]
  },
  {
   "cell_type": "code",
   "execution_count": null,
   "metadata": {},
   "outputs": [],
   "source": [
    "mean_mobility = google_mobility.groupby('country_region')[\"total mobility average per day\"].mean()"
   ]
  },
  {
   "cell_type": "code",
   "execution_count": null,
   "metadata": {},
   "outputs": [],
   "source": [
    "mean_mobility.head(60)"
   ]
  },
  {
   "cell_type": "code",
   "execution_count": null,
   "metadata": {},
   "outputs": [],
   "source": [
    "# Plot moblity for the 40 countries \n",
    "mobility_countries= pd.DataFrame({\"mobility\":[\"mean mobility:\"]})\n",
    "for country in country_dict.items():\n",
    "    print(str(country[0]))\n",
    "    if str(country[0])== 'China' or str(country[0])== 'Albania' or str(country[0])== 'Iceland' or str(country[0])== 'Azerbaijan':\n",
    "        pass\n",
    "    else:\n",
    "        output_df = pd.DataFrame({str(country[0]):[mean_mobility[str(country[0])]] })\n",
    "        mobility_countries = pd.concat([mobility_countries, output_df], axis=1)\n",
    "mobility_countries"
   ]
  },
  {
   "cell_type": "code",
   "execution_count": null,
   "metadata": {},
   "outputs": [],
   "source": [
    "# x = []\n",
    "# y = []\n",
    "# for column in mobility_countries:\n",
    "#     x.append(mobility_countries[column].values)\n",
    "#     y.append(column)\n",
    "\n",
    "mobility_countriesT = mobility_countries.transpose()\n",
    "mobility_countriesT = mobility_countriesT.drop(index= \"mobility\", axis=0)\n",
    "mobility_countriesT = mobility_countriesT.rename(columns= {0: 'mean mobility:'})\n",
    "# create a new figure\n",
    "plt.figure(figsize=(40, 10))\n",
    "\n",
    "# use the scatter() function to plot the points,\n",
    "# with red circles of size 10\n",
    "plt.bar(mobility_countriesT.index.values, mobility_countriesT['mean mobility:'].values, color=\"red\")\n",
    "\n",
    "# add a title\n",
    "plt.title(\"Bar Plot of mean mobility per country\")\n",
    "\n",
    "# add x and y axis labels\n",
    "plt.xlabel(\"Countries\")\n",
    "plt.ylabel(\"Mean mobility)\")\n",
    "\n",
    "# show the plot\n",
    "plt.show()"
   ]
  },
  {
   "cell_type": "code",
   "execution_count": null,
   "metadata": {},
   "outputs": [],
   "source": []
  }
 ],
 "metadata": {
  "kernelspec": {
   "display_name": "Python 3.9.7 64-bit",
   "language": "python",
   "name": "python3"
  },
  "language_info": {
   "codemirror_mode": {
    "name": "ipython",
    "version": 3
   },
   "file_extension": ".py",
   "mimetype": "text/x-python",
   "name": "python",
   "nbconvert_exporter": "python",
   "pygments_lexer": "ipython3",
   "version": "3.9.7"
  },
  "orig_nbformat": 4,
  "vscode": {
   "interpreter": {
    "hash": "aee8b7b246df8f9039afb4144a1f6fd8d2ca17a180786b69acc140d282b71a49"
   }
  }
 },
 "nbformat": 4,
 "nbformat_minor": 2
}
