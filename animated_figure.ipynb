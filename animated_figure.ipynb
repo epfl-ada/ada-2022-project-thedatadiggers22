{
 "cells": [
  {
   "cell_type": "code",
   "execution_count": 1,
   "metadata": {},
   "outputs": [],
   "source": [
    "# Imports\n",
    "import plotly.express as px\n",
    "from helper import *\n",
    "import pandas as pd\n",
    "import numpy as np\n",
    "import gzip\n",
    "import json\n",
    "from scipy import stats"
   ]
  },
  {
   "cell_type": "markdown",
   "metadata": {},
   "source": [
    "## Animated figure"
   ]
  },
  {
   "cell_type": "code",
   "execution_count": 2,
   "metadata": {},
   "outputs": [],
   "source": [
    "# Load and preprocess pageviews and deaths \n",
    "pageview_df = pd.read_csv(\"page_views_covid_related.csv.gz\")\n",
    "population_df = pd.read_csv(\"Population_countries.csv\")\n",
    "\n",
    "_,_, df_pageviews100k,_ = get_pageviews_df(pageview_df, population_df, get_country_dict('trust gov mobility'), '2020-01-22', '2020-11-22')\n",
    "_, _, _, _, deaths100k, _, _,_ = get_cases_deaths_df(population_df, get_country_dict('trust gov mobility'), '2020-01-22', '2020-11-22')\n",
    "df_pageviews100k = df_pageviews100k.transpose().stack().to_frame().reset_index().rename(columns={\"level_0\": \"country\", \"date\": \"date\", 0:\"pageviews per 100k\"}, errors=\"raise\")\n",
    "deaths100k = deaths100k.transpose().stack().to_frame().reset_index().rename(columns={\"level_0\": \"country\", \"date\": \"date\", 0:\"deaths per 100k\"}, errors=\"raise\")\n",
    "df_animation = df_pageviews100k.merge(deaths100k, on=['country','date'])\n",
    "df_animation['date'] = pd.to_datetime(df_animation['date'])\n",
    "df_animation=df_animation.rename(columns={\"country\": \"Country\"})"
   ]
  },
  {
   "cell_type": "code",
   "execution_count": 3,
   "metadata": {},
   "outputs": [
    {
     "data": {
      "text/html": [
       "<div>\n",
       "<style scoped>\n",
       "    .dataframe tbody tr th:only-of-type {\n",
       "        vertical-align: middle;\n",
       "    }\n",
       "\n",
       "    .dataframe tbody tr th {\n",
       "        vertical-align: top;\n",
       "    }\n",
       "\n",
       "    .dataframe thead th {\n",
       "        text-align: right;\n",
       "    }\n",
       "</style>\n",
       "<table border=\"1\" class=\"dataframe\">\n",
       "  <thead>\n",
       "    <tr style=\"text-align: right;\">\n",
       "      <th></th>\n",
       "      <th>Country</th>\n",
       "      <th>date</th>\n",
       "      <th>pageviews per 100k</th>\n",
       "      <th>deaths per 100k</th>\n",
       "      <th>Trust the national government in this country</th>\n",
       "    </tr>\n",
       "  </thead>\n",
       "  <tbody>\n",
       "    <tr>\n",
       "      <th>0</th>\n",
       "      <td>it</td>\n",
       "      <td>2020-01-22</td>\n",
       "      <td>40.388883</td>\n",
       "      <td>0.0</td>\n",
       "      <td>52.3</td>\n",
       "    </tr>\n",
       "    <tr>\n",
       "      <th>1</th>\n",
       "      <td>it</td>\n",
       "      <td>2020-01-23</td>\n",
       "      <td>46.878422</td>\n",
       "      <td>0.0</td>\n",
       "      <td>52.3</td>\n",
       "    </tr>\n",
       "    <tr>\n",
       "      <th>2</th>\n",
       "      <td>it</td>\n",
       "      <td>2020-01-24</td>\n",
       "      <td>38.747154</td>\n",
       "      <td>0.0</td>\n",
       "      <td>52.3</td>\n",
       "    </tr>\n",
       "    <tr>\n",
       "      <th>3</th>\n",
       "      <td>it</td>\n",
       "      <td>2020-01-25</td>\n",
       "      <td>54.543748</td>\n",
       "      <td>0.0</td>\n",
       "      <td>52.3</td>\n",
       "    </tr>\n",
       "    <tr>\n",
       "      <th>4</th>\n",
       "      <td>it</td>\n",
       "      <td>2020-01-26</td>\n",
       "      <td>55.928115</td>\n",
       "      <td>0.0</td>\n",
       "      <td>52.3</td>\n",
       "    </tr>\n",
       "  </tbody>\n",
       "</table>\n",
       "</div>"
      ],
      "text/plain": [
       "  Country       date  pageviews per 100k  deaths per 100k  \\\n",
       "0      it 2020-01-22           40.388883              0.0   \n",
       "1      it 2020-01-23           46.878422              0.0   \n",
       "2      it 2020-01-24           38.747154              0.0   \n",
       "3      it 2020-01-25           54.543748              0.0   \n",
       "4      it 2020-01-26           55.928115              0.0   \n",
       "\n",
       "   Trust the national government in this country  \n",
       "0                                           52.3  \n",
       "1                                           52.3  \n",
       "2                                           52.3  \n",
       "3                                           52.3  \n",
       "4                                           52.3  "
      ]
     },
     "execution_count": 3,
     "metadata": {},
     "output_type": "execute_result"
    }
   ],
   "source": [
    "# Dowload and preprocess trust dataset\n",
    "data_folder = 'data_2/'\n",
    "df_trust_gov = pd.read_csv(data_folder+'share-who-trust-government.csv.zip') \n",
    "df_trust_gov = df_trust_gov.set_index(\"Entity\")[[\"Trust the national government in this country\"]].transpose()[COUNTRY_OWN_LANG_TRUST_GOV.keys()].rename(columns= COUNTRY_OWN_LANG_TRUST_GOV)\n",
    "country_dict = get_country_dict('trust gov mobility')\n",
    "\n",
    "# # Map the trust category to the countries in df_animation\n",
    "# country_dict_cat =  trust_category(df_trust_gov, 5,country_dict)\n",
    "trust_dict =df_trust_gov.to_dict('index')\n",
    "df_animation['Trust the national government in this country'] = df_animation['Country'].map(trust_dict['Trust the national government in this country'])\n",
    "df_animation.head()"
   ]
  },
  {
   "cell_type": "code",
   "execution_count": 4,
   "metadata": {},
   "outputs": [
    {
     "name": "stderr",
     "output_type": "stream",
     "text": [
      "/var/folders/yd/qcqcvgvx64j3l0qqnk__2cpm0000gn/T/ipykernel_83742/4206571970.py:4: DtypeWarning: Columns (4) have mixed types. Specify dtype option on import or set low_memory=False.\n",
      "  google_mobility = pd.read_csv(data_folder+'Global_Mobility_Report.csv.zip')\n"
     ]
    }
   ],
   "source": [
    "data_folder = 'data_2/'\n",
    "\n",
    "#Download mobility and intervention files\n",
    "google_mobility = pd.read_csv(data_folder+'Global_Mobility_Report.csv.zip')\n",
    "interventions = pd.read_csv(data_folder+'interventions.csv.zip')\n",
    "\n",
    "#Download file with covid pageviews #MODIFY WITH THE NEW DATA\n",
    "file = gzip.open(data_folder+'aggregated_timeseries.json.gz')\n",
    "data = json.load(file)\n",
    "\n",
    "#Change name of the columns\n",
    "categories = [\"Retail and Recreations\", \"Grocery and Pharmacy\", \"Parks\",\"Transit stations\", \"Workplace\", \"Residential\"]\n",
    "google_mobility = google_mobility.rename(dict(zip(google_mobility.columns[8:],categories)), axis = 1)\n",
    "\n",
    "#Transform date string to datetime\n",
    "google_mobility['date'] = pd.to_datetime(google_mobility['date'])\n",
    "\n",
    "#Delete columns about region\n",
    "google_mobility = google_mobility.drop(google_mobility.iloc[:,2:7], axis = 1)\n",
    "\n",
    "#Keep same dates as for corona wikipedia pages\n",
    "google_mobility = google_mobility.loc[(google_mobility['date'] < \"2020-08-01\") & (google_mobility['date'] >= \"2020-01-22\")]\n",
    "\n",
    "#Regroup all data per country and per date and take the average\n",
    "mobility = google_mobility.groupby([\"country_region_code\",\"country_region\",\"date\"]).mean()\n",
    "\n",
    "#Keep only the country that we are interested in\n",
    "mobility = mobility[mobility.index.get_level_values('country_region').isin(list(country_dict.keys()))]\n",
    "\n",
    "# Group together Parks, Retail and Recreations, Transit stations and Workplace by taking the mean of them\n",
    "mobility['moving category'] = mobility[['Retail and Recreations', 'Parks', 'Transit stations', 'Workplace']].mean(axis=1)\n",
    "\n",
    "#Group together Grocey and Pharmacy and Residential by taking the mean of them\n",
    "mobility['covid category'] = mobility[['Grocery and Pharmacy', 'Residential']].mean(axis=1)\n",
    "\n",
    "moving_cat_df = mobility['moving category'].reset_index()\n",
    "moving_cat_df['country_region'] =moving_cat_df['country_region'].map(get_country_dict('trust gov mobility'))\n",
    "\n",
    "# merge dataframe with the mobility dataset\n",
    "df_animation = df_animation.merge(moving_cat_df, left_on=['Country','date'],  right_on=['country_region','date'])\n",
    "df_animation = df_animation.drop(columns=['country_region','country_region_code'])\n",
    "df_animation['date']=df_animation['date'].astype(str)\n",
    "\n",
    "df_animation['Month-Year'] = pd.to_datetime(df_animation['date']).dt.to_period('M')\n",
    "df_animation['Month-Year']=df_animation['Month-Year'].astype(str)\n",
    "\n",
    "inv_map = {v: k for k, v in get_country_dict('trust gov mobility').items()}\n",
    "df_animation['Country'] = df_animation['Country'].map(inv_map)"
   ]
  },
  {
   "cell_type": "code",
   "execution_count": 5,
   "metadata": {},
   "outputs": [
    {
     "data": {
      "text/html": [
       "<div>\n",
       "<style scoped>\n",
       "    .dataframe tbody tr th:only-of-type {\n",
       "        vertical-align: middle;\n",
       "    }\n",
       "\n",
       "    .dataframe tbody tr th {\n",
       "        vertical-align: top;\n",
       "    }\n",
       "\n",
       "    .dataframe thead th {\n",
       "        text-align: right;\n",
       "    }\n",
       "</style>\n",
       "<table border=\"1\" class=\"dataframe\">\n",
       "  <thead>\n",
       "    <tr style=\"text-align: right;\">\n",
       "      <th></th>\n",
       "      <th>Month-Year</th>\n",
       "      <th>Country</th>\n",
       "      <th>Cumulative pageviews per 100k</th>\n",
       "      <th>Cumulative deaths per 100k</th>\n",
       "      <th>Mobility change from baseline</th>\n",
       "      <th>Trust the national government in this country</th>\n",
       "    </tr>\n",
       "  </thead>\n",
       "  <tbody>\n",
       "    <tr>\n",
       "      <th>0</th>\n",
       "      <td>2020-02</td>\n",
       "      <td>Bangladesh</td>\n",
       "      <td>0.556806</td>\n",
       "      <td>0.000000</td>\n",
       "      <td>5.250000</td>\n",
       "      <td>83.0</td>\n",
       "    </tr>\n",
       "    <tr>\n",
       "      <th>15</th>\n",
       "      <td>2020-02</td>\n",
       "      <td>Bulgaria</td>\n",
       "      <td>161.407208</td>\n",
       "      <td>0.000000</td>\n",
       "      <td>5.097669</td>\n",
       "      <td>40.4</td>\n",
       "    </tr>\n",
       "    <tr>\n",
       "      <th>30</th>\n",
       "      <td>2020-02</td>\n",
       "      <td>Croatia</td>\n",
       "      <td>171.629180</td>\n",
       "      <td>0.000000</td>\n",
       "      <td>8.503883</td>\n",
       "      <td>42.0</td>\n",
       "    </tr>\n",
       "    <tr>\n",
       "      <th>45</th>\n",
       "      <td>2020-02</td>\n",
       "      <td>Czechia</td>\n",
       "      <td>1925.544347</td>\n",
       "      <td>0.000000</td>\n",
       "      <td>6.410000</td>\n",
       "      <td>45.8</td>\n",
       "    </tr>\n",
       "    <tr>\n",
       "      <th>60</th>\n",
       "      <td>2020-02</td>\n",
       "      <td>Denmark</td>\n",
       "      <td>275.594008</td>\n",
       "      <td>0.000000</td>\n",
       "      <td>-1.578199</td>\n",
       "      <td>79.3</td>\n",
       "    </tr>\n",
       "    <tr>\n",
       "      <th>75</th>\n",
       "      <td>2020-02</td>\n",
       "      <td>Finland</td>\n",
       "      <td>786.502610</td>\n",
       "      <td>0.000000</td>\n",
       "      <td>5.078715</td>\n",
       "      <td>80.7</td>\n",
       "    </tr>\n",
       "    <tr>\n",
       "      <th>90</th>\n",
       "      <td>2020-02</td>\n",
       "      <td>Georgia</td>\n",
       "      <td>57.162566</td>\n",
       "      <td>0.000000</td>\n",
       "      <td>4.208333</td>\n",
       "      <td>57.6</td>\n",
       "    </tr>\n",
       "    <tr>\n",
       "      <th>105</th>\n",
       "      <td>2020-02</td>\n",
       "      <td>Germany</td>\n",
       "      <td>1699.497592</td>\n",
       "      <td>0.000000</td>\n",
       "      <td>1.636275</td>\n",
       "      <td>82.0</td>\n",
       "    </tr>\n",
       "    <tr>\n",
       "      <th>120</th>\n",
       "      <td>2020-02</td>\n",
       "      <td>Greece</td>\n",
       "      <td>175.065669</td>\n",
       "      <td>0.000000</td>\n",
       "      <td>6.431250</td>\n",
       "      <td>40.7</td>\n",
       "    </tr>\n",
       "    <tr>\n",
       "      <th>135</th>\n",
       "      <td>2020-02</td>\n",
       "      <td>Hungary</td>\n",
       "      <td>293.616026</td>\n",
       "      <td>0.000000</td>\n",
       "      <td>9.620652</td>\n",
       "      <td>48.6</td>\n",
       "    </tr>\n",
       "    <tr>\n",
       "      <th>150</th>\n",
       "      <td>2020-02</td>\n",
       "      <td>Israel</td>\n",
       "      <td>688.283361</td>\n",
       "      <td>0.000000</td>\n",
       "      <td>6.939167</td>\n",
       "      <td>51.1</td>\n",
       "    </tr>\n",
       "    <tr>\n",
       "      <th>165</th>\n",
       "      <td>2020-02</td>\n",
       "      <td>Italy</td>\n",
       "      <td>1299.660467</td>\n",
       "      <td>0.048781</td>\n",
       "      <td>1.794570</td>\n",
       "      <td>52.3</td>\n",
       "    </tr>\n",
       "    <tr>\n",
       "      <th>180</th>\n",
       "      <td>2020-02</td>\n",
       "      <td>Japan</td>\n",
       "      <td>753.072604</td>\n",
       "      <td>0.003960</td>\n",
       "      <td>-1.063194</td>\n",
       "      <td>49.5</td>\n",
       "    </tr>\n",
       "    <tr>\n",
       "      <th>195</th>\n",
       "      <td>2020-02</td>\n",
       "      <td>Kazakhstan</td>\n",
       "      <td>29.335135</td>\n",
       "      <td>0.000000</td>\n",
       "      <td>3.183333</td>\n",
       "      <td>72.2</td>\n",
       "    </tr>\n",
       "    <tr>\n",
       "      <th>210</th>\n",
       "      <td>2020-02</td>\n",
       "      <td>Kyrgyzstan</td>\n",
       "      <td>1.481785</td>\n",
       "      <td>0.000000</td>\n",
       "      <td>2.416984</td>\n",
       "      <td>57.6</td>\n",
       "    </tr>\n",
       "    <tr>\n",
       "      <th>225</th>\n",
       "      <td>2020-02</td>\n",
       "      <td>Lithuania</td>\n",
       "      <td>329.244316</td>\n",
       "      <td>0.000000</td>\n",
       "      <td>2.346420</td>\n",
       "      <td>55.1</td>\n",
       "    </tr>\n",
       "    <tr>\n",
       "      <th>240</th>\n",
       "      <td>2020-02</td>\n",
       "      <td>Malaysia</td>\n",
       "      <td>38.963730</td>\n",
       "      <td>0.000000</td>\n",
       "      <td>-1.263725</td>\n",
       "      <td>57.6</td>\n",
       "    </tr>\n",
       "    <tr>\n",
       "      <th>255</th>\n",
       "      <td>2020-02</td>\n",
       "      <td>Mongolia</td>\n",
       "      <td>11.926942</td>\n",
       "      <td>0.000000</td>\n",
       "      <td>-23.101389</td>\n",
       "      <td>54.8</td>\n",
       "    </tr>\n",
       "    <tr>\n",
       "      <th>270</th>\n",
       "      <td>2020-02</td>\n",
       "      <td>Netherlands</td>\n",
       "      <td>737.167101</td>\n",
       "      <td>0.000000</td>\n",
       "      <td>-2.531211</td>\n",
       "      <td>78.5</td>\n",
       "    </tr>\n",
       "    <tr>\n",
       "      <th>285</th>\n",
       "      <td>2020-02</td>\n",
       "      <td>Norway</td>\n",
       "      <td>362.061354</td>\n",
       "      <td>0.000000</td>\n",
       "      <td>1.137998</td>\n",
       "      <td>94.3</td>\n",
       "    </tr>\n",
       "    <tr>\n",
       "      <th>300</th>\n",
       "      <td>2020-02</td>\n",
       "      <td>Poland</td>\n",
       "      <td>840.688175</td>\n",
       "      <td>0.000000</td>\n",
       "      <td>4.280698</td>\n",
       "      <td>33.6</td>\n",
       "    </tr>\n",
       "    <tr>\n",
       "      <th>315</th>\n",
       "      <td>2020-02</td>\n",
       "      <td>Romania</td>\n",
       "      <td>223.528263</td>\n",
       "      <td>0.000000</td>\n",
       "      <td>5.015877</td>\n",
       "      <td>24.3</td>\n",
       "    </tr>\n",
       "    <tr>\n",
       "      <th>330</th>\n",
       "      <td>2020-02</td>\n",
       "      <td>Russia</td>\n",
       "      <td>880.531242</td>\n",
       "      <td>0.000000</td>\n",
       "      <td>3.636275</td>\n",
       "      <td>47.0</td>\n",
       "    </tr>\n",
       "    <tr>\n",
       "      <th>345</th>\n",
       "      <td>2020-02</td>\n",
       "      <td>Serbia</td>\n",
       "      <td>39.077414</td>\n",
       "      <td>0.000000</td>\n",
       "      <td>7.966667</td>\n",
       "      <td>57.0</td>\n",
       "    </tr>\n",
       "    <tr>\n",
       "      <th>360</th>\n",
       "      <td>2020-02</td>\n",
       "      <td>Slovakia</td>\n",
       "      <td>385.174324</td>\n",
       "      <td>0.000000</td>\n",
       "      <td>6.620948</td>\n",
       "      <td>53.5</td>\n",
       "    </tr>\n",
       "    <tr>\n",
       "      <th>375</th>\n",
       "      <td>2020-02</td>\n",
       "      <td>Slovenia</td>\n",
       "      <td>415.711616</td>\n",
       "      <td>0.000000</td>\n",
       "      <td>1.120952</td>\n",
       "      <td>48.1</td>\n",
       "    </tr>\n",
       "    <tr>\n",
       "      <th>390</th>\n",
       "      <td>2020-02</td>\n",
       "      <td>South Korea</td>\n",
       "      <td>172.668777</td>\n",
       "      <td>0.030866</td>\n",
       "      <td>-11.533333</td>\n",
       "      <td>52.8</td>\n",
       "    </tr>\n",
       "    <tr>\n",
       "      <th>405</th>\n",
       "      <td>2020-02</td>\n",
       "      <td>Sweden</td>\n",
       "      <td>159.174118</td>\n",
       "      <td>0.000000</td>\n",
       "      <td>-0.028181</td>\n",
       "      <td>64.7</td>\n",
       "    </tr>\n",
       "    <tr>\n",
       "      <th>420</th>\n",
       "      <td>2020-02</td>\n",
       "      <td>Thailand</td>\n",
       "      <td>52.298011</td>\n",
       "      <td>0.000000</td>\n",
       "      <td>-3.550000</td>\n",
       "      <td>55.6</td>\n",
       "    </tr>\n",
       "    <tr>\n",
       "      <th>435</th>\n",
       "      <td>2020-02</td>\n",
       "      <td>Turkey</td>\n",
       "      <td>63.172385</td>\n",
       "      <td>0.000000</td>\n",
       "      <td>2.384815</td>\n",
       "      <td>54.9</td>\n",
       "    </tr>\n",
       "    <tr>\n",
       "      <th>450</th>\n",
       "      <td>2020-03</td>\n",
       "      <td>Bangladesh</td>\n",
       "      <td>52.223767</td>\n",
       "      <td>0.003036</td>\n",
       "      <td>-12.572581</td>\n",
       "      <td>83.0</td>\n",
       "    </tr>\n",
       "    <tr>\n",
       "      <th>481</th>\n",
       "      <td>2020-03</td>\n",
       "      <td>Bulgaria</td>\n",
       "      <td>1514.447257</td>\n",
       "      <td>0.115373</td>\n",
       "      <td>-23.540960</td>\n",
       "      <td>40.4</td>\n",
       "    </tr>\n",
       "    <tr>\n",
       "      <th>512</th>\n",
       "      <td>2020-03</td>\n",
       "      <td>Croatia</td>\n",
       "      <td>2508.844573</td>\n",
       "      <td>0.148233</td>\n",
       "      <td>-24.078096</td>\n",
       "      <td>42.0</td>\n",
       "    </tr>\n",
       "    <tr>\n",
       "      <th>543</th>\n",
       "      <td>2020-03</td>\n",
       "      <td>Czechia</td>\n",
       "      <td>19659.384150</td>\n",
       "      <td>0.289778</td>\n",
       "      <td>-22.053226</td>\n",
       "      <td>45.8</td>\n",
       "    </tr>\n",
       "    <tr>\n",
       "      <th>574</th>\n",
       "      <td>2020-03</td>\n",
       "      <td>Denmark</td>\n",
       "      <td>1691.256514</td>\n",
       "      <td>1.543368</td>\n",
       "      <td>-12.113806</td>\n",
       "      <td>79.3</td>\n",
       "    </tr>\n",
       "    <tr>\n",
       "      <th>605</th>\n",
       "      <td>2020-03</td>\n",
       "      <td>Finland</td>\n",
       "      <td>6859.011676</td>\n",
       "      <td>0.922319</td>\n",
       "      <td>-10.596517</td>\n",
       "      <td>80.7</td>\n",
       "    </tr>\n",
       "    <tr>\n",
       "      <th>636</th>\n",
       "      <td>2020-03</td>\n",
       "      <td>Georgia</td>\n",
       "      <td>374.538375</td>\n",
       "      <td>0.000000</td>\n",
       "      <td>-25.459677</td>\n",
       "      <td>57.6</td>\n",
       "    </tr>\n",
       "    <tr>\n",
       "      <th>667</th>\n",
       "      <td>2020-03</td>\n",
       "      <td>Germany</td>\n",
       "      <td>15440.830340</td>\n",
       "      <td>0.701051</td>\n",
       "      <td>-15.426945</td>\n",
       "      <td>82.0</td>\n",
       "    </tr>\n",
       "    <tr>\n",
       "      <th>698</th>\n",
       "      <td>2020-03</td>\n",
       "      <td>Greece</td>\n",
       "      <td>3430.971250</td>\n",
       "      <td>0.355122</td>\n",
       "      <td>-29.296371</td>\n",
       "      <td>40.7</td>\n",
       "    </tr>\n",
       "    <tr>\n",
       "      <th>729</th>\n",
       "      <td>2020-03</td>\n",
       "      <td>Hungary</td>\n",
       "      <td>2465.049508</td>\n",
       "      <td>0.164100</td>\n",
       "      <td>-13.076354</td>\n",
       "      <td>48.6</td>\n",
       "    </tr>\n",
       "    <tr>\n",
       "      <th>760</th>\n",
       "      <td>2020-03</td>\n",
       "      <td>Israel</td>\n",
       "      <td>8381.894933</td>\n",
       "      <td>0.227887</td>\n",
       "      <td>-28.381643</td>\n",
       "      <td>51.1</td>\n",
       "    </tr>\n",
       "    <tr>\n",
       "      <th>791</th>\n",
       "      <td>2020-03</td>\n",
       "      <td>Italy</td>\n",
       "      <td>8127.351459</td>\n",
       "      <td>20.856348</td>\n",
       "      <td>-54.764556</td>\n",
       "      <td>52.3</td>\n",
       "    </tr>\n",
       "    <tr>\n",
       "      <th>822</th>\n",
       "      <td>2020-03</td>\n",
       "      <td>Japan</td>\n",
       "      <td>2689.846429</td>\n",
       "      <td>0.048313</td>\n",
       "      <td>-5.356855</td>\n",
       "      <td>49.5</td>\n",
       "    </tr>\n",
       "    <tr>\n",
       "      <th>853</th>\n",
       "      <td>2020-03</td>\n",
       "      <td>Kazakhstan</td>\n",
       "      <td>82.092526</td>\n",
       "      <td>0.010663</td>\n",
       "      <td>-6.806452</td>\n",
       "      <td>72.2</td>\n",
       "    </tr>\n",
       "    <tr>\n",
       "      <th>884</th>\n",
       "      <td>2020-03</td>\n",
       "      <td>Kyrgyzstan</td>\n",
       "      <td>8.188237</td>\n",
       "      <td>0.000000</td>\n",
       "      <td>-13.198982</td>\n",
       "      <td>57.6</td>\n",
       "    </tr>\n",
       "    <tr>\n",
       "      <th>915</th>\n",
       "      <td>2020-03</td>\n",
       "      <td>Lithuania</td>\n",
       "      <td>3120.378835</td>\n",
       "      <td>0.143119</td>\n",
       "      <td>-13.477005</td>\n",
       "      <td>55.1</td>\n",
       "    </tr>\n",
       "    <tr>\n",
       "      <th>946</th>\n",
       "      <td>2020-03</td>\n",
       "      <td>Malaysia</td>\n",
       "      <td>695.971124</td>\n",
       "      <td>0.148304</td>\n",
       "      <td>-30.206357</td>\n",
       "      <td>57.6</td>\n",
       "    </tr>\n",
       "    <tr>\n",
       "      <th>977</th>\n",
       "      <td>2020-03</td>\n",
       "      <td>Mongolia</td>\n",
       "      <td>21.505101</td>\n",
       "      <td>0.000000</td>\n",
       "      <td>-19.540323</td>\n",
       "      <td>54.8</td>\n",
       "    </tr>\n",
       "    <tr>\n",
       "      <th>1008</th>\n",
       "      <td>2020-03</td>\n",
       "      <td>Netherlands</td>\n",
       "      <td>7775.839234</td>\n",
       "      <td>5.957056</td>\n",
       "      <td>-17.775858</td>\n",
       "      <td>78.5</td>\n",
       "    </tr>\n",
       "    <tr>\n",
       "      <th>1039</th>\n",
       "      <td>2020-03</td>\n",
       "      <td>Norway</td>\n",
       "      <td>1931.861381</td>\n",
       "      <td>0.724978</td>\n",
       "      <td>-19.276755</td>\n",
       "      <td>94.3</td>\n",
       "    </tr>\n",
       "  </tbody>\n",
       "</table>\n",
       "</div>"
      ],
      "text/plain": [
       "     Month-Year      Country  Cumulative pageviews per 100k  \\\n",
       "0       2020-02   Bangladesh                       0.556806   \n",
       "15      2020-02     Bulgaria                     161.407208   \n",
       "30      2020-02      Croatia                     171.629180   \n",
       "45      2020-02      Czechia                    1925.544347   \n",
       "60      2020-02      Denmark                     275.594008   \n",
       "75      2020-02      Finland                     786.502610   \n",
       "90      2020-02      Georgia                      57.162566   \n",
       "105     2020-02      Germany                    1699.497592   \n",
       "120     2020-02       Greece                     175.065669   \n",
       "135     2020-02      Hungary                     293.616026   \n",
       "150     2020-02       Israel                     688.283361   \n",
       "165     2020-02        Italy                    1299.660467   \n",
       "180     2020-02        Japan                     753.072604   \n",
       "195     2020-02   Kazakhstan                      29.335135   \n",
       "210     2020-02   Kyrgyzstan                       1.481785   \n",
       "225     2020-02    Lithuania                     329.244316   \n",
       "240     2020-02     Malaysia                      38.963730   \n",
       "255     2020-02     Mongolia                      11.926942   \n",
       "270     2020-02  Netherlands                     737.167101   \n",
       "285     2020-02       Norway                     362.061354   \n",
       "300     2020-02       Poland                     840.688175   \n",
       "315     2020-02      Romania                     223.528263   \n",
       "330     2020-02       Russia                     880.531242   \n",
       "345     2020-02       Serbia                      39.077414   \n",
       "360     2020-02     Slovakia                     385.174324   \n",
       "375     2020-02     Slovenia                     415.711616   \n",
       "390     2020-02  South Korea                     172.668777   \n",
       "405     2020-02       Sweden                     159.174118   \n",
       "420     2020-02     Thailand                      52.298011   \n",
       "435     2020-02       Turkey                      63.172385   \n",
       "450     2020-03   Bangladesh                      52.223767   \n",
       "481     2020-03     Bulgaria                    1514.447257   \n",
       "512     2020-03      Croatia                    2508.844573   \n",
       "543     2020-03      Czechia                   19659.384150   \n",
       "574     2020-03      Denmark                    1691.256514   \n",
       "605     2020-03      Finland                    6859.011676   \n",
       "636     2020-03      Georgia                     374.538375   \n",
       "667     2020-03      Germany                   15440.830340   \n",
       "698     2020-03       Greece                    3430.971250   \n",
       "729     2020-03      Hungary                    2465.049508   \n",
       "760     2020-03       Israel                    8381.894933   \n",
       "791     2020-03        Italy                    8127.351459   \n",
       "822     2020-03        Japan                    2689.846429   \n",
       "853     2020-03   Kazakhstan                      82.092526   \n",
       "884     2020-03   Kyrgyzstan                       8.188237   \n",
       "915     2020-03    Lithuania                    3120.378835   \n",
       "946     2020-03     Malaysia                     695.971124   \n",
       "977     2020-03     Mongolia                      21.505101   \n",
       "1008    2020-03  Netherlands                    7775.839234   \n",
       "1039    2020-03       Norway                    1931.861381   \n",
       "\n",
       "      Cumulative deaths per 100k  Mobility change from baseline  \\\n",
       "0                       0.000000                       5.250000   \n",
       "15                      0.000000                       5.097669   \n",
       "30                      0.000000                       8.503883   \n",
       "45                      0.000000                       6.410000   \n",
       "60                      0.000000                      -1.578199   \n",
       "75                      0.000000                       5.078715   \n",
       "90                      0.000000                       4.208333   \n",
       "105                     0.000000                       1.636275   \n",
       "120                     0.000000                       6.431250   \n",
       "135                     0.000000                       9.620652   \n",
       "150                     0.000000                       6.939167   \n",
       "165                     0.048781                       1.794570   \n",
       "180                     0.003960                      -1.063194   \n",
       "195                     0.000000                       3.183333   \n",
       "210                     0.000000                       2.416984   \n",
       "225                     0.000000                       2.346420   \n",
       "240                     0.000000                      -1.263725   \n",
       "255                     0.000000                     -23.101389   \n",
       "270                     0.000000                      -2.531211   \n",
       "285                     0.000000                       1.137998   \n",
       "300                     0.000000                       4.280698   \n",
       "315                     0.000000                       5.015877   \n",
       "330                     0.000000                       3.636275   \n",
       "345                     0.000000                       7.966667   \n",
       "360                     0.000000                       6.620948   \n",
       "375                     0.000000                       1.120952   \n",
       "390                     0.030866                     -11.533333   \n",
       "405                     0.000000                      -0.028181   \n",
       "420                     0.000000                      -3.550000   \n",
       "435                     0.000000                       2.384815   \n",
       "450                     0.003036                     -12.572581   \n",
       "481                     0.115373                     -23.540960   \n",
       "512                     0.148233                     -24.078096   \n",
       "543                     0.289778                     -22.053226   \n",
       "574                     1.543368                     -12.113806   \n",
       "605                     0.922319                     -10.596517   \n",
       "636                     0.000000                     -25.459677   \n",
       "667                     0.701051                     -15.426945   \n",
       "698                     0.355122                     -29.296371   \n",
       "729                     0.164100                     -13.076354   \n",
       "760                     0.227887                     -28.381643   \n",
       "791                    20.856348                     -54.764556   \n",
       "822                     0.048313                      -5.356855   \n",
       "853                     0.010663                      -6.806452   \n",
       "884                     0.000000                     -13.198982   \n",
       "915                     0.143119                     -13.477005   \n",
       "946                     0.148304                     -30.206357   \n",
       "977                     0.000000                     -19.540323   \n",
       "1008                    5.957056                     -17.775858   \n",
       "1039                    0.724978                     -19.276755   \n",
       "\n",
       "      Trust the national government in this country  \n",
       "0                                              83.0  \n",
       "15                                             40.4  \n",
       "30                                             42.0  \n",
       "45                                             45.8  \n",
       "60                                             79.3  \n",
       "75                                             80.7  \n",
       "90                                             57.6  \n",
       "105                                            82.0  \n",
       "120                                            40.7  \n",
       "135                                            48.6  \n",
       "150                                            51.1  \n",
       "165                                            52.3  \n",
       "180                                            49.5  \n",
       "195                                            72.2  \n",
       "210                                            57.6  \n",
       "225                                            55.1  \n",
       "240                                            57.6  \n",
       "255                                            54.8  \n",
       "270                                            78.5  \n",
       "285                                            94.3  \n",
       "300                                            33.6  \n",
       "315                                            24.3  \n",
       "330                                            47.0  \n",
       "345                                            57.0  \n",
       "360                                            53.5  \n",
       "375                                            48.1  \n",
       "390                                            52.8  \n",
       "405                                            64.7  \n",
       "420                                            55.6  \n",
       "435                                            54.9  \n",
       "450                                            83.0  \n",
       "481                                            40.4  \n",
       "512                                            42.0  \n",
       "543                                            45.8  \n",
       "574                                            79.3  \n",
       "605                                            80.7  \n",
       "636                                            57.6  \n",
       "667                                            82.0  \n",
       "698                                            40.7  \n",
       "729                                            48.6  \n",
       "760                                            51.1  \n",
       "791                                            52.3  \n",
       "822                                            49.5  \n",
       "853                                            72.2  \n",
       "884                                            57.6  \n",
       "915                                            55.1  \n",
       "946                                            57.6  \n",
       "977                                            54.8  \n",
       "1008                                           78.5  \n",
       "1039                                           94.3  "
      ]
     },
     "execution_count": 5,
     "metadata": {},
     "output_type": "execute_result"
    }
   ],
   "source": [
    "def f(x):\n",
    "    d = {}\n",
    "    d['Cumulative pageviews per 100k'] = x['pageviews per 100k'].sum()\n",
    "    d['Cumulative deaths per 100k'] = x['deaths per 100k'].sum()\n",
    "    d[\"Mobility change from baseline\"] = x['moving category'].mean()\n",
    "\n",
    "\n",
    "    return pd.Series(d, index=['Cumulative pageviews per 100k','Cumulative deaths per 100k', \"Mobility change from baseline\"])\n",
    "\n",
    "grouped_df = df_animation.groupby(['Month-Year','Country']).apply(f)\n",
    "grouped_df = grouped_df.reset_index()\n",
    "grouped_df =grouped_df.merge(df_animation[['Country','Month-Year','Trust the national government in this country']], how='left', on=['Month-Year','Country']).drop_duplicates()\n",
    "grouped_df.head(50)"
   ]
  },
  {
   "cell_type": "code",
   "execution_count": 140,
   "metadata": {},
   "outputs": [
    {
     "data": {
      "application/vnd.plotly.v1+json": {
       "config": {
        "plotlyServerURL": "https://plot.ly"
       },
       "data": [
        {
         "hovertemplate": "<b>%{hovertext}</b><br><br>Month-Year=2020-02<br>Mobility change from baseline=%{x}<br>Cumulative deaths per 100k=%{y}<br>Cumulative pageviews per 100k=%{marker.size}<br>Trust the national government in this country=%{marker.color}<extra></extra>",
         "hovertext": [
          "Bangladesh",
          "Bulgaria",
          "Croatia",
          "Czechia",
          "Denmark",
          "Finland",
          "Georgia",
          "Germany",
          "Greece",
          "Hungary",
          "Israel",
          "Italy",
          "Japan",
          "Kazakhstan",
          "Kyrgyzstan",
          "Lithuania",
          "Malaysia",
          "Mongolia",
          "Netherlands",
          "Norway",
          "Poland",
          "Romania",
          "Russia",
          "Serbia",
          "Slovakia",
          "Slovenia",
          "South Korea",
          "Sweden",
          "Thailand",
          "Turkey"
         ],
         "ids": [
          "Bangladesh",
          "Bulgaria",
          "Croatia",
          "Czechia",
          "Denmark",
          "Finland",
          "Georgia",
          "Germany",
          "Greece",
          "Hungary",
          "Israel",
          "Italy",
          "Japan",
          "Kazakhstan",
          "Kyrgyzstan",
          "Lithuania",
          "Malaysia",
          "Mongolia",
          "Netherlands",
          "Norway",
          "Poland",
          "Romania",
          "Russia",
          "Serbia",
          "Slovakia",
          "Slovenia",
          "South Korea",
          "Sweden",
          "Thailand",
          "Turkey"
         ],
         "legendgroup": "",
         "marker": {
          "color": [
           83,
           40.4,
           42,
           45.8,
           79.3,
           80.7,
           57.6,
           82,
           40.7,
           48.6,
           51.1,
           52.3,
           49.5,
           72.2,
           57.6,
           55.1,
           57.6,
           54.8,
           78.5,
           94.3,
           33.6,
           24.3,
           47,
           57,
           53.5,
           48.1,
           52.8,
           64.7,
           55.6,
           54.9
          ],
          "coloraxis": "coloraxis",
          "size": [
           0.5568057778199338,
           161.4072078009638,
           171.62918017234566,
           1925.5443472889622,
           275.5940078924389,
           786.5026097093377,
           57.16256625538988,
           1699.497591842202,
           175.065669484838,
           293.61602576534983,
           688.2833610053065,
           1299.6604666005167,
           753.072603575134,
           29.335135313243477,
           1.4817854374686545,
           329.2443159557549,
           38.96372977592101,
           11.926942444419229,
           737.1671014534302,
           362.0613535707481,
           840.6881751979666,
           223.52826324469612,
           880.5312418437693,
           39.077413573835294,
           385.1743240809793,
           415.7116160004262,
           172.66877714642837,
           159.17411813385345,
           52.29801075295468,
           63.17238486880582
          ],
          "sizemode": "area",
          "sizeref": 1.9659384149612007,
          "symbol": "circle"
         },
         "mode": "markers",
         "name": "",
         "orientation": "v",
         "showlegend": false,
         "type": "scatter",
         "x": [
          5.25,
          5.097668758366203,
          8.503883404177522,
          6.41,
          -1.5781992213642384,
          5.078715236387411,
          4.208333333333333,
          1.6362745098039218,
          6.43125,
          9.620651659786722,
          6.939166666666667,
          1.794569711716143,
          -1.0631944444444443,
          3.183333333333333,
          2.416984126984127,
          2.346419552669553,
          -1.2637254901960788,
          -23.101388888888888,
          -2.531210758817831,
          1.1379981054393444,
          4.2806983652953,
          5.015877419203793,
          3.6362745098039215,
          7.966666666666667,
          6.620948303697904,
          1.1209521710148187,
          -11.533333333333333,
          -0.02818143073602659,
          -3.55,
          2.3848154458104918
         ],
         "xaxis": "x",
         "y": [
          0,
          0,
          0,
          0,
          0,
          0,
          0,
          0,
          0,
          0,
          0,
          0.048780875918491326,
          0.00396005100545695,
          0,
          0,
          0,
          0,
          0,
          0,
          0,
          0,
          0,
          0,
          0,
          0,
          0,
          0.030866436895624315,
          0,
          0,
          0
         ],
         "yaxis": "y"
        }
       ],
       "frames": [
        {
         "data": [
          {
           "hovertemplate": "<b>%{hovertext}</b><br><br>Month-Year=2020-02<br>Mobility change from baseline=%{x}<br>Cumulative deaths per 100k=%{y}<br>Cumulative pageviews per 100k=%{marker.size}<br>Trust the national government in this country=%{marker.color}<extra></extra>",
           "hovertext": [
            "Bangladesh",
            "Bulgaria",
            "Croatia",
            "Czechia",
            "Denmark",
            "Finland",
            "Georgia",
            "Germany",
            "Greece",
            "Hungary",
            "Israel",
            "Italy",
            "Japan",
            "Kazakhstan",
            "Kyrgyzstan",
            "Lithuania",
            "Malaysia",
            "Mongolia",
            "Netherlands",
            "Norway",
            "Poland",
            "Romania",
            "Russia",
            "Serbia",
            "Slovakia",
            "Slovenia",
            "South Korea",
            "Sweden",
            "Thailand",
            "Turkey"
           ],
           "ids": [
            "Bangladesh",
            "Bulgaria",
            "Croatia",
            "Czechia",
            "Denmark",
            "Finland",
            "Georgia",
            "Germany",
            "Greece",
            "Hungary",
            "Israel",
            "Italy",
            "Japan",
            "Kazakhstan",
            "Kyrgyzstan",
            "Lithuania",
            "Malaysia",
            "Mongolia",
            "Netherlands",
            "Norway",
            "Poland",
            "Romania",
            "Russia",
            "Serbia",
            "Slovakia",
            "Slovenia",
            "South Korea",
            "Sweden",
            "Thailand",
            "Turkey"
           ],
           "legendgroup": "",
           "marker": {
            "color": [
             83,
             40.4,
             42,
             45.8,
             79.3,
             80.7,
             57.6,
             82,
             40.7,
             48.6,
             51.1,
             52.3,
             49.5,
             72.2,
             57.6,
             55.1,
             57.6,
             54.8,
             78.5,
             94.3,
             33.6,
             24.3,
             47,
             57,
             53.5,
             48.1,
             52.8,
             64.7,
             55.6,
             54.9
            ],
            "coloraxis": "coloraxis",
            "size": [
             0.5568057778199338,
             161.4072078009638,
             171.62918017234566,
             1925.5443472889622,
             275.5940078924389,
             786.5026097093377,
             57.16256625538988,
             1699.497591842202,
             175.065669484838,
             293.61602576534983,
             688.2833610053065,
             1299.6604666005167,
             753.072603575134,
             29.335135313243477,
             1.4817854374686545,
             329.2443159557549,
             38.96372977592101,
             11.926942444419229,
             737.1671014534302,
             362.0613535707481,
             840.6881751979666,
             223.52826324469612,
             880.5312418437693,
             39.077413573835294,
             385.1743240809793,
             415.7116160004262,
             172.66877714642837,
             159.17411813385345,
             52.29801075295468,
             63.17238486880582
            ],
            "sizemode": "area",
            "sizeref": 1.9659384149612007,
            "symbol": "circle"
           },
           "mode": "markers",
           "name": "",
           "orientation": "v",
           "showlegend": false,
           "type": "scatter",
           "x": [
            5.25,
            5.097668758366203,
            8.503883404177522,
            6.41,
            -1.5781992213642384,
            5.078715236387411,
            4.208333333333333,
            1.6362745098039218,
            6.43125,
            9.620651659786722,
            6.939166666666667,
            1.794569711716143,
            -1.0631944444444443,
            3.183333333333333,
            2.416984126984127,
            2.346419552669553,
            -1.2637254901960788,
            -23.101388888888888,
            -2.531210758817831,
            1.1379981054393444,
            4.2806983652953,
            5.015877419203793,
            3.6362745098039215,
            7.966666666666667,
            6.620948303697904,
            1.1209521710148187,
            -11.533333333333333,
            -0.02818143073602659,
            -3.55,
            2.3848154458104918
           ],
           "xaxis": "x",
           "y": [
            0,
            0,
            0,
            0,
            0,
            0,
            0,
            0,
            0,
            0,
            0,
            0.048780875918491326,
            0.00396005100545695,
            0,
            0,
            0,
            0,
            0,
            0,
            0,
            0,
            0,
            0,
            0,
            0,
            0,
            0.030866436895624315,
            0,
            0,
            0
           ],
           "yaxis": "y"
          }
         ],
         "name": "2020-02"
        },
        {
         "data": [
          {
           "hovertemplate": "<b>%{hovertext}</b><br><br>Month-Year=2020-03<br>Mobility change from baseline=%{x}<br>Cumulative deaths per 100k=%{y}<br>Cumulative pageviews per 100k=%{marker.size}<br>Trust the national government in this country=%{marker.color}<extra></extra>",
           "hovertext": [
            "Bangladesh",
            "Bulgaria",
            "Croatia",
            "Czechia",
            "Denmark",
            "Finland",
            "Georgia",
            "Germany",
            "Greece",
            "Hungary",
            "Israel",
            "Italy",
            "Japan",
            "Kazakhstan",
            "Kyrgyzstan",
            "Lithuania",
            "Malaysia",
            "Mongolia",
            "Netherlands",
            "Norway",
            "Poland",
            "Romania",
            "Russia",
            "Serbia",
            "Slovakia",
            "Slovenia",
            "South Korea",
            "Sweden",
            "Thailand",
            "Turkey"
           ],
           "ids": [
            "Bangladesh",
            "Bulgaria",
            "Croatia",
            "Czechia",
            "Denmark",
            "Finland",
            "Georgia",
            "Germany",
            "Greece",
            "Hungary",
            "Israel",
            "Italy",
            "Japan",
            "Kazakhstan",
            "Kyrgyzstan",
            "Lithuania",
            "Malaysia",
            "Mongolia",
            "Netherlands",
            "Norway",
            "Poland",
            "Romania",
            "Russia",
            "Serbia",
            "Slovakia",
            "Slovenia",
            "South Korea",
            "Sweden",
            "Thailand",
            "Turkey"
           ],
           "legendgroup": "",
           "marker": {
            "color": [
             83,
             40.4,
             42,
             45.8,
             79.3,
             80.7,
             57.6,
             82,
             40.7,
             48.6,
             51.1,
             52.3,
             49.5,
             72.2,
             57.6,
             55.1,
             57.6,
             54.8,
             78.5,
             94.3,
             33.6,
             24.3,
             47,
             57,
             53.5,
             48.1,
             52.8,
             64.7,
             55.6,
             54.9
            ],
            "coloraxis": "coloraxis",
            "size": [
             52.223767211514776,
             1514.4472574691576,
             2508.8445726934933,
             19659.384149612008,
             1691.2565138687016,
             6859.0116760101155,
             374.5383746705363,
             15440.830339547549,
             3430.971250465864,
             2465.049508474178,
             8381.89493331597,
             8127.351458994786,
             2689.846429222008,
             82.09252606652305,
             8.188236565567529,
             3120.37883490734,
             695.9711237700749,
             21.505100826894004,
             7775.839234010835,
             1931.8613805250511,
             6350.641321805521,
             4871.5099348202675,
             7778.023077570344,
             707.8432833376287,
             3159.6714825364497,
             1857.051329920439,
             1157.065040926291,
             1199.6107188314766,
             153.88256999164096,
             1069.0834414850713
            ],
            "sizemode": "area",
            "sizeref": 1.9659384149612007,
            "symbol": "circle"
           },
           "mode": "markers",
           "name": "",
           "orientation": "v",
           "showlegend": false,
           "type": "scatter",
           "x": [
            -12.57258064516129,
            -23.540960478356105,
            -24.07809574780419,
            -22.053225806451614,
            -12.113805749316292,
            -10.596516621557665,
            -25.45967741935484,
            -15.426944971537003,
            -29.296370967741936,
            -13.076353736174717,
            -28.381642614601017,
            -54.76455611682664,
            -5.356854838709677,
            -6.806451612903226,
            -13.198982334869433,
            -13.477004782851557,
            -30.20635673624289,
            -19.54032258064516,
            -17.775857693665785,
            -19.276754838400002,
            -22.89870158361779,
            -23.154524069601667,
            -1.808349146110057,
            -27.366935483870968,
            -30.608353740883924,
            -34.44100913960583,
            -6.745967741935484,
            -7.252718402378655,
            -19.79032258064516,
            -15.239970403317546
           ],
           "xaxis": "x",
           "y": [
            0.003036018417774994,
            0.11537327219511351,
            0.14823306190212665,
            0.2897776358594403,
            1.543367600667009,
            0.9223185351845532,
            0,
            0.701050858401904,
            0.3551217338613059,
            0.16410005631708807,
            0.22788683790734776,
            20.856347603909448,
            0.048312622266574796,
            0.010663444315973637,
            0,
            0.14311858985253417,
            0.14830378473112427,
            0,
            5.957056445833214,
            0.7249778091728283,
            0.08707337673457423,
            0.4258076844785829,
            0.011799562443072752,
            0.2826444972884971,
            0,
            0.7134638718542783,
            0.2816562366725719,
            3.7185701141707272,
            0.014326652080033607,
            0.25373768955731985
           ],
           "yaxis": "y"
          }
         ],
         "name": "2020-03"
        },
        {
         "data": [
          {
           "hovertemplate": "<b>%{hovertext}</b><br><br>Month-Year=2020-04<br>Mobility change from baseline=%{x}<br>Cumulative deaths per 100k=%{y}<br>Cumulative pageviews per 100k=%{marker.size}<br>Trust the national government in this country=%{marker.color}<extra></extra>",
           "hovertext": [
            "Bangladesh",
            "Bulgaria",
            "Croatia",
            "Czechia",
            "Denmark",
            "Finland",
            "Georgia",
            "Germany",
            "Greece",
            "Hungary",
            "Israel",
            "Italy",
            "Japan",
            "Kazakhstan",
            "Kyrgyzstan",
            "Lithuania",
            "Malaysia",
            "Mongolia",
            "Netherlands",
            "Norway",
            "Poland",
            "Romania",
            "Russia",
            "Serbia",
            "Slovakia",
            "Slovenia",
            "South Korea",
            "Sweden",
            "Thailand",
            "Turkey"
           ],
           "ids": [
            "Bangladesh",
            "Bulgaria",
            "Croatia",
            "Czechia",
            "Denmark",
            "Finland",
            "Georgia",
            "Germany",
            "Greece",
            "Hungary",
            "Israel",
            "Italy",
            "Japan",
            "Kazakhstan",
            "Kyrgyzstan",
            "Lithuania",
            "Malaysia",
            "Mongolia",
            "Netherlands",
            "Norway",
            "Poland",
            "Romania",
            "Russia",
            "Serbia",
            "Slovakia",
            "Slovenia",
            "South Korea",
            "Sweden",
            "Thailand",
            "Turkey"
           ],
           "legendgroup": "",
           "marker": {
            "color": [
             83,
             40.4,
             42,
             45.8,
             79.3,
             80.7,
             57.6,
             82,
             40.7,
             48.6,
             51.1,
             52.3,
             49.5,
             72.2,
             57.6,
             55.1,
             57.6,
             54.8,
             78.5,
             94.3,
             33.6,
             24.3,
             47,
             57,
             53.5,
             48.1,
             52.8,
             64.7,
             55.6,
             54.9
            ],
            "coloraxis": "coloraxis",
            "size": [
             150.4316765823332,
             1641.3722785428067,
             1497.9445015416236,
             5283.926931914781,
             724.3024149930272,
             2554.4425642408423,
             281.89096347935214,
             8407.027146216398,
             2582.949895313851,
             3191.0999513956144,
             5950.798146520385,
             4760.956298272987,
             2835.79094098732,
             84.09725359792607,
             2.1884831076460136,
             1606.5061710946964,
             469.3165957681885,
             19.33933889964652,
             4445.6726772353295,
             1129.3481241199186,
             2777.8570819811675,
             2211.240076603841,
             4857.038618420051,
             555.3602006978855,
             1151.7859056533573,
             960.5601928064767,
             684.9686760646351,
             1527.9169961062223,
             93.31235032767486,
             955.8002343089709
            ],
            "sizemode": "area",
            "sizeref": 1.9659384149612007,
            "symbol": "circle"
           },
           "mode": "markers",
           "name": "",
           "orientation": "v",
           "showlegend": false,
           "type": "scatter",
           "x": [
            -57.916666666666664,
            -40.9994498491125,
            -44.94825504396131,
            -27.99166666666666,
            -6.442399760594593,
            -22.323402068722974,
            -62.97083333333333,
            -24.091176470588234,
            -54.484375,
            -27.797624473766117,
            -59.79078947368421,
            -74.29527262976904,
            -19.400347222222226,
            -46.75,
            -50.74201388888889,
            -25.192046055796062,
            -68.05294117647058,
            -4.804166666666666,
            -27.424867481247166,
            -14.886546637737661,
            -41.85625418762897,
            -51.99864132417192,
            -46.45735294117647,
            -64.975,
            -39.38809667311739,
            -51.05162913770448,
            2.533333333333333,
            -6.076066195299776,
            -46.016666666666666,
            -54.59180216781043
           ],
           "xaxis": "x",
           "y": [
            0.0989742004194648,
            0.8364562234145729,
            1.55644714997233,
            1.9162714629414597,
            6.207767460460636,
            3.7073588178986947,
            0.16117264921632488,
            6.860197508032353,
            0.9532214961540317,
            3.0358510418661298,
            2.213757853957093,
            26.138138996463333,
            0.3278922232518355,
            0.12262960963369683,
            0.12158239486922293,
            1.0018301289677394,
            0.1699314200044133,
            0,
            21.609379927185167,
            3.1787488556039394,
            1.6121767631765105,
            3.2974131663890263,
            0.7329610552873425,
            2.3626181055397453,
            0.421335939021332,
            3.61488361739501,
            0.1659070983139807,
            23.972703956809724,
            0.06303726915214788,
            3.5096428088302183
           ],
           "yaxis": "y"
          }
         ],
         "name": "2020-04"
        },
        {
         "data": [
          {
           "hovertemplate": "<b>%{hovertext}</b><br><br>Month-Year=2020-05<br>Mobility change from baseline=%{x}<br>Cumulative deaths per 100k=%{y}<br>Cumulative pageviews per 100k=%{marker.size}<br>Trust the national government in this country=%{marker.color}<extra></extra>",
           "hovertext": [
            "Bangladesh",
            "Bulgaria",
            "Croatia",
            "Czechia",
            "Denmark",
            "Finland",
            "Georgia",
            "Germany",
            "Greece",
            "Hungary",
            "Israel",
            "Italy",
            "Japan",
            "Kazakhstan",
            "Kyrgyzstan",
            "Lithuania",
            "Malaysia",
            "Mongolia",
            "Netherlands",
            "Norway",
            "Poland",
            "Romania",
            "Russia",
            "Serbia",
            "Slovakia",
            "Slovenia",
            "South Korea",
            "Sweden",
            "Thailand",
            "Turkey"
           ],
           "ids": [
            "Bangladesh",
            "Bulgaria",
            "Croatia",
            "Czechia",
            "Denmark",
            "Finland",
            "Georgia",
            "Germany",
            "Greece",
            "Hungary",
            "Israel",
            "Italy",
            "Japan",
            "Kazakhstan",
            "Kyrgyzstan",
            "Lithuania",
            "Malaysia",
            "Mongolia",
            "Netherlands",
            "Norway",
            "Poland",
            "Romania",
            "Russia",
            "Serbia",
            "Slovakia",
            "Slovenia",
            "South Korea",
            "Sweden",
            "Thailand",
            "Turkey"
           ],
           "legendgroup": "",
           "marker": {
            "color": [
             83,
             40.4,
             42,
             45.8,
             79.3,
             80.7,
             57.6,
             82,
             40.7,
             48.6,
             51.1,
             52.3,
             49.5,
             72.2,
             57.6,
             55.1,
             57.6,
             54.8,
             78.5,
             94.3,
             33.6,
             24.3,
             47,
             57,
             53.5,
             48.1,
             52.8,
             64.7,
             55.6,
             54.9
            ],
            "coloraxis": "coloraxis",
            "size": [
             85.68311899012944,
             1052.420567304801,
             590.6593406593406,
             1588.467523124723,
             340.56978388052,
             1184.4559306257315,
             105.62180945309822,
             4505.6791192098035,
             983.5844043991733,
             1467.7006474465163,
             2867.836485767924,
             2323.9057898644,
             1598.9838509119998,
             21.721436071638298,
             12.735755862551102,
             476.37022632416,
             265.7665615625386,
             13.17759369818186,
             2007.8261617406758,
             526.8915646972985,
             1340.6028169028948,
             719.8330833876844,
             1733.8311758446519,
             171.13761946078387,
             454.32837494208917,
             478.7342580142208,
             398.6207409839282,
             882.5084450176087,
             77.25790400678923,
             410.0899053104298
            ],
            "sizemode": "area",
            "sizeref": 1.9659384149612007,
            "symbol": "circle"
           },
           "mode": "markers",
           "name": "",
           "orientation": "v",
           "showlegend": false,
           "type": "scatter",
           "x": [
            -46.11290322580645,
            -13.81665819800224,
            -14.437178000219484,
            -14.602688172043012,
            9.139825973530906,
            -7.106226272281278,
            -50.18055555555556,
            -6.471833491461101,
            -10.17641129032258,
            -5.586359186430656,
            -20.508467741935483,
            -38.84778027054695,
            -22.526713709677413,
            -18.024193548387096,
            -26.818788402457752,
            1.2439920518549552,
            -50.37760910815938,
            11.951612903225806,
            -9.624515719085835,
            1.9159069776136453,
            -13.850658368891501,
            -31.300420063328843,
            -27.041745730550286,
            -32.40277777777778,
            -21.327264568660485,
            -20.817391049798015,
            7.455645161290323,
            4.620277376164806,
            -34.08064516129032,
            -46.12008660248006
           ],
           "xaxis": "x",
           "y": [
            0.29267217547350943,
            1.0672027678048002,
            0.8399873507787174,
            0.8272684120503374,
            2.2807543432079136,
            0.8861491808635904,
            0.16117264921632488,
            2.659904800660397,
            0.3270858075038344,
            2.1948382532410533,
            0.6728087595359791,
            9.164076275997953,
            0.33026825385510966,
            0.0853075545277891,
            0.12158239486922293,
            0.787152244188938,
            0.037075946182781074,
            0,
            6.668004472092423,
            0.4833185394485522,
            1.1082066129854902,
            2.850834375350512,
            2.5126127084660794,
            0.7537186594359924,
            0.09159476935246345,
            0.8085923881015153,
            0.044370503037459944,
            17.47245022476583,
            0.004297995624010082,
            1.6196527286696216
           ],
           "yaxis": "y"
          }
         ],
         "name": "2020-05"
        },
        {
         "data": [
          {
           "hovertemplate": "<b>%{hovertext}</b><br><br>Month-Year=2020-06<br>Mobility change from baseline=%{x}<br>Cumulative deaths per 100k=%{y}<br>Cumulative pageviews per 100k=%{marker.size}<br>Trust the national government in this country=%{marker.color}<extra></extra>",
           "hovertext": [
            "Bangladesh",
            "Bulgaria",
            "Croatia",
            "Czechia",
            "Denmark",
            "Finland",
            "Germany",
            "Greece",
            "Hungary",
            "Israel",
            "Italy",
            "Japan",
            "Kazakhstan",
            "Kyrgyzstan",
            "Lithuania",
            "Malaysia",
            "Mongolia",
            "Netherlands",
            "Norway",
            "Poland",
            "Romania",
            "Russia",
            "Slovakia",
            "Slovenia",
            "South Korea",
            "Sweden",
            "Thailand",
            "Turkey"
           ],
           "ids": [
            "Bangladesh",
            "Bulgaria",
            "Croatia",
            "Czechia",
            "Denmark",
            "Finland",
            "Germany",
            "Greece",
            "Hungary",
            "Israel",
            "Italy",
            "Japan",
            "Kazakhstan",
            "Kyrgyzstan",
            "Lithuania",
            "Malaysia",
            "Mongolia",
            "Netherlands",
            "Norway",
            "Poland",
            "Romania",
            "Russia",
            "Slovakia",
            "Slovenia",
            "South Korea",
            "Sweden",
            "Thailand",
            "Turkey"
           ],
           "legendgroup": "",
           "marker": {
            "color": [
             83,
             40.4,
             42,
             45.8,
             79.3,
             80.7,
             82,
             40.7,
             48.6,
             51.1,
             52.3,
             49.5,
             72.2,
             57.6,
             55.1,
             57.6,
             54.8,
             78.5,
             94.3,
             33.6,
             24.3,
             47,
             53.5,
             48.1,
             52.8,
             64.7,
             55.6,
             54.9
            ],
            "coloraxis": "coloraxis",
            "size": [
             60.94867694051656,
             624.38572746093,
             355.7099375444699,
             868.3046643543034,
             173.1143992081495,
             577.9139433403448,
             2600.071372508833,
             522.4681782890534,
             855.4741060880199,
             1772.861933131491,
             1086.5923289852246,
             828.3349569542454,
             12.700162180324602,
             8.4803720421283,
             202.76326217357777,
             240.51166288770082,
             5.6126787973737535,
             1148.7142734283175,
             241.6035022004936,
             766.7153837811851,
             114.22031497305987,
             770.4329951469996,
             282.03861379010544,
             330.8569795078907,
             157.665759662849,
             528.2591045567262,
             55.05159328273713,
             225.15070032728727
            ],
            "sizemode": "area",
            "sizeref": 1.9659384149612007,
            "symbol": "circle"
           },
           "mode": "markers",
           "name": "",
           "orientation": "v",
           "showlegend": false,
           "type": "scatter",
           "x": [
            -33.00833333333333,
            2.887601675199635,
            17.834990851941317,
            6.332777777777778,
            32.85582968628657,
            24.31308808284916,
            12.432107843137256,
            17.233333333333334,
            14.55941887701079,
            -6.166666666666668,
            -3.5921264317716757,
            -10.6109375,
            -0.9666666666666667,
            -5.824375000000001,
            27.93005381192881,
            -26.037254901960786,
            19.543055555555554,
            5.048178434446955,
            24.030562382337447,
            10.96937329809047,
            -9.85095586973463,
            -3.0598039215686277,
            -0.2027196708865683,
            -5.129374224345877,
            6.516666666666667,
            25.121136575300685,
            -22.216666666666665,
            -3.090375315915481
           ],
           "xaxis": "x",
           "y": [
            0.7268228092153337,
            1.297949312195027,
            0.09882204126808443,
            0.3318421313874236,
            0.5316043957853032,
            0.07233870864192575,
            0.5783970203967681,
            0.1588702493590053,
            0.6051189576692622,
            0.4340701674425671,
            2.3700777299708373,
            0.06019277528294564,
            0.7837631572240624,
            0.683900971139379,
            0.2504575322419348,
            0.018537973091390537,
            0,
            0.9001519364733537,
            0.2602484443184512,
            1.0527962823362156,
            1.9992190063933468,
            3.201845973523212,
            0,
            0.14269277437085565,
            0.021220675365741716,
            9.059789005434133,
            0.0014326652080033607,
            0.7007428716279255
           ],
           "yaxis": "y"
          }
         ],
         "name": "2020-06"
        },
        {
         "data": [
          {
           "hovertemplate": "<b>%{hovertext}</b><br><br>Month-Year=2020-07<br>Mobility change from baseline=%{x}<br>Cumulative deaths per 100k=%{y}<br>Cumulative pageviews per 100k=%{marker.size}<br>Trust the national government in this country=%{marker.color}<extra></extra>",
           "hovertext": [
            "Bangladesh",
            "Bulgaria",
            "Croatia",
            "Czechia",
            "Denmark",
            "Finland",
            "Georgia",
            "Germany",
            "Greece",
            "Hungary",
            "Israel",
            "Italy",
            "Japan",
            "Kazakhstan",
            "Kyrgyzstan",
            "Lithuania",
            "Malaysia",
            "Mongolia",
            "Netherlands",
            "Norway",
            "Poland",
            "Romania",
            "Russia",
            "Serbia",
            "Slovakia",
            "Slovenia",
            "South Korea",
            "Sweden",
            "Thailand",
            "Turkey"
           ],
           "ids": [
            "Bangladesh",
            "Bulgaria",
            "Croatia",
            "Czechia",
            "Denmark",
            "Finland",
            "Georgia",
            "Germany",
            "Greece",
            "Hungary",
            "Israel",
            "Italy",
            "Japan",
            "Kazakhstan",
            "Kyrgyzstan",
            "Lithuania",
            "Malaysia",
            "Mongolia",
            "Netherlands",
            "Norway",
            "Poland",
            "Romania",
            "Russia",
            "Serbia",
            "Slovakia",
            "Slovenia",
            "South Korea",
            "Sweden",
            "Thailand",
            "Turkey"
           ],
           "legendgroup": "",
           "marker": {
            "color": [
             83,
             40.4,
             42,
             45.8,
             79.3,
             80.7,
             57.6,
             82,
             40.7,
             48.6,
             51.1,
             52.3,
             49.5,
             72.2,
             57.6,
             55.1,
             57.6,
             54.8,
             78.5,
             94.3,
             33.6,
             24.3,
             47,
             57,
             53.5,
             48.1,
             52.8,
             64.7,
             55.6,
             54.9
            ],
            "coloraxis": "coloraxis",
            "size": [
             32.12471808216077,
             433.99098502094375,
             336.85963317258273,
             1035.6652705616395,
             127.29352999723565,
             543.7519881841954,
             71.99044998329175,
             2204.7051431195327,
             387.5219194217571,
             799.833930743007,
             1765.6346648435722,
             759.5333769434363,
             723.677936971828,
             11.324577863564004,
             7.781273271630269,
             169.63130862271612,
             323.1632159156655,
             5.521167730025268,
             1064.799472522432,
             176.5042127716924,
             576.0326044939889,
             100.03884196926705,
             540.4928395431156,
             216.57815787101148,
             167.01390243728187,
             337.4684113870737,
             45.48941137492632,
             416.54746315283364,
             76.89830503958038,
             162.78221337212568
            ],
            "sizemode": "area",
            "sizeref": 1.9659384149612007,
            "symbol": "circle"
           },
           "mode": "markers",
           "name": "",
           "orientation": "v",
           "showlegend": false,
           "type": "scatter",
           "x": [
            -22.129032258064516,
            11.050833645532348,
            53.172493594588,
            34.454980503367594,
            45.57559687861744,
            31.534601089383177,
            -8.241379310344827,
            24.068844876660346,
            56.3735599078341,
            26.188835313432083,
            -10.425806451612903,
            21.43729569311702,
            -10.457493279569892,
            -12.451612903225806,
            -18.80584677419355,
            38.05873743192292,
            -13.903700189753321,
            17.286290322580644,
            14.114675208854202,
            21.478083001591536,
            26.400848824893547,
            -0.8871544194535452,
            7.770872865275142,
            -10.754310344827585,
            21.93966871752009,
            -2.386648999767706,
            5.254032258064516,
            23.118484428788566,
            -14.580645161290322,
            9.285244904296926
           ],
           "xaxis": "x",
           "y": [
            0.7675054560135185,
            2.206513830731546,
            0.9388093920468019,
            0.37390662691540677,
            0.17148528896300097,
            0.05425403148144431,
            0.05372421640544162,
            0.20201808612610606,
            0.13083432300153375,
            0.11281878871799805,
            2.5718657420972093,
            0.629105089431578,
            0.03088839784256421,
            3.225691905582025,
            20.015501755345827,
            0.07155929492626709,
            0.012358648727593692,
            0,
            0.40707507955164407,
            0.09294587297087542,
            0.6675625549650691,
            3.593401434868041,
            3.215727811691533,
            4.145452626897958,
            0.01831895387049269,
            0.3805140649889484,
            0.03665389381355387,
            3.9600357059999953,
            0,
            0.6639864773462577
           ],
           "yaxis": "y"
          }
         ],
         "name": "2020-07"
        }
       ],
       "layout": {
        "annotations": [
         {
          "showarrow": false,
          "text": "  The x axis shows the mean mobility change from baseline per month.",
          "x": 0,
          "xref": "paper",
          "y": 1.15,
          "yref": "paper"
         },
         {
          "showarrow": false,
          "text": "  The y axis shows the cumulative deaths per 100k per per month.",
          "x": 0,
          "xref": "paper",
          "y": 1.12,
          "yref": "paper"
         },
         {
          "showarrow": false,
          "text": "  The size of the bubble shows the cumulative pageviews per 100k per month ",
          "x": 0,
          "xref": "paper",
          "y": 1.09,
          "yref": "paper"
         },
         {
          "showarrow": false,
          "text": "  The colour of the bubble corresponds to how much people trust their government.",
          "x": 0,
          "xref": "paper",
          "y": 1.06,
          "yref": "paper"
         }
        ],
        "coloraxis": {
         "colorbar": {
          "title": {
           "text": "Trust the national government in this country"
          }
         },
         "colorscale": [
          [
           0,
           "#0d0887"
          ],
          [
           0.1111111111111111,
           "#46039f"
          ],
          [
           0.2222222222222222,
           "#7201a8"
          ],
          [
           0.3333333333333333,
           "#9c179e"
          ],
          [
           0.4444444444444444,
           "#bd3786"
          ],
          [
           0.5555555555555556,
           "#d8576b"
          ],
          [
           0.6666666666666666,
           "#ed7953"
          ],
          [
           0.7777777777777778,
           "#fb9f3a"
          ],
          [
           0.8888888888888888,
           "#fdca26"
          ],
          [
           1,
           "#f0f921"
          ]
         ]
        },
        "height": 800,
        "legend": {
         "itemsizing": "constant",
         "tracegroupgap": 0
        },
        "margin": {
         "b": 10,
         "l": 40,
         "r": 40,
         "t": 150
        },
        "sliders": [
         {
          "active": 0,
          "currentvalue": {
           "prefix": "Month-Year="
          },
          "len": 0.9,
          "pad": {
           "b": 10,
           "t": 60
          },
          "steps": [
           {
            "args": [
             [
              "2020-02"
             ],
             {
              "frame": {
               "duration": 0,
               "redraw": false
              },
              "fromcurrent": true,
              "mode": "immediate",
              "transition": {
               "duration": 0,
               "easing": "linear"
              }
             }
            ],
            "label": "2020-02",
            "method": "animate"
           },
           {
            "args": [
             [
              "2020-03"
             ],
             {
              "frame": {
               "duration": 0,
               "redraw": false
              },
              "fromcurrent": true,
              "mode": "immediate",
              "transition": {
               "duration": 0,
               "easing": "linear"
              }
             }
            ],
            "label": "2020-03",
            "method": "animate"
           },
           {
            "args": [
             [
              "2020-04"
             ],
             {
              "frame": {
               "duration": 0,
               "redraw": false
              },
              "fromcurrent": true,
              "mode": "immediate",
              "transition": {
               "duration": 0,
               "easing": "linear"
              }
             }
            ],
            "label": "2020-04",
            "method": "animate"
           },
           {
            "args": [
             [
              "2020-05"
             ],
             {
              "frame": {
               "duration": 0,
               "redraw": false
              },
              "fromcurrent": true,
              "mode": "immediate",
              "transition": {
               "duration": 0,
               "easing": "linear"
              }
             }
            ],
            "label": "2020-05",
            "method": "animate"
           },
           {
            "args": [
             [
              "2020-06"
             ],
             {
              "frame": {
               "duration": 0,
               "redraw": false
              },
              "fromcurrent": true,
              "mode": "immediate",
              "transition": {
               "duration": 0,
               "easing": "linear"
              }
             }
            ],
            "label": "2020-06",
            "method": "animate"
           },
           {
            "args": [
             [
              "2020-07"
             ],
             {
              "frame": {
               "duration": 0,
               "redraw": false
              },
              "fromcurrent": true,
              "mode": "immediate",
              "transition": {
               "duration": 0,
               "easing": "linear"
              }
             }
            ],
            "label": "2020-07",
            "method": "animate"
           }
          ],
          "x": 0.1,
          "xanchor": "left",
          "y": 0,
          "yanchor": "top"
         }
        ],
        "template": {
         "data": {
          "bar": [
           {
            "error_x": {
             "color": "#2a3f5f"
            },
            "error_y": {
             "color": "#2a3f5f"
            },
            "marker": {
             "line": {
              "color": "#E5ECF6",
              "width": 0.5
             },
             "pattern": {
              "fillmode": "overlay",
              "size": 10,
              "solidity": 0.2
             }
            },
            "type": "bar"
           }
          ],
          "barpolar": [
           {
            "marker": {
             "line": {
              "color": "#E5ECF6",
              "width": 0.5
             },
             "pattern": {
              "fillmode": "overlay",
              "size": 10,
              "solidity": 0.2
             }
            },
            "type": "barpolar"
           }
          ],
          "carpet": [
           {
            "aaxis": {
             "endlinecolor": "#2a3f5f",
             "gridcolor": "white",
             "linecolor": "white",
             "minorgridcolor": "white",
             "startlinecolor": "#2a3f5f"
            },
            "baxis": {
             "endlinecolor": "#2a3f5f",
             "gridcolor": "white",
             "linecolor": "white",
             "minorgridcolor": "white",
             "startlinecolor": "#2a3f5f"
            },
            "type": "carpet"
           }
          ],
          "choropleth": [
           {
            "colorbar": {
             "outlinewidth": 0,
             "ticks": ""
            },
            "type": "choropleth"
           }
          ],
          "contour": [
           {
            "colorbar": {
             "outlinewidth": 0,
             "ticks": ""
            },
            "colorscale": [
             [
              0,
              "#0d0887"
             ],
             [
              0.1111111111111111,
              "#46039f"
             ],
             [
              0.2222222222222222,
              "#7201a8"
             ],
             [
              0.3333333333333333,
              "#9c179e"
             ],
             [
              0.4444444444444444,
              "#bd3786"
             ],
             [
              0.5555555555555556,
              "#d8576b"
             ],
             [
              0.6666666666666666,
              "#ed7953"
             ],
             [
              0.7777777777777778,
              "#fb9f3a"
             ],
             [
              0.8888888888888888,
              "#fdca26"
             ],
             [
              1,
              "#f0f921"
             ]
            ],
            "type": "contour"
           }
          ],
          "contourcarpet": [
           {
            "colorbar": {
             "outlinewidth": 0,
             "ticks": ""
            },
            "type": "contourcarpet"
           }
          ],
          "heatmap": [
           {
            "colorbar": {
             "outlinewidth": 0,
             "ticks": ""
            },
            "colorscale": [
             [
              0,
              "#0d0887"
             ],
             [
              0.1111111111111111,
              "#46039f"
             ],
             [
              0.2222222222222222,
              "#7201a8"
             ],
             [
              0.3333333333333333,
              "#9c179e"
             ],
             [
              0.4444444444444444,
              "#bd3786"
             ],
             [
              0.5555555555555556,
              "#d8576b"
             ],
             [
              0.6666666666666666,
              "#ed7953"
             ],
             [
              0.7777777777777778,
              "#fb9f3a"
             ],
             [
              0.8888888888888888,
              "#fdca26"
             ],
             [
              1,
              "#f0f921"
             ]
            ],
            "type": "heatmap"
           }
          ],
          "heatmapgl": [
           {
            "colorbar": {
             "outlinewidth": 0,
             "ticks": ""
            },
            "colorscale": [
             [
              0,
              "#0d0887"
             ],
             [
              0.1111111111111111,
              "#46039f"
             ],
             [
              0.2222222222222222,
              "#7201a8"
             ],
             [
              0.3333333333333333,
              "#9c179e"
             ],
             [
              0.4444444444444444,
              "#bd3786"
             ],
             [
              0.5555555555555556,
              "#d8576b"
             ],
             [
              0.6666666666666666,
              "#ed7953"
             ],
             [
              0.7777777777777778,
              "#fb9f3a"
             ],
             [
              0.8888888888888888,
              "#fdca26"
             ],
             [
              1,
              "#f0f921"
             ]
            ],
            "type": "heatmapgl"
           }
          ],
          "histogram": [
           {
            "marker": {
             "pattern": {
              "fillmode": "overlay",
              "size": 10,
              "solidity": 0.2
             }
            },
            "type": "histogram"
           }
          ],
          "histogram2d": [
           {
            "colorbar": {
             "outlinewidth": 0,
             "ticks": ""
            },
            "colorscale": [
             [
              0,
              "#0d0887"
             ],
             [
              0.1111111111111111,
              "#46039f"
             ],
             [
              0.2222222222222222,
              "#7201a8"
             ],
             [
              0.3333333333333333,
              "#9c179e"
             ],
             [
              0.4444444444444444,
              "#bd3786"
             ],
             [
              0.5555555555555556,
              "#d8576b"
             ],
             [
              0.6666666666666666,
              "#ed7953"
             ],
             [
              0.7777777777777778,
              "#fb9f3a"
             ],
             [
              0.8888888888888888,
              "#fdca26"
             ],
             [
              1,
              "#f0f921"
             ]
            ],
            "type": "histogram2d"
           }
          ],
          "histogram2dcontour": [
           {
            "colorbar": {
             "outlinewidth": 0,
             "ticks": ""
            },
            "colorscale": [
             [
              0,
              "#0d0887"
             ],
             [
              0.1111111111111111,
              "#46039f"
             ],
             [
              0.2222222222222222,
              "#7201a8"
             ],
             [
              0.3333333333333333,
              "#9c179e"
             ],
             [
              0.4444444444444444,
              "#bd3786"
             ],
             [
              0.5555555555555556,
              "#d8576b"
             ],
             [
              0.6666666666666666,
              "#ed7953"
             ],
             [
              0.7777777777777778,
              "#fb9f3a"
             ],
             [
              0.8888888888888888,
              "#fdca26"
             ],
             [
              1,
              "#f0f921"
             ]
            ],
            "type": "histogram2dcontour"
           }
          ],
          "mesh3d": [
           {
            "colorbar": {
             "outlinewidth": 0,
             "ticks": ""
            },
            "type": "mesh3d"
           }
          ],
          "parcoords": [
           {
            "line": {
             "colorbar": {
              "outlinewidth": 0,
              "ticks": ""
             }
            },
            "type": "parcoords"
           }
          ],
          "pie": [
           {
            "automargin": true,
            "type": "pie"
           }
          ],
          "scatter": [
           {
            "fillpattern": {
             "fillmode": "overlay",
             "size": 10,
             "solidity": 0.2
            },
            "type": "scatter"
           }
          ],
          "scatter3d": [
           {
            "line": {
             "colorbar": {
              "outlinewidth": 0,
              "ticks": ""
             }
            },
            "marker": {
             "colorbar": {
              "outlinewidth": 0,
              "ticks": ""
             }
            },
            "type": "scatter3d"
           }
          ],
          "scattercarpet": [
           {
            "marker": {
             "colorbar": {
              "outlinewidth": 0,
              "ticks": ""
             }
            },
            "type": "scattercarpet"
           }
          ],
          "scattergeo": [
           {
            "marker": {
             "colorbar": {
              "outlinewidth": 0,
              "ticks": ""
             }
            },
            "type": "scattergeo"
           }
          ],
          "scattergl": [
           {
            "marker": {
             "colorbar": {
              "outlinewidth": 0,
              "ticks": ""
             }
            },
            "type": "scattergl"
           }
          ],
          "scattermapbox": [
           {
            "marker": {
             "colorbar": {
              "outlinewidth": 0,
              "ticks": ""
             }
            },
            "type": "scattermapbox"
           }
          ],
          "scatterpolar": [
           {
            "marker": {
             "colorbar": {
              "outlinewidth": 0,
              "ticks": ""
             }
            },
            "type": "scatterpolar"
           }
          ],
          "scatterpolargl": [
           {
            "marker": {
             "colorbar": {
              "outlinewidth": 0,
              "ticks": ""
             }
            },
            "type": "scatterpolargl"
           }
          ],
          "scatterternary": [
           {
            "marker": {
             "colorbar": {
              "outlinewidth": 0,
              "ticks": ""
             }
            },
            "type": "scatterternary"
           }
          ],
          "surface": [
           {
            "colorbar": {
             "outlinewidth": 0,
             "ticks": ""
            },
            "colorscale": [
             [
              0,
              "#0d0887"
             ],
             [
              0.1111111111111111,
              "#46039f"
             ],
             [
              0.2222222222222222,
              "#7201a8"
             ],
             [
              0.3333333333333333,
              "#9c179e"
             ],
             [
              0.4444444444444444,
              "#bd3786"
             ],
             [
              0.5555555555555556,
              "#d8576b"
             ],
             [
              0.6666666666666666,
              "#ed7953"
             ],
             [
              0.7777777777777778,
              "#fb9f3a"
             ],
             [
              0.8888888888888888,
              "#fdca26"
             ],
             [
              1,
              "#f0f921"
             ]
            ],
            "type": "surface"
           }
          ],
          "table": [
           {
            "cells": {
             "fill": {
              "color": "#EBF0F8"
             },
             "line": {
              "color": "white"
             }
            },
            "header": {
             "fill": {
              "color": "#C8D4E3"
             },
             "line": {
              "color": "white"
             }
            },
            "type": "table"
           }
          ]
         },
         "layout": {
          "annotationdefaults": {
           "arrowcolor": "#2a3f5f",
           "arrowhead": 0,
           "arrowwidth": 1
          },
          "autotypenumbers": "strict",
          "coloraxis": {
           "colorbar": {
            "outlinewidth": 0,
            "ticks": ""
           }
          },
          "colorscale": {
           "diverging": [
            [
             0,
             "#8e0152"
            ],
            [
             0.1,
             "#c51b7d"
            ],
            [
             0.2,
             "#de77ae"
            ],
            [
             0.3,
             "#f1b6da"
            ],
            [
             0.4,
             "#fde0ef"
            ],
            [
             0.5,
             "#f7f7f7"
            ],
            [
             0.6,
             "#e6f5d0"
            ],
            [
             0.7,
             "#b8e186"
            ],
            [
             0.8,
             "#7fbc41"
            ],
            [
             0.9,
             "#4d9221"
            ],
            [
             1,
             "#276419"
            ]
           ],
           "sequential": [
            [
             0,
             "#0d0887"
            ],
            [
             0.1111111111111111,
             "#46039f"
            ],
            [
             0.2222222222222222,
             "#7201a8"
            ],
            [
             0.3333333333333333,
             "#9c179e"
            ],
            [
             0.4444444444444444,
             "#bd3786"
            ],
            [
             0.5555555555555556,
             "#d8576b"
            ],
            [
             0.6666666666666666,
             "#ed7953"
            ],
            [
             0.7777777777777778,
             "#fb9f3a"
            ],
            [
             0.8888888888888888,
             "#fdca26"
            ],
            [
             1,
             "#f0f921"
            ]
           ],
           "sequentialminus": [
            [
             0,
             "#0d0887"
            ],
            [
             0.1111111111111111,
             "#46039f"
            ],
            [
             0.2222222222222222,
             "#7201a8"
            ],
            [
             0.3333333333333333,
             "#9c179e"
            ],
            [
             0.4444444444444444,
             "#bd3786"
            ],
            [
             0.5555555555555556,
             "#d8576b"
            ],
            [
             0.6666666666666666,
             "#ed7953"
            ],
            [
             0.7777777777777778,
             "#fb9f3a"
            ],
            [
             0.8888888888888888,
             "#fdca26"
            ],
            [
             1,
             "#f0f921"
            ]
           ]
          },
          "colorway": [
           "#636efa",
           "#EF553B",
           "#00cc96",
           "#ab63fa",
           "#FFA15A",
           "#19d3f3",
           "#FF6692",
           "#B6E880",
           "#FF97FF",
           "#FECB52"
          ],
          "font": {
           "color": "#2a3f5f"
          },
          "geo": {
           "bgcolor": "white",
           "lakecolor": "white",
           "landcolor": "#E5ECF6",
           "showlakes": true,
           "showland": true,
           "subunitcolor": "white"
          },
          "hoverlabel": {
           "align": "left"
          },
          "hovermode": "closest",
          "mapbox": {
           "style": "light"
          },
          "paper_bgcolor": "white",
          "plot_bgcolor": "#E5ECF6",
          "polar": {
           "angularaxis": {
            "gridcolor": "white",
            "linecolor": "white",
            "ticks": ""
           },
           "bgcolor": "#E5ECF6",
           "radialaxis": {
            "gridcolor": "white",
            "linecolor": "white",
            "ticks": ""
           }
          },
          "scene": {
           "xaxis": {
            "backgroundcolor": "#E5ECF6",
            "gridcolor": "white",
            "gridwidth": 2,
            "linecolor": "white",
            "showbackground": true,
            "ticks": "",
            "zerolinecolor": "white"
           },
           "yaxis": {
            "backgroundcolor": "#E5ECF6",
            "gridcolor": "white",
            "gridwidth": 2,
            "linecolor": "white",
            "showbackground": true,
            "ticks": "",
            "zerolinecolor": "white"
           },
           "zaxis": {
            "backgroundcolor": "#E5ECF6",
            "gridcolor": "white",
            "gridwidth": 2,
            "linecolor": "white",
            "showbackground": true,
            "ticks": "",
            "zerolinecolor": "white"
           }
          },
          "shapedefaults": {
           "line": {
            "color": "#2a3f5f"
           }
          },
          "ternary": {
           "aaxis": {
            "gridcolor": "white",
            "linecolor": "white",
            "ticks": ""
           },
           "baxis": {
            "gridcolor": "white",
            "linecolor": "white",
            "ticks": ""
           },
           "bgcolor": "#E5ECF6",
           "caxis": {
            "gridcolor": "white",
            "linecolor": "white",
            "ticks": ""
           }
          },
          "title": {
           "x": 0.05
          },
          "xaxis": {
           "automargin": true,
           "gridcolor": "white",
           "linecolor": "white",
           "ticks": "",
           "title": {
            "standoff": 15
           },
           "zerolinecolor": "white",
           "zerolinewidth": 2
          },
          "yaxis": {
           "automargin": true,
           "gridcolor": "white",
           "linecolor": "white",
           "ticks": "",
           "title": {
            "standoff": 15
           },
           "zerolinecolor": "white",
           "zerolinewidth": 2
          }
         }
        },
        "title": {
         "text": "Cumulative deaths per 100k vs. Mobiltiy change from baseline, 2020"
        },
        "updatemenus": [
         {
          "buttons": [
           {
            "args": [
             null,
             {
              "frame": {
               "duration": 2000,
               "redraw": false
              },
              "fromcurrent": true,
              "mode": "immediate",
              "transition": {
               "duration": 500,
               "easing": "linear"
              }
             }
            ],
            "label": "&#9654;",
            "method": "animate"
           },
           {
            "args": [
             [
              null
             ],
             {
              "frame": {
               "duration": 0,
               "redraw": false
              },
              "fromcurrent": true,
              "mode": "immediate",
              "transition": {
               "duration": 0,
               "easing": "linear"
              }
             }
            ],
            "label": "&#9724;",
            "method": "animate"
           }
          ],
          "direction": "left",
          "pad": {
           "r": 10,
           "t": 70
          },
          "showactive": false,
          "type": "buttons",
          "x": 0.1,
          "xanchor": "right",
          "y": 0,
          "yanchor": "top"
         }
        ],
        "xaxis": {
         "anchor": "y",
         "domain": [
          0,
          1
         ],
         "range": [
          -80,
          60
         ],
         "title": {
          "text": "Mobility change from baseline"
         }
        },
        "yaxis": {
         "anchor": "x",
         "domain": [
          0,
          1
         ],
         "range": [
          -20,
          50
         ],
         "title": {
          "text": "Cumulative deaths per 100k"
         }
        }
       }
      }
     },
     "metadata": {},
     "output_type": "display_data"
    }
   ],
   "source": [
    "# Create animation\n",
    "\n",
    "def format_title(title, subtitle=None, subtitle_font_size=12):\n",
    "    title = f'<b>{title}</b>'\n",
    "    if not subtitle:\n",
    "        return title\n",
    "    subtitle = f'<span style=\"font-size: {subtitle_font_size}px; line-height: 20%;\">{subtitle}</span>'\n",
    "    return f'{title}<br>{subtitle}'\n",
    "\n",
    "df = grouped_df\n",
    "fig = px.scatter(df,x=\"Mobility change from baseline\", y=\"Cumulative deaths per 100k\" , animation_frame=\"Month-Year\", animation_group=\"Country\",\n",
    "           size=\"Cumulative pageviews per 100k\" ,color=\"Trust the national government in this country\", hover_name=\"Country\", range_x=[-80,60],range_y=[-20,50], size_max=100)\n",
    "            #  <br><sup><br>The y axis shows the cumulative deaths per 100k per per month.<br>The size of the bubble shows the cumulative pageviews per 100k per month</sup><br><sup>The colour of the bubble corresponds to how much people trust their government.</sup>\" ) #\n",
    "fig.update_layout(height=800, title_text=\"Cumulative deaths per 100k vs. Mobiltiy change from baseline, 2020\")\n",
    "fig.update_layout(margin=dict(l=40, r=40, t=150, b=10))  \n",
    "fig.add_annotation(xref='paper',yref='paper',x=0, y=1.15,showarrow=False,text = \"  The x axis shows the mean mobility change from baseline per month.\")\n",
    "fig.add_annotation(xref='paper',yref='paper',x=0, y=1.12,showarrow=False,text = \"  The y axis shows the cumulative deaths per 100k per per month.\")\n",
    "fig.add_annotation(xref='paper',yref='paper',x=0, y=1.09,showarrow=False,text = \"  The size of the bubble shows the cumulative pageviews per 100k per month \")\n",
    "fig.add_annotation(xref='paper',yref='paper',x=0, y=1.06,showarrow=False,text = \"  The colour of the bubble corresponds to how much people trust their government.\")\n",
    "fig.layout.updatemenus[0].buttons[0].args[1][\"frame\"][\"duration\"] = 2000\n",
    "fig.show()\n"
   ]
  },
  {
   "cell_type": "code",
   "execution_count": 7,
   "metadata": {},
   "outputs": [],
   "source": [
    "# Calculate the mean of the mobilitiy baseline for every country \n",
    "\n"
   ]
  },
  {
   "cell_type": "markdown",
   "metadata": {},
   "source": [
    "## TRUSTING GOVERNMENT AND MOBILITY"
   ]
  },
  {
   "cell_type": "code",
   "execution_count": 8,
   "metadata": {},
   "outputs": [
    {
     "data": {
      "text/html": [
       "<div>\n",
       "<style scoped>\n",
       "    .dataframe tbody tr th:only-of-type {\n",
       "        vertical-align: middle;\n",
       "    }\n",
       "\n",
       "    .dataframe tbody tr th {\n",
       "        vertical-align: top;\n",
       "    }\n",
       "\n",
       "    .dataframe thead th {\n",
       "        text-align: right;\n",
       "    }\n",
       "</style>\n",
       "<table border=\"1\" class=\"dataframe\">\n",
       "  <thead>\n",
       "    <tr style=\"text-align: right;\">\n",
       "      <th></th>\n",
       "      <th>Country</th>\n",
       "      <th>Min mobility change from baseline</th>\n",
       "      <th>Trust the national government in this country</th>\n",
       "    </tr>\n",
       "  </thead>\n",
       "  <tbody>\n",
       "    <tr>\n",
       "      <th>0</th>\n",
       "      <td>Bulgaria</td>\n",
       "      <td>-62.327553</td>\n",
       "      <td>40.4</td>\n",
       "    </tr>\n",
       "    <tr>\n",
       "      <th>1</th>\n",
       "      <td>Bangladesh</td>\n",
       "      <td>-61.750000</td>\n",
       "      <td>83.0</td>\n",
       "    </tr>\n",
       "    <tr>\n",
       "      <th>2</th>\n",
       "      <td>Czechia</td>\n",
       "      <td>-65.633333</td>\n",
       "      <td>45.8</td>\n",
       "    </tr>\n",
       "    <tr>\n",
       "      <th>3</th>\n",
       "      <td>Denmark</td>\n",
       "      <td>-35.839475</td>\n",
       "      <td>79.3</td>\n",
       "    </tr>\n",
       "    <tr>\n",
       "      <th>4</th>\n",
       "      <td>Germany</td>\n",
       "      <td>-56.426471</td>\n",
       "      <td>82.0</td>\n",
       "    </tr>\n",
       "  </tbody>\n",
       "</table>\n",
       "</div>"
      ],
      "text/plain": [
       "      Country  Min mobility change from baseline  \\\n",
       "0    Bulgaria                         -62.327553   \n",
       "1  Bangladesh                         -61.750000   \n",
       "2     Czechia                         -65.633333   \n",
       "3     Denmark                         -35.839475   \n",
       "4     Germany                         -56.426471   \n",
       "\n",
       "   Trust the national government in this country  \n",
       "0                                           40.4  \n",
       "1                                           83.0  \n",
       "2                                           45.8  \n",
       "3                                           79.3  \n",
       "4                                           82.0  "
      ]
     },
     "execution_count": 8,
     "metadata": {},
     "output_type": "execute_result"
    }
   ],
   "source": [
    "\n",
    "mobility_trust = mobility['moving category'].reset_index()\n",
    "mobility_trust['country_region'] =mobility_trust['country_region'].map(get_country_dict('trust gov mobility'))\n",
    "mobility_trust = mobility_trust.groupby('country_region')['moving category'].min().to_frame()\n",
    "mobility_trust = mobility_trust.reset_index()\n",
    "mobility_trust['Trust the national government in this country'] = mobility_trust['country_region'].map(trust_dict['Trust the national government in this country'])\n",
    "mobility_trust['country_region'] = mobility_trust['country_region'].map(inv_map)\n",
    "mobility_trust = mobility_trust.rename(columns={\"moving category\": \"Min mobility change from baseline\",\"country_region\": \"Country\"})\n",
    "mobility_trust.head()\n",
    "\n"
   ]
  },
  {
   "cell_type": "code",
   "execution_count": 138,
   "metadata": {},
   "outputs": [
    {
     "data": {
      "application/vnd.plotly.v1+json": {
       "config": {
        "plotlyServerURL": "https://plot.ly"
       },
       "data": [
        {
         "hovertemplate": "Trust the national government in this country=%{x}<br>Min mobility change from baseline=%{y}<br>Country=%{text}<extra></extra>",
         "legendgroup": "",
         "marker": {
          "color": "#636efa",
          "symbol": "circle"
         },
         "mode": "markers+text",
         "name": "",
         "orientation": "v",
         "showlegend": false,
         "text": [
          "Bulgaria",
          "Bangladesh",
          "Czechia",
          "Denmark",
          "Germany",
          "Greece",
          "Finland",
          "Israel",
          "Croatia",
          "Hungary",
          "Italy",
          "Japan",
          "Georgia",
          "Kazakhstan",
          "South Korea",
          "Kyrgyzstan",
          "Lithuania",
          "Mongolia",
          "Malaysia",
          "Netherlands",
          "Norway",
          "Poland",
          "Romania",
          "Russia",
          "Slovakia",
          "Slovenia",
          "Serbia",
          "Sweden",
          "Thailand",
          "Turkey"
         ],
         "type": "scatter",
         "x": [
          40.4,
          83,
          45.8,
          79.3,
          82,
          40.7,
          80.7,
          51.1,
          42,
          48.6,
          52.3,
          49.5,
          57.6,
          72.2,
          52.8,
          57.6,
          55.1,
          54.8,
          57.6,
          78.5,
          94.3,
          33.6,
          24.3,
          47,
          53.5,
          48.1,
          57,
          64.7,
          55.6,
          54.9
         ],
         "xaxis": "x",
         "y": [
          -62.32755265864498,
          -61.75,
          -65.63333333333334,
          -35.839474548440066,
          -56.4264705882353,
          -78.0625,
          -41.11297911283377,
          -85.7625,
          -68.35004456327985,
          -60.3125,
          -89.60799079318404,
          -40.078125,
          -77.25,
          -52,
          -28,
          -57.66071428571429,
          -58.34837662337662,
          -61.4375,
          -71.35294117647058,
          -52.12032170780422,
          -48.89218151340996,
          -82.32242421235637,
          -74.28195771825129,
          -63.014705882352935,
          -66.77378871128872,
          -69.04940476190475,
          -92,
          -40.61826784825834,
          -53,
          -80.55559904249422
         ],
         "yaxis": "y"
        },
        {
         "hovertemplate": "<b>OLS trendline</b><br>Min mobility change from baseline = 0.48096 * Trust the national government in this country + -89.9532<br>R<sup>2</sup>=0.226901<br><br>Trust the national government in this country=%{x}<br>Min mobility change from baseline=%{y} <b>(trend)</b><extra></extra>",
         "legendgroup": "",
         "marker": {
          "color": "#636efa",
          "symbol": "circle"
         },
         "mode": "lines",
         "name": "",
         "showlegend": false,
         "type": "scatter",
         "x": [
          24.3,
          33.6,
          40.4,
          40.7,
          42,
          45.8,
          47,
          48.1,
          48.6,
          49.5,
          51.1,
          52.3,
          52.8,
          53.5,
          54.8,
          54.9,
          55.1,
          55.6,
          57,
          57.6,
          57.6,
          57.6,
          64.7,
          72.2,
          78.5,
          79.3,
          80.7,
          82,
          83,
          94.3
         ],
         "xaxis": "x",
         "y": [
          -78.26585753069358,
          -73.79293051354229,
          -70.52240323218435,
          -70.37811526388914,
          -69.7528674012766,
          -67.92521980287069,
          -67.34806792968988,
          -66.8190120459408,
          -66.57853209878212,
          -66.14566819389651,
          -65.37613236298877,
          -64.79898048980796,
          -64.55850054264928,
          -64.22182861662714,
          -63.596580754014596,
          -63.54848476458286,
          -63.45229278571939,
          -63.21181283856072,
          -62.538468986516435,
          -62.24989304992603,
          -62.24989304992603,
          -62.24989304992603,
          -58.835077800272884,
          -55.22787859289281,
          -52.19783125869354,
          -51.81306334323967,
          -51.139719491195386,
          -50.51447162858284,
          -50.033511734265495,
          -44.59866492847951
         ],
         "yaxis": "y"
        }
       ],
       "layout": {
        "annotations": [
         {
          "showarrow": false,
          "text": "    The x axis the trust in the national government in a country.",
          "x": 0,
          "xref": "paper",
          "y": 1.13,
          "yref": "paper"
         },
         {
          "showarrow": false,
          "text": "    The y axis shows the min mobility change from baseline per month.",
          "x": 0,
          "xref": "paper",
          "y": 1.09,
          "yref": "paper"
         }
        ],
        "legend": {
         "tracegroupgap": 0
        },
        "margin": {
         "b": 0,
         "l": 20,
         "r": 20,
         "t": 100
        },
        "template": {
         "data": {
          "bar": [
           {
            "error_x": {
             "color": "#2a3f5f"
            },
            "error_y": {
             "color": "#2a3f5f"
            },
            "marker": {
             "line": {
              "color": "#E5ECF6",
              "width": 0.5
             },
             "pattern": {
              "fillmode": "overlay",
              "size": 10,
              "solidity": 0.2
             }
            },
            "type": "bar"
           }
          ],
          "barpolar": [
           {
            "marker": {
             "line": {
              "color": "#E5ECF6",
              "width": 0.5
             },
             "pattern": {
              "fillmode": "overlay",
              "size": 10,
              "solidity": 0.2
             }
            },
            "type": "barpolar"
           }
          ],
          "carpet": [
           {
            "aaxis": {
             "endlinecolor": "#2a3f5f",
             "gridcolor": "white",
             "linecolor": "white",
             "minorgridcolor": "white",
             "startlinecolor": "#2a3f5f"
            },
            "baxis": {
             "endlinecolor": "#2a3f5f",
             "gridcolor": "white",
             "linecolor": "white",
             "minorgridcolor": "white",
             "startlinecolor": "#2a3f5f"
            },
            "type": "carpet"
           }
          ],
          "choropleth": [
           {
            "colorbar": {
             "outlinewidth": 0,
             "ticks": ""
            },
            "type": "choropleth"
           }
          ],
          "contour": [
           {
            "colorbar": {
             "outlinewidth": 0,
             "ticks": ""
            },
            "colorscale": [
             [
              0,
              "#0d0887"
             ],
             [
              0.1111111111111111,
              "#46039f"
             ],
             [
              0.2222222222222222,
              "#7201a8"
             ],
             [
              0.3333333333333333,
              "#9c179e"
             ],
             [
              0.4444444444444444,
              "#bd3786"
             ],
             [
              0.5555555555555556,
              "#d8576b"
             ],
             [
              0.6666666666666666,
              "#ed7953"
             ],
             [
              0.7777777777777778,
              "#fb9f3a"
             ],
             [
              0.8888888888888888,
              "#fdca26"
             ],
             [
              1,
              "#f0f921"
             ]
            ],
            "type": "contour"
           }
          ],
          "contourcarpet": [
           {
            "colorbar": {
             "outlinewidth": 0,
             "ticks": ""
            },
            "type": "contourcarpet"
           }
          ],
          "heatmap": [
           {
            "colorbar": {
             "outlinewidth": 0,
             "ticks": ""
            },
            "colorscale": [
             [
              0,
              "#0d0887"
             ],
             [
              0.1111111111111111,
              "#46039f"
             ],
             [
              0.2222222222222222,
              "#7201a8"
             ],
             [
              0.3333333333333333,
              "#9c179e"
             ],
             [
              0.4444444444444444,
              "#bd3786"
             ],
             [
              0.5555555555555556,
              "#d8576b"
             ],
             [
              0.6666666666666666,
              "#ed7953"
             ],
             [
              0.7777777777777778,
              "#fb9f3a"
             ],
             [
              0.8888888888888888,
              "#fdca26"
             ],
             [
              1,
              "#f0f921"
             ]
            ],
            "type": "heatmap"
           }
          ],
          "heatmapgl": [
           {
            "colorbar": {
             "outlinewidth": 0,
             "ticks": ""
            },
            "colorscale": [
             [
              0,
              "#0d0887"
             ],
             [
              0.1111111111111111,
              "#46039f"
             ],
             [
              0.2222222222222222,
              "#7201a8"
             ],
             [
              0.3333333333333333,
              "#9c179e"
             ],
             [
              0.4444444444444444,
              "#bd3786"
             ],
             [
              0.5555555555555556,
              "#d8576b"
             ],
             [
              0.6666666666666666,
              "#ed7953"
             ],
             [
              0.7777777777777778,
              "#fb9f3a"
             ],
             [
              0.8888888888888888,
              "#fdca26"
             ],
             [
              1,
              "#f0f921"
             ]
            ],
            "type": "heatmapgl"
           }
          ],
          "histogram": [
           {
            "marker": {
             "pattern": {
              "fillmode": "overlay",
              "size": 10,
              "solidity": 0.2
             }
            },
            "type": "histogram"
           }
          ],
          "histogram2d": [
           {
            "colorbar": {
             "outlinewidth": 0,
             "ticks": ""
            },
            "colorscale": [
             [
              0,
              "#0d0887"
             ],
             [
              0.1111111111111111,
              "#46039f"
             ],
             [
              0.2222222222222222,
              "#7201a8"
             ],
             [
              0.3333333333333333,
              "#9c179e"
             ],
             [
              0.4444444444444444,
              "#bd3786"
             ],
             [
              0.5555555555555556,
              "#d8576b"
             ],
             [
              0.6666666666666666,
              "#ed7953"
             ],
             [
              0.7777777777777778,
              "#fb9f3a"
             ],
             [
              0.8888888888888888,
              "#fdca26"
             ],
             [
              1,
              "#f0f921"
             ]
            ],
            "type": "histogram2d"
           }
          ],
          "histogram2dcontour": [
           {
            "colorbar": {
             "outlinewidth": 0,
             "ticks": ""
            },
            "colorscale": [
             [
              0,
              "#0d0887"
             ],
             [
              0.1111111111111111,
              "#46039f"
             ],
             [
              0.2222222222222222,
              "#7201a8"
             ],
             [
              0.3333333333333333,
              "#9c179e"
             ],
             [
              0.4444444444444444,
              "#bd3786"
             ],
             [
              0.5555555555555556,
              "#d8576b"
             ],
             [
              0.6666666666666666,
              "#ed7953"
             ],
             [
              0.7777777777777778,
              "#fb9f3a"
             ],
             [
              0.8888888888888888,
              "#fdca26"
             ],
             [
              1,
              "#f0f921"
             ]
            ],
            "type": "histogram2dcontour"
           }
          ],
          "mesh3d": [
           {
            "colorbar": {
             "outlinewidth": 0,
             "ticks": ""
            },
            "type": "mesh3d"
           }
          ],
          "parcoords": [
           {
            "line": {
             "colorbar": {
              "outlinewidth": 0,
              "ticks": ""
             }
            },
            "type": "parcoords"
           }
          ],
          "pie": [
           {
            "automargin": true,
            "type": "pie"
           }
          ],
          "scatter": [
           {
            "fillpattern": {
             "fillmode": "overlay",
             "size": 10,
             "solidity": 0.2
            },
            "type": "scatter"
           }
          ],
          "scatter3d": [
           {
            "line": {
             "colorbar": {
              "outlinewidth": 0,
              "ticks": ""
             }
            },
            "marker": {
             "colorbar": {
              "outlinewidth": 0,
              "ticks": ""
             }
            },
            "type": "scatter3d"
           }
          ],
          "scattercarpet": [
           {
            "marker": {
             "colorbar": {
              "outlinewidth": 0,
              "ticks": ""
             }
            },
            "type": "scattercarpet"
           }
          ],
          "scattergeo": [
           {
            "marker": {
             "colorbar": {
              "outlinewidth": 0,
              "ticks": ""
             }
            },
            "type": "scattergeo"
           }
          ],
          "scattergl": [
           {
            "marker": {
             "colorbar": {
              "outlinewidth": 0,
              "ticks": ""
             }
            },
            "type": "scattergl"
           }
          ],
          "scattermapbox": [
           {
            "marker": {
             "colorbar": {
              "outlinewidth": 0,
              "ticks": ""
             }
            },
            "type": "scattermapbox"
           }
          ],
          "scatterpolar": [
           {
            "marker": {
             "colorbar": {
              "outlinewidth": 0,
              "ticks": ""
             }
            },
            "type": "scatterpolar"
           }
          ],
          "scatterpolargl": [
           {
            "marker": {
             "colorbar": {
              "outlinewidth": 0,
              "ticks": ""
             }
            },
            "type": "scatterpolargl"
           }
          ],
          "scatterternary": [
           {
            "marker": {
             "colorbar": {
              "outlinewidth": 0,
              "ticks": ""
             }
            },
            "type": "scatterternary"
           }
          ],
          "surface": [
           {
            "colorbar": {
             "outlinewidth": 0,
             "ticks": ""
            },
            "colorscale": [
             [
              0,
              "#0d0887"
             ],
             [
              0.1111111111111111,
              "#46039f"
             ],
             [
              0.2222222222222222,
              "#7201a8"
             ],
             [
              0.3333333333333333,
              "#9c179e"
             ],
             [
              0.4444444444444444,
              "#bd3786"
             ],
             [
              0.5555555555555556,
              "#d8576b"
             ],
             [
              0.6666666666666666,
              "#ed7953"
             ],
             [
              0.7777777777777778,
              "#fb9f3a"
             ],
             [
              0.8888888888888888,
              "#fdca26"
             ],
             [
              1,
              "#f0f921"
             ]
            ],
            "type": "surface"
           }
          ],
          "table": [
           {
            "cells": {
             "fill": {
              "color": "#EBF0F8"
             },
             "line": {
              "color": "white"
             }
            },
            "header": {
             "fill": {
              "color": "#C8D4E3"
             },
             "line": {
              "color": "white"
             }
            },
            "type": "table"
           }
          ]
         },
         "layout": {
          "annotationdefaults": {
           "arrowcolor": "#2a3f5f",
           "arrowhead": 0,
           "arrowwidth": 1
          },
          "autotypenumbers": "strict",
          "coloraxis": {
           "colorbar": {
            "outlinewidth": 0,
            "ticks": ""
           }
          },
          "colorscale": {
           "diverging": [
            [
             0,
             "#8e0152"
            ],
            [
             0.1,
             "#c51b7d"
            ],
            [
             0.2,
             "#de77ae"
            ],
            [
             0.3,
             "#f1b6da"
            ],
            [
             0.4,
             "#fde0ef"
            ],
            [
             0.5,
             "#f7f7f7"
            ],
            [
             0.6,
             "#e6f5d0"
            ],
            [
             0.7,
             "#b8e186"
            ],
            [
             0.8,
             "#7fbc41"
            ],
            [
             0.9,
             "#4d9221"
            ],
            [
             1,
             "#276419"
            ]
           ],
           "sequential": [
            [
             0,
             "#0d0887"
            ],
            [
             0.1111111111111111,
             "#46039f"
            ],
            [
             0.2222222222222222,
             "#7201a8"
            ],
            [
             0.3333333333333333,
             "#9c179e"
            ],
            [
             0.4444444444444444,
             "#bd3786"
            ],
            [
             0.5555555555555556,
             "#d8576b"
            ],
            [
             0.6666666666666666,
             "#ed7953"
            ],
            [
             0.7777777777777778,
             "#fb9f3a"
            ],
            [
             0.8888888888888888,
             "#fdca26"
            ],
            [
             1,
             "#f0f921"
            ]
           ],
           "sequentialminus": [
            [
             0,
             "#0d0887"
            ],
            [
             0.1111111111111111,
             "#46039f"
            ],
            [
             0.2222222222222222,
             "#7201a8"
            ],
            [
             0.3333333333333333,
             "#9c179e"
            ],
            [
             0.4444444444444444,
             "#bd3786"
            ],
            [
             0.5555555555555556,
             "#d8576b"
            ],
            [
             0.6666666666666666,
             "#ed7953"
            ],
            [
             0.7777777777777778,
             "#fb9f3a"
            ],
            [
             0.8888888888888888,
             "#fdca26"
            ],
            [
             1,
             "#f0f921"
            ]
           ]
          },
          "colorway": [
           "#636efa",
           "#EF553B",
           "#00cc96",
           "#ab63fa",
           "#FFA15A",
           "#19d3f3",
           "#FF6692",
           "#B6E880",
           "#FF97FF",
           "#FECB52"
          ],
          "font": {
           "color": "#2a3f5f"
          },
          "geo": {
           "bgcolor": "white",
           "lakecolor": "white",
           "landcolor": "#E5ECF6",
           "showlakes": true,
           "showland": true,
           "subunitcolor": "white"
          },
          "hoverlabel": {
           "align": "left"
          },
          "hovermode": "closest",
          "mapbox": {
           "style": "light"
          },
          "paper_bgcolor": "white",
          "plot_bgcolor": "#E5ECF6",
          "polar": {
           "angularaxis": {
            "gridcolor": "white",
            "linecolor": "white",
            "ticks": ""
           },
           "bgcolor": "#E5ECF6",
           "radialaxis": {
            "gridcolor": "white",
            "linecolor": "white",
            "ticks": ""
           }
          },
          "scene": {
           "xaxis": {
            "backgroundcolor": "#E5ECF6",
            "gridcolor": "white",
            "gridwidth": 2,
            "linecolor": "white",
            "showbackground": true,
            "ticks": "",
            "zerolinecolor": "white"
           },
           "yaxis": {
            "backgroundcolor": "#E5ECF6",
            "gridcolor": "white",
            "gridwidth": 2,
            "linecolor": "white",
            "showbackground": true,
            "ticks": "",
            "zerolinecolor": "white"
           },
           "zaxis": {
            "backgroundcolor": "#E5ECF6",
            "gridcolor": "white",
            "gridwidth": 2,
            "linecolor": "white",
            "showbackground": true,
            "ticks": "",
            "zerolinecolor": "white"
           }
          },
          "shapedefaults": {
           "line": {
            "color": "#2a3f5f"
           }
          },
          "ternary": {
           "aaxis": {
            "gridcolor": "white",
            "linecolor": "white",
            "ticks": ""
           },
           "baxis": {
            "gridcolor": "white",
            "linecolor": "white",
            "ticks": ""
           },
           "bgcolor": "#E5ECF6",
           "caxis": {
            "gridcolor": "white",
            "linecolor": "white",
            "ticks": ""
           }
          },
          "title": {
           "x": 0.05
          },
          "xaxis": {
           "automargin": true,
           "gridcolor": "white",
           "linecolor": "white",
           "ticks": "",
           "title": {
            "standoff": 15
           },
           "zerolinecolor": "white",
           "zerolinewidth": 2
          },
          "yaxis": {
           "automargin": true,
           "gridcolor": "white",
           "linecolor": "white",
           "ticks": "",
           "title": {
            "standoff": 15
           },
           "zerolinecolor": "white",
           "zerolinewidth": 2
          }
         }
        },
        "title": {
         "text": "Relationship between min moblitiy change from baseline and trust in the national government in a country"
        },
        "xaxis": {
         "anchor": "y",
         "domain": [
          0,
          1
         ],
         "title": {
          "text": "Trust the national government in this country"
         }
        },
        "yaxis": {
         "anchor": "x",
         "domain": [
          0,
          1
         ],
         "title": {
          "text": "Min mobility change from baseline"
         }
        }
       }
      }
     },
     "metadata": {},
     "output_type": "display_data"
    },
    {
     "name": "stdout",
     "output_type": "stream",
     "text": [
      "Correlation coefficient: 0.4763412530416577\n",
      "P-value: 0.007790561016220846\n"
     ]
    }
   ],
   "source": [
    "fig = px.scatter(mobility_trust, x='Trust the national government in this country', y=\"Min mobility change from baseline\", text=\"Country\",trendline=\"ols\", title='Relationship between min moblitiy change from baseline and trust in the national government in a country')\n",
    "\n",
    "# fig.update_layout(height=800,title_text='Relationship between min moblitiy change from baseline and trust in the national government in a country')\n",
    "\n",
    "fig.update_layout(margin=dict(l=20, r=20, t=100, b=0))  \n",
    "fig.add_annotation(xref='paper',yref='paper',x=0, y=1.13,showarrow=False,text = \"    The x axis the trust in the national government in a country.\")\n",
    "fig.add_annotation(xref='paper',yref='paper',x=0, y=1.09,showarrow=False,text = \"    The y axis shows the min mobility change from baseline per month.\")\n",
    "fig.show()\n",
    "\n",
    "# mobility change from baseline\n",
    "corr, p_value = stats.pearsonr(mobility_trust['Trust the national government in this country'], mobility_trust[\"Min mobility change from baseline\"])\n",
    "print(\"Correlation coefficient: {}\".format(corr))\n",
    "print(\"P-value: {}\".format(p_value))"
   ]
  }
 ],
 "metadata": {
  "kernelspec": {
   "display_name": "Python 3",
   "language": "python",
   "name": "python3"
  },
  "language_info": {
   "codemirror_mode": {
    "name": "ipython",
    "version": 3
   },
   "file_extension": ".py",
   "mimetype": "text/x-python",
   "name": "python",
   "nbconvert_exporter": "python",
   "pygments_lexer": "ipython3",
   "version": "3.8.5"
  },
  "vscode": {
   "interpreter": {
    "hash": "0adcc2737ebf6a4a119f135174df96668767fca1ef1112612db5ecadf2b6d608"
   }
  }
 },
 "nbformat": 4,
 "nbformat_minor": 2
}
