{
 "cells": [
  {
   "cell_type": "code",
   "execution_count": 1,
   "metadata": {},
   "outputs": [],
   "source": [
    "# Imports\n",
    "import plotly.express as px\n",
    "from helper import *\n",
    "import pandas as pd\n",
    "import numpy as np\n",
    "import gzip\n",
    "import json"
   ]
  },
  {
   "cell_type": "markdown",
   "metadata": {},
   "source": [
    "## Animated figure"
   ]
  },
  {
   "cell_type": "code",
   "execution_count": 2,
   "metadata": {},
   "outputs": [],
   "source": [
    "#Create dataframe with the columns [country, trust,  day, mobility, deaths per 100k ,   pageviews per 100k\"]"
   ]
  },
  {
   "cell_type": "code",
   "execution_count": 3,
   "metadata": {},
   "outputs": [],
   "source": [
    "# Load and preprocess pageviews and deaths \n",
    "pageview_df = pd.read_csv(\"page_views_covid_related.csv.gz\")\n",
    "population_df = pd.read_csv(\"Population_countries.csv\")\n",
    "\n",
    "\n",
    "_,_, df_pageviews100k,_ = get_pageviews_df(pageview_df, population_df, get_country_dict('trust gov mobility'), '2020-01-22', '2020-11-22')\n",
    "_, _, _, _, deaths100k, _, _,_ = get_cases_deaths_df(population_df, get_country_dict('trust gov mobility'), '2020-01-22', '2020-11-22')\n",
    "df_pageviews100k = df_pageviews100k.transpose().stack().to_frame().reset_index().rename(columns={\"level_0\": \"country\", \"date\": \"date\", 0:\"pageviews per 100k\"}, errors=\"raise\")\n",
    "deaths100k = deaths100k.transpose().stack().to_frame().reset_index().rename(columns={\"level_0\": \"country\", \"date\": \"date\", 0:\"deaths per 100k\"}, errors=\"raise\")\n",
    "df_animation = df_pageviews100k.merge(deaths100k, on=['country','date'])\n",
    "df_animation['date'] = pd.to_datetime(df_animation['date'])\n"
   ]
  },
  {
   "cell_type": "code",
   "execution_count": 4,
   "metadata": {},
   "outputs": [],
   "source": [
    "# Dowload and preprocess trust dataset\n",
    "data_folder = 'data_2/'\n",
    "df_trust_gov = pd.read_csv(data_folder+'share-who-trust-government.csv.zip') \n",
    "df_trust_gov = df_trust_gov.set_index(\"Entity\")[[\"Trust the national government in this country\"]].transpose()[COUNTRY_OWN_LANG_TRUST_GOV.keys()].rename(columns= COUNTRY_OWN_LANG_TRUST_GOV)\n",
    "country_dict = get_country_dict('trust gov mobility')\n",
    "\n",
    "# Map the trust category to the countries in df_animation\n",
    "country_dict_cat =  trust_category(df_trust_gov, 5,country_dict)\n",
    "df_animation['trust'] = df_animation['country'].map(country_dict_cat)\n",
    "\n"
   ]
  },
  {
   "cell_type": "code",
   "execution_count": 5,
   "metadata": {},
   "outputs": [
    {
     "name": "stderr",
     "output_type": "stream",
     "text": [
      "/var/folders/yd/qcqcvgvx64j3l0qqnk__2cpm0000gn/T/ipykernel_66943/996038089.py:4: DtypeWarning: Columns (4) have mixed types. Specify dtype option on import or set low_memory=False.\n",
      "  google_mobility = pd.read_csv(data_folder+'Global_Mobility_Report.csv.zip')\n"
     ]
    }
   ],
   "source": [
    "data_folder = 'data_2/'\n",
    "\n",
    "#Download mobility and intervention files\n",
    "google_mobility = pd.read_csv(data_folder+'Global_Mobility_Report.csv.zip')\n",
    "interventions = pd.read_csv(data_folder+'interventions.csv.zip')\n",
    "\n",
    "#Download file with covid pageviews #MODIFY WITH THE NEW DATA\n",
    "file = gzip.open(data_folder+'aggregated_timeseries.json.gz')\n",
    "data = json.load(file)\n",
    "\n",
    "#Change name of the columns\n",
    "categories = [\"Retail and Recreations\", \"Grocery and Pharmacy\", \"Parks\",\"Transit stations\", \"Workplace\", \"Residential\"]\n",
    "google_mobility = google_mobility.rename(dict(zip(google_mobility.columns[8:],categories)), axis = 1)\n",
    "\n",
    "#Transform date string to datetime\n",
    "google_mobility['date'] = pd.to_datetime(google_mobility['date'])\n",
    "\n",
    "#Delete columns about region\n",
    "google_mobility = google_mobility.drop(google_mobility.iloc[:,2:7], axis = 1)\n",
    "\n",
    "#Keep same dates as for corona wikipedia pages\n",
    "google_mobility = google_mobility.loc[(google_mobility['date'] < \"2020-08-01\") & (google_mobility['date'] >= \"2020-01-22\")]\n",
    "\n",
    "#Regroup all data per country and per date and take the average\n",
    "mobility = google_mobility.groupby([\"country_region_code\",\"country_region\",\"date\"]).mean()\n",
    "\n",
    "#Keep only the country that we are interested in\n",
    "mobility = mobility[mobility.index.get_level_values('country_region').isin(list(country_dict.keys()))]\n",
    "\n",
    "# Group together Parks, Retail and Recreations, Transit stations and Workplace by taking the mean of them\n",
    "mobility['moving category'] = mobility[['Retail and Recreations', 'Parks', 'Transit stations', 'Workplace']].mean(axis=1)\n",
    "\n",
    "#Group together Grocey and Pharmacy and Residential by taking the mean of them\n",
    "mobility['covid category'] = mobility[['Grocery and Pharmacy', 'Residential']].mean(axis=1)\n",
    "\n",
    "moving_cat_df = mobility['moving category'].reset_index()\n",
    "moving_cat_df['country_region'] =moving_cat_df['country_region'].map(get_country_dict('trust gov mobility'))\n",
    "\n",
    "# merge dataframe with the mobility dataset\n",
    "df_animation = df_animation.merge(moving_cat_df, left_on=['country','date'],  right_on=['country_region','date'])\n",
    "df_animation = df_animation.drop(columns=['country_region','country_region_code'])\n",
    "df_animation['date']=df_animation['date'].astype(str)\n",
    "df_animation['month'] = pd.DatetimeIndex(df_animation['date']).month"
   ]
  },
  {
   "cell_type": "code",
   "execution_count": 6,
   "metadata": {},
   "outputs": [
    {
     "data": {
      "text/html": [
       "<div>\n",
       "<style scoped>\n",
       "    .dataframe tbody tr th:only-of-type {\n",
       "        vertical-align: middle;\n",
       "    }\n",
       "\n",
       "    .dataframe tbody tr th {\n",
       "        vertical-align: top;\n",
       "    }\n",
       "\n",
       "    .dataframe thead th {\n",
       "        text-align: right;\n",
       "    }\n",
       "</style>\n",
       "<table border=\"1\" class=\"dataframe\">\n",
       "  <thead>\n",
       "    <tr style=\"text-align: right;\">\n",
       "      <th></th>\n",
       "      <th>month</th>\n",
       "      <th>country</th>\n",
       "      <th>cumulative pageviews per 100k over month</th>\n",
       "      <th>cumulative deaths per 100k over month</th>\n",
       "      <th>mean moving category per month</th>\n",
       "      <th>trust</th>\n",
       "    </tr>\n",
       "  </thead>\n",
       "  <tbody>\n",
       "    <tr>\n",
       "      <th>0</th>\n",
       "      <td>2</td>\n",
       "      <td>bg</td>\n",
       "      <td>161.407208</td>\n",
       "      <td>0.000000</td>\n",
       "      <td>5.097669</td>\n",
       "      <td>1</td>\n",
       "    </tr>\n",
       "    <tr>\n",
       "      <th>15</th>\n",
       "      <td>2</td>\n",
       "      <td>bn</td>\n",
       "      <td>0.556806</td>\n",
       "      <td>0.000000</td>\n",
       "      <td>5.250000</td>\n",
       "      <td>4</td>\n",
       "    </tr>\n",
       "    <tr>\n",
       "      <th>30</th>\n",
       "      <td>2</td>\n",
       "      <td>cs</td>\n",
       "      <td>1925.544347</td>\n",
       "      <td>0.000000</td>\n",
       "      <td>6.410000</td>\n",
       "      <td>1</td>\n",
       "    </tr>\n",
       "    <tr>\n",
       "      <th>45</th>\n",
       "      <td>2</td>\n",
       "      <td>da</td>\n",
       "      <td>275.594008</td>\n",
       "      <td>0.000000</td>\n",
       "      <td>-1.578199</td>\n",
       "      <td>3</td>\n",
       "    </tr>\n",
       "    <tr>\n",
       "      <th>60</th>\n",
       "      <td>2</td>\n",
       "      <td>de</td>\n",
       "      <td>1699.497592</td>\n",
       "      <td>0.000000</td>\n",
       "      <td>1.636275</td>\n",
       "      <td>4</td>\n",
       "    </tr>\n",
       "    <tr>\n",
       "      <th>75</th>\n",
       "      <td>2</td>\n",
       "      <td>el</td>\n",
       "      <td>175.065669</td>\n",
       "      <td>0.000000</td>\n",
       "      <td>6.431250</td>\n",
       "      <td>1</td>\n",
       "    </tr>\n",
       "    <tr>\n",
       "      <th>90</th>\n",
       "      <td>2</td>\n",
       "      <td>fi</td>\n",
       "      <td>786.502610</td>\n",
       "      <td>0.000000</td>\n",
       "      <td>5.078715</td>\n",
       "      <td>4</td>\n",
       "    </tr>\n",
       "    <tr>\n",
       "      <th>105</th>\n",
       "      <td>2</td>\n",
       "      <td>he</td>\n",
       "      <td>688.283361</td>\n",
       "      <td>0.000000</td>\n",
       "      <td>6.939167</td>\n",
       "      <td>1</td>\n",
       "    </tr>\n",
       "    <tr>\n",
       "      <th>120</th>\n",
       "      <td>2</td>\n",
       "      <td>hr</td>\n",
       "      <td>171.629180</td>\n",
       "      <td>0.000000</td>\n",
       "      <td>8.503883</td>\n",
       "      <td>1</td>\n",
       "    </tr>\n",
       "    <tr>\n",
       "      <th>135</th>\n",
       "      <td>2</td>\n",
       "      <td>hu</td>\n",
       "      <td>293.616026</td>\n",
       "      <td>0.000000</td>\n",
       "      <td>9.620652</td>\n",
       "      <td>1</td>\n",
       "    </tr>\n",
       "    <tr>\n",
       "      <th>150</th>\n",
       "      <td>2</td>\n",
       "      <td>it</td>\n",
       "      <td>1299.660467</td>\n",
       "      <td>0.048781</td>\n",
       "      <td>1.794570</td>\n",
       "      <td>2</td>\n",
       "    </tr>\n",
       "    <tr>\n",
       "      <th>165</th>\n",
       "      <td>2</td>\n",
       "      <td>ja</td>\n",
       "      <td>753.072604</td>\n",
       "      <td>0.003960</td>\n",
       "      <td>-1.063194</td>\n",
       "      <td>1</td>\n",
       "    </tr>\n",
       "    <tr>\n",
       "      <th>180</th>\n",
       "      <td>2</td>\n",
       "      <td>ka</td>\n",
       "      <td>57.162566</td>\n",
       "      <td>0.000000</td>\n",
       "      <td>4.208333</td>\n",
       "      <td>2</td>\n",
       "    </tr>\n",
       "    <tr>\n",
       "      <th>195</th>\n",
       "      <td>2</td>\n",
       "      <td>kk</td>\n",
       "      <td>29.335135</td>\n",
       "      <td>0.000000</td>\n",
       "      <td>3.183333</td>\n",
       "      <td>3</td>\n",
       "    </tr>\n",
       "    <tr>\n",
       "      <th>210</th>\n",
       "      <td>2</td>\n",
       "      <td>ko</td>\n",
       "      <td>172.668777</td>\n",
       "      <td>0.030866</td>\n",
       "      <td>-11.533333</td>\n",
       "      <td>2</td>\n",
       "    </tr>\n",
       "    <tr>\n",
       "      <th>225</th>\n",
       "      <td>2</td>\n",
       "      <td>ky</td>\n",
       "      <td>1.481785</td>\n",
       "      <td>0.000000</td>\n",
       "      <td>2.416984</td>\n",
       "      <td>2</td>\n",
       "    </tr>\n",
       "    <tr>\n",
       "      <th>240</th>\n",
       "      <td>2</td>\n",
       "      <td>lt</td>\n",
       "      <td>329.244316</td>\n",
       "      <td>0.000000</td>\n",
       "      <td>2.346420</td>\n",
       "      <td>2</td>\n",
       "    </tr>\n",
       "    <tr>\n",
       "      <th>255</th>\n",
       "      <td>2</td>\n",
       "      <td>mn</td>\n",
       "      <td>11.926942</td>\n",
       "      <td>0.000000</td>\n",
       "      <td>-23.101389</td>\n",
       "      <td>2</td>\n",
       "    </tr>\n",
       "    <tr>\n",
       "      <th>270</th>\n",
       "      <td>2</td>\n",
       "      <td>ms</td>\n",
       "      <td>38.963730</td>\n",
       "      <td>0.000000</td>\n",
       "      <td>-1.263725</td>\n",
       "      <td>2</td>\n",
       "    </tr>\n",
       "    <tr>\n",
       "      <th>285</th>\n",
       "      <td>2</td>\n",
       "      <td>nl</td>\n",
       "      <td>737.167101</td>\n",
       "      <td>0.000000</td>\n",
       "      <td>-2.531211</td>\n",
       "      <td>3</td>\n",
       "    </tr>\n",
       "    <tr>\n",
       "      <th>300</th>\n",
       "      <td>2</td>\n",
       "      <td>no</td>\n",
       "      <td>362.061354</td>\n",
       "      <td>0.000000</td>\n",
       "      <td>1.137998</td>\n",
       "      <td>4</td>\n",
       "    </tr>\n",
       "    <tr>\n",
       "      <th>315</th>\n",
       "      <td>2</td>\n",
       "      <td>pl</td>\n",
       "      <td>840.688175</td>\n",
       "      <td>0.000000</td>\n",
       "      <td>4.280698</td>\n",
       "      <td>0</td>\n",
       "    </tr>\n",
       "    <tr>\n",
       "      <th>330</th>\n",
       "      <td>2</td>\n",
       "      <td>ro</td>\n",
       "      <td>223.528263</td>\n",
       "      <td>0.000000</td>\n",
       "      <td>5.015877</td>\n",
       "      <td>0</td>\n",
       "    </tr>\n",
       "    <tr>\n",
       "      <th>345</th>\n",
       "      <td>2</td>\n",
       "      <td>ru</td>\n",
       "      <td>880.531242</td>\n",
       "      <td>0.000000</td>\n",
       "      <td>3.636275</td>\n",
       "      <td>1</td>\n",
       "    </tr>\n",
       "    <tr>\n",
       "      <th>360</th>\n",
       "      <td>2</td>\n",
       "      <td>sk</td>\n",
       "      <td>385.174324</td>\n",
       "      <td>0.000000</td>\n",
       "      <td>6.620948</td>\n",
       "      <td>2</td>\n",
       "    </tr>\n",
       "    <tr>\n",
       "      <th>375</th>\n",
       "      <td>2</td>\n",
       "      <td>sl</td>\n",
       "      <td>415.711616</td>\n",
       "      <td>0.000000</td>\n",
       "      <td>1.120952</td>\n",
       "      <td>1</td>\n",
       "    </tr>\n",
       "    <tr>\n",
       "      <th>390</th>\n",
       "      <td>2</td>\n",
       "      <td>sr</td>\n",
       "      <td>39.077414</td>\n",
       "      <td>0.000000</td>\n",
       "      <td>7.966667</td>\n",
       "      <td>2</td>\n",
       "    </tr>\n",
       "    <tr>\n",
       "      <th>405</th>\n",
       "      <td>2</td>\n",
       "      <td>sv</td>\n",
       "      <td>159.174118</td>\n",
       "      <td>0.000000</td>\n",
       "      <td>-0.028181</td>\n",
       "      <td>2</td>\n",
       "    </tr>\n",
       "    <tr>\n",
       "      <th>420</th>\n",
       "      <td>2</td>\n",
       "      <td>th</td>\n",
       "      <td>52.298011</td>\n",
       "      <td>0.000000</td>\n",
       "      <td>-3.550000</td>\n",
       "      <td>2</td>\n",
       "    </tr>\n",
       "    <tr>\n",
       "      <th>435</th>\n",
       "      <td>2</td>\n",
       "      <td>tr</td>\n",
       "      <td>63.172385</td>\n",
       "      <td>0.000000</td>\n",
       "      <td>2.384815</td>\n",
       "      <td>2</td>\n",
       "    </tr>\n",
       "    <tr>\n",
       "      <th>450</th>\n",
       "      <td>3</td>\n",
       "      <td>bg</td>\n",
       "      <td>1514.447257</td>\n",
       "      <td>0.115373</td>\n",
       "      <td>-23.540960</td>\n",
       "      <td>1</td>\n",
       "    </tr>\n",
       "    <tr>\n",
       "      <th>481</th>\n",
       "      <td>3</td>\n",
       "      <td>bn</td>\n",
       "      <td>52.223767</td>\n",
       "      <td>0.003036</td>\n",
       "      <td>-12.572581</td>\n",
       "      <td>4</td>\n",
       "    </tr>\n",
       "    <tr>\n",
       "      <th>512</th>\n",
       "      <td>3</td>\n",
       "      <td>cs</td>\n",
       "      <td>19659.384150</td>\n",
       "      <td>0.289778</td>\n",
       "      <td>-22.053226</td>\n",
       "      <td>1</td>\n",
       "    </tr>\n",
       "    <tr>\n",
       "      <th>543</th>\n",
       "      <td>3</td>\n",
       "      <td>da</td>\n",
       "      <td>1691.256514</td>\n",
       "      <td>1.543368</td>\n",
       "      <td>-12.113806</td>\n",
       "      <td>3</td>\n",
       "    </tr>\n",
       "    <tr>\n",
       "      <th>574</th>\n",
       "      <td>3</td>\n",
       "      <td>de</td>\n",
       "      <td>15440.830340</td>\n",
       "      <td>0.701051</td>\n",
       "      <td>-15.426945</td>\n",
       "      <td>4</td>\n",
       "    </tr>\n",
       "    <tr>\n",
       "      <th>605</th>\n",
       "      <td>3</td>\n",
       "      <td>el</td>\n",
       "      <td>3430.971250</td>\n",
       "      <td>0.355122</td>\n",
       "      <td>-29.296371</td>\n",
       "      <td>1</td>\n",
       "    </tr>\n",
       "    <tr>\n",
       "      <th>636</th>\n",
       "      <td>3</td>\n",
       "      <td>fi</td>\n",
       "      <td>6859.011676</td>\n",
       "      <td>0.922319</td>\n",
       "      <td>-10.596517</td>\n",
       "      <td>4</td>\n",
       "    </tr>\n",
       "    <tr>\n",
       "      <th>667</th>\n",
       "      <td>3</td>\n",
       "      <td>he</td>\n",
       "      <td>8381.894933</td>\n",
       "      <td>0.227887</td>\n",
       "      <td>-28.381643</td>\n",
       "      <td>1</td>\n",
       "    </tr>\n",
       "    <tr>\n",
       "      <th>698</th>\n",
       "      <td>3</td>\n",
       "      <td>hr</td>\n",
       "      <td>2508.844573</td>\n",
       "      <td>0.148233</td>\n",
       "      <td>-24.078096</td>\n",
       "      <td>1</td>\n",
       "    </tr>\n",
       "    <tr>\n",
       "      <th>729</th>\n",
       "      <td>3</td>\n",
       "      <td>hu</td>\n",
       "      <td>2465.049508</td>\n",
       "      <td>0.164100</td>\n",
       "      <td>-13.076354</td>\n",
       "      <td>1</td>\n",
       "    </tr>\n",
       "    <tr>\n",
       "      <th>760</th>\n",
       "      <td>3</td>\n",
       "      <td>it</td>\n",
       "      <td>8127.351459</td>\n",
       "      <td>20.856348</td>\n",
       "      <td>-54.764556</td>\n",
       "      <td>2</td>\n",
       "    </tr>\n",
       "    <tr>\n",
       "      <th>791</th>\n",
       "      <td>3</td>\n",
       "      <td>ja</td>\n",
       "      <td>2689.846429</td>\n",
       "      <td>0.048313</td>\n",
       "      <td>-5.356855</td>\n",
       "      <td>1</td>\n",
       "    </tr>\n",
       "    <tr>\n",
       "      <th>822</th>\n",
       "      <td>3</td>\n",
       "      <td>ka</td>\n",
       "      <td>374.538375</td>\n",
       "      <td>0.000000</td>\n",
       "      <td>-25.459677</td>\n",
       "      <td>2</td>\n",
       "    </tr>\n",
       "    <tr>\n",
       "      <th>853</th>\n",
       "      <td>3</td>\n",
       "      <td>kk</td>\n",
       "      <td>82.092526</td>\n",
       "      <td>0.010663</td>\n",
       "      <td>-6.806452</td>\n",
       "      <td>3</td>\n",
       "    </tr>\n",
       "    <tr>\n",
       "      <th>884</th>\n",
       "      <td>3</td>\n",
       "      <td>ko</td>\n",
       "      <td>1157.065041</td>\n",
       "      <td>0.281656</td>\n",
       "      <td>-6.745968</td>\n",
       "      <td>2</td>\n",
       "    </tr>\n",
       "    <tr>\n",
       "      <th>915</th>\n",
       "      <td>3</td>\n",
       "      <td>ky</td>\n",
       "      <td>8.188237</td>\n",
       "      <td>0.000000</td>\n",
       "      <td>-13.198982</td>\n",
       "      <td>2</td>\n",
       "    </tr>\n",
       "    <tr>\n",
       "      <th>946</th>\n",
       "      <td>3</td>\n",
       "      <td>lt</td>\n",
       "      <td>3120.378835</td>\n",
       "      <td>0.143119</td>\n",
       "      <td>-13.477005</td>\n",
       "      <td>2</td>\n",
       "    </tr>\n",
       "    <tr>\n",
       "      <th>977</th>\n",
       "      <td>3</td>\n",
       "      <td>mn</td>\n",
       "      <td>21.505101</td>\n",
       "      <td>0.000000</td>\n",
       "      <td>-19.540323</td>\n",
       "      <td>2</td>\n",
       "    </tr>\n",
       "    <tr>\n",
       "      <th>1008</th>\n",
       "      <td>3</td>\n",
       "      <td>ms</td>\n",
       "      <td>695.971124</td>\n",
       "      <td>0.148304</td>\n",
       "      <td>-30.206357</td>\n",
       "      <td>2</td>\n",
       "    </tr>\n",
       "    <tr>\n",
       "      <th>1039</th>\n",
       "      <td>3</td>\n",
       "      <td>nl</td>\n",
       "      <td>7775.839234</td>\n",
       "      <td>5.957056</td>\n",
       "      <td>-17.775858</td>\n",
       "      <td>3</td>\n",
       "    </tr>\n",
       "  </tbody>\n",
       "</table>\n",
       "</div>"
      ],
      "text/plain": [
       "      month country  cumulative pageviews per 100k over month  \\\n",
       "0         2      bg                                161.407208   \n",
       "15        2      bn                                  0.556806   \n",
       "30        2      cs                               1925.544347   \n",
       "45        2      da                                275.594008   \n",
       "60        2      de                               1699.497592   \n",
       "75        2      el                                175.065669   \n",
       "90        2      fi                                786.502610   \n",
       "105       2      he                                688.283361   \n",
       "120       2      hr                                171.629180   \n",
       "135       2      hu                                293.616026   \n",
       "150       2      it                               1299.660467   \n",
       "165       2      ja                                753.072604   \n",
       "180       2      ka                                 57.162566   \n",
       "195       2      kk                                 29.335135   \n",
       "210       2      ko                                172.668777   \n",
       "225       2      ky                                  1.481785   \n",
       "240       2      lt                                329.244316   \n",
       "255       2      mn                                 11.926942   \n",
       "270       2      ms                                 38.963730   \n",
       "285       2      nl                                737.167101   \n",
       "300       2      no                                362.061354   \n",
       "315       2      pl                                840.688175   \n",
       "330       2      ro                                223.528263   \n",
       "345       2      ru                                880.531242   \n",
       "360       2      sk                                385.174324   \n",
       "375       2      sl                                415.711616   \n",
       "390       2      sr                                 39.077414   \n",
       "405       2      sv                                159.174118   \n",
       "420       2      th                                 52.298011   \n",
       "435       2      tr                                 63.172385   \n",
       "450       3      bg                               1514.447257   \n",
       "481       3      bn                                 52.223767   \n",
       "512       3      cs                              19659.384150   \n",
       "543       3      da                               1691.256514   \n",
       "574       3      de                              15440.830340   \n",
       "605       3      el                               3430.971250   \n",
       "636       3      fi                               6859.011676   \n",
       "667       3      he                               8381.894933   \n",
       "698       3      hr                               2508.844573   \n",
       "729       3      hu                               2465.049508   \n",
       "760       3      it                               8127.351459   \n",
       "791       3      ja                               2689.846429   \n",
       "822       3      ka                                374.538375   \n",
       "853       3      kk                                 82.092526   \n",
       "884       3      ko                               1157.065041   \n",
       "915       3      ky                                  8.188237   \n",
       "946       3      lt                               3120.378835   \n",
       "977       3      mn                                 21.505101   \n",
       "1008      3      ms                                695.971124   \n",
       "1039      3      nl                               7775.839234   \n",
       "\n",
       "      cumulative deaths per 100k over month  mean moving category per month  \\\n",
       "0                                  0.000000                        5.097669   \n",
       "15                                 0.000000                        5.250000   \n",
       "30                                 0.000000                        6.410000   \n",
       "45                                 0.000000                       -1.578199   \n",
       "60                                 0.000000                        1.636275   \n",
       "75                                 0.000000                        6.431250   \n",
       "90                                 0.000000                        5.078715   \n",
       "105                                0.000000                        6.939167   \n",
       "120                                0.000000                        8.503883   \n",
       "135                                0.000000                        9.620652   \n",
       "150                                0.048781                        1.794570   \n",
       "165                                0.003960                       -1.063194   \n",
       "180                                0.000000                        4.208333   \n",
       "195                                0.000000                        3.183333   \n",
       "210                                0.030866                      -11.533333   \n",
       "225                                0.000000                        2.416984   \n",
       "240                                0.000000                        2.346420   \n",
       "255                                0.000000                      -23.101389   \n",
       "270                                0.000000                       -1.263725   \n",
       "285                                0.000000                       -2.531211   \n",
       "300                                0.000000                        1.137998   \n",
       "315                                0.000000                        4.280698   \n",
       "330                                0.000000                        5.015877   \n",
       "345                                0.000000                        3.636275   \n",
       "360                                0.000000                        6.620948   \n",
       "375                                0.000000                        1.120952   \n",
       "390                                0.000000                        7.966667   \n",
       "405                                0.000000                       -0.028181   \n",
       "420                                0.000000                       -3.550000   \n",
       "435                                0.000000                        2.384815   \n",
       "450                                0.115373                      -23.540960   \n",
       "481                                0.003036                      -12.572581   \n",
       "512                                0.289778                      -22.053226   \n",
       "543                                1.543368                      -12.113806   \n",
       "574                                0.701051                      -15.426945   \n",
       "605                                0.355122                      -29.296371   \n",
       "636                                0.922319                      -10.596517   \n",
       "667                                0.227887                      -28.381643   \n",
       "698                                0.148233                      -24.078096   \n",
       "729                                0.164100                      -13.076354   \n",
       "760                               20.856348                      -54.764556   \n",
       "791                                0.048313                       -5.356855   \n",
       "822                                0.000000                      -25.459677   \n",
       "853                                0.010663                       -6.806452   \n",
       "884                                0.281656                       -6.745968   \n",
       "915                                0.000000                      -13.198982   \n",
       "946                                0.143119                      -13.477005   \n",
       "977                                0.000000                      -19.540323   \n",
       "1008                               0.148304                      -30.206357   \n",
       "1039                               5.957056                      -17.775858   \n",
       "\n",
       "      trust  \n",
       "0         1  \n",
       "15        4  \n",
       "30        1  \n",
       "45        3  \n",
       "60        4  \n",
       "75        1  \n",
       "90        4  \n",
       "105       1  \n",
       "120       1  \n",
       "135       1  \n",
       "150       2  \n",
       "165       1  \n",
       "180       2  \n",
       "195       3  \n",
       "210       2  \n",
       "225       2  \n",
       "240       2  \n",
       "255       2  \n",
       "270       2  \n",
       "285       3  \n",
       "300       4  \n",
       "315       0  \n",
       "330       0  \n",
       "345       1  \n",
       "360       2  \n",
       "375       1  \n",
       "390       2  \n",
       "405       2  \n",
       "420       2  \n",
       "435       2  \n",
       "450       1  \n",
       "481       4  \n",
       "512       1  \n",
       "543       3  \n",
       "574       4  \n",
       "605       1  \n",
       "636       4  \n",
       "667       1  \n",
       "698       1  \n",
       "729       1  \n",
       "760       2  \n",
       "791       1  \n",
       "822       2  \n",
       "853       3  \n",
       "884       2  \n",
       "915       2  \n",
       "946       2  \n",
       "977       2  \n",
       "1008      2  \n",
       "1039      3  "
      ]
     },
     "execution_count": 6,
     "metadata": {},
     "output_type": "execute_result"
    }
   ],
   "source": [
    "def f(x):\n",
    "    d = {}\n",
    "    d['cumulative pageviews per 100k over month'] = x['pageviews per 100k'].sum()\n",
    "    d['cumulative deaths per 100k over month'] = x['deaths per 100k'].sum()\n",
    "    d['mean moving category per month'] = x['moving category'].mean()\n",
    "\n",
    "\n",
    "    return pd.Series(d, index=['cumulative pageviews per 100k over month','cumulative deaths per 100k over month', 'mean moving category per month'])\n",
    "\n",
    "grouped_df = df_animation.groupby(['month','country']).apply(f)\n",
    "grouped_df = grouped_df.reset_index()\n",
    "grouped_df =grouped_df.merge(df_animation[['country','month','trust']], how='left', on=['month','country']).drop_duplicates()\n",
    "grouped_df.head(50)"
   ]
  },
  {
   "cell_type": "code",
   "execution_count": 7,
   "metadata": {},
   "outputs": [
    {
     "data": {
      "application/vnd.plotly.v1+json": {
       "config": {
        "plotlyServerURL": "https://plot.ly"
       },
       "data": [
        {
         "hovertemplate": "<b>%{hovertext}</b><br><br>month=2<br>mean moving category per month=%{x}<br>cumulative deaths per 100k over month=%{y}<br>cumulative pageviews per 100k over month=%{marker.size}<br>trust=%{marker.color}<extra></extra>",
         "hovertext": [
          "bg",
          "bn",
          "cs",
          "da",
          "de",
          "el",
          "fi",
          "he",
          "hr",
          "hu",
          "it",
          "ja",
          "ka",
          "kk",
          "ko",
          "ky",
          "lt",
          "mn",
          "ms",
          "nl",
          "no",
          "pl",
          "ro",
          "ru",
          "sk",
          "sl",
          "sr",
          "sv",
          "th",
          "tr"
         ],
         "ids": [
          "bg",
          "bn",
          "cs",
          "da",
          "de",
          "el",
          "fi",
          "he",
          "hr",
          "hu",
          "it",
          "ja",
          "ka",
          "kk",
          "ko",
          "ky",
          "lt",
          "mn",
          "ms",
          "nl",
          "no",
          "pl",
          "ro",
          "ru",
          "sk",
          "sl",
          "sr",
          "sv",
          "th",
          "tr"
         ],
         "legendgroup": "",
         "marker": {
          "color": [
           1,
           4,
           1,
           3,
           4,
           1,
           4,
           1,
           1,
           1,
           2,
           1,
           2,
           3,
           2,
           2,
           2,
           2,
           2,
           3,
           4,
           0,
           0,
           1,
           2,
           1,
           2,
           2,
           2,
           2
          ],
          "coloraxis": "coloraxis",
          "size": [
           161.4072078009638,
           0.5568057778199338,
           1925.5443472889622,
           275.5940078924389,
           1699.497591842202,
           175.065669484838,
           786.5026097093377,
           688.2833610053065,
           171.62918017234566,
           293.61602576534983,
           1299.6604666005167,
           753.072603575134,
           57.16256625538988,
           29.335135313243477,
           172.66877714642837,
           1.4817854374686545,
           329.2443159557549,
           11.926942444419229,
           38.96372977592101,
           737.1671014534302,
           362.0613535707481,
           840.6881751979666,
           223.52826324469612,
           880.5312418437693,
           385.1743240809793,
           415.7116160004262,
           39.077413573835294,
           159.17411813385345,
           52.29801075295468,
           63.17238486880582
          ],
          "sizemode": "area",
          "sizeref": 49.148460374030016,
          "symbol": "circle"
         },
         "mode": "markers",
         "name": "",
         "orientation": "v",
         "showlegend": false,
         "type": "scatter",
         "x": [
          5.097668758366203,
          5.25,
          6.41,
          -1.5781992213642384,
          1.6362745098039218,
          6.43125,
          5.078715236387411,
          6.939166666666667,
          8.503883404177522,
          9.620651659786722,
          1.794569711716143,
          -1.0631944444444443,
          4.208333333333333,
          3.183333333333333,
          -11.533333333333333,
          2.416984126984127,
          2.346419552669553,
          -23.101388888888888,
          -1.2637254901960788,
          -2.531210758817831,
          1.1379981054393444,
          4.2806983652953,
          5.015877419203793,
          3.6362745098039215,
          6.620948303697904,
          1.1209521710148187,
          7.966666666666667,
          -0.02818143073602659,
          -3.55,
          2.3848154458104918
         ],
         "xaxis": "x",
         "y": [
          0,
          0,
          0,
          0,
          0,
          0,
          0,
          0,
          0,
          0,
          0.048780875918491326,
          0.00396005100545695,
          0,
          0,
          0.030866436895624315,
          0,
          0,
          0,
          0,
          0,
          0,
          0,
          0,
          0,
          0,
          0,
          0,
          0,
          0,
          0
         ],
         "yaxis": "y"
        }
       ],
       "frames": [
        {
         "data": [
          {
           "hovertemplate": "<b>%{hovertext}</b><br><br>month=2<br>mean moving category per month=%{x}<br>cumulative deaths per 100k over month=%{y}<br>cumulative pageviews per 100k over month=%{marker.size}<br>trust=%{marker.color}<extra></extra>",
           "hovertext": [
            "bg",
            "bn",
            "cs",
            "da",
            "de",
            "el",
            "fi",
            "he",
            "hr",
            "hu",
            "it",
            "ja",
            "ka",
            "kk",
            "ko",
            "ky",
            "lt",
            "mn",
            "ms",
            "nl",
            "no",
            "pl",
            "ro",
            "ru",
            "sk",
            "sl",
            "sr",
            "sv",
            "th",
            "tr"
           ],
           "ids": [
            "bg",
            "bn",
            "cs",
            "da",
            "de",
            "el",
            "fi",
            "he",
            "hr",
            "hu",
            "it",
            "ja",
            "ka",
            "kk",
            "ko",
            "ky",
            "lt",
            "mn",
            "ms",
            "nl",
            "no",
            "pl",
            "ro",
            "ru",
            "sk",
            "sl",
            "sr",
            "sv",
            "th",
            "tr"
           ],
           "legendgroup": "",
           "marker": {
            "color": [
             1,
             4,
             1,
             3,
             4,
             1,
             4,
             1,
             1,
             1,
             2,
             1,
             2,
             3,
             2,
             2,
             2,
             2,
             2,
             3,
             4,
             0,
             0,
             1,
             2,
             1,
             2,
             2,
             2,
             2
            ],
            "coloraxis": "coloraxis",
            "size": [
             161.4072078009638,
             0.5568057778199338,
             1925.5443472889622,
             275.5940078924389,
             1699.497591842202,
             175.065669484838,
             786.5026097093377,
             688.2833610053065,
             171.62918017234566,
             293.61602576534983,
             1299.6604666005167,
             753.072603575134,
             57.16256625538988,
             29.335135313243477,
             172.66877714642837,
             1.4817854374686545,
             329.2443159557549,
             11.926942444419229,
             38.96372977592101,
             737.1671014534302,
             362.0613535707481,
             840.6881751979666,
             223.52826324469612,
             880.5312418437693,
             385.1743240809793,
             415.7116160004262,
             39.077413573835294,
             159.17411813385345,
             52.29801075295468,
             63.17238486880582
            ],
            "sizemode": "area",
            "sizeref": 49.148460374030016,
            "symbol": "circle"
           },
           "mode": "markers",
           "name": "",
           "orientation": "v",
           "showlegend": false,
           "type": "scatter",
           "x": [
            5.097668758366203,
            5.25,
            6.41,
            -1.5781992213642384,
            1.6362745098039218,
            6.43125,
            5.078715236387411,
            6.939166666666667,
            8.503883404177522,
            9.620651659786722,
            1.794569711716143,
            -1.0631944444444443,
            4.208333333333333,
            3.183333333333333,
            -11.533333333333333,
            2.416984126984127,
            2.346419552669553,
            -23.101388888888888,
            -1.2637254901960788,
            -2.531210758817831,
            1.1379981054393444,
            4.2806983652953,
            5.015877419203793,
            3.6362745098039215,
            6.620948303697904,
            1.1209521710148187,
            7.966666666666667,
            -0.02818143073602659,
            -3.55,
            2.3848154458104918
           ],
           "xaxis": "x",
           "y": [
            0,
            0,
            0,
            0,
            0,
            0,
            0,
            0,
            0,
            0,
            0.048780875918491326,
            0.00396005100545695,
            0,
            0,
            0.030866436895624315,
            0,
            0,
            0,
            0,
            0,
            0,
            0,
            0,
            0,
            0,
            0,
            0,
            0,
            0,
            0
           ],
           "yaxis": "y"
          }
         ],
         "name": "2"
        },
        {
         "data": [
          {
           "hovertemplate": "<b>%{hovertext}</b><br><br>month=3<br>mean moving category per month=%{x}<br>cumulative deaths per 100k over month=%{y}<br>cumulative pageviews per 100k over month=%{marker.size}<br>trust=%{marker.color}<extra></extra>",
           "hovertext": [
            "bg",
            "bn",
            "cs",
            "da",
            "de",
            "el",
            "fi",
            "he",
            "hr",
            "hu",
            "it",
            "ja",
            "ka",
            "kk",
            "ko",
            "ky",
            "lt",
            "mn",
            "ms",
            "nl",
            "no",
            "pl",
            "ro",
            "ru",
            "sk",
            "sl",
            "sr",
            "sv",
            "th",
            "tr"
           ],
           "ids": [
            "bg",
            "bn",
            "cs",
            "da",
            "de",
            "el",
            "fi",
            "he",
            "hr",
            "hu",
            "it",
            "ja",
            "ka",
            "kk",
            "ko",
            "ky",
            "lt",
            "mn",
            "ms",
            "nl",
            "no",
            "pl",
            "ro",
            "ru",
            "sk",
            "sl",
            "sr",
            "sv",
            "th",
            "tr"
           ],
           "legendgroup": "",
           "marker": {
            "color": [
             1,
             4,
             1,
             3,
             4,
             1,
             4,
             1,
             1,
             1,
             2,
             1,
             2,
             3,
             2,
             2,
             2,
             2,
             2,
             3,
             4,
             0,
             0,
             1,
             2,
             1,
             2,
             2,
             2,
             2
            ],
            "coloraxis": "coloraxis",
            "size": [
             1514.4472574691576,
             52.223767211514776,
             19659.384149612008,
             1691.2565138687016,
             15440.830339547549,
             3430.971250465864,
             6859.0116760101155,
             8381.89493331597,
             2508.8445726934933,
             2465.049508474178,
             8127.351458994786,
             2689.846429222008,
             374.5383746705363,
             82.09252606652305,
             1157.065040926291,
             8.188236565567529,
             3120.37883490734,
             21.505100826894004,
             695.9711237700749,
             7775.839234010835,
             1931.8613805250511,
             6350.641321805521,
             4871.5099348202675,
             7778.023077570344,
             3159.6714825364497,
             1857.051329920439,
             707.8432833376287,
             1199.6107188314766,
             153.88256999164096,
             1069.0834414850713
            ],
            "sizemode": "area",
            "sizeref": 49.148460374030016,
            "symbol": "circle"
           },
           "mode": "markers",
           "name": "",
           "orientation": "v",
           "showlegend": false,
           "type": "scatter",
           "x": [
            -23.540960478356105,
            -12.57258064516129,
            -22.053225806451614,
            -12.113805749316292,
            -15.426944971537003,
            -29.296370967741936,
            -10.596516621557665,
            -28.381642614601017,
            -24.07809574780419,
            -13.076353736174717,
            -54.76455611682664,
            -5.356854838709677,
            -25.45967741935484,
            -6.806451612903226,
            -6.745967741935484,
            -13.198982334869433,
            -13.477004782851557,
            -19.54032258064516,
            -30.20635673624289,
            -17.775857693665785,
            -19.276754838400002,
            -22.89870158361779,
            -23.154524069601667,
            -1.808349146110057,
            -30.608353740883924,
            -34.44100913960583,
            -27.366935483870968,
            -7.252718402378655,
            -19.79032258064516,
            -15.239970403317546
           ],
           "xaxis": "x",
           "y": [
            0.11537327219511351,
            0.003036018417774994,
            0.2897776358594403,
            1.543367600667009,
            0.701050858401904,
            0.3551217338613059,
            0.9223185351845532,
            0.22788683790734776,
            0.14823306190212665,
            0.16410005631708807,
            20.856347603909448,
            0.048312622266574796,
            0,
            0.010663444315973637,
            0.2816562366725719,
            0,
            0.14311858985253417,
            0,
            0.14830378473112427,
            5.957056445833214,
            0.7249778091728283,
            0.08707337673457423,
            0.4258076844785829,
            0.011799562443072752,
            0,
            0.7134638718542783,
            0.2826444972884971,
            3.7185701141707272,
            0.014326652080033607,
            0.25373768955731985
           ],
           "yaxis": "y"
          }
         ],
         "name": "3"
        },
        {
         "data": [
          {
           "hovertemplate": "<b>%{hovertext}</b><br><br>month=4<br>mean moving category per month=%{x}<br>cumulative deaths per 100k over month=%{y}<br>cumulative pageviews per 100k over month=%{marker.size}<br>trust=%{marker.color}<extra></extra>",
           "hovertext": [
            "bg",
            "bn",
            "cs",
            "da",
            "de",
            "el",
            "fi",
            "he",
            "hr",
            "hu",
            "it",
            "ja",
            "ka",
            "kk",
            "ko",
            "ky",
            "lt",
            "mn",
            "ms",
            "nl",
            "no",
            "pl",
            "ro",
            "ru",
            "sk",
            "sl",
            "sr",
            "sv",
            "th",
            "tr"
           ],
           "ids": [
            "bg",
            "bn",
            "cs",
            "da",
            "de",
            "el",
            "fi",
            "he",
            "hr",
            "hu",
            "it",
            "ja",
            "ka",
            "kk",
            "ko",
            "ky",
            "lt",
            "mn",
            "ms",
            "nl",
            "no",
            "pl",
            "ro",
            "ru",
            "sk",
            "sl",
            "sr",
            "sv",
            "th",
            "tr"
           ],
           "legendgroup": "",
           "marker": {
            "color": [
             1,
             4,
             1,
             3,
             4,
             1,
             4,
             1,
             1,
             1,
             2,
             1,
             2,
             3,
             2,
             2,
             2,
             2,
             2,
             3,
             4,
             0,
             0,
             1,
             2,
             1,
             2,
             2,
             2,
             2
            ],
            "coloraxis": "coloraxis",
            "size": [
             1641.3722785428067,
             150.4316765823332,
             5283.926931914781,
             724.3024149930272,
             8407.027146216398,
             2582.949895313851,
             2554.4425642408423,
             5950.798146520385,
             1497.9445015416236,
             3191.0999513956144,
             4760.956298272987,
             2835.79094098732,
             281.89096347935214,
             84.09725359792607,
             684.9686760646351,
             2.1884831076460136,
             1606.5061710946964,
             19.33933889964652,
             469.3165957681885,
             4445.6726772353295,
             1129.3481241199186,
             2777.8570819811675,
             2211.240076603841,
             4857.038618420051,
             1151.7859056533573,
             960.5601928064767,
             555.3602006978855,
             1527.9169961062223,
             93.31235032767486,
             955.8002343089709
            ],
            "sizemode": "area",
            "sizeref": 49.148460374030016,
            "symbol": "circle"
           },
           "mode": "markers",
           "name": "",
           "orientation": "v",
           "showlegend": false,
           "type": "scatter",
           "x": [
            -40.9994498491125,
            -57.916666666666664,
            -27.99166666666666,
            -6.442399760594593,
            -24.091176470588234,
            -54.484375,
            -22.323402068722974,
            -59.79078947368421,
            -44.94825504396131,
            -27.797624473766117,
            -74.29527262976904,
            -19.400347222222226,
            -62.97083333333333,
            -46.75,
            2.533333333333333,
            -50.74201388888889,
            -25.192046055796062,
            -4.804166666666666,
            -68.05294117647058,
            -27.424867481247166,
            -14.886546637737661,
            -41.85625418762897,
            -51.99864132417192,
            -46.45735294117647,
            -39.38809667311739,
            -51.05162913770448,
            -64.975,
            -6.076066195299776,
            -46.016666666666666,
            -54.59180216781043
           ],
           "xaxis": "x",
           "y": [
            0.8364562234145729,
            0.0989742004194648,
            1.9162714629414597,
            6.207767460460636,
            6.860197508032353,
            0.9532214961540317,
            3.7073588178986947,
            2.213757853957093,
            1.55644714997233,
            3.0358510418661298,
            26.138138996463333,
            0.3278922232518355,
            0.16117264921632488,
            0.12262960963369683,
            0.1659070983139807,
            0.12158239486922293,
            1.0018301289677394,
            0,
            0.1699314200044133,
            21.609379927185167,
            3.1787488556039394,
            1.6121767631765105,
            3.2974131663890263,
            0.7329610552873425,
            0.421335939021332,
            3.61488361739501,
            2.3626181055397453,
            23.972703956809724,
            0.06303726915214788,
            3.5096428088302183
           ],
           "yaxis": "y"
          }
         ],
         "name": "4"
        },
        {
         "data": [
          {
           "hovertemplate": "<b>%{hovertext}</b><br><br>month=5<br>mean moving category per month=%{x}<br>cumulative deaths per 100k over month=%{y}<br>cumulative pageviews per 100k over month=%{marker.size}<br>trust=%{marker.color}<extra></extra>",
           "hovertext": [
            "bg",
            "bn",
            "cs",
            "da",
            "de",
            "el",
            "fi",
            "he",
            "hr",
            "hu",
            "it",
            "ja",
            "ka",
            "kk",
            "ko",
            "ky",
            "lt",
            "mn",
            "ms",
            "nl",
            "no",
            "pl",
            "ro",
            "ru",
            "sk",
            "sl",
            "sr",
            "sv",
            "th",
            "tr"
           ],
           "ids": [
            "bg",
            "bn",
            "cs",
            "da",
            "de",
            "el",
            "fi",
            "he",
            "hr",
            "hu",
            "it",
            "ja",
            "ka",
            "kk",
            "ko",
            "ky",
            "lt",
            "mn",
            "ms",
            "nl",
            "no",
            "pl",
            "ro",
            "ru",
            "sk",
            "sl",
            "sr",
            "sv",
            "th",
            "tr"
           ],
           "legendgroup": "",
           "marker": {
            "color": [
             1,
             4,
             1,
             3,
             4,
             1,
             4,
             1,
             1,
             1,
             2,
             1,
             2,
             3,
             2,
             2,
             2,
             2,
             2,
             3,
             4,
             0,
             0,
             1,
             2,
             1,
             2,
             2,
             2,
             2
            ],
            "coloraxis": "coloraxis",
            "size": [
             1052.420567304801,
             85.68311899012944,
             1588.467523124723,
             340.56978388052,
             4505.6791192098035,
             983.5844043991733,
             1184.4559306257315,
             2867.836485767924,
             590.6593406593406,
             1467.7006474465163,
             2323.9057898644,
             1598.9838509119998,
             105.62180945309822,
             21.721436071638298,
             398.6207409839282,
             12.735755862551102,
             476.37022632416,
             13.17759369818186,
             265.7665615625386,
             2007.8261617406758,
             526.8915646972985,
             1340.6028169028948,
             719.8330833876844,
             1733.8311758446519,
             454.32837494208917,
             478.7342580142208,
             171.13761946078387,
             882.5084450176087,
             77.25790400678923,
             410.0899053104298
            ],
            "sizemode": "area",
            "sizeref": 49.148460374030016,
            "symbol": "circle"
           },
           "mode": "markers",
           "name": "",
           "orientation": "v",
           "showlegend": false,
           "type": "scatter",
           "x": [
            -13.81665819800224,
            -46.11290322580645,
            -14.602688172043012,
            9.139825973530906,
            -6.471833491461101,
            -10.17641129032258,
            -7.106226272281278,
            -20.508467741935483,
            -14.437178000219484,
            -5.586359186430656,
            -38.84778027054695,
            -22.526713709677413,
            -50.18055555555556,
            -18.024193548387096,
            7.455645161290323,
            -26.818788402457752,
            1.2439920518549552,
            11.951612903225806,
            -50.37760910815938,
            -9.624515719085835,
            1.9159069776136453,
            -13.850658368891501,
            -31.300420063328843,
            -27.041745730550286,
            -21.327264568660485,
            -20.817391049798015,
            -32.40277777777778,
            4.620277376164806,
            -34.08064516129032,
            -46.12008660248006
           ],
           "xaxis": "x",
           "y": [
            1.0672027678048002,
            0.29267217547350943,
            0.8272684120503374,
            2.2807543432079136,
            2.659904800660397,
            0.3270858075038344,
            0.8861491808635904,
            0.6728087595359791,
            0.8399873507787174,
            2.1948382532410533,
            9.164076275997953,
            0.33026825385510966,
            0.16117264921632488,
            0.0853075545277891,
            0.044370503037459944,
            0.12158239486922293,
            0.787152244188938,
            0,
            0.037075946182781074,
            6.668004472092423,
            0.4833185394485522,
            1.1082066129854902,
            2.850834375350512,
            2.5126127084660794,
            0.09159476935246345,
            0.8085923881015153,
            0.7537186594359924,
            17.47245022476583,
            0.004297995624010082,
            1.6196527286696216
           ],
           "yaxis": "y"
          }
         ],
         "name": "5"
        },
        {
         "data": [
          {
           "hovertemplate": "<b>%{hovertext}</b><br><br>month=6<br>mean moving category per month=%{x}<br>cumulative deaths per 100k over month=%{y}<br>cumulative pageviews per 100k over month=%{marker.size}<br>trust=%{marker.color}<extra></extra>",
           "hovertext": [
            "bg",
            "bn",
            "cs",
            "da",
            "de",
            "el",
            "fi",
            "he",
            "hr",
            "hu",
            "it",
            "ja",
            "kk",
            "ko",
            "ky",
            "lt",
            "mn",
            "ms",
            "nl",
            "no",
            "pl",
            "ro",
            "ru",
            "sk",
            "sl",
            "sv",
            "th",
            "tr"
           ],
           "ids": [
            "bg",
            "bn",
            "cs",
            "da",
            "de",
            "el",
            "fi",
            "he",
            "hr",
            "hu",
            "it",
            "ja",
            "kk",
            "ko",
            "ky",
            "lt",
            "mn",
            "ms",
            "nl",
            "no",
            "pl",
            "ro",
            "ru",
            "sk",
            "sl",
            "sv",
            "th",
            "tr"
           ],
           "legendgroup": "",
           "marker": {
            "color": [
             1,
             4,
             1,
             3,
             4,
             1,
             4,
             1,
             1,
             1,
             2,
             1,
             3,
             2,
             2,
             2,
             2,
             2,
             3,
             4,
             0,
             0,
             1,
             2,
             1,
             2,
             2,
             2
            ],
            "coloraxis": "coloraxis",
            "size": [
             624.38572746093,
             60.94867694051656,
             868.3046643543034,
             173.1143992081495,
             2600.071372508833,
             522.4681782890534,
             577.9139433403448,
             1772.861933131491,
             355.7099375444699,
             855.4741060880199,
             1086.5923289852246,
             828.3349569542454,
             12.700162180324602,
             157.665759662849,
             8.4803720421283,
             202.76326217357777,
             5.6126787973737535,
             240.51166288770082,
             1148.7142734283175,
             241.6035022004936,
             766.7153837811851,
             114.22031497305987,
             770.4329951469996,
             282.03861379010544,
             330.8569795078907,
             528.2591045567262,
             55.05159328273713,
             225.15070032728727
            ],
            "sizemode": "area",
            "sizeref": 49.148460374030016,
            "symbol": "circle"
           },
           "mode": "markers",
           "name": "",
           "orientation": "v",
           "showlegend": false,
           "type": "scatter",
           "x": [
            2.887601675199635,
            -33.00833333333333,
            6.332777777777778,
            32.85582968628657,
            12.432107843137256,
            17.233333333333334,
            24.31308808284916,
            -6.166666666666668,
            17.834990851941317,
            14.55941887701079,
            -3.5921264317716757,
            -10.6109375,
            -0.9666666666666667,
            6.516666666666667,
            -5.824375000000001,
            27.93005381192881,
            19.543055555555554,
            -26.037254901960786,
            5.048178434446955,
            24.030562382337447,
            10.96937329809047,
            -9.85095586973463,
            -3.0598039215686277,
            -0.2027196708865683,
            -5.129374224345877,
            25.121136575300685,
            -22.216666666666665,
            -3.090375315915481
           ],
           "xaxis": "x",
           "y": [
            1.297949312195027,
            0.7268228092153337,
            0.3318421313874236,
            0.5316043957853032,
            0.5783970203967681,
            0.1588702493590053,
            0.07233870864192575,
            0.4340701674425671,
            0.09882204126808443,
            0.6051189576692622,
            2.3700777299708373,
            0.06019277528294564,
            0.7837631572240624,
            0.021220675365741716,
            0.683900971139379,
            0.2504575322419348,
            0,
            0.018537973091390537,
            0.9001519364733537,
            0.2602484443184512,
            1.0527962823362156,
            1.9992190063933468,
            3.201845973523212,
            0,
            0.14269277437085565,
            9.059789005434133,
            0.0014326652080033607,
            0.7007428716279255
           ],
           "yaxis": "y"
          }
         ],
         "name": "6"
        },
        {
         "data": [
          {
           "hovertemplate": "<b>%{hovertext}</b><br><br>month=7<br>mean moving category per month=%{x}<br>cumulative deaths per 100k over month=%{y}<br>cumulative pageviews per 100k over month=%{marker.size}<br>trust=%{marker.color}<extra></extra>",
           "hovertext": [
            "bg",
            "bn",
            "cs",
            "da",
            "de",
            "el",
            "fi",
            "he",
            "hr",
            "hu",
            "it",
            "ja",
            "ka",
            "kk",
            "ko",
            "ky",
            "lt",
            "mn",
            "ms",
            "nl",
            "no",
            "pl",
            "ro",
            "ru",
            "sk",
            "sl",
            "sr",
            "sv",
            "th",
            "tr"
           ],
           "ids": [
            "bg",
            "bn",
            "cs",
            "da",
            "de",
            "el",
            "fi",
            "he",
            "hr",
            "hu",
            "it",
            "ja",
            "ka",
            "kk",
            "ko",
            "ky",
            "lt",
            "mn",
            "ms",
            "nl",
            "no",
            "pl",
            "ro",
            "ru",
            "sk",
            "sl",
            "sr",
            "sv",
            "th",
            "tr"
           ],
           "legendgroup": "",
           "marker": {
            "color": [
             1,
             4,
             1,
             3,
             4,
             1,
             4,
             1,
             1,
             1,
             2,
             1,
             2,
             3,
             2,
             2,
             2,
             2,
             2,
             3,
             4,
             0,
             0,
             1,
             2,
             1,
             2,
             2,
             2,
             2
            ],
            "coloraxis": "coloraxis",
            "size": [
             433.99098502094375,
             32.12471808216077,
             1035.6652705616395,
             127.29352999723565,
             2204.7051431195327,
             387.5219194217571,
             543.7519881841954,
             1765.6346648435722,
             336.85963317258273,
             799.833930743007,
             759.5333769434363,
             723.677936971828,
             71.99044998329175,
             11.324577863564004,
             45.48941137492632,
             7.781273271630269,
             169.63130862271612,
             5.521167730025268,
             323.1632159156655,
             1064.799472522432,
             176.5042127716924,
             576.0326044939889,
             100.03884196926705,
             540.4928395431156,
             167.01390243728187,
             337.4684113870737,
             216.57815787101148,
             416.54746315283364,
             76.89830503958038,
             162.78221337212568
            ],
            "sizemode": "area",
            "sizeref": 49.148460374030016,
            "symbol": "circle"
           },
           "mode": "markers",
           "name": "",
           "orientation": "v",
           "showlegend": false,
           "type": "scatter",
           "x": [
            11.050833645532348,
            -22.129032258064516,
            34.454980503367594,
            45.57559687861744,
            24.068844876660346,
            56.3735599078341,
            31.534601089383177,
            -10.425806451612903,
            53.172493594588,
            26.188835313432083,
            21.43729569311702,
            -10.457493279569892,
            -8.241379310344827,
            -12.451612903225806,
            5.254032258064516,
            -18.80584677419355,
            38.05873743192292,
            17.286290322580644,
            -13.903700189753321,
            14.114675208854202,
            21.478083001591536,
            26.400848824893547,
            -0.8871544194535452,
            7.770872865275142,
            21.93966871752009,
            -2.386648999767706,
            -10.754310344827585,
            23.118484428788566,
            -14.580645161290322,
            9.285244904296926
           ],
           "xaxis": "x",
           "y": [
            2.206513830731546,
            0.7675054560135185,
            0.37390662691540677,
            0.17148528896300097,
            0.20201808612610606,
            0.13083432300153375,
            0.05425403148144431,
            2.5718657420972093,
            0.9388093920468019,
            0.11281878871799805,
            0.629105089431578,
            0.03088839784256421,
            0.05372421640544162,
            3.225691905582025,
            0.03665389381355387,
            20.015501755345827,
            0.07155929492626709,
            0,
            0.012358648727593692,
            0.40707507955164407,
            0.09294587297087542,
            0.6675625549650691,
            3.593401434868041,
            3.215727811691533,
            0.01831895387049269,
            0.3805140649889484,
            4.145452626897958,
            3.9600357059999953,
            0,
            0.6639864773462577
           ],
           "yaxis": "y"
          }
         ],
         "name": "7"
        }
       ],
       "layout": {
        "coloraxis": {
         "colorbar": {
          "title": {
           "text": "trust"
          }
         },
         "colorscale": [
          [
           0,
           "#0d0887"
          ],
          [
           0.1111111111111111,
           "#46039f"
          ],
          [
           0.2222222222222222,
           "#7201a8"
          ],
          [
           0.3333333333333333,
           "#9c179e"
          ],
          [
           0.4444444444444444,
           "#bd3786"
          ],
          [
           0.5555555555555556,
           "#d8576b"
          ],
          [
           0.6666666666666666,
           "#ed7953"
          ],
          [
           0.7777777777777778,
           "#fb9f3a"
          ],
          [
           0.8888888888888888,
           "#fdca26"
          ],
          [
           1,
           "#f0f921"
          ]
         ]
        },
        "legend": {
         "itemsizing": "constant",
         "tracegroupgap": 0
        },
        "margin": {
         "t": 60
        },
        "sliders": [
         {
          "active": 0,
          "currentvalue": {
           "prefix": "month="
          },
          "len": 0.9,
          "pad": {
           "b": 10,
           "t": 60
          },
          "steps": [
           {
            "args": [
             [
              "2"
             ],
             {
              "frame": {
               "duration": 0,
               "redraw": false
              },
              "fromcurrent": true,
              "mode": "immediate",
              "transition": {
               "duration": 0,
               "easing": "linear"
              }
             }
            ],
            "label": "2",
            "method": "animate"
           },
           {
            "args": [
             [
              "3"
             ],
             {
              "frame": {
               "duration": 0,
               "redraw": false
              },
              "fromcurrent": true,
              "mode": "immediate",
              "transition": {
               "duration": 0,
               "easing": "linear"
              }
             }
            ],
            "label": "3",
            "method": "animate"
           },
           {
            "args": [
             [
              "4"
             ],
             {
              "frame": {
               "duration": 0,
               "redraw": false
              },
              "fromcurrent": true,
              "mode": "immediate",
              "transition": {
               "duration": 0,
               "easing": "linear"
              }
             }
            ],
            "label": "4",
            "method": "animate"
           },
           {
            "args": [
             [
              "5"
             ],
             {
              "frame": {
               "duration": 0,
               "redraw": false
              },
              "fromcurrent": true,
              "mode": "immediate",
              "transition": {
               "duration": 0,
               "easing": "linear"
              }
             }
            ],
            "label": "5",
            "method": "animate"
           },
           {
            "args": [
             [
              "6"
             ],
             {
              "frame": {
               "duration": 0,
               "redraw": false
              },
              "fromcurrent": true,
              "mode": "immediate",
              "transition": {
               "duration": 0,
               "easing": "linear"
              }
             }
            ],
            "label": "6",
            "method": "animate"
           },
           {
            "args": [
             [
              "7"
             ],
             {
              "frame": {
               "duration": 0,
               "redraw": false
              },
              "fromcurrent": true,
              "mode": "immediate",
              "transition": {
               "duration": 0,
               "easing": "linear"
              }
             }
            ],
            "label": "7",
            "method": "animate"
           }
          ],
          "x": 0.1,
          "xanchor": "left",
          "y": 0,
          "yanchor": "top"
         }
        ],
        "template": {
         "data": {
          "bar": [
           {
            "error_x": {
             "color": "#2a3f5f"
            },
            "error_y": {
             "color": "#2a3f5f"
            },
            "marker": {
             "line": {
              "color": "#E5ECF6",
              "width": 0.5
             },
             "pattern": {
              "fillmode": "overlay",
              "size": 10,
              "solidity": 0.2
             }
            },
            "type": "bar"
           }
          ],
          "barpolar": [
           {
            "marker": {
             "line": {
              "color": "#E5ECF6",
              "width": 0.5
             },
             "pattern": {
              "fillmode": "overlay",
              "size": 10,
              "solidity": 0.2
             }
            },
            "type": "barpolar"
           }
          ],
          "carpet": [
           {
            "aaxis": {
             "endlinecolor": "#2a3f5f",
             "gridcolor": "white",
             "linecolor": "white",
             "minorgridcolor": "white",
             "startlinecolor": "#2a3f5f"
            },
            "baxis": {
             "endlinecolor": "#2a3f5f",
             "gridcolor": "white",
             "linecolor": "white",
             "minorgridcolor": "white",
             "startlinecolor": "#2a3f5f"
            },
            "type": "carpet"
           }
          ],
          "choropleth": [
           {
            "colorbar": {
             "outlinewidth": 0,
             "ticks": ""
            },
            "type": "choropleth"
           }
          ],
          "contour": [
           {
            "colorbar": {
             "outlinewidth": 0,
             "ticks": ""
            },
            "colorscale": [
             [
              0,
              "#0d0887"
             ],
             [
              0.1111111111111111,
              "#46039f"
             ],
             [
              0.2222222222222222,
              "#7201a8"
             ],
             [
              0.3333333333333333,
              "#9c179e"
             ],
             [
              0.4444444444444444,
              "#bd3786"
             ],
             [
              0.5555555555555556,
              "#d8576b"
             ],
             [
              0.6666666666666666,
              "#ed7953"
             ],
             [
              0.7777777777777778,
              "#fb9f3a"
             ],
             [
              0.8888888888888888,
              "#fdca26"
             ],
             [
              1,
              "#f0f921"
             ]
            ],
            "type": "contour"
           }
          ],
          "contourcarpet": [
           {
            "colorbar": {
             "outlinewidth": 0,
             "ticks": ""
            },
            "type": "contourcarpet"
           }
          ],
          "heatmap": [
           {
            "colorbar": {
             "outlinewidth": 0,
             "ticks": ""
            },
            "colorscale": [
             [
              0,
              "#0d0887"
             ],
             [
              0.1111111111111111,
              "#46039f"
             ],
             [
              0.2222222222222222,
              "#7201a8"
             ],
             [
              0.3333333333333333,
              "#9c179e"
             ],
             [
              0.4444444444444444,
              "#bd3786"
             ],
             [
              0.5555555555555556,
              "#d8576b"
             ],
             [
              0.6666666666666666,
              "#ed7953"
             ],
             [
              0.7777777777777778,
              "#fb9f3a"
             ],
             [
              0.8888888888888888,
              "#fdca26"
             ],
             [
              1,
              "#f0f921"
             ]
            ],
            "type": "heatmap"
           }
          ],
          "heatmapgl": [
           {
            "colorbar": {
             "outlinewidth": 0,
             "ticks": ""
            },
            "colorscale": [
             [
              0,
              "#0d0887"
             ],
             [
              0.1111111111111111,
              "#46039f"
             ],
             [
              0.2222222222222222,
              "#7201a8"
             ],
             [
              0.3333333333333333,
              "#9c179e"
             ],
             [
              0.4444444444444444,
              "#bd3786"
             ],
             [
              0.5555555555555556,
              "#d8576b"
             ],
             [
              0.6666666666666666,
              "#ed7953"
             ],
             [
              0.7777777777777778,
              "#fb9f3a"
             ],
             [
              0.8888888888888888,
              "#fdca26"
             ],
             [
              1,
              "#f0f921"
             ]
            ],
            "type": "heatmapgl"
           }
          ],
          "histogram": [
           {
            "marker": {
             "pattern": {
              "fillmode": "overlay",
              "size": 10,
              "solidity": 0.2
             }
            },
            "type": "histogram"
           }
          ],
          "histogram2d": [
           {
            "colorbar": {
             "outlinewidth": 0,
             "ticks": ""
            },
            "colorscale": [
             [
              0,
              "#0d0887"
             ],
             [
              0.1111111111111111,
              "#46039f"
             ],
             [
              0.2222222222222222,
              "#7201a8"
             ],
             [
              0.3333333333333333,
              "#9c179e"
             ],
             [
              0.4444444444444444,
              "#bd3786"
             ],
             [
              0.5555555555555556,
              "#d8576b"
             ],
             [
              0.6666666666666666,
              "#ed7953"
             ],
             [
              0.7777777777777778,
              "#fb9f3a"
             ],
             [
              0.8888888888888888,
              "#fdca26"
             ],
             [
              1,
              "#f0f921"
             ]
            ],
            "type": "histogram2d"
           }
          ],
          "histogram2dcontour": [
           {
            "colorbar": {
             "outlinewidth": 0,
             "ticks": ""
            },
            "colorscale": [
             [
              0,
              "#0d0887"
             ],
             [
              0.1111111111111111,
              "#46039f"
             ],
             [
              0.2222222222222222,
              "#7201a8"
             ],
             [
              0.3333333333333333,
              "#9c179e"
             ],
             [
              0.4444444444444444,
              "#bd3786"
             ],
             [
              0.5555555555555556,
              "#d8576b"
             ],
             [
              0.6666666666666666,
              "#ed7953"
             ],
             [
              0.7777777777777778,
              "#fb9f3a"
             ],
             [
              0.8888888888888888,
              "#fdca26"
             ],
             [
              1,
              "#f0f921"
             ]
            ],
            "type": "histogram2dcontour"
           }
          ],
          "mesh3d": [
           {
            "colorbar": {
             "outlinewidth": 0,
             "ticks": ""
            },
            "type": "mesh3d"
           }
          ],
          "parcoords": [
           {
            "line": {
             "colorbar": {
              "outlinewidth": 0,
              "ticks": ""
             }
            },
            "type": "parcoords"
           }
          ],
          "pie": [
           {
            "automargin": true,
            "type": "pie"
           }
          ],
          "scatter": [
           {
            "fillpattern": {
             "fillmode": "overlay",
             "size": 10,
             "solidity": 0.2
            },
            "type": "scatter"
           }
          ],
          "scatter3d": [
           {
            "line": {
             "colorbar": {
              "outlinewidth": 0,
              "ticks": ""
             }
            },
            "marker": {
             "colorbar": {
              "outlinewidth": 0,
              "ticks": ""
             }
            },
            "type": "scatter3d"
           }
          ],
          "scattercarpet": [
           {
            "marker": {
             "colorbar": {
              "outlinewidth": 0,
              "ticks": ""
             }
            },
            "type": "scattercarpet"
           }
          ],
          "scattergeo": [
           {
            "marker": {
             "colorbar": {
              "outlinewidth": 0,
              "ticks": ""
             }
            },
            "type": "scattergeo"
           }
          ],
          "scattergl": [
           {
            "marker": {
             "colorbar": {
              "outlinewidth": 0,
              "ticks": ""
             }
            },
            "type": "scattergl"
           }
          ],
          "scattermapbox": [
           {
            "marker": {
             "colorbar": {
              "outlinewidth": 0,
              "ticks": ""
             }
            },
            "type": "scattermapbox"
           }
          ],
          "scatterpolar": [
           {
            "marker": {
             "colorbar": {
              "outlinewidth": 0,
              "ticks": ""
             }
            },
            "type": "scatterpolar"
           }
          ],
          "scatterpolargl": [
           {
            "marker": {
             "colorbar": {
              "outlinewidth": 0,
              "ticks": ""
             }
            },
            "type": "scatterpolargl"
           }
          ],
          "scatterternary": [
           {
            "marker": {
             "colorbar": {
              "outlinewidth": 0,
              "ticks": ""
             }
            },
            "type": "scatterternary"
           }
          ],
          "surface": [
           {
            "colorbar": {
             "outlinewidth": 0,
             "ticks": ""
            },
            "colorscale": [
             [
              0,
              "#0d0887"
             ],
             [
              0.1111111111111111,
              "#46039f"
             ],
             [
              0.2222222222222222,
              "#7201a8"
             ],
             [
              0.3333333333333333,
              "#9c179e"
             ],
             [
              0.4444444444444444,
              "#bd3786"
             ],
             [
              0.5555555555555556,
              "#d8576b"
             ],
             [
              0.6666666666666666,
              "#ed7953"
             ],
             [
              0.7777777777777778,
              "#fb9f3a"
             ],
             [
              0.8888888888888888,
              "#fdca26"
             ],
             [
              1,
              "#f0f921"
             ]
            ],
            "type": "surface"
           }
          ],
          "table": [
           {
            "cells": {
             "fill": {
              "color": "#EBF0F8"
             },
             "line": {
              "color": "white"
             }
            },
            "header": {
             "fill": {
              "color": "#C8D4E3"
             },
             "line": {
              "color": "white"
             }
            },
            "type": "table"
           }
          ]
         },
         "layout": {
          "annotationdefaults": {
           "arrowcolor": "#2a3f5f",
           "arrowhead": 0,
           "arrowwidth": 1
          },
          "autotypenumbers": "strict",
          "coloraxis": {
           "colorbar": {
            "outlinewidth": 0,
            "ticks": ""
           }
          },
          "colorscale": {
           "diverging": [
            [
             0,
             "#8e0152"
            ],
            [
             0.1,
             "#c51b7d"
            ],
            [
             0.2,
             "#de77ae"
            ],
            [
             0.3,
             "#f1b6da"
            ],
            [
             0.4,
             "#fde0ef"
            ],
            [
             0.5,
             "#f7f7f7"
            ],
            [
             0.6,
             "#e6f5d0"
            ],
            [
             0.7,
             "#b8e186"
            ],
            [
             0.8,
             "#7fbc41"
            ],
            [
             0.9,
             "#4d9221"
            ],
            [
             1,
             "#276419"
            ]
           ],
           "sequential": [
            [
             0,
             "#0d0887"
            ],
            [
             0.1111111111111111,
             "#46039f"
            ],
            [
             0.2222222222222222,
             "#7201a8"
            ],
            [
             0.3333333333333333,
             "#9c179e"
            ],
            [
             0.4444444444444444,
             "#bd3786"
            ],
            [
             0.5555555555555556,
             "#d8576b"
            ],
            [
             0.6666666666666666,
             "#ed7953"
            ],
            [
             0.7777777777777778,
             "#fb9f3a"
            ],
            [
             0.8888888888888888,
             "#fdca26"
            ],
            [
             1,
             "#f0f921"
            ]
           ],
           "sequentialminus": [
            [
             0,
             "#0d0887"
            ],
            [
             0.1111111111111111,
             "#46039f"
            ],
            [
             0.2222222222222222,
             "#7201a8"
            ],
            [
             0.3333333333333333,
             "#9c179e"
            ],
            [
             0.4444444444444444,
             "#bd3786"
            ],
            [
             0.5555555555555556,
             "#d8576b"
            ],
            [
             0.6666666666666666,
             "#ed7953"
            ],
            [
             0.7777777777777778,
             "#fb9f3a"
            ],
            [
             0.8888888888888888,
             "#fdca26"
            ],
            [
             1,
             "#f0f921"
            ]
           ]
          },
          "colorway": [
           "#636efa",
           "#EF553B",
           "#00cc96",
           "#ab63fa",
           "#FFA15A",
           "#19d3f3",
           "#FF6692",
           "#B6E880",
           "#FF97FF",
           "#FECB52"
          ],
          "font": {
           "color": "#2a3f5f"
          },
          "geo": {
           "bgcolor": "white",
           "lakecolor": "white",
           "landcolor": "#E5ECF6",
           "showlakes": true,
           "showland": true,
           "subunitcolor": "white"
          },
          "hoverlabel": {
           "align": "left"
          },
          "hovermode": "closest",
          "mapbox": {
           "style": "light"
          },
          "paper_bgcolor": "white",
          "plot_bgcolor": "#E5ECF6",
          "polar": {
           "angularaxis": {
            "gridcolor": "white",
            "linecolor": "white",
            "ticks": ""
           },
           "bgcolor": "#E5ECF6",
           "radialaxis": {
            "gridcolor": "white",
            "linecolor": "white",
            "ticks": ""
           }
          },
          "scene": {
           "xaxis": {
            "backgroundcolor": "#E5ECF6",
            "gridcolor": "white",
            "gridwidth": 2,
            "linecolor": "white",
            "showbackground": true,
            "ticks": "",
            "zerolinecolor": "white"
           },
           "yaxis": {
            "backgroundcolor": "#E5ECF6",
            "gridcolor": "white",
            "gridwidth": 2,
            "linecolor": "white",
            "showbackground": true,
            "ticks": "",
            "zerolinecolor": "white"
           },
           "zaxis": {
            "backgroundcolor": "#E5ECF6",
            "gridcolor": "white",
            "gridwidth": 2,
            "linecolor": "white",
            "showbackground": true,
            "ticks": "",
            "zerolinecolor": "white"
           }
          },
          "shapedefaults": {
           "line": {
            "color": "#2a3f5f"
           }
          },
          "ternary": {
           "aaxis": {
            "gridcolor": "white",
            "linecolor": "white",
            "ticks": ""
           },
           "baxis": {
            "gridcolor": "white",
            "linecolor": "white",
            "ticks": ""
           },
           "bgcolor": "#E5ECF6",
           "caxis": {
            "gridcolor": "white",
            "linecolor": "white",
            "ticks": ""
           }
          },
          "title": {
           "x": 0.05
          },
          "xaxis": {
           "automargin": true,
           "gridcolor": "white",
           "linecolor": "white",
           "ticks": "",
           "title": {
            "standoff": 15
           },
           "zerolinecolor": "white",
           "zerolinewidth": 2
          },
          "yaxis": {
           "automargin": true,
           "gridcolor": "white",
           "linecolor": "white",
           "ticks": "",
           "title": {
            "standoff": 15
           },
           "zerolinecolor": "white",
           "zerolinewidth": 2
          }
         }
        },
        "updatemenus": [
         {
          "buttons": [
           {
            "args": [
             null,
             {
              "frame": {
               "duration": 500,
               "redraw": false
              },
              "fromcurrent": true,
              "mode": "immediate",
              "transition": {
               "duration": 500,
               "easing": "linear"
              }
             }
            ],
            "label": "&#9654;",
            "method": "animate"
           },
           {
            "args": [
             [
              null
             ],
             {
              "frame": {
               "duration": 0,
               "redraw": false
              },
              "fromcurrent": true,
              "mode": "immediate",
              "transition": {
               "duration": 0,
               "easing": "linear"
              }
             }
            ],
            "label": "&#9724;",
            "method": "animate"
           }
          ],
          "direction": "left",
          "pad": {
           "r": 10,
           "t": 70
          },
          "showactive": false,
          "type": "buttons",
          "x": 0.1,
          "xanchor": "right",
          "y": 0,
          "yanchor": "top"
         }
        ],
        "xaxis": {
         "anchor": "y",
         "domain": [
          0,
          1
         ],
         "range": [
          -50,
          30
         ],
         "title": {
          "text": "mean moving category per month"
         }
        },
        "yaxis": {
         "anchor": "x",
         "domain": [
          0,
          1
         ],
         "range": [
          -0.1,
          5
         ],
         "title": {
          "text": "cumulative deaths per 100k over month"
         }
        }
       }
      }
     },
     "metadata": {},
     "output_type": "display_data"
    }
   ],
   "source": [
    "# Create animation\n",
    "df = grouped_df\n",
    "px.scatter(df,x=\"mean moving category per month\", y=\"cumulative deaths per 100k over month\" , animation_frame=\"month\", animation_group=\"country\",\n",
    "           size=\"cumulative pageviews per 100k over month\" ,color=\"trust\", hover_name=\"country\", range_x=[-50,30],range_y=[-0.1,5])"
   ]
  }
 ],
 "metadata": {
  "kernelspec": {
   "display_name": "Python 3.8.6 64-bit",
   "language": "python",
   "name": "python3"
  },
  "language_info": {
   "codemirror_mode": {
    "name": "ipython",
    "version": 3
   },
   "file_extension": ".py",
   "mimetype": "text/x-python",
   "name": "python",
   "nbconvert_exporter": "python",
   "pygments_lexer": "ipython3",
   "version": "3.8.6"
  },
  "orig_nbformat": 4,
  "vscode": {
   "interpreter": {
    "hash": "0adcc2737ebf6a4a119f135174df96668767fca1ef1112612db5ecadf2b6d608"
   }
  }
 },
 "nbformat": 4,
 "nbformat_minor": 2
}
