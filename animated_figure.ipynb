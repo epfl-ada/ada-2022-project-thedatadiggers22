{
 "cells": [
  {
   "cell_type": "code",
   "execution_count": 1,
   "metadata": {},
   "outputs": [],
   "source": [
    "# Imports\n",
    "import plotly.express as px\n",
    "from helper import *\n",
    "import pandas as pd\n",
    "import numpy as np\n",
    "import gzip\n",
    "import json\n",
    "from scipy import stats"
   ]
  },
  {
   "cell_type": "markdown",
   "metadata": {},
   "source": [
    "## Animated figure"
   ]
  },
  {
   "cell_type": "code",
   "execution_count": 2,
   "metadata": {},
   "outputs": [],
   "source": [
    "# Load and preprocess pageviews and deaths \n",
    "pageview_df = pd.read_csv(\"page_views_covid_related.csv.gz\")\n",
    "population_df = pd.read_csv(\"Population_countries.csv\")\n",
    "\n",
    "_,_, df_pageviews100k,_ = get_pageviews_df(pageview_df, population_df, get_country_dict('trust gov mobility'), '2020-01-22', '2020-11-22')\n",
    "_, _, _, _, deaths100k, _, _,_ = get_cases_deaths_df(population_df, get_country_dict('trust gov mobility'), '2020-01-22', '2020-11-22')\n",
    "df_pageviews100k = df_pageviews100k.transpose().stack().to_frame().reset_index().rename(columns={\"level_0\": \"country\", \"date\": \"date\", 0:\"pageviews per 100k\"}, errors=\"raise\")\n",
    "deaths100k = deaths100k.transpose().stack().to_frame().reset_index().rename(columns={\"level_0\": \"country\", \"date\": \"date\", 0:\"deaths per 100k\"}, errors=\"raise\")\n",
    "df_animation = df_pageviews100k.merge(deaths100k, on=['country','date'])\n",
    "df_animation['date'] = pd.to_datetime(df_animation['date'])\n",
    "df_animation=df_animation.rename(columns={\"country\": \"Country\"})"
   ]
  },
  {
   "cell_type": "code",
   "execution_count": 3,
   "metadata": {},
   "outputs": [
    {
     "data": {
      "text/html": [
       "<div>\n",
       "<style scoped>\n",
       "    .dataframe tbody tr th:only-of-type {\n",
       "        vertical-align: middle;\n",
       "    }\n",
       "\n",
       "    .dataframe tbody tr th {\n",
       "        vertical-align: top;\n",
       "    }\n",
       "\n",
       "    .dataframe thead th {\n",
       "        text-align: right;\n",
       "    }\n",
       "</style>\n",
       "<table border=\"1\" class=\"dataframe\">\n",
       "  <thead>\n",
       "    <tr style=\"text-align: right;\">\n",
       "      <th></th>\n",
       "      <th>Country</th>\n",
       "      <th>date</th>\n",
       "      <th>pageviews per 100k</th>\n",
       "      <th>deaths per 100k</th>\n",
       "      <th>Trust</th>\n",
       "    </tr>\n",
       "  </thead>\n",
       "  <tbody>\n",
       "    <tr>\n",
       "      <th>0</th>\n",
       "      <td>it</td>\n",
       "      <td>2020-01-22</td>\n",
       "      <td>40.388883</td>\n",
       "      <td>0.0</td>\n",
       "      <td>52.3</td>\n",
       "    </tr>\n",
       "    <tr>\n",
       "      <th>1</th>\n",
       "      <td>it</td>\n",
       "      <td>2020-01-23</td>\n",
       "      <td>46.878422</td>\n",
       "      <td>0.0</td>\n",
       "      <td>52.3</td>\n",
       "    </tr>\n",
       "    <tr>\n",
       "      <th>2</th>\n",
       "      <td>it</td>\n",
       "      <td>2020-01-24</td>\n",
       "      <td>38.747154</td>\n",
       "      <td>0.0</td>\n",
       "      <td>52.3</td>\n",
       "    </tr>\n",
       "    <tr>\n",
       "      <th>3</th>\n",
       "      <td>it</td>\n",
       "      <td>2020-01-25</td>\n",
       "      <td>54.543748</td>\n",
       "      <td>0.0</td>\n",
       "      <td>52.3</td>\n",
       "    </tr>\n",
       "    <tr>\n",
       "      <th>4</th>\n",
       "      <td>it</td>\n",
       "      <td>2020-01-26</td>\n",
       "      <td>55.928115</td>\n",
       "      <td>0.0</td>\n",
       "      <td>52.3</td>\n",
       "    </tr>\n",
       "  </tbody>\n",
       "</table>\n",
       "</div>"
      ],
      "text/plain": [
       "  Country       date  pageviews per 100k  deaths per 100k  Trust\n",
       "0      it 2020-01-22           40.388883              0.0   52.3\n",
       "1      it 2020-01-23           46.878422              0.0   52.3\n",
       "2      it 2020-01-24           38.747154              0.0   52.3\n",
       "3      it 2020-01-25           54.543748              0.0   52.3\n",
       "4      it 2020-01-26           55.928115              0.0   52.3"
      ]
     },
     "execution_count": 3,
     "metadata": {},
     "output_type": "execute_result"
    }
   ],
   "source": [
    "# Dowload and preprocess trust dataset\n",
    "data_folder = 'data_2/'\n",
    "df_trust_gov = pd.read_csv(data_folder+'share-who-trust-government.csv.zip') \n",
    "df_trust_gov = df_trust_gov.set_index(\"Entity\")[[\"Trust the national government in this country\"]].transpose()[COUNTRY_OWN_LANG_TRUST_GOV.keys()].rename(columns= COUNTRY_OWN_LANG_TRUST_GOV)\n",
    "country_dict = get_country_dict('trust gov mobility')\n",
    "\n",
    "# # Map the trust category to the countries in df_animation\n",
    "# country_dict_cat =  trust_category(df_trust_gov, 5,country_dict)\n",
    "trust_dict =df_trust_gov.to_dict('index')\n",
    "df_animation['Trust'] = df_animation['Country'].map(trust_dict['Trust the national government in this country'])\n",
    "df_animation.head()"
   ]
  },
  {
   "cell_type": "code",
   "execution_count": 4,
   "metadata": {},
   "outputs": [
    {
     "name": "stderr",
     "output_type": "stream",
     "text": [
      "/var/folders/yd/qcqcvgvx64j3l0qqnk__2cpm0000gn/T/ipykernel_89658/4206571970.py:4: DtypeWarning: Columns (4) have mixed types. Specify dtype option on import or set low_memory=False.\n",
      "  google_mobility = pd.read_csv(data_folder+'Global_Mobility_Report.csv.zip')\n"
     ]
    }
   ],
   "source": [
    "data_folder = 'data_2/'\n",
    "\n",
    "#Download mobility and intervention files\n",
    "google_mobility = pd.read_csv(data_folder+'Global_Mobility_Report.csv.zip')\n",
    "interventions = pd.read_csv(data_folder+'interventions.csv.zip')\n",
    "\n",
    "#Download file with covid pageviews #MODIFY WITH THE NEW DATA\n",
    "file = gzip.open(data_folder+'aggregated_timeseries.json.gz')\n",
    "data = json.load(file)\n",
    "\n",
    "#Change name of the columns\n",
    "categories = [\"Retail and Recreations\", \"Grocery and Pharmacy\", \"Parks\",\"Transit stations\", \"Workplace\", \"Residential\"]\n",
    "google_mobility = google_mobility.rename(dict(zip(google_mobility.columns[8:],categories)), axis = 1)\n",
    "\n",
    "#Transform date string to datetime\n",
    "google_mobility['date'] = pd.to_datetime(google_mobility['date'])\n",
    "\n",
    "#Delete columns about region\n",
    "google_mobility = google_mobility.drop(google_mobility.iloc[:,2:7], axis = 1)\n",
    "\n",
    "#Keep same dates as for corona wikipedia pages\n",
    "google_mobility = google_mobility.loc[(google_mobility['date'] < \"2020-08-01\") & (google_mobility['date'] >= \"2020-01-22\")]\n",
    "\n",
    "#Regroup all data per country and per date and take the average\n",
    "mobility = google_mobility.groupby([\"country_region_code\",\"country_region\",\"date\"]).mean()\n",
    "\n",
    "#Keep only the country that we are interested in\n",
    "mobility = mobility[mobility.index.get_level_values('country_region').isin(list(country_dict.keys()))]\n",
    "\n",
    "# Group together Parks, Retail and Recreations, Transit stations and Workplace by taking the mean of them\n",
    "mobility['moving category'] = mobility[['Retail and Recreations', 'Parks', 'Transit stations', 'Workplace']].mean(axis=1)\n",
    "\n",
    "#Group together Grocey and Pharmacy and Residential by taking the mean of them\n",
    "mobility['covid category'] = mobility[['Grocery and Pharmacy', 'Residential']].mean(axis=1)\n",
    "\n",
    "moving_cat_df = mobility['moving category'].reset_index()\n",
    "moving_cat_df['country_region'] =moving_cat_df['country_region'].map(get_country_dict('trust gov mobility'))\n",
    "\n",
    "# merge dataframe with the mobility dataset\n",
    "df_animation = df_animation.merge(moving_cat_df, left_on=['Country','date'],  right_on=['country_region','date'])\n",
    "df_animation = df_animation.drop(columns=['country_region','country_region_code'])\n",
    "df_animation['date']=df_animation['date'].astype(str)\n",
    "\n",
    "df_animation['Month-Year'] = pd.to_datetime(df_animation['date']).dt.to_period('M')\n",
    "df_animation['Month-Year']=df_animation['Month-Year'].astype(str)\n",
    "\n",
    "inv_map = {v: k for k, v in get_country_dict('trust gov mobility').items()}\n",
    "df_animation['Country'] = df_animation['Country'].map(inv_map)"
   ]
  },
  {
   "cell_type": "code",
   "execution_count": 5,
   "metadata": {},
   "outputs": [
    {
     "data": {
      "text/html": [
       "<div>\n",
       "<style scoped>\n",
       "    .dataframe tbody tr th:only-of-type {\n",
       "        vertical-align: middle;\n",
       "    }\n",
       "\n",
       "    .dataframe tbody tr th {\n",
       "        vertical-align: top;\n",
       "    }\n",
       "\n",
       "    .dataframe thead th {\n",
       "        text-align: right;\n",
       "    }\n",
       "</style>\n",
       "<table border=\"1\" class=\"dataframe\">\n",
       "  <thead>\n",
       "    <tr style=\"text-align: right;\">\n",
       "      <th></th>\n",
       "      <th>Month-Year</th>\n",
       "      <th>Country</th>\n",
       "      <th>Cumulative pageviews per 100k</th>\n",
       "      <th>Cumulative deaths per 100k</th>\n",
       "      <th>Mobility change from baseline</th>\n",
       "      <th>Trust</th>\n",
       "    </tr>\n",
       "  </thead>\n",
       "  <tbody>\n",
       "    <tr>\n",
       "      <th>0</th>\n",
       "      <td>2020-02</td>\n",
       "      <td>Bangladesh</td>\n",
       "      <td>0.556806</td>\n",
       "      <td>0.000000</td>\n",
       "      <td>5.250000</td>\n",
       "      <td>83.0</td>\n",
       "    </tr>\n",
       "    <tr>\n",
       "      <th>15</th>\n",
       "      <td>2020-02</td>\n",
       "      <td>Bulgaria</td>\n",
       "      <td>161.407208</td>\n",
       "      <td>0.000000</td>\n",
       "      <td>5.097669</td>\n",
       "      <td>40.4</td>\n",
       "    </tr>\n",
       "    <tr>\n",
       "      <th>30</th>\n",
       "      <td>2020-02</td>\n",
       "      <td>Croatia</td>\n",
       "      <td>171.629180</td>\n",
       "      <td>0.000000</td>\n",
       "      <td>8.503883</td>\n",
       "      <td>42.0</td>\n",
       "    </tr>\n",
       "    <tr>\n",
       "      <th>45</th>\n",
       "      <td>2020-02</td>\n",
       "      <td>Czechia</td>\n",
       "      <td>1925.544347</td>\n",
       "      <td>0.000000</td>\n",
       "      <td>6.410000</td>\n",
       "      <td>45.8</td>\n",
       "    </tr>\n",
       "    <tr>\n",
       "      <th>60</th>\n",
       "      <td>2020-02</td>\n",
       "      <td>Denmark</td>\n",
       "      <td>275.594008</td>\n",
       "      <td>0.000000</td>\n",
       "      <td>-1.578199</td>\n",
       "      <td>79.3</td>\n",
       "    </tr>\n",
       "    <tr>\n",
       "      <th>75</th>\n",
       "      <td>2020-02</td>\n",
       "      <td>Finland</td>\n",
       "      <td>786.502610</td>\n",
       "      <td>0.000000</td>\n",
       "      <td>5.078715</td>\n",
       "      <td>80.7</td>\n",
       "    </tr>\n",
       "    <tr>\n",
       "      <th>90</th>\n",
       "      <td>2020-02</td>\n",
       "      <td>Georgia</td>\n",
       "      <td>57.162566</td>\n",
       "      <td>0.000000</td>\n",
       "      <td>4.208333</td>\n",
       "      <td>57.6</td>\n",
       "    </tr>\n",
       "    <tr>\n",
       "      <th>105</th>\n",
       "      <td>2020-02</td>\n",
       "      <td>Germany</td>\n",
       "      <td>1699.497592</td>\n",
       "      <td>0.000000</td>\n",
       "      <td>1.636275</td>\n",
       "      <td>82.0</td>\n",
       "    </tr>\n",
       "    <tr>\n",
       "      <th>120</th>\n",
       "      <td>2020-02</td>\n",
       "      <td>Greece</td>\n",
       "      <td>175.065669</td>\n",
       "      <td>0.000000</td>\n",
       "      <td>6.431250</td>\n",
       "      <td>40.7</td>\n",
       "    </tr>\n",
       "    <tr>\n",
       "      <th>135</th>\n",
       "      <td>2020-02</td>\n",
       "      <td>Hungary</td>\n",
       "      <td>293.616026</td>\n",
       "      <td>0.000000</td>\n",
       "      <td>9.620652</td>\n",
       "      <td>48.6</td>\n",
       "    </tr>\n",
       "    <tr>\n",
       "      <th>150</th>\n",
       "      <td>2020-02</td>\n",
       "      <td>Israel</td>\n",
       "      <td>688.283361</td>\n",
       "      <td>0.000000</td>\n",
       "      <td>6.939167</td>\n",
       "      <td>51.1</td>\n",
       "    </tr>\n",
       "    <tr>\n",
       "      <th>165</th>\n",
       "      <td>2020-02</td>\n",
       "      <td>Italy</td>\n",
       "      <td>1299.660467</td>\n",
       "      <td>0.048781</td>\n",
       "      <td>1.794570</td>\n",
       "      <td>52.3</td>\n",
       "    </tr>\n",
       "    <tr>\n",
       "      <th>180</th>\n",
       "      <td>2020-02</td>\n",
       "      <td>Japan</td>\n",
       "      <td>753.072604</td>\n",
       "      <td>0.003960</td>\n",
       "      <td>-1.063194</td>\n",
       "      <td>49.5</td>\n",
       "    </tr>\n",
       "    <tr>\n",
       "      <th>195</th>\n",
       "      <td>2020-02</td>\n",
       "      <td>Kazakhstan</td>\n",
       "      <td>29.335135</td>\n",
       "      <td>0.000000</td>\n",
       "      <td>3.183333</td>\n",
       "      <td>72.2</td>\n",
       "    </tr>\n",
       "    <tr>\n",
       "      <th>210</th>\n",
       "      <td>2020-02</td>\n",
       "      <td>Kyrgyzstan</td>\n",
       "      <td>1.481785</td>\n",
       "      <td>0.000000</td>\n",
       "      <td>2.416984</td>\n",
       "      <td>57.6</td>\n",
       "    </tr>\n",
       "    <tr>\n",
       "      <th>225</th>\n",
       "      <td>2020-02</td>\n",
       "      <td>Lithuania</td>\n",
       "      <td>329.244316</td>\n",
       "      <td>0.000000</td>\n",
       "      <td>2.346420</td>\n",
       "      <td>55.1</td>\n",
       "    </tr>\n",
       "    <tr>\n",
       "      <th>240</th>\n",
       "      <td>2020-02</td>\n",
       "      <td>Malaysia</td>\n",
       "      <td>38.963730</td>\n",
       "      <td>0.000000</td>\n",
       "      <td>-1.263725</td>\n",
       "      <td>57.6</td>\n",
       "    </tr>\n",
       "    <tr>\n",
       "      <th>255</th>\n",
       "      <td>2020-02</td>\n",
       "      <td>Mongolia</td>\n",
       "      <td>11.926942</td>\n",
       "      <td>0.000000</td>\n",
       "      <td>-23.101389</td>\n",
       "      <td>54.8</td>\n",
       "    </tr>\n",
       "    <tr>\n",
       "      <th>270</th>\n",
       "      <td>2020-02</td>\n",
       "      <td>Netherlands</td>\n",
       "      <td>737.167101</td>\n",
       "      <td>0.000000</td>\n",
       "      <td>-2.531211</td>\n",
       "      <td>78.5</td>\n",
       "    </tr>\n",
       "    <tr>\n",
       "      <th>285</th>\n",
       "      <td>2020-02</td>\n",
       "      <td>Norway</td>\n",
       "      <td>362.061354</td>\n",
       "      <td>0.000000</td>\n",
       "      <td>1.137998</td>\n",
       "      <td>94.3</td>\n",
       "    </tr>\n",
       "    <tr>\n",
       "      <th>300</th>\n",
       "      <td>2020-02</td>\n",
       "      <td>Poland</td>\n",
       "      <td>840.688175</td>\n",
       "      <td>0.000000</td>\n",
       "      <td>4.280698</td>\n",
       "      <td>33.6</td>\n",
       "    </tr>\n",
       "    <tr>\n",
       "      <th>315</th>\n",
       "      <td>2020-02</td>\n",
       "      <td>Romania</td>\n",
       "      <td>223.528263</td>\n",
       "      <td>0.000000</td>\n",
       "      <td>5.015877</td>\n",
       "      <td>24.3</td>\n",
       "    </tr>\n",
       "    <tr>\n",
       "      <th>330</th>\n",
       "      <td>2020-02</td>\n",
       "      <td>Russia</td>\n",
       "      <td>880.531242</td>\n",
       "      <td>0.000000</td>\n",
       "      <td>3.636275</td>\n",
       "      <td>47.0</td>\n",
       "    </tr>\n",
       "    <tr>\n",
       "      <th>345</th>\n",
       "      <td>2020-02</td>\n",
       "      <td>Serbia</td>\n",
       "      <td>39.077414</td>\n",
       "      <td>0.000000</td>\n",
       "      <td>7.966667</td>\n",
       "      <td>57.0</td>\n",
       "    </tr>\n",
       "    <tr>\n",
       "      <th>360</th>\n",
       "      <td>2020-02</td>\n",
       "      <td>Slovakia</td>\n",
       "      <td>385.174324</td>\n",
       "      <td>0.000000</td>\n",
       "      <td>6.620948</td>\n",
       "      <td>53.5</td>\n",
       "    </tr>\n",
       "    <tr>\n",
       "      <th>375</th>\n",
       "      <td>2020-02</td>\n",
       "      <td>Slovenia</td>\n",
       "      <td>415.711616</td>\n",
       "      <td>0.000000</td>\n",
       "      <td>1.120952</td>\n",
       "      <td>48.1</td>\n",
       "    </tr>\n",
       "    <tr>\n",
       "      <th>390</th>\n",
       "      <td>2020-02</td>\n",
       "      <td>South Korea</td>\n",
       "      <td>172.668777</td>\n",
       "      <td>0.030866</td>\n",
       "      <td>-11.533333</td>\n",
       "      <td>52.8</td>\n",
       "    </tr>\n",
       "    <tr>\n",
       "      <th>405</th>\n",
       "      <td>2020-02</td>\n",
       "      <td>Sweden</td>\n",
       "      <td>159.174118</td>\n",
       "      <td>0.000000</td>\n",
       "      <td>-0.028181</td>\n",
       "      <td>64.7</td>\n",
       "    </tr>\n",
       "    <tr>\n",
       "      <th>420</th>\n",
       "      <td>2020-02</td>\n",
       "      <td>Thailand</td>\n",
       "      <td>52.298011</td>\n",
       "      <td>0.000000</td>\n",
       "      <td>-3.550000</td>\n",
       "      <td>55.6</td>\n",
       "    </tr>\n",
       "    <tr>\n",
       "      <th>435</th>\n",
       "      <td>2020-02</td>\n",
       "      <td>Turkey</td>\n",
       "      <td>63.172385</td>\n",
       "      <td>0.000000</td>\n",
       "      <td>2.384815</td>\n",
       "      <td>54.9</td>\n",
       "    </tr>\n",
       "    <tr>\n",
       "      <th>450</th>\n",
       "      <td>2020-03</td>\n",
       "      <td>Bangladesh</td>\n",
       "      <td>52.223767</td>\n",
       "      <td>0.003036</td>\n",
       "      <td>-12.572581</td>\n",
       "      <td>83.0</td>\n",
       "    </tr>\n",
       "    <tr>\n",
       "      <th>481</th>\n",
       "      <td>2020-03</td>\n",
       "      <td>Bulgaria</td>\n",
       "      <td>1514.447257</td>\n",
       "      <td>0.115373</td>\n",
       "      <td>-23.540960</td>\n",
       "      <td>40.4</td>\n",
       "    </tr>\n",
       "    <tr>\n",
       "      <th>512</th>\n",
       "      <td>2020-03</td>\n",
       "      <td>Croatia</td>\n",
       "      <td>2508.844573</td>\n",
       "      <td>0.148233</td>\n",
       "      <td>-24.078096</td>\n",
       "      <td>42.0</td>\n",
       "    </tr>\n",
       "    <tr>\n",
       "      <th>543</th>\n",
       "      <td>2020-03</td>\n",
       "      <td>Czechia</td>\n",
       "      <td>19659.384150</td>\n",
       "      <td>0.289778</td>\n",
       "      <td>-22.053226</td>\n",
       "      <td>45.8</td>\n",
       "    </tr>\n",
       "    <tr>\n",
       "      <th>574</th>\n",
       "      <td>2020-03</td>\n",
       "      <td>Denmark</td>\n",
       "      <td>1691.256514</td>\n",
       "      <td>1.543368</td>\n",
       "      <td>-12.113806</td>\n",
       "      <td>79.3</td>\n",
       "    </tr>\n",
       "    <tr>\n",
       "      <th>605</th>\n",
       "      <td>2020-03</td>\n",
       "      <td>Finland</td>\n",
       "      <td>6859.011676</td>\n",
       "      <td>0.922319</td>\n",
       "      <td>-10.596517</td>\n",
       "      <td>80.7</td>\n",
       "    </tr>\n",
       "    <tr>\n",
       "      <th>636</th>\n",
       "      <td>2020-03</td>\n",
       "      <td>Georgia</td>\n",
       "      <td>374.538375</td>\n",
       "      <td>0.000000</td>\n",
       "      <td>-25.459677</td>\n",
       "      <td>57.6</td>\n",
       "    </tr>\n",
       "    <tr>\n",
       "      <th>667</th>\n",
       "      <td>2020-03</td>\n",
       "      <td>Germany</td>\n",
       "      <td>15440.830340</td>\n",
       "      <td>0.701051</td>\n",
       "      <td>-15.426945</td>\n",
       "      <td>82.0</td>\n",
       "    </tr>\n",
       "    <tr>\n",
       "      <th>698</th>\n",
       "      <td>2020-03</td>\n",
       "      <td>Greece</td>\n",
       "      <td>3430.971250</td>\n",
       "      <td>0.355122</td>\n",
       "      <td>-29.296371</td>\n",
       "      <td>40.7</td>\n",
       "    </tr>\n",
       "    <tr>\n",
       "      <th>729</th>\n",
       "      <td>2020-03</td>\n",
       "      <td>Hungary</td>\n",
       "      <td>2465.049508</td>\n",
       "      <td>0.164100</td>\n",
       "      <td>-13.076354</td>\n",
       "      <td>48.6</td>\n",
       "    </tr>\n",
       "    <tr>\n",
       "      <th>760</th>\n",
       "      <td>2020-03</td>\n",
       "      <td>Israel</td>\n",
       "      <td>8381.894933</td>\n",
       "      <td>0.227887</td>\n",
       "      <td>-28.381643</td>\n",
       "      <td>51.1</td>\n",
       "    </tr>\n",
       "    <tr>\n",
       "      <th>791</th>\n",
       "      <td>2020-03</td>\n",
       "      <td>Italy</td>\n",
       "      <td>8127.351459</td>\n",
       "      <td>20.856348</td>\n",
       "      <td>-54.764556</td>\n",
       "      <td>52.3</td>\n",
       "    </tr>\n",
       "    <tr>\n",
       "      <th>822</th>\n",
       "      <td>2020-03</td>\n",
       "      <td>Japan</td>\n",
       "      <td>2689.846429</td>\n",
       "      <td>0.048313</td>\n",
       "      <td>-5.356855</td>\n",
       "      <td>49.5</td>\n",
       "    </tr>\n",
       "    <tr>\n",
       "      <th>853</th>\n",
       "      <td>2020-03</td>\n",
       "      <td>Kazakhstan</td>\n",
       "      <td>82.092526</td>\n",
       "      <td>0.010663</td>\n",
       "      <td>-6.806452</td>\n",
       "      <td>72.2</td>\n",
       "    </tr>\n",
       "    <tr>\n",
       "      <th>884</th>\n",
       "      <td>2020-03</td>\n",
       "      <td>Kyrgyzstan</td>\n",
       "      <td>8.188237</td>\n",
       "      <td>0.000000</td>\n",
       "      <td>-13.198982</td>\n",
       "      <td>57.6</td>\n",
       "    </tr>\n",
       "    <tr>\n",
       "      <th>915</th>\n",
       "      <td>2020-03</td>\n",
       "      <td>Lithuania</td>\n",
       "      <td>3120.378835</td>\n",
       "      <td>0.143119</td>\n",
       "      <td>-13.477005</td>\n",
       "      <td>55.1</td>\n",
       "    </tr>\n",
       "    <tr>\n",
       "      <th>946</th>\n",
       "      <td>2020-03</td>\n",
       "      <td>Malaysia</td>\n",
       "      <td>695.971124</td>\n",
       "      <td>0.148304</td>\n",
       "      <td>-30.206357</td>\n",
       "      <td>57.6</td>\n",
       "    </tr>\n",
       "    <tr>\n",
       "      <th>977</th>\n",
       "      <td>2020-03</td>\n",
       "      <td>Mongolia</td>\n",
       "      <td>21.505101</td>\n",
       "      <td>0.000000</td>\n",
       "      <td>-19.540323</td>\n",
       "      <td>54.8</td>\n",
       "    </tr>\n",
       "    <tr>\n",
       "      <th>1008</th>\n",
       "      <td>2020-03</td>\n",
       "      <td>Netherlands</td>\n",
       "      <td>7775.839234</td>\n",
       "      <td>5.957056</td>\n",
       "      <td>-17.775858</td>\n",
       "      <td>78.5</td>\n",
       "    </tr>\n",
       "    <tr>\n",
       "      <th>1039</th>\n",
       "      <td>2020-03</td>\n",
       "      <td>Norway</td>\n",
       "      <td>1931.861381</td>\n",
       "      <td>0.724978</td>\n",
       "      <td>-19.276755</td>\n",
       "      <td>94.3</td>\n",
       "    </tr>\n",
       "  </tbody>\n",
       "</table>\n",
       "</div>"
      ],
      "text/plain": [
       "     Month-Year      Country  Cumulative pageviews per 100k  \\\n",
       "0       2020-02   Bangladesh                       0.556806   \n",
       "15      2020-02     Bulgaria                     161.407208   \n",
       "30      2020-02      Croatia                     171.629180   \n",
       "45      2020-02      Czechia                    1925.544347   \n",
       "60      2020-02      Denmark                     275.594008   \n",
       "75      2020-02      Finland                     786.502610   \n",
       "90      2020-02      Georgia                      57.162566   \n",
       "105     2020-02      Germany                    1699.497592   \n",
       "120     2020-02       Greece                     175.065669   \n",
       "135     2020-02      Hungary                     293.616026   \n",
       "150     2020-02       Israel                     688.283361   \n",
       "165     2020-02        Italy                    1299.660467   \n",
       "180     2020-02        Japan                     753.072604   \n",
       "195     2020-02   Kazakhstan                      29.335135   \n",
       "210     2020-02   Kyrgyzstan                       1.481785   \n",
       "225     2020-02    Lithuania                     329.244316   \n",
       "240     2020-02     Malaysia                      38.963730   \n",
       "255     2020-02     Mongolia                      11.926942   \n",
       "270     2020-02  Netherlands                     737.167101   \n",
       "285     2020-02       Norway                     362.061354   \n",
       "300     2020-02       Poland                     840.688175   \n",
       "315     2020-02      Romania                     223.528263   \n",
       "330     2020-02       Russia                     880.531242   \n",
       "345     2020-02       Serbia                      39.077414   \n",
       "360     2020-02     Slovakia                     385.174324   \n",
       "375     2020-02     Slovenia                     415.711616   \n",
       "390     2020-02  South Korea                     172.668777   \n",
       "405     2020-02       Sweden                     159.174118   \n",
       "420     2020-02     Thailand                      52.298011   \n",
       "435     2020-02       Turkey                      63.172385   \n",
       "450     2020-03   Bangladesh                      52.223767   \n",
       "481     2020-03     Bulgaria                    1514.447257   \n",
       "512     2020-03      Croatia                    2508.844573   \n",
       "543     2020-03      Czechia                   19659.384150   \n",
       "574     2020-03      Denmark                    1691.256514   \n",
       "605     2020-03      Finland                    6859.011676   \n",
       "636     2020-03      Georgia                     374.538375   \n",
       "667     2020-03      Germany                   15440.830340   \n",
       "698     2020-03       Greece                    3430.971250   \n",
       "729     2020-03      Hungary                    2465.049508   \n",
       "760     2020-03       Israel                    8381.894933   \n",
       "791     2020-03        Italy                    8127.351459   \n",
       "822     2020-03        Japan                    2689.846429   \n",
       "853     2020-03   Kazakhstan                      82.092526   \n",
       "884     2020-03   Kyrgyzstan                       8.188237   \n",
       "915     2020-03    Lithuania                    3120.378835   \n",
       "946     2020-03     Malaysia                     695.971124   \n",
       "977     2020-03     Mongolia                      21.505101   \n",
       "1008    2020-03  Netherlands                    7775.839234   \n",
       "1039    2020-03       Norway                    1931.861381   \n",
       "\n",
       "      Cumulative deaths per 100k  Mobility change from baseline  Trust  \n",
       "0                       0.000000                       5.250000   83.0  \n",
       "15                      0.000000                       5.097669   40.4  \n",
       "30                      0.000000                       8.503883   42.0  \n",
       "45                      0.000000                       6.410000   45.8  \n",
       "60                      0.000000                      -1.578199   79.3  \n",
       "75                      0.000000                       5.078715   80.7  \n",
       "90                      0.000000                       4.208333   57.6  \n",
       "105                     0.000000                       1.636275   82.0  \n",
       "120                     0.000000                       6.431250   40.7  \n",
       "135                     0.000000                       9.620652   48.6  \n",
       "150                     0.000000                       6.939167   51.1  \n",
       "165                     0.048781                       1.794570   52.3  \n",
       "180                     0.003960                      -1.063194   49.5  \n",
       "195                     0.000000                       3.183333   72.2  \n",
       "210                     0.000000                       2.416984   57.6  \n",
       "225                     0.000000                       2.346420   55.1  \n",
       "240                     0.000000                      -1.263725   57.6  \n",
       "255                     0.000000                     -23.101389   54.8  \n",
       "270                     0.000000                      -2.531211   78.5  \n",
       "285                     0.000000                       1.137998   94.3  \n",
       "300                     0.000000                       4.280698   33.6  \n",
       "315                     0.000000                       5.015877   24.3  \n",
       "330                     0.000000                       3.636275   47.0  \n",
       "345                     0.000000                       7.966667   57.0  \n",
       "360                     0.000000                       6.620948   53.5  \n",
       "375                     0.000000                       1.120952   48.1  \n",
       "390                     0.030866                     -11.533333   52.8  \n",
       "405                     0.000000                      -0.028181   64.7  \n",
       "420                     0.000000                      -3.550000   55.6  \n",
       "435                     0.000000                       2.384815   54.9  \n",
       "450                     0.003036                     -12.572581   83.0  \n",
       "481                     0.115373                     -23.540960   40.4  \n",
       "512                     0.148233                     -24.078096   42.0  \n",
       "543                     0.289778                     -22.053226   45.8  \n",
       "574                     1.543368                     -12.113806   79.3  \n",
       "605                     0.922319                     -10.596517   80.7  \n",
       "636                     0.000000                     -25.459677   57.6  \n",
       "667                     0.701051                     -15.426945   82.0  \n",
       "698                     0.355122                     -29.296371   40.7  \n",
       "729                     0.164100                     -13.076354   48.6  \n",
       "760                     0.227887                     -28.381643   51.1  \n",
       "791                    20.856348                     -54.764556   52.3  \n",
       "822                     0.048313                      -5.356855   49.5  \n",
       "853                     0.010663                      -6.806452   72.2  \n",
       "884                     0.000000                     -13.198982   57.6  \n",
       "915                     0.143119                     -13.477005   55.1  \n",
       "946                     0.148304                     -30.206357   57.6  \n",
       "977                     0.000000                     -19.540323   54.8  \n",
       "1008                    5.957056                     -17.775858   78.5  \n",
       "1039                    0.724978                     -19.276755   94.3  "
      ]
     },
     "execution_count": 5,
     "metadata": {},
     "output_type": "execute_result"
    }
   ],
   "source": [
    "def f(x):\n",
    "    d = {}\n",
    "    d['Cumulative pageviews per 100k'] = x['pageviews per 100k'].sum()\n",
    "    d['Cumulative deaths per 100k'] = x['deaths per 100k'].sum()\n",
    "    d[\"Mobility change from baseline\"] = x['moving category'].mean()\n",
    "\n",
    "\n",
    "    return pd.Series(d, index=['Cumulative pageviews per 100k','Cumulative deaths per 100k', \"Mobility change from baseline\"])\n",
    "\n",
    "grouped_df = df_animation.groupby(['Month-Year','Country']).apply(f)\n",
    "grouped_df = grouped_df.reset_index()\n",
    "grouped_df =grouped_df.merge(df_animation[['Country','Month-Year','Trust']], how='left', on=['Month-Year','Country']).drop_duplicates()\n",
    "grouped_df.head(50)"
   ]
  },
  {
   "cell_type": "code",
   "execution_count": 6,
   "metadata": {},
   "outputs": [
    {
     "data": {
      "application/vnd.plotly.v1+json": {
       "config": {
        "plotlyServerURL": "https://plot.ly"
       },
       "data": [
        {
         "hovertemplate": "<b>%{hovertext}</b><br><br>Month-Year=2020-02<br>Mobility change from baseline=%{x}<br>Cumulative deaths per 100k=%{y}<br>Cumulative pageviews per 100k=%{marker.size}<br>Trust=%{marker.color}<extra></extra>",
         "hovertext": [
          "Bangladesh",
          "Bulgaria",
          "Croatia",
          "Czechia",
          "Denmark",
          "Finland",
          "Georgia",
          "Germany",
          "Greece",
          "Hungary",
          "Israel",
          "Italy",
          "Japan",
          "Kazakhstan",
          "Kyrgyzstan",
          "Lithuania",
          "Malaysia",
          "Mongolia",
          "Netherlands",
          "Norway",
          "Poland",
          "Romania",
          "Russia",
          "Serbia",
          "Slovakia",
          "Slovenia",
          "South Korea",
          "Sweden",
          "Thailand",
          "Turkey"
         ],
         "ids": [
          "Bangladesh",
          "Bulgaria",
          "Croatia",
          "Czechia",
          "Denmark",
          "Finland",
          "Georgia",
          "Germany",
          "Greece",
          "Hungary",
          "Israel",
          "Italy",
          "Japan",
          "Kazakhstan",
          "Kyrgyzstan",
          "Lithuania",
          "Malaysia",
          "Mongolia",
          "Netherlands",
          "Norway",
          "Poland",
          "Romania",
          "Russia",
          "Serbia",
          "Slovakia",
          "Slovenia",
          "South Korea",
          "Sweden",
          "Thailand",
          "Turkey"
         ],
         "legendgroup": "",
         "marker": {
          "color": [
           0.83,
           0.404,
           0.42,
           0.458,
           0.793,
           0.807,
           0.576,
           0.82,
           0.407,
           0.486,
           0.511,
           0.523,
           0.495,
           0.722,
           0.576,
           0.551,
           0.576,
           0.548,
           0.785,
           0.943,
           0.336,
           0.243,
           0.47,
           0.57,
           0.535,
           0.481,
           0.528,
           0.647,
           0.556,
           0.549
          ],
          "coloraxis": "coloraxis",
          "size": [
           0.557,
           161.407,
           171.629,
           1925.544,
           275.594,
           786.503,
           57.163,
           1699.498,
           175.066,
           293.616,
           688.283,
           1299.66,
           753.073,
           29.335,
           1.482,
           329.244,
           38.964,
           11.927,
           737.167,
           362.061,
           840.688,
           223.528,
           880.531,
           39.077,
           385.174,
           415.712,
           172.669,
           159.174,
           52.298,
           63.172
          ],
          "sizemode": "area",
          "sizeref": 3.0717787499999996,
          "symbol": "circle"
         },
         "mode": "markers",
         "name": "",
         "orientation": "v",
         "showlegend": false,
         "type": "scatter",
         "x": [
          5.25,
          5.098,
          8.504,
          6.41,
          -1.578,
          5.079,
          4.208,
          1.636,
          6.431,
          9.621,
          6.939,
          1.795,
          -1.063,
          3.183,
          2.417,
          2.346,
          -1.264,
          -23.101,
          -2.531,
          1.138,
          4.281,
          5.016,
          3.636,
          7.967,
          6.621,
          1.121,
          -11.533,
          -0.028,
          -3.55,
          2.385
         ],
         "xaxis": "x",
         "y": [
          0,
          0,
          0,
          0,
          0,
          0,
          0,
          0,
          0,
          0,
          0,
          0.049,
          0.004,
          0,
          0,
          0,
          0,
          0,
          0,
          0,
          0,
          0,
          0,
          0,
          0,
          0,
          0.031,
          0,
          0,
          0
         ],
         "yaxis": "y"
        }
       ],
       "frames": [
        {
         "data": [
          {
           "hovertemplate": "<b>%{hovertext}</b><br><br>Month-Year=2020-02<br>Mobility change from baseline=%{x}<br>Cumulative deaths per 100k=%{y}<br>Cumulative pageviews per 100k=%{marker.size}<br>Trust=%{marker.color}<extra></extra>",
           "hovertext": [
            "Bangladesh",
            "Bulgaria",
            "Croatia",
            "Czechia",
            "Denmark",
            "Finland",
            "Georgia",
            "Germany",
            "Greece",
            "Hungary",
            "Israel",
            "Italy",
            "Japan",
            "Kazakhstan",
            "Kyrgyzstan",
            "Lithuania",
            "Malaysia",
            "Mongolia",
            "Netherlands",
            "Norway",
            "Poland",
            "Romania",
            "Russia",
            "Serbia",
            "Slovakia",
            "Slovenia",
            "South Korea",
            "Sweden",
            "Thailand",
            "Turkey"
           ],
           "ids": [
            "Bangladesh",
            "Bulgaria",
            "Croatia",
            "Czechia",
            "Denmark",
            "Finland",
            "Georgia",
            "Germany",
            "Greece",
            "Hungary",
            "Israel",
            "Italy",
            "Japan",
            "Kazakhstan",
            "Kyrgyzstan",
            "Lithuania",
            "Malaysia",
            "Mongolia",
            "Netherlands",
            "Norway",
            "Poland",
            "Romania",
            "Russia",
            "Serbia",
            "Slovakia",
            "Slovenia",
            "South Korea",
            "Sweden",
            "Thailand",
            "Turkey"
           ],
           "legendgroup": "",
           "marker": {
            "color": [
             0.83,
             0.404,
             0.42,
             0.458,
             0.793,
             0.807,
             0.576,
             0.82,
             0.407,
             0.486,
             0.511,
             0.523,
             0.495,
             0.722,
             0.576,
             0.551,
             0.576,
             0.548,
             0.785,
             0.943,
             0.336,
             0.243,
             0.47,
             0.57,
             0.535,
             0.481,
             0.528,
             0.647,
             0.556,
             0.549
            ],
            "coloraxis": "coloraxis",
            "size": [
             0.557,
             161.407,
             171.629,
             1925.544,
             275.594,
             786.503,
             57.163,
             1699.498,
             175.066,
             293.616,
             688.283,
             1299.66,
             753.073,
             29.335,
             1.482,
             329.244,
             38.964,
             11.927,
             737.167,
             362.061,
             840.688,
             223.528,
             880.531,
             39.077,
             385.174,
             415.712,
             172.669,
             159.174,
             52.298,
             63.172
            ],
            "sizemode": "area",
            "sizeref": 3.0717787499999996,
            "symbol": "circle"
           },
           "mode": "markers",
           "name": "",
           "orientation": "v",
           "showlegend": false,
           "type": "scatter",
           "x": [
            5.25,
            5.098,
            8.504,
            6.41,
            -1.578,
            5.079,
            4.208,
            1.636,
            6.431,
            9.621,
            6.939,
            1.795,
            -1.063,
            3.183,
            2.417,
            2.346,
            -1.264,
            -23.101,
            -2.531,
            1.138,
            4.281,
            5.016,
            3.636,
            7.967,
            6.621,
            1.121,
            -11.533,
            -0.028,
            -3.55,
            2.385
           ],
           "xaxis": "x",
           "y": [
            0,
            0,
            0,
            0,
            0,
            0,
            0,
            0,
            0,
            0,
            0,
            0.049,
            0.004,
            0,
            0,
            0,
            0,
            0,
            0,
            0,
            0,
            0,
            0,
            0,
            0,
            0,
            0.031,
            0,
            0,
            0
           ],
           "yaxis": "y"
          }
         ],
         "name": "2020-02"
        },
        {
         "data": [
          {
           "hovertemplate": "<b>%{hovertext}</b><br><br>Month-Year=2020-03<br>Mobility change from baseline=%{x}<br>Cumulative deaths per 100k=%{y}<br>Cumulative pageviews per 100k=%{marker.size}<br>Trust=%{marker.color}<extra></extra>",
           "hovertext": [
            "Bangladesh",
            "Bulgaria",
            "Croatia",
            "Czechia",
            "Denmark",
            "Finland",
            "Georgia",
            "Germany",
            "Greece",
            "Hungary",
            "Israel",
            "Italy",
            "Japan",
            "Kazakhstan",
            "Kyrgyzstan",
            "Lithuania",
            "Malaysia",
            "Mongolia",
            "Netherlands",
            "Norway",
            "Poland",
            "Romania",
            "Russia",
            "Serbia",
            "Slovakia",
            "Slovenia",
            "South Korea",
            "Sweden",
            "Thailand",
            "Turkey"
           ],
           "ids": [
            "Bangladesh",
            "Bulgaria",
            "Croatia",
            "Czechia",
            "Denmark",
            "Finland",
            "Georgia",
            "Germany",
            "Greece",
            "Hungary",
            "Israel",
            "Italy",
            "Japan",
            "Kazakhstan",
            "Kyrgyzstan",
            "Lithuania",
            "Malaysia",
            "Mongolia",
            "Netherlands",
            "Norway",
            "Poland",
            "Romania",
            "Russia",
            "Serbia",
            "Slovakia",
            "Slovenia",
            "South Korea",
            "Sweden",
            "Thailand",
            "Turkey"
           ],
           "legendgroup": "",
           "marker": {
            "color": [
             0.83,
             0.404,
             0.42,
             0.458,
             0.793,
             0.807,
             0.576,
             0.82,
             0.407,
             0.486,
             0.511,
             0.523,
             0.495,
             0.722,
             0.576,
             0.551,
             0.576,
             0.548,
             0.785,
             0.943,
             0.336,
             0.243,
             0.47,
             0.57,
             0.535,
             0.481,
             0.528,
             0.647,
             0.556,
             0.549
            ],
            "coloraxis": "coloraxis",
            "size": [
             52.224,
             1514.447,
             2508.845,
             19659.384,
             1691.257,
             6859.012,
             374.538,
             15440.83,
             3430.971,
             2465.05,
             8381.895,
             8127.351,
             2689.846,
             82.093,
             8.188,
             3120.379,
             695.971,
             21.505,
             7775.839,
             1931.861,
             6350.641,
             4871.51,
             7778.023,
             707.843,
             3159.671,
             1857.051,
             1157.065,
             1199.611,
             153.883,
             1069.083
            ],
            "sizemode": "area",
            "sizeref": 3.0717787499999996,
            "symbol": "circle"
           },
           "mode": "markers",
           "name": "",
           "orientation": "v",
           "showlegend": false,
           "type": "scatter",
           "x": [
            -12.573,
            -23.541,
            -24.078,
            -22.053,
            -12.114,
            -10.597,
            -25.46,
            -15.427,
            -29.296,
            -13.076,
            -28.382,
            -54.765,
            -5.357,
            -6.806,
            -13.199,
            -13.477,
            -30.206,
            -19.54,
            -17.776,
            -19.277,
            -22.899,
            -23.155,
            -1.808,
            -27.367,
            -30.608,
            -34.441,
            -6.746,
            -7.253,
            -19.79,
            -15.24
           ],
           "xaxis": "x",
           "y": [
            0.003,
            0.115,
            0.148,
            0.29,
            1.543,
            0.922,
            0,
            0.701,
            0.355,
            0.164,
            0.228,
            20.856,
            0.048,
            0.011,
            0,
            0.143,
            0.148,
            0,
            5.957,
            0.725,
            0.087,
            0.426,
            0.012,
            0.283,
            0,
            0.713,
            0.282,
            3.719,
            0.014,
            0.254
           ],
           "yaxis": "y"
          }
         ],
         "name": "2020-03"
        },
        {
         "data": [
          {
           "hovertemplate": "<b>%{hovertext}</b><br><br>Month-Year=2020-04<br>Mobility change from baseline=%{x}<br>Cumulative deaths per 100k=%{y}<br>Cumulative pageviews per 100k=%{marker.size}<br>Trust=%{marker.color}<extra></extra>",
           "hovertext": [
            "Bangladesh",
            "Bulgaria",
            "Croatia",
            "Czechia",
            "Denmark",
            "Finland",
            "Georgia",
            "Germany",
            "Greece",
            "Hungary",
            "Israel",
            "Italy",
            "Japan",
            "Kazakhstan",
            "Kyrgyzstan",
            "Lithuania",
            "Malaysia",
            "Mongolia",
            "Netherlands",
            "Norway",
            "Poland",
            "Romania",
            "Russia",
            "Serbia",
            "Slovakia",
            "Slovenia",
            "South Korea",
            "Sweden",
            "Thailand",
            "Turkey"
           ],
           "ids": [
            "Bangladesh",
            "Bulgaria",
            "Croatia",
            "Czechia",
            "Denmark",
            "Finland",
            "Georgia",
            "Germany",
            "Greece",
            "Hungary",
            "Israel",
            "Italy",
            "Japan",
            "Kazakhstan",
            "Kyrgyzstan",
            "Lithuania",
            "Malaysia",
            "Mongolia",
            "Netherlands",
            "Norway",
            "Poland",
            "Romania",
            "Russia",
            "Serbia",
            "Slovakia",
            "Slovenia",
            "South Korea",
            "Sweden",
            "Thailand",
            "Turkey"
           ],
           "legendgroup": "",
           "marker": {
            "color": [
             0.83,
             0.404,
             0.42,
             0.458,
             0.793,
             0.807,
             0.576,
             0.82,
             0.407,
             0.486,
             0.511,
             0.523,
             0.495,
             0.722,
             0.576,
             0.551,
             0.576,
             0.548,
             0.785,
             0.943,
             0.336,
             0.243,
             0.47,
             0.57,
             0.535,
             0.481,
             0.528,
             0.647,
             0.556,
             0.549
            ],
            "coloraxis": "coloraxis",
            "size": [
             150.432,
             1641.372,
             1497.945,
             5283.927,
             724.302,
             2554.443,
             281.891,
             8407.027,
             2582.95,
             3191.1,
             5950.798,
             4760.956,
             2835.791,
             84.097,
             2.188,
             1606.506,
             469.317,
             19.339,
             4445.673,
             1129.348,
             2777.857,
             2211.24,
             4857.039,
             555.36,
             1151.786,
             960.56,
             684.969,
             1527.917,
             93.312,
             955.8
            ],
            "sizemode": "area",
            "sizeref": 3.0717787499999996,
            "symbol": "circle"
           },
           "mode": "markers",
           "name": "",
           "orientation": "v",
           "showlegend": false,
           "type": "scatter",
           "x": [
            -57.917,
            -40.999,
            -44.948,
            -27.992,
            -6.442,
            -22.323,
            -62.971,
            -24.091,
            -54.484,
            -27.798,
            -59.791,
            -74.295,
            -19.4,
            -46.75,
            -50.742,
            -25.192,
            -68.053,
            -4.804,
            -27.425,
            -14.887,
            -41.856,
            -51.999,
            -46.457,
            -64.975,
            -39.388,
            -51.052,
            2.533,
            -6.076,
            -46.017,
            -54.592
           ],
           "xaxis": "x",
           "y": [
            0.099,
            0.836,
            1.556,
            1.916,
            6.208,
            3.707,
            0.161,
            6.86,
            0.953,
            3.036,
            2.214,
            26.138,
            0.328,
            0.123,
            0.122,
            1.002,
            0.17,
            0,
            21.609,
            3.179,
            1.612,
            3.297,
            0.733,
            2.363,
            0.421,
            3.615,
            0.166,
            23.973,
            0.063,
            3.51
           ],
           "yaxis": "y"
          }
         ],
         "name": "2020-04"
        },
        {
         "data": [
          {
           "hovertemplate": "<b>%{hovertext}</b><br><br>Month-Year=2020-05<br>Mobility change from baseline=%{x}<br>Cumulative deaths per 100k=%{y}<br>Cumulative pageviews per 100k=%{marker.size}<br>Trust=%{marker.color}<extra></extra>",
           "hovertext": [
            "Bangladesh",
            "Bulgaria",
            "Croatia",
            "Czechia",
            "Denmark",
            "Finland",
            "Georgia",
            "Germany",
            "Greece",
            "Hungary",
            "Israel",
            "Italy",
            "Japan",
            "Kazakhstan",
            "Kyrgyzstan",
            "Lithuania",
            "Malaysia",
            "Mongolia",
            "Netherlands",
            "Norway",
            "Poland",
            "Romania",
            "Russia",
            "Serbia",
            "Slovakia",
            "Slovenia",
            "South Korea",
            "Sweden",
            "Thailand",
            "Turkey"
           ],
           "ids": [
            "Bangladesh",
            "Bulgaria",
            "Croatia",
            "Czechia",
            "Denmark",
            "Finland",
            "Georgia",
            "Germany",
            "Greece",
            "Hungary",
            "Israel",
            "Italy",
            "Japan",
            "Kazakhstan",
            "Kyrgyzstan",
            "Lithuania",
            "Malaysia",
            "Mongolia",
            "Netherlands",
            "Norway",
            "Poland",
            "Romania",
            "Russia",
            "Serbia",
            "Slovakia",
            "Slovenia",
            "South Korea",
            "Sweden",
            "Thailand",
            "Turkey"
           ],
           "legendgroup": "",
           "marker": {
            "color": [
             0.83,
             0.404,
             0.42,
             0.458,
             0.793,
             0.807,
             0.576,
             0.82,
             0.407,
             0.486,
             0.511,
             0.523,
             0.495,
             0.722,
             0.576,
             0.551,
             0.576,
             0.548,
             0.785,
             0.943,
             0.336,
             0.243,
             0.47,
             0.57,
             0.535,
             0.481,
             0.528,
             0.647,
             0.556,
             0.549
            ],
            "coloraxis": "coloraxis",
            "size": [
             85.683,
             1052.421,
             590.659,
             1588.468,
             340.57,
             1184.456,
             105.622,
             4505.679,
             983.584,
             1467.701,
             2867.836,
             2323.906,
             1598.984,
             21.721,
             12.736,
             476.37,
             265.767,
             13.178,
             2007.826,
             526.892,
             1340.603,
             719.833,
             1733.831,
             171.138,
             454.328,
             478.734,
             398.621,
             882.508,
             77.258,
             410.09
            ],
            "sizemode": "area",
            "sizeref": 3.0717787499999996,
            "symbol": "circle"
           },
           "mode": "markers",
           "name": "",
           "orientation": "v",
           "showlegend": false,
           "type": "scatter",
           "x": [
            -46.113,
            -13.817,
            -14.437,
            -14.603,
            9.14,
            -7.106,
            -50.181,
            -6.472,
            -10.176,
            -5.586,
            -20.508,
            -38.848,
            -22.527,
            -18.024,
            -26.819,
            1.244,
            -50.378,
            11.952,
            -9.625,
            1.916,
            -13.851,
            -31.3,
            -27.042,
            -32.403,
            -21.327,
            -20.817,
            7.456,
            4.62,
            -34.081,
            -46.12
           ],
           "xaxis": "x",
           "y": [
            0.293,
            1.067,
            0.84,
            0.827,
            2.281,
            0.886,
            0.161,
            2.66,
            0.327,
            2.195,
            0.673,
            9.164,
            0.33,
            0.085,
            0.122,
            0.787,
            0.037,
            0,
            6.668,
            0.483,
            1.108,
            2.851,
            2.513,
            0.754,
            0.092,
            0.809,
            0.044,
            17.472,
            0.004,
            1.62
           ],
           "yaxis": "y"
          }
         ],
         "name": "2020-05"
        },
        {
         "data": [
          {
           "hovertemplate": "<b>%{hovertext}</b><br><br>Month-Year=2020-06<br>Mobility change from baseline=%{x}<br>Cumulative deaths per 100k=%{y}<br>Cumulative pageviews per 100k=%{marker.size}<br>Trust=%{marker.color}<extra></extra>",
           "hovertext": [
            "Bangladesh",
            "Bulgaria",
            "Croatia",
            "Czechia",
            "Denmark",
            "Finland",
            "Germany",
            "Greece",
            "Hungary",
            "Israel",
            "Italy",
            "Japan",
            "Kazakhstan",
            "Kyrgyzstan",
            "Lithuania",
            "Malaysia",
            "Mongolia",
            "Netherlands",
            "Norway",
            "Poland",
            "Romania",
            "Russia",
            "Slovakia",
            "Slovenia",
            "South Korea",
            "Sweden",
            "Thailand",
            "Turkey"
           ],
           "ids": [
            "Bangladesh",
            "Bulgaria",
            "Croatia",
            "Czechia",
            "Denmark",
            "Finland",
            "Germany",
            "Greece",
            "Hungary",
            "Israel",
            "Italy",
            "Japan",
            "Kazakhstan",
            "Kyrgyzstan",
            "Lithuania",
            "Malaysia",
            "Mongolia",
            "Netherlands",
            "Norway",
            "Poland",
            "Romania",
            "Russia",
            "Slovakia",
            "Slovenia",
            "South Korea",
            "Sweden",
            "Thailand",
            "Turkey"
           ],
           "legendgroup": "",
           "marker": {
            "color": [
             0.83,
             0.404,
             0.42,
             0.458,
             0.793,
             0.807,
             0.82,
             0.407,
             0.486,
             0.511,
             0.523,
             0.495,
             0.722,
             0.576,
             0.551,
             0.576,
             0.548,
             0.785,
             0.943,
             0.336,
             0.243,
             0.47,
             0.535,
             0.481,
             0.528,
             0.647,
             0.556,
             0.549
            ],
            "coloraxis": "coloraxis",
            "size": [
             60.949,
             624.386,
             355.71,
             868.305,
             173.114,
             577.914,
             2600.071,
             522.468,
             855.474,
             1772.862,
             1086.592,
             828.335,
             12.7,
             8.48,
             202.763,
             240.512,
             5.613,
             1148.714,
             241.604,
             766.715,
             114.22,
             770.433,
             282.039,
             330.857,
             157.666,
             528.259,
             55.052,
             225.151
            ],
            "sizemode": "area",
            "sizeref": 3.0717787499999996,
            "symbol": "circle"
           },
           "mode": "markers",
           "name": "",
           "orientation": "v",
           "showlegend": false,
           "type": "scatter",
           "x": [
            -33.008,
            2.888,
            17.835,
            6.333,
            32.856,
            24.313,
            12.432,
            17.233,
            14.559,
            -6.167,
            -3.592,
            -10.611,
            -0.967,
            -5.824,
            27.93,
            -26.037,
            19.543,
            5.048,
            24.031,
            10.969,
            -9.851,
            -3.06,
            -0.203,
            -5.129,
            6.517,
            25.121,
            -22.217,
            -3.09
           ],
           "xaxis": "x",
           "y": [
            0.727,
            1.298,
            0.099,
            0.332,
            0.532,
            0.072,
            0.578,
            0.159,
            0.605,
            0.434,
            2.37,
            0.06,
            0.784,
            0.684,
            0.25,
            0.019,
            0,
            0.9,
            0.26,
            1.053,
            1.999,
            3.202,
            0,
            0.143,
            0.021,
            9.06,
            0.001,
            0.701
           ],
           "yaxis": "y"
          }
         ],
         "name": "2020-06"
        },
        {
         "data": [
          {
           "hovertemplate": "<b>%{hovertext}</b><br><br>Month-Year=2020-07<br>Mobility change from baseline=%{x}<br>Cumulative deaths per 100k=%{y}<br>Cumulative pageviews per 100k=%{marker.size}<br>Trust=%{marker.color}<extra></extra>",
           "hovertext": [
            "Bangladesh",
            "Bulgaria",
            "Croatia",
            "Czechia",
            "Denmark",
            "Finland",
            "Georgia",
            "Germany",
            "Greece",
            "Hungary",
            "Israel",
            "Italy",
            "Japan",
            "Kazakhstan",
            "Kyrgyzstan",
            "Lithuania",
            "Malaysia",
            "Mongolia",
            "Netherlands",
            "Norway",
            "Poland",
            "Romania",
            "Russia",
            "Serbia",
            "Slovakia",
            "Slovenia",
            "South Korea",
            "Sweden",
            "Thailand",
            "Turkey"
           ],
           "ids": [
            "Bangladesh",
            "Bulgaria",
            "Croatia",
            "Czechia",
            "Denmark",
            "Finland",
            "Georgia",
            "Germany",
            "Greece",
            "Hungary",
            "Israel",
            "Italy",
            "Japan",
            "Kazakhstan",
            "Kyrgyzstan",
            "Lithuania",
            "Malaysia",
            "Mongolia",
            "Netherlands",
            "Norway",
            "Poland",
            "Romania",
            "Russia",
            "Serbia",
            "Slovakia",
            "Slovenia",
            "South Korea",
            "Sweden",
            "Thailand",
            "Turkey"
           ],
           "legendgroup": "",
           "marker": {
            "color": [
             0.83,
             0.404,
             0.42,
             0.458,
             0.793,
             0.807,
             0.576,
             0.82,
             0.407,
             0.486,
             0.511,
             0.523,
             0.495,
             0.722,
             0.576,
             0.551,
             0.576,
             0.548,
             0.785,
             0.943,
             0.336,
             0.243,
             0.47,
             0.57,
             0.535,
             0.481,
             0.528,
             0.647,
             0.556,
             0.549
            ],
            "coloraxis": "coloraxis",
            "size": [
             32.125,
             433.991,
             336.86,
             1035.665,
             127.294,
             543.752,
             71.99,
             2204.705,
             387.522,
             799.834,
             1765.635,
             759.533,
             723.678,
             11.325,
             7.781,
             169.631,
             323.163,
             5.521,
             1064.799,
             176.504,
             576.033,
             100.039,
             540.493,
             216.578,
             167.014,
             337.468,
             45.489,
             416.547,
             76.898,
             162.782
            ],
            "sizemode": "area",
            "sizeref": 3.0717787499999996,
            "symbol": "circle"
           },
           "mode": "markers",
           "name": "",
           "orientation": "v",
           "showlegend": false,
           "type": "scatter",
           "x": [
            -22.129,
            11.051,
            53.172,
            34.455,
            45.576,
            31.535,
            -8.241,
            24.069,
            56.374,
            26.189,
            -10.426,
            21.437,
            -10.457,
            -12.452,
            -18.806,
            38.059,
            -13.904,
            17.286,
            14.115,
            21.478,
            26.401,
            -0.887,
            7.771,
            -10.754,
            21.94,
            -2.387,
            5.254,
            23.118,
            -14.581,
            9.285
           ],
           "xaxis": "x",
           "y": [
            0.768,
            2.207,
            0.939,
            0.374,
            0.171,
            0.054,
            0.054,
            0.202,
            0.131,
            0.113,
            2.572,
            0.629,
            0.031,
            3.226,
            20.016,
            0.072,
            0.012,
            0,
            0.407,
            0.093,
            0.668,
            3.593,
            3.216,
            4.145,
            0.018,
            0.381,
            0.037,
            3.96,
            0,
            0.664
           ],
           "yaxis": "y"
          }
         ],
         "name": "2020-07"
        }
       ],
       "layout": {
        "annotations": [
         {
          "showarrow": false,
          "text": "The x-axis shows the mean mobility change from baseline per month.",
          "x": 0,
          "xref": "paper",
          "y": 1.28,
          "yref": "paper"
         },
         {
          "showarrow": false,
          "text": "The y-axis shows the cumulative deaths per 100k per month.",
          "x": 0,
          "xref": "paper",
          "y": 1.22,
          "yref": "paper"
         },
         {
          "showarrow": false,
          "text": "The size of the bubble shows the cumulative pageviews per 100k per month ",
          "x": 0,
          "xref": "paper",
          "y": 1.16,
          "yref": "paper"
         },
         {
          "showarrow": false,
          "text": "The colour of the bubble corresponds to how much people trust their government.",
          "x": 0,
          "xref": "paper",
          "y": 1.1,
          "yref": "paper"
         }
        ],
        "coloraxis": {
         "colorbar": {
          "title": {
           "text": "Trust"
          }
         },
         "colorscale": [
          [
           0,
           "#0d0887"
          ],
          [
           0.1111111111111111,
           "#46039f"
          ],
          [
           0.2222222222222222,
           "#7201a8"
          ],
          [
           0.3333333333333333,
           "#9c179e"
          ],
          [
           0.4444444444444444,
           "#bd3786"
          ],
          [
           0.5555555555555556,
           "#d8576b"
          ],
          [
           0.6666666666666666,
           "#ed7953"
          ],
          [
           0.7777777777777778,
           "#fb9f3a"
          ],
          [
           0.8888888888888888,
           "#fdca26"
          ],
          [
           1,
           "#f0f921"
          ]
         ]
        },
        "height": 500,
        "legend": {
         "itemsizing": "constant",
         "tracegroupgap": 0
        },
        "margin": {
         "b": 10,
         "l": 40,
         "r": 10,
         "t": 125
        },
        "sliders": [
         {
          "active": 0,
          "currentvalue": {
           "prefix": "Month-Year="
          },
          "len": 0.9,
          "pad": {
           "b": 10,
           "t": 60
          },
          "steps": [
           {
            "args": [
             [
              "2020-02"
             ],
             {
              "frame": {
               "duration": 0,
               "redraw": false
              },
              "fromcurrent": true,
              "mode": "immediate",
              "transition": {
               "duration": 0,
               "easing": "linear"
              }
             }
            ],
            "label": "2020-02",
            "method": "animate"
           },
           {
            "args": [
             [
              "2020-03"
             ],
             {
              "frame": {
               "duration": 0,
               "redraw": false
              },
              "fromcurrent": true,
              "mode": "immediate",
              "transition": {
               "duration": 0,
               "easing": "linear"
              }
             }
            ],
            "label": "2020-03",
            "method": "animate"
           },
           {
            "args": [
             [
              "2020-04"
             ],
             {
              "frame": {
               "duration": 0,
               "redraw": false
              },
              "fromcurrent": true,
              "mode": "immediate",
              "transition": {
               "duration": 0,
               "easing": "linear"
              }
             }
            ],
            "label": "2020-04",
            "method": "animate"
           },
           {
            "args": [
             [
              "2020-05"
             ],
             {
              "frame": {
               "duration": 0,
               "redraw": false
              },
              "fromcurrent": true,
              "mode": "immediate",
              "transition": {
               "duration": 0,
               "easing": "linear"
              }
             }
            ],
            "label": "2020-05",
            "method": "animate"
           },
           {
            "args": [
             [
              "2020-06"
             ],
             {
              "frame": {
               "duration": 0,
               "redraw": false
              },
              "fromcurrent": true,
              "mode": "immediate",
              "transition": {
               "duration": 0,
               "easing": "linear"
              }
             }
            ],
            "label": "2020-06",
            "method": "animate"
           },
           {
            "args": [
             [
              "2020-07"
             ],
             {
              "frame": {
               "duration": 0,
               "redraw": false
              },
              "fromcurrent": true,
              "mode": "immediate",
              "transition": {
               "duration": 0,
               "easing": "linear"
              }
             }
            ],
            "label": "2020-07",
            "method": "animate"
           }
          ],
          "x": 0.1,
          "xanchor": "left",
          "y": 0,
          "yanchor": "top"
         }
        ],
        "template": {
         "data": {
          "bar": [
           {
            "error_x": {
             "color": "#f2f5fa"
            },
            "error_y": {
             "color": "#f2f5fa"
            },
            "marker": {
             "line": {
              "color": "rgb(17,17,17)",
              "width": 0.5
             },
             "pattern": {
              "fillmode": "overlay",
              "size": 10,
              "solidity": 0.2
             }
            },
            "type": "bar"
           }
          ],
          "barpolar": [
           {
            "marker": {
             "line": {
              "color": "rgb(17,17,17)",
              "width": 0.5
             },
             "pattern": {
              "fillmode": "overlay",
              "size": 10,
              "solidity": 0.2
             }
            },
            "type": "barpolar"
           }
          ],
          "carpet": [
           {
            "aaxis": {
             "endlinecolor": "#A2B1C6",
             "gridcolor": "#506784",
             "linecolor": "#506784",
             "minorgridcolor": "#506784",
             "startlinecolor": "#A2B1C6"
            },
            "baxis": {
             "endlinecolor": "#A2B1C6",
             "gridcolor": "#506784",
             "linecolor": "#506784",
             "minorgridcolor": "#506784",
             "startlinecolor": "#A2B1C6"
            },
            "type": "carpet"
           }
          ],
          "choropleth": [
           {
            "colorbar": {
             "outlinewidth": 0,
             "ticks": ""
            },
            "type": "choropleth"
           }
          ],
          "contour": [
           {
            "colorbar": {
             "outlinewidth": 0,
             "ticks": ""
            },
            "colorscale": [
             [
              0,
              "#0d0887"
             ],
             [
              0.1111111111111111,
              "#46039f"
             ],
             [
              0.2222222222222222,
              "#7201a8"
             ],
             [
              0.3333333333333333,
              "#9c179e"
             ],
             [
              0.4444444444444444,
              "#bd3786"
             ],
             [
              0.5555555555555556,
              "#d8576b"
             ],
             [
              0.6666666666666666,
              "#ed7953"
             ],
             [
              0.7777777777777778,
              "#fb9f3a"
             ],
             [
              0.8888888888888888,
              "#fdca26"
             ],
             [
              1,
              "#f0f921"
             ]
            ],
            "type": "contour"
           }
          ],
          "contourcarpet": [
           {
            "colorbar": {
             "outlinewidth": 0,
             "ticks": ""
            },
            "type": "contourcarpet"
           }
          ],
          "heatmap": [
           {
            "colorbar": {
             "outlinewidth": 0,
             "ticks": ""
            },
            "colorscale": [
             [
              0,
              "#0d0887"
             ],
             [
              0.1111111111111111,
              "#46039f"
             ],
             [
              0.2222222222222222,
              "#7201a8"
             ],
             [
              0.3333333333333333,
              "#9c179e"
             ],
             [
              0.4444444444444444,
              "#bd3786"
             ],
             [
              0.5555555555555556,
              "#d8576b"
             ],
             [
              0.6666666666666666,
              "#ed7953"
             ],
             [
              0.7777777777777778,
              "#fb9f3a"
             ],
             [
              0.8888888888888888,
              "#fdca26"
             ],
             [
              1,
              "#f0f921"
             ]
            ],
            "type": "heatmap"
           }
          ],
          "heatmapgl": [
           {
            "colorbar": {
             "outlinewidth": 0,
             "ticks": ""
            },
            "colorscale": [
             [
              0,
              "#0d0887"
             ],
             [
              0.1111111111111111,
              "#46039f"
             ],
             [
              0.2222222222222222,
              "#7201a8"
             ],
             [
              0.3333333333333333,
              "#9c179e"
             ],
             [
              0.4444444444444444,
              "#bd3786"
             ],
             [
              0.5555555555555556,
              "#d8576b"
             ],
             [
              0.6666666666666666,
              "#ed7953"
             ],
             [
              0.7777777777777778,
              "#fb9f3a"
             ],
             [
              0.8888888888888888,
              "#fdca26"
             ],
             [
              1,
              "#f0f921"
             ]
            ],
            "type": "heatmapgl"
           }
          ],
          "histogram": [
           {
            "marker": {
             "pattern": {
              "fillmode": "overlay",
              "size": 10,
              "solidity": 0.2
             }
            },
            "type": "histogram"
           }
          ],
          "histogram2d": [
           {
            "colorbar": {
             "outlinewidth": 0,
             "ticks": ""
            },
            "colorscale": [
             [
              0,
              "#0d0887"
             ],
             [
              0.1111111111111111,
              "#46039f"
             ],
             [
              0.2222222222222222,
              "#7201a8"
             ],
             [
              0.3333333333333333,
              "#9c179e"
             ],
             [
              0.4444444444444444,
              "#bd3786"
             ],
             [
              0.5555555555555556,
              "#d8576b"
             ],
             [
              0.6666666666666666,
              "#ed7953"
             ],
             [
              0.7777777777777778,
              "#fb9f3a"
             ],
             [
              0.8888888888888888,
              "#fdca26"
             ],
             [
              1,
              "#f0f921"
             ]
            ],
            "type": "histogram2d"
           }
          ],
          "histogram2dcontour": [
           {
            "colorbar": {
             "outlinewidth": 0,
             "ticks": ""
            },
            "colorscale": [
             [
              0,
              "#0d0887"
             ],
             [
              0.1111111111111111,
              "#46039f"
             ],
             [
              0.2222222222222222,
              "#7201a8"
             ],
             [
              0.3333333333333333,
              "#9c179e"
             ],
             [
              0.4444444444444444,
              "#bd3786"
             ],
             [
              0.5555555555555556,
              "#d8576b"
             ],
             [
              0.6666666666666666,
              "#ed7953"
             ],
             [
              0.7777777777777778,
              "#fb9f3a"
             ],
             [
              0.8888888888888888,
              "#fdca26"
             ],
             [
              1,
              "#f0f921"
             ]
            ],
            "type": "histogram2dcontour"
           }
          ],
          "mesh3d": [
           {
            "colorbar": {
             "outlinewidth": 0,
             "ticks": ""
            },
            "type": "mesh3d"
           }
          ],
          "parcoords": [
           {
            "line": {
             "colorbar": {
              "outlinewidth": 0,
              "ticks": ""
             }
            },
            "type": "parcoords"
           }
          ],
          "pie": [
           {
            "automargin": true,
            "type": "pie"
           }
          ],
          "scatter": [
           {
            "marker": {
             "line": {
              "color": "#283442"
             }
            },
            "type": "scatter"
           }
          ],
          "scatter3d": [
           {
            "line": {
             "colorbar": {
              "outlinewidth": 0,
              "ticks": ""
             }
            },
            "marker": {
             "colorbar": {
              "outlinewidth": 0,
              "ticks": ""
             }
            },
            "type": "scatter3d"
           }
          ],
          "scattercarpet": [
           {
            "marker": {
             "colorbar": {
              "outlinewidth": 0,
              "ticks": ""
             }
            },
            "type": "scattercarpet"
           }
          ],
          "scattergeo": [
           {
            "marker": {
             "colorbar": {
              "outlinewidth": 0,
              "ticks": ""
             }
            },
            "type": "scattergeo"
           }
          ],
          "scattergl": [
           {
            "marker": {
             "line": {
              "color": "#283442"
             }
            },
            "type": "scattergl"
           }
          ],
          "scattermapbox": [
           {
            "marker": {
             "colorbar": {
              "outlinewidth": 0,
              "ticks": ""
             }
            },
            "type": "scattermapbox"
           }
          ],
          "scatterpolar": [
           {
            "marker": {
             "colorbar": {
              "outlinewidth": 0,
              "ticks": ""
             }
            },
            "type": "scatterpolar"
           }
          ],
          "scatterpolargl": [
           {
            "marker": {
             "colorbar": {
              "outlinewidth": 0,
              "ticks": ""
             }
            },
            "type": "scatterpolargl"
           }
          ],
          "scatterternary": [
           {
            "marker": {
             "colorbar": {
              "outlinewidth": 0,
              "ticks": ""
             }
            },
            "type": "scatterternary"
           }
          ],
          "surface": [
           {
            "colorbar": {
             "outlinewidth": 0,
             "ticks": ""
            },
            "colorscale": [
             [
              0,
              "#0d0887"
             ],
             [
              0.1111111111111111,
              "#46039f"
             ],
             [
              0.2222222222222222,
              "#7201a8"
             ],
             [
              0.3333333333333333,
              "#9c179e"
             ],
             [
              0.4444444444444444,
              "#bd3786"
             ],
             [
              0.5555555555555556,
              "#d8576b"
             ],
             [
              0.6666666666666666,
              "#ed7953"
             ],
             [
              0.7777777777777778,
              "#fb9f3a"
             ],
             [
              0.8888888888888888,
              "#fdca26"
             ],
             [
              1,
              "#f0f921"
             ]
            ],
            "type": "surface"
           }
          ],
          "table": [
           {
            "cells": {
             "fill": {
              "color": "#506784"
             },
             "line": {
              "color": "rgb(17,17,17)"
             }
            },
            "header": {
             "fill": {
              "color": "#2a3f5f"
             },
             "line": {
              "color": "rgb(17,17,17)"
             }
            },
            "type": "table"
           }
          ]
         },
         "layout": {
          "annotationdefaults": {
           "arrowcolor": "#f2f5fa",
           "arrowhead": 0,
           "arrowwidth": 1
          },
          "autotypenumbers": "strict",
          "coloraxis": {
           "colorbar": {
            "outlinewidth": 0,
            "ticks": ""
           }
          },
          "colorscale": {
           "diverging": [
            [
             0,
             "#8e0152"
            ],
            [
             0.1,
             "#c51b7d"
            ],
            [
             0.2,
             "#de77ae"
            ],
            [
             0.3,
             "#f1b6da"
            ],
            [
             0.4,
             "#fde0ef"
            ],
            [
             0.5,
             "#f7f7f7"
            ],
            [
             0.6,
             "#e6f5d0"
            ],
            [
             0.7,
             "#b8e186"
            ],
            [
             0.8,
             "#7fbc41"
            ],
            [
             0.9,
             "#4d9221"
            ],
            [
             1,
             "#276419"
            ]
           ],
           "sequential": [
            [
             0,
             "#0d0887"
            ],
            [
             0.1111111111111111,
             "#46039f"
            ],
            [
             0.2222222222222222,
             "#7201a8"
            ],
            [
             0.3333333333333333,
             "#9c179e"
            ],
            [
             0.4444444444444444,
             "#bd3786"
            ],
            [
             0.5555555555555556,
             "#d8576b"
            ],
            [
             0.6666666666666666,
             "#ed7953"
            ],
            [
             0.7777777777777778,
             "#fb9f3a"
            ],
            [
             0.8888888888888888,
             "#fdca26"
            ],
            [
             1,
             "#f0f921"
            ]
           ],
           "sequentialminus": [
            [
             0,
             "#0d0887"
            ],
            [
             0.1111111111111111,
             "#46039f"
            ],
            [
             0.2222222222222222,
             "#7201a8"
            ],
            [
             0.3333333333333333,
             "#9c179e"
            ],
            [
             0.4444444444444444,
             "#bd3786"
            ],
            [
             0.5555555555555556,
             "#d8576b"
            ],
            [
             0.6666666666666666,
             "#ed7953"
            ],
            [
             0.7777777777777778,
             "#fb9f3a"
            ],
            [
             0.8888888888888888,
             "#fdca26"
            ],
            [
             1,
             "#f0f921"
            ]
           ]
          },
          "colorway": [
           "#636efa",
           "#EF553B",
           "#00cc96",
           "#ab63fa",
           "#FFA15A",
           "#19d3f3",
           "#FF6692",
           "#B6E880",
           "#FF97FF",
           "#FECB52"
          ],
          "font": {
           "color": "#f2f5fa"
          },
          "geo": {
           "bgcolor": "rgb(17,17,17)",
           "lakecolor": "rgb(17,17,17)",
           "landcolor": "rgb(17,17,17)",
           "showlakes": true,
           "showland": true,
           "subunitcolor": "#506784"
          },
          "hoverlabel": {
           "align": "left"
          },
          "hovermode": "closest",
          "mapbox": {
           "style": "dark"
          },
          "paper_bgcolor": "rgb(17,17,17)",
          "plot_bgcolor": "rgb(17,17,17)",
          "polar": {
           "angularaxis": {
            "gridcolor": "#506784",
            "linecolor": "#506784",
            "ticks": ""
           },
           "bgcolor": "rgb(17,17,17)",
           "radialaxis": {
            "gridcolor": "#506784",
            "linecolor": "#506784",
            "ticks": ""
           }
          },
          "scene": {
           "xaxis": {
            "backgroundcolor": "rgb(17,17,17)",
            "gridcolor": "#506784",
            "gridwidth": 2,
            "linecolor": "#506784",
            "showbackground": true,
            "ticks": "",
            "zerolinecolor": "#C8D4E3"
           },
           "yaxis": {
            "backgroundcolor": "rgb(17,17,17)",
            "gridcolor": "#506784",
            "gridwidth": 2,
            "linecolor": "#506784",
            "showbackground": true,
            "ticks": "",
            "zerolinecolor": "#C8D4E3"
           },
           "zaxis": {
            "backgroundcolor": "rgb(17,17,17)",
            "gridcolor": "#506784",
            "gridwidth": 2,
            "linecolor": "#506784",
            "showbackground": true,
            "ticks": "",
            "zerolinecolor": "#C8D4E3"
           }
          },
          "shapedefaults": {
           "line": {
            "color": "#f2f5fa"
           }
          },
          "sliderdefaults": {
           "bgcolor": "#C8D4E3",
           "bordercolor": "rgb(17,17,17)",
           "borderwidth": 1,
           "tickwidth": 0
          },
          "ternary": {
           "aaxis": {
            "gridcolor": "#506784",
            "linecolor": "#506784",
            "ticks": ""
           },
           "baxis": {
            "gridcolor": "#506784",
            "linecolor": "#506784",
            "ticks": ""
           },
           "bgcolor": "rgb(17,17,17)",
           "caxis": {
            "gridcolor": "#506784",
            "linecolor": "#506784",
            "ticks": ""
           }
          },
          "title": {
           "x": 0.05
          },
          "updatemenudefaults": {
           "bgcolor": "#506784",
           "borderwidth": 0
          },
          "xaxis": {
           "automargin": true,
           "gridcolor": "#283442",
           "linecolor": "#506784",
           "ticks": "",
           "title": {
            "standoff": 15
           },
           "zerolinecolor": "#283442",
           "zerolinewidth": 2
          },
          "yaxis": {
           "automargin": true,
           "gridcolor": "#283442",
           "linecolor": "#506784",
           "ticks": "",
           "title": {
            "standoff": 15
           },
           "zerolinecolor": "#283442",
           "zerolinewidth": 2
          }
         }
        },
        "title": {
         "text": "Cumulative deaths per 100k vs. Mobility change from baseline, 2020"
        },
        "updatemenus": [
         {
          "buttons": [
           {
            "args": [
             null,
             {
              "frame": {
               "duration": 2000,
               "redraw": false
              },
              "fromcurrent": true,
              "mode": "immediate",
              "transition": {
               "duration": 500,
               "easing": "linear"
              }
             }
            ],
            "label": "&#9654;",
            "method": "animate"
           },
           {
            "args": [
             [
              null
             ],
             {
              "frame": {
               "duration": 0,
               "redraw": false
              },
              "fromcurrent": true,
              "mode": "immediate",
              "transition": {
               "duration": 0,
               "easing": "linear"
              }
             }
            ],
            "label": "&#9724;",
            "method": "animate"
           }
          ],
          "direction": "left",
          "pad": {
           "r": 10,
           "t": 70
          },
          "showactive": false,
          "type": "buttons",
          "x": 0.1,
          "xanchor": "right",
          "y": 0,
          "yanchor": "top"
         }
        ],
        "width": 900,
        "xaxis": {
         "anchor": "y",
         "domain": [
          0,
          1
         ],
         "range": [
          -80,
          60
         ],
         "title": {
          "text": "Mobility change from baseline"
         }
        },
        "yaxis": {
         "anchor": "x",
         "domain": [
          0,
          1
         ],
         "range": [
          -20,
          40
         ],
         "title": {
          "text": "Cumulative deaths per 100k"
         }
        }
       }
      }
     },
     "metadata": {},
     "output_type": "display_data"
    }
   ],
   "source": [
    "# import plotly.io as pio\n",
    "# pio.templates\n",
    "# Create animation\n",
    "\n",
    "def format_title(title, subtitle=None, subtitle_font_size=12):\n",
    "    title = f'<b>{title}</b>'\n",
    "    if not subtitle:\n",
    "        return title\n",
    "    subtitle = f'<span style=\"font-size: {subtitle_font_size}px; line-height: 20%;\">{subtitle}</span>'\n",
    "    return f'{title}<br>{subtitle}'\n",
    "\n",
    "grouped_df[\"Trust\"] = grouped_df[\"Trust\"]/100\n",
    "df = grouped_df.round(decimals=3)\n",
    "\n",
    "\n",
    "\n",
    "fig = px.scatter(df,x=\"Mobility change from baseline\", y=\"Cumulative deaths per 100k\" , animation_frame=\"Month-Year\", animation_group=\"Country\",\n",
    "           size=\"Cumulative pageviews per 100k\" ,color=\"Trust\", hover_name=\"Country\", range_x=[-80,60],range_y=[-20,40], size_max=80, template='plotly_dark' )\n",
    "      \n",
    "fig.update_layout(height=500, width= 900,title_text=\"Cumulative deaths per 100k vs. Mobility change from baseline, 2020\")\n",
    "fig.update_layout(margin=dict(l=40, r=10, t=125, b=10))  \n",
    "fig.add_annotation(xref='paper',yref='paper',x=0, y=1.28,showarrow=False,text = \"The x-axis shows the mean mobility change from baseline per month.\")\n",
    "fig.add_annotation(xref='paper',yref='paper',x=0, y=1.22,showarrow=False,text = \"The y-axis shows the cumulative deaths per 100k per month.\")\n",
    "fig.add_annotation(xref='paper',yref='paper',x=0, y=1.16,showarrow=False,text = \"The size of the bubble shows the cumulative pageviews per 100k per month \")\n",
    "fig.add_annotation(xref='paper',yref='paper',x=0, y=1.10,showarrow=False,text = \"The colour of the bubble corresponds to how much people trust their government.\")\n",
    "fig.layout.updatemenus[0].buttons[0].args[1][\"frame\"][\"duration\"] = 2000\n",
    "fig.show()\n",
    "\n",
    "fig.write_html('/Users/charlottsertic/Documents/GitHub/ada-2022-project-thedatadiggers22/data_2/Images/bubble_plot.html')\n"
   ]
  },
  {
   "cell_type": "code",
   "execution_count": 7,
   "metadata": {},
   "outputs": [],
   "source": [
    "# Calculate the mean of the mobilitiy baseline for every country \n",
    "\n"
   ]
  },
  {
   "cell_type": "markdown",
   "metadata": {},
   "source": [
    "## TRUSTING GOVERNMENT AND MOBILITY"
   ]
  },
  {
   "cell_type": "code",
   "execution_count": 8,
   "metadata": {},
   "outputs": [
    {
     "data": {
      "text/html": [
       "<div>\n",
       "<style scoped>\n",
       "    .dataframe tbody tr th:only-of-type {\n",
       "        vertical-align: middle;\n",
       "    }\n",
       "\n",
       "    .dataframe tbody tr th {\n",
       "        vertical-align: top;\n",
       "    }\n",
       "\n",
       "    .dataframe thead th {\n",
       "        text-align: right;\n",
       "    }\n",
       "</style>\n",
       "<table border=\"1\" class=\"dataframe\">\n",
       "  <thead>\n",
       "    <tr style=\"text-align: right;\">\n",
       "      <th></th>\n",
       "      <th>Country</th>\n",
       "      <th>Min mobility change from baseline</th>\n",
       "      <th>Trust the national government in this country</th>\n",
       "    </tr>\n",
       "  </thead>\n",
       "  <tbody>\n",
       "    <tr>\n",
       "      <th>0</th>\n",
       "      <td>Bulgaria</td>\n",
       "      <td>-62.327553</td>\n",
       "      <td>40.4</td>\n",
       "    </tr>\n",
       "    <tr>\n",
       "      <th>1</th>\n",
       "      <td>Bangladesh</td>\n",
       "      <td>-61.750000</td>\n",
       "      <td>83.0</td>\n",
       "    </tr>\n",
       "    <tr>\n",
       "      <th>2</th>\n",
       "      <td>Czechia</td>\n",
       "      <td>-65.633333</td>\n",
       "      <td>45.8</td>\n",
       "    </tr>\n",
       "    <tr>\n",
       "      <th>3</th>\n",
       "      <td>Denmark</td>\n",
       "      <td>-35.839475</td>\n",
       "      <td>79.3</td>\n",
       "    </tr>\n",
       "    <tr>\n",
       "      <th>4</th>\n",
       "      <td>Germany</td>\n",
       "      <td>-56.426471</td>\n",
       "      <td>82.0</td>\n",
       "    </tr>\n",
       "  </tbody>\n",
       "</table>\n",
       "</div>"
      ],
      "text/plain": [
       "      Country  Min mobility change from baseline  \\\n",
       "0    Bulgaria                         -62.327553   \n",
       "1  Bangladesh                         -61.750000   \n",
       "2     Czechia                         -65.633333   \n",
       "3     Denmark                         -35.839475   \n",
       "4     Germany                         -56.426471   \n",
       "\n",
       "   Trust the national government in this country  \n",
       "0                                           40.4  \n",
       "1                                           83.0  \n",
       "2                                           45.8  \n",
       "3                                           79.3  \n",
       "4                                           82.0  "
      ]
     },
     "execution_count": 8,
     "metadata": {},
     "output_type": "execute_result"
    }
   ],
   "source": [
    "\n",
    "mobility_trust = mobility['moving category'].reset_index()\n",
    "mobility_trust['country_region'] =mobility_trust['country_region'].map(get_country_dict('trust gov mobility'))\n",
    "mobility_trust = mobility_trust.groupby('country_region')['moving category'].min().to_frame()\n",
    "mobility_trust = mobility_trust.reset_index()\n",
    "mobility_trust['Trust the national government in this country'] = mobility_trust['country_region'].map(trust_dict['Trust the national government in this country'])\n",
    "mobility_trust['country_region'] = mobility_trust['country_region'].map(inv_map)\n",
    "mobility_trust = mobility_trust.rename(columns={\"moving category\": \"Min mobility change from baseline\",\"country_region\": \"Country\"})\n",
    "mobility_trust.head()\n",
    "\n"
   ]
  },
  {
   "cell_type": "code",
   "execution_count": 9,
   "metadata": {},
   "outputs": [
    {
     "data": {
      "application/vnd.plotly.v1+json": {
       "config": {
        "plotlyServerURL": "https://plot.ly"
       },
       "data": [
        {
         "hovertemplate": "<b>%{hovertext}</b><br><br>Trust the national government in this country=%{x}<br>Min mobility change from baseline=%{y}<extra></extra>",
         "hovertext": [
          "Bulgaria",
          "Bangladesh",
          "Czechia",
          "Denmark",
          "Germany",
          "Greece",
          "Finland",
          "Israel",
          "Croatia",
          "Hungary",
          "Italy",
          "Japan",
          "Georgia",
          "Kazakhstan",
          "South Korea",
          "Kyrgyzstan",
          "Lithuania",
          "Mongolia",
          "Malaysia",
          "Netherlands",
          "Norway",
          "Poland",
          "Romania",
          "Russia",
          "Slovakia",
          "Slovenia",
          "Serbia",
          "Sweden",
          "Thailand",
          "Turkey"
         ],
         "legendgroup": "",
         "marker": {
          "color": "#636efa",
          "symbol": "circle"
         },
         "mode": "markers",
         "name": "",
         "orientation": "v",
         "showlegend": false,
         "type": "scatter",
         "x": [
          40.4,
          83,
          45.8,
          79.3,
          82,
          40.7,
          80.7,
          51.1,
          42,
          48.6,
          52.3,
          49.5,
          57.6,
          72.2,
          52.8,
          57.6,
          55.1,
          54.8,
          57.6,
          78.5,
          94.3,
          33.6,
          24.3,
          47,
          53.5,
          48.1,
          57,
          64.7,
          55.6,
          54.9
         ],
         "xaxis": "x",
         "y": [
          -62.32755265864498,
          -61.75,
          -65.63333333333334,
          -35.839474548440066,
          -56.4264705882353,
          -78.0625,
          -41.11297911283377,
          -85.7625,
          -68.35004456327985,
          -60.3125,
          -89.60799079318404,
          -40.078125,
          -77.25,
          -52,
          -28,
          -57.66071428571429,
          -58.34837662337662,
          -61.4375,
          -71.35294117647058,
          -52.12032170780422,
          -48.89218151340996,
          -82.32242421235637,
          -74.28195771825129,
          -63.014705882352935,
          -66.77378871128872,
          -69.04940476190475,
          -92,
          -40.61826784825834,
          -53,
          -80.55559904249422
         ],
         "yaxis": "y"
        },
        {
         "hovertemplate": "<b>OLS trendline</b><br>Min mobility change from baseline = 0.48096 * Trust the national government in this country + -89.9532<br>R<sup>2</sup>=0.226901<br><br>Trust the national government in this country=%{x}<br>Min mobility change from baseline=%{y} <b>(trend)</b><extra></extra>",
         "legendgroup": "",
         "marker": {
          "color": "#636efa",
          "symbol": "circle"
         },
         "mode": "lines",
         "name": "",
         "showlegend": false,
         "type": "scatter",
         "x": [
          24.3,
          33.6,
          40.4,
          40.7,
          42,
          45.8,
          47,
          48.1,
          48.6,
          49.5,
          51.1,
          52.3,
          52.8,
          53.5,
          54.8,
          54.9,
          55.1,
          55.6,
          57,
          57.6,
          57.6,
          57.6,
          64.7,
          72.2,
          78.5,
          79.3,
          80.7,
          82,
          83,
          94.3
         ],
         "xaxis": "x",
         "y": [
          -78.26585753069358,
          -73.79293051354229,
          -70.52240323218435,
          -70.37811526388914,
          -69.7528674012766,
          -67.92521980287069,
          -67.34806792968988,
          -66.8190120459408,
          -66.57853209878212,
          -66.14566819389651,
          -65.37613236298877,
          -64.79898048980796,
          -64.55850054264928,
          -64.22182861662714,
          -63.596580754014596,
          -63.54848476458286,
          -63.45229278571939,
          -63.21181283856072,
          -62.538468986516435,
          -62.24989304992603,
          -62.24989304992603,
          -62.24989304992603,
          -58.835077800272884,
          -55.22787859289281,
          -52.19783125869354,
          -51.81306334323967,
          -51.139719491195386,
          -50.51447162858284,
          -50.033511734265495,
          -44.59866492847951
         ],
         "yaxis": "y"
        }
       ],
       "layout": {
        "annotations": [
         {
          "showarrow": false,
          "text": "The x-axis the trust in the national government in a country.",
          "x": 0,
          "xref": "paper",
          "y": 1.13,
          "yref": "paper"
         },
         {
          "showarrow": false,
          "text": "The y-axis shows the min mobility change from baseline per month.",
          "x": 0,
          "xref": "paper",
          "y": 1.09,
          "yref": "paper"
         }
        ],
        "legend": {
         "tracegroupgap": 0
        },
        "margin": {
         "b": 0,
         "l": 20,
         "r": 20,
         "t": 100
        },
        "template": {
         "data": {
          "bar": [
           {
            "error_x": {
             "color": "#2a3f5f"
            },
            "error_y": {
             "color": "#2a3f5f"
            },
            "marker": {
             "line": {
              "color": "#E5ECF6",
              "width": 0.5
             },
             "pattern": {
              "fillmode": "overlay",
              "size": 10,
              "solidity": 0.2
             }
            },
            "type": "bar"
           }
          ],
          "barpolar": [
           {
            "marker": {
             "line": {
              "color": "#E5ECF6",
              "width": 0.5
             },
             "pattern": {
              "fillmode": "overlay",
              "size": 10,
              "solidity": 0.2
             }
            },
            "type": "barpolar"
           }
          ],
          "carpet": [
           {
            "aaxis": {
             "endlinecolor": "#2a3f5f",
             "gridcolor": "white",
             "linecolor": "white",
             "minorgridcolor": "white",
             "startlinecolor": "#2a3f5f"
            },
            "baxis": {
             "endlinecolor": "#2a3f5f",
             "gridcolor": "white",
             "linecolor": "white",
             "minorgridcolor": "white",
             "startlinecolor": "#2a3f5f"
            },
            "type": "carpet"
           }
          ],
          "choropleth": [
           {
            "colorbar": {
             "outlinewidth": 0,
             "ticks": ""
            },
            "type": "choropleth"
           }
          ],
          "contour": [
           {
            "colorbar": {
             "outlinewidth": 0,
             "ticks": ""
            },
            "colorscale": [
             [
              0,
              "#0d0887"
             ],
             [
              0.1111111111111111,
              "#46039f"
             ],
             [
              0.2222222222222222,
              "#7201a8"
             ],
             [
              0.3333333333333333,
              "#9c179e"
             ],
             [
              0.4444444444444444,
              "#bd3786"
             ],
             [
              0.5555555555555556,
              "#d8576b"
             ],
             [
              0.6666666666666666,
              "#ed7953"
             ],
             [
              0.7777777777777778,
              "#fb9f3a"
             ],
             [
              0.8888888888888888,
              "#fdca26"
             ],
             [
              1,
              "#f0f921"
             ]
            ],
            "type": "contour"
           }
          ],
          "contourcarpet": [
           {
            "colorbar": {
             "outlinewidth": 0,
             "ticks": ""
            },
            "type": "contourcarpet"
           }
          ],
          "heatmap": [
           {
            "colorbar": {
             "outlinewidth": 0,
             "ticks": ""
            },
            "colorscale": [
             [
              0,
              "#0d0887"
             ],
             [
              0.1111111111111111,
              "#46039f"
             ],
             [
              0.2222222222222222,
              "#7201a8"
             ],
             [
              0.3333333333333333,
              "#9c179e"
             ],
             [
              0.4444444444444444,
              "#bd3786"
             ],
             [
              0.5555555555555556,
              "#d8576b"
             ],
             [
              0.6666666666666666,
              "#ed7953"
             ],
             [
              0.7777777777777778,
              "#fb9f3a"
             ],
             [
              0.8888888888888888,
              "#fdca26"
             ],
             [
              1,
              "#f0f921"
             ]
            ],
            "type": "heatmap"
           }
          ],
          "heatmapgl": [
           {
            "colorbar": {
             "outlinewidth": 0,
             "ticks": ""
            },
            "colorscale": [
             [
              0,
              "#0d0887"
             ],
             [
              0.1111111111111111,
              "#46039f"
             ],
             [
              0.2222222222222222,
              "#7201a8"
             ],
             [
              0.3333333333333333,
              "#9c179e"
             ],
             [
              0.4444444444444444,
              "#bd3786"
             ],
             [
              0.5555555555555556,
              "#d8576b"
             ],
             [
              0.6666666666666666,
              "#ed7953"
             ],
             [
              0.7777777777777778,
              "#fb9f3a"
             ],
             [
              0.8888888888888888,
              "#fdca26"
             ],
             [
              1,
              "#f0f921"
             ]
            ],
            "type": "heatmapgl"
           }
          ],
          "histogram": [
           {
            "marker": {
             "pattern": {
              "fillmode": "overlay",
              "size": 10,
              "solidity": 0.2
             }
            },
            "type": "histogram"
           }
          ],
          "histogram2d": [
           {
            "colorbar": {
             "outlinewidth": 0,
             "ticks": ""
            },
            "colorscale": [
             [
              0,
              "#0d0887"
             ],
             [
              0.1111111111111111,
              "#46039f"
             ],
             [
              0.2222222222222222,
              "#7201a8"
             ],
             [
              0.3333333333333333,
              "#9c179e"
             ],
             [
              0.4444444444444444,
              "#bd3786"
             ],
             [
              0.5555555555555556,
              "#d8576b"
             ],
             [
              0.6666666666666666,
              "#ed7953"
             ],
             [
              0.7777777777777778,
              "#fb9f3a"
             ],
             [
              0.8888888888888888,
              "#fdca26"
             ],
             [
              1,
              "#f0f921"
             ]
            ],
            "type": "histogram2d"
           }
          ],
          "histogram2dcontour": [
           {
            "colorbar": {
             "outlinewidth": 0,
             "ticks": ""
            },
            "colorscale": [
             [
              0,
              "#0d0887"
             ],
             [
              0.1111111111111111,
              "#46039f"
             ],
             [
              0.2222222222222222,
              "#7201a8"
             ],
             [
              0.3333333333333333,
              "#9c179e"
             ],
             [
              0.4444444444444444,
              "#bd3786"
             ],
             [
              0.5555555555555556,
              "#d8576b"
             ],
             [
              0.6666666666666666,
              "#ed7953"
             ],
             [
              0.7777777777777778,
              "#fb9f3a"
             ],
             [
              0.8888888888888888,
              "#fdca26"
             ],
             [
              1,
              "#f0f921"
             ]
            ],
            "type": "histogram2dcontour"
           }
          ],
          "mesh3d": [
           {
            "colorbar": {
             "outlinewidth": 0,
             "ticks": ""
            },
            "type": "mesh3d"
           }
          ],
          "parcoords": [
           {
            "line": {
             "colorbar": {
              "outlinewidth": 0,
              "ticks": ""
             }
            },
            "type": "parcoords"
           }
          ],
          "pie": [
           {
            "automargin": true,
            "type": "pie"
           }
          ],
          "scatter": [
           {
            "fillpattern": {
             "fillmode": "overlay",
             "size": 10,
             "solidity": 0.2
            },
            "type": "scatter"
           }
          ],
          "scatter3d": [
           {
            "line": {
             "colorbar": {
              "outlinewidth": 0,
              "ticks": ""
             }
            },
            "marker": {
             "colorbar": {
              "outlinewidth": 0,
              "ticks": ""
             }
            },
            "type": "scatter3d"
           }
          ],
          "scattercarpet": [
           {
            "marker": {
             "colorbar": {
              "outlinewidth": 0,
              "ticks": ""
             }
            },
            "type": "scattercarpet"
           }
          ],
          "scattergeo": [
           {
            "marker": {
             "colorbar": {
              "outlinewidth": 0,
              "ticks": ""
             }
            },
            "type": "scattergeo"
           }
          ],
          "scattergl": [
           {
            "marker": {
             "colorbar": {
              "outlinewidth": 0,
              "ticks": ""
             }
            },
            "type": "scattergl"
           }
          ],
          "scattermapbox": [
           {
            "marker": {
             "colorbar": {
              "outlinewidth": 0,
              "ticks": ""
             }
            },
            "type": "scattermapbox"
           }
          ],
          "scatterpolar": [
           {
            "marker": {
             "colorbar": {
              "outlinewidth": 0,
              "ticks": ""
             }
            },
            "type": "scatterpolar"
           }
          ],
          "scatterpolargl": [
           {
            "marker": {
             "colorbar": {
              "outlinewidth": 0,
              "ticks": ""
             }
            },
            "type": "scatterpolargl"
           }
          ],
          "scatterternary": [
           {
            "marker": {
             "colorbar": {
              "outlinewidth": 0,
              "ticks": ""
             }
            },
            "type": "scatterternary"
           }
          ],
          "surface": [
           {
            "colorbar": {
             "outlinewidth": 0,
             "ticks": ""
            },
            "colorscale": [
             [
              0,
              "#0d0887"
             ],
             [
              0.1111111111111111,
              "#46039f"
             ],
             [
              0.2222222222222222,
              "#7201a8"
             ],
             [
              0.3333333333333333,
              "#9c179e"
             ],
             [
              0.4444444444444444,
              "#bd3786"
             ],
             [
              0.5555555555555556,
              "#d8576b"
             ],
             [
              0.6666666666666666,
              "#ed7953"
             ],
             [
              0.7777777777777778,
              "#fb9f3a"
             ],
             [
              0.8888888888888888,
              "#fdca26"
             ],
             [
              1,
              "#f0f921"
             ]
            ],
            "type": "surface"
           }
          ],
          "table": [
           {
            "cells": {
             "fill": {
              "color": "#EBF0F8"
             },
             "line": {
              "color": "white"
             }
            },
            "header": {
             "fill": {
              "color": "#C8D4E3"
             },
             "line": {
              "color": "white"
             }
            },
            "type": "table"
           }
          ]
         },
         "layout": {
          "annotationdefaults": {
           "arrowcolor": "#2a3f5f",
           "arrowhead": 0,
           "arrowwidth": 1
          },
          "autotypenumbers": "strict",
          "coloraxis": {
           "colorbar": {
            "outlinewidth": 0,
            "ticks": ""
           }
          },
          "colorscale": {
           "diverging": [
            [
             0,
             "#8e0152"
            ],
            [
             0.1,
             "#c51b7d"
            ],
            [
             0.2,
             "#de77ae"
            ],
            [
             0.3,
             "#f1b6da"
            ],
            [
             0.4,
             "#fde0ef"
            ],
            [
             0.5,
             "#f7f7f7"
            ],
            [
             0.6,
             "#e6f5d0"
            ],
            [
             0.7,
             "#b8e186"
            ],
            [
             0.8,
             "#7fbc41"
            ],
            [
             0.9,
             "#4d9221"
            ],
            [
             1,
             "#276419"
            ]
           ],
           "sequential": [
            [
             0,
             "#0d0887"
            ],
            [
             0.1111111111111111,
             "#46039f"
            ],
            [
             0.2222222222222222,
             "#7201a8"
            ],
            [
             0.3333333333333333,
             "#9c179e"
            ],
            [
             0.4444444444444444,
             "#bd3786"
            ],
            [
             0.5555555555555556,
             "#d8576b"
            ],
            [
             0.6666666666666666,
             "#ed7953"
            ],
            [
             0.7777777777777778,
             "#fb9f3a"
            ],
            [
             0.8888888888888888,
             "#fdca26"
            ],
            [
             1,
             "#f0f921"
            ]
           ],
           "sequentialminus": [
            [
             0,
             "#0d0887"
            ],
            [
             0.1111111111111111,
             "#46039f"
            ],
            [
             0.2222222222222222,
             "#7201a8"
            ],
            [
             0.3333333333333333,
             "#9c179e"
            ],
            [
             0.4444444444444444,
             "#bd3786"
            ],
            [
             0.5555555555555556,
             "#d8576b"
            ],
            [
             0.6666666666666666,
             "#ed7953"
            ],
            [
             0.7777777777777778,
             "#fb9f3a"
            ],
            [
             0.8888888888888888,
             "#fdca26"
            ],
            [
             1,
             "#f0f921"
            ]
           ]
          },
          "colorway": [
           "#636efa",
           "#EF553B",
           "#00cc96",
           "#ab63fa",
           "#FFA15A",
           "#19d3f3",
           "#FF6692",
           "#B6E880",
           "#FF97FF",
           "#FECB52"
          ],
          "font": {
           "color": "#2a3f5f"
          },
          "geo": {
           "bgcolor": "white",
           "lakecolor": "white",
           "landcolor": "#E5ECF6",
           "showlakes": true,
           "showland": true,
           "subunitcolor": "white"
          },
          "hoverlabel": {
           "align": "left"
          },
          "hovermode": "closest",
          "mapbox": {
           "style": "light"
          },
          "paper_bgcolor": "white",
          "plot_bgcolor": "#E5ECF6",
          "polar": {
           "angularaxis": {
            "gridcolor": "white",
            "linecolor": "white",
            "ticks": ""
           },
           "bgcolor": "#E5ECF6",
           "radialaxis": {
            "gridcolor": "white",
            "linecolor": "white",
            "ticks": ""
           }
          },
          "scene": {
           "xaxis": {
            "backgroundcolor": "#E5ECF6",
            "gridcolor": "white",
            "gridwidth": 2,
            "linecolor": "white",
            "showbackground": true,
            "ticks": "",
            "zerolinecolor": "white"
           },
           "yaxis": {
            "backgroundcolor": "#E5ECF6",
            "gridcolor": "white",
            "gridwidth": 2,
            "linecolor": "white",
            "showbackground": true,
            "ticks": "",
            "zerolinecolor": "white"
           },
           "zaxis": {
            "backgroundcolor": "#E5ECF6",
            "gridcolor": "white",
            "gridwidth": 2,
            "linecolor": "white",
            "showbackground": true,
            "ticks": "",
            "zerolinecolor": "white"
           }
          },
          "shapedefaults": {
           "line": {
            "color": "#2a3f5f"
           }
          },
          "ternary": {
           "aaxis": {
            "gridcolor": "white",
            "linecolor": "white",
            "ticks": ""
           },
           "baxis": {
            "gridcolor": "white",
            "linecolor": "white",
            "ticks": ""
           },
           "bgcolor": "#E5ECF6",
           "caxis": {
            "gridcolor": "white",
            "linecolor": "white",
            "ticks": ""
           }
          },
          "title": {
           "x": 0.05
          },
          "xaxis": {
           "automargin": true,
           "gridcolor": "white",
           "linecolor": "white",
           "ticks": "",
           "title": {
            "standoff": 15
           },
           "zerolinecolor": "white",
           "zerolinewidth": 2
          },
          "yaxis": {
           "automargin": true,
           "gridcolor": "white",
           "linecolor": "white",
           "ticks": "",
           "title": {
            "standoff": 15
           },
           "zerolinecolor": "white",
           "zerolinewidth": 2
          }
         }
        },
        "title": {
         "text": "Relationship between min moblitiy change from baseline and trust in the national government in a country, 2020"
        },
        "xaxis": {
         "anchor": "y",
         "domain": [
          0,
          1
         ],
         "ticksuffix": "%",
         "title": {
          "text": "Trust the national government in this country"
         }
        },
        "yaxis": {
         "anchor": "x",
         "domain": [
          0,
          1
         ],
         "ticksuffix": "%",
         "title": {
          "text": "Min mobility change from baseline"
         }
        }
       }
      }
     },
     "metadata": {},
     "output_type": "display_data"
    },
    {
     "name": "stdout",
     "output_type": "stream",
     "text": [
      "Correlation coefficient: 0.4763412530416577\n",
      "P-value: 0.007790561016220846\n"
     ]
    }
   ],
   "source": [
    "fig = px.scatter(mobility_trust, x='Trust the national government in this country', y=\"Min mobility change from baseline\",hover_name=\"Country\",trendline=\"ols\", title='Relationship between min moblitiy change from baseline and trust in the national government in a country, 2020')\n",
    "\n",
    "# fig.update_layout(height=800,title_text='Relationship between min moblitiy change from baseline and trust in the national government in a country')\n",
    "\n",
    "fig.update_layout(margin=dict(l=20, r=20, t=100, b=0))  \n",
    "fig.add_annotation(xref='paper',yref='paper',x=0, y=1.13,showarrow=False,text = \"The x-axis the trust in the national government in a country.\")\n",
    "fig.add_annotation(xref='paper',yref='paper',x=0, y=1.09,showarrow=False,text = \"The y-axis shows the min mobility change from baseline per month.\")\n",
    "fig.update_layout(yaxis_ticksuffix = \"%\")\n",
    "fig.update_layout(xaxis_ticksuffix = \"%\")\n",
    "fig.show()\n",
    "\n",
    "# mobility change from baseline\n",
    "corr, p_value = stats.pearsonr(mobility_trust['Trust the national government in this country'], mobility_trust[\"Min mobility change from baseline\"])\n",
    "print(\"Correlation coefficient: {}\".format(corr))\n",
    "print(\"P-value: {}\".format(p_value))"
   ]
  }
 ],
 "metadata": {
  "kernelspec": {
   "display_name": "Python 3",
   "language": "python",
   "name": "python3"
  },
  "language_info": {
   "codemirror_mode": {
    "name": "ipython",
    "version": 3
   },
   "file_extension": ".py",
   "mimetype": "text/x-python",
   "name": "python",
   "nbconvert_exporter": "python",
   "pygments_lexer": "ipython3",
   "version": "3.8.5"
  },
  "vscode": {
   "interpreter": {
    "hash": "31f2aee4e71d21fbe5cf8b01ff0e069b9275f58929596ceb00d14d90e3e16cd6"
   }
  }
 },
 "nbformat": 4,
 "nbformat_minor": 2
}
