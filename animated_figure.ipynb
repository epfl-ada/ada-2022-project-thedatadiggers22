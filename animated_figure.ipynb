{
 "cells": [
  {
   "cell_type": "code",
   "execution_count": 1,
   "metadata": {},
   "outputs": [],
   "source": [
    "# Imports\n",
    "import plotly.express as px\n",
    "from helper import *\n",
    "import pandas as pd\n",
    "import numpy as np\n",
    "import gzip\n",
    "import json\n",
    "from scipy import stats"
   ]
  },
  {
   "cell_type": "markdown",
   "metadata": {},
   "source": [
    "# Trust and mobility \n",
    "### mobility\n",
    "\n",
    "During the pandemic, people were engaging in a variety of activities in response to the spread of COVID-19. As the pandemic unfolded, many people turned to Wikipedia and other sources of information to learn more about the virus and the measures being taken to combat it. Some people may have started going out less in order to reduce the risk of transmission, while others may have continued to go out as usual, either out of a sense of trust in their government's handling of the crisis or for other reasons. Let's have a look at how mobility was affected by the covid-19 wave. \n",
    "\n",
    "\n"
   ]
  },
  {
   "cell_type": "code",
   "execution_count": 2,
   "metadata": {},
   "outputs": [],
   "source": [
    "# Imports\n",
    "import plotly.express as px\n",
    "from helper import *\n",
    "import pandas as pd\n",
    "import numpy as np\n",
    "import gzip\n",
    "import json\n",
    "from scipy import stats"
   ]
  },
  {
   "cell_type": "markdown",
   "metadata": {},
   "source": [
    "Here we extract the mobility of all countries and separate them into moving category: which accounts for movement in Retail and Recreations, Parks,Transit stations and Workplace. And the covid category: which accounts for momement in Grocery and Pharmacy and Residential. The metric is a change in mobility from baseline in percentage, meaning that positive values represent more mobiltiy than normal and negative representing the inverse, with the baseline being before covid-19 happened. \n",
    "\n",
    "We will focus on the moving category and calculate the median of all countries per day.\n",
    "\n",
    "\n"
   ]
  },
  {
   "cell_type": "code",
   "execution_count": 3,
   "metadata": {},
   "outputs": [
    {
     "name": "stderr",
     "output_type": "stream",
     "text": [
      "/Users/charlottsertic/Documents/GitHub/ada-2022-project-thedatadiggers22/helper.py:446: DtypeWarning: Columns (4) have mixed types. Specify dtype option on import or set low_memory=False.\n",
      "  google_mobility = pd.read_csv(data_folder+'Global_Mobility_Report.csv.zip')\n"
     ]
    }
   ],
   "source": [
    "#Load mobility data \n",
    "\n",
    "mobility = get_mobility_df(get_country_dict('trust gov mobility'))\n",
    "moving_mobility_df = mobility['moving category'].reset_index()\n",
    "\n",
    "# Select countries that appear in both the trust and mobility dataset\n",
    "moving_mobility_df['country_region'] =moving_mobility_df['country_region'].map(get_country_dict('trust gov mobility'))\n",
    "\n",
    "# Calculate median moving mobility on each day and save in a dataframe\n",
    "median_mobility_df = moving_mobility_df.groupby('date')['moving category'].median().to_frame().reset_index()\n",
    "median_mobility_df = median_mobility_df.rename(columns={'moving category':'Median mobility change from baseline', 'date': 'Date'})"
   ]
  },
  {
   "cell_type": "markdown",
   "metadata": {},
   "source": [
    "Let's plot the timeseries of the median mobility over the six month period "
   ]
  },
  {
   "cell_type": "code",
   "execution_count": 4,
   "metadata": {},
   "outputs": [
    {
     "data": {
      "application/vnd.plotly.v1+json": {
       "config": {
        "plotlyServerURL": "https://plot.ly"
       },
       "data": [
        {
         "hovertemplate": "Date=%{x}<br>Median mobility change from baseline=%{y}<extra></extra>",
         "legendgroup": "",
         "line": {
          "color": "#636efa",
          "dash": "solid"
         },
         "marker": {
          "symbol": "circle"
         },
         "mode": "lines",
         "name": "",
         "orientation": "v",
         "showlegend": false,
         "type": "scatter",
         "x": [
          "2020-02-15T00:00:00",
          "2020-02-16T00:00:00",
          "2020-02-17T00:00:00",
          "2020-02-18T00:00:00",
          "2020-02-19T00:00:00",
          "2020-02-20T00:00:00",
          "2020-02-21T00:00:00",
          "2020-02-22T00:00:00",
          "2020-02-23T00:00:00",
          "2020-02-24T00:00:00",
          "2020-02-25T00:00:00",
          "2020-02-26T00:00:00",
          "2020-02-27T00:00:00",
          "2020-02-28T00:00:00",
          "2020-02-29T00:00:00",
          "2020-03-01T00:00:00",
          "2020-03-02T00:00:00",
          "2020-03-03T00:00:00",
          "2020-03-04T00:00:00",
          "2020-03-05T00:00:00",
          "2020-03-06T00:00:00",
          "2020-03-07T00:00:00",
          "2020-03-08T00:00:00",
          "2020-03-09T00:00:00",
          "2020-03-10T00:00:00",
          "2020-03-11T00:00:00",
          "2020-03-12T00:00:00",
          "2020-03-13T00:00:00",
          "2020-03-14T00:00:00",
          "2020-03-15T00:00:00",
          "2020-03-16T00:00:00",
          "2020-03-17T00:00:00",
          "2020-03-18T00:00:00",
          "2020-03-19T00:00:00",
          "2020-03-20T00:00:00",
          "2020-03-21T00:00:00",
          "2020-03-22T00:00:00",
          "2020-03-23T00:00:00",
          "2020-03-24T00:00:00",
          "2020-03-25T00:00:00",
          "2020-03-26T00:00:00",
          "2020-03-27T00:00:00",
          "2020-03-28T00:00:00",
          "2020-03-29T00:00:00",
          "2020-03-30T00:00:00",
          "2020-03-31T00:00:00",
          "2020-04-01T00:00:00",
          "2020-04-02T00:00:00",
          "2020-04-03T00:00:00",
          "2020-04-04T00:00:00",
          "2020-04-05T00:00:00",
          "2020-04-06T00:00:00",
          "2020-04-07T00:00:00",
          "2020-04-08T00:00:00",
          "2020-04-09T00:00:00",
          "2020-04-10T00:00:00",
          "2020-04-11T00:00:00",
          "2020-04-12T00:00:00",
          "2020-04-13T00:00:00",
          "2020-04-14T00:00:00",
          "2020-04-15T00:00:00",
          "2020-04-16T00:00:00",
          "2020-04-17T00:00:00",
          "2020-04-18T00:00:00",
          "2020-04-19T00:00:00",
          "2020-04-20T00:00:00",
          "2020-04-21T00:00:00",
          "2020-04-22T00:00:00",
          "2020-04-23T00:00:00",
          "2020-04-24T00:00:00",
          "2020-04-25T00:00:00",
          "2020-04-26T00:00:00",
          "2020-04-27T00:00:00",
          "2020-04-28T00:00:00",
          "2020-04-29T00:00:00",
          "2020-04-30T00:00:00",
          "2020-05-01T00:00:00",
          "2020-05-02T00:00:00",
          "2020-05-03T00:00:00",
          "2020-05-04T00:00:00",
          "2020-05-05T00:00:00",
          "2020-05-06T00:00:00",
          "2020-05-07T00:00:00",
          "2020-05-08T00:00:00",
          "2020-05-09T00:00:00",
          "2020-05-10T00:00:00",
          "2020-05-11T00:00:00",
          "2020-05-12T00:00:00",
          "2020-05-13T00:00:00",
          "2020-05-14T00:00:00",
          "2020-05-15T00:00:00",
          "2020-05-16T00:00:00",
          "2020-05-17T00:00:00",
          "2020-05-18T00:00:00",
          "2020-05-19T00:00:00",
          "2020-05-20T00:00:00",
          "2020-05-21T00:00:00",
          "2020-05-22T00:00:00",
          "2020-05-23T00:00:00",
          "2020-05-24T00:00:00",
          "2020-05-25T00:00:00",
          "2020-05-26T00:00:00",
          "2020-05-27T00:00:00",
          "2020-05-28T00:00:00",
          "2020-05-29T00:00:00",
          "2020-05-30T00:00:00",
          "2020-05-31T00:00:00",
          "2020-06-01T00:00:00",
          "2020-06-02T00:00:00",
          "2020-06-03T00:00:00",
          "2020-06-04T00:00:00",
          "2020-06-05T00:00:00",
          "2020-06-06T00:00:00",
          "2020-06-07T00:00:00",
          "2020-06-08T00:00:00",
          "2020-06-09T00:00:00",
          "2020-06-10T00:00:00",
          "2020-06-11T00:00:00",
          "2020-06-12T00:00:00",
          "2020-06-13T00:00:00",
          "2020-06-14T00:00:00",
          "2020-06-15T00:00:00",
          "2020-06-16T00:00:00",
          "2020-06-17T00:00:00",
          "2020-06-18T00:00:00",
          "2020-06-19T00:00:00",
          "2020-06-20T00:00:00",
          "2020-06-21T00:00:00",
          "2020-06-22T00:00:00",
          "2020-06-23T00:00:00",
          "2020-06-24T00:00:00",
          "2020-06-25T00:00:00",
          "2020-06-26T00:00:00",
          "2020-06-27T00:00:00",
          "2020-06-28T00:00:00",
          "2020-06-29T00:00:00",
          "2020-06-30T00:00:00",
          "2020-07-01T00:00:00",
          "2020-07-02T00:00:00",
          "2020-07-03T00:00:00",
          "2020-07-04T00:00:00",
          "2020-07-05T00:00:00",
          "2020-07-06T00:00:00",
          "2020-07-07T00:00:00",
          "2020-07-08T00:00:00",
          "2020-07-09T00:00:00",
          "2020-07-10T00:00:00",
          "2020-07-11T00:00:00",
          "2020-07-12T00:00:00",
          "2020-07-13T00:00:00",
          "2020-07-14T00:00:00",
          "2020-07-15T00:00:00",
          "2020-07-16T00:00:00",
          "2020-07-17T00:00:00",
          "2020-07-18T00:00:00",
          "2020-07-19T00:00:00",
          "2020-07-20T00:00:00",
          "2020-07-21T00:00:00",
          "2020-07-22T00:00:00",
          "2020-07-23T00:00:00",
          "2020-07-24T00:00:00",
          "2020-07-25T00:00:00",
          "2020-07-26T00:00:00",
          "2020-07-27T00:00:00",
          "2020-07-28T00:00:00",
          "2020-07-29T00:00:00",
          "2020-07-30T00:00:00",
          "2020-07-31T00:00:00"
         ],
         "xaxis": "x",
         "y": [
          4.0849206427488,
          5.3161764705882355,
          2.129199896887889,
          3.0625,
          2.878033955740406,
          2.45018262987013,
          1.8314756330598145,
          2.7092251711605235,
          3.854743867243867,
          2.7560882279741166,
          2.5081941528654554,
          1.1378879030951223,
          1.4435723894300803,
          2.477205882352941,
          3.5738095238095235,
          4.794949229691877,
          4.1192810457516345,
          2.006363932943517,
          2.5959348984348987,
          5.463541666666666,
          1.8154761904761905,
          6.032731953791736,
          9.531748188405796,
          0.35473736952170964,
          0.14897468123083346,
          0.6472000011495603,
          -3.430665917761706,
          -9.218777578060418,
          -12.640625,
          -14.515251381682834,
          -16.767442799826505,
          -18.577531890742218,
          -25.441269100245602,
          -29.214422690093166,
          -31.728866332851148,
          -34.600483843972,
          -41.28403210904716,
          -37.653895472406674,
          -40.06676376224249,
          -41.83885216626722,
          -42.8069917462703,
          -42.983711087327904,
          -38.712179465365836,
          -47.61380466188844,
          -44.61263452749521,
          -48.08200316464604,
          -47.9039823879024,
          -47.729537395000065,
          -46.293747771083204,
          -49.2671302994758,
          -50.23214285714286,
          -44.886247204240846,
          -45.35360652286839,
          -45.45315745420425,
          -44.864707974438005,
          -47.80480525318781,
          -47.36128913662239,
          -46.63966211484594,
          -52.19706561580688,
          -46.25,
          -44.7552807486631,
          -43.48047676008203,
          -44.22062500166915,
          -43.1877312298478,
          -45.31749217180669,
          -41.82158287536572,
          -41.82277137894785,
          -38.06200851597916,
          -35.690600259764736,
          -36.99169941900205,
          -35.66508146268008,
          -35.343692015599345,
          -32.05792349150062,
          -34.96390576370977,
          -36.65345325630252,
          -29.54430671354367,
          -50.19852941176471,
          -33.940755208333336,
          -33.91205803194484,
          -27.14710983857866,
          -30.64616014697123,
          -29.881251603065145,
          -20.947916666666664,
          -19.686813838438603,
          -16.55029561107597,
          -19.26982369087838,
          -22.429051689083995,
          -20.16176470588235,
          -19.13985442661913,
          -20.01766619219773,
          -17.916434888015864,
          -10.630914943472991,
          -9.029399585921325,
          -9.730133370501122,
          -13.814028656685702,
          -12.637318722943723,
          -10.903125,
          -8.4146360247884,
          -5.98529411764706,
          -9.854874101215174,
          -13.593815651260503,
          -10.281699511042955,
          -6.004916896628288,
          -11.065414151097333,
          -7.4480192551468996,
          -1.366571456712302,
          -3.1288690476190477,
          0.8651012612175606,
          -0.17627921256232182,
          0.4137196509975911,
          -7.554531358336875,
          -8.510551948051948,
          3.720672754747832,
          0.43290441176470573,
          -3.0706321043269726,
          -1.8361889172147983,
          -0.21835678850420437,
          -0.1007130124777178,
          8.059116656959295,
          10.26960918614021,
          5.448422069906277,
          3.4256179635315673,
          4.233698586804708,
          2.974756292141716,
          0.233109838351496,
          0.3835006211103438,
          6.257356478338124,
          8.329237993283844,
          3.517615341649984,
          9.34935709696862,
          6.161232283464567,
          8.962847056392949,
          8.487499999999999,
          11.663361126936238,
          18.246000555394573,
          1.8229036641181668,
          7.397108673806153,
          10.22903836754643,
          8.010569852941176,
          5.996691176470587,
          6.818357771260997,
          9.004519876728027,
          9.011009490002898,
          11.722158645522804,
          10.025735294117645,
          8.466890945927648,
          6.185128151557064,
          7.250678340158044,
          14.631398230863986,
          8.97607931853401,
          8.583409533170173,
          12.900735294117647,
          9.938853081531583,
          7.896608362811207,
          7.792505080999833,
          13.332388224504268,
          17.88403398859874,
          15.45354224662336,
          17.49703341013825,
          15.612377956791367,
          9.741779796219692,
          10.745297330880039,
          17.798799047832503,
          14.79432971122863,
          13.499699224788996,
          14.621093473372301,
          16.35863698974972,
          10.3125
         ],
         "yaxis": "y"
        }
       ],
       "layout": {
        "legend": {
         "tracegroupgap": 0
        },
        "template": {
         "data": {
          "bar": [
           {
            "error_x": {
             "color": "#2a3f5f"
            },
            "error_y": {
             "color": "#2a3f5f"
            },
            "marker": {
             "line": {
              "color": "#E5ECF6",
              "width": 0.5
             },
             "pattern": {
              "fillmode": "overlay",
              "size": 10,
              "solidity": 0.2
             }
            },
            "type": "bar"
           }
          ],
          "barpolar": [
           {
            "marker": {
             "line": {
              "color": "#E5ECF6",
              "width": 0.5
             },
             "pattern": {
              "fillmode": "overlay",
              "size": 10,
              "solidity": 0.2
             }
            },
            "type": "barpolar"
           }
          ],
          "carpet": [
           {
            "aaxis": {
             "endlinecolor": "#2a3f5f",
             "gridcolor": "white",
             "linecolor": "white",
             "minorgridcolor": "white",
             "startlinecolor": "#2a3f5f"
            },
            "baxis": {
             "endlinecolor": "#2a3f5f",
             "gridcolor": "white",
             "linecolor": "white",
             "minorgridcolor": "white",
             "startlinecolor": "#2a3f5f"
            },
            "type": "carpet"
           }
          ],
          "choropleth": [
           {
            "colorbar": {
             "outlinewidth": 0,
             "ticks": ""
            },
            "type": "choropleth"
           }
          ],
          "contour": [
           {
            "colorbar": {
             "outlinewidth": 0,
             "ticks": ""
            },
            "colorscale": [
             [
              0,
              "#0d0887"
             ],
             [
              0.1111111111111111,
              "#46039f"
             ],
             [
              0.2222222222222222,
              "#7201a8"
             ],
             [
              0.3333333333333333,
              "#9c179e"
             ],
             [
              0.4444444444444444,
              "#bd3786"
             ],
             [
              0.5555555555555556,
              "#d8576b"
             ],
             [
              0.6666666666666666,
              "#ed7953"
             ],
             [
              0.7777777777777778,
              "#fb9f3a"
             ],
             [
              0.8888888888888888,
              "#fdca26"
             ],
             [
              1,
              "#f0f921"
             ]
            ],
            "type": "contour"
           }
          ],
          "contourcarpet": [
           {
            "colorbar": {
             "outlinewidth": 0,
             "ticks": ""
            },
            "type": "contourcarpet"
           }
          ],
          "heatmap": [
           {
            "colorbar": {
             "outlinewidth": 0,
             "ticks": ""
            },
            "colorscale": [
             [
              0,
              "#0d0887"
             ],
             [
              0.1111111111111111,
              "#46039f"
             ],
             [
              0.2222222222222222,
              "#7201a8"
             ],
             [
              0.3333333333333333,
              "#9c179e"
             ],
             [
              0.4444444444444444,
              "#bd3786"
             ],
             [
              0.5555555555555556,
              "#d8576b"
             ],
             [
              0.6666666666666666,
              "#ed7953"
             ],
             [
              0.7777777777777778,
              "#fb9f3a"
             ],
             [
              0.8888888888888888,
              "#fdca26"
             ],
             [
              1,
              "#f0f921"
             ]
            ],
            "type": "heatmap"
           }
          ],
          "heatmapgl": [
           {
            "colorbar": {
             "outlinewidth": 0,
             "ticks": ""
            },
            "colorscale": [
             [
              0,
              "#0d0887"
             ],
             [
              0.1111111111111111,
              "#46039f"
             ],
             [
              0.2222222222222222,
              "#7201a8"
             ],
             [
              0.3333333333333333,
              "#9c179e"
             ],
             [
              0.4444444444444444,
              "#bd3786"
             ],
             [
              0.5555555555555556,
              "#d8576b"
             ],
             [
              0.6666666666666666,
              "#ed7953"
             ],
             [
              0.7777777777777778,
              "#fb9f3a"
             ],
             [
              0.8888888888888888,
              "#fdca26"
             ],
             [
              1,
              "#f0f921"
             ]
            ],
            "type": "heatmapgl"
           }
          ],
          "histogram": [
           {
            "marker": {
             "pattern": {
              "fillmode": "overlay",
              "size": 10,
              "solidity": 0.2
             }
            },
            "type": "histogram"
           }
          ],
          "histogram2d": [
           {
            "colorbar": {
             "outlinewidth": 0,
             "ticks": ""
            },
            "colorscale": [
             [
              0,
              "#0d0887"
             ],
             [
              0.1111111111111111,
              "#46039f"
             ],
             [
              0.2222222222222222,
              "#7201a8"
             ],
             [
              0.3333333333333333,
              "#9c179e"
             ],
             [
              0.4444444444444444,
              "#bd3786"
             ],
             [
              0.5555555555555556,
              "#d8576b"
             ],
             [
              0.6666666666666666,
              "#ed7953"
             ],
             [
              0.7777777777777778,
              "#fb9f3a"
             ],
             [
              0.8888888888888888,
              "#fdca26"
             ],
             [
              1,
              "#f0f921"
             ]
            ],
            "type": "histogram2d"
           }
          ],
          "histogram2dcontour": [
           {
            "colorbar": {
             "outlinewidth": 0,
             "ticks": ""
            },
            "colorscale": [
             [
              0,
              "#0d0887"
             ],
             [
              0.1111111111111111,
              "#46039f"
             ],
             [
              0.2222222222222222,
              "#7201a8"
             ],
             [
              0.3333333333333333,
              "#9c179e"
             ],
             [
              0.4444444444444444,
              "#bd3786"
             ],
             [
              0.5555555555555556,
              "#d8576b"
             ],
             [
              0.6666666666666666,
              "#ed7953"
             ],
             [
              0.7777777777777778,
              "#fb9f3a"
             ],
             [
              0.8888888888888888,
              "#fdca26"
             ],
             [
              1,
              "#f0f921"
             ]
            ],
            "type": "histogram2dcontour"
           }
          ],
          "mesh3d": [
           {
            "colorbar": {
             "outlinewidth": 0,
             "ticks": ""
            },
            "type": "mesh3d"
           }
          ],
          "parcoords": [
           {
            "line": {
             "colorbar": {
              "outlinewidth": 0,
              "ticks": ""
             }
            },
            "type": "parcoords"
           }
          ],
          "pie": [
           {
            "automargin": true,
            "type": "pie"
           }
          ],
          "scatter": [
           {
            "fillpattern": {
             "fillmode": "overlay",
             "size": 10,
             "solidity": 0.2
            },
            "type": "scatter"
           }
          ],
          "scatter3d": [
           {
            "line": {
             "colorbar": {
              "outlinewidth": 0,
              "ticks": ""
             }
            },
            "marker": {
             "colorbar": {
              "outlinewidth": 0,
              "ticks": ""
             }
            },
            "type": "scatter3d"
           }
          ],
          "scattercarpet": [
           {
            "marker": {
             "colorbar": {
              "outlinewidth": 0,
              "ticks": ""
             }
            },
            "type": "scattercarpet"
           }
          ],
          "scattergeo": [
           {
            "marker": {
             "colorbar": {
              "outlinewidth": 0,
              "ticks": ""
             }
            },
            "type": "scattergeo"
           }
          ],
          "scattergl": [
           {
            "marker": {
             "colorbar": {
              "outlinewidth": 0,
              "ticks": ""
             }
            },
            "type": "scattergl"
           }
          ],
          "scattermapbox": [
           {
            "marker": {
             "colorbar": {
              "outlinewidth": 0,
              "ticks": ""
             }
            },
            "type": "scattermapbox"
           }
          ],
          "scatterpolar": [
           {
            "marker": {
             "colorbar": {
              "outlinewidth": 0,
              "ticks": ""
             }
            },
            "type": "scatterpolar"
           }
          ],
          "scatterpolargl": [
           {
            "marker": {
             "colorbar": {
              "outlinewidth": 0,
              "ticks": ""
             }
            },
            "type": "scatterpolargl"
           }
          ],
          "scatterternary": [
           {
            "marker": {
             "colorbar": {
              "outlinewidth": 0,
              "ticks": ""
             }
            },
            "type": "scatterternary"
           }
          ],
          "surface": [
           {
            "colorbar": {
             "outlinewidth": 0,
             "ticks": ""
            },
            "colorscale": [
             [
              0,
              "#0d0887"
             ],
             [
              0.1111111111111111,
              "#46039f"
             ],
             [
              0.2222222222222222,
              "#7201a8"
             ],
             [
              0.3333333333333333,
              "#9c179e"
             ],
             [
              0.4444444444444444,
              "#bd3786"
             ],
             [
              0.5555555555555556,
              "#d8576b"
             ],
             [
              0.6666666666666666,
              "#ed7953"
             ],
             [
              0.7777777777777778,
              "#fb9f3a"
             ],
             [
              0.8888888888888888,
              "#fdca26"
             ],
             [
              1,
              "#f0f921"
             ]
            ],
            "type": "surface"
           }
          ],
          "table": [
           {
            "cells": {
             "fill": {
              "color": "#EBF0F8"
             },
             "line": {
              "color": "white"
             }
            },
            "header": {
             "fill": {
              "color": "#C8D4E3"
             },
             "line": {
              "color": "white"
             }
            },
            "type": "table"
           }
          ]
         },
         "layout": {
          "annotationdefaults": {
           "arrowcolor": "#2a3f5f",
           "arrowhead": 0,
           "arrowwidth": 1
          },
          "autotypenumbers": "strict",
          "coloraxis": {
           "colorbar": {
            "outlinewidth": 0,
            "ticks": ""
           }
          },
          "colorscale": {
           "diverging": [
            [
             0,
             "#8e0152"
            ],
            [
             0.1,
             "#c51b7d"
            ],
            [
             0.2,
             "#de77ae"
            ],
            [
             0.3,
             "#f1b6da"
            ],
            [
             0.4,
             "#fde0ef"
            ],
            [
             0.5,
             "#f7f7f7"
            ],
            [
             0.6,
             "#e6f5d0"
            ],
            [
             0.7,
             "#b8e186"
            ],
            [
             0.8,
             "#7fbc41"
            ],
            [
             0.9,
             "#4d9221"
            ],
            [
             1,
             "#276419"
            ]
           ],
           "sequential": [
            [
             0,
             "#0d0887"
            ],
            [
             0.1111111111111111,
             "#46039f"
            ],
            [
             0.2222222222222222,
             "#7201a8"
            ],
            [
             0.3333333333333333,
             "#9c179e"
            ],
            [
             0.4444444444444444,
             "#bd3786"
            ],
            [
             0.5555555555555556,
             "#d8576b"
            ],
            [
             0.6666666666666666,
             "#ed7953"
            ],
            [
             0.7777777777777778,
             "#fb9f3a"
            ],
            [
             0.8888888888888888,
             "#fdca26"
            ],
            [
             1,
             "#f0f921"
            ]
           ],
           "sequentialminus": [
            [
             0,
             "#0d0887"
            ],
            [
             0.1111111111111111,
             "#46039f"
            ],
            [
             0.2222222222222222,
             "#7201a8"
            ],
            [
             0.3333333333333333,
             "#9c179e"
            ],
            [
             0.4444444444444444,
             "#bd3786"
            ],
            [
             0.5555555555555556,
             "#d8576b"
            ],
            [
             0.6666666666666666,
             "#ed7953"
            ],
            [
             0.7777777777777778,
             "#fb9f3a"
            ],
            [
             0.8888888888888888,
             "#fdca26"
            ],
            [
             1,
             "#f0f921"
            ]
           ]
          },
          "colorway": [
           "#636efa",
           "#EF553B",
           "#00cc96",
           "#ab63fa",
           "#FFA15A",
           "#19d3f3",
           "#FF6692",
           "#B6E880",
           "#FF97FF",
           "#FECB52"
          ],
          "font": {
           "color": "#2a3f5f"
          },
          "geo": {
           "bgcolor": "white",
           "lakecolor": "white",
           "landcolor": "#E5ECF6",
           "showlakes": true,
           "showland": true,
           "subunitcolor": "white"
          },
          "hoverlabel": {
           "align": "left"
          },
          "hovermode": "closest",
          "mapbox": {
           "style": "light"
          },
          "paper_bgcolor": "white",
          "plot_bgcolor": "#E5ECF6",
          "polar": {
           "angularaxis": {
            "gridcolor": "white",
            "linecolor": "white",
            "ticks": ""
           },
           "bgcolor": "#E5ECF6",
           "radialaxis": {
            "gridcolor": "white",
            "linecolor": "white",
            "ticks": ""
           }
          },
          "scene": {
           "xaxis": {
            "backgroundcolor": "#E5ECF6",
            "gridcolor": "white",
            "gridwidth": 2,
            "linecolor": "white",
            "showbackground": true,
            "ticks": "",
            "zerolinecolor": "white"
           },
           "yaxis": {
            "backgroundcolor": "#E5ECF6",
            "gridcolor": "white",
            "gridwidth": 2,
            "linecolor": "white",
            "showbackground": true,
            "ticks": "",
            "zerolinecolor": "white"
           },
           "zaxis": {
            "backgroundcolor": "#E5ECF6",
            "gridcolor": "white",
            "gridwidth": 2,
            "linecolor": "white",
            "showbackground": true,
            "ticks": "",
            "zerolinecolor": "white"
           }
          },
          "shapedefaults": {
           "line": {
            "color": "#2a3f5f"
           }
          },
          "ternary": {
           "aaxis": {
            "gridcolor": "white",
            "linecolor": "white",
            "ticks": ""
           },
           "baxis": {
            "gridcolor": "white",
            "linecolor": "white",
            "ticks": ""
           },
           "bgcolor": "#E5ECF6",
           "caxis": {
            "gridcolor": "white",
            "linecolor": "white",
            "ticks": ""
           }
          },
          "title": {
           "x": 0.05
          },
          "xaxis": {
           "automargin": true,
           "gridcolor": "white",
           "linecolor": "white",
           "ticks": "",
           "title": {
            "standoff": 15
           },
           "zerolinecolor": "white",
           "zerolinewidth": 2
          },
          "yaxis": {
           "automargin": true,
           "gridcolor": "white",
           "linecolor": "white",
           "ticks": "",
           "title": {
            "standoff": 15
           },
           "zerolinecolor": "white",
           "zerolinewidth": 2
          }
         }
        },
        "title": {
         "text": "Median mobility change from baseline over time<br><sup>The median mobility change from baseline was calculated over 30 countries</sup>"
        },
        "xaxis": {
         "anchor": "y",
         "domain": [
          0,
          1
         ],
         "title": {
          "text": "Date"
         }
        },
        "yaxis": {
         "anchor": "x",
         "domain": [
          0,
          1
         ],
         "title": {
          "text": "Median mobility change from baseline"
         }
        }
       }
      }
     },
     "metadata": {},
     "output_type": "display_data"
    }
   ],
   "source": [
    "df = px.data.stocks()\n",
    "fig = px.line(median_mobility_df, x='Date', y='Median mobility change from baseline', title='Median mobility change from baseline over time<br><sup>The median mobility change from baseline was calculated over 30 countries</sup>')\n",
    "fig.show()\n"
   ]
  },
  {
   "cell_type": "markdown",
   "metadata": {},
   "source": [
    "We can see that there is a sharp drop in mobility for all countries in the middle of march, exactly when there were all the lockdowns in europe mid march 2020. Then we can see the curve slowly increased until june, and then there is an above baseline moving mobility, meaning that people were going out more than usual. This can be because people had enough of staying inside and had been deprived of social events for months, so they felt the need to go out more and be more social. This can also be due to it being summer, where people natrually go out more and are more social.\n"
   ]
  },
  {
   "attachments": {},
   "cell_type": "markdown",
   "metadata": {},
   "source": [
    "### Mobility and death and pageviews\n",
    "\n",
    "Now let's analyse the changes in mobility over the 6 month period with respect to covid deaths and pageviews, to see how these are related. We also introduce the Trust dataset which contains information on how much each country trusts their goverment, in a percentage. To visualize this we create a bubble scatter plot.\n"
   ]
  },
  {
   "cell_type": "markdown",
   "metadata": {},
   "source": [
    "Load Pageviews, Death and Trust"
   ]
  },
  {
   "cell_type": "code",
   "execution_count": 12,
   "metadata": {},
   "outputs": [],
   "source": [
    "# Load and preprocess pageviews and deaths \n",
    "pageview_df = pd.read_csv(\"page_views_covid_related.csv.gz\")\n",
    "population_df = pd.read_csv(\"Population_countries.csv\")\n",
    "\n",
    "_,_, df_pageviews100k,_ = get_pageviews_df(pageview_df, population_df, get_country_dict('trust gov mobility'), '2020-01-22', '2020-11-22')\n",
    "_, _, _, _, deaths100k, _, _,_ = get_cases_deaths_df(population_df, get_country_dict('trust gov mobility'), '2020-01-22', '2020-11-22')\n",
    "\n",
    "\n",
    "\n",
    "# Transpose datagrames and rename columns\n",
    "df_pageviews100k = df_pageviews100k.transpose().stack().to_frame().reset_index().rename(columns={\"level_0\": \"country\", \"date\": \"date\", 0:\"pageviews per 100k\"}, errors=\"raise\")\n",
    "deaths100k = deaths100k.transpose().stack().to_frame().reset_index().rename(columns={\"level_0\": \"country\", \"date\": \"date\", 0:\"deaths per 100k\"}, errors=\"raise\")\n",
    "\n",
    "# Merge pageviews and deaths onto df_animation which will contain columns : ['Month-Year','Country',\t'Cumulative pageviews per 100k','Cumulative deaths per 100k','Mobility change from baseline','Trust']\n",
    "df_animation = df_pageviews100k.merge(deaths100k, on=['country','date'])\n",
    "df_animation['date'] = pd.to_datetime(df_animation['date'])\n",
    "df_animation=df_animation.rename(columns={\"country\": \"Country\"})"
   ]
  },
  {
   "cell_type": "code",
   "execution_count": 6,
   "metadata": {},
   "outputs": [
    {
     "data": {
      "text/html": [
       "<div>\n",
       "<style scoped>\n",
       "    .dataframe tbody tr th:only-of-type {\n",
       "        vertical-align: middle;\n",
       "    }\n",
       "\n",
       "    .dataframe tbody tr th {\n",
       "        vertical-align: top;\n",
       "    }\n",
       "\n",
       "    .dataframe thead th {\n",
       "        text-align: right;\n",
       "    }\n",
       "</style>\n",
       "<table border=\"1\" class=\"dataframe\">\n",
       "  <thead>\n",
       "    <tr style=\"text-align: right;\">\n",
       "      <th></th>\n",
       "      <th>Country</th>\n",
       "      <th>date</th>\n",
       "      <th>pageviews per 100k</th>\n",
       "      <th>deaths per 100k</th>\n",
       "      <th>Trust</th>\n",
       "    </tr>\n",
       "  </thead>\n",
       "  <tbody>\n",
       "    <tr>\n",
       "      <th>0</th>\n",
       "      <td>it</td>\n",
       "      <td>2020-01-22</td>\n",
       "      <td>40.388883</td>\n",
       "      <td>0.0</td>\n",
       "      <td>52.3</td>\n",
       "    </tr>\n",
       "    <tr>\n",
       "      <th>1</th>\n",
       "      <td>it</td>\n",
       "      <td>2020-01-23</td>\n",
       "      <td>46.878422</td>\n",
       "      <td>0.0</td>\n",
       "      <td>52.3</td>\n",
       "    </tr>\n",
       "    <tr>\n",
       "      <th>2</th>\n",
       "      <td>it</td>\n",
       "      <td>2020-01-24</td>\n",
       "      <td>38.747154</td>\n",
       "      <td>0.0</td>\n",
       "      <td>52.3</td>\n",
       "    </tr>\n",
       "    <tr>\n",
       "      <th>3</th>\n",
       "      <td>it</td>\n",
       "      <td>2020-01-25</td>\n",
       "      <td>54.543748</td>\n",
       "      <td>0.0</td>\n",
       "      <td>52.3</td>\n",
       "    </tr>\n",
       "    <tr>\n",
       "      <th>4</th>\n",
       "      <td>it</td>\n",
       "      <td>2020-01-26</td>\n",
       "      <td>55.928115</td>\n",
       "      <td>0.0</td>\n",
       "      <td>52.3</td>\n",
       "    </tr>\n",
       "  </tbody>\n",
       "</table>\n",
       "</div>"
      ],
      "text/plain": [
       "  Country       date  pageviews per 100k  deaths per 100k  Trust\n",
       "0      it 2020-01-22           40.388883              0.0   52.3\n",
       "1      it 2020-01-23           46.878422              0.0   52.3\n",
       "2      it 2020-01-24           38.747154              0.0   52.3\n",
       "3      it 2020-01-25           54.543748              0.0   52.3\n",
       "4      it 2020-01-26           55.928115              0.0   52.3"
      ]
     },
     "execution_count": 6,
     "metadata": {},
     "output_type": "execute_result"
    }
   ],
   "source": [
    "# Dowload and preprocess trust dataset\n",
    "data_folder = 'data_2/'\n",
    "df_trust_gov = pd.read_csv(data_folder+'share-who-trust-government.csv.zip') \n",
    "df_trust_gov = df_trust_gov.set_index(\"Entity\")[[\"Trust the national government in this country\"]].transpose()[COUNTRY_OWN_LANG_TRUST_GOV.keys()].rename(columns= COUNTRY_OWN_LANG_TRUST_GOV)\n",
    "country_dict = get_country_dict('trust gov mobility')\n",
    "\n",
    "# # Map the trust category to the countries in df_animation\n",
    "trust_dict =df_trust_gov.to_dict('index')\n",
    "df_animation['Trust'] = df_animation['Country'].map(trust_dict['Trust the national government in this country'])\n",
    "df_animation.head()"
   ]
  },
  {
   "cell_type": "code",
   "execution_count": 7,
   "metadata": {},
   "outputs": [
    {
     "data": {
      "text/html": [
       "<div>\n",
       "<style scoped>\n",
       "    .dataframe tbody tr th:only-of-type {\n",
       "        vertical-align: middle;\n",
       "    }\n",
       "\n",
       "    .dataframe tbody tr th {\n",
       "        vertical-align: top;\n",
       "    }\n",
       "\n",
       "    .dataframe thead th {\n",
       "        text-align: right;\n",
       "    }\n",
       "</style>\n",
       "<table border=\"1\" class=\"dataframe\">\n",
       "  <thead>\n",
       "    <tr style=\"text-align: right;\">\n",
       "      <th></th>\n",
       "      <th>Month-Year</th>\n",
       "      <th>Country</th>\n",
       "      <th>Cumulative pageviews per 100k</th>\n",
       "      <th>Cumulative deaths per 100k</th>\n",
       "      <th>Mobility change from baseline</th>\n",
       "      <th>Trust</th>\n",
       "    </tr>\n",
       "  </thead>\n",
       "  <tbody>\n",
       "    <tr>\n",
       "      <th>0</th>\n",
       "      <td>2020-02</td>\n",
       "      <td>Bangladesh</td>\n",
       "      <td>0.556806</td>\n",
       "      <td>0.0</td>\n",
       "      <td>5.250000</td>\n",
       "      <td>0.830</td>\n",
       "    </tr>\n",
       "    <tr>\n",
       "      <th>15</th>\n",
       "      <td>2020-02</td>\n",
       "      <td>Bulgaria</td>\n",
       "      <td>161.407208</td>\n",
       "      <td>0.0</td>\n",
       "      <td>5.097669</td>\n",
       "      <td>0.404</td>\n",
       "    </tr>\n",
       "    <tr>\n",
       "      <th>30</th>\n",
       "      <td>2020-02</td>\n",
       "      <td>Croatia</td>\n",
       "      <td>171.629180</td>\n",
       "      <td>0.0</td>\n",
       "      <td>8.503883</td>\n",
       "      <td>0.420</td>\n",
       "    </tr>\n",
       "    <tr>\n",
       "      <th>45</th>\n",
       "      <td>2020-02</td>\n",
       "      <td>Czechia</td>\n",
       "      <td>1925.544347</td>\n",
       "      <td>0.0</td>\n",
       "      <td>6.410000</td>\n",
       "      <td>0.458</td>\n",
       "    </tr>\n",
       "    <tr>\n",
       "      <th>60</th>\n",
       "      <td>2020-02</td>\n",
       "      <td>Denmark</td>\n",
       "      <td>275.594008</td>\n",
       "      <td>0.0</td>\n",
       "      <td>-1.578199</td>\n",
       "      <td>0.793</td>\n",
       "    </tr>\n",
       "  </tbody>\n",
       "</table>\n",
       "</div>"
      ],
      "text/plain": [
       "   Month-Year     Country  Cumulative pageviews per 100k  \\\n",
       "0     2020-02  Bangladesh                       0.556806   \n",
       "15    2020-02    Bulgaria                     161.407208   \n",
       "30    2020-02     Croatia                     171.629180   \n",
       "45    2020-02     Czechia                    1925.544347   \n",
       "60    2020-02     Denmark                     275.594008   \n",
       "\n",
       "    Cumulative deaths per 100k  Mobility change from baseline  Trust  \n",
       "0                          0.0                       5.250000  0.830  \n",
       "15                         0.0                       5.097669  0.404  \n",
       "30                         0.0                       8.503883  0.420  \n",
       "45                         0.0                       6.410000  0.458  \n",
       "60                         0.0                      -1.578199  0.793  "
      ]
     },
     "execution_count": 7,
     "metadata": {},
     "output_type": "execute_result"
    }
   ],
   "source": [
    "#Function\n",
    "def f(x):\n",
    "    d = {}\n",
    "    d['Cumulative pageviews per 100k'] = x['pageviews per 100k'].sum()\n",
    "    d['Cumulative deaths per 100k'] = x['deaths per 100k'].sum()\n",
    "    d[\"Mobility change from baseline\"] = x['moving category'].mean()\n",
    "\n",
    "\n",
    "    return pd.Series(d, index=['Cumulative pageviews per 100k','Cumulative deaths per 100k', \"Mobility change from baseline\"])\n",
    "    \n",
    "# Add mobility to df_animation\n",
    "# merge dataframe with the mobility dataset\n",
    "df_animation = df_animation.merge(moving_mobility_df, left_on=['Country','date'],  right_on=['country_region','date'])\n",
    "df_animation = df_animation.drop(columns=['country_region','country_region_code'])\n",
    "df_animation['date']=df_animation['date'].astype(str)\n",
    "\n",
    "# Rename the date to make it clearer\n",
    "df_animation['Month-Year'] = pd.to_datetime(df_animation['date']).dt.to_period('M') \n",
    "df_animation['Month-Year']=df_animation['Month-Year'].astype(str)\n",
    "\n",
    "# Rename the country codes to country anmes\n",
    "inv_map = {v: k for k, v in get_country_dict('trust gov mobility').items()}\n",
    "df_animation['Country'] = df_animation['Country'].map(inv_map)\n",
    "\n",
    "# Apply funciton in helper to apply aggregate functions \n",
    "grouped_df = df_animation.groupby(['Month-Year','Country']).apply(f)\n",
    "grouped_df = grouped_df.reset_index()\n",
    "grouped_df =grouped_df.merge(df_animation[['Country','Month-Year','Trust']], how='left', on=['Month-Year','Country']).drop_duplicates()\n",
    "\n",
    "# Change trust to value between 0 and 1\n",
    "grouped_df[\"Trust\"] = grouped_df[\"Trust\"]/100\n",
    "\n",
    "df = grouped_df.round(decimals=3) # Round dataset values to 3 decimal places\n",
    "\n",
    "grouped_df.head()"
   ]
  },
  {
   "cell_type": "markdown",
   "metadata": {},
   "source": [
    "Let's plot the bubble scatter plot:"
   ]
  },
  {
   "cell_type": "code",
   "execution_count": 8,
   "metadata": {},
   "outputs": [
    {
     "data": {
      "application/vnd.plotly.v1+json": {
       "config": {
        "plotlyServerURL": "https://plot.ly"
       },
       "data": [
        {
         "hovertemplate": "<b>%{hovertext}</b><br><br>Month-Year=2020-02<br>Mobility change from baseline=%{x}<br>Cumulative deaths per 100k=%{y}<br>Cumulative pageviews per 100k=%{marker.size}<br>Trust=%{marker.color}<extra></extra>",
         "hovertext": [
          "Bangladesh",
          "Bulgaria",
          "Croatia",
          "Czechia",
          "Denmark",
          "Finland",
          "Georgia",
          "Germany",
          "Greece",
          "Hungary",
          "Israel",
          "Italy",
          "Japan",
          "Kazakhstan",
          "Kyrgyzstan",
          "Lithuania",
          "Malaysia",
          "Mongolia",
          "Netherlands",
          "Norway",
          "Poland",
          "Romania",
          "Russia",
          "Serbia",
          "Slovakia",
          "Slovenia",
          "South Korea",
          "Sweden",
          "Thailand",
          "Turkey"
         ],
         "ids": [
          "Bangladesh",
          "Bulgaria",
          "Croatia",
          "Czechia",
          "Denmark",
          "Finland",
          "Georgia",
          "Germany",
          "Greece",
          "Hungary",
          "Israel",
          "Italy",
          "Japan",
          "Kazakhstan",
          "Kyrgyzstan",
          "Lithuania",
          "Malaysia",
          "Mongolia",
          "Netherlands",
          "Norway",
          "Poland",
          "Romania",
          "Russia",
          "Serbia",
          "Slovakia",
          "Slovenia",
          "South Korea",
          "Sweden",
          "Thailand",
          "Turkey"
         ],
         "legendgroup": "",
         "marker": {
          "color": [
           0.83,
           0.404,
           0.42,
           0.458,
           0.793,
           0.807,
           0.576,
           0.82,
           0.407,
           0.486,
           0.511,
           0.523,
           0.495,
           0.722,
           0.576,
           0.551,
           0.576,
           0.548,
           0.785,
           0.943,
           0.336,
           0.243,
           0.47,
           0.57,
           0.535,
           0.481,
           0.528,
           0.647,
           0.556,
           0.549
          ],
          "coloraxis": "coloraxis",
          "size": [
           0.557,
           161.407,
           171.629,
           1925.544,
           275.594,
           786.503,
           57.163,
           1699.498,
           175.066,
           293.616,
           688.283,
           1299.66,
           753.073,
           29.335,
           1.482,
           329.244,
           38.964,
           11.927,
           737.167,
           362.061,
           840.688,
           223.528,
           880.531,
           39.077,
           385.174,
           415.712,
           172.669,
           159.174,
           52.298,
           63.172
          ],
          "sizemode": "area",
          "sizeref": 3.0717787499999996,
          "symbol": "circle"
         },
         "mode": "markers",
         "name": "",
         "orientation": "v",
         "showlegend": false,
         "type": "scatter",
         "x": [
          5.25,
          5.098,
          8.504,
          6.41,
          -1.578,
          5.079,
          4.208,
          1.636,
          6.431,
          9.621,
          6.939,
          1.795,
          -1.063,
          3.183,
          2.417,
          2.346,
          -1.264,
          -23.101,
          -2.531,
          1.138,
          4.281,
          5.016,
          3.636,
          7.967,
          6.621,
          1.121,
          -11.533,
          -0.028,
          -3.55,
          2.385
         ],
         "xaxis": "x",
         "y": [
          0,
          0,
          0,
          0,
          0,
          0,
          0,
          0,
          0,
          0,
          0,
          0.049,
          0.004,
          0,
          0,
          0,
          0,
          0,
          0,
          0,
          0,
          0,
          0,
          0,
          0,
          0,
          0.031,
          0,
          0,
          0
         ],
         "yaxis": "y"
        }
       ],
       "frames": [
        {
         "data": [
          {
           "hovertemplate": "<b>%{hovertext}</b><br><br>Month-Year=2020-02<br>Mobility change from baseline=%{x}<br>Cumulative deaths per 100k=%{y}<br>Cumulative pageviews per 100k=%{marker.size}<br>Trust=%{marker.color}<extra></extra>",
           "hovertext": [
            "Bangladesh",
            "Bulgaria",
            "Croatia",
            "Czechia",
            "Denmark",
            "Finland",
            "Georgia",
            "Germany",
            "Greece",
            "Hungary",
            "Israel",
            "Italy",
            "Japan",
            "Kazakhstan",
            "Kyrgyzstan",
            "Lithuania",
            "Malaysia",
            "Mongolia",
            "Netherlands",
            "Norway",
            "Poland",
            "Romania",
            "Russia",
            "Serbia",
            "Slovakia",
            "Slovenia",
            "South Korea",
            "Sweden",
            "Thailand",
            "Turkey"
           ],
           "ids": [
            "Bangladesh",
            "Bulgaria",
            "Croatia",
            "Czechia",
            "Denmark",
            "Finland",
            "Georgia",
            "Germany",
            "Greece",
            "Hungary",
            "Israel",
            "Italy",
            "Japan",
            "Kazakhstan",
            "Kyrgyzstan",
            "Lithuania",
            "Malaysia",
            "Mongolia",
            "Netherlands",
            "Norway",
            "Poland",
            "Romania",
            "Russia",
            "Serbia",
            "Slovakia",
            "Slovenia",
            "South Korea",
            "Sweden",
            "Thailand",
            "Turkey"
           ],
           "legendgroup": "",
           "marker": {
            "color": [
             0.83,
             0.404,
             0.42,
             0.458,
             0.793,
             0.807,
             0.576,
             0.82,
             0.407,
             0.486,
             0.511,
             0.523,
             0.495,
             0.722,
             0.576,
             0.551,
             0.576,
             0.548,
             0.785,
             0.943,
             0.336,
             0.243,
             0.47,
             0.57,
             0.535,
             0.481,
             0.528,
             0.647,
             0.556,
             0.549
            ],
            "coloraxis": "coloraxis",
            "size": [
             0.557,
             161.407,
             171.629,
             1925.544,
             275.594,
             786.503,
             57.163,
             1699.498,
             175.066,
             293.616,
             688.283,
             1299.66,
             753.073,
             29.335,
             1.482,
             329.244,
             38.964,
             11.927,
             737.167,
             362.061,
             840.688,
             223.528,
             880.531,
             39.077,
             385.174,
             415.712,
             172.669,
             159.174,
             52.298,
             63.172
            ],
            "sizemode": "area",
            "sizeref": 3.0717787499999996,
            "symbol": "circle"
           },
           "mode": "markers",
           "name": "",
           "orientation": "v",
           "showlegend": false,
           "type": "scatter",
           "x": [
            5.25,
            5.098,
            8.504,
            6.41,
            -1.578,
            5.079,
            4.208,
            1.636,
            6.431,
            9.621,
            6.939,
            1.795,
            -1.063,
            3.183,
            2.417,
            2.346,
            -1.264,
            -23.101,
            -2.531,
            1.138,
            4.281,
            5.016,
            3.636,
            7.967,
            6.621,
            1.121,
            -11.533,
            -0.028,
            -3.55,
            2.385
           ],
           "xaxis": "x",
           "y": [
            0,
            0,
            0,
            0,
            0,
            0,
            0,
            0,
            0,
            0,
            0,
            0.049,
            0.004,
            0,
            0,
            0,
            0,
            0,
            0,
            0,
            0,
            0,
            0,
            0,
            0,
            0,
            0.031,
            0,
            0,
            0
           ],
           "yaxis": "y"
          }
         ],
         "name": "2020-02"
        },
        {
         "data": [
          {
           "hovertemplate": "<b>%{hovertext}</b><br><br>Month-Year=2020-03<br>Mobility change from baseline=%{x}<br>Cumulative deaths per 100k=%{y}<br>Cumulative pageviews per 100k=%{marker.size}<br>Trust=%{marker.color}<extra></extra>",
           "hovertext": [
            "Bangladesh",
            "Bulgaria",
            "Croatia",
            "Czechia",
            "Denmark",
            "Finland",
            "Georgia",
            "Germany",
            "Greece",
            "Hungary",
            "Israel",
            "Italy",
            "Japan",
            "Kazakhstan",
            "Kyrgyzstan",
            "Lithuania",
            "Malaysia",
            "Mongolia",
            "Netherlands",
            "Norway",
            "Poland",
            "Romania",
            "Russia",
            "Serbia",
            "Slovakia",
            "Slovenia",
            "South Korea",
            "Sweden",
            "Thailand",
            "Turkey"
           ],
           "ids": [
            "Bangladesh",
            "Bulgaria",
            "Croatia",
            "Czechia",
            "Denmark",
            "Finland",
            "Georgia",
            "Germany",
            "Greece",
            "Hungary",
            "Israel",
            "Italy",
            "Japan",
            "Kazakhstan",
            "Kyrgyzstan",
            "Lithuania",
            "Malaysia",
            "Mongolia",
            "Netherlands",
            "Norway",
            "Poland",
            "Romania",
            "Russia",
            "Serbia",
            "Slovakia",
            "Slovenia",
            "South Korea",
            "Sweden",
            "Thailand",
            "Turkey"
           ],
           "legendgroup": "",
           "marker": {
            "color": [
             0.83,
             0.404,
             0.42,
             0.458,
             0.793,
             0.807,
             0.576,
             0.82,
             0.407,
             0.486,
             0.511,
             0.523,
             0.495,
             0.722,
             0.576,
             0.551,
             0.576,
             0.548,
             0.785,
             0.943,
             0.336,
             0.243,
             0.47,
             0.57,
             0.535,
             0.481,
             0.528,
             0.647,
             0.556,
             0.549
            ],
            "coloraxis": "coloraxis",
            "size": [
             52.224,
             1514.447,
             2508.845,
             19659.384,
             1691.257,
             6859.012,
             374.538,
             15440.83,
             3430.971,
             2465.05,
             8381.895,
             8127.351,
             2689.846,
             82.093,
             8.188,
             3120.379,
             695.971,
             21.505,
             7775.839,
             1931.861,
             6350.641,
             4871.51,
             7778.023,
             707.843,
             3159.671,
             1857.051,
             1157.065,
             1199.611,
             153.883,
             1069.083
            ],
            "sizemode": "area",
            "sizeref": 3.0717787499999996,
            "symbol": "circle"
           },
           "mode": "markers",
           "name": "",
           "orientation": "v",
           "showlegend": false,
           "type": "scatter",
           "x": [
            -12.573,
            -23.541,
            -24.078,
            -22.053,
            -12.114,
            -10.597,
            -25.46,
            -15.427,
            -29.296,
            -13.076,
            -28.382,
            -54.765,
            -5.357,
            -6.806,
            -13.199,
            -13.477,
            -30.206,
            -19.54,
            -17.776,
            -19.277,
            -22.899,
            -23.155,
            -1.808,
            -27.367,
            -30.608,
            -34.441,
            -6.746,
            -7.253,
            -19.79,
            -15.24
           ],
           "xaxis": "x",
           "y": [
            0.003,
            0.115,
            0.148,
            0.29,
            1.543,
            0.922,
            0,
            0.701,
            0.355,
            0.164,
            0.228,
            20.856,
            0.048,
            0.011,
            0,
            0.143,
            0.148,
            0,
            5.957,
            0.725,
            0.087,
            0.426,
            0.012,
            0.283,
            0,
            0.713,
            0.282,
            3.719,
            0.014,
            0.254
           ],
           "yaxis": "y"
          }
         ],
         "name": "2020-03"
        },
        {
         "data": [
          {
           "hovertemplate": "<b>%{hovertext}</b><br><br>Month-Year=2020-04<br>Mobility change from baseline=%{x}<br>Cumulative deaths per 100k=%{y}<br>Cumulative pageviews per 100k=%{marker.size}<br>Trust=%{marker.color}<extra></extra>",
           "hovertext": [
            "Bangladesh",
            "Bulgaria",
            "Croatia",
            "Czechia",
            "Denmark",
            "Finland",
            "Georgia",
            "Germany",
            "Greece",
            "Hungary",
            "Israel",
            "Italy",
            "Japan",
            "Kazakhstan",
            "Kyrgyzstan",
            "Lithuania",
            "Malaysia",
            "Mongolia",
            "Netherlands",
            "Norway",
            "Poland",
            "Romania",
            "Russia",
            "Serbia",
            "Slovakia",
            "Slovenia",
            "South Korea",
            "Sweden",
            "Thailand",
            "Turkey"
           ],
           "ids": [
            "Bangladesh",
            "Bulgaria",
            "Croatia",
            "Czechia",
            "Denmark",
            "Finland",
            "Georgia",
            "Germany",
            "Greece",
            "Hungary",
            "Israel",
            "Italy",
            "Japan",
            "Kazakhstan",
            "Kyrgyzstan",
            "Lithuania",
            "Malaysia",
            "Mongolia",
            "Netherlands",
            "Norway",
            "Poland",
            "Romania",
            "Russia",
            "Serbia",
            "Slovakia",
            "Slovenia",
            "South Korea",
            "Sweden",
            "Thailand",
            "Turkey"
           ],
           "legendgroup": "",
           "marker": {
            "color": [
             0.83,
             0.404,
             0.42,
             0.458,
             0.793,
             0.807,
             0.576,
             0.82,
             0.407,
             0.486,
             0.511,
             0.523,
             0.495,
             0.722,
             0.576,
             0.551,
             0.576,
             0.548,
             0.785,
             0.943,
             0.336,
             0.243,
             0.47,
             0.57,
             0.535,
             0.481,
             0.528,
             0.647,
             0.556,
             0.549
            ],
            "coloraxis": "coloraxis",
            "size": [
             150.432,
             1641.372,
             1497.945,
             5283.927,
             724.302,
             2554.443,
             281.891,
             8407.027,
             2582.95,
             3191.1,
             5950.798,
             4760.956,
             2835.791,
             84.097,
             2.188,
             1606.506,
             469.317,
             19.339,
             4445.673,
             1129.348,
             2777.857,
             2211.24,
             4857.039,
             555.36,
             1151.786,
             960.56,
             684.969,
             1527.917,
             93.312,
             955.8
            ],
            "sizemode": "area",
            "sizeref": 3.0717787499999996,
            "symbol": "circle"
           },
           "mode": "markers",
           "name": "",
           "orientation": "v",
           "showlegend": false,
           "type": "scatter",
           "x": [
            -57.917,
            -40.999,
            -44.948,
            -27.992,
            -6.442,
            -22.323,
            -62.971,
            -24.091,
            -54.484,
            -27.798,
            -59.791,
            -74.295,
            -19.4,
            -46.75,
            -50.742,
            -25.192,
            -68.053,
            -4.804,
            -27.425,
            -14.887,
            -41.856,
            -51.999,
            -46.457,
            -64.975,
            -39.388,
            -51.052,
            2.533,
            -6.076,
            -46.017,
            -54.592
           ],
           "xaxis": "x",
           "y": [
            0.099,
            0.836,
            1.556,
            1.916,
            6.208,
            3.707,
            0.161,
            6.86,
            0.953,
            3.036,
            2.214,
            26.138,
            0.328,
            0.123,
            0.122,
            1.002,
            0.17,
            0,
            21.609,
            3.179,
            1.612,
            3.297,
            0.733,
            2.363,
            0.421,
            3.615,
            0.166,
            23.973,
            0.063,
            3.51
           ],
           "yaxis": "y"
          }
         ],
         "name": "2020-04"
        },
        {
         "data": [
          {
           "hovertemplate": "<b>%{hovertext}</b><br><br>Month-Year=2020-05<br>Mobility change from baseline=%{x}<br>Cumulative deaths per 100k=%{y}<br>Cumulative pageviews per 100k=%{marker.size}<br>Trust=%{marker.color}<extra></extra>",
           "hovertext": [
            "Bangladesh",
            "Bulgaria",
            "Croatia",
            "Czechia",
            "Denmark",
            "Finland",
            "Georgia",
            "Germany",
            "Greece",
            "Hungary",
            "Israel",
            "Italy",
            "Japan",
            "Kazakhstan",
            "Kyrgyzstan",
            "Lithuania",
            "Malaysia",
            "Mongolia",
            "Netherlands",
            "Norway",
            "Poland",
            "Romania",
            "Russia",
            "Serbia",
            "Slovakia",
            "Slovenia",
            "South Korea",
            "Sweden",
            "Thailand",
            "Turkey"
           ],
           "ids": [
            "Bangladesh",
            "Bulgaria",
            "Croatia",
            "Czechia",
            "Denmark",
            "Finland",
            "Georgia",
            "Germany",
            "Greece",
            "Hungary",
            "Israel",
            "Italy",
            "Japan",
            "Kazakhstan",
            "Kyrgyzstan",
            "Lithuania",
            "Malaysia",
            "Mongolia",
            "Netherlands",
            "Norway",
            "Poland",
            "Romania",
            "Russia",
            "Serbia",
            "Slovakia",
            "Slovenia",
            "South Korea",
            "Sweden",
            "Thailand",
            "Turkey"
           ],
           "legendgroup": "",
           "marker": {
            "color": [
             0.83,
             0.404,
             0.42,
             0.458,
             0.793,
             0.807,
             0.576,
             0.82,
             0.407,
             0.486,
             0.511,
             0.523,
             0.495,
             0.722,
             0.576,
             0.551,
             0.576,
             0.548,
             0.785,
             0.943,
             0.336,
             0.243,
             0.47,
             0.57,
             0.535,
             0.481,
             0.528,
             0.647,
             0.556,
             0.549
            ],
            "coloraxis": "coloraxis",
            "size": [
             85.683,
             1052.421,
             590.659,
             1588.468,
             340.57,
             1184.456,
             105.622,
             4505.679,
             983.584,
             1467.701,
             2867.836,
             2323.906,
             1598.984,
             21.721,
             12.736,
             476.37,
             265.767,
             13.178,
             2007.826,
             526.892,
             1340.603,
             719.833,
             1733.831,
             171.138,
             454.328,
             478.734,
             398.621,
             882.508,
             77.258,
             410.09
            ],
            "sizemode": "area",
            "sizeref": 3.0717787499999996,
            "symbol": "circle"
           },
           "mode": "markers",
           "name": "",
           "orientation": "v",
           "showlegend": false,
           "type": "scatter",
           "x": [
            -46.113,
            -13.817,
            -14.437,
            -14.603,
            9.14,
            -7.106,
            -50.181,
            -6.472,
            -10.176,
            -5.586,
            -20.508,
            -38.848,
            -22.527,
            -18.024,
            -26.819,
            1.244,
            -50.378,
            11.952,
            -9.625,
            1.916,
            -13.851,
            -31.3,
            -27.042,
            -32.403,
            -21.327,
            -20.817,
            7.456,
            4.62,
            -34.081,
            -46.12
           ],
           "xaxis": "x",
           "y": [
            0.293,
            1.067,
            0.84,
            0.827,
            2.281,
            0.886,
            0.161,
            2.66,
            0.327,
            2.195,
            0.673,
            9.164,
            0.33,
            0.085,
            0.122,
            0.787,
            0.037,
            0,
            6.668,
            0.483,
            1.108,
            2.851,
            2.513,
            0.754,
            0.092,
            0.809,
            0.044,
            17.472,
            0.004,
            1.62
           ],
           "yaxis": "y"
          }
         ],
         "name": "2020-05"
        },
        {
         "data": [
          {
           "hovertemplate": "<b>%{hovertext}</b><br><br>Month-Year=2020-06<br>Mobility change from baseline=%{x}<br>Cumulative deaths per 100k=%{y}<br>Cumulative pageviews per 100k=%{marker.size}<br>Trust=%{marker.color}<extra></extra>",
           "hovertext": [
            "Bangladesh",
            "Bulgaria",
            "Croatia",
            "Czechia",
            "Denmark",
            "Finland",
            "Germany",
            "Greece",
            "Hungary",
            "Israel",
            "Italy",
            "Japan",
            "Kazakhstan",
            "Kyrgyzstan",
            "Lithuania",
            "Malaysia",
            "Mongolia",
            "Netherlands",
            "Norway",
            "Poland",
            "Romania",
            "Russia",
            "Slovakia",
            "Slovenia",
            "South Korea",
            "Sweden",
            "Thailand",
            "Turkey"
           ],
           "ids": [
            "Bangladesh",
            "Bulgaria",
            "Croatia",
            "Czechia",
            "Denmark",
            "Finland",
            "Germany",
            "Greece",
            "Hungary",
            "Israel",
            "Italy",
            "Japan",
            "Kazakhstan",
            "Kyrgyzstan",
            "Lithuania",
            "Malaysia",
            "Mongolia",
            "Netherlands",
            "Norway",
            "Poland",
            "Romania",
            "Russia",
            "Slovakia",
            "Slovenia",
            "South Korea",
            "Sweden",
            "Thailand",
            "Turkey"
           ],
           "legendgroup": "",
           "marker": {
            "color": [
             0.83,
             0.404,
             0.42,
             0.458,
             0.793,
             0.807,
             0.82,
             0.407,
             0.486,
             0.511,
             0.523,
             0.495,
             0.722,
             0.576,
             0.551,
             0.576,
             0.548,
             0.785,
             0.943,
             0.336,
             0.243,
             0.47,
             0.535,
             0.481,
             0.528,
             0.647,
             0.556,
             0.549
            ],
            "coloraxis": "coloraxis",
            "size": [
             60.949,
             624.386,
             355.71,
             868.305,
             173.114,
             577.914,
             2600.071,
             522.468,
             855.474,
             1772.862,
             1086.592,
             828.335,
             12.7,
             8.48,
             202.763,
             240.512,
             5.613,
             1148.714,
             241.604,
             766.715,
             114.22,
             770.433,
             282.039,
             330.857,
             157.666,
             528.259,
             55.052,
             225.151
            ],
            "sizemode": "area",
            "sizeref": 3.0717787499999996,
            "symbol": "circle"
           },
           "mode": "markers",
           "name": "",
           "orientation": "v",
           "showlegend": false,
           "type": "scatter",
           "x": [
            -33.008,
            2.888,
            17.835,
            6.333,
            32.856,
            24.313,
            12.432,
            17.233,
            14.559,
            -6.167,
            -3.592,
            -10.611,
            -0.967,
            -5.824,
            27.93,
            -26.037,
            19.543,
            5.048,
            24.031,
            10.969,
            -9.851,
            -3.06,
            -0.203,
            -5.129,
            6.517,
            25.121,
            -22.217,
            -3.09
           ],
           "xaxis": "x",
           "y": [
            0.727,
            1.298,
            0.099,
            0.332,
            0.532,
            0.072,
            0.578,
            0.159,
            0.605,
            0.434,
            2.37,
            0.06,
            0.784,
            0.684,
            0.25,
            0.019,
            0,
            0.9,
            0.26,
            1.053,
            1.999,
            3.202,
            0,
            0.143,
            0.021,
            9.06,
            0.001,
            0.701
           ],
           "yaxis": "y"
          }
         ],
         "name": "2020-06"
        },
        {
         "data": [
          {
           "hovertemplate": "<b>%{hovertext}</b><br><br>Month-Year=2020-07<br>Mobility change from baseline=%{x}<br>Cumulative deaths per 100k=%{y}<br>Cumulative pageviews per 100k=%{marker.size}<br>Trust=%{marker.color}<extra></extra>",
           "hovertext": [
            "Bangladesh",
            "Bulgaria",
            "Croatia",
            "Czechia",
            "Denmark",
            "Finland",
            "Georgia",
            "Germany",
            "Greece",
            "Hungary",
            "Israel",
            "Italy",
            "Japan",
            "Kazakhstan",
            "Kyrgyzstan",
            "Lithuania",
            "Malaysia",
            "Mongolia",
            "Netherlands",
            "Norway",
            "Poland",
            "Romania",
            "Russia",
            "Serbia",
            "Slovakia",
            "Slovenia",
            "South Korea",
            "Sweden",
            "Thailand",
            "Turkey"
           ],
           "ids": [
            "Bangladesh",
            "Bulgaria",
            "Croatia",
            "Czechia",
            "Denmark",
            "Finland",
            "Georgia",
            "Germany",
            "Greece",
            "Hungary",
            "Israel",
            "Italy",
            "Japan",
            "Kazakhstan",
            "Kyrgyzstan",
            "Lithuania",
            "Malaysia",
            "Mongolia",
            "Netherlands",
            "Norway",
            "Poland",
            "Romania",
            "Russia",
            "Serbia",
            "Slovakia",
            "Slovenia",
            "South Korea",
            "Sweden",
            "Thailand",
            "Turkey"
           ],
           "legendgroup": "",
           "marker": {
            "color": [
             0.83,
             0.404,
             0.42,
             0.458,
             0.793,
             0.807,
             0.576,
             0.82,
             0.407,
             0.486,
             0.511,
             0.523,
             0.495,
             0.722,
             0.576,
             0.551,
             0.576,
             0.548,
             0.785,
             0.943,
             0.336,
             0.243,
             0.47,
             0.57,
             0.535,
             0.481,
             0.528,
             0.647,
             0.556,
             0.549
            ],
            "coloraxis": "coloraxis",
            "size": [
             32.125,
             433.991,
             336.86,
             1035.665,
             127.294,
             543.752,
             71.99,
             2204.705,
             387.522,
             799.834,
             1765.635,
             759.533,
             723.678,
             11.325,
             7.781,
             169.631,
             323.163,
             5.521,
             1064.799,
             176.504,
             576.033,
             100.039,
             540.493,
             216.578,
             167.014,
             337.468,
             45.489,
             416.547,
             76.898,
             162.782
            ],
            "sizemode": "area",
            "sizeref": 3.0717787499999996,
            "symbol": "circle"
           },
           "mode": "markers",
           "name": "",
           "orientation": "v",
           "showlegend": false,
           "type": "scatter",
           "x": [
            -22.129,
            11.051,
            53.172,
            34.455,
            45.576,
            31.535,
            -8.241,
            24.069,
            56.374,
            26.189,
            -10.426,
            21.437,
            -10.457,
            -12.452,
            -18.806,
            38.059,
            -13.904,
            17.286,
            14.115,
            21.478,
            26.401,
            -0.887,
            7.771,
            -10.754,
            21.94,
            -2.387,
            5.254,
            23.118,
            -14.581,
            9.285
           ],
           "xaxis": "x",
           "y": [
            0.768,
            2.207,
            0.939,
            0.374,
            0.171,
            0.054,
            0.054,
            0.202,
            0.131,
            0.113,
            2.572,
            0.629,
            0.031,
            3.226,
            20.016,
            0.072,
            0.012,
            0,
            0.407,
            0.093,
            0.668,
            3.593,
            3.216,
            4.145,
            0.018,
            0.381,
            0.037,
            3.96,
            0,
            0.664
           ],
           "yaxis": "y"
          }
         ],
         "name": "2020-07"
        }
       ],
       "layout": {
        "annotations": [
         {
          "showarrow": false,
          "text": "The x-axis shows the mean mobility change from baseline per month.",
          "x": 0,
          "xref": "paper",
          "y": 1.28,
          "yref": "paper"
         },
         {
          "showarrow": false,
          "text": "The y-axis shows the cumulative deaths per 100k per month.",
          "x": 0,
          "xref": "paper",
          "y": 1.22,
          "yref": "paper"
         },
         {
          "showarrow": false,
          "text": "The size of the bubble shows the cumulative pageviews per 100k per month ",
          "x": 0,
          "xref": "paper",
          "y": 1.16,
          "yref": "paper"
         },
         {
          "showarrow": false,
          "text": "The colour of the bubble corresponds to how much people trust their government.",
          "x": 0,
          "xref": "paper",
          "y": 1.1,
          "yref": "paper"
         }
        ],
        "coloraxis": {
         "colorbar": {
          "title": {
           "text": "Trust"
          }
         },
         "colorscale": [
          [
           0,
           "#0d0887"
          ],
          [
           0.1111111111111111,
           "#46039f"
          ],
          [
           0.2222222222222222,
           "#7201a8"
          ],
          [
           0.3333333333333333,
           "#9c179e"
          ],
          [
           0.4444444444444444,
           "#bd3786"
          ],
          [
           0.5555555555555556,
           "#d8576b"
          ],
          [
           0.6666666666666666,
           "#ed7953"
          ],
          [
           0.7777777777777778,
           "#fb9f3a"
          ],
          [
           0.8888888888888888,
           "#fdca26"
          ],
          [
           1,
           "#f0f921"
          ]
         ]
        },
        "height": 500,
        "legend": {
         "itemsizing": "constant",
         "tracegroupgap": 0
        },
        "margin": {
         "b": 10,
         "l": 40,
         "r": 10,
         "t": 125
        },
        "sliders": [
         {
          "active": 0,
          "currentvalue": {
           "prefix": "Month-Year="
          },
          "len": 0.9,
          "pad": {
           "b": 10,
           "t": 60
          },
          "steps": [
           {
            "args": [
             [
              "2020-02"
             ],
             {
              "frame": {
               "duration": 0,
               "redraw": false
              },
              "fromcurrent": true,
              "mode": "immediate",
              "transition": {
               "duration": 0,
               "easing": "linear"
              }
             }
            ],
            "label": "2020-02",
            "method": "animate"
           },
           {
            "args": [
             [
              "2020-03"
             ],
             {
              "frame": {
               "duration": 0,
               "redraw": false
              },
              "fromcurrent": true,
              "mode": "immediate",
              "transition": {
               "duration": 0,
               "easing": "linear"
              }
             }
            ],
            "label": "2020-03",
            "method": "animate"
           },
           {
            "args": [
             [
              "2020-04"
             ],
             {
              "frame": {
               "duration": 0,
               "redraw": false
              },
              "fromcurrent": true,
              "mode": "immediate",
              "transition": {
               "duration": 0,
               "easing": "linear"
              }
             }
            ],
            "label": "2020-04",
            "method": "animate"
           },
           {
            "args": [
             [
              "2020-05"
             ],
             {
              "frame": {
               "duration": 0,
               "redraw": false
              },
              "fromcurrent": true,
              "mode": "immediate",
              "transition": {
               "duration": 0,
               "easing": "linear"
              }
             }
            ],
            "label": "2020-05",
            "method": "animate"
           },
           {
            "args": [
             [
              "2020-06"
             ],
             {
              "frame": {
               "duration": 0,
               "redraw": false
              },
              "fromcurrent": true,
              "mode": "immediate",
              "transition": {
               "duration": 0,
               "easing": "linear"
              }
             }
            ],
            "label": "2020-06",
            "method": "animate"
           },
           {
            "args": [
             [
              "2020-07"
             ],
             {
              "frame": {
               "duration": 0,
               "redraw": false
              },
              "fromcurrent": true,
              "mode": "immediate",
              "transition": {
               "duration": 0,
               "easing": "linear"
              }
             }
            ],
            "label": "2020-07",
            "method": "animate"
           }
          ],
          "x": 0.1,
          "xanchor": "left",
          "y": 0,
          "yanchor": "top"
         }
        ],
        "template": {
         "data": {
          "bar": [
           {
            "error_x": {
             "color": "#f2f5fa"
            },
            "error_y": {
             "color": "#f2f5fa"
            },
            "marker": {
             "line": {
              "color": "rgb(17,17,17)",
              "width": 0.5
             },
             "pattern": {
              "fillmode": "overlay",
              "size": 10,
              "solidity": 0.2
             }
            },
            "type": "bar"
           }
          ],
          "barpolar": [
           {
            "marker": {
             "line": {
              "color": "rgb(17,17,17)",
              "width": 0.5
             },
             "pattern": {
              "fillmode": "overlay",
              "size": 10,
              "solidity": 0.2
             }
            },
            "type": "barpolar"
           }
          ],
          "carpet": [
           {
            "aaxis": {
             "endlinecolor": "#A2B1C6",
             "gridcolor": "#506784",
             "linecolor": "#506784",
             "minorgridcolor": "#506784",
             "startlinecolor": "#A2B1C6"
            },
            "baxis": {
             "endlinecolor": "#A2B1C6",
             "gridcolor": "#506784",
             "linecolor": "#506784",
             "minorgridcolor": "#506784",
             "startlinecolor": "#A2B1C6"
            },
            "type": "carpet"
           }
          ],
          "choropleth": [
           {
            "colorbar": {
             "outlinewidth": 0,
             "ticks": ""
            },
            "type": "choropleth"
           }
          ],
          "contour": [
           {
            "colorbar": {
             "outlinewidth": 0,
             "ticks": ""
            },
            "colorscale": [
             [
              0,
              "#0d0887"
             ],
             [
              0.1111111111111111,
              "#46039f"
             ],
             [
              0.2222222222222222,
              "#7201a8"
             ],
             [
              0.3333333333333333,
              "#9c179e"
             ],
             [
              0.4444444444444444,
              "#bd3786"
             ],
             [
              0.5555555555555556,
              "#d8576b"
             ],
             [
              0.6666666666666666,
              "#ed7953"
             ],
             [
              0.7777777777777778,
              "#fb9f3a"
             ],
             [
              0.8888888888888888,
              "#fdca26"
             ],
             [
              1,
              "#f0f921"
             ]
            ],
            "type": "contour"
           }
          ],
          "contourcarpet": [
           {
            "colorbar": {
             "outlinewidth": 0,
             "ticks": ""
            },
            "type": "contourcarpet"
           }
          ],
          "heatmap": [
           {
            "colorbar": {
             "outlinewidth": 0,
             "ticks": ""
            },
            "colorscale": [
             [
              0,
              "#0d0887"
             ],
             [
              0.1111111111111111,
              "#46039f"
             ],
             [
              0.2222222222222222,
              "#7201a8"
             ],
             [
              0.3333333333333333,
              "#9c179e"
             ],
             [
              0.4444444444444444,
              "#bd3786"
             ],
             [
              0.5555555555555556,
              "#d8576b"
             ],
             [
              0.6666666666666666,
              "#ed7953"
             ],
             [
              0.7777777777777778,
              "#fb9f3a"
             ],
             [
              0.8888888888888888,
              "#fdca26"
             ],
             [
              1,
              "#f0f921"
             ]
            ],
            "type": "heatmap"
           }
          ],
          "heatmapgl": [
           {
            "colorbar": {
             "outlinewidth": 0,
             "ticks": ""
            },
            "colorscale": [
             [
              0,
              "#0d0887"
             ],
             [
              0.1111111111111111,
              "#46039f"
             ],
             [
              0.2222222222222222,
              "#7201a8"
             ],
             [
              0.3333333333333333,
              "#9c179e"
             ],
             [
              0.4444444444444444,
              "#bd3786"
             ],
             [
              0.5555555555555556,
              "#d8576b"
             ],
             [
              0.6666666666666666,
              "#ed7953"
             ],
             [
              0.7777777777777778,
              "#fb9f3a"
             ],
             [
              0.8888888888888888,
              "#fdca26"
             ],
             [
              1,
              "#f0f921"
             ]
            ],
            "type": "heatmapgl"
           }
          ],
          "histogram": [
           {
            "marker": {
             "pattern": {
              "fillmode": "overlay",
              "size": 10,
              "solidity": 0.2
             }
            },
            "type": "histogram"
           }
          ],
          "histogram2d": [
           {
            "colorbar": {
             "outlinewidth": 0,
             "ticks": ""
            },
            "colorscale": [
             [
              0,
              "#0d0887"
             ],
             [
              0.1111111111111111,
              "#46039f"
             ],
             [
              0.2222222222222222,
              "#7201a8"
             ],
             [
              0.3333333333333333,
              "#9c179e"
             ],
             [
              0.4444444444444444,
              "#bd3786"
             ],
             [
              0.5555555555555556,
              "#d8576b"
             ],
             [
              0.6666666666666666,
              "#ed7953"
             ],
             [
              0.7777777777777778,
              "#fb9f3a"
             ],
             [
              0.8888888888888888,
              "#fdca26"
             ],
             [
              1,
              "#f0f921"
             ]
            ],
            "type": "histogram2d"
           }
          ],
          "histogram2dcontour": [
           {
            "colorbar": {
             "outlinewidth": 0,
             "ticks": ""
            },
            "colorscale": [
             [
              0,
              "#0d0887"
             ],
             [
              0.1111111111111111,
              "#46039f"
             ],
             [
              0.2222222222222222,
              "#7201a8"
             ],
             [
              0.3333333333333333,
              "#9c179e"
             ],
             [
              0.4444444444444444,
              "#bd3786"
             ],
             [
              0.5555555555555556,
              "#d8576b"
             ],
             [
              0.6666666666666666,
              "#ed7953"
             ],
             [
              0.7777777777777778,
              "#fb9f3a"
             ],
             [
              0.8888888888888888,
              "#fdca26"
             ],
             [
              1,
              "#f0f921"
             ]
            ],
            "type": "histogram2dcontour"
           }
          ],
          "mesh3d": [
           {
            "colorbar": {
             "outlinewidth": 0,
             "ticks": ""
            },
            "type": "mesh3d"
           }
          ],
          "parcoords": [
           {
            "line": {
             "colorbar": {
              "outlinewidth": 0,
              "ticks": ""
             }
            },
            "type": "parcoords"
           }
          ],
          "pie": [
           {
            "automargin": true,
            "type": "pie"
           }
          ],
          "scatter": [
           {
            "marker": {
             "line": {
              "color": "#283442"
             }
            },
            "type": "scatter"
           }
          ],
          "scatter3d": [
           {
            "line": {
             "colorbar": {
              "outlinewidth": 0,
              "ticks": ""
             }
            },
            "marker": {
             "colorbar": {
              "outlinewidth": 0,
              "ticks": ""
             }
            },
            "type": "scatter3d"
           }
          ],
          "scattercarpet": [
           {
            "marker": {
             "colorbar": {
              "outlinewidth": 0,
              "ticks": ""
             }
            },
            "type": "scattercarpet"
           }
          ],
          "scattergeo": [
           {
            "marker": {
             "colorbar": {
              "outlinewidth": 0,
              "ticks": ""
             }
            },
            "type": "scattergeo"
           }
          ],
          "scattergl": [
           {
            "marker": {
             "line": {
              "color": "#283442"
             }
            },
            "type": "scattergl"
           }
          ],
          "scattermapbox": [
           {
            "marker": {
             "colorbar": {
              "outlinewidth": 0,
              "ticks": ""
             }
            },
            "type": "scattermapbox"
           }
          ],
          "scatterpolar": [
           {
            "marker": {
             "colorbar": {
              "outlinewidth": 0,
              "ticks": ""
             }
            },
            "type": "scatterpolar"
           }
          ],
          "scatterpolargl": [
           {
            "marker": {
             "colorbar": {
              "outlinewidth": 0,
              "ticks": ""
             }
            },
            "type": "scatterpolargl"
           }
          ],
          "scatterternary": [
           {
            "marker": {
             "colorbar": {
              "outlinewidth": 0,
              "ticks": ""
             }
            },
            "type": "scatterternary"
           }
          ],
          "surface": [
           {
            "colorbar": {
             "outlinewidth": 0,
             "ticks": ""
            },
            "colorscale": [
             [
              0,
              "#0d0887"
             ],
             [
              0.1111111111111111,
              "#46039f"
             ],
             [
              0.2222222222222222,
              "#7201a8"
             ],
             [
              0.3333333333333333,
              "#9c179e"
             ],
             [
              0.4444444444444444,
              "#bd3786"
             ],
             [
              0.5555555555555556,
              "#d8576b"
             ],
             [
              0.6666666666666666,
              "#ed7953"
             ],
             [
              0.7777777777777778,
              "#fb9f3a"
             ],
             [
              0.8888888888888888,
              "#fdca26"
             ],
             [
              1,
              "#f0f921"
             ]
            ],
            "type": "surface"
           }
          ],
          "table": [
           {
            "cells": {
             "fill": {
              "color": "#506784"
             },
             "line": {
              "color": "rgb(17,17,17)"
             }
            },
            "header": {
             "fill": {
              "color": "#2a3f5f"
             },
             "line": {
              "color": "rgb(17,17,17)"
             }
            },
            "type": "table"
           }
          ]
         },
         "layout": {
          "annotationdefaults": {
           "arrowcolor": "#f2f5fa",
           "arrowhead": 0,
           "arrowwidth": 1
          },
          "autotypenumbers": "strict",
          "coloraxis": {
           "colorbar": {
            "outlinewidth": 0,
            "ticks": ""
           }
          },
          "colorscale": {
           "diverging": [
            [
             0,
             "#8e0152"
            ],
            [
             0.1,
             "#c51b7d"
            ],
            [
             0.2,
             "#de77ae"
            ],
            [
             0.3,
             "#f1b6da"
            ],
            [
             0.4,
             "#fde0ef"
            ],
            [
             0.5,
             "#f7f7f7"
            ],
            [
             0.6,
             "#e6f5d0"
            ],
            [
             0.7,
             "#b8e186"
            ],
            [
             0.8,
             "#7fbc41"
            ],
            [
             0.9,
             "#4d9221"
            ],
            [
             1,
             "#276419"
            ]
           ],
           "sequential": [
            [
             0,
             "#0d0887"
            ],
            [
             0.1111111111111111,
             "#46039f"
            ],
            [
             0.2222222222222222,
             "#7201a8"
            ],
            [
             0.3333333333333333,
             "#9c179e"
            ],
            [
             0.4444444444444444,
             "#bd3786"
            ],
            [
             0.5555555555555556,
             "#d8576b"
            ],
            [
             0.6666666666666666,
             "#ed7953"
            ],
            [
             0.7777777777777778,
             "#fb9f3a"
            ],
            [
             0.8888888888888888,
             "#fdca26"
            ],
            [
             1,
             "#f0f921"
            ]
           ],
           "sequentialminus": [
            [
             0,
             "#0d0887"
            ],
            [
             0.1111111111111111,
             "#46039f"
            ],
            [
             0.2222222222222222,
             "#7201a8"
            ],
            [
             0.3333333333333333,
             "#9c179e"
            ],
            [
             0.4444444444444444,
             "#bd3786"
            ],
            [
             0.5555555555555556,
             "#d8576b"
            ],
            [
             0.6666666666666666,
             "#ed7953"
            ],
            [
             0.7777777777777778,
             "#fb9f3a"
            ],
            [
             0.8888888888888888,
             "#fdca26"
            ],
            [
             1,
             "#f0f921"
            ]
           ]
          },
          "colorway": [
           "#636efa",
           "#EF553B",
           "#00cc96",
           "#ab63fa",
           "#FFA15A",
           "#19d3f3",
           "#FF6692",
           "#B6E880",
           "#FF97FF",
           "#FECB52"
          ],
          "font": {
           "color": "#f2f5fa"
          },
          "geo": {
           "bgcolor": "rgb(17,17,17)",
           "lakecolor": "rgb(17,17,17)",
           "landcolor": "rgb(17,17,17)",
           "showlakes": true,
           "showland": true,
           "subunitcolor": "#506784"
          },
          "hoverlabel": {
           "align": "left"
          },
          "hovermode": "closest",
          "mapbox": {
           "style": "dark"
          },
          "paper_bgcolor": "rgb(17,17,17)",
          "plot_bgcolor": "rgb(17,17,17)",
          "polar": {
           "angularaxis": {
            "gridcolor": "#506784",
            "linecolor": "#506784",
            "ticks": ""
           },
           "bgcolor": "rgb(17,17,17)",
           "radialaxis": {
            "gridcolor": "#506784",
            "linecolor": "#506784",
            "ticks": ""
           }
          },
          "scene": {
           "xaxis": {
            "backgroundcolor": "rgb(17,17,17)",
            "gridcolor": "#506784",
            "gridwidth": 2,
            "linecolor": "#506784",
            "showbackground": true,
            "ticks": "",
            "zerolinecolor": "#C8D4E3"
           },
           "yaxis": {
            "backgroundcolor": "rgb(17,17,17)",
            "gridcolor": "#506784",
            "gridwidth": 2,
            "linecolor": "#506784",
            "showbackground": true,
            "ticks": "",
            "zerolinecolor": "#C8D4E3"
           },
           "zaxis": {
            "backgroundcolor": "rgb(17,17,17)",
            "gridcolor": "#506784",
            "gridwidth": 2,
            "linecolor": "#506784",
            "showbackground": true,
            "ticks": "",
            "zerolinecolor": "#C8D4E3"
           }
          },
          "shapedefaults": {
           "line": {
            "color": "#f2f5fa"
           }
          },
          "sliderdefaults": {
           "bgcolor": "#C8D4E3",
           "bordercolor": "rgb(17,17,17)",
           "borderwidth": 1,
           "tickwidth": 0
          },
          "ternary": {
           "aaxis": {
            "gridcolor": "#506784",
            "linecolor": "#506784",
            "ticks": ""
           },
           "baxis": {
            "gridcolor": "#506784",
            "linecolor": "#506784",
            "ticks": ""
           },
           "bgcolor": "rgb(17,17,17)",
           "caxis": {
            "gridcolor": "#506784",
            "linecolor": "#506784",
            "ticks": ""
           }
          },
          "title": {
           "x": 0.05
          },
          "updatemenudefaults": {
           "bgcolor": "#506784",
           "borderwidth": 0
          },
          "xaxis": {
           "automargin": true,
           "gridcolor": "#283442",
           "linecolor": "#506784",
           "ticks": "",
           "title": {
            "standoff": 15
           },
           "zerolinecolor": "#283442",
           "zerolinewidth": 2
          },
          "yaxis": {
           "automargin": true,
           "gridcolor": "#283442",
           "linecolor": "#506784",
           "ticks": "",
           "title": {
            "standoff": 15
           },
           "zerolinecolor": "#283442",
           "zerolinewidth": 2
          }
         }
        },
        "title": {
         "text": "Cumulative deaths per 100k vs. Mobility change from baseline, 2020"
        },
        "updatemenus": [
         {
          "buttons": [
           {
            "args": [
             null,
             {
              "frame": {
               "duration": 2000,
               "redraw": false
              },
              "fromcurrent": true,
              "mode": "immediate",
              "transition": {
               "duration": 500,
               "easing": "linear"
              }
             }
            ],
            "label": "&#9654;",
            "method": "animate"
           },
           {
            "args": [
             [
              null
             ],
             {
              "frame": {
               "duration": 0,
               "redraw": false
              },
              "fromcurrent": true,
              "mode": "immediate",
              "transition": {
               "duration": 0,
               "easing": "linear"
              }
             }
            ],
            "label": "&#9724;",
            "method": "animate"
           }
          ],
          "direction": "left",
          "pad": {
           "r": 10,
           "t": 70
          },
          "showactive": false,
          "type": "buttons",
          "x": 0.1,
          "xanchor": "right",
          "y": 0,
          "yanchor": "top"
         }
        ],
        "width": 900,
        "xaxis": {
         "anchor": "y",
         "domain": [
          0,
          1
         ],
         "range": [
          -80,
          60
         ],
         "title": {
          "text": "Mobility change from baseline"
         }
        },
        "yaxis": {
         "anchor": "x",
         "domain": [
          0,
          1
         ],
         "range": [
          -20,
          40
         ],
         "title": {
          "text": "Cumulative deaths per 100k"
         }
        }
       }
      }
     },
     "metadata": {},
     "output_type": "display_data"
    }
   ],
   "source": [
    "fig = px.scatter(df,x=\"Mobility change from baseline\", y=\"Cumulative deaths per 100k\" , animation_frame=\"Month-Year\", animation_group=\"Country\",\n",
    "           size=\"Cumulative pageviews per 100k\" ,color=\"Trust\", hover_name=\"Country\", range_x=[-80,60],range_y=[-20,40], size_max=80, template='plotly_dark' )\n",
    "      \n",
    "fig.update_layout(height=500, width= 900,title_text=\"Cumulative deaths per 100k vs. Mobility change from baseline, 2020\")\n",
    "fig.update_layout(margin=dict(l=40, r=10, t=125, b=10))  \n",
    "fig.add_annotation(xref='paper',yref='paper',x=0, y=1.28,showarrow=False,text = \"The x-axis shows the mean mobility change from baseline per month.\")\n",
    "fig.add_annotation(xref='paper',yref='paper',x=0, y=1.22,showarrow=False,text = \"The y-axis shows the cumulative deaths per 100k per month.\")\n",
    "fig.add_annotation(xref='paper',yref='paper',x=0, y=1.16,showarrow=False,text = \"The size of the bubble shows the cumulative pageviews per 100k per month \")\n",
    "fig.add_annotation(xref='paper',yref='paper',x=0, y=1.10,showarrow=False,text = \"The colour of the bubble corresponds to how much people trust their government.\")\n",
    "fig.layout.updatemenus[0].buttons[0].args[1][\"frame\"][\"duration\"] = 2000\n",
    "fig.show()\n",
    "\n",
    "fig.write_html('data_2/Images/bubble_plot.html')\n"
   ]
  },
  {
   "cell_type": "markdown",
   "metadata": {},
   "source": [
    "We can clearly see the bubbles moving up and expanding as they move to the left. This means that as there are more covid related deaths there are more covid related pageviews and less mobility overall. We also see the reverse effect as we reach july. Moreover, we see that in the months of March and April, countries that are less government trusting have a lower mobility change from baseline, therefore they are going out less. Let's explore this in further detail."
   ]
  },
  {
   "cell_type": "markdown",
   "metadata": {},
   "source": [
    "### Mobility and trust "
   ]
  },
  {
   "cell_type": "markdown",
   "metadata": {},
   "source": [
    "Let's look at mobility and Trust. For mobility we take the minimium mobility value, as this was where we saw most disparites in the plot above. "
   ]
  },
  {
   "cell_type": "code",
   "execution_count": 9,
   "metadata": {},
   "outputs": [
    {
     "data": {
      "text/html": [
       "<div>\n",
       "<style scoped>\n",
       "    .dataframe tbody tr th:only-of-type {\n",
       "        vertical-align: middle;\n",
       "    }\n",
       "\n",
       "    .dataframe tbody tr th {\n",
       "        vertical-align: top;\n",
       "    }\n",
       "\n",
       "    .dataframe thead th {\n",
       "        text-align: right;\n",
       "    }\n",
       "</style>\n",
       "<table border=\"1\" class=\"dataframe\">\n",
       "  <thead>\n",
       "    <tr style=\"text-align: right;\">\n",
       "      <th></th>\n",
       "      <th>Country</th>\n",
       "      <th>Min mobility change from baseline</th>\n",
       "      <th>Trust the national government in this country</th>\n",
       "    </tr>\n",
       "  </thead>\n",
       "  <tbody>\n",
       "    <tr>\n",
       "      <th>0</th>\n",
       "      <td>Bulgaria</td>\n",
       "      <td>-62.327553</td>\n",
       "      <td>40.4</td>\n",
       "    </tr>\n",
       "    <tr>\n",
       "      <th>1</th>\n",
       "      <td>Bangladesh</td>\n",
       "      <td>-61.750000</td>\n",
       "      <td>83.0</td>\n",
       "    </tr>\n",
       "    <tr>\n",
       "      <th>2</th>\n",
       "      <td>Czechia</td>\n",
       "      <td>-65.633333</td>\n",
       "      <td>45.8</td>\n",
       "    </tr>\n",
       "    <tr>\n",
       "      <th>3</th>\n",
       "      <td>Denmark</td>\n",
       "      <td>-35.839475</td>\n",
       "      <td>79.3</td>\n",
       "    </tr>\n",
       "    <tr>\n",
       "      <th>4</th>\n",
       "      <td>Germany</td>\n",
       "      <td>-56.426471</td>\n",
       "      <td>82.0</td>\n",
       "    </tr>\n",
       "  </tbody>\n",
       "</table>\n",
       "</div>"
      ],
      "text/plain": [
       "      Country  Min mobility change from baseline  \\\n",
       "0    Bulgaria                         -62.327553   \n",
       "1  Bangladesh                         -61.750000   \n",
       "2     Czechia                         -65.633333   \n",
       "3     Denmark                         -35.839475   \n",
       "4     Germany                         -56.426471   \n",
       "\n",
       "   Trust the national government in this country  \n",
       "0                                           40.4  \n",
       "1                                           83.0  \n",
       "2                                           45.8  \n",
       "3                                           79.3  \n",
       "4                                           82.0  "
      ]
     },
     "execution_count": 9,
     "metadata": {},
     "output_type": "execute_result"
    }
   ],
   "source": [
    "# Create mobility_trust dataframe \n",
    "mobility_trust = mobility['moving category'].reset_index()\n",
    "mobility_trust['country_region'] =mobility_trust['country_region'].map(get_country_dict('trust gov mobility'))\n",
    "mobility_trust = mobility_trust.groupby('country_region')['moving category'].min().to_frame()\n",
    "mobility_trust = mobility_trust.reset_index()\n",
    "mobility_trust['Trust the national government in this country'] = mobility_trust['country_region'].map(trust_dict['Trust the national government in this country'])\n",
    "mobility_trust['country_region'] = mobility_trust['country_region'].map(inv_map)\n",
    "mobility_trust = mobility_trust.rename(columns={\"moving category\": \"Min mobility change from baseline\",\"country_region\": \"Country\"})\n",
    "mobility_trust.head()"
   ]
  },
  {
   "cell_type": "code",
   "execution_count": 10,
   "metadata": {},
   "outputs": [
    {
     "data": {
      "application/vnd.plotly.v1+json": {
       "config": {
        "plotlyServerURL": "https://plot.ly"
       },
       "data": [
        {
         "hovertemplate": "Trust the national government in this country=%{x}<br>Min mobility change from baseline=%{y}<br>Country=%{text}<extra></extra>",
         "legendgroup": "",
         "marker": {
          "color": "#636efa",
          "symbol": "circle"
         },
         "mode": "markers+text",
         "name": "",
         "orientation": "v",
         "showlegend": false,
         "text": [
          "Bulgaria",
          "Bangladesh",
          "Czechia",
          "Denmark",
          "Germany",
          "Greece",
          "Finland",
          "Israel",
          "Croatia",
          "Hungary",
          "Italy",
          "Japan",
          "Georgia",
          "Kazakhstan",
          "South Korea",
          "Kyrgyzstan",
          "Lithuania",
          "Mongolia",
          "Malaysia",
          "Netherlands",
          "Norway",
          "Poland",
          "Romania",
          "Russia",
          "Slovakia",
          "Slovenia",
          "Serbia",
          "Sweden",
          "Thailand",
          "Turkey"
         ],
         "textposition": "bottom right",
         "type": "scatter",
         "x": [
          40.4,
          83,
          45.8,
          79.3,
          82,
          40.7,
          80.7,
          51.1,
          42,
          48.6,
          52.3,
          49.5,
          57.6,
          72.2,
          52.8,
          57.6,
          55.1,
          54.8,
          57.6,
          78.5,
          94.3,
          33.6,
          24.3,
          47,
          53.5,
          48.1,
          57,
          64.7,
          55.6,
          54.9
         ],
         "xaxis": "x",
         "y": [
          -62.32755265864498,
          -61.75,
          -65.63333333333334,
          -35.839474548440066,
          -56.4264705882353,
          -78.0625,
          -41.11297911283377,
          -85.7625,
          -68.35004456327985,
          -60.3125,
          -89.60799079318404,
          -40.078125,
          -77.25,
          -52,
          -28,
          -57.66071428571429,
          -58.34837662337662,
          -61.4375,
          -71.35294117647058,
          -52.12032170780422,
          -48.89218151340996,
          -82.32242421235637,
          -74.28195771825129,
          -63.014705882352935,
          -66.77378871128872,
          -69.04940476190475,
          -92,
          -40.61826784825834,
          -53,
          -80.55559904249422
         ],
         "yaxis": "y"
        },
        {
         "hovertemplate": "<b>OLS trendline</b><br>Min mobility change from baseline = 0.48096 * Trust the national government in this country + -89.9532<br>R<sup>2</sup>=0.226901<br><br>Trust the national government in this country=%{x}<br>Min mobility change from baseline=%{y} <b>(trend)</b><extra></extra>",
         "legendgroup": "",
         "marker": {
          "color": "#636efa",
          "symbol": "circle"
         },
         "mode": "lines",
         "name": "",
         "showlegend": false,
         "textposition": "bottom right",
         "type": "scatter",
         "x": [
          24.3,
          33.6,
          40.4,
          40.7,
          42,
          45.8,
          47,
          48.1,
          48.6,
          49.5,
          51.1,
          52.3,
          52.8,
          53.5,
          54.8,
          54.9,
          55.1,
          55.6,
          57,
          57.6,
          57.6,
          57.6,
          64.7,
          72.2,
          78.5,
          79.3,
          80.7,
          82,
          83,
          94.3
         ],
         "xaxis": "x",
         "y": [
          -78.26585753069358,
          -73.79293051354229,
          -70.52240323218435,
          -70.37811526388914,
          -69.7528674012766,
          -67.92521980287069,
          -67.34806792968988,
          -66.8190120459408,
          -66.57853209878212,
          -66.14566819389651,
          -65.37613236298877,
          -64.79898048980796,
          -64.55850054264928,
          -64.22182861662714,
          -63.596580754014596,
          -63.54848476458286,
          -63.45229278571939,
          -63.21181283856072,
          -62.538468986516435,
          -62.24989304992603,
          -62.24989304992603,
          -62.24989304992603,
          -58.835077800272884,
          -55.22787859289281,
          -52.19783125869354,
          -51.81306334323967,
          -51.139719491195386,
          -50.51447162858284,
          -50.033511734265495,
          -44.59866492847951
         ],
         "yaxis": "y"
        }
       ],
       "layout": {
        "annotations": [
         {
          "showarrow": false,
          "text": "The x-axis the trust in the national government in a country.",
          "x": 0,
          "xref": "paper",
          "y": 1.13,
          "yref": "paper"
         },
         {
          "showarrow": false,
          "text": "The y-axis shows the min mobility change from baseline per month.",
          "x": 0,
          "xref": "paper",
          "y": 1.09,
          "yref": "paper"
         }
        ],
        "legend": {
         "tracegroupgap": 0
        },
        "margin": {
         "b": 0,
         "l": 20,
         "r": 20,
         "t": 100
        },
        "template": {
         "data": {
          "bar": [
           {
            "error_x": {
             "color": "#2a3f5f"
            },
            "error_y": {
             "color": "#2a3f5f"
            },
            "marker": {
             "line": {
              "color": "#E5ECF6",
              "width": 0.5
             },
             "pattern": {
              "fillmode": "overlay",
              "size": 10,
              "solidity": 0.2
             }
            },
            "type": "bar"
           }
          ],
          "barpolar": [
           {
            "marker": {
             "line": {
              "color": "#E5ECF6",
              "width": 0.5
             },
             "pattern": {
              "fillmode": "overlay",
              "size": 10,
              "solidity": 0.2
             }
            },
            "type": "barpolar"
           }
          ],
          "carpet": [
           {
            "aaxis": {
             "endlinecolor": "#2a3f5f",
             "gridcolor": "white",
             "linecolor": "white",
             "minorgridcolor": "white",
             "startlinecolor": "#2a3f5f"
            },
            "baxis": {
             "endlinecolor": "#2a3f5f",
             "gridcolor": "white",
             "linecolor": "white",
             "minorgridcolor": "white",
             "startlinecolor": "#2a3f5f"
            },
            "type": "carpet"
           }
          ],
          "choropleth": [
           {
            "colorbar": {
             "outlinewidth": 0,
             "ticks": ""
            },
            "type": "choropleth"
           }
          ],
          "contour": [
           {
            "colorbar": {
             "outlinewidth": 0,
             "ticks": ""
            },
            "colorscale": [
             [
              0,
              "#0d0887"
             ],
             [
              0.1111111111111111,
              "#46039f"
             ],
             [
              0.2222222222222222,
              "#7201a8"
             ],
             [
              0.3333333333333333,
              "#9c179e"
             ],
             [
              0.4444444444444444,
              "#bd3786"
             ],
             [
              0.5555555555555556,
              "#d8576b"
             ],
             [
              0.6666666666666666,
              "#ed7953"
             ],
             [
              0.7777777777777778,
              "#fb9f3a"
             ],
             [
              0.8888888888888888,
              "#fdca26"
             ],
             [
              1,
              "#f0f921"
             ]
            ],
            "type": "contour"
           }
          ],
          "contourcarpet": [
           {
            "colorbar": {
             "outlinewidth": 0,
             "ticks": ""
            },
            "type": "contourcarpet"
           }
          ],
          "heatmap": [
           {
            "colorbar": {
             "outlinewidth": 0,
             "ticks": ""
            },
            "colorscale": [
             [
              0,
              "#0d0887"
             ],
             [
              0.1111111111111111,
              "#46039f"
             ],
             [
              0.2222222222222222,
              "#7201a8"
             ],
             [
              0.3333333333333333,
              "#9c179e"
             ],
             [
              0.4444444444444444,
              "#bd3786"
             ],
             [
              0.5555555555555556,
              "#d8576b"
             ],
             [
              0.6666666666666666,
              "#ed7953"
             ],
             [
              0.7777777777777778,
              "#fb9f3a"
             ],
             [
              0.8888888888888888,
              "#fdca26"
             ],
             [
              1,
              "#f0f921"
             ]
            ],
            "type": "heatmap"
           }
          ],
          "heatmapgl": [
           {
            "colorbar": {
             "outlinewidth": 0,
             "ticks": ""
            },
            "colorscale": [
             [
              0,
              "#0d0887"
             ],
             [
              0.1111111111111111,
              "#46039f"
             ],
             [
              0.2222222222222222,
              "#7201a8"
             ],
             [
              0.3333333333333333,
              "#9c179e"
             ],
             [
              0.4444444444444444,
              "#bd3786"
             ],
             [
              0.5555555555555556,
              "#d8576b"
             ],
             [
              0.6666666666666666,
              "#ed7953"
             ],
             [
              0.7777777777777778,
              "#fb9f3a"
             ],
             [
              0.8888888888888888,
              "#fdca26"
             ],
             [
              1,
              "#f0f921"
             ]
            ],
            "type": "heatmapgl"
           }
          ],
          "histogram": [
           {
            "marker": {
             "pattern": {
              "fillmode": "overlay",
              "size": 10,
              "solidity": 0.2
             }
            },
            "type": "histogram"
           }
          ],
          "histogram2d": [
           {
            "colorbar": {
             "outlinewidth": 0,
             "ticks": ""
            },
            "colorscale": [
             [
              0,
              "#0d0887"
             ],
             [
              0.1111111111111111,
              "#46039f"
             ],
             [
              0.2222222222222222,
              "#7201a8"
             ],
             [
              0.3333333333333333,
              "#9c179e"
             ],
             [
              0.4444444444444444,
              "#bd3786"
             ],
             [
              0.5555555555555556,
              "#d8576b"
             ],
             [
              0.6666666666666666,
              "#ed7953"
             ],
             [
              0.7777777777777778,
              "#fb9f3a"
             ],
             [
              0.8888888888888888,
              "#fdca26"
             ],
             [
              1,
              "#f0f921"
             ]
            ],
            "type": "histogram2d"
           }
          ],
          "histogram2dcontour": [
           {
            "colorbar": {
             "outlinewidth": 0,
             "ticks": ""
            },
            "colorscale": [
             [
              0,
              "#0d0887"
             ],
             [
              0.1111111111111111,
              "#46039f"
             ],
             [
              0.2222222222222222,
              "#7201a8"
             ],
             [
              0.3333333333333333,
              "#9c179e"
             ],
             [
              0.4444444444444444,
              "#bd3786"
             ],
             [
              0.5555555555555556,
              "#d8576b"
             ],
             [
              0.6666666666666666,
              "#ed7953"
             ],
             [
              0.7777777777777778,
              "#fb9f3a"
             ],
             [
              0.8888888888888888,
              "#fdca26"
             ],
             [
              1,
              "#f0f921"
             ]
            ],
            "type": "histogram2dcontour"
           }
          ],
          "mesh3d": [
           {
            "colorbar": {
             "outlinewidth": 0,
             "ticks": ""
            },
            "type": "mesh3d"
           }
          ],
          "parcoords": [
           {
            "line": {
             "colorbar": {
              "outlinewidth": 0,
              "ticks": ""
             }
            },
            "type": "parcoords"
           }
          ],
          "pie": [
           {
            "automargin": true,
            "type": "pie"
           }
          ],
          "scatter": [
           {
            "fillpattern": {
             "fillmode": "overlay",
             "size": 10,
             "solidity": 0.2
            },
            "type": "scatter"
           }
          ],
          "scatter3d": [
           {
            "line": {
             "colorbar": {
              "outlinewidth": 0,
              "ticks": ""
             }
            },
            "marker": {
             "colorbar": {
              "outlinewidth": 0,
              "ticks": ""
             }
            },
            "type": "scatter3d"
           }
          ],
          "scattercarpet": [
           {
            "marker": {
             "colorbar": {
              "outlinewidth": 0,
              "ticks": ""
             }
            },
            "type": "scattercarpet"
           }
          ],
          "scattergeo": [
           {
            "marker": {
             "colorbar": {
              "outlinewidth": 0,
              "ticks": ""
             }
            },
            "type": "scattergeo"
           }
          ],
          "scattergl": [
           {
            "marker": {
             "colorbar": {
              "outlinewidth": 0,
              "ticks": ""
             }
            },
            "type": "scattergl"
           }
          ],
          "scattermapbox": [
           {
            "marker": {
             "colorbar": {
              "outlinewidth": 0,
              "ticks": ""
             }
            },
            "type": "scattermapbox"
           }
          ],
          "scatterpolar": [
           {
            "marker": {
             "colorbar": {
              "outlinewidth": 0,
              "ticks": ""
             }
            },
            "type": "scatterpolar"
           }
          ],
          "scatterpolargl": [
           {
            "marker": {
             "colorbar": {
              "outlinewidth": 0,
              "ticks": ""
             }
            },
            "type": "scatterpolargl"
           }
          ],
          "scatterternary": [
           {
            "marker": {
             "colorbar": {
              "outlinewidth": 0,
              "ticks": ""
             }
            },
            "type": "scatterternary"
           }
          ],
          "surface": [
           {
            "colorbar": {
             "outlinewidth": 0,
             "ticks": ""
            },
            "colorscale": [
             [
              0,
              "#0d0887"
             ],
             [
              0.1111111111111111,
              "#46039f"
             ],
             [
              0.2222222222222222,
              "#7201a8"
             ],
             [
              0.3333333333333333,
              "#9c179e"
             ],
             [
              0.4444444444444444,
              "#bd3786"
             ],
             [
              0.5555555555555556,
              "#d8576b"
             ],
             [
              0.6666666666666666,
              "#ed7953"
             ],
             [
              0.7777777777777778,
              "#fb9f3a"
             ],
             [
              0.8888888888888888,
              "#fdca26"
             ],
             [
              1,
              "#f0f921"
             ]
            ],
            "type": "surface"
           }
          ],
          "table": [
           {
            "cells": {
             "fill": {
              "color": "#EBF0F8"
             },
             "line": {
              "color": "white"
             }
            },
            "header": {
             "fill": {
              "color": "#C8D4E3"
             },
             "line": {
              "color": "white"
             }
            },
            "type": "table"
           }
          ]
         },
         "layout": {
          "annotationdefaults": {
           "arrowcolor": "#2a3f5f",
           "arrowhead": 0,
           "arrowwidth": 1
          },
          "autotypenumbers": "strict",
          "coloraxis": {
           "colorbar": {
            "outlinewidth": 0,
            "ticks": ""
           }
          },
          "colorscale": {
           "diverging": [
            [
             0,
             "#8e0152"
            ],
            [
             0.1,
             "#c51b7d"
            ],
            [
             0.2,
             "#de77ae"
            ],
            [
             0.3,
             "#f1b6da"
            ],
            [
             0.4,
             "#fde0ef"
            ],
            [
             0.5,
             "#f7f7f7"
            ],
            [
             0.6,
             "#e6f5d0"
            ],
            [
             0.7,
             "#b8e186"
            ],
            [
             0.8,
             "#7fbc41"
            ],
            [
             0.9,
             "#4d9221"
            ],
            [
             1,
             "#276419"
            ]
           ],
           "sequential": [
            [
             0,
             "#0d0887"
            ],
            [
             0.1111111111111111,
             "#46039f"
            ],
            [
             0.2222222222222222,
             "#7201a8"
            ],
            [
             0.3333333333333333,
             "#9c179e"
            ],
            [
             0.4444444444444444,
             "#bd3786"
            ],
            [
             0.5555555555555556,
             "#d8576b"
            ],
            [
             0.6666666666666666,
             "#ed7953"
            ],
            [
             0.7777777777777778,
             "#fb9f3a"
            ],
            [
             0.8888888888888888,
             "#fdca26"
            ],
            [
             1,
             "#f0f921"
            ]
           ],
           "sequentialminus": [
            [
             0,
             "#0d0887"
            ],
            [
             0.1111111111111111,
             "#46039f"
            ],
            [
             0.2222222222222222,
             "#7201a8"
            ],
            [
             0.3333333333333333,
             "#9c179e"
            ],
            [
             0.4444444444444444,
             "#bd3786"
            ],
            [
             0.5555555555555556,
             "#d8576b"
            ],
            [
             0.6666666666666666,
             "#ed7953"
            ],
            [
             0.7777777777777778,
             "#fb9f3a"
            ],
            [
             0.8888888888888888,
             "#fdca26"
            ],
            [
             1,
             "#f0f921"
            ]
           ]
          },
          "colorway": [
           "#636efa",
           "#EF553B",
           "#00cc96",
           "#ab63fa",
           "#FFA15A",
           "#19d3f3",
           "#FF6692",
           "#B6E880",
           "#FF97FF",
           "#FECB52"
          ],
          "font": {
           "color": "#2a3f5f"
          },
          "geo": {
           "bgcolor": "white",
           "lakecolor": "white",
           "landcolor": "#E5ECF6",
           "showlakes": true,
           "showland": true,
           "subunitcolor": "white"
          },
          "hoverlabel": {
           "align": "left"
          },
          "hovermode": "closest",
          "mapbox": {
           "style": "light"
          },
          "paper_bgcolor": "white",
          "plot_bgcolor": "#E5ECF6",
          "polar": {
           "angularaxis": {
            "gridcolor": "white",
            "linecolor": "white",
            "ticks": ""
           },
           "bgcolor": "#E5ECF6",
           "radialaxis": {
            "gridcolor": "white",
            "linecolor": "white",
            "ticks": ""
           }
          },
          "scene": {
           "xaxis": {
            "backgroundcolor": "#E5ECF6",
            "gridcolor": "white",
            "gridwidth": 2,
            "linecolor": "white",
            "showbackground": true,
            "ticks": "",
            "zerolinecolor": "white"
           },
           "yaxis": {
            "backgroundcolor": "#E5ECF6",
            "gridcolor": "white",
            "gridwidth": 2,
            "linecolor": "white",
            "showbackground": true,
            "ticks": "",
            "zerolinecolor": "white"
           },
           "zaxis": {
            "backgroundcolor": "#E5ECF6",
            "gridcolor": "white",
            "gridwidth": 2,
            "linecolor": "white",
            "showbackground": true,
            "ticks": "",
            "zerolinecolor": "white"
           }
          },
          "shapedefaults": {
           "line": {
            "color": "#2a3f5f"
           }
          },
          "ternary": {
           "aaxis": {
            "gridcolor": "white",
            "linecolor": "white",
            "ticks": ""
           },
           "baxis": {
            "gridcolor": "white",
            "linecolor": "white",
            "ticks": ""
           },
           "bgcolor": "#E5ECF6",
           "caxis": {
            "gridcolor": "white",
            "linecolor": "white",
            "ticks": ""
           }
          },
          "title": {
           "x": 0.05
          },
          "xaxis": {
           "automargin": true,
           "gridcolor": "white",
           "linecolor": "white",
           "ticks": "",
           "title": {
            "standoff": 15
           },
           "zerolinecolor": "white",
           "zerolinewidth": 2
          },
          "yaxis": {
           "automargin": true,
           "gridcolor": "white",
           "linecolor": "white",
           "ticks": "",
           "title": {
            "standoff": 15
           },
           "zerolinecolor": "white",
           "zerolinewidth": 2
          }
         }
        },
        "title": {
         "text": "Relationship between min moblitiy change from baseline and trust in the national government in a country, 2020"
        },
        "xaxis": {
         "anchor": "y",
         "domain": [
          0,
          1
         ],
         "ticksuffix": "%",
         "title": {
          "text": "Trust the national government in this country"
         }
        },
        "yaxis": {
         "anchor": "x",
         "domain": [
          0,
          1
         ],
         "ticksuffix": "%",
         "title": {
          "text": "Min mobility change from baseline"
         }
        }
       }
      }
     },
     "metadata": {},
     "output_type": "display_data"
    }
   ],
   "source": [
    "fig = px.scatter(mobility_trust, x='Trust the national government in this country', y=\"Min mobility change from baseline\",text=\"Country\", trendline=\"ols\", title='Relationship between min moblitiy change from baseline and trust in the national government in a country, 2020')\n",
    "\n",
    "# fig.update_layout(height=800,title_text='Relationship between min moblitiy change from baseline and trust in the national government in a country')\n",
    "fig.update_traces(textposition=\"bottom right\")\n",
    "fig.update_layout(margin=dict(l=20, r=20, t=100, b=0))  \n",
    "fig.add_annotation(xref='paper',yref='paper',x=0, y=1.13,showarrow=False,text = \"The x-axis the trust in the national government in a country.\")\n",
    "fig.add_annotation(xref='paper',yref='paper',x=0, y=1.09,showarrow=False,text = \"The y-axis shows the min mobility change from baseline per month.\")\n",
    "fig.update_layout(yaxis_ticksuffix = \"%\")\n",
    "fig.update_layout(xaxis_ticksuffix = \"%\")\n",
    "fig.show()\n",
    "\n"
   ]
  },
  {
   "attachments": {},
   "cell_type": "markdown",
   "metadata": {},
   "source": [
    "Linear Regression \n",
    "\n",
    "Above we have plotted the regression line of trust in the national governent and min mobility change."
   ]
  },
  {
   "cell_type": "code",
   "execution_count": 11,
   "metadata": {},
   "outputs": [
    {
     "name": "stdout",
     "output_type": "stream",
     "text": [
      "regression summary: \n",
      "Intercept: -89.95318296260504, p-value: 8.413095308649931e-10\n",
      "Coefficent: 0.48095989431734393, p-value: 0.007790561016220843\n"
     ]
    }
   ],
   "source": [
    "# Linear regression summary\n",
    "result = px.get_trendline_results(fig)\n",
    "result_pval = result.iloc[0]['px_fit_results'].pvalues\n",
    "result_coeff = result.iloc[0]['px_fit_results'].params\n",
    "print('regression summary: ')\n",
    "print('Intercept: {}, p-value: {}'.format(result_coeff[0],result_pval[0]))\n",
    "print('Coefficent: {}, p-value: {}'.format(result_coeff[1],result_pval[1]))"
   ]
  },
  {
   "cell_type": "markdown",
   "metadata": {},
   "source": [
    "Interpretation:\n",
    "\n",
    "We have an intercept of -90%, with a p value of order -10 which means that it is statistically significant. We can thus say that hypothetically we would expect a country with 0% trust to have a minimum mobility of -90%. \n",
    "Moreover, looking at the coefficient we have 0.481, which is also statistically signifiant. This means that that an increase trust in the government by 10% will imply an increase of 5% of minimum mobility change. \n",
    "\n",
    "Therefore we see that government-trusting populations have a higher minimum mobility change, meaning that trusting your government meant that you did not alter and restrict your mobility as much. This could be because a trusting government instills confidence and people are therefore less scared of covid and are able to maintain a lifestyle closer to the norm."
   ]
  }
 ],
 "metadata": {
  "kernelspec": {
   "display_name": "Python 3",
   "language": "python",
   "name": "python3"
  },
  "language_info": {
   "codemirror_mode": {
    "name": "ipython",
    "version": 3
   },
   "file_extension": ".py",
   "mimetype": "text/x-python",
   "name": "python",
   "nbconvert_exporter": "python",
   "pygments_lexer": "ipython3",
   "version": "3.8.5"
  },
  "vscode": {
   "interpreter": {
    "hash": "31f2aee4e71d21fbe5cf8b01ff0e069b9275f58929596ceb00d14d90e3e16cd6"
   }
  }
 },
 "nbformat": 4,
 "nbformat_minor": 2
}
